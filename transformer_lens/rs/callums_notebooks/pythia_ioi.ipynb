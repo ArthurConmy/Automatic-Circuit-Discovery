{
 "cells": [
  {
   "cell_type": "code",
   "execution_count": 1,
   "metadata": {},
   "outputs": [
    {
     "name": "stderr",
     "output_type": "stream",
     "text": [
      "/home/ubuntu/Transformerlens/transformer_lens/__init__.py:4: UserWarning: Doing ACCELERATE_DISABLE_RICH ...\n",
      "  warnings.warn(\"Doing ACCELERATE_DISABLE_RICH ...\")\n",
      "/home/ubuntu/.local/lib/python3.8/site-packages/pandas/core/computation/expressions.py:20: UserWarning: Pandas requires version '2.7.3' or newer of 'numexpr' (version '2.7.1' currently installed).\n",
      "  from pandas.core.computation.check import NUMEXPR_INSTALLED\n",
      "/home/ubuntu/Transformerlens/transformer_lens/cautils/notebook.py:6: UserWarning: Running load_ext autoreload...\n",
      "  warnings.warn(\"Running load_ext autoreload...\")\n",
      "/home/ubuntu/Transformerlens/transformer_lens/cautils/utils.py:5: UserWarning: Setting grad enabled false...\n",
      "  warnings.warn(\"Setting grad enabled false...\")\n"
     ]
    }
   ],
   "source": [
    "from transformer_lens.cautils.notebook import *"
   ]
  },
  {
   "cell_type": "code",
   "execution_count": 2,
   "metadata": {},
   "outputs": [],
   "source": [
    "model = HookedTransformer.from_pretrained(\n",
    "    \"pythia-410m\",\n",
    "    center_unembed=True,\n",
    "    center_writing_weights=True,\n",
    "    fold_ln=True,\n",
    "    # refactor_factored_attn_matrices=True,\n",
    ")\n",
    "model.set_use_split_qkv_input(True)\n",
    "clear_output()"
   ]
  },
  {
   "cell_type": "code",
   "execution_count": 3,
   "metadata": {},
   "outputs": [
    {
     "name": "stdout",
     "output_type": "stream",
     "text": [
      "Tokenized prompt: ['<|endoftext|>', 'After', ' John', ' and', ' Mary', ' went', ' to', ' the', ' store', ',', ' John', ' gave', ' a', ' bottle', ' of', ' milk', ' to']\n",
      "Tokenized answer: [' Mary']\n"
     ]
    },
    {
     "data": {
      "text/html": [
       "<pre style=\"white-space:pre;overflow-x:auto;line-height:normal;font-family:Menlo,'DejaVu Sans Mono',consolas,'Courier New',monospace\">Performance on answer token:\n",
       "<span style=\"font-weight: bold\">Rank: </span><span style=\"color: #008080; text-decoration-color: #008080; font-weight: bold\">0</span><span style=\"font-weight: bold\">        Logit: </span><span style=\"color: #008080; text-decoration-color: #008080; font-weight: bold\">18.29</span><span style=\"font-weight: bold\"> Prob: </span><span style=\"color: #008080; text-decoration-color: #008080; font-weight: bold\">64.54</span><span style=\"font-weight: bold\">% Token: | Mary|</span>\n",
       "</pre>\n"
      ],
      "text/plain": [
       "Performance on answer token:\n",
       "\u001b[1mRank: \u001b[0m\u001b[1;36m0\u001b[0m\u001b[1m        Logit: \u001b[0m\u001b[1;36m18.29\u001b[0m\u001b[1m Prob: \u001b[0m\u001b[1;36m64.54\u001b[0m\u001b[1m% Token: | Mary|\u001b[0m\n"
      ]
     },
     "metadata": {},
     "output_type": "display_data"
    },
    {
     "name": "stdout",
     "output_type": "stream",
     "text": [
      "Top 0th token. Logit: 18.29 Prob: 64.54% Token: | Mary|\n",
      "Top 1th token. Logit: 16.21 Prob:  8.05% Token: | the|\n",
      "Top 2th token. Logit: 15.58 Prob:  4.29% Token: | his|\n",
      "Top 3th token. Logit: 15.45 Prob:  3.79% Token: | each|\n",
      "Top 4th token. Logit: 14.23 Prob:  1.11% Token: | a|\n",
      "Top 5th token. Logit: 14.14 Prob:  1.02% Token: | her|\n",
      "Top 6th token. Logit: 13.69 Prob:  0.65% Token: | Mrs|\n",
      "Top 7th token. Logit: 13.67 Prob:  0.64% Token: | John|\n",
      "Top 8th token. Logit: 13.16 Prob:  0.38% Token: | their|\n",
      "Top 9th token. Logit: 12.78 Prob:  0.26% Token: | one|\n"
     ]
    },
    {
     "data": {
      "text/html": [
       "<pre style=\"white-space:pre;overflow-x:auto;line-height:normal;font-family:Menlo,'DejaVu Sans Mono',consolas,'Courier New',monospace\"><span style=\"font-weight: bold\">Ranks of the answer tokens:</span> <span style=\"font-weight: bold\">[(</span><span style=\"color: #008000; text-decoration-color: #008000\">' Mary'</span>, <span style=\"color: #008080; text-decoration-color: #008080; font-weight: bold\">0</span><span style=\"font-weight: bold\">)]</span>\n",
       "</pre>\n"
      ],
      "text/plain": [
       "\u001b[1mRanks of the answer tokens:\u001b[0m \u001b[1m[\u001b[0m\u001b[1m(\u001b[0m\u001b[32m' Mary'\u001b[0m, \u001b[1;36m0\u001b[0m\u001b[1m)\u001b[0m\u001b[1m]\u001b[0m\n"
      ]
     },
     "metadata": {},
     "output_type": "display_data"
    }
   ],
   "source": [
    "example_prompt = \"After John and Mary went to the store, John gave a bottle of milk to\"\n",
    "example_answer = \" Mary\"\n",
    "utils.test_prompt(example_prompt, example_answer, model, prepend_bos=True)"
   ]
  },
  {
   "attachments": {},
   "cell_type": "markdown",
   "metadata": {},
   "source": [
    "## Neel's setup"
   ]
  },
  {
   "cell_type": "code",
   "execution_count": 4,
   "metadata": {},
   "outputs": [
    {
     "name": "stdout",
     "output_type": "stream",
     "text": [
      "Per prompt logit difference: tensor([4.4561, 3.8249, 5.3478, 3.8952, 6.8011, 6.1392, 2.9355, 5.0044],\n",
      "       device='cuda:0')\n",
      "Average logit difference: tensor(4.8005, device='cuda:0')\n",
      "Answer residual directions shape: torch.Size([8, 2, 1024])\n",
      "Logit difference directions shape: torch.Size([8, 1024])\n",
      "Final residual stream shape: torch.Size([8, 15, 1024])\n",
      "Calculated average logit diff: 4.8005232811\n",
      "Original logit difference:     4.8005232811\n"
     ]
    }
   ],
   "source": [
    "prompt_format = [\n",
    "    \"When John and Mary went to the shops,{} gave the bag to\",\n",
    "    \"When Tom and James went to the park,{} gave the ball to\",\n",
    "    \"When Dan and Sid went to the shops,{} gave an apple to\",\n",
    "    \"After Martin and Amy went to the park,{} gave a drink to\",\n",
    "]\n",
    "name_pairs = [\n",
    "    (\" Mary\", \" John\"),\n",
    "    (\" Tom\", \" James\"),\n",
    "    (\" Dan\", \" Sid\"),\n",
    "    (\" Martin\", \" Amy\"),\n",
    "]\n",
    "\n",
    "# Define 8 prompts, in 4 groups of 2 (with adjacent prompts having answers swapped)\n",
    "prompts = [\n",
    "    prompt.format(name)\n",
    "    for (prompt, names) in zip(prompt_format, name_pairs) for name in names[::-1]\n",
    "]\n",
    "# Define the answers for each prompt, in the form (correct, incorrect)\n",
    "answers = [names[::i] for names in name_pairs for i in (1, -1)]\n",
    "# Define the answer tokens (same shape as the answers)\n",
    "answer_tokens = t.concat([\n",
    "    model.to_tokens(names, prepend_bos=False).T for names in answers\n",
    "])\n",
    "\n",
    "tokens = model.to_tokens(prompts, prepend_bos=True)\n",
    "# Move the tokens to the GPU\n",
    "tokens = tokens.to(device)\n",
    "# Run the model and cache all activations\n",
    "original_logits, cache = model.run_with_cache(tokens)\n",
    "\n",
    "def logits_to_ave_logit_diff(\n",
    "    logits: Float[t.Tensor, \"batch seq d_vocab\"],\n",
    "    answer_tokens: Float[t.Tensor, \"batch 2\"] = answer_tokens,\n",
    "    per_prompt: bool = False\n",
    "):\n",
    "    '''\n",
    "    Returns logit difference between the correct and incorrect answer.\n",
    "\n",
    "    If per_prompt=True, return the array of differences rather than the average.\n",
    "    '''\n",
    "    # Only the final logits are relevant for the answer\n",
    "    final_logits: Float[t.Tensor, \"batch d_vocab\"] = logits[:, -1, :]\n",
    "    # Get the logits corresponding to the indirect object / subject tokens respectively\n",
    "    answer_logits: Float[t.Tensor, \"batch 2\"] = final_logits.gather(dim=-1, index=answer_tokens)\n",
    "    # Find logit difference\n",
    "    correct_logits, incorrect_logits = answer_logits.unbind(dim=-1)\n",
    "    answer_logit_diff = correct_logits - incorrect_logits\n",
    "    return answer_logit_diff if per_prompt else answer_logit_diff.mean()\n",
    "\n",
    "original_per_prompt_diff = logits_to_ave_logit_diff(original_logits, answer_tokens, per_prompt=True)\n",
    "print(\"Per prompt logit difference:\", original_per_prompt_diff)\n",
    "original_average_logit_diff = logits_to_ave_logit_diff(original_logits, answer_tokens)\n",
    "print(\"Average logit difference:\", original_average_logit_diff)\n",
    "\n",
    "answer_residual_directions: Float[t.Tensor, \"batch 2 d_model\"] = model.tokens_to_residual_directions(answer_tokens)\n",
    "print(\"Answer residual directions shape:\", answer_residual_directions.shape)\n",
    "\n",
    "correct_residual_directions, incorrect_residual_directions = answer_residual_directions.unbind(dim=1)\n",
    "logit_diff_directions: Float[t.Tensor, \"batch d_model\"] = correct_residual_directions - incorrect_residual_directions\n",
    "print(f\"Logit difference directions shape:\", logit_diff_directions.shape)\n",
    "\n",
    "# cache syntax - resid_post is the residual stream at the end of the layer, -1 gets the final layer. The general syntax is [activation_name, layer_index, sub_layer_type].\n",
    "final_residual_stream: Float[Tensor, \"batch seq d_model\"] = cache[\"resid_post\", -1]\n",
    "print(f\"Final residual stream shape: {final_residual_stream.shape}\")\n",
    "final_token_residual_stream: Float[Tensor, \"batch d_model\"] = final_residual_stream[:, -1, :]\n",
    "\n",
    "# Apply LayerNorm scaling (to just the final sequence position)\n",
    "# pos_slice is the subset of the positions we take - here the final token of each prompt\n",
    "scaled_final_token_residual_stream = cache.apply_ln_to_stack(final_token_residual_stream, layer=-1, pos_slice=-1)\n",
    "\n",
    "average_logit_diff = einops.einsum(\n",
    "    scaled_final_token_residual_stream, logit_diff_directions,\n",
    "    \"batch d_model, batch d_model ->\"\n",
    ") / len(prompts)\n",
    "\n",
    "print(f\"Calculated average logit diff: {average_logit_diff:.10f}\")\n",
    "print(f\"Original logit difference:     {original_average_logit_diff:.10f}\")\n",
    "\n",
    "t.testing.assert_close(average_logit_diff, original_average_logit_diff)\n",
    "\n",
    "def residual_stack_to_logit_diff(\n",
    "    residual_stack: Float[Tensor, \"... batch d_model\"],\n",
    "    cache: ActivationCache,\n",
    "    logit_diff_directions: Float[Tensor, \"batch d_model\"] = logit_diff_directions,\n",
    ") -> Float[Tensor, \"...\"]:\n",
    "    '''\n",
    "    Gets the avg logit difference between the correct and incorrect answer for a given\n",
    "    stack of components in the residual stream.\n",
    "    '''\n",
    "    # SOLUTION\n",
    "    batch_size = residual_stack.size(-2)\n",
    "    scaled_residual_stack = cache.apply_ln_to_stack(residual_stack, layer=-1, pos_slice=-1)\n",
    "    return einops.einsum(\n",
    "        scaled_residual_stack, logit_diff_directions,\n",
    "        \"... batch d_model, batch d_model -> ...\"\n",
    "    ) / batch_size\n",
    "\n",
    "\n",
    "# Test function by checking that it gives the same result as the original logit difference\n",
    "t.testing.assert_close(\n",
    "    residual_stack_to_logit_diff(final_token_residual_stream, cache),\n",
    "    original_average_logit_diff\n",
    ")"
   ]
  },
  {
   "attachments": {},
   "cell_type": "markdown",
   "metadata": {},
   "source": [
    "# 1️⃣ Logit Attribution"
   ]
  },
  {
   "cell_type": "code",
   "execution_count": 20,
   "metadata": {},
   "outputs": [
    {
     "data": {
      "application/vnd.plotly.v1+json": {
       "config": {
        "plotlyServerURL": "https://plot.ly"
       },
       "data": [
        {
         "hovertemplate": "Layer=%{x}<br>Logit Diff=%{y}<extra></extra>",
         "legendgroup": "",
         "line": {
          "color": "#636efa",
          "dash": "solid"
         },
         "marker": {
          "symbol": "circle"
         },
         "mode": "lines",
         "name": "",
         "orientation": "v",
         "showlegend": false,
         "type": "scatter",
         "x": [
          0,
          1,
          2,
          3,
          4,
          5,
          6,
          7,
          8,
          9,
          10,
          11,
          12,
          13,
          14,
          15,
          16,
          17,
          18,
          19,
          20,
          21,
          22,
          23,
          24
         ],
         "xaxis": "x",
         "y": [
          0.0005841954261995852,
          -0.015186026692390442,
          -0.000780327245593071,
          -0.007859058678150177,
          0.00034808041527867317,
          0.006504018325358629,
          0.0019512521103024483,
          -0.006065973546355963,
          -0.005938198883086443,
          -0.007836271077394485,
          0.01584901288151741,
          -0.053368210792541504,
          1.4900672435760498,
          1.4686505794525146,
          2.0572195053100586,
          1.5826935768127441,
          1.8698804378509521,
          2.3400633335113525,
          3.274139404296875,
          6.209610462188721,
          4.938891887664795,
          4.426948547363281,
          4.861801624298096,
          4.725359916687012,
          4.800486087799072
         ],
         "yaxis": "y"
        }
       ],
       "layout": {
        "hovermode": "x unified",
        "legend": {
         "tracegroupgap": 0
        },
        "template": {
         "data": {
          "bar": [
           {
            "error_x": {
             "color": "#2a3f5f"
            },
            "error_y": {
             "color": "#2a3f5f"
            },
            "marker": {
             "line": {
              "color": "#E5ECF6",
              "width": 0.5
             },
             "pattern": {
              "fillmode": "overlay",
              "size": 10,
              "solidity": 0.2
             }
            },
            "type": "bar"
           }
          ],
          "barpolar": [
           {
            "marker": {
             "line": {
              "color": "#E5ECF6",
              "width": 0.5
             },
             "pattern": {
              "fillmode": "overlay",
              "size": 10,
              "solidity": 0.2
             }
            },
            "type": "barpolar"
           }
          ],
          "carpet": [
           {
            "aaxis": {
             "endlinecolor": "#2a3f5f",
             "gridcolor": "white",
             "linecolor": "white",
             "minorgridcolor": "white",
             "startlinecolor": "#2a3f5f"
            },
            "baxis": {
             "endlinecolor": "#2a3f5f",
             "gridcolor": "white",
             "linecolor": "white",
             "minorgridcolor": "white",
             "startlinecolor": "#2a3f5f"
            },
            "type": "carpet"
           }
          ],
          "choropleth": [
           {
            "colorbar": {
             "outlinewidth": 0,
             "ticks": ""
            },
            "type": "choropleth"
           }
          ],
          "contour": [
           {
            "colorbar": {
             "outlinewidth": 0,
             "ticks": ""
            },
            "colorscale": [
             [
              0,
              "#0d0887"
             ],
             [
              0.1111111111111111,
              "#46039f"
             ],
             [
              0.2222222222222222,
              "#7201a8"
             ],
             [
              0.3333333333333333,
              "#9c179e"
             ],
             [
              0.4444444444444444,
              "#bd3786"
             ],
             [
              0.5555555555555556,
              "#d8576b"
             ],
             [
              0.6666666666666666,
              "#ed7953"
             ],
             [
              0.7777777777777778,
              "#fb9f3a"
             ],
             [
              0.8888888888888888,
              "#fdca26"
             ],
             [
              1,
              "#f0f921"
             ]
            ],
            "type": "contour"
           }
          ],
          "contourcarpet": [
           {
            "colorbar": {
             "outlinewidth": 0,
             "ticks": ""
            },
            "type": "contourcarpet"
           }
          ],
          "heatmap": [
           {
            "colorbar": {
             "outlinewidth": 0,
             "ticks": ""
            },
            "colorscale": [
             [
              0,
              "#0d0887"
             ],
             [
              0.1111111111111111,
              "#46039f"
             ],
             [
              0.2222222222222222,
              "#7201a8"
             ],
             [
              0.3333333333333333,
              "#9c179e"
             ],
             [
              0.4444444444444444,
              "#bd3786"
             ],
             [
              0.5555555555555556,
              "#d8576b"
             ],
             [
              0.6666666666666666,
              "#ed7953"
             ],
             [
              0.7777777777777778,
              "#fb9f3a"
             ],
             [
              0.8888888888888888,
              "#fdca26"
             ],
             [
              1,
              "#f0f921"
             ]
            ],
            "type": "heatmap"
           }
          ],
          "heatmapgl": [
           {
            "colorbar": {
             "outlinewidth": 0,
             "ticks": ""
            },
            "colorscale": [
             [
              0,
              "#0d0887"
             ],
             [
              0.1111111111111111,
              "#46039f"
             ],
             [
              0.2222222222222222,
              "#7201a8"
             ],
             [
              0.3333333333333333,
              "#9c179e"
             ],
             [
              0.4444444444444444,
              "#bd3786"
             ],
             [
              0.5555555555555556,
              "#d8576b"
             ],
             [
              0.6666666666666666,
              "#ed7953"
             ],
             [
              0.7777777777777778,
              "#fb9f3a"
             ],
             [
              0.8888888888888888,
              "#fdca26"
             ],
             [
              1,
              "#f0f921"
             ]
            ],
            "type": "heatmapgl"
           }
          ],
          "histogram": [
           {
            "marker": {
             "pattern": {
              "fillmode": "overlay",
              "size": 10,
              "solidity": 0.2
             }
            },
            "type": "histogram"
           }
          ],
          "histogram2d": [
           {
            "colorbar": {
             "outlinewidth": 0,
             "ticks": ""
            },
            "colorscale": [
             [
              0,
              "#0d0887"
             ],
             [
              0.1111111111111111,
              "#46039f"
             ],
             [
              0.2222222222222222,
              "#7201a8"
             ],
             [
              0.3333333333333333,
              "#9c179e"
             ],
             [
              0.4444444444444444,
              "#bd3786"
             ],
             [
              0.5555555555555556,
              "#d8576b"
             ],
             [
              0.6666666666666666,
              "#ed7953"
             ],
             [
              0.7777777777777778,
              "#fb9f3a"
             ],
             [
              0.8888888888888888,
              "#fdca26"
             ],
             [
              1,
              "#f0f921"
             ]
            ],
            "type": "histogram2d"
           }
          ],
          "histogram2dcontour": [
           {
            "colorbar": {
             "outlinewidth": 0,
             "ticks": ""
            },
            "colorscale": [
             [
              0,
              "#0d0887"
             ],
             [
              0.1111111111111111,
              "#46039f"
             ],
             [
              0.2222222222222222,
              "#7201a8"
             ],
             [
              0.3333333333333333,
              "#9c179e"
             ],
             [
              0.4444444444444444,
              "#bd3786"
             ],
             [
              0.5555555555555556,
              "#d8576b"
             ],
             [
              0.6666666666666666,
              "#ed7953"
             ],
             [
              0.7777777777777778,
              "#fb9f3a"
             ],
             [
              0.8888888888888888,
              "#fdca26"
             ],
             [
              1,
              "#f0f921"
             ]
            ],
            "type": "histogram2dcontour"
           }
          ],
          "mesh3d": [
           {
            "colorbar": {
             "outlinewidth": 0,
             "ticks": ""
            },
            "type": "mesh3d"
           }
          ],
          "parcoords": [
           {
            "line": {
             "colorbar": {
              "outlinewidth": 0,
              "ticks": ""
             }
            },
            "type": "parcoords"
           }
          ],
          "pie": [
           {
            "automargin": true,
            "type": "pie"
           }
          ],
          "scatter": [
           {
            "fillpattern": {
             "fillmode": "overlay",
             "size": 10,
             "solidity": 0.2
            },
            "type": "scatter"
           }
          ],
          "scatter3d": [
           {
            "line": {
             "colorbar": {
              "outlinewidth": 0,
              "ticks": ""
             }
            },
            "marker": {
             "colorbar": {
              "outlinewidth": 0,
              "ticks": ""
             }
            },
            "type": "scatter3d"
           }
          ],
          "scattercarpet": [
           {
            "marker": {
             "colorbar": {
              "outlinewidth": 0,
              "ticks": ""
             }
            },
            "type": "scattercarpet"
           }
          ],
          "scattergeo": [
           {
            "marker": {
             "colorbar": {
              "outlinewidth": 0,
              "ticks": ""
             }
            },
            "type": "scattergeo"
           }
          ],
          "scattergl": [
           {
            "marker": {
             "colorbar": {
              "outlinewidth": 0,
              "ticks": ""
             }
            },
            "type": "scattergl"
           }
          ],
          "scattermapbox": [
           {
            "marker": {
             "colorbar": {
              "outlinewidth": 0,
              "ticks": ""
             }
            },
            "type": "scattermapbox"
           }
          ],
          "scatterpolar": [
           {
            "marker": {
             "colorbar": {
              "outlinewidth": 0,
              "ticks": ""
             }
            },
            "type": "scatterpolar"
           }
          ],
          "scatterpolargl": [
           {
            "marker": {
             "colorbar": {
              "outlinewidth": 0,
              "ticks": ""
             }
            },
            "type": "scatterpolargl"
           }
          ],
          "scatterternary": [
           {
            "marker": {
             "colorbar": {
              "outlinewidth": 0,
              "ticks": ""
             }
            },
            "type": "scatterternary"
           }
          ],
          "surface": [
           {
            "colorbar": {
             "outlinewidth": 0,
             "ticks": ""
            },
            "colorscale": [
             [
              0,
              "#0d0887"
             ],
             [
              0.1111111111111111,
              "#46039f"
             ],
             [
              0.2222222222222222,
              "#7201a8"
             ],
             [
              0.3333333333333333,
              "#9c179e"
             ],
             [
              0.4444444444444444,
              "#bd3786"
             ],
             [
              0.5555555555555556,
              "#d8576b"
             ],
             [
              0.6666666666666666,
              "#ed7953"
             ],
             [
              0.7777777777777778,
              "#fb9f3a"
             ],
             [
              0.8888888888888888,
              "#fdca26"
             ],
             [
              1,
              "#f0f921"
             ]
            ],
            "type": "surface"
           }
          ],
          "table": [
           {
            "cells": {
             "fill": {
              "color": "#EBF0F8"
             },
             "line": {
              "color": "white"
             }
            },
            "header": {
             "fill": {
              "color": "#C8D4E3"
             },
             "line": {
              "color": "white"
             }
            },
            "type": "table"
           }
          ]
         },
         "layout": {
          "annotationdefaults": {
           "arrowcolor": "#2a3f5f",
           "arrowhead": 0,
           "arrowwidth": 1
          },
          "autotypenumbers": "strict",
          "coloraxis": {
           "colorbar": {
            "outlinewidth": 0,
            "ticks": ""
           }
          },
          "colorscale": {
           "diverging": [
            [
             0,
             "#8e0152"
            ],
            [
             0.1,
             "#c51b7d"
            ],
            [
             0.2,
             "#de77ae"
            ],
            [
             0.3,
             "#f1b6da"
            ],
            [
             0.4,
             "#fde0ef"
            ],
            [
             0.5,
             "#f7f7f7"
            ],
            [
             0.6,
             "#e6f5d0"
            ],
            [
             0.7,
             "#b8e186"
            ],
            [
             0.8,
             "#7fbc41"
            ],
            [
             0.9,
             "#4d9221"
            ],
            [
             1,
             "#276419"
            ]
           ],
           "sequential": [
            [
             0,
             "#0d0887"
            ],
            [
             0.1111111111111111,
             "#46039f"
            ],
            [
             0.2222222222222222,
             "#7201a8"
            ],
            [
             0.3333333333333333,
             "#9c179e"
            ],
            [
             0.4444444444444444,
             "#bd3786"
            ],
            [
             0.5555555555555556,
             "#d8576b"
            ],
            [
             0.6666666666666666,
             "#ed7953"
            ],
            [
             0.7777777777777778,
             "#fb9f3a"
            ],
            [
             0.8888888888888888,
             "#fdca26"
            ],
            [
             1,
             "#f0f921"
            ]
           ],
           "sequentialminus": [
            [
             0,
             "#0d0887"
            ],
            [
             0.1111111111111111,
             "#46039f"
            ],
            [
             0.2222222222222222,
             "#7201a8"
            ],
            [
             0.3333333333333333,
             "#9c179e"
            ],
            [
             0.4444444444444444,
             "#bd3786"
            ],
            [
             0.5555555555555556,
             "#d8576b"
            ],
            [
             0.6666666666666666,
             "#ed7953"
            ],
            [
             0.7777777777777778,
             "#fb9f3a"
            ],
            [
             0.8888888888888888,
             "#fdca26"
            ],
            [
             1,
             "#f0f921"
            ]
           ]
          },
          "colorway": [
           "#636efa",
           "#EF553B",
           "#00cc96",
           "#ab63fa",
           "#FFA15A",
           "#19d3f3",
           "#FF6692",
           "#B6E880",
           "#FF97FF",
           "#FECB52"
          ],
          "font": {
           "color": "#2a3f5f"
          },
          "geo": {
           "bgcolor": "white",
           "lakecolor": "white",
           "landcolor": "#E5ECF6",
           "showlakes": true,
           "showland": true,
           "subunitcolor": "white"
          },
          "hoverlabel": {
           "align": "left"
          },
          "hovermode": "closest",
          "mapbox": {
           "style": "light"
          },
          "paper_bgcolor": "white",
          "plot_bgcolor": "#E5ECF6",
          "polar": {
           "angularaxis": {
            "gridcolor": "white",
            "linecolor": "white",
            "ticks": ""
           },
           "bgcolor": "#E5ECF6",
           "radialaxis": {
            "gridcolor": "white",
            "linecolor": "white",
            "ticks": ""
           }
          },
          "scene": {
           "xaxis": {
            "backgroundcolor": "#E5ECF6",
            "gridcolor": "white",
            "gridwidth": 2,
            "linecolor": "white",
            "showbackground": true,
            "ticks": "",
            "zerolinecolor": "white"
           },
           "yaxis": {
            "backgroundcolor": "#E5ECF6",
            "gridcolor": "white",
            "gridwidth": 2,
            "linecolor": "white",
            "showbackground": true,
            "ticks": "",
            "zerolinecolor": "white"
           },
           "zaxis": {
            "backgroundcolor": "#E5ECF6",
            "gridcolor": "white",
            "gridwidth": 2,
            "linecolor": "white",
            "showbackground": true,
            "ticks": "",
            "zerolinecolor": "white"
           }
          },
          "shapedefaults": {
           "line": {
            "color": "#2a3f5f"
           }
          },
          "ternary": {
           "aaxis": {
            "gridcolor": "white",
            "linecolor": "white",
            "ticks": ""
           },
           "baxis": {
            "gridcolor": "white",
            "linecolor": "white",
            "ticks": ""
           },
           "bgcolor": "#E5ECF6",
           "caxis": {
            "gridcolor": "white",
            "linecolor": "white",
            "ticks": ""
           }
          },
          "title": {
           "x": 0.05
          },
          "xaxis": {
           "automargin": true,
           "gridcolor": "white",
           "linecolor": "white",
           "ticks": "",
           "title": {
            "standoff": 15
           },
           "zerolinecolor": "white",
           "zerolinewidth": 2
          },
          "yaxis": {
           "automargin": true,
           "gridcolor": "white",
           "linecolor": "white",
           "ticks": "",
           "title": {
            "standoff": 15
           },
           "zerolinecolor": "white",
           "zerolinewidth": 2
          }
         }
        },
        "title": {
         "text": "Logit Difference From Accumulated Residual Stream"
        },
        "width": 800,
        "xaxis": {
         "anchor": "y",
         "domain": [
          0,
          1
         ],
         "tickmode": "array",
         "ticktext": [
          "0_pre",
          "1_pre",
          "2_pre",
          "3_pre",
          "4_pre",
          "5_pre",
          "6_pre",
          "7_pre",
          "8_pre",
          "9_pre",
          "10_pre",
          "11_pre",
          "12_pre",
          "13_pre",
          "14_pre",
          "15_pre",
          "16_pre",
          "17_pre",
          "18_pre",
          "19_pre",
          "20_pre",
          "21_pre",
          "22_pre",
          "23_pre",
          "final_post"
         ],
         "tickvals": [
          0,
          1,
          2,
          3,
          4,
          5,
          6,
          7,
          8,
          9,
          10,
          11,
          12,
          13,
          14,
          15,
          16,
          17,
          18,
          19,
          20,
          21,
          22,
          23,
          24
         ],
         "title": {
          "text": "Layer"
         }
        },
        "yaxis": {
         "anchor": "x",
         "domain": [
          0,
          1
         ],
         "title": {
          "text": "Logit Diff"
         }
        }
       }
      },
      "text/html": [
       "<div>                            <div id=\"0d4db33e-d383-4634-aa48-ec5706bea05e\" class=\"plotly-graph-div\" style=\"height:525px; width:800px;\"></div>            <script type=\"text/javascript\">                require([\"plotly\"], function(Plotly) {                    window.PLOTLYENV=window.PLOTLYENV || {};                                    if (document.getElementById(\"0d4db33e-d383-4634-aa48-ec5706bea05e\")) {                    Plotly.newPlot(                        \"0d4db33e-d383-4634-aa48-ec5706bea05e\",                        [{\"hovertemplate\":\"Layer=%{x}\\u003cbr\\u003eLogit Diff=%{y}\\u003cextra\\u003e\\u003c\\u002fextra\\u003e\",\"legendgroup\":\"\",\"line\":{\"color\":\"#636efa\",\"dash\":\"solid\"},\"marker\":{\"symbol\":\"circle\"},\"mode\":\"lines\",\"name\":\"\",\"orientation\":\"v\",\"showlegend\":false,\"x\":[0,1,2,3,4,5,6,7,8,9,10,11,12,13,14,15,16,17,18,19,20,21,22,23,24],\"xaxis\":\"x\",\"y\":[0.0005841954261995852,-0.015186026692390442,-0.000780327245593071,-0.007859058678150177,0.00034808041527867317,0.006504018325358629,0.0019512521103024483,-0.006065973546355963,-0.005938198883086443,-0.007836271077394485,0.01584901288151741,-0.053368210792541504,1.4900672435760498,1.4686505794525146,2.0572195053100586,1.5826935768127441,1.8698804378509521,2.3400633335113525,3.274139404296875,6.209610462188721,4.938891887664795,4.426948547363281,4.861801624298096,4.725359916687012,4.800486087799072],\"yaxis\":\"y\",\"type\":\"scatter\"}],                        {\"template\":{\"data\":{\"histogram2dcontour\":[{\"type\":\"histogram2dcontour\",\"colorbar\":{\"outlinewidth\":0,\"ticks\":\"\"},\"colorscale\":[[0.0,\"#0d0887\"],[0.1111111111111111,\"#46039f\"],[0.2222222222222222,\"#7201a8\"],[0.3333333333333333,\"#9c179e\"],[0.4444444444444444,\"#bd3786\"],[0.5555555555555556,\"#d8576b\"],[0.6666666666666666,\"#ed7953\"],[0.7777777777777778,\"#fb9f3a\"],[0.8888888888888888,\"#fdca26\"],[1.0,\"#f0f921\"]]}],\"choropleth\":[{\"type\":\"choropleth\",\"colorbar\":{\"outlinewidth\":0,\"ticks\":\"\"}}],\"histogram2d\":[{\"type\":\"histogram2d\",\"colorbar\":{\"outlinewidth\":0,\"ticks\":\"\"},\"colorscale\":[[0.0,\"#0d0887\"],[0.1111111111111111,\"#46039f\"],[0.2222222222222222,\"#7201a8\"],[0.3333333333333333,\"#9c179e\"],[0.4444444444444444,\"#bd3786\"],[0.5555555555555556,\"#d8576b\"],[0.6666666666666666,\"#ed7953\"],[0.7777777777777778,\"#fb9f3a\"],[0.8888888888888888,\"#fdca26\"],[1.0,\"#f0f921\"]]}],\"heatmap\":[{\"type\":\"heatmap\",\"colorbar\":{\"outlinewidth\":0,\"ticks\":\"\"},\"colorscale\":[[0.0,\"#0d0887\"],[0.1111111111111111,\"#46039f\"],[0.2222222222222222,\"#7201a8\"],[0.3333333333333333,\"#9c179e\"],[0.4444444444444444,\"#bd3786\"],[0.5555555555555556,\"#d8576b\"],[0.6666666666666666,\"#ed7953\"],[0.7777777777777778,\"#fb9f3a\"],[0.8888888888888888,\"#fdca26\"],[1.0,\"#f0f921\"]]}],\"heatmapgl\":[{\"type\":\"heatmapgl\",\"colorbar\":{\"outlinewidth\":0,\"ticks\":\"\"},\"colorscale\":[[0.0,\"#0d0887\"],[0.1111111111111111,\"#46039f\"],[0.2222222222222222,\"#7201a8\"],[0.3333333333333333,\"#9c179e\"],[0.4444444444444444,\"#bd3786\"],[0.5555555555555556,\"#d8576b\"],[0.6666666666666666,\"#ed7953\"],[0.7777777777777778,\"#fb9f3a\"],[0.8888888888888888,\"#fdca26\"],[1.0,\"#f0f921\"]]}],\"contourcarpet\":[{\"type\":\"contourcarpet\",\"colorbar\":{\"outlinewidth\":0,\"ticks\":\"\"}}],\"contour\":[{\"type\":\"contour\",\"colorbar\":{\"outlinewidth\":0,\"ticks\":\"\"},\"colorscale\":[[0.0,\"#0d0887\"],[0.1111111111111111,\"#46039f\"],[0.2222222222222222,\"#7201a8\"],[0.3333333333333333,\"#9c179e\"],[0.4444444444444444,\"#bd3786\"],[0.5555555555555556,\"#d8576b\"],[0.6666666666666666,\"#ed7953\"],[0.7777777777777778,\"#fb9f3a\"],[0.8888888888888888,\"#fdca26\"],[1.0,\"#f0f921\"]]}],\"surface\":[{\"type\":\"surface\",\"colorbar\":{\"outlinewidth\":0,\"ticks\":\"\"},\"colorscale\":[[0.0,\"#0d0887\"],[0.1111111111111111,\"#46039f\"],[0.2222222222222222,\"#7201a8\"],[0.3333333333333333,\"#9c179e\"],[0.4444444444444444,\"#bd3786\"],[0.5555555555555556,\"#d8576b\"],[0.6666666666666666,\"#ed7953\"],[0.7777777777777778,\"#fb9f3a\"],[0.8888888888888888,\"#fdca26\"],[1.0,\"#f0f921\"]]}],\"mesh3d\":[{\"type\":\"mesh3d\",\"colorbar\":{\"outlinewidth\":0,\"ticks\":\"\"}}],\"scatter\":[{\"fillpattern\":{\"fillmode\":\"overlay\",\"size\":10,\"solidity\":0.2},\"type\":\"scatter\"}],\"parcoords\":[{\"type\":\"parcoords\",\"line\":{\"colorbar\":{\"outlinewidth\":0,\"ticks\":\"\"}}}],\"scatterpolargl\":[{\"type\":\"scatterpolargl\",\"marker\":{\"colorbar\":{\"outlinewidth\":0,\"ticks\":\"\"}}}],\"bar\":[{\"error_x\":{\"color\":\"#2a3f5f\"},\"error_y\":{\"color\":\"#2a3f5f\"},\"marker\":{\"line\":{\"color\":\"#E5ECF6\",\"width\":0.5},\"pattern\":{\"fillmode\":\"overlay\",\"size\":10,\"solidity\":0.2}},\"type\":\"bar\"}],\"scattergeo\":[{\"type\":\"scattergeo\",\"marker\":{\"colorbar\":{\"outlinewidth\":0,\"ticks\":\"\"}}}],\"scatterpolar\":[{\"type\":\"scatterpolar\",\"marker\":{\"colorbar\":{\"outlinewidth\":0,\"ticks\":\"\"}}}],\"histogram\":[{\"marker\":{\"pattern\":{\"fillmode\":\"overlay\",\"size\":10,\"solidity\":0.2}},\"type\":\"histogram\"}],\"scattergl\":[{\"type\":\"scattergl\",\"marker\":{\"colorbar\":{\"outlinewidth\":0,\"ticks\":\"\"}}}],\"scatter3d\":[{\"type\":\"scatter3d\",\"line\":{\"colorbar\":{\"outlinewidth\":0,\"ticks\":\"\"}},\"marker\":{\"colorbar\":{\"outlinewidth\":0,\"ticks\":\"\"}}}],\"scattermapbox\":[{\"type\":\"scattermapbox\",\"marker\":{\"colorbar\":{\"outlinewidth\":0,\"ticks\":\"\"}}}],\"scatterternary\":[{\"type\":\"scatterternary\",\"marker\":{\"colorbar\":{\"outlinewidth\":0,\"ticks\":\"\"}}}],\"scattercarpet\":[{\"type\":\"scattercarpet\",\"marker\":{\"colorbar\":{\"outlinewidth\":0,\"ticks\":\"\"}}}],\"carpet\":[{\"aaxis\":{\"endlinecolor\":\"#2a3f5f\",\"gridcolor\":\"white\",\"linecolor\":\"white\",\"minorgridcolor\":\"white\",\"startlinecolor\":\"#2a3f5f\"},\"baxis\":{\"endlinecolor\":\"#2a3f5f\",\"gridcolor\":\"white\",\"linecolor\":\"white\",\"minorgridcolor\":\"white\",\"startlinecolor\":\"#2a3f5f\"},\"type\":\"carpet\"}],\"table\":[{\"cells\":{\"fill\":{\"color\":\"#EBF0F8\"},\"line\":{\"color\":\"white\"}},\"header\":{\"fill\":{\"color\":\"#C8D4E3\"},\"line\":{\"color\":\"white\"}},\"type\":\"table\"}],\"barpolar\":[{\"marker\":{\"line\":{\"color\":\"#E5ECF6\",\"width\":0.5},\"pattern\":{\"fillmode\":\"overlay\",\"size\":10,\"solidity\":0.2}},\"type\":\"barpolar\"}],\"pie\":[{\"automargin\":true,\"type\":\"pie\"}]},\"layout\":{\"autotypenumbers\":\"strict\",\"colorway\":[\"#636efa\",\"#EF553B\",\"#00cc96\",\"#ab63fa\",\"#FFA15A\",\"#19d3f3\",\"#FF6692\",\"#B6E880\",\"#FF97FF\",\"#FECB52\"],\"font\":{\"color\":\"#2a3f5f\"},\"hovermode\":\"closest\",\"hoverlabel\":{\"align\":\"left\"},\"paper_bgcolor\":\"white\",\"plot_bgcolor\":\"#E5ECF6\",\"polar\":{\"bgcolor\":\"#E5ECF6\",\"angularaxis\":{\"gridcolor\":\"white\",\"linecolor\":\"white\",\"ticks\":\"\"},\"radialaxis\":{\"gridcolor\":\"white\",\"linecolor\":\"white\",\"ticks\":\"\"}},\"ternary\":{\"bgcolor\":\"#E5ECF6\",\"aaxis\":{\"gridcolor\":\"white\",\"linecolor\":\"white\",\"ticks\":\"\"},\"baxis\":{\"gridcolor\":\"white\",\"linecolor\":\"white\",\"ticks\":\"\"},\"caxis\":{\"gridcolor\":\"white\",\"linecolor\":\"white\",\"ticks\":\"\"}},\"coloraxis\":{\"colorbar\":{\"outlinewidth\":0,\"ticks\":\"\"}},\"colorscale\":{\"sequential\":[[0.0,\"#0d0887\"],[0.1111111111111111,\"#46039f\"],[0.2222222222222222,\"#7201a8\"],[0.3333333333333333,\"#9c179e\"],[0.4444444444444444,\"#bd3786\"],[0.5555555555555556,\"#d8576b\"],[0.6666666666666666,\"#ed7953\"],[0.7777777777777778,\"#fb9f3a\"],[0.8888888888888888,\"#fdca26\"],[1.0,\"#f0f921\"]],\"sequentialminus\":[[0.0,\"#0d0887\"],[0.1111111111111111,\"#46039f\"],[0.2222222222222222,\"#7201a8\"],[0.3333333333333333,\"#9c179e\"],[0.4444444444444444,\"#bd3786\"],[0.5555555555555556,\"#d8576b\"],[0.6666666666666666,\"#ed7953\"],[0.7777777777777778,\"#fb9f3a\"],[0.8888888888888888,\"#fdca26\"],[1.0,\"#f0f921\"]],\"diverging\":[[0,\"#8e0152\"],[0.1,\"#c51b7d\"],[0.2,\"#de77ae\"],[0.3,\"#f1b6da\"],[0.4,\"#fde0ef\"],[0.5,\"#f7f7f7\"],[0.6,\"#e6f5d0\"],[0.7,\"#b8e186\"],[0.8,\"#7fbc41\"],[0.9,\"#4d9221\"],[1,\"#276419\"]]},\"xaxis\":{\"gridcolor\":\"white\",\"linecolor\":\"white\",\"ticks\":\"\",\"title\":{\"standoff\":15},\"zerolinecolor\":\"white\",\"automargin\":true,\"zerolinewidth\":2},\"yaxis\":{\"gridcolor\":\"white\",\"linecolor\":\"white\",\"ticks\":\"\",\"title\":{\"standoff\":15},\"zerolinecolor\":\"white\",\"automargin\":true,\"zerolinewidth\":2},\"scene\":{\"xaxis\":{\"backgroundcolor\":\"#E5ECF6\",\"gridcolor\":\"white\",\"linecolor\":\"white\",\"showbackground\":true,\"ticks\":\"\",\"zerolinecolor\":\"white\",\"gridwidth\":2},\"yaxis\":{\"backgroundcolor\":\"#E5ECF6\",\"gridcolor\":\"white\",\"linecolor\":\"white\",\"showbackground\":true,\"ticks\":\"\",\"zerolinecolor\":\"white\",\"gridwidth\":2},\"zaxis\":{\"backgroundcolor\":\"#E5ECF6\",\"gridcolor\":\"white\",\"linecolor\":\"white\",\"showbackground\":true,\"ticks\":\"\",\"zerolinecolor\":\"white\",\"gridwidth\":2}},\"shapedefaults\":{\"line\":{\"color\":\"#2a3f5f\"}},\"annotationdefaults\":{\"arrowcolor\":\"#2a3f5f\",\"arrowhead\":0,\"arrowwidth\":1},\"geo\":{\"bgcolor\":\"white\",\"landcolor\":\"#E5ECF6\",\"subunitcolor\":\"white\",\"showland\":true,\"showlakes\":true,\"lakecolor\":\"white\"},\"title\":{\"x\":0.05},\"mapbox\":{\"style\":\"light\"}}},\"xaxis\":{\"anchor\":\"y\",\"domain\":[0.0,1.0],\"title\":{\"text\":\"Layer\"},\"tickmode\":\"array\",\"tickvals\":[0,1,2,3,4,5,6,7,8,9,10,11,12,13,14,15,16,17,18,19,20,21,22,23,24],\"ticktext\":[\"0_pre\",\"1_pre\",\"2_pre\",\"3_pre\",\"4_pre\",\"5_pre\",\"6_pre\",\"7_pre\",\"8_pre\",\"9_pre\",\"10_pre\",\"11_pre\",\"12_pre\",\"13_pre\",\"14_pre\",\"15_pre\",\"16_pre\",\"17_pre\",\"18_pre\",\"19_pre\",\"20_pre\",\"21_pre\",\"22_pre\",\"23_pre\",\"final_post\"]},\"yaxis\":{\"anchor\":\"x\",\"domain\":[0.0,1.0],\"title\":{\"text\":\"Logit Diff\"}},\"legend\":{\"tracegroupgap\":0},\"title\":{\"text\":\"Logit Difference From Accumulated Residual Stream\"},\"width\":800,\"hovermode\":\"x unified\"},                        {\"responsive\": true}                    ).then(function(){\n",
       "                            \n",
       "var gd = document.getElementById('0d4db33e-d383-4634-aa48-ec5706bea05e');\n",
       "var x = new MutationObserver(function (mutations, observer) {{\n",
       "        var display = window.getComputedStyle(gd).display;\n",
       "        if (!display || display === 'none') {{\n",
       "            console.log([gd, 'removed!']);\n",
       "            Plotly.purge(gd);\n",
       "            observer.disconnect();\n",
       "        }}\n",
       "}});\n",
       "\n",
       "// Listen for the removal of the full notebook cells\n",
       "var notebookContainer = gd.closest('#notebook-container');\n",
       "if (notebookContainer) {{\n",
       "    x.observe(notebookContainer, {childList: true});\n",
       "}}\n",
       "\n",
       "// Listen for the clearing of the current output cell\n",
       "var outputEl = gd.closest('.output');\n",
       "if (outputEl) {{\n",
       "    x.observe(outputEl, {childList: true});\n",
       "}}\n",
       "\n",
       "                        })                };                });            </script>        </div>"
      ]
     },
     "metadata": {},
     "output_type": "display_data"
    }
   ],
   "source": [
    "accumulated_residual, labels = cache.accumulated_resid(layer=-1, incl_mid=False, pos_slice=-1, return_labels=True)\n",
    "# accumulated_residual has shape (component, batch, d_model)\n",
    "\n",
    "logit_lens_logit_diffs: Float[Tensor, \"component\"] = residual_stack_to_logit_diff(accumulated_residual, cache)\n",
    "\n",
    "line(\n",
    "    logit_lens_logit_diffs,\n",
    "    hovermode=\"x unified\",\n",
    "    title=\"Logit Difference From Accumulated Residual Stream\",\n",
    "    labels={\"x\": \"Layer\", \"y\": \"Logit Diff\"},\n",
    "    xaxis_tickvals=labels,\n",
    "    width=800\n",
    ")"
   ]
  },
  {
   "cell_type": "code",
   "execution_count": 26,
   "metadata": {},
   "outputs": [
    {
     "data": {
      "application/vnd.plotly.v1+json": {
       "config": {
        "plotlyServerURL": "https://plot.ly"
       },
       "data": [
        {
         "hovertemplate": "Layer=%{x}<br>Logit Diff=%{y}<extra></extra>",
         "legendgroup": "",
         "line": {
          "color": "#636efa",
          "dash": "solid"
         },
         "marker": {
          "symbol": "circle"
         },
         "mode": "lines",
         "name": "",
         "orientation": "v",
         "showlegend": false,
         "type": "scatter",
         "x": [
          0,
          1,
          2,
          3,
          4,
          5,
          6,
          7,
          8,
          9,
          10,
          11,
          12,
          13,
          14,
          15,
          16,
          17,
          18,
          19,
          20,
          21,
          22,
          23,
          24,
          25,
          26,
          27,
          28,
          29,
          30,
          31,
          32,
          33,
          34,
          35,
          36,
          37,
          38,
          39,
          40,
          41,
          42,
          43,
          44,
          45,
          46,
          47,
          48
         ],
         "xaxis": "x",
         "y": [
          0.0005841954261995852,
          -0.006082920357584953,
          -0.009687332436442375,
          0.008184409700334072,
          0.00622131209820509,
          -0.0049677882343530655,
          -0.002110900590196252,
          -0.001497848192229867,
          0.00970496330410242,
          0.003416846739128232,
          0.0027390215545892715,
          -0.003032623091712594,
          -0.0015201075002551079,
          -0.007624696474522352,
          -0.0003924944903701544,
          0.0015055597759783268,
          -0.001377774402499199,
          -0.006040805019438267,
          0.004142753779888153,
          0.02490769326686859,
          -0.0012224293313920498,
          -0.03933900594711304,
          -0.029878227040171623,
          1.519310712814331,
          0.02412443608045578,
          -0.03453582897782326,
          0.013119390234351158,
          0.6768364906311035,
          -0.08826790004968643,
          -0.4181147813796997,
          -0.056410834193229675,
          0.2850630283355713,
          0.0021237730979919434,
          0.4890134632587433,
          -0.018830306828022003,
          0.9747521877288818,
          -0.04067607969045639,
          2.8799517154693604,
          0.05551938712596893,
          -0.8887092471122742,
          -0.3820100426673889,
          -0.44417479634284973,
          -0.06776850670576096,
          0.48710158467292786,
          -0.05224838852882385,
          0.11294791847467422,
          -0.24938954412937164,
          0.0018552163382992148,
          0.07327127456665039
         ],
         "yaxis": "y"
        }
       ],
       "layout": {
        "hovermode": "x unified",
        "legend": {
         "tracegroupgap": 0
        },
        "template": {
         "data": {
          "bar": [
           {
            "error_x": {
             "color": "#2a3f5f"
            },
            "error_y": {
             "color": "#2a3f5f"
            },
            "marker": {
             "line": {
              "color": "#E5ECF6",
              "width": 0.5
             },
             "pattern": {
              "fillmode": "overlay",
              "size": 10,
              "solidity": 0.2
             }
            },
            "type": "bar"
           }
          ],
          "barpolar": [
           {
            "marker": {
             "line": {
              "color": "#E5ECF6",
              "width": 0.5
             },
             "pattern": {
              "fillmode": "overlay",
              "size": 10,
              "solidity": 0.2
             }
            },
            "type": "barpolar"
           }
          ],
          "carpet": [
           {
            "aaxis": {
             "endlinecolor": "#2a3f5f",
             "gridcolor": "white",
             "linecolor": "white",
             "minorgridcolor": "white",
             "startlinecolor": "#2a3f5f"
            },
            "baxis": {
             "endlinecolor": "#2a3f5f",
             "gridcolor": "white",
             "linecolor": "white",
             "minorgridcolor": "white",
             "startlinecolor": "#2a3f5f"
            },
            "type": "carpet"
           }
          ],
          "choropleth": [
           {
            "colorbar": {
             "outlinewidth": 0,
             "ticks": ""
            },
            "type": "choropleth"
           }
          ],
          "contour": [
           {
            "colorbar": {
             "outlinewidth": 0,
             "ticks": ""
            },
            "colorscale": [
             [
              0,
              "#0d0887"
             ],
             [
              0.1111111111111111,
              "#46039f"
             ],
             [
              0.2222222222222222,
              "#7201a8"
             ],
             [
              0.3333333333333333,
              "#9c179e"
             ],
             [
              0.4444444444444444,
              "#bd3786"
             ],
             [
              0.5555555555555556,
              "#d8576b"
             ],
             [
              0.6666666666666666,
              "#ed7953"
             ],
             [
              0.7777777777777778,
              "#fb9f3a"
             ],
             [
              0.8888888888888888,
              "#fdca26"
             ],
             [
              1,
              "#f0f921"
             ]
            ],
            "type": "contour"
           }
          ],
          "contourcarpet": [
           {
            "colorbar": {
             "outlinewidth": 0,
             "ticks": ""
            },
            "type": "contourcarpet"
           }
          ],
          "heatmap": [
           {
            "colorbar": {
             "outlinewidth": 0,
             "ticks": ""
            },
            "colorscale": [
             [
              0,
              "#0d0887"
             ],
             [
              0.1111111111111111,
              "#46039f"
             ],
             [
              0.2222222222222222,
              "#7201a8"
             ],
             [
              0.3333333333333333,
              "#9c179e"
             ],
             [
              0.4444444444444444,
              "#bd3786"
             ],
             [
              0.5555555555555556,
              "#d8576b"
             ],
             [
              0.6666666666666666,
              "#ed7953"
             ],
             [
              0.7777777777777778,
              "#fb9f3a"
             ],
             [
              0.8888888888888888,
              "#fdca26"
             ],
             [
              1,
              "#f0f921"
             ]
            ],
            "type": "heatmap"
           }
          ],
          "heatmapgl": [
           {
            "colorbar": {
             "outlinewidth": 0,
             "ticks": ""
            },
            "colorscale": [
             [
              0,
              "#0d0887"
             ],
             [
              0.1111111111111111,
              "#46039f"
             ],
             [
              0.2222222222222222,
              "#7201a8"
             ],
             [
              0.3333333333333333,
              "#9c179e"
             ],
             [
              0.4444444444444444,
              "#bd3786"
             ],
             [
              0.5555555555555556,
              "#d8576b"
             ],
             [
              0.6666666666666666,
              "#ed7953"
             ],
             [
              0.7777777777777778,
              "#fb9f3a"
             ],
             [
              0.8888888888888888,
              "#fdca26"
             ],
             [
              1,
              "#f0f921"
             ]
            ],
            "type": "heatmapgl"
           }
          ],
          "histogram": [
           {
            "marker": {
             "pattern": {
              "fillmode": "overlay",
              "size": 10,
              "solidity": 0.2
             }
            },
            "type": "histogram"
           }
          ],
          "histogram2d": [
           {
            "colorbar": {
             "outlinewidth": 0,
             "ticks": ""
            },
            "colorscale": [
             [
              0,
              "#0d0887"
             ],
             [
              0.1111111111111111,
              "#46039f"
             ],
             [
              0.2222222222222222,
              "#7201a8"
             ],
             [
              0.3333333333333333,
              "#9c179e"
             ],
             [
              0.4444444444444444,
              "#bd3786"
             ],
             [
              0.5555555555555556,
              "#d8576b"
             ],
             [
              0.6666666666666666,
              "#ed7953"
             ],
             [
              0.7777777777777778,
              "#fb9f3a"
             ],
             [
              0.8888888888888888,
              "#fdca26"
             ],
             [
              1,
              "#f0f921"
             ]
            ],
            "type": "histogram2d"
           }
          ],
          "histogram2dcontour": [
           {
            "colorbar": {
             "outlinewidth": 0,
             "ticks": ""
            },
            "colorscale": [
             [
              0,
              "#0d0887"
             ],
             [
              0.1111111111111111,
              "#46039f"
             ],
             [
              0.2222222222222222,
              "#7201a8"
             ],
             [
              0.3333333333333333,
              "#9c179e"
             ],
             [
              0.4444444444444444,
              "#bd3786"
             ],
             [
              0.5555555555555556,
              "#d8576b"
             ],
             [
              0.6666666666666666,
              "#ed7953"
             ],
             [
              0.7777777777777778,
              "#fb9f3a"
             ],
             [
              0.8888888888888888,
              "#fdca26"
             ],
             [
              1,
              "#f0f921"
             ]
            ],
            "type": "histogram2dcontour"
           }
          ],
          "mesh3d": [
           {
            "colorbar": {
             "outlinewidth": 0,
             "ticks": ""
            },
            "type": "mesh3d"
           }
          ],
          "parcoords": [
           {
            "line": {
             "colorbar": {
              "outlinewidth": 0,
              "ticks": ""
             }
            },
            "type": "parcoords"
           }
          ],
          "pie": [
           {
            "automargin": true,
            "type": "pie"
           }
          ],
          "scatter": [
           {
            "fillpattern": {
             "fillmode": "overlay",
             "size": 10,
             "solidity": 0.2
            },
            "type": "scatter"
           }
          ],
          "scatter3d": [
           {
            "line": {
             "colorbar": {
              "outlinewidth": 0,
              "ticks": ""
             }
            },
            "marker": {
             "colorbar": {
              "outlinewidth": 0,
              "ticks": ""
             }
            },
            "type": "scatter3d"
           }
          ],
          "scattercarpet": [
           {
            "marker": {
             "colorbar": {
              "outlinewidth": 0,
              "ticks": ""
             }
            },
            "type": "scattercarpet"
           }
          ],
          "scattergeo": [
           {
            "marker": {
             "colorbar": {
              "outlinewidth": 0,
              "ticks": ""
             }
            },
            "type": "scattergeo"
           }
          ],
          "scattergl": [
           {
            "marker": {
             "colorbar": {
              "outlinewidth": 0,
              "ticks": ""
             }
            },
            "type": "scattergl"
           }
          ],
          "scattermapbox": [
           {
            "marker": {
             "colorbar": {
              "outlinewidth": 0,
              "ticks": ""
             }
            },
            "type": "scattermapbox"
           }
          ],
          "scatterpolar": [
           {
            "marker": {
             "colorbar": {
              "outlinewidth": 0,
              "ticks": ""
             }
            },
            "type": "scatterpolar"
           }
          ],
          "scatterpolargl": [
           {
            "marker": {
             "colorbar": {
              "outlinewidth": 0,
              "ticks": ""
             }
            },
            "type": "scatterpolargl"
           }
          ],
          "scatterternary": [
           {
            "marker": {
             "colorbar": {
              "outlinewidth": 0,
              "ticks": ""
             }
            },
            "type": "scatterternary"
           }
          ],
          "surface": [
           {
            "colorbar": {
             "outlinewidth": 0,
             "ticks": ""
            },
            "colorscale": [
             [
              0,
              "#0d0887"
             ],
             [
              0.1111111111111111,
              "#46039f"
             ],
             [
              0.2222222222222222,
              "#7201a8"
             ],
             [
              0.3333333333333333,
              "#9c179e"
             ],
             [
              0.4444444444444444,
              "#bd3786"
             ],
             [
              0.5555555555555556,
              "#d8576b"
             ],
             [
              0.6666666666666666,
              "#ed7953"
             ],
             [
              0.7777777777777778,
              "#fb9f3a"
             ],
             [
              0.8888888888888888,
              "#fdca26"
             ],
             [
              1,
              "#f0f921"
             ]
            ],
            "type": "surface"
           }
          ],
          "table": [
           {
            "cells": {
             "fill": {
              "color": "#EBF0F8"
             },
             "line": {
              "color": "white"
             }
            },
            "header": {
             "fill": {
              "color": "#C8D4E3"
             },
             "line": {
              "color": "white"
             }
            },
            "type": "table"
           }
          ]
         },
         "layout": {
          "annotationdefaults": {
           "arrowcolor": "#2a3f5f",
           "arrowhead": 0,
           "arrowwidth": 1
          },
          "autotypenumbers": "strict",
          "coloraxis": {
           "colorbar": {
            "outlinewidth": 0,
            "ticks": ""
           }
          },
          "colorscale": {
           "diverging": [
            [
             0,
             "#8e0152"
            ],
            [
             0.1,
             "#c51b7d"
            ],
            [
             0.2,
             "#de77ae"
            ],
            [
             0.3,
             "#f1b6da"
            ],
            [
             0.4,
             "#fde0ef"
            ],
            [
             0.5,
             "#f7f7f7"
            ],
            [
             0.6,
             "#e6f5d0"
            ],
            [
             0.7,
             "#b8e186"
            ],
            [
             0.8,
             "#7fbc41"
            ],
            [
             0.9,
             "#4d9221"
            ],
            [
             1,
             "#276419"
            ]
           ],
           "sequential": [
            [
             0,
             "#0d0887"
            ],
            [
             0.1111111111111111,
             "#46039f"
            ],
            [
             0.2222222222222222,
             "#7201a8"
            ],
            [
             0.3333333333333333,
             "#9c179e"
            ],
            [
             0.4444444444444444,
             "#bd3786"
            ],
            [
             0.5555555555555556,
             "#d8576b"
            ],
            [
             0.6666666666666666,
             "#ed7953"
            ],
            [
             0.7777777777777778,
             "#fb9f3a"
            ],
            [
             0.8888888888888888,
             "#fdca26"
            ],
            [
             1,
             "#f0f921"
            ]
           ],
           "sequentialminus": [
            [
             0,
             "#0d0887"
            ],
            [
             0.1111111111111111,
             "#46039f"
            ],
            [
             0.2222222222222222,
             "#7201a8"
            ],
            [
             0.3333333333333333,
             "#9c179e"
            ],
            [
             0.4444444444444444,
             "#bd3786"
            ],
            [
             0.5555555555555556,
             "#d8576b"
            ],
            [
             0.6666666666666666,
             "#ed7953"
            ],
            [
             0.7777777777777778,
             "#fb9f3a"
            ],
            [
             0.8888888888888888,
             "#fdca26"
            ],
            [
             1,
             "#f0f921"
            ]
           ]
          },
          "colorway": [
           "#636efa",
           "#EF553B",
           "#00cc96",
           "#ab63fa",
           "#FFA15A",
           "#19d3f3",
           "#FF6692",
           "#B6E880",
           "#FF97FF",
           "#FECB52"
          ],
          "font": {
           "color": "#2a3f5f"
          },
          "geo": {
           "bgcolor": "white",
           "lakecolor": "white",
           "landcolor": "#E5ECF6",
           "showlakes": true,
           "showland": true,
           "subunitcolor": "white"
          },
          "hoverlabel": {
           "align": "left"
          },
          "hovermode": "closest",
          "mapbox": {
           "style": "light"
          },
          "paper_bgcolor": "white",
          "plot_bgcolor": "#E5ECF6",
          "polar": {
           "angularaxis": {
            "gridcolor": "white",
            "linecolor": "white",
            "ticks": ""
           },
           "bgcolor": "#E5ECF6",
           "radialaxis": {
            "gridcolor": "white",
            "linecolor": "white",
            "ticks": ""
           }
          },
          "scene": {
           "xaxis": {
            "backgroundcolor": "#E5ECF6",
            "gridcolor": "white",
            "gridwidth": 2,
            "linecolor": "white",
            "showbackground": true,
            "ticks": "",
            "zerolinecolor": "white"
           },
           "yaxis": {
            "backgroundcolor": "#E5ECF6",
            "gridcolor": "white",
            "gridwidth": 2,
            "linecolor": "white",
            "showbackground": true,
            "ticks": "",
            "zerolinecolor": "white"
           },
           "zaxis": {
            "backgroundcolor": "#E5ECF6",
            "gridcolor": "white",
            "gridwidth": 2,
            "linecolor": "white",
            "showbackground": true,
            "ticks": "",
            "zerolinecolor": "white"
           }
          },
          "shapedefaults": {
           "line": {
            "color": "#2a3f5f"
           }
          },
          "ternary": {
           "aaxis": {
            "gridcolor": "white",
            "linecolor": "white",
            "ticks": ""
           },
           "baxis": {
            "gridcolor": "white",
            "linecolor": "white",
            "ticks": ""
           },
           "bgcolor": "#E5ECF6",
           "caxis": {
            "gridcolor": "white",
            "linecolor": "white",
            "ticks": ""
           }
          },
          "title": {
           "x": 0.05
          },
          "xaxis": {
           "automargin": true,
           "gridcolor": "white",
           "linecolor": "white",
           "ticks": "",
           "title": {
            "standoff": 15
           },
           "zerolinecolor": "white",
           "zerolinewidth": 2
          },
          "yaxis": {
           "automargin": true,
           "gridcolor": "white",
           "linecolor": "white",
           "ticks": "",
           "title": {
            "standoff": 15
           },
           "zerolinecolor": "white",
           "zerolinewidth": 2
          }
         }
        },
        "title": {
         "text": "Logit Difference From Each Layer"
        },
        "width": 800,
        "xaxis": {
         "anchor": "y",
         "domain": [
          0,
          1
         ],
         "tickmode": "array",
         "ticktext": [
          "embed",
          "0_attn_out",
          "0_mlp_out",
          "1_attn_out",
          "1_mlp_out",
          "2_attn_out",
          "2_mlp_out",
          "3_attn_out",
          "3_mlp_out",
          "4_attn_out",
          "4_mlp_out",
          "5_attn_out",
          "5_mlp_out",
          "6_attn_out",
          "6_mlp_out",
          "7_attn_out",
          "7_mlp_out",
          "8_attn_out",
          "8_mlp_out",
          "9_attn_out",
          "9_mlp_out",
          "10_attn_out",
          "10_mlp_out",
          "11_attn_out",
          "11_mlp_out",
          "12_attn_out",
          "12_mlp_out",
          "13_attn_out",
          "13_mlp_out",
          "14_attn_out",
          "14_mlp_out",
          "15_attn_out",
          "15_mlp_out",
          "16_attn_out",
          "16_mlp_out",
          "17_attn_out",
          "17_mlp_out",
          "18_attn_out",
          "18_mlp_out",
          "19_attn_out",
          "19_mlp_out",
          "20_attn_out",
          "20_mlp_out",
          "21_attn_out",
          "21_mlp_out",
          "22_attn_out",
          "22_mlp_out",
          "23_attn_out",
          "23_mlp_out"
         ],
         "tickvals": [
          0,
          1,
          2,
          3,
          4,
          5,
          6,
          7,
          8,
          9,
          10,
          11,
          12,
          13,
          14,
          15,
          16,
          17,
          18,
          19,
          20,
          21,
          22,
          23,
          24,
          25,
          26,
          27,
          28,
          29,
          30,
          31,
          32,
          33,
          34,
          35,
          36,
          37,
          38,
          39,
          40,
          41,
          42,
          43,
          44,
          45,
          46,
          47,
          48
         ],
         "title": {
          "text": "Layer"
         }
        },
        "yaxis": {
         "anchor": "x",
         "domain": [
          0,
          1
         ],
         "title": {
          "text": "Logit Diff"
         }
        }
       }
      },
      "text/html": [
       "<div>                            <div id=\"d6531c2a-dbc9-4d20-a39a-f9ed5ae2918d\" class=\"plotly-graph-div\" style=\"height:525px; width:800px;\"></div>            <script type=\"text/javascript\">                require([\"plotly\"], function(Plotly) {                    window.PLOTLYENV=window.PLOTLYENV || {};                                    if (document.getElementById(\"d6531c2a-dbc9-4d20-a39a-f9ed5ae2918d\")) {                    Plotly.newPlot(                        \"d6531c2a-dbc9-4d20-a39a-f9ed5ae2918d\",                        [{\"hovertemplate\":\"Layer=%{x}\\u003cbr\\u003eLogit Diff=%{y}\\u003cextra\\u003e\\u003c\\u002fextra\\u003e\",\"legendgroup\":\"\",\"line\":{\"color\":\"#636efa\",\"dash\":\"solid\"},\"marker\":{\"symbol\":\"circle\"},\"mode\":\"lines\",\"name\":\"\",\"orientation\":\"v\",\"showlegend\":false,\"x\":[0,1,2,3,4,5,6,7,8,9,10,11,12,13,14,15,16,17,18,19,20,21,22,23,24,25,26,27,28,29,30,31,32,33,34,35,36,37,38,39,40,41,42,43,44,45,46,47,48],\"xaxis\":\"x\",\"y\":[0.0005841954261995852,-0.006082920357584953,-0.009687332436442375,0.008184409700334072,0.00622131209820509,-0.0049677882343530655,-0.002110900590196252,-0.001497848192229867,0.00970496330410242,0.003416846739128232,0.0027390215545892715,-0.003032623091712594,-0.0015201075002551079,-0.007624696474522352,-0.0003924944903701544,0.0015055597759783268,-0.001377774402499199,-0.006040805019438267,0.004142753779888153,0.02490769326686859,-0.0012224293313920498,-0.03933900594711304,-0.029878227040171623,1.519310712814331,0.02412443608045578,-0.03453582897782326,0.013119390234351158,0.6768364906311035,-0.08826790004968643,-0.4181147813796997,-0.056410834193229675,0.2850630283355713,0.0021237730979919434,0.4890134632587433,-0.018830306828022003,0.9747521877288818,-0.04067607969045639,2.8799517154693604,0.05551938712596893,-0.8887092471122742,-0.3820100426673889,-0.44417479634284973,-0.06776850670576096,0.48710158467292786,-0.05224838852882385,0.11294791847467422,-0.24938954412937164,0.0018552163382992148,0.07327127456665039],\"yaxis\":\"y\",\"type\":\"scatter\"}],                        {\"template\":{\"data\":{\"histogram2dcontour\":[{\"type\":\"histogram2dcontour\",\"colorbar\":{\"outlinewidth\":0,\"ticks\":\"\"},\"colorscale\":[[0.0,\"#0d0887\"],[0.1111111111111111,\"#46039f\"],[0.2222222222222222,\"#7201a8\"],[0.3333333333333333,\"#9c179e\"],[0.4444444444444444,\"#bd3786\"],[0.5555555555555556,\"#d8576b\"],[0.6666666666666666,\"#ed7953\"],[0.7777777777777778,\"#fb9f3a\"],[0.8888888888888888,\"#fdca26\"],[1.0,\"#f0f921\"]]}],\"choropleth\":[{\"type\":\"choropleth\",\"colorbar\":{\"outlinewidth\":0,\"ticks\":\"\"}}],\"histogram2d\":[{\"type\":\"histogram2d\",\"colorbar\":{\"outlinewidth\":0,\"ticks\":\"\"},\"colorscale\":[[0.0,\"#0d0887\"],[0.1111111111111111,\"#46039f\"],[0.2222222222222222,\"#7201a8\"],[0.3333333333333333,\"#9c179e\"],[0.4444444444444444,\"#bd3786\"],[0.5555555555555556,\"#d8576b\"],[0.6666666666666666,\"#ed7953\"],[0.7777777777777778,\"#fb9f3a\"],[0.8888888888888888,\"#fdca26\"],[1.0,\"#f0f921\"]]}],\"heatmap\":[{\"type\":\"heatmap\",\"colorbar\":{\"outlinewidth\":0,\"ticks\":\"\"},\"colorscale\":[[0.0,\"#0d0887\"],[0.1111111111111111,\"#46039f\"],[0.2222222222222222,\"#7201a8\"],[0.3333333333333333,\"#9c179e\"],[0.4444444444444444,\"#bd3786\"],[0.5555555555555556,\"#d8576b\"],[0.6666666666666666,\"#ed7953\"],[0.7777777777777778,\"#fb9f3a\"],[0.8888888888888888,\"#fdca26\"],[1.0,\"#f0f921\"]]}],\"heatmapgl\":[{\"type\":\"heatmapgl\",\"colorbar\":{\"outlinewidth\":0,\"ticks\":\"\"},\"colorscale\":[[0.0,\"#0d0887\"],[0.1111111111111111,\"#46039f\"],[0.2222222222222222,\"#7201a8\"],[0.3333333333333333,\"#9c179e\"],[0.4444444444444444,\"#bd3786\"],[0.5555555555555556,\"#d8576b\"],[0.6666666666666666,\"#ed7953\"],[0.7777777777777778,\"#fb9f3a\"],[0.8888888888888888,\"#fdca26\"],[1.0,\"#f0f921\"]]}],\"contourcarpet\":[{\"type\":\"contourcarpet\",\"colorbar\":{\"outlinewidth\":0,\"ticks\":\"\"}}],\"contour\":[{\"type\":\"contour\",\"colorbar\":{\"outlinewidth\":0,\"ticks\":\"\"},\"colorscale\":[[0.0,\"#0d0887\"],[0.1111111111111111,\"#46039f\"],[0.2222222222222222,\"#7201a8\"],[0.3333333333333333,\"#9c179e\"],[0.4444444444444444,\"#bd3786\"],[0.5555555555555556,\"#d8576b\"],[0.6666666666666666,\"#ed7953\"],[0.7777777777777778,\"#fb9f3a\"],[0.8888888888888888,\"#fdca26\"],[1.0,\"#f0f921\"]]}],\"surface\":[{\"type\":\"surface\",\"colorbar\":{\"outlinewidth\":0,\"ticks\":\"\"},\"colorscale\":[[0.0,\"#0d0887\"],[0.1111111111111111,\"#46039f\"],[0.2222222222222222,\"#7201a8\"],[0.3333333333333333,\"#9c179e\"],[0.4444444444444444,\"#bd3786\"],[0.5555555555555556,\"#d8576b\"],[0.6666666666666666,\"#ed7953\"],[0.7777777777777778,\"#fb9f3a\"],[0.8888888888888888,\"#fdca26\"],[1.0,\"#f0f921\"]]}],\"mesh3d\":[{\"type\":\"mesh3d\",\"colorbar\":{\"outlinewidth\":0,\"ticks\":\"\"}}],\"scatter\":[{\"fillpattern\":{\"fillmode\":\"overlay\",\"size\":10,\"solidity\":0.2},\"type\":\"scatter\"}],\"parcoords\":[{\"type\":\"parcoords\",\"line\":{\"colorbar\":{\"outlinewidth\":0,\"ticks\":\"\"}}}],\"scatterpolargl\":[{\"type\":\"scatterpolargl\",\"marker\":{\"colorbar\":{\"outlinewidth\":0,\"ticks\":\"\"}}}],\"bar\":[{\"error_x\":{\"color\":\"#2a3f5f\"},\"error_y\":{\"color\":\"#2a3f5f\"},\"marker\":{\"line\":{\"color\":\"#E5ECF6\",\"width\":0.5},\"pattern\":{\"fillmode\":\"overlay\",\"size\":10,\"solidity\":0.2}},\"type\":\"bar\"}],\"scattergeo\":[{\"type\":\"scattergeo\",\"marker\":{\"colorbar\":{\"outlinewidth\":0,\"ticks\":\"\"}}}],\"scatterpolar\":[{\"type\":\"scatterpolar\",\"marker\":{\"colorbar\":{\"outlinewidth\":0,\"ticks\":\"\"}}}],\"histogram\":[{\"marker\":{\"pattern\":{\"fillmode\":\"overlay\",\"size\":10,\"solidity\":0.2}},\"type\":\"histogram\"}],\"scattergl\":[{\"type\":\"scattergl\",\"marker\":{\"colorbar\":{\"outlinewidth\":0,\"ticks\":\"\"}}}],\"scatter3d\":[{\"type\":\"scatter3d\",\"line\":{\"colorbar\":{\"outlinewidth\":0,\"ticks\":\"\"}},\"marker\":{\"colorbar\":{\"outlinewidth\":0,\"ticks\":\"\"}}}],\"scattermapbox\":[{\"type\":\"scattermapbox\",\"marker\":{\"colorbar\":{\"outlinewidth\":0,\"ticks\":\"\"}}}],\"scatterternary\":[{\"type\":\"scatterternary\",\"marker\":{\"colorbar\":{\"outlinewidth\":0,\"ticks\":\"\"}}}],\"scattercarpet\":[{\"type\":\"scattercarpet\",\"marker\":{\"colorbar\":{\"outlinewidth\":0,\"ticks\":\"\"}}}],\"carpet\":[{\"aaxis\":{\"endlinecolor\":\"#2a3f5f\",\"gridcolor\":\"white\",\"linecolor\":\"white\",\"minorgridcolor\":\"white\",\"startlinecolor\":\"#2a3f5f\"},\"baxis\":{\"endlinecolor\":\"#2a3f5f\",\"gridcolor\":\"white\",\"linecolor\":\"white\",\"minorgridcolor\":\"white\",\"startlinecolor\":\"#2a3f5f\"},\"type\":\"carpet\"}],\"table\":[{\"cells\":{\"fill\":{\"color\":\"#EBF0F8\"},\"line\":{\"color\":\"white\"}},\"header\":{\"fill\":{\"color\":\"#C8D4E3\"},\"line\":{\"color\":\"white\"}},\"type\":\"table\"}],\"barpolar\":[{\"marker\":{\"line\":{\"color\":\"#E5ECF6\",\"width\":0.5},\"pattern\":{\"fillmode\":\"overlay\",\"size\":10,\"solidity\":0.2}},\"type\":\"barpolar\"}],\"pie\":[{\"automargin\":true,\"type\":\"pie\"}]},\"layout\":{\"autotypenumbers\":\"strict\",\"colorway\":[\"#636efa\",\"#EF553B\",\"#00cc96\",\"#ab63fa\",\"#FFA15A\",\"#19d3f3\",\"#FF6692\",\"#B6E880\",\"#FF97FF\",\"#FECB52\"],\"font\":{\"color\":\"#2a3f5f\"},\"hovermode\":\"closest\",\"hoverlabel\":{\"align\":\"left\"},\"paper_bgcolor\":\"white\",\"plot_bgcolor\":\"#E5ECF6\",\"polar\":{\"bgcolor\":\"#E5ECF6\",\"angularaxis\":{\"gridcolor\":\"white\",\"linecolor\":\"white\",\"ticks\":\"\"},\"radialaxis\":{\"gridcolor\":\"white\",\"linecolor\":\"white\",\"ticks\":\"\"}},\"ternary\":{\"bgcolor\":\"#E5ECF6\",\"aaxis\":{\"gridcolor\":\"white\",\"linecolor\":\"white\",\"ticks\":\"\"},\"baxis\":{\"gridcolor\":\"white\",\"linecolor\":\"white\",\"ticks\":\"\"},\"caxis\":{\"gridcolor\":\"white\",\"linecolor\":\"white\",\"ticks\":\"\"}},\"coloraxis\":{\"colorbar\":{\"outlinewidth\":0,\"ticks\":\"\"}},\"colorscale\":{\"sequential\":[[0.0,\"#0d0887\"],[0.1111111111111111,\"#46039f\"],[0.2222222222222222,\"#7201a8\"],[0.3333333333333333,\"#9c179e\"],[0.4444444444444444,\"#bd3786\"],[0.5555555555555556,\"#d8576b\"],[0.6666666666666666,\"#ed7953\"],[0.7777777777777778,\"#fb9f3a\"],[0.8888888888888888,\"#fdca26\"],[1.0,\"#f0f921\"]],\"sequentialminus\":[[0.0,\"#0d0887\"],[0.1111111111111111,\"#46039f\"],[0.2222222222222222,\"#7201a8\"],[0.3333333333333333,\"#9c179e\"],[0.4444444444444444,\"#bd3786\"],[0.5555555555555556,\"#d8576b\"],[0.6666666666666666,\"#ed7953\"],[0.7777777777777778,\"#fb9f3a\"],[0.8888888888888888,\"#fdca26\"],[1.0,\"#f0f921\"]],\"diverging\":[[0,\"#8e0152\"],[0.1,\"#c51b7d\"],[0.2,\"#de77ae\"],[0.3,\"#f1b6da\"],[0.4,\"#fde0ef\"],[0.5,\"#f7f7f7\"],[0.6,\"#e6f5d0\"],[0.7,\"#b8e186\"],[0.8,\"#7fbc41\"],[0.9,\"#4d9221\"],[1,\"#276419\"]]},\"xaxis\":{\"gridcolor\":\"white\",\"linecolor\":\"white\",\"ticks\":\"\",\"title\":{\"standoff\":15},\"zerolinecolor\":\"white\",\"automargin\":true,\"zerolinewidth\":2},\"yaxis\":{\"gridcolor\":\"white\",\"linecolor\":\"white\",\"ticks\":\"\",\"title\":{\"standoff\":15},\"zerolinecolor\":\"white\",\"automargin\":true,\"zerolinewidth\":2},\"scene\":{\"xaxis\":{\"backgroundcolor\":\"#E5ECF6\",\"gridcolor\":\"white\",\"linecolor\":\"white\",\"showbackground\":true,\"ticks\":\"\",\"zerolinecolor\":\"white\",\"gridwidth\":2},\"yaxis\":{\"backgroundcolor\":\"#E5ECF6\",\"gridcolor\":\"white\",\"linecolor\":\"white\",\"showbackground\":true,\"ticks\":\"\",\"zerolinecolor\":\"white\",\"gridwidth\":2},\"zaxis\":{\"backgroundcolor\":\"#E5ECF6\",\"gridcolor\":\"white\",\"linecolor\":\"white\",\"showbackground\":true,\"ticks\":\"\",\"zerolinecolor\":\"white\",\"gridwidth\":2}},\"shapedefaults\":{\"line\":{\"color\":\"#2a3f5f\"}},\"annotationdefaults\":{\"arrowcolor\":\"#2a3f5f\",\"arrowhead\":0,\"arrowwidth\":1},\"geo\":{\"bgcolor\":\"white\",\"landcolor\":\"#E5ECF6\",\"subunitcolor\":\"white\",\"showland\":true,\"showlakes\":true,\"lakecolor\":\"white\"},\"title\":{\"x\":0.05},\"mapbox\":{\"style\":\"light\"}}},\"xaxis\":{\"anchor\":\"y\",\"domain\":[0.0,1.0],\"title\":{\"text\":\"Layer\"},\"tickmode\":\"array\",\"tickvals\":[0,1,2,3,4,5,6,7,8,9,10,11,12,13,14,15,16,17,18,19,20,21,22,23,24,25,26,27,28,29,30,31,32,33,34,35,36,37,38,39,40,41,42,43,44,45,46,47,48],\"ticktext\":[\"embed\",\"0_attn_out\",\"0_mlp_out\",\"1_attn_out\",\"1_mlp_out\",\"2_attn_out\",\"2_mlp_out\",\"3_attn_out\",\"3_mlp_out\",\"4_attn_out\",\"4_mlp_out\",\"5_attn_out\",\"5_mlp_out\",\"6_attn_out\",\"6_mlp_out\",\"7_attn_out\",\"7_mlp_out\",\"8_attn_out\",\"8_mlp_out\",\"9_attn_out\",\"9_mlp_out\",\"10_attn_out\",\"10_mlp_out\",\"11_attn_out\",\"11_mlp_out\",\"12_attn_out\",\"12_mlp_out\",\"13_attn_out\",\"13_mlp_out\",\"14_attn_out\",\"14_mlp_out\",\"15_attn_out\",\"15_mlp_out\",\"16_attn_out\",\"16_mlp_out\",\"17_attn_out\",\"17_mlp_out\",\"18_attn_out\",\"18_mlp_out\",\"19_attn_out\",\"19_mlp_out\",\"20_attn_out\",\"20_mlp_out\",\"21_attn_out\",\"21_mlp_out\",\"22_attn_out\",\"22_mlp_out\",\"23_attn_out\",\"23_mlp_out\"]},\"yaxis\":{\"anchor\":\"x\",\"domain\":[0.0,1.0],\"title\":{\"text\":\"Logit Diff\"}},\"legend\":{\"tracegroupgap\":0},\"title\":{\"text\":\"Logit Difference From Each Layer\"},\"width\":800,\"hovermode\":\"x unified\"},                        {\"responsive\": true}                    ).then(function(){\n",
       "                            \n",
       "var gd = document.getElementById('d6531c2a-dbc9-4d20-a39a-f9ed5ae2918d');\n",
       "var x = new MutationObserver(function (mutations, observer) {{\n",
       "        var display = window.getComputedStyle(gd).display;\n",
       "        if (!display || display === 'none') {{\n",
       "            console.log([gd, 'removed!']);\n",
       "            Plotly.purge(gd);\n",
       "            observer.disconnect();\n",
       "        }}\n",
       "}});\n",
       "\n",
       "// Listen for the removal of the full notebook cells\n",
       "var notebookContainer = gd.closest('#notebook-container');\n",
       "if (notebookContainer) {{\n",
       "    x.observe(notebookContainer, {childList: true});\n",
       "}}\n",
       "\n",
       "// Listen for the clearing of the current output cell\n",
       "var outputEl = gd.closest('.output');\n",
       "if (outputEl) {{\n",
       "    x.observe(outputEl, {childList: true});\n",
       "}}\n",
       "\n",
       "                        })                };                });            </script>        </div>"
      ]
     },
     "metadata": {},
     "output_type": "display_data"
    }
   ],
   "source": [
    "per_layer_residual, labels = cache.decompose_resid(layer=-1, pos_slice=-1, return_labels=True)\n",
    "per_layer_logit_diffs = residual_stack_to_logit_diff(per_layer_residual, cache)\n",
    "\n",
    "line(\n",
    "    per_layer_logit_diffs,\n",
    "    hovermode=\"x unified\",\n",
    "    title=\"Logit Difference From Each Layer\",\n",
    "    labels={\"x\": \"Layer\", \"y\": \"Logit Diff\"},\n",
    "    xaxis_tickvals=labels,\n",
    "    width=800\n",
    ")"
   ]
  },
  {
   "cell_type": "code",
   "execution_count": 28,
   "metadata": {},
   "outputs": [
    {
     "data": {
      "application/vnd.plotly.v1+json": {
       "config": {
        "plotlyServerURL": "https://plot.ly"
       },
       "data": [
        {
         "hovertemplate": "Layer=%{x}<br>Logit Diff=%{y}<extra></extra>",
         "legendgroup": "",
         "line": {
          "color": "#636efa",
          "dash": "solid"
         },
         "marker": {
          "symbol": "circle"
         },
         "mode": "lines",
         "name": "",
         "orientation": "v",
         "showlegend": false,
         "type": "scatter",
         "x": [
          0,
          1,
          2,
          3,
          4,
          5,
          6,
          7,
          8,
          9,
          10,
          11,
          12,
          13,
          14,
          15,
          16,
          17,
          18,
          19,
          20,
          21,
          22,
          23
         ],
         "xaxis": "x",
         "y": [
          -0.009687332436442375,
          0.00622131209820509,
          -0.002110900590196252,
          0.00970496330410242,
          0.0027390215545892715,
          -0.0015201075002551079,
          -0.0003924944903701544,
          -0.001377774402499199,
          0.004142753779888153,
          -0.0012224293313920498,
          -0.029878227040171623,
          0.02412443608045578,
          0.013119390234351158,
          -0.08826790004968643,
          -0.056410834193229675,
          0.0021237730979919434,
          -0.018830306828022003,
          -0.04067607969045639,
          0.05551938712596893,
          -0.3820100426673889,
          -0.06776850670576096,
          -0.05224838852882385,
          -0.24938954412937164,
          0.07327127456665039
         ],
         "yaxis": "y"
        }
       ],
       "layout": {
        "hovermode": "x unified",
        "legend": {
         "tracegroupgap": 0
        },
        "template": {
         "data": {
          "bar": [
           {
            "error_x": {
             "color": "#2a3f5f"
            },
            "error_y": {
             "color": "#2a3f5f"
            },
            "marker": {
             "line": {
              "color": "#E5ECF6",
              "width": 0.5
             },
             "pattern": {
              "fillmode": "overlay",
              "size": 10,
              "solidity": 0.2
             }
            },
            "type": "bar"
           }
          ],
          "barpolar": [
           {
            "marker": {
             "line": {
              "color": "#E5ECF6",
              "width": 0.5
             },
             "pattern": {
              "fillmode": "overlay",
              "size": 10,
              "solidity": 0.2
             }
            },
            "type": "barpolar"
           }
          ],
          "carpet": [
           {
            "aaxis": {
             "endlinecolor": "#2a3f5f",
             "gridcolor": "white",
             "linecolor": "white",
             "minorgridcolor": "white",
             "startlinecolor": "#2a3f5f"
            },
            "baxis": {
             "endlinecolor": "#2a3f5f",
             "gridcolor": "white",
             "linecolor": "white",
             "minorgridcolor": "white",
             "startlinecolor": "#2a3f5f"
            },
            "type": "carpet"
           }
          ],
          "choropleth": [
           {
            "colorbar": {
             "outlinewidth": 0,
             "ticks": ""
            },
            "type": "choropleth"
           }
          ],
          "contour": [
           {
            "colorbar": {
             "outlinewidth": 0,
             "ticks": ""
            },
            "colorscale": [
             [
              0,
              "#0d0887"
             ],
             [
              0.1111111111111111,
              "#46039f"
             ],
             [
              0.2222222222222222,
              "#7201a8"
             ],
             [
              0.3333333333333333,
              "#9c179e"
             ],
             [
              0.4444444444444444,
              "#bd3786"
             ],
             [
              0.5555555555555556,
              "#d8576b"
             ],
             [
              0.6666666666666666,
              "#ed7953"
             ],
             [
              0.7777777777777778,
              "#fb9f3a"
             ],
             [
              0.8888888888888888,
              "#fdca26"
             ],
             [
              1,
              "#f0f921"
             ]
            ],
            "type": "contour"
           }
          ],
          "contourcarpet": [
           {
            "colorbar": {
             "outlinewidth": 0,
             "ticks": ""
            },
            "type": "contourcarpet"
           }
          ],
          "heatmap": [
           {
            "colorbar": {
             "outlinewidth": 0,
             "ticks": ""
            },
            "colorscale": [
             [
              0,
              "#0d0887"
             ],
             [
              0.1111111111111111,
              "#46039f"
             ],
             [
              0.2222222222222222,
              "#7201a8"
             ],
             [
              0.3333333333333333,
              "#9c179e"
             ],
             [
              0.4444444444444444,
              "#bd3786"
             ],
             [
              0.5555555555555556,
              "#d8576b"
             ],
             [
              0.6666666666666666,
              "#ed7953"
             ],
             [
              0.7777777777777778,
              "#fb9f3a"
             ],
             [
              0.8888888888888888,
              "#fdca26"
             ],
             [
              1,
              "#f0f921"
             ]
            ],
            "type": "heatmap"
           }
          ],
          "heatmapgl": [
           {
            "colorbar": {
             "outlinewidth": 0,
             "ticks": ""
            },
            "colorscale": [
             [
              0,
              "#0d0887"
             ],
             [
              0.1111111111111111,
              "#46039f"
             ],
             [
              0.2222222222222222,
              "#7201a8"
             ],
             [
              0.3333333333333333,
              "#9c179e"
             ],
             [
              0.4444444444444444,
              "#bd3786"
             ],
             [
              0.5555555555555556,
              "#d8576b"
             ],
             [
              0.6666666666666666,
              "#ed7953"
             ],
             [
              0.7777777777777778,
              "#fb9f3a"
             ],
             [
              0.8888888888888888,
              "#fdca26"
             ],
             [
              1,
              "#f0f921"
             ]
            ],
            "type": "heatmapgl"
           }
          ],
          "histogram": [
           {
            "marker": {
             "pattern": {
              "fillmode": "overlay",
              "size": 10,
              "solidity": 0.2
             }
            },
            "type": "histogram"
           }
          ],
          "histogram2d": [
           {
            "colorbar": {
             "outlinewidth": 0,
             "ticks": ""
            },
            "colorscale": [
             [
              0,
              "#0d0887"
             ],
             [
              0.1111111111111111,
              "#46039f"
             ],
             [
              0.2222222222222222,
              "#7201a8"
             ],
             [
              0.3333333333333333,
              "#9c179e"
             ],
             [
              0.4444444444444444,
              "#bd3786"
             ],
             [
              0.5555555555555556,
              "#d8576b"
             ],
             [
              0.6666666666666666,
              "#ed7953"
             ],
             [
              0.7777777777777778,
              "#fb9f3a"
             ],
             [
              0.8888888888888888,
              "#fdca26"
             ],
             [
              1,
              "#f0f921"
             ]
            ],
            "type": "histogram2d"
           }
          ],
          "histogram2dcontour": [
           {
            "colorbar": {
             "outlinewidth": 0,
             "ticks": ""
            },
            "colorscale": [
             [
              0,
              "#0d0887"
             ],
             [
              0.1111111111111111,
              "#46039f"
             ],
             [
              0.2222222222222222,
              "#7201a8"
             ],
             [
              0.3333333333333333,
              "#9c179e"
             ],
             [
              0.4444444444444444,
              "#bd3786"
             ],
             [
              0.5555555555555556,
              "#d8576b"
             ],
             [
              0.6666666666666666,
              "#ed7953"
             ],
             [
              0.7777777777777778,
              "#fb9f3a"
             ],
             [
              0.8888888888888888,
              "#fdca26"
             ],
             [
              1,
              "#f0f921"
             ]
            ],
            "type": "histogram2dcontour"
           }
          ],
          "mesh3d": [
           {
            "colorbar": {
             "outlinewidth": 0,
             "ticks": ""
            },
            "type": "mesh3d"
           }
          ],
          "parcoords": [
           {
            "line": {
             "colorbar": {
              "outlinewidth": 0,
              "ticks": ""
             }
            },
            "type": "parcoords"
           }
          ],
          "pie": [
           {
            "automargin": true,
            "type": "pie"
           }
          ],
          "scatter": [
           {
            "fillpattern": {
             "fillmode": "overlay",
             "size": 10,
             "solidity": 0.2
            },
            "type": "scatter"
           }
          ],
          "scatter3d": [
           {
            "line": {
             "colorbar": {
              "outlinewidth": 0,
              "ticks": ""
             }
            },
            "marker": {
             "colorbar": {
              "outlinewidth": 0,
              "ticks": ""
             }
            },
            "type": "scatter3d"
           }
          ],
          "scattercarpet": [
           {
            "marker": {
             "colorbar": {
              "outlinewidth": 0,
              "ticks": ""
             }
            },
            "type": "scattercarpet"
           }
          ],
          "scattergeo": [
           {
            "marker": {
             "colorbar": {
              "outlinewidth": 0,
              "ticks": ""
             }
            },
            "type": "scattergeo"
           }
          ],
          "scattergl": [
           {
            "marker": {
             "colorbar": {
              "outlinewidth": 0,
              "ticks": ""
             }
            },
            "type": "scattergl"
           }
          ],
          "scattermapbox": [
           {
            "marker": {
             "colorbar": {
              "outlinewidth": 0,
              "ticks": ""
             }
            },
            "type": "scattermapbox"
           }
          ],
          "scatterpolar": [
           {
            "marker": {
             "colorbar": {
              "outlinewidth": 0,
              "ticks": ""
             }
            },
            "type": "scatterpolar"
           }
          ],
          "scatterpolargl": [
           {
            "marker": {
             "colorbar": {
              "outlinewidth": 0,
              "ticks": ""
             }
            },
            "type": "scatterpolargl"
           }
          ],
          "scatterternary": [
           {
            "marker": {
             "colorbar": {
              "outlinewidth": 0,
              "ticks": ""
             }
            },
            "type": "scatterternary"
           }
          ],
          "surface": [
           {
            "colorbar": {
             "outlinewidth": 0,
             "ticks": ""
            },
            "colorscale": [
             [
              0,
              "#0d0887"
             ],
             [
              0.1111111111111111,
              "#46039f"
             ],
             [
              0.2222222222222222,
              "#7201a8"
             ],
             [
              0.3333333333333333,
              "#9c179e"
             ],
             [
              0.4444444444444444,
              "#bd3786"
             ],
             [
              0.5555555555555556,
              "#d8576b"
             ],
             [
              0.6666666666666666,
              "#ed7953"
             ],
             [
              0.7777777777777778,
              "#fb9f3a"
             ],
             [
              0.8888888888888888,
              "#fdca26"
             ],
             [
              1,
              "#f0f921"
             ]
            ],
            "type": "surface"
           }
          ],
          "table": [
           {
            "cells": {
             "fill": {
              "color": "#EBF0F8"
             },
             "line": {
              "color": "white"
             }
            },
            "header": {
             "fill": {
              "color": "#C8D4E3"
             },
             "line": {
              "color": "white"
             }
            },
            "type": "table"
           }
          ]
         },
         "layout": {
          "annotationdefaults": {
           "arrowcolor": "#2a3f5f",
           "arrowhead": 0,
           "arrowwidth": 1
          },
          "autotypenumbers": "strict",
          "coloraxis": {
           "colorbar": {
            "outlinewidth": 0,
            "ticks": ""
           }
          },
          "colorscale": {
           "diverging": [
            [
             0,
             "#8e0152"
            ],
            [
             0.1,
             "#c51b7d"
            ],
            [
             0.2,
             "#de77ae"
            ],
            [
             0.3,
             "#f1b6da"
            ],
            [
             0.4,
             "#fde0ef"
            ],
            [
             0.5,
             "#f7f7f7"
            ],
            [
             0.6,
             "#e6f5d0"
            ],
            [
             0.7,
             "#b8e186"
            ],
            [
             0.8,
             "#7fbc41"
            ],
            [
             0.9,
             "#4d9221"
            ],
            [
             1,
             "#276419"
            ]
           ],
           "sequential": [
            [
             0,
             "#0d0887"
            ],
            [
             0.1111111111111111,
             "#46039f"
            ],
            [
             0.2222222222222222,
             "#7201a8"
            ],
            [
             0.3333333333333333,
             "#9c179e"
            ],
            [
             0.4444444444444444,
             "#bd3786"
            ],
            [
             0.5555555555555556,
             "#d8576b"
            ],
            [
             0.6666666666666666,
             "#ed7953"
            ],
            [
             0.7777777777777778,
             "#fb9f3a"
            ],
            [
             0.8888888888888888,
             "#fdca26"
            ],
            [
             1,
             "#f0f921"
            ]
           ],
           "sequentialminus": [
            [
             0,
             "#0d0887"
            ],
            [
             0.1111111111111111,
             "#46039f"
            ],
            [
             0.2222222222222222,
             "#7201a8"
            ],
            [
             0.3333333333333333,
             "#9c179e"
            ],
            [
             0.4444444444444444,
             "#bd3786"
            ],
            [
             0.5555555555555556,
             "#d8576b"
            ],
            [
             0.6666666666666666,
             "#ed7953"
            ],
            [
             0.7777777777777778,
             "#fb9f3a"
            ],
            [
             0.8888888888888888,
             "#fdca26"
            ],
            [
             1,
             "#f0f921"
            ]
           ]
          },
          "colorway": [
           "#636efa",
           "#EF553B",
           "#00cc96",
           "#ab63fa",
           "#FFA15A",
           "#19d3f3",
           "#FF6692",
           "#B6E880",
           "#FF97FF",
           "#FECB52"
          ],
          "font": {
           "color": "#2a3f5f"
          },
          "geo": {
           "bgcolor": "white",
           "lakecolor": "white",
           "landcolor": "#E5ECF6",
           "showlakes": true,
           "showland": true,
           "subunitcolor": "white"
          },
          "hoverlabel": {
           "align": "left"
          },
          "hovermode": "closest",
          "mapbox": {
           "style": "light"
          },
          "paper_bgcolor": "white",
          "plot_bgcolor": "#E5ECF6",
          "polar": {
           "angularaxis": {
            "gridcolor": "white",
            "linecolor": "white",
            "ticks": ""
           },
           "bgcolor": "#E5ECF6",
           "radialaxis": {
            "gridcolor": "white",
            "linecolor": "white",
            "ticks": ""
           }
          },
          "scene": {
           "xaxis": {
            "backgroundcolor": "#E5ECF6",
            "gridcolor": "white",
            "gridwidth": 2,
            "linecolor": "white",
            "showbackground": true,
            "ticks": "",
            "zerolinecolor": "white"
           },
           "yaxis": {
            "backgroundcolor": "#E5ECF6",
            "gridcolor": "white",
            "gridwidth": 2,
            "linecolor": "white",
            "showbackground": true,
            "ticks": "",
            "zerolinecolor": "white"
           },
           "zaxis": {
            "backgroundcolor": "#E5ECF6",
            "gridcolor": "white",
            "gridwidth": 2,
            "linecolor": "white",
            "showbackground": true,
            "ticks": "",
            "zerolinecolor": "white"
           }
          },
          "shapedefaults": {
           "line": {
            "color": "#2a3f5f"
           }
          },
          "ternary": {
           "aaxis": {
            "gridcolor": "white",
            "linecolor": "white",
            "ticks": ""
           },
           "baxis": {
            "gridcolor": "white",
            "linecolor": "white",
            "ticks": ""
           },
           "bgcolor": "#E5ECF6",
           "caxis": {
            "gridcolor": "white",
            "linecolor": "white",
            "ticks": ""
           }
          },
          "title": {
           "x": 0.05
          },
          "xaxis": {
           "automargin": true,
           "gridcolor": "white",
           "linecolor": "white",
           "ticks": "",
           "title": {
            "standoff": 15
           },
           "zerolinecolor": "white",
           "zerolinewidth": 2
          },
          "yaxis": {
           "automargin": true,
           "gridcolor": "white",
           "linecolor": "white",
           "ticks": "",
           "title": {
            "standoff": 15
           },
           "zerolinecolor": "white",
           "zerolinewidth": 2
          }
         }
        },
        "title": {
         "text": "Logit Difference From Each Layer"
        },
        "width": 800,
        "xaxis": {
         "anchor": "y",
         "domain": [
          0,
          1
         ],
         "tickmode": "array",
         "ticktext": [
          "0_mlp_out",
          "1_mlp_out",
          "2_mlp_out",
          "3_mlp_out",
          "4_mlp_out",
          "5_mlp_out",
          "6_mlp_out",
          "7_mlp_out",
          "8_mlp_out",
          "9_mlp_out",
          "10_mlp_out",
          "11_mlp_out",
          "12_mlp_out",
          "13_mlp_out",
          "14_mlp_out",
          "15_mlp_out",
          "16_mlp_out",
          "17_mlp_out",
          "18_mlp_out",
          "19_mlp_out",
          "20_mlp_out",
          "21_mlp_out",
          "22_mlp_out",
          "23_mlp_out"
         ],
         "tickvals": [
          0,
          1,
          2,
          3,
          4,
          5,
          6,
          7,
          8,
          9,
          10,
          11,
          12,
          13,
          14,
          15,
          16,
          17,
          18,
          19,
          20,
          21,
          22,
          23
         ],
         "title": {
          "text": "Layer"
         }
        },
        "yaxis": {
         "anchor": "x",
         "domain": [
          0,
          1
         ],
         "title": {
          "text": "Logit Diff"
         }
        }
       }
      },
      "text/html": [
       "<div>                            <div id=\"b0e3c9c4-8214-4058-b553-282c1dc68c38\" class=\"plotly-graph-div\" style=\"height:525px; width:800px;\"></div>            <script type=\"text/javascript\">                require([\"plotly\"], function(Plotly) {                    window.PLOTLYENV=window.PLOTLYENV || {};                                    if (document.getElementById(\"b0e3c9c4-8214-4058-b553-282c1dc68c38\")) {                    Plotly.newPlot(                        \"b0e3c9c4-8214-4058-b553-282c1dc68c38\",                        [{\"hovertemplate\":\"Layer=%{x}\\u003cbr\\u003eLogit Diff=%{y}\\u003cextra\\u003e\\u003c\\u002fextra\\u003e\",\"legendgroup\":\"\",\"line\":{\"color\":\"#636efa\",\"dash\":\"solid\"},\"marker\":{\"symbol\":\"circle\"},\"mode\":\"lines\",\"name\":\"\",\"orientation\":\"v\",\"showlegend\":false,\"x\":[0,1,2,3,4,5,6,7,8,9,10,11,12,13,14,15,16,17,18,19,20,21,22,23],\"xaxis\":\"x\",\"y\":[-0.009687332436442375,0.00622131209820509,-0.002110900590196252,0.00970496330410242,0.0027390215545892715,-0.0015201075002551079,-0.0003924944903701544,-0.001377774402499199,0.004142753779888153,-0.0012224293313920498,-0.029878227040171623,0.02412443608045578,0.013119390234351158,-0.08826790004968643,-0.056410834193229675,0.0021237730979919434,-0.018830306828022003,-0.04067607969045639,0.05551938712596893,-0.3820100426673889,-0.06776850670576096,-0.05224838852882385,-0.24938954412937164,0.07327127456665039],\"yaxis\":\"y\",\"type\":\"scatter\"}],                        {\"template\":{\"data\":{\"histogram2dcontour\":[{\"type\":\"histogram2dcontour\",\"colorbar\":{\"outlinewidth\":0,\"ticks\":\"\"},\"colorscale\":[[0.0,\"#0d0887\"],[0.1111111111111111,\"#46039f\"],[0.2222222222222222,\"#7201a8\"],[0.3333333333333333,\"#9c179e\"],[0.4444444444444444,\"#bd3786\"],[0.5555555555555556,\"#d8576b\"],[0.6666666666666666,\"#ed7953\"],[0.7777777777777778,\"#fb9f3a\"],[0.8888888888888888,\"#fdca26\"],[1.0,\"#f0f921\"]]}],\"choropleth\":[{\"type\":\"choropleth\",\"colorbar\":{\"outlinewidth\":0,\"ticks\":\"\"}}],\"histogram2d\":[{\"type\":\"histogram2d\",\"colorbar\":{\"outlinewidth\":0,\"ticks\":\"\"},\"colorscale\":[[0.0,\"#0d0887\"],[0.1111111111111111,\"#46039f\"],[0.2222222222222222,\"#7201a8\"],[0.3333333333333333,\"#9c179e\"],[0.4444444444444444,\"#bd3786\"],[0.5555555555555556,\"#d8576b\"],[0.6666666666666666,\"#ed7953\"],[0.7777777777777778,\"#fb9f3a\"],[0.8888888888888888,\"#fdca26\"],[1.0,\"#f0f921\"]]}],\"heatmap\":[{\"type\":\"heatmap\",\"colorbar\":{\"outlinewidth\":0,\"ticks\":\"\"},\"colorscale\":[[0.0,\"#0d0887\"],[0.1111111111111111,\"#46039f\"],[0.2222222222222222,\"#7201a8\"],[0.3333333333333333,\"#9c179e\"],[0.4444444444444444,\"#bd3786\"],[0.5555555555555556,\"#d8576b\"],[0.6666666666666666,\"#ed7953\"],[0.7777777777777778,\"#fb9f3a\"],[0.8888888888888888,\"#fdca26\"],[1.0,\"#f0f921\"]]}],\"heatmapgl\":[{\"type\":\"heatmapgl\",\"colorbar\":{\"outlinewidth\":0,\"ticks\":\"\"},\"colorscale\":[[0.0,\"#0d0887\"],[0.1111111111111111,\"#46039f\"],[0.2222222222222222,\"#7201a8\"],[0.3333333333333333,\"#9c179e\"],[0.4444444444444444,\"#bd3786\"],[0.5555555555555556,\"#d8576b\"],[0.6666666666666666,\"#ed7953\"],[0.7777777777777778,\"#fb9f3a\"],[0.8888888888888888,\"#fdca26\"],[1.0,\"#f0f921\"]]}],\"contourcarpet\":[{\"type\":\"contourcarpet\",\"colorbar\":{\"outlinewidth\":0,\"ticks\":\"\"}}],\"contour\":[{\"type\":\"contour\",\"colorbar\":{\"outlinewidth\":0,\"ticks\":\"\"},\"colorscale\":[[0.0,\"#0d0887\"],[0.1111111111111111,\"#46039f\"],[0.2222222222222222,\"#7201a8\"],[0.3333333333333333,\"#9c179e\"],[0.4444444444444444,\"#bd3786\"],[0.5555555555555556,\"#d8576b\"],[0.6666666666666666,\"#ed7953\"],[0.7777777777777778,\"#fb9f3a\"],[0.8888888888888888,\"#fdca26\"],[1.0,\"#f0f921\"]]}],\"surface\":[{\"type\":\"surface\",\"colorbar\":{\"outlinewidth\":0,\"ticks\":\"\"},\"colorscale\":[[0.0,\"#0d0887\"],[0.1111111111111111,\"#46039f\"],[0.2222222222222222,\"#7201a8\"],[0.3333333333333333,\"#9c179e\"],[0.4444444444444444,\"#bd3786\"],[0.5555555555555556,\"#d8576b\"],[0.6666666666666666,\"#ed7953\"],[0.7777777777777778,\"#fb9f3a\"],[0.8888888888888888,\"#fdca26\"],[1.0,\"#f0f921\"]]}],\"mesh3d\":[{\"type\":\"mesh3d\",\"colorbar\":{\"outlinewidth\":0,\"ticks\":\"\"}}],\"scatter\":[{\"fillpattern\":{\"fillmode\":\"overlay\",\"size\":10,\"solidity\":0.2},\"type\":\"scatter\"}],\"parcoords\":[{\"type\":\"parcoords\",\"line\":{\"colorbar\":{\"outlinewidth\":0,\"ticks\":\"\"}}}],\"scatterpolargl\":[{\"type\":\"scatterpolargl\",\"marker\":{\"colorbar\":{\"outlinewidth\":0,\"ticks\":\"\"}}}],\"bar\":[{\"error_x\":{\"color\":\"#2a3f5f\"},\"error_y\":{\"color\":\"#2a3f5f\"},\"marker\":{\"line\":{\"color\":\"#E5ECF6\",\"width\":0.5},\"pattern\":{\"fillmode\":\"overlay\",\"size\":10,\"solidity\":0.2}},\"type\":\"bar\"}],\"scattergeo\":[{\"type\":\"scattergeo\",\"marker\":{\"colorbar\":{\"outlinewidth\":0,\"ticks\":\"\"}}}],\"scatterpolar\":[{\"type\":\"scatterpolar\",\"marker\":{\"colorbar\":{\"outlinewidth\":0,\"ticks\":\"\"}}}],\"histogram\":[{\"marker\":{\"pattern\":{\"fillmode\":\"overlay\",\"size\":10,\"solidity\":0.2}},\"type\":\"histogram\"}],\"scattergl\":[{\"type\":\"scattergl\",\"marker\":{\"colorbar\":{\"outlinewidth\":0,\"ticks\":\"\"}}}],\"scatter3d\":[{\"type\":\"scatter3d\",\"line\":{\"colorbar\":{\"outlinewidth\":0,\"ticks\":\"\"}},\"marker\":{\"colorbar\":{\"outlinewidth\":0,\"ticks\":\"\"}}}],\"scattermapbox\":[{\"type\":\"scattermapbox\",\"marker\":{\"colorbar\":{\"outlinewidth\":0,\"ticks\":\"\"}}}],\"scatterternary\":[{\"type\":\"scatterternary\",\"marker\":{\"colorbar\":{\"outlinewidth\":0,\"ticks\":\"\"}}}],\"scattercarpet\":[{\"type\":\"scattercarpet\",\"marker\":{\"colorbar\":{\"outlinewidth\":0,\"ticks\":\"\"}}}],\"carpet\":[{\"aaxis\":{\"endlinecolor\":\"#2a3f5f\",\"gridcolor\":\"white\",\"linecolor\":\"white\",\"minorgridcolor\":\"white\",\"startlinecolor\":\"#2a3f5f\"},\"baxis\":{\"endlinecolor\":\"#2a3f5f\",\"gridcolor\":\"white\",\"linecolor\":\"white\",\"minorgridcolor\":\"white\",\"startlinecolor\":\"#2a3f5f\"},\"type\":\"carpet\"}],\"table\":[{\"cells\":{\"fill\":{\"color\":\"#EBF0F8\"},\"line\":{\"color\":\"white\"}},\"header\":{\"fill\":{\"color\":\"#C8D4E3\"},\"line\":{\"color\":\"white\"}},\"type\":\"table\"}],\"barpolar\":[{\"marker\":{\"line\":{\"color\":\"#E5ECF6\",\"width\":0.5},\"pattern\":{\"fillmode\":\"overlay\",\"size\":10,\"solidity\":0.2}},\"type\":\"barpolar\"}],\"pie\":[{\"automargin\":true,\"type\":\"pie\"}]},\"layout\":{\"autotypenumbers\":\"strict\",\"colorway\":[\"#636efa\",\"#EF553B\",\"#00cc96\",\"#ab63fa\",\"#FFA15A\",\"#19d3f3\",\"#FF6692\",\"#B6E880\",\"#FF97FF\",\"#FECB52\"],\"font\":{\"color\":\"#2a3f5f\"},\"hovermode\":\"closest\",\"hoverlabel\":{\"align\":\"left\"},\"paper_bgcolor\":\"white\",\"plot_bgcolor\":\"#E5ECF6\",\"polar\":{\"bgcolor\":\"#E5ECF6\",\"angularaxis\":{\"gridcolor\":\"white\",\"linecolor\":\"white\",\"ticks\":\"\"},\"radialaxis\":{\"gridcolor\":\"white\",\"linecolor\":\"white\",\"ticks\":\"\"}},\"ternary\":{\"bgcolor\":\"#E5ECF6\",\"aaxis\":{\"gridcolor\":\"white\",\"linecolor\":\"white\",\"ticks\":\"\"},\"baxis\":{\"gridcolor\":\"white\",\"linecolor\":\"white\",\"ticks\":\"\"},\"caxis\":{\"gridcolor\":\"white\",\"linecolor\":\"white\",\"ticks\":\"\"}},\"coloraxis\":{\"colorbar\":{\"outlinewidth\":0,\"ticks\":\"\"}},\"colorscale\":{\"sequential\":[[0.0,\"#0d0887\"],[0.1111111111111111,\"#46039f\"],[0.2222222222222222,\"#7201a8\"],[0.3333333333333333,\"#9c179e\"],[0.4444444444444444,\"#bd3786\"],[0.5555555555555556,\"#d8576b\"],[0.6666666666666666,\"#ed7953\"],[0.7777777777777778,\"#fb9f3a\"],[0.8888888888888888,\"#fdca26\"],[1.0,\"#f0f921\"]],\"sequentialminus\":[[0.0,\"#0d0887\"],[0.1111111111111111,\"#46039f\"],[0.2222222222222222,\"#7201a8\"],[0.3333333333333333,\"#9c179e\"],[0.4444444444444444,\"#bd3786\"],[0.5555555555555556,\"#d8576b\"],[0.6666666666666666,\"#ed7953\"],[0.7777777777777778,\"#fb9f3a\"],[0.8888888888888888,\"#fdca26\"],[1.0,\"#f0f921\"]],\"diverging\":[[0,\"#8e0152\"],[0.1,\"#c51b7d\"],[0.2,\"#de77ae\"],[0.3,\"#f1b6da\"],[0.4,\"#fde0ef\"],[0.5,\"#f7f7f7\"],[0.6,\"#e6f5d0\"],[0.7,\"#b8e186\"],[0.8,\"#7fbc41\"],[0.9,\"#4d9221\"],[1,\"#276419\"]]},\"xaxis\":{\"gridcolor\":\"white\",\"linecolor\":\"white\",\"ticks\":\"\",\"title\":{\"standoff\":15},\"zerolinecolor\":\"white\",\"automargin\":true,\"zerolinewidth\":2},\"yaxis\":{\"gridcolor\":\"white\",\"linecolor\":\"white\",\"ticks\":\"\",\"title\":{\"standoff\":15},\"zerolinecolor\":\"white\",\"automargin\":true,\"zerolinewidth\":2},\"scene\":{\"xaxis\":{\"backgroundcolor\":\"#E5ECF6\",\"gridcolor\":\"white\",\"linecolor\":\"white\",\"showbackground\":true,\"ticks\":\"\",\"zerolinecolor\":\"white\",\"gridwidth\":2},\"yaxis\":{\"backgroundcolor\":\"#E5ECF6\",\"gridcolor\":\"white\",\"linecolor\":\"white\",\"showbackground\":true,\"ticks\":\"\",\"zerolinecolor\":\"white\",\"gridwidth\":2},\"zaxis\":{\"backgroundcolor\":\"#E5ECF6\",\"gridcolor\":\"white\",\"linecolor\":\"white\",\"showbackground\":true,\"ticks\":\"\",\"zerolinecolor\":\"white\",\"gridwidth\":2}},\"shapedefaults\":{\"line\":{\"color\":\"#2a3f5f\"}},\"annotationdefaults\":{\"arrowcolor\":\"#2a3f5f\",\"arrowhead\":0,\"arrowwidth\":1},\"geo\":{\"bgcolor\":\"white\",\"landcolor\":\"#E5ECF6\",\"subunitcolor\":\"white\",\"showland\":true,\"showlakes\":true,\"lakecolor\":\"white\"},\"title\":{\"x\":0.05},\"mapbox\":{\"style\":\"light\"}}},\"xaxis\":{\"anchor\":\"y\",\"domain\":[0.0,1.0],\"title\":{\"text\":\"Layer\"},\"tickmode\":\"array\",\"tickvals\":[0,1,2,3,4,5,6,7,8,9,10,11,12,13,14,15,16,17,18,19,20,21,22,23],\"ticktext\":[\"0_mlp_out\",\"1_mlp_out\",\"2_mlp_out\",\"3_mlp_out\",\"4_mlp_out\",\"5_mlp_out\",\"6_mlp_out\",\"7_mlp_out\",\"8_mlp_out\",\"9_mlp_out\",\"10_mlp_out\",\"11_mlp_out\",\"12_mlp_out\",\"13_mlp_out\",\"14_mlp_out\",\"15_mlp_out\",\"16_mlp_out\",\"17_mlp_out\",\"18_mlp_out\",\"19_mlp_out\",\"20_mlp_out\",\"21_mlp_out\",\"22_mlp_out\",\"23_mlp_out\"]},\"yaxis\":{\"anchor\":\"x\",\"domain\":[0.0,1.0],\"title\":{\"text\":\"Logit Diff\"}},\"legend\":{\"tracegroupgap\":0},\"title\":{\"text\":\"Logit Difference From Each Layer\"},\"width\":800,\"hovermode\":\"x unified\"},                        {\"responsive\": true}                    ).then(function(){\n",
       "                            \n",
       "var gd = document.getElementById('b0e3c9c4-8214-4058-b553-282c1dc68c38');\n",
       "var x = new MutationObserver(function (mutations, observer) {{\n",
       "        var display = window.getComputedStyle(gd).display;\n",
       "        if (!display || display === 'none') {{\n",
       "            console.log([gd, 'removed!']);\n",
       "            Plotly.purge(gd);\n",
       "            observer.disconnect();\n",
       "        }}\n",
       "}});\n",
       "\n",
       "// Listen for the removal of the full notebook cells\n",
       "var notebookContainer = gd.closest('#notebook-container');\n",
       "if (notebookContainer) {{\n",
       "    x.observe(notebookContainer, {childList: true});\n",
       "}}\n",
       "\n",
       "// Listen for the clearing of the current output cell\n",
       "var outputEl = gd.closest('.output');\n",
       "if (outputEl) {{\n",
       "    x.observe(outputEl, {childList: true});\n",
       "}}\n",
       "\n",
       "                        })                };                });            </script>        </div>"
      ]
     },
     "metadata": {},
     "output_type": "display_data"
    }
   ],
   "source": [
    "line(\n",
    "    per_layer_logit_diffs[2::2],\n",
    "    hovermode=\"x unified\",\n",
    "    title=\"Logit Difference From Each Layer\",\n",
    "    labels={\"x\": \"Layer\", \"y\": \"Logit Diff\"},\n",
    "    xaxis_tickvals=labels[2::2],\n",
    "    width=800\n",
    ")"
   ]
  },
  {
   "cell_type": "code",
   "execution_count": 30,
   "metadata": {},
   "outputs": [
    {
     "data": {
      "application/vnd.plotly.v1+json": {
       "config": {
        "plotlyServerURL": "https://plot.ly"
       },
       "data": [
        {
         "hovertemplate": "variable=wide_variable_0<br>index=%{x}<br>value=%{y}<extra></extra>",
         "legendgroup": "wide_variable_0",
         "line": {
          "color": "#636efa",
          "dash": "solid"
         },
         "marker": {
          "symbol": "circle"
         },
         "mode": "lines",
         "name": "wide_variable_0",
         "orientation": "v",
         "showlegend": true,
         "type": "scatter",
         "x": [
          0,
          1,
          2,
          3,
          4,
          5,
          6,
          7,
          8,
          9,
          10,
          11,
          12,
          13,
          14,
          15,
          16,
          17,
          18,
          19,
          20,
          21,
          22,
          23
         ],
         "xaxis": "x",
         "y": [
          -0.009687332436442375,
          0.00622131209820509,
          -0.002110900590196252,
          0.00970496330410242,
          0.0027390215545892715,
          -0.0015201075002551079,
          -0.0003924944903701544,
          -0.001377774402499199,
          0.004142753779888153,
          -0.0012224293313920498,
          -0.029878227040171623,
          0.02412443608045578,
          0.013119390234351158,
          -0.08826790004968643,
          -0.056410834193229675,
          0.0021237730979919434,
          -0.018830306828022003,
          -0.04067607969045639,
          0.05551938712596893,
          -0.3820100426673889,
          -0.06776850670576096,
          -0.05224838852882385,
          -0.24938954412937164,
          0.07327127456665039
         ],
         "yaxis": "y"
        },
        {
         "hovertemplate": "variable=wide_variable_1<br>index=%{x}<br>value=%{y}<extra></extra>",
         "legendgroup": "wide_variable_1",
         "line": {
          "color": "#EF553B",
          "dash": "solid"
         },
         "marker": {
          "symbol": "circle"
         },
         "mode": "lines",
         "name": "wide_variable_1",
         "orientation": "v",
         "showlegend": true,
         "type": "scatter",
         "x": [
          0,
          1,
          2,
          3,
          4,
          5,
          6,
          7,
          8,
          9,
          10,
          11,
          12,
          13,
          14,
          15,
          16,
          17,
          18,
          19,
          20,
          21,
          22,
          23
         ],
         "xaxis": "x",
         "y": [
          -0.006082920357584953,
          0.008184409700334072,
          -0.0049677882343530655,
          -0.001497848192229867,
          0.003416846739128232,
          -0.003032623091712594,
          -0.007624696474522352,
          0.0015055597759783268,
          -0.006040805019438267,
          0.02490769326686859,
          -0.03933900594711304,
          1.519310712814331,
          -0.03453582897782326,
          0.6768364906311035,
          -0.4181147813796997,
          0.2850630283355713,
          0.4890134632587433,
          0.9747521877288818,
          2.8799517154693604,
          -0.8887092471122742,
          -0.44417479634284973,
          0.48710158467292786,
          0.11294791847467422,
          0.0018552163382992148
         ],
         "yaxis": "y"
        }
       ],
       "layout": {
        "hovermode": "x unified",
        "legend": {
         "title": {
          "text": "variable"
         },
         "tracegroupgap": 0
        },
        "template": {
         "data": {
          "bar": [
           {
            "error_x": {
             "color": "#2a3f5f"
            },
            "error_y": {
             "color": "#2a3f5f"
            },
            "marker": {
             "line": {
              "color": "#E5ECF6",
              "width": 0.5
             },
             "pattern": {
              "fillmode": "overlay",
              "size": 10,
              "solidity": 0.2
             }
            },
            "type": "bar"
           }
          ],
          "barpolar": [
           {
            "marker": {
             "line": {
              "color": "#E5ECF6",
              "width": 0.5
             },
             "pattern": {
              "fillmode": "overlay",
              "size": 10,
              "solidity": 0.2
             }
            },
            "type": "barpolar"
           }
          ],
          "carpet": [
           {
            "aaxis": {
             "endlinecolor": "#2a3f5f",
             "gridcolor": "white",
             "linecolor": "white",
             "minorgridcolor": "white",
             "startlinecolor": "#2a3f5f"
            },
            "baxis": {
             "endlinecolor": "#2a3f5f",
             "gridcolor": "white",
             "linecolor": "white",
             "minorgridcolor": "white",
             "startlinecolor": "#2a3f5f"
            },
            "type": "carpet"
           }
          ],
          "choropleth": [
           {
            "colorbar": {
             "outlinewidth": 0,
             "ticks": ""
            },
            "type": "choropleth"
           }
          ],
          "contour": [
           {
            "colorbar": {
             "outlinewidth": 0,
             "ticks": ""
            },
            "colorscale": [
             [
              0,
              "#0d0887"
             ],
             [
              0.1111111111111111,
              "#46039f"
             ],
             [
              0.2222222222222222,
              "#7201a8"
             ],
             [
              0.3333333333333333,
              "#9c179e"
             ],
             [
              0.4444444444444444,
              "#bd3786"
             ],
             [
              0.5555555555555556,
              "#d8576b"
             ],
             [
              0.6666666666666666,
              "#ed7953"
             ],
             [
              0.7777777777777778,
              "#fb9f3a"
             ],
             [
              0.8888888888888888,
              "#fdca26"
             ],
             [
              1,
              "#f0f921"
             ]
            ],
            "type": "contour"
           }
          ],
          "contourcarpet": [
           {
            "colorbar": {
             "outlinewidth": 0,
             "ticks": ""
            },
            "type": "contourcarpet"
           }
          ],
          "heatmap": [
           {
            "colorbar": {
             "outlinewidth": 0,
             "ticks": ""
            },
            "colorscale": [
             [
              0,
              "#0d0887"
             ],
             [
              0.1111111111111111,
              "#46039f"
             ],
             [
              0.2222222222222222,
              "#7201a8"
             ],
             [
              0.3333333333333333,
              "#9c179e"
             ],
             [
              0.4444444444444444,
              "#bd3786"
             ],
             [
              0.5555555555555556,
              "#d8576b"
             ],
             [
              0.6666666666666666,
              "#ed7953"
             ],
             [
              0.7777777777777778,
              "#fb9f3a"
             ],
             [
              0.8888888888888888,
              "#fdca26"
             ],
             [
              1,
              "#f0f921"
             ]
            ],
            "type": "heatmap"
           }
          ],
          "heatmapgl": [
           {
            "colorbar": {
             "outlinewidth": 0,
             "ticks": ""
            },
            "colorscale": [
             [
              0,
              "#0d0887"
             ],
             [
              0.1111111111111111,
              "#46039f"
             ],
             [
              0.2222222222222222,
              "#7201a8"
             ],
             [
              0.3333333333333333,
              "#9c179e"
             ],
             [
              0.4444444444444444,
              "#bd3786"
             ],
             [
              0.5555555555555556,
              "#d8576b"
             ],
             [
              0.6666666666666666,
              "#ed7953"
             ],
             [
              0.7777777777777778,
              "#fb9f3a"
             ],
             [
              0.8888888888888888,
              "#fdca26"
             ],
             [
              1,
              "#f0f921"
             ]
            ],
            "type": "heatmapgl"
           }
          ],
          "histogram": [
           {
            "marker": {
             "pattern": {
              "fillmode": "overlay",
              "size": 10,
              "solidity": 0.2
             }
            },
            "type": "histogram"
           }
          ],
          "histogram2d": [
           {
            "colorbar": {
             "outlinewidth": 0,
             "ticks": ""
            },
            "colorscale": [
             [
              0,
              "#0d0887"
             ],
             [
              0.1111111111111111,
              "#46039f"
             ],
             [
              0.2222222222222222,
              "#7201a8"
             ],
             [
              0.3333333333333333,
              "#9c179e"
             ],
             [
              0.4444444444444444,
              "#bd3786"
             ],
             [
              0.5555555555555556,
              "#d8576b"
             ],
             [
              0.6666666666666666,
              "#ed7953"
             ],
             [
              0.7777777777777778,
              "#fb9f3a"
             ],
             [
              0.8888888888888888,
              "#fdca26"
             ],
             [
              1,
              "#f0f921"
             ]
            ],
            "type": "histogram2d"
           }
          ],
          "histogram2dcontour": [
           {
            "colorbar": {
             "outlinewidth": 0,
             "ticks": ""
            },
            "colorscale": [
             [
              0,
              "#0d0887"
             ],
             [
              0.1111111111111111,
              "#46039f"
             ],
             [
              0.2222222222222222,
              "#7201a8"
             ],
             [
              0.3333333333333333,
              "#9c179e"
             ],
             [
              0.4444444444444444,
              "#bd3786"
             ],
             [
              0.5555555555555556,
              "#d8576b"
             ],
             [
              0.6666666666666666,
              "#ed7953"
             ],
             [
              0.7777777777777778,
              "#fb9f3a"
             ],
             [
              0.8888888888888888,
              "#fdca26"
             ],
             [
              1,
              "#f0f921"
             ]
            ],
            "type": "histogram2dcontour"
           }
          ],
          "mesh3d": [
           {
            "colorbar": {
             "outlinewidth": 0,
             "ticks": ""
            },
            "type": "mesh3d"
           }
          ],
          "parcoords": [
           {
            "line": {
             "colorbar": {
              "outlinewidth": 0,
              "ticks": ""
             }
            },
            "type": "parcoords"
           }
          ],
          "pie": [
           {
            "automargin": true,
            "type": "pie"
           }
          ],
          "scatter": [
           {
            "fillpattern": {
             "fillmode": "overlay",
             "size": 10,
             "solidity": 0.2
            },
            "type": "scatter"
           }
          ],
          "scatter3d": [
           {
            "line": {
             "colorbar": {
              "outlinewidth": 0,
              "ticks": ""
             }
            },
            "marker": {
             "colorbar": {
              "outlinewidth": 0,
              "ticks": ""
             }
            },
            "type": "scatter3d"
           }
          ],
          "scattercarpet": [
           {
            "marker": {
             "colorbar": {
              "outlinewidth": 0,
              "ticks": ""
             }
            },
            "type": "scattercarpet"
           }
          ],
          "scattergeo": [
           {
            "marker": {
             "colorbar": {
              "outlinewidth": 0,
              "ticks": ""
             }
            },
            "type": "scattergeo"
           }
          ],
          "scattergl": [
           {
            "marker": {
             "colorbar": {
              "outlinewidth": 0,
              "ticks": ""
             }
            },
            "type": "scattergl"
           }
          ],
          "scattermapbox": [
           {
            "marker": {
             "colorbar": {
              "outlinewidth": 0,
              "ticks": ""
             }
            },
            "type": "scattermapbox"
           }
          ],
          "scatterpolar": [
           {
            "marker": {
             "colorbar": {
              "outlinewidth": 0,
              "ticks": ""
             }
            },
            "type": "scatterpolar"
           }
          ],
          "scatterpolargl": [
           {
            "marker": {
             "colorbar": {
              "outlinewidth": 0,
              "ticks": ""
             }
            },
            "type": "scatterpolargl"
           }
          ],
          "scatterternary": [
           {
            "marker": {
             "colorbar": {
              "outlinewidth": 0,
              "ticks": ""
             }
            },
            "type": "scatterternary"
           }
          ],
          "surface": [
           {
            "colorbar": {
             "outlinewidth": 0,
             "ticks": ""
            },
            "colorscale": [
             [
              0,
              "#0d0887"
             ],
             [
              0.1111111111111111,
              "#46039f"
             ],
             [
              0.2222222222222222,
              "#7201a8"
             ],
             [
              0.3333333333333333,
              "#9c179e"
             ],
             [
              0.4444444444444444,
              "#bd3786"
             ],
             [
              0.5555555555555556,
              "#d8576b"
             ],
             [
              0.6666666666666666,
              "#ed7953"
             ],
             [
              0.7777777777777778,
              "#fb9f3a"
             ],
             [
              0.8888888888888888,
              "#fdca26"
             ],
             [
              1,
              "#f0f921"
             ]
            ],
            "type": "surface"
           }
          ],
          "table": [
           {
            "cells": {
             "fill": {
              "color": "#EBF0F8"
             },
             "line": {
              "color": "white"
             }
            },
            "header": {
             "fill": {
              "color": "#C8D4E3"
             },
             "line": {
              "color": "white"
             }
            },
            "type": "table"
           }
          ]
         },
         "layout": {
          "annotationdefaults": {
           "arrowcolor": "#2a3f5f",
           "arrowhead": 0,
           "arrowwidth": 1
          },
          "autotypenumbers": "strict",
          "coloraxis": {
           "colorbar": {
            "outlinewidth": 0,
            "ticks": ""
           }
          },
          "colorscale": {
           "diverging": [
            [
             0,
             "#8e0152"
            ],
            [
             0.1,
             "#c51b7d"
            ],
            [
             0.2,
             "#de77ae"
            ],
            [
             0.3,
             "#f1b6da"
            ],
            [
             0.4,
             "#fde0ef"
            ],
            [
             0.5,
             "#f7f7f7"
            ],
            [
             0.6,
             "#e6f5d0"
            ],
            [
             0.7,
             "#b8e186"
            ],
            [
             0.8,
             "#7fbc41"
            ],
            [
             0.9,
             "#4d9221"
            ],
            [
             1,
             "#276419"
            ]
           ],
           "sequential": [
            [
             0,
             "#0d0887"
            ],
            [
             0.1111111111111111,
             "#46039f"
            ],
            [
             0.2222222222222222,
             "#7201a8"
            ],
            [
             0.3333333333333333,
             "#9c179e"
            ],
            [
             0.4444444444444444,
             "#bd3786"
            ],
            [
             0.5555555555555556,
             "#d8576b"
            ],
            [
             0.6666666666666666,
             "#ed7953"
            ],
            [
             0.7777777777777778,
             "#fb9f3a"
            ],
            [
             0.8888888888888888,
             "#fdca26"
            ],
            [
             1,
             "#f0f921"
            ]
           ],
           "sequentialminus": [
            [
             0,
             "#0d0887"
            ],
            [
             0.1111111111111111,
             "#46039f"
            ],
            [
             0.2222222222222222,
             "#7201a8"
            ],
            [
             0.3333333333333333,
             "#9c179e"
            ],
            [
             0.4444444444444444,
             "#bd3786"
            ],
            [
             0.5555555555555556,
             "#d8576b"
            ],
            [
             0.6666666666666666,
             "#ed7953"
            ],
            [
             0.7777777777777778,
             "#fb9f3a"
            ],
            [
             0.8888888888888888,
             "#fdca26"
            ],
            [
             1,
             "#f0f921"
            ]
           ]
          },
          "colorway": [
           "#636efa",
           "#EF553B",
           "#00cc96",
           "#ab63fa",
           "#FFA15A",
           "#19d3f3",
           "#FF6692",
           "#B6E880",
           "#FF97FF",
           "#FECB52"
          ],
          "font": {
           "color": "#2a3f5f"
          },
          "geo": {
           "bgcolor": "white",
           "lakecolor": "white",
           "landcolor": "#E5ECF6",
           "showlakes": true,
           "showland": true,
           "subunitcolor": "white"
          },
          "hoverlabel": {
           "align": "left"
          },
          "hovermode": "closest",
          "mapbox": {
           "style": "light"
          },
          "paper_bgcolor": "white",
          "plot_bgcolor": "#E5ECF6",
          "polar": {
           "angularaxis": {
            "gridcolor": "white",
            "linecolor": "white",
            "ticks": ""
           },
           "bgcolor": "#E5ECF6",
           "radialaxis": {
            "gridcolor": "white",
            "linecolor": "white",
            "ticks": ""
           }
          },
          "scene": {
           "xaxis": {
            "backgroundcolor": "#E5ECF6",
            "gridcolor": "white",
            "gridwidth": 2,
            "linecolor": "white",
            "showbackground": true,
            "ticks": "",
            "zerolinecolor": "white"
           },
           "yaxis": {
            "backgroundcolor": "#E5ECF6",
            "gridcolor": "white",
            "gridwidth": 2,
            "linecolor": "white",
            "showbackground": true,
            "ticks": "",
            "zerolinecolor": "white"
           },
           "zaxis": {
            "backgroundcolor": "#E5ECF6",
            "gridcolor": "white",
            "gridwidth": 2,
            "linecolor": "white",
            "showbackground": true,
            "ticks": "",
            "zerolinecolor": "white"
           }
          },
          "shapedefaults": {
           "line": {
            "color": "#2a3f5f"
           }
          },
          "ternary": {
           "aaxis": {
            "gridcolor": "white",
            "linecolor": "white",
            "ticks": ""
           },
           "baxis": {
            "gridcolor": "white",
            "linecolor": "white",
            "ticks": ""
           },
           "bgcolor": "#E5ECF6",
           "caxis": {
            "gridcolor": "white",
            "linecolor": "white",
            "ticks": ""
           }
          },
          "title": {
           "x": 0.05
          },
          "xaxis": {
           "automargin": true,
           "gridcolor": "white",
           "linecolor": "white",
           "ticks": "",
           "title": {
            "standoff": 15
           },
           "zerolinecolor": "white",
           "zerolinewidth": 2
          },
          "yaxis": {
           "automargin": true,
           "gridcolor": "white",
           "linecolor": "white",
           "ticks": "",
           "title": {
            "standoff": 15
           },
           "zerolinecolor": "white",
           "zerolinewidth": 2
          }
         }
        },
        "title": {
         "text": "Logit Difference From Each Layer"
        },
        "width": 800,
        "xaxis": {
         "anchor": "y",
         "domain": [
          0,
          1
         ],
         "tickmode": "array",
         "ticktext": [
          "0_mlp_out",
          "1_mlp_out",
          "2_mlp_out",
          "3_mlp_out",
          "4_mlp_out",
          "5_mlp_out",
          "6_mlp_out",
          "7_mlp_out",
          "8_mlp_out",
          "9_mlp_out",
          "10_mlp_out",
          "11_mlp_out",
          "12_mlp_out",
          "13_mlp_out",
          "14_mlp_out",
          "15_mlp_out",
          "16_mlp_out",
          "17_mlp_out",
          "18_mlp_out",
          "19_mlp_out",
          "20_mlp_out",
          "21_mlp_out",
          "22_mlp_out",
          "23_mlp_out"
         ],
         "tickvals": [
          0,
          1,
          2,
          3,
          4,
          5,
          6,
          7,
          8,
          9,
          10,
          11,
          12,
          13,
          14,
          15,
          16,
          17,
          18,
          19,
          20,
          21,
          22,
          23
         ],
         "title": {
          "text": "index"
         }
        },
        "yaxis": {
         "anchor": "x",
         "domain": [
          0,
          1
         ],
         "title": {
          "text": "value"
         }
        }
       }
      },
      "text/html": [
       "<div>                            <div id=\"5376bc17-fe22-4c3d-ac03-c42d5ad55347\" class=\"plotly-graph-div\" style=\"height:525px; width:800px;\"></div>            <script type=\"text/javascript\">                require([\"plotly\"], function(Plotly) {                    window.PLOTLYENV=window.PLOTLYENV || {};                                    if (document.getElementById(\"5376bc17-fe22-4c3d-ac03-c42d5ad55347\")) {                    Plotly.newPlot(                        \"5376bc17-fe22-4c3d-ac03-c42d5ad55347\",                        [{\"hovertemplate\":\"variable=wide_variable_0\\u003cbr\\u003eindex=%{x}\\u003cbr\\u003evalue=%{y}\\u003cextra\\u003e\\u003c\\u002fextra\\u003e\",\"legendgroup\":\"wide_variable_0\",\"line\":{\"color\":\"#636efa\",\"dash\":\"solid\"},\"marker\":{\"symbol\":\"circle\"},\"mode\":\"lines\",\"name\":\"wide_variable_0\",\"orientation\":\"v\",\"showlegend\":true,\"x\":[0,1,2,3,4,5,6,7,8,9,10,11,12,13,14,15,16,17,18,19,20,21,22,23],\"xaxis\":\"x\",\"y\":[-0.009687332436442375,0.00622131209820509,-0.002110900590196252,0.00970496330410242,0.0027390215545892715,-0.0015201075002551079,-0.0003924944903701544,-0.001377774402499199,0.004142753779888153,-0.0012224293313920498,-0.029878227040171623,0.02412443608045578,0.013119390234351158,-0.08826790004968643,-0.056410834193229675,0.0021237730979919434,-0.018830306828022003,-0.04067607969045639,0.05551938712596893,-0.3820100426673889,-0.06776850670576096,-0.05224838852882385,-0.24938954412937164,0.07327127456665039],\"yaxis\":\"y\",\"type\":\"scatter\"},{\"hovertemplate\":\"variable=wide_variable_1\\u003cbr\\u003eindex=%{x}\\u003cbr\\u003evalue=%{y}\\u003cextra\\u003e\\u003c\\u002fextra\\u003e\",\"legendgroup\":\"wide_variable_1\",\"line\":{\"color\":\"#EF553B\",\"dash\":\"solid\"},\"marker\":{\"symbol\":\"circle\"},\"mode\":\"lines\",\"name\":\"wide_variable_1\",\"orientation\":\"v\",\"showlegend\":true,\"x\":[0,1,2,3,4,5,6,7,8,9,10,11,12,13,14,15,16,17,18,19,20,21,22,23],\"xaxis\":\"x\",\"y\":[-0.006082920357584953,0.008184409700334072,-0.0049677882343530655,-0.001497848192229867,0.003416846739128232,-0.003032623091712594,-0.007624696474522352,0.0015055597759783268,-0.006040805019438267,0.02490769326686859,-0.03933900594711304,1.519310712814331,-0.03453582897782326,0.6768364906311035,-0.4181147813796997,0.2850630283355713,0.4890134632587433,0.9747521877288818,2.8799517154693604,-0.8887092471122742,-0.44417479634284973,0.48710158467292786,0.11294791847467422,0.0018552163382992148],\"yaxis\":\"y\",\"type\":\"scatter\"}],                        {\"template\":{\"data\":{\"histogram2dcontour\":[{\"type\":\"histogram2dcontour\",\"colorbar\":{\"outlinewidth\":0,\"ticks\":\"\"},\"colorscale\":[[0.0,\"#0d0887\"],[0.1111111111111111,\"#46039f\"],[0.2222222222222222,\"#7201a8\"],[0.3333333333333333,\"#9c179e\"],[0.4444444444444444,\"#bd3786\"],[0.5555555555555556,\"#d8576b\"],[0.6666666666666666,\"#ed7953\"],[0.7777777777777778,\"#fb9f3a\"],[0.8888888888888888,\"#fdca26\"],[1.0,\"#f0f921\"]]}],\"choropleth\":[{\"type\":\"choropleth\",\"colorbar\":{\"outlinewidth\":0,\"ticks\":\"\"}}],\"histogram2d\":[{\"type\":\"histogram2d\",\"colorbar\":{\"outlinewidth\":0,\"ticks\":\"\"},\"colorscale\":[[0.0,\"#0d0887\"],[0.1111111111111111,\"#46039f\"],[0.2222222222222222,\"#7201a8\"],[0.3333333333333333,\"#9c179e\"],[0.4444444444444444,\"#bd3786\"],[0.5555555555555556,\"#d8576b\"],[0.6666666666666666,\"#ed7953\"],[0.7777777777777778,\"#fb9f3a\"],[0.8888888888888888,\"#fdca26\"],[1.0,\"#f0f921\"]]}],\"heatmap\":[{\"type\":\"heatmap\",\"colorbar\":{\"outlinewidth\":0,\"ticks\":\"\"},\"colorscale\":[[0.0,\"#0d0887\"],[0.1111111111111111,\"#46039f\"],[0.2222222222222222,\"#7201a8\"],[0.3333333333333333,\"#9c179e\"],[0.4444444444444444,\"#bd3786\"],[0.5555555555555556,\"#d8576b\"],[0.6666666666666666,\"#ed7953\"],[0.7777777777777778,\"#fb9f3a\"],[0.8888888888888888,\"#fdca26\"],[1.0,\"#f0f921\"]]}],\"heatmapgl\":[{\"type\":\"heatmapgl\",\"colorbar\":{\"outlinewidth\":0,\"ticks\":\"\"},\"colorscale\":[[0.0,\"#0d0887\"],[0.1111111111111111,\"#46039f\"],[0.2222222222222222,\"#7201a8\"],[0.3333333333333333,\"#9c179e\"],[0.4444444444444444,\"#bd3786\"],[0.5555555555555556,\"#d8576b\"],[0.6666666666666666,\"#ed7953\"],[0.7777777777777778,\"#fb9f3a\"],[0.8888888888888888,\"#fdca26\"],[1.0,\"#f0f921\"]]}],\"contourcarpet\":[{\"type\":\"contourcarpet\",\"colorbar\":{\"outlinewidth\":0,\"ticks\":\"\"}}],\"contour\":[{\"type\":\"contour\",\"colorbar\":{\"outlinewidth\":0,\"ticks\":\"\"},\"colorscale\":[[0.0,\"#0d0887\"],[0.1111111111111111,\"#46039f\"],[0.2222222222222222,\"#7201a8\"],[0.3333333333333333,\"#9c179e\"],[0.4444444444444444,\"#bd3786\"],[0.5555555555555556,\"#d8576b\"],[0.6666666666666666,\"#ed7953\"],[0.7777777777777778,\"#fb9f3a\"],[0.8888888888888888,\"#fdca26\"],[1.0,\"#f0f921\"]]}],\"surface\":[{\"type\":\"surface\",\"colorbar\":{\"outlinewidth\":0,\"ticks\":\"\"},\"colorscale\":[[0.0,\"#0d0887\"],[0.1111111111111111,\"#46039f\"],[0.2222222222222222,\"#7201a8\"],[0.3333333333333333,\"#9c179e\"],[0.4444444444444444,\"#bd3786\"],[0.5555555555555556,\"#d8576b\"],[0.6666666666666666,\"#ed7953\"],[0.7777777777777778,\"#fb9f3a\"],[0.8888888888888888,\"#fdca26\"],[1.0,\"#f0f921\"]]}],\"mesh3d\":[{\"type\":\"mesh3d\",\"colorbar\":{\"outlinewidth\":0,\"ticks\":\"\"}}],\"scatter\":[{\"fillpattern\":{\"fillmode\":\"overlay\",\"size\":10,\"solidity\":0.2},\"type\":\"scatter\"}],\"parcoords\":[{\"type\":\"parcoords\",\"line\":{\"colorbar\":{\"outlinewidth\":0,\"ticks\":\"\"}}}],\"scatterpolargl\":[{\"type\":\"scatterpolargl\",\"marker\":{\"colorbar\":{\"outlinewidth\":0,\"ticks\":\"\"}}}],\"bar\":[{\"error_x\":{\"color\":\"#2a3f5f\"},\"error_y\":{\"color\":\"#2a3f5f\"},\"marker\":{\"line\":{\"color\":\"#E5ECF6\",\"width\":0.5},\"pattern\":{\"fillmode\":\"overlay\",\"size\":10,\"solidity\":0.2}},\"type\":\"bar\"}],\"scattergeo\":[{\"type\":\"scattergeo\",\"marker\":{\"colorbar\":{\"outlinewidth\":0,\"ticks\":\"\"}}}],\"scatterpolar\":[{\"type\":\"scatterpolar\",\"marker\":{\"colorbar\":{\"outlinewidth\":0,\"ticks\":\"\"}}}],\"histogram\":[{\"marker\":{\"pattern\":{\"fillmode\":\"overlay\",\"size\":10,\"solidity\":0.2}},\"type\":\"histogram\"}],\"scattergl\":[{\"type\":\"scattergl\",\"marker\":{\"colorbar\":{\"outlinewidth\":0,\"ticks\":\"\"}}}],\"scatter3d\":[{\"type\":\"scatter3d\",\"line\":{\"colorbar\":{\"outlinewidth\":0,\"ticks\":\"\"}},\"marker\":{\"colorbar\":{\"outlinewidth\":0,\"ticks\":\"\"}}}],\"scattermapbox\":[{\"type\":\"scattermapbox\",\"marker\":{\"colorbar\":{\"outlinewidth\":0,\"ticks\":\"\"}}}],\"scatterternary\":[{\"type\":\"scatterternary\",\"marker\":{\"colorbar\":{\"outlinewidth\":0,\"ticks\":\"\"}}}],\"scattercarpet\":[{\"type\":\"scattercarpet\",\"marker\":{\"colorbar\":{\"outlinewidth\":0,\"ticks\":\"\"}}}],\"carpet\":[{\"aaxis\":{\"endlinecolor\":\"#2a3f5f\",\"gridcolor\":\"white\",\"linecolor\":\"white\",\"minorgridcolor\":\"white\",\"startlinecolor\":\"#2a3f5f\"},\"baxis\":{\"endlinecolor\":\"#2a3f5f\",\"gridcolor\":\"white\",\"linecolor\":\"white\",\"minorgridcolor\":\"white\",\"startlinecolor\":\"#2a3f5f\"},\"type\":\"carpet\"}],\"table\":[{\"cells\":{\"fill\":{\"color\":\"#EBF0F8\"},\"line\":{\"color\":\"white\"}},\"header\":{\"fill\":{\"color\":\"#C8D4E3\"},\"line\":{\"color\":\"white\"}},\"type\":\"table\"}],\"barpolar\":[{\"marker\":{\"line\":{\"color\":\"#E5ECF6\",\"width\":0.5},\"pattern\":{\"fillmode\":\"overlay\",\"size\":10,\"solidity\":0.2}},\"type\":\"barpolar\"}],\"pie\":[{\"automargin\":true,\"type\":\"pie\"}]},\"layout\":{\"autotypenumbers\":\"strict\",\"colorway\":[\"#636efa\",\"#EF553B\",\"#00cc96\",\"#ab63fa\",\"#FFA15A\",\"#19d3f3\",\"#FF6692\",\"#B6E880\",\"#FF97FF\",\"#FECB52\"],\"font\":{\"color\":\"#2a3f5f\"},\"hovermode\":\"closest\",\"hoverlabel\":{\"align\":\"left\"},\"paper_bgcolor\":\"white\",\"plot_bgcolor\":\"#E5ECF6\",\"polar\":{\"bgcolor\":\"#E5ECF6\",\"angularaxis\":{\"gridcolor\":\"white\",\"linecolor\":\"white\",\"ticks\":\"\"},\"radialaxis\":{\"gridcolor\":\"white\",\"linecolor\":\"white\",\"ticks\":\"\"}},\"ternary\":{\"bgcolor\":\"#E5ECF6\",\"aaxis\":{\"gridcolor\":\"white\",\"linecolor\":\"white\",\"ticks\":\"\"},\"baxis\":{\"gridcolor\":\"white\",\"linecolor\":\"white\",\"ticks\":\"\"},\"caxis\":{\"gridcolor\":\"white\",\"linecolor\":\"white\",\"ticks\":\"\"}},\"coloraxis\":{\"colorbar\":{\"outlinewidth\":0,\"ticks\":\"\"}},\"colorscale\":{\"sequential\":[[0.0,\"#0d0887\"],[0.1111111111111111,\"#46039f\"],[0.2222222222222222,\"#7201a8\"],[0.3333333333333333,\"#9c179e\"],[0.4444444444444444,\"#bd3786\"],[0.5555555555555556,\"#d8576b\"],[0.6666666666666666,\"#ed7953\"],[0.7777777777777778,\"#fb9f3a\"],[0.8888888888888888,\"#fdca26\"],[1.0,\"#f0f921\"]],\"sequentialminus\":[[0.0,\"#0d0887\"],[0.1111111111111111,\"#46039f\"],[0.2222222222222222,\"#7201a8\"],[0.3333333333333333,\"#9c179e\"],[0.4444444444444444,\"#bd3786\"],[0.5555555555555556,\"#d8576b\"],[0.6666666666666666,\"#ed7953\"],[0.7777777777777778,\"#fb9f3a\"],[0.8888888888888888,\"#fdca26\"],[1.0,\"#f0f921\"]],\"diverging\":[[0,\"#8e0152\"],[0.1,\"#c51b7d\"],[0.2,\"#de77ae\"],[0.3,\"#f1b6da\"],[0.4,\"#fde0ef\"],[0.5,\"#f7f7f7\"],[0.6,\"#e6f5d0\"],[0.7,\"#b8e186\"],[0.8,\"#7fbc41\"],[0.9,\"#4d9221\"],[1,\"#276419\"]]},\"xaxis\":{\"gridcolor\":\"white\",\"linecolor\":\"white\",\"ticks\":\"\",\"title\":{\"standoff\":15},\"zerolinecolor\":\"white\",\"automargin\":true,\"zerolinewidth\":2},\"yaxis\":{\"gridcolor\":\"white\",\"linecolor\":\"white\",\"ticks\":\"\",\"title\":{\"standoff\":15},\"zerolinecolor\":\"white\",\"automargin\":true,\"zerolinewidth\":2},\"scene\":{\"xaxis\":{\"backgroundcolor\":\"#E5ECF6\",\"gridcolor\":\"white\",\"linecolor\":\"white\",\"showbackground\":true,\"ticks\":\"\",\"zerolinecolor\":\"white\",\"gridwidth\":2},\"yaxis\":{\"backgroundcolor\":\"#E5ECF6\",\"gridcolor\":\"white\",\"linecolor\":\"white\",\"showbackground\":true,\"ticks\":\"\",\"zerolinecolor\":\"white\",\"gridwidth\":2},\"zaxis\":{\"backgroundcolor\":\"#E5ECF6\",\"gridcolor\":\"white\",\"linecolor\":\"white\",\"showbackground\":true,\"ticks\":\"\",\"zerolinecolor\":\"white\",\"gridwidth\":2}},\"shapedefaults\":{\"line\":{\"color\":\"#2a3f5f\"}},\"annotationdefaults\":{\"arrowcolor\":\"#2a3f5f\",\"arrowhead\":0,\"arrowwidth\":1},\"geo\":{\"bgcolor\":\"white\",\"landcolor\":\"#E5ECF6\",\"subunitcolor\":\"white\",\"showland\":true,\"showlakes\":true,\"lakecolor\":\"white\"},\"title\":{\"x\":0.05},\"mapbox\":{\"style\":\"light\"}}},\"xaxis\":{\"anchor\":\"y\",\"domain\":[0.0,1.0],\"title\":{\"text\":\"index\"},\"tickmode\":\"array\",\"tickvals\":[0,1,2,3,4,5,6,7,8,9,10,11,12,13,14,15,16,17,18,19,20,21,22,23],\"ticktext\":[\"0_mlp_out\",\"1_mlp_out\",\"2_mlp_out\",\"3_mlp_out\",\"4_mlp_out\",\"5_mlp_out\",\"6_mlp_out\",\"7_mlp_out\",\"8_mlp_out\",\"9_mlp_out\",\"10_mlp_out\",\"11_mlp_out\",\"12_mlp_out\",\"13_mlp_out\",\"14_mlp_out\",\"15_mlp_out\",\"16_mlp_out\",\"17_mlp_out\",\"18_mlp_out\",\"19_mlp_out\",\"20_mlp_out\",\"21_mlp_out\",\"22_mlp_out\",\"23_mlp_out\"]},\"yaxis\":{\"anchor\":\"x\",\"domain\":[0.0,1.0],\"title\":{\"text\":\"value\"}},\"legend\":{\"title\":{\"text\":\"variable\"},\"tracegroupgap\":0},\"title\":{\"text\":\"Logit Difference From Each Layer\"},\"width\":800,\"hovermode\":\"x unified\"},                        {\"responsive\": true}                    ).then(function(){\n",
       "                            \n",
       "var gd = document.getElementById('5376bc17-fe22-4c3d-ac03-c42d5ad55347');\n",
       "var x = new MutationObserver(function (mutations, observer) {{\n",
       "        var display = window.getComputedStyle(gd).display;\n",
       "        if (!display || display === 'none') {{\n",
       "            console.log([gd, 'removed!']);\n",
       "            Plotly.purge(gd);\n",
       "            observer.disconnect();\n",
       "        }}\n",
       "}});\n",
       "\n",
       "// Listen for the removal of the full notebook cells\n",
       "var notebookContainer = gd.closest('#notebook-container');\n",
       "if (notebookContainer) {{\n",
       "    x.observe(notebookContainer, {childList: true});\n",
       "}}\n",
       "\n",
       "// Listen for the clearing of the current output cell\n",
       "var outputEl = gd.closest('.output');\n",
       "if (outputEl) {{\n",
       "    x.observe(outputEl, {childList: true});\n",
       "}}\n",
       "\n",
       "                        })                };                });            </script>        </div>"
      ]
     },
     "metadata": {},
     "output_type": "display_data"
    }
   ],
   "source": [
    "line(\n",
    "    [per_layer_logit_diffs[2::2], per_layer_logit_diffs[1::2]],\n",
    "    hovermode=\"x unified\",\n",
    "    title=\"Logit Difference From Each Layer\",\n",
    "    labels={\"x\": \"Layer\", \"y\": \"Logit Diff\"},\n",
    "    xaxis_tickvals=labels[2::2],\n",
    "    width=800\n",
    ")"
   ]
  },
  {
   "cell_type": "code",
   "execution_count": 22,
   "metadata": {},
   "outputs": [
    {
     "name": "stdout",
     "output_type": "stream",
     "text": [
      "Tried to stack head results when they weren't cached. Computing head results now\n"
     ]
    },
    {
     "data": {
      "application/vnd.plotly.v1+json": {
       "config": {
        "plotlyServerURL": "https://plot.ly"
       },
       "data": [
        {
         "coloraxis": "coloraxis",
         "hovertemplate": "Head: %{x}<br>Layer: %{y}<br>color: %{z}<extra></extra>",
         "name": "0",
         "type": "heatmap",
         "xaxis": "x",
         "yaxis": "y",
         "z": [
          [
           -0.000818706932477653,
           0.0004319203144405037,
           -0.00024453509831801057,
           -0.0006691026501357555,
           -0.0007805812638252974,
           0.0012417492689564824,
           -0.0021115478593856096,
           0.00007153346086852252,
           -0.001577746239490807,
           0.0012170166010037065,
           -0.0007268585031852126,
           -0.00044024427188560367,
           -0.00011003401596099138,
           -0.00008153327507898211,
           -0.00038695684634149075,
           0.00003728932642843574
          ],
          [
           -0.0005189314251765609,
           -0.0002744746452663094,
           0.00043554045259952545,
           -0.00008530099876224995,
           0.0006471042288467288,
           0.0009915558621287346,
           -0.0004127997672185302,
           0.0017696176655590534,
           -0.00017973560898099095,
           0.0007066343678161502,
           0.0013004489010199904,
           0.0031668732408434153,
           0.0004061367944814265,
           -0.00021413712238427252,
           0.0007456934545189142,
           -0.00027220265474170446
          ],
          [
           -0.00003455913974903524,
           -0.00041450554272159934,
           -0.00031730515183880925,
           0.00019324604363646358,
           -0.0015361972618848085,
           -0.0001230135967489332,
           0.0010054146405309439,
           -0.0011037427466362715,
           -0.0001867858663899824,
           -0.000945148931350559,
           -0.00008981812425190583,
           -0.001242732279933989,
           -0.0002916042576543987,
           0.00026948165032081306,
           0.000751782557927072,
           -0.0009826270397752523
          ],
          [
           -0.00005901764961890876,
           -0.0003385020245332271,
           0.0001790132955648005,
           0.0007558227516710758,
           -0.0005615660920739174,
           0.0006059712613932788,
           -0.0021958788856863976,
           -0.0003758933744393289,
           0.00274875876493752,
           -0.00036183418706059456,
           0.0002265042858198285,
           -0.00022521038772538304,
           -0.001486002467572689,
           0.00006895671685924754,
           -0.0010237916139885783,
           -0.0002704209182411432
          ],
          [
           -0.0007893303991295397,
           -0.0003109597018919885,
           0.00009875418618321419,
           -0.0014000596711412072,
           -0.0010522750671952963,
           0.004026826936751604,
           0.00031648154254071414,
           -0.00007543293759226799,
           -0.0011756628518924117,
           0.0003539982717484236,
           -0.000315016251988709,
           0.002891336567699909,
           -0.0008720140904188156,
           0.0005800805520266294,
           0.00022149609867483377,
           0.0004324866458773613
          ],
          [
           -0.001411923673003912,
           -0.000763836782425642,
           0.0013326697517186403,
           -0.0010309393983334303,
           -0.00024932678206823766,
           -0.0007844546344131231,
           -0.0005069684120826423,
           -0.0013512377627193928,
           0.0004686807806137949,
           -0.002727111801505089,
           0.0002857772633433342,
           0.00017843791283667088,
           0.0004756818525493145,
           0.00019881821935996413,
           0.00272630387917161,
           -0.0000783923314884305
          ],
          [
           -0.0007582764374092221,
           -0.00006375982775352895,
           -0.0004361206665635109,
           0.00005104458250571042,
           0.00017656796262599528,
           0.00004669825284508988,
           0.00003556834417395294,
           -0.00035141356056556106,
           -0.0000388026237487793,
           -0.0032000872306525707,
           0.00004861288471147418,
           -0.001046653836965561,
           0.0053309788927435875,
           -0.0032208003103733063,
           -0.0005658656591549516,
           -0.0021047124173492193
          ],
          [
           0.001238830154761672,
           -0.00031971640419214964,
           0.0013070276472717524,
           -0.0003024840261787176,
           -0.00008994818199425936,
           -0.0009336892981082201,
           0.00017230336379725486,
           -0.000834918231703341,
           0.00024969014339149,
           0.00594498123973608,
           -0.00714557059109211,
           -0.0006135251605883241,
           0.003444785252213478,
           0.00047931447625160217,
           -0.00029913318576291203,
           -0.00031608459539711475
          ],
          [
           0.001201767474412918,
           -0.004297865554690361,
           0.0011275610886514187,
           0.0003777804085984826,
           -0.003906529396772385,
           0.0015590409748256207,
           -0.00048319168854504824,
           -0.0006003068992868066,
           0.0018730005249381065,
           0.00009724270785227418,
           0.00009062573371920735,
           -0.0011315082665532827,
           0.0012353979982435703,
           0.0002951991627924144,
           -0.0004993852926418185,
           -0.002748035592958331
          ],
          [
           -0.00026945213903672993,
           0.02231740579009056,
           -0.000019848579540848732,
           -0.00021964946063235402,
           -0.00008299716137116775,
           0.003625327255576849,
           0.00030183023773133755,
           0.0002258572494611144,
           0.00012044719187542796,
           0.00023844599490985274,
           -0.0027813310734927654,
           -0.00003373713116161525,
           -0.0001783830812200904,
           0.0009246906265616417,
           0.0009345415746793151,
           -0.00032864767126739025
          ],
          [
           -0.00046402623411267996,
           -0.02856357954442501,
           -0.0020722071640193462,
           0.0000745990255381912,
           0.0000018183127394877374,
           0.004172143526375294,
           -0.0027634608559310436,
           0.000416198541643098,
           -0.0024932045489549637,
           -0.000041758594306884333,
           -0.0002636584686115384,
           -0.000935882271733135,
           0.005049883853644133,
           -0.008489498868584633,
           -0.0014635396655648947,
           -0.0017617023549973965
          ],
          [
           -0.0004473378648981452,
           -0.001959209330379963,
           -0.019167743623256683,
           0.01358435582369566,
           1.425180196762085,
           0.0409124493598938,
           0.0001772290706867352,
           0.05100835859775543,
           0.0010692280484363437,
           0.00535957608371973,
           0.0021618695463985205,
           -0.0002680942416191101,
           -0.001858832547441125,
           0.00011329259723424911,
           0.0020246305502951145,
           0.001470503630116582
          ],
          [
           -0.0543752945959568,
           -0.0004748221836052835,
           0.004407249391078949,
           -0.0006086539942771196,
           -0.0021127972286194563,
           -0.0028957759495824575,
           -0.00001760176382958889,
           0.0014203627360984683,
           0.04680587351322174,
           -0.006905173882842064,
           -0.006905403919517994,
           0.009681213647127151,
           -0.017318323254585266,
           0.00008692539995536208,
           -0.0051187328062951565,
           0.00009205937385559082
          ],
          [
           0.0323653519153595,
           0.0399705246090889,
           -0.0017479228554293513,
           -0.0013425733195617795,
           -0.0002634285483509302,
           0.5991114974021912,
           0.008606856688857079,
           -0.00968000665307045,
           0.009583691135048866,
           -0.00012286541459616274,
           -0.0038636131212115288,
           -0.000618363032117486,
           -0.0022742084693163633,
           0.002299383282661438,
           -0.010354985482990742,
           0.014991050586104393
          ],
          [
           -0.23374418914318085,
           -0.0011783222435042262,
           0.0002466847945470363,
           -0.16932249069213867,
           0.0008476062794215977,
           -0.000484434247482568,
           -0.005338013172149658,
           0.0031507681123912334,
           -0.0015551677206531167,
           -0.001016740221530199,
           -0.0007902892539277673,
           0.002530356403440237,
           -0.00644803699105978,
           -0.006513056345283985,
           0.0015602863859385252,
           -0.00019991165027022362
          ],
          [
           0.008797833696007729,
           0.0053547522984445095,
           -0.013765979558229446,
           0.007386829704046249,
           -0.000310984265524894,
           0.21163904666900635,
           -0.0007336600683629513,
           -0.0020443154498934746,
           0.09145356714725494,
           -0.006972978822886944,
           0.0025697590317577124,
           -0.0096596023067832,
           -0.022374413907527924,
           0.0031588515266776085,
           -0.0020587900653481483,
           0.011775617487728596
          ],
          [
           0.3895227909088135,
           0.012951724231243134,
           0.00186729128472507,
           0.046709634363651276,
           0.005167088937014341,
           0.01162385568022728,
           -0.0002734110748860985,
           0.02175797149538994,
           0.0003621121868491173,
           0.001338839065283537,
           0.002174116438254714,
           -0.0002611269010230899,
           0.0005928011378273368,
           -0.000049093738198280334,
           0.00017597468104213476,
           -0.00531874829903245
          ],
          [
           -0.011804982088506222,
           -0.0006932563846930861,
           -0.1703616827726364,
           -0.032598331570625305,
           0.007208411116153002,
           0.001829342800192535,
           0.25734102725982666,
           0.008938480168581009,
           -0.0022698184475302696,
           -0.0018423476722091436,
           0.6001790761947632,
           0.3046295642852783,
           -0.0011703332420438528,
           -0.0006633504526689649,
           0.0003007947816513479,
           0.014511573128402233
          ],
          [
           0.2690035402774811,
           -0.00020470155868679285,
           0.037559881806373596,
           0.0003122299094684422,
           -0.015190666541457176,
           -0.0027837969828397036,
           0.000682698329910636,
           -0.00003452742748777382,
           1.2531801462173462,
           -0.004190834239125252,
           0.21476691961288452,
           0.07043807208538055,
           0.35720133781433105,
           0.3454440236091614,
           0.3538065552711487,
           0.000009456183761358261
          ],
          [
           -0.0002053808275377378,
           -0.00043589092092588544,
           0.009715911000967026,
           0.012386034242808819,
           0.11853805184364319,
           -0.013462400063872337,
           0.005260236095637083,
           0.13053691387176514,
           0.02667025662958622,
           0.004735237453132868,
           -0.00381358340382576,
           0.0036561391316354275,
           0.12955117225646973,
           -0.0007830377435311675,
           0.001334574306383729,
           -1.312820553779602
          ],
          [
           -0.000036657442251453176,
           0.005165466107428074,
           -0.011319421231746674,
           0.00006801189738325775,
           0.0059885140508413315,
           0.0001198991812998429,
           0.003458155319094658,
           -0.0008798664784990251,
           -0.0004186264704912901,
           0.000013324175597517751,
           0.000045383567339740694,
           0.000027964275432168506,
           0.0013580663362517953,
           0.07166702300310135,
           0.0019802215974777937,
           -0.5218783617019653
          ],
          [
           0.00010515956091694534,
           0.09167566895484924,
           0.0038696546107530594,
           0.0025980337522923946,
           0.020058762282133102,
           0.02943846583366394,
           -0.0011743697104975581,
           0.05781788006424904,
           0.006489533465355635,
           0.23683875799179077,
           0.015201711095869541,
           -0.002070346614345908,
           -0.0007509749848395586,
           -0.00036623456981033087,
           0.02672691084444523,
           -0.00009627307008486241
          ],
          [
           -0.006546259392052889,
           0.00020172922813799232,
           0.038284074515104294,
           0.010537002235651016,
           0.0005045301513746381,
           0.0010363374603912234,
           0.10071657598018646,
           0.000019883242202922702,
           -0.0009999992325901985,
           -0.0002972991205751896,
           0.00007789791561663151,
           0.02183574065566063,
           -0.00015845400048419833,
           -0.008181119337677956,
           -0.04328993707895279,
           -0.0016668010503053665
          ],
          [
           -0.0015205807285383344,
           0.0007848890963941813,
           0.00036252127029001713,
           0.000083557577454485,
           0.0002458651433698833,
           -0.0015087828505784273,
           -0.0009347331942990422,
           -0.0014857902424409986,
           -0.0006804289296269417,
           0.00023364712251350284,
           -0.0001365991629427299,
           -0.000046264613047242165,
           0.009581461548805237,
           -0.0009300686651840806,
           -0.0012034655082970858,
           -0.0013749867212027311
          ]
         ]
        }
       ],
       "layout": {
        "coloraxis": {
         "cmid": 0,
         "colorscale": [
          [
           0,
           "rgb(103,0,31)"
          ],
          [
           0.1,
           "rgb(178,24,43)"
          ],
          [
           0.2,
           "rgb(214,96,77)"
          ],
          [
           0.3,
           "rgb(244,165,130)"
          ],
          [
           0.4,
           "rgb(253,219,199)"
          ],
          [
           0.5,
           "rgb(247,247,247)"
          ],
          [
           0.6,
           "rgb(209,229,240)"
          ],
          [
           0.7,
           "rgb(146,197,222)"
          ],
          [
           0.8,
           "rgb(67,147,195)"
          ],
          [
           0.9,
           "rgb(33,102,172)"
          ],
          [
           1,
           "rgb(5,48,97)"
          ]
         ]
        },
        "template": {
         "data": {
          "bar": [
           {
            "error_x": {
             "color": "#2a3f5f"
            },
            "error_y": {
             "color": "#2a3f5f"
            },
            "marker": {
             "line": {
              "color": "#E5ECF6",
              "width": 0.5
             },
             "pattern": {
              "fillmode": "overlay",
              "size": 10,
              "solidity": 0.2
             }
            },
            "type": "bar"
           }
          ],
          "barpolar": [
           {
            "marker": {
             "line": {
              "color": "#E5ECF6",
              "width": 0.5
             },
             "pattern": {
              "fillmode": "overlay",
              "size": 10,
              "solidity": 0.2
             }
            },
            "type": "barpolar"
           }
          ],
          "carpet": [
           {
            "aaxis": {
             "endlinecolor": "#2a3f5f",
             "gridcolor": "white",
             "linecolor": "white",
             "minorgridcolor": "white",
             "startlinecolor": "#2a3f5f"
            },
            "baxis": {
             "endlinecolor": "#2a3f5f",
             "gridcolor": "white",
             "linecolor": "white",
             "minorgridcolor": "white",
             "startlinecolor": "#2a3f5f"
            },
            "type": "carpet"
           }
          ],
          "choropleth": [
           {
            "colorbar": {
             "outlinewidth": 0,
             "ticks": ""
            },
            "type": "choropleth"
           }
          ],
          "contour": [
           {
            "colorbar": {
             "outlinewidth": 0,
             "ticks": ""
            },
            "colorscale": [
             [
              0,
              "#0d0887"
             ],
             [
              0.1111111111111111,
              "#46039f"
             ],
             [
              0.2222222222222222,
              "#7201a8"
             ],
             [
              0.3333333333333333,
              "#9c179e"
             ],
             [
              0.4444444444444444,
              "#bd3786"
             ],
             [
              0.5555555555555556,
              "#d8576b"
             ],
             [
              0.6666666666666666,
              "#ed7953"
             ],
             [
              0.7777777777777778,
              "#fb9f3a"
             ],
             [
              0.8888888888888888,
              "#fdca26"
             ],
             [
              1,
              "#f0f921"
             ]
            ],
            "type": "contour"
           }
          ],
          "contourcarpet": [
           {
            "colorbar": {
             "outlinewidth": 0,
             "ticks": ""
            },
            "type": "contourcarpet"
           }
          ],
          "heatmap": [
           {
            "colorbar": {
             "outlinewidth": 0,
             "ticks": ""
            },
            "colorscale": [
             [
              0,
              "#0d0887"
             ],
             [
              0.1111111111111111,
              "#46039f"
             ],
             [
              0.2222222222222222,
              "#7201a8"
             ],
             [
              0.3333333333333333,
              "#9c179e"
             ],
             [
              0.4444444444444444,
              "#bd3786"
             ],
             [
              0.5555555555555556,
              "#d8576b"
             ],
             [
              0.6666666666666666,
              "#ed7953"
             ],
             [
              0.7777777777777778,
              "#fb9f3a"
             ],
             [
              0.8888888888888888,
              "#fdca26"
             ],
             [
              1,
              "#f0f921"
             ]
            ],
            "type": "heatmap"
           }
          ],
          "heatmapgl": [
           {
            "colorbar": {
             "outlinewidth": 0,
             "ticks": ""
            },
            "colorscale": [
             [
              0,
              "#0d0887"
             ],
             [
              0.1111111111111111,
              "#46039f"
             ],
             [
              0.2222222222222222,
              "#7201a8"
             ],
             [
              0.3333333333333333,
              "#9c179e"
             ],
             [
              0.4444444444444444,
              "#bd3786"
             ],
             [
              0.5555555555555556,
              "#d8576b"
             ],
             [
              0.6666666666666666,
              "#ed7953"
             ],
             [
              0.7777777777777778,
              "#fb9f3a"
             ],
             [
              0.8888888888888888,
              "#fdca26"
             ],
             [
              1,
              "#f0f921"
             ]
            ],
            "type": "heatmapgl"
           }
          ],
          "histogram": [
           {
            "marker": {
             "pattern": {
              "fillmode": "overlay",
              "size": 10,
              "solidity": 0.2
             }
            },
            "type": "histogram"
           }
          ],
          "histogram2d": [
           {
            "colorbar": {
             "outlinewidth": 0,
             "ticks": ""
            },
            "colorscale": [
             [
              0,
              "#0d0887"
             ],
             [
              0.1111111111111111,
              "#46039f"
             ],
             [
              0.2222222222222222,
              "#7201a8"
             ],
             [
              0.3333333333333333,
              "#9c179e"
             ],
             [
              0.4444444444444444,
              "#bd3786"
             ],
             [
              0.5555555555555556,
              "#d8576b"
             ],
             [
              0.6666666666666666,
              "#ed7953"
             ],
             [
              0.7777777777777778,
              "#fb9f3a"
             ],
             [
              0.8888888888888888,
              "#fdca26"
             ],
             [
              1,
              "#f0f921"
             ]
            ],
            "type": "histogram2d"
           }
          ],
          "histogram2dcontour": [
           {
            "colorbar": {
             "outlinewidth": 0,
             "ticks": ""
            },
            "colorscale": [
             [
              0,
              "#0d0887"
             ],
             [
              0.1111111111111111,
              "#46039f"
             ],
             [
              0.2222222222222222,
              "#7201a8"
             ],
             [
              0.3333333333333333,
              "#9c179e"
             ],
             [
              0.4444444444444444,
              "#bd3786"
             ],
             [
              0.5555555555555556,
              "#d8576b"
             ],
             [
              0.6666666666666666,
              "#ed7953"
             ],
             [
              0.7777777777777778,
              "#fb9f3a"
             ],
             [
              0.8888888888888888,
              "#fdca26"
             ],
             [
              1,
              "#f0f921"
             ]
            ],
            "type": "histogram2dcontour"
           }
          ],
          "mesh3d": [
           {
            "colorbar": {
             "outlinewidth": 0,
             "ticks": ""
            },
            "type": "mesh3d"
           }
          ],
          "parcoords": [
           {
            "line": {
             "colorbar": {
              "outlinewidth": 0,
              "ticks": ""
             }
            },
            "type": "parcoords"
           }
          ],
          "pie": [
           {
            "automargin": true,
            "type": "pie"
           }
          ],
          "scatter": [
           {
            "fillpattern": {
             "fillmode": "overlay",
             "size": 10,
             "solidity": 0.2
            },
            "type": "scatter"
           }
          ],
          "scatter3d": [
           {
            "line": {
             "colorbar": {
              "outlinewidth": 0,
              "ticks": ""
             }
            },
            "marker": {
             "colorbar": {
              "outlinewidth": 0,
              "ticks": ""
             }
            },
            "type": "scatter3d"
           }
          ],
          "scattercarpet": [
           {
            "marker": {
             "colorbar": {
              "outlinewidth": 0,
              "ticks": ""
             }
            },
            "type": "scattercarpet"
           }
          ],
          "scattergeo": [
           {
            "marker": {
             "colorbar": {
              "outlinewidth": 0,
              "ticks": ""
             }
            },
            "type": "scattergeo"
           }
          ],
          "scattergl": [
           {
            "marker": {
             "colorbar": {
              "outlinewidth": 0,
              "ticks": ""
             }
            },
            "type": "scattergl"
           }
          ],
          "scattermapbox": [
           {
            "marker": {
             "colorbar": {
              "outlinewidth": 0,
              "ticks": ""
             }
            },
            "type": "scattermapbox"
           }
          ],
          "scatterpolar": [
           {
            "marker": {
             "colorbar": {
              "outlinewidth": 0,
              "ticks": ""
             }
            },
            "type": "scatterpolar"
           }
          ],
          "scatterpolargl": [
           {
            "marker": {
             "colorbar": {
              "outlinewidth": 0,
              "ticks": ""
             }
            },
            "type": "scatterpolargl"
           }
          ],
          "scatterternary": [
           {
            "marker": {
             "colorbar": {
              "outlinewidth": 0,
              "ticks": ""
             }
            },
            "type": "scatterternary"
           }
          ],
          "surface": [
           {
            "colorbar": {
             "outlinewidth": 0,
             "ticks": ""
            },
            "colorscale": [
             [
              0,
              "#0d0887"
             ],
             [
              0.1111111111111111,
              "#46039f"
             ],
             [
              0.2222222222222222,
              "#7201a8"
             ],
             [
              0.3333333333333333,
              "#9c179e"
             ],
             [
              0.4444444444444444,
              "#bd3786"
             ],
             [
              0.5555555555555556,
              "#d8576b"
             ],
             [
              0.6666666666666666,
              "#ed7953"
             ],
             [
              0.7777777777777778,
              "#fb9f3a"
             ],
             [
              0.8888888888888888,
              "#fdca26"
             ],
             [
              1,
              "#f0f921"
             ]
            ],
            "type": "surface"
           }
          ],
          "table": [
           {
            "cells": {
             "fill": {
              "color": "#EBF0F8"
             },
             "line": {
              "color": "white"
             }
            },
            "header": {
             "fill": {
              "color": "#C8D4E3"
             },
             "line": {
              "color": "white"
             }
            },
            "type": "table"
           }
          ]
         },
         "layout": {
          "annotationdefaults": {
           "arrowcolor": "#2a3f5f",
           "arrowhead": 0,
           "arrowwidth": 1
          },
          "autotypenumbers": "strict",
          "coloraxis": {
           "colorbar": {
            "outlinewidth": 0,
            "ticks": ""
           }
          },
          "colorscale": {
           "diverging": [
            [
             0,
             "#8e0152"
            ],
            [
             0.1,
             "#c51b7d"
            ],
            [
             0.2,
             "#de77ae"
            ],
            [
             0.3,
             "#f1b6da"
            ],
            [
             0.4,
             "#fde0ef"
            ],
            [
             0.5,
             "#f7f7f7"
            ],
            [
             0.6,
             "#e6f5d0"
            ],
            [
             0.7,
             "#b8e186"
            ],
            [
             0.8,
             "#7fbc41"
            ],
            [
             0.9,
             "#4d9221"
            ],
            [
             1,
             "#276419"
            ]
           ],
           "sequential": [
            [
             0,
             "#0d0887"
            ],
            [
             0.1111111111111111,
             "#46039f"
            ],
            [
             0.2222222222222222,
             "#7201a8"
            ],
            [
             0.3333333333333333,
             "#9c179e"
            ],
            [
             0.4444444444444444,
             "#bd3786"
            ],
            [
             0.5555555555555556,
             "#d8576b"
            ],
            [
             0.6666666666666666,
             "#ed7953"
            ],
            [
             0.7777777777777778,
             "#fb9f3a"
            ],
            [
             0.8888888888888888,
             "#fdca26"
            ],
            [
             1,
             "#f0f921"
            ]
           ],
           "sequentialminus": [
            [
             0,
             "#0d0887"
            ],
            [
             0.1111111111111111,
             "#46039f"
            ],
            [
             0.2222222222222222,
             "#7201a8"
            ],
            [
             0.3333333333333333,
             "#9c179e"
            ],
            [
             0.4444444444444444,
             "#bd3786"
            ],
            [
             0.5555555555555556,
             "#d8576b"
            ],
            [
             0.6666666666666666,
             "#ed7953"
            ],
            [
             0.7777777777777778,
             "#fb9f3a"
            ],
            [
             0.8888888888888888,
             "#fdca26"
            ],
            [
             1,
             "#f0f921"
            ]
           ]
          },
          "colorway": [
           "#636efa",
           "#EF553B",
           "#00cc96",
           "#ab63fa",
           "#FFA15A",
           "#19d3f3",
           "#FF6692",
           "#B6E880",
           "#FF97FF",
           "#FECB52"
          ],
          "font": {
           "color": "#2a3f5f"
          },
          "geo": {
           "bgcolor": "white",
           "lakecolor": "white",
           "landcolor": "#E5ECF6",
           "showlakes": true,
           "showland": true,
           "subunitcolor": "white"
          },
          "hoverlabel": {
           "align": "left"
          },
          "hovermode": "closest",
          "mapbox": {
           "style": "light"
          },
          "paper_bgcolor": "white",
          "plot_bgcolor": "#E5ECF6",
          "polar": {
           "angularaxis": {
            "gridcolor": "white",
            "linecolor": "white",
            "ticks": ""
           },
           "bgcolor": "#E5ECF6",
           "radialaxis": {
            "gridcolor": "white",
            "linecolor": "white",
            "ticks": ""
           }
          },
          "scene": {
           "xaxis": {
            "backgroundcolor": "#E5ECF6",
            "gridcolor": "white",
            "gridwidth": 2,
            "linecolor": "white",
            "showbackground": true,
            "ticks": "",
            "zerolinecolor": "white"
           },
           "yaxis": {
            "backgroundcolor": "#E5ECF6",
            "gridcolor": "white",
            "gridwidth": 2,
            "linecolor": "white",
            "showbackground": true,
            "ticks": "",
            "zerolinecolor": "white"
           },
           "zaxis": {
            "backgroundcolor": "#E5ECF6",
            "gridcolor": "white",
            "gridwidth": 2,
            "linecolor": "white",
            "showbackground": true,
            "ticks": "",
            "zerolinecolor": "white"
           }
          },
          "shapedefaults": {
           "line": {
            "color": "#2a3f5f"
           }
          },
          "ternary": {
           "aaxis": {
            "gridcolor": "white",
            "linecolor": "white",
            "ticks": ""
           },
           "baxis": {
            "gridcolor": "white",
            "linecolor": "white",
            "ticks": ""
           },
           "bgcolor": "#E5ECF6",
           "caxis": {
            "gridcolor": "white",
            "linecolor": "white",
            "ticks": ""
           }
          },
          "title": {
           "x": 0.05
          },
          "xaxis": {
           "automargin": true,
           "gridcolor": "white",
           "linecolor": "white",
           "ticks": "",
           "title": {
            "standoff": 15
           },
           "zerolinecolor": "white",
           "zerolinewidth": 2
          },
          "yaxis": {
           "automargin": true,
           "gridcolor": "white",
           "linecolor": "white",
           "ticks": "",
           "title": {
            "standoff": 15
           },
           "zerolinecolor": "white",
           "zerolinewidth": 2
          }
         }
        },
        "title": {
         "text": "Logit Difference From Each Head"
        },
        "width": 600,
        "xaxis": {
         "anchor": "y",
         "constrain": "domain",
         "domain": [
          0,
          1
         ],
         "scaleanchor": "y",
         "title": {
          "text": "Head"
         }
        },
        "yaxis": {
         "anchor": "x",
         "autorange": "reversed",
         "constrain": "domain",
         "domain": [
          0,
          1
         ],
         "title": {
          "text": "Layer"
         }
        }
       }
      },
      "text/html": [
       "<div>                            <div id=\"88e0509e-8cfc-4da8-9dad-4c7dd6664ea5\" class=\"plotly-graph-div\" style=\"height:525px; width:600px;\"></div>            <script type=\"text/javascript\">                require([\"plotly\"], function(Plotly) {                    window.PLOTLYENV=window.PLOTLYENV || {};                                    if (document.getElementById(\"88e0509e-8cfc-4da8-9dad-4c7dd6664ea5\")) {                    Plotly.newPlot(                        \"88e0509e-8cfc-4da8-9dad-4c7dd6664ea5\",                        [{\"coloraxis\":\"coloraxis\",\"name\":\"0\",\"z\":[[-0.000818706932477653,0.0004319203144405037,-0.00024453509831801057,-0.0006691026501357555,-0.0007805812638252974,0.0012417492689564824,-0.0021115478593856096,7.153346086852252e-05,-0.001577746239490807,0.0012170166010037065,-0.0007268585031852126,-0.00044024427188560367,-0.00011003401596099138,-8.153327507898211e-05,-0.00038695684634149075,3.728932642843574e-05],[-0.0005189314251765609,-0.0002744746452663094,0.00043554045259952545,-8.530099876224995e-05,0.0006471042288467288,0.0009915558621287346,-0.0004127997672185302,0.0017696176655590534,-0.00017973560898099095,0.0007066343678161502,0.0013004489010199904,0.0031668732408434153,0.0004061367944814265,-0.00021413712238427252,0.0007456934545189142,-0.00027220265474170446],[-3.455913974903524e-05,-0.00041450554272159934,-0.00031730515183880925,0.00019324604363646358,-0.0015361972618848085,-0.0001230135967489332,0.0010054146405309439,-0.0011037427466362715,-0.0001867858663899824,-0.000945148931350559,-8.981812425190583e-05,-0.001242732279933989,-0.0002916042576543987,0.00026948165032081306,0.000751782557927072,-0.0009826270397752523],[-5.901764961890876e-05,-0.0003385020245332271,0.0001790132955648005,0.0007558227516710758,-0.0005615660920739174,0.0006059712613932788,-0.0021958788856863976,-0.0003758933744393289,0.00274875876493752,-0.00036183418706059456,0.0002265042858198285,-0.00022521038772538304,-0.001486002467572689,6.895671685924754e-05,-0.0010237916139885783,-0.0002704209182411432],[-0.0007893303991295397,-0.0003109597018919885,9.875418618321419e-05,-0.0014000596711412072,-0.0010522750671952963,0.004026826936751604,0.00031648154254071414,-7.543293759226799e-05,-0.0011756628518924117,0.0003539982717484236,-0.000315016251988709,0.002891336567699909,-0.0008720140904188156,0.0005800805520266294,0.00022149609867483377,0.0004324866458773613],[-0.001411923673003912,-0.000763836782425642,0.0013326697517186403,-0.0010309393983334303,-0.00024932678206823766,-0.0007844546344131231,-0.0005069684120826423,-0.0013512377627193928,0.0004686807806137949,-0.002727111801505089,0.0002857772633433342,0.00017843791283667088,0.0004756818525493145,0.00019881821935996413,0.00272630387917161,-7.83923314884305e-05],[-0.0007582764374092221,-6.375982775352895e-05,-0.0004361206665635109,5.104458250571042e-05,0.00017656796262599528,4.669825284508988e-05,3.556834417395294e-05,-0.00035141356056556106,-3.88026237487793e-05,-0.0032000872306525707,4.861288471147418e-05,-0.001046653836965561,0.0053309788927435875,-0.0032208003103733063,-0.0005658656591549516,-0.0021047124173492193],[0.001238830154761672,-0.00031971640419214964,0.0013070276472717524,-0.0003024840261787176,-8.994818199425936e-05,-0.0009336892981082201,0.00017230336379725486,-0.000834918231703341,0.00024969014339149,0.00594498123973608,-0.00714557059109211,-0.0006135251605883241,0.003444785252213478,0.00047931447625160217,-0.00029913318576291203,-0.00031608459539711475],[0.001201767474412918,-0.004297865554690361,0.0011275610886514187,0.0003777804085984826,-0.003906529396772385,0.0015590409748256207,-0.00048319168854504824,-0.0006003068992868066,0.0018730005249381065,9.724270785227418e-05,9.062573371920735e-05,-0.0011315082665532827,0.0012353979982435703,0.0002951991627924144,-0.0004993852926418185,-0.002748035592958331],[-0.00026945213903672993,0.02231740579009056,-1.9848579540848732e-05,-0.00021964946063235402,-8.299716137116775e-05,0.003625327255576849,0.00030183023773133755,0.0002258572494611144,0.00012044719187542796,0.00023844599490985274,-0.0027813310734927654,-3.373713116161525e-05,-0.0001783830812200904,0.0009246906265616417,0.0009345415746793151,-0.00032864767126739025],[-0.00046402623411267996,-0.02856357954442501,-0.0020722071640193462,7.45990255381912e-05,1.8183127394877374e-06,0.004172143526375294,-0.0027634608559310436,0.000416198541643098,-0.0024932045489549637,-4.1758594306884333e-05,-0.0002636584686115384,-0.000935882271733135,0.005049883853644133,-0.008489498868584633,-0.0014635396655648947,-0.0017617023549973965],[-0.0004473378648981452,-0.001959209330379963,-0.019167743623256683,0.01358435582369566,1.425180196762085,0.0409124493598938,0.0001772290706867352,0.05100835859775543,0.0010692280484363437,0.00535957608371973,0.0021618695463985205,-0.0002680942416191101,-0.001858832547441125,0.00011329259723424911,0.0020246305502951145,0.001470503630116582],[-0.0543752945959568,-0.0004748221836052835,0.004407249391078949,-0.0006086539942771196,-0.0021127972286194563,-0.0028957759495824575,-1.760176382958889e-05,0.0014203627360984683,0.04680587351322174,-0.006905173882842064,-0.006905403919517994,0.009681213647127151,-0.017318323254585266,8.692539995536208e-05,-0.0051187328062951565,9.205937385559082e-05],[0.0323653519153595,0.0399705246090889,-0.0017479228554293513,-0.0013425733195617795,-0.0002634285483509302,0.5991114974021912,0.008606856688857079,-0.00968000665307045,0.009583691135048866,-0.00012286541459616274,-0.0038636131212115288,-0.000618363032117486,-0.0022742084693163633,0.002299383282661438,-0.010354985482990742,0.014991050586104393],[-0.23374418914318085,-0.0011783222435042262,0.0002466847945470363,-0.16932249069213867,0.0008476062794215977,-0.000484434247482568,-0.005338013172149658,0.0031507681123912334,-0.0015551677206531167,-0.001016740221530199,-0.0007902892539277673,0.002530356403440237,-0.00644803699105978,-0.006513056345283985,0.0015602863859385252,-0.00019991165027022362],[0.008797833696007729,0.0053547522984445095,-0.013765979558229446,0.007386829704046249,-0.000310984265524894,0.21163904666900635,-0.0007336600683629513,-0.0020443154498934746,0.09145356714725494,-0.006972978822886944,0.0025697590317577124,-0.0096596023067832,-0.022374413907527924,0.0031588515266776085,-0.0020587900653481483,0.011775617487728596],[0.3895227909088135,0.012951724231243134,0.00186729128472507,0.046709634363651276,0.005167088937014341,0.01162385568022728,-0.0002734110748860985,0.02175797149538994,0.0003621121868491173,0.001338839065283537,0.002174116438254714,-0.0002611269010230899,0.0005928011378273368,-4.9093738198280334e-05,0.00017597468104213476,-0.00531874829903245],[-0.011804982088506222,-0.0006932563846930861,-0.1703616827726364,-0.032598331570625305,0.007208411116153002,0.001829342800192535,0.25734102725982666,0.008938480168581009,-0.0022698184475302696,-0.0018423476722091436,0.6001790761947632,0.3046295642852783,-0.0011703332420438528,-0.0006633504526689649,0.0003007947816513479,0.014511573128402233],[0.2690035402774811,-0.00020470155868679285,0.037559881806373596,0.0003122299094684422,-0.015190666541457176,-0.0027837969828397036,0.000682698329910636,-3.452742748777382e-05,1.2531801462173462,-0.004190834239125252,0.21476691961288452,0.07043807208538055,0.35720133781433105,0.3454440236091614,0.3538065552711487,9.456183761358261e-06],[-0.0002053808275377378,-0.00043589092092588544,0.009715911000967026,0.012386034242808819,0.11853805184364319,-0.013462400063872337,0.005260236095637083,0.13053691387176514,0.02667025662958622,0.004735237453132868,-0.00381358340382576,0.0036561391316354275,0.12955117225646973,-0.0007830377435311675,0.001334574306383729,-1.312820553779602],[-3.6657442251453176e-05,0.005165466107428074,-0.011319421231746674,6.801189738325775e-05,0.0059885140508413315,0.0001198991812998429,0.003458155319094658,-0.0008798664784990251,-0.0004186264704912901,1.3324175597517751e-05,4.5383567339740694e-05,2.7964275432168506e-05,0.0013580663362517953,0.07166702300310135,0.0019802215974777937,-0.5218783617019653],[0.00010515956091694534,0.09167566895484924,0.0038696546107530594,0.0025980337522923946,0.020058762282133102,0.02943846583366394,-0.0011743697104975581,0.05781788006424904,0.006489533465355635,0.23683875799179077,0.015201711095869541,-0.002070346614345908,-0.0007509749848395586,-0.00036623456981033087,0.02672691084444523,-9.627307008486241e-05],[-0.006546259392052889,0.00020172922813799232,0.038284074515104294,0.010537002235651016,0.0005045301513746381,0.0010363374603912234,0.10071657598018646,1.9883242202922702e-05,-0.0009999992325901985,-0.0002972991205751896,7.789791561663151e-05,0.02183574065566063,-0.00015845400048419833,-0.008181119337677956,-0.04328993707895279,-0.0016668010503053665],[-0.0015205807285383344,0.0007848890963941813,0.00036252127029001713,8.3557577454485e-05,0.0002458651433698833,-0.0015087828505784273,-0.0009347331942990422,-0.0014857902424409986,-0.0006804289296269417,0.00023364712251350284,-0.0001365991629427299,-4.6264613047242165e-05,0.009581461548805237,-0.0009300686651840806,-0.0012034655082970858,-0.0013749867212027311]],\"type\":\"heatmap\",\"xaxis\":\"x\",\"yaxis\":\"y\",\"hovertemplate\":\"Head: %{x}\\u003cbr\\u003eLayer: %{y}\\u003cbr\\u003ecolor: %{z}\\u003cextra\\u003e\\u003c\\u002fextra\\u003e\"}],                        {\"template\":{\"data\":{\"histogram2dcontour\":[{\"type\":\"histogram2dcontour\",\"colorbar\":{\"outlinewidth\":0,\"ticks\":\"\"},\"colorscale\":[[0.0,\"#0d0887\"],[0.1111111111111111,\"#46039f\"],[0.2222222222222222,\"#7201a8\"],[0.3333333333333333,\"#9c179e\"],[0.4444444444444444,\"#bd3786\"],[0.5555555555555556,\"#d8576b\"],[0.6666666666666666,\"#ed7953\"],[0.7777777777777778,\"#fb9f3a\"],[0.8888888888888888,\"#fdca26\"],[1.0,\"#f0f921\"]]}],\"choropleth\":[{\"type\":\"choropleth\",\"colorbar\":{\"outlinewidth\":0,\"ticks\":\"\"}}],\"histogram2d\":[{\"type\":\"histogram2d\",\"colorbar\":{\"outlinewidth\":0,\"ticks\":\"\"},\"colorscale\":[[0.0,\"#0d0887\"],[0.1111111111111111,\"#46039f\"],[0.2222222222222222,\"#7201a8\"],[0.3333333333333333,\"#9c179e\"],[0.4444444444444444,\"#bd3786\"],[0.5555555555555556,\"#d8576b\"],[0.6666666666666666,\"#ed7953\"],[0.7777777777777778,\"#fb9f3a\"],[0.8888888888888888,\"#fdca26\"],[1.0,\"#f0f921\"]]}],\"heatmap\":[{\"type\":\"heatmap\",\"colorbar\":{\"outlinewidth\":0,\"ticks\":\"\"},\"colorscale\":[[0.0,\"#0d0887\"],[0.1111111111111111,\"#46039f\"],[0.2222222222222222,\"#7201a8\"],[0.3333333333333333,\"#9c179e\"],[0.4444444444444444,\"#bd3786\"],[0.5555555555555556,\"#d8576b\"],[0.6666666666666666,\"#ed7953\"],[0.7777777777777778,\"#fb9f3a\"],[0.8888888888888888,\"#fdca26\"],[1.0,\"#f0f921\"]]}],\"heatmapgl\":[{\"type\":\"heatmapgl\",\"colorbar\":{\"outlinewidth\":0,\"ticks\":\"\"},\"colorscale\":[[0.0,\"#0d0887\"],[0.1111111111111111,\"#46039f\"],[0.2222222222222222,\"#7201a8\"],[0.3333333333333333,\"#9c179e\"],[0.4444444444444444,\"#bd3786\"],[0.5555555555555556,\"#d8576b\"],[0.6666666666666666,\"#ed7953\"],[0.7777777777777778,\"#fb9f3a\"],[0.8888888888888888,\"#fdca26\"],[1.0,\"#f0f921\"]]}],\"contourcarpet\":[{\"type\":\"contourcarpet\",\"colorbar\":{\"outlinewidth\":0,\"ticks\":\"\"}}],\"contour\":[{\"type\":\"contour\",\"colorbar\":{\"outlinewidth\":0,\"ticks\":\"\"},\"colorscale\":[[0.0,\"#0d0887\"],[0.1111111111111111,\"#46039f\"],[0.2222222222222222,\"#7201a8\"],[0.3333333333333333,\"#9c179e\"],[0.4444444444444444,\"#bd3786\"],[0.5555555555555556,\"#d8576b\"],[0.6666666666666666,\"#ed7953\"],[0.7777777777777778,\"#fb9f3a\"],[0.8888888888888888,\"#fdca26\"],[1.0,\"#f0f921\"]]}],\"surface\":[{\"type\":\"surface\",\"colorbar\":{\"outlinewidth\":0,\"ticks\":\"\"},\"colorscale\":[[0.0,\"#0d0887\"],[0.1111111111111111,\"#46039f\"],[0.2222222222222222,\"#7201a8\"],[0.3333333333333333,\"#9c179e\"],[0.4444444444444444,\"#bd3786\"],[0.5555555555555556,\"#d8576b\"],[0.6666666666666666,\"#ed7953\"],[0.7777777777777778,\"#fb9f3a\"],[0.8888888888888888,\"#fdca26\"],[1.0,\"#f0f921\"]]}],\"mesh3d\":[{\"type\":\"mesh3d\",\"colorbar\":{\"outlinewidth\":0,\"ticks\":\"\"}}],\"scatter\":[{\"fillpattern\":{\"fillmode\":\"overlay\",\"size\":10,\"solidity\":0.2},\"type\":\"scatter\"}],\"parcoords\":[{\"type\":\"parcoords\",\"line\":{\"colorbar\":{\"outlinewidth\":0,\"ticks\":\"\"}}}],\"scatterpolargl\":[{\"type\":\"scatterpolargl\",\"marker\":{\"colorbar\":{\"outlinewidth\":0,\"ticks\":\"\"}}}],\"bar\":[{\"error_x\":{\"color\":\"#2a3f5f\"},\"error_y\":{\"color\":\"#2a3f5f\"},\"marker\":{\"line\":{\"color\":\"#E5ECF6\",\"width\":0.5},\"pattern\":{\"fillmode\":\"overlay\",\"size\":10,\"solidity\":0.2}},\"type\":\"bar\"}],\"scattergeo\":[{\"type\":\"scattergeo\",\"marker\":{\"colorbar\":{\"outlinewidth\":0,\"ticks\":\"\"}}}],\"scatterpolar\":[{\"type\":\"scatterpolar\",\"marker\":{\"colorbar\":{\"outlinewidth\":0,\"ticks\":\"\"}}}],\"histogram\":[{\"marker\":{\"pattern\":{\"fillmode\":\"overlay\",\"size\":10,\"solidity\":0.2}},\"type\":\"histogram\"}],\"scattergl\":[{\"type\":\"scattergl\",\"marker\":{\"colorbar\":{\"outlinewidth\":0,\"ticks\":\"\"}}}],\"scatter3d\":[{\"type\":\"scatter3d\",\"line\":{\"colorbar\":{\"outlinewidth\":0,\"ticks\":\"\"}},\"marker\":{\"colorbar\":{\"outlinewidth\":0,\"ticks\":\"\"}}}],\"scattermapbox\":[{\"type\":\"scattermapbox\",\"marker\":{\"colorbar\":{\"outlinewidth\":0,\"ticks\":\"\"}}}],\"scatterternary\":[{\"type\":\"scatterternary\",\"marker\":{\"colorbar\":{\"outlinewidth\":0,\"ticks\":\"\"}}}],\"scattercarpet\":[{\"type\":\"scattercarpet\",\"marker\":{\"colorbar\":{\"outlinewidth\":0,\"ticks\":\"\"}}}],\"carpet\":[{\"aaxis\":{\"endlinecolor\":\"#2a3f5f\",\"gridcolor\":\"white\",\"linecolor\":\"white\",\"minorgridcolor\":\"white\",\"startlinecolor\":\"#2a3f5f\"},\"baxis\":{\"endlinecolor\":\"#2a3f5f\",\"gridcolor\":\"white\",\"linecolor\":\"white\",\"minorgridcolor\":\"white\",\"startlinecolor\":\"#2a3f5f\"},\"type\":\"carpet\"}],\"table\":[{\"cells\":{\"fill\":{\"color\":\"#EBF0F8\"},\"line\":{\"color\":\"white\"}},\"header\":{\"fill\":{\"color\":\"#C8D4E3\"},\"line\":{\"color\":\"white\"}},\"type\":\"table\"}],\"barpolar\":[{\"marker\":{\"line\":{\"color\":\"#E5ECF6\",\"width\":0.5},\"pattern\":{\"fillmode\":\"overlay\",\"size\":10,\"solidity\":0.2}},\"type\":\"barpolar\"}],\"pie\":[{\"automargin\":true,\"type\":\"pie\"}]},\"layout\":{\"autotypenumbers\":\"strict\",\"colorway\":[\"#636efa\",\"#EF553B\",\"#00cc96\",\"#ab63fa\",\"#FFA15A\",\"#19d3f3\",\"#FF6692\",\"#B6E880\",\"#FF97FF\",\"#FECB52\"],\"font\":{\"color\":\"#2a3f5f\"},\"hovermode\":\"closest\",\"hoverlabel\":{\"align\":\"left\"},\"paper_bgcolor\":\"white\",\"plot_bgcolor\":\"#E5ECF6\",\"polar\":{\"bgcolor\":\"#E5ECF6\",\"angularaxis\":{\"gridcolor\":\"white\",\"linecolor\":\"white\",\"ticks\":\"\"},\"radialaxis\":{\"gridcolor\":\"white\",\"linecolor\":\"white\",\"ticks\":\"\"}},\"ternary\":{\"bgcolor\":\"#E5ECF6\",\"aaxis\":{\"gridcolor\":\"white\",\"linecolor\":\"white\",\"ticks\":\"\"},\"baxis\":{\"gridcolor\":\"white\",\"linecolor\":\"white\",\"ticks\":\"\"},\"caxis\":{\"gridcolor\":\"white\",\"linecolor\":\"white\",\"ticks\":\"\"}},\"coloraxis\":{\"colorbar\":{\"outlinewidth\":0,\"ticks\":\"\"}},\"colorscale\":{\"sequential\":[[0.0,\"#0d0887\"],[0.1111111111111111,\"#46039f\"],[0.2222222222222222,\"#7201a8\"],[0.3333333333333333,\"#9c179e\"],[0.4444444444444444,\"#bd3786\"],[0.5555555555555556,\"#d8576b\"],[0.6666666666666666,\"#ed7953\"],[0.7777777777777778,\"#fb9f3a\"],[0.8888888888888888,\"#fdca26\"],[1.0,\"#f0f921\"]],\"sequentialminus\":[[0.0,\"#0d0887\"],[0.1111111111111111,\"#46039f\"],[0.2222222222222222,\"#7201a8\"],[0.3333333333333333,\"#9c179e\"],[0.4444444444444444,\"#bd3786\"],[0.5555555555555556,\"#d8576b\"],[0.6666666666666666,\"#ed7953\"],[0.7777777777777778,\"#fb9f3a\"],[0.8888888888888888,\"#fdca26\"],[1.0,\"#f0f921\"]],\"diverging\":[[0,\"#8e0152\"],[0.1,\"#c51b7d\"],[0.2,\"#de77ae\"],[0.3,\"#f1b6da\"],[0.4,\"#fde0ef\"],[0.5,\"#f7f7f7\"],[0.6,\"#e6f5d0\"],[0.7,\"#b8e186\"],[0.8,\"#7fbc41\"],[0.9,\"#4d9221\"],[1,\"#276419\"]]},\"xaxis\":{\"gridcolor\":\"white\",\"linecolor\":\"white\",\"ticks\":\"\",\"title\":{\"standoff\":15},\"zerolinecolor\":\"white\",\"automargin\":true,\"zerolinewidth\":2},\"yaxis\":{\"gridcolor\":\"white\",\"linecolor\":\"white\",\"ticks\":\"\",\"title\":{\"standoff\":15},\"zerolinecolor\":\"white\",\"automargin\":true,\"zerolinewidth\":2},\"scene\":{\"xaxis\":{\"backgroundcolor\":\"#E5ECF6\",\"gridcolor\":\"white\",\"linecolor\":\"white\",\"showbackground\":true,\"ticks\":\"\",\"zerolinecolor\":\"white\",\"gridwidth\":2},\"yaxis\":{\"backgroundcolor\":\"#E5ECF6\",\"gridcolor\":\"white\",\"linecolor\":\"white\",\"showbackground\":true,\"ticks\":\"\",\"zerolinecolor\":\"white\",\"gridwidth\":2},\"zaxis\":{\"backgroundcolor\":\"#E5ECF6\",\"gridcolor\":\"white\",\"linecolor\":\"white\",\"showbackground\":true,\"ticks\":\"\",\"zerolinecolor\":\"white\",\"gridwidth\":2}},\"shapedefaults\":{\"line\":{\"color\":\"#2a3f5f\"}},\"annotationdefaults\":{\"arrowcolor\":\"#2a3f5f\",\"arrowhead\":0,\"arrowwidth\":1},\"geo\":{\"bgcolor\":\"white\",\"landcolor\":\"#E5ECF6\",\"subunitcolor\":\"white\",\"showland\":true,\"showlakes\":true,\"lakecolor\":\"white\"},\"title\":{\"x\":0.05},\"mapbox\":{\"style\":\"light\"}}},\"xaxis\":{\"anchor\":\"y\",\"domain\":[0.0,1.0],\"scaleanchor\":\"y\",\"constrain\":\"domain\",\"title\":{\"text\":\"Head\"}},\"yaxis\":{\"anchor\":\"x\",\"domain\":[0.0,1.0],\"autorange\":\"reversed\",\"constrain\":\"domain\",\"title\":{\"text\":\"Layer\"}},\"coloraxis\":{\"colorscale\":[[0.0,\"rgb(103,0,31)\"],[0.1,\"rgb(178,24,43)\"],[0.2,\"rgb(214,96,77)\"],[0.3,\"rgb(244,165,130)\"],[0.4,\"rgb(253,219,199)\"],[0.5,\"rgb(247,247,247)\"],[0.6,\"rgb(209,229,240)\"],[0.7,\"rgb(146,197,222)\"],[0.8,\"rgb(67,147,195)\"],[0.9,\"rgb(33,102,172)\"],[1.0,\"rgb(5,48,97)\"]],\"cmid\":0.0},\"title\":{\"text\":\"Logit Difference From Each Head\"},\"width\":600},                        {\"responsive\": true}                    ).then(function(){\n",
       "                            \n",
       "var gd = document.getElementById('88e0509e-8cfc-4da8-9dad-4c7dd6664ea5');\n",
       "var x = new MutationObserver(function (mutations, observer) {{\n",
       "        var display = window.getComputedStyle(gd).display;\n",
       "        if (!display || display === 'none') {{\n",
       "            console.log([gd, 'removed!']);\n",
       "            Plotly.purge(gd);\n",
       "            observer.disconnect();\n",
       "        }}\n",
       "}});\n",
       "\n",
       "// Listen for the removal of the full notebook cells\n",
       "var notebookContainer = gd.closest('#notebook-container');\n",
       "if (notebookContainer) {{\n",
       "    x.observe(notebookContainer, {childList: true});\n",
       "}}\n",
       "\n",
       "// Listen for the clearing of the current output cell\n",
       "var outputEl = gd.closest('.output');\n",
       "if (outputEl) {{\n",
       "    x.observe(outputEl, {childList: true});\n",
       "}}\n",
       "\n",
       "                        })                };                });            </script>        </div>"
      ]
     },
     "metadata": {},
     "output_type": "display_data"
    }
   ],
   "source": [
    "per_head_residual, labels = cache.stack_head_results(layer=-1, pos_slice=-1, return_labels=True)\n",
    "per_head_residual = einops.rearrange(\n",
    "    per_head_residual,\n",
    "    \"(layer head) ... -> layer head ...\",\n",
    "    layer=model.cfg.n_layers\n",
    ")\n",
    "per_head_logit_diffs = residual_stack_to_logit_diff(per_head_residual, cache)\n",
    "\n",
    "imshow(\n",
    "    per_head_logit_diffs,\n",
    "    labels={\"x\":\"Head\", \"y\":\"Layer\"},\n",
    "    title=\"Logit Difference From Each Head\",\n",
    "    width=600\n",
    ")"
   ]
  },
  {
   "cell_type": "code",
   "execution_count": 37,
   "metadata": {},
   "outputs": [
    {
     "data": {
      "text/html": [
       "<h2>Top 3 Positive Logit Attribution Heads</h2>"
      ],
      "text/plain": [
       "<IPython.core.display.HTML object>"
      ]
     },
     "metadata": {},
     "output_type": "display_data"
    },
    {
     "data": {
      "text/html": [
       "<div id=\"circuits-vis-02888ba0-f739\" style=\"margin: 15px 0;\"/>\n",
       "    <script crossorigin type=\"module\">\n",
       "    import { render, AttentionPatterns } from \"https://unpkg.com/circuitsvis@1.39.1/dist/cdn/esm.js\";\n",
       "    render(\n",
       "      \"circuits-vis-02888ba0-f739\",\n",
       "      AttentionPatterns,\n",
       "      {\"tokens\": [\"<|endoftext|>\", \"When\", \" John\", \" and\", \" Mary\", \" went\", \" to\", \" the\", \" shops\", \",\", \" Mary\", \" gave\", \" the\", \" bag\", \" to\"], \"attention\": [[[1.0, 0.0, 0.0, 0.0, 0.0, 0.0, 0.0, 0.0, 0.0, 0.0, 0.0, 0.0, 0.0, 0.0, 0.0], [0.9966896772384644, 0.0033103011082857847, 0.0, 0.0, 0.0, 0.0, 0.0, 0.0, 0.0, 0.0, 0.0, 0.0, 0.0, 0.0, 0.0], [0.9797138571739197, 0.0008552884100936353, 0.019430845975875854, 0.0, 0.0, 0.0, 0.0, 0.0, 0.0, 0.0, 0.0, 0.0, 0.0, 0.0, 0.0], [0.6015378832817078, 0.0310099795460701, 0.3318050503730774, 0.035647083073854446, 0.0, 0.0, 0.0, 0.0, 0.0, 0.0, 0.0, 0.0, 0.0, 0.0, 0.0], [0.9284060001373291, 0.003624355886131525, 0.012629951350390911, 0.0098710423335433, 0.04546858370304108, 0.0, 0.0, 0.0, 0.0, 0.0, 0.0, 0.0, 0.0, 0.0, 0.0], [0.9673818349838257, 0.003992573823779821, 0.006143616046756506, 0.005732730496674776, 0.005720566026866436, 0.011028625071048737, 0.0, 0.0, 0.0, 0.0, 0.0, 0.0, 0.0, 0.0, 0.0], [0.9423089623451233, 0.00235015363432467, 0.014211475849151611, 0.004569084383547306, 0.016441870480775833, 0.007510990370064974, 0.012607371434569359, 0.0, 0.0, 0.0, 0.0, 0.0, 0.0, 0.0, 0.0], [0.9704345464706421, 0.0009687603451311588, 0.002472646301612258, 0.001783533371053636, 0.002838847227394581, 0.0033803610131144524, 0.0050174579955637455, 0.013103833422064781, 0.0, 0.0, 0.0, 0.0, 0.0, 0.0, 0.0], [0.953545868396759, 0.001957924570888281, 0.0008470875327475369, 0.0007002459606155753, 0.0010827978840097785, 0.0030891995411366224, 0.008972572162747383, 0.001375016407109797, 0.028429243713617325, 0.0, 0.0, 0.0, 0.0, 0.0, 0.0], [0.8170449733734131, 0.018437113612890244, 0.03864249959588051, 0.014089287258684635, 0.058867644518613815, 0.007410593796521425, 0.005727047100663185, 0.003562216181308031, 0.02244054526090622, 0.01377804484218359, 0.0, 0.0, 0.0, 0.0, 0.0], [0.7751564383506775, 0.004067752510309219, 0.0065652793273329735, 0.06057177856564522, 0.02721996419131756, 0.05876123532652855, 0.014003431424498558, 0.004499724134802818, 0.0026583941653370857, 0.006731491070240736, 0.039764419198036194, 0.0, 0.0, 0.0, 0.0], [0.6817517280578613, 0.001920425216667354, 0.010257966816425323, 0.004810892045497894, 0.017662109807133675, 0.001445445348508656, 0.0028116547036916018, 0.00416903430595994, 0.0012225302634760737, 0.0029568311292678118, 0.26197153329849243, 0.009019778110086918, 0.0, 0.0, 0.0], [0.7745603322982788, 0.0007539248326793313, 0.0044562858529388905, 0.006766632664948702, 0.008859273046255112, 0.002027535578235984, 0.002361893653869629, 0.004423664882779121, 0.04354311153292656, 0.009206258691847324, 0.11276979744434357, 0.01661684177815914, 0.013654399663209915, 0.0, 0.0], [0.9463383555412292, 0.0005440331879071891, 0.00048685501678846776, 0.0012530083768069744, 0.0015663172816857696, 0.001527706510387361, 0.0036484086886048317, 0.0008218613802455366, 0.0068104262463748455, 0.005034007132053375, 0.0043494668789207935, 0.0030173060949891806, 0.0006291178870014846, 0.0239731352776289, 0.0], [0.33731743693351746, 0.00169580546207726, 0.029106128960847855, 0.01594896987080574, 0.04314030706882477, 0.0018987349467352033, 0.001566421939060092, 0.005032932385802269, 0.004885953851044178, 0.0031649507582187653, 0.5203213691711426, 0.00954475812613964, 0.011273439973592758, 0.006541445851325989, 0.008561399765312672]], [[1.0, 0.0, 0.0, 0.0, 0.0, 0.0, 0.0, 0.0, 0.0, 0.0, 0.0, 0.0, 0.0, 0.0, 0.0], [0.9975179433822632, 0.0024820214603096247, 0.0, 0.0, 0.0, 0.0, 0.0, 0.0, 0.0, 0.0, 0.0, 0.0, 0.0, 0.0, 0.0], [0.970051109790802, 0.0008941392879933119, 0.029054736718535423, 0.0, 0.0, 0.0, 0.0, 0.0, 0.0, 0.0, 0.0, 0.0, 0.0, 0.0, 0.0], [0.9936588406562805, 0.00045737955952063203, 0.0053326645866036415, 0.0005511769559234381, 0.0, 0.0, 0.0, 0.0, 0.0, 0.0, 0.0, 0.0, 0.0, 0.0, 0.0], [0.9736669063568115, 0.0017005872214213014, 0.008624441921710968, 0.003176206024363637, 0.012831766158342361, 0.0, 0.0, 0.0, 0.0, 0.0, 0.0, 0.0, 0.0, 0.0, 0.0], [0.9924975037574768, 0.000696167116984725, 0.0017653647810220718, 0.0008011978352442384, 0.0019341977313160896, 0.0023055020719766617, 0.0, 0.0, 0.0, 0.0, 0.0, 0.0, 0.0, 0.0, 0.0], [0.9861802458763123, 0.0005996852414682508, 0.0032126905862241983, 0.00038438974297605455, 0.006231652572751045, 0.001824902486987412, 0.0015664692036807537, 0.0, 0.0, 0.0, 0.0, 0.0, 0.0, 0.0, 0.0], [0.9953904151916504, 0.0004554424376692623, 0.000499869987834245, 0.0002537434338591993, 0.0010606576688587666, 0.0005557254771701992, 0.00024214308359660208, 0.0015419943956658244, 0.0, 0.0, 0.0, 0.0, 0.0, 0.0, 0.0], [0.9315792918205261, 0.004524555057287216, 0.026321733370423317, 0.0011300680926069617, 0.02510976418852806, 0.0019423678750172257, 0.0009358199895359576, 0.001134326565079391, 0.007322062738239765, 0.0, 0.0, 0.0, 0.0, 0.0, 0.0], [0.7227275371551514, 0.0061338902451097965, 0.12970846891403198, 0.0029433195013552904, 0.12729093432426453, 0.0015472029335796833, 0.0007003488717600703, 0.0010199116077274084, 0.0062768361531198025, 0.0016515689203515649, 0.0, 0.0, 0.0, 0.0, 0.0], [0.9695630073547363, 0.002605085028335452, 0.002215068554505706, 0.00432551046833396, 0.008022758178412914, 0.0038362557534128428, 0.0008313529542647302, 0.0013067448744550347, 0.0023536058142781258, 0.0006950932438485324, 0.004245619289577007, 0.0, 0.0, 0.0, 0.0], [0.5866753458976746, 0.007844289764761925, 0.3321167826652527, 0.002790381433442235, 0.05088068172335625, 0.00028873811243101954, 0.000164236465934664, 0.0002392782480455935, 0.000495361746288836, 0.0008430437883362174, 0.016350651159882545, 0.0013111974112689495, 0.0, 0.0, 0.0], [0.9244917631149292, 0.003271594410762191, 0.02191323973238468, 0.0044837649911642075, 0.013607640750706196, 0.0007158665684983134, 0.00022578392236027867, 0.00045229989336803555, 0.025118766352534294, 0.0007662365678697824, 0.0024705843534320593, 0.001811093301512301, 0.0006714588380418718, 0.0, 0.0], [0.9342446327209473, 0.001797719276510179, 0.020744742825627327, 0.0010410156100988388, 0.012751927599310875, 0.0002336434554308653, 0.00020034580666106194, 0.0005184555775485933, 0.0022515186574310064, 0.0013840652536600828, 0.009013541042804718, 0.0011683398624882102, 0.0016923801740631461, 0.012957682833075523, 0.0], [0.744896411895752, 0.00922479946166277, 0.20323671400547028, 0.0028869095258414745, 0.02346227318048477, 0.0005859097000211477, 0.00030162811162881553, 0.00031487716478295624, 0.0005819447687827051, 0.001076592830941081, 0.008032457903027534, 0.0013741495786234736, 0.0012991440016776323, 0.0008495848160237074, 0.0018766068387776613]], [[1.0, 0.0, 0.0, 0.0, 0.0, 0.0, 0.0, 0.0, 0.0, 0.0, 0.0, 0.0, 0.0, 0.0, 0.0], [0.9967576861381531, 0.0032423462253063917, 0.0, 0.0, 0.0, 0.0, 0.0, 0.0, 0.0, 0.0, 0.0, 0.0, 0.0, 0.0, 0.0], [0.9906039834022522, 0.0009755534119904041, 0.008420426398515701, 0.0, 0.0, 0.0, 0.0, 0.0, 0.0, 0.0, 0.0, 0.0, 0.0, 0.0, 0.0], [0.9803962111473083, 0.000524533330462873, 0.015320224687457085, 0.0037590828724205494, 0.0, 0.0, 0.0, 0.0, 0.0, 0.0, 0.0, 0.0, 0.0, 0.0, 0.0], [0.9751425385475159, 0.0017234478145837784, 0.0031462933402508497, 0.004276523366570473, 0.015711285173892975, 0.0, 0.0, 0.0, 0.0, 0.0, 0.0, 0.0, 0.0, 0.0, 0.0], [0.9862046241760254, 0.0015419039409607649, 0.002002570079639554, 0.0012061982415616512, 0.004954745527356863, 0.004089991096407175, 0.0, 0.0, 0.0, 0.0, 0.0, 0.0, 0.0, 0.0, 0.0], [0.9704722762107849, 0.0019532013684511185, 0.004233759827911854, 0.001985413720831275, 0.009542090818285942, 0.004684485960751772, 0.007128833327442408, 0.0, 0.0, 0.0, 0.0, 0.0, 0.0, 0.0, 0.0], [0.9850805401802063, 0.0010632529156282544, 0.0011304460931569338, 0.001353214611299336, 0.0025969520211219788, 0.0018066682387143373, 0.0009370011393912137, 0.006031831726431847, 0.0, 0.0, 0.0, 0.0, 0.0, 0.0, 0.0], [0.9716393947601318, 0.0027392313349992037, 0.0030918545089662075, 0.0007360626477748156, 0.007093110121786594, 0.0012798618990927935, 0.0009956021094694734, 0.0012391603086143732, 0.011185623705387115, 0.0, 0.0, 0.0, 0.0, 0.0, 0.0], [0.7945529222488403, 0.005858704913407564, 0.061164721846580505, 0.0044876402243971825, 0.10247854888439178, 0.0018569050589576364, 0.001442544860765338, 0.003046141704544425, 0.022042475640773773, 0.0030693772714585066, 0.0, 0.0, 0.0, 0.0, 0.0], [0.9375708103179932, 0.002683499362319708, 0.001423022709786892, 0.00789350364357233, 0.009770704433321953, 0.010048608295619488, 0.004581533372402191, 0.002581168431788683, 0.011671895161271095, 0.003673397470265627, 0.008101928047835827, 0.0, 0.0, 0.0, 0.0], [0.37810781598091125, 0.011013343930244446, 0.4428359568119049, 0.007977282628417015, 0.10952307283878326, 0.0009125398937612772, 0.0008947259047999978, 0.0015455232933163643, 0.0029221668373793364, 0.001919916016049683, 0.04064076766371727, 0.0017068792367354035, 0.0, 0.0, 0.0], [0.8236671686172485, 0.003448174335062504, 0.018213290721178055, 0.013056633062660694, 0.02092246524989605, 0.0022592986933887005, 0.0007698379340581596, 0.001913642161525786, 0.0993778184056282, 0.0024630960542708635, 0.004474814981222153, 0.0068990751169621944, 0.0025346223264932632, 0.0, 0.0], [0.9455731511116028, 0.0005930501502007246, 0.007437809836119413, 0.0011686010984703898, 0.010874257422983646, 0.0006799354450777173, 0.00042599940206855536, 0.0008870736346580088, 0.0028279894031584263, 0.0014632961247116327, 0.008545727469027042, 0.0027332964818924665, 0.0009963902411982417, 0.015793485566973686, 0.0], [0.7088083028793335, 0.007060711737722158, 0.17793957889080048, 0.007964293472468853, 0.06479845196008682, 0.0014516895171254873, 0.0009804056026041508, 0.0014692948898300529, 0.0034366033505648375, 0.0019074531737715006, 0.017750084400177002, 0.0008923426503315568, 0.001787408022210002, 0.0009415816748514771, 0.0028117296751588583]]], \"headLabels\": [\"11.4\", \"18.8\", \"17.10\"]}\n",
       "    )\n",
       "    </script>"
      ],
      "text/plain": [
       "<circuitsvis.utils.render.RenderedHTML at 0x7f117fd36640>"
      ]
     },
     "metadata": {},
     "output_type": "display_data"
    },
    {
     "data": {
      "text/html": [
       "<h2>Top 3 Negative Logit Attribution Heads</h2>"
      ],
      "text/plain": [
       "<IPython.core.display.HTML object>"
      ]
     },
     "metadata": {},
     "output_type": "display_data"
    },
    {
     "data": {
      "text/html": [
       "<div id=\"circuits-vis-7a5c05ae-f0d5\" style=\"margin: 15px 0;\"/>\n",
       "    <script crossorigin type=\"module\">\n",
       "    import { render, AttentionPatterns } from \"https://unpkg.com/circuitsvis@1.39.1/dist/cdn/esm.js\";\n",
       "    render(\n",
       "      \"circuits-vis-7a5c05ae-f0d5\",\n",
       "      AttentionPatterns,\n",
       "      {\"tokens\": [\"<|endoftext|>\", \"When\", \" John\", \" and\", \" Mary\", \" went\", \" to\", \" the\", \" shops\", \",\", \" Mary\", \" gave\", \" the\", \" bag\", \" to\"], \"attention\": [[[1.0, 0.0, 0.0, 0.0, 0.0, 0.0, 0.0, 0.0, 0.0, 0.0, 0.0, 0.0, 0.0, 0.0, 0.0], [0.9793959856033325, 0.02060401439666748, 0.0, 0.0, 0.0, 0.0, 0.0, 0.0, 0.0, 0.0, 0.0, 0.0, 0.0, 0.0, 0.0], [0.968069314956665, 0.00461915135383606, 0.027311572805047035, 0.0, 0.0, 0.0, 0.0, 0.0, 0.0, 0.0, 0.0, 0.0, 0.0, 0.0, 0.0], [0.9756399393081665, 0.0026150408666580915, 0.007132755126804113, 0.014612257480621338, 0.0, 0.0, 0.0, 0.0, 0.0, 0.0, 0.0, 0.0, 0.0, 0.0, 0.0], [0.8867605924606323, 0.009358120150864124, 0.023876387625932693, 0.04253828898072243, 0.037466663867235184, 0.0, 0.0, 0.0, 0.0, 0.0, 0.0, 0.0, 0.0, 0.0, 0.0], [0.9652774930000305, 0.006046494003385305, 0.0005618626018986106, 0.0031503108330070972, 0.0015863977605476975, 0.023377487435936928, 0.0, 0.0, 0.0, 0.0, 0.0, 0.0, 0.0, 0.0, 0.0], [0.8979177474975586, 0.018226226791739464, 0.006468685809522867, 0.007796060293912888, 0.01656683348119259, 0.017252033576369286, 0.035772450268268585, 0.0, 0.0, 0.0, 0.0, 0.0, 0.0, 0.0, 0.0], [0.9505443572998047, 0.0030307339038699865, 0.001298896037042141, 0.0021674225572496653, 0.0018210357520729303, 0.0023531459737569094, 0.005354935768991709, 0.03342952951788902, 0.0, 0.0, 0.0, 0.0, 0.0, 0.0, 0.0], [0.8267439603805542, 0.02607753686606884, 0.03960847109556198, 0.015999360010027885, 0.030220940709114075, 0.0070564718917012215, 0.010542708449065685, 0.00751891452819109, 0.036231596022844315, 0.0, 0.0, 0.0, 0.0, 0.0, 0.0], [0.4380479156970978, 0.016342254355549812, 0.26195380091667175, 0.0368548221886158, 0.19495290517807007, 0.006382555700838566, 0.002125917235389352, 0.004834300372749567, 0.01589950919151306, 0.022606035694479942, 0.0, 0.0, 0.0, 0.0, 0.0], [0.8973986506462097, 0.009566240943968296, 0.001821074984036386, 0.008264251984655857, 0.003860160242766142, 0.010111984796822071, 0.008699537254869938, 0.0027469706255942583, 0.021391401067376137, 0.020078197121620178, 0.016061561182141304, 0.0, 0.0, 0.0, 0.0], [0.055192600935697556, 0.005124320276081562, 0.8278034329414368, 0.00791300181299448, 0.03709302842617035, 0.0012848423793911934, 9.452782978769392e-05, 0.0002089270274154842, 0.0005644667544402182, 0.0036485770251601934, 0.05480656400322914, 0.006265814881771803, 0.0, 0.0, 0.0], [0.5613007545471191, 0.010071897879242897, 0.0704740583896637, 0.02137824147939682, 0.027135366573929787, 0.003989974036812782, 0.0013057534815743566, 0.012309503741562366, 0.14617404341697693, 0.023137973621487617, 0.06291089206933975, 0.03940228372812271, 0.020409222692251205, 0.0, 0.0], [0.5632005929946899, 0.00631683599203825, 0.025036999955773354, 0.006528899539262056, 0.03729249909520149, 0.005101187154650688, 0.0026952011976391077, 0.0037934265565127134, 0.004442008677870035, 0.03653549402952194, 0.13422168791294098, 0.09291024506092072, 0.013237128034234047, 0.06868775188922882, 0.0], [0.2794165015220642, 0.009246603585779667, 0.5490111112594604, 0.029255008324980736, 0.04447534680366516, 0.003906188067048788, 0.0005258775199763477, 0.0010408652015030384, 0.001491152448579669, 0.012151463888585567, 0.04811280220746994, 0.00676496047526598, 0.001730295130982995, 0.00033617086592130363, 0.01253566425293684]], [[1.0, 0.0, 0.0, 0.0, 0.0, 0.0, 0.0, 0.0, 0.0, 0.0, 0.0, 0.0, 0.0, 0.0, 0.0], [0.9725518822669983, 0.02744808793067932, 0.0, 0.0, 0.0, 0.0, 0.0, 0.0, 0.0, 0.0, 0.0, 0.0, 0.0, 0.0, 0.0], [0.9160958528518677, 0.019758593291044235, 0.06414555758237839, 0.0, 0.0, 0.0, 0.0, 0.0, 0.0, 0.0, 0.0, 0.0, 0.0, 0.0, 0.0], [0.9252250790596008, 0.02033945731818676, 0.019447175785899162, 0.03498826175928116, 0.0, 0.0, 0.0, 0.0, 0.0, 0.0, 0.0, 0.0, 0.0, 0.0, 0.0], [0.9137704968452454, 0.011173296719789505, 0.030875420197844505, 0.017412550747394562, 0.026768194511532784, 0.0, 0.0, 0.0, 0.0, 0.0, 0.0, 0.0, 0.0, 0.0, 0.0], [0.9630075097084045, 0.0029151486232876778, 0.02063676528632641, 0.0021379163954406977, 0.009660456329584122, 0.0016421014443039894, 0.0, 0.0, 0.0, 0.0, 0.0, 0.0, 0.0, 0.0, 0.0], [0.8658649921417236, 0.007243456784635782, 0.0619317926466465, 0.006468468811362982, 0.03817836567759514, 0.002508471952751279, 0.017804505303502083, 0.0, 0.0, 0.0, 0.0, 0.0, 0.0, 0.0, 0.0], [0.9454712867736816, 0.0023061286192387342, 0.01772919110953808, 0.001956708263605833, 0.011482163332402706, 0.0009925197809934616, 0.0033952605444937944, 0.016666729003190994, 0.0, 0.0, 0.0, 0.0, 0.0, 0.0, 0.0], [0.48779985308647156, 0.04595775157213211, 0.20504017174243927, 0.03424474224448204, 0.20550374686717987, 0.0021331359166651964, 0.009557717479765415, 0.00807054154574871, 0.001692400430329144, 0.0, 0.0, 0.0, 0.0, 0.0, 0.0], [0.4871327877044678, 0.04715852439403534, 0.12772157788276672, 0.06052318587899208, 0.15084224939346313, 0.005350795574486256, 0.01750180311501026, 0.016661645844578743, 0.004392052069306374, 0.08271528780460358, 0.0, 0.0, 0.0, 0.0, 0.0], [0.7977803945541382, 0.00578070804476738, 0.060162875801324844, 0.010681132785975933, 0.0674738809466362, 0.004350476898252964, 0.005287543870508671, 0.007248861715197563, 0.00855637900531292, 0.008002729155123234, 0.024674978107213974, 0.0, 0.0, 0.0, 0.0], [0.4322836101055145, 0.05018727853894234, 0.08012565225362778, 0.04112198203802109, 0.14602163434028625, 0.007666930556297302, 0.013056225143373013, 0.00776630686596036, 0.0027007253374904394, 0.08732131123542786, 0.09988245368003845, 0.03186594694852829, 0.0, 0.0, 0.0], [0.7061234712600708, 0.009023803286254406, 0.07750779390335083, 0.015470396727323532, 0.09859693050384521, 0.002749082399532199, 0.004303322173655033, 0.006948412861675024, 0.025968199595808983, 0.012284490279853344, 0.019653337076306343, 0.00319991004653275, 0.01817081868648529, 0.0, 0.0], [0.7319099307060242, 0.006456957198679447, 0.048620663583278656, 0.012288352474570274, 0.07345303893089294, 0.0017374951858073473, 0.002716001821681857, 0.004486684687435627, 0.002982125151902437, 0.016300301998853683, 0.06883028149604797, 0.006556438747793436, 0.014105874113738537, 0.009555879049003124, 0.0], [0.5482090711593628, 0.024711309000849724, 0.07579630613327026, 0.031540725380182266, 0.11052218079566956, 0.006098794285207987, 0.0077864439226686954, 0.005029147025197744, 0.0031262917909771204, 0.05063781887292862, 0.05930287390947342, 0.01672714203596115, 0.0064188470132648945, 0.005067044869065285, 0.049025967717170715]], [[1.0, 0.0, 0.0, 0.0, 0.0, 0.0, 0.0, 0.0, 0.0, 0.0, 0.0, 0.0, 0.0, 0.0, 0.0], [0.9817385077476501, 0.018261542543768883, 0.0, 0.0, 0.0, 0.0, 0.0, 0.0, 0.0, 0.0, 0.0, 0.0, 0.0, 0.0, 0.0], [0.9915634393692017, 0.0013943422818556428, 0.0070421830751001835, 0.0, 0.0, 0.0, 0.0, 0.0, 0.0, 0.0, 0.0, 0.0, 0.0, 0.0, 0.0], [0.9457692503929138, 0.0015761450631543994, 0.005625101272016764, 0.04702954366803169, 0.0, 0.0, 0.0, 0.0, 0.0, 0.0, 0.0, 0.0, 0.0, 0.0, 0.0], [0.9370940327644348, 0.005704849027097225, 0.015029959380626678, 0.030252965167164803, 0.011918262578547001, 0.0, 0.0, 0.0, 0.0, 0.0, 0.0, 0.0, 0.0, 0.0, 0.0], [0.9787903428077698, 0.0024389331229031086, 0.002304295776411891, 0.003854291047900915, 0.0037897767033427954, 0.008822308853268623, 0.0, 0.0, 0.0, 0.0, 0.0, 0.0, 0.0, 0.0, 0.0], [0.9807122945785522, 0.0008510639891028404, 0.0021246173419058323, 0.001652074046432972, 0.0018017676193267107, 0.002546129282563925, 0.010312089696526527, 0.0, 0.0, 0.0, 0.0, 0.0, 0.0, 0.0, 0.0], [0.9864463806152344, 0.00039466694579459727, 0.0002860955719370395, 0.0003524019557517022, 0.00023309857351705432, 0.0004884355585090816, 0.0024905118625611067, 0.009308462031185627, 0.0, 0.0, 0.0, 0.0, 0.0, 0.0, 0.0], [0.9765510559082031, 0.003299015574157238, 0.0004512056184466928, 0.0008699356694705784, 0.0011627977946773171, 0.0015348754823207855, 0.0024479194544255733, 0.002087364671751857, 0.01159571297466755, 0.0, 0.0, 0.0, 0.0, 0.0, 0.0], [0.7103880047798157, 0.06162438169121742, 0.05944041535258293, 0.05207408219575882, 0.08182830363512039, 0.006507463287562132, 0.002096607116982341, 0.001003422075882554, 0.004199419170618057, 0.020837906748056412, 0.0, 0.0, 0.0, 0.0, 0.0], [0.9051216840744019, 0.0037277957890182734, 0.0015643254155293107, 0.012782229110598564, 0.002431420376524329, 0.03403962031006813, 0.009156904183328152, 0.001365352887660265, 0.003974375780671835, 0.022923141717910767, 0.0029132056515663862, 0.0, 0.0, 0.0, 0.0], [0.6805102229118347, 0.015750927850604057, 0.14781628549098969, 0.07262653112411499, 0.04346615821123123, 0.0030906994361430407, 0.0011288539972156286, 0.0007782145985402167, 0.0015831913333386183, 0.012478131800889969, 0.0157962366938591, 0.004974499344825745, 0.0, 0.0, 0.0], [0.8126077055931091, 0.009048840031027794, 0.02311570569872856, 0.03794098272919655, 0.030172033235430717, 0.011991767212748528, 0.004293431993573904, 0.0037558276671916246, 0.020582053810358047, 0.016803966835141182, 0.005121099762618542, 0.005590640474110842, 0.018975911661982536, 0.0, 0.0], [0.9434786438941956, 0.0006356414523907006, 0.0018401597626507282, 0.001081939204595983, 0.004427620209753513, 0.0010258415713906288, 0.0004771061067003757, 0.0004633170028682798, 0.0024016876704990864, 0.003678468754515052, 0.0017205453477799892, 0.0017702652839943767, 0.0023344915825873613, 0.03466429561376572, 0.0], [0.17364372313022614, 0.018458373844623566, 0.7370471954345703, 0.05754925683140755, 0.0019546181429177523, 0.0018132064724341035, 0.0005421984824351966, 0.00021056956029497087, 0.00021306468988768756, 0.0033156336285173893, 0.0012249129358679056, 0.0001532962342025712, 0.0006900255684740841, 5.486731606652029e-05, 0.003129129996523261]]], \"headLabels\": [\"19.15\", \"20.15\", \"14.0\"]}\n",
       "    )\n",
       "    </script>"
      ],
      "text/plain": [
       "<circuitsvis.utils.render.RenderedHTML at 0x7f117fd36b80>"
      ]
     },
     "metadata": {},
     "output_type": "display_data"
    }
   ],
   "source": [
    "def topk_of_Nd_tensor(tensor: Float[Tensor, \"rows cols\"], k: int):\n",
    "    '''\n",
    "    Helper function: does same as tensor.topk(k).indices, but works over 2D tensors.\n",
    "    Returns a list of indices, i.e. shape [k, tensor.ndim].\n",
    "\n",
    "    Example: if tensor is 2D array of values for each head in each layer, this will\n",
    "    return a list of heads.\n",
    "    '''\n",
    "    i = t.topk(tensor.flatten(), k).indices\n",
    "    return np.array(np.unravel_index(utils.to_numpy(i), tensor.shape)).T.tolist()\n",
    "\n",
    "from IPython.display import HTML, display\n",
    "import circuitsvis as cv\n",
    "\n",
    "k = 3\n",
    "\n",
    "for head_type in [\"Positive\", \"Negative\"]:\n",
    "\n",
    "    # Get the heads with largest (or smallest) contribution to the logit difference\n",
    "    top_heads = topk_of_Nd_tensor(per_head_logit_diffs * (1 if head_type==\"Positive\" else -1), k)\n",
    "\n",
    "    # Get all their attention patterns\n",
    "    attn_patterns_for_important_heads: Float[Tensor, \"head q k\"] = t.stack([\n",
    "        cache[\"pattern\", layer][:, head][1]\n",
    "         for layer, head in top_heads\n",
    "    ])\n",
    "\n",
    "    # Display results\n",
    "    display(HTML(f\"<h2>Top {k} {head_type} Logit Attribution Heads</h2>\"))\n",
    "    display(cv.attention.attention_patterns(\n",
    "        attention = attn_patterns_for_important_heads,\n",
    "        tokens = model.to_str_tokens(tokens[1]),\n",
    "        attention_head_names = [f\"{layer}.{head}\" for layer, head in top_heads],\n",
    "    ))"
   ]
  },
  {
   "attachments": {},
   "cell_type": "markdown",
   "metadata": {},
   "source": [
    "# 2️⃣ Activation Patching"
   ]
  },
  {
   "cell_type": "code",
   "execution_count": 5,
   "metadata": {},
   "outputs": [
    {
     "name": "stdout",
     "output_type": "stream",
     "text": [
      "Clean string 0:     <|endoftext|>When John and Mary went to the shops, John gave the bag to \n",
      "Corrupted string 0: <|endoftext|>When John and Mary went to the shops, Mary gave the bag to\n",
      "Clean logit diff: 4.8005\n",
      "Corrupted logit diff: -4.8005\n"
     ]
    }
   ],
   "source": [
    "clean_tokens = tokens\n",
    "# Swap each adjacent pair to get corrupted tokens\n",
    "indices = [i+1 if i % 2 == 0 else i-1 for i in range(len(tokens))]\n",
    "corrupted_tokens = clean_tokens[indices]\n",
    "\n",
    "print(\n",
    "    \"Clean string 0:    \", model.to_string(clean_tokens[0]), \"\\n\"\n",
    "    \"Corrupted string 0:\", model.to_string(corrupted_tokens[0])\n",
    ")\n",
    "\n",
    "clean_logits, clean_cache = model.run_with_cache(clean_tokens)\n",
    "corrupted_logits, corrupted_cache = model.run_with_cache(corrupted_tokens)\n",
    "\n",
    "clean_logit_diff = logits_to_ave_logit_diff(clean_logits, answer_tokens)\n",
    "print(f\"Clean logit diff: {clean_logit_diff:.4f}\")\n",
    "\n",
    "corrupted_logit_diff = logits_to_ave_logit_diff(corrupted_logits, answer_tokens)\n",
    "print(f\"Corrupted logit diff: {corrupted_logit_diff:.4f}\")\n",
    "\n",
    "def ioi_metric(\n",
    "    logits: Float[Tensor, \"batch seq d_vocab\"],\n",
    "    answer_tokens: Float[Tensor, \"batch 2\"] = answer_tokens,\n",
    "    corrupted_logit_diff: float = corrupted_logit_diff,\n",
    "    clean_logit_diff: float = clean_logit_diff,\n",
    ") -> Float[Tensor, \"\"]:\n",
    "    '''\n",
    "    Linear function of logit diff, calibrated so that it equals 0 when performance is\n",
    "    same as on corrupted input, and 1 when performance is same as on clean input.\n",
    "    '''\n",
    "    # SOLUTION\n",
    "    patched_logit_diff = logits_to_ave_logit_diff(logits, answer_tokens)\n",
    "    return ((patched_logit_diff - corrupted_logit_diff) / (clean_logit_diff  - corrupted_logit_diff)).item()\n",
    "\n",
    "t.testing.assert_close(ioi_metric(clean_logits), 1.0)\n",
    "t.testing.assert_close(ioi_metric(corrupted_logits), 0.0)\n",
    "t.testing.assert_close(ioi_metric((clean_logits + corrupted_logits) / 2), 0.5)"
   ]
  },
  {
   "cell_type": "code",
   "execution_count": 33,
   "metadata": {},
   "outputs": [
    {
     "data": {
      "application/vnd.jupyter.widget-view+json": {
       "model_id": "936c4b5c56d74e5ba5af78d60c87f4a9",
       "version_major": 2,
       "version_minor": 0
      },
      "text/plain": [
       "  0%|          | 0/360 [00:00<?, ?it/s]"
      ]
     },
     "metadata": {},
     "output_type": "display_data"
    },
    {
     "data": {
      "application/vnd.plotly.v1+json": {
       "config": {
        "plotlyServerURL": "https://plot.ly"
       },
       "data": [
        {
         "coloraxis": "coloraxis",
         "hovertemplate": "Position: %{x}<br>Layer: %{y}<br>color: %{z}<extra></extra>",
         "name": "0",
         "type": "heatmap",
         "x": [
          "<|endoftext|> 0",
          "When 1",
          " John 2",
          " and 3",
          " Mary 4",
          " went 5",
          " to 6",
          " the 7",
          " shops 8",
          ", 9",
          " John 10",
          " gave 11",
          " the 12",
          " bag 13",
          " to 14"
         ],
         "xaxis": "x",
         "yaxis": "y",
         "z": [
          [
           0,
           0,
           0,
           0,
           0,
           0,
           0,
           0,
           0,
           0,
           1,
           0,
           0,
           0,
           0
          ],
          [
           0,
           0,
           0,
           0,
           0,
           0,
           0,
           0,
           0,
           0,
           1.0002281665802002,
           0.000033722866646712646,
           -0.00010394986747996882,
           0.00017035262135323137,
           -0.00037124950904399157
          ],
          [
           0,
           0,
           0,
           0,
           0,
           0,
           0,
           0,
           0,
           0,
           0.9995414614677429,
           0.0015713663306087255,
           -0.00007598819502163678,
           0.000008194805559469387,
           -0.0010999415535479784
          ],
          [
           0,
           0,
           0,
           0,
           0,
           0,
           0,
           0,
           0,
           0,
           0.9996242523193359,
           0.0009331648470833898,
           -0.00009794034122023731,
           0.0006573227583430707,
           -0.0011791579890996218
          ],
          [
           0,
           0,
           0,
           0,
           0,
           0,
           0,
           0,
           0,
           0,
           0.9994691014289856,
           0.0007063922239467502,
           0.0003307224833406508,
           0.0008631364908069372,
           -0.0013161353999748826
          ],
          [
           0,
           0,
           0,
           0,
           0,
           0,
           0,
           0,
           0,
           0,
           0.9991253614425659,
           0.0001384177157888189,
           0.00038893043529242277,
           0.0008565806783735752,
           -0.00036062111030332744
          ],
          [
           0,
           0,
           0,
           0,
           0,
           0,
           0,
           0,
           0,
           0,
           0.9988126754760742,
           -0.0009171725832857192,
           0.00027112389216199517,
           0.00029089077725075185,
           0.0013880510814487934
          ],
          [
           0,
           0,
           0,
           0,
           0,
           0,
           0,
           0,
           0,
           0,
           0.9993391633033752,
           -0.0006799205439165235,
           0.00023109350877348334,
           -0.0002639720623847097,
           0.0012725291308015585
          ],
          [
           0,
           0,
           0,
           0,
           0,
           0,
           0,
           0,
           0,
           0,
           1.0007476806640625,
           -0.0020910659804940224,
           0.00018897718109656125,
           -0.0001976686471607536,
           0.0013731017243117094
          ],
          [
           0,
           0,
           0,
           0,
           0,
           0,
           0,
           0,
           0,
           0,
           0.9996943473815918,
           0.00032640158315189183,
           0.00031011129613034427,
           -0.0007829763926565647,
           0.0003788979956880212
          ],
          [
           0,
           0,
           0,
           0,
           0,
           0,
           0,
           0,
           0,
           0,
           0.9957734942436218,
           0.0004945192486047745,
           0.0007154313498176634,
           -0.000006903502708155429,
           0.002659735968336463
          ],
          [
           0,
           0,
           0,
           0,
           0,
           0,
           0,
           0,
           0,
           0,
           0.9681434631347656,
           0.017178945243358612,
           0.0032409215345978737,
           -0.000689356995280832,
           0.012247161939740181
          ],
          [
           0,
           0,
           0,
           0,
           0,
           0,
           0,
           0,
           0,
           0,
           0.3998680114746094,
           0.03059513308107853,
           0.0035279879812151194,
           -0.0017141050193458796,
           0.5602074265480042
          ],
          [
           0,
           0,
           0,
           0,
           0,
           0,
           0,
           0,
           0,
           0,
           0.2259909063577652,
           0.039177972823381424,
           0.0027639339677989483,
           -0.0017851763404905796,
           0.7285721898078918
          ],
          [
           0,
           0,
           0,
           0,
           0,
           0,
           0,
           0,
           0,
           0,
           0.18181686103343964,
           0.03552785888314247,
           0.0030650063417851925,
           -0.0013206549920141697,
           0.7804062366485596
          ],
          [
           0,
           0,
           0,
           0,
           0,
           0,
           0,
           0,
           0,
           0,
           0.182809516787529,
           0.035698309540748596,
           0.002843895461410284,
           -0.0007388237863779068,
           0.7791203260421753
          ],
          [
           0,
           0,
           0,
           0,
           0,
           0,
           0,
           0,
           0,
           0,
           0.20150113105773926,
           0.023578044027090073,
           0.0007855590083636343,
           -0.0005534225492738187,
           0.7789933681488037
          ],
          [
           0,
           0,
           0,
           0,
           0,
           0,
           0,
           0,
           0,
           0,
           -0.057682886719703674,
           0.016330856829881668,
           -0.0009430979262106121,
           -0.00139415985904634,
           1.0423569679260254
          ],
          [
           0,
           0,
           0,
           0,
           0,
           0,
           0,
           0,
           0,
           0,
           -0.00953929964452982,
           0.01763392984867096,
           -0.00017060094978660345,
           -0.00043218908831477165,
           0.9906302094459534
          ],
          [
           0,
           0,
           0,
           0,
           0,
           0,
           0,
           0,
           0,
           0,
           0.017231987789273262,
           0.017477434128522873,
           -0.00011840252409456298,
           -0.0004560781817417592,
           0.964497447013855
          ],
          [
           0,
           0,
           0,
           0,
           0,
           0,
           0,
           0,
           0,
           0,
           0.0032566653098911047,
           0.016327181831002235,
           -0.000013161354218027554,
           -0.00020834672614000738,
           0.9805691838264465
          ],
          [
           0,
           0,
           0,
           0,
           0,
           0,
           0,
           0,
           0,
           0,
           0.0479581393301487,
           0.015537798404693604,
           0.00007832247501937672,
           -0.0004289111529942602,
           0.9369243383407593
          ],
          [
           0,
           0,
           0,
           0,
           0,
           0,
           0,
           0,
           0,
           0,
           -0.003991118632256985,
           0.013345563784241676,
           0.0000307429363601841,
           -0.00010697945981519297,
           0.9906896352767944
          ],
          [
           0,
           0,
           0,
           0,
           0,
           0,
           0,
           0,
           0,
           0,
           0.000014055332940188237,
           -0.00012759063974954188,
           0.00004132168760406785,
           -0.00018639457994140685,
           1.0002615451812744
          ]
         ]
        }
       ],
       "layout": {
        "coloraxis": {
         "cmid": 0,
         "colorscale": [
          [
           0,
           "rgb(103,0,31)"
          ],
          [
           0.1,
           "rgb(178,24,43)"
          ],
          [
           0.2,
           "rgb(214,96,77)"
          ],
          [
           0.3,
           "rgb(244,165,130)"
          ],
          [
           0.4,
           "rgb(253,219,199)"
          ],
          [
           0.5,
           "rgb(247,247,247)"
          ],
          [
           0.6,
           "rgb(209,229,240)"
          ],
          [
           0.7,
           "rgb(146,197,222)"
          ],
          [
           0.8,
           "rgb(67,147,195)"
          ],
          [
           0.9,
           "rgb(33,102,172)"
          ],
          [
           1,
           "rgb(5,48,97)"
          ]
         ]
        },
        "template": {
         "data": {
          "bar": [
           {
            "error_x": {
             "color": "#2a3f5f"
            },
            "error_y": {
             "color": "#2a3f5f"
            },
            "marker": {
             "line": {
              "color": "#E5ECF6",
              "width": 0.5
             },
             "pattern": {
              "fillmode": "overlay",
              "size": 10,
              "solidity": 0.2
             }
            },
            "type": "bar"
           }
          ],
          "barpolar": [
           {
            "marker": {
             "line": {
              "color": "#E5ECF6",
              "width": 0.5
             },
             "pattern": {
              "fillmode": "overlay",
              "size": 10,
              "solidity": 0.2
             }
            },
            "type": "barpolar"
           }
          ],
          "carpet": [
           {
            "aaxis": {
             "endlinecolor": "#2a3f5f",
             "gridcolor": "white",
             "linecolor": "white",
             "minorgridcolor": "white",
             "startlinecolor": "#2a3f5f"
            },
            "baxis": {
             "endlinecolor": "#2a3f5f",
             "gridcolor": "white",
             "linecolor": "white",
             "minorgridcolor": "white",
             "startlinecolor": "#2a3f5f"
            },
            "type": "carpet"
           }
          ],
          "choropleth": [
           {
            "colorbar": {
             "outlinewidth": 0,
             "ticks": ""
            },
            "type": "choropleth"
           }
          ],
          "contour": [
           {
            "colorbar": {
             "outlinewidth": 0,
             "ticks": ""
            },
            "colorscale": [
             [
              0,
              "#0d0887"
             ],
             [
              0.1111111111111111,
              "#46039f"
             ],
             [
              0.2222222222222222,
              "#7201a8"
             ],
             [
              0.3333333333333333,
              "#9c179e"
             ],
             [
              0.4444444444444444,
              "#bd3786"
             ],
             [
              0.5555555555555556,
              "#d8576b"
             ],
             [
              0.6666666666666666,
              "#ed7953"
             ],
             [
              0.7777777777777778,
              "#fb9f3a"
             ],
             [
              0.8888888888888888,
              "#fdca26"
             ],
             [
              1,
              "#f0f921"
             ]
            ],
            "type": "contour"
           }
          ],
          "contourcarpet": [
           {
            "colorbar": {
             "outlinewidth": 0,
             "ticks": ""
            },
            "type": "contourcarpet"
           }
          ],
          "heatmap": [
           {
            "colorbar": {
             "outlinewidth": 0,
             "ticks": ""
            },
            "colorscale": [
             [
              0,
              "#0d0887"
             ],
             [
              0.1111111111111111,
              "#46039f"
             ],
             [
              0.2222222222222222,
              "#7201a8"
             ],
             [
              0.3333333333333333,
              "#9c179e"
             ],
             [
              0.4444444444444444,
              "#bd3786"
             ],
             [
              0.5555555555555556,
              "#d8576b"
             ],
             [
              0.6666666666666666,
              "#ed7953"
             ],
             [
              0.7777777777777778,
              "#fb9f3a"
             ],
             [
              0.8888888888888888,
              "#fdca26"
             ],
             [
              1,
              "#f0f921"
             ]
            ],
            "type": "heatmap"
           }
          ],
          "heatmapgl": [
           {
            "colorbar": {
             "outlinewidth": 0,
             "ticks": ""
            },
            "colorscale": [
             [
              0,
              "#0d0887"
             ],
             [
              0.1111111111111111,
              "#46039f"
             ],
             [
              0.2222222222222222,
              "#7201a8"
             ],
             [
              0.3333333333333333,
              "#9c179e"
             ],
             [
              0.4444444444444444,
              "#bd3786"
             ],
             [
              0.5555555555555556,
              "#d8576b"
             ],
             [
              0.6666666666666666,
              "#ed7953"
             ],
             [
              0.7777777777777778,
              "#fb9f3a"
             ],
             [
              0.8888888888888888,
              "#fdca26"
             ],
             [
              1,
              "#f0f921"
             ]
            ],
            "type": "heatmapgl"
           }
          ],
          "histogram": [
           {
            "marker": {
             "pattern": {
              "fillmode": "overlay",
              "size": 10,
              "solidity": 0.2
             }
            },
            "type": "histogram"
           }
          ],
          "histogram2d": [
           {
            "colorbar": {
             "outlinewidth": 0,
             "ticks": ""
            },
            "colorscale": [
             [
              0,
              "#0d0887"
             ],
             [
              0.1111111111111111,
              "#46039f"
             ],
             [
              0.2222222222222222,
              "#7201a8"
             ],
             [
              0.3333333333333333,
              "#9c179e"
             ],
             [
              0.4444444444444444,
              "#bd3786"
             ],
             [
              0.5555555555555556,
              "#d8576b"
             ],
             [
              0.6666666666666666,
              "#ed7953"
             ],
             [
              0.7777777777777778,
              "#fb9f3a"
             ],
             [
              0.8888888888888888,
              "#fdca26"
             ],
             [
              1,
              "#f0f921"
             ]
            ],
            "type": "histogram2d"
           }
          ],
          "histogram2dcontour": [
           {
            "colorbar": {
             "outlinewidth": 0,
             "ticks": ""
            },
            "colorscale": [
             [
              0,
              "#0d0887"
             ],
             [
              0.1111111111111111,
              "#46039f"
             ],
             [
              0.2222222222222222,
              "#7201a8"
             ],
             [
              0.3333333333333333,
              "#9c179e"
             ],
             [
              0.4444444444444444,
              "#bd3786"
             ],
             [
              0.5555555555555556,
              "#d8576b"
             ],
             [
              0.6666666666666666,
              "#ed7953"
             ],
             [
              0.7777777777777778,
              "#fb9f3a"
             ],
             [
              0.8888888888888888,
              "#fdca26"
             ],
             [
              1,
              "#f0f921"
             ]
            ],
            "type": "histogram2dcontour"
           }
          ],
          "mesh3d": [
           {
            "colorbar": {
             "outlinewidth": 0,
             "ticks": ""
            },
            "type": "mesh3d"
           }
          ],
          "parcoords": [
           {
            "line": {
             "colorbar": {
              "outlinewidth": 0,
              "ticks": ""
             }
            },
            "type": "parcoords"
           }
          ],
          "pie": [
           {
            "automargin": true,
            "type": "pie"
           }
          ],
          "scatter": [
           {
            "fillpattern": {
             "fillmode": "overlay",
             "size": 10,
             "solidity": 0.2
            },
            "type": "scatter"
           }
          ],
          "scatter3d": [
           {
            "line": {
             "colorbar": {
              "outlinewidth": 0,
              "ticks": ""
             }
            },
            "marker": {
             "colorbar": {
              "outlinewidth": 0,
              "ticks": ""
             }
            },
            "type": "scatter3d"
           }
          ],
          "scattercarpet": [
           {
            "marker": {
             "colorbar": {
              "outlinewidth": 0,
              "ticks": ""
             }
            },
            "type": "scattercarpet"
           }
          ],
          "scattergeo": [
           {
            "marker": {
             "colorbar": {
              "outlinewidth": 0,
              "ticks": ""
             }
            },
            "type": "scattergeo"
           }
          ],
          "scattergl": [
           {
            "marker": {
             "colorbar": {
              "outlinewidth": 0,
              "ticks": ""
             }
            },
            "type": "scattergl"
           }
          ],
          "scattermapbox": [
           {
            "marker": {
             "colorbar": {
              "outlinewidth": 0,
              "ticks": ""
             }
            },
            "type": "scattermapbox"
           }
          ],
          "scatterpolar": [
           {
            "marker": {
             "colorbar": {
              "outlinewidth": 0,
              "ticks": ""
             }
            },
            "type": "scatterpolar"
           }
          ],
          "scatterpolargl": [
           {
            "marker": {
             "colorbar": {
              "outlinewidth": 0,
              "ticks": ""
             }
            },
            "type": "scatterpolargl"
           }
          ],
          "scatterternary": [
           {
            "marker": {
             "colorbar": {
              "outlinewidth": 0,
              "ticks": ""
             }
            },
            "type": "scatterternary"
           }
          ],
          "surface": [
           {
            "colorbar": {
             "outlinewidth": 0,
             "ticks": ""
            },
            "colorscale": [
             [
              0,
              "#0d0887"
             ],
             [
              0.1111111111111111,
              "#46039f"
             ],
             [
              0.2222222222222222,
              "#7201a8"
             ],
             [
              0.3333333333333333,
              "#9c179e"
             ],
             [
              0.4444444444444444,
              "#bd3786"
             ],
             [
              0.5555555555555556,
              "#d8576b"
             ],
             [
              0.6666666666666666,
              "#ed7953"
             ],
             [
              0.7777777777777778,
              "#fb9f3a"
             ],
             [
              0.8888888888888888,
              "#fdca26"
             ],
             [
              1,
              "#f0f921"
             ]
            ],
            "type": "surface"
           }
          ],
          "table": [
           {
            "cells": {
             "fill": {
              "color": "#EBF0F8"
             },
             "line": {
              "color": "white"
             }
            },
            "header": {
             "fill": {
              "color": "#C8D4E3"
             },
             "line": {
              "color": "white"
             }
            },
            "type": "table"
           }
          ]
         },
         "layout": {
          "annotationdefaults": {
           "arrowcolor": "#2a3f5f",
           "arrowhead": 0,
           "arrowwidth": 1
          },
          "autotypenumbers": "strict",
          "coloraxis": {
           "colorbar": {
            "outlinewidth": 0,
            "ticks": ""
           }
          },
          "colorscale": {
           "diverging": [
            [
             0,
             "#8e0152"
            ],
            [
             0.1,
             "#c51b7d"
            ],
            [
             0.2,
             "#de77ae"
            ],
            [
             0.3,
             "#f1b6da"
            ],
            [
             0.4,
             "#fde0ef"
            ],
            [
             0.5,
             "#f7f7f7"
            ],
            [
             0.6,
             "#e6f5d0"
            ],
            [
             0.7,
             "#b8e186"
            ],
            [
             0.8,
             "#7fbc41"
            ],
            [
             0.9,
             "#4d9221"
            ],
            [
             1,
             "#276419"
            ]
           ],
           "sequential": [
            [
             0,
             "#0d0887"
            ],
            [
             0.1111111111111111,
             "#46039f"
            ],
            [
             0.2222222222222222,
             "#7201a8"
            ],
            [
             0.3333333333333333,
             "#9c179e"
            ],
            [
             0.4444444444444444,
             "#bd3786"
            ],
            [
             0.5555555555555556,
             "#d8576b"
            ],
            [
             0.6666666666666666,
             "#ed7953"
            ],
            [
             0.7777777777777778,
             "#fb9f3a"
            ],
            [
             0.8888888888888888,
             "#fdca26"
            ],
            [
             1,
             "#f0f921"
            ]
           ],
           "sequentialminus": [
            [
             0,
             "#0d0887"
            ],
            [
             0.1111111111111111,
             "#46039f"
            ],
            [
             0.2222222222222222,
             "#7201a8"
            ],
            [
             0.3333333333333333,
             "#9c179e"
            ],
            [
             0.4444444444444444,
             "#bd3786"
            ],
            [
             0.5555555555555556,
             "#d8576b"
            ],
            [
             0.6666666666666666,
             "#ed7953"
            ],
            [
             0.7777777777777778,
             "#fb9f3a"
            ],
            [
             0.8888888888888888,
             "#fdca26"
            ],
            [
             1,
             "#f0f921"
            ]
           ]
          },
          "colorway": [
           "#636efa",
           "#EF553B",
           "#00cc96",
           "#ab63fa",
           "#FFA15A",
           "#19d3f3",
           "#FF6692",
           "#B6E880",
           "#FF97FF",
           "#FECB52"
          ],
          "font": {
           "color": "#2a3f5f"
          },
          "geo": {
           "bgcolor": "white",
           "lakecolor": "white",
           "landcolor": "#E5ECF6",
           "showlakes": true,
           "showland": true,
           "subunitcolor": "white"
          },
          "hoverlabel": {
           "align": "left"
          },
          "hovermode": "closest",
          "mapbox": {
           "style": "light"
          },
          "paper_bgcolor": "white",
          "plot_bgcolor": "#E5ECF6",
          "polar": {
           "angularaxis": {
            "gridcolor": "white",
            "linecolor": "white",
            "ticks": ""
           },
           "bgcolor": "#E5ECF6",
           "radialaxis": {
            "gridcolor": "white",
            "linecolor": "white",
            "ticks": ""
           }
          },
          "scene": {
           "xaxis": {
            "backgroundcolor": "#E5ECF6",
            "gridcolor": "white",
            "gridwidth": 2,
            "linecolor": "white",
            "showbackground": true,
            "ticks": "",
            "zerolinecolor": "white"
           },
           "yaxis": {
            "backgroundcolor": "#E5ECF6",
            "gridcolor": "white",
            "gridwidth": 2,
            "linecolor": "white",
            "showbackground": true,
            "ticks": "",
            "zerolinecolor": "white"
           },
           "zaxis": {
            "backgroundcolor": "#E5ECF6",
            "gridcolor": "white",
            "gridwidth": 2,
            "linecolor": "white",
            "showbackground": true,
            "ticks": "",
            "zerolinecolor": "white"
           }
          },
          "shapedefaults": {
           "line": {
            "color": "#2a3f5f"
           }
          },
          "ternary": {
           "aaxis": {
            "gridcolor": "white",
            "linecolor": "white",
            "ticks": ""
           },
           "baxis": {
            "gridcolor": "white",
            "linecolor": "white",
            "ticks": ""
           },
           "bgcolor": "#E5ECF6",
           "caxis": {
            "gridcolor": "white",
            "linecolor": "white",
            "ticks": ""
           }
          },
          "title": {
           "x": 0.05
          },
          "xaxis": {
           "automargin": true,
           "gridcolor": "white",
           "linecolor": "white",
           "ticks": "",
           "title": {
            "standoff": 15
           },
           "zerolinecolor": "white",
           "zerolinewidth": 2
          },
          "yaxis": {
           "automargin": true,
           "gridcolor": "white",
           "linecolor": "white",
           "ticks": "",
           "title": {
            "standoff": 15
           },
           "zerolinecolor": "white",
           "zerolinewidth": 2
          }
         }
        },
        "title": {
         "text": "resid_pre Activation Patching"
        },
        "width": 600,
        "xaxis": {
         "anchor": "y",
         "constrain": "domain",
         "domain": [
          0,
          1
         ],
         "scaleanchor": "y",
         "title": {
          "text": "Position"
         }
        },
        "yaxis": {
         "anchor": "x",
         "autorange": "reversed",
         "constrain": "domain",
         "domain": [
          0,
          1
         ],
         "title": {
          "text": "Layer"
         }
        }
       }
      },
      "text/html": [
       "<div>                            <div id=\"f8035ab8-b533-43f5-ba06-53d74ddb8986\" class=\"plotly-graph-div\" style=\"height:525px; width:600px;\"></div>            <script type=\"text/javascript\">                require([\"plotly\"], function(Plotly) {                    window.PLOTLYENV=window.PLOTLYENV || {};                                    if (document.getElementById(\"f8035ab8-b533-43f5-ba06-53d74ddb8986\")) {                    Plotly.newPlot(                        \"f8035ab8-b533-43f5-ba06-53d74ddb8986\",                        [{\"coloraxis\":\"coloraxis\",\"name\":\"0\",\"x\":[\"\\u003c|endoftext|\\u003e 0\",\"When 1\",\" John 2\",\" and 3\",\" Mary 4\",\" went 5\",\" to 6\",\" the 7\",\" shops 8\",\", 9\",\" John 10\",\" gave 11\",\" the 12\",\" bag 13\",\" to 14\"],\"z\":[[0.0,0.0,0.0,0.0,0.0,0.0,0.0,0.0,0.0,0.0,1.0,0.0,0.0,0.0,0.0],[0.0,0.0,0.0,0.0,0.0,0.0,0.0,0.0,0.0,0.0,1.0002281665802002,3.3722866646712646e-05,-0.00010394986747996882,0.00017035262135323137,-0.00037124950904399157],[0.0,0.0,0.0,0.0,0.0,0.0,0.0,0.0,0.0,0.0,0.9995414614677429,0.0015713663306087255,-7.598819502163678e-05,8.194805559469387e-06,-0.0010999415535479784],[0.0,0.0,0.0,0.0,0.0,0.0,0.0,0.0,0.0,0.0,0.9996242523193359,0.0009331648470833898,-9.794034122023731e-05,0.0006573227583430707,-0.0011791579890996218],[0.0,0.0,0.0,0.0,0.0,0.0,0.0,0.0,0.0,0.0,0.9994691014289856,0.0007063922239467502,0.0003307224833406508,0.0008631364908069372,-0.0013161353999748826],[0.0,0.0,0.0,0.0,0.0,0.0,0.0,0.0,0.0,0.0,0.9991253614425659,0.0001384177157888189,0.00038893043529242277,0.0008565806783735752,-0.00036062111030332744],[0.0,0.0,0.0,0.0,0.0,0.0,0.0,0.0,0.0,0.0,0.9988126754760742,-0.0009171725832857192,0.00027112389216199517,0.00029089077725075185,0.0013880510814487934],[0.0,0.0,0.0,0.0,0.0,0.0,0.0,0.0,0.0,0.0,0.9993391633033752,-0.0006799205439165235,0.00023109350877348334,-0.0002639720623847097,0.0012725291308015585],[0.0,0.0,0.0,0.0,0.0,0.0,0.0,0.0,0.0,0.0,1.0007476806640625,-0.0020910659804940224,0.00018897718109656125,-0.0001976686471607536,0.0013731017243117094],[0.0,0.0,0.0,0.0,0.0,0.0,0.0,0.0,0.0,0.0,0.9996943473815918,0.00032640158315189183,0.00031011129613034427,-0.0007829763926565647,0.0003788979956880212],[0.0,0.0,0.0,0.0,0.0,0.0,0.0,0.0,0.0,0.0,0.9957734942436218,0.0004945192486047745,0.0007154313498176634,-6.903502708155429e-06,0.002659735968336463],[0.0,0.0,0.0,0.0,0.0,0.0,0.0,0.0,0.0,0.0,0.9681434631347656,0.017178945243358612,0.0032409215345978737,-0.000689356995280832,0.012247161939740181],[0.0,0.0,0.0,0.0,0.0,0.0,0.0,0.0,0.0,0.0,0.3998680114746094,0.03059513308107853,0.0035279879812151194,-0.0017141050193458796,0.5602074265480042],[0.0,0.0,0.0,0.0,0.0,0.0,0.0,0.0,0.0,0.0,0.2259909063577652,0.039177972823381424,0.0027639339677989483,-0.0017851763404905796,0.7285721898078918],[0.0,0.0,0.0,0.0,0.0,0.0,0.0,0.0,0.0,0.0,0.18181686103343964,0.03552785888314247,0.0030650063417851925,-0.0013206549920141697,0.7804062366485596],[0.0,0.0,0.0,0.0,0.0,0.0,0.0,0.0,0.0,0.0,0.182809516787529,0.035698309540748596,0.002843895461410284,-0.0007388237863779068,0.7791203260421753],[0.0,0.0,0.0,0.0,0.0,0.0,0.0,0.0,0.0,0.0,0.20150113105773926,0.023578044027090073,0.0007855590083636343,-0.0005534225492738187,0.7789933681488037],[0.0,0.0,0.0,0.0,0.0,0.0,0.0,0.0,0.0,0.0,-0.057682886719703674,0.016330856829881668,-0.0009430979262106121,-0.00139415985904634,1.0423569679260254],[0.0,0.0,0.0,0.0,0.0,0.0,0.0,0.0,0.0,0.0,-0.00953929964452982,0.01763392984867096,-0.00017060094978660345,-0.00043218908831477165,0.9906302094459534],[0.0,0.0,0.0,0.0,0.0,0.0,0.0,0.0,0.0,0.0,0.017231987789273262,0.017477434128522873,-0.00011840252409456298,-0.0004560781817417592,0.964497447013855],[0.0,0.0,0.0,0.0,0.0,0.0,0.0,0.0,0.0,0.0,0.0032566653098911047,0.016327181831002235,-1.3161354218027554e-05,-0.00020834672614000738,0.9805691838264465],[0.0,0.0,0.0,0.0,0.0,0.0,0.0,0.0,0.0,0.0,0.0479581393301487,0.015537798404693604,7.832247501937672e-05,-0.0004289111529942602,0.9369243383407593],[0.0,0.0,0.0,0.0,0.0,0.0,0.0,0.0,0.0,0.0,-0.003991118632256985,0.013345563784241676,3.07429363601841e-05,-0.00010697945981519297,0.9906896352767944],[0.0,0.0,0.0,0.0,0.0,0.0,0.0,0.0,0.0,0.0,1.4055332940188237e-05,-0.00012759063974954188,4.132168760406785e-05,-0.00018639457994140685,1.0002615451812744]],\"type\":\"heatmap\",\"xaxis\":\"x\",\"yaxis\":\"y\",\"hovertemplate\":\"Position: %{x}\\u003cbr\\u003eLayer: %{y}\\u003cbr\\u003ecolor: %{z}\\u003cextra\\u003e\\u003c\\u002fextra\\u003e\"}],                        {\"template\":{\"data\":{\"histogram2dcontour\":[{\"type\":\"histogram2dcontour\",\"colorbar\":{\"outlinewidth\":0,\"ticks\":\"\"},\"colorscale\":[[0.0,\"#0d0887\"],[0.1111111111111111,\"#46039f\"],[0.2222222222222222,\"#7201a8\"],[0.3333333333333333,\"#9c179e\"],[0.4444444444444444,\"#bd3786\"],[0.5555555555555556,\"#d8576b\"],[0.6666666666666666,\"#ed7953\"],[0.7777777777777778,\"#fb9f3a\"],[0.8888888888888888,\"#fdca26\"],[1.0,\"#f0f921\"]]}],\"choropleth\":[{\"type\":\"choropleth\",\"colorbar\":{\"outlinewidth\":0,\"ticks\":\"\"}}],\"histogram2d\":[{\"type\":\"histogram2d\",\"colorbar\":{\"outlinewidth\":0,\"ticks\":\"\"},\"colorscale\":[[0.0,\"#0d0887\"],[0.1111111111111111,\"#46039f\"],[0.2222222222222222,\"#7201a8\"],[0.3333333333333333,\"#9c179e\"],[0.4444444444444444,\"#bd3786\"],[0.5555555555555556,\"#d8576b\"],[0.6666666666666666,\"#ed7953\"],[0.7777777777777778,\"#fb9f3a\"],[0.8888888888888888,\"#fdca26\"],[1.0,\"#f0f921\"]]}],\"heatmap\":[{\"type\":\"heatmap\",\"colorbar\":{\"outlinewidth\":0,\"ticks\":\"\"},\"colorscale\":[[0.0,\"#0d0887\"],[0.1111111111111111,\"#46039f\"],[0.2222222222222222,\"#7201a8\"],[0.3333333333333333,\"#9c179e\"],[0.4444444444444444,\"#bd3786\"],[0.5555555555555556,\"#d8576b\"],[0.6666666666666666,\"#ed7953\"],[0.7777777777777778,\"#fb9f3a\"],[0.8888888888888888,\"#fdca26\"],[1.0,\"#f0f921\"]]}],\"heatmapgl\":[{\"type\":\"heatmapgl\",\"colorbar\":{\"outlinewidth\":0,\"ticks\":\"\"},\"colorscale\":[[0.0,\"#0d0887\"],[0.1111111111111111,\"#46039f\"],[0.2222222222222222,\"#7201a8\"],[0.3333333333333333,\"#9c179e\"],[0.4444444444444444,\"#bd3786\"],[0.5555555555555556,\"#d8576b\"],[0.6666666666666666,\"#ed7953\"],[0.7777777777777778,\"#fb9f3a\"],[0.8888888888888888,\"#fdca26\"],[1.0,\"#f0f921\"]]}],\"contourcarpet\":[{\"type\":\"contourcarpet\",\"colorbar\":{\"outlinewidth\":0,\"ticks\":\"\"}}],\"contour\":[{\"type\":\"contour\",\"colorbar\":{\"outlinewidth\":0,\"ticks\":\"\"},\"colorscale\":[[0.0,\"#0d0887\"],[0.1111111111111111,\"#46039f\"],[0.2222222222222222,\"#7201a8\"],[0.3333333333333333,\"#9c179e\"],[0.4444444444444444,\"#bd3786\"],[0.5555555555555556,\"#d8576b\"],[0.6666666666666666,\"#ed7953\"],[0.7777777777777778,\"#fb9f3a\"],[0.8888888888888888,\"#fdca26\"],[1.0,\"#f0f921\"]]}],\"surface\":[{\"type\":\"surface\",\"colorbar\":{\"outlinewidth\":0,\"ticks\":\"\"},\"colorscale\":[[0.0,\"#0d0887\"],[0.1111111111111111,\"#46039f\"],[0.2222222222222222,\"#7201a8\"],[0.3333333333333333,\"#9c179e\"],[0.4444444444444444,\"#bd3786\"],[0.5555555555555556,\"#d8576b\"],[0.6666666666666666,\"#ed7953\"],[0.7777777777777778,\"#fb9f3a\"],[0.8888888888888888,\"#fdca26\"],[1.0,\"#f0f921\"]]}],\"mesh3d\":[{\"type\":\"mesh3d\",\"colorbar\":{\"outlinewidth\":0,\"ticks\":\"\"}}],\"scatter\":[{\"fillpattern\":{\"fillmode\":\"overlay\",\"size\":10,\"solidity\":0.2},\"type\":\"scatter\"}],\"parcoords\":[{\"type\":\"parcoords\",\"line\":{\"colorbar\":{\"outlinewidth\":0,\"ticks\":\"\"}}}],\"scatterpolargl\":[{\"type\":\"scatterpolargl\",\"marker\":{\"colorbar\":{\"outlinewidth\":0,\"ticks\":\"\"}}}],\"bar\":[{\"error_x\":{\"color\":\"#2a3f5f\"},\"error_y\":{\"color\":\"#2a3f5f\"},\"marker\":{\"line\":{\"color\":\"#E5ECF6\",\"width\":0.5},\"pattern\":{\"fillmode\":\"overlay\",\"size\":10,\"solidity\":0.2}},\"type\":\"bar\"}],\"scattergeo\":[{\"type\":\"scattergeo\",\"marker\":{\"colorbar\":{\"outlinewidth\":0,\"ticks\":\"\"}}}],\"scatterpolar\":[{\"type\":\"scatterpolar\",\"marker\":{\"colorbar\":{\"outlinewidth\":0,\"ticks\":\"\"}}}],\"histogram\":[{\"marker\":{\"pattern\":{\"fillmode\":\"overlay\",\"size\":10,\"solidity\":0.2}},\"type\":\"histogram\"}],\"scattergl\":[{\"type\":\"scattergl\",\"marker\":{\"colorbar\":{\"outlinewidth\":0,\"ticks\":\"\"}}}],\"scatter3d\":[{\"type\":\"scatter3d\",\"line\":{\"colorbar\":{\"outlinewidth\":0,\"ticks\":\"\"}},\"marker\":{\"colorbar\":{\"outlinewidth\":0,\"ticks\":\"\"}}}],\"scattermapbox\":[{\"type\":\"scattermapbox\",\"marker\":{\"colorbar\":{\"outlinewidth\":0,\"ticks\":\"\"}}}],\"scatterternary\":[{\"type\":\"scatterternary\",\"marker\":{\"colorbar\":{\"outlinewidth\":0,\"ticks\":\"\"}}}],\"scattercarpet\":[{\"type\":\"scattercarpet\",\"marker\":{\"colorbar\":{\"outlinewidth\":0,\"ticks\":\"\"}}}],\"carpet\":[{\"aaxis\":{\"endlinecolor\":\"#2a3f5f\",\"gridcolor\":\"white\",\"linecolor\":\"white\",\"minorgridcolor\":\"white\",\"startlinecolor\":\"#2a3f5f\"},\"baxis\":{\"endlinecolor\":\"#2a3f5f\",\"gridcolor\":\"white\",\"linecolor\":\"white\",\"minorgridcolor\":\"white\",\"startlinecolor\":\"#2a3f5f\"},\"type\":\"carpet\"}],\"table\":[{\"cells\":{\"fill\":{\"color\":\"#EBF0F8\"},\"line\":{\"color\":\"white\"}},\"header\":{\"fill\":{\"color\":\"#C8D4E3\"},\"line\":{\"color\":\"white\"}},\"type\":\"table\"}],\"barpolar\":[{\"marker\":{\"line\":{\"color\":\"#E5ECF6\",\"width\":0.5},\"pattern\":{\"fillmode\":\"overlay\",\"size\":10,\"solidity\":0.2}},\"type\":\"barpolar\"}],\"pie\":[{\"automargin\":true,\"type\":\"pie\"}]},\"layout\":{\"autotypenumbers\":\"strict\",\"colorway\":[\"#636efa\",\"#EF553B\",\"#00cc96\",\"#ab63fa\",\"#FFA15A\",\"#19d3f3\",\"#FF6692\",\"#B6E880\",\"#FF97FF\",\"#FECB52\"],\"font\":{\"color\":\"#2a3f5f\"},\"hovermode\":\"closest\",\"hoverlabel\":{\"align\":\"left\"},\"paper_bgcolor\":\"white\",\"plot_bgcolor\":\"#E5ECF6\",\"polar\":{\"bgcolor\":\"#E5ECF6\",\"angularaxis\":{\"gridcolor\":\"white\",\"linecolor\":\"white\",\"ticks\":\"\"},\"radialaxis\":{\"gridcolor\":\"white\",\"linecolor\":\"white\",\"ticks\":\"\"}},\"ternary\":{\"bgcolor\":\"#E5ECF6\",\"aaxis\":{\"gridcolor\":\"white\",\"linecolor\":\"white\",\"ticks\":\"\"},\"baxis\":{\"gridcolor\":\"white\",\"linecolor\":\"white\",\"ticks\":\"\"},\"caxis\":{\"gridcolor\":\"white\",\"linecolor\":\"white\",\"ticks\":\"\"}},\"coloraxis\":{\"colorbar\":{\"outlinewidth\":0,\"ticks\":\"\"}},\"colorscale\":{\"sequential\":[[0.0,\"#0d0887\"],[0.1111111111111111,\"#46039f\"],[0.2222222222222222,\"#7201a8\"],[0.3333333333333333,\"#9c179e\"],[0.4444444444444444,\"#bd3786\"],[0.5555555555555556,\"#d8576b\"],[0.6666666666666666,\"#ed7953\"],[0.7777777777777778,\"#fb9f3a\"],[0.8888888888888888,\"#fdca26\"],[1.0,\"#f0f921\"]],\"sequentialminus\":[[0.0,\"#0d0887\"],[0.1111111111111111,\"#46039f\"],[0.2222222222222222,\"#7201a8\"],[0.3333333333333333,\"#9c179e\"],[0.4444444444444444,\"#bd3786\"],[0.5555555555555556,\"#d8576b\"],[0.6666666666666666,\"#ed7953\"],[0.7777777777777778,\"#fb9f3a\"],[0.8888888888888888,\"#fdca26\"],[1.0,\"#f0f921\"]],\"diverging\":[[0,\"#8e0152\"],[0.1,\"#c51b7d\"],[0.2,\"#de77ae\"],[0.3,\"#f1b6da\"],[0.4,\"#fde0ef\"],[0.5,\"#f7f7f7\"],[0.6,\"#e6f5d0\"],[0.7,\"#b8e186\"],[0.8,\"#7fbc41\"],[0.9,\"#4d9221\"],[1,\"#276419\"]]},\"xaxis\":{\"gridcolor\":\"white\",\"linecolor\":\"white\",\"ticks\":\"\",\"title\":{\"standoff\":15},\"zerolinecolor\":\"white\",\"automargin\":true,\"zerolinewidth\":2},\"yaxis\":{\"gridcolor\":\"white\",\"linecolor\":\"white\",\"ticks\":\"\",\"title\":{\"standoff\":15},\"zerolinecolor\":\"white\",\"automargin\":true,\"zerolinewidth\":2},\"scene\":{\"xaxis\":{\"backgroundcolor\":\"#E5ECF6\",\"gridcolor\":\"white\",\"linecolor\":\"white\",\"showbackground\":true,\"ticks\":\"\",\"zerolinecolor\":\"white\",\"gridwidth\":2},\"yaxis\":{\"backgroundcolor\":\"#E5ECF6\",\"gridcolor\":\"white\",\"linecolor\":\"white\",\"showbackground\":true,\"ticks\":\"\",\"zerolinecolor\":\"white\",\"gridwidth\":2},\"zaxis\":{\"backgroundcolor\":\"#E5ECF6\",\"gridcolor\":\"white\",\"linecolor\":\"white\",\"showbackground\":true,\"ticks\":\"\",\"zerolinecolor\":\"white\",\"gridwidth\":2}},\"shapedefaults\":{\"line\":{\"color\":\"#2a3f5f\"}},\"annotationdefaults\":{\"arrowcolor\":\"#2a3f5f\",\"arrowhead\":0,\"arrowwidth\":1},\"geo\":{\"bgcolor\":\"white\",\"landcolor\":\"#E5ECF6\",\"subunitcolor\":\"white\",\"showland\":true,\"showlakes\":true,\"lakecolor\":\"white\"},\"title\":{\"x\":0.05},\"mapbox\":{\"style\":\"light\"}}},\"xaxis\":{\"anchor\":\"y\",\"domain\":[0.0,1.0],\"scaleanchor\":\"y\",\"constrain\":\"domain\",\"title\":{\"text\":\"Position\"}},\"yaxis\":{\"anchor\":\"x\",\"domain\":[0.0,1.0],\"autorange\":\"reversed\",\"constrain\":\"domain\",\"title\":{\"text\":\"Layer\"}},\"coloraxis\":{\"colorscale\":[[0.0,\"rgb(103,0,31)\"],[0.1,\"rgb(178,24,43)\"],[0.2,\"rgb(214,96,77)\"],[0.3,\"rgb(244,165,130)\"],[0.4,\"rgb(253,219,199)\"],[0.5,\"rgb(247,247,247)\"],[0.6,\"rgb(209,229,240)\"],[0.7,\"rgb(146,197,222)\"],[0.8,\"rgb(67,147,195)\"],[0.9,\"rgb(33,102,172)\"],[1.0,\"rgb(5,48,97)\"]],\"cmid\":0.0},\"title\":{\"text\":\"resid_pre Activation Patching\"},\"width\":600},                        {\"responsive\": true}                    ).then(function(){\n",
       "                            \n",
       "var gd = document.getElementById('f8035ab8-b533-43f5-ba06-53d74ddb8986');\n",
       "var x = new MutationObserver(function (mutations, observer) {{\n",
       "        var display = window.getComputedStyle(gd).display;\n",
       "        if (!display || display === 'none') {{\n",
       "            console.log([gd, 'removed!']);\n",
       "            Plotly.purge(gd);\n",
       "            observer.disconnect();\n",
       "        }}\n",
       "}});\n",
       "\n",
       "// Listen for the removal of the full notebook cells\n",
       "var notebookContainer = gd.closest('#notebook-container');\n",
       "if (notebookContainer) {{\n",
       "    x.observe(notebookContainer, {childList: true});\n",
       "}}\n",
       "\n",
       "// Listen for the clearing of the current output cell\n",
       "var outputEl = gd.closest('.output');\n",
       "if (outputEl) {{\n",
       "    x.observe(outputEl, {childList: true});\n",
       "}}\n",
       "\n",
       "                        })                };                });            </script>        </div>"
      ]
     },
     "metadata": {},
     "output_type": "display_data"
    }
   ],
   "source": [
    "act_patch_resid_pre = patching.get_act_patch_resid_pre(\n",
    "    model = model,\n",
    "    corrupted_tokens = corrupted_tokens,\n",
    "    clean_cache = clean_cache,\n",
    "    patching_metric = ioi_metric\n",
    ")\n",
    "\n",
    "labels = [f\"{tok} {i}\" for i, tok in enumerate(model.to_str_tokens(clean_tokens[0]))]\n",
    "\n",
    "imshow(\n",
    "    act_patch_resid_pre,\n",
    "    labels={\"x\": \"Position\", \"y\": \"Layer\"},\n",
    "    x=labels,\n",
    "    title=\"resid_pre Activation Patching\",\n",
    "    width=600\n",
    ")"
   ]
  },
  {
   "cell_type": "code",
   "execution_count": 46,
   "metadata": {},
   "outputs": [
    {
     "data": {
      "application/vnd.jupyter.widget-view+json": {
       "model_id": "b86e2f809379493b929add9a812195b7",
       "version_major": 2,
       "version_minor": 0
      },
      "text/plain": [
       "  0%|          | 0/1920 [00:00<?, ?it/s]"
      ]
     },
     "metadata": {},
     "output_type": "display_data"
    },
    {
     "name": "stdout",
     "output_type": "stream",
     "text": [
      "results['z'].shape = (layer=24, head=16)\n",
      "results['q'].shape = (layer=24, head=16)\n",
      "results['k'].shape = (layer=24, head=16)\n",
      "results['v'].shape = (layer=24, head=16)\n",
      "results['pattern'].shape = (layer=24, head=16)\n"
     ]
    }
   ],
   "source": [
    "results = act_patch(\n",
    "    model=model,\n",
    "    orig_input=corrupted_tokens,\n",
    "    new_cache=clean_cache,\n",
    "    patching_nodes=IterNode([\"z\", \"q\", \"k\", \"v\", \"pattern\"]), # iterating over all heads' output in all layers\n",
    "    patching_metric=ioi_metric,\n",
    "    verbose=True,\n",
    ")"
   ]
  },
  {
   "cell_type": "code",
   "execution_count": null,
   "metadata": {},
   "outputs": [],
   "source": [
    "assert results.keys() == {\"z\", \"q\", \"k\", \"v\", \"pattern\"}\n",
    "assert all([r.shape == (model.cfg.n_layers, model.cfg.n_heads) for r in results.values()])\n",
    "\n",
    "imshow(\n",
    "    t.stack(tuple(results.values())) * 100,\n",
    "    facet_col=0,\n",
    "    facet_labels=[\"Output\", \"Query\", \"Key\", \"Value\", \"Pattern\"],\n",
    "    title=\"Patching output of attention heads (corrupted -> clean)\",\n",
    "    labels={\"x\": \"Head\", \"y\": \"Layer\", \"color\": \"Logit diff variation\"},\n",
    "    coloraxis=dict(colorbar_ticksuffix = \"%\"),\n",
    "    border=True,\n",
    "    width=1500,\n",
    ")"
   ]
  },
  {
   "attachments": {},
   "cell_type": "markdown",
   "metadata": {},
   "source": [
    "# 3️⃣ Path Patching - histogram experiment"
   ]
  },
  {
   "cell_type": "code",
   "execution_count": 11,
   "metadata": {},
   "outputs": [],
   "source": [
    "NAME_MOVERS = [(17, 10), (17, 11), (18, 8), (18, 12), (18, 13), (18, 14)]\n",
    "NEG_NAME_MOVERS = [(19, 15), (20, 15)]\n",
    "\n",
    "\n",
    "def get_io_vs_s_attn_for_nmh(\n",
    "    patched_cache: ActivationCache,\n",
    "    orig_dataset: IOIDataset,\n",
    "    orig_cache: ActivationCache,\n",
    "    neg_nmh: Tuple[int, int],\n",
    ") -> Float[Tensor, \"batch\"]:\n",
    "    '''\n",
    "    Returns the difference between patterns[END, IO] and patterns[END, S1], where patterns\n",
    "    are the attention patterns for the negative name mover head.\n",
    "\n",
    "    This is returned in the form of a tuple of 2 tensors: one for the patched distribution\n",
    "    (calculated using `patched_cache` which is returned by the path patching algorithm), and\n",
    "    one for the clean IOI distribution (which is just calculated directly from that cache).\n",
    "    '''\n",
    "    layer, head = neg_nmh\n",
    "    attn_pattern_patched = patched_cache[\"pattern\", layer][:, head]\n",
    "    attn_pattern_clean = orig_cache[\"pattern\", layer][:, head]\n",
    "    # both are (batch, seq_Q, seq_K), and I want all the \"end -> IO\" attention probs\n",
    "\n",
    "    N = orig_dataset.toks.size(0)\n",
    "    io_seq_pos = orig_dataset.word_idx[\"IO\"]\n",
    "    s1_seq_pos = orig_dataset.word_idx[\"S1\"]\n",
    "    end_seq_pos = orig_dataset.word_idx[\"end\"]\n",
    "\n",
    "    return (\n",
    "        attn_pattern_patched[range(N), end_seq_pos, io_seq_pos] - attn_pattern_patched[range(N), end_seq_pos, s1_seq_pos],\n",
    "        attn_pattern_clean[range(N), end_seq_pos, io_seq_pos] - attn_pattern_clean[range(N), end_seq_pos, s1_seq_pos],\n",
    "    )\n",
    "\n",
    "\n",
    "def get_nnmh_patching_patterns(num_batches = 50, N = 10, neg_nmh = NEG_NAME_MOVERS[0], orig_is_ioi = True):\n",
    "    results_patched = t.empty(size=(0,)).to(device)\n",
    "    results_clean = t.empty(size=(0,)).to(device)\n",
    "\n",
    "    for seed in tqdm(range(num_batches)):\n",
    "\n",
    "        ioi_dataset, abc_dataset, ioi_cache, abc_cache, ioi_metric = generate_data_and_caches(N, model=model, seed=seed)\n",
    "\n",
    "        if orig_is_ioi:\n",
    "            orig_dataset = ioi_dataset\n",
    "            new_dataset = abc_dataset\n",
    "            orig_cache = ioi_cache\n",
    "        else:\n",
    "            orig_dataset = abc_dataset\n",
    "            new_dataset = ioi_dataset\n",
    "            orig_cache = abc_cache\n",
    "\n",
    "        new_results_patched, new_results_clean = path_patch(\n",
    "            model,\n",
    "            orig_input=orig_dataset.toks,\n",
    "            new_input=new_dataset.toks,\n",
    "            orig_cache=ioi_cache,\n",
    "            new_cache=abc_cache,\n",
    "            sender_nodes=[Node(\"z\", layer=layer, head=head) for layer, head in NAME_MOVERS], # Output of all name mover heads\n",
    "            receiver_nodes=Node(\"q\", neg_nmh[0], head=neg_nmh[1]), # To query input of negative name mover head\n",
    "            patching_metric=partial(get_io_vs_s_attn_for_nmh, orig_dataset=ioi_dataset, orig_cache=ioi_cache, neg_nmh=neg_nmh),\n",
    "            apply_metric_to_cache=True,\n",
    "            direct_includes_mlps=False,\n",
    "        )\n",
    "        results_patched = t.concat([results_patched, new_results_patched])\n",
    "        results_clean = t.concat([results_clean, new_results_clean])\n",
    "\n",
    "        t.cuda.empty_cache()\n",
    "\n",
    "    return results_patched, results_clean"
   ]
  },
  {
   "cell_type": "code",
   "execution_count": 12,
   "metadata": {},
   "outputs": [
    {
     "data": {
      "application/vnd.jupyter.widget-view+json": {
       "model_id": "e00ca924cc214e5fb6d97e323d0fbcf2",
       "version_major": 2,
       "version_minor": 0
      },
      "text/plain": [
       "  0%|          | 0/50 [00:00<?, ?it/s]"
      ]
     },
     "metadata": {},
     "output_type": "display_data"
    }
   ],
   "source": [
    "results_patched, results_clean = get_nnmh_patching_patterns(neg_nmh = NEG_NAME_MOVERS[0])"
   ]
  },
  {
   "cell_type": "code",
   "execution_count": 13,
   "metadata": {},
   "outputs": [
    {
     "data": {
      "application/vnd.plotly.v1+json": {
       "config": {
        "plotlyServerURL": "https://plot.ly"
       },
       "data": [
        {
         "alignmentgroup": "True",
         "bingroup": "x",
         "hovertemplate": "Version=wide_variable_0<br>Attn diff (positive ⇒ more attn paid to IO than S1)=%{x}<br>count=%{y}<extra></extra>",
         "legendgroup": "wide_variable_0",
         "marker": {
          "color": "#1F77B4",
          "opacity": 0.7,
          "pattern": {
           "shape": ""
          }
         },
         "name": "Patched",
         "offsetgroup": "wide_variable_0",
         "orientation": "v",
         "showlegend": true,
         "type": "histogram",
         "x": [
          0.11704198271036148,
          0.14517664909362793,
          0.10484647750854492,
          0.4136693775653839,
          0.408512145280838,
          0.2525329291820526,
          0.3329426348209381,
          0.4221581518650055,
          -0.044355835765600204,
          0.12077349424362183,
          0.367724746465683,
          0.299250990152359,
          0.07942415773868561,
          0.13640494644641876,
          0.06516741216182709,
          0.017011716961860657,
          0.37732765078544617,
          0.24162650108337402,
          0.6645040512084961,
          0.20696784555912018,
          0.12008200585842133,
          0.13716554641723633,
          0.16020207107067108,
          0.14486388862133026,
          0.255557656288147,
          0.0785604938864708,
          0.6357201933860779,
          0.5922348499298096,
          0.40392830967903137,
          0.12935274839401245,
          0.07279589772224426,
          0.4111705720424652,
          0.16391268372535706,
          0.11104445904493332,
          0.07035486400127411,
          0.08156856149435043,
          0.36360636353492737,
          0.1627049595117569,
          0.25656384229660034,
          0.2336927354335785,
          0.14582161605358124,
          -0.09851109981536865,
          0.013964883983135223,
          0.23562344908714294,
          0.5703508853912354,
          0.07161301374435425,
          0.42151862382888794,
          0.07412269711494446,
          0.18343476951122284,
          0.2996276617050171,
          0.4289558231830597,
          0.32096022367477417,
          0.17274515330791473,
          0.19964812695980072,
          0.10976310819387436,
          0.05808430165052414,
          0.01056283712387085,
          0.06219018995761871,
          0.1726064234972,
          0.23320893943309784,
          0.3005123734474182,
          0.06582151353359222,
          0.30703234672546387,
          0.2818930149078369,
          0.41387540102005005,
          0.09020520746707916,
          0.6434992551803589,
          0.17462171614170074,
          0.16739922761917114,
          0.26922622323036194,
          0.16473397612571716,
          0.15428075194358826,
          0.12749485671520233,
          0.19063618779182434,
          0.08703771233558655,
          0.18678805232048035,
          0.21830545365810394,
          0.6334890723228455,
          0.2797572910785675,
          0.14138919115066528,
          0.3922341465950012,
          0.10442870855331421,
          0.2912989854812622,
          0.07521119713783264,
          0.17363734543323517,
          0.3450751006603241,
          0.20757648348808289,
          0.05871196836233139,
          0.3025881350040436,
          0.10007748007774353,
          0.26287567615509033,
          0.02995121479034424,
          -0.012196779251098633,
          0.011654525995254517,
          0.17310494184494019,
          0.1688029170036316,
          0.08777203410863876,
          0.3223663866519928,
          0.3137120306491852,
          0.4834071397781372,
          0.2640402317047119,
          0.1132907047867775,
          0.1265038549900055,
          0.09398671984672546,
          0.17057524621486664,
          0.0036711692810058594,
          0.0670388787984848,
          0.010643161833286285,
          0.11558496952056885,
          0.3828125,
          0.16217710077762604,
          0.262023001909256,
          0.4115724563598633,
          0.02330796979367733,
          0.05402974784374237,
          0.2984147071838379,
          0.2864918112754822,
          0.21625149250030518,
          0.17626100778579712,
          0.2852514386177063,
          -0.008345119655132294,
          0.180532768368721,
          0.14990964531898499,
          0.0662391185760498,
          0.2283763587474823,
          -0.01954859122633934,
          0.2144036591053009,
          0.10795510560274124,
          0.26461881399154663,
          0.12529832124710083,
          0.07427402585744858,
          0.5021101236343384,
          0.0721188485622406,
          0.20576007664203644,
          0.1128404289484024,
          0.16326817870140076,
          0.16102281212806702,
          0.06118529289960861,
          0.13029217720031738,
          0.11809495091438293,
          0.09993371367454529,
          0.22286219894886017,
          0.031213410198688507,
          0.14093007147312164,
          0.5765106678009033,
          0.24844427406787872,
          0.024344194680452347,
          0.3412913382053375,
          0.13750916719436646,
          0.055012211203575134,
          0.2000652402639389,
          0.09696094691753387,
          0.09676655381917953,
          0.4284667372703552,
          0.09831547737121582,
          0.0032436326146125793,
          0.37917518615722656,
          0.19837301969528198,
          -0.0216875858604908,
          0.18711519241333008,
          0.09359434247016907,
          0.08680861443281174,
          0.2825946807861328,
          0.05530714988708496,
          0.344099223613739,
          0.1902305632829666,
          0.49020394682884216,
          0.15240541100502014,
          0.6556227207183838,
          0.10681106895208359,
          0.11926695704460144,
          0.049471862614154816,
          0.3486254811286926,
          0.2748183608055115,
          0.63144451379776,
          0.02546236291527748,
          0.437164843082428,
          0.12499319761991501,
          0.056818556040525436,
          0.08941348642110825,
          0.5657280087471008,
          0.30021363496780396,
          0.4775189459323883,
          0.11520051211118698,
          0.01105877012014389,
          0.05704408138990402,
          0.1152462586760521,
          0.39570552110671997,
          0.27701544761657715,
          0.19574575126171112,
          0.329752653837204,
          0.3615409731864929,
          -0.010843262076377869,
          0.3965751826763153,
          0.2926845848560333,
          0.23171965777873993,
          0.09998823702335358,
          0.4104267656803131,
          0.09188248217105865,
          0.1427144557237625,
          0.23358063399791718,
          0.10176488012075424,
          0.1550544798374176,
          0.24141156673431396,
          0.4247673749923706,
          0.5095268487930298,
          0.09706456959247589,
          0.06435610353946686,
          0.03985431790351868,
          0.43406057357788086,
          0.14967145025730133,
          0.0688139945268631,
          0.01202448457479477,
          0.5994890928268433,
          0.33805355429649353,
          0.35773882269859314,
          0.3096607029438019,
          0.07155556976795197,
          0.13987243175506592,
          0.4255672097206116,
          0.14536717534065247,
          0.1440788209438324,
          0.3356199264526367,
          0.2521076202392578,
          0.10883893072605133,
          0.16229084134101868,
          0.18943405151367188,
          0.5255520343780518,
          0.1653020679950714,
          0.06977881491184235,
          0.14783719182014465,
          0.44452157616615295,
          0.2106115221977234,
          0.03278559446334839,
          0.1825675666332245,
          0.042312804609537125,
          0.5291334390640259,
          0.04221508651971817,
          0.01876790076494217,
          0.09278475493192673,
          0.36553457379341125,
          0.3925026059150696,
          0.24228492379188538,
          0.14862406253814697,
          0.17219246923923492,
          0.45639562606811523,
          0.4011366069316864,
          0.0545404851436615,
          0.3874853551387787,
          0.07765580713748932,
          0.11758960783481598,
          0.11711695790290833,
          0.19263328611850739,
          0.05880825221538544,
          0.17302463948726654,
          0.20969095826148987,
          0.11203738301992416,
          0.30468761920928955,
          0.11840776354074478,
          0.10138078778982162,
          0.04232968017458916,
          -0.030560657382011414,
          0.222392737865448,
          0.21969270706176758,
          0.0414901077747345,
          0.17714524269104004,
          0.1479480117559433,
          0.19207686185836792,
          0.22721533477306366,
          0.1569608747959137,
          0.011624693870544434,
          0.28346580266952515,
          0.17489144206047058,
          0.10819889605045319,
          0.24388019740581512,
          0.2304193377494812,
          0.34098631143569946,
          0.27407753467559814,
          0.4475846588611603,
          0.07474003732204437,
          0.3116793632507324,
          0.26602786779403687,
          0.1081332266330719,
          0.39633965492248535,
          0.4896695613861084,
          0.06242065876722336,
          0.08707992732524872,
          0.18907804787158966,
          0.4130803346633911,
          0.4088282883167267,
          0.340631902217865,
          0.21769411861896515,
          0.2888645827770233,
          0.6951805949211121,
          0.2366006225347519,
          0.23280735313892365,
          0.31042400002479553,
          0.08581230044364929,
          0.402040958404541,
          0.522358775138855,
          0.25385841727256775,
          0.16013240814208984,
          0.23865273594856262,
          0.2840588390827179,
          0.26279130578041077,
          0.26687994599342346,
          0.27406370639801025,
          0.21762147545814514,
          0.16526028513908386,
          0.16605603694915771,
          0.3313218653202057,
          0.11446372419595718,
          0.418279767036438,
          0.6729052662849426,
          0.3400190472602844,
          0.5062217116355896,
          0.06292878091335297,
          0.0854371190071106,
          0.15696220099925995,
          0.1798824816942215,
          0.13073641061782837,
          0.07351554185152054,
          0.122161366045475,
          0.2816210389137268,
          0.023331962525844574,
          0.2921631336212158,
          -0.004368223249912262,
          0.229792058467865,
          0.11137515306472778,
          0.485839307308197,
          0.26781731843948364,
          0.2193887084722519,
          0.07941864430904388,
          0.14267797768115997,
          0.07079765945672989,
          0.44516703486442566,
          0.11385349929332733,
          0.20659874379634857,
          0.28190433979034424,
          0.09444178640842438,
          0.37922582030296326,
          0.3787539601325989,
          0.257701575756073,
          0.10118971765041351,
          -0.01103130728006363,
          0.19657479226589203,
          0.5865674614906311,
          0.20731256902217865,
          0.326721727848053,
          0.11112366616725922,
          0.4359844923019409,
          0.28895410895347595,
          0.14133404195308685,
          0.1413014829158783,
          0.15495850145816803,
          0.3711481988430023,
          0.3488556146621704,
          0.03282490372657776,
          0.435116171836853,
          0.12333442270755768,
          0.3582424223423004,
          0.10776146501302719,
          0.05925799533724785,
          0.13453449308872223,
          -0.002581898123025894,
          0.1133531704545021,
          0.311488538980484,
          0.18800652027130127,
          0.11711982637643814,
          0.11617980897426605,
          0.0687079131603241,
          0.2923564612865448,
          0.10732947289943695,
          0.24024881422519684,
          0.15295851230621338,
          0.3381751477718353,
          0.22428207099437714,
          0.07939542829990387,
          0.1735614389181137,
          0.14214235544204712,
          0.07212264835834503,
          0.33474040031433105,
          0.19994716346263885,
          0.25623130798339844,
          0.27962398529052734,
          0.1672341525554657,
          0.38794904947280884,
          0.11115608364343643,
          0.22767895460128784,
          0.26019132137298584,
          0.3075207471847534,
          0.19237352907657623,
          0.32924965023994446,
          0.41130661964416504,
          0.19117207825183868,
          0.3330146074295044,
          0.45700153708457947,
          0.21528983116149902,
          0.15634767711162567,
          0.10244352370500565,
          0.16130127012729645,
          0.07865212857723236,
          0.4485991299152374,
          0.07156698405742645,
          0.30445942282676697,
          0.014846645295619965,
          0.2321653664112091,
          0.4431462585926056,
          0.31668752431869507,
          0.3513603210449219,
          0.04268984869122505,
          0.09425900876522064,
          0.2090161293745041,
          0.1301441192626953,
          0.09538273513317108,
          0.3381314277648926,
          0.3467502295970917,
          0.05181504413485527,
          0.1000291034579277,
          0.17307747900485992,
          0.13739235699176788,
          0.37066125869750977,
          0.09850266575813293,
          0.09589467197656631,
          0.10238683223724365,
          0.4328322112560272,
          0.4506385028362274,
          0.060009364038705826,
          0.48263606429100037,
          0.21003694832324982,
          0.22220353782176971,
          0.17100833356380463,
          -0.01015852764248848,
          0.23178569972515106,
          0.20123007893562317,
          0.09199687838554382,
          0.4040060043334961,
          0.17571252584457397,
          0.30963054299354553,
          0.4823806583881378,
          0.3782173991203308,
          0.18334870040416718,
          0.06887193024158478,
          0.3408413231372833,
          0.36438316106796265,
          0.04579143226146698,
          0.474223792552948,
          0.10988960415124893,
          0.3579217493534088,
          0.344448983669281,
          0.3440704941749573,
          0.2864091098308563,
          0.31335899233818054,
          0.0688696950674057,
          0.08808525651693344,
          0.15966938436031342,
          0.2536067068576813,
          0.2093992382287979,
          0.1645026057958603,
          0.06620333343744278,
          0.10400145500898361,
          0.1925446093082428,
          0.547590434551239,
          0.12922212481498718,
          0.3263351023197174,
          0.04452235996723175,
          0.21584908664226532,
          0.059194955974817276,
          0.1724342703819275,
          0.43815070390701294,
          0.05720940977334976,
          0.0571780726313591,
          0.2036636769771576,
          0.2942589223384857,
          0.16953985393047333,
          0.4194476008415222,
          0.40834376215934753,
          0.1978636085987091,
          0.13190148770809174,
          0.1647794395685196,
          0.4529775083065033,
          0.13959363102912903,
          0.21652285754680634,
          0.07989758998155594,
          0.07237903028726578,
          0.031768798828125,
          0.1323002427816391,
          0.06674036383628845,
          0.16584563255310059,
          0.23803409934043884,
          0.34825509786605835,
          0.08180712908506393,
          0.1475953608751297,
          0.15383663773536682,
          0.3664894700050354,
          -0.0179443359375,
          0.21066267788410187,
          0.2749595046043396,
          0.12220001965761185,
          0.19780486822128296
         ],
         "xaxis": "x",
         "yaxis": "y"
        },
        {
         "alignmentgroup": "True",
         "hovertemplate": "Version=wide_variable_0<br>Attn diff (positive ⇒ more attn paid to IO than S1)=%{x}<extra></extra>",
         "legendgroup": "wide_variable_0",
         "marker": {
          "color": "#1F77B4"
         },
         "name": "Patched",
         "notched": true,
         "offsetgroup": "wide_variable_0",
         "showlegend": false,
         "type": "box",
         "x": [
          0.11704198271036148,
          0.14517664909362793,
          0.10484647750854492,
          0.4136693775653839,
          0.408512145280838,
          0.2525329291820526,
          0.3329426348209381,
          0.4221581518650055,
          -0.044355835765600204,
          0.12077349424362183,
          0.367724746465683,
          0.299250990152359,
          0.07942415773868561,
          0.13640494644641876,
          0.06516741216182709,
          0.017011716961860657,
          0.37732765078544617,
          0.24162650108337402,
          0.6645040512084961,
          0.20696784555912018,
          0.12008200585842133,
          0.13716554641723633,
          0.16020207107067108,
          0.14486388862133026,
          0.255557656288147,
          0.0785604938864708,
          0.6357201933860779,
          0.5922348499298096,
          0.40392830967903137,
          0.12935274839401245,
          0.07279589772224426,
          0.4111705720424652,
          0.16391268372535706,
          0.11104445904493332,
          0.07035486400127411,
          0.08156856149435043,
          0.36360636353492737,
          0.1627049595117569,
          0.25656384229660034,
          0.2336927354335785,
          0.14582161605358124,
          -0.09851109981536865,
          0.013964883983135223,
          0.23562344908714294,
          0.5703508853912354,
          0.07161301374435425,
          0.42151862382888794,
          0.07412269711494446,
          0.18343476951122284,
          0.2996276617050171,
          0.4289558231830597,
          0.32096022367477417,
          0.17274515330791473,
          0.19964812695980072,
          0.10976310819387436,
          0.05808430165052414,
          0.01056283712387085,
          0.06219018995761871,
          0.1726064234972,
          0.23320893943309784,
          0.3005123734474182,
          0.06582151353359222,
          0.30703234672546387,
          0.2818930149078369,
          0.41387540102005005,
          0.09020520746707916,
          0.6434992551803589,
          0.17462171614170074,
          0.16739922761917114,
          0.26922622323036194,
          0.16473397612571716,
          0.15428075194358826,
          0.12749485671520233,
          0.19063618779182434,
          0.08703771233558655,
          0.18678805232048035,
          0.21830545365810394,
          0.6334890723228455,
          0.2797572910785675,
          0.14138919115066528,
          0.3922341465950012,
          0.10442870855331421,
          0.2912989854812622,
          0.07521119713783264,
          0.17363734543323517,
          0.3450751006603241,
          0.20757648348808289,
          0.05871196836233139,
          0.3025881350040436,
          0.10007748007774353,
          0.26287567615509033,
          0.02995121479034424,
          -0.012196779251098633,
          0.011654525995254517,
          0.17310494184494019,
          0.1688029170036316,
          0.08777203410863876,
          0.3223663866519928,
          0.3137120306491852,
          0.4834071397781372,
          0.2640402317047119,
          0.1132907047867775,
          0.1265038549900055,
          0.09398671984672546,
          0.17057524621486664,
          0.0036711692810058594,
          0.0670388787984848,
          0.010643161833286285,
          0.11558496952056885,
          0.3828125,
          0.16217710077762604,
          0.262023001909256,
          0.4115724563598633,
          0.02330796979367733,
          0.05402974784374237,
          0.2984147071838379,
          0.2864918112754822,
          0.21625149250030518,
          0.17626100778579712,
          0.2852514386177063,
          -0.008345119655132294,
          0.180532768368721,
          0.14990964531898499,
          0.0662391185760498,
          0.2283763587474823,
          -0.01954859122633934,
          0.2144036591053009,
          0.10795510560274124,
          0.26461881399154663,
          0.12529832124710083,
          0.07427402585744858,
          0.5021101236343384,
          0.0721188485622406,
          0.20576007664203644,
          0.1128404289484024,
          0.16326817870140076,
          0.16102281212806702,
          0.06118529289960861,
          0.13029217720031738,
          0.11809495091438293,
          0.09993371367454529,
          0.22286219894886017,
          0.031213410198688507,
          0.14093007147312164,
          0.5765106678009033,
          0.24844427406787872,
          0.024344194680452347,
          0.3412913382053375,
          0.13750916719436646,
          0.055012211203575134,
          0.2000652402639389,
          0.09696094691753387,
          0.09676655381917953,
          0.4284667372703552,
          0.09831547737121582,
          0.0032436326146125793,
          0.37917518615722656,
          0.19837301969528198,
          -0.0216875858604908,
          0.18711519241333008,
          0.09359434247016907,
          0.08680861443281174,
          0.2825946807861328,
          0.05530714988708496,
          0.344099223613739,
          0.1902305632829666,
          0.49020394682884216,
          0.15240541100502014,
          0.6556227207183838,
          0.10681106895208359,
          0.11926695704460144,
          0.049471862614154816,
          0.3486254811286926,
          0.2748183608055115,
          0.63144451379776,
          0.02546236291527748,
          0.437164843082428,
          0.12499319761991501,
          0.056818556040525436,
          0.08941348642110825,
          0.5657280087471008,
          0.30021363496780396,
          0.4775189459323883,
          0.11520051211118698,
          0.01105877012014389,
          0.05704408138990402,
          0.1152462586760521,
          0.39570552110671997,
          0.27701544761657715,
          0.19574575126171112,
          0.329752653837204,
          0.3615409731864929,
          -0.010843262076377869,
          0.3965751826763153,
          0.2926845848560333,
          0.23171965777873993,
          0.09998823702335358,
          0.4104267656803131,
          0.09188248217105865,
          0.1427144557237625,
          0.23358063399791718,
          0.10176488012075424,
          0.1550544798374176,
          0.24141156673431396,
          0.4247673749923706,
          0.5095268487930298,
          0.09706456959247589,
          0.06435610353946686,
          0.03985431790351868,
          0.43406057357788086,
          0.14967145025730133,
          0.0688139945268631,
          0.01202448457479477,
          0.5994890928268433,
          0.33805355429649353,
          0.35773882269859314,
          0.3096607029438019,
          0.07155556976795197,
          0.13987243175506592,
          0.4255672097206116,
          0.14536717534065247,
          0.1440788209438324,
          0.3356199264526367,
          0.2521076202392578,
          0.10883893072605133,
          0.16229084134101868,
          0.18943405151367188,
          0.5255520343780518,
          0.1653020679950714,
          0.06977881491184235,
          0.14783719182014465,
          0.44452157616615295,
          0.2106115221977234,
          0.03278559446334839,
          0.1825675666332245,
          0.042312804609537125,
          0.5291334390640259,
          0.04221508651971817,
          0.01876790076494217,
          0.09278475493192673,
          0.36553457379341125,
          0.3925026059150696,
          0.24228492379188538,
          0.14862406253814697,
          0.17219246923923492,
          0.45639562606811523,
          0.4011366069316864,
          0.0545404851436615,
          0.3874853551387787,
          0.07765580713748932,
          0.11758960783481598,
          0.11711695790290833,
          0.19263328611850739,
          0.05880825221538544,
          0.17302463948726654,
          0.20969095826148987,
          0.11203738301992416,
          0.30468761920928955,
          0.11840776354074478,
          0.10138078778982162,
          0.04232968017458916,
          -0.030560657382011414,
          0.222392737865448,
          0.21969270706176758,
          0.0414901077747345,
          0.17714524269104004,
          0.1479480117559433,
          0.19207686185836792,
          0.22721533477306366,
          0.1569608747959137,
          0.011624693870544434,
          0.28346580266952515,
          0.17489144206047058,
          0.10819889605045319,
          0.24388019740581512,
          0.2304193377494812,
          0.34098631143569946,
          0.27407753467559814,
          0.4475846588611603,
          0.07474003732204437,
          0.3116793632507324,
          0.26602786779403687,
          0.1081332266330719,
          0.39633965492248535,
          0.4896695613861084,
          0.06242065876722336,
          0.08707992732524872,
          0.18907804787158966,
          0.4130803346633911,
          0.4088282883167267,
          0.340631902217865,
          0.21769411861896515,
          0.2888645827770233,
          0.6951805949211121,
          0.2366006225347519,
          0.23280735313892365,
          0.31042400002479553,
          0.08581230044364929,
          0.402040958404541,
          0.522358775138855,
          0.25385841727256775,
          0.16013240814208984,
          0.23865273594856262,
          0.2840588390827179,
          0.26279130578041077,
          0.26687994599342346,
          0.27406370639801025,
          0.21762147545814514,
          0.16526028513908386,
          0.16605603694915771,
          0.3313218653202057,
          0.11446372419595718,
          0.418279767036438,
          0.6729052662849426,
          0.3400190472602844,
          0.5062217116355896,
          0.06292878091335297,
          0.0854371190071106,
          0.15696220099925995,
          0.1798824816942215,
          0.13073641061782837,
          0.07351554185152054,
          0.122161366045475,
          0.2816210389137268,
          0.023331962525844574,
          0.2921631336212158,
          -0.004368223249912262,
          0.229792058467865,
          0.11137515306472778,
          0.485839307308197,
          0.26781731843948364,
          0.2193887084722519,
          0.07941864430904388,
          0.14267797768115997,
          0.07079765945672989,
          0.44516703486442566,
          0.11385349929332733,
          0.20659874379634857,
          0.28190433979034424,
          0.09444178640842438,
          0.37922582030296326,
          0.3787539601325989,
          0.257701575756073,
          0.10118971765041351,
          -0.01103130728006363,
          0.19657479226589203,
          0.5865674614906311,
          0.20731256902217865,
          0.326721727848053,
          0.11112366616725922,
          0.4359844923019409,
          0.28895410895347595,
          0.14133404195308685,
          0.1413014829158783,
          0.15495850145816803,
          0.3711481988430023,
          0.3488556146621704,
          0.03282490372657776,
          0.435116171836853,
          0.12333442270755768,
          0.3582424223423004,
          0.10776146501302719,
          0.05925799533724785,
          0.13453449308872223,
          -0.002581898123025894,
          0.1133531704545021,
          0.311488538980484,
          0.18800652027130127,
          0.11711982637643814,
          0.11617980897426605,
          0.0687079131603241,
          0.2923564612865448,
          0.10732947289943695,
          0.24024881422519684,
          0.15295851230621338,
          0.3381751477718353,
          0.22428207099437714,
          0.07939542829990387,
          0.1735614389181137,
          0.14214235544204712,
          0.07212264835834503,
          0.33474040031433105,
          0.19994716346263885,
          0.25623130798339844,
          0.27962398529052734,
          0.1672341525554657,
          0.38794904947280884,
          0.11115608364343643,
          0.22767895460128784,
          0.26019132137298584,
          0.3075207471847534,
          0.19237352907657623,
          0.32924965023994446,
          0.41130661964416504,
          0.19117207825183868,
          0.3330146074295044,
          0.45700153708457947,
          0.21528983116149902,
          0.15634767711162567,
          0.10244352370500565,
          0.16130127012729645,
          0.07865212857723236,
          0.4485991299152374,
          0.07156698405742645,
          0.30445942282676697,
          0.014846645295619965,
          0.2321653664112091,
          0.4431462585926056,
          0.31668752431869507,
          0.3513603210449219,
          0.04268984869122505,
          0.09425900876522064,
          0.2090161293745041,
          0.1301441192626953,
          0.09538273513317108,
          0.3381314277648926,
          0.3467502295970917,
          0.05181504413485527,
          0.1000291034579277,
          0.17307747900485992,
          0.13739235699176788,
          0.37066125869750977,
          0.09850266575813293,
          0.09589467197656631,
          0.10238683223724365,
          0.4328322112560272,
          0.4506385028362274,
          0.060009364038705826,
          0.48263606429100037,
          0.21003694832324982,
          0.22220353782176971,
          0.17100833356380463,
          -0.01015852764248848,
          0.23178569972515106,
          0.20123007893562317,
          0.09199687838554382,
          0.4040060043334961,
          0.17571252584457397,
          0.30963054299354553,
          0.4823806583881378,
          0.3782173991203308,
          0.18334870040416718,
          0.06887193024158478,
          0.3408413231372833,
          0.36438316106796265,
          0.04579143226146698,
          0.474223792552948,
          0.10988960415124893,
          0.3579217493534088,
          0.344448983669281,
          0.3440704941749573,
          0.2864091098308563,
          0.31335899233818054,
          0.0688696950674057,
          0.08808525651693344,
          0.15966938436031342,
          0.2536067068576813,
          0.2093992382287979,
          0.1645026057958603,
          0.06620333343744278,
          0.10400145500898361,
          0.1925446093082428,
          0.547590434551239,
          0.12922212481498718,
          0.3263351023197174,
          0.04452235996723175,
          0.21584908664226532,
          0.059194955974817276,
          0.1724342703819275,
          0.43815070390701294,
          0.05720940977334976,
          0.0571780726313591,
          0.2036636769771576,
          0.2942589223384857,
          0.16953985393047333,
          0.4194476008415222,
          0.40834376215934753,
          0.1978636085987091,
          0.13190148770809174,
          0.1647794395685196,
          0.4529775083065033,
          0.13959363102912903,
          0.21652285754680634,
          0.07989758998155594,
          0.07237903028726578,
          0.031768798828125,
          0.1323002427816391,
          0.06674036383628845,
          0.16584563255310059,
          0.23803409934043884,
          0.34825509786605835,
          0.08180712908506393,
          0.1475953608751297,
          0.15383663773536682,
          0.3664894700050354,
          -0.0179443359375,
          0.21066267788410187,
          0.2749595046043396,
          0.12220001965761185,
          0.19780486822128296
         ],
         "xaxis": "x2",
         "yaxis": "y2"
        },
        {
         "alignmentgroup": "True",
         "bingroup": "x",
         "hovertemplate": "Version=wide_variable_1<br>Attn diff (positive ⇒ more attn paid to IO than S1)=%{x}<br>count=%{y}<extra></extra>",
         "legendgroup": "wide_variable_1",
         "marker": {
          "color": "#FF7F0E",
          "opacity": 0.7,
          "pattern": {
           "shape": ""
          }
         },
         "name": "Clean",
         "offsetgroup": "wide_variable_1",
         "orientation": "v",
         "showlegend": true,
         "type": "histogram",
         "x": [
          0.34089526534080505,
          0.8074992895126343,
          0.5582032203674316,
          0.7318280935287476,
          0.7160360813140869,
          0.9330116510391235,
          0.4164676368236542,
          0.8573871850967407,
          0.19882258772850037,
          0.46113863587379456,
          0.806635856628418,
          0.7974733710289001,
          0.6938650012016296,
          0.6404451727867126,
          0.7795495986938477,
          0.16197654604911804,
          0.6654396653175354,
          0.8656890392303467,
          0.8981029987335205,
          0.6703542470932007,
          0.698097288608551,
          0.43584397435188293,
          0.6495481729507446,
          0.46737486124038696,
          0.7832605242729187,
          0.5202583074569702,
          0.9304323792457581,
          0.9475433826446533,
          0.8401213884353638,
          0.6968037486076355,
          0.2264273464679718,
          0.8148811459541321,
          0.6263083815574646,
          0.361032634973526,
          0.7586885690689087,
          0.8013864159584045,
          0.5675743222236633,
          0.33798307180404663,
          0.6761784553527832,
          0.793239951133728,
          0.6813507676124573,
          0.4853420853614807,
          0.37333694100379944,
          0.469950407743454,
          0.9067724943161011,
          0.4422936737537384,
          0.7471556067466736,
          0.5576421618461609,
          0.7732982635498047,
          0.711265504360199,
          0.7702556848526001,
          0.6583808660507202,
          0.4491897225379944,
          0.45705413818359375,
          0.5294257402420044,
          0.4501537084579468,
          0.25128045678138733,
          0.6301050186157227,
          0.7533895373344421,
          0.7568608522415161,
          0.7333893775939941,
          0.5219902396202087,
          0.8530805110931396,
          0.6603947877883911,
          0.6128941774368286,
          0.6270260214805603,
          0.9338223934173584,
          0.7997579574584961,
          0.3920983672142029,
          0.9668389558792114,
          0.5081336498260498,
          0.46499398350715637,
          0.5790800452232361,
          0.7854081392288208,
          0.43610328435897827,
          0.7176573872566223,
          0.8499552011489868,
          0.8238360285758972,
          0.6590073108673096,
          0.6474502086639404,
          0.7835715413093567,
          0.41030341386795044,
          0.5832579731941223,
          0.7498425841331482,
          0.5238035917282104,
          0.859963595867157,
          0.8255717754364014,
          0.29806241393089294,
          0.892339825630188,
          0.6506275534629822,
          0.8682566285133362,
          0.4979185461997986,
          0.21560338139533997,
          0.6894434094429016,
          0.5288463830947876,
          0.640836775302887,
          0.49508967995643616,
          0.5233909487724304,
          0.7757933735847473,
          0.860929548740387,
          0.7490021586418152,
          0.37566351890563965,
          0.7313119173049927,
          0.41516169905662537,
          0.5778592228889465,
          0.5228466987609863,
          0.6544146537780762,
          0.15555040538311005,
          0.3826035261154175,
          0.5984338521957397,
          0.3392833471298218,
          0.8432651162147522,
          0.7900476455688477,
          0.4307575821876526,
          0.2714449465274811,
          0.8814660310745239,
          0.7988192439079285,
          0.5318908095359802,
          0.5146305561065674,
          0.7064067721366882,
          0.0731450542807579,
          0.6198329329490662,
          0.7185178399085999,
          0.9082135558128357,
          0.5568194389343262,
          0.35905978083610535,
          0.8895971775054932,
          0.4353797435760498,
          0.717665433883667,
          0.8818395733833313,
          0.2144414633512497,
          0.8944191932678223,
          0.19711387157440186,
          0.8474878668785095,
          0.8419159650802612,
          0.8788710236549377,
          0.5994776487350464,
          0.5515172481536865,
          0.5052855610847473,
          0.7367236614227295,
          0.8115673065185547,
          0.7681111097335815,
          0.3972116708755493,
          0.6003189086914062,
          0.6024354100227356,
          0.7310043573379517,
          0.40567827224731445,
          0.7722532153129578,
          0.5547573566436768,
          0.5777713656425476,
          0.7880971431732178,
          0.4374134838581085,
          0.19774489104747772,
          0.8545472621917725,
          0.5520100593566895,
          0.24688085913658142,
          0.496025949716568,
          0.5771763324737549,
          0.21314334869384766,
          0.507371187210083,
          0.12250585854053497,
          0.11524966359138489,
          0.5578946471214294,
          0.6581563949584961,
          0.590964674949646,
          0.6983673572540283,
          0.7818738222122192,
          0.6073446869850159,
          0.9144742488861084,
          0.8190869688987732,
          0.8879438042640686,
          0.6517876386642456,
          0.850581169128418,
          0.7758859992027283,
          0.8794505000114441,
          0.9018958210945129,
          0.967625081539154,
          0.5011417269706726,
          0.5581638216972351,
          0.2085232138633728,
          0.8088512420654297,
          0.7653396725654602,
          0.5987750887870789,
          0.5437236428260803,
          0.14195221662521362,
          0.28564727306365967,
          0.328026682138443,
          0.7462974786758423,
          0.42889073491096497,
          0.6716121435165405,
          0.5940771102905273,
          0.766198456287384,
          0.5951201915740967,
          0.9206588268280029,
          0.6893861889839172,
          0.8684086203575134,
          0.32580864429473877,
          0.8367536067962646,
          0.7216788530349731,
          0.25541555881500244,
          0.5051608681678772,
          0.6814858317375183,
          0.5419660806655884,
          0.9330294728279114,
          0.5282884836196899,
          0.8445212841033936,
          0.42273086309432983,
          0.6801745891571045,
          0.2377362698316574,
          0.8265323638916016,
          0.8277262449264526,
          0.5100499987602234,
          0.06554967910051346,
          0.9265316724777222,
          0.8045835494995117,
          0.8991832137107849,
          0.8171007037162781,
          0.6406141519546509,
          0.6456276178359985,
          0.6898682117462158,
          0.7612775564193726,
          0.5839230418205261,
          0.9092454314231873,
          0.7741196155548096,
          0.7190544605255127,
          0.5576263070106506,
          0.6575324535369873,
          0.9065493941307068,
          0.42700332403182983,
          0.31866753101348877,
          0.4971795380115509,
          0.6079238057136536,
          0.6178537607192993,
          0.823372483253479,
          0.5068770051002502,
          0.5270177125930786,
          0.7269731163978577,
          0.658091127872467,
          0.15518465638160706,
          0.7873186469078064,
          0.6654801368713379,
          0.8830954432487488,
          0.35771334171295166,
          0.6954158544540405,
          0.7156493663787842,
          0.7815439701080322,
          0.9292128086090088,
          0.5919345021247864,
          0.6682032942771912,
          0.16642725467681885,
          0.4392957091331482,
          0.8154891729354858,
          0.8649076819419861,
          0.5514828562736511,
          0.7907283306121826,
          0.6619318127632141,
          0.6898072957992554,
          0.5611209869384766,
          0.7437925338745117,
          0.6783514022827148,
          0.37014785408973694,
          0.5451709628105164,
          0.7192472815513611,
          0.8541297912597656,
          0.5602121353149414,
          0.666405200958252,
          0.697390079498291,
          0.8215296864509583,
          0.9600980877876282,
          0.6914442181587219,
          0.1761718988418579,
          0.8333448171615601,
          0.4943190813064575,
          0.6447774171829224,
          0.6360462307929993,
          0.6788957715034485,
          0.44745466113090515,
          0.8507232666015625,
          0.9199475646018982,
          0.36214694380760193,
          0.8812190890312195,
          0.7031976580619812,
          0.491129606962204,
          0.5802220106124878,
          0.8049697875976562,
          0.3229944109916687,
          0.5313513278961182,
          0.5765408873558044,
          0.9241169095039368,
          0.9078906774520874,
          0.7907389998435974,
          0.8096877932548523,
          0.6176207065582275,
          0.9570932388305664,
          0.6454447507858276,
          0.36276835203170776,
          0.7885540127754211,
          0.43988996744155884,
          0.9529529809951782,
          0.7348285913467407,
          0.7643395066261292,
          0.5698348879814148,
          0.5326456427574158,
          0.6368986368179321,
          0.9237198829650879,
          0.9224390387535095,
          0.5645751357078552,
          0.8484877347946167,
          0.5522517561912537,
          0.8366902470588684,
          0.9320065379142761,
          0.39169251918792725,
          0.9116432666778564,
          0.9529514312744141,
          0.6767003536224365,
          0.8955691456794739,
          0.20781296491622925,
          0.35542532801628113,
          0.7830172181129456,
          0.6191118955612183,
          0.6843880414962769,
          0.6359844207763672,
          0.5268429517745972,
          0.9002600908279419,
          0.31598472595214844,
          0.8357389569282532,
          0.2838408052921295,
          0.555066704750061,
          0.21268253028392792,
          0.9185291528701782,
          0.8244004845619202,
          0.6878365278244019,
          0.49972787499427795,
          0.627079963684082,
          0.3416128158569336,
          0.6205591559410095,
          0.5099415183067322,
          0.5750272274017334,
          0.6660304665565491,
          0.4497032165527344,
          0.7227659821510315,
          0.9139525294303894,
          0.9333305358886719,
          0.27936071157455444,
          0.12461914122104645,
          0.7498241662979126,
          0.9256962537765503,
          0.7785221934318542,
          0.7529467940330505,
          0.4863290786743164,
          0.9193189740180969,
          0.5973122715950012,
          0.2529069185256958,
          0.3565194308757782,
          0.7911478281021118,
          0.6931435465812683,
          0.54285728931427,
          0.3024510443210602,
          0.8275079131126404,
          0.4972532093524933,
          0.6978052854537964,
          0.20007772743701935,
          0.2120775729417801,
          0.49292293190956116,
          0.33420655131340027,
          0.3100917637348175,
          0.682927131652832,
          0.6273504495620728,
          0.5264968872070312,
          0.4990622401237488,
          0.3981951177120209,
          0.9530876874923706,
          0.2617533802986145,
          0.7835456132888794,
          0.8220284581184387,
          0.8573518991470337,
          0.7204968333244324,
          0.3666699230670929,
          0.3913344144821167,
          0.8250904679298401,
          0.325486958026886,
          0.86024409532547,
          0.517614483833313,
          0.36268138885498047,
          0.7094600796699524,
          0.5369571447372437,
          0.7867169380187988,
          0.5917010307312012,
          0.45331504940986633,
          0.5736872553825378,
          0.7919199466705322,
          0.6327113509178162,
          0.8456236720085144,
          0.7751383185386658,
          0.6336417198181152,
          0.46916288137435913,
          0.9523708820343018,
          0.6827207207679749,
          0.8912414908409119,
          0.7176594734191895,
          0.653933048248291,
          0.4176485538482666,
          0.6963577270507812,
          0.7291224598884583,
          0.6139280200004578,
          0.34283214807510376,
          0.7019574046134949,
          0.8959265351295471,
          0.8685657978057861,
          0.6762247085571289,
          0.36473384499549866,
          0.3922790288925171,
          0.25185665488243103,
          0.7613471746444702,
          0.3518349528312683,
          0.6588676571846008,
          0.8207399249076843,
          0.2747402489185333,
          0.5375943183898926,
          0.17921847105026245,
          0.2465004026889801,
          0.597821056842804,
          0.31099313497543335,
          0.5199424624443054,
          0.44558387994766235,
          0.7933692336082458,
          0.8203670978546143,
          0.29823943972587585,
          0.8118308782577515,
          0.6344090700149536,
          0.6574472188949585,
          0.5096250772476196,
          0.15425948798656464,
          0.8932170867919922,
          0.3027742803096771,
          0.621286153793335,
          0.772339940071106,
          0.8049338459968567,
          0.8075991868972778,
          0.7364982962608337,
          0.6595157384872437,
          0.7433894872665405,
          0.28560295701026917,
          0.7461951375007629,
          0.6926125288009644,
          0.39383625984191895,
          0.88460373878479,
          0.6925699710845947,
          0.7855720520019531,
          0.5835482478141785,
          0.9002911448478699,
          0.6476874947547913,
          0.92124342918396,
          0.7983778119087219,
          0.3918135166168213,
          0.5898098349571228,
          0.795583188533783,
          0.434931218624115,
          0.7686395645141602,
          0.5025382041931152,
          0.45829302072525024,
          0.40373390913009644,
          0.7981042265892029,
          0.7451491951942444,
          0.670026957988739,
          0.7197810411453247,
          0.7110622525215149,
          0.7293224930763245,
          0.22730520367622375,
          0.8966254591941833,
          0.8608278632164001,
          0.5576131939888,
          0.4754140377044678,
          0.6947441697120667,
          0.8840204477310181,
          0.4592982232570648,
          0.8590483665466309,
          0.9266495704650879,
          0.5911201238632202,
          0.49211880564689636,
          0.9314026236534119,
          0.2226109802722931,
          0.6255472302436829,
          0.8254634737968445,
          0.5107886791229248,
          0.48518943786621094,
          0.5016372799873352,
          0.4073394238948822,
          0.8243246674537659,
          0.6199567914009094,
          0.7930307984352112,
          0.29322028160095215,
          0.16367806494235992,
          0.8006645441055298,
          0.6100035905838013,
          0.32434356212615967,
          0.6597066521644592,
          0.9185914993286133,
          0.6839130520820618,
          0.14610710740089417
         ],
         "xaxis": "x",
         "yaxis": "y"
        },
        {
         "alignmentgroup": "True",
         "hovertemplate": "Version=wide_variable_1<br>Attn diff (positive ⇒ more attn paid to IO than S1)=%{x}<extra></extra>",
         "legendgroup": "wide_variable_1",
         "marker": {
          "color": "#FF7F0E"
         },
         "name": "Clean",
         "notched": true,
         "offsetgroup": "wide_variable_1",
         "showlegend": false,
         "type": "box",
         "x": [
          0.34089526534080505,
          0.8074992895126343,
          0.5582032203674316,
          0.7318280935287476,
          0.7160360813140869,
          0.9330116510391235,
          0.4164676368236542,
          0.8573871850967407,
          0.19882258772850037,
          0.46113863587379456,
          0.806635856628418,
          0.7974733710289001,
          0.6938650012016296,
          0.6404451727867126,
          0.7795495986938477,
          0.16197654604911804,
          0.6654396653175354,
          0.8656890392303467,
          0.8981029987335205,
          0.6703542470932007,
          0.698097288608551,
          0.43584397435188293,
          0.6495481729507446,
          0.46737486124038696,
          0.7832605242729187,
          0.5202583074569702,
          0.9304323792457581,
          0.9475433826446533,
          0.8401213884353638,
          0.6968037486076355,
          0.2264273464679718,
          0.8148811459541321,
          0.6263083815574646,
          0.361032634973526,
          0.7586885690689087,
          0.8013864159584045,
          0.5675743222236633,
          0.33798307180404663,
          0.6761784553527832,
          0.793239951133728,
          0.6813507676124573,
          0.4853420853614807,
          0.37333694100379944,
          0.469950407743454,
          0.9067724943161011,
          0.4422936737537384,
          0.7471556067466736,
          0.5576421618461609,
          0.7732982635498047,
          0.711265504360199,
          0.7702556848526001,
          0.6583808660507202,
          0.4491897225379944,
          0.45705413818359375,
          0.5294257402420044,
          0.4501537084579468,
          0.25128045678138733,
          0.6301050186157227,
          0.7533895373344421,
          0.7568608522415161,
          0.7333893775939941,
          0.5219902396202087,
          0.8530805110931396,
          0.6603947877883911,
          0.6128941774368286,
          0.6270260214805603,
          0.9338223934173584,
          0.7997579574584961,
          0.3920983672142029,
          0.9668389558792114,
          0.5081336498260498,
          0.46499398350715637,
          0.5790800452232361,
          0.7854081392288208,
          0.43610328435897827,
          0.7176573872566223,
          0.8499552011489868,
          0.8238360285758972,
          0.6590073108673096,
          0.6474502086639404,
          0.7835715413093567,
          0.41030341386795044,
          0.5832579731941223,
          0.7498425841331482,
          0.5238035917282104,
          0.859963595867157,
          0.8255717754364014,
          0.29806241393089294,
          0.892339825630188,
          0.6506275534629822,
          0.8682566285133362,
          0.4979185461997986,
          0.21560338139533997,
          0.6894434094429016,
          0.5288463830947876,
          0.640836775302887,
          0.49508967995643616,
          0.5233909487724304,
          0.7757933735847473,
          0.860929548740387,
          0.7490021586418152,
          0.37566351890563965,
          0.7313119173049927,
          0.41516169905662537,
          0.5778592228889465,
          0.5228466987609863,
          0.6544146537780762,
          0.15555040538311005,
          0.3826035261154175,
          0.5984338521957397,
          0.3392833471298218,
          0.8432651162147522,
          0.7900476455688477,
          0.4307575821876526,
          0.2714449465274811,
          0.8814660310745239,
          0.7988192439079285,
          0.5318908095359802,
          0.5146305561065674,
          0.7064067721366882,
          0.0731450542807579,
          0.6198329329490662,
          0.7185178399085999,
          0.9082135558128357,
          0.5568194389343262,
          0.35905978083610535,
          0.8895971775054932,
          0.4353797435760498,
          0.717665433883667,
          0.8818395733833313,
          0.2144414633512497,
          0.8944191932678223,
          0.19711387157440186,
          0.8474878668785095,
          0.8419159650802612,
          0.8788710236549377,
          0.5994776487350464,
          0.5515172481536865,
          0.5052855610847473,
          0.7367236614227295,
          0.8115673065185547,
          0.7681111097335815,
          0.3972116708755493,
          0.6003189086914062,
          0.6024354100227356,
          0.7310043573379517,
          0.40567827224731445,
          0.7722532153129578,
          0.5547573566436768,
          0.5777713656425476,
          0.7880971431732178,
          0.4374134838581085,
          0.19774489104747772,
          0.8545472621917725,
          0.5520100593566895,
          0.24688085913658142,
          0.496025949716568,
          0.5771763324737549,
          0.21314334869384766,
          0.507371187210083,
          0.12250585854053497,
          0.11524966359138489,
          0.5578946471214294,
          0.6581563949584961,
          0.590964674949646,
          0.6983673572540283,
          0.7818738222122192,
          0.6073446869850159,
          0.9144742488861084,
          0.8190869688987732,
          0.8879438042640686,
          0.6517876386642456,
          0.850581169128418,
          0.7758859992027283,
          0.8794505000114441,
          0.9018958210945129,
          0.967625081539154,
          0.5011417269706726,
          0.5581638216972351,
          0.2085232138633728,
          0.8088512420654297,
          0.7653396725654602,
          0.5987750887870789,
          0.5437236428260803,
          0.14195221662521362,
          0.28564727306365967,
          0.328026682138443,
          0.7462974786758423,
          0.42889073491096497,
          0.6716121435165405,
          0.5940771102905273,
          0.766198456287384,
          0.5951201915740967,
          0.9206588268280029,
          0.6893861889839172,
          0.8684086203575134,
          0.32580864429473877,
          0.8367536067962646,
          0.7216788530349731,
          0.25541555881500244,
          0.5051608681678772,
          0.6814858317375183,
          0.5419660806655884,
          0.9330294728279114,
          0.5282884836196899,
          0.8445212841033936,
          0.42273086309432983,
          0.6801745891571045,
          0.2377362698316574,
          0.8265323638916016,
          0.8277262449264526,
          0.5100499987602234,
          0.06554967910051346,
          0.9265316724777222,
          0.8045835494995117,
          0.8991832137107849,
          0.8171007037162781,
          0.6406141519546509,
          0.6456276178359985,
          0.6898682117462158,
          0.7612775564193726,
          0.5839230418205261,
          0.9092454314231873,
          0.7741196155548096,
          0.7190544605255127,
          0.5576263070106506,
          0.6575324535369873,
          0.9065493941307068,
          0.42700332403182983,
          0.31866753101348877,
          0.4971795380115509,
          0.6079238057136536,
          0.6178537607192993,
          0.823372483253479,
          0.5068770051002502,
          0.5270177125930786,
          0.7269731163978577,
          0.658091127872467,
          0.15518465638160706,
          0.7873186469078064,
          0.6654801368713379,
          0.8830954432487488,
          0.35771334171295166,
          0.6954158544540405,
          0.7156493663787842,
          0.7815439701080322,
          0.9292128086090088,
          0.5919345021247864,
          0.6682032942771912,
          0.16642725467681885,
          0.4392957091331482,
          0.8154891729354858,
          0.8649076819419861,
          0.5514828562736511,
          0.7907283306121826,
          0.6619318127632141,
          0.6898072957992554,
          0.5611209869384766,
          0.7437925338745117,
          0.6783514022827148,
          0.37014785408973694,
          0.5451709628105164,
          0.7192472815513611,
          0.8541297912597656,
          0.5602121353149414,
          0.666405200958252,
          0.697390079498291,
          0.8215296864509583,
          0.9600980877876282,
          0.6914442181587219,
          0.1761718988418579,
          0.8333448171615601,
          0.4943190813064575,
          0.6447774171829224,
          0.6360462307929993,
          0.6788957715034485,
          0.44745466113090515,
          0.8507232666015625,
          0.9199475646018982,
          0.36214694380760193,
          0.8812190890312195,
          0.7031976580619812,
          0.491129606962204,
          0.5802220106124878,
          0.8049697875976562,
          0.3229944109916687,
          0.5313513278961182,
          0.5765408873558044,
          0.9241169095039368,
          0.9078906774520874,
          0.7907389998435974,
          0.8096877932548523,
          0.6176207065582275,
          0.9570932388305664,
          0.6454447507858276,
          0.36276835203170776,
          0.7885540127754211,
          0.43988996744155884,
          0.9529529809951782,
          0.7348285913467407,
          0.7643395066261292,
          0.5698348879814148,
          0.5326456427574158,
          0.6368986368179321,
          0.9237198829650879,
          0.9224390387535095,
          0.5645751357078552,
          0.8484877347946167,
          0.5522517561912537,
          0.8366902470588684,
          0.9320065379142761,
          0.39169251918792725,
          0.9116432666778564,
          0.9529514312744141,
          0.6767003536224365,
          0.8955691456794739,
          0.20781296491622925,
          0.35542532801628113,
          0.7830172181129456,
          0.6191118955612183,
          0.6843880414962769,
          0.6359844207763672,
          0.5268429517745972,
          0.9002600908279419,
          0.31598472595214844,
          0.8357389569282532,
          0.2838408052921295,
          0.555066704750061,
          0.21268253028392792,
          0.9185291528701782,
          0.8244004845619202,
          0.6878365278244019,
          0.49972787499427795,
          0.627079963684082,
          0.3416128158569336,
          0.6205591559410095,
          0.5099415183067322,
          0.5750272274017334,
          0.6660304665565491,
          0.4497032165527344,
          0.7227659821510315,
          0.9139525294303894,
          0.9333305358886719,
          0.27936071157455444,
          0.12461914122104645,
          0.7498241662979126,
          0.9256962537765503,
          0.7785221934318542,
          0.7529467940330505,
          0.4863290786743164,
          0.9193189740180969,
          0.5973122715950012,
          0.2529069185256958,
          0.3565194308757782,
          0.7911478281021118,
          0.6931435465812683,
          0.54285728931427,
          0.3024510443210602,
          0.8275079131126404,
          0.4972532093524933,
          0.6978052854537964,
          0.20007772743701935,
          0.2120775729417801,
          0.49292293190956116,
          0.33420655131340027,
          0.3100917637348175,
          0.682927131652832,
          0.6273504495620728,
          0.5264968872070312,
          0.4990622401237488,
          0.3981951177120209,
          0.9530876874923706,
          0.2617533802986145,
          0.7835456132888794,
          0.8220284581184387,
          0.8573518991470337,
          0.7204968333244324,
          0.3666699230670929,
          0.3913344144821167,
          0.8250904679298401,
          0.325486958026886,
          0.86024409532547,
          0.517614483833313,
          0.36268138885498047,
          0.7094600796699524,
          0.5369571447372437,
          0.7867169380187988,
          0.5917010307312012,
          0.45331504940986633,
          0.5736872553825378,
          0.7919199466705322,
          0.6327113509178162,
          0.8456236720085144,
          0.7751383185386658,
          0.6336417198181152,
          0.46916288137435913,
          0.9523708820343018,
          0.6827207207679749,
          0.8912414908409119,
          0.7176594734191895,
          0.653933048248291,
          0.4176485538482666,
          0.6963577270507812,
          0.7291224598884583,
          0.6139280200004578,
          0.34283214807510376,
          0.7019574046134949,
          0.8959265351295471,
          0.8685657978057861,
          0.6762247085571289,
          0.36473384499549866,
          0.3922790288925171,
          0.25185665488243103,
          0.7613471746444702,
          0.3518349528312683,
          0.6588676571846008,
          0.8207399249076843,
          0.2747402489185333,
          0.5375943183898926,
          0.17921847105026245,
          0.2465004026889801,
          0.597821056842804,
          0.31099313497543335,
          0.5199424624443054,
          0.44558387994766235,
          0.7933692336082458,
          0.8203670978546143,
          0.29823943972587585,
          0.8118308782577515,
          0.6344090700149536,
          0.6574472188949585,
          0.5096250772476196,
          0.15425948798656464,
          0.8932170867919922,
          0.3027742803096771,
          0.621286153793335,
          0.772339940071106,
          0.8049338459968567,
          0.8075991868972778,
          0.7364982962608337,
          0.6595157384872437,
          0.7433894872665405,
          0.28560295701026917,
          0.7461951375007629,
          0.6926125288009644,
          0.39383625984191895,
          0.88460373878479,
          0.6925699710845947,
          0.7855720520019531,
          0.5835482478141785,
          0.9002911448478699,
          0.6476874947547913,
          0.92124342918396,
          0.7983778119087219,
          0.3918135166168213,
          0.5898098349571228,
          0.795583188533783,
          0.434931218624115,
          0.7686395645141602,
          0.5025382041931152,
          0.45829302072525024,
          0.40373390913009644,
          0.7981042265892029,
          0.7451491951942444,
          0.670026957988739,
          0.7197810411453247,
          0.7110622525215149,
          0.7293224930763245,
          0.22730520367622375,
          0.8966254591941833,
          0.8608278632164001,
          0.5576131939888,
          0.4754140377044678,
          0.6947441697120667,
          0.8840204477310181,
          0.4592982232570648,
          0.8590483665466309,
          0.9266495704650879,
          0.5911201238632202,
          0.49211880564689636,
          0.9314026236534119,
          0.2226109802722931,
          0.6255472302436829,
          0.8254634737968445,
          0.5107886791229248,
          0.48518943786621094,
          0.5016372799873352,
          0.4073394238948822,
          0.8243246674537659,
          0.6199567914009094,
          0.7930307984352112,
          0.29322028160095215,
          0.16367806494235992,
          0.8006645441055298,
          0.6100035905838013,
          0.32434356212615967,
          0.6597066521644592,
          0.9185914993286133,
          0.6839130520820618,
          0.14610710740089417
         ],
         "xaxis": "x2",
         "yaxis": "y2"
        }
       ],
       "layout": {
        "bargap": 0,
        "barmode": "overlay",
        "height": 600,
        "legend": {
         "title": {
          "text": "Version"
         },
         "tracegroupgap": 0
        },
        "template": {
         "data": {
          "bar": [
           {
            "error_x": {
             "color": "rgb(36,36,36)"
            },
            "error_y": {
             "color": "rgb(36,36,36)"
            },
            "marker": {
             "line": {
              "color": "white",
              "width": 0.5
             },
             "pattern": {
              "fillmode": "overlay",
              "size": 10,
              "solidity": 0.2
             }
            },
            "type": "bar"
           }
          ],
          "barpolar": [
           {
            "marker": {
             "line": {
              "color": "white",
              "width": 0.5
             },
             "pattern": {
              "fillmode": "overlay",
              "size": 10,
              "solidity": 0.2
             }
            },
            "type": "barpolar"
           }
          ],
          "carpet": [
           {
            "aaxis": {
             "endlinecolor": "rgb(36,36,36)",
             "gridcolor": "white",
             "linecolor": "white",
             "minorgridcolor": "white",
             "startlinecolor": "rgb(36,36,36)"
            },
            "baxis": {
             "endlinecolor": "rgb(36,36,36)",
             "gridcolor": "white",
             "linecolor": "white",
             "minorgridcolor": "white",
             "startlinecolor": "rgb(36,36,36)"
            },
            "type": "carpet"
           }
          ],
          "choropleth": [
           {
            "colorbar": {
             "outlinewidth": 1,
             "tickcolor": "rgb(36,36,36)",
             "ticks": "outside"
            },
            "type": "choropleth"
           }
          ],
          "contour": [
           {
            "colorbar": {
             "outlinewidth": 1,
             "tickcolor": "rgb(36,36,36)",
             "ticks": "outside"
            },
            "colorscale": [
             [
              0,
              "#440154"
             ],
             [
              0.1111111111111111,
              "#482878"
             ],
             [
              0.2222222222222222,
              "#3e4989"
             ],
             [
              0.3333333333333333,
              "#31688e"
             ],
             [
              0.4444444444444444,
              "#26828e"
             ],
             [
              0.5555555555555556,
              "#1f9e89"
             ],
             [
              0.6666666666666666,
              "#35b779"
             ],
             [
              0.7777777777777778,
              "#6ece58"
             ],
             [
              0.8888888888888888,
              "#b5de2b"
             ],
             [
              1,
              "#fde725"
             ]
            ],
            "type": "contour"
           }
          ],
          "contourcarpet": [
           {
            "colorbar": {
             "outlinewidth": 1,
             "tickcolor": "rgb(36,36,36)",
             "ticks": "outside"
            },
            "type": "contourcarpet"
           }
          ],
          "heatmap": [
           {
            "colorbar": {
             "outlinewidth": 1,
             "tickcolor": "rgb(36,36,36)",
             "ticks": "outside"
            },
            "colorscale": [
             [
              0,
              "#440154"
             ],
             [
              0.1111111111111111,
              "#482878"
             ],
             [
              0.2222222222222222,
              "#3e4989"
             ],
             [
              0.3333333333333333,
              "#31688e"
             ],
             [
              0.4444444444444444,
              "#26828e"
             ],
             [
              0.5555555555555556,
              "#1f9e89"
             ],
             [
              0.6666666666666666,
              "#35b779"
             ],
             [
              0.7777777777777778,
              "#6ece58"
             ],
             [
              0.8888888888888888,
              "#b5de2b"
             ],
             [
              1,
              "#fde725"
             ]
            ],
            "type": "heatmap"
           }
          ],
          "heatmapgl": [
           {
            "colorbar": {
             "outlinewidth": 1,
             "tickcolor": "rgb(36,36,36)",
             "ticks": "outside"
            },
            "colorscale": [
             [
              0,
              "#440154"
             ],
             [
              0.1111111111111111,
              "#482878"
             ],
             [
              0.2222222222222222,
              "#3e4989"
             ],
             [
              0.3333333333333333,
              "#31688e"
             ],
             [
              0.4444444444444444,
              "#26828e"
             ],
             [
              0.5555555555555556,
              "#1f9e89"
             ],
             [
              0.6666666666666666,
              "#35b779"
             ],
             [
              0.7777777777777778,
              "#6ece58"
             ],
             [
              0.8888888888888888,
              "#b5de2b"
             ],
             [
              1,
              "#fde725"
             ]
            ],
            "type": "heatmapgl"
           }
          ],
          "histogram": [
           {
            "marker": {
             "line": {
              "color": "white",
              "width": 0.6
             }
            },
            "type": "histogram"
           }
          ],
          "histogram2d": [
           {
            "colorbar": {
             "outlinewidth": 1,
             "tickcolor": "rgb(36,36,36)",
             "ticks": "outside"
            },
            "colorscale": [
             [
              0,
              "#440154"
             ],
             [
              0.1111111111111111,
              "#482878"
             ],
             [
              0.2222222222222222,
              "#3e4989"
             ],
             [
              0.3333333333333333,
              "#31688e"
             ],
             [
              0.4444444444444444,
              "#26828e"
             ],
             [
              0.5555555555555556,
              "#1f9e89"
             ],
             [
              0.6666666666666666,
              "#35b779"
             ],
             [
              0.7777777777777778,
              "#6ece58"
             ],
             [
              0.8888888888888888,
              "#b5de2b"
             ],
             [
              1,
              "#fde725"
             ]
            ],
            "type": "histogram2d"
           }
          ],
          "histogram2dcontour": [
           {
            "colorbar": {
             "outlinewidth": 1,
             "tickcolor": "rgb(36,36,36)",
             "ticks": "outside"
            },
            "colorscale": [
             [
              0,
              "#440154"
             ],
             [
              0.1111111111111111,
              "#482878"
             ],
             [
              0.2222222222222222,
              "#3e4989"
             ],
             [
              0.3333333333333333,
              "#31688e"
             ],
             [
              0.4444444444444444,
              "#26828e"
             ],
             [
              0.5555555555555556,
              "#1f9e89"
             ],
             [
              0.6666666666666666,
              "#35b779"
             ],
             [
              0.7777777777777778,
              "#6ece58"
             ],
             [
              0.8888888888888888,
              "#b5de2b"
             ],
             [
              1,
              "#fde725"
             ]
            ],
            "type": "histogram2dcontour"
           }
          ],
          "mesh3d": [
           {
            "colorbar": {
             "outlinewidth": 1,
             "tickcolor": "rgb(36,36,36)",
             "ticks": "outside"
            },
            "type": "mesh3d"
           }
          ],
          "parcoords": [
           {
            "line": {
             "colorbar": {
              "outlinewidth": 1,
              "tickcolor": "rgb(36,36,36)",
              "ticks": "outside"
             }
            },
            "type": "parcoords"
           }
          ],
          "pie": [
           {
            "automargin": true,
            "type": "pie"
           }
          ],
          "scatter": [
           {
            "fillpattern": {
             "fillmode": "overlay",
             "size": 10,
             "solidity": 0.2
            },
            "type": "scatter"
           }
          ],
          "scatter3d": [
           {
            "line": {
             "colorbar": {
              "outlinewidth": 1,
              "tickcolor": "rgb(36,36,36)",
              "ticks": "outside"
             }
            },
            "marker": {
             "colorbar": {
              "outlinewidth": 1,
              "tickcolor": "rgb(36,36,36)",
              "ticks": "outside"
             }
            },
            "type": "scatter3d"
           }
          ],
          "scattercarpet": [
           {
            "marker": {
             "colorbar": {
              "outlinewidth": 1,
              "tickcolor": "rgb(36,36,36)",
              "ticks": "outside"
             }
            },
            "type": "scattercarpet"
           }
          ],
          "scattergeo": [
           {
            "marker": {
             "colorbar": {
              "outlinewidth": 1,
              "tickcolor": "rgb(36,36,36)",
              "ticks": "outside"
             }
            },
            "type": "scattergeo"
           }
          ],
          "scattergl": [
           {
            "marker": {
             "colorbar": {
              "outlinewidth": 1,
              "tickcolor": "rgb(36,36,36)",
              "ticks": "outside"
             }
            },
            "type": "scattergl"
           }
          ],
          "scattermapbox": [
           {
            "marker": {
             "colorbar": {
              "outlinewidth": 1,
              "tickcolor": "rgb(36,36,36)",
              "ticks": "outside"
             }
            },
            "type": "scattermapbox"
           }
          ],
          "scatterpolar": [
           {
            "marker": {
             "colorbar": {
              "outlinewidth": 1,
              "tickcolor": "rgb(36,36,36)",
              "ticks": "outside"
             }
            },
            "type": "scatterpolar"
           }
          ],
          "scatterpolargl": [
           {
            "marker": {
             "colorbar": {
              "outlinewidth": 1,
              "tickcolor": "rgb(36,36,36)",
              "ticks": "outside"
             }
            },
            "type": "scatterpolargl"
           }
          ],
          "scatterternary": [
           {
            "marker": {
             "colorbar": {
              "outlinewidth": 1,
              "tickcolor": "rgb(36,36,36)",
              "ticks": "outside"
             }
            },
            "type": "scatterternary"
           }
          ],
          "surface": [
           {
            "colorbar": {
             "outlinewidth": 1,
             "tickcolor": "rgb(36,36,36)",
             "ticks": "outside"
            },
            "colorscale": [
             [
              0,
              "#440154"
             ],
             [
              0.1111111111111111,
              "#482878"
             ],
             [
              0.2222222222222222,
              "#3e4989"
             ],
             [
              0.3333333333333333,
              "#31688e"
             ],
             [
              0.4444444444444444,
              "#26828e"
             ],
             [
              0.5555555555555556,
              "#1f9e89"
             ],
             [
              0.6666666666666666,
              "#35b779"
             ],
             [
              0.7777777777777778,
              "#6ece58"
             ],
             [
              0.8888888888888888,
              "#b5de2b"
             ],
             [
              1,
              "#fde725"
             ]
            ],
            "type": "surface"
           }
          ],
          "table": [
           {
            "cells": {
             "fill": {
              "color": "rgb(237,237,237)"
             },
             "line": {
              "color": "white"
             }
            },
            "header": {
             "fill": {
              "color": "rgb(217,217,217)"
             },
             "line": {
              "color": "white"
             }
            },
            "type": "table"
           }
          ]
         },
         "layout": {
          "annotationdefaults": {
           "arrowhead": 0,
           "arrowwidth": 1
          },
          "autotypenumbers": "strict",
          "coloraxis": {
           "colorbar": {
            "outlinewidth": 1,
            "tickcolor": "rgb(36,36,36)",
            "ticks": "outside"
           }
          },
          "colorscale": {
           "diverging": [
            [
             0,
             "rgb(103,0,31)"
            ],
            [
             0.1,
             "rgb(178,24,43)"
            ],
            [
             0.2,
             "rgb(214,96,77)"
            ],
            [
             0.3,
             "rgb(244,165,130)"
            ],
            [
             0.4,
             "rgb(253,219,199)"
            ],
            [
             0.5,
             "rgb(247,247,247)"
            ],
            [
             0.6,
             "rgb(209,229,240)"
            ],
            [
             0.7,
             "rgb(146,197,222)"
            ],
            [
             0.8,
             "rgb(67,147,195)"
            ],
            [
             0.9,
             "rgb(33,102,172)"
            ],
            [
             1,
             "rgb(5,48,97)"
            ]
           ],
           "sequential": [
            [
             0,
             "#440154"
            ],
            [
             0.1111111111111111,
             "#482878"
            ],
            [
             0.2222222222222222,
             "#3e4989"
            ],
            [
             0.3333333333333333,
             "#31688e"
            ],
            [
             0.4444444444444444,
             "#26828e"
            ],
            [
             0.5555555555555556,
             "#1f9e89"
            ],
            [
             0.6666666666666666,
             "#35b779"
            ],
            [
             0.7777777777777778,
             "#6ece58"
            ],
            [
             0.8888888888888888,
             "#b5de2b"
            ],
            [
             1,
             "#fde725"
            ]
           ],
           "sequentialminus": [
            [
             0,
             "#440154"
            ],
            [
             0.1111111111111111,
             "#482878"
            ],
            [
             0.2222222222222222,
             "#3e4989"
            ],
            [
             0.3333333333333333,
             "#31688e"
            ],
            [
             0.4444444444444444,
             "#26828e"
            ],
            [
             0.5555555555555556,
             "#1f9e89"
            ],
            [
             0.6666666666666666,
             "#35b779"
            ],
            [
             0.7777777777777778,
             "#6ece58"
            ],
            [
             0.8888888888888888,
             "#b5de2b"
            ],
            [
             1,
             "#fde725"
            ]
           ]
          },
          "colorway": [
           "#1F77B4",
           "#FF7F0E",
           "#2CA02C",
           "#D62728",
           "#9467BD",
           "#8C564B",
           "#E377C2",
           "#7F7F7F",
           "#BCBD22",
           "#17BECF"
          ],
          "font": {
           "color": "rgb(36,36,36)"
          },
          "geo": {
           "bgcolor": "white",
           "lakecolor": "white",
           "landcolor": "white",
           "showlakes": true,
           "showland": true,
           "subunitcolor": "white"
          },
          "hoverlabel": {
           "align": "left"
          },
          "hovermode": "closest",
          "mapbox": {
           "style": "light"
          },
          "paper_bgcolor": "white",
          "plot_bgcolor": "white",
          "polar": {
           "angularaxis": {
            "gridcolor": "rgb(232,232,232)",
            "linecolor": "rgb(36,36,36)",
            "showgrid": false,
            "showline": true,
            "ticks": "outside"
           },
           "bgcolor": "white",
           "radialaxis": {
            "gridcolor": "rgb(232,232,232)",
            "linecolor": "rgb(36,36,36)",
            "showgrid": false,
            "showline": true,
            "ticks": "outside"
           }
          },
          "scene": {
           "xaxis": {
            "backgroundcolor": "white",
            "gridcolor": "rgb(232,232,232)",
            "gridwidth": 2,
            "linecolor": "rgb(36,36,36)",
            "showbackground": true,
            "showgrid": false,
            "showline": true,
            "ticks": "outside",
            "zeroline": false,
            "zerolinecolor": "rgb(36,36,36)"
           },
           "yaxis": {
            "backgroundcolor": "white",
            "gridcolor": "rgb(232,232,232)",
            "gridwidth": 2,
            "linecolor": "rgb(36,36,36)",
            "showbackground": true,
            "showgrid": false,
            "showline": true,
            "ticks": "outside",
            "zeroline": false,
            "zerolinecolor": "rgb(36,36,36)"
           },
           "zaxis": {
            "backgroundcolor": "white",
            "gridcolor": "rgb(232,232,232)",
            "gridwidth": 2,
            "linecolor": "rgb(36,36,36)",
            "showbackground": true,
            "showgrid": false,
            "showline": true,
            "ticks": "outside",
            "zeroline": false,
            "zerolinecolor": "rgb(36,36,36)"
           }
          },
          "shapedefaults": {
           "fillcolor": "black",
           "line": {
            "width": 0
           },
           "opacity": 0.3
          },
          "ternary": {
           "aaxis": {
            "gridcolor": "rgb(232,232,232)",
            "linecolor": "rgb(36,36,36)",
            "showgrid": false,
            "showline": true,
            "ticks": "outside"
           },
           "baxis": {
            "gridcolor": "rgb(232,232,232)",
            "linecolor": "rgb(36,36,36)",
            "showgrid": false,
            "showline": true,
            "ticks": "outside"
           },
           "bgcolor": "white",
           "caxis": {
            "gridcolor": "rgb(232,232,232)",
            "linecolor": "rgb(36,36,36)",
            "showgrid": false,
            "showline": true,
            "ticks": "outside"
           }
          },
          "title": {
           "x": 0.05
          },
          "xaxis": {
           "automargin": true,
           "gridcolor": "rgb(232,232,232)",
           "linecolor": "rgb(36,36,36)",
           "showgrid": false,
           "showline": true,
           "ticks": "outside",
           "title": {
            "standoff": 15
           },
           "zeroline": false,
           "zerolinecolor": "rgb(36,36,36)"
          },
          "yaxis": {
           "automargin": true,
           "gridcolor": "rgb(232,232,232)",
           "linecolor": "rgb(36,36,36)",
           "showgrid": false,
           "showline": true,
           "ticks": "outside",
           "title": {
            "standoff": 15
           },
           "zeroline": false,
           "zerolinecolor": "rgb(36,36,36)"
          }
         }
        },
        "title": {
         "text": "Difference in attn from END➔IO vs. END➔S1 (path-patched vs clean)"
        },
        "width": 800,
        "xaxis": {
         "anchor": "y",
         "domain": [
          0,
          1
         ],
         "title": {
          "text": "Attn diff (positive ⇒ more attn paid to IO than S1)"
         }
        },
        "xaxis2": {
         "anchor": "y2",
         "domain": [
          0,
          1
         ],
         "matches": "x",
         "showticklabels": false
        },
        "yaxis": {
         "anchor": "x",
         "domain": [
          0,
          0.7326
         ],
         "title": {
          "text": "count"
         }
        },
        "yaxis2": {
         "anchor": "x2",
         "domain": [
          0.7426,
          1
         ],
         "matches": "y2",
         "showline": false,
         "showticklabels": false,
         "ticks": ""
        }
       }
      },
      "text/html": [
       "<div>                            <div id=\"673b8718-0adc-46e3-b122-28eb2091b8aa\" class=\"plotly-graph-div\" style=\"height:600px; width:800px;\"></div>            <script type=\"text/javascript\">                require([\"plotly\"], function(Plotly) {                    window.PLOTLYENV=window.PLOTLYENV || {};                                    if (document.getElementById(\"673b8718-0adc-46e3-b122-28eb2091b8aa\")) {                    Plotly.newPlot(                        \"673b8718-0adc-46e3-b122-28eb2091b8aa\",                        [{\"alignmentgroup\":\"True\",\"bingroup\":\"x\",\"hovertemplate\":\"Version=wide_variable_0\\u003cbr\\u003eAttn diff (positive \\u21d2 more attn paid to IO than S1)=%{x}\\u003cbr\\u003ecount=%{y}\\u003cextra\\u003e\\u003c\\u002fextra\\u003e\",\"legendgroup\":\"wide_variable_0\",\"marker\":{\"color\":\"#1F77B4\",\"opacity\":0.7,\"pattern\":{\"shape\":\"\"}},\"name\":\"Patched\",\"offsetgroup\":\"wide_variable_0\",\"orientation\":\"v\",\"showlegend\":true,\"x\":[0.11704198271036148,0.14517664909362793,0.10484647750854492,0.4136693775653839,0.408512145280838,0.2525329291820526,0.3329426348209381,0.4221581518650055,-0.044355835765600204,0.12077349424362183,0.367724746465683,0.299250990152359,0.07942415773868561,0.13640494644641876,0.06516741216182709,0.017011716961860657,0.37732765078544617,0.24162650108337402,0.6645040512084961,0.20696784555912018,0.12008200585842133,0.13716554641723633,0.16020207107067108,0.14486388862133026,0.255557656288147,0.0785604938864708,0.6357201933860779,0.5922348499298096,0.40392830967903137,0.12935274839401245,0.07279589772224426,0.4111705720424652,0.16391268372535706,0.11104445904493332,0.07035486400127411,0.08156856149435043,0.36360636353492737,0.1627049595117569,0.25656384229660034,0.2336927354335785,0.14582161605358124,-0.09851109981536865,0.013964883983135223,0.23562344908714294,0.5703508853912354,0.07161301374435425,0.42151862382888794,0.07412269711494446,0.18343476951122284,0.2996276617050171,0.4289558231830597,0.32096022367477417,0.17274515330791473,0.19964812695980072,0.10976310819387436,0.05808430165052414,0.01056283712387085,0.06219018995761871,0.1726064234972,0.23320893943309784,0.3005123734474182,0.06582151353359222,0.30703234672546387,0.2818930149078369,0.41387540102005005,0.09020520746707916,0.6434992551803589,0.17462171614170074,0.16739922761917114,0.26922622323036194,0.16473397612571716,0.15428075194358826,0.12749485671520233,0.19063618779182434,0.08703771233558655,0.18678805232048035,0.21830545365810394,0.6334890723228455,0.2797572910785675,0.14138919115066528,0.3922341465950012,0.10442870855331421,0.2912989854812622,0.07521119713783264,0.17363734543323517,0.3450751006603241,0.20757648348808289,0.05871196836233139,0.3025881350040436,0.10007748007774353,0.26287567615509033,0.02995121479034424,-0.012196779251098633,0.011654525995254517,0.17310494184494019,0.1688029170036316,0.08777203410863876,0.3223663866519928,0.3137120306491852,0.4834071397781372,0.2640402317047119,0.1132907047867775,0.1265038549900055,0.09398671984672546,0.17057524621486664,0.0036711692810058594,0.0670388787984848,0.010643161833286285,0.11558496952056885,0.3828125,0.16217710077762604,0.262023001909256,0.4115724563598633,0.02330796979367733,0.05402974784374237,0.2984147071838379,0.2864918112754822,0.21625149250030518,0.17626100778579712,0.2852514386177063,-0.008345119655132294,0.180532768368721,0.14990964531898499,0.0662391185760498,0.2283763587474823,-0.01954859122633934,0.2144036591053009,0.10795510560274124,0.26461881399154663,0.12529832124710083,0.07427402585744858,0.5021101236343384,0.0721188485622406,0.20576007664203644,0.1128404289484024,0.16326817870140076,0.16102281212806702,0.06118529289960861,0.13029217720031738,0.11809495091438293,0.09993371367454529,0.22286219894886017,0.031213410198688507,0.14093007147312164,0.5765106678009033,0.24844427406787872,0.024344194680452347,0.3412913382053375,0.13750916719436646,0.055012211203575134,0.2000652402639389,0.09696094691753387,0.09676655381917953,0.4284667372703552,0.09831547737121582,0.0032436326146125793,0.37917518615722656,0.19837301969528198,-0.0216875858604908,0.18711519241333008,0.09359434247016907,0.08680861443281174,0.2825946807861328,0.05530714988708496,0.344099223613739,0.1902305632829666,0.49020394682884216,0.15240541100502014,0.6556227207183838,0.10681106895208359,0.11926695704460144,0.049471862614154816,0.3486254811286926,0.2748183608055115,0.63144451379776,0.02546236291527748,0.437164843082428,0.12499319761991501,0.056818556040525436,0.08941348642110825,0.5657280087471008,0.30021363496780396,0.4775189459323883,0.11520051211118698,0.01105877012014389,0.05704408138990402,0.1152462586760521,0.39570552110671997,0.27701544761657715,0.19574575126171112,0.329752653837204,0.3615409731864929,-0.010843262076377869,0.3965751826763153,0.2926845848560333,0.23171965777873993,0.09998823702335358,0.4104267656803131,0.09188248217105865,0.1427144557237625,0.23358063399791718,0.10176488012075424,0.1550544798374176,0.24141156673431396,0.4247673749923706,0.5095268487930298,0.09706456959247589,0.06435610353946686,0.03985431790351868,0.43406057357788086,0.14967145025730133,0.0688139945268631,0.01202448457479477,0.5994890928268433,0.33805355429649353,0.35773882269859314,0.3096607029438019,0.07155556976795197,0.13987243175506592,0.4255672097206116,0.14536717534065247,0.1440788209438324,0.3356199264526367,0.2521076202392578,0.10883893072605133,0.16229084134101868,0.18943405151367188,0.5255520343780518,0.1653020679950714,0.06977881491184235,0.14783719182014465,0.44452157616615295,0.2106115221977234,0.03278559446334839,0.1825675666332245,0.042312804609537125,0.5291334390640259,0.04221508651971817,0.01876790076494217,0.09278475493192673,0.36553457379341125,0.3925026059150696,0.24228492379188538,0.14862406253814697,0.17219246923923492,0.45639562606811523,0.4011366069316864,0.0545404851436615,0.3874853551387787,0.07765580713748932,0.11758960783481598,0.11711695790290833,0.19263328611850739,0.05880825221538544,0.17302463948726654,0.20969095826148987,0.11203738301992416,0.30468761920928955,0.11840776354074478,0.10138078778982162,0.04232968017458916,-0.030560657382011414,0.222392737865448,0.21969270706176758,0.0414901077747345,0.17714524269104004,0.1479480117559433,0.19207686185836792,0.22721533477306366,0.1569608747959137,0.011624693870544434,0.28346580266952515,0.17489144206047058,0.10819889605045319,0.24388019740581512,0.2304193377494812,0.34098631143569946,0.27407753467559814,0.4475846588611603,0.07474003732204437,0.3116793632507324,0.26602786779403687,0.1081332266330719,0.39633965492248535,0.4896695613861084,0.06242065876722336,0.08707992732524872,0.18907804787158966,0.4130803346633911,0.4088282883167267,0.340631902217865,0.21769411861896515,0.2888645827770233,0.6951805949211121,0.2366006225347519,0.23280735313892365,0.31042400002479553,0.08581230044364929,0.402040958404541,0.522358775138855,0.25385841727256775,0.16013240814208984,0.23865273594856262,0.2840588390827179,0.26279130578041077,0.26687994599342346,0.27406370639801025,0.21762147545814514,0.16526028513908386,0.16605603694915771,0.3313218653202057,0.11446372419595718,0.418279767036438,0.6729052662849426,0.3400190472602844,0.5062217116355896,0.06292878091335297,0.0854371190071106,0.15696220099925995,0.1798824816942215,0.13073641061782837,0.07351554185152054,0.122161366045475,0.2816210389137268,0.023331962525844574,0.2921631336212158,-0.004368223249912262,0.229792058467865,0.11137515306472778,0.485839307308197,0.26781731843948364,0.2193887084722519,0.07941864430904388,0.14267797768115997,0.07079765945672989,0.44516703486442566,0.11385349929332733,0.20659874379634857,0.28190433979034424,0.09444178640842438,0.37922582030296326,0.3787539601325989,0.257701575756073,0.10118971765041351,-0.01103130728006363,0.19657479226589203,0.5865674614906311,0.20731256902217865,0.326721727848053,0.11112366616725922,0.4359844923019409,0.28895410895347595,0.14133404195308685,0.1413014829158783,0.15495850145816803,0.3711481988430023,0.3488556146621704,0.03282490372657776,0.435116171836853,0.12333442270755768,0.3582424223423004,0.10776146501302719,0.05925799533724785,0.13453449308872223,-0.002581898123025894,0.1133531704545021,0.311488538980484,0.18800652027130127,0.11711982637643814,0.11617980897426605,0.0687079131603241,0.2923564612865448,0.10732947289943695,0.24024881422519684,0.15295851230621338,0.3381751477718353,0.22428207099437714,0.07939542829990387,0.1735614389181137,0.14214235544204712,0.07212264835834503,0.33474040031433105,0.19994716346263885,0.25623130798339844,0.27962398529052734,0.1672341525554657,0.38794904947280884,0.11115608364343643,0.22767895460128784,0.26019132137298584,0.3075207471847534,0.19237352907657623,0.32924965023994446,0.41130661964416504,0.19117207825183868,0.3330146074295044,0.45700153708457947,0.21528983116149902,0.15634767711162567,0.10244352370500565,0.16130127012729645,0.07865212857723236,0.4485991299152374,0.07156698405742645,0.30445942282676697,0.014846645295619965,0.2321653664112091,0.4431462585926056,0.31668752431869507,0.3513603210449219,0.04268984869122505,0.09425900876522064,0.2090161293745041,0.1301441192626953,0.09538273513317108,0.3381314277648926,0.3467502295970917,0.05181504413485527,0.1000291034579277,0.17307747900485992,0.13739235699176788,0.37066125869750977,0.09850266575813293,0.09589467197656631,0.10238683223724365,0.4328322112560272,0.4506385028362274,0.060009364038705826,0.48263606429100037,0.21003694832324982,0.22220353782176971,0.17100833356380463,-0.01015852764248848,0.23178569972515106,0.20123007893562317,0.09199687838554382,0.4040060043334961,0.17571252584457397,0.30963054299354553,0.4823806583881378,0.3782173991203308,0.18334870040416718,0.06887193024158478,0.3408413231372833,0.36438316106796265,0.04579143226146698,0.474223792552948,0.10988960415124893,0.3579217493534088,0.344448983669281,0.3440704941749573,0.2864091098308563,0.31335899233818054,0.0688696950674057,0.08808525651693344,0.15966938436031342,0.2536067068576813,0.2093992382287979,0.1645026057958603,0.06620333343744278,0.10400145500898361,0.1925446093082428,0.547590434551239,0.12922212481498718,0.3263351023197174,0.04452235996723175,0.21584908664226532,0.059194955974817276,0.1724342703819275,0.43815070390701294,0.05720940977334976,0.0571780726313591,0.2036636769771576,0.2942589223384857,0.16953985393047333,0.4194476008415222,0.40834376215934753,0.1978636085987091,0.13190148770809174,0.1647794395685196,0.4529775083065033,0.13959363102912903,0.21652285754680634,0.07989758998155594,0.07237903028726578,0.031768798828125,0.1323002427816391,0.06674036383628845,0.16584563255310059,0.23803409934043884,0.34825509786605835,0.08180712908506393,0.1475953608751297,0.15383663773536682,0.3664894700050354,-0.0179443359375,0.21066267788410187,0.2749595046043396,0.12220001965761185,0.19780486822128296],\"xaxis\":\"x\",\"yaxis\":\"y\",\"type\":\"histogram\"},{\"alignmentgroup\":\"True\",\"hovertemplate\":\"Version=wide_variable_0\\u003cbr\\u003eAttn diff (positive \\u21d2 more attn paid to IO than S1)=%{x}\\u003cextra\\u003e\\u003c\\u002fextra\\u003e\",\"legendgroup\":\"wide_variable_0\",\"marker\":{\"color\":\"#1F77B4\"},\"name\":\"Patched\",\"notched\":true,\"offsetgroup\":\"wide_variable_0\",\"showlegend\":false,\"x\":[0.11704198271036148,0.14517664909362793,0.10484647750854492,0.4136693775653839,0.408512145280838,0.2525329291820526,0.3329426348209381,0.4221581518650055,-0.044355835765600204,0.12077349424362183,0.367724746465683,0.299250990152359,0.07942415773868561,0.13640494644641876,0.06516741216182709,0.017011716961860657,0.37732765078544617,0.24162650108337402,0.6645040512084961,0.20696784555912018,0.12008200585842133,0.13716554641723633,0.16020207107067108,0.14486388862133026,0.255557656288147,0.0785604938864708,0.6357201933860779,0.5922348499298096,0.40392830967903137,0.12935274839401245,0.07279589772224426,0.4111705720424652,0.16391268372535706,0.11104445904493332,0.07035486400127411,0.08156856149435043,0.36360636353492737,0.1627049595117569,0.25656384229660034,0.2336927354335785,0.14582161605358124,-0.09851109981536865,0.013964883983135223,0.23562344908714294,0.5703508853912354,0.07161301374435425,0.42151862382888794,0.07412269711494446,0.18343476951122284,0.2996276617050171,0.4289558231830597,0.32096022367477417,0.17274515330791473,0.19964812695980072,0.10976310819387436,0.05808430165052414,0.01056283712387085,0.06219018995761871,0.1726064234972,0.23320893943309784,0.3005123734474182,0.06582151353359222,0.30703234672546387,0.2818930149078369,0.41387540102005005,0.09020520746707916,0.6434992551803589,0.17462171614170074,0.16739922761917114,0.26922622323036194,0.16473397612571716,0.15428075194358826,0.12749485671520233,0.19063618779182434,0.08703771233558655,0.18678805232048035,0.21830545365810394,0.6334890723228455,0.2797572910785675,0.14138919115066528,0.3922341465950012,0.10442870855331421,0.2912989854812622,0.07521119713783264,0.17363734543323517,0.3450751006603241,0.20757648348808289,0.05871196836233139,0.3025881350040436,0.10007748007774353,0.26287567615509033,0.02995121479034424,-0.012196779251098633,0.011654525995254517,0.17310494184494019,0.1688029170036316,0.08777203410863876,0.3223663866519928,0.3137120306491852,0.4834071397781372,0.2640402317047119,0.1132907047867775,0.1265038549900055,0.09398671984672546,0.17057524621486664,0.0036711692810058594,0.0670388787984848,0.010643161833286285,0.11558496952056885,0.3828125,0.16217710077762604,0.262023001909256,0.4115724563598633,0.02330796979367733,0.05402974784374237,0.2984147071838379,0.2864918112754822,0.21625149250030518,0.17626100778579712,0.2852514386177063,-0.008345119655132294,0.180532768368721,0.14990964531898499,0.0662391185760498,0.2283763587474823,-0.01954859122633934,0.2144036591053009,0.10795510560274124,0.26461881399154663,0.12529832124710083,0.07427402585744858,0.5021101236343384,0.0721188485622406,0.20576007664203644,0.1128404289484024,0.16326817870140076,0.16102281212806702,0.06118529289960861,0.13029217720031738,0.11809495091438293,0.09993371367454529,0.22286219894886017,0.031213410198688507,0.14093007147312164,0.5765106678009033,0.24844427406787872,0.024344194680452347,0.3412913382053375,0.13750916719436646,0.055012211203575134,0.2000652402639389,0.09696094691753387,0.09676655381917953,0.4284667372703552,0.09831547737121582,0.0032436326146125793,0.37917518615722656,0.19837301969528198,-0.0216875858604908,0.18711519241333008,0.09359434247016907,0.08680861443281174,0.2825946807861328,0.05530714988708496,0.344099223613739,0.1902305632829666,0.49020394682884216,0.15240541100502014,0.6556227207183838,0.10681106895208359,0.11926695704460144,0.049471862614154816,0.3486254811286926,0.2748183608055115,0.63144451379776,0.02546236291527748,0.437164843082428,0.12499319761991501,0.056818556040525436,0.08941348642110825,0.5657280087471008,0.30021363496780396,0.4775189459323883,0.11520051211118698,0.01105877012014389,0.05704408138990402,0.1152462586760521,0.39570552110671997,0.27701544761657715,0.19574575126171112,0.329752653837204,0.3615409731864929,-0.010843262076377869,0.3965751826763153,0.2926845848560333,0.23171965777873993,0.09998823702335358,0.4104267656803131,0.09188248217105865,0.1427144557237625,0.23358063399791718,0.10176488012075424,0.1550544798374176,0.24141156673431396,0.4247673749923706,0.5095268487930298,0.09706456959247589,0.06435610353946686,0.03985431790351868,0.43406057357788086,0.14967145025730133,0.0688139945268631,0.01202448457479477,0.5994890928268433,0.33805355429649353,0.35773882269859314,0.3096607029438019,0.07155556976795197,0.13987243175506592,0.4255672097206116,0.14536717534065247,0.1440788209438324,0.3356199264526367,0.2521076202392578,0.10883893072605133,0.16229084134101868,0.18943405151367188,0.5255520343780518,0.1653020679950714,0.06977881491184235,0.14783719182014465,0.44452157616615295,0.2106115221977234,0.03278559446334839,0.1825675666332245,0.042312804609537125,0.5291334390640259,0.04221508651971817,0.01876790076494217,0.09278475493192673,0.36553457379341125,0.3925026059150696,0.24228492379188538,0.14862406253814697,0.17219246923923492,0.45639562606811523,0.4011366069316864,0.0545404851436615,0.3874853551387787,0.07765580713748932,0.11758960783481598,0.11711695790290833,0.19263328611850739,0.05880825221538544,0.17302463948726654,0.20969095826148987,0.11203738301992416,0.30468761920928955,0.11840776354074478,0.10138078778982162,0.04232968017458916,-0.030560657382011414,0.222392737865448,0.21969270706176758,0.0414901077747345,0.17714524269104004,0.1479480117559433,0.19207686185836792,0.22721533477306366,0.1569608747959137,0.011624693870544434,0.28346580266952515,0.17489144206047058,0.10819889605045319,0.24388019740581512,0.2304193377494812,0.34098631143569946,0.27407753467559814,0.4475846588611603,0.07474003732204437,0.3116793632507324,0.26602786779403687,0.1081332266330719,0.39633965492248535,0.4896695613861084,0.06242065876722336,0.08707992732524872,0.18907804787158966,0.4130803346633911,0.4088282883167267,0.340631902217865,0.21769411861896515,0.2888645827770233,0.6951805949211121,0.2366006225347519,0.23280735313892365,0.31042400002479553,0.08581230044364929,0.402040958404541,0.522358775138855,0.25385841727256775,0.16013240814208984,0.23865273594856262,0.2840588390827179,0.26279130578041077,0.26687994599342346,0.27406370639801025,0.21762147545814514,0.16526028513908386,0.16605603694915771,0.3313218653202057,0.11446372419595718,0.418279767036438,0.6729052662849426,0.3400190472602844,0.5062217116355896,0.06292878091335297,0.0854371190071106,0.15696220099925995,0.1798824816942215,0.13073641061782837,0.07351554185152054,0.122161366045475,0.2816210389137268,0.023331962525844574,0.2921631336212158,-0.004368223249912262,0.229792058467865,0.11137515306472778,0.485839307308197,0.26781731843948364,0.2193887084722519,0.07941864430904388,0.14267797768115997,0.07079765945672989,0.44516703486442566,0.11385349929332733,0.20659874379634857,0.28190433979034424,0.09444178640842438,0.37922582030296326,0.3787539601325989,0.257701575756073,0.10118971765041351,-0.01103130728006363,0.19657479226589203,0.5865674614906311,0.20731256902217865,0.326721727848053,0.11112366616725922,0.4359844923019409,0.28895410895347595,0.14133404195308685,0.1413014829158783,0.15495850145816803,0.3711481988430023,0.3488556146621704,0.03282490372657776,0.435116171836853,0.12333442270755768,0.3582424223423004,0.10776146501302719,0.05925799533724785,0.13453449308872223,-0.002581898123025894,0.1133531704545021,0.311488538980484,0.18800652027130127,0.11711982637643814,0.11617980897426605,0.0687079131603241,0.2923564612865448,0.10732947289943695,0.24024881422519684,0.15295851230621338,0.3381751477718353,0.22428207099437714,0.07939542829990387,0.1735614389181137,0.14214235544204712,0.07212264835834503,0.33474040031433105,0.19994716346263885,0.25623130798339844,0.27962398529052734,0.1672341525554657,0.38794904947280884,0.11115608364343643,0.22767895460128784,0.26019132137298584,0.3075207471847534,0.19237352907657623,0.32924965023994446,0.41130661964416504,0.19117207825183868,0.3330146074295044,0.45700153708457947,0.21528983116149902,0.15634767711162567,0.10244352370500565,0.16130127012729645,0.07865212857723236,0.4485991299152374,0.07156698405742645,0.30445942282676697,0.014846645295619965,0.2321653664112091,0.4431462585926056,0.31668752431869507,0.3513603210449219,0.04268984869122505,0.09425900876522064,0.2090161293745041,0.1301441192626953,0.09538273513317108,0.3381314277648926,0.3467502295970917,0.05181504413485527,0.1000291034579277,0.17307747900485992,0.13739235699176788,0.37066125869750977,0.09850266575813293,0.09589467197656631,0.10238683223724365,0.4328322112560272,0.4506385028362274,0.060009364038705826,0.48263606429100037,0.21003694832324982,0.22220353782176971,0.17100833356380463,-0.01015852764248848,0.23178569972515106,0.20123007893562317,0.09199687838554382,0.4040060043334961,0.17571252584457397,0.30963054299354553,0.4823806583881378,0.3782173991203308,0.18334870040416718,0.06887193024158478,0.3408413231372833,0.36438316106796265,0.04579143226146698,0.474223792552948,0.10988960415124893,0.3579217493534088,0.344448983669281,0.3440704941749573,0.2864091098308563,0.31335899233818054,0.0688696950674057,0.08808525651693344,0.15966938436031342,0.2536067068576813,0.2093992382287979,0.1645026057958603,0.06620333343744278,0.10400145500898361,0.1925446093082428,0.547590434551239,0.12922212481498718,0.3263351023197174,0.04452235996723175,0.21584908664226532,0.059194955974817276,0.1724342703819275,0.43815070390701294,0.05720940977334976,0.0571780726313591,0.2036636769771576,0.2942589223384857,0.16953985393047333,0.4194476008415222,0.40834376215934753,0.1978636085987091,0.13190148770809174,0.1647794395685196,0.4529775083065033,0.13959363102912903,0.21652285754680634,0.07989758998155594,0.07237903028726578,0.031768798828125,0.1323002427816391,0.06674036383628845,0.16584563255310059,0.23803409934043884,0.34825509786605835,0.08180712908506393,0.1475953608751297,0.15383663773536682,0.3664894700050354,-0.0179443359375,0.21066267788410187,0.2749595046043396,0.12220001965761185,0.19780486822128296],\"xaxis\":\"x2\",\"yaxis\":\"y2\",\"type\":\"box\"},{\"alignmentgroup\":\"True\",\"bingroup\":\"x\",\"hovertemplate\":\"Version=wide_variable_1\\u003cbr\\u003eAttn diff (positive \\u21d2 more attn paid to IO than S1)=%{x}\\u003cbr\\u003ecount=%{y}\\u003cextra\\u003e\\u003c\\u002fextra\\u003e\",\"legendgroup\":\"wide_variable_1\",\"marker\":{\"color\":\"#FF7F0E\",\"opacity\":0.7,\"pattern\":{\"shape\":\"\"}},\"name\":\"Clean\",\"offsetgroup\":\"wide_variable_1\",\"orientation\":\"v\",\"showlegend\":true,\"x\":[0.34089526534080505,0.8074992895126343,0.5582032203674316,0.7318280935287476,0.7160360813140869,0.9330116510391235,0.4164676368236542,0.8573871850967407,0.19882258772850037,0.46113863587379456,0.806635856628418,0.7974733710289001,0.6938650012016296,0.6404451727867126,0.7795495986938477,0.16197654604911804,0.6654396653175354,0.8656890392303467,0.8981029987335205,0.6703542470932007,0.698097288608551,0.43584397435188293,0.6495481729507446,0.46737486124038696,0.7832605242729187,0.5202583074569702,0.9304323792457581,0.9475433826446533,0.8401213884353638,0.6968037486076355,0.2264273464679718,0.8148811459541321,0.6263083815574646,0.361032634973526,0.7586885690689087,0.8013864159584045,0.5675743222236633,0.33798307180404663,0.6761784553527832,0.793239951133728,0.6813507676124573,0.4853420853614807,0.37333694100379944,0.469950407743454,0.9067724943161011,0.4422936737537384,0.7471556067466736,0.5576421618461609,0.7732982635498047,0.711265504360199,0.7702556848526001,0.6583808660507202,0.4491897225379944,0.45705413818359375,0.5294257402420044,0.4501537084579468,0.25128045678138733,0.6301050186157227,0.7533895373344421,0.7568608522415161,0.7333893775939941,0.5219902396202087,0.8530805110931396,0.6603947877883911,0.6128941774368286,0.6270260214805603,0.9338223934173584,0.7997579574584961,0.3920983672142029,0.9668389558792114,0.5081336498260498,0.46499398350715637,0.5790800452232361,0.7854081392288208,0.43610328435897827,0.7176573872566223,0.8499552011489868,0.8238360285758972,0.6590073108673096,0.6474502086639404,0.7835715413093567,0.41030341386795044,0.5832579731941223,0.7498425841331482,0.5238035917282104,0.859963595867157,0.8255717754364014,0.29806241393089294,0.892339825630188,0.6506275534629822,0.8682566285133362,0.4979185461997986,0.21560338139533997,0.6894434094429016,0.5288463830947876,0.640836775302887,0.49508967995643616,0.5233909487724304,0.7757933735847473,0.860929548740387,0.7490021586418152,0.37566351890563965,0.7313119173049927,0.41516169905662537,0.5778592228889465,0.5228466987609863,0.6544146537780762,0.15555040538311005,0.3826035261154175,0.5984338521957397,0.3392833471298218,0.8432651162147522,0.7900476455688477,0.4307575821876526,0.2714449465274811,0.8814660310745239,0.7988192439079285,0.5318908095359802,0.5146305561065674,0.7064067721366882,0.0731450542807579,0.6198329329490662,0.7185178399085999,0.9082135558128357,0.5568194389343262,0.35905978083610535,0.8895971775054932,0.4353797435760498,0.717665433883667,0.8818395733833313,0.2144414633512497,0.8944191932678223,0.19711387157440186,0.8474878668785095,0.8419159650802612,0.8788710236549377,0.5994776487350464,0.5515172481536865,0.5052855610847473,0.7367236614227295,0.8115673065185547,0.7681111097335815,0.3972116708755493,0.6003189086914062,0.6024354100227356,0.7310043573379517,0.40567827224731445,0.7722532153129578,0.5547573566436768,0.5777713656425476,0.7880971431732178,0.4374134838581085,0.19774489104747772,0.8545472621917725,0.5520100593566895,0.24688085913658142,0.496025949716568,0.5771763324737549,0.21314334869384766,0.507371187210083,0.12250585854053497,0.11524966359138489,0.5578946471214294,0.6581563949584961,0.590964674949646,0.6983673572540283,0.7818738222122192,0.6073446869850159,0.9144742488861084,0.8190869688987732,0.8879438042640686,0.6517876386642456,0.850581169128418,0.7758859992027283,0.8794505000114441,0.9018958210945129,0.967625081539154,0.5011417269706726,0.5581638216972351,0.2085232138633728,0.8088512420654297,0.7653396725654602,0.5987750887870789,0.5437236428260803,0.14195221662521362,0.28564727306365967,0.328026682138443,0.7462974786758423,0.42889073491096497,0.6716121435165405,0.5940771102905273,0.766198456287384,0.5951201915740967,0.9206588268280029,0.6893861889839172,0.8684086203575134,0.32580864429473877,0.8367536067962646,0.7216788530349731,0.25541555881500244,0.5051608681678772,0.6814858317375183,0.5419660806655884,0.9330294728279114,0.5282884836196899,0.8445212841033936,0.42273086309432983,0.6801745891571045,0.2377362698316574,0.8265323638916016,0.8277262449264526,0.5100499987602234,0.06554967910051346,0.9265316724777222,0.8045835494995117,0.8991832137107849,0.8171007037162781,0.6406141519546509,0.6456276178359985,0.6898682117462158,0.7612775564193726,0.5839230418205261,0.9092454314231873,0.7741196155548096,0.7190544605255127,0.5576263070106506,0.6575324535369873,0.9065493941307068,0.42700332403182983,0.31866753101348877,0.4971795380115509,0.6079238057136536,0.6178537607192993,0.823372483253479,0.5068770051002502,0.5270177125930786,0.7269731163978577,0.658091127872467,0.15518465638160706,0.7873186469078064,0.6654801368713379,0.8830954432487488,0.35771334171295166,0.6954158544540405,0.7156493663787842,0.7815439701080322,0.9292128086090088,0.5919345021247864,0.6682032942771912,0.16642725467681885,0.4392957091331482,0.8154891729354858,0.8649076819419861,0.5514828562736511,0.7907283306121826,0.6619318127632141,0.6898072957992554,0.5611209869384766,0.7437925338745117,0.6783514022827148,0.37014785408973694,0.5451709628105164,0.7192472815513611,0.8541297912597656,0.5602121353149414,0.666405200958252,0.697390079498291,0.8215296864509583,0.9600980877876282,0.6914442181587219,0.1761718988418579,0.8333448171615601,0.4943190813064575,0.6447774171829224,0.6360462307929993,0.6788957715034485,0.44745466113090515,0.8507232666015625,0.9199475646018982,0.36214694380760193,0.8812190890312195,0.7031976580619812,0.491129606962204,0.5802220106124878,0.8049697875976562,0.3229944109916687,0.5313513278961182,0.5765408873558044,0.9241169095039368,0.9078906774520874,0.7907389998435974,0.8096877932548523,0.6176207065582275,0.9570932388305664,0.6454447507858276,0.36276835203170776,0.7885540127754211,0.43988996744155884,0.9529529809951782,0.7348285913467407,0.7643395066261292,0.5698348879814148,0.5326456427574158,0.6368986368179321,0.9237198829650879,0.9224390387535095,0.5645751357078552,0.8484877347946167,0.5522517561912537,0.8366902470588684,0.9320065379142761,0.39169251918792725,0.9116432666778564,0.9529514312744141,0.6767003536224365,0.8955691456794739,0.20781296491622925,0.35542532801628113,0.7830172181129456,0.6191118955612183,0.6843880414962769,0.6359844207763672,0.5268429517745972,0.9002600908279419,0.31598472595214844,0.8357389569282532,0.2838408052921295,0.555066704750061,0.21268253028392792,0.9185291528701782,0.8244004845619202,0.6878365278244019,0.49972787499427795,0.627079963684082,0.3416128158569336,0.6205591559410095,0.5099415183067322,0.5750272274017334,0.6660304665565491,0.4497032165527344,0.7227659821510315,0.9139525294303894,0.9333305358886719,0.27936071157455444,0.12461914122104645,0.7498241662979126,0.9256962537765503,0.7785221934318542,0.7529467940330505,0.4863290786743164,0.9193189740180969,0.5973122715950012,0.2529069185256958,0.3565194308757782,0.7911478281021118,0.6931435465812683,0.54285728931427,0.3024510443210602,0.8275079131126404,0.4972532093524933,0.6978052854537964,0.20007772743701935,0.2120775729417801,0.49292293190956116,0.33420655131340027,0.3100917637348175,0.682927131652832,0.6273504495620728,0.5264968872070312,0.4990622401237488,0.3981951177120209,0.9530876874923706,0.2617533802986145,0.7835456132888794,0.8220284581184387,0.8573518991470337,0.7204968333244324,0.3666699230670929,0.3913344144821167,0.8250904679298401,0.325486958026886,0.86024409532547,0.517614483833313,0.36268138885498047,0.7094600796699524,0.5369571447372437,0.7867169380187988,0.5917010307312012,0.45331504940986633,0.5736872553825378,0.7919199466705322,0.6327113509178162,0.8456236720085144,0.7751383185386658,0.6336417198181152,0.46916288137435913,0.9523708820343018,0.6827207207679749,0.8912414908409119,0.7176594734191895,0.653933048248291,0.4176485538482666,0.6963577270507812,0.7291224598884583,0.6139280200004578,0.34283214807510376,0.7019574046134949,0.8959265351295471,0.8685657978057861,0.6762247085571289,0.36473384499549866,0.3922790288925171,0.25185665488243103,0.7613471746444702,0.3518349528312683,0.6588676571846008,0.8207399249076843,0.2747402489185333,0.5375943183898926,0.17921847105026245,0.2465004026889801,0.597821056842804,0.31099313497543335,0.5199424624443054,0.44558387994766235,0.7933692336082458,0.8203670978546143,0.29823943972587585,0.8118308782577515,0.6344090700149536,0.6574472188949585,0.5096250772476196,0.15425948798656464,0.8932170867919922,0.3027742803096771,0.621286153793335,0.772339940071106,0.8049338459968567,0.8075991868972778,0.7364982962608337,0.6595157384872437,0.7433894872665405,0.28560295701026917,0.7461951375007629,0.6926125288009644,0.39383625984191895,0.88460373878479,0.6925699710845947,0.7855720520019531,0.5835482478141785,0.9002911448478699,0.6476874947547913,0.92124342918396,0.7983778119087219,0.3918135166168213,0.5898098349571228,0.795583188533783,0.434931218624115,0.7686395645141602,0.5025382041931152,0.45829302072525024,0.40373390913009644,0.7981042265892029,0.7451491951942444,0.670026957988739,0.7197810411453247,0.7110622525215149,0.7293224930763245,0.22730520367622375,0.8966254591941833,0.8608278632164001,0.5576131939888,0.4754140377044678,0.6947441697120667,0.8840204477310181,0.4592982232570648,0.8590483665466309,0.9266495704650879,0.5911201238632202,0.49211880564689636,0.9314026236534119,0.2226109802722931,0.6255472302436829,0.8254634737968445,0.5107886791229248,0.48518943786621094,0.5016372799873352,0.4073394238948822,0.8243246674537659,0.6199567914009094,0.7930307984352112,0.29322028160095215,0.16367806494235992,0.8006645441055298,0.6100035905838013,0.32434356212615967,0.6597066521644592,0.9185914993286133,0.6839130520820618,0.14610710740089417],\"xaxis\":\"x\",\"yaxis\":\"y\",\"type\":\"histogram\"},{\"alignmentgroup\":\"True\",\"hovertemplate\":\"Version=wide_variable_1\\u003cbr\\u003eAttn diff (positive \\u21d2 more attn paid to IO than S1)=%{x}\\u003cextra\\u003e\\u003c\\u002fextra\\u003e\",\"legendgroup\":\"wide_variable_1\",\"marker\":{\"color\":\"#FF7F0E\"},\"name\":\"Clean\",\"notched\":true,\"offsetgroup\":\"wide_variable_1\",\"showlegend\":false,\"x\":[0.34089526534080505,0.8074992895126343,0.5582032203674316,0.7318280935287476,0.7160360813140869,0.9330116510391235,0.4164676368236542,0.8573871850967407,0.19882258772850037,0.46113863587379456,0.806635856628418,0.7974733710289001,0.6938650012016296,0.6404451727867126,0.7795495986938477,0.16197654604911804,0.6654396653175354,0.8656890392303467,0.8981029987335205,0.6703542470932007,0.698097288608551,0.43584397435188293,0.6495481729507446,0.46737486124038696,0.7832605242729187,0.5202583074569702,0.9304323792457581,0.9475433826446533,0.8401213884353638,0.6968037486076355,0.2264273464679718,0.8148811459541321,0.6263083815574646,0.361032634973526,0.7586885690689087,0.8013864159584045,0.5675743222236633,0.33798307180404663,0.6761784553527832,0.793239951133728,0.6813507676124573,0.4853420853614807,0.37333694100379944,0.469950407743454,0.9067724943161011,0.4422936737537384,0.7471556067466736,0.5576421618461609,0.7732982635498047,0.711265504360199,0.7702556848526001,0.6583808660507202,0.4491897225379944,0.45705413818359375,0.5294257402420044,0.4501537084579468,0.25128045678138733,0.6301050186157227,0.7533895373344421,0.7568608522415161,0.7333893775939941,0.5219902396202087,0.8530805110931396,0.6603947877883911,0.6128941774368286,0.6270260214805603,0.9338223934173584,0.7997579574584961,0.3920983672142029,0.9668389558792114,0.5081336498260498,0.46499398350715637,0.5790800452232361,0.7854081392288208,0.43610328435897827,0.7176573872566223,0.8499552011489868,0.8238360285758972,0.6590073108673096,0.6474502086639404,0.7835715413093567,0.41030341386795044,0.5832579731941223,0.7498425841331482,0.5238035917282104,0.859963595867157,0.8255717754364014,0.29806241393089294,0.892339825630188,0.6506275534629822,0.8682566285133362,0.4979185461997986,0.21560338139533997,0.6894434094429016,0.5288463830947876,0.640836775302887,0.49508967995643616,0.5233909487724304,0.7757933735847473,0.860929548740387,0.7490021586418152,0.37566351890563965,0.7313119173049927,0.41516169905662537,0.5778592228889465,0.5228466987609863,0.6544146537780762,0.15555040538311005,0.3826035261154175,0.5984338521957397,0.3392833471298218,0.8432651162147522,0.7900476455688477,0.4307575821876526,0.2714449465274811,0.8814660310745239,0.7988192439079285,0.5318908095359802,0.5146305561065674,0.7064067721366882,0.0731450542807579,0.6198329329490662,0.7185178399085999,0.9082135558128357,0.5568194389343262,0.35905978083610535,0.8895971775054932,0.4353797435760498,0.717665433883667,0.8818395733833313,0.2144414633512497,0.8944191932678223,0.19711387157440186,0.8474878668785095,0.8419159650802612,0.8788710236549377,0.5994776487350464,0.5515172481536865,0.5052855610847473,0.7367236614227295,0.8115673065185547,0.7681111097335815,0.3972116708755493,0.6003189086914062,0.6024354100227356,0.7310043573379517,0.40567827224731445,0.7722532153129578,0.5547573566436768,0.5777713656425476,0.7880971431732178,0.4374134838581085,0.19774489104747772,0.8545472621917725,0.5520100593566895,0.24688085913658142,0.496025949716568,0.5771763324737549,0.21314334869384766,0.507371187210083,0.12250585854053497,0.11524966359138489,0.5578946471214294,0.6581563949584961,0.590964674949646,0.6983673572540283,0.7818738222122192,0.6073446869850159,0.9144742488861084,0.8190869688987732,0.8879438042640686,0.6517876386642456,0.850581169128418,0.7758859992027283,0.8794505000114441,0.9018958210945129,0.967625081539154,0.5011417269706726,0.5581638216972351,0.2085232138633728,0.8088512420654297,0.7653396725654602,0.5987750887870789,0.5437236428260803,0.14195221662521362,0.28564727306365967,0.328026682138443,0.7462974786758423,0.42889073491096497,0.6716121435165405,0.5940771102905273,0.766198456287384,0.5951201915740967,0.9206588268280029,0.6893861889839172,0.8684086203575134,0.32580864429473877,0.8367536067962646,0.7216788530349731,0.25541555881500244,0.5051608681678772,0.6814858317375183,0.5419660806655884,0.9330294728279114,0.5282884836196899,0.8445212841033936,0.42273086309432983,0.6801745891571045,0.2377362698316574,0.8265323638916016,0.8277262449264526,0.5100499987602234,0.06554967910051346,0.9265316724777222,0.8045835494995117,0.8991832137107849,0.8171007037162781,0.6406141519546509,0.6456276178359985,0.6898682117462158,0.7612775564193726,0.5839230418205261,0.9092454314231873,0.7741196155548096,0.7190544605255127,0.5576263070106506,0.6575324535369873,0.9065493941307068,0.42700332403182983,0.31866753101348877,0.4971795380115509,0.6079238057136536,0.6178537607192993,0.823372483253479,0.5068770051002502,0.5270177125930786,0.7269731163978577,0.658091127872467,0.15518465638160706,0.7873186469078064,0.6654801368713379,0.8830954432487488,0.35771334171295166,0.6954158544540405,0.7156493663787842,0.7815439701080322,0.9292128086090088,0.5919345021247864,0.6682032942771912,0.16642725467681885,0.4392957091331482,0.8154891729354858,0.8649076819419861,0.5514828562736511,0.7907283306121826,0.6619318127632141,0.6898072957992554,0.5611209869384766,0.7437925338745117,0.6783514022827148,0.37014785408973694,0.5451709628105164,0.7192472815513611,0.8541297912597656,0.5602121353149414,0.666405200958252,0.697390079498291,0.8215296864509583,0.9600980877876282,0.6914442181587219,0.1761718988418579,0.8333448171615601,0.4943190813064575,0.6447774171829224,0.6360462307929993,0.6788957715034485,0.44745466113090515,0.8507232666015625,0.9199475646018982,0.36214694380760193,0.8812190890312195,0.7031976580619812,0.491129606962204,0.5802220106124878,0.8049697875976562,0.3229944109916687,0.5313513278961182,0.5765408873558044,0.9241169095039368,0.9078906774520874,0.7907389998435974,0.8096877932548523,0.6176207065582275,0.9570932388305664,0.6454447507858276,0.36276835203170776,0.7885540127754211,0.43988996744155884,0.9529529809951782,0.7348285913467407,0.7643395066261292,0.5698348879814148,0.5326456427574158,0.6368986368179321,0.9237198829650879,0.9224390387535095,0.5645751357078552,0.8484877347946167,0.5522517561912537,0.8366902470588684,0.9320065379142761,0.39169251918792725,0.9116432666778564,0.9529514312744141,0.6767003536224365,0.8955691456794739,0.20781296491622925,0.35542532801628113,0.7830172181129456,0.6191118955612183,0.6843880414962769,0.6359844207763672,0.5268429517745972,0.9002600908279419,0.31598472595214844,0.8357389569282532,0.2838408052921295,0.555066704750061,0.21268253028392792,0.9185291528701782,0.8244004845619202,0.6878365278244019,0.49972787499427795,0.627079963684082,0.3416128158569336,0.6205591559410095,0.5099415183067322,0.5750272274017334,0.6660304665565491,0.4497032165527344,0.7227659821510315,0.9139525294303894,0.9333305358886719,0.27936071157455444,0.12461914122104645,0.7498241662979126,0.9256962537765503,0.7785221934318542,0.7529467940330505,0.4863290786743164,0.9193189740180969,0.5973122715950012,0.2529069185256958,0.3565194308757782,0.7911478281021118,0.6931435465812683,0.54285728931427,0.3024510443210602,0.8275079131126404,0.4972532093524933,0.6978052854537964,0.20007772743701935,0.2120775729417801,0.49292293190956116,0.33420655131340027,0.3100917637348175,0.682927131652832,0.6273504495620728,0.5264968872070312,0.4990622401237488,0.3981951177120209,0.9530876874923706,0.2617533802986145,0.7835456132888794,0.8220284581184387,0.8573518991470337,0.7204968333244324,0.3666699230670929,0.3913344144821167,0.8250904679298401,0.325486958026886,0.86024409532547,0.517614483833313,0.36268138885498047,0.7094600796699524,0.5369571447372437,0.7867169380187988,0.5917010307312012,0.45331504940986633,0.5736872553825378,0.7919199466705322,0.6327113509178162,0.8456236720085144,0.7751383185386658,0.6336417198181152,0.46916288137435913,0.9523708820343018,0.6827207207679749,0.8912414908409119,0.7176594734191895,0.653933048248291,0.4176485538482666,0.6963577270507812,0.7291224598884583,0.6139280200004578,0.34283214807510376,0.7019574046134949,0.8959265351295471,0.8685657978057861,0.6762247085571289,0.36473384499549866,0.3922790288925171,0.25185665488243103,0.7613471746444702,0.3518349528312683,0.6588676571846008,0.8207399249076843,0.2747402489185333,0.5375943183898926,0.17921847105026245,0.2465004026889801,0.597821056842804,0.31099313497543335,0.5199424624443054,0.44558387994766235,0.7933692336082458,0.8203670978546143,0.29823943972587585,0.8118308782577515,0.6344090700149536,0.6574472188949585,0.5096250772476196,0.15425948798656464,0.8932170867919922,0.3027742803096771,0.621286153793335,0.772339940071106,0.8049338459968567,0.8075991868972778,0.7364982962608337,0.6595157384872437,0.7433894872665405,0.28560295701026917,0.7461951375007629,0.6926125288009644,0.39383625984191895,0.88460373878479,0.6925699710845947,0.7855720520019531,0.5835482478141785,0.9002911448478699,0.6476874947547913,0.92124342918396,0.7983778119087219,0.3918135166168213,0.5898098349571228,0.795583188533783,0.434931218624115,0.7686395645141602,0.5025382041931152,0.45829302072525024,0.40373390913009644,0.7981042265892029,0.7451491951942444,0.670026957988739,0.7197810411453247,0.7110622525215149,0.7293224930763245,0.22730520367622375,0.8966254591941833,0.8608278632164001,0.5576131939888,0.4754140377044678,0.6947441697120667,0.8840204477310181,0.4592982232570648,0.8590483665466309,0.9266495704650879,0.5911201238632202,0.49211880564689636,0.9314026236534119,0.2226109802722931,0.6255472302436829,0.8254634737968445,0.5107886791229248,0.48518943786621094,0.5016372799873352,0.4073394238948822,0.8243246674537659,0.6199567914009094,0.7930307984352112,0.29322028160095215,0.16367806494235992,0.8006645441055298,0.6100035905838013,0.32434356212615967,0.6597066521644592,0.9185914993286133,0.6839130520820618,0.14610710740089417],\"xaxis\":\"x2\",\"yaxis\":\"y2\",\"type\":\"box\"}],                        {\"template\":{\"data\":{\"barpolar\":[{\"marker\":{\"line\":{\"color\":\"white\",\"width\":0.5},\"pattern\":{\"fillmode\":\"overlay\",\"size\":10,\"solidity\":0.2}},\"type\":\"barpolar\"}],\"bar\":[{\"error_x\":{\"color\":\"rgb(36,36,36)\"},\"error_y\":{\"color\":\"rgb(36,36,36)\"},\"marker\":{\"line\":{\"color\":\"white\",\"width\":0.5},\"pattern\":{\"fillmode\":\"overlay\",\"size\":10,\"solidity\":0.2}},\"type\":\"bar\"}],\"carpet\":[{\"aaxis\":{\"endlinecolor\":\"rgb(36,36,36)\",\"gridcolor\":\"white\",\"linecolor\":\"white\",\"minorgridcolor\":\"white\",\"startlinecolor\":\"rgb(36,36,36)\"},\"baxis\":{\"endlinecolor\":\"rgb(36,36,36)\",\"gridcolor\":\"white\",\"linecolor\":\"white\",\"minorgridcolor\":\"white\",\"startlinecolor\":\"rgb(36,36,36)\"},\"type\":\"carpet\"}],\"choropleth\":[{\"colorbar\":{\"outlinewidth\":1,\"tickcolor\":\"rgb(36,36,36)\",\"ticks\":\"outside\"},\"type\":\"choropleth\"}],\"contourcarpet\":[{\"colorbar\":{\"outlinewidth\":1,\"tickcolor\":\"rgb(36,36,36)\",\"ticks\":\"outside\"},\"type\":\"contourcarpet\"}],\"contour\":[{\"colorbar\":{\"outlinewidth\":1,\"tickcolor\":\"rgb(36,36,36)\",\"ticks\":\"outside\"},\"colorscale\":[[0.0,\"#440154\"],[0.1111111111111111,\"#482878\"],[0.2222222222222222,\"#3e4989\"],[0.3333333333333333,\"#31688e\"],[0.4444444444444444,\"#26828e\"],[0.5555555555555556,\"#1f9e89\"],[0.6666666666666666,\"#35b779\"],[0.7777777777777778,\"#6ece58\"],[0.8888888888888888,\"#b5de2b\"],[1.0,\"#fde725\"]],\"type\":\"contour\"}],\"heatmapgl\":[{\"colorbar\":{\"outlinewidth\":1,\"tickcolor\":\"rgb(36,36,36)\",\"ticks\":\"outside\"},\"colorscale\":[[0.0,\"#440154\"],[0.1111111111111111,\"#482878\"],[0.2222222222222222,\"#3e4989\"],[0.3333333333333333,\"#31688e\"],[0.4444444444444444,\"#26828e\"],[0.5555555555555556,\"#1f9e89\"],[0.6666666666666666,\"#35b779\"],[0.7777777777777778,\"#6ece58\"],[0.8888888888888888,\"#b5de2b\"],[1.0,\"#fde725\"]],\"type\":\"heatmapgl\"}],\"heatmap\":[{\"colorbar\":{\"outlinewidth\":1,\"tickcolor\":\"rgb(36,36,36)\",\"ticks\":\"outside\"},\"colorscale\":[[0.0,\"#440154\"],[0.1111111111111111,\"#482878\"],[0.2222222222222222,\"#3e4989\"],[0.3333333333333333,\"#31688e\"],[0.4444444444444444,\"#26828e\"],[0.5555555555555556,\"#1f9e89\"],[0.6666666666666666,\"#35b779\"],[0.7777777777777778,\"#6ece58\"],[0.8888888888888888,\"#b5de2b\"],[1.0,\"#fde725\"]],\"type\":\"heatmap\"}],\"histogram2dcontour\":[{\"colorbar\":{\"outlinewidth\":1,\"tickcolor\":\"rgb(36,36,36)\",\"ticks\":\"outside\"},\"colorscale\":[[0.0,\"#440154\"],[0.1111111111111111,\"#482878\"],[0.2222222222222222,\"#3e4989\"],[0.3333333333333333,\"#31688e\"],[0.4444444444444444,\"#26828e\"],[0.5555555555555556,\"#1f9e89\"],[0.6666666666666666,\"#35b779\"],[0.7777777777777778,\"#6ece58\"],[0.8888888888888888,\"#b5de2b\"],[1.0,\"#fde725\"]],\"type\":\"histogram2dcontour\"}],\"histogram2d\":[{\"colorbar\":{\"outlinewidth\":1,\"tickcolor\":\"rgb(36,36,36)\",\"ticks\":\"outside\"},\"colorscale\":[[0.0,\"#440154\"],[0.1111111111111111,\"#482878\"],[0.2222222222222222,\"#3e4989\"],[0.3333333333333333,\"#31688e\"],[0.4444444444444444,\"#26828e\"],[0.5555555555555556,\"#1f9e89\"],[0.6666666666666666,\"#35b779\"],[0.7777777777777778,\"#6ece58\"],[0.8888888888888888,\"#b5de2b\"],[1.0,\"#fde725\"]],\"type\":\"histogram2d\"}],\"histogram\":[{\"marker\":{\"line\":{\"color\":\"white\",\"width\":0.6}},\"type\":\"histogram\"}],\"mesh3d\":[{\"colorbar\":{\"outlinewidth\":1,\"tickcolor\":\"rgb(36,36,36)\",\"ticks\":\"outside\"},\"type\":\"mesh3d\"}],\"parcoords\":[{\"line\":{\"colorbar\":{\"outlinewidth\":1,\"tickcolor\":\"rgb(36,36,36)\",\"ticks\":\"outside\"}},\"type\":\"parcoords\"}],\"pie\":[{\"automargin\":true,\"type\":\"pie\"}],\"scatter3d\":[{\"line\":{\"colorbar\":{\"outlinewidth\":1,\"tickcolor\":\"rgb(36,36,36)\",\"ticks\":\"outside\"}},\"marker\":{\"colorbar\":{\"outlinewidth\":1,\"tickcolor\":\"rgb(36,36,36)\",\"ticks\":\"outside\"}},\"type\":\"scatter3d\"}],\"scattercarpet\":[{\"marker\":{\"colorbar\":{\"outlinewidth\":1,\"tickcolor\":\"rgb(36,36,36)\",\"ticks\":\"outside\"}},\"type\":\"scattercarpet\"}],\"scattergeo\":[{\"marker\":{\"colorbar\":{\"outlinewidth\":1,\"tickcolor\":\"rgb(36,36,36)\",\"ticks\":\"outside\"}},\"type\":\"scattergeo\"}],\"scattergl\":[{\"marker\":{\"colorbar\":{\"outlinewidth\":1,\"tickcolor\":\"rgb(36,36,36)\",\"ticks\":\"outside\"}},\"type\":\"scattergl\"}],\"scattermapbox\":[{\"marker\":{\"colorbar\":{\"outlinewidth\":1,\"tickcolor\":\"rgb(36,36,36)\",\"ticks\":\"outside\"}},\"type\":\"scattermapbox\"}],\"scatterpolargl\":[{\"marker\":{\"colorbar\":{\"outlinewidth\":1,\"tickcolor\":\"rgb(36,36,36)\",\"ticks\":\"outside\"}},\"type\":\"scatterpolargl\"}],\"scatterpolar\":[{\"marker\":{\"colorbar\":{\"outlinewidth\":1,\"tickcolor\":\"rgb(36,36,36)\",\"ticks\":\"outside\"}},\"type\":\"scatterpolar\"}],\"scatter\":[{\"fillpattern\":{\"fillmode\":\"overlay\",\"size\":10,\"solidity\":0.2},\"type\":\"scatter\"}],\"scatterternary\":[{\"marker\":{\"colorbar\":{\"outlinewidth\":1,\"tickcolor\":\"rgb(36,36,36)\",\"ticks\":\"outside\"}},\"type\":\"scatterternary\"}],\"surface\":[{\"colorbar\":{\"outlinewidth\":1,\"tickcolor\":\"rgb(36,36,36)\",\"ticks\":\"outside\"},\"colorscale\":[[0.0,\"#440154\"],[0.1111111111111111,\"#482878\"],[0.2222222222222222,\"#3e4989\"],[0.3333333333333333,\"#31688e\"],[0.4444444444444444,\"#26828e\"],[0.5555555555555556,\"#1f9e89\"],[0.6666666666666666,\"#35b779\"],[0.7777777777777778,\"#6ece58\"],[0.8888888888888888,\"#b5de2b\"],[1.0,\"#fde725\"]],\"type\":\"surface\"}],\"table\":[{\"cells\":{\"fill\":{\"color\":\"rgb(237,237,237)\"},\"line\":{\"color\":\"white\"}},\"header\":{\"fill\":{\"color\":\"rgb(217,217,217)\"},\"line\":{\"color\":\"white\"}},\"type\":\"table\"}]},\"layout\":{\"annotationdefaults\":{\"arrowhead\":0,\"arrowwidth\":1},\"autotypenumbers\":\"strict\",\"coloraxis\":{\"colorbar\":{\"outlinewidth\":1,\"tickcolor\":\"rgb(36,36,36)\",\"ticks\":\"outside\"}},\"colorscale\":{\"diverging\":[[0.0,\"rgb(103,0,31)\"],[0.1,\"rgb(178,24,43)\"],[0.2,\"rgb(214,96,77)\"],[0.3,\"rgb(244,165,130)\"],[0.4,\"rgb(253,219,199)\"],[0.5,\"rgb(247,247,247)\"],[0.6,\"rgb(209,229,240)\"],[0.7,\"rgb(146,197,222)\"],[0.8,\"rgb(67,147,195)\"],[0.9,\"rgb(33,102,172)\"],[1.0,\"rgb(5,48,97)\"]],\"sequential\":[[0.0,\"#440154\"],[0.1111111111111111,\"#482878\"],[0.2222222222222222,\"#3e4989\"],[0.3333333333333333,\"#31688e\"],[0.4444444444444444,\"#26828e\"],[0.5555555555555556,\"#1f9e89\"],[0.6666666666666666,\"#35b779\"],[0.7777777777777778,\"#6ece58\"],[0.8888888888888888,\"#b5de2b\"],[1.0,\"#fde725\"]],\"sequentialminus\":[[0.0,\"#440154\"],[0.1111111111111111,\"#482878\"],[0.2222222222222222,\"#3e4989\"],[0.3333333333333333,\"#31688e\"],[0.4444444444444444,\"#26828e\"],[0.5555555555555556,\"#1f9e89\"],[0.6666666666666666,\"#35b779\"],[0.7777777777777778,\"#6ece58\"],[0.8888888888888888,\"#b5de2b\"],[1.0,\"#fde725\"]]},\"colorway\":[\"#1F77B4\",\"#FF7F0E\",\"#2CA02C\",\"#D62728\",\"#9467BD\",\"#8C564B\",\"#E377C2\",\"#7F7F7F\",\"#BCBD22\",\"#17BECF\"],\"font\":{\"color\":\"rgb(36,36,36)\"},\"geo\":{\"bgcolor\":\"white\",\"lakecolor\":\"white\",\"landcolor\":\"white\",\"showlakes\":true,\"showland\":true,\"subunitcolor\":\"white\"},\"hoverlabel\":{\"align\":\"left\"},\"hovermode\":\"closest\",\"mapbox\":{\"style\":\"light\"},\"paper_bgcolor\":\"white\",\"plot_bgcolor\":\"white\",\"polar\":{\"angularaxis\":{\"gridcolor\":\"rgb(232,232,232)\",\"linecolor\":\"rgb(36,36,36)\",\"showgrid\":false,\"showline\":true,\"ticks\":\"outside\"},\"bgcolor\":\"white\",\"radialaxis\":{\"gridcolor\":\"rgb(232,232,232)\",\"linecolor\":\"rgb(36,36,36)\",\"showgrid\":false,\"showline\":true,\"ticks\":\"outside\"}},\"scene\":{\"xaxis\":{\"backgroundcolor\":\"white\",\"gridcolor\":\"rgb(232,232,232)\",\"gridwidth\":2,\"linecolor\":\"rgb(36,36,36)\",\"showbackground\":true,\"showgrid\":false,\"showline\":true,\"ticks\":\"outside\",\"zeroline\":false,\"zerolinecolor\":\"rgb(36,36,36)\"},\"yaxis\":{\"backgroundcolor\":\"white\",\"gridcolor\":\"rgb(232,232,232)\",\"gridwidth\":2,\"linecolor\":\"rgb(36,36,36)\",\"showbackground\":true,\"showgrid\":false,\"showline\":true,\"ticks\":\"outside\",\"zeroline\":false,\"zerolinecolor\":\"rgb(36,36,36)\"},\"zaxis\":{\"backgroundcolor\":\"white\",\"gridcolor\":\"rgb(232,232,232)\",\"gridwidth\":2,\"linecolor\":\"rgb(36,36,36)\",\"showbackground\":true,\"showgrid\":false,\"showline\":true,\"ticks\":\"outside\",\"zeroline\":false,\"zerolinecolor\":\"rgb(36,36,36)\"}},\"shapedefaults\":{\"fillcolor\":\"black\",\"line\":{\"width\":0},\"opacity\":0.3},\"ternary\":{\"aaxis\":{\"gridcolor\":\"rgb(232,232,232)\",\"linecolor\":\"rgb(36,36,36)\",\"showgrid\":false,\"showline\":true,\"ticks\":\"outside\"},\"baxis\":{\"gridcolor\":\"rgb(232,232,232)\",\"linecolor\":\"rgb(36,36,36)\",\"showgrid\":false,\"showline\":true,\"ticks\":\"outside\"},\"bgcolor\":\"white\",\"caxis\":{\"gridcolor\":\"rgb(232,232,232)\",\"linecolor\":\"rgb(36,36,36)\",\"showgrid\":false,\"showline\":true,\"ticks\":\"outside\"}},\"title\":{\"x\":0.05},\"xaxis\":{\"automargin\":true,\"gridcolor\":\"rgb(232,232,232)\",\"linecolor\":\"rgb(36,36,36)\",\"showgrid\":false,\"showline\":true,\"ticks\":\"outside\",\"title\":{\"standoff\":15},\"zeroline\":false,\"zerolinecolor\":\"rgb(36,36,36)\"},\"yaxis\":{\"automargin\":true,\"gridcolor\":\"rgb(232,232,232)\",\"linecolor\":\"rgb(36,36,36)\",\"showgrid\":false,\"showline\":true,\"ticks\":\"outside\",\"title\":{\"standoff\":15},\"zeroline\":false,\"zerolinecolor\":\"rgb(36,36,36)\"}}},\"xaxis\":{\"anchor\":\"y\",\"domain\":[0.0,1.0],\"title\":{\"text\":\"Attn diff (positive \\u21d2 more attn paid to IO than S1)\"}},\"yaxis\":{\"anchor\":\"x\",\"domain\":[0.0,0.7326],\"title\":{\"text\":\"count\"}},\"xaxis2\":{\"anchor\":\"y2\",\"domain\":[0.0,1.0],\"matches\":\"x\",\"showticklabels\":false},\"yaxis2\":{\"anchor\":\"x2\",\"domain\":[0.7426,1.0],\"matches\":\"y2\",\"showticklabels\":false,\"showline\":false,\"ticks\":\"\"},\"legend\":{\"title\":{\"text\":\"Version\"},\"tracegroupgap\":0},\"title\":{\"text\":\"Difference in attn from END\\u2794IO vs. END\\u2794S1 (path-patched vs clean)\"},\"barmode\":\"overlay\",\"height\":600,\"width\":800,\"bargap\":0.0},                        {\"responsive\": true}                    ).then(function(){\n",
       "                            \n",
       "var gd = document.getElementById('673b8718-0adc-46e3-b122-28eb2091b8aa');\n",
       "var x = new MutationObserver(function (mutations, observer) {{\n",
       "        var display = window.getComputedStyle(gd).display;\n",
       "        if (!display || display === 'none') {{\n",
       "            console.log([gd, 'removed!']);\n",
       "            Plotly.purge(gd);\n",
       "            observer.disconnect();\n",
       "        }}\n",
       "}});\n",
       "\n",
       "// Listen for the removal of the full notebook cells\n",
       "var notebookContainer = gd.closest('#notebook-container');\n",
       "if (notebookContainer) {{\n",
       "    x.observe(notebookContainer, {childList: true});\n",
       "}}\n",
       "\n",
       "// Listen for the clearing of the current output cell\n",
       "var outputEl = gd.closest('.output');\n",
       "if (outputEl) {{\n",
       "    x.observe(outputEl, {childList: true});\n",
       "}}\n",
       "\n",
       "                        })                };                });            </script>        </div>"
      ]
     },
     "metadata": {},
     "output_type": "display_data"
    }
   ],
   "source": [
    "hist(\n",
    "    [results_patched, results_clean],\n",
    "    labels={\"variable\": \"Version\", \"value\": \"Attn diff (positive ⇒ more attn paid to IO than S1)\"},\n",
    "    title=\"Difference in attn from END➔IO vs. END➔S1 (path-patched vs clean)\",\n",
    "    names=[\"Patched\", \"Clean\"],\n",
    "    width=800,\n",
    "    height=600,\n",
    "    opacity=0.7,\n",
    "    marginal=\"box\",\n",
    "    template=\"simple_white\"\n",
    ")"
   ]
  }
 ],
 "metadata": {
  "kernelspec": {
   "display_name": "Python 3",
   "language": "python",
   "name": "python3"
  },
  "language_info": {
   "codemirror_mode": {
    "name": "ipython",
    "version": 3
   },
   "file_extension": ".py",
   "mimetype": "text/x-python",
   "name": "python",
   "nbconvert_exporter": "python",
   "pygments_lexer": "ipython3",
   "version": "3.8.10"
  },
  "orig_nbformat": 4
 },
 "nbformat": 4,
 "nbformat_minor": 2
}
