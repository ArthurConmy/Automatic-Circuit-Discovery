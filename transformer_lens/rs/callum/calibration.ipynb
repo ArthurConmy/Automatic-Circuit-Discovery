{
 "cells": [
  {
   "attachments": {},
   "cell_type": "markdown",
   "metadata": {},
   "source": [
    "# Setup"
   ]
  },
  {
   "cell_type": "code",
   "execution_count": 2,
   "metadata": {},
   "outputs": [],
   "source": [
    "from transformer_lens.cautils.notebook import *\n",
    "\n",
    "from transformer_lens.rs.callum.keys_fixed import (\n",
    "    project,\n",
    "    get_effective_embedding_2,\n",
    ")\n",
    "\n",
    "from transformer_lens.rs.callum.orthogonal_query_investigation import (\n",
    "    decompose_attn_scores_full,\n",
    "    create_fucking_massive_plot_1,\n",
    "    create_fucking_massive_plot_2,\n",
    "    token_to_qperp_projection\n",
    ")\n",
    "\n",
    "clear_output()"
   ]
  },
  {
   "cell_type": "code",
   "execution_count": 3,
   "metadata": {},
   "outputs": [],
   "source": [
    "model = HookedTransformer.from_pretrained(\n",
    "    \"gpt2-small\",\n",
    "    # \"solu-10l\",\n",
    "    center_unembed=True,\n",
    "    center_writing_weights=True,\n",
    "    fold_ln=True,\n",
    "    # refactor_factored_attn_matrices=True,\n",
    ")\n",
    "model.set_use_split_qkv_input(False)\n",
    "model.set_use_attn_result(True)\n",
    "model.set_use_split_qkv_normalized_input(False)\n",
    "# model.cfg.use_hook_tokens = True\n",
    "# model.use_hook_\n",
    "\n",
    "clear_output()\n",
    "\n",
    "# sudo pkill -9 python"
   ]
  },
  {
   "cell_type": "code",
   "execution_count": 4,
   "metadata": {},
   "outputs": [],
   "source": [
    "data = get_webtext(seed=6)\n",
    "clear_output()"
   ]
  },
  {
   "cell_type": "code",
   "execution_count": 24,
   "metadata": {},
   "outputs": [
    {
     "data": {
      "application/vnd.plotly.v1+json": {
       "config": {
        "plotlyServerURL": "https://plot.ly"
       },
       "data": [
        {
         "coloraxis": "coloraxis",
         "hovertemplate": "x: %{x}<br>y: %{y}<br>color: %{z}<extra></extra>",
         "name": "0",
         "text": [
          [
           "Q = W<sub>U</sub><br>K = W<sub>EE</sub>",
           "Q = W<sub>U</sub><br>K = W<sub>E</sub>",
           "Q = W<sub>U</sub><br>K = MLP<sub>0</sub>"
          ],
          [
           "Q = MLP<sub>0</sub><br>K = W<sub>EE</sub>",
           "Q = MLP<sub>0</sub><br>K = W<sub>E</sub>",
           "Q = MLP<sub>0</sub><br>K = MLP<sub>0</sub>"
          ],
          [
           "Q = W<sub>EE</sub><br>K = W<sub>EE</sub>",
           "Q = W<sub>EE</sub><br>K = W<sub>E</sub>",
           "Q = W<sub>EE</sub><br>K = MLP<sub>0</sub>"
          ]
         ],
         "textfont": {
          "size": 12
         },
         "texttemplate": "%{text}",
         "type": "heatmap",
         "xaxis": "x",
         "yaxis": "y",
         "z": [
          [
           -1,
           -3,
           -2
          ],
          [
           -4,
           -5,
           -4
          ],
          [
           -2.5,
           -4.5,
           -3.5
          ]
         ]
        }
       ],
       "layout": {
        "coloraxis": {
         "cmid": 0,
         "colorscale": [
          [
           0,
           "rgb(5,48,97)"
          ],
          [
           0.1,
           "rgb(33,102,172)"
          ],
          [
           0.2,
           "rgb(67,147,195)"
          ],
          [
           0.3,
           "rgb(146,197,222)"
          ],
          [
           0.4,
           "rgb(209,229,240)"
          ],
          [
           0.5,
           "rgb(247,247,247)"
          ],
          [
           0.6,
           "rgb(253,219,199)"
          ],
          [
           0.7,
           "rgb(244,165,130)"
          ],
          [
           0.8,
           "rgb(214,96,77)"
          ],
          [
           0.9,
           "rgb(178,24,43)"
          ],
          [
           1,
           "rgb(103,0,31)"
          ]
         ]
        },
        "height": 550,
        "modebar": {
         "add": [
          "drawline",
          "drawopenpath",
          "drawclosedpath",
          "drawcircle",
          "drawrect",
          "eraseshape"
         ]
        },
        "template": {
         "data": {
          "bar": [
           {
            "error_x": {
             "color": "#2a3f5f"
            },
            "error_y": {
             "color": "#2a3f5f"
            },
            "marker": {
             "line": {
              "color": "#E5ECF6",
              "width": 0.5
             },
             "pattern": {
              "fillmode": "overlay",
              "size": 10,
              "solidity": 0.2
             }
            },
            "type": "bar"
           }
          ],
          "barpolar": [
           {
            "marker": {
             "line": {
              "color": "#E5ECF6",
              "width": 0.5
             },
             "pattern": {
              "fillmode": "overlay",
              "size": 10,
              "solidity": 0.2
             }
            },
            "type": "barpolar"
           }
          ],
          "carpet": [
           {
            "aaxis": {
             "endlinecolor": "#2a3f5f",
             "gridcolor": "white",
             "linecolor": "white",
             "minorgridcolor": "white",
             "startlinecolor": "#2a3f5f"
            },
            "baxis": {
             "endlinecolor": "#2a3f5f",
             "gridcolor": "white",
             "linecolor": "white",
             "minorgridcolor": "white",
             "startlinecolor": "#2a3f5f"
            },
            "type": "carpet"
           }
          ],
          "choropleth": [
           {
            "colorbar": {
             "outlinewidth": 0,
             "ticks": ""
            },
            "type": "choropleth"
           }
          ],
          "contour": [
           {
            "colorbar": {
             "outlinewidth": 0,
             "ticks": ""
            },
            "colorscale": [
             [
              0,
              "#0d0887"
             ],
             [
              0.1111111111111111,
              "#46039f"
             ],
             [
              0.2222222222222222,
              "#7201a8"
             ],
             [
              0.3333333333333333,
              "#9c179e"
             ],
             [
              0.4444444444444444,
              "#bd3786"
             ],
             [
              0.5555555555555556,
              "#d8576b"
             ],
             [
              0.6666666666666666,
              "#ed7953"
             ],
             [
              0.7777777777777778,
              "#fb9f3a"
             ],
             [
              0.8888888888888888,
              "#fdca26"
             ],
             [
              1,
              "#f0f921"
             ]
            ],
            "type": "contour"
           }
          ],
          "contourcarpet": [
           {
            "colorbar": {
             "outlinewidth": 0,
             "ticks": ""
            },
            "type": "contourcarpet"
           }
          ],
          "heatmap": [
           {
            "colorbar": {
             "outlinewidth": 0,
             "ticks": ""
            },
            "colorscale": [
             [
              0,
              "#0d0887"
             ],
             [
              0.1111111111111111,
              "#46039f"
             ],
             [
              0.2222222222222222,
              "#7201a8"
             ],
             [
              0.3333333333333333,
              "#9c179e"
             ],
             [
              0.4444444444444444,
              "#bd3786"
             ],
             [
              0.5555555555555556,
              "#d8576b"
             ],
             [
              0.6666666666666666,
              "#ed7953"
             ],
             [
              0.7777777777777778,
              "#fb9f3a"
             ],
             [
              0.8888888888888888,
              "#fdca26"
             ],
             [
              1,
              "#f0f921"
             ]
            ],
            "type": "heatmap"
           }
          ],
          "heatmapgl": [
           {
            "colorbar": {
             "outlinewidth": 0,
             "ticks": ""
            },
            "colorscale": [
             [
              0,
              "#0d0887"
             ],
             [
              0.1111111111111111,
              "#46039f"
             ],
             [
              0.2222222222222222,
              "#7201a8"
             ],
             [
              0.3333333333333333,
              "#9c179e"
             ],
             [
              0.4444444444444444,
              "#bd3786"
             ],
             [
              0.5555555555555556,
              "#d8576b"
             ],
             [
              0.6666666666666666,
              "#ed7953"
             ],
             [
              0.7777777777777778,
              "#fb9f3a"
             ],
             [
              0.8888888888888888,
              "#fdca26"
             ],
             [
              1,
              "#f0f921"
             ]
            ],
            "type": "heatmapgl"
           }
          ],
          "histogram": [
           {
            "marker": {
             "pattern": {
              "fillmode": "overlay",
              "size": 10,
              "solidity": 0.2
             }
            },
            "type": "histogram"
           }
          ],
          "histogram2d": [
           {
            "colorbar": {
             "outlinewidth": 0,
             "ticks": ""
            },
            "colorscale": [
             [
              0,
              "#0d0887"
             ],
             [
              0.1111111111111111,
              "#46039f"
             ],
             [
              0.2222222222222222,
              "#7201a8"
             ],
             [
              0.3333333333333333,
              "#9c179e"
             ],
             [
              0.4444444444444444,
              "#bd3786"
             ],
             [
              0.5555555555555556,
              "#d8576b"
             ],
             [
              0.6666666666666666,
              "#ed7953"
             ],
             [
              0.7777777777777778,
              "#fb9f3a"
             ],
             [
              0.8888888888888888,
              "#fdca26"
             ],
             [
              1,
              "#f0f921"
             ]
            ],
            "type": "histogram2d"
           }
          ],
          "histogram2dcontour": [
           {
            "colorbar": {
             "outlinewidth": 0,
             "ticks": ""
            },
            "colorscale": [
             [
              0,
              "#0d0887"
             ],
             [
              0.1111111111111111,
              "#46039f"
             ],
             [
              0.2222222222222222,
              "#7201a8"
             ],
             [
              0.3333333333333333,
              "#9c179e"
             ],
             [
              0.4444444444444444,
              "#bd3786"
             ],
             [
              0.5555555555555556,
              "#d8576b"
             ],
             [
              0.6666666666666666,
              "#ed7953"
             ],
             [
              0.7777777777777778,
              "#fb9f3a"
             ],
             [
              0.8888888888888888,
              "#fdca26"
             ],
             [
              1,
              "#f0f921"
             ]
            ],
            "type": "histogram2dcontour"
           }
          ],
          "mesh3d": [
           {
            "colorbar": {
             "outlinewidth": 0,
             "ticks": ""
            },
            "type": "mesh3d"
           }
          ],
          "parcoords": [
           {
            "line": {
             "colorbar": {
              "outlinewidth": 0,
              "ticks": ""
             }
            },
            "type": "parcoords"
           }
          ],
          "pie": [
           {
            "automargin": true,
            "type": "pie"
           }
          ],
          "scatter": [
           {
            "fillpattern": {
             "fillmode": "overlay",
             "size": 10,
             "solidity": 0.2
            },
            "type": "scatter"
           }
          ],
          "scatter3d": [
           {
            "line": {
             "colorbar": {
              "outlinewidth": 0,
              "ticks": ""
             }
            },
            "marker": {
             "colorbar": {
              "outlinewidth": 0,
              "ticks": ""
             }
            },
            "type": "scatter3d"
           }
          ],
          "scattercarpet": [
           {
            "marker": {
             "colorbar": {
              "outlinewidth": 0,
              "ticks": ""
             }
            },
            "type": "scattercarpet"
           }
          ],
          "scattergeo": [
           {
            "marker": {
             "colorbar": {
              "outlinewidth": 0,
              "ticks": ""
             }
            },
            "type": "scattergeo"
           }
          ],
          "scattergl": [
           {
            "marker": {
             "colorbar": {
              "outlinewidth": 0,
              "ticks": ""
             }
            },
            "type": "scattergl"
           }
          ],
          "scattermapbox": [
           {
            "marker": {
             "colorbar": {
              "outlinewidth": 0,
              "ticks": ""
             }
            },
            "type": "scattermapbox"
           }
          ],
          "scatterpolar": [
           {
            "marker": {
             "colorbar": {
              "outlinewidth": 0,
              "ticks": ""
             }
            },
            "type": "scatterpolar"
           }
          ],
          "scatterpolargl": [
           {
            "marker": {
             "colorbar": {
              "outlinewidth": 0,
              "ticks": ""
             }
            },
            "type": "scatterpolargl"
           }
          ],
          "scatterternary": [
           {
            "marker": {
             "colorbar": {
              "outlinewidth": 0,
              "ticks": ""
             }
            },
            "type": "scatterternary"
           }
          ],
          "surface": [
           {
            "colorbar": {
             "outlinewidth": 0,
             "ticks": ""
            },
            "colorscale": [
             [
              0,
              "#0d0887"
             ],
             [
              0.1111111111111111,
              "#46039f"
             ],
             [
              0.2222222222222222,
              "#7201a8"
             ],
             [
              0.3333333333333333,
              "#9c179e"
             ],
             [
              0.4444444444444444,
              "#bd3786"
             ],
             [
              0.5555555555555556,
              "#d8576b"
             ],
             [
              0.6666666666666666,
              "#ed7953"
             ],
             [
              0.7777777777777778,
              "#fb9f3a"
             ],
             [
              0.8888888888888888,
              "#fdca26"
             ],
             [
              1,
              "#f0f921"
             ]
            ],
            "type": "surface"
           }
          ],
          "table": [
           {
            "cells": {
             "fill": {
              "color": "#EBF0F8"
             },
             "line": {
              "color": "white"
             }
            },
            "header": {
             "fill": {
              "color": "#C8D4E3"
             },
             "line": {
              "color": "white"
             }
            },
            "type": "table"
           }
          ]
         },
         "layout": {
          "annotationdefaults": {
           "arrowcolor": "#2a3f5f",
           "arrowhead": 0,
           "arrowwidth": 1
          },
          "autotypenumbers": "strict",
          "coloraxis": {
           "colorbar": {
            "outlinewidth": 0,
            "ticks": ""
           }
          },
          "colorscale": {
           "diverging": [
            [
             0,
             "#8e0152"
            ],
            [
             0.1,
             "#c51b7d"
            ],
            [
             0.2,
             "#de77ae"
            ],
            [
             0.3,
             "#f1b6da"
            ],
            [
             0.4,
             "#fde0ef"
            ],
            [
             0.5,
             "#f7f7f7"
            ],
            [
             0.6,
             "#e6f5d0"
            ],
            [
             0.7,
             "#b8e186"
            ],
            [
             0.8,
             "#7fbc41"
            ],
            [
             0.9,
             "#4d9221"
            ],
            [
             1,
             "#276419"
            ]
           ],
           "sequential": [
            [
             0,
             "#0d0887"
            ],
            [
             0.1111111111111111,
             "#46039f"
            ],
            [
             0.2222222222222222,
             "#7201a8"
            ],
            [
             0.3333333333333333,
             "#9c179e"
            ],
            [
             0.4444444444444444,
             "#bd3786"
            ],
            [
             0.5555555555555556,
             "#d8576b"
            ],
            [
             0.6666666666666666,
             "#ed7953"
            ],
            [
             0.7777777777777778,
             "#fb9f3a"
            ],
            [
             0.8888888888888888,
             "#fdca26"
            ],
            [
             1,
             "#f0f921"
            ]
           ],
           "sequentialminus": [
            [
             0,
             "#0d0887"
            ],
            [
             0.1111111111111111,
             "#46039f"
            ],
            [
             0.2222222222222222,
             "#7201a8"
            ],
            [
             0.3333333333333333,
             "#9c179e"
            ],
            [
             0.4444444444444444,
             "#bd3786"
            ],
            [
             0.5555555555555556,
             "#d8576b"
            ],
            [
             0.6666666666666666,
             "#ed7953"
            ],
            [
             0.7777777777777778,
             "#fb9f3a"
            ],
            [
             0.8888888888888888,
             "#fdca26"
            ],
            [
             1,
             "#f0f921"
            ]
           ]
          },
          "colorway": [
           "#636efa",
           "#EF553B",
           "#00cc96",
           "#ab63fa",
           "#FFA15A",
           "#19d3f3",
           "#FF6692",
           "#B6E880",
           "#FF97FF",
           "#FECB52"
          ],
          "font": {
           "color": "#2a3f5f"
          },
          "geo": {
           "bgcolor": "white",
           "lakecolor": "white",
           "landcolor": "#E5ECF6",
           "showlakes": true,
           "showland": true,
           "subunitcolor": "white"
          },
          "hoverlabel": {
           "align": "left"
          },
          "hovermode": "closest",
          "mapbox": {
           "style": "light"
          },
          "paper_bgcolor": "white",
          "plot_bgcolor": "#E5ECF6",
          "polar": {
           "angularaxis": {
            "gridcolor": "white",
            "linecolor": "white",
            "ticks": ""
           },
           "bgcolor": "#E5ECF6",
           "radialaxis": {
            "gridcolor": "white",
            "linecolor": "white",
            "ticks": ""
           }
          },
          "scene": {
           "xaxis": {
            "backgroundcolor": "#E5ECF6",
            "gridcolor": "white",
            "gridwidth": 2,
            "linecolor": "white",
            "showbackground": true,
            "ticks": "",
            "zerolinecolor": "white"
           },
           "yaxis": {
            "backgroundcolor": "#E5ECF6",
            "gridcolor": "white",
            "gridwidth": 2,
            "linecolor": "white",
            "showbackground": true,
            "ticks": "",
            "zerolinecolor": "white"
           },
           "zaxis": {
            "backgroundcolor": "#E5ECF6",
            "gridcolor": "white",
            "gridwidth": 2,
            "linecolor": "white",
            "showbackground": true,
            "ticks": "",
            "zerolinecolor": "white"
           }
          },
          "shapedefaults": {
           "line": {
            "color": "#2a3f5f"
           }
          },
          "ternary": {
           "aaxis": {
            "gridcolor": "white",
            "linecolor": "white",
            "ticks": ""
           },
           "baxis": {
            "gridcolor": "white",
            "linecolor": "white",
            "ticks": ""
           },
           "bgcolor": "#E5ECF6",
           "caxis": {
            "gridcolor": "white",
            "linecolor": "white",
            "ticks": ""
           }
          },
          "title": {
           "x": 0.05
          },
          "xaxis": {
           "automargin": true,
           "gridcolor": "white",
           "linecolor": "white",
           "ticks": "",
           "title": {
            "standoff": 15
           },
           "zerolinecolor": "white",
           "zerolinewidth": 2
          },
          "yaxis": {
           "automargin": true,
           "gridcolor": "white",
           "linecolor": "white",
           "ticks": "",
           "title": {
            "standoff": 15
           },
           "zerolinecolor": "white",
           "zerolinewidth": 2
          }
         }
        },
        "title": {
         "text": "Average self-attention scores for 10.7 (using bag of words)"
        },
        "width": 650,
        "xaxis": {
         "anchor": "y",
         "constrain": "domain",
         "domain": [
          0,
          1
         ],
         "scaleanchor": "y"
        },
        "yaxis": {
         "anchor": "x",
         "autorange": "reversed",
         "constrain": "domain",
         "domain": [
          0,
          1
         ]
        }
       }
      },
      "text/html": [
       "<div>                            <div id=\"b980a9f5-240f-436c-bf73-9b58caebd0e8\" class=\"plotly-graph-div\" style=\"height:550px; width:650px;\"></div>            <script type=\"text/javascript\">                require([\"plotly\"], function(Plotly) {                    window.PLOTLYENV=window.PLOTLYENV || {};                                    if (document.getElementById(\"b980a9f5-240f-436c-bf73-9b58caebd0e8\")) {                    Plotly.newPlot(                        \"b980a9f5-240f-436c-bf73-9b58caebd0e8\",                        [{\"coloraxis\":\"coloraxis\",\"name\":\"0\",\"z\":[[-1.0,-3.0,-2.0],[-4.0,-5.0,-4.0],[-2.5,-4.5,-3.5]],\"type\":\"heatmap\",\"xaxis\":\"x\",\"yaxis\":\"y\",\"hovertemplate\":\"x: %{x}\\u003cbr\\u003ey: %{y}\\u003cbr\\u003ecolor: %{z}\\u003cextra\\u003e\\u003c\\u002fextra\\u003e\",\"textfont\":{\"size\":12},\"text\":[[\"Q = W\\u003csub\\u003eU\\u003c\\u002fsub\\u003e\\u003cbr\\u003eK = W\\u003csub\\u003eEE\\u003c\\u002fsub\\u003e\",\"Q = W\\u003csub\\u003eU\\u003c\\u002fsub\\u003e\\u003cbr\\u003eK = W\\u003csub\\u003eE\\u003c\\u002fsub\\u003e\",\"Q = W\\u003csub\\u003eU\\u003c\\u002fsub\\u003e\\u003cbr\\u003eK = MLP\\u003csub\\u003e0\\u003c\\u002fsub\\u003e\"],[\"Q = MLP\\u003csub\\u003e0\\u003c\\u002fsub\\u003e\\u003cbr\\u003eK = W\\u003csub\\u003eEE\\u003c\\u002fsub\\u003e\",\"Q = MLP\\u003csub\\u003e0\\u003c\\u002fsub\\u003e\\u003cbr\\u003eK = W\\u003csub\\u003eE\\u003c\\u002fsub\\u003e\",\"Q = MLP\\u003csub\\u003e0\\u003c\\u002fsub\\u003e\\u003cbr\\u003eK = MLP\\u003csub\\u003e0\\u003c\\u002fsub\\u003e\"],[\"Q = W\\u003csub\\u003eEE\\u003c\\u002fsub\\u003e\\u003cbr\\u003eK = W\\u003csub\\u003eEE\\u003c\\u002fsub\\u003e\",\"Q = W\\u003csub\\u003eEE\\u003c\\u002fsub\\u003e\\u003cbr\\u003eK = W\\u003csub\\u003eE\\u003c\\u002fsub\\u003e\",\"Q = W\\u003csub\\u003eEE\\u003c\\u002fsub\\u003e\\u003cbr\\u003eK = MLP\\u003csub\\u003e0\\u003c\\u002fsub\\u003e\"]],\"texttemplate\":\"%{text}\"}],                        {\"template\":{\"data\":{\"histogram2dcontour\":[{\"type\":\"histogram2dcontour\",\"colorbar\":{\"outlinewidth\":0,\"ticks\":\"\"},\"colorscale\":[[0.0,\"#0d0887\"],[0.1111111111111111,\"#46039f\"],[0.2222222222222222,\"#7201a8\"],[0.3333333333333333,\"#9c179e\"],[0.4444444444444444,\"#bd3786\"],[0.5555555555555556,\"#d8576b\"],[0.6666666666666666,\"#ed7953\"],[0.7777777777777778,\"#fb9f3a\"],[0.8888888888888888,\"#fdca26\"],[1.0,\"#f0f921\"]]}],\"choropleth\":[{\"type\":\"choropleth\",\"colorbar\":{\"outlinewidth\":0,\"ticks\":\"\"}}],\"histogram2d\":[{\"type\":\"histogram2d\",\"colorbar\":{\"outlinewidth\":0,\"ticks\":\"\"},\"colorscale\":[[0.0,\"#0d0887\"],[0.1111111111111111,\"#46039f\"],[0.2222222222222222,\"#7201a8\"],[0.3333333333333333,\"#9c179e\"],[0.4444444444444444,\"#bd3786\"],[0.5555555555555556,\"#d8576b\"],[0.6666666666666666,\"#ed7953\"],[0.7777777777777778,\"#fb9f3a\"],[0.8888888888888888,\"#fdca26\"],[1.0,\"#f0f921\"]]}],\"heatmap\":[{\"type\":\"heatmap\",\"colorbar\":{\"outlinewidth\":0,\"ticks\":\"\"},\"colorscale\":[[0.0,\"#0d0887\"],[0.1111111111111111,\"#46039f\"],[0.2222222222222222,\"#7201a8\"],[0.3333333333333333,\"#9c179e\"],[0.4444444444444444,\"#bd3786\"],[0.5555555555555556,\"#d8576b\"],[0.6666666666666666,\"#ed7953\"],[0.7777777777777778,\"#fb9f3a\"],[0.8888888888888888,\"#fdca26\"],[1.0,\"#f0f921\"]]}],\"heatmapgl\":[{\"type\":\"heatmapgl\",\"colorbar\":{\"outlinewidth\":0,\"ticks\":\"\"},\"colorscale\":[[0.0,\"#0d0887\"],[0.1111111111111111,\"#46039f\"],[0.2222222222222222,\"#7201a8\"],[0.3333333333333333,\"#9c179e\"],[0.4444444444444444,\"#bd3786\"],[0.5555555555555556,\"#d8576b\"],[0.6666666666666666,\"#ed7953\"],[0.7777777777777778,\"#fb9f3a\"],[0.8888888888888888,\"#fdca26\"],[1.0,\"#f0f921\"]]}],\"contourcarpet\":[{\"type\":\"contourcarpet\",\"colorbar\":{\"outlinewidth\":0,\"ticks\":\"\"}}],\"contour\":[{\"type\":\"contour\",\"colorbar\":{\"outlinewidth\":0,\"ticks\":\"\"},\"colorscale\":[[0.0,\"#0d0887\"],[0.1111111111111111,\"#46039f\"],[0.2222222222222222,\"#7201a8\"],[0.3333333333333333,\"#9c179e\"],[0.4444444444444444,\"#bd3786\"],[0.5555555555555556,\"#d8576b\"],[0.6666666666666666,\"#ed7953\"],[0.7777777777777778,\"#fb9f3a\"],[0.8888888888888888,\"#fdca26\"],[1.0,\"#f0f921\"]]}],\"surface\":[{\"type\":\"surface\",\"colorbar\":{\"outlinewidth\":0,\"ticks\":\"\"},\"colorscale\":[[0.0,\"#0d0887\"],[0.1111111111111111,\"#46039f\"],[0.2222222222222222,\"#7201a8\"],[0.3333333333333333,\"#9c179e\"],[0.4444444444444444,\"#bd3786\"],[0.5555555555555556,\"#d8576b\"],[0.6666666666666666,\"#ed7953\"],[0.7777777777777778,\"#fb9f3a\"],[0.8888888888888888,\"#fdca26\"],[1.0,\"#f0f921\"]]}],\"mesh3d\":[{\"type\":\"mesh3d\",\"colorbar\":{\"outlinewidth\":0,\"ticks\":\"\"}}],\"scatter\":[{\"fillpattern\":{\"fillmode\":\"overlay\",\"size\":10,\"solidity\":0.2},\"type\":\"scatter\"}],\"parcoords\":[{\"type\":\"parcoords\",\"line\":{\"colorbar\":{\"outlinewidth\":0,\"ticks\":\"\"}}}],\"scatterpolargl\":[{\"type\":\"scatterpolargl\",\"marker\":{\"colorbar\":{\"outlinewidth\":0,\"ticks\":\"\"}}}],\"bar\":[{\"error_x\":{\"color\":\"#2a3f5f\"},\"error_y\":{\"color\":\"#2a3f5f\"},\"marker\":{\"line\":{\"color\":\"#E5ECF6\",\"width\":0.5},\"pattern\":{\"fillmode\":\"overlay\",\"size\":10,\"solidity\":0.2}},\"type\":\"bar\"}],\"scattergeo\":[{\"type\":\"scattergeo\",\"marker\":{\"colorbar\":{\"outlinewidth\":0,\"ticks\":\"\"}}}],\"scatterpolar\":[{\"type\":\"scatterpolar\",\"marker\":{\"colorbar\":{\"outlinewidth\":0,\"ticks\":\"\"}}}],\"histogram\":[{\"marker\":{\"pattern\":{\"fillmode\":\"overlay\",\"size\":10,\"solidity\":0.2}},\"type\":\"histogram\"}],\"scattergl\":[{\"type\":\"scattergl\",\"marker\":{\"colorbar\":{\"outlinewidth\":0,\"ticks\":\"\"}}}],\"scatter3d\":[{\"type\":\"scatter3d\",\"line\":{\"colorbar\":{\"outlinewidth\":0,\"ticks\":\"\"}},\"marker\":{\"colorbar\":{\"outlinewidth\":0,\"ticks\":\"\"}}}],\"scattermapbox\":[{\"type\":\"scattermapbox\",\"marker\":{\"colorbar\":{\"outlinewidth\":0,\"ticks\":\"\"}}}],\"scatterternary\":[{\"type\":\"scatterternary\",\"marker\":{\"colorbar\":{\"outlinewidth\":0,\"ticks\":\"\"}}}],\"scattercarpet\":[{\"type\":\"scattercarpet\",\"marker\":{\"colorbar\":{\"outlinewidth\":0,\"ticks\":\"\"}}}],\"carpet\":[{\"aaxis\":{\"endlinecolor\":\"#2a3f5f\",\"gridcolor\":\"white\",\"linecolor\":\"white\",\"minorgridcolor\":\"white\",\"startlinecolor\":\"#2a3f5f\"},\"baxis\":{\"endlinecolor\":\"#2a3f5f\",\"gridcolor\":\"white\",\"linecolor\":\"white\",\"minorgridcolor\":\"white\",\"startlinecolor\":\"#2a3f5f\"},\"type\":\"carpet\"}],\"table\":[{\"cells\":{\"fill\":{\"color\":\"#EBF0F8\"},\"line\":{\"color\":\"white\"}},\"header\":{\"fill\":{\"color\":\"#C8D4E3\"},\"line\":{\"color\":\"white\"}},\"type\":\"table\"}],\"barpolar\":[{\"marker\":{\"line\":{\"color\":\"#E5ECF6\",\"width\":0.5},\"pattern\":{\"fillmode\":\"overlay\",\"size\":10,\"solidity\":0.2}},\"type\":\"barpolar\"}],\"pie\":[{\"automargin\":true,\"type\":\"pie\"}]},\"layout\":{\"autotypenumbers\":\"strict\",\"colorway\":[\"#636efa\",\"#EF553B\",\"#00cc96\",\"#ab63fa\",\"#FFA15A\",\"#19d3f3\",\"#FF6692\",\"#B6E880\",\"#FF97FF\",\"#FECB52\"],\"font\":{\"color\":\"#2a3f5f\"},\"hovermode\":\"closest\",\"hoverlabel\":{\"align\":\"left\"},\"paper_bgcolor\":\"white\",\"plot_bgcolor\":\"#E5ECF6\",\"polar\":{\"bgcolor\":\"#E5ECF6\",\"angularaxis\":{\"gridcolor\":\"white\",\"linecolor\":\"white\",\"ticks\":\"\"},\"radialaxis\":{\"gridcolor\":\"white\",\"linecolor\":\"white\",\"ticks\":\"\"}},\"ternary\":{\"bgcolor\":\"#E5ECF6\",\"aaxis\":{\"gridcolor\":\"white\",\"linecolor\":\"white\",\"ticks\":\"\"},\"baxis\":{\"gridcolor\":\"white\",\"linecolor\":\"white\",\"ticks\":\"\"},\"caxis\":{\"gridcolor\":\"white\",\"linecolor\":\"white\",\"ticks\":\"\"}},\"coloraxis\":{\"colorbar\":{\"outlinewidth\":0,\"ticks\":\"\"}},\"colorscale\":{\"sequential\":[[0.0,\"#0d0887\"],[0.1111111111111111,\"#46039f\"],[0.2222222222222222,\"#7201a8\"],[0.3333333333333333,\"#9c179e\"],[0.4444444444444444,\"#bd3786\"],[0.5555555555555556,\"#d8576b\"],[0.6666666666666666,\"#ed7953\"],[0.7777777777777778,\"#fb9f3a\"],[0.8888888888888888,\"#fdca26\"],[1.0,\"#f0f921\"]],\"sequentialminus\":[[0.0,\"#0d0887\"],[0.1111111111111111,\"#46039f\"],[0.2222222222222222,\"#7201a8\"],[0.3333333333333333,\"#9c179e\"],[0.4444444444444444,\"#bd3786\"],[0.5555555555555556,\"#d8576b\"],[0.6666666666666666,\"#ed7953\"],[0.7777777777777778,\"#fb9f3a\"],[0.8888888888888888,\"#fdca26\"],[1.0,\"#f0f921\"]],\"diverging\":[[0,\"#8e0152\"],[0.1,\"#c51b7d\"],[0.2,\"#de77ae\"],[0.3,\"#f1b6da\"],[0.4,\"#fde0ef\"],[0.5,\"#f7f7f7\"],[0.6,\"#e6f5d0\"],[0.7,\"#b8e186\"],[0.8,\"#7fbc41\"],[0.9,\"#4d9221\"],[1,\"#276419\"]]},\"xaxis\":{\"gridcolor\":\"white\",\"linecolor\":\"white\",\"ticks\":\"\",\"title\":{\"standoff\":15},\"zerolinecolor\":\"white\",\"automargin\":true,\"zerolinewidth\":2},\"yaxis\":{\"gridcolor\":\"white\",\"linecolor\":\"white\",\"ticks\":\"\",\"title\":{\"standoff\":15},\"zerolinecolor\":\"white\",\"automargin\":true,\"zerolinewidth\":2},\"scene\":{\"xaxis\":{\"backgroundcolor\":\"#E5ECF6\",\"gridcolor\":\"white\",\"linecolor\":\"white\",\"showbackground\":true,\"ticks\":\"\",\"zerolinecolor\":\"white\",\"gridwidth\":2},\"yaxis\":{\"backgroundcolor\":\"#E5ECF6\",\"gridcolor\":\"white\",\"linecolor\":\"white\",\"showbackground\":true,\"ticks\":\"\",\"zerolinecolor\":\"white\",\"gridwidth\":2},\"zaxis\":{\"backgroundcolor\":\"#E5ECF6\",\"gridcolor\":\"white\",\"linecolor\":\"white\",\"showbackground\":true,\"ticks\":\"\",\"zerolinecolor\":\"white\",\"gridwidth\":2}},\"shapedefaults\":{\"line\":{\"color\":\"#2a3f5f\"}},\"annotationdefaults\":{\"arrowcolor\":\"#2a3f5f\",\"arrowhead\":0,\"arrowwidth\":1},\"geo\":{\"bgcolor\":\"white\",\"landcolor\":\"#E5ECF6\",\"subunitcolor\":\"white\",\"showland\":true,\"showlakes\":true,\"lakecolor\":\"white\"},\"title\":{\"x\":0.05},\"mapbox\":{\"style\":\"light\"}}},\"xaxis\":{\"anchor\":\"y\",\"domain\":[0.0,1.0],\"scaleanchor\":\"y\",\"constrain\":\"domain\"},\"yaxis\":{\"anchor\":\"x\",\"domain\":[0.0,1.0],\"autorange\":\"reversed\",\"constrain\":\"domain\"},\"coloraxis\":{\"colorscale\":[[0.0,\"rgb(5,48,97)\"],[0.1,\"rgb(33,102,172)\"],[0.2,\"rgb(67,147,195)\"],[0.3,\"rgb(146,197,222)\"],[0.4,\"rgb(209,229,240)\"],[0.5,\"rgb(247,247,247)\"],[0.6,\"rgb(253,219,199)\"],[0.7,\"rgb(244,165,130)\"],[0.8,\"rgb(214,96,77)\"],[0.9,\"rgb(178,24,43)\"],[1.0,\"rgb(103,0,31)\"]],\"cmid\":0.0},\"title\":{\"text\":\"Average self-attention scores for 10.7 (using bag of words)\"},\"height\":550,\"width\":650,\"modebar\":{\"add\":[\"drawline\",\"drawopenpath\",\"drawclosedpath\",\"drawcircle\",\"drawrect\",\"eraseshape\"]}},                        {\"responsive\": true}                    ).then(function(){\n",
       "                            \n",
       "var gd = document.getElementById('b980a9f5-240f-436c-bf73-9b58caebd0e8');\n",
       "var x = new MutationObserver(function (mutations, observer) {{\n",
       "        var display = window.getComputedStyle(gd).display;\n",
       "        if (!display || display === 'none') {{\n",
       "            console.log([gd, 'removed!']);\n",
       "            Plotly.purge(gd);\n",
       "            observer.disconnect();\n",
       "        }}\n",
       "}});\n",
       "\n",
       "// Listen for the removal of the full notebook cells\n",
       "var notebookContainer = gd.closest('#notebook-container');\n",
       "if (notebookContainer) {{\n",
       "    x.observe(notebookContainer, {childList: true});\n",
       "}}\n",
       "\n",
       "// Listen for the clearing of the current output cell\n",
       "var outputEl = gd.closest('.output');\n",
       "if (outputEl) {{\n",
       "    x.observe(outputEl, {childList: true});\n",
       "}}\n",
       "\n",
       "                        })                };                });            </script>        </div>"
      ]
     },
     "metadata": {},
     "output_type": "display_data"
    }
   ],
   "source": [
    "self_attn = [-1, -3, -2, -4, -5, -4, -2.5, -4.5, -3.5]\n",
    "self_attn = t.tensor(self_attn).float().reshape(3, 3) #.exp()\n",
    "\n",
    "text_Q = [\"W<sub>U</sub>\", \"MLP<sub>0</sub>\", \"W<sub>EE</sub>\"]\n",
    "text_K = [\"W<sub>EE</sub>\", \"W<sub>E</sub>\", \"MLP<sub>0</sub>\"]\n",
    "text = [[f\"Q = {q}<br>K = {k}\" for k in text_K] for q in text_Q]\n",
    "\n",
    "fig = imshow(\n",
    "    self_attn,\n",
    "    title = \"Average self-attention scores for 10.7 (using bag of words)\",\n",
    "    return_fig = True,\n",
    "    height=550,\n",
    "    width=650,\n",
    "    color_continuous_scale=\"RdBu_r\"\n",
    ")\n",
    "fig.data[0].update(\n",
    "    text=text, \n",
    "    texttemplate=\"%{text}\", \n",
    "    textfont={\"size\": 12}\n",
    ")\n",
    "fig.show()"
   ]
  },
  {
   "attachments": {},
   "cell_type": "markdown",
   "metadata": {},
   "source": [
    "# Calibration\n",
    "\n",
    "Key questions:\n",
    "\n",
    "* When the model says it's x% confident that a token comes next, how often does that token actually come next?\n",
    "* How does this change when you remove the direct effect of a head?"
   ]
  },
  {
   "cell_type": "code",
   "execution_count": 4,
   "metadata": {},
   "outputs": [],
   "source": [
    "def perfect_calibration_line(n_bins) -> Float[Tensor, \"n_bins\"]:\n",
    "    return (t.arange(n_bins) + 0.5) / n_bins\n",
    "\n",
    "def perfect_overconfidence_line(n_bins) -> Float[Tensor, \"n_bins\"]:\n",
    "    return t.full((n_bins,), fill_value=0.5)\n",
    "\n",
    "def my_line(\n",
    "    y: Float[Tensor, \"n_bins\"],\n",
    "    y_upper: Optional[Float[Tensor, \"n_bins\"]] = None,\n",
    "    y_lower: Optional[Float[Tensor, \"n_bins\"]] = None,\n",
    "    title: Optional[str] = None,\n",
    "):\n",
    "    x = list(range(len(y)))\n",
    "    fig = go.Figure([go.Scatter(\n",
    "        y=y,\n",
    "        x=x,\n",
    "        line=dict(color='rgb(0,100,80)'),\n",
    "        mode='lines'\n",
    "    )])\n",
    "    if (y_upper is not None) and (y_lower is not None):\n",
    "        fig.add_trace(go.Scatter(\n",
    "            x=x+x[::-1], # x, then x reversed\n",
    "            y=y_upper+y_lower[::-1], # upper, then lower reversed\n",
    "            fill='toself',\n",
    "            fillcolor='rgba(0,100,80,0.2)',\n",
    "            line=dict(color='rgba(255,255,255,0)'),\n",
    "            hoverinfo=\"skip\",\n",
    "            showlegend=False\n",
    "        ))\n",
    "    if min(y) >= 0:\n",
    "        yaxis_range = [0, 1]\n",
    "    else:\n",
    "        y_max = max(max(y_upper), -min(y_lower))\n",
    "        yaxis_range = [-y_max, y_max]\n",
    "    fig.update_layout(\n",
    "        width=800,\n",
    "        height=600,\n",
    "        showlegend=False,\n",
    "        title=title if title is not None else \"\",\n",
    "        xaxis_range=[0, len(y)],\n",
    "        yaxis_range=yaxis_range\n",
    "    )\n",
    "    fig.show()"
   ]
  },
  {
   "cell_type": "code",
   "execution_count": 16,
   "metadata": {},
   "outputs": [],
   "source": [
    "def calculate_overconfidence(accuracy: Float[Tensor, \"n_bins\"]):\n",
    "    '''\n",
    "    Quantifies overconfidence from an accuracy curve.\n",
    "\n",
    "    This metric is:\n",
    "        0 if the model is perfectly calibrated (i.e. says something has X% prob implies it always happens with frequency X)\n",
    "        1 if the model is as overconfident as it could be without being inaccurate (it always assigns 50% probability to the less likely outcome)\n",
    "        -1 if the model is as underconfident as it could be without being inaccurate\n",
    "    \n",
    "    underconfident_sigmoid = t.linspace(-5, 5, 100).sigmoid()\n",
    "    calculate_overconfidence(underconfident_sigmoid) -> about -0.7\n",
    "    '''\n",
    "    n_bins = len(accuracy)\n",
    "\n",
    "    f = accuracy - perfect_calibration_line(n_bins).to(accuracy.device)\n",
    "    x = perfect_overconfidence_line(n_bins).to(accuracy.device) - perfect_calibration_line(n_bins).to(accuracy.device)\n",
    "\n",
    "    return (f * x).sum() / (x * x).sum()\n",
    "\n",
    "\n",
    "def measure_calibration(\n",
    "    model: HookedTransformer,\n",
    "    num_batches: int = 20,\n",
    "    batch_size: int = 100,\n",
    "    seq_len: int = 250,\n",
    "    data_source: Literal[\"OWT\", \"IOI\"] = \"OWT\",\n",
    "    top_k: int = 3,\n",
    "    n_bins: int = 50,\n",
    "    plot_calibration_curve: bool = False,\n",
    "):\n",
    "    assert data_source in [\"OWT\", \"IOI\"]\n",
    "\n",
    "    def get_batch(i):\n",
    "        if data_source == \"OWT\":\n",
    "            assert num_batches * batch_size <= len(data)\n",
    "            return model.to_tokens(data[batch_size*i: batch_size*(i+1)])[:, :seq_len]\n",
    "        else:\n",
    "            return generate_data_and_caches(batch_size, model=model, seed=i, only_ioi=True, prepend_bos=True, return_cache=False).toks\n",
    "\n",
    "    bucket_frequency = t.zeros(n_bins)\n",
    "    bucket_correct_frequency = t.zeros(n_bins)\n",
    "\n",
    "    for j in tqdm(range(num_batches)):\n",
    "\n",
    "        t.cuda.empty_cache()\n",
    "\n",
    "        toks = get_batch(j)\n",
    "        logits: Float[Tensor, \"batch seq d_vocab\"] = model(toks, return_type=\"logits\")[:, :-1]\n",
    "        probs = logits.softmax(-1)\n",
    "\n",
    "        next_toks = toks[:, 1:]\n",
    "\n",
    "        topk_probs = probs.topk(k=top_k, dim=-1)\n",
    "        topk_probs_values: Float[Tensor, \"batch seq k\"] = topk_probs.values\n",
    "        topk_probs_indices: Int[Tensor, \"batch seq k\"] = topk_probs.indices\n",
    "        \n",
    "        # Figure out all the indices where the model was correct\n",
    "        mask_is_correct: Bool[Tensor, \"batch seq k\"] = (topk_probs_indices == next_toks.unsqueeze(-1))\n",
    "\n",
    "        for i in t.arange(n_bins):\n",
    "            p_lower = i / n_bins\n",
    "            p_upper = (i + 1) / n_bins\n",
    "            # Figure out the indices of all values which are predicted for this probability\n",
    "            mask_is_in_probability_bucket = (topk_probs_values >= p_lower) & (topk_probs_values < p_upper)\n",
    "            # Calculate how many were correct\n",
    "            bucket_frequency[i] = mask_is_in_probability_bucket.sum()\n",
    "            bucket_correct_frequency[i] = (mask_is_in_probability_bucket & mask_is_correct).sum()\n",
    "\n",
    "    accuracy = bucket_correct_frequency / bucket_frequency\n",
    "\n",
    "    bucket_probs = (t.arange(n_bins) + 0.5) / n_bins\n",
    "    variance = bucket_probs * (1 - bucket_probs) / bucket_frequency\n",
    "\n",
    "    if plot_calibration_curve:\n",
    "        y_upper = accuracy + variance.sqrt()\n",
    "        y_lower = accuracy - variance.sqrt()\n",
    "        my_line(accuracy.tolist(), y_upper.tolist(), y_lower.tolist(), title=\"Calibration curve\")\n",
    "\n",
    "    return accuracy, variance"
   ]
  },
  {
   "cell_type": "code",
   "execution_count": 6,
   "metadata": {},
   "outputs": [],
   "source": [
    "# accuracy, variance = measure_calibration(\n",
    "#     model,\n",
    "#     n_bins = 40, # 100\n",
    "#     num_batches = 20, # 20,\n",
    "#     batch_size = 150, # 100,\n",
    "#     seq_len = 100, # 250,\n",
    "#     plot_calibration_curve = True,\n",
    "# )"
   ]
  },
  {
   "attachments": {
    "image.png": {
     "image/png": "[encoded data removed]"
    }
   },
   "cell_type": "markdown",
   "metadata": {},
   "source": [
    "![image.png](attachment:image.png)"
   ]
  },
  {
   "cell_type": "code",
   "execution_count": 9,
   "metadata": {},
   "outputs": [],
   "source": [
    "def measure_calibration_minus_heads(\n",
    "    model: HookedTransformer,\n",
    "    head_list: List[Tuple[int, int]],\n",
    "    num_batches: int = 40,\n",
    "    batch_size: int = 64,\n",
    "    seq_len: int = 128,\n",
    "    data_source: Literal[\"OWT\", \"IOI\"] = \"OWT\",\n",
    "    top_k: int = 5,\n",
    "    n_bins: int = 100,\n",
    "):\n",
    "    assert data_source in [\"OWT\", \"IOI\"]\n",
    "\n",
    "    def get_batch(i):\n",
    "        if data_source == \"OWT\":\n",
    "            assert num_batches * batch_size <= len(data)\n",
    "            return model.to_tokens(data[batch_size*i: batch_size*(i+1)])[:, :seq_len]\n",
    "        else:\n",
    "            return generate_data_and_caches(batch_size, model=model, seed=i, only_ioi=True, prepend_bos=True, return_cache=False).toks\n",
    "\n",
    "    bucket_frequency: Int[Tensor, \"heads bins\"] = t.zeros(len(head_list) + 1, n_bins).to(device)\n",
    "    bucket_correct_frequency: Int[Tensor, \"heads bins\"] = t.zeros(len(head_list) + 1, n_bins).to(device)\n",
    "\n",
    "    progress_bar = tqdm(total=num_batches * (len(head_list) + 2))\n",
    "\n",
    "    t_all = {\"total1\": 0.0, \"total2\": 0.0, \"rest\": t.zeros(4), \"z\": t.zeros(3)}\n",
    "\n",
    "    for j in range(num_batches):\n",
    "\n",
    "        t0 = time.time()\n",
    "\n",
    "        toks = get_batch(j)\n",
    "        next_toks = einops.repeat(toks[:, 1:], \"batch seq -> batch seq k\", k=top_k)\n",
    "\n",
    "        logits, cache = model.run_with_cache(\n",
    "            toks,\n",
    "            names_filter=lambda name: name.endswith(\"result\") or name == utils.get_act_name(\"scale\"),\n",
    "            return_type=\"logits\"\n",
    "        )\n",
    "        logits = logits[:, :-1]\n",
    "        ln_final_scale = cache[\"scale\"][:, :-1]\n",
    "\n",
    "        progress_bar.update(1)\n",
    "\n",
    "        t1 = time.time()\n",
    "\n",
    "        t_all[\"total1\"] += (t1 - t0)\n",
    "\n",
    "        for i, head in enumerate([None] + head_list):\n",
    "            \n",
    "            if head is None:\n",
    "                new_logits = logits\n",
    "            else:\n",
    "                layer, head_idx = head\n",
    "                # z = cache[\"z\", layer][:, :-1, head_idx]\n",
    "                t0 = time.time()\n",
    "                # result = einops.einsum(z, model.W_O[layer, head_idx], \"batch seq d_head, d_head d_model -> batch seq d_model\")\n",
    "                result = cache[\"result\", layer][:, :-1, head_idx] / ln_final_scale\n",
    "                t1 = time.time()\n",
    "                logit_contribution = einops.einsum(result, model.W_U, \"batch seq d_model, d_model d_vocab -> batch seq d_vocab\")\n",
    "                t2 = time.time()\n",
    "                new_logits = logits - logit_contribution\n",
    "                t3 = time.time()\n",
    "                t_all[\"z\"][0] += t1 - t0\n",
    "                t_all[\"z\"][1] += t2 - t1\n",
    "                t_all[\"z\"][2] += t3 - t2\n",
    "            \n",
    "            t2 = time.time()\n",
    "\n",
    "            probs = new_logits.softmax(-1)\n",
    "\n",
    "            topk_probs = probs.topk(k=top_k, dim=-1)\n",
    "            topk_probs_values: Float[Tensor, \"batch seq k\"] = topk_probs.values\n",
    "            topk_probs_indices: Int[Tensor, \"batch seq k\"] = topk_probs.indices\n",
    "            t3 = time.time()\n",
    "        \n",
    "            # Figure out all the indices where the model was correct\n",
    "            # print(topk_probs_indices.device, topk_probs_indices.dtype, topk_probs_indices.shape)\n",
    "            # print(next_toks.device, next_toks.dtype, next_toks.shape)\n",
    "            mask_is_correct: Bool[Tensor, \"batch seq k\"] = (topk_probs_indices - next_toks) == 0\n",
    "\n",
    "            t4 = time.time()\n",
    "            prob_bins = einops.repeat(\n",
    "                t.arange(n_bins + 1, device=device) / n_bins,\n",
    "                \"bins -> 1 1 1 bins\"\n",
    "            )\n",
    "            t5 = time.time()\n",
    "\n",
    "            mask_is_in_prob_bin: Bool[Tensor, \"batch seq k bins\"] = (topk_probs_values.unsqueeze(-1) >= prob_bins[..., :-1]) & (topk_probs_values.unsqueeze(-1) < prob_bins[..., 1:])\n",
    "            bucket_frequency[i, :] += einops.reduce(mask_is_in_prob_bin, \"batch seq k bins -> bins\", \"sum\")\n",
    "            bucket_correct_frequency[i, :] += einops.reduce(mask_is_in_prob_bin * mask_is_correct.unsqueeze(-1), \"batch seq k bins -> bins\", \"sum\")\n",
    "\n",
    "            t6 = time.time()\n",
    "            t_all[\"rest\"] += t.tensor((t6 - t5, t5 - t4, t4 - t3, t3 - t2))\n",
    "            progress_bar.update(1)\n",
    "\n",
    "            # if t_all[\"rest\"].sum() + t_all[\"total1\"] + t_all[\"total2\"] + t_all[\"z\"].sum() > 10:\n",
    "            #     print(t_all)\n",
    "\n",
    "    accuracy = bucket_correct_frequency / bucket_frequency\n",
    "\n",
    "    bucket_probs = (t.arange(n_bins).to(device) + 0.5) / n_bins\n",
    "    variance = bucket_probs * (1 - bucket_probs) / bucket_frequency\n",
    "\n",
    "    return accuracy, variance"
   ]
  },
  {
   "cell_type": "code",
   "execution_count": 19,
   "metadata": {},
   "outputs": [
    {
     "data": {
      "application/vnd.jupyter.widget-view+json": {
       "model_id": "22914b6dcd9642db9a51b948dc63cf64",
       "version_major": 2,
       "version_minor": 0
      },
      "text/plain": [
       "  0%|          | 0/730 [00:00<?, ?it/s]"
      ]
     },
     "metadata": {},
     "output_type": "display_data"
    }
   ],
   "source": [
    "head_list=[\n",
    "    (layer, head)\n",
    "    for layer in range(model.cfg.n_layers)\n",
    "    for head in range(model.cfg.n_heads)\n",
    "]\n",
    "\n",
    "t.cuda.empty_cache()\n",
    "accuracy_all, variance_all = measure_calibration_minus_heads(\n",
    "    model,\n",
    "    head_list=head_list,\n",
    "    n_bins = 40, # 100\n",
    "    num_batches = 5, # 20,\n",
    "    batch_size = 50, # 100,\n",
    "    seq_len = 100, # 250,\n",
    ")"
   ]
  },
  {
   "cell_type": "code",
   "execution_count": 25,
   "metadata": {},
   "outputs": [
    {
     "data": {
      "application/vnd.plotly.v1+json": {
       "config": {
        "displaylogo": false,
        "plotlyServerURL": "https://plot.ly",
        "responsive": true
       },
       "data": [
        {
         "coloraxis": "coloraxis",
         "hovertemplate": "Head: %{x}<br>Layer: %{y}<br>Change in <br>overconfidence<br>metric: %{z}<extra></extra>",
         "name": "0",
         "type": "heatmap",
         "xaxis": "x",
         "yaxis": "y",
         "z": [
          [
           0.0006720051169395447,
           0,
           0,
           0,
           0,
           0,
           0.003314908593893051,
           0,
           0,
           0,
           0.0005137734115123749,
           0
          ],
          [
           0,
           0,
           0,
           0.0012008212506771088,
           0.00011336803436279297,
           0,
           0.0010514892637729645,
           0,
           0.0012461766600608826,
           0.0008849464356899261,
           0,
           0.00046892091631889343
          ],
          [
           0,
           0,
           0.0002095922827720642,
           0.0002628415822982788,
           0.0001828223466873169,
           0.0007954537868499756,
           0,
           0.0013531036674976349,
           0.0010415315628051758,
           0,
           0.0006085820496082306,
           0.001460634171962738
          ],
          [
           0.000029183924198150635,
           0,
           0,
           0,
           0,
           0.00025309622287750244,
           0,
           0,
           0,
           0,
           0.0005478113889694214,
           0.00041765347123146057
          ],
          [
           0,
           0,
           0.0005364865064620972,
           0,
           0.00039270520210266113,
           0,
           0.000798545777797699,
           0,
           0,
           0.000639691948890686,
           0.00017327815294265747,
           0
          ],
          [
           0,
           0,
           0,
           0,
           0,
           0,
           0,
           0,
           0.00027354806661605835,
           0.0014374777674674988,
           0.0009462051093578339,
           0
          ],
          [
           0,
           0,
           0,
           0.00018913298845291138,
           0,
           0.00034091994166374207,
           0.00240909680724144,
           0,
           0.00004380568861961365,
           0,
           0,
           0
          ],
          [
           0,
           0,
           0,
           0.0006815455853939056,
           0,
           0,
           0.001040477305650711,
           0,
           0,
           0,
           0,
           0
          ],
          [
           0,
           0,
           0.0015276819467544556,
           0,
           0,
           0.00003846362233161926,
           0,
           0,
           0,
           0.0007781982421875,
           0.004844211041927338,
           0
          ],
          [
           0,
           0.0006363093852996826,
           0,
           0,
           0.00046908482909202576,
           0.002691127359867096,
           0,
           0.0019260048866271973,
           0,
           0,
           0,
           0.002903163433074951
          ],
          [
           0,
           0,
           0.0016964562237262726,
           0,
           0,
           0.000716865062713623,
           0,
           0.027493271976709366,
           0.0004797317087650299,
           0.000021949410438537598,
           0,
           0
          ],
          [
           0,
           0.0007013790309429169,
           0.0013736337423324585,
           0,
           0.0007059462368488312,
           0,
           0,
           0.0026686973869800568,
           0.011152375489473343,
           0.0010078176856040955,
           0.009285777807235718,
           0
          ]
         ]
        }
       ],
       "layout": {
        "coloraxis": {
         "cmid": 0,
         "colorbar": {
          "title": {
           "text": "Change in <br>overconfidence<br>metric"
          }
         },
         "colorscale": [
          [
           0,
           "rgb(103,0,31)"
          ],
          [
           0.1,
           "rgb(178,24,43)"
          ],
          [
           0.2,
           "rgb(214,96,77)"
          ],
          [
           0.3,
           "rgb(244,165,130)"
          ],
          [
           0.4,
           "rgb(253,219,199)"
          ],
          [
           0.5,
           "rgb(247,247,247)"
          ],
          [
           0.6,
           "rgb(209,229,240)"
          ],
          [
           0.7,
           "rgb(146,197,222)"
          ],
          [
           0.8,
           "rgb(67,147,195)"
          ],
          [
           0.9,
           "rgb(33,102,172)"
          ],
          [
           1,
           "rgb(5,48,97)"
          ]
         ]
        },
        "height": 600,
        "modebar": {
         "add": [
          "drawline",
          "drawopenpath",
          "drawclosedpath",
          "drawcircle",
          "drawrect",
          "eraseshape"
         ]
        },
        "template": {
         "data": {
          "bar": [
           {
            "error_x": {
             "color": "#2a3f5f"
            },
            "error_y": {
             "color": "#2a3f5f"
            },
            "marker": {
             "line": {
              "color": "#E5ECF6",
              "width": 0.5
             },
             "pattern": {
              "fillmode": "overlay",
              "size": 10,
              "solidity": 0.2
             }
            },
            "type": "bar"
           }
          ],
          "barpolar": [
           {
            "marker": {
             "line": {
              "color": "#E5ECF6",
              "width": 0.5
             },
             "pattern": {
              "fillmode": "overlay",
              "size": 10,
              "solidity": 0.2
             }
            },
            "type": "barpolar"
           }
          ],
          "carpet": [
           {
            "aaxis": {
             "endlinecolor": "#2a3f5f",
             "gridcolor": "white",
             "linecolor": "white",
             "minorgridcolor": "white",
             "startlinecolor": "#2a3f5f"
            },
            "baxis": {
             "endlinecolor": "#2a3f5f",
             "gridcolor": "white",
             "linecolor": "white",
             "minorgridcolor": "white",
             "startlinecolor": "#2a3f5f"
            },
            "type": "carpet"
           }
          ],
          "choropleth": [
           {
            "colorbar": {
             "outlinewidth": 0,
             "ticks": ""
            },
            "type": "choropleth"
           }
          ],
          "contour": [
           {
            "colorbar": {
             "outlinewidth": 0,
             "ticks": ""
            },
            "colorscale": [
             [
              0,
              "#0d0887"
             ],
             [
              0.1111111111111111,
              "#46039f"
             ],
             [
              0.2222222222222222,
              "#7201a8"
             ],
             [
              0.3333333333333333,
              "#9c179e"
             ],
             [
              0.4444444444444444,
              "#bd3786"
             ],
             [
              0.5555555555555556,
              "#d8576b"
             ],
             [
              0.6666666666666666,
              "#ed7953"
             ],
             [
              0.7777777777777778,
              "#fb9f3a"
             ],
             [
              0.8888888888888888,
              "#fdca26"
             ],
             [
              1,
              "#f0f921"
             ]
            ],
            "type": "contour"
           }
          ],
          "contourcarpet": [
           {
            "colorbar": {
             "outlinewidth": 0,
             "ticks": ""
            },
            "type": "contourcarpet"
           }
          ],
          "heatmap": [
           {
            "colorbar": {
             "outlinewidth": 0,
             "ticks": ""
            },
            "colorscale": [
             [
              0,
              "#0d0887"
             ],
             [
              0.1111111111111111,
              "#46039f"
             ],
             [
              0.2222222222222222,
              "#7201a8"
             ],
             [
              0.3333333333333333,
              "#9c179e"
             ],
             [
              0.4444444444444444,
              "#bd3786"
             ],
             [
              0.5555555555555556,
              "#d8576b"
             ],
             [
              0.6666666666666666,
              "#ed7953"
             ],
             [
              0.7777777777777778,
              "#fb9f3a"
             ],
             [
              0.8888888888888888,
              "#fdca26"
             ],
             [
              1,
              "#f0f921"
             ]
            ],
            "type": "heatmap"
           }
          ],
          "heatmapgl": [
           {
            "colorbar": {
             "outlinewidth": 0,
             "ticks": ""
            },
            "colorscale": [
             [
              0,
              "#0d0887"
             ],
             [
              0.1111111111111111,
              "#46039f"
             ],
             [
              0.2222222222222222,
              "#7201a8"
             ],
             [
              0.3333333333333333,
              "#9c179e"
             ],
             [
              0.4444444444444444,
              "#bd3786"
             ],
             [
              0.5555555555555556,
              "#d8576b"
             ],
             [
              0.6666666666666666,
              "#ed7953"
             ],
             [
              0.7777777777777778,
              "#fb9f3a"
             ],
             [
              0.8888888888888888,
              "#fdca26"
             ],
             [
              1,
              "#f0f921"
             ]
            ],
            "type": "heatmapgl"
           }
          ],
          "histogram": [
           {
            "marker": {
             "pattern": {
              "fillmode": "overlay",
              "size": 10,
              "solidity": 0.2
             }
            },
            "type": "histogram"
           }
          ],
          "histogram2d": [
           {
            "colorbar": {
             "outlinewidth": 0,
             "ticks": ""
            },
            "colorscale": [
             [
              0,
              "#0d0887"
             ],
             [
              0.1111111111111111,
              "#46039f"
             ],
             [
              0.2222222222222222,
              "#7201a8"
             ],
             [
              0.3333333333333333,
              "#9c179e"
             ],
             [
              0.4444444444444444,
              "#bd3786"
             ],
             [
              0.5555555555555556,
              "#d8576b"
             ],
             [
              0.6666666666666666,
              "#ed7953"
             ],
             [
              0.7777777777777778,
              "#fb9f3a"
             ],
             [
              0.8888888888888888,
              "#fdca26"
             ],
             [
              1,
              "#f0f921"
             ]
            ],
            "type": "histogram2d"
           }
          ],
          "histogram2dcontour": [
           {
            "colorbar": {
             "outlinewidth": 0,
             "ticks": ""
            },
            "colorscale": [
             [
              0,
              "#0d0887"
             ],
             [
              0.1111111111111111,
              "#46039f"
             ],
             [
              0.2222222222222222,
              "#7201a8"
             ],
             [
              0.3333333333333333,
              "#9c179e"
             ],
             [
              0.4444444444444444,
              "#bd3786"
             ],
             [
              0.5555555555555556,
              "#d8576b"
             ],
             [
              0.6666666666666666,
              "#ed7953"
             ],
             [
              0.7777777777777778,
              "#fb9f3a"
             ],
             [
              0.8888888888888888,
              "#fdca26"
             ],
             [
              1,
              "#f0f921"
             ]
            ],
            "type": "histogram2dcontour"
           }
          ],
          "mesh3d": [
           {
            "colorbar": {
             "outlinewidth": 0,
             "ticks": ""
            },
            "type": "mesh3d"
           }
          ],
          "parcoords": [
           {
            "line": {
             "colorbar": {
              "outlinewidth": 0,
              "ticks": ""
             }
            },
            "type": "parcoords"
           }
          ],
          "pie": [
           {
            "automargin": true,
            "type": "pie"
           }
          ],
          "scatter": [
           {
            "fillpattern": {
             "fillmode": "overlay",
             "size": 10,
             "solidity": 0.2
            },
            "type": "scatter"
           }
          ],
          "scatter3d": [
           {
            "line": {
             "colorbar": {
              "outlinewidth": 0,
              "ticks": ""
             }
            },
            "marker": {
             "colorbar": {
              "outlinewidth": 0,
              "ticks": ""
             }
            },
            "type": "scatter3d"
           }
          ],
          "scattercarpet": [
           {
            "marker": {
             "colorbar": {
              "outlinewidth": 0,
              "ticks": ""
             }
            },
            "type": "scattercarpet"
           }
          ],
          "scattergeo": [
           {
            "marker": {
             "colorbar": {
              "outlinewidth": 0,
              "ticks": ""
             }
            },
            "type": "scattergeo"
           }
          ],
          "scattergl": [
           {
            "marker": {
             "colorbar": {
              "outlinewidth": 0,
              "ticks": ""
             }
            },
            "type": "scattergl"
           }
          ],
          "scattermapbox": [
           {
            "marker": {
             "colorbar": {
              "outlinewidth": 0,
              "ticks": ""
             }
            },
            "type": "scattermapbox"
           }
          ],
          "scatterpolar": [
           {
            "marker": {
             "colorbar": {
              "outlinewidth": 0,
              "ticks": ""
             }
            },
            "type": "scatterpolar"
           }
          ],
          "scatterpolargl": [
           {
            "marker": {
             "colorbar": {
              "outlinewidth": 0,
              "ticks": ""
             }
            },
            "type": "scatterpolargl"
           }
          ],
          "scatterternary": [
           {
            "marker": {
             "colorbar": {
              "outlinewidth": 0,
              "ticks": ""
             }
            },
            "type": "scatterternary"
           }
          ],
          "surface": [
           {
            "colorbar": {
             "outlinewidth": 0,
             "ticks": ""
            },
            "colorscale": [
             [
              0,
              "#0d0887"
             ],
             [
              0.1111111111111111,
              "#46039f"
             ],
             [
              0.2222222222222222,
              "#7201a8"
             ],
             [
              0.3333333333333333,
              "#9c179e"
             ],
             [
              0.4444444444444444,
              "#bd3786"
             ],
             [
              0.5555555555555556,
              "#d8576b"
             ],
             [
              0.6666666666666666,
              "#ed7953"
             ],
             [
              0.7777777777777778,
              "#fb9f3a"
             ],
             [
              0.8888888888888888,
              "#fdca26"
             ],
             [
              1,
              "#f0f921"
             ]
            ],
            "type": "surface"
           }
          ],
          "table": [
           {
            "cells": {
             "fill": {
              "color": "#EBF0F8"
             },
             "line": {
              "color": "white"
             }
            },
            "header": {
             "fill": {
              "color": "#C8D4E3"
             },
             "line": {
              "color": "white"
             }
            },
            "type": "table"
           }
          ]
         },
         "layout": {
          "annotationdefaults": {
           "arrowcolor": "#2a3f5f",
           "arrowhead": 0,
           "arrowwidth": 1
          },
          "autotypenumbers": "strict",
          "coloraxis": {
           "colorbar": {
            "outlinewidth": 0,
            "ticks": ""
           }
          },
          "colorscale": {
           "diverging": [
            [
             0,
             "#8e0152"
            ],
            [
             0.1,
             "#c51b7d"
            ],
            [
             0.2,
             "#de77ae"
            ],
            [
             0.3,
             "#f1b6da"
            ],
            [
             0.4,
             "#fde0ef"
            ],
            [
             0.5,
             "#f7f7f7"
            ],
            [
             0.6,
             "#e6f5d0"
            ],
            [
             0.7,
             "#b8e186"
            ],
            [
             0.8,
             "#7fbc41"
            ],
            [
             0.9,
             "#4d9221"
            ],
            [
             1,
             "#276419"
            ]
           ],
           "sequential": [
            [
             0,
             "#0d0887"
            ],
            [
             0.1111111111111111,
             "#46039f"
            ],
            [
             0.2222222222222222,
             "#7201a8"
            ],
            [
             0.3333333333333333,
             "#9c179e"
            ],
            [
             0.4444444444444444,
             "#bd3786"
            ],
            [
             0.5555555555555556,
             "#d8576b"
            ],
            [
             0.6666666666666666,
             "#ed7953"
            ],
            [
             0.7777777777777778,
             "#fb9f3a"
            ],
            [
             0.8888888888888888,
             "#fdca26"
            ],
            [
             1,
             "#f0f921"
            ]
           ],
           "sequentialminus": [
            [
             0,
             "#0d0887"
            ],
            [
             0.1111111111111111,
             "#46039f"
            ],
            [
             0.2222222222222222,
             "#7201a8"
            ],
            [
             0.3333333333333333,
             "#9c179e"
            ],
            [
             0.4444444444444444,
             "#bd3786"
            ],
            [
             0.5555555555555556,
             "#d8576b"
            ],
            [
             0.6666666666666666,
             "#ed7953"
            ],
            [
             0.7777777777777778,
             "#fb9f3a"
            ],
            [
             0.8888888888888888,
             "#fdca26"
            ],
            [
             1,
             "#f0f921"
            ]
           ]
          },
          "colorway": [
           "#636efa",
           "#EF553B",
           "#00cc96",
           "#ab63fa",
           "#FFA15A",
           "#19d3f3",
           "#FF6692",
           "#B6E880",
           "#FF97FF",
           "#FECB52"
          ],
          "font": {
           "color": "#2a3f5f"
          },
          "geo": {
           "bgcolor": "white",
           "lakecolor": "white",
           "landcolor": "#E5ECF6",
           "showlakes": true,
           "showland": true,
           "subunitcolor": "white"
          },
          "hoverlabel": {
           "align": "left"
          },
          "hovermode": "closest",
          "mapbox": {
           "style": "light"
          },
          "paper_bgcolor": "white",
          "plot_bgcolor": "#E5ECF6",
          "polar": {
           "angularaxis": {
            "gridcolor": "white",
            "linecolor": "white",
            "ticks": ""
           },
           "bgcolor": "#E5ECF6",
           "radialaxis": {
            "gridcolor": "white",
            "linecolor": "white",
            "ticks": ""
           }
          },
          "scene": {
           "xaxis": {
            "backgroundcolor": "#E5ECF6",
            "gridcolor": "white",
            "gridwidth": 2,
            "linecolor": "white",
            "showbackground": true,
            "ticks": "",
            "zerolinecolor": "white"
           },
           "yaxis": {
            "backgroundcolor": "#E5ECF6",
            "gridcolor": "white",
            "gridwidth": 2,
            "linecolor": "white",
            "showbackground": true,
            "ticks": "",
            "zerolinecolor": "white"
           },
           "zaxis": {
            "backgroundcolor": "#E5ECF6",
            "gridcolor": "white",
            "gridwidth": 2,
            "linecolor": "white",
            "showbackground": true,
            "ticks": "",
            "zerolinecolor": "white"
           }
          },
          "shapedefaults": {
           "line": {
            "color": "#2a3f5f"
           }
          },
          "ternary": {
           "aaxis": {
            "gridcolor": "white",
            "linecolor": "white",
            "ticks": ""
           },
           "baxis": {
            "gridcolor": "white",
            "linecolor": "white",
            "ticks": ""
           },
           "bgcolor": "#E5ECF6",
           "caxis": {
            "gridcolor": "white",
            "linecolor": "white",
            "ticks": ""
           }
          },
          "title": {
           "x": 0.05
          },
          "xaxis": {
           "automargin": true,
           "gridcolor": "white",
           "linecolor": "white",
           "ticks": "",
           "title": {
            "standoff": 15
           },
           "zerolinecolor": "white",
           "zerolinewidth": 2
          },
          "yaxis": {
           "automargin": true,
           "gridcolor": "white",
           "linecolor": "white",
           "ticks": "",
           "title": {
            "standoff": 15
           },
           "zerolinecolor": "white",
           "zerolinewidth": 2
          }
         }
        },
        "title": {
         "text": "Change in overconfidence metric from removing direct effect<br>Baseline (no ablation) = 0.0430"
        },
        "width": 600,
        "xaxis": {
         "anchor": "y",
         "constrain": "domain",
         "domain": [
          0,
          1
         ],
         "scaleanchor": "y",
         "title": {
          "text": "Head"
         }
        },
        "yaxis": {
         "anchor": "x",
         "autorange": "reversed",
         "constrain": "domain",
         "domain": [
          0,
          1
         ],
         "title": {
          "text": "Layer"
         }
        }
       }
      },
      "text/html": [
       "<div>                            <div id=\"025115cc-236f-428d-ab3e-61ced141a83f\" class=\"plotly-graph-div\" style=\"height:600px; width:600px;\"></div>            <script type=\"text/javascript\">                require([\"plotly\"], function(Plotly) {                    window.PLOTLYENV=window.PLOTLYENV || {};                                    if (document.getElementById(\"025115cc-236f-428d-ab3e-61ced141a83f\")) {                    Plotly.newPlot(                        \"025115cc-236f-428d-ab3e-61ced141a83f\",                        [{\"coloraxis\":\"coloraxis\",\"name\":\"0\",\"z\":[[0.0006720051169395447,-0.0,-0.0,-0.0,-0.0,-0.0,0.003314908593893051,-0.0,-0.0,-0.0,0.0005137734115123749,-0.0],[-0.0,-0.0,-0.0,0.0012008212506771088,0.00011336803436279297,-0.0,0.0010514892637729645,-0.0,0.0012461766600608826,0.0008849464356899261,-0.0,0.00046892091631889343],[-0.0,-0.0,0.0002095922827720642,0.0002628415822982788,0.0001828223466873169,0.0007954537868499756,-0.0,0.0013531036674976349,0.0010415315628051758,-0.0,0.0006085820496082306,0.001460634171962738],[2.9183924198150635e-05,-0.0,-0.0,-0.0,-0.0,0.00025309622287750244,-0.0,-0.0,-0.0,-0.0,0.0005478113889694214,0.00041765347123146057],[-0.0,-0.0,0.0005364865064620972,-0.0,0.00039270520210266113,-0.0,0.000798545777797699,-0.0,-0.0,0.000639691948890686,0.00017327815294265747,-0.0],[-0.0,-0.0,-0.0,-0.0,-0.0,-0.0,-0.0,-0.0,0.00027354806661605835,0.0014374777674674988,0.0009462051093578339,-0.0],[-0.0,-0.0,-0.0,0.00018913298845291138,-0.0,0.00034091994166374207,0.00240909680724144,-0.0,4.380568861961365e-05,-0.0,-0.0,-0.0],[-0.0,-0.0,-0.0,0.0006815455853939056,-0.0,-0.0,0.001040477305650711,-0.0,-0.0,-0.0,-0.0,-0.0],[-0.0,-0.0,0.0015276819467544556,-0.0,-0.0,3.846362233161926e-05,-0.0,-0.0,-0.0,0.0007781982421875,0.004844211041927338,-0.0],[-0.0,0.0006363093852996826,-0.0,-0.0,0.00046908482909202576,0.002691127359867096,-0.0,0.0019260048866271973,-0.0,-0.0,-0.0,0.002903163433074951],[-0.0,-0.0,0.0016964562237262726,-0.0,-0.0,0.000716865062713623,-0.0,0.027493271976709366,0.0004797317087650299,2.1949410438537598e-05,-0.0,-0.0],[-0.0,0.0007013790309429169,0.0013736337423324585,-0.0,0.0007059462368488312,-0.0,-0.0,0.0026686973869800568,0.011152375489473343,0.0010078176856040955,0.009285777807235718,-0.0]],\"type\":\"heatmap\",\"xaxis\":\"x\",\"yaxis\":\"y\",\"hovertemplate\":\"Head: %{x}\\u003cbr\\u003eLayer: %{y}\\u003cbr\\u003eChange in \\u003cbr\\u003eoverconfidence\\u003cbr\\u003emetric: %{z}\\u003cextra\\u003e\\u003c\\u002fextra\\u003e\"}],                        {\"template\":{\"data\":{\"histogram2dcontour\":[{\"type\":\"histogram2dcontour\",\"colorbar\":{\"outlinewidth\":0,\"ticks\":\"\"},\"colorscale\":[[0.0,\"#0d0887\"],[0.1111111111111111,\"#46039f\"],[0.2222222222222222,\"#7201a8\"],[0.3333333333333333,\"#9c179e\"],[0.4444444444444444,\"#bd3786\"],[0.5555555555555556,\"#d8576b\"],[0.6666666666666666,\"#ed7953\"],[0.7777777777777778,\"#fb9f3a\"],[0.8888888888888888,\"#fdca26\"],[1.0,\"#f0f921\"]]}],\"choropleth\":[{\"type\":\"choropleth\",\"colorbar\":{\"outlinewidth\":0,\"ticks\":\"\"}}],\"histogram2d\":[{\"type\":\"histogram2d\",\"colorbar\":{\"outlinewidth\":0,\"ticks\":\"\"},\"colorscale\":[[0.0,\"#0d0887\"],[0.1111111111111111,\"#46039f\"],[0.2222222222222222,\"#7201a8\"],[0.3333333333333333,\"#9c179e\"],[0.4444444444444444,\"#bd3786\"],[0.5555555555555556,\"#d8576b\"],[0.6666666666666666,\"#ed7953\"],[0.7777777777777778,\"#fb9f3a\"],[0.8888888888888888,\"#fdca26\"],[1.0,\"#f0f921\"]]}],\"heatmap\":[{\"type\":\"heatmap\",\"colorbar\":{\"outlinewidth\":0,\"ticks\":\"\"},\"colorscale\":[[0.0,\"#0d0887\"],[0.1111111111111111,\"#46039f\"],[0.2222222222222222,\"#7201a8\"],[0.3333333333333333,\"#9c179e\"],[0.4444444444444444,\"#bd3786\"],[0.5555555555555556,\"#d8576b\"],[0.6666666666666666,\"#ed7953\"],[0.7777777777777778,\"#fb9f3a\"],[0.8888888888888888,\"#fdca26\"],[1.0,\"#f0f921\"]]}],\"heatmapgl\":[{\"type\":\"heatmapgl\",\"colorbar\":{\"outlinewidth\":0,\"ticks\":\"\"},\"colorscale\":[[0.0,\"#0d0887\"],[0.1111111111111111,\"#46039f\"],[0.2222222222222222,\"#7201a8\"],[0.3333333333333333,\"#9c179e\"],[0.4444444444444444,\"#bd3786\"],[0.5555555555555556,\"#d8576b\"],[0.6666666666666666,\"#ed7953\"],[0.7777777777777778,\"#fb9f3a\"],[0.8888888888888888,\"#fdca26\"],[1.0,\"#f0f921\"]]}],\"contourcarpet\":[{\"type\":\"contourcarpet\",\"colorbar\":{\"outlinewidth\":0,\"ticks\":\"\"}}],\"contour\":[{\"type\":\"contour\",\"colorbar\":{\"outlinewidth\":0,\"ticks\":\"\"},\"colorscale\":[[0.0,\"#0d0887\"],[0.1111111111111111,\"#46039f\"],[0.2222222222222222,\"#7201a8\"],[0.3333333333333333,\"#9c179e\"],[0.4444444444444444,\"#bd3786\"],[0.5555555555555556,\"#d8576b\"],[0.6666666666666666,\"#ed7953\"],[0.7777777777777778,\"#fb9f3a\"],[0.8888888888888888,\"#fdca26\"],[1.0,\"#f0f921\"]]}],\"surface\":[{\"type\":\"surface\",\"colorbar\":{\"outlinewidth\":0,\"ticks\":\"\"},\"colorscale\":[[0.0,\"#0d0887\"],[0.1111111111111111,\"#46039f\"],[0.2222222222222222,\"#7201a8\"],[0.3333333333333333,\"#9c179e\"],[0.4444444444444444,\"#bd3786\"],[0.5555555555555556,\"#d8576b\"],[0.6666666666666666,\"#ed7953\"],[0.7777777777777778,\"#fb9f3a\"],[0.8888888888888888,\"#fdca26\"],[1.0,\"#f0f921\"]]}],\"mesh3d\":[{\"type\":\"mesh3d\",\"colorbar\":{\"outlinewidth\":0,\"ticks\":\"\"}}],\"scatter\":[{\"fillpattern\":{\"fillmode\":\"overlay\",\"size\":10,\"solidity\":0.2},\"type\":\"scatter\"}],\"parcoords\":[{\"type\":\"parcoords\",\"line\":{\"colorbar\":{\"outlinewidth\":0,\"ticks\":\"\"}}}],\"scatterpolargl\":[{\"type\":\"scatterpolargl\",\"marker\":{\"colorbar\":{\"outlinewidth\":0,\"ticks\":\"\"}}}],\"bar\":[{\"error_x\":{\"color\":\"#2a3f5f\"},\"error_y\":{\"color\":\"#2a3f5f\"},\"marker\":{\"line\":{\"color\":\"#E5ECF6\",\"width\":0.5},\"pattern\":{\"fillmode\":\"overlay\",\"size\":10,\"solidity\":0.2}},\"type\":\"bar\"}],\"scattergeo\":[{\"type\":\"scattergeo\",\"marker\":{\"colorbar\":{\"outlinewidth\":0,\"ticks\":\"\"}}}],\"scatterpolar\":[{\"type\":\"scatterpolar\",\"marker\":{\"colorbar\":{\"outlinewidth\":0,\"ticks\":\"\"}}}],\"histogram\":[{\"marker\":{\"pattern\":{\"fillmode\":\"overlay\",\"size\":10,\"solidity\":0.2}},\"type\":\"histogram\"}],\"scattergl\":[{\"type\":\"scattergl\",\"marker\":{\"colorbar\":{\"outlinewidth\":0,\"ticks\":\"\"}}}],\"scatter3d\":[{\"type\":\"scatter3d\",\"line\":{\"colorbar\":{\"outlinewidth\":0,\"ticks\":\"\"}},\"marker\":{\"colorbar\":{\"outlinewidth\":0,\"ticks\":\"\"}}}],\"scattermapbox\":[{\"type\":\"scattermapbox\",\"marker\":{\"colorbar\":{\"outlinewidth\":0,\"ticks\":\"\"}}}],\"scatterternary\":[{\"type\":\"scatterternary\",\"marker\":{\"colorbar\":{\"outlinewidth\":0,\"ticks\":\"\"}}}],\"scattercarpet\":[{\"type\":\"scattercarpet\",\"marker\":{\"colorbar\":{\"outlinewidth\":0,\"ticks\":\"\"}}}],\"carpet\":[{\"aaxis\":{\"endlinecolor\":\"#2a3f5f\",\"gridcolor\":\"white\",\"linecolor\":\"white\",\"minorgridcolor\":\"white\",\"startlinecolor\":\"#2a3f5f\"},\"baxis\":{\"endlinecolor\":\"#2a3f5f\",\"gridcolor\":\"white\",\"linecolor\":\"white\",\"minorgridcolor\":\"white\",\"startlinecolor\":\"#2a3f5f\"},\"type\":\"carpet\"}],\"table\":[{\"cells\":{\"fill\":{\"color\":\"#EBF0F8\"},\"line\":{\"color\":\"white\"}},\"header\":{\"fill\":{\"color\":\"#C8D4E3\"},\"line\":{\"color\":\"white\"}},\"type\":\"table\"}],\"barpolar\":[{\"marker\":{\"line\":{\"color\":\"#E5ECF6\",\"width\":0.5},\"pattern\":{\"fillmode\":\"overlay\",\"size\":10,\"solidity\":0.2}},\"type\":\"barpolar\"}],\"pie\":[{\"automargin\":true,\"type\":\"pie\"}]},\"layout\":{\"autotypenumbers\":\"strict\",\"colorway\":[\"#636efa\",\"#EF553B\",\"#00cc96\",\"#ab63fa\",\"#FFA15A\",\"#19d3f3\",\"#FF6692\",\"#B6E880\",\"#FF97FF\",\"#FECB52\"],\"font\":{\"color\":\"#2a3f5f\"},\"hovermode\":\"closest\",\"hoverlabel\":{\"align\":\"left\"},\"paper_bgcolor\":\"white\",\"plot_bgcolor\":\"#E5ECF6\",\"polar\":{\"bgcolor\":\"#E5ECF6\",\"angularaxis\":{\"gridcolor\":\"white\",\"linecolor\":\"white\",\"ticks\":\"\"},\"radialaxis\":{\"gridcolor\":\"white\",\"linecolor\":\"white\",\"ticks\":\"\"}},\"ternary\":{\"bgcolor\":\"#E5ECF6\",\"aaxis\":{\"gridcolor\":\"white\",\"linecolor\":\"white\",\"ticks\":\"\"},\"baxis\":{\"gridcolor\":\"white\",\"linecolor\":\"white\",\"ticks\":\"\"},\"caxis\":{\"gridcolor\":\"white\",\"linecolor\":\"white\",\"ticks\":\"\"}},\"coloraxis\":{\"colorbar\":{\"outlinewidth\":0,\"ticks\":\"\"}},\"colorscale\":{\"sequential\":[[0.0,\"#0d0887\"],[0.1111111111111111,\"#46039f\"],[0.2222222222222222,\"#7201a8\"],[0.3333333333333333,\"#9c179e\"],[0.4444444444444444,\"#bd3786\"],[0.5555555555555556,\"#d8576b\"],[0.6666666666666666,\"#ed7953\"],[0.7777777777777778,\"#fb9f3a\"],[0.8888888888888888,\"#fdca26\"],[1.0,\"#f0f921\"]],\"sequentialminus\":[[0.0,\"#0d0887\"],[0.1111111111111111,\"#46039f\"],[0.2222222222222222,\"#7201a8\"],[0.3333333333333333,\"#9c179e\"],[0.4444444444444444,\"#bd3786\"],[0.5555555555555556,\"#d8576b\"],[0.6666666666666666,\"#ed7953\"],[0.7777777777777778,\"#fb9f3a\"],[0.8888888888888888,\"#fdca26\"],[1.0,\"#f0f921\"]],\"diverging\":[[0,\"#8e0152\"],[0.1,\"#c51b7d\"],[0.2,\"#de77ae\"],[0.3,\"#f1b6da\"],[0.4,\"#fde0ef\"],[0.5,\"#f7f7f7\"],[0.6,\"#e6f5d0\"],[0.7,\"#b8e186\"],[0.8,\"#7fbc41\"],[0.9,\"#4d9221\"],[1,\"#276419\"]]},\"xaxis\":{\"gridcolor\":\"white\",\"linecolor\":\"white\",\"ticks\":\"\",\"title\":{\"standoff\":15},\"zerolinecolor\":\"white\",\"automargin\":true,\"zerolinewidth\":2},\"yaxis\":{\"gridcolor\":\"white\",\"linecolor\":\"white\",\"ticks\":\"\",\"title\":{\"standoff\":15},\"zerolinecolor\":\"white\",\"automargin\":true,\"zerolinewidth\":2},\"scene\":{\"xaxis\":{\"backgroundcolor\":\"#E5ECF6\",\"gridcolor\":\"white\",\"linecolor\":\"white\",\"showbackground\":true,\"ticks\":\"\",\"zerolinecolor\":\"white\",\"gridwidth\":2},\"yaxis\":{\"backgroundcolor\":\"#E5ECF6\",\"gridcolor\":\"white\",\"linecolor\":\"white\",\"showbackground\":true,\"ticks\":\"\",\"zerolinecolor\":\"white\",\"gridwidth\":2},\"zaxis\":{\"backgroundcolor\":\"#E5ECF6\",\"gridcolor\":\"white\",\"linecolor\":\"white\",\"showbackground\":true,\"ticks\":\"\",\"zerolinecolor\":\"white\",\"gridwidth\":2}},\"shapedefaults\":{\"line\":{\"color\":\"#2a3f5f\"}},\"annotationdefaults\":{\"arrowcolor\":\"#2a3f5f\",\"arrowhead\":0,\"arrowwidth\":1},\"geo\":{\"bgcolor\":\"white\",\"landcolor\":\"#E5ECF6\",\"subunitcolor\":\"white\",\"showland\":true,\"showlakes\":true,\"lakecolor\":\"white\"},\"title\":{\"x\":0.05},\"mapbox\":{\"style\":\"light\"}}},\"xaxis\":{\"anchor\":\"y\",\"domain\":[0.0,1.0],\"scaleanchor\":\"y\",\"constrain\":\"domain\",\"title\":{\"text\":\"Head\"}},\"yaxis\":{\"anchor\":\"x\",\"domain\":[0.0,1.0],\"autorange\":\"reversed\",\"constrain\":\"domain\",\"title\":{\"text\":\"Layer\"}},\"coloraxis\":{\"colorbar\":{\"title\":{\"text\":\"Change in \\u003cbr\\u003eoverconfidence\\u003cbr\\u003emetric\"}},\"colorscale\":[[0.0,\"rgb(103,0,31)\"],[0.1,\"rgb(178,24,43)\"],[0.2,\"rgb(214,96,77)\"],[0.3,\"rgb(244,165,130)\"],[0.4,\"rgb(253,219,199)\"],[0.5,\"rgb(247,247,247)\"],[0.6,\"rgb(209,229,240)\"],[0.7,\"rgb(146,197,222)\"],[0.8,\"rgb(67,147,195)\"],[0.9,\"rgb(33,102,172)\"],[1.0,\"rgb(5,48,97)\"]],\"cmid\":0.0},\"title\":{\"text\":\"Change in overconfidence metric from removing direct effect\\u003cbr\\u003eBaseline (no ablation) = 0.0430\"},\"height\":600,\"width\":600,\"modebar\":{\"add\":[\"drawline\",\"drawopenpath\",\"drawclosedpath\",\"drawcircle\",\"drawrect\",\"eraseshape\"]}},                        {\"displaylogo\": false, \"responsive\": true}                    ).then(function(){\n",
       "                            \n",
       "var gd = document.getElementById('025115cc-236f-428d-ab3e-61ced141a83f');\n",
       "var x = new MutationObserver(function (mutations, observer) {{\n",
       "        var display = window.getComputedStyle(gd).display;\n",
       "        if (!display || display === 'none') {{\n",
       "            console.log([gd, 'removed!']);\n",
       "            Plotly.purge(gd);\n",
       "            observer.disconnect();\n",
       "        }}\n",
       "}});\n",
       "\n",
       "// Listen for the removal of the full notebook cells\n",
       "var notebookContainer = gd.closest('#notebook-container');\n",
       "if (notebookContainer) {{\n",
       "    x.observe(notebookContainer, {childList: true});\n",
       "}}\n",
       "\n",
       "// Listen for the clearing of the current output cell\n",
       "var outputEl = gd.closest('.output');\n",
       "if (outputEl) {{\n",
       "    x.observe(outputEl, {childList: true});\n",
       "}}\n",
       "\n",
       "                        })                };                });            </script>        </div>"
      ]
     },
     "metadata": {},
     "output_type": "display_data"
    },
    {
     "ename": "",
     "evalue": "",
     "output_type": "error",
     "traceback": [
      "\u001b[1;31mThe Kernel crashed while executing code in the the current cell or a previous cell. Please review the code in the cell(s) to identify a possible cause of the failure. Click <a href='https://aka.ms/vscodeJupyterKernelCrash'>here</a> for more info. View Jupyter <a href='command:jupyter.viewOutput'>log</a> for further details."
     ]
    }
   ],
   "source": [
    "results = t.zeros(model.cfg.n_layers, model.cfg.n_heads)\n",
    "\n",
    "overconfidence = calculate_overconfidence(accuracy_all[0])\n",
    "\n",
    "for (layer, head), accuracy in zip(head_list, accuracy_all[1:]):\n",
    "    results[layer, head] = calculate_overconfidence(accuracy) - overconfidence\n",
    "\n",
    "imshow(\n",
    "    results * (results > 0),\n",
    "    title=f\"Change in overconfidence metric from removing direct effect<br>Baseline (no ablation) = {overconfidence:.4f}\",\n",
    "    width=600,\n",
    "    height=600,\n",
    "    labels={\"x\": \"Head\", \"y\": \"Layer\", \"color\": \"Change in <br>overconfidence<br>metric\"}\n",
    ")\n",
    "\n",
    "# * todo - MLPs?"
   ]
  },
  {
   "cell_type": "code",
   "execution_count": 20,
   "metadata": {},
   "outputs": [
    {
     "data": {
      "application/vnd.plotly.v1+json": {
       "config": {
        "displaylogo": false,
        "plotlyServerURL": "https://plot.ly",
        "responsive": true
       },
       "data": [
        {
         "coloraxis": "coloraxis",
         "hovertemplate": "x: %{x}<br>y: %{y}<br>color: %{z}<extra></extra>",
         "name": "0",
         "type": "heatmap",
         "xaxis": "x",
         "yaxis": "y",
         "z": [
          [
           0,
           0,
           0,
           0,
           0,
           0,
           0.0002720355987548828,
           0,
           0,
           0,
           0,
           0
          ],
          [
           0,
           0,
           0,
           0,
           0,
           0,
           0,
           0,
           0,
           0,
           0,
           0
          ],
          [
           0,
           0,
           0,
           0,
           0,
           0,
           0,
           0,
           0,
           0,
           0,
           0
          ],
          [
           0,
           0,
           0,
           0,
           0,
           0,
           0,
           0,
           0,
           0,
           0,
           0
          ],
          [
           0,
           0,
           0,
           0,
           0,
           0,
           0,
           0,
           0,
           0,
           0,
           0
          ],
          [
           0,
           0,
           0,
           0,
           0,
           0,
           0,
           0,
           0,
           0,
           0,
           0
          ],
          [
           0,
           0,
           0,
           0,
           0,
           0,
           0,
           0,
           0,
           0,
           0,
           0
          ],
          [
           0,
           0,
           0,
           0,
           0,
           0,
           0,
           0,
           0,
           0,
           0,
           0
          ],
          [
           0,
           0,
           0.0038263797760009766,
           0,
           0,
           0,
           0,
           0,
           0,
           0,
           0.021136164665222168,
           0
          ],
          [
           0,
           0,
           0,
           0,
           0,
           0,
           0.004304409027099609,
           0.0017962455749511719,
           0,
           0,
           0,
           0
          ],
          [
           0,
           0,
           0,
           0,
           0,
           0,
           0,
           0.19053781032562256,
           0,
           0,
           0,
           0
          ],
          [
           0,
           0,
           0.006663799285888672,
           0,
           0,
           0,
           0.012184858322143555,
           0,
           0.02392256259918213,
           0,
           0.019342660903930664,
           0
          ]
         ]
        }
       ],
       "layout": {
        "coloraxis": {
         "cmid": 0,
         "colorscale": [
          [
           0,
           "rgb(103,0,31)"
          ],
          [
           0.1,
           "rgb(178,24,43)"
          ],
          [
           0.2,
           "rgb(214,96,77)"
          ],
          [
           0.3,
           "rgb(244,165,130)"
          ],
          [
           0.4,
           "rgb(253,219,199)"
          ],
          [
           0.5,
           "rgb(247,247,247)"
          ],
          [
           0.6,
           "rgb(209,229,240)"
          ],
          [
           0.7,
           "rgb(146,197,222)"
          ],
          [
           0.8,
           "rgb(67,147,195)"
          ],
          [
           0.9,
           "rgb(33,102,172)"
          ],
          [
           1,
           "rgb(5,48,97)"
          ]
         ]
        },
        "height": 600,
        "modebar": {
         "add": [
          "drawline",
          "drawopenpath",
          "drawclosedpath",
          "drawcircle",
          "drawrect",
          "eraseshape"
         ]
        },
        "template": {
         "data": {
          "bar": [
           {
            "error_x": {
             "color": "#2a3f5f"
            },
            "error_y": {
             "color": "#2a3f5f"
            },
            "marker": {
             "line": {
              "color": "#E5ECF6",
              "width": 0.5
             },
             "pattern": {
              "fillmode": "overlay",
              "size": 10,
              "solidity": 0.2
             }
            },
            "type": "bar"
           }
          ],
          "barpolar": [
           {
            "marker": {
             "line": {
              "color": "#E5ECF6",
              "width": 0.5
             },
             "pattern": {
              "fillmode": "overlay",
              "size": 10,
              "solidity": 0.2
             }
            },
            "type": "barpolar"
           }
          ],
          "carpet": [
           {
            "aaxis": {
             "endlinecolor": "#2a3f5f",
             "gridcolor": "white",
             "linecolor": "white",
             "minorgridcolor": "white",
             "startlinecolor": "#2a3f5f"
            },
            "baxis": {
             "endlinecolor": "#2a3f5f",
             "gridcolor": "white",
             "linecolor": "white",
             "minorgridcolor": "white",
             "startlinecolor": "#2a3f5f"
            },
            "type": "carpet"
           }
          ],
          "choropleth": [
           {
            "colorbar": {
             "outlinewidth": 0,
             "ticks": ""
            },
            "type": "choropleth"
           }
          ],
          "contour": [
           {
            "colorbar": {
             "outlinewidth": 0,
             "ticks": ""
            },
            "colorscale": [
             [
              0,
              "#0d0887"
             ],
             [
              0.1111111111111111,
              "#46039f"
             ],
             [
              0.2222222222222222,
              "#7201a8"
             ],
             [
              0.3333333333333333,
              "#9c179e"
             ],
             [
              0.4444444444444444,
              "#bd3786"
             ],
             [
              0.5555555555555556,
              "#d8576b"
             ],
             [
              0.6666666666666666,
              "#ed7953"
             ],
             [
              0.7777777777777778,
              "#fb9f3a"
             ],
             [
              0.8888888888888888,
              "#fdca26"
             ],
             [
              1,
              "#f0f921"
             ]
            ],
            "type": "contour"
           }
          ],
          "contourcarpet": [
           {
            "colorbar": {
             "outlinewidth": 0,
             "ticks": ""
            },
            "type": "contourcarpet"
           }
          ],
          "heatmap": [
           {
            "colorbar": {
             "outlinewidth": 0,
             "ticks": ""
            },
            "colorscale": [
             [
              0,
              "#0d0887"
             ],
             [
              0.1111111111111111,
              "#46039f"
             ],
             [
              0.2222222222222222,
              "#7201a8"
             ],
             [
              0.3333333333333333,
              "#9c179e"
             ],
             [
              0.4444444444444444,
              "#bd3786"
             ],
             [
              0.5555555555555556,
              "#d8576b"
             ],
             [
              0.6666666666666666,
              "#ed7953"
             ],
             [
              0.7777777777777778,
              "#fb9f3a"
             ],
             [
              0.8888888888888888,
              "#fdca26"
             ],
             [
              1,
              "#f0f921"
             ]
            ],
            "type": "heatmap"
           }
          ],
          "heatmapgl": [
           {
            "colorbar": {
             "outlinewidth": 0,
             "ticks": ""
            },
            "colorscale": [
             [
              0,
              "#0d0887"
             ],
             [
              0.1111111111111111,
              "#46039f"
             ],
             [
              0.2222222222222222,
              "#7201a8"
             ],
             [
              0.3333333333333333,
              "#9c179e"
             ],
             [
              0.4444444444444444,
              "#bd3786"
             ],
             [
              0.5555555555555556,
              "#d8576b"
             ],
             [
              0.6666666666666666,
              "#ed7953"
             ],
             [
              0.7777777777777778,
              "#fb9f3a"
             ],
             [
              0.8888888888888888,
              "#fdca26"
             ],
             [
              1,
              "#f0f921"
             ]
            ],
            "type": "heatmapgl"
           }
          ],
          "histogram": [
           {
            "marker": {
             "pattern": {
              "fillmode": "overlay",
              "size": 10,
              "solidity": 0.2
             }
            },
            "type": "histogram"
           }
          ],
          "histogram2d": [
           {
            "colorbar": {
             "outlinewidth": 0,
             "ticks": ""
            },
            "colorscale": [
             [
              0,
              "#0d0887"
             ],
             [
              0.1111111111111111,
              "#46039f"
             ],
             [
              0.2222222222222222,
              "#7201a8"
             ],
             [
              0.3333333333333333,
              "#9c179e"
             ],
             [
              0.4444444444444444,
              "#bd3786"
             ],
             [
              0.5555555555555556,
              "#d8576b"
             ],
             [
              0.6666666666666666,
              "#ed7953"
             ],
             [
              0.7777777777777778,
              "#fb9f3a"
             ],
             [
              0.8888888888888888,
              "#fdca26"
             ],
             [
              1,
              "#f0f921"
             ]
            ],
            "type": "histogram2d"
           }
          ],
          "histogram2dcontour": [
           {
            "colorbar": {
             "outlinewidth": 0,
             "ticks": ""
            },
            "colorscale": [
             [
              0,
              "#0d0887"
             ],
             [
              0.1111111111111111,
              "#46039f"
             ],
             [
              0.2222222222222222,
              "#7201a8"
             ],
             [
              0.3333333333333333,
              "#9c179e"
             ],
             [
              0.4444444444444444,
              "#bd3786"
             ],
             [
              0.5555555555555556,
              "#d8576b"
             ],
             [
              0.6666666666666666,
              "#ed7953"
             ],
             [
              0.7777777777777778,
              "#fb9f3a"
             ],
             [
              0.8888888888888888,
              "#fdca26"
             ],
             [
              1,
              "#f0f921"
             ]
            ],
            "type": "histogram2dcontour"
           }
          ],
          "mesh3d": [
           {
            "colorbar": {
             "outlinewidth": 0,
             "ticks": ""
            },
            "type": "mesh3d"
           }
          ],
          "parcoords": [
           {
            "line": {
             "colorbar": {
              "outlinewidth": 0,
              "ticks": ""
             }
            },
            "type": "parcoords"
           }
          ],
          "pie": [
           {
            "automargin": true,
            "type": "pie"
           }
          ],
          "scatter": [
           {
            "fillpattern": {
             "fillmode": "overlay",
             "size": 10,
             "solidity": 0.2
            },
            "type": "scatter"
           }
          ],
          "scatter3d": [
           {
            "line": {
             "colorbar": {
              "outlinewidth": 0,
              "ticks": ""
             }
            },
            "marker": {
             "colorbar": {
              "outlinewidth": 0,
              "ticks": ""
             }
            },
            "type": "scatter3d"
           }
          ],
          "scattercarpet": [
           {
            "marker": {
             "colorbar": {
              "outlinewidth": 0,
              "ticks": ""
             }
            },
            "type": "scattercarpet"
           }
          ],
          "scattergeo": [
           {
            "marker": {
             "colorbar": {
              "outlinewidth": 0,
              "ticks": ""
             }
            },
            "type": "scattergeo"
           }
          ],
          "scattergl": [
           {
            "marker": {
             "colorbar": {
              "outlinewidth": 0,
              "ticks": ""
             }
            },
            "type": "scattergl"
           }
          ],
          "scattermapbox": [
           {
            "marker": {
             "colorbar": {
              "outlinewidth": 0,
              "ticks": ""
             }
            },
            "type": "scattermapbox"
           }
          ],
          "scatterpolar": [
           {
            "marker": {
             "colorbar": {
              "outlinewidth": 0,
              "ticks": ""
             }
            },
            "type": "scatterpolar"
           }
          ],
          "scatterpolargl": [
           {
            "marker": {
             "colorbar": {
              "outlinewidth": 0,
              "ticks": ""
             }
            },
            "type": "scatterpolargl"
           }
          ],
          "scatterternary": [
           {
            "marker": {
             "colorbar": {
              "outlinewidth": 0,
              "ticks": ""
             }
            },
            "type": "scatterternary"
           }
          ],
          "surface": [
           {
            "colorbar": {
             "outlinewidth": 0,
             "ticks": ""
            },
            "colorscale": [
             [
              0,
              "#0d0887"
             ],
             [
              0.1111111111111111,
              "#46039f"
             ],
             [
              0.2222222222222222,
              "#7201a8"
             ],
             [
              0.3333333333333333,
              "#9c179e"
             ],
             [
              0.4444444444444444,
              "#bd3786"
             ],
             [
              0.5555555555555556,
              "#d8576b"
             ],
             [
              0.6666666666666666,
              "#ed7953"
             ],
             [
              0.7777777777777778,
              "#fb9f3a"
             ],
             [
              0.8888888888888888,
              "#fdca26"
             ],
             [
              1,
              "#f0f921"
             ]
            ],
            "type": "surface"
           }
          ],
          "table": [
           {
            "cells": {
             "fill": {
              "color": "#EBF0F8"
             },
             "line": {
              "color": "white"
             }
            },
            "header": {
             "fill": {
              "color": "#C8D4E3"
             },
             "line": {
              "color": "white"
             }
            },
            "type": "table"
           }
          ]
         },
         "layout": {
          "annotationdefaults": {
           "arrowcolor": "#2a3f5f",
           "arrowhead": 0,
           "arrowwidth": 1
          },
          "autotypenumbers": "strict",
          "coloraxis": {
           "colorbar": {
            "outlinewidth": 0,
            "ticks": ""
           }
          },
          "colorscale": {
           "diverging": [
            [
             0,
             "#8e0152"
            ],
            [
             0.1,
             "#c51b7d"
            ],
            [
             0.2,
             "#de77ae"
            ],
            [
             0.3,
             "#f1b6da"
            ],
            [
             0.4,
             "#fde0ef"
            ],
            [
             0.5,
             "#f7f7f7"
            ],
            [
             0.6,
             "#e6f5d0"
            ],
            [
             0.7,
             "#b8e186"
            ],
            [
             0.8,
             "#7fbc41"
            ],
            [
             0.9,
             "#4d9221"
            ],
            [
             1,
             "#276419"
            ]
           ],
           "sequential": [
            [
             0,
             "#0d0887"
            ],
            [
             0.1111111111111111,
             "#46039f"
            ],
            [
             0.2222222222222222,
             "#7201a8"
            ],
            [
             0.3333333333333333,
             "#9c179e"
            ],
            [
             0.4444444444444444,
             "#bd3786"
            ],
            [
             0.5555555555555556,
             "#d8576b"
            ],
            [
             0.6666666666666666,
             "#ed7953"
            ],
            [
             0.7777777777777778,
             "#fb9f3a"
            ],
            [
             0.8888888888888888,
             "#fdca26"
            ],
            [
             1,
             "#f0f921"
            ]
           ],
           "sequentialminus": [
            [
             0,
             "#0d0887"
            ],
            [
             0.1111111111111111,
             "#46039f"
            ],
            [
             0.2222222222222222,
             "#7201a8"
            ],
            [
             0.3333333333333333,
             "#9c179e"
            ],
            [
             0.4444444444444444,
             "#bd3786"
            ],
            [
             0.5555555555555556,
             "#d8576b"
            ],
            [
             0.6666666666666666,
             "#ed7953"
            ],
            [
             0.7777777777777778,
             "#fb9f3a"
            ],
            [
             0.8888888888888888,
             "#fdca26"
            ],
            [
             1,
             "#f0f921"
            ]
           ]
          },
          "colorway": [
           "#636efa",
           "#EF553B",
           "#00cc96",
           "#ab63fa",
           "#FFA15A",
           "#19d3f3",
           "#FF6692",
           "#B6E880",
           "#FF97FF",
           "#FECB52"
          ],
          "font": {
           "color": "#2a3f5f"
          },
          "geo": {
           "bgcolor": "white",
           "lakecolor": "white",
           "landcolor": "#E5ECF6",
           "showlakes": true,
           "showland": true,
           "subunitcolor": "white"
          },
          "hoverlabel": {
           "align": "left"
          },
          "hovermode": "closest",
          "mapbox": {
           "style": "light"
          },
          "paper_bgcolor": "white",
          "plot_bgcolor": "#E5ECF6",
          "polar": {
           "angularaxis": {
            "gridcolor": "white",
            "linecolor": "white",
            "ticks": ""
           },
           "bgcolor": "#E5ECF6",
           "radialaxis": {
            "gridcolor": "white",
            "linecolor": "white",
            "ticks": ""
           }
          },
          "scene": {
           "xaxis": {
            "backgroundcolor": "#E5ECF6",
            "gridcolor": "white",
            "gridwidth": 2,
            "linecolor": "white",
            "showbackground": true,
            "ticks": "",
            "zerolinecolor": "white"
           },
           "yaxis": {
            "backgroundcolor": "#E5ECF6",
            "gridcolor": "white",
            "gridwidth": 2,
            "linecolor": "white",
            "showbackground": true,
            "ticks": "",
            "zerolinecolor": "white"
           },
           "zaxis": {
            "backgroundcolor": "#E5ECF6",
            "gridcolor": "white",
            "gridwidth": 2,
            "linecolor": "white",
            "showbackground": true,
            "ticks": "",
            "zerolinecolor": "white"
           }
          },
          "shapedefaults": {
           "line": {
            "color": "#2a3f5f"
           }
          },
          "ternary": {
           "aaxis": {
            "gridcolor": "white",
            "linecolor": "white",
            "ticks": ""
           },
           "baxis": {
            "gridcolor": "white",
            "linecolor": "white",
            "ticks": ""
           },
           "bgcolor": "#E5ECF6",
           "caxis": {
            "gridcolor": "white",
            "linecolor": "white",
            "ticks": ""
           }
          },
          "title": {
           "x": 0.05
          },
          "xaxis": {
           "automargin": true,
           "gridcolor": "white",
           "linecolor": "white",
           "ticks": "",
           "title": {
            "standoff": 15
           },
           "zerolinecolor": "white",
           "zerolinewidth": 2
          },
          "yaxis": {
           "automargin": true,
           "gridcolor": "white",
           "linecolor": "white",
           "ticks": "",
           "title": {
            "standoff": 15
           },
           "zerolinecolor": "white",
           "zerolinewidth": 2
          }
         }
        },
        "title": {
         "text": "Change in overconfidence metric from removing direct effect"
        },
        "width": 600,
        "xaxis": {
         "anchor": "y",
         "constrain": "domain",
         "domain": [
          0,
          1
         ],
         "scaleanchor": "y"
        },
        "yaxis": {
         "anchor": "x",
         "autorange": "reversed",
         "constrain": "domain",
         "domain": [
          0,
          1
         ]
        }
       }
      },
      "text/html": [
       "<div>                            <div id=\"fae6ddbd-a4ac-463f-af14-1b96a1b906de\" class=\"plotly-graph-div\" style=\"height:600px; width:600px;\"></div>            <script type=\"text/javascript\">                require([\"plotly\"], function(Plotly) {                    window.PLOTLYENV=window.PLOTLYENV || {};                                    if (document.getElementById(\"fae6ddbd-a4ac-463f-af14-1b96a1b906de\")) {                    Plotly.newPlot(                        \"fae6ddbd-a4ac-463f-af14-1b96a1b906de\",                        [{\"coloraxis\":\"coloraxis\",\"name\":\"0\",\"z\":[[-0.0,-0.0,-0.0,-0.0,-0.0,-0.0,0.0002720355987548828,-0.0,-0.0,-0.0,-0.0,-0.0],[-0.0,-0.0,-0.0,-0.0,-0.0,-0.0,-0.0,-0.0,-0.0,-0.0,-0.0,-0.0],[-0.0,-0.0,-0.0,-0.0,-0.0,-0.0,-0.0,-0.0,-0.0,-0.0,-0.0,-0.0],[-0.0,-0.0,-0.0,-0.0,-0.0,-0.0,-0.0,-0.0,-0.0,-0.0,-0.0,-0.0],[-0.0,-0.0,-0.0,-0.0,-0.0,-0.0,-0.0,-0.0,-0.0,-0.0,-0.0,-0.0],[-0.0,-0.0,-0.0,-0.0,-0.0,-0.0,-0.0,-0.0,-0.0,-0.0,-0.0,-0.0],[-0.0,-0.0,-0.0,-0.0,-0.0,-0.0,-0.0,-0.0,-0.0,-0.0,-0.0,-0.0],[-0.0,-0.0,-0.0,-0.0,-0.0,-0.0,-0.0,-0.0,-0.0,-0.0,-0.0,-0.0],[-0.0,-0.0,0.0038263797760009766,-0.0,-0.0,-0.0,-0.0,-0.0,-0.0,-0.0,0.021136164665222168,-0.0],[-0.0,-0.0,-0.0,-0.0,-0.0,-0.0,0.004304409027099609,0.0017962455749511719,-0.0,-0.0,-0.0,-0.0],[-0.0,-0.0,-0.0,-0.0,-0.0,-0.0,-0.0,0.19053781032562256,-0.0,-0.0,-0.0,-0.0],[-0.0,-0.0,0.006663799285888672,-0.0,-0.0,-0.0,0.012184858322143555,-0.0,0.02392256259918213,-0.0,0.019342660903930664,-0.0]],\"type\":\"heatmap\",\"xaxis\":\"x\",\"yaxis\":\"y\",\"hovertemplate\":\"x: %{x}\\u003cbr\\u003ey: %{y}\\u003cbr\\u003ecolor: %{z}\\u003cextra\\u003e\\u003c\\u002fextra\\u003e\"}],                        {\"template\":{\"data\":{\"histogram2dcontour\":[{\"type\":\"histogram2dcontour\",\"colorbar\":{\"outlinewidth\":0,\"ticks\":\"\"},\"colorscale\":[[0.0,\"#0d0887\"],[0.1111111111111111,\"#46039f\"],[0.2222222222222222,\"#7201a8\"],[0.3333333333333333,\"#9c179e\"],[0.4444444444444444,\"#bd3786\"],[0.5555555555555556,\"#d8576b\"],[0.6666666666666666,\"#ed7953\"],[0.7777777777777778,\"#fb9f3a\"],[0.8888888888888888,\"#fdca26\"],[1.0,\"#f0f921\"]]}],\"choropleth\":[{\"type\":\"choropleth\",\"colorbar\":{\"outlinewidth\":0,\"ticks\":\"\"}}],\"histogram2d\":[{\"type\":\"histogram2d\",\"colorbar\":{\"outlinewidth\":0,\"ticks\":\"\"},\"colorscale\":[[0.0,\"#0d0887\"],[0.1111111111111111,\"#46039f\"],[0.2222222222222222,\"#7201a8\"],[0.3333333333333333,\"#9c179e\"],[0.4444444444444444,\"#bd3786\"],[0.5555555555555556,\"#d8576b\"],[0.6666666666666666,\"#ed7953\"],[0.7777777777777778,\"#fb9f3a\"],[0.8888888888888888,\"#fdca26\"],[1.0,\"#f0f921\"]]}],\"heatmap\":[{\"type\":\"heatmap\",\"colorbar\":{\"outlinewidth\":0,\"ticks\":\"\"},\"colorscale\":[[0.0,\"#0d0887\"],[0.1111111111111111,\"#46039f\"],[0.2222222222222222,\"#7201a8\"],[0.3333333333333333,\"#9c179e\"],[0.4444444444444444,\"#bd3786\"],[0.5555555555555556,\"#d8576b\"],[0.6666666666666666,\"#ed7953\"],[0.7777777777777778,\"#fb9f3a\"],[0.8888888888888888,\"#fdca26\"],[1.0,\"#f0f921\"]]}],\"heatmapgl\":[{\"type\":\"heatmapgl\",\"colorbar\":{\"outlinewidth\":0,\"ticks\":\"\"},\"colorscale\":[[0.0,\"#0d0887\"],[0.1111111111111111,\"#46039f\"],[0.2222222222222222,\"#7201a8\"],[0.3333333333333333,\"#9c179e\"],[0.4444444444444444,\"#bd3786\"],[0.5555555555555556,\"#d8576b\"],[0.6666666666666666,\"#ed7953\"],[0.7777777777777778,\"#fb9f3a\"],[0.8888888888888888,\"#fdca26\"],[1.0,\"#f0f921\"]]}],\"contourcarpet\":[{\"type\":\"contourcarpet\",\"colorbar\":{\"outlinewidth\":0,\"ticks\":\"\"}}],\"contour\":[{\"type\":\"contour\",\"colorbar\":{\"outlinewidth\":0,\"ticks\":\"\"},\"colorscale\":[[0.0,\"#0d0887\"],[0.1111111111111111,\"#46039f\"],[0.2222222222222222,\"#7201a8\"],[0.3333333333333333,\"#9c179e\"],[0.4444444444444444,\"#bd3786\"],[0.5555555555555556,\"#d8576b\"],[0.6666666666666666,\"#ed7953\"],[0.7777777777777778,\"#fb9f3a\"],[0.8888888888888888,\"#fdca26\"],[1.0,\"#f0f921\"]]}],\"surface\":[{\"type\":\"surface\",\"colorbar\":{\"outlinewidth\":0,\"ticks\":\"\"},\"colorscale\":[[0.0,\"#0d0887\"],[0.1111111111111111,\"#46039f\"],[0.2222222222222222,\"#7201a8\"],[0.3333333333333333,\"#9c179e\"],[0.4444444444444444,\"#bd3786\"],[0.5555555555555556,\"#d8576b\"],[0.6666666666666666,\"#ed7953\"],[0.7777777777777778,\"#fb9f3a\"],[0.8888888888888888,\"#fdca26\"],[1.0,\"#f0f921\"]]}],\"mesh3d\":[{\"type\":\"mesh3d\",\"colorbar\":{\"outlinewidth\":0,\"ticks\":\"\"}}],\"scatter\":[{\"fillpattern\":{\"fillmode\":\"overlay\",\"size\":10,\"solidity\":0.2},\"type\":\"scatter\"}],\"parcoords\":[{\"type\":\"parcoords\",\"line\":{\"colorbar\":{\"outlinewidth\":0,\"ticks\":\"\"}}}],\"scatterpolargl\":[{\"type\":\"scatterpolargl\",\"marker\":{\"colorbar\":{\"outlinewidth\":0,\"ticks\":\"\"}}}],\"bar\":[{\"error_x\":{\"color\":\"#2a3f5f\"},\"error_y\":{\"color\":\"#2a3f5f\"},\"marker\":{\"line\":{\"color\":\"#E5ECF6\",\"width\":0.5},\"pattern\":{\"fillmode\":\"overlay\",\"size\":10,\"solidity\":0.2}},\"type\":\"bar\"}],\"scattergeo\":[{\"type\":\"scattergeo\",\"marker\":{\"colorbar\":{\"outlinewidth\":0,\"ticks\":\"\"}}}],\"scatterpolar\":[{\"type\":\"scatterpolar\",\"marker\":{\"colorbar\":{\"outlinewidth\":0,\"ticks\":\"\"}}}],\"histogram\":[{\"marker\":{\"pattern\":{\"fillmode\":\"overlay\",\"size\":10,\"solidity\":0.2}},\"type\":\"histogram\"}],\"scattergl\":[{\"type\":\"scattergl\",\"marker\":{\"colorbar\":{\"outlinewidth\":0,\"ticks\":\"\"}}}],\"scatter3d\":[{\"type\":\"scatter3d\",\"line\":{\"colorbar\":{\"outlinewidth\":0,\"ticks\":\"\"}},\"marker\":{\"colorbar\":{\"outlinewidth\":0,\"ticks\":\"\"}}}],\"scattermapbox\":[{\"type\":\"scattermapbox\",\"marker\":{\"colorbar\":{\"outlinewidth\":0,\"ticks\":\"\"}}}],\"scatterternary\":[{\"type\":\"scatterternary\",\"marker\":{\"colorbar\":{\"outlinewidth\":0,\"ticks\":\"\"}}}],\"scattercarpet\":[{\"type\":\"scattercarpet\",\"marker\":{\"colorbar\":{\"outlinewidth\":0,\"ticks\":\"\"}}}],\"carpet\":[{\"aaxis\":{\"endlinecolor\":\"#2a3f5f\",\"gridcolor\":\"white\",\"linecolor\":\"white\",\"minorgridcolor\":\"white\",\"startlinecolor\":\"#2a3f5f\"},\"baxis\":{\"endlinecolor\":\"#2a3f5f\",\"gridcolor\":\"white\",\"linecolor\":\"white\",\"minorgridcolor\":\"white\",\"startlinecolor\":\"#2a3f5f\"},\"type\":\"carpet\"}],\"table\":[{\"cells\":{\"fill\":{\"color\":\"#EBF0F8\"},\"line\":{\"color\":\"white\"}},\"header\":{\"fill\":{\"color\":\"#C8D4E3\"},\"line\":{\"color\":\"white\"}},\"type\":\"table\"}],\"barpolar\":[{\"marker\":{\"line\":{\"color\":\"#E5ECF6\",\"width\":0.5},\"pattern\":{\"fillmode\":\"overlay\",\"size\":10,\"solidity\":0.2}},\"type\":\"barpolar\"}],\"pie\":[{\"automargin\":true,\"type\":\"pie\"}]},\"layout\":{\"autotypenumbers\":\"strict\",\"colorway\":[\"#636efa\",\"#EF553B\",\"#00cc96\",\"#ab63fa\",\"#FFA15A\",\"#19d3f3\",\"#FF6692\",\"#B6E880\",\"#FF97FF\",\"#FECB52\"],\"font\":{\"color\":\"#2a3f5f\"},\"hovermode\":\"closest\",\"hoverlabel\":{\"align\":\"left\"},\"paper_bgcolor\":\"white\",\"plot_bgcolor\":\"#E5ECF6\",\"polar\":{\"bgcolor\":\"#E5ECF6\",\"angularaxis\":{\"gridcolor\":\"white\",\"linecolor\":\"white\",\"ticks\":\"\"},\"radialaxis\":{\"gridcolor\":\"white\",\"linecolor\":\"white\",\"ticks\":\"\"}},\"ternary\":{\"bgcolor\":\"#E5ECF6\",\"aaxis\":{\"gridcolor\":\"white\",\"linecolor\":\"white\",\"ticks\":\"\"},\"baxis\":{\"gridcolor\":\"white\",\"linecolor\":\"white\",\"ticks\":\"\"},\"caxis\":{\"gridcolor\":\"white\",\"linecolor\":\"white\",\"ticks\":\"\"}},\"coloraxis\":{\"colorbar\":{\"outlinewidth\":0,\"ticks\":\"\"}},\"colorscale\":{\"sequential\":[[0.0,\"#0d0887\"],[0.1111111111111111,\"#46039f\"],[0.2222222222222222,\"#7201a8\"],[0.3333333333333333,\"#9c179e\"],[0.4444444444444444,\"#bd3786\"],[0.5555555555555556,\"#d8576b\"],[0.6666666666666666,\"#ed7953\"],[0.7777777777777778,\"#fb9f3a\"],[0.8888888888888888,\"#fdca26\"],[1.0,\"#f0f921\"]],\"sequentialminus\":[[0.0,\"#0d0887\"],[0.1111111111111111,\"#46039f\"],[0.2222222222222222,\"#7201a8\"],[0.3333333333333333,\"#9c179e\"],[0.4444444444444444,\"#bd3786\"],[0.5555555555555556,\"#d8576b\"],[0.6666666666666666,\"#ed7953\"],[0.7777777777777778,\"#fb9f3a\"],[0.8888888888888888,\"#fdca26\"],[1.0,\"#f0f921\"]],\"diverging\":[[0,\"#8e0152\"],[0.1,\"#c51b7d\"],[0.2,\"#de77ae\"],[0.3,\"#f1b6da\"],[0.4,\"#fde0ef\"],[0.5,\"#f7f7f7\"],[0.6,\"#e6f5d0\"],[0.7,\"#b8e186\"],[0.8,\"#7fbc41\"],[0.9,\"#4d9221\"],[1,\"#276419\"]]},\"xaxis\":{\"gridcolor\":\"white\",\"linecolor\":\"white\",\"ticks\":\"\",\"title\":{\"standoff\":15},\"zerolinecolor\":\"white\",\"automargin\":true,\"zerolinewidth\":2},\"yaxis\":{\"gridcolor\":\"white\",\"linecolor\":\"white\",\"ticks\":\"\",\"title\":{\"standoff\":15},\"zerolinecolor\":\"white\",\"automargin\":true,\"zerolinewidth\":2},\"scene\":{\"xaxis\":{\"backgroundcolor\":\"#E5ECF6\",\"gridcolor\":\"white\",\"linecolor\":\"white\",\"showbackground\":true,\"ticks\":\"\",\"zerolinecolor\":\"white\",\"gridwidth\":2},\"yaxis\":{\"backgroundcolor\":\"#E5ECF6\",\"gridcolor\":\"white\",\"linecolor\":\"white\",\"showbackground\":true,\"ticks\":\"\",\"zerolinecolor\":\"white\",\"gridwidth\":2},\"zaxis\":{\"backgroundcolor\":\"#E5ECF6\",\"gridcolor\":\"white\",\"linecolor\":\"white\",\"showbackground\":true,\"ticks\":\"\",\"zerolinecolor\":\"white\",\"gridwidth\":2}},\"shapedefaults\":{\"line\":{\"color\":\"#2a3f5f\"}},\"annotationdefaults\":{\"arrowcolor\":\"#2a3f5f\",\"arrowhead\":0,\"arrowwidth\":1},\"geo\":{\"bgcolor\":\"white\",\"landcolor\":\"#E5ECF6\",\"subunitcolor\":\"white\",\"showland\":true,\"showlakes\":true,\"lakecolor\":\"white\"},\"title\":{\"x\":0.05},\"mapbox\":{\"style\":\"light\"}}},\"xaxis\":{\"anchor\":\"y\",\"domain\":[0.0,1.0],\"scaleanchor\":\"y\",\"constrain\":\"domain\"},\"yaxis\":{\"anchor\":\"x\",\"domain\":[0.0,1.0],\"autorange\":\"reversed\",\"constrain\":\"domain\"},\"coloraxis\":{\"colorscale\":[[0.0,\"rgb(103,0,31)\"],[0.1,\"rgb(178,24,43)\"],[0.2,\"rgb(214,96,77)\"],[0.3,\"rgb(244,165,130)\"],[0.4,\"rgb(253,219,199)\"],[0.5,\"rgb(247,247,247)\"],[0.6,\"rgb(209,229,240)\"],[0.7,\"rgb(146,197,222)\"],[0.8,\"rgb(67,147,195)\"],[0.9,\"rgb(33,102,172)\"],[1.0,\"rgb(5,48,97)\"]],\"cmid\":0.0},\"title\":{\"text\":\"Change in overconfidence metric from removing direct effect\"},\"height\":600,\"width\":600,\"modebar\":{\"add\":[\"drawline\",\"drawopenpath\",\"drawclosedpath\",\"drawcircle\",\"drawrect\",\"eraseshape\"]}},                        {\"displaylogo\": false, \"responsive\": true}                    ).then(function(){\n",
       "                            \n",
       "var gd = document.getElementById('fae6ddbd-a4ac-463f-af14-1b96a1b906de');\n",
       "var x = new MutationObserver(function (mutations, observer) {{\n",
       "        var display = window.getComputedStyle(gd).display;\n",
       "        if (!display || display === 'none') {{\n",
       "            console.log([gd, 'removed!']);\n",
       "            Plotly.purge(gd);\n",
       "            observer.disconnect();\n",
       "        }}\n",
       "}});\n",
       "\n",
       "// Listen for the removal of the full notebook cells\n",
       "var notebookContainer = gd.closest('#notebook-container');\n",
       "if (notebookContainer) {{\n",
       "    x.observe(notebookContainer, {childList: true});\n",
       "}}\n",
       "\n",
       "// Listen for the clearing of the current output cell\n",
       "var outputEl = gd.closest('.output');\n",
       "if (outputEl) {{\n",
       "    x.observe(outputEl, {childList: true});\n",
       "}}\n",
       "\n",
       "                        })                };                });            </script>        </div>"
      ]
     },
     "metadata": {},
     "output_type": "display_data"
    },
    {
     "ename": "",
     "evalue": "",
     "output_type": "error",
     "traceback": [
      "\u001b[1;31mThe Kernel crashed while executing code in the the current cell or a previous cell. Please review the code in the cell(s) to identify a possible cause of the failure. Click <a href='https://aka.ms/vscodeJupyterKernelCrash'>here</a> for more info. View Jupyter <a href='command:jupyter.viewOutput'>log</a> for further details."
     ]
    }
   ],
   "source": [
    "results = t.zeros(model.cfg.n_layers, model.cfg.n_heads)\n",
    "\n",
    "overconfidence = calculate_overconfidence(accuracy_all[0])\n",
    "\n",
    "for (layer, head), accuracy in zip(head_list, accuracy_all[1:]):\n",
    "    results[layer, head] = calculate_overconfidence(accuracy) / overconfidence - 1\n",
    "\n",
    "imshow(\n",
    "    results * (results > 0),\n",
    "    title=\"Change in overconfidence metric from removing direct effect\",\n",
    "    width=600,\n",
    "    height=600,\n",
    ")\n",
    "\n",
    "# * todo - MLPs?"
   ]
  },
  {
   "cell_type": "code",
   "execution_count": 14,
   "metadata": {},
   "outputs": [
    {
     "data": {
      "application/vnd.plotly.v1+json": {
       "config": {
        "plotlyServerURL": "https://plot.ly"
       },
       "data": [
        {
         "line": {
          "color": "rgb(0,100,80)"
         },
         "mode": "lines",
         "type": "scatter",
         "x": [
          0.005,
          1.005,
          2.005,
          3.005,
          4.005,
          5.005,
          6.005,
          7.005,
          8.005,
          9.005,
          10.005,
          11.005,
          12.005,
          13.005,
          14.005,
          15.005,
          16.005,
          17.005,
          18.005,
          19.005,
          20.005,
          21.005,
          22.005,
          23.005,
          24.005,
          25.005,
          26.005,
          27.005,
          28.005,
          29.005,
          30.005,
          31.005,
          32.005,
          33.005,
          34.005,
          35.005,
          36.005,
          37.005,
          38.005,
          39.005,
          40.005,
          41.005,
          42.005,
          43.005,
          44.005,
          45.005,
          46.005,
          47.005,
          48.005,
          49.005,
          50.005,
          51.005,
          52.005,
          53.005,
          54.005,
          55.005,
          56.005,
          57.005,
          58.005,
          59.005,
          60.005,
          61.005,
          62.005,
          63.005,
          64.005,
          65.005,
          66.005,
          67.005,
          68.005,
          69.005,
          70.005,
          71.005,
          72.005,
          73.005,
          74.005,
          75.005,
          76.005,
          77.005,
          78.005,
          79.005,
          80.005,
          81.005,
          82.005,
          83.005,
          84.005,
          85.005,
          86.005,
          87.005,
          88.005,
          89.005,
          90.005,
          91.005,
          92.005,
          93.005,
          94.005,
          95.005,
          96.005,
          97.005,
          98.005,
          99.005
         ],
         "y": [
          0.002508780686184764,
          0.022446688264608383,
          0.0272000003606081,
          0.03744043409824371,
          0.04523646458983421,
          0.05232974886894226,
          0.05747973546385765,
          0.06228373572230339,
          0.07614678889513016,
          0.1066252589225769,
          0.12393681704998016,
          0.12802276015281677,
          0.11093749850988388,
          0.10720562189817429,
          0.1492842584848404,
          0.19310344755649567,
          0.17171716690063477,
          0.15625,
          0.19104477763175964,
          0.22068965435028076,
          0.2247191071510315,
          0.23529411852359772,
          0.23245614767074585,
          0.25108224153518677,
          0.24444444477558136,
          0.28358209133148193,
          0.2954545319080353,
          0.2875817120075226,
          0.32679739594459534,
          0.3037036955356598,
          0.2666666805744171,
          0.2848101258277893,
          0.3384615480899811,
          0.3333333432674408,
          0.2924528419971466,
          0.2871287167072296,
          0.3861386179924011,
          0.3222222328186035,
          0.3295454680919647,
          0.37142857909202576,
          0.36781609058380127,
          0.31506848335266113,
          0.38461539149284363,
          0.44285714626312256,
          0.4736842215061188,
          0.5142857432365417,
          0.3333333432674408,
          0.3970588147640228,
          0.5625,
          0.5384615659713745,
          0.4107142984867096,
          0.5,
          0.5319148898124695,
          0.6538461446762085,
          0.5185185074806213,
          0.5799999833106995,
          0.625,
          0.5641025900840759,
          0.5151515007019043,
          0.6034482717514038,
          0.5348837375640869,
          0.71875,
          0.6600000262260437,
          0.6000000238418579,
          0.5581395626068115,
          0.7222222089767456,
          0.6470588445663452,
          0.6486486196517944,
          0.5476190447807312,
          0.6756756901741028,
          0.7333333492279053,
          0.739130437374115,
          0.7894737124443054,
          0.7599999904632568,
          0.738095223903656,
          0.7241379022598267,
          0.6285714507102966,
          0.7407407164573669,
          0.7878788113594055,
          0.9047619104385376,
          0.8095238208770752,
          0.8421052694320679,
          0.71875,
          0.8684210777282715,
          0.7586206793785095,
          0.9166666865348816,
          0.9655172228813171,
          0.7575757503509521,
          0.8928571343421936,
          0.8181818127632141,
          0.7714285850524902,
          0.8717948794364929,
          0.9117646813392639,
          0.8636363744735718,
          0.9272727370262146,
          0.9772727489471436,
          0.9482758641242981,
          0.9333333373069763,
          0.9807692170143127,
          0.9915540814399719
         ]
        },
        {
         "fill": "toself",
         "fillcolor": "rgba(0,100,80,0.2)",
         "hoverinfo": "skip",
         "line": {
          "color": "rgba(255,255,255,0)"
         },
         "showlegend": false,
         "type": "scatter",
         "x": [
          0.005,
          1.005,
          2.005,
          3.005,
          4.005,
          5.005,
          6.005,
          7.005,
          8.005,
          9.005,
          10.005,
          11.005,
          12.005,
          13.005,
          14.005,
          15.005,
          16.005,
          17.005,
          18.005,
          19.005,
          20.005,
          21.005,
          22.005,
          23.005,
          24.005,
          25.005,
          26.005,
          27.005,
          28.005,
          29.005,
          30.005,
          31.005,
          32.005,
          33.005,
          34.005,
          35.005,
          36.005,
          37.005,
          38.005,
          39.005,
          40.005,
          41.005,
          42.005,
          43.005,
          44.005,
          45.005,
          46.005,
          47.005,
          48.005,
          49.005,
          50.005,
          51.005,
          52.005,
          53.005,
          54.005,
          55.005,
          56.005,
          57.005,
          58.005,
          59.005,
          60.005,
          61.005,
          62.005,
          63.005,
          64.005,
          65.005,
          66.005,
          67.005,
          68.005,
          69.005,
          70.005,
          71.005,
          72.005,
          73.005,
          74.005,
          75.005,
          76.005,
          77.005,
          78.005,
          79.005,
          80.005,
          81.005,
          82.005,
          83.005,
          84.005,
          85.005,
          86.005,
          87.005,
          88.005,
          89.005,
          90.005,
          91.005,
          92.005,
          93.005,
          94.005,
          95.005,
          96.005,
          97.005,
          98.005,
          99.005,
          99.005,
          98.005,
          97.005,
          96.005,
          95.005,
          94.005,
          93.005,
          92.005,
          91.005,
          90.005,
          89.005,
          88.005,
          87.005,
          86.005,
          85.005,
          84.005,
          83.005,
          82.005,
          81.005,
          80.005,
          79.005,
          78.005,
          77.005,
          76.005,
          75.005,
          74.005,
          73.005,
          72.005,
          71.005,
          70.005,
          69.005,
          68.005,
          67.005,
          66.005,
          65.005,
          64.005,
          63.005,
          62.005,
          61.005,
          60.005,
          59.005,
          58.005,
          57.005,
          56.005,
          55.005,
          54.005,
          53.005,
          52.005,
          51.005,
          50.005,
          49.005,
          48.005,
          47.005,
          46.005,
          45.005,
          44.005,
          43.005,
          42.005,
          41.005,
          40.005,
          39.005,
          38.005,
          37.005,
          36.005,
          35.005,
          34.005,
          33.005,
          32.005,
          31.005,
          30.005,
          29.005,
          28.005,
          27.005,
          26.005,
          25.005,
          24.005,
          23.005,
          22.005,
          21.005,
          20.005,
          19.005,
          18.005,
          17.005,
          16.005,
          15.005,
          14.005,
          13.005,
          12.005,
          11.005,
          10.005,
          9.005,
          8.005,
          7.005,
          6.005,
          5.005,
          4.005,
          3.005,
          2.005,
          1.005,
          0.005
         ],
         "y": [
          0.004088729154318571,
          0.026518847793340683,
          0.03161587938666344,
          0.04223541170358658,
          0.050663720816373825,
          0.058433689177036285,
          0.06417199224233627,
          0.07003054022789001,
          0.08459386974573135,
          0.11605929583311081,
          0.13462260365486145,
          0.14005489647388458,
          0.12401030957698822,
          0.1215314194560051,
          0.16520680487155914,
          0.21045544743537903,
          0.19036969542503357,
          0.1765023171901703,
          0.21225973963737488,
          0.2439553588628769,
          0.2494252473115921,
          0.26102080941200256,
          0.2601112127304077,
          0.2789793014526367,
          0.27311691641807556,
          0.31432536244392395,
          0.328721284866333,
          0.32368025183677673,
          0.3632920980453491,
          0.342953622341156,
          0.3086959421634674,
          0.3217650353908539,
          0.37954074144363403,
          0.38077017664909363,
          0.3386246860027313,
          0.33474257588386536,
          0.43404269218444824,
          0.3732532858848572,
          0.3814167082309723,
          0.42985740303993225,
          0.4204452335834503,
          0.37273722887039185,
          0.4459311068058014,
          0.5021114349365234,
          0.5395089387893677,
          0.5738046169281006,
          0.4012078046798706,
          0.4576168656349182,
          0.624971866607666,
          0.6004758477210999,
          0.4775262773036957,
          0.5615180730819702,
          0.6047561764717102,
          0.7230135798454285,
          0.5862837433815002,
          0.650281548500061,
          0.6965563297271729,
          0.6432608366012573,
          0.6009234189987183,
          0.6679055690765381,
          0.6094327569007874,
          0.8047686815261841,
          0.7284653186798096,
          0.6761208176612854,
          0.6311121582984924,
          0.801450252532959,
          0.7280045747756958,
          0.7256489992141724,
          0.6192954182624817,
          0.7513661980628967,
          0.8165949583053589,
          0.8332568407058716,
          0.8619078993797302,
          0.8482666015625,
          0.8053500652313232,
          0.804003119468689,
          0.7002403140068054,
          0.8211044669151306,
          0.8593937754631042,
          0.9928568005561829,
          0.8959819078445435,
          0.931186854839325,
          0.7859193086624146,
          0.928634524345398,
          0.8258246779441833,
          0.9885389804840088,
          1.0289736986160278,
          0.8151465058326721,
          0.9531466364860535,
          0.8715459108352661,
          0.8209909796714783,
          0.9164516925811768,
          0.9569359421730042,
          0.9008015394210815,
          0.9580135941505432,
          1.008525013923645,
          0.972407341003418,
          0.9513610601425171,
          0.9926884174346924,
          0.9944530129432678,
          0.988655149936676,
          0.9688500165939331,
          0.9153056144714355,
          0.9241443872451782,
          0.9460204839706421,
          0.896531879901886,
          0.826471209526062,
          0.8665934205055237,
          0.8271380662918091,
          0.7218661904335022,
          0.7648177146911621,
          0.8325676321983337,
          0.7000049948692322,
          0.9020607471466064,
          0.8447943925857544,
          0.6914166808128357,
          0.808207631111145,
          0.6515806913375854,
          0.7530236840248108,
          0.7230657339096069,
          0.8166670203208923,
          0.7163638472557068,
          0.6603769659996033,
          0.5569025874137878,
          0.6442726850509644,
          0.6708403825759888,
          0.6717333793640137,
          0.7170395255088806,
          0.6450040340423584,
          0.6500717401504517,
          0.5999851822853088,
          0.4759426712989807,
          0.5716482400894165,
          0.5661131143569946,
          0.6429941654205322,
          0.4851669669151306,
          0.5238792300224304,
          0.5915347337722778,
          0.6327313184738159,
          0.4603347182273865,
          0.5389909744262695,
          0.4293796122074127,
          0.48494434356689453,
          0.5534436702728271,
          0.5097184181213379,
          0.45075327157974243,
          0.5846787095069885,
          0.45907360315322876,
          0.4384819567203522,
          0.3439023196697235,
          0.47644728422164917,
          0.500028133392334,
          0.33650076389312744,
          0.265458881855011,
          0.4547668397426605,
          0.4078595042228699,
          0.3836028575897217,
          0.32329967617988586,
          0.2573997378349304,
          0.3151869475841522,
          0.31299975514411926,
          0.27767422795295715,
          0.27119117975234985,
          0.338234543800354,
          0.23951485753059387,
          0.2462809979915619,
          0.28589650988578796,
          0.2973823547363281,
          0.24785523116588593,
          0.22463741898536682,
          0.2644537687301636,
          0.29030269384384155,
          0.25148317217826843,
          0.26218777894973755,
          0.2528388202190399,
          0.21577197313308716,
          0.22318516671657562,
          0.20480108261108398,
          0.20956742763519287,
          0.2000129669904709,
          0.19742394983768463,
          0.1698298156261444,
          0.1359976828098297,
          0.15306463837623596,
          0.1757514476776123,
          0.13336171209812164,
          0.09287982434034348,
          0.09786468744277954,
          0.11599061638116837,
          0.11325103789567947,
          0.097191222012043,
          0.06769970804452896,
          0.054536931216716766,
          0.05078747868537903,
          0.046225808560848236,
          0.0398092083632946,
          0.03264545649290085,
          0.022784119471907616,
          0.018374528735876083,
          0.0009288323344662786
         ]
        },
        {
         "line": {
          "color": "rgb(0,100,80)"
         },
         "mode": "lines",
         "type": "scatter",
         "x": [
          0.005,
          1.005,
          2.005,
          3.005,
          4.005,
          5.005,
          6.005,
          7.005,
          8.005,
          9.005,
          10.005,
          11.005,
          12.005,
          13.005,
          14.005,
          15.005,
          16.005,
          17.005,
          18.005,
          19.005,
          20.005,
          21.005,
          22.005,
          23.005,
          24.005,
          25.005,
          26.005,
          27.005,
          28.005,
          29.005,
          30.005,
          31.005,
          32.005,
          33.005,
          34.005,
          35.005,
          36.005,
          37.005,
          38.005,
          39.005,
          40.005,
          41.005,
          42.005,
          43.005,
          44.005,
          45.005,
          46.005,
          47.005,
          48.005,
          49.005,
          50.005,
          51.005,
          52.005,
          53.005,
          54.005,
          55.005,
          56.005,
          57.005,
          58.005,
          59.005,
          60.005,
          61.005,
          62.005,
          63.005,
          64.005,
          65.005,
          66.005,
          67.005,
          68.005,
          69.005,
          70.005,
          71.005,
          72.005,
          73.005,
          74.005,
          75.005,
          76.005,
          77.005,
          78.005,
          79.005,
          80.005,
          81.005,
          82.005,
          83.005,
          84.005,
          85.005,
          86.005,
          87.005,
          88.005,
          89.005,
          90.005,
          91.005,
          92.005,
          93.005,
          94.005,
          95.005,
          96.005,
          97.005,
          98.005,
          99.005
         ],
         "y": [
          0.002938295714557171,
          0.018583042547106743,
          0.03167062625288963,
          0.03746397793292999,
          0.04561653733253479,
          0.04712812975049019,
          0.05809731408953667,
          0.06994818896055222,
          0.08785046637058258,
          0.0937829315662384,
          0.10687022656202316,
          0.10989011079072952,
          0.10559006035327911,
          0.13745704293251038,
          0.15068493783473969,
          0.1768558919429779,
          0.16492146253585815,
          0.1948424130678177,
          0.16498316824436188,
          0.21594683825969696,
          0.2327272742986679,
          0.22142857313156128,
          0.2606837749481201,
          0.22510822117328644,
          0.16591928899288177,
          0.31282052397727966,
          0.2947976887226105,
          0.3178808093070984,
          0.31168830394744873,
          0.2291666716337204,
          0.2601625919342041,
          0.2777777910232544,
          0.3255814015865326,
          0.3181818127632141,
          0.26851850748062134,
          0.31683167815208435,
          0.30392158031463623,
          0.29885056614875793,
          0.4000000059604645,
          0.3552631437778473,
          0.32894736528396606,
          0.395061731338501,
          0.4444444477558136,
          0.29487180709838867,
          0.3870967626571655,
          0.4057970941066742,
          0.5373134613037109,
          0.421875,
          0.4264705777168274,
          0.4923076927661896,
          0.47457626461982727,
          0.4385964870452881,
          0.5806451439857483,
          0.5,
          0.4583333432674408,
          0.5600000023841858,
          0.5869565010070801,
          0.46666666865348816,
          0.4761904776096344,
          0.5526315569877625,
          0.6530612111091614,
          0.6363636255264282,
          0.6170212626457214,
          0.581818163394928,
          0.71875,
          0.5476190447807312,
          0.6818181872367859,
          0.4545454680919647,
          0.6388888955116272,
          0.6785714030265808,
          0.6842105388641357,
          0.7931034564971924,
          0.692307710647583,
          0.7241379022598267,
          0.6585366129875183,
          0.75,
          0.7777777910232544,
          0.6428571343421936,
          0.7878788113594055,
          0.875,
          0.7083333134651184,
          0.7333333492279053,
          0.8571428656578064,
          0.8333333134651184,
          0.7241379022598267,
          0.9032257795333862,
          0.7631579041481018,
          0.7857142686843872,
          0.8571428656578064,
          0.78125,
          0.800000011920929,
          0.75,
          0.8857142925262451,
          0.925000011920929,
          0.8813559412956238,
          0.957446813583374,
          0.8947368264198303,
          0.9397590160369873,
          0.9803921580314636,
          0.9917898178100586
         ]
        },
        {
         "fill": "toself",
         "fillcolor": "rgba(0,100,80,0.2)",
         "hoverinfo": "skip",
         "line": {
          "color": "rgba(255,255,255,0)"
         },
         "showlegend": false,
         "type": "scatter",
         "x": [
          0.005,
          1.005,
          2.005,
          3.005,
          4.005,
          5.005,
          6.005,
          7.005,
          8.005,
          9.005,
          10.005,
          11.005,
          12.005,
          13.005,
          14.005,
          15.005,
          16.005,
          17.005,
          18.005,
          19.005,
          20.005,
          21.005,
          22.005,
          23.005,
          24.005,
          25.005,
          26.005,
          27.005,
          28.005,
          29.005,
          30.005,
          31.005,
          32.005,
          33.005,
          34.005,
          35.005,
          36.005,
          37.005,
          38.005,
          39.005,
          40.005,
          41.005,
          42.005,
          43.005,
          44.005,
          45.005,
          46.005,
          47.005,
          48.005,
          49.005,
          50.005,
          51.005,
          52.005,
          53.005,
          54.005,
          55.005,
          56.005,
          57.005,
          58.005,
          59.005,
          60.005,
          61.005,
          62.005,
          63.005,
          64.005,
          65.005,
          66.005,
          67.005,
          68.005,
          69.005,
          70.005,
          71.005,
          72.005,
          73.005,
          74.005,
          75.005,
          76.005,
          77.005,
          78.005,
          79.005,
          80.005,
          81.005,
          82.005,
          83.005,
          84.005,
          85.005,
          86.005,
          87.005,
          88.005,
          89.005,
          90.005,
          91.005,
          92.005,
          93.005,
          94.005,
          95.005,
          96.005,
          97.005,
          98.005,
          99.005,
          99.005,
          98.005,
          97.005,
          96.005,
          95.005,
          94.005,
          93.005,
          92.005,
          91.005,
          90.005,
          89.005,
          88.005,
          87.005,
          86.005,
          85.005,
          84.005,
          83.005,
          82.005,
          81.005,
          80.005,
          79.005,
          78.005,
          77.005,
          76.005,
          75.005,
          74.005,
          73.005,
          72.005,
          71.005,
          70.005,
          69.005,
          68.005,
          67.005,
          66.005,
          65.005,
          64.005,
          63.005,
          62.005,
          61.005,
          60.005,
          59.005,
          58.005,
          57.005,
          56.005,
          55.005,
          54.005,
          53.005,
          52.005,
          51.005,
          50.005,
          49.005,
          48.005,
          47.005,
          46.005,
          45.005,
          44.005,
          43.005,
          42.005,
          41.005,
          40.005,
          39.005,
          38.005,
          37.005,
          36.005,
          35.005,
          34.005,
          33.005,
          32.005,
          31.005,
          30.005,
          29.005,
          28.005,
          27.005,
          26.005,
          25.005,
          24.005,
          23.005,
          22.005,
          21.005,
          20.005,
          19.005,
          18.005,
          17.005,
          16.005,
          15.005,
          14.005,
          13.005,
          12.005,
          11.005,
          10.005,
          9.005,
          8.005,
          7.005,
          6.005,
          5.005,
          4.005,
          3.005,
          2.005,
          1.005,
          0.005
         ],
         "y": [
          0.004499172791838646,
          0.022725539281964302,
          0.036063723266124725,
          0.04239688441157341,
          0.05115104466676712,
          0.05331466346979141,
          0.06474079191684723,
          0.0776882991194725,
          0.09637612849473953,
          0.10330109298229218,
          0.1178046241402626,
          0.12171384692192078,
          0.11862221360206604,
          0.15162193775177002,
          0.1662609577178955,
          0.19376659393310547,
          0.1839127093553543,
          0.21518158912658691,
          0.18751448392868042,
          0.23878346383571625,
          0.2570714056491852,
          0.245979905128479,
          0.2879819869995117,
          0.2530052959918976,
          0.194720059633255,
          0.3440331816673279,
          0.32835161685943604,
          0.35421761870384216,
          0.3480643033981323,
          0.267170250415802,
          0.3016761243343353,
          0.3191601634025574,
          0.36681950092315674,
          0.3631843328475952,
          0.3142608404159546,
          0.3644455373287201,
          0.35159027576446533,
          0.3507539927959442,
          0.45129165053367615,
          0.4113381505012512,
          0.3852565586566925,
          0.44980862736701965,
          0.5027033090591431,
          0.3510052263736725,
          0.45021146535873413,
          0.465745747089386,
          0.5982483625411987,
          0.4842968285083771,
          0.48707717657089233,
          0.5543219447135925,
          0.5396674871444702,
          0.5047932863235474,
          0.644065797328949,
          0.5719917416572571,
          0.5302092432975769,
          0.6302815675735474,
          0.6600518822669983,
          0.5304861068725586,
          0.5522191524505615,
          0.6322647333145142,
          0.7228970527648926,
          0.7097206115722656,
          0.6876378655433655,
          0.6467341780662537,
          0.8033400177955627,
          0.6209699511528015,
          0.7529734373092651,
          0.5251556634902954,
          0.7163082361221313,
          0.7655802369117737,
          0.7581904530525208,
          0.8769290447235107,
          0.7638072371482849,
          0.8060914278030396,
          0.7266067266464233,
          0.8312788605690002,
          0.8593764305114746,
          0.7217727899551392,
          0.8593937754631042,
          0.9574052691459656,
          0.7892074584960938,
          0.8042264580726624,
          0.9213690161705017,
          0.901101291179657,
          0.7913419008255005,
          0.9664649367332458,
          0.8185927867889404,
          0.8482142686843872,
          0.9174323678016663,
          0.835441529750824,
          0.849562406539917,
          0.7920429706573486,
          0.9302355647087097,
          0.963979184627533,
          0.9110364317893982,
          0.9876852035522461,
          0.919079065322876,
          0.9568959474563599,
          0.9924276471138,
          0.9946479797363281,
          0.9889316558837891,
          0.9683566689491272,
          0.9226220846176147,
          0.8703945875167847,
          0.927208423614502,
          0.8516754508018494,
          0.886020839214325,
          0.8411930203437805,
          0.7079570293426514,
          0.7504376173019409,
          0.727058470249176,
          0.7968533635139465,
          0.7232142686843872,
          0.7077230215072632,
          0.8399866223335266,
          0.6569339036941528,
          0.7655653357505798,
          0.7929167151451111,
          0.6624402403831482,
          0.6274591684341431,
          0.7925947308540344,
          0.7163638472557068,
          0.563941478729248,
          0.6961791515350342,
          0.6687211394309998,
          0.5904664993286133,
          0.6421843767166138,
          0.6208081841468811,
          0.709277868270874,
          0.6102306246757507,
          0.5915625691413879,
          0.561469554901123,
          0.3839353024959564,
          0.6106629371643066,
          0.4742681384086609,
          0.6341599822044373,
          0.5169021487236023,
          0.5464046597480774,
          0.5630066394805908,
          0.5832253694534302,
          0.47299835085868835,
          0.4001618027687073,
          0.4028472602367401,
          0.5138611197471619,
          0.4897184371948242,
          0.3864574432373047,
          0.4280082583427429,
          0.5172244906425476,
          0.3723996877670288,
          0.4094850718975067,
          0.4302934408187866,
          0.36586397886276245,
          0.3594531714916229,
          0.47637858986854553,
          0.3458484411239624,
          0.3239820599555969,
          0.23873838782310486,
          0.38618555665016174,
          0.3403148353099823,
          0.2726381719112396,
          0.29918813705444336,
          0.3487083613872528,
          0.24694713950157166,
          0.25625288486480713,
          0.2692178189754486,
          0.22277617454528809,
          0.273179292678833,
          0.28434330224990845,
          0.23639541864395142,
          0.21864905953407288,
          0.1911631077528,
          0.27531230449676514,
          0.2815439999103546,
          0.2612437605857849,
          0.28160786628723145,
          0.13711851835250854,
          0.1972111463546753,
          0.23338556289672852,
          0.19687724113464355,
          0.20838314294815063,
          0.19311021268367767,
          0.14245185256004333,
          0.17450323700904846,
          0.145930215716362,
          0.15994518995285034,
          0.13510891795158386,
          0.12329214811325073,
          0.09255790710449219,
          0.09806637465953827,
          0.09593582898378372,
          0.08426477015018463,
          0.07932480424642563,
          0.06220807880163193,
          0.051453836262226105,
          0.040941596031188965,
          0.04008202999830246,
          0.032531071454286575,
          0.02727753110229969,
          0.014440545812249184,
          0.0013774187536910176
         ]
        }
       ],
       "layout": {
        "height": 600,
        "showlegend": false,
        "template": {
         "data": {
          "bar": [
           {
            "error_x": {
             "color": "#2a3f5f"
            },
            "error_y": {
             "color": "#2a3f5f"
            },
            "marker": {
             "line": {
              "color": "#E5ECF6",
              "width": 0.5
             },
             "pattern": {
              "fillmode": "overlay",
              "size": 10,
              "solidity": 0.2
             }
            },
            "type": "bar"
           }
          ],
          "barpolar": [
           {
            "marker": {
             "line": {
              "color": "#E5ECF6",
              "width": 0.5
             },
             "pattern": {
              "fillmode": "overlay",
              "size": 10,
              "solidity": 0.2
             }
            },
            "type": "barpolar"
           }
          ],
          "carpet": [
           {
            "aaxis": {
             "endlinecolor": "#2a3f5f",
             "gridcolor": "white",
             "linecolor": "white",
             "minorgridcolor": "white",
             "startlinecolor": "#2a3f5f"
            },
            "baxis": {
             "endlinecolor": "#2a3f5f",
             "gridcolor": "white",
             "linecolor": "white",
             "minorgridcolor": "white",
             "startlinecolor": "#2a3f5f"
            },
            "type": "carpet"
           }
          ],
          "choropleth": [
           {
            "colorbar": {
             "outlinewidth": 0,
             "ticks": ""
            },
            "type": "choropleth"
           }
          ],
          "contour": [
           {
            "colorbar": {
             "outlinewidth": 0,
             "ticks": ""
            },
            "colorscale": [
             [
              0,
              "#0d0887"
             ],
             [
              0.1111111111111111,
              "#46039f"
             ],
             [
              0.2222222222222222,
              "#7201a8"
             ],
             [
              0.3333333333333333,
              "#9c179e"
             ],
             [
              0.4444444444444444,
              "#bd3786"
             ],
             [
              0.5555555555555556,
              "#d8576b"
             ],
             [
              0.6666666666666666,
              "#ed7953"
             ],
             [
              0.7777777777777778,
              "#fb9f3a"
             ],
             [
              0.8888888888888888,
              "#fdca26"
             ],
             [
              1,
              "#f0f921"
             ]
            ],
            "type": "contour"
           }
          ],
          "contourcarpet": [
           {
            "colorbar": {
             "outlinewidth": 0,
             "ticks": ""
            },
            "type": "contourcarpet"
           }
          ],
          "heatmap": [
           {
            "colorbar": {
             "outlinewidth": 0,
             "ticks": ""
            },
            "colorscale": [
             [
              0,
              "#0d0887"
             ],
             [
              0.1111111111111111,
              "#46039f"
             ],
             [
              0.2222222222222222,
              "#7201a8"
             ],
             [
              0.3333333333333333,
              "#9c179e"
             ],
             [
              0.4444444444444444,
              "#bd3786"
             ],
             [
              0.5555555555555556,
              "#d8576b"
             ],
             [
              0.6666666666666666,
              "#ed7953"
             ],
             [
              0.7777777777777778,
              "#fb9f3a"
             ],
             [
              0.8888888888888888,
              "#fdca26"
             ],
             [
              1,
              "#f0f921"
             ]
            ],
            "type": "heatmap"
           }
          ],
          "heatmapgl": [
           {
            "colorbar": {
             "outlinewidth": 0,
             "ticks": ""
            },
            "colorscale": [
             [
              0,
              "#0d0887"
             ],
             [
              0.1111111111111111,
              "#46039f"
             ],
             [
              0.2222222222222222,
              "#7201a8"
             ],
             [
              0.3333333333333333,
              "#9c179e"
             ],
             [
              0.4444444444444444,
              "#bd3786"
             ],
             [
              0.5555555555555556,
              "#d8576b"
             ],
             [
              0.6666666666666666,
              "#ed7953"
             ],
             [
              0.7777777777777778,
              "#fb9f3a"
             ],
             [
              0.8888888888888888,
              "#fdca26"
             ],
             [
              1,
              "#f0f921"
             ]
            ],
            "type": "heatmapgl"
           }
          ],
          "histogram": [
           {
            "marker": {
             "pattern": {
              "fillmode": "overlay",
              "size": 10,
              "solidity": 0.2
             }
            },
            "type": "histogram"
           }
          ],
          "histogram2d": [
           {
            "colorbar": {
             "outlinewidth": 0,
             "ticks": ""
            },
            "colorscale": [
             [
              0,
              "#0d0887"
             ],
             [
              0.1111111111111111,
              "#46039f"
             ],
             [
              0.2222222222222222,
              "#7201a8"
             ],
             [
              0.3333333333333333,
              "#9c179e"
             ],
             [
              0.4444444444444444,
              "#bd3786"
             ],
             [
              0.5555555555555556,
              "#d8576b"
             ],
             [
              0.6666666666666666,
              "#ed7953"
             ],
             [
              0.7777777777777778,
              "#fb9f3a"
             ],
             [
              0.8888888888888888,
              "#fdca26"
             ],
             [
              1,
              "#f0f921"
             ]
            ],
            "type": "histogram2d"
           }
          ],
          "histogram2dcontour": [
           {
            "colorbar": {
             "outlinewidth": 0,
             "ticks": ""
            },
            "colorscale": [
             [
              0,
              "#0d0887"
             ],
             [
              0.1111111111111111,
              "#46039f"
             ],
             [
              0.2222222222222222,
              "#7201a8"
             ],
             [
              0.3333333333333333,
              "#9c179e"
             ],
             [
              0.4444444444444444,
              "#bd3786"
             ],
             [
              0.5555555555555556,
              "#d8576b"
             ],
             [
              0.6666666666666666,
              "#ed7953"
             ],
             [
              0.7777777777777778,
              "#fb9f3a"
             ],
             [
              0.8888888888888888,
              "#fdca26"
             ],
             [
              1,
              "#f0f921"
             ]
            ],
            "type": "histogram2dcontour"
           }
          ],
          "mesh3d": [
           {
            "colorbar": {
             "outlinewidth": 0,
             "ticks": ""
            },
            "type": "mesh3d"
           }
          ],
          "parcoords": [
           {
            "line": {
             "colorbar": {
              "outlinewidth": 0,
              "ticks": ""
             }
            },
            "type": "parcoords"
           }
          ],
          "pie": [
           {
            "automargin": true,
            "type": "pie"
           }
          ],
          "scatter": [
           {
            "fillpattern": {
             "fillmode": "overlay",
             "size": 10,
             "solidity": 0.2
            },
            "type": "scatter"
           }
          ],
          "scatter3d": [
           {
            "line": {
             "colorbar": {
              "outlinewidth": 0,
              "ticks": ""
             }
            },
            "marker": {
             "colorbar": {
              "outlinewidth": 0,
              "ticks": ""
             }
            },
            "type": "scatter3d"
           }
          ],
          "scattercarpet": [
           {
            "marker": {
             "colorbar": {
              "outlinewidth": 0,
              "ticks": ""
             }
            },
            "type": "scattercarpet"
           }
          ],
          "scattergeo": [
           {
            "marker": {
             "colorbar": {
              "outlinewidth": 0,
              "ticks": ""
             }
            },
            "type": "scattergeo"
           }
          ],
          "scattergl": [
           {
            "marker": {
             "colorbar": {
              "outlinewidth": 0,
              "ticks": ""
             }
            },
            "type": "scattergl"
           }
          ],
          "scattermapbox": [
           {
            "marker": {
             "colorbar": {
              "outlinewidth": 0,
              "ticks": ""
             }
            },
            "type": "scattermapbox"
           }
          ],
          "scatterpolar": [
           {
            "marker": {
             "colorbar": {
              "outlinewidth": 0,
              "ticks": ""
             }
            },
            "type": "scatterpolar"
           }
          ],
          "scatterpolargl": [
           {
            "marker": {
             "colorbar": {
              "outlinewidth": 0,
              "ticks": ""
             }
            },
            "type": "scatterpolargl"
           }
          ],
          "scatterternary": [
           {
            "marker": {
             "colorbar": {
              "outlinewidth": 0,
              "ticks": ""
             }
            },
            "type": "scatterternary"
           }
          ],
          "surface": [
           {
            "colorbar": {
             "outlinewidth": 0,
             "ticks": ""
            },
            "colorscale": [
             [
              0,
              "#0d0887"
             ],
             [
              0.1111111111111111,
              "#46039f"
             ],
             [
              0.2222222222222222,
              "#7201a8"
             ],
             [
              0.3333333333333333,
              "#9c179e"
             ],
             [
              0.4444444444444444,
              "#bd3786"
             ],
             [
              0.5555555555555556,
              "#d8576b"
             ],
             [
              0.6666666666666666,
              "#ed7953"
             ],
             [
              0.7777777777777778,
              "#fb9f3a"
             ],
             [
              0.8888888888888888,
              "#fdca26"
             ],
             [
              1,
              "#f0f921"
             ]
            ],
            "type": "surface"
           }
          ],
          "table": [
           {
            "cells": {
             "fill": {
              "color": "#EBF0F8"
             },
             "line": {
              "color": "white"
             }
            },
            "header": {
             "fill": {
              "color": "#C8D4E3"
             },
             "line": {
              "color": "white"
             }
            },
            "type": "table"
           }
          ]
         },
         "layout": {
          "annotationdefaults": {
           "arrowcolor": "#2a3f5f",
           "arrowhead": 0,
           "arrowwidth": 1
          },
          "autotypenumbers": "strict",
          "coloraxis": {
           "colorbar": {
            "outlinewidth": 0,
            "ticks": ""
           }
          },
          "colorscale": {
           "diverging": [
            [
             0,
             "#8e0152"
            ],
            [
             0.1,
             "#c51b7d"
            ],
            [
             0.2,
             "#de77ae"
            ],
            [
             0.3,
             "#f1b6da"
            ],
            [
             0.4,
             "#fde0ef"
            ],
            [
             0.5,
             "#f7f7f7"
            ],
            [
             0.6,
             "#e6f5d0"
            ],
            [
             0.7,
             "#b8e186"
            ],
            [
             0.8,
             "#7fbc41"
            ],
            [
             0.9,
             "#4d9221"
            ],
            [
             1,
             "#276419"
            ]
           ],
           "sequential": [
            [
             0,
             "#0d0887"
            ],
            [
             0.1111111111111111,
             "#46039f"
            ],
            [
             0.2222222222222222,
             "#7201a8"
            ],
            [
             0.3333333333333333,
             "#9c179e"
            ],
            [
             0.4444444444444444,
             "#bd3786"
            ],
            [
             0.5555555555555556,
             "#d8576b"
            ],
            [
             0.6666666666666666,
             "#ed7953"
            ],
            [
             0.7777777777777778,
             "#fb9f3a"
            ],
            [
             0.8888888888888888,
             "#fdca26"
            ],
            [
             1,
             "#f0f921"
            ]
           ],
           "sequentialminus": [
            [
             0,
             "#0d0887"
            ],
            [
             0.1111111111111111,
             "#46039f"
            ],
            [
             0.2222222222222222,
             "#7201a8"
            ],
            [
             0.3333333333333333,
             "#9c179e"
            ],
            [
             0.4444444444444444,
             "#bd3786"
            ],
            [
             0.5555555555555556,
             "#d8576b"
            ],
            [
             0.6666666666666666,
             "#ed7953"
            ],
            [
             0.7777777777777778,
             "#fb9f3a"
            ],
            [
             0.8888888888888888,
             "#fdca26"
            ],
            [
             1,
             "#f0f921"
            ]
           ]
          },
          "colorway": [
           "#636efa",
           "#EF553B",
           "#00cc96",
           "#ab63fa",
           "#FFA15A",
           "#19d3f3",
           "#FF6692",
           "#B6E880",
           "#FF97FF",
           "#FECB52"
          ],
          "font": {
           "color": "#2a3f5f"
          },
          "geo": {
           "bgcolor": "white",
           "lakecolor": "white",
           "landcolor": "#E5ECF6",
           "showlakes": true,
           "showland": true,
           "subunitcolor": "white"
          },
          "hoverlabel": {
           "align": "left"
          },
          "hovermode": "closest",
          "mapbox": {
           "style": "light"
          },
          "paper_bgcolor": "white",
          "plot_bgcolor": "#E5ECF6",
          "polar": {
           "angularaxis": {
            "gridcolor": "white",
            "linecolor": "white",
            "ticks": ""
           },
           "bgcolor": "#E5ECF6",
           "radialaxis": {
            "gridcolor": "white",
            "linecolor": "white",
            "ticks": ""
           }
          },
          "scene": {
           "xaxis": {
            "backgroundcolor": "#E5ECF6",
            "gridcolor": "white",
            "gridwidth": 2,
            "linecolor": "white",
            "showbackground": true,
            "ticks": "",
            "zerolinecolor": "white"
           },
           "yaxis": {
            "backgroundcolor": "#E5ECF6",
            "gridcolor": "white",
            "gridwidth": 2,
            "linecolor": "white",
            "showbackground": true,
            "ticks": "",
            "zerolinecolor": "white"
           },
           "zaxis": {
            "backgroundcolor": "#E5ECF6",
            "gridcolor": "white",
            "gridwidth": 2,
            "linecolor": "white",
            "showbackground": true,
            "ticks": "",
            "zerolinecolor": "white"
           }
          },
          "shapedefaults": {
           "line": {
            "color": "#2a3f5f"
           }
          },
          "ternary": {
           "aaxis": {
            "gridcolor": "white",
            "linecolor": "white",
            "ticks": ""
           },
           "baxis": {
            "gridcolor": "white",
            "linecolor": "white",
            "ticks": ""
           },
           "bgcolor": "#E5ECF6",
           "caxis": {
            "gridcolor": "white",
            "linecolor": "white",
            "ticks": ""
           }
          },
          "title": {
           "x": 0.05
          },
          "xaxis": {
           "automargin": true,
           "gridcolor": "white",
           "linecolor": "white",
           "ticks": "",
           "title": {
            "standoff": 15
           },
           "zerolinecolor": "white",
           "zerolinewidth": 2
          },
          "yaxis": {
           "automargin": true,
           "gridcolor": "white",
           "linecolor": "white",
           "ticks": "",
           "title": {
            "standoff": 15
           },
           "zerolinecolor": "white",
           "zerolinewidth": 2
          }
         }
        },
        "title": {
         "text": "Calibration plot: raw = 0.0526, 10.7 = 0.1114, "
        },
        "width": 800,
        "xaxis": {
         "range": [
          0,
          100
         ]
        },
        "yaxis": {
         "range": [
          0,
          1
         ]
        }
       }
      },
      "text/html": [
       "<div>                            <div id=\"8759da2f-dca3-447d-bd5e-5a78d3589723\" class=\"plotly-graph-div\" style=\"height:600px; width:800px;\"></div>            <script type=\"text/javascript\">                require([\"plotly\"], function(Plotly) {                    window.PLOTLYENV=window.PLOTLYENV || {};                                    if (document.getElementById(\"8759da2f-dca3-447d-bd5e-5a78d3589723\")) {                    Plotly.newPlot(                        \"8759da2f-dca3-447d-bd5e-5a78d3589723\",                        [{\"line\":{\"color\":\"rgb(0,100,80)\"},\"mode\":\"lines\",\"x\":[0.005,1.005,2.005,3.005,4.005,5.005,6.005,7.005,8.005,9.005,10.005,11.005,12.005,13.005,14.005,15.005,16.005,17.005,18.005,19.005,20.005,21.005,22.005,23.005,24.005,25.005,26.005,27.005,28.005,29.005,30.005,31.005,32.005,33.005,34.005,35.005,36.005,37.005,38.005,39.005,40.005,41.005,42.005,43.005,44.005,45.005,46.005,47.005,48.005,49.005,50.005,51.005,52.005,53.005,54.005,55.005,56.005,57.005,58.005,59.005,60.005,61.005,62.005,63.005,64.005,65.005,66.005,67.005,68.005,69.005,70.005,71.005,72.005,73.005,74.005,75.005,76.005,77.005,78.005,79.005,80.005,81.005,82.005,83.005,84.005,85.005,86.005,87.005,88.005,89.005,90.005,91.005,92.005,93.005,94.005,95.005,96.005,97.005,98.005,99.005],\"y\":[0.002508780686184764,0.022446688264608383,0.0272000003606081,0.03744043409824371,0.04523646458983421,0.05232974886894226,0.05747973546385765,0.06228373572230339,0.07614678889513016,0.1066252589225769,0.12393681704998016,0.12802276015281677,0.11093749850988388,0.10720562189817429,0.1492842584848404,0.19310344755649567,0.17171716690063477,0.15625,0.19104477763175964,0.22068965435028076,0.2247191071510315,0.23529411852359772,0.23245614767074585,0.25108224153518677,0.24444444477558136,0.28358209133148193,0.2954545319080353,0.2875817120075226,0.32679739594459534,0.3037036955356598,0.2666666805744171,0.2848101258277893,0.3384615480899811,0.3333333432674408,0.2924528419971466,0.2871287167072296,0.3861386179924011,0.3222222328186035,0.3295454680919647,0.37142857909202576,0.36781609058380127,0.31506848335266113,0.38461539149284363,0.44285714626312256,0.4736842215061188,0.5142857432365417,0.3333333432674408,0.3970588147640228,0.5625,0.5384615659713745,0.4107142984867096,0.5,0.5319148898124695,0.6538461446762085,0.5185185074806213,0.5799999833106995,0.625,0.5641025900840759,0.5151515007019043,0.6034482717514038,0.5348837375640869,0.71875,0.6600000262260437,0.6000000238418579,0.5581395626068115,0.7222222089767456,0.6470588445663452,0.6486486196517944,0.5476190447807312,0.6756756901741028,0.7333333492279053,0.739130437374115,0.7894737124443054,0.7599999904632568,0.738095223903656,0.7241379022598267,0.6285714507102966,0.7407407164573669,0.7878788113594055,0.9047619104385376,0.8095238208770752,0.8421052694320679,0.71875,0.8684210777282715,0.7586206793785095,0.9166666865348816,0.9655172228813171,0.7575757503509521,0.8928571343421936,0.8181818127632141,0.7714285850524902,0.8717948794364929,0.9117646813392639,0.8636363744735718,0.9272727370262146,0.9772727489471436,0.9482758641242981,0.9333333373069763,0.9807692170143127,0.9915540814399719],\"type\":\"scatter\"},{\"fill\":\"toself\",\"fillcolor\":\"rgba(0,100,80,0.2)\",\"hoverinfo\":\"skip\",\"line\":{\"color\":\"rgba(255,255,255,0)\"},\"showlegend\":false,\"x\":[0.005,1.005,2.005,3.005,4.005,5.005,6.005,7.005,8.005,9.005,10.005,11.005,12.005,13.005,14.005,15.005,16.005,17.005,18.005,19.005,20.005,21.005,22.005,23.005,24.005,25.005,26.005,27.005,28.005,29.005,30.005,31.005,32.005,33.005,34.005,35.005,36.005,37.005,38.005,39.005,40.005,41.005,42.005,43.005,44.005,45.005,46.005,47.005,48.005,49.005,50.005,51.005,52.005,53.005,54.005,55.005,56.005,57.005,58.005,59.005,60.005,61.005,62.005,63.005,64.005,65.005,66.005,67.005,68.005,69.005,70.005,71.005,72.005,73.005,74.005,75.005,76.005,77.005,78.005,79.005,80.005,81.005,82.005,83.005,84.005,85.005,86.005,87.005,88.005,89.005,90.005,91.005,92.005,93.005,94.005,95.005,96.005,97.005,98.005,99.005,99.005,98.005,97.005,96.005,95.005,94.005,93.005,92.005,91.005,90.005,89.005,88.005,87.005,86.005,85.005,84.005,83.005,82.005,81.005,80.005,79.005,78.005,77.005,76.005,75.005,74.005,73.005,72.005,71.005,70.005,69.005,68.005,67.005,66.005,65.005,64.005,63.005,62.005,61.005,60.005,59.005,58.005,57.005,56.005,55.005,54.005,53.005,52.005,51.005,50.005,49.005,48.005,47.005,46.005,45.005,44.005,43.005,42.005,41.005,40.005,39.005,38.005,37.005,36.005,35.005,34.005,33.005,32.005,31.005,30.005,29.005,28.005,27.005,26.005,25.005,24.005,23.005,22.005,21.005,20.005,19.005,18.005,17.005,16.005,15.005,14.005,13.005,12.005,11.005,10.005,9.005,8.005,7.005,6.005,5.005,4.005,3.005,2.005,1.005,0.005],\"y\":[0.004088729154318571,0.026518847793340683,0.03161587938666344,0.04223541170358658,0.050663720816373825,0.058433689177036285,0.06417199224233627,0.07003054022789001,0.08459386974573135,0.11605929583311081,0.13462260365486145,0.14005489647388458,0.12401030957698822,0.1215314194560051,0.16520680487155914,0.21045544743537903,0.19036969542503357,0.1765023171901703,0.21225973963737488,0.2439553588628769,0.2494252473115921,0.26102080941200256,0.2601112127304077,0.2789793014526367,0.27311691641807556,0.31432536244392395,0.328721284866333,0.32368025183677673,0.3632920980453491,0.342953622341156,0.3086959421634674,0.3217650353908539,0.37954074144363403,0.38077017664909363,0.3386246860027313,0.33474257588386536,0.43404269218444824,0.3732532858848572,0.3814167082309723,0.42985740303993225,0.4204452335834503,0.37273722887039185,0.4459311068058014,0.5021114349365234,0.5395089387893677,0.5738046169281006,0.4012078046798706,0.4576168656349182,0.624971866607666,0.6004758477210999,0.4775262773036957,0.5615180730819702,0.6047561764717102,0.7230135798454285,0.5862837433815002,0.650281548500061,0.6965563297271729,0.6432608366012573,0.6009234189987183,0.6679055690765381,0.6094327569007874,0.8047686815261841,0.7284653186798096,0.6761208176612854,0.6311121582984924,0.801450252532959,0.7280045747756958,0.7256489992141724,0.6192954182624817,0.7513661980628967,0.8165949583053589,0.8332568407058716,0.8619078993797302,0.8482666015625,0.8053500652313232,0.804003119468689,0.7002403140068054,0.8211044669151306,0.8593937754631042,0.9928568005561829,0.8959819078445435,0.931186854839325,0.7859193086624146,0.928634524345398,0.8258246779441833,0.9885389804840088,1.0289736986160278,0.8151465058326721,0.9531466364860535,0.8715459108352661,0.8209909796714783,0.9164516925811768,0.9569359421730042,0.9008015394210815,0.9580135941505432,1.008525013923645,0.972407341003418,0.9513610601425171,0.9926884174346924,0.9944530129432678,0.988655149936676,0.9688500165939331,0.9153056144714355,0.9241443872451782,0.9460204839706421,0.896531879901886,0.826471209526062,0.8665934205055237,0.8271380662918091,0.7218661904335022,0.7648177146911621,0.8325676321983337,0.7000049948692322,0.9020607471466064,0.8447943925857544,0.6914166808128357,0.808207631111145,0.6515806913375854,0.7530236840248108,0.7230657339096069,0.8166670203208923,0.7163638472557068,0.6603769659996033,0.5569025874137878,0.6442726850509644,0.6708403825759888,0.6717333793640137,0.7170395255088806,0.6450040340423584,0.6500717401504517,0.5999851822853088,0.4759426712989807,0.5716482400894165,0.5661131143569946,0.6429941654205322,0.4851669669151306,0.5238792300224304,0.5915347337722778,0.6327313184738159,0.4603347182273865,0.5389909744262695,0.4293796122074127,0.48494434356689453,0.5534436702728271,0.5097184181213379,0.45075327157974243,0.5846787095069885,0.45907360315322876,0.4384819567203522,0.3439023196697235,0.47644728422164917,0.500028133392334,0.33650076389312744,0.265458881855011,0.4547668397426605,0.4078595042228699,0.3836028575897217,0.32329967617988586,0.2573997378349304,0.3151869475841522,0.31299975514411926,0.27767422795295715,0.27119117975234985,0.338234543800354,0.23951485753059387,0.2462809979915619,0.28589650988578796,0.2973823547363281,0.24785523116588593,0.22463741898536682,0.2644537687301636,0.29030269384384155,0.25148317217826843,0.26218777894973755,0.2528388202190399,0.21577197313308716,0.22318516671657562,0.20480108261108398,0.20956742763519287,0.2000129669904709,0.19742394983768463,0.1698298156261444,0.1359976828098297,0.15306463837623596,0.1757514476776123,0.13336171209812164,0.09287982434034348,0.09786468744277954,0.11599061638116837,0.11325103789567947,0.097191222012043,0.06769970804452896,0.054536931216716766,0.05078747868537903,0.046225808560848236,0.0398092083632946,0.03264545649290085,0.022784119471907616,0.018374528735876083,0.0009288323344662786],\"type\":\"scatter\"},{\"line\":{\"color\":\"rgb(0,100,80)\"},\"mode\":\"lines\",\"x\":[0.005,1.005,2.005,3.005,4.005,5.005,6.005,7.005,8.005,9.005,10.005,11.005,12.005,13.005,14.005,15.005,16.005,17.005,18.005,19.005,20.005,21.005,22.005,23.005,24.005,25.005,26.005,27.005,28.005,29.005,30.005,31.005,32.005,33.005,34.005,35.005,36.005,37.005,38.005,39.005,40.005,41.005,42.005,43.005,44.005,45.005,46.005,47.005,48.005,49.005,50.005,51.005,52.005,53.005,54.005,55.005,56.005,57.005,58.005,59.005,60.005,61.005,62.005,63.005,64.005,65.005,66.005,67.005,68.005,69.005,70.005,71.005,72.005,73.005,74.005,75.005,76.005,77.005,78.005,79.005,80.005,81.005,82.005,83.005,84.005,85.005,86.005,87.005,88.005,89.005,90.005,91.005,92.005,93.005,94.005,95.005,96.005,97.005,98.005,99.005],\"y\":[0.002938295714557171,0.018583042547106743,0.03167062625288963,0.03746397793292999,0.04561653733253479,0.04712812975049019,0.05809731408953667,0.06994818896055222,0.08785046637058258,0.0937829315662384,0.10687022656202316,0.10989011079072952,0.10559006035327911,0.13745704293251038,0.15068493783473969,0.1768558919429779,0.16492146253585815,0.1948424130678177,0.16498316824436188,0.21594683825969696,0.2327272742986679,0.22142857313156128,0.2606837749481201,0.22510822117328644,0.16591928899288177,0.31282052397727966,0.2947976887226105,0.3178808093070984,0.31168830394744873,0.2291666716337204,0.2601625919342041,0.2777777910232544,0.3255814015865326,0.3181818127632141,0.26851850748062134,0.31683167815208435,0.30392158031463623,0.29885056614875793,0.4000000059604645,0.3552631437778473,0.32894736528396606,0.395061731338501,0.4444444477558136,0.29487180709838867,0.3870967626571655,0.4057970941066742,0.5373134613037109,0.421875,0.4264705777168274,0.4923076927661896,0.47457626461982727,0.4385964870452881,0.5806451439857483,0.5,0.4583333432674408,0.5600000023841858,0.5869565010070801,0.46666666865348816,0.4761904776096344,0.5526315569877625,0.6530612111091614,0.6363636255264282,0.6170212626457214,0.581818163394928,0.71875,0.5476190447807312,0.6818181872367859,0.4545454680919647,0.6388888955116272,0.6785714030265808,0.6842105388641357,0.7931034564971924,0.692307710647583,0.7241379022598267,0.6585366129875183,0.75,0.7777777910232544,0.6428571343421936,0.7878788113594055,0.875,0.7083333134651184,0.7333333492279053,0.8571428656578064,0.8333333134651184,0.7241379022598267,0.9032257795333862,0.7631579041481018,0.7857142686843872,0.8571428656578064,0.78125,0.800000011920929,0.75,0.8857142925262451,0.925000011920929,0.8813559412956238,0.957446813583374,0.8947368264198303,0.9397590160369873,0.9803921580314636,0.9917898178100586],\"type\":\"scatter\"},{\"fill\":\"toself\",\"fillcolor\":\"rgba(0,100,80,0.2)\",\"hoverinfo\":\"skip\",\"line\":{\"color\":\"rgba(255,255,255,0)\"},\"showlegend\":false,\"x\":[0.005,1.005,2.005,3.005,4.005,5.005,6.005,7.005,8.005,9.005,10.005,11.005,12.005,13.005,14.005,15.005,16.005,17.005,18.005,19.005,20.005,21.005,22.005,23.005,24.005,25.005,26.005,27.005,28.005,29.005,30.005,31.005,32.005,33.005,34.005,35.005,36.005,37.005,38.005,39.005,40.005,41.005,42.005,43.005,44.005,45.005,46.005,47.005,48.005,49.005,50.005,51.005,52.005,53.005,54.005,55.005,56.005,57.005,58.005,59.005,60.005,61.005,62.005,63.005,64.005,65.005,66.005,67.005,68.005,69.005,70.005,71.005,72.005,73.005,74.005,75.005,76.005,77.005,78.005,79.005,80.005,81.005,82.005,83.005,84.005,85.005,86.005,87.005,88.005,89.005,90.005,91.005,92.005,93.005,94.005,95.005,96.005,97.005,98.005,99.005,99.005,98.005,97.005,96.005,95.005,94.005,93.005,92.005,91.005,90.005,89.005,88.005,87.005,86.005,85.005,84.005,83.005,82.005,81.005,80.005,79.005,78.005,77.005,76.005,75.005,74.005,73.005,72.005,71.005,70.005,69.005,68.005,67.005,66.005,65.005,64.005,63.005,62.005,61.005,60.005,59.005,58.005,57.005,56.005,55.005,54.005,53.005,52.005,51.005,50.005,49.005,48.005,47.005,46.005,45.005,44.005,43.005,42.005,41.005,40.005,39.005,38.005,37.005,36.005,35.005,34.005,33.005,32.005,31.005,30.005,29.005,28.005,27.005,26.005,25.005,24.005,23.005,22.005,21.005,20.005,19.005,18.005,17.005,16.005,15.005,14.005,13.005,12.005,11.005,10.005,9.005,8.005,7.005,6.005,5.005,4.005,3.005,2.005,1.005,0.005],\"y\":[0.004499172791838646,0.022725539281964302,0.036063723266124725,0.04239688441157341,0.05115104466676712,0.05331466346979141,0.06474079191684723,0.0776882991194725,0.09637612849473953,0.10330109298229218,0.1178046241402626,0.12171384692192078,0.11862221360206604,0.15162193775177002,0.1662609577178955,0.19376659393310547,0.1839127093553543,0.21518158912658691,0.18751448392868042,0.23878346383571625,0.2570714056491852,0.245979905128479,0.2879819869995117,0.2530052959918976,0.194720059633255,0.3440331816673279,0.32835161685943604,0.35421761870384216,0.3480643033981323,0.267170250415802,0.3016761243343353,0.3191601634025574,0.36681950092315674,0.3631843328475952,0.3142608404159546,0.3644455373287201,0.35159027576446533,0.3507539927959442,0.45129165053367615,0.4113381505012512,0.3852565586566925,0.44980862736701965,0.5027033090591431,0.3510052263736725,0.45021146535873413,0.465745747089386,0.5982483625411987,0.4842968285083771,0.48707717657089233,0.5543219447135925,0.5396674871444702,0.5047932863235474,0.644065797328949,0.5719917416572571,0.5302092432975769,0.6302815675735474,0.6600518822669983,0.5304861068725586,0.5522191524505615,0.6322647333145142,0.7228970527648926,0.7097206115722656,0.6876378655433655,0.6467341780662537,0.8033400177955627,0.6209699511528015,0.7529734373092651,0.5251556634902954,0.7163082361221313,0.7655802369117737,0.7581904530525208,0.8769290447235107,0.7638072371482849,0.8060914278030396,0.7266067266464233,0.8312788605690002,0.8593764305114746,0.7217727899551392,0.8593937754631042,0.9574052691459656,0.7892074584960938,0.8042264580726624,0.9213690161705017,0.901101291179657,0.7913419008255005,0.9664649367332458,0.8185927867889404,0.8482142686843872,0.9174323678016663,0.835441529750824,0.849562406539917,0.7920429706573486,0.9302355647087097,0.963979184627533,0.9110364317893982,0.9876852035522461,0.919079065322876,0.9568959474563599,0.9924276471138,0.9946479797363281,0.9889316558837891,0.9683566689491272,0.9226220846176147,0.8703945875167847,0.927208423614502,0.8516754508018494,0.886020839214325,0.8411930203437805,0.7079570293426514,0.7504376173019409,0.727058470249176,0.7968533635139465,0.7232142686843872,0.7077230215072632,0.8399866223335266,0.6569339036941528,0.7655653357505798,0.7929167151451111,0.6624402403831482,0.6274591684341431,0.7925947308540344,0.7163638472557068,0.563941478729248,0.6961791515350342,0.6687211394309998,0.5904664993286133,0.6421843767166138,0.6208081841468811,0.709277868270874,0.6102306246757507,0.5915625691413879,0.561469554901123,0.3839353024959564,0.6106629371643066,0.4742681384086609,0.6341599822044373,0.5169021487236023,0.5464046597480774,0.5630066394805908,0.5832253694534302,0.47299835085868835,0.4001618027687073,0.4028472602367401,0.5138611197471619,0.4897184371948242,0.3864574432373047,0.4280082583427429,0.5172244906425476,0.3723996877670288,0.4094850718975067,0.4302934408187866,0.36586397886276245,0.3594531714916229,0.47637858986854553,0.3458484411239624,0.3239820599555969,0.23873838782310486,0.38618555665016174,0.3403148353099823,0.2726381719112396,0.29918813705444336,0.3487083613872528,0.24694713950157166,0.25625288486480713,0.2692178189754486,0.22277617454528809,0.273179292678833,0.28434330224990845,0.23639541864395142,0.21864905953407288,0.1911631077528,0.27531230449676514,0.2815439999103546,0.2612437605857849,0.28160786628723145,0.13711851835250854,0.1972111463546753,0.23338556289672852,0.19687724113464355,0.20838314294815063,0.19311021268367767,0.14245185256004333,0.17450323700904846,0.145930215716362,0.15994518995285034,0.13510891795158386,0.12329214811325073,0.09255790710449219,0.09806637465953827,0.09593582898378372,0.08426477015018463,0.07932480424642563,0.06220807880163193,0.051453836262226105,0.040941596031188965,0.04008202999830246,0.032531071454286575,0.02727753110229969,0.014440545812249184,0.0013774187536910176],\"type\":\"scatter\"}],                        {\"template\":{\"data\":{\"histogram2dcontour\":[{\"type\":\"histogram2dcontour\",\"colorbar\":{\"outlinewidth\":0,\"ticks\":\"\"},\"colorscale\":[[0.0,\"#0d0887\"],[0.1111111111111111,\"#46039f\"],[0.2222222222222222,\"#7201a8\"],[0.3333333333333333,\"#9c179e\"],[0.4444444444444444,\"#bd3786\"],[0.5555555555555556,\"#d8576b\"],[0.6666666666666666,\"#ed7953\"],[0.7777777777777778,\"#fb9f3a\"],[0.8888888888888888,\"#fdca26\"],[1.0,\"#f0f921\"]]}],\"choropleth\":[{\"type\":\"choropleth\",\"colorbar\":{\"outlinewidth\":0,\"ticks\":\"\"}}],\"histogram2d\":[{\"type\":\"histogram2d\",\"colorbar\":{\"outlinewidth\":0,\"ticks\":\"\"},\"colorscale\":[[0.0,\"#0d0887\"],[0.1111111111111111,\"#46039f\"],[0.2222222222222222,\"#7201a8\"],[0.3333333333333333,\"#9c179e\"],[0.4444444444444444,\"#bd3786\"],[0.5555555555555556,\"#d8576b\"],[0.6666666666666666,\"#ed7953\"],[0.7777777777777778,\"#fb9f3a\"],[0.8888888888888888,\"#fdca26\"],[1.0,\"#f0f921\"]]}],\"heatmap\":[{\"type\":\"heatmap\",\"colorbar\":{\"outlinewidth\":0,\"ticks\":\"\"},\"colorscale\":[[0.0,\"#0d0887\"],[0.1111111111111111,\"#46039f\"],[0.2222222222222222,\"#7201a8\"],[0.3333333333333333,\"#9c179e\"],[0.4444444444444444,\"#bd3786\"],[0.5555555555555556,\"#d8576b\"],[0.6666666666666666,\"#ed7953\"],[0.7777777777777778,\"#fb9f3a\"],[0.8888888888888888,\"#fdca26\"],[1.0,\"#f0f921\"]]}],\"heatmapgl\":[{\"type\":\"heatmapgl\",\"colorbar\":{\"outlinewidth\":0,\"ticks\":\"\"},\"colorscale\":[[0.0,\"#0d0887\"],[0.1111111111111111,\"#46039f\"],[0.2222222222222222,\"#7201a8\"],[0.3333333333333333,\"#9c179e\"],[0.4444444444444444,\"#bd3786\"],[0.5555555555555556,\"#d8576b\"],[0.6666666666666666,\"#ed7953\"],[0.7777777777777778,\"#fb9f3a\"],[0.8888888888888888,\"#fdca26\"],[1.0,\"#f0f921\"]]}],\"contourcarpet\":[{\"type\":\"contourcarpet\",\"colorbar\":{\"outlinewidth\":0,\"ticks\":\"\"}}],\"contour\":[{\"type\":\"contour\",\"colorbar\":{\"outlinewidth\":0,\"ticks\":\"\"},\"colorscale\":[[0.0,\"#0d0887\"],[0.1111111111111111,\"#46039f\"],[0.2222222222222222,\"#7201a8\"],[0.3333333333333333,\"#9c179e\"],[0.4444444444444444,\"#bd3786\"],[0.5555555555555556,\"#d8576b\"],[0.6666666666666666,\"#ed7953\"],[0.7777777777777778,\"#fb9f3a\"],[0.8888888888888888,\"#fdca26\"],[1.0,\"#f0f921\"]]}],\"surface\":[{\"type\":\"surface\",\"colorbar\":{\"outlinewidth\":0,\"ticks\":\"\"},\"colorscale\":[[0.0,\"#0d0887\"],[0.1111111111111111,\"#46039f\"],[0.2222222222222222,\"#7201a8\"],[0.3333333333333333,\"#9c179e\"],[0.4444444444444444,\"#bd3786\"],[0.5555555555555556,\"#d8576b\"],[0.6666666666666666,\"#ed7953\"],[0.7777777777777778,\"#fb9f3a\"],[0.8888888888888888,\"#fdca26\"],[1.0,\"#f0f921\"]]}],\"mesh3d\":[{\"type\":\"mesh3d\",\"colorbar\":{\"outlinewidth\":0,\"ticks\":\"\"}}],\"scatter\":[{\"fillpattern\":{\"fillmode\":\"overlay\",\"size\":10,\"solidity\":0.2},\"type\":\"scatter\"}],\"parcoords\":[{\"type\":\"parcoords\",\"line\":{\"colorbar\":{\"outlinewidth\":0,\"ticks\":\"\"}}}],\"scatterpolargl\":[{\"type\":\"scatterpolargl\",\"marker\":{\"colorbar\":{\"outlinewidth\":0,\"ticks\":\"\"}}}],\"bar\":[{\"error_x\":{\"color\":\"#2a3f5f\"},\"error_y\":{\"color\":\"#2a3f5f\"},\"marker\":{\"line\":{\"color\":\"#E5ECF6\",\"width\":0.5},\"pattern\":{\"fillmode\":\"overlay\",\"size\":10,\"solidity\":0.2}},\"type\":\"bar\"}],\"scattergeo\":[{\"type\":\"scattergeo\",\"marker\":{\"colorbar\":{\"outlinewidth\":0,\"ticks\":\"\"}}}],\"scatterpolar\":[{\"type\":\"scatterpolar\",\"marker\":{\"colorbar\":{\"outlinewidth\":0,\"ticks\":\"\"}}}],\"histogram\":[{\"marker\":{\"pattern\":{\"fillmode\":\"overlay\",\"size\":10,\"solidity\":0.2}},\"type\":\"histogram\"}],\"scattergl\":[{\"type\":\"scattergl\",\"marker\":{\"colorbar\":{\"outlinewidth\":0,\"ticks\":\"\"}}}],\"scatter3d\":[{\"type\":\"scatter3d\",\"line\":{\"colorbar\":{\"outlinewidth\":0,\"ticks\":\"\"}},\"marker\":{\"colorbar\":{\"outlinewidth\":0,\"ticks\":\"\"}}}],\"scattermapbox\":[{\"type\":\"scattermapbox\",\"marker\":{\"colorbar\":{\"outlinewidth\":0,\"ticks\":\"\"}}}],\"scatterternary\":[{\"type\":\"scatterternary\",\"marker\":{\"colorbar\":{\"outlinewidth\":0,\"ticks\":\"\"}}}],\"scattercarpet\":[{\"type\":\"scattercarpet\",\"marker\":{\"colorbar\":{\"outlinewidth\":0,\"ticks\":\"\"}}}],\"carpet\":[{\"aaxis\":{\"endlinecolor\":\"#2a3f5f\",\"gridcolor\":\"white\",\"linecolor\":\"white\",\"minorgridcolor\":\"white\",\"startlinecolor\":\"#2a3f5f\"},\"baxis\":{\"endlinecolor\":\"#2a3f5f\",\"gridcolor\":\"white\",\"linecolor\":\"white\",\"minorgridcolor\":\"white\",\"startlinecolor\":\"#2a3f5f\"},\"type\":\"carpet\"}],\"table\":[{\"cells\":{\"fill\":{\"color\":\"#EBF0F8\"},\"line\":{\"color\":\"white\"}},\"header\":{\"fill\":{\"color\":\"#C8D4E3\"},\"line\":{\"color\":\"white\"}},\"type\":\"table\"}],\"barpolar\":[{\"marker\":{\"line\":{\"color\":\"#E5ECF6\",\"width\":0.5},\"pattern\":{\"fillmode\":\"overlay\",\"size\":10,\"solidity\":0.2}},\"type\":\"barpolar\"}],\"pie\":[{\"automargin\":true,\"type\":\"pie\"}]},\"layout\":{\"autotypenumbers\":\"strict\",\"colorway\":[\"#636efa\",\"#EF553B\",\"#00cc96\",\"#ab63fa\",\"#FFA15A\",\"#19d3f3\",\"#FF6692\",\"#B6E880\",\"#FF97FF\",\"#FECB52\"],\"font\":{\"color\":\"#2a3f5f\"},\"hovermode\":\"closest\",\"hoverlabel\":{\"align\":\"left\"},\"paper_bgcolor\":\"white\",\"plot_bgcolor\":\"#E5ECF6\",\"polar\":{\"bgcolor\":\"#E5ECF6\",\"angularaxis\":{\"gridcolor\":\"white\",\"linecolor\":\"white\",\"ticks\":\"\"},\"radialaxis\":{\"gridcolor\":\"white\",\"linecolor\":\"white\",\"ticks\":\"\"}},\"ternary\":{\"bgcolor\":\"#E5ECF6\",\"aaxis\":{\"gridcolor\":\"white\",\"linecolor\":\"white\",\"ticks\":\"\"},\"baxis\":{\"gridcolor\":\"white\",\"linecolor\":\"white\",\"ticks\":\"\"},\"caxis\":{\"gridcolor\":\"white\",\"linecolor\":\"white\",\"ticks\":\"\"}},\"coloraxis\":{\"colorbar\":{\"outlinewidth\":0,\"ticks\":\"\"}},\"colorscale\":{\"sequential\":[[0.0,\"#0d0887\"],[0.1111111111111111,\"#46039f\"],[0.2222222222222222,\"#7201a8\"],[0.3333333333333333,\"#9c179e\"],[0.4444444444444444,\"#bd3786\"],[0.5555555555555556,\"#d8576b\"],[0.6666666666666666,\"#ed7953\"],[0.7777777777777778,\"#fb9f3a\"],[0.8888888888888888,\"#fdca26\"],[1.0,\"#f0f921\"]],\"sequentialminus\":[[0.0,\"#0d0887\"],[0.1111111111111111,\"#46039f\"],[0.2222222222222222,\"#7201a8\"],[0.3333333333333333,\"#9c179e\"],[0.4444444444444444,\"#bd3786\"],[0.5555555555555556,\"#d8576b\"],[0.6666666666666666,\"#ed7953\"],[0.7777777777777778,\"#fb9f3a\"],[0.8888888888888888,\"#fdca26\"],[1.0,\"#f0f921\"]],\"diverging\":[[0,\"#8e0152\"],[0.1,\"#c51b7d\"],[0.2,\"#de77ae\"],[0.3,\"#f1b6da\"],[0.4,\"#fde0ef\"],[0.5,\"#f7f7f7\"],[0.6,\"#e6f5d0\"],[0.7,\"#b8e186\"],[0.8,\"#7fbc41\"],[0.9,\"#4d9221\"],[1,\"#276419\"]]},\"xaxis\":{\"gridcolor\":\"white\",\"linecolor\":\"white\",\"ticks\":\"\",\"title\":{\"standoff\":15},\"zerolinecolor\":\"white\",\"automargin\":true,\"zerolinewidth\":2},\"yaxis\":{\"gridcolor\":\"white\",\"linecolor\":\"white\",\"ticks\":\"\",\"title\":{\"standoff\":15},\"zerolinecolor\":\"white\",\"automargin\":true,\"zerolinewidth\":2},\"scene\":{\"xaxis\":{\"backgroundcolor\":\"#E5ECF6\",\"gridcolor\":\"white\",\"linecolor\":\"white\",\"showbackground\":true,\"ticks\":\"\",\"zerolinecolor\":\"white\",\"gridwidth\":2},\"yaxis\":{\"backgroundcolor\":\"#E5ECF6\",\"gridcolor\":\"white\",\"linecolor\":\"white\",\"showbackground\":true,\"ticks\":\"\",\"zerolinecolor\":\"white\",\"gridwidth\":2},\"zaxis\":{\"backgroundcolor\":\"#E5ECF6\",\"gridcolor\":\"white\",\"linecolor\":\"white\",\"showbackground\":true,\"ticks\":\"\",\"zerolinecolor\":\"white\",\"gridwidth\":2}},\"shapedefaults\":{\"line\":{\"color\":\"#2a3f5f\"}},\"annotationdefaults\":{\"arrowcolor\":\"#2a3f5f\",\"arrowhead\":0,\"arrowwidth\":1},\"geo\":{\"bgcolor\":\"white\",\"landcolor\":\"#E5ECF6\",\"subunitcolor\":\"white\",\"showland\":true,\"showlakes\":true,\"lakecolor\":\"white\"},\"title\":{\"x\":0.05},\"mapbox\":{\"style\":\"light\"}}},\"xaxis\":{\"range\":[0,100]},\"yaxis\":{\"range\":[0,1]},\"width\":800,\"height\":600,\"showlegend\":false,\"title\":{\"text\":\"Calibration plot: raw = 0.0526, 10.7 = 0.1114, \"}},                        {\"responsive\": true}                    ).then(function(){\n",
       "                            \n",
       "var gd = document.getElementById('8759da2f-dca3-447d-bd5e-5a78d3589723');\n",
       "var x = new MutationObserver(function (mutations, observer) {{\n",
       "        var display = window.getComputedStyle(gd).display;\n",
       "        if (!display || display === 'none') {{\n",
       "            console.log([gd, 'removed!']);\n",
       "            Plotly.purge(gd);\n",
       "            observer.disconnect();\n",
       "        }}\n",
       "}});\n",
       "\n",
       "// Listen for the removal of the full notebook cells\n",
       "var notebookContainer = gd.closest('#notebook-container');\n",
       "if (notebookContainer) {{\n",
       "    x.observe(notebookContainer, {childList: true});\n",
       "}}\n",
       "\n",
       "// Listen for the clearing of the current output cell\n",
       "var outputEl = gd.closest('.output');\n",
       "if (outputEl) {{\n",
       "    x.observe(outputEl, {childList: true});\n",
       "}}\n",
       "\n",
       "                        })                };                });            </script>        </div>"
      ]
     },
     "metadata": {},
     "output_type": "display_data"
    }
   ],
   "source": [
    "n_bins = len(accuracy)\n",
    "x = [(0.5/n_bins)+x for x in range(n_bins)]\n",
    "\n",
    "fig = go.Figure()\n",
    "\n",
    "title=f\"Calibration plot: \"\n",
    "\n",
    "for head, accuracy, variance in zip([None] + head_list, accuracy_all, variance_all):\n",
    "    y_upper = (accuracy + variance.sqrt()).tolist()\n",
    "    y_lower = (accuracy - variance.sqrt()).tolist()\n",
    "\n",
    "    overconfidence = calculate_overconfidence(accuracy)\n",
    "\n",
    "    if head is None:\n",
    "        title  += f\"raw = {overconfidence:.4f}, \"\n",
    "    else:\n",
    "        title += f\"{head[0]}.{head[1]} = {overconfidence:.4f}, \"\n",
    "\n",
    "    fig.add_trace(go.Scatter(\n",
    "        y=accuracy,\n",
    "        x=x,\n",
    "        line=dict(color='rgb(0,100,80)'),\n",
    "        mode='lines'\n",
    "    ))\n",
    "    fig.add_trace(go.Scatter(\n",
    "        x=x+x[::-1], # x, then x reversed\n",
    "        y=y_upper+y_lower[::-1], # upper, then lower reversed\n",
    "        fill='toself',\n",
    "        fillcolor='rgba(0,100,80,0.2)',\n",
    "        line=dict(color='rgba(255,255,255,0)'),\n",
    "        hoverinfo=\"skip\",\n",
    "        showlegend=False\n",
    "    ))\n",
    "fig.update_layout(width=800, height=600, showlegend=False, title=title, xaxis_range=[0, n_bins], yaxis_range=[0, 1])\n",
    "fig.show()"
   ]
  }
 ],
 "metadata": {
  "kernelspec": {
   "display_name": "Python 3",
   "language": "python",
   "name": "python3"
  },
  "language_info": {
   "codemirror_mode": {
    "name": "ipython",
    "version": 3
   },
   "file_extension": ".py",
   "mimetype": "text/x-python",
   "name": "python",
   "nbconvert_exporter": "python",
   "pygments_lexer": "ipython3",
   "version": "3.8.10"
  },
  "orig_nbformat": 4
 },
 "nbformat": 4,
 "nbformat_minor": 2
}
