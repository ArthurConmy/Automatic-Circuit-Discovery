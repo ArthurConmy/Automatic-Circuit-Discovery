{
 "cells": [
  {
   "cell_type": "code",
   "execution_count": 9,
   "metadata": {},
   "outputs": [],
   "source": [
    "from transformer_lens.cautils.notebook import *\n",
    "from transformer_lens.rs.callum.keys_fixed import get_effective_embedding_2\n",
    "\n",
    "from transformer_lens import FactoredMatrix\n",
    "\n",
    "clear_output()"
   ]
  },
  {
   "cell_type": "code",
   "execution_count": 10,
   "metadata": {},
   "outputs": [],
   "source": [
    "model = HookedTransformer.from_pretrained(\n",
    "    \"gpt2-small\",\n",
    "    center_unembed=True,\n",
    "    center_writing_weights=True,\n",
    "    fold_ln=True,\n",
    "    # refactor_factored_attn_matrices=True,\n",
    ")\n",
    "model.set_use_split_qkv_input(True)\n",
    "model.set_use_attn_result(True)\n",
    "\n",
    "clear_output()"
   ]
  },
  {
   "cell_type": "code",
   "execution_count": 39,
   "metadata": {},
   "outputs": [],
   "source": [
    "def get_neg_copying_score(\n",
    "    model: HookedTransformer,\n",
    "    W_EE: Float[Tensor, \"d_vocab d_model\"],\n",
    "    head: Tuple[int, int],\n",
    "    n_batches: int = 10,\n",
    "    sample_size: Optional[int] = None,\n",
    "    return_prob: bool = False,\n",
    "    return_frac_on_topk: bool = False,\n",
    "    truncate_negative: bool = False,\n",
    "):\n",
    "    '''\n",
    "    Gets neg copying scores (either as a sample, or as avg diff).\n",
    "    '''\n",
    "    assert not(return_prob and return_frac_on_topk)\n",
    "\n",
    "    layer, head_idx = head\n",
    "    W_V = model.W_V[layer, head_idx]\n",
    "    W_O = model.W_O[layer, head_idx]\n",
    "\n",
    "    W_U = model.W_U\n",
    "\n",
    "    full_OV_circuit = FactoredMatrix(W_EE @ W_V, W_O @ W_U)\n",
    "\n",
    "    assert isinstance(sample_size, int)\n",
    "\n",
    "    results = []\n",
    "\n",
    "    for batch in range(n_batches):\n",
    "\n",
    "        random_sample = t.randint(low=0, high=model.cfg.d_vocab, size=(sample_size,))\n",
    "\n",
    "        sample_OV_circuit_negated = - full_OV_circuit.A[random_sample, :] @ full_OV_circuit.B[:, random_sample]\n",
    "\n",
    "        if return_prob:\n",
    "            probs = sample_OV_circuit_negated.softmax(dim=-1)\n",
    "            results.append(probs.diag().mean().item())\n",
    "        elif return_frac_on_topk:\n",
    "            topk = sample_OV_circuit_negated.topk(k=sample_size, dim=-1).indices\n",
    "            results.append((topk == t.arange(sample_size).unsqueeze(0)).float().mean().item())\n",
    "        else:\n",
    "            diag_sum = sample_OV_circuit_negated.trace()\n",
    "            offdiag_sum = sample_OV_circuit_negated.sum() - diag_sum\n",
    "            diag_avg = diag_sum / sample_size\n",
    "            offdiag_avg = offdiag_sum / (sample_size * (sample_size - 1))\n",
    "            diff = diag_avg - offdiag_avg\n",
    "            results.append(diff.item())\n",
    "    \n",
    "    results = t.tensor(results).mean()\n",
    "    if truncate_negative:\n",
    "        return results * (results > 0)\n",
    "    else:\n",
    "        return results"
   ]
  },
  {
   "cell_type": "code",
   "execution_count": 40,
   "metadata": {},
   "outputs": [
    {
     "data": {
      "application/vnd.plotly.v1+json": {
       "config": {
        "displaylogo": false,
        "plotlyServerURL": "https://plot.ly",
        "responsive": true
       },
       "data": [
        {
         "coloraxis": "coloraxis",
         "hovertemplate": "x: %{x}<br>y: %{y}<br>color: %{z}<extra></extra>",
         "name": "0",
         "type": "heatmap",
         "xaxis": "x",
         "yaxis": "y",
         "z": [
          [
           0,
           0,
           0,
           0,
           0,
           0,
           0,
           0,
           0,
           0,
           0,
           0
          ],
          [
           0,
           0,
           0.48620644211769104,
           0.7193445563316345,
           0,
           0,
           0,
           0,
           10.482070922851562,
           7.3487396240234375,
           0.38155823945999146,
           13.626757621765137
          ],
          [
           0,
           0,
           0,
           0,
           0,
           1.4703452587127686,
           4.197067737579346,
           4.394338130950928,
           0,
           0,
           0,
           2.4572641849517822
          ],
          [
           0,
           0,
           0,
           0,
           5.094047546386719,
           0,
           0,
           0,
           0.8181419372558594,
           0,
           12.714628219604492,
           0
          ],
          [
           0,
           0,
           0,
           0,
           26.231792449951172,
           0,
           0,
           4.132206916809082,
           0,
           0,
           3.78729248046875,
           0
          ],
          [
           0,
           0,
           0,
           0,
           0,
           0,
           0,
           0,
           0.27686807513237,
           9.239720344543457,
           0,
           72.99246215820312
          ],
          [
           0,
           0,
           13.984891891479492,
           0,
           0,
           19.066755294799805,
           49.63622283935547,
           0,
           0,
           0,
           0,
           0
          ],
          [
           0,
           0,
           0,
           30.699432373046875,
           0,
           0,
           7.785449981689453,
           0,
           0,
           8.671903610229492,
           0,
           0
          ],
          [
           12.087983131408691,
           0,
           0,
           0,
           0,
           0,
           0,
           0,
           0,
           14.607446670532227,
           101.36616516113281,
           0
          ],
          [
           0,
           0,
           0,
           0,
           0,
           108.88850402832031,
           0,
           20.428050994873047,
           0,
           0,
           0,
           0
          ],
          [
           0,
           0,
           0,
           0,
           0,
           0,
           0,
           153.6652374267578,
           0,
           0,
           0,
           0
          ],
          [
           27.073856353759766,
           0,
           0,
           0,
           8.253949165344238,
           0,
           0,
           0,
           0,
           0,
           140.3273468017578,
           0
          ]
         ]
        },
        {
         "coloraxis": "coloraxis",
         "hovertemplate": "x: %{x}<br>y: %{y}<br>color: %{z}<extra></extra>",
         "name": "1",
         "type": "heatmap",
         "xaxis": "x2",
         "yaxis": "y2",
         "z": [
          [
           0,
           0,
           0,
           0,
           0,
           0,
           0,
           0,
           0,
           0,
           0.21755842864513397,
           0
          ],
          [
           0,
           0,
           0.15720488131046295,
           0.3474474251270294,
           0,
           0,
           0,
           0,
           8.609701156616211,
           5.738630771636963,
           0.2587445378303528,
           5.872998237609863
          ],
          [
           0,
           0,
           0,
           0,
           0,
           0.7880687713623047,
           2.6371312141418457,
           2.7895522117614746,
           0,
           0,
           0,
           1.042227029800415
          ],
          [
           0,
           0,
           0,
           0,
           3.2035508155822754,
           0,
           0,
           0,
           0.4699705243110657,
           0,
           6.445103645324707,
           0
          ],
          [
           0,
           0,
           0,
           0,
           15.54864501953125,
           0,
           0,
           1.517000436782837,
           0,
           0,
           3.554943561553955,
           0
          ],
          [
           0,
           0,
           0,
           0,
           0,
           0,
           0,
           0,
           0,
           4.919487953186035,
           0,
           45.048248291015625
          ],
          [
           0,
           0,
           9.91438102722168,
           0,
           0,
           10.229873657226562,
           27.037521362304688,
           0,
           0,
           0,
           0,
           0
          ],
          [
           0,
           0,
           0,
           18.911701202392578,
           0,
           0,
           4.464000225067139,
           0,
           0,
           5.748006820678711,
           0,
           0
          ],
          [
           6.160461902618408,
           0,
           0,
           0,
           0,
           0,
           0,
           0,
           0,
           9.023391723632812,
           56.02901077270508,
           0
          ],
          [
           0,
           0,
           0,
           0,
           0.6270670890808105,
           64.23711395263672,
           0,
           14.48973274230957,
           0,
           0,
           0,
           0
          ],
          [
           0,
           0,
           0,
           0,
           0,
           0,
           0,
           87.19242858886719,
           1.4911201000213623,
           0,
           0,
           0
          ],
          [
           19.12805938720703,
           0,
           0,
           0,
           7.400367736816406,
           0,
           0,
           0,
           0,
           0,
           80.97089385986328,
           0
          ]
         ]
        },
        {
         "coloraxis": "coloraxis",
         "hovertemplate": "x: %{x}<br>y: %{y}<br>color: %{z}<extra></extra>",
         "name": "2",
         "type": "heatmap",
         "xaxis": "x3",
         "yaxis": "y3",
         "z": [
          [
           0,
           0,
           0,
           0,
           0,
           0,
           0,
           0,
           0,
           0.07648605853319168,
           0,
           0
          ],
          [
           0.017174869775772095,
           0.16224701702594757,
           0.15003256499767303,
           0.2610093057155609,
           0.36684781312942505,
           0.6755353212356567,
           0,
           0,
           0.5151602029800415,
           0.35234951972961426,
           0.2557646632194519,
           1.9526262283325195
          ],
          [
           0.3019809424877167,
           0,
           0,
           0.18665891885757446,
           0,
           0.35808318853378296,
           0.6191457509994507,
           0.3299562335014343,
           0.05404369905591011,
           0,
           0.7880268692970276,
           0.8252776265144348
          ],
          [
           0,
           0.34549784660339355,
           0,
           0,
           1.290405035018921,
           0,
           0,
           0,
           0.3574572503566742,
           0,
           3.034200668334961,
           0
          ],
          [
           0,
           0,
           0,
           0,
           1.6888935565948486,
           0,
           0.43058913946151733,
           1.800316572189331,
           0,
           0,
           1.2292343378067017,
           0
          ],
          [
           0,
           0,
           0,
           0,
           0,
           0,
           0,
           0,
           0.5488229990005493,
           2.4280593395233154,
           0,
           4.967545509338379
          ],
          [
           0,
           0,
           0.8105877041816711,
           0,
           0,
           2.4422266483306885,
           5.414085865020752,
           0,
           0,
           0,
           0,
           0
          ],
          [
           0,
           0,
           0,
           0.9413337707519531,
           0,
           0,
           1.6934452056884766,
           0,
           0,
           0,
           0,
           0
          ],
          [
           1.7119276523590088,
           0,
           0,
           0,
           0,
           0,
           0,
           0,
           0,
           0.7245866060256958,
           4.87744140625,
           0
          ],
          [
           0,
           0.20557443797588348,
           0,
           0,
           0,
           5.92679500579834,
           0,
           0.39797064661979675,
           0,
           0,
           0,
           0
          ],
          [
           0,
           0,
           0,
           0,
           0,
           0,
           0,
           0.1446302831172943,
           0.3655526041984558,
           0,
           0,
           0
          ],
          [
           0,
           0,
           0,
           0,
           0,
           0,
           0,
           0,
           0,
           0,
           0,
           0
          ]
         ]
        }
       ],
       "layout": {
        "annotations": [
         {
          "font": {},
          "showarrow": false,
          "text": "W_E (including MLPs)",
          "x": 0.15999999999999998,
          "xanchor": "center",
          "xref": "paper",
          "y": 1,
          "yanchor": "bottom",
          "yref": "paper"
         },
         {
          "font": {},
          "showarrow": false,
          "text": "W_E (only MLPs)",
          "x": 0.49999999999999994,
          "xanchor": "center",
          "xref": "paper",
          "y": 1,
          "yanchor": "bottom",
          "yref": "paper"
         },
         {
          "font": {},
          "showarrow": false,
          "text": "W_E (no MLPs)",
          "x": 0.8399999999999999,
          "xanchor": "center",
          "xref": "paper",
          "y": 1,
          "yanchor": "bottom",
          "yref": "paper"
         }
        ],
        "coloraxis": {
         "cmid": 0,
         "colorscale": [
          [
           0,
           "rgb(103,0,31)"
          ],
          [
           0.1,
           "rgb(178,24,43)"
          ],
          [
           0.2,
           "rgb(214,96,77)"
          ],
          [
           0.3,
           "rgb(244,165,130)"
          ],
          [
           0.4,
           "rgb(253,219,199)"
          ],
          [
           0.5,
           "rgb(247,247,247)"
          ],
          [
           0.6,
           "rgb(209,229,240)"
          ],
          [
           0.7,
           "rgb(146,197,222)"
          ],
          [
           0.8,
           "rgb(67,147,195)"
          ],
          [
           0.9,
           "rgb(33,102,172)"
          ],
          [
           1,
           "rgb(5,48,97)"
          ]
         ]
        },
        "modebar": {
         "add": [
          "drawline",
          "drawopenpath",
          "drawclosedpath",
          "drawcircle",
          "drawrect",
          "eraseshape"
         ]
        },
        "template": {
         "data": {
          "bar": [
           {
            "error_x": {
             "color": "#2a3f5f"
            },
            "error_y": {
             "color": "#2a3f5f"
            },
            "marker": {
             "line": {
              "color": "#E5ECF6",
              "width": 0.5
             },
             "pattern": {
              "fillmode": "overlay",
              "size": 10,
              "solidity": 0.2
             }
            },
            "type": "bar"
           }
          ],
          "barpolar": [
           {
            "marker": {
             "line": {
              "color": "#E5ECF6",
              "width": 0.5
             },
             "pattern": {
              "fillmode": "overlay",
              "size": 10,
              "solidity": 0.2
             }
            },
            "type": "barpolar"
           }
          ],
          "carpet": [
           {
            "aaxis": {
             "endlinecolor": "#2a3f5f",
             "gridcolor": "white",
             "linecolor": "white",
             "minorgridcolor": "white",
             "startlinecolor": "#2a3f5f"
            },
            "baxis": {
             "endlinecolor": "#2a3f5f",
             "gridcolor": "white",
             "linecolor": "white",
             "minorgridcolor": "white",
             "startlinecolor": "#2a3f5f"
            },
            "type": "carpet"
           }
          ],
          "choropleth": [
           {
            "colorbar": {
             "outlinewidth": 0,
             "ticks": ""
            },
            "type": "choropleth"
           }
          ],
          "contour": [
           {
            "colorbar": {
             "outlinewidth": 0,
             "ticks": ""
            },
            "colorscale": [
             [
              0,
              "#0d0887"
             ],
             [
              0.1111111111111111,
              "#46039f"
             ],
             [
              0.2222222222222222,
              "#7201a8"
             ],
             [
              0.3333333333333333,
              "#9c179e"
             ],
             [
              0.4444444444444444,
              "#bd3786"
             ],
             [
              0.5555555555555556,
              "#d8576b"
             ],
             [
              0.6666666666666666,
              "#ed7953"
             ],
             [
              0.7777777777777778,
              "#fb9f3a"
             ],
             [
              0.8888888888888888,
              "#fdca26"
             ],
             [
              1,
              "#f0f921"
             ]
            ],
            "type": "contour"
           }
          ],
          "contourcarpet": [
           {
            "colorbar": {
             "outlinewidth": 0,
             "ticks": ""
            },
            "type": "contourcarpet"
           }
          ],
          "heatmap": [
           {
            "colorbar": {
             "outlinewidth": 0,
             "ticks": ""
            },
            "colorscale": [
             [
              0,
              "#0d0887"
             ],
             [
              0.1111111111111111,
              "#46039f"
             ],
             [
              0.2222222222222222,
              "#7201a8"
             ],
             [
              0.3333333333333333,
              "#9c179e"
             ],
             [
              0.4444444444444444,
              "#bd3786"
             ],
             [
              0.5555555555555556,
              "#d8576b"
             ],
             [
              0.6666666666666666,
              "#ed7953"
             ],
             [
              0.7777777777777778,
              "#fb9f3a"
             ],
             [
              0.8888888888888888,
              "#fdca26"
             ],
             [
              1,
              "#f0f921"
             ]
            ],
            "type": "heatmap"
           }
          ],
          "heatmapgl": [
           {
            "colorbar": {
             "outlinewidth": 0,
             "ticks": ""
            },
            "colorscale": [
             [
              0,
              "#0d0887"
             ],
             [
              0.1111111111111111,
              "#46039f"
             ],
             [
              0.2222222222222222,
              "#7201a8"
             ],
             [
              0.3333333333333333,
              "#9c179e"
             ],
             [
              0.4444444444444444,
              "#bd3786"
             ],
             [
              0.5555555555555556,
              "#d8576b"
             ],
             [
              0.6666666666666666,
              "#ed7953"
             ],
             [
              0.7777777777777778,
              "#fb9f3a"
             ],
             [
              0.8888888888888888,
              "#fdca26"
             ],
             [
              1,
              "#f0f921"
             ]
            ],
            "type": "heatmapgl"
           }
          ],
          "histogram": [
           {
            "marker": {
             "pattern": {
              "fillmode": "overlay",
              "size": 10,
              "solidity": 0.2
             }
            },
            "type": "histogram"
           }
          ],
          "histogram2d": [
           {
            "colorbar": {
             "outlinewidth": 0,
             "ticks": ""
            },
            "colorscale": [
             [
              0,
              "#0d0887"
             ],
             [
              0.1111111111111111,
              "#46039f"
             ],
             [
              0.2222222222222222,
              "#7201a8"
             ],
             [
              0.3333333333333333,
              "#9c179e"
             ],
             [
              0.4444444444444444,
              "#bd3786"
             ],
             [
              0.5555555555555556,
              "#d8576b"
             ],
             [
              0.6666666666666666,
              "#ed7953"
             ],
             [
              0.7777777777777778,
              "#fb9f3a"
             ],
             [
              0.8888888888888888,
              "#fdca26"
             ],
             [
              1,
              "#f0f921"
             ]
            ],
            "type": "histogram2d"
           }
          ],
          "histogram2dcontour": [
           {
            "colorbar": {
             "outlinewidth": 0,
             "ticks": ""
            },
            "colorscale": [
             [
              0,
              "#0d0887"
             ],
             [
              0.1111111111111111,
              "#46039f"
             ],
             [
              0.2222222222222222,
              "#7201a8"
             ],
             [
              0.3333333333333333,
              "#9c179e"
             ],
             [
              0.4444444444444444,
              "#bd3786"
             ],
             [
              0.5555555555555556,
              "#d8576b"
             ],
             [
              0.6666666666666666,
              "#ed7953"
             ],
             [
              0.7777777777777778,
              "#fb9f3a"
             ],
             [
              0.8888888888888888,
              "#fdca26"
             ],
             [
              1,
              "#f0f921"
             ]
            ],
            "type": "histogram2dcontour"
           }
          ],
          "mesh3d": [
           {
            "colorbar": {
             "outlinewidth": 0,
             "ticks": ""
            },
            "type": "mesh3d"
           }
          ],
          "parcoords": [
           {
            "line": {
             "colorbar": {
              "outlinewidth": 0,
              "ticks": ""
             }
            },
            "type": "parcoords"
           }
          ],
          "pie": [
           {
            "automargin": true,
            "type": "pie"
           }
          ],
          "scatter": [
           {
            "fillpattern": {
             "fillmode": "overlay",
             "size": 10,
             "solidity": 0.2
            },
            "type": "scatter"
           }
          ],
          "scatter3d": [
           {
            "line": {
             "colorbar": {
              "outlinewidth": 0,
              "ticks": ""
             }
            },
            "marker": {
             "colorbar": {
              "outlinewidth": 0,
              "ticks": ""
             }
            },
            "type": "scatter3d"
           }
          ],
          "scattercarpet": [
           {
            "marker": {
             "colorbar": {
              "outlinewidth": 0,
              "ticks": ""
             }
            },
            "type": "scattercarpet"
           }
          ],
          "scattergeo": [
           {
            "marker": {
             "colorbar": {
              "outlinewidth": 0,
              "ticks": ""
             }
            },
            "type": "scattergeo"
           }
          ],
          "scattergl": [
           {
            "marker": {
             "colorbar": {
              "outlinewidth": 0,
              "ticks": ""
             }
            },
            "type": "scattergl"
           }
          ],
          "scattermapbox": [
           {
            "marker": {
             "colorbar": {
              "outlinewidth": 0,
              "ticks": ""
             }
            },
            "type": "scattermapbox"
           }
          ],
          "scatterpolar": [
           {
            "marker": {
             "colorbar": {
              "outlinewidth": 0,
              "ticks": ""
             }
            },
            "type": "scatterpolar"
           }
          ],
          "scatterpolargl": [
           {
            "marker": {
             "colorbar": {
              "outlinewidth": 0,
              "ticks": ""
             }
            },
            "type": "scatterpolargl"
           }
          ],
          "scatterternary": [
           {
            "marker": {
             "colorbar": {
              "outlinewidth": 0,
              "ticks": ""
             }
            },
            "type": "scatterternary"
           }
          ],
          "surface": [
           {
            "colorbar": {
             "outlinewidth": 0,
             "ticks": ""
            },
            "colorscale": [
             [
              0,
              "#0d0887"
             ],
             [
              0.1111111111111111,
              "#46039f"
             ],
             [
              0.2222222222222222,
              "#7201a8"
             ],
             [
              0.3333333333333333,
              "#9c179e"
             ],
             [
              0.4444444444444444,
              "#bd3786"
             ],
             [
              0.5555555555555556,
              "#d8576b"
             ],
             [
              0.6666666666666666,
              "#ed7953"
             ],
             [
              0.7777777777777778,
              "#fb9f3a"
             ],
             [
              0.8888888888888888,
              "#fdca26"
             ],
             [
              1,
              "#f0f921"
             ]
            ],
            "type": "surface"
           }
          ],
          "table": [
           {
            "cells": {
             "fill": {
              "color": "#EBF0F8"
             },
             "line": {
              "color": "white"
             }
            },
            "header": {
             "fill": {
              "color": "#C8D4E3"
             },
             "line": {
              "color": "white"
             }
            },
            "type": "table"
           }
          ]
         },
         "layout": {
          "annotationdefaults": {
           "arrowcolor": "#2a3f5f",
           "arrowhead": 0,
           "arrowwidth": 1
          },
          "autotypenumbers": "strict",
          "coloraxis": {
           "colorbar": {
            "outlinewidth": 0,
            "ticks": ""
           }
          },
          "colorscale": {
           "diverging": [
            [
             0,
             "#8e0152"
            ],
            [
             0.1,
             "#c51b7d"
            ],
            [
             0.2,
             "#de77ae"
            ],
            [
             0.3,
             "#f1b6da"
            ],
            [
             0.4,
             "#fde0ef"
            ],
            [
             0.5,
             "#f7f7f7"
            ],
            [
             0.6,
             "#e6f5d0"
            ],
            [
             0.7,
             "#b8e186"
            ],
            [
             0.8,
             "#7fbc41"
            ],
            [
             0.9,
             "#4d9221"
            ],
            [
             1,
             "#276419"
            ]
           ],
           "sequential": [
            [
             0,
             "#0d0887"
            ],
            [
             0.1111111111111111,
             "#46039f"
            ],
            [
             0.2222222222222222,
             "#7201a8"
            ],
            [
             0.3333333333333333,
             "#9c179e"
            ],
            [
             0.4444444444444444,
             "#bd3786"
            ],
            [
             0.5555555555555556,
             "#d8576b"
            ],
            [
             0.6666666666666666,
             "#ed7953"
            ],
            [
             0.7777777777777778,
             "#fb9f3a"
            ],
            [
             0.8888888888888888,
             "#fdca26"
            ],
            [
             1,
             "#f0f921"
            ]
           ],
           "sequentialminus": [
            [
             0,
             "#0d0887"
            ],
            [
             0.1111111111111111,
             "#46039f"
            ],
            [
             0.2222222222222222,
             "#7201a8"
            ],
            [
             0.3333333333333333,
             "#9c179e"
            ],
            [
             0.4444444444444444,
             "#bd3786"
            ],
            [
             0.5555555555555556,
             "#d8576b"
            ],
            [
             0.6666666666666666,
             "#ed7953"
            ],
            [
             0.7777777777777778,
             "#fb9f3a"
            ],
            [
             0.8888888888888888,
             "#fdca26"
            ],
            [
             1,
             "#f0f921"
            ]
           ]
          },
          "colorway": [
           "#636efa",
           "#EF553B",
           "#00cc96",
           "#ab63fa",
           "#FFA15A",
           "#19d3f3",
           "#FF6692",
           "#B6E880",
           "#FF97FF",
           "#FECB52"
          ],
          "font": {
           "color": "#2a3f5f"
          },
          "geo": {
           "bgcolor": "white",
           "lakecolor": "white",
           "landcolor": "#E5ECF6",
           "showlakes": true,
           "showland": true,
           "subunitcolor": "white"
          },
          "hoverlabel": {
           "align": "left"
          },
          "hovermode": "closest",
          "mapbox": {
           "style": "light"
          },
          "paper_bgcolor": "white",
          "plot_bgcolor": "#E5ECF6",
          "polar": {
           "angularaxis": {
            "gridcolor": "white",
            "linecolor": "white",
            "ticks": ""
           },
           "bgcolor": "#E5ECF6",
           "radialaxis": {
            "gridcolor": "white",
            "linecolor": "white",
            "ticks": ""
           }
          },
          "scene": {
           "xaxis": {
            "backgroundcolor": "#E5ECF6",
            "gridcolor": "white",
            "gridwidth": 2,
            "linecolor": "white",
            "showbackground": true,
            "ticks": "",
            "zerolinecolor": "white"
           },
           "yaxis": {
            "backgroundcolor": "#E5ECF6",
            "gridcolor": "white",
            "gridwidth": 2,
            "linecolor": "white",
            "showbackground": true,
            "ticks": "",
            "zerolinecolor": "white"
           },
           "zaxis": {
            "backgroundcolor": "#E5ECF6",
            "gridcolor": "white",
            "gridwidth": 2,
            "linecolor": "white",
            "showbackground": true,
            "ticks": "",
            "zerolinecolor": "white"
           }
          },
          "shapedefaults": {
           "line": {
            "color": "#2a3f5f"
           }
          },
          "ternary": {
           "aaxis": {
            "gridcolor": "white",
            "linecolor": "white",
            "ticks": ""
           },
           "baxis": {
            "gridcolor": "white",
            "linecolor": "white",
            "ticks": ""
           },
           "bgcolor": "#E5ECF6",
           "caxis": {
            "gridcolor": "white",
            "linecolor": "white",
            "ticks": ""
           }
          },
          "title": {
           "x": 0.05
          },
          "xaxis": {
           "automargin": true,
           "gridcolor": "white",
           "linecolor": "white",
           "ticks": "",
           "title": {
            "standoff": 15
           },
           "zerolinecolor": "white",
           "zerolinewidth": 2
          },
          "yaxis": {
           "automargin": true,
           "gridcolor": "white",
           "linecolor": "white",
           "ticks": "",
           "title": {
            "standoff": 15
           },
           "zerolinecolor": "white",
           "zerolinewidth": 2
          }
         }
        },
        "title": {
         "text": "Negative copying scores (only negative heads shown)"
        },
        "width": 1200,
        "xaxis": {
         "anchor": "y",
         "constrain": "domain",
         "domain": [
          0,
          0.31999999999999995
         ],
         "scaleanchor": "y"
        },
        "xaxis2": {
         "anchor": "y2",
         "domain": [
          0.33999999999999997,
          0.6599999999999999
         ],
         "matches": "x"
        },
        "xaxis3": {
         "anchor": "y3",
         "domain": [
          0.6799999999999999,
          0.9999999999999999
         ],
         "matches": "x"
        },
        "yaxis": {
         "anchor": "x",
         "autorange": "reversed",
         "constrain": "domain",
         "domain": [
          0,
          1
         ]
        },
        "yaxis2": {
         "anchor": "x2",
         "domain": [
          0,
          1
         ],
         "matches": "y",
         "showticklabels": false
        },
        "yaxis3": {
         "anchor": "x3",
         "domain": [
          0,
          1
         ],
         "matches": "y",
         "showticklabels": false
        }
       }
      },
      "text/html": [
       "<div>                            <div id=\"1650c1b1-8208-4148-b699-c46a4075f4b3\" class=\"plotly-graph-div\" style=\"height:525px; width:1200px;\"></div>            <script type=\"text/javascript\">                require([\"plotly\"], function(Plotly) {                    window.PLOTLYENV=window.PLOTLYENV || {};                                    if (document.getElementById(\"1650c1b1-8208-4148-b699-c46a4075f4b3\")) {                    Plotly.newPlot(                        \"1650c1b1-8208-4148-b699-c46a4075f4b3\",                        [{\"coloraxis\":\"coloraxis\",\"name\":\"0\",\"z\":[[-0.0,-0.0,-0.0,-0.0,-0.0,-0.0,-0.0,-0.0,-0.0,-0.0,-0.0,-0.0],[-0.0,-0.0,0.48620644211769104,0.7193445563316345,-0.0,-0.0,-0.0,-0.0,10.482070922851562,7.3487396240234375,0.38155823945999146,13.626757621765137],[-0.0,-0.0,-0.0,-0.0,-0.0,1.4703452587127686,4.197067737579346,4.394338130950928,-0.0,-0.0,-0.0,2.4572641849517822],[-0.0,-0.0,-0.0,-0.0,5.094047546386719,-0.0,-0.0,-0.0,0.8181419372558594,-0.0,12.714628219604492,-0.0],[-0.0,-0.0,-0.0,-0.0,26.231792449951172,-0.0,-0.0,4.132206916809082,-0.0,-0.0,3.78729248046875,-0.0],[-0.0,-0.0,-0.0,-0.0,-0.0,-0.0,-0.0,-0.0,0.27686807513237,9.239720344543457,-0.0,72.99246215820312],[-0.0,-0.0,13.984891891479492,-0.0,-0.0,19.066755294799805,49.63622283935547,-0.0,-0.0,-0.0,-0.0,-0.0],[-0.0,-0.0,-0.0,30.699432373046875,-0.0,-0.0,7.785449981689453,-0.0,-0.0,8.671903610229492,-0.0,-0.0],[12.087983131408691,-0.0,-0.0,-0.0,-0.0,-0.0,-0.0,-0.0,-0.0,14.607446670532227,101.36616516113281,-0.0],[-0.0,-0.0,-0.0,-0.0,-0.0,108.88850402832031,-0.0,20.428050994873047,-0.0,-0.0,-0.0,-0.0],[-0.0,-0.0,-0.0,-0.0,-0.0,-0.0,-0.0,153.6652374267578,-0.0,-0.0,-0.0,-0.0],[27.073856353759766,-0.0,-0.0,-0.0,8.253949165344238,-0.0,-0.0,-0.0,-0.0,-0.0,140.3273468017578,-0.0]],\"type\":\"heatmap\",\"xaxis\":\"x\",\"yaxis\":\"y\",\"hovertemplate\":\"x: %{x}\\u003cbr\\u003ey: %{y}\\u003cbr\\u003ecolor: %{z}\\u003cextra\\u003e\\u003c\\u002fextra\\u003e\"},{\"coloraxis\":\"coloraxis\",\"name\":\"1\",\"z\":[[-0.0,-0.0,-0.0,-0.0,-0.0,-0.0,-0.0,-0.0,-0.0,-0.0,0.21755842864513397,-0.0],[-0.0,-0.0,0.15720488131046295,0.3474474251270294,-0.0,-0.0,-0.0,-0.0,8.609701156616211,5.738630771636963,0.2587445378303528,5.872998237609863],[-0.0,-0.0,-0.0,-0.0,-0.0,0.7880687713623047,2.6371312141418457,2.7895522117614746,-0.0,-0.0,-0.0,1.042227029800415],[-0.0,-0.0,-0.0,-0.0,3.2035508155822754,-0.0,-0.0,-0.0,0.4699705243110657,-0.0,6.445103645324707,-0.0],[-0.0,-0.0,-0.0,-0.0,15.54864501953125,-0.0,-0.0,1.517000436782837,-0.0,-0.0,3.554943561553955,-0.0],[-0.0,-0.0,-0.0,-0.0,-0.0,-0.0,-0.0,-0.0,-0.0,4.919487953186035,-0.0,45.048248291015625],[-0.0,-0.0,9.91438102722168,-0.0,-0.0,10.229873657226562,27.037521362304688,-0.0,-0.0,-0.0,-0.0,-0.0],[-0.0,-0.0,-0.0,18.911701202392578,-0.0,-0.0,4.464000225067139,-0.0,-0.0,5.748006820678711,-0.0,-0.0],[6.160461902618408,-0.0,-0.0,-0.0,-0.0,-0.0,-0.0,-0.0,-0.0,9.023391723632812,56.02901077270508,-0.0],[-0.0,-0.0,-0.0,-0.0,0.6270670890808105,64.23711395263672,-0.0,14.48973274230957,-0.0,-0.0,-0.0,-0.0],[-0.0,-0.0,-0.0,-0.0,-0.0,-0.0,-0.0,87.19242858886719,1.4911201000213623,-0.0,-0.0,-0.0],[19.12805938720703,-0.0,-0.0,-0.0,7.400367736816406,-0.0,-0.0,-0.0,-0.0,-0.0,80.97089385986328,-0.0]],\"type\":\"heatmap\",\"xaxis\":\"x2\",\"yaxis\":\"y2\",\"hovertemplate\":\"x: %{x}\\u003cbr\\u003ey: %{y}\\u003cbr\\u003ecolor: %{z}\\u003cextra\\u003e\\u003c\\u002fextra\\u003e\"},{\"coloraxis\":\"coloraxis\",\"name\":\"2\",\"z\":[[-0.0,-0.0,-0.0,-0.0,-0.0,-0.0,-0.0,-0.0,-0.0,0.07648605853319168,-0.0,-0.0],[0.017174869775772095,0.16224701702594757,0.15003256499767303,0.2610093057155609,0.36684781312942505,0.6755353212356567,-0.0,-0.0,0.5151602029800415,0.35234951972961426,0.2557646632194519,1.9526262283325195],[0.3019809424877167,-0.0,-0.0,0.18665891885757446,-0.0,0.35808318853378296,0.6191457509994507,0.3299562335014343,0.05404369905591011,-0.0,0.7880268692970276,0.8252776265144348],[-0.0,0.34549784660339355,-0.0,-0.0,1.290405035018921,-0.0,-0.0,-0.0,0.3574572503566742,-0.0,3.034200668334961,-0.0],[-0.0,-0.0,-0.0,-0.0,1.6888935565948486,-0.0,0.43058913946151733,1.800316572189331,-0.0,-0.0,1.2292343378067017,-0.0],[-0.0,-0.0,-0.0,-0.0,-0.0,-0.0,-0.0,-0.0,0.5488229990005493,2.4280593395233154,-0.0,4.967545509338379],[-0.0,-0.0,0.8105877041816711,-0.0,-0.0,2.4422266483306885,5.414085865020752,-0.0,-0.0,-0.0,-0.0,-0.0],[-0.0,-0.0,-0.0,0.9413337707519531,-0.0,-0.0,1.6934452056884766,-0.0,-0.0,-0.0,-0.0,-0.0],[1.7119276523590088,-0.0,-0.0,-0.0,-0.0,-0.0,-0.0,-0.0,-0.0,0.7245866060256958,4.87744140625,-0.0],[-0.0,0.20557443797588348,-0.0,-0.0,-0.0,5.92679500579834,-0.0,0.39797064661979675,-0.0,-0.0,-0.0,-0.0],[-0.0,-0.0,-0.0,-0.0,-0.0,-0.0,-0.0,0.1446302831172943,0.3655526041984558,-0.0,-0.0,-0.0],[-0.0,-0.0,-0.0,-0.0,-0.0,-0.0,-0.0,-0.0,-0.0,-0.0,-0.0,-0.0]],\"type\":\"heatmap\",\"xaxis\":\"x3\",\"yaxis\":\"y3\",\"hovertemplate\":\"x: %{x}\\u003cbr\\u003ey: %{y}\\u003cbr\\u003ecolor: %{z}\\u003cextra\\u003e\\u003c\\u002fextra\\u003e\"}],                        {\"template\":{\"data\":{\"histogram2dcontour\":[{\"type\":\"histogram2dcontour\",\"colorbar\":{\"outlinewidth\":0,\"ticks\":\"\"},\"colorscale\":[[0.0,\"#0d0887\"],[0.1111111111111111,\"#46039f\"],[0.2222222222222222,\"#7201a8\"],[0.3333333333333333,\"#9c179e\"],[0.4444444444444444,\"#bd3786\"],[0.5555555555555556,\"#d8576b\"],[0.6666666666666666,\"#ed7953\"],[0.7777777777777778,\"#fb9f3a\"],[0.8888888888888888,\"#fdca26\"],[1.0,\"#f0f921\"]]}],\"choropleth\":[{\"type\":\"choropleth\",\"colorbar\":{\"outlinewidth\":0,\"ticks\":\"\"}}],\"histogram2d\":[{\"type\":\"histogram2d\",\"colorbar\":{\"outlinewidth\":0,\"ticks\":\"\"},\"colorscale\":[[0.0,\"#0d0887\"],[0.1111111111111111,\"#46039f\"],[0.2222222222222222,\"#7201a8\"],[0.3333333333333333,\"#9c179e\"],[0.4444444444444444,\"#bd3786\"],[0.5555555555555556,\"#d8576b\"],[0.6666666666666666,\"#ed7953\"],[0.7777777777777778,\"#fb9f3a\"],[0.8888888888888888,\"#fdca26\"],[1.0,\"#f0f921\"]]}],\"heatmap\":[{\"type\":\"heatmap\",\"colorbar\":{\"outlinewidth\":0,\"ticks\":\"\"},\"colorscale\":[[0.0,\"#0d0887\"],[0.1111111111111111,\"#46039f\"],[0.2222222222222222,\"#7201a8\"],[0.3333333333333333,\"#9c179e\"],[0.4444444444444444,\"#bd3786\"],[0.5555555555555556,\"#d8576b\"],[0.6666666666666666,\"#ed7953\"],[0.7777777777777778,\"#fb9f3a\"],[0.8888888888888888,\"#fdca26\"],[1.0,\"#f0f921\"]]}],\"heatmapgl\":[{\"type\":\"heatmapgl\",\"colorbar\":{\"outlinewidth\":0,\"ticks\":\"\"},\"colorscale\":[[0.0,\"#0d0887\"],[0.1111111111111111,\"#46039f\"],[0.2222222222222222,\"#7201a8\"],[0.3333333333333333,\"#9c179e\"],[0.4444444444444444,\"#bd3786\"],[0.5555555555555556,\"#d8576b\"],[0.6666666666666666,\"#ed7953\"],[0.7777777777777778,\"#fb9f3a\"],[0.8888888888888888,\"#fdca26\"],[1.0,\"#f0f921\"]]}],\"contourcarpet\":[{\"type\":\"contourcarpet\",\"colorbar\":{\"outlinewidth\":0,\"ticks\":\"\"}}],\"contour\":[{\"type\":\"contour\",\"colorbar\":{\"outlinewidth\":0,\"ticks\":\"\"},\"colorscale\":[[0.0,\"#0d0887\"],[0.1111111111111111,\"#46039f\"],[0.2222222222222222,\"#7201a8\"],[0.3333333333333333,\"#9c179e\"],[0.4444444444444444,\"#bd3786\"],[0.5555555555555556,\"#d8576b\"],[0.6666666666666666,\"#ed7953\"],[0.7777777777777778,\"#fb9f3a\"],[0.8888888888888888,\"#fdca26\"],[1.0,\"#f0f921\"]]}],\"surface\":[{\"type\":\"surface\",\"colorbar\":{\"outlinewidth\":0,\"ticks\":\"\"},\"colorscale\":[[0.0,\"#0d0887\"],[0.1111111111111111,\"#46039f\"],[0.2222222222222222,\"#7201a8\"],[0.3333333333333333,\"#9c179e\"],[0.4444444444444444,\"#bd3786\"],[0.5555555555555556,\"#d8576b\"],[0.6666666666666666,\"#ed7953\"],[0.7777777777777778,\"#fb9f3a\"],[0.8888888888888888,\"#fdca26\"],[1.0,\"#f0f921\"]]}],\"mesh3d\":[{\"type\":\"mesh3d\",\"colorbar\":{\"outlinewidth\":0,\"ticks\":\"\"}}],\"scatter\":[{\"fillpattern\":{\"fillmode\":\"overlay\",\"size\":10,\"solidity\":0.2},\"type\":\"scatter\"}],\"parcoords\":[{\"type\":\"parcoords\",\"line\":{\"colorbar\":{\"outlinewidth\":0,\"ticks\":\"\"}}}],\"scatterpolargl\":[{\"type\":\"scatterpolargl\",\"marker\":{\"colorbar\":{\"outlinewidth\":0,\"ticks\":\"\"}}}],\"bar\":[{\"error_x\":{\"color\":\"#2a3f5f\"},\"error_y\":{\"color\":\"#2a3f5f\"},\"marker\":{\"line\":{\"color\":\"#E5ECF6\",\"width\":0.5},\"pattern\":{\"fillmode\":\"overlay\",\"size\":10,\"solidity\":0.2}},\"type\":\"bar\"}],\"scattergeo\":[{\"type\":\"scattergeo\",\"marker\":{\"colorbar\":{\"outlinewidth\":0,\"ticks\":\"\"}}}],\"scatterpolar\":[{\"type\":\"scatterpolar\",\"marker\":{\"colorbar\":{\"outlinewidth\":0,\"ticks\":\"\"}}}],\"histogram\":[{\"marker\":{\"pattern\":{\"fillmode\":\"overlay\",\"size\":10,\"solidity\":0.2}},\"type\":\"histogram\"}],\"scattergl\":[{\"type\":\"scattergl\",\"marker\":{\"colorbar\":{\"outlinewidth\":0,\"ticks\":\"\"}}}],\"scatter3d\":[{\"type\":\"scatter3d\",\"line\":{\"colorbar\":{\"outlinewidth\":0,\"ticks\":\"\"}},\"marker\":{\"colorbar\":{\"outlinewidth\":0,\"ticks\":\"\"}}}],\"scattermapbox\":[{\"type\":\"scattermapbox\",\"marker\":{\"colorbar\":{\"outlinewidth\":0,\"ticks\":\"\"}}}],\"scatterternary\":[{\"type\":\"scatterternary\",\"marker\":{\"colorbar\":{\"outlinewidth\":0,\"ticks\":\"\"}}}],\"scattercarpet\":[{\"type\":\"scattercarpet\",\"marker\":{\"colorbar\":{\"outlinewidth\":0,\"ticks\":\"\"}}}],\"carpet\":[{\"aaxis\":{\"endlinecolor\":\"#2a3f5f\",\"gridcolor\":\"white\",\"linecolor\":\"white\",\"minorgridcolor\":\"white\",\"startlinecolor\":\"#2a3f5f\"},\"baxis\":{\"endlinecolor\":\"#2a3f5f\",\"gridcolor\":\"white\",\"linecolor\":\"white\",\"minorgridcolor\":\"white\",\"startlinecolor\":\"#2a3f5f\"},\"type\":\"carpet\"}],\"table\":[{\"cells\":{\"fill\":{\"color\":\"#EBF0F8\"},\"line\":{\"color\":\"white\"}},\"header\":{\"fill\":{\"color\":\"#C8D4E3\"},\"line\":{\"color\":\"white\"}},\"type\":\"table\"}],\"barpolar\":[{\"marker\":{\"line\":{\"color\":\"#E5ECF6\",\"width\":0.5},\"pattern\":{\"fillmode\":\"overlay\",\"size\":10,\"solidity\":0.2}},\"type\":\"barpolar\"}],\"pie\":[{\"automargin\":true,\"type\":\"pie\"}]},\"layout\":{\"autotypenumbers\":\"strict\",\"colorway\":[\"#636efa\",\"#EF553B\",\"#00cc96\",\"#ab63fa\",\"#FFA15A\",\"#19d3f3\",\"#FF6692\",\"#B6E880\",\"#FF97FF\",\"#FECB52\"],\"font\":{\"color\":\"#2a3f5f\"},\"hovermode\":\"closest\",\"hoverlabel\":{\"align\":\"left\"},\"paper_bgcolor\":\"white\",\"plot_bgcolor\":\"#E5ECF6\",\"polar\":{\"bgcolor\":\"#E5ECF6\",\"angularaxis\":{\"gridcolor\":\"white\",\"linecolor\":\"white\",\"ticks\":\"\"},\"radialaxis\":{\"gridcolor\":\"white\",\"linecolor\":\"white\",\"ticks\":\"\"}},\"ternary\":{\"bgcolor\":\"#E5ECF6\",\"aaxis\":{\"gridcolor\":\"white\",\"linecolor\":\"white\",\"ticks\":\"\"},\"baxis\":{\"gridcolor\":\"white\",\"linecolor\":\"white\",\"ticks\":\"\"},\"caxis\":{\"gridcolor\":\"white\",\"linecolor\":\"white\",\"ticks\":\"\"}},\"coloraxis\":{\"colorbar\":{\"outlinewidth\":0,\"ticks\":\"\"}},\"colorscale\":{\"sequential\":[[0.0,\"#0d0887\"],[0.1111111111111111,\"#46039f\"],[0.2222222222222222,\"#7201a8\"],[0.3333333333333333,\"#9c179e\"],[0.4444444444444444,\"#bd3786\"],[0.5555555555555556,\"#d8576b\"],[0.6666666666666666,\"#ed7953\"],[0.7777777777777778,\"#fb9f3a\"],[0.8888888888888888,\"#fdca26\"],[1.0,\"#f0f921\"]],\"sequentialminus\":[[0.0,\"#0d0887\"],[0.1111111111111111,\"#46039f\"],[0.2222222222222222,\"#7201a8\"],[0.3333333333333333,\"#9c179e\"],[0.4444444444444444,\"#bd3786\"],[0.5555555555555556,\"#d8576b\"],[0.6666666666666666,\"#ed7953\"],[0.7777777777777778,\"#fb9f3a\"],[0.8888888888888888,\"#fdca26\"],[1.0,\"#f0f921\"]],\"diverging\":[[0,\"#8e0152\"],[0.1,\"#c51b7d\"],[0.2,\"#de77ae\"],[0.3,\"#f1b6da\"],[0.4,\"#fde0ef\"],[0.5,\"#f7f7f7\"],[0.6,\"#e6f5d0\"],[0.7,\"#b8e186\"],[0.8,\"#7fbc41\"],[0.9,\"#4d9221\"],[1,\"#276419\"]]},\"xaxis\":{\"gridcolor\":\"white\",\"linecolor\":\"white\",\"ticks\":\"\",\"title\":{\"standoff\":15},\"zerolinecolor\":\"white\",\"automargin\":true,\"zerolinewidth\":2},\"yaxis\":{\"gridcolor\":\"white\",\"linecolor\":\"white\",\"ticks\":\"\",\"title\":{\"standoff\":15},\"zerolinecolor\":\"white\",\"automargin\":true,\"zerolinewidth\":2},\"scene\":{\"xaxis\":{\"backgroundcolor\":\"#E5ECF6\",\"gridcolor\":\"white\",\"linecolor\":\"white\",\"showbackground\":true,\"ticks\":\"\",\"zerolinecolor\":\"white\",\"gridwidth\":2},\"yaxis\":{\"backgroundcolor\":\"#E5ECF6\",\"gridcolor\":\"white\",\"linecolor\":\"white\",\"showbackground\":true,\"ticks\":\"\",\"zerolinecolor\":\"white\",\"gridwidth\":2},\"zaxis\":{\"backgroundcolor\":\"#E5ECF6\",\"gridcolor\":\"white\",\"linecolor\":\"white\",\"showbackground\":true,\"ticks\":\"\",\"zerolinecolor\":\"white\",\"gridwidth\":2}},\"shapedefaults\":{\"line\":{\"color\":\"#2a3f5f\"}},\"annotationdefaults\":{\"arrowcolor\":\"#2a3f5f\",\"arrowhead\":0,\"arrowwidth\":1},\"geo\":{\"bgcolor\":\"white\",\"landcolor\":\"#E5ECF6\",\"subunitcolor\":\"white\",\"showland\":true,\"showlakes\":true,\"lakecolor\":\"white\"},\"title\":{\"x\":0.05},\"mapbox\":{\"style\":\"light\"}}},\"xaxis\":{\"anchor\":\"y\",\"domain\":[0.0,0.31999999999999995],\"scaleanchor\":\"y\",\"constrain\":\"domain\"},\"yaxis\":{\"anchor\":\"x\",\"domain\":[0.0,1.0],\"autorange\":\"reversed\",\"constrain\":\"domain\"},\"xaxis2\":{\"anchor\":\"y2\",\"domain\":[0.33999999999999997,0.6599999999999999],\"matches\":\"x\"},\"yaxis2\":{\"anchor\":\"x2\",\"domain\":[0.0,1.0],\"matches\":\"y\",\"showticklabels\":false},\"xaxis3\":{\"anchor\":\"y3\",\"domain\":[0.6799999999999999,0.9999999999999999],\"matches\":\"x\"},\"yaxis3\":{\"anchor\":\"x3\",\"domain\":[0.0,1.0],\"matches\":\"y\",\"showticklabels\":false},\"annotations\":[{\"font\":{},\"showarrow\":false,\"text\":\"W_E (including MLPs)\",\"x\":0.15999999999999998,\"xanchor\":\"center\",\"xref\":\"paper\",\"y\":1.0,\"yanchor\":\"bottom\",\"yref\":\"paper\"},{\"font\":{},\"showarrow\":false,\"text\":\"W_E (only MLPs)\",\"x\":0.49999999999999994,\"xanchor\":\"center\",\"xref\":\"paper\",\"y\":1.0,\"yanchor\":\"bottom\",\"yref\":\"paper\"},{\"font\":{},\"showarrow\":false,\"text\":\"W_E (no MLPs)\",\"x\":0.8399999999999999,\"xanchor\":\"center\",\"xref\":\"paper\",\"y\":1.0,\"yanchor\":\"bottom\",\"yref\":\"paper\"}],\"coloraxis\":{\"colorscale\":[[0.0,\"rgb(103,0,31)\"],[0.1,\"rgb(178,24,43)\"],[0.2,\"rgb(214,96,77)\"],[0.3,\"rgb(244,165,130)\"],[0.4,\"rgb(253,219,199)\"],[0.5,\"rgb(247,247,247)\"],[0.6,\"rgb(209,229,240)\"],[0.7,\"rgb(146,197,222)\"],[0.8,\"rgb(67,147,195)\"],[0.9,\"rgb(33,102,172)\"],[1.0,\"rgb(5,48,97)\"]],\"cmid\":0.0},\"title\":{\"text\":\"Negative copying scores (only negative heads shown)\"},\"width\":1200,\"modebar\":{\"add\":[\"drawline\",\"drawopenpath\",\"drawclosedpath\",\"drawcircle\",\"drawrect\",\"eraseshape\"]}},                        {\"displaylogo\": false, \"responsive\": true}                    ).then(function(){\n",
       "                            \n",
       "var gd = document.getElementById('1650c1b1-8208-4148-b699-c46a4075f4b3');\n",
       "var x = new MutationObserver(function (mutations, observer) {{\n",
       "        var display = window.getComputedStyle(gd).display;\n",
       "        if (!display || display === 'none') {{\n",
       "            console.log([gd, 'removed!']);\n",
       "            Plotly.purge(gd);\n",
       "            observer.disconnect();\n",
       "        }}\n",
       "}});\n",
       "\n",
       "// Listen for the removal of the full notebook cells\n",
       "var notebookContainer = gd.closest('#notebook-container');\n",
       "if (notebookContainer) {{\n",
       "    x.observe(notebookContainer, {childList: true});\n",
       "}}\n",
       "\n",
       "// Listen for the clearing of the current output cell\n",
       "var outputEl = gd.closest('.output');\n",
       "if (outputEl) {{\n",
       "    x.observe(outputEl, {childList: true});\n",
       "}}\n",
       "\n",
       "                        })                };                });            </script>        </div>"
      ]
     },
     "metadata": {},
     "output_type": "display_data"
    }
   ],
   "source": [
    "W_EE = get_effective_embedding_2(model)[\"W_E (including MLPs)\"]\n",
    "W_EE_subE = get_effective_embedding_2(model)[\"W_E (only MLPs)\"]\n",
    "W_E = get_effective_embedding_2(model)[\"W_E (no MLPs)\"]\n",
    "\n",
    "results = t.zeros(3, 12, 12).float()\n",
    "\n",
    "for layer, head_idx in itertools.product(range(12), range(12)):\n",
    "    results[0, layer, head_idx] = get_neg_copying_score(model, W_EE, head=(layer, head_idx), n_batches=10, sample_size=1000, truncate_negative=True)\n",
    "    results[1, layer, head_idx] = get_neg_copying_score(model, W_EE_subE, head=(layer, head_idx), n_batches=10, sample_size=1000, truncate_negative=True)\n",
    "    results[2, layer, head_idx] = get_neg_copying_score(model, W_E, head=(layer, head_idx), n_batches=10, sample_size=1000, truncate_negative=True)\n",
    "\n",
    "imshow(\n",
    "    results,\n",
    "    title=\"Negative copying scores (only negative heads shown)\",\n",
    "    width=1200,\n",
    "    facet_col=0,\n",
    "    facet_labels=[\"W_E (including MLPs)\", \"W_E (only MLPs)\", \"W_E (no MLPs)\"],\n",
    ")"
   ]
  },
  {
   "cell_type": "code",
   "execution_count": 45,
   "metadata": {},
   "outputs": [
    {
     "data": {
      "application/vnd.plotly.v1+json": {
       "config": {
        "displaylogo": false,
        "plotlyServerURL": "https://plot.ly",
        "responsive": true
       },
       "data": [
        {
         "coloraxis": "coloraxis",
         "hovertemplate": "x: %{x}<br>y: %{y}<br>color: %{z}<extra></extra>",
         "name": "0",
         "type": "heatmap",
         "xaxis": "x",
         "yaxis": "y",
         "z": [
          [
           0.000037412166420836,
           0.00010266403842251748,
           0.00014742036000825465,
           0.000030062583391554654,
           0.000025265198928536847,
           0.00008983261795947328,
           0.0000366589410987217,
           0.00005702071211999282,
           0.00011243331391597167,
           0.00011959928087890148,
           0.00016998285718727857,
           0.00017035918426699936
          ],
          [
           0.00002458969538565725,
           0.00011571687355171889,
           0.0002553836384322494,
           0.0004967960412614048,
           0.0004147128202021122,
           0.00033346141572110355,
           3.0834303998972246e-8,
           2.4401094478321284e-9,
           0.03697362542152405,
           0.017254605889320374,
           0.00024798818049021065,
           0.08053243160247803
          ],
          [
           0.000057777280744630843,
           4.3217492911727835e-15,
           0.000039063990698195994,
           0.00009083443728741258,
           0.00000256280645771767,
           0.0006175150047056377,
           0.0012373318895697594,
           0.0014502175617963076,
           0.00004928852285956964,
           0.000015197186257864814,
           0.00016549888823647052,
           0.0008715944131836295
          ],
          [
           0.000019487215467961505,
           0.0001544313709018752,
           0.00006165932427393273,
           0.00003870184445986524,
           0.0008432130562141538,
           1.2097017831891321e-10,
           0.000032629592169541866,
           0.0000084934754340793,
           0.0005990355275571346,
           0.00003369220576132648,
           0.016103031113743782,
           0.000005425536073744297
          ],
          [
           0.000008130758942570537,
           0.000076867057941854,
           0.0000012900397905468708,
           0.0000013797460951536777,
           0.07273965328931808,
           0.000020571649656631052,
           0.00023012515157461166,
           0.005153026897460222,
           5.424957372213157e-9,
           9.681826895757695e-8,
           0.001200478756800294,
           0.00004261412686901167
          ],
          [
           3.0953817287127094e-9,
           6.5911560064024766e-12,
           0.0000018218088371213526,
           0.000020141354980296455,
           0.00002577351733634714,
           8.105085491649788e-9,
           0.000006756118636985775,
           2.6354177506959786e-8,
           0.0003410315257497132,
           0.001278585521504283,
           9.48074691670131e-12,
           0.4007231593132019
          ],
          [
           1.3715880697873217e-7,
           1.137438143672398e-9,
           0.0045363083481788635,
           0.00003827850741799921,
           8.121996998566861e-13,
           0.026436537504196167,
           0.17684422433376312,
           6.036088989747057e-11,
           0.0000022573030946659856,
           2.791766926142636e-13,
           5.218112747451542e-11,
           2.5650609813965275e-7
          ],
          [
           1.1126328303134869e-7,
           2.972345633511786e-11,
           1.6476122584882352e-17,
           0.06430226564407349,
           9.148062929398293e-8,
           7.843632969690983e-13,
           0.0012890486977994442,
           2.415372968300744e-8,
           2.4224408590178825e-10,
           0.003660821123048663,
           2.410583451600834e-12,
           3.342175841636319e-11
          ],
          [
           0.003479719627648592,
           7.844746733941985e-19,
           3.892791477892472e-15,
           8.241729965163813e-9,
           8.267278417406487e-8,
           5.848783501960497e-8,
           4.539777901136645e-16,
           5.338948838584656e-9,
           5.956434347489936e-13,
           0.0013594739139080048,
           0.5712605714797974,
           2.368119162938057e-17
          ],
          [
           4.727613089959386e-14,
           1.789051025380406e-11,
           1.3557503681429078e-18,
           1.6157058330135143e-11,
           0.000047313180402852595,
           0.31326574087142944,
           3.503448031500486e-23,
           0.009554139338433743,
           2.222211668335759e-20,
           1.7824418649690967e-24,
           0.000014562659998773597,
           2.2008784056882037e-21
          ],
          [
           1.5965004470755835e-24,
           4.0911629313836765e-20,
           2.1791831493057928e-32,
           1.014775434601161e-15,
           8.801185835696453e-16,
           0.00004559423541650176,
           5.577709889718036e-19,
           0.7589211463928223,
           0.00006033576210029423,
           0.000006787135589547688,
           1.2372538926468065e-27,
           6.639771333661129e-14
          ],
          [
           0.010442038998007774,
           2.417375651272349e-27,
           2.7268864541803215e-37,
           1.075640055380953e-30,
           0.0009929736843332648,
           0.000010120271326741204,
           5.623697676625772e-34,
           5.130343927461922e-10,
           0.0004778408329002559,
           1.588521748247863e-39,
           0.5106579661369324,
           8.018992329976281e-19
          ]
         ]
        },
        {
         "coloraxis": "coloraxis",
         "hovertemplate": "x: %{x}<br>y: %{y}<br>color: %{z}<extra></extra>",
         "name": "1",
         "type": "heatmap",
         "xaxis": "x2",
         "yaxis": "y2",
         "z": [
          [
           0.00007066873513394967,
           0.00015649678243789822,
           0.0000991163105936721,
           0.00009665956895332783,
           0.00006169213884277269,
           0.00011622756574070081,
           0.000044468091800808907,
           0.00009417713590664789,
           0.00007270277274074033,
           0.0001044346354319714,
           0.00020219699945300817,
           0.00016963186499197036
          ],
          [
           0.00005561484067584388,
           0.00006186646351125091,
           0.00026731641264632344,
           0.0002832012833096087,
           0.00011479910608613864,
           0.00022871966939419508,
           2.4026604705795762e-8,
           4.1717260756968244e-8,
           0.027250006794929504,
           0.011190458200871944,
           0.0002318012120667845,
           0.011546214111149311
          ],
          [
           0.00015736017667222768,
           7.275851362370522e-12,
           0.00007784475747030228,
           0.00010518372437218204,
           0.000006963160558370873,
           0.00035261514130979776,
           0.0007490682182833552,
           0.0009130483376793563,
           0.00008057617378653958,
           0.00004101296144654043,
           0.00008707030792720616,
           0.0004045311361551285
          ],
          [
           0.00004274253296898678,
           0.0000384402483177837,
           0.0001442650391254574,
           0.00003141167326248251,
           0.0005355101311579347,
           5.164350227460091e-7,
           0.00006976355507504195,
           0.000016059018889791332,
           0.0003596837632358074,
           0.00003531968832248822,
           0.003828900633379817,
           0.00002120182580256369
          ],
          [
           0.000024960803784779273,
           0.00009164359653368592,
           0.000019391436580917798,
           0.000004786021690961206,
           0.024291880428791046,
           0.000014855477274977602,
           0.00015079177683219314,
           0.0007070800638757646,
           8.631966608163566e-8,
           6.215933012754249e-7,
           0.0009345015278086066,
           0.00011219208681723103
          ],
          [
           3.610450960422895e-8,
           9.945165801994449e-10,
           0.00003257198477513157,
           0.00003217787525500171,
           0.000055931923270691186,
           4.447732067092147e-7,
           0.000022969983547227457,
           3.367641738805105e-7,
           0.00020056874200236052,
           0.0007753492100164294,
           2.1415358375520555e-9,
           0.22369210422039032
          ],
          [
           0.000002693449005164439,
           0.0000013079340988042532,
           0.0023782444186508656,
           0.00002713675712584518,
           3.036882204043856e-11,
           0.007307501044124365,
           0.044007278978824615,
           2.904615143961564e-7,
           0.00002049556132988073,
           1.4737058795510904e-10,
           1.719425668511576e-8,
           0.000004713690486823907
          ],
          [
           0.000008539996997569688,
           1.754075495963292e-10,
           2.2815793816689713e-15,
           0.025243431329727173,
           0.00006135180592536926,
           2.4908047846494696e-10,
           0.0007343353936448693,
           0.000016481364582432434,
           4.769659156522721e-8,
           0.0021816168446093798,
           1.9911360754631957e-11,
           2.049717950924901e-9
          ],
          [
           0.000951264810282737,
           2.8268193341673964e-10,
           2.3966742219300174e-12,
           0.0000502028051414527,
           5.159766374163155e-7,
           0.00000343912438438565,
           6.984080674898863e-11,
           0.0000011785826927734888,
           3.404675152918202e-11,
           0.001087178010493517,
           0.28026607632637024,
           1.638908193185573e-13
          ],
          [
           4.185403759682238e-12,
           0.0000024646922156534856,
           1.4577259755191307e-12,
           4.352244342697986e-9,
           0.0002180045994464308,
           0.14637182652950287,
           8.784982773703581e-19,
           0.005704848561435938,
           1.9977621462083416e-15,
           3.343926093859631e-20,
           0.00006779886462027207,
           4.645359631569608e-17
          ],
          [
           1.1198246328636795e-21,
           2.4853217221862053e-15,
           7.537365894261204e-23,
           7.679092277612654e-7,
           4.467761272053394e-9,
           0.00011917301162611693,
           4.262302561153063e-21,
           0.5726150274276733,
           0.00007955498585943133,
           0.000030416311346925795,
           4.502003831475732e-20,
           7.923595048316134e-13
          ],
          [
           0.007131032645702362,
           7.4887307832385765e-19,
           5.3809861030072976e-42,
           5.181929152100217e-23,
           0.0004452142457012087,
           0.000015182115021161735,
           7.376357427839293e-29,
           0.0000021300952539604623,
           0.0006147188250906765,
           3.801650410820624e-32,
           0.3368409276008606,
           2.3784092235837676e-15
          ]
         ]
        },
        {
         "coloraxis": "coloraxis",
         "hovertemplate": "x: %{x}<br>y: %{y}<br>color: %{z}<extra></extra>",
         "name": "2",
         "type": "heatmap",
         "xaxis": "x3",
         "yaxis": "y3",
         "z": [
          [
           0.00014234504487831146,
           0.0001577699149493128,
           0.00016889206017367542,
           0.00015287315181922168,
           0.00012302417599130422,
           0.00015854033699724823,
           0.00011382925003999844,
           0.0001466464891564101,
           0.00017712936096359044,
           0.0002190786908613518,
           0.00016407796647399664,
           0.00018655075109563768
          ],
          [
           0.00020479604427237064,
           0.0002386794367339462,
           0.00023336666345130652,
           0.00026076711947098374,
           0.0002932344505097717,
           0.00041020888602361083,
           0.00005587546547758393,
           0.00006640840729232877,
           0.00034038705052807927,
           0.0002880583342630416,
           0.00025965363602153957,
           0.0016364749753847718
          ],
          [
           0.000273629033472389,
           0.000047250861825887114,
           0.00016876199515536427,
           0.00024232268333435059,
           0.0001331342791672796,
           0.00028876709984615445,
           0.00037669489393010736,
           0.0002845498966053128,
           0.00021281754015944898,
           0.00018288203864358366,
           0.0004626877198461443,
           0.00047972783795557916
          ],
          [
           0.00010321391891920939,
           0.0002907059679273516,
           0.00015481402806472033,
           0.00013892682909499854,
           0.0008166677434928715,
           0.00009617891919333488,
           0.00018791879119817168,
           0.00017291105177719146,
           0.00028852475224994123,
           0.00018204243679065257,
           0.006385540124028921,
           0.0001447500108042732
          ],
          [
           0.00015707567217759788,
           0.00016626798606012017,
           0.0001823671191232279,
           0.00009944794146576896,
           0.0011888492153957486,
           0.0001387473603244871,
           0.00032042860402725637,
           0.0015072760870680213,
           0.00007029153493931517,
           0.00008632355456938967,
           0.0007483437075279653,
           0.00012047522614011541
          ],
          [
           0.00008426433487329632,
           0.0001240867713931948,
           0.00003464195106062107,
           0.0000903107356862165,
           0.0001643256691750139,
           0.00008284732757601887,
           0.00013939320342615247,
           0.00006405406747944653,
           0.00035644767922349274,
           0.003099808469414711,
           0.00001697996412985958,
           0.04719442501664162
          ],
          [
           0.000036027464375365525,
           0.00009271006274502724,
           0.0005511906929314137,
           0.0000713780609657988,
           0.000015703612007200718,
           0.003847852349281311,
           0.056565772742033005,
           0.000036850258766207844,
           0.00004123993858229369,
           0.00007364628982031718,
           0.00006940923049114645,
           0.00008333013101946563
          ],
          [
           0.00003269623266533017,
           0.000011758268556150142,
           0.00010846132499864325,
           0.0005788689013570547,
           0.00002064025647996459,
           0.0000189277452591341,
           0.001455490943044424,
           0.00013867452798876911,
           0.000024883536752895452,
           0.00006988113455008715,
           0.00009874589886749163,
           0.00013308429333847016
          ],
          [
           0.002887081354856491,
           0.00018419945263303816,
           0.00005421084279078059,
           0.00013088303967379034,
           0.0000309513125102967,
           0.00001690135832177475,
           0.00006019281136104837,
           0.0000168587030202616,
           0.00001372931910736952,
           0.00046746962470933795,
           0.04015123099088669,
           0.00006439971912186593
          ],
          [
           0.000014624970390286762,
           0.00027196016162633896,
           0.000011470308891148306,
           0.000006327566552499775,
           0.00014417871716432273,
           0.0759185329079628,
           0.0000594495031691622,
           0.0003383117145858705,
           0.000026769059331854805,
           0.00013263875734992325,
           0.00002021248837991152,
           0.00021285866387188435
          ],
          [
           0.000012186707863293123,
           0.00006626307731494308,
           0.00008708144014235586,
           0.00007684567390242592,
           0.0000420035285060294,
           0.000011820581676147413,
           0.00002297904939041473,
           0.00024934287648648024,
           0.00030102976597845554,
           0.000008670799616083968,
           0.00008457194780930877,
           0.000013000621038372628
          ],
          [
           0.00005127899203216657,
           0.000013826404938299675,
           0.000011086351150879636,
           0.000002308910097781336,
           0.00009698225767351687,
           0.00003431128425290808,
           0.00003264327096985653,
           0.0000301357595162699,
           0.00007047911640256643,
           0.000012674465324380435,
           0.000001468411710447981,
           0.000002147844043065561
          ]
         ]
        }
       ],
       "layout": {
        "annotations": [
         {
          "font": {},
          "showarrow": false,
          "text": "W_E (including MLPs)",
          "x": 0.15999999999999998,
          "xanchor": "center",
          "xref": "paper",
          "y": 1,
          "yanchor": "bottom",
          "yref": "paper"
         },
         {
          "font": {},
          "showarrow": false,
          "text": "W_E (only MLPs)",
          "x": 0.49999999999999994,
          "xanchor": "center",
          "xref": "paper",
          "y": 1,
          "yanchor": "bottom",
          "yref": "paper"
         },
         {
          "font": {},
          "showarrow": false,
          "text": "W_E (no MLPs)",
          "x": 0.8399999999999999,
          "xanchor": "center",
          "xref": "paper",
          "y": 1,
          "yanchor": "bottom",
          "yref": "paper"
         }
        ],
        "coloraxis": {
         "cmax": 1,
         "cmid": 0,
         "cmin": -1,
         "colorscale": [
          [
           0,
           "rgb(103,0,31)"
          ],
          [
           0.1,
           "rgb(178,24,43)"
          ],
          [
           0.2,
           "rgb(214,96,77)"
          ],
          [
           0.3,
           "rgb(244,165,130)"
          ],
          [
           0.4,
           "rgb(253,219,199)"
          ],
          [
           0.5,
           "rgb(247,247,247)"
          ],
          [
           0.6,
           "rgb(209,229,240)"
          ],
          [
           0.7,
           "rgb(146,197,222)"
          ],
          [
           0.8,
           "rgb(67,147,195)"
          ],
          [
           0.9,
           "rgb(33,102,172)"
          ],
          [
           1,
           "rgb(5,48,97)"
          ]
         ]
        },
        "modebar": {
         "add": [
          "drawline",
          "drawopenpath",
          "drawclosedpath",
          "drawcircle",
          "drawrect",
          "eraseshape"
         ]
        },
        "template": {
         "data": {
          "bar": [
           {
            "error_x": {
             "color": "#2a3f5f"
            },
            "error_y": {
             "color": "#2a3f5f"
            },
            "marker": {
             "line": {
              "color": "#E5ECF6",
              "width": 0.5
             },
             "pattern": {
              "fillmode": "overlay",
              "size": 10,
              "solidity": 0.2
             }
            },
            "type": "bar"
           }
          ],
          "barpolar": [
           {
            "marker": {
             "line": {
              "color": "#E5ECF6",
              "width": 0.5
             },
             "pattern": {
              "fillmode": "overlay",
              "size": 10,
              "solidity": 0.2
             }
            },
            "type": "barpolar"
           }
          ],
          "carpet": [
           {
            "aaxis": {
             "endlinecolor": "#2a3f5f",
             "gridcolor": "white",
             "linecolor": "white",
             "minorgridcolor": "white",
             "startlinecolor": "#2a3f5f"
            },
            "baxis": {
             "endlinecolor": "#2a3f5f",
             "gridcolor": "white",
             "linecolor": "white",
             "minorgridcolor": "white",
             "startlinecolor": "#2a3f5f"
            },
            "type": "carpet"
           }
          ],
          "choropleth": [
           {
            "colorbar": {
             "outlinewidth": 0,
             "ticks": ""
            },
            "type": "choropleth"
           }
          ],
          "contour": [
           {
            "colorbar": {
             "outlinewidth": 0,
             "ticks": ""
            },
            "colorscale": [
             [
              0,
              "#0d0887"
             ],
             [
              0.1111111111111111,
              "#46039f"
             ],
             [
              0.2222222222222222,
              "#7201a8"
             ],
             [
              0.3333333333333333,
              "#9c179e"
             ],
             [
              0.4444444444444444,
              "#bd3786"
             ],
             [
              0.5555555555555556,
              "#d8576b"
             ],
             [
              0.6666666666666666,
              "#ed7953"
             ],
             [
              0.7777777777777778,
              "#fb9f3a"
             ],
             [
              0.8888888888888888,
              "#fdca26"
             ],
             [
              1,
              "#f0f921"
             ]
            ],
            "type": "contour"
           }
          ],
          "contourcarpet": [
           {
            "colorbar": {
             "outlinewidth": 0,
             "ticks": ""
            },
            "type": "contourcarpet"
           }
          ],
          "heatmap": [
           {
            "colorbar": {
             "outlinewidth": 0,
             "ticks": ""
            },
            "colorscale": [
             [
              0,
              "#0d0887"
             ],
             [
              0.1111111111111111,
              "#46039f"
             ],
             [
              0.2222222222222222,
              "#7201a8"
             ],
             [
              0.3333333333333333,
              "#9c179e"
             ],
             [
              0.4444444444444444,
              "#bd3786"
             ],
             [
              0.5555555555555556,
              "#d8576b"
             ],
             [
              0.6666666666666666,
              "#ed7953"
             ],
             [
              0.7777777777777778,
              "#fb9f3a"
             ],
             [
              0.8888888888888888,
              "#fdca26"
             ],
             [
              1,
              "#f0f921"
             ]
            ],
            "type": "heatmap"
           }
          ],
          "heatmapgl": [
           {
            "colorbar": {
             "outlinewidth": 0,
             "ticks": ""
            },
            "colorscale": [
             [
              0,
              "#0d0887"
             ],
             [
              0.1111111111111111,
              "#46039f"
             ],
             [
              0.2222222222222222,
              "#7201a8"
             ],
             [
              0.3333333333333333,
              "#9c179e"
             ],
             [
              0.4444444444444444,
              "#bd3786"
             ],
             [
              0.5555555555555556,
              "#d8576b"
             ],
             [
              0.6666666666666666,
              "#ed7953"
             ],
             [
              0.7777777777777778,
              "#fb9f3a"
             ],
             [
              0.8888888888888888,
              "#fdca26"
             ],
             [
              1,
              "#f0f921"
             ]
            ],
            "type": "heatmapgl"
           }
          ],
          "histogram": [
           {
            "marker": {
             "pattern": {
              "fillmode": "overlay",
              "size": 10,
              "solidity": 0.2
             }
            },
            "type": "histogram"
           }
          ],
          "histogram2d": [
           {
            "colorbar": {
             "outlinewidth": 0,
             "ticks": ""
            },
            "colorscale": [
             [
              0,
              "#0d0887"
             ],
             [
              0.1111111111111111,
              "#46039f"
             ],
             [
              0.2222222222222222,
              "#7201a8"
             ],
             [
              0.3333333333333333,
              "#9c179e"
             ],
             [
              0.4444444444444444,
              "#bd3786"
             ],
             [
              0.5555555555555556,
              "#d8576b"
             ],
             [
              0.6666666666666666,
              "#ed7953"
             ],
             [
              0.7777777777777778,
              "#fb9f3a"
             ],
             [
              0.8888888888888888,
              "#fdca26"
             ],
             [
              1,
              "#f0f921"
             ]
            ],
            "type": "histogram2d"
           }
          ],
          "histogram2dcontour": [
           {
            "colorbar": {
             "outlinewidth": 0,
             "ticks": ""
            },
            "colorscale": [
             [
              0,
              "#0d0887"
             ],
             [
              0.1111111111111111,
              "#46039f"
             ],
             [
              0.2222222222222222,
              "#7201a8"
             ],
             [
              0.3333333333333333,
              "#9c179e"
             ],
             [
              0.4444444444444444,
              "#bd3786"
             ],
             [
              0.5555555555555556,
              "#d8576b"
             ],
             [
              0.6666666666666666,
              "#ed7953"
             ],
             [
              0.7777777777777778,
              "#fb9f3a"
             ],
             [
              0.8888888888888888,
              "#fdca26"
             ],
             [
              1,
              "#f0f921"
             ]
            ],
            "type": "histogram2dcontour"
           }
          ],
          "mesh3d": [
           {
            "colorbar": {
             "outlinewidth": 0,
             "ticks": ""
            },
            "type": "mesh3d"
           }
          ],
          "parcoords": [
           {
            "line": {
             "colorbar": {
              "outlinewidth": 0,
              "ticks": ""
             }
            },
            "type": "parcoords"
           }
          ],
          "pie": [
           {
            "automargin": true,
            "type": "pie"
           }
          ],
          "scatter": [
           {
            "fillpattern": {
             "fillmode": "overlay",
             "size": 10,
             "solidity": 0.2
            },
            "type": "scatter"
           }
          ],
          "scatter3d": [
           {
            "line": {
             "colorbar": {
              "outlinewidth": 0,
              "ticks": ""
             }
            },
            "marker": {
             "colorbar": {
              "outlinewidth": 0,
              "ticks": ""
             }
            },
            "type": "scatter3d"
           }
          ],
          "scattercarpet": [
           {
            "marker": {
             "colorbar": {
              "outlinewidth": 0,
              "ticks": ""
             }
            },
            "type": "scattercarpet"
           }
          ],
          "scattergeo": [
           {
            "marker": {
             "colorbar": {
              "outlinewidth": 0,
              "ticks": ""
             }
            },
            "type": "scattergeo"
           }
          ],
          "scattergl": [
           {
            "marker": {
             "colorbar": {
              "outlinewidth": 0,
              "ticks": ""
             }
            },
            "type": "scattergl"
           }
          ],
          "scattermapbox": [
           {
            "marker": {
             "colorbar": {
              "outlinewidth": 0,
              "ticks": ""
             }
            },
            "type": "scattermapbox"
           }
          ],
          "scatterpolar": [
           {
            "marker": {
             "colorbar": {
              "outlinewidth": 0,
              "ticks": ""
             }
            },
            "type": "scatterpolar"
           }
          ],
          "scatterpolargl": [
           {
            "marker": {
             "colorbar": {
              "outlinewidth": 0,
              "ticks": ""
             }
            },
            "type": "scatterpolargl"
           }
          ],
          "scatterternary": [
           {
            "marker": {
             "colorbar": {
              "outlinewidth": 0,
              "ticks": ""
             }
            },
            "type": "scatterternary"
           }
          ],
          "surface": [
           {
            "colorbar": {
             "outlinewidth": 0,
             "ticks": ""
            },
            "colorscale": [
             [
              0,
              "#0d0887"
             ],
             [
              0.1111111111111111,
              "#46039f"
             ],
             [
              0.2222222222222222,
              "#7201a8"
             ],
             [
              0.3333333333333333,
              "#9c179e"
             ],
             [
              0.4444444444444444,
              "#bd3786"
             ],
             [
              0.5555555555555556,
              "#d8576b"
             ],
             [
              0.6666666666666666,
              "#ed7953"
             ],
             [
              0.7777777777777778,
              "#fb9f3a"
             ],
             [
              0.8888888888888888,
              "#fdca26"
             ],
             [
              1,
              "#f0f921"
             ]
            ],
            "type": "surface"
           }
          ],
          "table": [
           {
            "cells": {
             "fill": {
              "color": "#EBF0F8"
             },
             "line": {
              "color": "white"
             }
            },
            "header": {
             "fill": {
              "color": "#C8D4E3"
             },
             "line": {
              "color": "white"
             }
            },
            "type": "table"
           }
          ]
         },
         "layout": {
          "annotationdefaults": {
           "arrowcolor": "#2a3f5f",
           "arrowhead": 0,
           "arrowwidth": 1
          },
          "autotypenumbers": "strict",
          "coloraxis": {
           "colorbar": {
            "outlinewidth": 0,
            "ticks": ""
           }
          },
          "colorscale": {
           "diverging": [
            [
             0,
             "#8e0152"
            ],
            [
             0.1,
             "#c51b7d"
            ],
            [
             0.2,
             "#de77ae"
            ],
            [
             0.3,
             "#f1b6da"
            ],
            [
             0.4,
             "#fde0ef"
            ],
            [
             0.5,
             "#f7f7f7"
            ],
            [
             0.6,
             "#e6f5d0"
            ],
            [
             0.7,
             "#b8e186"
            ],
            [
             0.8,
             "#7fbc41"
            ],
            [
             0.9,
             "#4d9221"
            ],
            [
             1,
             "#276419"
            ]
           ],
           "sequential": [
            [
             0,
             "#0d0887"
            ],
            [
             0.1111111111111111,
             "#46039f"
            ],
            [
             0.2222222222222222,
             "#7201a8"
            ],
            [
             0.3333333333333333,
             "#9c179e"
            ],
            [
             0.4444444444444444,
             "#bd3786"
            ],
            [
             0.5555555555555556,
             "#d8576b"
            ],
            [
             0.6666666666666666,
             "#ed7953"
            ],
            [
             0.7777777777777778,
             "#fb9f3a"
            ],
            [
             0.8888888888888888,
             "#fdca26"
            ],
            [
             1,
             "#f0f921"
            ]
           ],
           "sequentialminus": [
            [
             0,
             "#0d0887"
            ],
            [
             0.1111111111111111,
             "#46039f"
            ],
            [
             0.2222222222222222,
             "#7201a8"
            ],
            [
             0.3333333333333333,
             "#9c179e"
            ],
            [
             0.4444444444444444,
             "#bd3786"
            ],
            [
             0.5555555555555556,
             "#d8576b"
            ],
            [
             0.6666666666666666,
             "#ed7953"
            ],
            [
             0.7777777777777778,
             "#fb9f3a"
            ],
            [
             0.8888888888888888,
             "#fdca26"
            ],
            [
             1,
             "#f0f921"
            ]
           ]
          },
          "colorway": [
           "#636efa",
           "#EF553B",
           "#00cc96",
           "#ab63fa",
           "#FFA15A",
           "#19d3f3",
           "#FF6692",
           "#B6E880",
           "#FF97FF",
           "#FECB52"
          ],
          "font": {
           "color": "#2a3f5f"
          },
          "geo": {
           "bgcolor": "white",
           "lakecolor": "white",
           "landcolor": "#E5ECF6",
           "showlakes": true,
           "showland": true,
           "subunitcolor": "white"
          },
          "hoverlabel": {
           "align": "left"
          },
          "hovermode": "closest",
          "mapbox": {
           "style": "light"
          },
          "paper_bgcolor": "white",
          "plot_bgcolor": "#E5ECF6",
          "polar": {
           "angularaxis": {
            "gridcolor": "white",
            "linecolor": "white",
            "ticks": ""
           },
           "bgcolor": "#E5ECF6",
           "radialaxis": {
            "gridcolor": "white",
            "linecolor": "white",
            "ticks": ""
           }
          },
          "scene": {
           "xaxis": {
            "backgroundcolor": "#E5ECF6",
            "gridcolor": "white",
            "gridwidth": 2,
            "linecolor": "white",
            "showbackground": true,
            "ticks": "",
            "zerolinecolor": "white"
           },
           "yaxis": {
            "backgroundcolor": "#E5ECF6",
            "gridcolor": "white",
            "gridwidth": 2,
            "linecolor": "white",
            "showbackground": true,
            "ticks": "",
            "zerolinecolor": "white"
           },
           "zaxis": {
            "backgroundcolor": "#E5ECF6",
            "gridcolor": "white",
            "gridwidth": 2,
            "linecolor": "white",
            "showbackground": true,
            "ticks": "",
            "zerolinecolor": "white"
           }
          },
          "shapedefaults": {
           "line": {
            "color": "#2a3f5f"
           }
          },
          "ternary": {
           "aaxis": {
            "gridcolor": "white",
            "linecolor": "white",
            "ticks": ""
           },
           "baxis": {
            "gridcolor": "white",
            "linecolor": "white",
            "ticks": ""
           },
           "bgcolor": "#E5ECF6",
           "caxis": {
            "gridcolor": "white",
            "linecolor": "white",
            "ticks": ""
           }
          },
          "title": {
           "x": 0.05
          },
          "xaxis": {
           "automargin": true,
           "gridcolor": "white",
           "linecolor": "white",
           "ticks": "",
           "title": {
            "standoff": 15
           },
           "zerolinecolor": "white",
           "zerolinewidth": 2
          },
          "yaxis": {
           "automargin": true,
           "gridcolor": "white",
           "linecolor": "white",
           "ticks": "",
           "title": {
            "standoff": 15
           },
           "zerolinecolor": "white",
           "zerolinewidth": 2
          }
         }
        },
        "title": {
         "text": "Negative copying scores (only negative heads shown)"
        },
        "width": 1200,
        "xaxis": {
         "anchor": "y",
         "constrain": "domain",
         "domain": [
          0,
          0.31999999999999995
         ],
         "scaleanchor": "y"
        },
        "xaxis2": {
         "anchor": "y2",
         "domain": [
          0.33999999999999997,
          0.6599999999999999
         ],
         "matches": "x"
        },
        "xaxis3": {
         "anchor": "y3",
         "domain": [
          0.6799999999999999,
          0.9999999999999999
         ],
         "matches": "x"
        },
        "yaxis": {
         "anchor": "x",
         "autorange": "reversed",
         "constrain": "domain",
         "domain": [
          0,
          1
         ]
        },
        "yaxis2": {
         "anchor": "x2",
         "domain": [
          0,
          1
         ],
         "matches": "y",
         "showticklabels": false
        },
        "yaxis3": {
         "anchor": "x3",
         "domain": [
          0,
          1
         ],
         "matches": "y",
         "showticklabels": false
        }
       }
      },
      "text/html": [
       "<div>                            <div id=\"4c477d3d-ecc0-4b7c-9f3f-0dbcdcf4d6bc\" class=\"plotly-graph-div\" style=\"height:525px; width:1200px;\"></div>            <script type=\"text/javascript\">                require([\"plotly\"], function(Plotly) {                    window.PLOTLYENV=window.PLOTLYENV || {};                                    if (document.getElementById(\"4c477d3d-ecc0-4b7c-9f3f-0dbcdcf4d6bc\")) {                    Plotly.newPlot(                        \"4c477d3d-ecc0-4b7c-9f3f-0dbcdcf4d6bc\",                        [{\"coloraxis\":\"coloraxis\",\"name\":\"0\",\"z\":[[3.7412166420836e-05,0.00010266403842251748,0.00014742036000825465,3.0062583391554654e-05,2.5265198928536847e-05,8.983261795947328e-05,3.66589410987217e-05,5.702071211999282e-05,0.00011243331391597167,0.00011959928087890148,0.00016998285718727857,0.00017035918426699936],[2.458969538565725e-05,0.00011571687355171889,0.0002553836384322494,0.0004967960412614048,0.0004147128202021122,0.00033346141572110355,3.0834303998972246e-08,2.4401094478321284e-09,0.03697362542152405,0.017254605889320374,0.00024798818049021065,0.08053243160247803],[5.7777280744630843e-05,4.3217492911727835e-15,3.9063990698195994e-05,9.083443728741258e-05,2.56280645771767e-06,0.0006175150047056377,0.0012373318895697594,0.0014502175617963076,4.928852285956964e-05,1.5197186257864814e-05,0.00016549888823647052,0.0008715944131836295],[1.9487215467961505e-05,0.0001544313709018752,6.165932427393273e-05,3.870184445986524e-05,0.0008432130562141538,1.2097017831891321e-10,3.2629592169541866e-05,8.4934754340793e-06,0.0005990355275571346,3.369220576132648e-05,0.016103031113743782,5.425536073744297e-06],[8.130758942570537e-06,7.6867057941854e-05,1.2900397905468708e-06,1.3797460951536777e-06,0.07273965328931808,2.0571649656631052e-05,0.00023012515157461166,0.005153026897460222,5.424957372213157e-09,9.681826895757695e-08,0.001200478756800294,4.261412686901167e-05],[3.0953817287127094e-09,6.5911560064024766e-12,1.8218088371213526e-06,2.0141354980296455e-05,2.577351733634714e-05,8.105085491649788e-09,6.756118636985775e-06,2.6354177506959786e-08,0.0003410315257497132,0.001278585521504283,9.48074691670131e-12,0.4007231593132019],[1.3715880697873217e-07,1.137438143672398e-09,0.0045363083481788635,3.827850741799921e-05,8.121996998566861e-13,0.026436537504196167,0.17684422433376312,6.036088989747057e-11,2.2573030946659856e-06,2.791766926142636e-13,5.218112747451542e-11,2.5650609813965275e-07],[1.1126328303134869e-07,2.972345633511786e-11,1.6476122584882352e-17,0.06430226564407349,9.148062929398293e-08,7.843632969690983e-13,0.0012890486977994442,2.415372968300744e-08,2.4224408590178825e-10,0.003660821123048663,2.410583451600834e-12,3.342175841636319e-11],[0.003479719627648592,7.844746733941985e-19,3.892791477892472e-15,8.241729965163813e-09,8.267278417406487e-08,5.848783501960497e-08,4.539777901136645e-16,5.338948838584656e-09,5.956434347489936e-13,0.0013594739139080048,0.5712605714797974,2.368119162938057e-17],[4.727613089959386e-14,1.789051025380406e-11,1.3557503681429078e-18,1.6157058330135143e-11,4.7313180402852595e-05,0.31326574087142944,3.503448031500486e-23,0.009554139338433743,2.222211668335759e-20,1.7824418649690967e-24,1.4562659998773597e-05,2.2008784056882037e-21],[1.5965004470755835e-24,4.0911629313836765e-20,2.1791831493057928e-32,1.014775434601161e-15,8.801185835696453e-16,4.559423541650176e-05,5.577709889718036e-19,0.7589211463928223,6.033576210029423e-05,6.787135589547688e-06,1.2372538926468065e-27,6.639771333661129e-14],[0.010442038998007774,2.417375651272349e-27,2.7268864541803215e-37,1.075640055380953e-30,0.0009929736843332648,1.0120271326741204e-05,5.623697676625772e-34,5.130343927461922e-10,0.0004778408329002559,1.588521748247863e-39,0.5106579661369324,8.018992329976281e-19]],\"type\":\"heatmap\",\"xaxis\":\"x\",\"yaxis\":\"y\",\"hovertemplate\":\"x: %{x}\\u003cbr\\u003ey: %{y}\\u003cbr\\u003ecolor: %{z}\\u003cextra\\u003e\\u003c\\u002fextra\\u003e\"},{\"coloraxis\":\"coloraxis\",\"name\":\"1\",\"z\":[[7.066873513394967e-05,0.00015649678243789822,9.91163105936721e-05,9.665956895332783e-05,6.169213884277269e-05,0.00011622756574070081,4.4468091800808907e-05,9.417713590664789e-05,7.270277274074033e-05,0.0001044346354319714,0.00020219699945300817,0.00016963186499197036],[5.561484067584388e-05,6.186646351125091e-05,0.00026731641264632344,0.0002832012833096087,0.00011479910608613864,0.00022871966939419508,2.4026604705795762e-08,4.1717260756968244e-08,0.027250006794929504,0.011190458200871944,0.0002318012120667845,0.011546214111149311],[0.00015736017667222768,7.275851362370522e-12,7.784475747030228e-05,0.00010518372437218204,6.963160558370873e-06,0.00035261514130979776,0.0007490682182833552,0.0009130483376793563,8.057617378653958e-05,4.101296144654043e-05,8.707030792720616e-05,0.0004045311361551285],[4.274253296898678e-05,3.84402483177837e-05,0.0001442650391254574,3.141167326248251e-05,0.0005355101311579347,5.164350227460091e-07,6.976355507504195e-05,1.6059018889791332e-05,0.0003596837632358074,3.531968832248822e-05,0.003828900633379817,2.120182580256369e-05],[2.4960803784779273e-05,9.164359653368592e-05,1.9391436580917798e-05,4.786021690961206e-06,0.024291880428791046,1.4855477274977602e-05,0.00015079177683219314,0.0007070800638757646,8.631966608163566e-08,6.215933012754249e-07,0.0009345015278086066,0.00011219208681723103],[3.610450960422895e-08,9.945165801994449e-10,3.257198477513157e-05,3.217787525500171e-05,5.5931923270691186e-05,4.447732067092147e-07,2.2969983547227457e-05,3.367641738805105e-07,0.00020056874200236052,0.0007753492100164294,2.1415358375520555e-09,0.22369210422039032],[2.693449005164439e-06,1.3079340988042532e-06,0.0023782444186508656,2.713675712584518e-05,3.036882204043856e-11,0.007307501044124365,0.044007278978824615,2.904615143961564e-07,2.049556132988073e-05,1.4737058795510904e-10,1.719425668511576e-08,4.713690486823907e-06],[8.539996997569688e-06,1.754075495963292e-10,2.2815793816689713e-15,0.025243431329727173,6.135180592536926e-05,2.4908047846494696e-10,0.0007343353936448693,1.6481364582432434e-05,4.769659156522721e-08,0.0021816168446093798,1.9911360754631957e-11,2.049717950924901e-09],[0.000951264810282737,2.8268193341673964e-10,2.3966742219300174e-12,5.02028051414527e-05,5.159766374163155e-07,3.43912438438565e-06,6.984080674898863e-11,1.1785826927734888e-06,3.404675152918202e-11,0.001087178010493517,0.28026607632637024,1.638908193185573e-13],[4.185403759682238e-12,2.4646922156534856e-06,1.4577259755191307e-12,4.352244342697986e-09,0.0002180045994464308,0.14637182652950287,8.784982773703581e-19,0.005704848561435938,1.9977621462083416e-15,3.343926093859631e-20,6.779886462027207e-05,4.645359631569608e-17],[1.1198246328636795e-21,2.4853217221862053e-15,7.537365894261204e-23,7.679092277612654e-07,4.467761272053394e-09,0.00011917301162611693,4.262302561153063e-21,0.5726150274276733,7.955498585943133e-05,3.0416311346925795e-05,4.502003831475732e-20,7.923595048316134e-13],[0.007131032645702362,7.4887307832385765e-19,5.3809861030072976e-42,5.181929152100217e-23,0.0004452142457012087,1.5182115021161735e-05,7.376357427839293e-29,2.1300952539604623e-06,0.0006147188250906765,3.801650410820624e-32,0.3368409276008606,2.3784092235837676e-15]],\"type\":\"heatmap\",\"xaxis\":\"x2\",\"yaxis\":\"y2\",\"hovertemplate\":\"x: %{x}\\u003cbr\\u003ey: %{y}\\u003cbr\\u003ecolor: %{z}\\u003cextra\\u003e\\u003c\\u002fextra\\u003e\"},{\"coloraxis\":\"coloraxis\",\"name\":\"2\",\"z\":[[0.00014234504487831146,0.0001577699149493128,0.00016889206017367542,0.00015287315181922168,0.00012302417599130422,0.00015854033699724823,0.00011382925003999844,0.0001466464891564101,0.00017712936096359044,0.0002190786908613518,0.00016407796647399664,0.00018655075109563768],[0.00020479604427237064,0.0002386794367339462,0.00023336666345130652,0.00026076711947098374,0.0002932344505097717,0.00041020888602361083,5.587546547758393e-05,6.640840729232877e-05,0.00034038705052807927,0.0002880583342630416,0.00025965363602153957,0.0016364749753847718],[0.000273629033472389,4.7250861825887114e-05,0.00016876199515536427,0.00024232268333435059,0.0001331342791672796,0.00028876709984615445,0.00037669489393010736,0.0002845498966053128,0.00021281754015944898,0.00018288203864358366,0.0004626877198461443,0.00047972783795557916],[0.00010321391891920939,0.0002907059679273516,0.00015481402806472033,0.00013892682909499854,0.0008166677434928715,9.617891919333488e-05,0.00018791879119817168,0.00017291105177719146,0.00028852475224994123,0.00018204243679065257,0.006385540124028921,0.0001447500108042732],[0.00015707567217759788,0.00016626798606012017,0.0001823671191232279,9.944794146576896e-05,0.0011888492153957486,0.0001387473603244871,0.00032042860402725637,0.0015072760870680213,7.029153493931517e-05,8.632355456938967e-05,0.0007483437075279653,0.00012047522614011541],[8.426433487329632e-05,0.0001240867713931948,3.464195106062107e-05,9.03107356862165e-05,0.0001643256691750139,8.284732757601887e-05,0.00013939320342615247,6.405406747944653e-05,0.00035644767922349274,0.003099808469414711,1.697996412985958e-05,0.04719442501664162],[3.6027464375365525e-05,9.271006274502724e-05,0.0005511906929314137,7.13780609657988e-05,1.5703612007200718e-05,0.003847852349281311,0.056565772742033005,3.6850258766207844e-05,4.123993858229369e-05,7.364628982031718e-05,6.940923049114645e-05,8.333013101946563e-05],[3.269623266533017e-05,1.1758268556150142e-05,0.00010846132499864325,0.0005788689013570547,2.064025647996459e-05,1.89277452591341e-05,0.001455490943044424,0.00013867452798876911,2.4883536752895452e-05,6.988113455008715e-05,9.874589886749163e-05,0.00013308429333847016],[0.002887081354856491,0.00018419945263303816,5.421084279078059e-05,0.00013088303967379034,3.09513125102967e-05,1.690135832177475e-05,6.019281136104837e-05,1.68587030202616e-05,1.372931910736952e-05,0.00046746962470933795,0.04015123099088669,6.439971912186593e-05],[1.4624970390286762e-05,0.00027196016162633896,1.1470308891148306e-05,6.327566552499775e-06,0.00014417871716432273,0.0759185329079628,5.94495031691622e-05,0.0003383117145858705,2.6769059331854805e-05,0.00013263875734992325,2.021248837991152e-05,0.00021285866387188435],[1.2186707863293123e-05,6.626307731494308e-05,8.708144014235586e-05,7.684567390242592e-05,4.20035285060294e-05,1.1820581676147413e-05,2.297904939041473e-05,0.00024934287648648024,0.00030102976597845554,8.670799616083968e-06,8.457194780930877e-05,1.3000621038372628e-05],[5.127899203216657e-05,1.3826404938299675e-05,1.1086351150879636e-05,2.308910097781336e-06,9.698225767351687e-05,3.431128425290808e-05,3.264327096985653e-05,3.01357595162699e-05,7.047911640256643e-05,1.2674465324380435e-05,1.468411710447981e-06,2.147844043065561e-06]],\"type\":\"heatmap\",\"xaxis\":\"x3\",\"yaxis\":\"y3\",\"hovertemplate\":\"x: %{x}\\u003cbr\\u003ey: %{y}\\u003cbr\\u003ecolor: %{z}\\u003cextra\\u003e\\u003c\\u002fextra\\u003e\"}],                        {\"template\":{\"data\":{\"histogram2dcontour\":[{\"type\":\"histogram2dcontour\",\"colorbar\":{\"outlinewidth\":0,\"ticks\":\"\"},\"colorscale\":[[0.0,\"#0d0887\"],[0.1111111111111111,\"#46039f\"],[0.2222222222222222,\"#7201a8\"],[0.3333333333333333,\"#9c179e\"],[0.4444444444444444,\"#bd3786\"],[0.5555555555555556,\"#d8576b\"],[0.6666666666666666,\"#ed7953\"],[0.7777777777777778,\"#fb9f3a\"],[0.8888888888888888,\"#fdca26\"],[1.0,\"#f0f921\"]]}],\"choropleth\":[{\"type\":\"choropleth\",\"colorbar\":{\"outlinewidth\":0,\"ticks\":\"\"}}],\"histogram2d\":[{\"type\":\"histogram2d\",\"colorbar\":{\"outlinewidth\":0,\"ticks\":\"\"},\"colorscale\":[[0.0,\"#0d0887\"],[0.1111111111111111,\"#46039f\"],[0.2222222222222222,\"#7201a8\"],[0.3333333333333333,\"#9c179e\"],[0.4444444444444444,\"#bd3786\"],[0.5555555555555556,\"#d8576b\"],[0.6666666666666666,\"#ed7953\"],[0.7777777777777778,\"#fb9f3a\"],[0.8888888888888888,\"#fdca26\"],[1.0,\"#f0f921\"]]}],\"heatmap\":[{\"type\":\"heatmap\",\"colorbar\":{\"outlinewidth\":0,\"ticks\":\"\"},\"colorscale\":[[0.0,\"#0d0887\"],[0.1111111111111111,\"#46039f\"],[0.2222222222222222,\"#7201a8\"],[0.3333333333333333,\"#9c179e\"],[0.4444444444444444,\"#bd3786\"],[0.5555555555555556,\"#d8576b\"],[0.6666666666666666,\"#ed7953\"],[0.7777777777777778,\"#fb9f3a\"],[0.8888888888888888,\"#fdca26\"],[1.0,\"#f0f921\"]]}],\"heatmapgl\":[{\"type\":\"heatmapgl\",\"colorbar\":{\"outlinewidth\":0,\"ticks\":\"\"},\"colorscale\":[[0.0,\"#0d0887\"],[0.1111111111111111,\"#46039f\"],[0.2222222222222222,\"#7201a8\"],[0.3333333333333333,\"#9c179e\"],[0.4444444444444444,\"#bd3786\"],[0.5555555555555556,\"#d8576b\"],[0.6666666666666666,\"#ed7953\"],[0.7777777777777778,\"#fb9f3a\"],[0.8888888888888888,\"#fdca26\"],[1.0,\"#f0f921\"]]}],\"contourcarpet\":[{\"type\":\"contourcarpet\",\"colorbar\":{\"outlinewidth\":0,\"ticks\":\"\"}}],\"contour\":[{\"type\":\"contour\",\"colorbar\":{\"outlinewidth\":0,\"ticks\":\"\"},\"colorscale\":[[0.0,\"#0d0887\"],[0.1111111111111111,\"#46039f\"],[0.2222222222222222,\"#7201a8\"],[0.3333333333333333,\"#9c179e\"],[0.4444444444444444,\"#bd3786\"],[0.5555555555555556,\"#d8576b\"],[0.6666666666666666,\"#ed7953\"],[0.7777777777777778,\"#fb9f3a\"],[0.8888888888888888,\"#fdca26\"],[1.0,\"#f0f921\"]]}],\"surface\":[{\"type\":\"surface\",\"colorbar\":{\"outlinewidth\":0,\"ticks\":\"\"},\"colorscale\":[[0.0,\"#0d0887\"],[0.1111111111111111,\"#46039f\"],[0.2222222222222222,\"#7201a8\"],[0.3333333333333333,\"#9c179e\"],[0.4444444444444444,\"#bd3786\"],[0.5555555555555556,\"#d8576b\"],[0.6666666666666666,\"#ed7953\"],[0.7777777777777778,\"#fb9f3a\"],[0.8888888888888888,\"#fdca26\"],[1.0,\"#f0f921\"]]}],\"mesh3d\":[{\"type\":\"mesh3d\",\"colorbar\":{\"outlinewidth\":0,\"ticks\":\"\"}}],\"scatter\":[{\"fillpattern\":{\"fillmode\":\"overlay\",\"size\":10,\"solidity\":0.2},\"type\":\"scatter\"}],\"parcoords\":[{\"type\":\"parcoords\",\"line\":{\"colorbar\":{\"outlinewidth\":0,\"ticks\":\"\"}}}],\"scatterpolargl\":[{\"type\":\"scatterpolargl\",\"marker\":{\"colorbar\":{\"outlinewidth\":0,\"ticks\":\"\"}}}],\"bar\":[{\"error_x\":{\"color\":\"#2a3f5f\"},\"error_y\":{\"color\":\"#2a3f5f\"},\"marker\":{\"line\":{\"color\":\"#E5ECF6\",\"width\":0.5},\"pattern\":{\"fillmode\":\"overlay\",\"size\":10,\"solidity\":0.2}},\"type\":\"bar\"}],\"scattergeo\":[{\"type\":\"scattergeo\",\"marker\":{\"colorbar\":{\"outlinewidth\":0,\"ticks\":\"\"}}}],\"scatterpolar\":[{\"type\":\"scatterpolar\",\"marker\":{\"colorbar\":{\"outlinewidth\":0,\"ticks\":\"\"}}}],\"histogram\":[{\"marker\":{\"pattern\":{\"fillmode\":\"overlay\",\"size\":10,\"solidity\":0.2}},\"type\":\"histogram\"}],\"scattergl\":[{\"type\":\"scattergl\",\"marker\":{\"colorbar\":{\"outlinewidth\":0,\"ticks\":\"\"}}}],\"scatter3d\":[{\"type\":\"scatter3d\",\"line\":{\"colorbar\":{\"outlinewidth\":0,\"ticks\":\"\"}},\"marker\":{\"colorbar\":{\"outlinewidth\":0,\"ticks\":\"\"}}}],\"scattermapbox\":[{\"type\":\"scattermapbox\",\"marker\":{\"colorbar\":{\"outlinewidth\":0,\"ticks\":\"\"}}}],\"scatterternary\":[{\"type\":\"scatterternary\",\"marker\":{\"colorbar\":{\"outlinewidth\":0,\"ticks\":\"\"}}}],\"scattercarpet\":[{\"type\":\"scattercarpet\",\"marker\":{\"colorbar\":{\"outlinewidth\":0,\"ticks\":\"\"}}}],\"carpet\":[{\"aaxis\":{\"endlinecolor\":\"#2a3f5f\",\"gridcolor\":\"white\",\"linecolor\":\"white\",\"minorgridcolor\":\"white\",\"startlinecolor\":\"#2a3f5f\"},\"baxis\":{\"endlinecolor\":\"#2a3f5f\",\"gridcolor\":\"white\",\"linecolor\":\"white\",\"minorgridcolor\":\"white\",\"startlinecolor\":\"#2a3f5f\"},\"type\":\"carpet\"}],\"table\":[{\"cells\":{\"fill\":{\"color\":\"#EBF0F8\"},\"line\":{\"color\":\"white\"}},\"header\":{\"fill\":{\"color\":\"#C8D4E3\"},\"line\":{\"color\":\"white\"}},\"type\":\"table\"}],\"barpolar\":[{\"marker\":{\"line\":{\"color\":\"#E5ECF6\",\"width\":0.5},\"pattern\":{\"fillmode\":\"overlay\",\"size\":10,\"solidity\":0.2}},\"type\":\"barpolar\"}],\"pie\":[{\"automargin\":true,\"type\":\"pie\"}]},\"layout\":{\"autotypenumbers\":\"strict\",\"colorway\":[\"#636efa\",\"#EF553B\",\"#00cc96\",\"#ab63fa\",\"#FFA15A\",\"#19d3f3\",\"#FF6692\",\"#B6E880\",\"#FF97FF\",\"#FECB52\"],\"font\":{\"color\":\"#2a3f5f\"},\"hovermode\":\"closest\",\"hoverlabel\":{\"align\":\"left\"},\"paper_bgcolor\":\"white\",\"plot_bgcolor\":\"#E5ECF6\",\"polar\":{\"bgcolor\":\"#E5ECF6\",\"angularaxis\":{\"gridcolor\":\"white\",\"linecolor\":\"white\",\"ticks\":\"\"},\"radialaxis\":{\"gridcolor\":\"white\",\"linecolor\":\"white\",\"ticks\":\"\"}},\"ternary\":{\"bgcolor\":\"#E5ECF6\",\"aaxis\":{\"gridcolor\":\"white\",\"linecolor\":\"white\",\"ticks\":\"\"},\"baxis\":{\"gridcolor\":\"white\",\"linecolor\":\"white\",\"ticks\":\"\"},\"caxis\":{\"gridcolor\":\"white\",\"linecolor\":\"white\",\"ticks\":\"\"}},\"coloraxis\":{\"colorbar\":{\"outlinewidth\":0,\"ticks\":\"\"}},\"colorscale\":{\"sequential\":[[0.0,\"#0d0887\"],[0.1111111111111111,\"#46039f\"],[0.2222222222222222,\"#7201a8\"],[0.3333333333333333,\"#9c179e\"],[0.4444444444444444,\"#bd3786\"],[0.5555555555555556,\"#d8576b\"],[0.6666666666666666,\"#ed7953\"],[0.7777777777777778,\"#fb9f3a\"],[0.8888888888888888,\"#fdca26\"],[1.0,\"#f0f921\"]],\"sequentialminus\":[[0.0,\"#0d0887\"],[0.1111111111111111,\"#46039f\"],[0.2222222222222222,\"#7201a8\"],[0.3333333333333333,\"#9c179e\"],[0.4444444444444444,\"#bd3786\"],[0.5555555555555556,\"#d8576b\"],[0.6666666666666666,\"#ed7953\"],[0.7777777777777778,\"#fb9f3a\"],[0.8888888888888888,\"#fdca26\"],[1.0,\"#f0f921\"]],\"diverging\":[[0,\"#8e0152\"],[0.1,\"#c51b7d\"],[0.2,\"#de77ae\"],[0.3,\"#f1b6da\"],[0.4,\"#fde0ef\"],[0.5,\"#f7f7f7\"],[0.6,\"#e6f5d0\"],[0.7,\"#b8e186\"],[0.8,\"#7fbc41\"],[0.9,\"#4d9221\"],[1,\"#276419\"]]},\"xaxis\":{\"gridcolor\":\"white\",\"linecolor\":\"white\",\"ticks\":\"\",\"title\":{\"standoff\":15},\"zerolinecolor\":\"white\",\"automargin\":true,\"zerolinewidth\":2},\"yaxis\":{\"gridcolor\":\"white\",\"linecolor\":\"white\",\"ticks\":\"\",\"title\":{\"standoff\":15},\"zerolinecolor\":\"white\",\"automargin\":true,\"zerolinewidth\":2},\"scene\":{\"xaxis\":{\"backgroundcolor\":\"#E5ECF6\",\"gridcolor\":\"white\",\"linecolor\":\"white\",\"showbackground\":true,\"ticks\":\"\",\"zerolinecolor\":\"white\",\"gridwidth\":2},\"yaxis\":{\"backgroundcolor\":\"#E5ECF6\",\"gridcolor\":\"white\",\"linecolor\":\"white\",\"showbackground\":true,\"ticks\":\"\",\"zerolinecolor\":\"white\",\"gridwidth\":2},\"zaxis\":{\"backgroundcolor\":\"#E5ECF6\",\"gridcolor\":\"white\",\"linecolor\":\"white\",\"showbackground\":true,\"ticks\":\"\",\"zerolinecolor\":\"white\",\"gridwidth\":2}},\"shapedefaults\":{\"line\":{\"color\":\"#2a3f5f\"}},\"annotationdefaults\":{\"arrowcolor\":\"#2a3f5f\",\"arrowhead\":0,\"arrowwidth\":1},\"geo\":{\"bgcolor\":\"white\",\"landcolor\":\"#E5ECF6\",\"subunitcolor\":\"white\",\"showland\":true,\"showlakes\":true,\"lakecolor\":\"white\"},\"title\":{\"x\":0.05},\"mapbox\":{\"style\":\"light\"}}},\"xaxis\":{\"anchor\":\"y\",\"domain\":[0.0,0.31999999999999995],\"scaleanchor\":\"y\",\"constrain\":\"domain\"},\"yaxis\":{\"anchor\":\"x\",\"domain\":[0.0,1.0],\"autorange\":\"reversed\",\"constrain\":\"domain\"},\"xaxis2\":{\"anchor\":\"y2\",\"domain\":[0.33999999999999997,0.6599999999999999],\"matches\":\"x\"},\"yaxis2\":{\"anchor\":\"x2\",\"domain\":[0.0,1.0],\"matches\":\"y\",\"showticklabels\":false},\"xaxis3\":{\"anchor\":\"y3\",\"domain\":[0.6799999999999999,0.9999999999999999],\"matches\":\"x\"},\"yaxis3\":{\"anchor\":\"x3\",\"domain\":[0.0,1.0],\"matches\":\"y\",\"showticklabels\":false},\"annotations\":[{\"font\":{},\"showarrow\":false,\"text\":\"W_E (including MLPs)\",\"x\":0.15999999999999998,\"xanchor\":\"center\",\"xref\":\"paper\",\"y\":1.0,\"yanchor\":\"bottom\",\"yref\":\"paper\"},{\"font\":{},\"showarrow\":false,\"text\":\"W_E (only MLPs)\",\"x\":0.49999999999999994,\"xanchor\":\"center\",\"xref\":\"paper\",\"y\":1.0,\"yanchor\":\"bottom\",\"yref\":\"paper\"},{\"font\":{},\"showarrow\":false,\"text\":\"W_E (no MLPs)\",\"x\":0.8399999999999999,\"xanchor\":\"center\",\"xref\":\"paper\",\"y\":1.0,\"yanchor\":\"bottom\",\"yref\":\"paper\"}],\"coloraxis\":{\"colorscale\":[[0.0,\"rgb(103,0,31)\"],[0.1,\"rgb(178,24,43)\"],[0.2,\"rgb(214,96,77)\"],[0.3,\"rgb(244,165,130)\"],[0.4,\"rgb(253,219,199)\"],[0.5,\"rgb(247,247,247)\"],[0.6,\"rgb(209,229,240)\"],[0.7,\"rgb(146,197,222)\"],[0.8,\"rgb(67,147,195)\"],[0.9,\"rgb(33,102,172)\"],[1.0,\"rgb(5,48,97)\"]],\"cmid\":0.0,\"cmin\":-1.0,\"cmax\":1.0},\"title\":{\"text\":\"Negative copying scores (only negative heads shown)\"},\"width\":1200,\"modebar\":{\"add\":[\"drawline\",\"drawopenpath\",\"drawclosedpath\",\"drawcircle\",\"drawrect\",\"eraseshape\"]}},                        {\"displaylogo\": false, \"responsive\": true}                    ).then(function(){\n",
       "                            \n",
       "var gd = document.getElementById('4c477d3d-ecc0-4b7c-9f3f-0dbcdcf4d6bc');\n",
       "var x = new MutationObserver(function (mutations, observer) {{\n",
       "        var display = window.getComputedStyle(gd).display;\n",
       "        if (!display || display === 'none') {{\n",
       "            console.log([gd, 'removed!']);\n",
       "            Plotly.purge(gd);\n",
       "            observer.disconnect();\n",
       "        }}\n",
       "}});\n",
       "\n",
       "// Listen for the removal of the full notebook cells\n",
       "var notebookContainer = gd.closest('#notebook-container');\n",
       "if (notebookContainer) {{\n",
       "    x.observe(notebookContainer, {childList: true});\n",
       "}}\n",
       "\n",
       "// Listen for the clearing of the current output cell\n",
       "var outputEl = gd.closest('.output');\n",
       "if (outputEl) {{\n",
       "    x.observe(outputEl, {childList: true});\n",
       "}}\n",
       "\n",
       "                        })                };                });            </script>        </div>"
      ]
     },
     "metadata": {},
     "output_type": "display_data"
    }
   ],
   "source": [
    "W_EE = get_effective_embedding_2(model)[\"W_E (including MLPs)\"]\n",
    "W_EE_subE = get_effective_embedding_2(model)[\"W_E (only MLPs)\"]\n",
    "W_E = get_effective_embedding_2(model)[\"W_E (no MLPs)\"]\n",
    "\n",
    "results = t.zeros(3, 12, 12).float()\n",
    "\n",
    "for layer, head_idx in itertools.product(range(12), range(12)):\n",
    "    results[0, layer, head_idx] = get_neg_copying_score(model, W_EE, head=(layer, head_idx), n_batches=10, sample_size=5000, return_prob=True)\n",
    "    results[1, layer, head_idx] = get_neg_copying_score(model, W_EE_subE, head=(layer, head_idx), n_batches=10, sample_size=5000, return_prob=True)\n",
    "    results[2, layer, head_idx] = get_neg_copying_score(model, W_E, head=(layer, head_idx), n_batches=10, sample_size=5000, return_prob=True)\n",
    "\n",
    "imshow(\n",
    "    results,\n",
    "    title=\"Negative copying scores (only negative heads shown)\",\n",
    "    width=1200,\n",
    "    facet_col=0,\n",
    "    facet_labels=[\"W_E (including MLPs)\", \"W_E (only MLPs)\", \"W_E (no MLPs)\"],\n",
    "    zmax=1.0, \n",
    "    zmin=-1.0\n",
    ")"
   ]
  }
 ],
 "metadata": {
  "kernelspec": {
   "display_name": "Python 3",
   "language": "python",
   "name": "python3"
  },
  "language_info": {
   "codemirror_mode": {
    "name": "ipython",
    "version": 3
   },
   "file_extension": ".py",
   "mimetype": "text/x-python",
   "name": "python",
   "nbconvert_exporter": "python",
   "pygments_lexer": "ipython3",
   "version": "3.8.10"
  },
  "orig_nbformat": 4
 },
 "nbformat": 4,
 "nbformat_minor": 2
}
