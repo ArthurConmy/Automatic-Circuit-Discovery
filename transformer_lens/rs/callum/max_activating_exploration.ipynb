{
 "cells": [
  {
   "attachments": {},
   "cell_type": "markdown",
   "metadata": {},
   "source": [
    "# Max activating examples for 10.7 (by norm projection to logits)\n",
    "\n",
    "Want to see where head 10.7 is most useful!"
   ]
  },
  {
   "cell_type": "code",
   "execution_count": null,
   "metadata": {},
   "outputs": [],
   "source": [
    "from transformer_lens.cautils.notebook import *"
   ]
  },
  {
   "cell_type": "code",
   "execution_count": null,
   "metadata": {},
   "outputs": [],
   "source": [
    "from transformer_lens.rs.callum.max_activating_exploration import print_best_outputs, find_best_improvements"
   ]
  },
  {
   "cell_type": "code",
   "execution_count": null,
   "metadata": {},
   "outputs": [],
   "source": [
    "model = HookedTransformer.from_pretrained(\"gpt2-small\", device=device)\n",
    "model.set_use_attn_result(True)"
   ]
  },
  {
   "cell_type": "code",
   "execution_count": null,
   "metadata": {},
   "outputs": [],
   "source": [
    "data = get_webtext(seed=6)"
   ]
  },
  {
   "cell_type": "code",
   "execution_count": null,
   "metadata": {},
   "outputs": [],
   "source": [
    "LAYER_IDX, HEAD_IDX = (10, 7)\n",
    "W_U = model.W_U.clone()\n",
    "HEAD_HOOK_NAME = utils.get_act_name(\"result\", LAYER_IDX)\n",
    "\n",
    "NUM_PROMPTS = 100\n",
    "BATCH_SIZE = 10"
   ]
  },
  {
   "cell_type": "code",
   "execution_count": null,
   "metadata": {},
   "outputs": [],
   "source": [
    "def hook_to_ablate_head(head_output: Float[Tensor, \"batch seq_len head_idx d_head\"], hook: HookPoint, head = (LAYER_IDX, HEAD_IDX)):\n",
    "    assert head[0] == hook.layer()\n",
    "    assert \"result\" in hook.name\n",
    "    head_output[:, :, head[1], :] = 0\n",
    "    return head_output"
   ]
  },
  {
   "attachments": {},
   "cell_type": "markdown",
   "metadata": {},
   "source": [
    "## How does 10.7 affect the logits when it's ablated?\n",
    "\n",
    "We can see cross-entropy loss increases by 0.01 on average when this head is ablated. That might seem like not a lot, but it's actually not far off distribution to other late-stage heads."
   ]
  },
  {
   "cell_type": "code",
   "execution_count": null,
   "metadata": {},
   "outputs": [],
   "source": [
    "str_token_list = []\n",
    "loss_list = []\n",
    "ablated_loss_list = []\n",
    "\n",
    "for i in tqdm(range(NUM_PROMPTS)):\n",
    "    # new_str = data[BATCH_SIZE * i: BATCH_SIZE * (i + 1)]\n",
    "    new_str = data[i]\n",
    "    new_str_tokens = model.to_str_tokens(new_str)\n",
    "    tokens = model.to_tokens(new_str)\n",
    "    # tokens = t.stack(tokens).to(device)\n",
    "    loss = model(tokens, return_type=\"loss\", loss_per_token=True)\n",
    "    ablated_loss = model.run_with_hooks(tokens, return_type=\"loss\", loss_per_token=True, fwd_hooks=[(HEAD_HOOK_NAME, hook_to_ablate_head)])\n",
    "    loss_list.append(loss)\n",
    "    ablated_loss_list.append(ablated_loss)\n",
    "    str_token_list.append(new_str_tokens)\n",
    "\n",
    "\n",
    "all_loss = t.cat(loss_list, dim=-1).squeeze()\n",
    "all_ablated_loss = t.cat(ablated_loss_list, dim=-1).squeeze()\n",
    "\n",
    "hist(\n",
    "    all_ablated_loss - all_loss,\n",
    "    title=\"Difference in loss after ablating (positive ⇒ loss increases)\",\n",
    "    labels={\"x\": \"Difference in cross-entropy loss\"},\n",
    "    template=\"simple_white\",\n",
    "    add_mean_line=True,\n",
    "    width=1000,\n",
    "    nbins=200\n",
    ")"
   ]
  },
  {
   "cell_type": "code",
   "execution_count": null,
   "metadata": {},
   "outputs": [],
   "source": [
    "total_num_tokens = sum(len(i) for i in str_token_list)\n",
    "top_pct = int(total_num_tokens * 0.01)\n",
    "\n",
    "best_k_indices, best_k_loss_decrease = find_best_improvements(str_token_list, loss_list, ablated_loss_list, k=top_pct)\n",
    "worst_k_indices, worst_k_loss_decrease = find_best_improvements(str_token_list, loss_list, ablated_loss_list, k=top_pct, worst=True)"
   ]
  },
  {
   "cell_type": "code",
   "execution_count": 71,
   "metadata": {},
   "outputs": [
    {
     "data": {
      "text/html": [
       "<pre style=\"white-space:pre;overflow-x:auto;line-height:normal;font-family:Menlo,'DejaVu Sans Mono',consolas,'Courier New',monospace\"> Guison. <span style=\"color: #008000; text-decoration-color: #008000\">\"There are now seven stakes and each stake is approximately six to seven congregations-- so that's how </span>\n",
       "<span style=\"color: #008000; text-decoration-color: #008000\">much it's grown in my lifetime-- just in this area-- so there's been a tremendous amount of growth.\"\"It's been </span>\n",
       "<span style=\"color: #008000; text-decoration-color: #008000\">exciting to see the growth and people moving to the area,\"</span> said Nixa Ward Bishop Michael Barker. <span style=\"color: #008000; text-decoration-color: #008000\">\"But also the </span>\n",
       "<span style=\"color: #008000; text-decoration-color: #008000\">natural growth from families -- and also those that choose to join the Mormon faith-- those that choose to </span>\n",
       "<span style=\"color: #008000; text-decoration-color: #008000\">investigate and join themselves to the church-- it's been fun.\"</span>Before, those of the Mormon faith in Nixa and Ozark \n",
       "had to drive to Springfield.<span style=\"color: #008000; text-decoration-color: #008000\">\"Then, as the need grew, we were too crowded in that building,\"</span> said Bishop Guison. <span style=\"color: #008000; text-decoration-color: #008000\">\"So</span>\n",
       "<span style=\"color: #008000; text-decoration-color: #008000\">the next choice was what would be the most benefit to members and the community? That's why this location was </span>\n",
       "<span style=\"color: #008000; text-decoration-color: #008000\">chosen.\"\"It gives a foundation to our faith, a sense of permanence,\"</span> said Bishop<span style=\"color: #ff8700; text-decoration-color: #ff8700; font-weight: bold; text-decoration: underline\"> Barker</span>. \"There's a lot of \n",
       "excitement\n",
       "</pre>\n"
      ],
      "text/plain": [
       " Guison. \u001b[32m\"There are now seven stakes and each stake is approximately six to seven congregations-- so that's how \u001b[0m\n",
       "\u001b[32mmuch it's grown in my lifetime-- just in this area-- so there's been a tremendous amount of growth.\"\u001b[0m\u001b[32m\"It's been \u001b[0m\n",
       "\u001b[32mexciting to see the growth and people moving to the area,\"\u001b[0m said Nixa Ward Bishop Michael Barker. \u001b[32m\"But also the \u001b[0m\n",
       "\u001b[32mnatural growth from families -- and also those that choose to join the Mormon faith-- those that choose to \u001b[0m\n",
       "\u001b[32minvestigate and join themselves to the church-- it's been fun.\"\u001b[0mBefore, those of the Mormon faith in Nixa and Ozark \n",
       "had to drive to Springfield.\u001b[32m\"Then, as the need grew, we were too crowded in that building,\"\u001b[0m said Bishop Guison. \u001b[32m\"So\u001b[0m\n",
       "\u001b[32mthe next choice was what would be the most benefit to members and the community? That's why this location was \u001b[0m\n",
       "\u001b[32mchosen.\"\u001b[0m\u001b[32m\"It gives a foundation to our faith, a sense of permanence,\"\u001b[0m said Bishop\u001b[1;4;38;5;208m Barker\u001b[0m. \"There's a lot of \n",
       "excitement\n"
      ]
     },
     "metadata": {},
     "output_type": "display_data"
    },
    {
     "data": {
      "text/html": [
       "<pre style=\"white-space:pre;overflow-x:auto;line-height:normal;font-family:Menlo,'DejaVu Sans Mono',consolas,'Courier New',monospace\"><span style=\"font-style: italic\">                  Correct = ' Barker', Loss decrease from NNMH = 2.433                   </span>\n",
       "┏━━━━━━━━━━━━━━━━━━━━━━━━━━━━━━━━━━━━━━━━━━━┳━━━━━━━━━━━━━━━━━━━━━━━━━━━━━━━━━━━━━━━━━━━┓\n",
       "┃<span style=\"font-weight: bold\"> Original                                  </span>┃<span style=\"font-weight: bold\"> Ablated                                   </span>┃\n",
       "┡━━━━━━━━━━━━━━━━━━━━━━━━━━━━━━━━━━━━━━━━━━━╇━━━━━━━━━━━━━━━━━━━━━━━━━━━━━━━━━━━━━━━━━━━┩\n",
       "│ Top words:                                │ Top words:                                │\n",
       "│                                           │                                           │\n",
       "│ <span style=\"color: #ff8700; text-decoration-color: #ff8700; font-weight: bold\">logit = 19.601</span> | <span style=\"color: #ff0000; text-decoration-color: #ff0000; font-weight: bold\">prob = 0.887</span> | ' Gu'     │ <span style=\"color: #ff8700; text-decoration-color: #ff8700; font-weight: bold\">logit = 20.527</span> | <span style=\"color: #ff0000; text-decoration-color: #ff0000; font-weight: bold\">prob = 0.970</span> | ' Gu'     │\n",
       "│ <span style=\"color: #ff8700; text-decoration-color: #ff8700; font-weight: bold\">logit = 16.911</span> | <span style=\"color: #ff0000; text-decoration-color: #ff0000; font-weight: bold\">prob = 0.060</span> | ' Barker' │ <span style=\"color: #ff8700; text-decoration-color: #ff8700; font-weight: bold\">logit = 15.314</span> | <span style=\"color: #ff0000; text-decoration-color: #ff0000; font-weight: bold\">prob = 0.005</span> | ' Barker' │\n",
       "│ <span style=\"color: #ff8700; text-decoration-color: #ff8700; font-weight: bold\">logit = 13.880</span> | <span style=\"color: #ff0000; text-decoration-color: #ff0000; font-weight: bold\">prob = 0.003</span> | ' G'      │ <span style=\"color: #ff8700; text-decoration-color: #ff8700; font-weight: bold\">logit = 14.032</span> | <span style=\"color: #ff0000; text-decoration-color: #ff0000; font-weight: bold\">prob = 0.001</span> | ' G'      │\n",
       "│ <span style=\"color: #ff8700; text-decoration-color: #ff8700; font-weight: bold\">logit = 13.243</span> | <span style=\"color: #ff0000; text-decoration-color: #ff0000; font-weight: bold\">prob = 0.002</span> | ' N'      │ <span style=\"color: #ff8700; text-decoration-color: #ff8700; font-weight: bold\">logit = 13.086</span> | <span style=\"color: #ff0000; text-decoration-color: #ff0000; font-weight: bold\">prob = 0.001</span> | ' Gh'     │\n",
       "│ <span style=\"color: #ff8700; text-decoration-color: #ff8700; font-weight: bold\">logit = 13.046</span> | <span style=\"color: #ff0000; text-decoration-color: #ff0000; font-weight: bold\">prob = 0.001</span> | ' Gh'     │ <span style=\"color: #ff8700; text-decoration-color: #ff8700; font-weight: bold\">logit = 12.937</span> | <span style=\"color: #ff0000; text-decoration-color: #ff0000; font-weight: bold\">prob = 0.000</span> | ' Clark'  │\n",
       "│                                           │                                           │\n",
       "│ Correct word (predicted at posn 2):       │ Correct word (predicted at posn 2):       │\n",
       "│                                           │                                           │\n",
       "│ <span style=\"color: #ff8700; text-decoration-color: #ff8700; font-weight: bold\">logit = 16.911</span> | <span style=\"color: #ff0000; text-decoration-color: #ff0000; font-weight: bold\">prob = 0.060</span> | ' Barker' │ <span style=\"color: #ff8700; text-decoration-color: #ff8700; font-weight: bold\">logit = 15.314</span> | <span style=\"color: #ff0000; text-decoration-color: #ff0000; font-weight: bold\">prob = 0.005</span> | ' Barker' │\n",
       "└───────────────────────────────────────────┴───────────────────────────────────────────┘\n",
       "</pre>\n"
      ],
      "text/plain": [
       "\u001b[3m                  Correct = ' Barker', Loss decrease from NNMH = 2.433                   \u001b[0m\n",
       "┏━━━━━━━━━━━━━━━━━━━━━━━━━━━━━━━━━━━━━━━━━━━┳━━━━━━━━━━━━━━━━━━━━━━━━━━━━━━━━━━━━━━━━━━━┓\n",
       "┃\u001b[1m \u001b[0m\u001b[1mOriginal                                 \u001b[0m\u001b[1m \u001b[0m┃\u001b[1m \u001b[0m\u001b[1mAblated                                  \u001b[0m\u001b[1m \u001b[0m┃\n",
       "┡━━━━━━━━━━━━━━━━━━━━━━━━━━━━━━━━━━━━━━━━━━━╇━━━━━━━━━━━━━━━━━━━━━━━━━━━━━━━━━━━━━━━━━━━┩\n",
       "│ Top words:                                │ Top words:                                │\n",
       "│                                           │                                           │\n",
       "│ \u001b[1;38;5;208mlogit = 19.601\u001b[0m | \u001b[1;91mprob = 0.887\u001b[0m | ' Gu'     │ \u001b[1;38;5;208mlogit = 20.527\u001b[0m | \u001b[1;91mprob = 0.970\u001b[0m | ' Gu'     │\n",
       "│ \u001b[1;38;5;208mlogit = 16.911\u001b[0m | \u001b[1;91mprob = 0.060\u001b[0m | ' Barker' │ \u001b[1;38;5;208mlogit = 15.314\u001b[0m | \u001b[1;91mprob = 0.005\u001b[0m | ' Barker' │\n",
       "│ \u001b[1;38;5;208mlogit = 13.880\u001b[0m | \u001b[1;91mprob = 0.003\u001b[0m | ' G'      │ \u001b[1;38;5;208mlogit = 14.032\u001b[0m | \u001b[1;91mprob = 0.001\u001b[0m | ' G'      │\n",
       "│ \u001b[1;38;5;208mlogit = 13.243\u001b[0m | \u001b[1;91mprob = 0.002\u001b[0m | ' N'      │ \u001b[1;38;5;208mlogit = 13.086\u001b[0m | \u001b[1;91mprob = 0.001\u001b[0m | ' Gh'     │\n",
       "│ \u001b[1;38;5;208mlogit = 13.046\u001b[0m | \u001b[1;91mprob = 0.001\u001b[0m | ' Gh'     │ \u001b[1;38;5;208mlogit = 12.937\u001b[0m | \u001b[1;91mprob = 0.000\u001b[0m | ' Clark'  │\n",
       "│                                           │                                           │\n",
       "│ Correct word (predicted at posn 2):       │ Correct word (predicted at posn 2):       │\n",
       "│                                           │                                           │\n",
       "│ \u001b[1;38;5;208mlogit = 16.911\u001b[0m | \u001b[1;91mprob = 0.060\u001b[0m | ' Barker' │ \u001b[1;38;5;208mlogit = 15.314\u001b[0m | \u001b[1;91mprob = 0.005\u001b[0m | ' Barker' │\n",
       "└───────────────────────────────────────────┴───────────────────────────────────────────┘\n"
      ]
     },
     "metadata": {},
     "output_type": "display_data"
    },
    {
     "data": {
      "text/html": [
       "<pre style=\"white-space:pre;overflow-x:auto;line-height:normal;font-family:Menlo,'DejaVu Sans Mono',consolas,'Courier New',monospace\"> of a rectangular piece with a <span style=\"color: #008000; text-decoration-color: #008000\">\"half-round dent\"</span>. The dent is where the opening is located.The mother might eat her\n",
       "babies, but this mostly happens when she is stressed too much. If you're interested in scorpions in general <span style=\"font-weight: bold\">(</span>or \n",
       "other arachnids like tarantulas, vinegaroons, etc<span style=\"font-weight: bold\">)</span>, this site has a lot of related photos, nature walks, etc. The \n",
       "easiest way to find something of interest is to use google, for example: site:johnbokma.com scorpions.RelatedToday,\n",
       "after Esme and I had returned from some shopping at Wal-Mart, I discovered that one scorpion was giving birth: a \n",
       "Diplocentrus species, probably Diplocentrus melici, which we had captured the 23rd of April, <span style=\"color: #008080; text-decoration-color: #008080; font-weight: bold\">2006</span>. Later that day \n",
       "we captured another female. The latter gave birth some time ago, but shortly after died. My best guess is that it \n",
       "somehow got ill, and aborted the<span style=\"color: #ff8700; text-decoration-color: #ff8700; font-weight: bold; text-decoration: underline\"> scorp</span>ions, none of which survived because the\n",
       "</pre>\n"
      ],
      "text/plain": [
       " of a rectangular piece with a \u001b[32m\"half-round dent\"\u001b[0m. The dent is where the opening is located.The mother might eat her\n",
       "babies, but this mostly happens when she is stressed too much. If you're interested in scorpions in general \u001b[1m(\u001b[0mor \n",
       "other arachnids like tarantulas, vinegaroons, etc\u001b[1m)\u001b[0m, this site has a lot of related photos, nature walks, etc. The \n",
       "easiest way to find something of interest is to use google, for example: site:johnbokma.com scorpions.RelatedToday,\n",
       "after Esme and I had returned from some shopping at Wal-Mart, I discovered that one scorpion was giving birth: a \n",
       "Diplocentrus species, probably Diplocentrus melici, which we had captured the 23rd of April, \u001b[1;36m2006\u001b[0m. Later that day \n",
       "we captured another female. The latter gave birth some time ago, but shortly after died. My best guess is that it \n",
       "somehow got ill, and aborted the\u001b[1;4;38;5;208m scorp\u001b[0mions, none of which survived because the\n"
      ]
     },
     "metadata": {},
     "output_type": "display_data"
    },
    {
     "data": {
      "text/html": [
       "<pre style=\"white-space:pre;overflow-x:auto;line-height:normal;font-family:Menlo,'DejaVu Sans Mono',consolas,'Courier New',monospace\"><span style=\"font-style: italic\">                      Correct = ' scorp', Loss decrease from NNMH = 2.194                      </span>\n",
       "┏━━━━━━━━━━━━━━━━━━━━━━━━━━━━━━━━━━━━━━━━━━━━━━┳━━━━━━━━━━━━━━━━━━━━━━━━━━━━━━━━━━━━━━━━━━━━━━┓\n",
       "┃<span style=\"font-weight: bold\"> Original                                     </span>┃<span style=\"font-weight: bold\"> Ablated                                      </span>┃\n",
       "┡━━━━━━━━━━━━━━━━━━━━━━━━━━━━━━━━━━━━━━━━━━━━━━╇━━━━━━━━━━━━━━━━━━━━━━━━━━━━━━━━━━━━━━━━━━━━━━┩\n",
       "│ Top words:                                   │ Top words:                                   │\n",
       "│                                              │                                              │\n",
       "│ <span style=\"color: #ff8700; text-decoration-color: #ff8700; font-weight: bold\">logit = 16.465</span> | <span style=\"color: #ff0000; text-decoration-color: #ff0000; font-weight: bold\">prob = 0.241</span> | ' baby'      │ <span style=\"color: #ff8700; text-decoration-color: #ff8700; font-weight: bold\">logit = 17.162</span> | <span style=\"color: #ff0000; text-decoration-color: #ff0000; font-weight: bold\">prob = 0.290</span> | ' baby'      │\n",
       "│ <span style=\"color: #ff8700; text-decoration-color: #ff8700; font-weight: bold\">logit = 15.189</span> | <span style=\"color: #ff0000; text-decoration-color: #ff0000; font-weight: bold\">prob = 0.067</span> | ' pregnancy' │ <span style=\"color: #ff8700; text-decoration-color: #ff8700; font-weight: bold\">logit = 16.535</span> | <span style=\"color: #ff0000; text-decoration-color: #ff0000; font-weight: bold\">prob = 0.155</span> | ' birth'     │\n",
       "│ <span style=\"color: #ff8700; text-decoration-color: #ff8700; font-weight: bold\">logit = 15.044</span> | <span style=\"color: #ff0000; text-decoration-color: #ff0000; font-weight: bold\">prob = 0.058</span> | ' birth'     │ <span style=\"color: #ff8700; text-decoration-color: #ff8700; font-weight: bold\">logit = 15.860</span> | <span style=\"color: #ff0000; text-decoration-color: #ff0000; font-weight: bold\">prob = 0.079</span> | ' pregnancy' │\n",
       "│ <span style=\"color: #ff8700; text-decoration-color: #ff8700; font-weight: bold\">logit = 14.832</span> | <span style=\"color: #ff0000; text-decoration-color: #ff0000; font-weight: bold\">prob = 0.047</span> | ' first'     │ <span style=\"color: #ff8700; text-decoration-color: #ff8700; font-weight: bold\">logit = 15.167</span> | <span style=\"color: #ff0000; text-decoration-color: #ff0000; font-weight: bold\">prob = 0.040</span> | ' first'     │\n",
       "│ <span style=\"color: #ff8700; text-decoration-color: #ff8700; font-weight: bold\">logit = 14.586</span> | <span style=\"color: #ff0000; text-decoration-color: #ff0000; font-weight: bold\">prob = 0.037</span> | ' mother'    │ <span style=\"color: #ff8700; text-decoration-color: #ff8700; font-weight: bold\">logit = 14.993</span> | <span style=\"color: #ff0000; text-decoration-color: #ff0000; font-weight: bold\">prob = 0.033</span> | ' mother'    │\n",
       "│                                              │                                              │\n",
       "│ Correct word (predicted at posn 69):         │ Correct word (predicted at posn 344):        │\n",
       "│                                              │                                              │\n",
       "│ <span style=\"color: #ff8700; text-decoration-color: #ff8700; font-weight: bold\">logit = 11.077</span> | <span style=\"color: #ff0000; text-decoration-color: #ff0000; font-weight: bold\">prob = 0.001</span> | ' scorp'     │ <span style=\"color: #ff8700; text-decoration-color: #ff8700; font-weight: bold\">logit = 9.392</span> | <span style=\"color: #ff0000; text-decoration-color: #ff0000; font-weight: bold\">prob = 0.000</span> | ' scorp'      │\n",
       "└──────────────────────────────────────────────┴──────────────────────────────────────────────┘\n",
       "</pre>\n"
      ],
      "text/plain": [
       "\u001b[3m                      Correct = ' scorp', Loss decrease from NNMH = 2.194                      \u001b[0m\n",
       "┏━━━━━━━━━━━━━━━━━━━━━━━━━━━━━━━━━━━━━━━━━━━━━━┳━━━━━━━━━━━━━━━━━━━━━━━━━━━━━━━━━━━━━━━━━━━━━━┓\n",
       "┃\u001b[1m \u001b[0m\u001b[1mOriginal                                    \u001b[0m\u001b[1m \u001b[0m┃\u001b[1m \u001b[0m\u001b[1mAblated                                     \u001b[0m\u001b[1m \u001b[0m┃\n",
       "┡━━━━━━━━━━━━━━━━━━━━━━━━━━━━━━━━━━━━━━━━━━━━━━╇━━━━━━━━━━━━━━━━━━━━━━━━━━━━━━━━━━━━━━━━━━━━━━┩\n",
       "│ Top words:                                   │ Top words:                                   │\n",
       "│                                              │                                              │\n",
       "│ \u001b[1;38;5;208mlogit = 16.465\u001b[0m | \u001b[1;91mprob = 0.241\u001b[0m | ' baby'      │ \u001b[1;38;5;208mlogit = 17.162\u001b[0m | \u001b[1;91mprob = 0.290\u001b[0m | ' baby'      │\n",
       "│ \u001b[1;38;5;208mlogit = 15.189\u001b[0m | \u001b[1;91mprob = 0.067\u001b[0m | ' pregnancy' │ \u001b[1;38;5;208mlogit = 16.535\u001b[0m | \u001b[1;91mprob = 0.155\u001b[0m | ' birth'     │\n",
       "│ \u001b[1;38;5;208mlogit = 15.044\u001b[0m | \u001b[1;91mprob = 0.058\u001b[0m | ' birth'     │ \u001b[1;38;5;208mlogit = 15.860\u001b[0m | \u001b[1;91mprob = 0.079\u001b[0m | ' pregnancy' │\n",
       "│ \u001b[1;38;5;208mlogit = 14.832\u001b[0m | \u001b[1;91mprob = 0.047\u001b[0m | ' first'     │ \u001b[1;38;5;208mlogit = 15.167\u001b[0m | \u001b[1;91mprob = 0.040\u001b[0m | ' first'     │\n",
       "│ \u001b[1;38;5;208mlogit = 14.586\u001b[0m | \u001b[1;91mprob = 0.037\u001b[0m | ' mother'    │ \u001b[1;38;5;208mlogit = 14.993\u001b[0m | \u001b[1;91mprob = 0.033\u001b[0m | ' mother'    │\n",
       "│                                              │                                              │\n",
       "│ Correct word (predicted at posn 69):         │ Correct word (predicted at posn 344):        │\n",
       "│                                              │                                              │\n",
       "│ \u001b[1;38;5;208mlogit = 11.077\u001b[0m | \u001b[1;91mprob = 0.001\u001b[0m | ' scorp'     │ \u001b[1;38;5;208mlogit = 9.392\u001b[0m | \u001b[1;91mprob = 0.000\u001b[0m | ' scorp'      │\n",
       "└──────────────────────────────────────────────┴──────────────────────────────────────────────┘\n"
      ]
     },
     "metadata": {},
     "output_type": "display_data"
    },
    {
     "data": {
      "text/html": [
       "<pre style=\"white-space:pre;overflow-x:auto;line-height:normal;font-family:Menlo,'DejaVu Sans Mono',consolas,'Courier New',monospace\"><span style=\"font-weight: bold\">&lt;</span><span style=\"color: #ff00ff; text-decoration-color: #ff00ff; font-weight: bold\">|endoftext|</span><span style=\"font-weight: bold\">&gt;</span>Iran has enlisted tens of thousands of young Shiite men into an armed network that is challenging the \n",
       "US across the Middle East. The Trump administration is not prepared.BAGHDAD — Iran has built up a multinational \n",
       "network of tens of thousands of young men from across the Middle East, turning them into a well-drilled fighting \n",
       "machine that is outgunning the US on the battlefield, as Tehran outsmarts the White House in the corridors of \n",
       "power. These men can be found leading the defense of the Syrian president, Bashar al-Assad, recapturing land from \n",
       "ISIS in Iraq, and fighting for control of the Yemeni capital of Sanaa. The transnational militia of Shiite men — \n",
       "which has no official title — is now the dominant force in the region, enabling Iran to take full advantage in the \n",
       "absence of a coherent strategy from the Trump White House. Over six months, BuzzFeed News spoke to researchers, \n",
       "officials, and militia fighters who described what they knew about the<span style=\"color: #ff8700; text-decoration-color: #ff8700; font-weight: bold; text-decoration: underline\"> Iranian</span> program, overseen by the secretive \n",
       "Quds\n",
       "</pre>\n"
      ],
      "text/plain": [
       "\u001b[1m<\u001b[0m\u001b[1;95m|endoftext|\u001b[0m\u001b[1m>\u001b[0mIran has enlisted tens of thousands of young Shiite men into an armed network that is challenging the \n",
       "US across the Middle East. The Trump administration is not prepared.BAGHDAD — Iran has built up a multinational \n",
       "network of tens of thousands of young men from across the Middle East, turning them into a well-drilled fighting \n",
       "machine that is outgunning the US on the battlefield, as Tehran outsmarts the White House in the corridors of \n",
       "power. These men can be found leading the defense of the Syrian president, Bashar al-Assad, recapturing land from \n",
       "ISIS in Iraq, and fighting for control of the Yemeni capital of Sanaa. The transnational militia of Shiite men — \n",
       "which has no official title — is now the dominant force in the region, enabling Iran to take full advantage in the \n",
       "absence of a coherent strategy from the Trump White House. Over six months, BuzzFeed News spoke to researchers, \n",
       "officials, and militia fighters who described what they knew about the\u001b[1;4;38;5;208m Iranian\u001b[0m program, overseen by the secretive \n",
       "Quds\n"
      ]
     },
     "metadata": {},
     "output_type": "display_data"
    },
    {
     "data": {
      "text/html": [
       "<pre style=\"white-space:pre;overflow-x:auto;line-height:normal;font-family:Menlo,'DejaVu Sans Mono',consolas,'Courier New',monospace\"><span style=\"font-style: italic\">                   Correct = ' Iranian', Loss decrease from NNMH = 0.789                   </span>\n",
       "┏━━━━━━━━━━━━━━━━━━━━━━━━━━━━━━━━━━━━━━━━━━━━┳━━━━━━━━━━━━━━━━━━━━━━━━━━━━━━━━━━━━━━━━━━━━┓\n",
       "┃<span style=\"font-weight: bold\"> Original                                   </span>┃<span style=\"font-weight: bold\"> Ablated                                    </span>┃\n",
       "┡━━━━━━━━━━━━━━━━━━━━━━━━━━━━━━━━━━━━━━━━━━━━╇━━━━━━━━━━━━━━━━━━━━━━━━━━━━━━━━━━━━━━━━━━━━┩\n",
       "│ Top words:                                 │ Top words:                                 │\n",
       "│                                            │                                            │\n",
       "│ <span style=\"color: #ff8700; text-decoration-color: #ff8700; font-weight: bold\">logit = 16.238</span> | <span style=\"color: #ff0000; text-decoration-color: #ff0000; font-weight: bold\">prob = 0.177</span> | ' Iranian' │ <span style=\"color: #ff8700; text-decoration-color: #ff8700; font-weight: bold\">logit = 15.230</span> | <span style=\"color: #ff0000; text-decoration-color: #ff0000; font-weight: bold\">prob = 0.084</span> | ' group'   │\n",
       "│ <span style=\"color: #ff8700; text-decoration-color: #ff8700; font-weight: bold\">logit = 15.483</span> | <span style=\"color: #ff0000; text-decoration-color: #ff0000; font-weight: bold\">prob = 0.083</span> | ' new'     │ <span style=\"color: #ff8700; text-decoration-color: #ff8700; font-weight: bold\">logit = 15.198</span> | <span style=\"color: #ff0000; text-decoration-color: #ff0000; font-weight: bold\">prob = 0.082</span> | ' new'     │\n",
       "│ <span style=\"color: #ff8700; text-decoration-color: #ff8700; font-weight: bold\">logit = 15.312</span> | <span style=\"color: #ff0000; text-decoration-color: #ff0000; font-weight: bold\">prob = 0.070</span> | ' group'   │ <span style=\"color: #ff8700; text-decoration-color: #ff8700; font-weight: bold\">logit = 15.183</span> | <span style=\"color: #ff0000; text-decoration-color: #ff0000; font-weight: bold\">prob = 0.080</span> | ' Iranian' │\n",
       "│ <span style=\"color: #ff8700; text-decoration-color: #ff8700; font-weight: bold\">logit = 14.742</span> | <span style=\"color: #ff0000; text-decoration-color: #ff0000; font-weight: bold\">prob = 0.040</span> | ' network' │ <span style=\"color: #ff8700; text-decoration-color: #ff8700; font-weight: bold\">logit = 14.868</span> | <span style=\"color: #ff0000; text-decoration-color: #ff0000; font-weight: bold\">prob = 0.059</span> | ' network' │\n",
       "│ <span style=\"color: #ff8700; text-decoration-color: #ff8700; font-weight: bold\">logit = 14.665</span> | <span style=\"color: #ff0000; text-decoration-color: #ff0000; font-weight: bold\">prob = 0.037</span> | ' Iran'    │ <span style=\"color: #ff8700; text-decoration-color: #ff8700; font-weight: bold\">logit = 14.791</span> | <span style=\"color: #ff0000; text-decoration-color: #ff0000; font-weight: bold\">prob = 0.054</span> | ' militia' │\n",
       "│                                            │                                            │\n",
       "│ Correct word (predicted at posn 1):        │ Correct word (predicted at posn 3):        │\n",
       "│                                            │                                            │\n",
       "│ <span style=\"color: #ff8700; text-decoration-color: #ff8700; font-weight: bold\">logit = 16.238</span> | <span style=\"color: #ff0000; text-decoration-color: #ff0000; font-weight: bold\">prob = 0.177</span> | ' Iranian' │ <span style=\"color: #ff8700; text-decoration-color: #ff8700; font-weight: bold\">logit = 15.183</span> | <span style=\"color: #ff0000; text-decoration-color: #ff0000; font-weight: bold\">prob = 0.080</span> | ' Iranian' │\n",
       "└────────────────────────────────────────────┴────────────────────────────────────────────┘\n",
       "</pre>\n"
      ],
      "text/plain": [
       "\u001b[3m                   Correct = ' Iranian', Loss decrease from NNMH = 0.789                   \u001b[0m\n",
       "┏━━━━━━━━━━━━━━━━━━━━━━━━━━━━━━━━━━━━━━━━━━━━┳━━━━━━━━━━━━━━━━━━━━━━━━━━━━━━━━━━━━━━━━━━━━┓\n",
       "┃\u001b[1m \u001b[0m\u001b[1mOriginal                                  \u001b[0m\u001b[1m \u001b[0m┃\u001b[1m \u001b[0m\u001b[1mAblated                                   \u001b[0m\u001b[1m \u001b[0m┃\n",
       "┡━━━━━━━━━━━━━━━━━━━━━━━━━━━━━━━━━━━━━━━━━━━━╇━━━━━━━━━━━━━━━━━━━━━━━━━━━━━━━━━━━━━━━━━━━━┩\n",
       "│ Top words:                                 │ Top words:                                 │\n",
       "│                                            │                                            │\n",
       "│ \u001b[1;38;5;208mlogit = 16.238\u001b[0m | \u001b[1;91mprob = 0.177\u001b[0m | ' Iranian' │ \u001b[1;38;5;208mlogit = 15.230\u001b[0m | \u001b[1;91mprob = 0.084\u001b[0m | ' group'   │\n",
       "│ \u001b[1;38;5;208mlogit = 15.483\u001b[0m | \u001b[1;91mprob = 0.083\u001b[0m | ' new'     │ \u001b[1;38;5;208mlogit = 15.198\u001b[0m | \u001b[1;91mprob = 0.082\u001b[0m | ' new'     │\n",
       "│ \u001b[1;38;5;208mlogit = 15.312\u001b[0m | \u001b[1;91mprob = 0.070\u001b[0m | ' group'   │ \u001b[1;38;5;208mlogit = 15.183\u001b[0m | \u001b[1;91mprob = 0.080\u001b[0m | ' Iranian' │\n",
       "│ \u001b[1;38;5;208mlogit = 14.742\u001b[0m | \u001b[1;91mprob = 0.040\u001b[0m | ' network' │ \u001b[1;38;5;208mlogit = 14.868\u001b[0m | \u001b[1;91mprob = 0.059\u001b[0m | ' network' │\n",
       "│ \u001b[1;38;5;208mlogit = 14.665\u001b[0m | \u001b[1;91mprob = 0.037\u001b[0m | ' Iran'    │ \u001b[1;38;5;208mlogit = 14.791\u001b[0m | \u001b[1;91mprob = 0.054\u001b[0m | ' militia' │\n",
       "│                                            │                                            │\n",
       "│ Correct word (predicted at posn 1):        │ Correct word (predicted at posn 3):        │\n",
       "│                                            │                                            │\n",
       "│ \u001b[1;38;5;208mlogit = 16.238\u001b[0m | \u001b[1;91mprob = 0.177\u001b[0m | ' Iranian' │ \u001b[1;38;5;208mlogit = 15.183\u001b[0m | \u001b[1;91mprob = 0.080\u001b[0m | ' Iranian' │\n",
       "└────────────────────────────────────────────┴────────────────────────────────────────────┘\n"
      ]
     },
     "metadata": {},
     "output_type": "display_data"
    }
   ],
   "source": [
    "caches_and_tokens = print_best_outputs(\n",
    "    best_k_indices[:3],\n",
    "    best_k_loss_decrease[:3],\n",
    "    hook = (HEAD_HOOK_NAME, hook_to_ablate_head),\n",
    "    model = model,\n",
    "    data = data,\n",
    "    n = 3,\n",
    "    random = False,\n",
    "    return_caches = False,\n",
    ")"
   ]
  },
  {
   "cell_type": "code",
   "execution_count": 75,
   "metadata": {},
   "outputs": [],
   "source": [
    "caches_and_tokens = print_best_outputs(\n",
    "    best_k_indices[:3],\n",
    "    best_k_loss_decrease[:3],\n",
    "    hook = (HEAD_HOOK_NAME, hook_to_ablate_head),\n",
    "    model = model,\n",
    "    data = data,\n",
    "    n = 3,\n",
    "    random = False,\n",
    "    return_caches = True,\n",
    "    names_filter = lambda name: name == utils.get_act_name(\"pattern\", LAYER_IDX),\n",
    ")\n",
    "clear_output()"
   ]
  },
  {
   "cell_type": "code",
   "execution_count": 79,
   "metadata": {},
   "outputs": [
    {
     "name": "stdout",
     "output_type": "stream",
     "text": [
      " themselves to the church-- it's been fun.\"\n",
      "\n",
      "Before, those of the Mormon faith in Nixa and Ozark had to drive to Springfield.\n",
      "\n",
      "\"Then, as the need grew, we were too crowded in that building,\" said Bishop Guison. \"So the next choice was what would be the most benefit to members and the community? That's why this location was chosen.\"\n",
      "\n",
      "\"It gives a foundation to our faith, a sense of permanence,\" said Bishop\n",
      "\n",
      "============================================================\n",
      "\n",
      "okma.com scorpions.\n",
      "\n",
      "Related\n",
      "\n",
      "Today, after Esme and I had returned from some shopping at Wal-Mart, I discovered that one scorpion was giving birth: a Diplocentrus species, probably Diplocentrus melici, which we had captured the 23rd of April, 2006. Later that day we captured another female. The latter gave birth some time ago, but shortly after died. My best guess is that it somehow got ill, and aborted the\n",
      "\n",
      "============================================================\n",
      "\n",
      " mascot by the Reveille name in May 2001.\n",
      "\n",
      "Reveille VII retired in the summer of 2008, and had been living with local residents Paul and Tina Gardner.\n",
      "\n",
      "Details on services for the dog are still being worked out.\n",
      "\n",
      "Known as the First Lady of Aggieland and the highest ranking member of the university's Corps of Cadets, the Reveille serving as the mascot lives with a cadet on campus and goes to classes with the student.\n",
      "\n",
      "The first\n",
      "\n",
      "============================================================\n",
      "\n"
     ]
    }
   ],
   "source": [
    "p = Path(\"/home/ubuntu/Transformerlens/transformer_lens/rs/callum/plots\")\n",
    "\n",
    "window = 100\n",
    "\n",
    "for i, (cache, tokens) in enumerate(caches_and_tokens):\n",
    "    \n",
    "    pattern = cache[\"pattern\", LAYER_IDX][:, HEAD_IDX]\n",
    "    pattern_sliced = pattern[:, -window:, -window:]\n",
    "    html = cv.attention.attention_heads(\n",
    "        attention = pattern_sliced,\n",
    "        tokens = tokens[-window:],\n",
    "        attention_head_names = [f\"{LAYER_IDX}.{HEAD_IDX}, example {i}\"]\n",
    "    )\n",
    "    \n",
    "    with open(str((p / f\"temp_file_{i}.html\").resolve()), \"w\") as f:\n",
    "        f.write(str(html))\n",
    "\n",
    "    print(\"\".join(tokens[-window:]))\n",
    "    print(\"\\n\" + \"=\" * 60 + \"\\n\")"
   ]
  },
  {
   "cell_type": "code",
   "execution_count": null,
   "metadata": {},
   "outputs": [],
   "source": [
    "\n",
    "def clear_plots():\n",
    "    for i in p.glob(\"temp_file_*.html\"):\n",
    "        i.unlink()\n",
    "\n",
    "clear_plots()"
   ]
  }
 ],
 "metadata": {
  "kernelspec": {
   "display_name": "Python 3.10.11 ('base')",
   "language": "python",
   "name": "python3"
  },
  "language_info": {
   "codemirror_mode": {
    "name": "ipython",
    "version": 3
   },
   "file_extension": ".py",
   "mimetype": "text/x-python",
   "name": "python",
   "nbconvert_exporter": "python",
   "pygments_lexer": "ipython3",
   "version": "3.10.11"
  },
  "orig_nbformat": 4,
  "vscode": {
   "interpreter": {
    "hash": "d4d1e4263499bec80672ea0156c357c1ee493ec2b1c70f0acce89fc37c4a6abe"
   }
  }
 },
 "nbformat": 4,
 "nbformat_minor": 2
}
