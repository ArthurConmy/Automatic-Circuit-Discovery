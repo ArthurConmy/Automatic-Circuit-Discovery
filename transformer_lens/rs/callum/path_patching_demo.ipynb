{
  "cells": [
    {
      "attachments": {},
      "cell_type": "markdown",
      "metadata": {
        "id": "Ja036OpBmBKb"
      },
      "source": [
        "# Path Patching & Activation Patching\n",
        "\n",
        "This notebook contains my implementation of **path patching**. Eventually I'll add it to TransformerLens as a demo, but for now I just wanted to add it as a personal repo. I expect it to be useful for the research sprint I'm about to start for Neel Nanda's SERI MATS stream.\n",
        "\n",
        "***This code is designed to be low-effort for mechanistic interpretability researchers doing exploratory analysis***. It's not been optimized for e.g. fitting into larger systems like ACDC. I've tried to follow the general \"research as play\" philosophy of TransformerLens.\n",
        "\n",
        "You can find the public GitHub repo [here](https://github.com/callummcdougall/path_patching). The code below uses code directly from that repo.\n",
        "\n",
        "### Contents\n",
        "\n",
        "* **Setup code** - run this to `wget` repo, import libs, and define datasets.\n",
        "* **Activation Patching** - introduces the main `act_patch` function, and shows how to use it (with 2 examples).\n",
        "* **Path Patching** - introduces the main `path_patch` function, and shows how to use it (with 4 examples).\n",
        "* **Appendix** - explains what path patching is, and includes some thoughts about the pros/cons of my implementation.\n",
        "\n",
        "*Note - I'd recommend you focus more on the examples than on the explanations that precede them, because I expect staring at these to be a faster way of understanding how the library works.*\n",
        "\n",
        "Please comment or send me a message if you have any feedback. I hope you find this useful!\n",
        "\n",
        "<img src=\"https://raw.githubusercontent.com/callummcdougall/computational-thread-art/master/example_images/misc/pathpatching.png\" width=\"320\">"
      ]
    },
    {
      "attachments": {},
      "cell_type": "markdown",
      "metadata": {
        "id": "NiGgzgaLDmLl"
      },
      "source": [
        "# Setup code (don't read, just run)\n",
        "\n",
        "When you run this, it'll download the `path_patching.py` file from my repo and put it in local storage; you'll be able to see it in the Files menu on the left."
      ]
    },
    {
      "cell_type": "code",
      "execution_count": null,
      "metadata": {
        "colab": {
          "base_uri": "https://localhost:8080/"
        },
        "id": "npWIJkWJDmLn",
        "outputId": "f990c313-6f5a-4ac8-d3ca-61ba52cc4d7f"
      },
      "outputs": [],
      "source": [
        "from transformer_lens.cautils.utils import *\n",
        "\n",
        "# from ioi_dataset import NAMES, IOIDataset\n",
        "# from path_patching import Node, IterNode, path_patch, act_patch\n",
        "\n",
        "device = t.device(\"cuda\") if t.cuda.is_available() else t.device(\"cpu\")\n",
        "\n",
        "update_layout_set = {\n",
        "    \"xaxis_range\", \"yaxis_range\", \"hovermode\", \"xaxis_title\", \"yaxis_title\", \"colorbar\", \"colorscale\", \"coloraxis\", \"title_x\", \"bargap\", \"bargroupgap\", \"xaxis_tickformat\",\n",
        "    \"yaxis_tickformat\", \"title_y\", \"legend_title_text\", \"xaxis_showgrid\", \"xaxis_gridwidth\", \"xaxis_gridcolor\", \"yaxis_showgrid\", \"yaxis_gridwidth\", \"yaxis_gridcolor\",\n",
        "    \"showlegend\", \"xaxis_tickmode\", \"yaxis_tickmode\", \"xaxis_tickangle\", \"yaxis_tickangle\", \"margin\", \"xaxis_visible\", \"yaxis_visible\", \"bargap\", \"bargroupgap\"\n",
        "}\n",
        "\n",
        "def imshow(tensor, renderer=None, **kwargs):\n",
        "    kwargs_post = {k: v for k, v in kwargs.items() if k in update_layout_set}\n",
        "    kwargs_pre = {k: v for k, v in kwargs.items() if k not in update_layout_set}\n",
        "    facet_labels = kwargs_pre.pop(\"facet_labels\", None)\n",
        "    border = kwargs_pre.pop(\"border\", False)\n",
        "    if \"color_continuous_scale\" not in kwargs_pre:\n",
        "        kwargs_pre[\"color_continuous_scale\"] = \"RdBu\"\n",
        "    if \"margin\" in kwargs_post and isinstance(kwargs_post[\"margin\"], int):\n",
        "        kwargs_post[\"margin\"] = dict.fromkeys(list(\"tblr\"), kwargs_post[\"margin\"])\n",
        "    fig = px.imshow(utils.to_numpy(tensor), color_continuous_midpoint=0.0, **kwargs_pre)\n",
        "    if facet_labels:\n",
        "        for i, label in enumerate(facet_labels):\n",
        "            fig.layout.annotations[i]['text'] = label\n",
        "    if border:\n",
        "        fig.update_xaxes(showline=True, linewidth=1, linecolor='black', mirror=True)\n",
        "        fig.update_yaxes(showline=True, linewidth=1, linecolor='black', mirror=True)\n",
        "    # things like `xaxis_tickmode` should be applied to all subplots. This is super janky lol but I'm under time pressure\n",
        "    for setting in [\"tickangle\"]:\n",
        "      if f\"xaxis_{setting}\" in kwargs_post:\n",
        "          i = 2\n",
        "          while f\"xaxis{i}\" in fig[\"layout\"]:\n",
        "            kwargs_post[f\"xaxis{i}_{setting}\"] = kwargs_post[f\"xaxis_{setting}\"]\n",
        "            i += 1\n",
        "    fig.update_layout(**kwargs_post)\n",
        "    fig.show(renderer=renderer)\n",
        "\n",
        "def hist(tensor, renderer=None, **kwargs):\n",
        "    kwargs_post = {k: v for k, v in kwargs.items() if k in update_layout_set}\n",
        "    kwargs_pre = {k: v for k, v in kwargs.items() if k not in update_layout_set}\n",
        "    names = kwargs_pre.pop(\"names\", None)\n",
        "    if \"barmode\" not in kwargs_post:\n",
        "        kwargs_post[\"barmode\"] = \"overlay\"\n",
        "    if \"bargap\" not in kwargs_post:\n",
        "        kwargs_post[\"bargap\"] = 0.0\n",
        "    if \"margin\" in kwargs_post and isinstance(kwargs_post[\"margin\"], int):\n",
        "        kwargs_post[\"margin\"] = dict.fromkeys(list(\"tblr\"), kwargs_post[\"margin\"])\n",
        "    fig = px.histogram(x=tensor, **kwargs_pre).update_layout(**kwargs_post)\n",
        "    if names is not None:\n",
        "        for i in range(len(fig.data)):\n",
        "            fig.data[i][\"name\"] = names[i // 2]\n",
        "    fig.show(renderer)"
      ]
    },
    {
      "cell_type": "code",
      "execution_count": null,
      "metadata": {
        "colab": {
          "base_uri": "https://localhost:8080/"
        },
        "id": "rqaK_GF1DmLp",
        "outputId": "01f38861-85d0-44fe-9b8a-b3616fb29878"
      },
      "outputs": [],
      "source": [
        "model = HookedTransformer.from_pretrained(\n",
        "    \"gpt2-small\",\n",
        "    center_unembed=True,\n",
        "    center_writing_weights=True,\n",
        "    fold_ln=True,\n",
        "    refactor_factored_attn_matrices=True,\n",
        ")\n",
        "model.set_use_split_qkv_input(True)"
      ]
    },
    {
      "attachments": {},
      "cell_type": "markdown",
      "metadata": {
        "id": "YnTE19KpDmLp"
      },
      "source": [
        "Neel's data (and metric functions):"
      ]
    },
    {
      "cell_type": "code",
      "execution_count": null,
      "metadata": {
        "colab": {
          "base_uri": "https://localhost:8080/"
        },
        "id": "IIS1cI07DmLp",
        "outputId": "46c7b548-5234-4877-f13a-edd195bfcadc"
      },
      "outputs": [],
      "source": [
        "prompt_format = [\n",
        "    \"When John and Mary went to the shops,{} gave the bag to\",\n",
        "    \"When Tom and James went to the park,{} gave the ball to\",\n",
        "    \"When Dan and Sid went to the shops,{} gave an apple to\",\n",
        "    \"After Martin and Amy went to the park,{} gave a drink to\",\n",
        "]\n",
        "name_pairs = [\n",
        "    (\" John\", \" Mary\"),\n",
        "    (\" Tom\", \" James\"),\n",
        "    (\" Dan\", \" Sid\"),\n",
        "    (\" Martin\", \" Amy\"),\n",
        "]\n",
        "\n",
        "# Define 8 prompts, in 4 groups of 2 (with adjacent prompts having answers swapped)\n",
        "prompts = [\n",
        "    prompt.format(name)\n",
        "    for (prompt, names) in zip(prompt_format, name_pairs) for name in names[::-1]\n",
        "]\n",
        "# Define the answers for each prompt, in the form (correct, incorrect)\n",
        "answers = [names[::i] for names in name_pairs for i in (1, -1)]\n",
        "# Define the answer tokens (same shape as the answers)\n",
        "answer_tokens = t.concat([\n",
        "    model.to_tokens(names, prepend_bos=False).T for names in answers\n",
        "])\n",
        "\n",
        "def logits_to_ave_logit_diff(\n",
        "    logits: Float[Tensor, \"batch seq d_vocab\"],\n",
        "    answer_tokens: Float[Tensor, \"batch 2\"] = answer_tokens,\n",
        "    per_prompt: bool = False\n",
        "):\n",
        "    '''\n",
        "    Returns logit difference between the correct and incorrect answer.\n",
        "\n",
        "    If per_prompt=True, return the array of differences rather than the average.\n",
        "    '''\n",
        "    # Only the final logits are relevant for the answer\n",
        "    final_logits: Float[Tensor, \"batch d_vocab\"] = logits[:, -1, :]\n",
        "    # Get the logits corresponding to the indirect object / subject tokens respectively\n",
        "    answer_logits: Float[Tensor, \"batch 2\"] = final_logits.gather(dim=-1, index=answer_tokens)\n",
        "    # Find logit difference\n",
        "    correct_logits, incorrect_logits = answer_logits.unbind(dim=-1)\n",
        "    answer_logit_diff = correct_logits - incorrect_logits\n",
        "    return answer_logit_diff if per_prompt else answer_logit_diff.mean()\n",
        "\n",
        "clean_tokens = model.to_tokens(prompts, prepend_bos=True).to(device)\n",
        "flipped_indices = [i+1 if i % 2 == 0 else i-1 for i in range(len(clean_tokens))]\n",
        "flipped_tokens = clean_tokens[flipped_indices]\n",
        "\n",
        "clean_logits, clean_cache = model.run_with_cache(clean_tokens)\n",
        "flipped_logits, flipped_cache = model.run_with_cache(flipped_tokens)\n",
        "\n",
        "clean_logit_diff = logits_to_ave_logit_diff(clean_logits, answer_tokens)\n",
        "flipped_logit_diff = logits_to_ave_logit_diff(flipped_logits, answer_tokens)\n",
        "\n",
        "print(\n",
        "    \"Clean string 0:    \", model.to_string(clean_tokens[0]), \"\\n\"\n",
        "    \"Flipped string 0:\", model.to_string(flipped_tokens[0])\n",
        ")\n",
        "print(f\"Clean logit diff: {clean_logit_diff:.4f}\")\n",
        "print(f\"Flipped logit diff: {flipped_logit_diff:.4f}\")\n",
        "\n",
        "def ioi_metric_denoising(\n",
        "    logits: Float[Tensor, \"batch seq d_vocab\"],\n",
        "    answer_tokens: Float[Tensor, \"batch 2\"] = answer_tokens,\n",
        "    flipped_logit_diff: float = flipped_logit_diff,\n",
        "    clean_logit_diff: float = clean_logit_diff,\n",
        ") -> Float[Tensor, \"\"]:\n",
        "    '''\n",
        "    Linear function of logit diff, calibrated so that it equals 0 when performance is\n",
        "    same as on flipped input, and 1 when performance is same as on clean input.\n",
        "    '''\n",
        "    patched_logit_diff = logits_to_ave_logit_diff(logits, answer_tokens)\n",
        "    return ((patched_logit_diff - flipped_logit_diff) / (clean_logit_diff  - flipped_logit_diff)).item()\n",
        "\n",
        "labels = [f\"{tok} {i}\" for i, tok in enumerate(model.to_str_tokens(clean_tokens[0]))]"
      ]
    },
    {
      "attachments": {},
      "cell_type": "markdown",
      "metadata": {
        "id": "Rkdnos6FDmLq"
      },
      "source": [
        "Data (and metric functions) from authors of paper are below.\n",
        "\n",
        "> *Sorry for the hilariously low-tech way of getting a large number of datapoints. I just did it in a for loop cause I didn't want to break memory and I don't know any better ways cause I'm pretty naive when it comes to doing anything at scale (-:*\n"
      ]
    },
    {
      "cell_type": "code",
      "execution_count": null,
      "metadata": {
        "colab": {
          "base_uri": "https://localhost:8080/"
        },
        "id": "mvh-HjYJDmLq",
        "outputId": "26de4137-2dbf-4add-9a28-319e0b9815bc"
      },
      "outputs": [],
      "source": [
        "def _logits_to_ave_logit_diff(logits: Float[Tensor, \"batch seq d_vocab\"], ioi_dataset: IOIDataset, per_prompt=False):\n",
        "    '''\n",
        "    Returns logit difference between the correct and incorrect answer.\n",
        "\n",
        "    If per_prompt=True, return the array of differences rather than the average.\n",
        "    '''\n",
        "\n",
        "    # Only the final logits are relevant for the answer\n",
        "    # Get the logits corresponding to the indirect object / subject tokens respectively\n",
        "    io_logits: Float[Tensor, \"batch\"] = logits[range(logits.size(0)), ioi_dataset.word_idx[\"end\"], ioi_dataset.io_tokenIDs]\n",
        "    s_logits: Float[Tensor, \"batch\"] = logits[range(logits.size(0)), ioi_dataset.word_idx[\"end\"], ioi_dataset.s_tokenIDs]\n",
        "    # Find logit difference\n",
        "    answer_logit_diff = io_logits - s_logits\n",
        "    return answer_logit_diff if per_prompt else answer_logit_diff.mean()\n",
        "\n",
        "\n",
        "\n",
        "def _ioi_metric_noising(\n",
        "        logits: Float[Tensor, \"batch seq d_vocab\"],\n",
        "        clean_logit_diff: float,\n",
        "        corrupted_logit_diff: float,\n",
        "        ioi_dataset: IOIDataset,\n",
        "    ) -> float:\n",
        "        '''\n",
        "        We calibrate this so that the value is 0 when performance isn't harmed (i.e. same as IOI dataset),\n",
        "        and -1 when performance has been destroyed (i.e. is same as ABC dataset).\n",
        "        '''\n",
        "        patched_logit_diff = _logits_to_ave_logit_diff(logits, ioi_dataset)\n",
        "        return ((patched_logit_diff - clean_logit_diff) / (clean_logit_diff - corrupted_logit_diff)).item()\n",
        "\n",
        "\n",
        "\n",
        "def generate_data_and_caches(N: int, verbose: bool = False, seed: int = 42):\n",
        "\n",
        "    ioi_dataset = IOIDataset(\n",
        "        prompt_type=\"mixed\",\n",
        "        N=N,\n",
        "        tokenizer=model.tokenizer,\n",
        "        prepend_bos=False,\n",
        "        seed=seed,\n",
        "        device=str(device)\n",
        "    )\n",
        "\n",
        "    abc_dataset = ioi_dataset.gen_flipped_prompts(\"ABB->XYZ, BAB->XYZ\")\n",
        "\n",
        "    model.reset_hooks(including_permanent=True)\n",
        "\n",
        "    ioi_logits_original, ioi_cache = model.run_with_cache(ioi_dataset.toks)\n",
        "    abc_logits_original, abc_cache = model.run_with_cache(abc_dataset.toks)\n",
        "\n",
        "    ioi_average_logit_diff = _logits_to_ave_logit_diff(ioi_logits_original, ioi_dataset).item()\n",
        "    abc_average_logit_diff = _logits_to_ave_logit_diff(abc_logits_original, ioi_dataset).item()\n",
        "\n",
        "    if verbose:\n",
        "        print(f\"Average logit diff (IOI dataset): {ioi_average_logit_diff:.4f}\")\n",
        "        print(f\"Average logit diff (ABC dataset): {abc_average_logit_diff:.4f}\")\n",
        "\n",
        "    ioi_metric_noising = partial(\n",
        "        _ioi_metric_noising,\n",
        "        clean_logit_diff=ioi_average_logit_diff,\n",
        "        corrupted_logit_diff=abc_average_logit_diff,\n",
        "        ioi_dataset=ioi_dataset,\n",
        "    )\n",
        "\n",
        "    return ioi_dataset, abc_dataset, ioi_cache, abc_cache, ioi_metric_noising\n",
        "\n",
        "\n",
        "\n",
        "N = 30\n",
        "ioi_dataset, abc_dataset, ioi_cache, abc_cache, ioi_metric_noising = generate_data_and_caches(N, verbose=True)"
      ]
    },
    {
      "attachments": {},
      "cell_type": "markdown",
      "metadata": {
        "id": "f6no-mztXxhi"
      },
      "source": [
        "# Activation Patching"
      ]
    },
    {
      "attachments": {},
      "cell_type": "markdown",
      "metadata": {
        "id": "nODjnNJgdBfc"
      },
      "source": [
        "*I'd recommend skimming the explanation below, and then jumping into the examples. I expect that they'll be pretty self-explanatory, and reading them will help you understand how to use this library faster than reading all the details below.*"
      ]
    },
    {
      "attachments": {},
      "cell_type": "markdown",
      "metadata": {
        "id": "FIn9HJsybBsc"
      },
      "source": [
        "## `Node` and `IterNode` (at a high level)"
      ]
    },
    {
      "attachments": {},
      "cell_type": "markdown",
      "metadata": {
        "id": "dApA6m6CbDSt"
      },
      "source": [
        "The two main classes which are used to specify the patching operations are `Node` and `IterNode`.\n",
        "\n",
        "`Node` allows you to specify an activation, or a particular slice of an activation (e.g. corresponding to a particular attention head in an attention layer, a particular neuron in an MLP, or a particular sequence position). Here are some examples:\n",
        "\n",
        "```python\n",
        "Node(\"q\", layer=9, head=9)           # -> query input of head 9.9\n",
        "Node(\"blocks.9.attn.hook_q\", head=9) # -> same as above\n",
        "Node(\"attn_out\", 8)                  # -> output of all attention heads in layer 8\n",
        "Node(\"post\", 7, neuron=100)          # -> post-activation function output of neuron L7N100\n",
        "Node(\"resid_pre\", 1, seq_pos=0)      # -> first sequence position of all resid_pre activations in layer 1\n",
        "```\n",
        "\n",
        "Initialising a node works just like indexing into the cache (i.e. the first argument is component name, the second optional argument is layer). The only difference is the extra ability to specify a head, neuron, or sequence position (all three default to \"None\", meaning \"patch over all indices\").\n",
        "\n",
        "Each instance of patching will be on a node or set of nodes.\n",
        "\n",
        "`IterNode` allows you to iterate through multiple nodes at once. In theory you could just do this by defining a list of `Node` objects and iterating through them yourself, but doing it via the `IterNode` object is more convenient.\n",
        "\n",
        "*Reading the examples below should help, if any of these design choices seem confusing right now.*"
      ]
    },
    {
      "attachments": {},
      "cell_type": "markdown",
      "metadata": {
        "id": "7QeVULl9Xxhi"
      },
      "source": [
        "## How does the function work?"
      ]
    },
    {
      "attachments": {},
      "cell_type": "markdown",
      "metadata": {
        "id": "X6sVss4WXxhi"
      },
      "source": [
        "### Single activation patching\n",
        "\n",
        "We perform a single instance of patching using the `Node` class, which was discussed above. A few more details:\n",
        "\n",
        "`head` and `neuron` can be `None` (the default, meaning all heads/neurons), or an int, or a list of ints. `seq_pos` can take 4 possible values:\n",
        "\n",
        "* `None`, meaning we patch at all sequence positions\n",
        "* An integer, meaning we patch at that sequence position for all sequences in the batch\n",
        "* A 1D tensor of shape `(batch,)` meaning we patch at `seq_pos[i]` for the `i`th sequence in the batch\n",
        "* A 2D tensor of shape `(batch, pos)`, meaning we patch at all positions `seq_pos[i, :]` for the `i`th sequence in the batch\n",
        "\n",
        "Running `act_patch` when `patching_nodes` is a `Node` object (or list of `Node` objects) will perform a single instance of activation patching, and return a float."
      ]
    },
    {
      "attachments": {},
      "cell_type": "markdown",
      "metadata": {
        "id": "Jld8LCCXkRxv"
      },
      "source": [
        "### Multiple instances of patching\n",
        "\n",
        "We perform multiple instances of patching using the `IterNode` class. This class takes two arguments: a component name or list of names (e.g. z, q, resid_pre, etc), and a `seq_pos` argument. `seq_pos` works just like the `seq_pos` argument for `Node`, except there is a fifth option: `\"each\"`, which means we iterate over all sequence positions (as oppose to using the same sequence positions for each iteration).\n",
        "\n",
        "```python\n",
        "IterNode(\"resid_post\", seq_pos=\"each\") # -> gives (seq_len, layers) tensor, with results of patching head output at all positions\n",
        "IterNode([\"q\", \"k\", \"v\"])              # -> gives (layers, heads) tensors, one for each of \"q\", \"k\", \"v\"\n",
        "```\n",
        "\n",
        "Running `act_patch` when `patching_nodes` is an `IterNode` object will return a dictionary of results, where keys are component names (e.g. `\"q\"`, `\"k\"`, `\"v\"` for the example above), and values are the tensors of results."
      ]
    },
    {
      "attachments": {},
      "cell_type": "markdown",
      "metadata": {
        "id": "qSeRzpKGkTW4"
      },
      "source": [
        "### Additional details\n",
        "\n",
        "* You can use `apply_metric_to_cache` to have the metric function take in a cache rather than a logit output. This is sometimes useful e.g. if you want to see what the effect of patching is on some intermediate attention patterns (as opposed to the final logit output).\n",
        "* When using iterative patching, you can set `verbose=True` to have the shape of your output printed out (with dimensions named).\n",
        "* You have to specify `new_input` (which is the thing we patch in). You can supply `orig_input` or `orig_cache` (in the former case, a cache will be created during the function call).\n",
        "* The `patching_metric` function can return a tensor rather than a float. If you don't return a float *and* you use `IterNode`, the return type will be `Dict[str, list]`, i.e. your results will be stored in a flattened list rather than converted to a tensor. In this case you should use `verbose=True`, so you know what the order of the dimensions would be."
      ]
    },
    {
      "attachments": {},
      "cell_type": "markdown",
      "metadata": {
        "id": "wRQ35d6_1yFh"
      },
      "source": [
        "### Terminology note - `orig` vs `new`\n",
        "\n",
        "I used the terminology `orig_input` and `new_input`, rather than `clean_input` and `corrupted_input`. This is because the latter is ambiguous - **noising algorithms** (where we patch from clean to corrupted) are more common, but there are also **denoising algorithms** (where we patch from corrupted to clean). In my terminology, we always run the model on `orig` and patch in from the `new` distribution (same for path patching)."
      ]
    },
    {
      "attachments": {},
      "cell_type": "markdown",
      "metadata": {
        "id": "m2LRNIfNXxhi"
      },
      "source": [
        "## Examples"
      ]
    },
    {
      "attachments": {},
      "cell_type": "markdown",
      "metadata": {
        "id": "9ssTTpkTXxhj"
      },
      "source": [
        "### 1️⃣ Activation patching at head outputs (denoising)\n",
        "\n",
        "<img src=\"https://raw.githubusercontent.com/callummcdougall/computational-thread-art/master/example_images/misc/e1.png\" width=\"900\">"
      ]
    },
    {
      "cell_type": "code",
      "execution_count": null,
      "metadata": {
        "colab": {
          "base_uri": "https://localhost:8080/",
          "height": 67,
          "referenced_widgets": [
            "e4f5558313954aa3b6e70f12b0c7a351",
            "dae6d2222b9b4b3e942b119eb7ef398b",
            "8aed62303fa741d98df012b7002b36ca",
            "72530a6a8c4541738e3edd7b89c7653d",
            "a7e4690340ad4087ad78cac4926ae61d",
            "dbb253b1de0941fc99f796c9e66657b4",
            "9bbf4c3941ea4f3aa46d45759f171896",
            "f80f3e4fcce64b2891a1de5e5affaf63",
            "a955a14a6efd450394fbe334190e7e7d",
            "b2421cec572e436db29ad4433fe25c09",
            "f6aa3e1ef6dc428f8119e020285823ad"
          ]
        },
        "id": "YLQ5pia8Xxhj",
        "outputId": "d1161f58-dd15-457d-8e13-4b8ed18a192e"
      },
      "outputs": [],
      "source": [
        "results = act_patch(\n",
        "    model=model,\n",
        "    orig_input=flipped_tokens,\n",
        "    new_cache=clean_cache,\n",
        "    patching_nodes=IterNode(\"z\"), # iterating over all heads' output in all layers\n",
        "    patching_metric=ioi_metric_denoising,\n",
        "    verbose=True,\n",
        ")"
      ]
    },
    {
      "cell_type": "code",
      "execution_count": null,
      "metadata": {
        "colab": {
          "base_uri": "https://localhost:8080/",
          "height": 542
        },
        "id": "ywpXqasMXxhj",
        "outputId": "6d6e01d1-7cbf-49a1-e5a8-3adfc9af8ffb"
      },
      "outputs": [],
      "source": [
        "imshow(\n",
        "    results['z'] * 100,\n",
        "    title=\"Patching output of attention heads (corrupted -> clean)\",\n",
        "    labels={\"x\": \"Head\", \"y\": \"Layer\", \"color\": \"Logit diff variation\"},\n",
        "    coloraxis=dict(colorbar_ticksuffix = \"%\"),\n",
        "    border=True,\n",
        "    width=600,\n",
        "    margin={\"r\": 100, \"l\": 100}\n",
        ")"
      ]
    },
    {
      "attachments": {},
      "cell_type": "markdown",
      "metadata": {
        "id": "uVZWdvkUXxhj"
      },
      "source": [
        "These results tell us which heads are probably important. We can see:\n",
        "\n",
        "* the main early heads (duplicate token head 3.0 and induction head 5.5),\n",
        "* the S-inhibition heads in layers 7 and 8,\n",
        "* the name mover heads like 9.9,\n",
        "* the negative name mover heads 10.7 and 11.10 (which show up negative, because they make performance worse)."
      ]
    },
    {
      "attachments": {},
      "cell_type": "markdown",
      "metadata": {
        "id": "0THmiLkgXxhj"
      },
      "source": [
        "Now an example of how you could get a single one of these results (rather than iterating over nodes). You can compare this result to the one you can see in the plot above."
      ]
    },
    {
      "cell_type": "code",
      "execution_count": null,
      "metadata": {
        "colab": {
          "base_uri": "https://localhost:8080/"
        },
        "id": "fHvHaVWeXxhj",
        "outputId": "555486ee-e947-42ac-d7de-614add656a00"
      },
      "outputs": [],
      "source": [
        "# patching at output of head 9.9 (the name mover head)\n",
        "\n",
        "act_patch(\n",
        "    model=model,\n",
        "    orig_input=flipped_tokens,\n",
        "    new_cache=clean_cache,\n",
        "    patching_nodes=Node(\"z\", layer=9, head=9),\n",
        "    patching_metric=ioi_metric_denoising,\n",
        "    verbose=True,\n",
        ")"
      ]
    },
    {
      "attachments": {},
      "cell_type": "markdown",
      "metadata": {
        "id": "WbJjZDakXxhk"
      },
      "source": [
        "Lastly, an example of how you could do this at multiple different parts of the attention head at once (by adding more components to the `IterNode` object):"
      ]
    },
    {
      "cell_type": "code",
      "execution_count": null,
      "metadata": {
        "colab": {
          "base_uri": "https://localhost:8080/",
          "height": 140,
          "referenced_widgets": [
            "5999078580294c98a075cda7e9d865a8",
            "e46ea91d689b44879376f6390818f289",
            "e0688c52dca74465bd1d3537546c8720",
            "0bbf5ffc08ce4dce8f613e6ad873e4a3",
            "5b8cf76f81a74c91bd7d9b7dbf95c757",
            "3df5280d19034d0d91f053ac86190ade",
            "ef2fcfda8ae6416593bf91c8cc81cb27",
            "cbe02be33fe844c29de7230b0b8f5897",
            "a86f8bd6149b4eada8119bcc02b78c26",
            "df37a99910f04fe98e6ccb6536ae00b0",
            "d326065f16e7416ca87f0db499123734"
          ]
        },
        "id": "bvx56w2JXxhk",
        "outputId": "6b7a218c-a590-47cc-9fdc-177733130ce9"
      },
      "outputs": [],
      "source": [
        "# iterating over all heads' output in all layers\n",
        "\n",
        "results = act_patch(\n",
        "    model=model,\n",
        "    orig_input=flipped_tokens,\n",
        "    new_cache=clean_cache,\n",
        "    patching_nodes=IterNode([\"z\", \"q\", \"k\", \"v\", \"pattern\"]),\n",
        "    patching_metric=ioi_metric_denoising,\n",
        "    verbose=True,\n",
        ")"
      ]
    },
    {
      "cell_type": "code",
      "execution_count": null,
      "metadata": {
        "colab": {
          "base_uri": "https://localhost:8080/",
          "height": 542
        },
        "id": "D7oZ6MeEnAkB",
        "outputId": "8b8d3394-bc30-4c13-e0e2-00218c7f3c27"
      },
      "outputs": [],
      "source": [
        "assert results.keys() == {\"z\", \"q\", \"k\", \"v\", \"pattern\"}\n",
        "assert all([r.shape == (12, 12) for r in results.values()])\n",
        "\n",
        "imshow(\n",
        "    t.stack(tuple(results.values())) * 100,\n",
        "    facet_col=0,\n",
        "    facet_labels=[\"Output\", \"Query\", \"Key\", \"Value\", \"Pattern\"],\n",
        "    title=\"Patching output of attention heads (corrupted -> clean)\",\n",
        "    labels={\"x\": \"Head\", \"y\": \"Layer\", \"color\": \"Logit diff variation\"},\n",
        "    coloraxis=dict(colorbar_ticksuffix = \"%\"),\n",
        "    border=True,\n",
        "    width=1500,\n",
        "    margin={\"r\": 100, \"l\": 100}\n",
        ")"
      ]
    },
    {
      "attachments": {},
      "cell_type": "markdown",
      "metadata": {
        "id": "vbE9wxfbXxhk"
      },
      "source": [
        "This tells us not just which heads are important (the left-side plot is the same as the one we generated previously), but also a bit more about **why** they're important. For example:\n",
        "\n",
        "* The value inputs of the S-inhibition heads are important (because in they move information about the first (duplicated) subject token name from `S2` to `end`, and both the identity and position of the subject token got flipped when we created our flipped dataset).\n",
        "* They query inputs of the earlier heads are important (because their job is to attend from `S2` to `S1` (or to `S1+1` in case of the induction heads), and the destination token at `S2` got flipped when we created our flipped dataset)."
      ]
    },
    {
      "attachments": {},
      "cell_type": "markdown",
      "metadata": {
        "id": "48mh9CgXXxhk"
      },
      "source": [
        "### 2️⃣ Patching at residual stream & block outputs, by sequence position (denoising)\n",
        "\n",
        "<img src=\"https://raw.githubusercontent.com/callummcdougall/computational-thread-art/master/example_images/misc/e2.png\" width=\"700\">"
      ]
    },
    {
      "cell_type": "code",
      "execution_count": null,
      "metadata": {
        "colab": {
          "base_uri": "https://localhost:8080/",
          "height": 104,
          "referenced_widgets": [
            "64228abbde2e42248bb2917e6fb0d73d",
            "1cefeed836cf46a5bf614097665591d8",
            "d409b45a2e9843eb96daa3281c53977c",
            "ffeca5dd01754c42bd98b0fd4f15736e",
            "ea8dd0b6f55443b68d208bb05bf1bd73",
            "6f8b76be40a94f3d83c1411f849307e2",
            "173fe30ad649441b9f23684afec0350e",
            "461e365e89f54207996307101f4457d1",
            "78ea2155957145baa4f7bc183eaca7a3",
            "bb75593a537e420894262b9f9c8ce541",
            "45eabc1baf994a9b9d862ce8154bbe7c"
          ]
        },
        "id": "Vf39Gwg3Xxhl",
        "outputId": "18d56ef5-e2fe-4b66-f3de-17e81501b2a7"
      },
      "outputs": [],
      "source": [
        "# patching at each (layer, sequence position) for each of (resid_pre, attn_out, mlp_out) in turn\n",
        "\n",
        "results = act_patch(\n",
        "    model=model,\n",
        "    orig_input=flipped_tokens,\n",
        "    new_cache=clean_cache,\n",
        "    patching_nodes=IterNode([\"resid_pre\", \"attn_out\", \"mlp_out\"], seq_pos=\"each\"),\n",
        "    patching_metric=ioi_metric_denoising,\n",
        "    verbose=True,\n",
        ")"
      ]
    },
    {
      "cell_type": "code",
      "execution_count": null,
      "metadata": {
        "colab": {
          "base_uri": "https://localhost:8080/",
          "height": 542
        },
        "id": "i34ndtlkXxhl",
        "outputId": "c0b3f7cc-5959-4ead-e5a1-46c19f852e35"
      },
      "outputs": [],
      "source": [
        "assert results.keys() == {\"resid_pre\", \"attn_out\", \"mlp_out\"}\n",
        "\n",
        "imshow(\n",
        "    t.stack([r.T for r in results.values()]) * 100, # we transpose so layer is on the y-axis\n",
        "    facet_col=0,\n",
        "    facet_labels=[\"resid_pre\", \"attn_out\", \"mlp_out\"],\n",
        "    title=\"Patching at resid stream & layer outputs (corrupted -> clean)\",\n",
        "    labels={\"x\": \"Sequence position\", \"y\": \"Layer\", \"color\": \"Logit diff variation\"},\n",
        "    x=labels,\n",
        "    xaxis_tickangle=45,\n",
        "    coloraxis=dict(colorbar_ticksuffix = \"%\"),\n",
        "    border=True,\n",
        "    width=1300,\n",
        "    margin={\"r\": 100, \"l\": 100}\n",
        ")"
      ]
    },
    {
      "attachments": {},
      "cell_type": "markdown",
      "metadata": {
        "id": "hXj5Zx-t1WXG"
      },
      "source": [
        "*Note - the tokens on the x-axis are just the tokens for the first sequence in the batch. The batch has size 8, and the other sequences have the same basic structure (including position of second subject token).*"
      ]
    },
    {
      "attachments": {},
      "cell_type": "markdown",
      "metadata": {
        "id": "Yr_Ly-yZXxhl"
      },
      "source": [
        "This shows us that the important information for solving the IOI task is localised. It starts in the second subject token (this is the only token which is different between the clean and flipped data), and then moves to the end token around layers 7 and 8 (the S-inhibition heads are the ones doing this).\n",
        "\n",
        "We can also see:\n",
        "\n",
        "* No MLPs really matter except MLP0 (this is important for GPT-2, it acts as a sort of extended embedding)\n",
        "* There are some neg name mover heads in layers 10 and 11, which suppress the correct answer (we can see them in the middle plot)"
      ]
    },
    {
      "attachments": {},
      "cell_type": "markdown",
      "metadata": {
        "id": "TdDpnoicXxhl"
      },
      "source": [
        "Lastly, this is a bit artificial, but let's see how we can specify a particular sequence position for `IterNode`. These results will match the `Mary 10` slice of the results above."
      ]
    },
    {
      "cell_type": "code",
      "execution_count": null,
      "metadata": {
        "colab": {
          "base_uri": "https://localhost:8080/",
          "height": 104,
          "referenced_widgets": [
            "255dbcb8b6e849c2b1942534f0a05a77",
            "3f65df2f6a4f477ab54b214946fe3fda",
            "e30e401fb2394c13ad72184670152e5b",
            "2550a1ec2f9849c4b25b3d3c84ec8339",
            "2468541dfdba4d8f9269ccae8bddb2c3",
            "83fa720059fd409eaba056473c77a993",
            "bef7116ff21d44b68be2bda996cce870",
            "ee4f241ff11a487bbaafa307a0a6c9f9",
            "8d22a25683924c45a82527d015e2ce4b",
            "e433f2a4aa9341ca90f9880e692bb997",
            "60300ca104c044c4aaa496bcc00a1c20"
          ]
        },
        "id": "n0L87MCXXxhl",
        "outputId": "1befc6ea-eab0-4c71-fd09-74c9e9a449e4"
      },
      "outputs": [],
      "source": [
        "# Only patching at the 'Mary 10' position\n",
        "\n",
        "results = act_patch(\n",
        "    model=model,\n",
        "    orig_input=flipped_tokens,\n",
        "    new_cache=clean_cache,\n",
        "    patching_nodes=IterNode([\"resid_pre\", \"attn_out\", \"mlp_out\"], seq_pos=10),\n",
        "    patching_metric=ioi_metric_denoising,\n",
        "    verbose=True,\n",
        ")"
      ]
    },
    {
      "cell_type": "code",
      "execution_count": null,
      "metadata": {
        "colab": {
          "base_uri": "https://localhost:8080/",
          "height": 542
        },
        "id": "BTs0W0IbXxhl",
        "outputId": "f0d25192-57a8-4573-c8ed-82fc98dd492b"
      },
      "outputs": [],
      "source": [
        "imshow(\n",
        "    t.stack(list(results.values())).T * 100, # we transpose so layer is on the y-axis\n",
        "    title=\"Patching at 'Mary_10'\",\n",
        "    labels={\"x\": \"Component\", \"y\": \"Layer\", \"color\": \"Logit diff variation\"},\n",
        "    x=[\"resid_pre\", \"attn_out\", \"mlp_out\"],\n",
        "    coloraxis=dict(colorbar_ticksuffix = \"%\"),\n",
        "    border=True,\n",
        "    width=400,\n",
        ")"
      ]
    },
    {
      "attachments": {},
      "cell_type": "markdown",
      "metadata": {
        "id": "Y8Sa1lOX0HQN"
      },
      "source": [
        "What if we always want to patch at the second subject token, but that's not always at `seq_pos=10`? We can supply a tensor as `seq_pos` too! The code below will give identical results (and unlike the code above, it could in theory accept different patching positions for each sequence)."
      ]
    },
    {
      "cell_type": "code",
      "execution_count": null,
      "metadata": {
        "colab": {
          "base_uri": "https://localhost:8080/",
          "height": 104,
          "referenced_widgets": [
            "12f566a0ddd44229a620c72d7785b7ab",
            "94dc9e4e46644aaea5ee312eae4ce58b",
            "85ba86f93ad44e68929ea925d91b8544",
            "4f8f56e2ceeb40f8821a16e78b8de83d",
            "6f6d03c8d39e48e59199e26d1177726f",
            "569c32dff2494c4991cadfbc97a55b19",
            "b64c92c7a14544e68aeda137e5404f49",
            "b5a140779d8b411a9b158c03a1b95367",
            "cbc4a585781340259009d69875b15145",
            "a00788e2bda04e7291fa83cbd0609384",
            "ddac92aaeedb43c9bea3f5077460ea22"
          ]
        },
        "id": "jKGDBMEO0hR7",
        "outputId": "36bdcb3f-3cfa-48a1-e6ca-888f7fb99210"
      },
      "outputs": [],
      "source": [
        "# Only patching at the 'Mary 10' position\n",
        "\n",
        "seq_pos = t.tensor([10 for _ in range(len(flipped_tokens))])\n",
        "\n",
        "results = act_patch(\n",
        "    model=model,\n",
        "    orig_input=flipped_tokens,\n",
        "    new_cache=clean_cache,\n",
        "    patching_nodes=IterNode([\"resid_pre\", \"attn_out\", \"mlp_out\"], seq_pos=seq_pos),\n",
        "    patching_metric=ioi_metric_denoising,\n",
        "    verbose=True,\n",
        ")"
      ]
    },
    {
      "cell_type": "code",
      "execution_count": null,
      "metadata": {
        "colab": {
          "base_uri": "https://localhost:8080/",
          "height": 542
        },
        "id": "dKWFzuGV0hK_",
        "outputId": "680c9415-7fae-4f1b-85c1-e02e70358f97"
      },
      "outputs": [],
      "source": [
        "imshow(\n",
        "    t.stack(list(results.values())).T * 100, # we transpose so layer is on the y-axis\n",
        "    title=\"Patching at 'Mary_10'\",\n",
        "    labels={\"x\": \"Component\", \"y\": \"Layer\", \"color\": \"Logit diff variation\"},\n",
        "    x=[\"resid_pre\", \"attn_out\", \"mlp_out\"],\n",
        "    coloraxis=dict(colorbar_ticksuffix = \"%\"),\n",
        "    border=True,\n",
        "    width=400,\n",
        ")"
      ]
    },
    {
      "attachments": {},
      "cell_type": "markdown",
      "metadata": {
        "id": "SdQuDzAldvbH"
      },
      "source": [
        "### 3️⃣ Patching at multiple nodes at once"
      ]
    },
    {
      "attachments": {},
      "cell_type": "markdown",
      "metadata": {
        "id": "nqgcPAqdfiyg"
      },
      "source": [
        "If you pass a list of nodes, then they all get patched. Note that **this is different to using `IterNode` (which iterates through all nodes in `IterNode`, one at a time)**. If you want to do a form of iteration which isn't covered by `IterNode`, you'll need to make your own for loop for it.\n",
        "\n",
        "To illustrate the difference, I'll perform activation patching in a for loop *and* with a list of `Node` objects. Specifically, I'm going to patch all the queries of the three **name mover heads**, then all the keys, then all the values (i.e. getting three different results)."
      ]
    },
    {
      "cell_type": "code",
      "execution_count": null,
      "metadata": {
        "colab": {
          "base_uri": "https://localhost:8080/"
        },
        "id": "wNG0KyuFdzAV",
        "outputId": "434d8fcf-912d-469d-e528-0005db427824"
      },
      "outputs": [],
      "source": [
        "NAME_MOVER_HEADS = [(9, 6), (9, 9), (10, 10)]\n",
        "\n",
        "for component in \"qkv\":\n",
        "    result = act_patch(\n",
        "        model=model,\n",
        "        orig_input=flipped_tokens,\n",
        "        new_cache=clean_cache,\n",
        "        patching_nodes=[Node(component, layer=layer, head=head) for layer, head in NAME_MOVER_HEADS],\n",
        "        patching_metric=ioi_metric_denoising,\n",
        "        verbose=True,\n",
        "    )\n",
        "    print(f\"Patching name movers at {component}: {result}\")"
      ]
    },
    {
      "attachments": {},
      "cell_type": "markdown",
      "metadata": {
        "id": "yOj2YiZAgsHC"
      },
      "source": [
        "We can see that the activation patching results for queries are much larger than for keys or values. This is because the name mover heads attend from the `end` token to the `IO` token (in order to copy and predict it), and it's query composition from earlier heads which tells them where to attend / which token to attend to. The flipped dataset changes both the position and the identity of the `IO` token, so the name mover heads will be copying the wrong thing. Patching at the queries cause them to attend to the right thing, hence we get a positive score. Patching at keys or values won't help, because the flipped dataset flips the `{}` token in the prompt `\"When John and Mary went to the shops,{} gave the bag to\"` - in other words, the first subject and object tokens don't change."
      ]
    },
    {
      "attachments": {},
      "cell_type": "markdown",
      "metadata": {
        "id": "ji9H0Sp0DmLr"
      },
      "source": [
        "# Path Patching"
      ]
    },
    {
      "attachments": {},
      "cell_type": "markdown",
      "metadata": {
        "id": "AQdwMsd0dNhG"
      },
      "source": [
        "*I'd recommend skimming the explanation below, and then jumping into the examples. I expect that they'll be pretty self-explanatory, and reading them will help you understand how to use this library faster than reading all the details below.*\n",
        "\n",
        "*Make sure you've at least skimmed the \"activation patching\" section first.*"
      ]
    },
    {
      "attachments": {},
      "cell_type": "markdown",
      "metadata": {
        "id": "65FaMmzUXxhm"
      },
      "source": [
        "## How does the function work?"
      ]
    },
    {
      "attachments": {},
      "cell_type": "markdown",
      "metadata": {
        "id": "edRzl3uuXxhm"
      },
      "source": [
        "### Single path patching\n",
        "\n",
        "Just like activation patching, we use the `Node` class for single instances. We specify `sender_nodes` and `receiver_nodes` (both can be `Node` objects, or lists of `Node` objects). In this case, we get a float returned."
      ]
    },
    {
      "attachments": {},
      "cell_type": "markdown",
      "metadata": {
        "id": "s_dM2c-olg3Q"
      },
      "source": [
        "### Multiple instances of patching\n",
        "\n",
        "Just like activation patching, we use the `IterNode` class for multiple instances. We always have one of `sender_nodes` and `receiver_nodes` be fixed, and the other be iterated over (if you try to iterate over both, you get an error)."
      ]
    },
    {
      "attachments": {},
      "cell_type": "markdown",
      "metadata": {
        "id": "sqVQJ1L5zmo7"
      },
      "source": [
        "### Sequence positions\n",
        "\n",
        "In activation patching, we can have different positions for each `Node`. But in path patching, it wouldn't make sense to have e.g. a different sequence position for a sender and receiver node (because direct paths can't connect different sequence positions). Instead, we use a single argument `seq_pos` in our `path_patch` function, which applies to all nodes (sender and receiver, fixed or iterate). This `seq_pos` argument has the same syntax as for activation patching (i.e. it can be `None` (default), an int, a 1D tensor of shape `(batch,)`, or a 2D tensor of shape `(batch, pos)`.\n",
        "\n",
        "So in path patching, **you shouldn't use `seq_pos` for individual `Node` objects.** Similarly, you shouldn't set `seq_pos` for `IterNode` (unless you're specifying `seq_pos=\"each\"`, in which case this will override the `seq_pos` argument). If you try and do this, you'll get an error."
      ]
    },
    {
      "attachments": {},
      "cell_type": "markdown",
      "metadata": {
        "id": "k3tUQFF0lk1C"
      },
      "source": [
        "### Direct includes MLPs?\n",
        "\n",
        "There are 2 main ways to do path patching, which are supported by this code.\n",
        "\n",
        "1. **MLPs count as direct paths**, in other words a direct path is any path which doesn't go through an attention head. This is what the IOI paper did. It requires a more complicated algorithm (2 forward passes), because the MLPs between sender and receiver need to be recomputed.\n",
        "2. **MLPs don't count as direct paths**, in other words a direct path is syonymous with \"skip connection\". This is twice as fast (only requiring one forward pass).\n",
        "\n",
        "You can specify which option using the boolean argument `direct_includes_mlp`. The default is `True` (i.e. the first of these two options)."
      ]
    },
    {
      "attachments": {},
      "cell_type": "markdown",
      "metadata": {
        "id": "IChVUHPQll62"
      },
      "source": [
        "### Additional details\n",
        "\n",
        "* You can use `apply_metric_to_cache` to have the metric function take in a cache rather than a logit output. This is sometimes useful e.g. if you want to see what the effect of patching is on some intermediate attention patterns (as opposed to the final logit output).\n",
        "* Like before, you can use `verbose=True` to have the shape of your output printed out (with dimensions named).\n",
        "* You have to specify `new_input` **and** `orig_input`. Both `orig_cache` and `new_cache` are optional (if you don't supply them, then they will be computed by the function)."
      ]
    },
    {
      "attachments": {},
      "cell_type": "markdown",
      "metadata": {
        "id": "BCgN4A0TDmLt"
      },
      "source": [
        "## Examples"
      ]
    },
    {
      "attachments": {},
      "cell_type": "markdown",
      "metadata": {
        "id": "W6yv51NBDmLt"
      },
      "source": [
        "### 1️⃣ Patching from attention head -> final residual stream value\n",
        "\n",
        "<img src=\"https://raw.githubusercontent.com/callummcdougall/computational-thread-art/master/example_images/misc/e3.png\" width=\"400\">"
      ]
    },
    {
      "attachments": {},
      "cell_type": "markdown",
      "metadata": {
        "id": "mifGooCBDmLu"
      },
      "source": [
        "This captures the direct effect of one of our heads. The most important head in the IOI circuit (in a direct sense) is `9.9`, so we expect this one to have a pretty large value.\n",
        "\n",
        "The metric `ioi_metric_noising` is -1 when performance is destroyed, and 0 when performance is exactly the same, so we're expecting a result quite close to 1."
      ]
    },
    {
      "cell_type": "code",
      "execution_count": null,
      "metadata": {
        "colab": {
          "base_uri": "https://localhost:8080/"
        },
        "id": "hSpt1qt2Xxhm",
        "outputId": "76082461-bcd6-45f7-e95b-7461290cee74"
      },
      "outputs": [],
      "source": [
        "model.reset_hooks()\n",
        "\n",
        "results = path_patch(\n",
        "    model,\n",
        "    orig_input=ioi_dataset.toks,\n",
        "    new_input=abc_dataset.toks,\n",
        "    sender_nodes=Node('z', 9, head=9), # This is the output of head 9 at layer 9\n",
        "    receiver_nodes=Node('resid_post', 11), # This is resid_post at layer 11\n",
        "    patching_metric=ioi_metric_noising,\n",
        ")\n",
        "\n",
        "print(results)"
      ]
    },
    {
      "attachments": {},
      "cell_type": "markdown",
      "metadata": {
        "id": "ejFX5nc9Xxhm"
      },
      "source": [
        "Now let's do something similar, but for `direct_includes_mlps=False`. We expect to get something similar, but not necessarily exactly the same (because it's a slightly different methodology)."
      ]
    },
    {
      "cell_type": "code",
      "execution_count": null,
      "metadata": {
        "colab": {
          "base_uri": "https://localhost:8080/"
        },
        "id": "yhIWG7fQXxhq",
        "outputId": "21d5fd18-a592-444c-d81d-ae85f9a5e2ad"
      },
      "outputs": [],
      "source": [
        "results = path_patch(\n",
        "    model,\n",
        "    orig_input=ioi_dataset.toks,\n",
        "    new_input=abc_dataset.toks,\n",
        "    sender_nodes=Node(\"z\", 9, head=9), # This is the output of head 9 at layer 9\n",
        "    receiver_nodes=Node(\"resid_post\", 11), # This is resid_post at layer 11\n",
        "    patching_metric=ioi_metric_noising,\n",
        "    direct_includes_mlps=False\n",
        ")\n",
        "\n",
        "print(results)"
      ]
    },
    {
      "attachments": {},
      "cell_type": "markdown",
      "metadata": {
        "id": "H9PQkD6rDmLu"
      },
      "source": [
        "Now let's plot the results for all heads:"
      ]
    },
    {
      "cell_type": "code",
      "execution_count": null,
      "metadata": {
        "colab": {
          "base_uri": "https://localhost:8080/",
          "height": 67,
          "referenced_widgets": [
            "a8a50870747c46118ac525ac36eb7c47",
            "4cb39c99bd4142379a9154f321a6bd66",
            "0020c8a3097a4464b8986d41f1c0fbcc",
            "bdee09941acf44f0a3926481e3e1d55f",
            "7ba392e5e97a4cb782a84fc31b01b5d8",
            "fac3a78ded734d55924e8093cf021d33",
            "d9deb950466c4de6bc29c5174806315f",
            "b5bceaac503642ba8b38c85b4c6838fa",
            "f5eced9a22b84ba9825a945d0ed94014",
            "84cd1a13f7fe43909412a8de7b711161",
            "0a5b732e482f4280b3d102f30e73cb7a"
          ]
        },
        "id": "LhGlOzGRDmLu",
        "outputId": "afe4ca0f-56b3-4a75-9bcc-9bdc649696ec"
      },
      "outputs": [],
      "source": [
        "results = path_patch(\n",
        "    model,\n",
        "    orig_input=ioi_dataset.toks,\n",
        "    new_input=abc_dataset.toks,\n",
        "    sender_nodes=IterNode('z'), # This means iterate over all heads in all layers\n",
        "    receiver_nodes=Node('resid_post', 11), # This is resid_post at layer 11\n",
        "    patching_metric=ioi_metric_noising,\n",
        "    verbose=True\n",
        ")"
      ]
    },
    {
      "cell_type": "code",
      "execution_count": null,
      "metadata": {
        "colab": {
          "base_uri": "https://localhost:8080/",
          "height": 542
        },
        "id": "3FguRtacDmLu",
        "outputId": "79c1f086-be7c-4ef7-cb2e-d1ccc7b0e70a"
      },
      "outputs": [],
      "source": [
        "imshow(\n",
        "    results['z'],\n",
        "    title=\"Direct effect on logit diff (patch from head output -> final resid)\",\n",
        "    labels={\"x\": \"Head\", \"y\": \"Layer\", \"color\": \"Logit diff variation\"},\n",
        "    border=True,\n",
        "    width=600,\n",
        "    margin={\"r\": 100, \"l\": 100}\n",
        ")"
      ]
    },
    {
      "attachments": {},
      "cell_type": "markdown",
      "metadata": {
        "id": "leBFxcQ9DmLv"
      },
      "source": [
        "This matches the results in figure 3(b) in the paper:\n",
        "\n",
        "<img src=\"https://raw.githubusercontent.com/callummcdougall/computational-thread-art/master/example_images/misc/fig_3b.png\" width=\"700\">"
      ]
    },
    {
      "attachments": {},
      "cell_type": "markdown",
      "metadata": {
        "id": "8Or-m9MtXxhq"
      },
      "source": [
        "Let's see if it's approximately the same for `direct_includes_mlps=False` (which it should be, if this method is at all principled):"
      ]
    },
    {
      "cell_type": "code",
      "execution_count": null,
      "metadata": {
        "colab": {
          "base_uri": "https://localhost:8080/",
          "height": 67,
          "referenced_widgets": [
            "594a80fb6015403bbed4480dff5d1e92",
            "023a16dbf4224ed4a14c01a3cb413d1d",
            "2a7a39e2576b41aa8f7733ab6d5f36c9",
            "7da0d86031354d2e8a78a0019adc2c5a",
            "40d4f2e0ee2a40239ffc8897a668566b",
            "5e555774c344407f918ff9e62fa8f158",
            "282b85e1ce854fd3938b6877d2f8adac",
            "78037f567a164d7a8b4afce155144a90",
            "7ff108aef1344d8baa6d8bb6caece683",
            "bb7cdbea429d416a9fa4223e2440ab36",
            "086df0e1342c47bba9caa69730562831"
          ]
        },
        "id": "O7grPf1NXxhs",
        "outputId": "c81bcc78-d36f-4c8c-9556-f0c1a7b037ac"
      },
      "outputs": [],
      "source": [
        "results_direct = path_patch(\n",
        "    model,\n",
        "    orig_input=ioi_dataset.toks,\n",
        "    new_input=abc_dataset.toks,\n",
        "    sender_nodes=IterNode('z'), # This means iterate over all heads in all layers\n",
        "    receiver_nodes=Node('resid_post', 11), # This is resid_post at layer 11\n",
        "    patching_metric=ioi_metric_noising,\n",
        "    direct_includes_mlps=False,\n",
        "    verbose=True\n",
        ")"
      ]
    },
    {
      "cell_type": "code",
      "execution_count": null,
      "metadata": {
        "colab": {
          "base_uri": "https://localhost:8080/",
          "height": 542
        },
        "id": "AhLaAddiXxhs",
        "outputId": "51ea5f7b-2405-4389-ca13-0b7834a90ade"
      },
      "outputs": [],
      "source": [
        "imshow(\n",
        "    t.stack([results['z'], results_direct['z']]),\n",
        "    facet_col=0, facet_labels=[\"Direct path includes MLPs\", \"Direct path is just skip connections\"],\n",
        "    title=\"Each attention head's direct effect on logit difference\",\n",
        "    labels={\"x\": \"Head\", \"y\": \"Layer\", \"color\": \"Logit diff variation\"},\n",
        "    border=True,\n",
        "    width=950,\n",
        "    margin={\"r\": 100, \"l\": 100}\n",
        ")"
      ]
    },
    {
      "attachments": {},
      "cell_type": "markdown",
      "metadata": {
        "id": "eFQqfWgZXxht"
      },
      "source": [
        "They look about the same - great!\n",
        "\n",
        "Lastly, let's see what happens when we path patch from all the main name mover heads (9.6, 9.9 and 10.10) at once. The effect should be larger than the results we got above."
      ]
    },
    {
      "cell_type": "code",
      "execution_count": null,
      "metadata": {
        "colab": {
          "base_uri": "https://localhost:8080/"
        },
        "id": "KA15w5NRDmLv",
        "outputId": "ec64d1a1-bbe8-48e2-f745-802a239a39b6"
      },
      "outputs": [],
      "source": [
        "NAME_MOVER_HEADS = [(9, 6), (9, 9), (10, 10)]\n",
        "\n",
        "results = path_patch(\n",
        "    model,\n",
        "    orig_input=ioi_dataset.toks,\n",
        "    new_input=abc_dataset.toks,\n",
        "    sender_nodes=[Node(\"z\", layer, head=head) for layer, head in NAME_MOVER_HEADS], # Output of all name mover heads\n",
        "    receiver_nodes=Node(\"resid_post\", 11), # This is resid_post at layer 11\n",
        "    patching_metric=ioi_metric_noising,\n",
        ")\n",
        "\n",
        "print(results)"
      ]
    },
    {
      "attachments": {},
      "cell_type": "markdown",
      "metadata": {
        "id": "bmEbza-oDmLv"
      },
      "source": [
        "Performance is worse than zero! (This might be because of the **negative name mover heads**)."
      ]
    },
    {
      "attachments": {},
      "cell_type": "markdown",
      "metadata": {
        "id": "ZG15shKkDmLv"
      },
      "source": [
        "### 2️⃣ Patching from residual stream -> final residual stream value (for each sequence position)\n",
        "\n",
        "<img src=\"https://raw.githubusercontent.com/callummcdougall/computational-thread-art/master/example_images/misc/e4.png\" width=\"800\">"
      ]
    },
    {
      "attachments": {},
      "cell_type": "markdown",
      "metadata": {
        "id": "YAFxhkA2DmLv"
      },
      "source": [
        "Here we patch for each possible sender node = value of residual stream in (block, layer, position), with the receiver node being the final value of the residual stream. Block can be `resid_pre`, `attn_out` or `mlp_out`.\n",
        "\n",
        "Note, this example is a bit artificial, but I just wanted to give an example of patching by sequence position."
      ]
    },
    {
      "cell_type": "code",
      "execution_count": null,
      "metadata": {
        "colab": {
          "base_uri": "https://localhost:8080/",
          "height": 104,
          "referenced_widgets": [
            "75e43754b2a94590b03924cd578acd84",
            "fcb776d38fe143ce8ad5e46264cd96a8",
            "a49353a876354992b724623cd510d34d",
            "60eac513ef42402dbb993014c288468b",
            "01fa9f0f022a46ee840389efab3f4ae2",
            "55d69b4abd9146a8945fe5638fbeb15f",
            "9c571b44a531453e9f332d082cfb4f6f",
            "a06af40916364de7b71ebb83f4eac8b6",
            "f59bd971cba04ff1b81bab30c2c88279",
            "9eeb12a69bba4242b93290b05e7e1a49",
            "db3c887718dd4180bdfda218be37850d"
          ]
        },
        "id": "WpKXRo3SXxht",
        "outputId": "b6f63a45-2a70-4878-c252-c8ecda9cc025"
      },
      "outputs": [],
      "source": [
        "results = path_patch(\n",
        "    model,\n",
        "    orig_input=flipped_tokens,\n",
        "    new_input=clean_tokens,\n",
        "    sender_nodes=IterNode([\"resid_pre\", \"attn_out\", \"mlp_out\"], seq_pos=\"each\"),\n",
        "    receiver_nodes=Node(\"resid_post\", 11),\n",
        "    patching_metric=ioi_metric_denoising,\n",
        "    direct_includes_mlps=False, # gives similar results to direct_includes_mlps=True\n",
        "    verbose=True,\n",
        ")"
      ]
    },
    {
      "cell_type": "code",
      "execution_count": null,
      "metadata": {
        "colab": {
          "base_uri": "https://localhost:8080/",
          "height": 542
        },
        "id": "q9LfrCDjDmLw",
        "outputId": "5bf14a03-9c7c-4f14-984e-1192ff33dc7d"
      },
      "outputs": [],
      "source": [
        "# We get a dictionary where each key is a node name, and each value is a tensor of (layer, seq_pos)\n",
        "assert list(results.keys()) == ['resid_pre', 'attn_out', 'mlp_out']\n",
        "assert results[\"resid_pre\"].shape == (15, 12)\n",
        "\n",
        "results_stacked = t.stack([\n",
        "    results.T for results in results.values()\n",
        "])\n",
        "\n",
        "imshow(\n",
        "    results_stacked,\n",
        "    facet_col=0,\n",
        "    facet_labels=['resid_pre', 'attn_out', 'mlp_out'],\n",
        "    title=\"Results of denoising patching at residual stream\",\n",
        "    labels={\"x\": \"Sequence position\", \"y\": \"Layer\", \"color\": \"Logit diff variation\"},\n",
        "    x=labels,\n",
        "    xaxis_tickangle=45,\n",
        "    width=1300,\n",
        "    margin={\"r\": 100, \"l\": 100},\n",
        "    border=True,\n",
        ")"
      ]
    },
    {
      "attachments": {},
      "cell_type": "markdown",
      "metadata": {
        "id": "D2hUMOsiDmLw"
      },
      "source": [
        "This shows how the attention heads get us the right result at layer 9, and then that information is stored in the residual stream at the position of the `END` token. It also shows the effect of the negative name mover heads (negative values in the middle plot for the last 2 layers).\n",
        "\n",
        "This is different from our previous plot because it only looks at **direct logit attribution** from the sender component to the final value of the residual stream, rather than other downstream effects of patching at that position (which *do* get captured by activation patching)."
      ]
    },
    {
      "attachments": {},
      "cell_type": "markdown",
      "metadata": {
        "id": "pt2aAIVlDmLw"
      },
      "source": [
        "Note - I chose to have the output returned as a dict rather than tensor. I think this makes more sense, because e.g. stacking a `z`-tensor (with head dimension) and an `mlp_out`-tensor (without head dimension) would be weird. Better to have the return type be easily understandable, and let users figure out how to do the plotting."
      ]
    },
    {
      "attachments": {},
      "cell_type": "markdown",
      "metadata": {
        "id": "Jlce9xZ5DmLw"
      },
      "source": [
        "### 3️⃣ Patching from head to head\n",
        "\n",
        "<img src=\"https://raw.githubusercontent.com/callummcdougall/computational-thread-art/master/example_images/misc/e5.png\" width=\"380\">"
      ]
    },
    {
      "attachments": {},
      "cell_type": "markdown",
      "metadata": {
        "id": "F3zN72nBDmLx"
      },
      "source": [
        "\n",
        "Here we'll replicate figure 5(b) of the [IOI paper](https://arxiv.org/abs/2211.00593) by patching from (each head's output in turn) to the value inputs of the S-Inhibition heads."
      ]
    },
    {
      "cell_type": "code",
      "execution_count": null,
      "metadata": {
        "colab": {
          "base_uri": "https://localhost:8080/",
          "height": 67,
          "referenced_widgets": [
            "413701ce618a49219343dc30722e4edf",
            "41ebd3cfd29243cb8954a835cbfa9880",
            "ec91d817b3fa4a6cbc37ec3ed9bd3955",
            "c3eb1d6790c842288d83825690eda395",
            "f8ca06aa85bf4a3297ee7629cd99e3f5",
            "70ddb81f056e45a7b46328a080603e00",
            "86acbeced63a44739ac18daa848bc481",
            "2fde45f5382442b5a7b27ed397bdc40d",
            "022628fdc87143eaa91a05aae060e492",
            "766aec918d3042759315ad53b2eb1c5f",
            "7792862a1aaf44f7a34ec3f749f8242b"
          ]
        },
        "id": "R5skg6rxDmLx",
        "outputId": "0582c22f-9164-4982-d58f-30f2ffd6831e"
      },
      "outputs": [],
      "source": [
        "S_INHIBITION_HEADS = [(7, 3), (7, 9), (8, 6), (8, 10)]\n",
        "\n",
        "results = path_patch(\n",
        "    model,\n",
        "    orig_input=ioi_dataset.toks,\n",
        "    new_input=abc_dataset.toks,\n",
        "    sender_nodes=IterNode(\"z\"),\n",
        "    receiver_nodes=[Node(\"v\", layer, head=head) for layer, head in S_INHIBITION_HEADS],\n",
        "    patching_metric=ioi_metric_noising,\n",
        "    verbose=True,\n",
        ")"
      ]
    },
    {
      "cell_type": "code",
      "execution_count": null,
      "metadata": {
        "colab": {
          "base_uri": "https://localhost:8080/",
          "height": 542
        },
        "id": "LbSt5BIxDmL1",
        "outputId": "f576e506-2061-43a8-fd44-92c9f9316a52"
      },
      "outputs": [],
      "source": [
        "imshow(\n",
        "    results[\"z\"][:8] * 100,\n",
        "    title=\"Direct effect on S-Inhibition Heads' values\",\n",
        "    labels={\"x\": \"Head\", \"y\": \"Layer\", \"color\": \"Logit diff variation\"},\n",
        "    coloraxis=dict(colorbar_ticksuffix = \"%\"),\n",
        "    border=True,\n",
        "    width=700,\n",
        "    margin={\"r\": 100, \"l\": 100}\n",
        ")"
      ]
    },
    {
      "attachments": {},
      "cell_type": "markdown",
      "metadata": {
        "id": "EHBSQaTQDmL2"
      },
      "source": [
        "This matches figure 5 in the paper:\n",
        "\n",
        "<img src=\"https://raw.githubusercontent.com/callummcdougall/computational-thread-art/master/example_images/misc/fig_5b.png\" width=\"700\">"
      ]
    },
    {
      "attachments": {},
      "cell_type": "markdown",
      "metadata": {
        "id": "qqjAwMR-Xxhv"
      },
      "source": [
        "Again, how does this change when we don't include MLPs in direct path?"
      ]
    },
    {
      "cell_type": "code",
      "execution_count": null,
      "metadata": {
        "colab": {
          "base_uri": "https://localhost:8080/",
          "height": 67,
          "referenced_widgets": [
            "129fb60fc9d54f7eac03ed88f44c6f2d",
            "edf856eda46a4ef9b3aa9e69aa2cf1b1",
            "dbf19f93de6447778275554d8a10c6a4",
            "530292475d9e48e18607995fa038c20e",
            "c134e67e40d248ec8c2d987fbfa219e9",
            "94278a68d8ee4f9c809bc92eafad8300",
            "b0e0f182c35b44ffb246a7046991443f",
            "3858c70ef6a04416883c4886a9b64a70",
            "c0c1a8338ac94b0b8a4b727c008141b7",
            "7c2c72afada94a55955d65ac916b97b5",
            "347d1cd4170a4af885d5032500c0e8b7"
          ]
        },
        "id": "bvqoyVxQXxhv",
        "outputId": "2a0d824a-e6fe-48e2-baa8-f4b4771e7a75"
      },
      "outputs": [],
      "source": [
        "results_direct = path_patch(\n",
        "    model,\n",
        "    orig_input=ioi_dataset.toks,\n",
        "    new_input=abc_dataset.toks,\n",
        "    sender_nodes=IterNode(\"z\"),\n",
        "    receiver_nodes=[Node(\"v\", layer, head=head) for layer, head in S_INHIBITION_HEADS],\n",
        "    patching_metric=ioi_metric_noising,\n",
        "    direct_includes_mlps=False,\n",
        "    verbose=True,\n",
        ")"
      ]
    },
    {
      "cell_type": "code",
      "execution_count": null,
      "metadata": {
        "colab": {
          "base_uri": "https://localhost:8080/",
          "height": 542
        },
        "id": "ZPcyJNSCXxhv",
        "outputId": "1c9914cd-5ffa-4e4f-f3eb-fc77fb01cf17"
      },
      "outputs": [],
      "source": [
        "imshow(\n",
        "    t.stack([results['z'], results_direct['z']])[:, :8] * 100,\n",
        "    facet_col=0, facet_labels=[\"Direct path includes MLPs\", \"Direct path is just skip connections\"],\n",
        "    title=\"Direct effect on S-Inhibition Heads' values\",\n",
        "    labels={\"x\": \"Head\", \"y\": \"Layer\", \"color\": \"Logit diff variation\"},\n",
        "    coloraxis=dict(colorbar_ticksuffix = \"%\"),\n",
        "    border=True,\n",
        "    width=1100\n",
        ")"
      ]
    },
    {
      "attachments": {},
      "cell_type": "markdown",
      "metadata": {
        "id": "szmXtha5DmL2"
      },
      "source": [
        "While we're on a roll, let's also do figure 4 (it won't require anything that we haven't already seen)."
      ]
    },
    {
      "cell_type": "code",
      "execution_count": null,
      "metadata": {
        "colab": {
          "base_uri": "https://localhost:8080/",
          "height": 67,
          "referenced_widgets": [
            "db5b34ad4d4a4375bb112a47040d2105",
            "c2276a699aad4e55a4afd1d10514b93d",
            "fedab44e657346b9b55402f801b49715",
            "8b31f764aeba40a8bd1b6ad88edf66ec",
            "580c021acd394534935b4a92da7ccc53",
            "0841e8f6552144ccab7ff4eec57dded7",
            "79a6c0494b1c4d5daf57632248b1b634",
            "20efddf1bf2e453a91d11050d8f07cf4",
            "0d586b07a2864625ae2a5c447d4f1535",
            "79061db7634149aab5fe432a26afa618",
            "17663d43da6f47fd91cbcef2aec6b514"
          ]
        },
        "id": "zvbdX-5pDmL2",
        "outputId": "f0c501b0-c047-47b7-a836-3ac14644d997"
      },
      "outputs": [],
      "source": [
        "results = path_patch(\n",
        "    model,\n",
        "    orig_input=ioi_dataset.toks,\n",
        "    new_input=abc_dataset.toks,\n",
        "    sender_nodes=IterNode(\"z\"),\n",
        "    receiver_nodes=[Node(\"q\", layer, head=head) for layer, head in NAME_MOVER_HEADS],\n",
        "    patching_metric=ioi_metric_noising,\n",
        "    verbose=True,\n",
        ")"
      ]
    },
    {
      "cell_type": "code",
      "execution_count": null,
      "metadata": {
        "colab": {
          "base_uri": "https://localhost:8080/",
          "height": 542
        },
        "id": "mrZWKsWYDmL2",
        "outputId": "3cae90cb-df28-4ac8-a1a4-95d4d6ee2884"
      },
      "outputs": [],
      "source": [
        "imshow(\n",
        "    results['z'][:9] * 100,\n",
        "    title=\"Direct effect on Name Mover Heads' queries\",\n",
        "    labels={\"x\": \"Head\", \"y\": \"Layer\", \"color\": \"Logit diff variation\"},\n",
        "    coloraxis=dict(colorbar_ticksuffix = \"%\"),\n",
        "    border=True,\n",
        "    width=700,\n",
        ")"
      ]
    },
    {
      "attachments": {},
      "cell_type": "markdown",
      "metadata": {
        "id": "vWnh6D5GDmL2"
      },
      "source": [
        "Compare to figure 4:\n",
        "\n",
        "<img src=\"https://raw.githubusercontent.com/callummcdougall/computational-thread-art/master/example_images/misc/fig_4b.png\" width=\"700\">"
      ]
    },
    {
      "attachments": {},
      "cell_type": "markdown",
      "metadata": {
        "id": "IErnG2WUhUN5"
      },
      "source": [
        "### 4️⃣ Applying patching metric to the cache\n",
        "\n",
        "<img src=\"https://raw.githubusercontent.com/callummcdougall/computational-thread-art/master/example_images/misc/e6.png\" width=\"400\">"
      ]
    },
    {
      "attachments": {},
      "cell_type": "markdown",
      "metadata": {
        "id": "ugEiE6oohjXs"
      },
      "source": [
        "In this section, I'm going to include some code I made as part of the initial investigations into my SERI MATS project for Neel Nanda's stream. It involved investigating **negative name mover heads**, and seeing what they might be doing off-distribution. My theory was that they were query-composing with the name mover heads - in other words, they were detecting that the `IO` token had been copied from `IO1` to `end`, and suppressing this prediction. The best way of testing this would be for the `patching_metric` function to look at attention patterns (which could be found from the cache) rather than the output logits. I realised that I hadn't built this feature into my path patching code yet, so I decided to do that!\n",
        "\n",
        "The `apply_metric_to_cache` argument, if True, will result in the `patching_metric` function taking in an `ActivationCache` (the one we get from the final step of the path patching algorithm). Below, you can see the patching metric I'm using: `get_io_vs_s_attn_for_nmh`. It looks at the difference between attention probability from `end -> IO1` and `end -> S1` for the neg name mover head 10.7 (this difference should be positive for the clean distribution, and if my theory about composition was correct then it would reduce to approx zero when I path patched from the output of the three name mover heads to the query input of the neg name mover 10.7). The histogram shows that we do indeed see this.\n",
        "\n",
        "> **Note** - the `get_io_vs_s_attn_for_nmh` function actually returns a tuple of tensors rather than a float. This is supported by my path patching implementation. If the result isn't a float, it returns it all the same (and if the non-float results was returned as part of an `IterNode` function, it'll return these results in a list rather than trying to rearrange them into tensors). Here though, I was just performing a single instance rather than iterating."
      ]
    },
    {
      "attachments": {},
      "cell_type": "markdown",
      "metadata": {
        "id": "OQPCqfxjjbFF"
      },
      "source": [
        "#### Setup\n",
        "\n",
        "*As mentioned, this is a hilariously low-tech way of getting 1000 datapoints. I just did it in a for loop cause I didn't want to break memory and I don't know any better ways cause I'm pretty naive when it comes to doing anything at scale (-:*\n"
      ]
    },
    {
      "cell_type": "code",
      "execution_count": null,
      "metadata": {
        "colab": {
          "base_uri": "https://localhost:8080/",
          "height": 49,
          "referenced_widgets": [
            "3ca96cef5a6243b19129010bdcaf4659",
            "252b29a9999f43079e218d8654d86c06",
            "1e4bb952aefb424ab1547ac3f5e774c7",
            "a84c9c4c24a2483183369d19fe42f767",
            "5a8d7efe57ca42a49c31c66f849acce2",
            "651740bd1bed4cbd9e29b66953cb8152",
            "74844cea50b14cb4b02a2c342fd048f4",
            "a53ddb11373a47e7bae08976301ec700",
            "dd53dfbdfb4a41439fcb42ecd17d9f4b",
            "579bd1e3bf9447b7a560d17ec6e841b6",
            "75031ef6049f44a3b62cd951c2226959"
          ]
        },
        "id": "c0NkJ6PFhpSp",
        "outputId": "2423999c-5a01-45a7-f8e6-1b73396dd83c"
      },
      "outputs": [],
      "source": [
        "NEG_NMH = (10, 7)\n",
        "NAME_MOVER_HEADS = [(9, 6), (9, 9), (10, 10)]\n",
        "\n",
        "\n",
        "def get_io_vs_s_attn_for_nmh(\n",
        "    patched_cache: ActivationCache,\n",
        "    ioi_dataset: IOIDataset,\n",
        "    ioi_cache: ActivationCache,\n",
        "    neg_nmh = NEG_NMH,\n",
        ") -> Float[Tensor, \"batch\"]:\n",
        "    '''\n",
        "    Returns the difference between patterns[END, IO] and patterns[END, S1], where patterns\n",
        "    are the attention patterns for the negative name mover head.\n",
        "\n",
        "    This is returned in the form of a tuple of 2 tensors: one for the patched distribution\n",
        "    (calculated using `patched_cache` which is returned by the path patching algorithm), and\n",
        "    one for the clean IOI distribution (which is just calculated directly from that cache).\n",
        "    '''\n",
        "    layer, head = neg_nmh\n",
        "    attn_pattern_patched = patched_cache[\"pattern\", layer][:, head]\n",
        "    attn_pattern_clean = ioi_cache[\"pattern\", layer][:, head]\n",
        "    # both are (batch, seq_Q, seq_K), and I want all the \"end -> IO\" attention probs\n",
        "\n",
        "    N = ioi_dataset.toks.size(0)\n",
        "    io_seq_pos = ioi_dataset.word_idx[\"IO\"]\n",
        "    s1_seq_pos = ioi_dataset.word_idx[\"S1\"]\n",
        "    end_seq_pos = ioi_dataset.word_idx[\"end\"]\n",
        "\n",
        "    return (\n",
        "        attn_pattern_patched[range(N), end_seq_pos, io_seq_pos] - attn_pattern_patched[range(N), end_seq_pos, s1_seq_pos],\n",
        "        attn_pattern_clean[range(N), end_seq_pos, io_seq_pos] - attn_pattern_clean[range(N), end_seq_pos, s1_seq_pos],\n",
        "    )\n",
        "\n",
        "\n",
        "results_patched = []\n",
        "results_clean = []\n",
        "\n",
        "for seed in tqdm(range(50)):\n",
        "\n",
        "    ioi_dataset, abc_dataset, ioi_cache, abc_cache, ioi_metric = generate_data_and_caches(20, seed=seed)\n",
        "\n",
        "    result_patched, result_clean = path_patch(\n",
        "        model,\n",
        "        orig_input=ioi_dataset.toks,\n",
        "        new_input=abc_dataset.toks,\n",
        "        orig_cache=ioi_cache,\n",
        "        new_cache=abc_cache,\n",
        "        sender_nodes=[Node(\"z\", layer=layer, head=head) for layer, head in NAME_MOVER_HEADS], # Output of all name mover heads\n",
        "        receiver_nodes=Node(\"q\", NEG_NMH[0], head=NEG_NMH[1]), # To query input of negative name mover head\n",
        "        patching_metric=partial(get_io_vs_s_attn_for_nmh, ioi_dataset=ioi_dataset, ioi_cache=ioi_cache),\n",
        "        apply_metric_to_cache=True,\n",
        "        direct_includes_mlps=False,\n",
        "    )\n",
        "    results_patched.extend(result_patched.tolist())\n",
        "    results_clean.extend(result_clean.tolist())\n",
        "\n",
        "    t.cuda.empty_cache()"
      ]
    },
    {
      "cell_type": "code",
      "execution_count": null,
      "metadata": {
        "colab": {
          "base_uri": "https://localhost:8080/",
          "height": 617
        },
        "id": "4a44ZtXfj6XA",
        "outputId": "6358f5e2-b744-46b4-81f0-86999cff6185"
      },
      "outputs": [],
      "source": [
        "hist(\n",
        "    [results_patched, results_clean],\n",
        "    labels={\"variable\": \"Version\", \"value\": \"Attn diff (positive ⇒ more attn paid to IO than S1)\"},\n",
        "    title=\"Difference in attn from END➔IO vs. END➔S1 (path-patched vs clean)\",\n",
        "    names=[\"Patched\", \"Clean\"],\n",
        "    width=800,\n",
        "    height=600,\n",
        "    opacity=0.7,\n",
        "    marginal=\"box\",\n",
        "    template=\"simple_white\"\n",
        ")"
      ]
    },
    {
      "attachments": {},
      "cell_type": "markdown",
      "metadata": {
        "id": "elRu1rIBXxhv"
      },
      "source": [
        "# Appendix"
      ]
    },
    {
      "attachments": {},
      "cell_type": "markdown",
      "metadata": {
        "id": "X9bysGbU5c-f"
      },
      "source": [
        "## What is path patching?"
      ]
    },
    {
      "attachments": {},
      "cell_type": "markdown",
      "metadata": {
        "id": "-r68Jjw3Xxhw"
      },
      "source": [
        "Firstly, let's consider the version of path patching where \"direct paths\" mean skip connections, i.e. the output of one head being used as direct input for another head.\n",
        "\n",
        "Path patching from a **sender node** (usually the output of a component) to **receiver node** (usually the input of a component0) means we patch into the **receiver node** and change it's value to *\"what it would have been if the direct path from sender -> receiver was the same as it was on `new_input`, but all other paths to reciver were the same as on `orig_input`\"*.\n",
        "\n",
        "The phase ***\"what it would have been\"*** hides a bit of nuance here. The key idea to have in mind is that **transformers are the sum of multiple paths**, with the number of paths growing exponentially as the transformer gets larger. If we want to examine a specific path (e.g. composition between head $h_1$ and a later head $h_2$) then we might want to see what happens when we change the direct input into $h_2$ which comes from $h_1$, but keep all the other inputs the same.\n",
        "\n",
        "There are 2 steps to our algorithm:\n",
        "\n",
        "1. Gather all activations we need on orig and new distributions.\n",
        "2. Run model on original, with **receiver nodes** patched (adding the difference between new and orig outputs on the **sender nodes**).\n",
        "\n",
        "Example, patching from the output of head `0.0` to the input of head `2.0`:\n",
        "\n",
        "<img src=\"https://raw.githubusercontent.com/callummcdougall/computational-thread-art/master/example_images/misc/path-patching-alg-transformers-direct.png\" width=\"440\">\n",
        "\n",
        "Why does this work? The value we patch into head `2.0` (i.e. the blue) is the value it would have if we wrote it as a sum of paths, with every path the same as in the original distribution, except for the direct path from `0.0`:\n",
        "\n",
        "<img src=\"https://raw.githubusercontent.com/callummcdougall/computational-thread-art/master/example_images/misc/path-patching-decomp-one.png\" width=\"1050\">"
      ]
    },
    {
      "attachments": {},
      "cell_type": "markdown",
      "metadata": {
        "id": "DLOMH-vfXxhw"
      },
      "source": [
        "Now, let's consider a different form of the algorithm, where **we count paths including MLPs as direct**. This is the version of the algorithm used in the IOI paper.\n",
        "\n",
        "Why might we want to do this? Maybe the output of head `0.0` is being used directly by head `2.0`, but one of the MLPs is acting as a mediator. In other words (to oversimplify), `0.0` writes the vector $v$ into the residual stream, some neuron detects $v$ and writes $w$ to the residual stream, and `2.0` detects $w$. If we used the algorithm above, then we wouldn't catch this causal relationship. The drawback is that things get a bit messier, because now we're essentially passing a \"fake input\" into our MLPs, and it's dangerous to assume that any operation as clean as the one previously described (with vectors $v$, $w$) would still happen under these new circumstances."
      ]
    },
    {
      "attachments": {},
      "cell_type": "markdown",
      "metadata": {
        "id": "Zx2LqFhJXxhw"
      },
      "source": [
        "If we include MLPs as direct paths, then we need an extra step in our algorithm, to compute the effect of all the direct paths going through MLPs. Our new algorithm is:\n",
        "\n",
        "1. Gather all activations we need on orig and new distributions.\n",
        "2. Run model on orig with **sender nodes** patched from new and all other attention heads frozen. Cache the receiver nodes.\n",
        "    * Note, we **don't** freeze the MLPs, because we want to include the effect of paths from sender -> receiver that go through MLPs.\n",
        "3. Run model on original, with **receiver nodes** patched from previously cached values.\n",
        "\n",
        "Illustration, in the case where we're patching from head to head:\n",
        "\n",
        "<img src=\"https://raw.githubusercontent.com/callummcdougall/computational-thread-art/master/example_images/misc/path-patching-alg-transformers-5.png\" width=\"550\">\n",
        "\n",
        "Why does this work? After step 2, we can see from the following decomposition that all the direct paths that feed into `2.0` have the same value that they would on the original distribution (grey), and all non-direct paths have the same value as they would on the new distribution (green).\n",
        "\n",
        "<img src=\"https://raw.githubusercontent.com/callummcdougall/computational-thread-art/master/example_images/misc/path-patching-decomp-two.png\" width=\"800\">"
      ]
    },
    {
      "attachments": {},
      "cell_type": "markdown",
      "metadata": {
        "id": "AXlbV5z9Xxhw"
      },
      "source": [
        "## Comparison to TransformerLens' activation patching\n",
        "\n",
        "Using this is very different to using TransformerLens' current activation patching. TransformerLens has one general function `generic_activation_patch` and several `partial`s defined from it, each one for a specific use case (e.g. `get_act_patch_attn_out`). I think the way I've done things here has 3 advantages over the current method:\n",
        "\n",
        "* **Less different functions to remember** (the general `Node` and `IterNode` syntax allows you to express all different forms of patching in more or less the same way).\n",
        "* **More customizable**. You aren't restricted to using the `partial`-defined functions.\n",
        "* **More suited for path patching**. My understanding of `generic_activation_patch` is that it wasn't designed to be used regularly; its specialisations were.\n",
        "\n",
        "The main disadvantage of my method is more abstractions to keep in mind (in particular the `Node` and `IterNode` classes). To mitigate this, I tried to make the syntax for defining `Node` and `IterNode` as close to the syntax for indexing into the cache as possible, so people don't feel like they're learning an entirely new way of doing things."
      ]
    },
    {
      "attachments": {},
      "cell_type": "markdown",
      "metadata": {
        "id": "8gCjKacZXxhw"
      },
      "source": [
        "## Limitations / drawbacks\n",
        "\n",
        "* The version of path patching with a single forward pass (rather than two) doesn't work when you're patching individual neurons in an MLP. This is because (unlike the inputs to attention heads) there's no \"residual stream splits into a separate value for each neuron\" option in transformer models. Obviously, this would be ridiculous, because you might be duplicating the residul stream several thousands of times! If you try to path patch individual neurons, then a version of the two-forward-passes algorithm will be used instead (but one which freezes MLPs, so the effect is the same as the single forward pass algorithm). I mention it here just to explain why the algorithm is inexplicably twice as slow if you patch individual neurons.\n",
        "\n",
        "* Path patching into attention patterns by sequence position is pretty questionable (I'm not sure what version of this makes sense, or whether it even makes sense at all to path patch into attention patterns). For that reason, I'd recommend just not using this option.\n",
        "\n",
        "* I haven't yet written code to support `z` as a receiver node (I would interpret this as doing `q`, `k`, `v` all at once, and again it wouldn't make sense to only do this at a single sequence position). For now, you should just use pass a list of nodes for `q`, `k` and `v` manually.\n",
        "\n",
        "  * The things you can path patch into (i.e. receiver components) are:\n",
        "    * `resid_pre`, `resid_mid`, `resid_post`\n",
        "    * Attention head inputs: `q`, `k`, `v`, or `q_input`, `k_input`, `v_input`\n",
        "    * MLP input: `pre`\n",
        "\n",
        "  * The things you can patch from (i.e. sender components) are:\n",
        "    * `resid_pre`, `resid_mid`, `resid_post`\n",
        "    * Attention head output, by head `z` or over all heads `attn_out`\n",
        "    * MLP output, by neuron `post` or over all neurons `mlp_out`\n",
        "\n",
        "* Arthur Conmy's ACDC uses a different methodology for path patching, and this method wouldn't fit as well here. But this is by design. ***My activation & path patching implementation was designed to be low-effort for mechanistic interpretability researchers doing exploratory analysis***. It's not been optimized for e.g. fitting into larger systems like ACDC."
      ]
    }
  ],
  "metadata": {
    "accelerator": "GPU",
    "colab": {
      "collapsed_sections": [
        "NiGgzgaLDmLl",
        "f6no-mztXxhi",
        "FIn9HJsybBsc",
        "7QeVULl9Xxhi",
        "m2LRNIfNXxhi",
        "9ssTTpkTXxhj",
        "48mh9CgXXxhk",
        "SdQuDzAldvbH",
        "65FaMmzUXxhm",
        "BCgN4A0TDmLt",
        "W6yv51NBDmLt",
        "ZG15shKkDmLv",
        "Jlce9xZ5DmLw",
        "IErnG2WUhUN5",
        "elRu1rIBXxhv",
        "X9bysGbU5c-f"
      ],
      "gpuType": "V100",
      "machine_shape": "hm",
      "provenance": []
    },
    "kernelspec": {
      "display_name": "Python 3",
      "name": "python3"
    },
    "language_info": {
      "codemirror_mode": {
        "name": "ipython",
        "version": 3
      },
      "file_extension": ".py",
      "mimetype": "text/x-python",
      "name": "python",
      "nbconvert_exporter": "python",
      "pygments_lexer": "ipython3",
      "version": "3.8.10"
    },
    "orig_nbformat": 4,
    "widgets": {
      "application/vnd.jupyter.widget-state+json": {
        "0020c8a3097a4464b8986d41f1c0fbcc": {
          "model_module": "@jupyter-widgets/controls",
          "model_module_version": "1.5.0",
          "model_name": "FloatProgressModel",
          "state": {
            "_dom_classes": [],
            "_model_module": "@jupyter-widgets/controls",
            "_model_module_version": "1.5.0",
            "_model_name": "FloatProgressModel",
            "_view_count": null,
            "_view_module": "@jupyter-widgets/controls",
            "_view_module_version": "1.5.0",
            "_view_name": "ProgressView",
            "bar_style": "success",
            "description": "",
            "description_tooltip": null,
            "layout": "IPY_MODEL_b5bceaac503642ba8b38c85b4c6838fa",
            "max": 144,
            "min": 0,
            "orientation": "horizontal",
            "style": "IPY_MODEL_f5eced9a22b84ba9825a945d0ed94014",
            "value": 144
          }
        },
        "01fa9f0f022a46ee840389efab3f4ae2": {
          "model_module": "@jupyter-widgets/base",
          "model_module_version": "1.2.0",
          "model_name": "LayoutModel",
          "state": {
            "_model_module": "@jupyter-widgets/base",
            "_model_module_version": "1.2.0",
            "_model_name": "LayoutModel",
            "_view_count": null,
            "_view_module": "@jupyter-widgets/base",
            "_view_module_version": "1.2.0",
            "_view_name": "LayoutView",
            "align_content": null,
            "align_items": null,
            "align_self": null,
            "border": null,
            "bottom": null,
            "display": null,
            "flex": null,
            "flex_flow": null,
            "grid_area": null,
            "grid_auto_columns": null,
            "grid_auto_flow": null,
            "grid_auto_rows": null,
            "grid_column": null,
            "grid_gap": null,
            "grid_row": null,
            "grid_template_areas": null,
            "grid_template_columns": null,
            "grid_template_rows": null,
            "height": null,
            "justify_content": null,
            "justify_items": null,
            "left": null,
            "margin": null,
            "max_height": null,
            "max_width": null,
            "min_height": null,
            "min_width": null,
            "object_fit": null,
            "object_position": null,
            "order": null,
            "overflow": null,
            "overflow_x": null,
            "overflow_y": null,
            "padding": null,
            "right": null,
            "top": null,
            "visibility": null,
            "width": null
          }
        },
        "022628fdc87143eaa91a05aae060e492": {
          "model_module": "@jupyter-widgets/controls",
          "model_module_version": "1.5.0",
          "model_name": "ProgressStyleModel",
          "state": {
            "_model_module": "@jupyter-widgets/controls",
            "_model_module_version": "1.5.0",
            "_model_name": "ProgressStyleModel",
            "_view_count": null,
            "_view_module": "@jupyter-widgets/base",
            "_view_module_version": "1.2.0",
            "_view_name": "StyleView",
            "bar_color": null,
            "description_width": ""
          }
        },
        "023a16dbf4224ed4a14c01a3cb413d1d": {
          "model_module": "@jupyter-widgets/controls",
          "model_module_version": "1.5.0",
          "model_name": "HTMLModel",
          "state": {
            "_dom_classes": [],
            "_model_module": "@jupyter-widgets/controls",
            "_model_module_version": "1.5.0",
            "_model_name": "HTMLModel",
            "_view_count": null,
            "_view_module": "@jupyter-widgets/controls",
            "_view_module_version": "1.5.0",
            "_view_name": "HTMLView",
            "description": "",
            "description_tooltip": null,
            "layout": "IPY_MODEL_5e555774c344407f918ff9e62fa8f158",
            "placeholder": "​",
            "style": "IPY_MODEL_282b85e1ce854fd3938b6877d2f8adac",
            "value": "Patching over &#x27;z&#x27;: 100%"
          }
        },
        "0841e8f6552144ccab7ff4eec57dded7": {
          "model_module": "@jupyter-widgets/base",
          "model_module_version": "1.2.0",
          "model_name": "LayoutModel",
          "state": {
            "_model_module": "@jupyter-widgets/base",
            "_model_module_version": "1.2.0",
            "_model_name": "LayoutModel",
            "_view_count": null,
            "_view_module": "@jupyter-widgets/base",
            "_view_module_version": "1.2.0",
            "_view_name": "LayoutView",
            "align_content": null,
            "align_items": null,
            "align_self": null,
            "border": null,
            "bottom": null,
            "display": null,
            "flex": null,
            "flex_flow": null,
            "grid_area": null,
            "grid_auto_columns": null,
            "grid_auto_flow": null,
            "grid_auto_rows": null,
            "grid_column": null,
            "grid_gap": null,
            "grid_row": null,
            "grid_template_areas": null,
            "grid_template_columns": null,
            "grid_template_rows": null,
            "height": null,
            "justify_content": null,
            "justify_items": null,
            "left": null,
            "margin": null,
            "max_height": null,
            "max_width": null,
            "min_height": null,
            "min_width": null,
            "object_fit": null,
            "object_position": null,
            "order": null,
            "overflow": null,
            "overflow_x": null,
            "overflow_y": null,
            "padding": null,
            "right": null,
            "top": null,
            "visibility": null,
            "width": null
          }
        },
        "086df0e1342c47bba9caa69730562831": {
          "model_module": "@jupyter-widgets/controls",
          "model_module_version": "1.5.0",
          "model_name": "DescriptionStyleModel",
          "state": {
            "_model_module": "@jupyter-widgets/controls",
            "_model_module_version": "1.5.0",
            "_model_name": "DescriptionStyleModel",
            "_view_count": null,
            "_view_module": "@jupyter-widgets/base",
            "_view_module_version": "1.2.0",
            "_view_name": "StyleView",
            "description_width": ""
          }
        },
        "0a5b732e482f4280b3d102f30e73cb7a": {
          "model_module": "@jupyter-widgets/controls",
          "model_module_version": "1.5.0",
          "model_name": "DescriptionStyleModel",
          "state": {
            "_model_module": "@jupyter-widgets/controls",
            "_model_module_version": "1.5.0",
            "_model_name": "DescriptionStyleModel",
            "_view_count": null,
            "_view_module": "@jupyter-widgets/base",
            "_view_module_version": "1.2.0",
            "_view_name": "StyleView",
            "description_width": ""
          }
        },
        "0bbf5ffc08ce4dce8f613e6ad873e4a3": {
          "model_module": "@jupyter-widgets/controls",
          "model_module_version": "1.5.0",
          "model_name": "HTMLModel",
          "state": {
            "_dom_classes": [],
            "_model_module": "@jupyter-widgets/controls",
            "_model_module_version": "1.5.0",
            "_model_name": "HTMLModel",
            "_view_count": null,
            "_view_module": "@jupyter-widgets/controls",
            "_view_module_version": "1.5.0",
            "_view_name": "HTMLView",
            "description": "",
            "description_tooltip": null,
            "layout": "IPY_MODEL_df37a99910f04fe98e6ccb6536ae00b0",
            "placeholder": "​",
            "style": "IPY_MODEL_d326065f16e7416ca87f0db499123734",
            "value": " 720/720 [00:22&lt;00:00, 35.48it/s]"
          }
        },
        "0d586b07a2864625ae2a5c447d4f1535": {
          "model_module": "@jupyter-widgets/controls",
          "model_module_version": "1.5.0",
          "model_name": "ProgressStyleModel",
          "state": {
            "_model_module": "@jupyter-widgets/controls",
            "_model_module_version": "1.5.0",
            "_model_name": "ProgressStyleModel",
            "_view_count": null,
            "_view_module": "@jupyter-widgets/base",
            "_view_module_version": "1.2.0",
            "_view_name": "StyleView",
            "bar_color": null,
            "description_width": ""
          }
        },
        "129fb60fc9d54f7eac03ed88f44c6f2d": {
          "model_module": "@jupyter-widgets/controls",
          "model_module_version": "1.5.0",
          "model_name": "HBoxModel",
          "state": {
            "_dom_classes": [],
            "_model_module": "@jupyter-widgets/controls",
            "_model_module_version": "1.5.0",
            "_model_name": "HBoxModel",
            "_view_count": null,
            "_view_module": "@jupyter-widgets/controls",
            "_view_module_version": "1.5.0",
            "_view_name": "HBoxView",
            "box_style": "",
            "children": [
              "IPY_MODEL_edf856eda46a4ef9b3aa9e69aa2cf1b1",
              "IPY_MODEL_dbf19f93de6447778275554d8a10c6a4",
              "IPY_MODEL_530292475d9e48e18607995fa038c20e"
            ],
            "layout": "IPY_MODEL_c134e67e40d248ec8c2d987fbfa219e9"
          }
        },
        "12f566a0ddd44229a620c72d7785b7ab": {
          "model_module": "@jupyter-widgets/controls",
          "model_module_version": "1.5.0",
          "model_name": "HBoxModel",
          "state": {
            "_dom_classes": [],
            "_model_module": "@jupyter-widgets/controls",
            "_model_module_version": "1.5.0",
            "_model_name": "HBoxModel",
            "_view_count": null,
            "_view_module": "@jupyter-widgets/controls",
            "_view_module_version": "1.5.0",
            "_view_name": "HBoxView",
            "box_style": "",
            "children": [
              "IPY_MODEL_94dc9e4e46644aaea5ee312eae4ce58b",
              "IPY_MODEL_85ba86f93ad44e68929ea925d91b8544",
              "IPY_MODEL_4f8f56e2ceeb40f8821a16e78b8de83d"
            ],
            "layout": "IPY_MODEL_6f6d03c8d39e48e59199e26d1177726f"
          }
        },
        "173fe30ad649441b9f23684afec0350e": {
          "model_module": "@jupyter-widgets/controls",
          "model_module_version": "1.5.0",
          "model_name": "DescriptionStyleModel",
          "state": {
            "_model_module": "@jupyter-widgets/controls",
            "_model_module_version": "1.5.0",
            "_model_name": "DescriptionStyleModel",
            "_view_count": null,
            "_view_module": "@jupyter-widgets/base",
            "_view_module_version": "1.2.0",
            "_view_name": "StyleView",
            "description_width": ""
          }
        },
        "17663d43da6f47fd91cbcef2aec6b514": {
          "model_module": "@jupyter-widgets/controls",
          "model_module_version": "1.5.0",
          "model_name": "DescriptionStyleModel",
          "state": {
            "_model_module": "@jupyter-widgets/controls",
            "_model_module_version": "1.5.0",
            "_model_name": "DescriptionStyleModel",
            "_view_count": null,
            "_view_module": "@jupyter-widgets/base",
            "_view_module_version": "1.2.0",
            "_view_name": "StyleView",
            "description_width": ""
          }
        },
        "1cefeed836cf46a5bf614097665591d8": {
          "model_module": "@jupyter-widgets/controls",
          "model_module_version": "1.5.0",
          "model_name": "HTMLModel",
          "state": {
            "_dom_classes": [],
            "_model_module": "@jupyter-widgets/controls",
            "_model_module_version": "1.5.0",
            "_model_name": "HTMLModel",
            "_view_count": null,
            "_view_module": "@jupyter-widgets/controls",
            "_view_module_version": "1.5.0",
            "_view_name": "HTMLView",
            "description": "",
            "description_tooltip": null,
            "layout": "IPY_MODEL_6f8b76be40a94f3d83c1411f849307e2",
            "placeholder": "​",
            "style": "IPY_MODEL_173fe30ad649441b9f23684afec0350e",
            "value": "Patching &#x27;mlp_out&#x27;: 100%"
          }
        },
        "1e4bb952aefb424ab1547ac3f5e774c7": {
          "model_module": "@jupyter-widgets/controls",
          "model_module_version": "1.5.0",
          "model_name": "FloatProgressModel",
          "state": {
            "_dom_classes": [],
            "_model_module": "@jupyter-widgets/controls",
            "_model_module_version": "1.5.0",
            "_model_name": "FloatProgressModel",
            "_view_count": null,
            "_view_module": "@jupyter-widgets/controls",
            "_view_module_version": "1.5.0",
            "_view_name": "ProgressView",
            "bar_style": "success",
            "description": "",
            "description_tooltip": null,
            "layout": "IPY_MODEL_a53ddb11373a47e7bae08976301ec700",
            "max": 50,
            "min": 0,
            "orientation": "horizontal",
            "style": "IPY_MODEL_dd53dfbdfb4a41439fcb42ecd17d9f4b",
            "value": 50
          }
        },
        "20efddf1bf2e453a91d11050d8f07cf4": {
          "model_module": "@jupyter-widgets/base",
          "model_module_version": "1.2.0",
          "model_name": "LayoutModel",
          "state": {
            "_model_module": "@jupyter-widgets/base",
            "_model_module_version": "1.2.0",
            "_model_name": "LayoutModel",
            "_view_count": null,
            "_view_module": "@jupyter-widgets/base",
            "_view_module_version": "1.2.0",
            "_view_name": "LayoutView",
            "align_content": null,
            "align_items": null,
            "align_self": null,
            "border": null,
            "bottom": null,
            "display": null,
            "flex": null,
            "flex_flow": null,
            "grid_area": null,
            "grid_auto_columns": null,
            "grid_auto_flow": null,
            "grid_auto_rows": null,
            "grid_column": null,
            "grid_gap": null,
            "grid_row": null,
            "grid_template_areas": null,
            "grid_template_columns": null,
            "grid_template_rows": null,
            "height": null,
            "justify_content": null,
            "justify_items": null,
            "left": null,
            "margin": null,
            "max_height": null,
            "max_width": null,
            "min_height": null,
            "min_width": null,
            "object_fit": null,
            "object_position": null,
            "order": null,
            "overflow": null,
            "overflow_x": null,
            "overflow_y": null,
            "padding": null,
            "right": null,
            "top": null,
            "visibility": null,
            "width": null
          }
        },
        "2468541dfdba4d8f9269ccae8bddb2c3": {
          "model_module": "@jupyter-widgets/base",
          "model_module_version": "1.2.0",
          "model_name": "LayoutModel",
          "state": {
            "_model_module": "@jupyter-widgets/base",
            "_model_module_version": "1.2.0",
            "_model_name": "LayoutModel",
            "_view_count": null,
            "_view_module": "@jupyter-widgets/base",
            "_view_module_version": "1.2.0",
            "_view_name": "LayoutView",
            "align_content": null,
            "align_items": null,
            "align_self": null,
            "border": null,
            "bottom": null,
            "display": null,
            "flex": null,
            "flex_flow": null,
            "grid_area": null,
            "grid_auto_columns": null,
            "grid_auto_flow": null,
            "grid_auto_rows": null,
            "grid_column": null,
            "grid_gap": null,
            "grid_row": null,
            "grid_template_areas": null,
            "grid_template_columns": null,
            "grid_template_rows": null,
            "height": null,
            "justify_content": null,
            "justify_items": null,
            "left": null,
            "margin": null,
            "max_height": null,
            "max_width": null,
            "min_height": null,
            "min_width": null,
            "object_fit": null,
            "object_position": null,
            "order": null,
            "overflow": null,
            "overflow_x": null,
            "overflow_y": null,
            "padding": null,
            "right": null,
            "top": null,
            "visibility": null,
            "width": null
          }
        },
        "252b29a9999f43079e218d8654d86c06": {
          "model_module": "@jupyter-widgets/controls",
          "model_module_version": "1.5.0",
          "model_name": "HTMLModel",
          "state": {
            "_dom_classes": [],
            "_model_module": "@jupyter-widgets/controls",
            "_model_module_version": "1.5.0",
            "_model_name": "HTMLModel",
            "_view_count": null,
            "_view_module": "@jupyter-widgets/controls",
            "_view_module_version": "1.5.0",
            "_view_name": "HTMLView",
            "description": "",
            "description_tooltip": null,
            "layout": "IPY_MODEL_651740bd1bed4cbd9e29b66953cb8152",
            "placeholder": "​",
            "style": "IPY_MODEL_74844cea50b14cb4b02a2c342fd048f4",
            "value": "100%"
          }
        },
        "2550a1ec2f9849c4b25b3d3c84ec8339": {
          "model_module": "@jupyter-widgets/controls",
          "model_module_version": "1.5.0",
          "model_name": "HTMLModel",
          "state": {
            "_dom_classes": [],
            "_model_module": "@jupyter-widgets/controls",
            "_model_module_version": "1.5.0",
            "_model_name": "HTMLModel",
            "_view_count": null,
            "_view_module": "@jupyter-widgets/controls",
            "_view_module_version": "1.5.0",
            "_view_name": "HTMLView",
            "description": "",
            "description_tooltip": null,
            "layout": "IPY_MODEL_e433f2a4aa9341ca90f9880e692bb997",
            "placeholder": "​",
            "style": "IPY_MODEL_60300ca104c044c4aaa496bcc00a1c20",
            "value": " 36/36 [00:01&lt;00:00, 30.65it/s]"
          }
        },
        "255dbcb8b6e849c2b1942534f0a05a77": {
          "model_module": "@jupyter-widgets/controls",
          "model_module_version": "1.5.0",
          "model_name": "HBoxModel",
          "state": {
            "_dom_classes": [],
            "_model_module": "@jupyter-widgets/controls",
            "_model_module_version": "1.5.0",
            "_model_name": "HBoxModel",
            "_view_count": null,
            "_view_module": "@jupyter-widgets/controls",
            "_view_module_version": "1.5.0",
            "_view_name": "HBoxView",
            "box_style": "",
            "children": [
              "IPY_MODEL_3f65df2f6a4f477ab54b214946fe3fda",
              "IPY_MODEL_e30e401fb2394c13ad72184670152e5b",
              "IPY_MODEL_2550a1ec2f9849c4b25b3d3c84ec8339"
            ],
            "layout": "IPY_MODEL_2468541dfdba4d8f9269ccae8bddb2c3"
          }
        },
        "282b85e1ce854fd3938b6877d2f8adac": {
          "model_module": "@jupyter-widgets/controls",
          "model_module_version": "1.5.0",
          "model_name": "DescriptionStyleModel",
          "state": {
            "_model_module": "@jupyter-widgets/controls",
            "_model_module_version": "1.5.0",
            "_model_name": "DescriptionStyleModel",
            "_view_count": null,
            "_view_module": "@jupyter-widgets/base",
            "_view_module_version": "1.2.0",
            "_view_name": "StyleView",
            "description_width": ""
          }
        },
        "2a7a39e2576b41aa8f7733ab6d5f36c9": {
          "model_module": "@jupyter-widgets/controls",
          "model_module_version": "1.5.0",
          "model_name": "FloatProgressModel",
          "state": {
            "_dom_classes": [],
            "_model_module": "@jupyter-widgets/controls",
            "_model_module_version": "1.5.0",
            "_model_name": "FloatProgressModel",
            "_view_count": null,
            "_view_module": "@jupyter-widgets/controls",
            "_view_module_version": "1.5.0",
            "_view_name": "ProgressView",
            "bar_style": "success",
            "description": "",
            "description_tooltip": null,
            "layout": "IPY_MODEL_78037f567a164d7a8b4afce155144a90",
            "max": 144,
            "min": 0,
            "orientation": "horizontal",
            "style": "IPY_MODEL_7ff108aef1344d8baa6d8bb6caece683",
            "value": 144
          }
        },
        "2fde45f5382442b5a7b27ed397bdc40d": {
          "model_module": "@jupyter-widgets/base",
          "model_module_version": "1.2.0",
          "model_name": "LayoutModel",
          "state": {
            "_model_module": "@jupyter-widgets/base",
            "_model_module_version": "1.2.0",
            "_model_name": "LayoutModel",
            "_view_count": null,
            "_view_module": "@jupyter-widgets/base",
            "_view_module_version": "1.2.0",
            "_view_name": "LayoutView",
            "align_content": null,
            "align_items": null,
            "align_self": null,
            "border": null,
            "bottom": null,
            "display": null,
            "flex": null,
            "flex_flow": null,
            "grid_area": null,
            "grid_auto_columns": null,
            "grid_auto_flow": null,
            "grid_auto_rows": null,
            "grid_column": null,
            "grid_gap": null,
            "grid_row": null,
            "grid_template_areas": null,
            "grid_template_columns": null,
            "grid_template_rows": null,
            "height": null,
            "justify_content": null,
            "justify_items": null,
            "left": null,
            "margin": null,
            "max_height": null,
            "max_width": null,
            "min_height": null,
            "min_width": null,
            "object_fit": null,
            "object_position": null,
            "order": null,
            "overflow": null,
            "overflow_x": null,
            "overflow_y": null,
            "padding": null,
            "right": null,
            "top": null,
            "visibility": null,
            "width": null
          }
        },
        "347d1cd4170a4af885d5032500c0e8b7": {
          "model_module": "@jupyter-widgets/controls",
          "model_module_version": "1.5.0",
          "model_name": "DescriptionStyleModel",
          "state": {
            "_model_module": "@jupyter-widgets/controls",
            "_model_module_version": "1.5.0",
            "_model_name": "DescriptionStyleModel",
            "_view_count": null,
            "_view_module": "@jupyter-widgets/base",
            "_view_module_version": "1.2.0",
            "_view_name": "StyleView",
            "description_width": ""
          }
        },
        "3858c70ef6a04416883c4886a9b64a70": {
          "model_module": "@jupyter-widgets/base",
          "model_module_version": "1.2.0",
          "model_name": "LayoutModel",
          "state": {
            "_model_module": "@jupyter-widgets/base",
            "_model_module_version": "1.2.0",
            "_model_name": "LayoutModel",
            "_view_count": null,
            "_view_module": "@jupyter-widgets/base",
            "_view_module_version": "1.2.0",
            "_view_name": "LayoutView",
            "align_content": null,
            "align_items": null,
            "align_self": null,
            "border": null,
            "bottom": null,
            "display": null,
            "flex": null,
            "flex_flow": null,
            "grid_area": null,
            "grid_auto_columns": null,
            "grid_auto_flow": null,
            "grid_auto_rows": null,
            "grid_column": null,
            "grid_gap": null,
            "grid_row": null,
            "grid_template_areas": null,
            "grid_template_columns": null,
            "grid_template_rows": null,
            "height": null,
            "justify_content": null,
            "justify_items": null,
            "left": null,
            "margin": null,
            "max_height": null,
            "max_width": null,
            "min_height": null,
            "min_width": null,
            "object_fit": null,
            "object_position": null,
            "order": null,
            "overflow": null,
            "overflow_x": null,
            "overflow_y": null,
            "padding": null,
            "right": null,
            "top": null,
            "visibility": null,
            "width": null
          }
        },
        "3ca96cef5a6243b19129010bdcaf4659": {
          "model_module": "@jupyter-widgets/controls",
          "model_module_version": "1.5.0",
          "model_name": "HBoxModel",
          "state": {
            "_dom_classes": [],
            "_model_module": "@jupyter-widgets/controls",
            "_model_module_version": "1.5.0",
            "_model_name": "HBoxModel",
            "_view_count": null,
            "_view_module": "@jupyter-widgets/controls",
            "_view_module_version": "1.5.0",
            "_view_name": "HBoxView",
            "box_style": "",
            "children": [
              "IPY_MODEL_252b29a9999f43079e218d8654d86c06",
              "IPY_MODEL_1e4bb952aefb424ab1547ac3f5e774c7",
              "IPY_MODEL_a84c9c4c24a2483183369d19fe42f767"
            ],
            "layout": "IPY_MODEL_5a8d7efe57ca42a49c31c66f849acce2"
          }
        },
        "3df5280d19034d0d91f053ac86190ade": {
          "model_module": "@jupyter-widgets/base",
          "model_module_version": "1.2.0",
          "model_name": "LayoutModel",
          "state": {
            "_model_module": "@jupyter-widgets/base",
            "_model_module_version": "1.2.0",
            "_model_name": "LayoutModel",
            "_view_count": null,
            "_view_module": "@jupyter-widgets/base",
            "_view_module_version": "1.2.0",
            "_view_name": "LayoutView",
            "align_content": null,
            "align_items": null,
            "align_self": null,
            "border": null,
            "bottom": null,
            "display": null,
            "flex": null,
            "flex_flow": null,
            "grid_area": null,
            "grid_auto_columns": null,
            "grid_auto_flow": null,
            "grid_auto_rows": null,
            "grid_column": null,
            "grid_gap": null,
            "grid_row": null,
            "grid_template_areas": null,
            "grid_template_columns": null,
            "grid_template_rows": null,
            "height": null,
            "justify_content": null,
            "justify_items": null,
            "left": null,
            "margin": null,
            "max_height": null,
            "max_width": null,
            "min_height": null,
            "min_width": null,
            "object_fit": null,
            "object_position": null,
            "order": null,
            "overflow": null,
            "overflow_x": null,
            "overflow_y": null,
            "padding": null,
            "right": null,
            "top": null,
            "visibility": null,
            "width": null
          }
        },
        "3f65df2f6a4f477ab54b214946fe3fda": {
          "model_module": "@jupyter-widgets/controls",
          "model_module_version": "1.5.0",
          "model_name": "HTMLModel",
          "state": {
            "_dom_classes": [],
            "_model_module": "@jupyter-widgets/controls",
            "_model_module_version": "1.5.0",
            "_model_name": "HTMLModel",
            "_view_count": null,
            "_view_module": "@jupyter-widgets/controls",
            "_view_module_version": "1.5.0",
            "_view_name": "HTMLView",
            "description": "",
            "description_tooltip": null,
            "layout": "IPY_MODEL_83fa720059fd409eaba056473c77a993",
            "placeholder": "​",
            "style": "IPY_MODEL_bef7116ff21d44b68be2bda996cce870",
            "value": "Patching &#x27;mlp_out&#x27;: 100%"
          }
        },
        "40d4f2e0ee2a40239ffc8897a668566b": {
          "model_module": "@jupyter-widgets/base",
          "model_module_version": "1.2.0",
          "model_name": "LayoutModel",
          "state": {
            "_model_module": "@jupyter-widgets/base",
            "_model_module_version": "1.2.0",
            "_model_name": "LayoutModel",
            "_view_count": null,
            "_view_module": "@jupyter-widgets/base",
            "_view_module_version": "1.2.0",
            "_view_name": "LayoutView",
            "align_content": null,
            "align_items": null,
            "align_self": null,
            "border": null,
            "bottom": null,
            "display": null,
            "flex": null,
            "flex_flow": null,
            "grid_area": null,
            "grid_auto_columns": null,
            "grid_auto_flow": null,
            "grid_auto_rows": null,
            "grid_column": null,
            "grid_gap": null,
            "grid_row": null,
            "grid_template_areas": null,
            "grid_template_columns": null,
            "grid_template_rows": null,
            "height": null,
            "justify_content": null,
            "justify_items": null,
            "left": null,
            "margin": null,
            "max_height": null,
            "max_width": null,
            "min_height": null,
            "min_width": null,
            "object_fit": null,
            "object_position": null,
            "order": null,
            "overflow": null,
            "overflow_x": null,
            "overflow_y": null,
            "padding": null,
            "right": null,
            "top": null,
            "visibility": null,
            "width": null
          }
        },
        "413701ce618a49219343dc30722e4edf": {
          "model_module": "@jupyter-widgets/controls",
          "model_module_version": "1.5.0",
          "model_name": "HBoxModel",
          "state": {
            "_dom_classes": [],
            "_model_module": "@jupyter-widgets/controls",
            "_model_module_version": "1.5.0",
            "_model_name": "HBoxModel",
            "_view_count": null,
            "_view_module": "@jupyter-widgets/controls",
            "_view_module_version": "1.5.0",
            "_view_name": "HBoxView",
            "box_style": "",
            "children": [
              "IPY_MODEL_41ebd3cfd29243cb8954a835cbfa9880",
              "IPY_MODEL_ec91d817b3fa4a6cbc37ec3ed9bd3955",
              "IPY_MODEL_c3eb1d6790c842288d83825690eda395"
            ],
            "layout": "IPY_MODEL_f8ca06aa85bf4a3297ee7629cd99e3f5"
          }
        },
        "41ebd3cfd29243cb8954a835cbfa9880": {
          "model_module": "@jupyter-widgets/controls",
          "model_module_version": "1.5.0",
          "model_name": "HTMLModel",
          "state": {
            "_dom_classes": [],
            "_model_module": "@jupyter-widgets/controls",
            "_model_module_version": "1.5.0",
            "_model_name": "HTMLModel",
            "_view_count": null,
            "_view_module": "@jupyter-widgets/controls",
            "_view_module_version": "1.5.0",
            "_view_name": "HTMLView",
            "description": "",
            "description_tooltip": null,
            "layout": "IPY_MODEL_70ddb81f056e45a7b46328a080603e00",
            "placeholder": "​",
            "style": "IPY_MODEL_86acbeced63a44739ac18daa848bc481",
            "value": "Patching over &#x27;z&#x27;: 100%"
          }
        },
        "45eabc1baf994a9b9d862ce8154bbe7c": {
          "model_module": "@jupyter-widgets/controls",
          "model_module_version": "1.5.0",
          "model_name": "DescriptionStyleModel",
          "state": {
            "_model_module": "@jupyter-widgets/controls",
            "_model_module_version": "1.5.0",
            "_model_name": "DescriptionStyleModel",
            "_view_count": null,
            "_view_module": "@jupyter-widgets/base",
            "_view_module_version": "1.2.0",
            "_view_name": "StyleView",
            "description_width": ""
          }
        },
        "461e365e89f54207996307101f4457d1": {
          "model_module": "@jupyter-widgets/base",
          "model_module_version": "1.2.0",
          "model_name": "LayoutModel",
          "state": {
            "_model_module": "@jupyter-widgets/base",
            "_model_module_version": "1.2.0",
            "_model_name": "LayoutModel",
            "_view_count": null,
            "_view_module": "@jupyter-widgets/base",
            "_view_module_version": "1.2.0",
            "_view_name": "LayoutView",
            "align_content": null,
            "align_items": null,
            "align_self": null,
            "border": null,
            "bottom": null,
            "display": null,
            "flex": null,
            "flex_flow": null,
            "grid_area": null,
            "grid_auto_columns": null,
            "grid_auto_flow": null,
            "grid_auto_rows": null,
            "grid_column": null,
            "grid_gap": null,
            "grid_row": null,
            "grid_template_areas": null,
            "grid_template_columns": null,
            "grid_template_rows": null,
            "height": null,
            "justify_content": null,
            "justify_items": null,
            "left": null,
            "margin": null,
            "max_height": null,
            "max_width": null,
            "min_height": null,
            "min_width": null,
            "object_fit": null,
            "object_position": null,
            "order": null,
            "overflow": null,
            "overflow_x": null,
            "overflow_y": null,
            "padding": null,
            "right": null,
            "top": null,
            "visibility": null,
            "width": null
          }
        },
        "4cb39c99bd4142379a9154f321a6bd66": {
          "model_module": "@jupyter-widgets/controls",
          "model_module_version": "1.5.0",
          "model_name": "HTMLModel",
          "state": {
            "_dom_classes": [],
            "_model_module": "@jupyter-widgets/controls",
            "_model_module_version": "1.5.0",
            "_model_name": "HTMLModel",
            "_view_count": null,
            "_view_module": "@jupyter-widgets/controls",
            "_view_module_version": "1.5.0",
            "_view_name": "HTMLView",
            "description": "",
            "description_tooltip": null,
            "layout": "IPY_MODEL_fac3a78ded734d55924e8093cf021d33",
            "placeholder": "​",
            "style": "IPY_MODEL_d9deb950466c4de6bc29c5174806315f",
            "value": "Patching over &#x27;z&#x27;: 100%"
          }
        },
        "4f8f56e2ceeb40f8821a16e78b8de83d": {
          "model_module": "@jupyter-widgets/controls",
          "model_module_version": "1.5.0",
          "model_name": "HTMLModel",
          "state": {
            "_dom_classes": [],
            "_model_module": "@jupyter-widgets/controls",
            "_model_module_version": "1.5.0",
            "_model_name": "HTMLModel",
            "_view_count": null,
            "_view_module": "@jupyter-widgets/controls",
            "_view_module_version": "1.5.0",
            "_view_name": "HTMLView",
            "description": "",
            "description_tooltip": null,
            "layout": "IPY_MODEL_a00788e2bda04e7291fa83cbd0609384",
            "placeholder": "​",
            "style": "IPY_MODEL_ddac92aaeedb43c9bea3f5077460ea22",
            "value": " 36/36 [00:01&lt;00:00, 34.78it/s]"
          }
        },
        "530292475d9e48e18607995fa038c20e": {
          "model_module": "@jupyter-widgets/controls",
          "model_module_version": "1.5.0",
          "model_name": "HTMLModel",
          "state": {
            "_dom_classes": [],
            "_model_module": "@jupyter-widgets/controls",
            "_model_module_version": "1.5.0",
            "_model_name": "HTMLModel",
            "_view_count": null,
            "_view_module": "@jupyter-widgets/controls",
            "_view_module_version": "1.5.0",
            "_view_name": "HTMLView",
            "description": "",
            "description_tooltip": null,
            "layout": "IPY_MODEL_7c2c72afada94a55955d65ac916b97b5",
            "placeholder": "​",
            "style": "IPY_MODEL_347d1cd4170a4af885d5032500c0e8b7",
            "value": " 144/144 [00:07&lt;00:00, 26.60it/s]"
          }
        },
        "55d69b4abd9146a8945fe5638fbeb15f": {
          "model_module": "@jupyter-widgets/base",
          "model_module_version": "1.2.0",
          "model_name": "LayoutModel",
          "state": {
            "_model_module": "@jupyter-widgets/base",
            "_model_module_version": "1.2.0",
            "_model_name": "LayoutModel",
            "_view_count": null,
            "_view_module": "@jupyter-widgets/base",
            "_view_module_version": "1.2.0",
            "_view_name": "LayoutView",
            "align_content": null,
            "align_items": null,
            "align_self": null,
            "border": null,
            "bottom": null,
            "display": null,
            "flex": null,
            "flex_flow": null,
            "grid_area": null,
            "grid_auto_columns": null,
            "grid_auto_flow": null,
            "grid_auto_rows": null,
            "grid_column": null,
            "grid_gap": null,
            "grid_row": null,
            "grid_template_areas": null,
            "grid_template_columns": null,
            "grid_template_rows": null,
            "height": null,
            "justify_content": null,
            "justify_items": null,
            "left": null,
            "margin": null,
            "max_height": null,
            "max_width": null,
            "min_height": null,
            "min_width": null,
            "object_fit": null,
            "object_position": null,
            "order": null,
            "overflow": null,
            "overflow_x": null,
            "overflow_y": null,
            "padding": null,
            "right": null,
            "top": null,
            "visibility": null,
            "width": null
          }
        },
        "569c32dff2494c4991cadfbc97a55b19": {
          "model_module": "@jupyter-widgets/base",
          "model_module_version": "1.2.0",
          "model_name": "LayoutModel",
          "state": {
            "_model_module": "@jupyter-widgets/base",
            "_model_module_version": "1.2.0",
            "_model_name": "LayoutModel",
            "_view_count": null,
            "_view_module": "@jupyter-widgets/base",
            "_view_module_version": "1.2.0",
            "_view_name": "LayoutView",
            "align_content": null,
            "align_items": null,
            "align_self": null,
            "border": null,
            "bottom": null,
            "display": null,
            "flex": null,
            "flex_flow": null,
            "grid_area": null,
            "grid_auto_columns": null,
            "grid_auto_flow": null,
            "grid_auto_rows": null,
            "grid_column": null,
            "grid_gap": null,
            "grid_row": null,
            "grid_template_areas": null,
            "grid_template_columns": null,
            "grid_template_rows": null,
            "height": null,
            "justify_content": null,
            "justify_items": null,
            "left": null,
            "margin": null,
            "max_height": null,
            "max_width": null,
            "min_height": null,
            "min_width": null,
            "object_fit": null,
            "object_position": null,
            "order": null,
            "overflow": null,
            "overflow_x": null,
            "overflow_y": null,
            "padding": null,
            "right": null,
            "top": null,
            "visibility": null,
            "width": null
          }
        },
        "579bd1e3bf9447b7a560d17ec6e841b6": {
          "model_module": "@jupyter-widgets/base",
          "model_module_version": "1.2.0",
          "model_name": "LayoutModel",
          "state": {
            "_model_module": "@jupyter-widgets/base",
            "_model_module_version": "1.2.0",
            "_model_name": "LayoutModel",
            "_view_count": null,
            "_view_module": "@jupyter-widgets/base",
            "_view_module_version": "1.2.0",
            "_view_name": "LayoutView",
            "align_content": null,
            "align_items": null,
            "align_self": null,
            "border": null,
            "bottom": null,
            "display": null,
            "flex": null,
            "flex_flow": null,
            "grid_area": null,
            "grid_auto_columns": null,
            "grid_auto_flow": null,
            "grid_auto_rows": null,
            "grid_column": null,
            "grid_gap": null,
            "grid_row": null,
            "grid_template_areas": null,
            "grid_template_columns": null,
            "grid_template_rows": null,
            "height": null,
            "justify_content": null,
            "justify_items": null,
            "left": null,
            "margin": null,
            "max_height": null,
            "max_width": null,
            "min_height": null,
            "min_width": null,
            "object_fit": null,
            "object_position": null,
            "order": null,
            "overflow": null,
            "overflow_x": null,
            "overflow_y": null,
            "padding": null,
            "right": null,
            "top": null,
            "visibility": null,
            "width": null
          }
        },
        "580c021acd394534935b4a92da7ccc53": {
          "model_module": "@jupyter-widgets/base",
          "model_module_version": "1.2.0",
          "model_name": "LayoutModel",
          "state": {
            "_model_module": "@jupyter-widgets/base",
            "_model_module_version": "1.2.0",
            "_model_name": "LayoutModel",
            "_view_count": null,
            "_view_module": "@jupyter-widgets/base",
            "_view_module_version": "1.2.0",
            "_view_name": "LayoutView",
            "align_content": null,
            "align_items": null,
            "align_self": null,
            "border": null,
            "bottom": null,
            "display": null,
            "flex": null,
            "flex_flow": null,
            "grid_area": null,
            "grid_auto_columns": null,
            "grid_auto_flow": null,
            "grid_auto_rows": null,
            "grid_column": null,
            "grid_gap": null,
            "grid_row": null,
            "grid_template_areas": null,
            "grid_template_columns": null,
            "grid_template_rows": null,
            "height": null,
            "justify_content": null,
            "justify_items": null,
            "left": null,
            "margin": null,
            "max_height": null,
            "max_width": null,
            "min_height": null,
            "min_width": null,
            "object_fit": null,
            "object_position": null,
            "order": null,
            "overflow": null,
            "overflow_x": null,
            "overflow_y": null,
            "padding": null,
            "right": null,
            "top": null,
            "visibility": null,
            "width": null
          }
        },
        "594a80fb6015403bbed4480dff5d1e92": {
          "model_module": "@jupyter-widgets/controls",
          "model_module_version": "1.5.0",
          "model_name": "HBoxModel",
          "state": {
            "_dom_classes": [],
            "_model_module": "@jupyter-widgets/controls",
            "_model_module_version": "1.5.0",
            "_model_name": "HBoxModel",
            "_view_count": null,
            "_view_module": "@jupyter-widgets/controls",
            "_view_module_version": "1.5.0",
            "_view_name": "HBoxView",
            "box_style": "",
            "children": [
              "IPY_MODEL_023a16dbf4224ed4a14c01a3cb413d1d",
              "IPY_MODEL_2a7a39e2576b41aa8f7733ab6d5f36c9",
              "IPY_MODEL_7da0d86031354d2e8a78a0019adc2c5a"
            ],
            "layout": "IPY_MODEL_40d4f2e0ee2a40239ffc8897a668566b"
          }
        },
        "5999078580294c98a075cda7e9d865a8": {
          "model_module": "@jupyter-widgets/controls",
          "model_module_version": "1.5.0",
          "model_name": "HBoxModel",
          "state": {
            "_dom_classes": [],
            "_model_module": "@jupyter-widgets/controls",
            "_model_module_version": "1.5.0",
            "_model_name": "HBoxModel",
            "_view_count": null,
            "_view_module": "@jupyter-widgets/controls",
            "_view_module_version": "1.5.0",
            "_view_name": "HBoxView",
            "box_style": "",
            "children": [
              "IPY_MODEL_e46ea91d689b44879376f6390818f289",
              "IPY_MODEL_e0688c52dca74465bd1d3537546c8720",
              "IPY_MODEL_0bbf5ffc08ce4dce8f613e6ad873e4a3"
            ],
            "layout": "IPY_MODEL_5b8cf76f81a74c91bd7d9b7dbf95c757"
          }
        },
        "5a8d7efe57ca42a49c31c66f849acce2": {
          "model_module": "@jupyter-widgets/base",
          "model_module_version": "1.2.0",
          "model_name": "LayoutModel",
          "state": {
            "_model_module": "@jupyter-widgets/base",
            "_model_module_version": "1.2.0",
            "_model_name": "LayoutModel",
            "_view_count": null,
            "_view_module": "@jupyter-widgets/base",
            "_view_module_version": "1.2.0",
            "_view_name": "LayoutView",
            "align_content": null,
            "align_items": null,
            "align_self": null,
            "border": null,
            "bottom": null,
            "display": null,
            "flex": null,
            "flex_flow": null,
            "grid_area": null,
            "grid_auto_columns": null,
            "grid_auto_flow": null,
            "grid_auto_rows": null,
            "grid_column": null,
            "grid_gap": null,
            "grid_row": null,
            "grid_template_areas": null,
            "grid_template_columns": null,
            "grid_template_rows": null,
            "height": null,
            "justify_content": null,
            "justify_items": null,
            "left": null,
            "margin": null,
            "max_height": null,
            "max_width": null,
            "min_height": null,
            "min_width": null,
            "object_fit": null,
            "object_position": null,
            "order": null,
            "overflow": null,
            "overflow_x": null,
            "overflow_y": null,
            "padding": null,
            "right": null,
            "top": null,
            "visibility": null,
            "width": null
          }
        },
        "5b8cf76f81a74c91bd7d9b7dbf95c757": {
          "model_module": "@jupyter-widgets/base",
          "model_module_version": "1.2.0",
          "model_name": "LayoutModel",
          "state": {
            "_model_module": "@jupyter-widgets/base",
            "_model_module_version": "1.2.0",
            "_model_name": "LayoutModel",
            "_view_count": null,
            "_view_module": "@jupyter-widgets/base",
            "_view_module_version": "1.2.0",
            "_view_name": "LayoutView",
            "align_content": null,
            "align_items": null,
            "align_self": null,
            "border": null,
            "bottom": null,
            "display": null,
            "flex": null,
            "flex_flow": null,
            "grid_area": null,
            "grid_auto_columns": null,
            "grid_auto_flow": null,
            "grid_auto_rows": null,
            "grid_column": null,
            "grid_gap": null,
            "grid_row": null,
            "grid_template_areas": null,
            "grid_template_columns": null,
            "grid_template_rows": null,
            "height": null,
            "justify_content": null,
            "justify_items": null,
            "left": null,
            "margin": null,
            "max_height": null,
            "max_width": null,
            "min_height": null,
            "min_width": null,
            "object_fit": null,
            "object_position": null,
            "order": null,
            "overflow": null,
            "overflow_x": null,
            "overflow_y": null,
            "padding": null,
            "right": null,
            "top": null,
            "visibility": null,
            "width": null
          }
        },
        "5e555774c344407f918ff9e62fa8f158": {
          "model_module": "@jupyter-widgets/base",
          "model_module_version": "1.2.0",
          "model_name": "LayoutModel",
          "state": {
            "_model_module": "@jupyter-widgets/base",
            "_model_module_version": "1.2.0",
            "_model_name": "LayoutModel",
            "_view_count": null,
            "_view_module": "@jupyter-widgets/base",
            "_view_module_version": "1.2.0",
            "_view_name": "LayoutView",
            "align_content": null,
            "align_items": null,
            "align_self": null,
            "border": null,
            "bottom": null,
            "display": null,
            "flex": null,
            "flex_flow": null,
            "grid_area": null,
            "grid_auto_columns": null,
            "grid_auto_flow": null,
            "grid_auto_rows": null,
            "grid_column": null,
            "grid_gap": null,
            "grid_row": null,
            "grid_template_areas": null,
            "grid_template_columns": null,
            "grid_template_rows": null,
            "height": null,
            "justify_content": null,
            "justify_items": null,
            "left": null,
            "margin": null,
            "max_height": null,
            "max_width": null,
            "min_height": null,
            "min_width": null,
            "object_fit": null,
            "object_position": null,
            "order": null,
            "overflow": null,
            "overflow_x": null,
            "overflow_y": null,
            "padding": null,
            "right": null,
            "top": null,
            "visibility": null,
            "width": null
          }
        },
        "60300ca104c044c4aaa496bcc00a1c20": {
          "model_module": "@jupyter-widgets/controls",
          "model_module_version": "1.5.0",
          "model_name": "DescriptionStyleModel",
          "state": {
            "_model_module": "@jupyter-widgets/controls",
            "_model_module_version": "1.5.0",
            "_model_name": "DescriptionStyleModel",
            "_view_count": null,
            "_view_module": "@jupyter-widgets/base",
            "_view_module_version": "1.2.0",
            "_view_name": "StyleView",
            "description_width": ""
          }
        },
        "60eac513ef42402dbb993014c288468b": {
          "model_module": "@jupyter-widgets/controls",
          "model_module_version": "1.5.0",
          "model_name": "HTMLModel",
          "state": {
            "_dom_classes": [],
            "_model_module": "@jupyter-widgets/controls",
            "_model_module_version": "1.5.0",
            "_model_name": "HTMLModel",
            "_view_count": null,
            "_view_module": "@jupyter-widgets/controls",
            "_view_module_version": "1.5.0",
            "_view_name": "HTMLView",
            "description": "",
            "description_tooltip": null,
            "layout": "IPY_MODEL_9eeb12a69bba4242b93290b05e7e1a49",
            "placeholder": "​",
            "style": "IPY_MODEL_db3c887718dd4180bdfda218be37850d",
            "value": " 540/540 [00:17&lt;00:00, 33.00it/s]"
          }
        },
        "64228abbde2e42248bb2917e6fb0d73d": {
          "model_module": "@jupyter-widgets/controls",
          "model_module_version": "1.5.0",
          "model_name": "HBoxModel",
          "state": {
            "_dom_classes": [],
            "_model_module": "@jupyter-widgets/controls",
            "_model_module_version": "1.5.0",
            "_model_name": "HBoxModel",
            "_view_count": null,
            "_view_module": "@jupyter-widgets/controls",
            "_view_module_version": "1.5.0",
            "_view_name": "HBoxView",
            "box_style": "",
            "children": [
              "IPY_MODEL_1cefeed836cf46a5bf614097665591d8",
              "IPY_MODEL_d409b45a2e9843eb96daa3281c53977c",
              "IPY_MODEL_ffeca5dd01754c42bd98b0fd4f15736e"
            ],
            "layout": "IPY_MODEL_ea8dd0b6f55443b68d208bb05bf1bd73"
          }
        },
        "651740bd1bed4cbd9e29b66953cb8152": {
          "model_module": "@jupyter-widgets/base",
          "model_module_version": "1.2.0",
          "model_name": "LayoutModel",
          "state": {
            "_model_module": "@jupyter-widgets/base",
            "_model_module_version": "1.2.0",
            "_model_name": "LayoutModel",
            "_view_count": null,
            "_view_module": "@jupyter-widgets/base",
            "_view_module_version": "1.2.0",
            "_view_name": "LayoutView",
            "align_content": null,
            "align_items": null,
            "align_self": null,
            "border": null,
            "bottom": null,
            "display": null,
            "flex": null,
            "flex_flow": null,
            "grid_area": null,
            "grid_auto_columns": null,
            "grid_auto_flow": null,
            "grid_auto_rows": null,
            "grid_column": null,
            "grid_gap": null,
            "grid_row": null,
            "grid_template_areas": null,
            "grid_template_columns": null,
            "grid_template_rows": null,
            "height": null,
            "justify_content": null,
            "justify_items": null,
            "left": null,
            "margin": null,
            "max_height": null,
            "max_width": null,
            "min_height": null,
            "min_width": null,
            "object_fit": null,
            "object_position": null,
            "order": null,
            "overflow": null,
            "overflow_x": null,
            "overflow_y": null,
            "padding": null,
            "right": null,
            "top": null,
            "visibility": null,
            "width": null
          }
        },
        "6f6d03c8d39e48e59199e26d1177726f": {
          "model_module": "@jupyter-widgets/base",
          "model_module_version": "1.2.0",
          "model_name": "LayoutModel",
          "state": {
            "_model_module": "@jupyter-widgets/base",
            "_model_module_version": "1.2.0",
            "_model_name": "LayoutModel",
            "_view_count": null,
            "_view_module": "@jupyter-widgets/base",
            "_view_module_version": "1.2.0",
            "_view_name": "LayoutView",
            "align_content": null,
            "align_items": null,
            "align_self": null,
            "border": null,
            "bottom": null,
            "display": null,
            "flex": null,
            "flex_flow": null,
            "grid_area": null,
            "grid_auto_columns": null,
            "grid_auto_flow": null,
            "grid_auto_rows": null,
            "grid_column": null,
            "grid_gap": null,
            "grid_row": null,
            "grid_template_areas": null,
            "grid_template_columns": null,
            "grid_template_rows": null,
            "height": null,
            "justify_content": null,
            "justify_items": null,
            "left": null,
            "margin": null,
            "max_height": null,
            "max_width": null,
            "min_height": null,
            "min_width": null,
            "object_fit": null,
            "object_position": null,
            "order": null,
            "overflow": null,
            "overflow_x": null,
            "overflow_y": null,
            "padding": null,
            "right": null,
            "top": null,
            "visibility": null,
            "width": null
          }
        },
        "6f8b76be40a94f3d83c1411f849307e2": {
          "model_module": "@jupyter-widgets/base",
          "model_module_version": "1.2.0",
          "model_name": "LayoutModel",
          "state": {
            "_model_module": "@jupyter-widgets/base",
            "_model_module_version": "1.2.0",
            "_model_name": "LayoutModel",
            "_view_count": null,
            "_view_module": "@jupyter-widgets/base",
            "_view_module_version": "1.2.0",
            "_view_name": "LayoutView",
            "align_content": null,
            "align_items": null,
            "align_self": null,
            "border": null,
            "bottom": null,
            "display": null,
            "flex": null,
            "flex_flow": null,
            "grid_area": null,
            "grid_auto_columns": null,
            "grid_auto_flow": null,
            "grid_auto_rows": null,
            "grid_column": null,
            "grid_gap": null,
            "grid_row": null,
            "grid_template_areas": null,
            "grid_template_columns": null,
            "grid_template_rows": null,
            "height": null,
            "justify_content": null,
            "justify_items": null,
            "left": null,
            "margin": null,
            "max_height": null,
            "max_width": null,
            "min_height": null,
            "min_width": null,
            "object_fit": null,
            "object_position": null,
            "order": null,
            "overflow": null,
            "overflow_x": null,
            "overflow_y": null,
            "padding": null,
            "right": null,
            "top": null,
            "visibility": null,
            "width": null
          }
        },
        "70ddb81f056e45a7b46328a080603e00": {
          "model_module": "@jupyter-widgets/base",
          "model_module_version": "1.2.0",
          "model_name": "LayoutModel",
          "state": {
            "_model_module": "@jupyter-widgets/base",
            "_model_module_version": "1.2.0",
            "_model_name": "LayoutModel",
            "_view_count": null,
            "_view_module": "@jupyter-widgets/base",
            "_view_module_version": "1.2.0",
            "_view_name": "LayoutView",
            "align_content": null,
            "align_items": null,
            "align_self": null,
            "border": null,
            "bottom": null,
            "display": null,
            "flex": null,
            "flex_flow": null,
            "grid_area": null,
            "grid_auto_columns": null,
            "grid_auto_flow": null,
            "grid_auto_rows": null,
            "grid_column": null,
            "grid_gap": null,
            "grid_row": null,
            "grid_template_areas": null,
            "grid_template_columns": null,
            "grid_template_rows": null,
            "height": null,
            "justify_content": null,
            "justify_items": null,
            "left": null,
            "margin": null,
            "max_height": null,
            "max_width": null,
            "min_height": null,
            "min_width": null,
            "object_fit": null,
            "object_position": null,
            "order": null,
            "overflow": null,
            "overflow_x": null,
            "overflow_y": null,
            "padding": null,
            "right": null,
            "top": null,
            "visibility": null,
            "width": null
          }
        },
        "72530a6a8c4541738e3edd7b89c7653d": {
          "model_module": "@jupyter-widgets/controls",
          "model_module_version": "1.5.0",
          "model_name": "HTMLModel",
          "state": {
            "_dom_classes": [],
            "_model_module": "@jupyter-widgets/controls",
            "_model_module_version": "1.5.0",
            "_model_name": "HTMLModel",
            "_view_count": null,
            "_view_module": "@jupyter-widgets/controls",
            "_view_module_version": "1.5.0",
            "_view_name": "HTMLView",
            "description": "",
            "description_tooltip": null,
            "layout": "IPY_MODEL_b2421cec572e436db29ad4433fe25c09",
            "placeholder": "​",
            "style": "IPY_MODEL_f6aa3e1ef6dc428f8119e020285823ad",
            "value": " 144/144 [00:04&lt;00:00, 31.64it/s]"
          }
        },
        "74844cea50b14cb4b02a2c342fd048f4": {
          "model_module": "@jupyter-widgets/controls",
          "model_module_version": "1.5.0",
          "model_name": "DescriptionStyleModel",
          "state": {
            "_model_module": "@jupyter-widgets/controls",
            "_model_module_version": "1.5.0",
            "_model_name": "DescriptionStyleModel",
            "_view_count": null,
            "_view_module": "@jupyter-widgets/base",
            "_view_module_version": "1.2.0",
            "_view_name": "StyleView",
            "description_width": ""
          }
        },
        "75031ef6049f44a3b62cd951c2226959": {
          "model_module": "@jupyter-widgets/controls",
          "model_module_version": "1.5.0",
          "model_name": "DescriptionStyleModel",
          "state": {
            "_model_module": "@jupyter-widgets/controls",
            "_model_module_version": "1.5.0",
            "_model_name": "DescriptionStyleModel",
            "_view_count": null,
            "_view_module": "@jupyter-widgets/base",
            "_view_module_version": "1.2.0",
            "_view_name": "StyleView",
            "description_width": ""
          }
        },
        "75e43754b2a94590b03924cd578acd84": {
          "model_module": "@jupyter-widgets/controls",
          "model_module_version": "1.5.0",
          "model_name": "HBoxModel",
          "state": {
            "_dom_classes": [],
            "_model_module": "@jupyter-widgets/controls",
            "_model_module_version": "1.5.0",
            "_model_name": "HBoxModel",
            "_view_count": null,
            "_view_module": "@jupyter-widgets/controls",
            "_view_module_version": "1.5.0",
            "_view_name": "HBoxView",
            "box_style": "",
            "children": [
              "IPY_MODEL_fcb776d38fe143ce8ad5e46264cd96a8",
              "IPY_MODEL_a49353a876354992b724623cd510d34d",
              "IPY_MODEL_60eac513ef42402dbb993014c288468b"
            ],
            "layout": "IPY_MODEL_01fa9f0f022a46ee840389efab3f4ae2"
          }
        },
        "766aec918d3042759315ad53b2eb1c5f": {
          "model_module": "@jupyter-widgets/base",
          "model_module_version": "1.2.0",
          "model_name": "LayoutModel",
          "state": {
            "_model_module": "@jupyter-widgets/base",
            "_model_module_version": "1.2.0",
            "_model_name": "LayoutModel",
            "_view_count": null,
            "_view_module": "@jupyter-widgets/base",
            "_view_module_version": "1.2.0",
            "_view_name": "LayoutView",
            "align_content": null,
            "align_items": null,
            "align_self": null,
            "border": null,
            "bottom": null,
            "display": null,
            "flex": null,
            "flex_flow": null,
            "grid_area": null,
            "grid_auto_columns": null,
            "grid_auto_flow": null,
            "grid_auto_rows": null,
            "grid_column": null,
            "grid_gap": null,
            "grid_row": null,
            "grid_template_areas": null,
            "grid_template_columns": null,
            "grid_template_rows": null,
            "height": null,
            "justify_content": null,
            "justify_items": null,
            "left": null,
            "margin": null,
            "max_height": null,
            "max_width": null,
            "min_height": null,
            "min_width": null,
            "object_fit": null,
            "object_position": null,
            "order": null,
            "overflow": null,
            "overflow_x": null,
            "overflow_y": null,
            "padding": null,
            "right": null,
            "top": null,
            "visibility": null,
            "width": null
          }
        },
        "7792862a1aaf44f7a34ec3f749f8242b": {
          "model_module": "@jupyter-widgets/controls",
          "model_module_version": "1.5.0",
          "model_name": "DescriptionStyleModel",
          "state": {
            "_model_module": "@jupyter-widgets/controls",
            "_model_module_version": "1.5.0",
            "_model_name": "DescriptionStyleModel",
            "_view_count": null,
            "_view_module": "@jupyter-widgets/base",
            "_view_module_version": "1.2.0",
            "_view_name": "StyleView",
            "description_width": ""
          }
        },
        "78037f567a164d7a8b4afce155144a90": {
          "model_module": "@jupyter-widgets/base",
          "model_module_version": "1.2.0",
          "model_name": "LayoutModel",
          "state": {
            "_model_module": "@jupyter-widgets/base",
            "_model_module_version": "1.2.0",
            "_model_name": "LayoutModel",
            "_view_count": null,
            "_view_module": "@jupyter-widgets/base",
            "_view_module_version": "1.2.0",
            "_view_name": "LayoutView",
            "align_content": null,
            "align_items": null,
            "align_self": null,
            "border": null,
            "bottom": null,
            "display": null,
            "flex": null,
            "flex_flow": null,
            "grid_area": null,
            "grid_auto_columns": null,
            "grid_auto_flow": null,
            "grid_auto_rows": null,
            "grid_column": null,
            "grid_gap": null,
            "grid_row": null,
            "grid_template_areas": null,
            "grid_template_columns": null,
            "grid_template_rows": null,
            "height": null,
            "justify_content": null,
            "justify_items": null,
            "left": null,
            "margin": null,
            "max_height": null,
            "max_width": null,
            "min_height": null,
            "min_width": null,
            "object_fit": null,
            "object_position": null,
            "order": null,
            "overflow": null,
            "overflow_x": null,
            "overflow_y": null,
            "padding": null,
            "right": null,
            "top": null,
            "visibility": null,
            "width": null
          }
        },
        "78ea2155957145baa4f7bc183eaca7a3": {
          "model_module": "@jupyter-widgets/controls",
          "model_module_version": "1.5.0",
          "model_name": "ProgressStyleModel",
          "state": {
            "_model_module": "@jupyter-widgets/controls",
            "_model_module_version": "1.5.0",
            "_model_name": "ProgressStyleModel",
            "_view_count": null,
            "_view_module": "@jupyter-widgets/base",
            "_view_module_version": "1.2.0",
            "_view_name": "StyleView",
            "bar_color": null,
            "description_width": ""
          }
        },
        "79061db7634149aab5fe432a26afa618": {
          "model_module": "@jupyter-widgets/base",
          "model_module_version": "1.2.0",
          "model_name": "LayoutModel",
          "state": {
            "_model_module": "@jupyter-widgets/base",
            "_model_module_version": "1.2.0",
            "_model_name": "LayoutModel",
            "_view_count": null,
            "_view_module": "@jupyter-widgets/base",
            "_view_module_version": "1.2.0",
            "_view_name": "LayoutView",
            "align_content": null,
            "align_items": null,
            "align_self": null,
            "border": null,
            "bottom": null,
            "display": null,
            "flex": null,
            "flex_flow": null,
            "grid_area": null,
            "grid_auto_columns": null,
            "grid_auto_flow": null,
            "grid_auto_rows": null,
            "grid_column": null,
            "grid_gap": null,
            "grid_row": null,
            "grid_template_areas": null,
            "grid_template_columns": null,
            "grid_template_rows": null,
            "height": null,
            "justify_content": null,
            "justify_items": null,
            "left": null,
            "margin": null,
            "max_height": null,
            "max_width": null,
            "min_height": null,
            "min_width": null,
            "object_fit": null,
            "object_position": null,
            "order": null,
            "overflow": null,
            "overflow_x": null,
            "overflow_y": null,
            "padding": null,
            "right": null,
            "top": null,
            "visibility": null,
            "width": null
          }
        },
        "79a6c0494b1c4d5daf57632248b1b634": {
          "model_module": "@jupyter-widgets/controls",
          "model_module_version": "1.5.0",
          "model_name": "DescriptionStyleModel",
          "state": {
            "_model_module": "@jupyter-widgets/controls",
            "_model_module_version": "1.5.0",
            "_model_name": "DescriptionStyleModel",
            "_view_count": null,
            "_view_module": "@jupyter-widgets/base",
            "_view_module_version": "1.2.0",
            "_view_name": "StyleView",
            "description_width": ""
          }
        },
        "7ba392e5e97a4cb782a84fc31b01b5d8": {
          "model_module": "@jupyter-widgets/base",
          "model_module_version": "1.2.0",
          "model_name": "LayoutModel",
          "state": {
            "_model_module": "@jupyter-widgets/base",
            "_model_module_version": "1.2.0",
            "_model_name": "LayoutModel",
            "_view_count": null,
            "_view_module": "@jupyter-widgets/base",
            "_view_module_version": "1.2.0",
            "_view_name": "LayoutView",
            "align_content": null,
            "align_items": null,
            "align_self": null,
            "border": null,
            "bottom": null,
            "display": null,
            "flex": null,
            "flex_flow": null,
            "grid_area": null,
            "grid_auto_columns": null,
            "grid_auto_flow": null,
            "grid_auto_rows": null,
            "grid_column": null,
            "grid_gap": null,
            "grid_row": null,
            "grid_template_areas": null,
            "grid_template_columns": null,
            "grid_template_rows": null,
            "height": null,
            "justify_content": null,
            "justify_items": null,
            "left": null,
            "margin": null,
            "max_height": null,
            "max_width": null,
            "min_height": null,
            "min_width": null,
            "object_fit": null,
            "object_position": null,
            "order": null,
            "overflow": null,
            "overflow_x": null,
            "overflow_y": null,
            "padding": null,
            "right": null,
            "top": null,
            "visibility": null,
            "width": null
          }
        },
        "7c2c72afada94a55955d65ac916b97b5": {
          "model_module": "@jupyter-widgets/base",
          "model_module_version": "1.2.0",
          "model_name": "LayoutModel",
          "state": {
            "_model_module": "@jupyter-widgets/base",
            "_model_module_version": "1.2.0",
            "_model_name": "LayoutModel",
            "_view_count": null,
            "_view_module": "@jupyter-widgets/base",
            "_view_module_version": "1.2.0",
            "_view_name": "LayoutView",
            "align_content": null,
            "align_items": null,
            "align_self": null,
            "border": null,
            "bottom": null,
            "display": null,
            "flex": null,
            "flex_flow": null,
            "grid_area": null,
            "grid_auto_columns": null,
            "grid_auto_flow": null,
            "grid_auto_rows": null,
            "grid_column": null,
            "grid_gap": null,
            "grid_row": null,
            "grid_template_areas": null,
            "grid_template_columns": null,
            "grid_template_rows": null,
            "height": null,
            "justify_content": null,
            "justify_items": null,
            "left": null,
            "margin": null,
            "max_height": null,
            "max_width": null,
            "min_height": null,
            "min_width": null,
            "object_fit": null,
            "object_position": null,
            "order": null,
            "overflow": null,
            "overflow_x": null,
            "overflow_y": null,
            "padding": null,
            "right": null,
            "top": null,
            "visibility": null,
            "width": null
          }
        },
        "7da0d86031354d2e8a78a0019adc2c5a": {
          "model_module": "@jupyter-widgets/controls",
          "model_module_version": "1.5.0",
          "model_name": "HTMLModel",
          "state": {
            "_dom_classes": [],
            "_model_module": "@jupyter-widgets/controls",
            "_model_module_version": "1.5.0",
            "_model_name": "HTMLModel",
            "_view_count": null,
            "_view_module": "@jupyter-widgets/controls",
            "_view_module_version": "1.5.0",
            "_view_name": "HTMLView",
            "description": "",
            "description_tooltip": null,
            "layout": "IPY_MODEL_bb7cdbea429d416a9fa4223e2440ab36",
            "placeholder": "​",
            "style": "IPY_MODEL_086df0e1342c47bba9caa69730562831",
            "value": " 144/144 [00:05&lt;00:00, 27.50it/s]"
          }
        },
        "7ff108aef1344d8baa6d8bb6caece683": {
          "model_module": "@jupyter-widgets/controls",
          "model_module_version": "1.5.0",
          "model_name": "ProgressStyleModel",
          "state": {
            "_model_module": "@jupyter-widgets/controls",
            "_model_module_version": "1.5.0",
            "_model_name": "ProgressStyleModel",
            "_view_count": null,
            "_view_module": "@jupyter-widgets/base",
            "_view_module_version": "1.2.0",
            "_view_name": "StyleView",
            "bar_color": null,
            "description_width": ""
          }
        },
        "83fa720059fd409eaba056473c77a993": {
          "model_module": "@jupyter-widgets/base",
          "model_module_version": "1.2.0",
          "model_name": "LayoutModel",
          "state": {
            "_model_module": "@jupyter-widgets/base",
            "_model_module_version": "1.2.0",
            "_model_name": "LayoutModel",
            "_view_count": null,
            "_view_module": "@jupyter-widgets/base",
            "_view_module_version": "1.2.0",
            "_view_name": "LayoutView",
            "align_content": null,
            "align_items": null,
            "align_self": null,
            "border": null,
            "bottom": null,
            "display": null,
            "flex": null,
            "flex_flow": null,
            "grid_area": null,
            "grid_auto_columns": null,
            "grid_auto_flow": null,
            "grid_auto_rows": null,
            "grid_column": null,
            "grid_gap": null,
            "grid_row": null,
            "grid_template_areas": null,
            "grid_template_columns": null,
            "grid_template_rows": null,
            "height": null,
            "justify_content": null,
            "justify_items": null,
            "left": null,
            "margin": null,
            "max_height": null,
            "max_width": null,
            "min_height": null,
            "min_width": null,
            "object_fit": null,
            "object_position": null,
            "order": null,
            "overflow": null,
            "overflow_x": null,
            "overflow_y": null,
            "padding": null,
            "right": null,
            "top": null,
            "visibility": null,
            "width": null
          }
        },
        "84cd1a13f7fe43909412a8de7b711161": {
          "model_module": "@jupyter-widgets/base",
          "model_module_version": "1.2.0",
          "model_name": "LayoutModel",
          "state": {
            "_model_module": "@jupyter-widgets/base",
            "_model_module_version": "1.2.0",
            "_model_name": "LayoutModel",
            "_view_count": null,
            "_view_module": "@jupyter-widgets/base",
            "_view_module_version": "1.2.0",
            "_view_name": "LayoutView",
            "align_content": null,
            "align_items": null,
            "align_self": null,
            "border": null,
            "bottom": null,
            "display": null,
            "flex": null,
            "flex_flow": null,
            "grid_area": null,
            "grid_auto_columns": null,
            "grid_auto_flow": null,
            "grid_auto_rows": null,
            "grid_column": null,
            "grid_gap": null,
            "grid_row": null,
            "grid_template_areas": null,
            "grid_template_columns": null,
            "grid_template_rows": null,
            "height": null,
            "justify_content": null,
            "justify_items": null,
            "left": null,
            "margin": null,
            "max_height": null,
            "max_width": null,
            "min_height": null,
            "min_width": null,
            "object_fit": null,
            "object_position": null,
            "order": null,
            "overflow": null,
            "overflow_x": null,
            "overflow_y": null,
            "padding": null,
            "right": null,
            "top": null,
            "visibility": null,
            "width": null
          }
        },
        "85ba86f93ad44e68929ea925d91b8544": {
          "model_module": "@jupyter-widgets/controls",
          "model_module_version": "1.5.0",
          "model_name": "FloatProgressModel",
          "state": {
            "_dom_classes": [],
            "_model_module": "@jupyter-widgets/controls",
            "_model_module_version": "1.5.0",
            "_model_name": "FloatProgressModel",
            "_view_count": null,
            "_view_module": "@jupyter-widgets/controls",
            "_view_module_version": "1.5.0",
            "_view_name": "ProgressView",
            "bar_style": "success",
            "description": "",
            "description_tooltip": null,
            "layout": "IPY_MODEL_b5a140779d8b411a9b158c03a1b95367",
            "max": 36,
            "min": 0,
            "orientation": "horizontal",
            "style": "IPY_MODEL_cbc4a585781340259009d69875b15145",
            "value": 36
          }
        },
        "86acbeced63a44739ac18daa848bc481": {
          "model_module": "@jupyter-widgets/controls",
          "model_module_version": "1.5.0",
          "model_name": "DescriptionStyleModel",
          "state": {
            "_model_module": "@jupyter-widgets/controls",
            "_model_module_version": "1.5.0",
            "_model_name": "DescriptionStyleModel",
            "_view_count": null,
            "_view_module": "@jupyter-widgets/base",
            "_view_module_version": "1.2.0",
            "_view_name": "StyleView",
            "description_width": ""
          }
        },
        "8aed62303fa741d98df012b7002b36ca": {
          "model_module": "@jupyter-widgets/controls",
          "model_module_version": "1.5.0",
          "model_name": "FloatProgressModel",
          "state": {
            "_dom_classes": [],
            "_model_module": "@jupyter-widgets/controls",
            "_model_module_version": "1.5.0",
            "_model_name": "FloatProgressModel",
            "_view_count": null,
            "_view_module": "@jupyter-widgets/controls",
            "_view_module_version": "1.5.0",
            "_view_name": "ProgressView",
            "bar_style": "success",
            "description": "",
            "description_tooltip": null,
            "layout": "IPY_MODEL_f80f3e4fcce64b2891a1de5e5affaf63",
            "max": 144,
            "min": 0,
            "orientation": "horizontal",
            "style": "IPY_MODEL_a955a14a6efd450394fbe334190e7e7d",
            "value": 144
          }
        },
        "8b31f764aeba40a8bd1b6ad88edf66ec": {
          "model_module": "@jupyter-widgets/controls",
          "model_module_version": "1.5.0",
          "model_name": "HTMLModel",
          "state": {
            "_dom_classes": [],
            "_model_module": "@jupyter-widgets/controls",
            "_model_module_version": "1.5.0",
            "_model_name": "HTMLModel",
            "_view_count": null,
            "_view_module": "@jupyter-widgets/controls",
            "_view_module_version": "1.5.0",
            "_view_name": "HTMLView",
            "description": "",
            "description_tooltip": null,
            "layout": "IPY_MODEL_79061db7634149aab5fe432a26afa618",
            "placeholder": "​",
            "style": "IPY_MODEL_17663d43da6f47fd91cbcef2aec6b514",
            "value": " 144/144 [00:09&lt;00:00, 15.83it/s]"
          }
        },
        "8d22a25683924c45a82527d015e2ce4b": {
          "model_module": "@jupyter-widgets/controls",
          "model_module_version": "1.5.0",
          "model_name": "ProgressStyleModel",
          "state": {
            "_model_module": "@jupyter-widgets/controls",
            "_model_module_version": "1.5.0",
            "_model_name": "ProgressStyleModel",
            "_view_count": null,
            "_view_module": "@jupyter-widgets/base",
            "_view_module_version": "1.2.0",
            "_view_name": "StyleView",
            "bar_color": null,
            "description_width": ""
          }
        },
        "94278a68d8ee4f9c809bc92eafad8300": {
          "model_module": "@jupyter-widgets/base",
          "model_module_version": "1.2.0",
          "model_name": "LayoutModel",
          "state": {
            "_model_module": "@jupyter-widgets/base",
            "_model_module_version": "1.2.0",
            "_model_name": "LayoutModel",
            "_view_count": null,
            "_view_module": "@jupyter-widgets/base",
            "_view_module_version": "1.2.0",
            "_view_name": "LayoutView",
            "align_content": null,
            "align_items": null,
            "align_self": null,
            "border": null,
            "bottom": null,
            "display": null,
            "flex": null,
            "flex_flow": null,
            "grid_area": null,
            "grid_auto_columns": null,
            "grid_auto_flow": null,
            "grid_auto_rows": null,
            "grid_column": null,
            "grid_gap": null,
            "grid_row": null,
            "grid_template_areas": null,
            "grid_template_columns": null,
            "grid_template_rows": null,
            "height": null,
            "justify_content": null,
            "justify_items": null,
            "left": null,
            "margin": null,
            "max_height": null,
            "max_width": null,
            "min_height": null,
            "min_width": null,
            "object_fit": null,
            "object_position": null,
            "order": null,
            "overflow": null,
            "overflow_x": null,
            "overflow_y": null,
            "padding": null,
            "right": null,
            "top": null,
            "visibility": null,
            "width": null
          }
        },
        "94dc9e4e46644aaea5ee312eae4ce58b": {
          "model_module": "@jupyter-widgets/controls",
          "model_module_version": "1.5.0",
          "model_name": "HTMLModel",
          "state": {
            "_dom_classes": [],
            "_model_module": "@jupyter-widgets/controls",
            "_model_module_version": "1.5.0",
            "_model_name": "HTMLModel",
            "_view_count": null,
            "_view_module": "@jupyter-widgets/controls",
            "_view_module_version": "1.5.0",
            "_view_name": "HTMLView",
            "description": "",
            "description_tooltip": null,
            "layout": "IPY_MODEL_569c32dff2494c4991cadfbc97a55b19",
            "placeholder": "​",
            "style": "IPY_MODEL_b64c92c7a14544e68aeda137e5404f49",
            "value": "Patching &#x27;mlp_out&#x27;: 100%"
          }
        },
        "9bbf4c3941ea4f3aa46d45759f171896": {
          "model_module": "@jupyter-widgets/controls",
          "model_module_version": "1.5.0",
          "model_name": "DescriptionStyleModel",
          "state": {
            "_model_module": "@jupyter-widgets/controls",
            "_model_module_version": "1.5.0",
            "_model_name": "DescriptionStyleModel",
            "_view_count": null,
            "_view_module": "@jupyter-widgets/base",
            "_view_module_version": "1.2.0",
            "_view_name": "StyleView",
            "description_width": ""
          }
        },
        "9c571b44a531453e9f332d082cfb4f6f": {
          "model_module": "@jupyter-widgets/controls",
          "model_module_version": "1.5.0",
          "model_name": "DescriptionStyleModel",
          "state": {
            "_model_module": "@jupyter-widgets/controls",
            "_model_module_version": "1.5.0",
            "_model_name": "DescriptionStyleModel",
            "_view_count": null,
            "_view_module": "@jupyter-widgets/base",
            "_view_module_version": "1.2.0",
            "_view_name": "StyleView",
            "description_width": ""
          }
        },
        "9eeb12a69bba4242b93290b05e7e1a49": {
          "model_module": "@jupyter-widgets/base",
          "model_module_version": "1.2.0",
          "model_name": "LayoutModel",
          "state": {
            "_model_module": "@jupyter-widgets/base",
            "_model_module_version": "1.2.0",
            "_model_name": "LayoutModel",
            "_view_count": null,
            "_view_module": "@jupyter-widgets/base",
            "_view_module_version": "1.2.0",
            "_view_name": "LayoutView",
            "align_content": null,
            "align_items": null,
            "align_self": null,
            "border": null,
            "bottom": null,
            "display": null,
            "flex": null,
            "flex_flow": null,
            "grid_area": null,
            "grid_auto_columns": null,
            "grid_auto_flow": null,
            "grid_auto_rows": null,
            "grid_column": null,
            "grid_gap": null,
            "grid_row": null,
            "grid_template_areas": null,
            "grid_template_columns": null,
            "grid_template_rows": null,
            "height": null,
            "justify_content": null,
            "justify_items": null,
            "left": null,
            "margin": null,
            "max_height": null,
            "max_width": null,
            "min_height": null,
            "min_width": null,
            "object_fit": null,
            "object_position": null,
            "order": null,
            "overflow": null,
            "overflow_x": null,
            "overflow_y": null,
            "padding": null,
            "right": null,
            "top": null,
            "visibility": null,
            "width": null
          }
        },
        "a00788e2bda04e7291fa83cbd0609384": {
          "model_module": "@jupyter-widgets/base",
          "model_module_version": "1.2.0",
          "model_name": "LayoutModel",
          "state": {
            "_model_module": "@jupyter-widgets/base",
            "_model_module_version": "1.2.0",
            "_model_name": "LayoutModel",
            "_view_count": null,
            "_view_module": "@jupyter-widgets/base",
            "_view_module_version": "1.2.0",
            "_view_name": "LayoutView",
            "align_content": null,
            "align_items": null,
            "align_self": null,
            "border": null,
            "bottom": null,
            "display": null,
            "flex": null,
            "flex_flow": null,
            "grid_area": null,
            "grid_auto_columns": null,
            "grid_auto_flow": null,
            "grid_auto_rows": null,
            "grid_column": null,
            "grid_gap": null,
            "grid_row": null,
            "grid_template_areas": null,
            "grid_template_columns": null,
            "grid_template_rows": null,
            "height": null,
            "justify_content": null,
            "justify_items": null,
            "left": null,
            "margin": null,
            "max_height": null,
            "max_width": null,
            "min_height": null,
            "min_width": null,
            "object_fit": null,
            "object_position": null,
            "order": null,
            "overflow": null,
            "overflow_x": null,
            "overflow_y": null,
            "padding": null,
            "right": null,
            "top": null,
            "visibility": null,
            "width": null
          }
        },
        "a06af40916364de7b71ebb83f4eac8b6": {
          "model_module": "@jupyter-widgets/base",
          "model_module_version": "1.2.0",
          "model_name": "LayoutModel",
          "state": {
            "_model_module": "@jupyter-widgets/base",
            "_model_module_version": "1.2.0",
            "_model_name": "LayoutModel",
            "_view_count": null,
            "_view_module": "@jupyter-widgets/base",
            "_view_module_version": "1.2.0",
            "_view_name": "LayoutView",
            "align_content": null,
            "align_items": null,
            "align_self": null,
            "border": null,
            "bottom": null,
            "display": null,
            "flex": null,
            "flex_flow": null,
            "grid_area": null,
            "grid_auto_columns": null,
            "grid_auto_flow": null,
            "grid_auto_rows": null,
            "grid_column": null,
            "grid_gap": null,
            "grid_row": null,
            "grid_template_areas": null,
            "grid_template_columns": null,
            "grid_template_rows": null,
            "height": null,
            "justify_content": null,
            "justify_items": null,
            "left": null,
            "margin": null,
            "max_height": null,
            "max_width": null,
            "min_height": null,
            "min_width": null,
            "object_fit": null,
            "object_position": null,
            "order": null,
            "overflow": null,
            "overflow_x": null,
            "overflow_y": null,
            "padding": null,
            "right": null,
            "top": null,
            "visibility": null,
            "width": null
          }
        },
        "a49353a876354992b724623cd510d34d": {
          "model_module": "@jupyter-widgets/controls",
          "model_module_version": "1.5.0",
          "model_name": "FloatProgressModel",
          "state": {
            "_dom_classes": [],
            "_model_module": "@jupyter-widgets/controls",
            "_model_module_version": "1.5.0",
            "_model_name": "FloatProgressModel",
            "_view_count": null,
            "_view_module": "@jupyter-widgets/controls",
            "_view_module_version": "1.5.0",
            "_view_name": "ProgressView",
            "bar_style": "success",
            "description": "",
            "description_tooltip": null,
            "layout": "IPY_MODEL_a06af40916364de7b71ebb83f4eac8b6",
            "max": 540,
            "min": 0,
            "orientation": "horizontal",
            "style": "IPY_MODEL_f59bd971cba04ff1b81bab30c2c88279",
            "value": 540
          }
        },
        "a53ddb11373a47e7bae08976301ec700": {
          "model_module": "@jupyter-widgets/base",
          "model_module_version": "1.2.0",
          "model_name": "LayoutModel",
          "state": {
            "_model_module": "@jupyter-widgets/base",
            "_model_module_version": "1.2.0",
            "_model_name": "LayoutModel",
            "_view_count": null,
            "_view_module": "@jupyter-widgets/base",
            "_view_module_version": "1.2.0",
            "_view_name": "LayoutView",
            "align_content": null,
            "align_items": null,
            "align_self": null,
            "border": null,
            "bottom": null,
            "display": null,
            "flex": null,
            "flex_flow": null,
            "grid_area": null,
            "grid_auto_columns": null,
            "grid_auto_flow": null,
            "grid_auto_rows": null,
            "grid_column": null,
            "grid_gap": null,
            "grid_row": null,
            "grid_template_areas": null,
            "grid_template_columns": null,
            "grid_template_rows": null,
            "height": null,
            "justify_content": null,
            "justify_items": null,
            "left": null,
            "margin": null,
            "max_height": null,
            "max_width": null,
            "min_height": null,
            "min_width": null,
            "object_fit": null,
            "object_position": null,
            "order": null,
            "overflow": null,
            "overflow_x": null,
            "overflow_y": null,
            "padding": null,
            "right": null,
            "top": null,
            "visibility": null,
            "width": null
          }
        },
        "a7e4690340ad4087ad78cac4926ae61d": {
          "model_module": "@jupyter-widgets/base",
          "model_module_version": "1.2.0",
          "model_name": "LayoutModel",
          "state": {
            "_model_module": "@jupyter-widgets/base",
            "_model_module_version": "1.2.0",
            "_model_name": "LayoutModel",
            "_view_count": null,
            "_view_module": "@jupyter-widgets/base",
            "_view_module_version": "1.2.0",
            "_view_name": "LayoutView",
            "align_content": null,
            "align_items": null,
            "align_self": null,
            "border": null,
            "bottom": null,
            "display": null,
            "flex": null,
            "flex_flow": null,
            "grid_area": null,
            "grid_auto_columns": null,
            "grid_auto_flow": null,
            "grid_auto_rows": null,
            "grid_column": null,
            "grid_gap": null,
            "grid_row": null,
            "grid_template_areas": null,
            "grid_template_columns": null,
            "grid_template_rows": null,
            "height": null,
            "justify_content": null,
            "justify_items": null,
            "left": null,
            "margin": null,
            "max_height": null,
            "max_width": null,
            "min_height": null,
            "min_width": null,
            "object_fit": null,
            "object_position": null,
            "order": null,
            "overflow": null,
            "overflow_x": null,
            "overflow_y": null,
            "padding": null,
            "right": null,
            "top": null,
            "visibility": null,
            "width": null
          }
        },
        "a84c9c4c24a2483183369d19fe42f767": {
          "model_module": "@jupyter-widgets/controls",
          "model_module_version": "1.5.0",
          "model_name": "HTMLModel",
          "state": {
            "_dom_classes": [],
            "_model_module": "@jupyter-widgets/controls",
            "_model_module_version": "1.5.0",
            "_model_name": "HTMLModel",
            "_view_count": null,
            "_view_module": "@jupyter-widgets/controls",
            "_view_module_version": "1.5.0",
            "_view_name": "HTMLView",
            "description": "",
            "description_tooltip": null,
            "layout": "IPY_MODEL_579bd1e3bf9447b7a560d17ec6e841b6",
            "placeholder": "​",
            "style": "IPY_MODEL_75031ef6049f44a3b62cd951c2226959",
            "value": " 50/50 [00:10&lt;00:00,  4.81it/s]"
          }
        },
        "a86f8bd6149b4eada8119bcc02b78c26": {
          "model_module": "@jupyter-widgets/controls",
          "model_module_version": "1.5.0",
          "model_name": "ProgressStyleModel",
          "state": {
            "_model_module": "@jupyter-widgets/controls",
            "_model_module_version": "1.5.0",
            "_model_name": "ProgressStyleModel",
            "_view_count": null,
            "_view_module": "@jupyter-widgets/base",
            "_view_module_version": "1.2.0",
            "_view_name": "StyleView",
            "bar_color": null,
            "description_width": ""
          }
        },
        "a8a50870747c46118ac525ac36eb7c47": {
          "model_module": "@jupyter-widgets/controls",
          "model_module_version": "1.5.0",
          "model_name": "HBoxModel",
          "state": {
            "_dom_classes": [],
            "_model_module": "@jupyter-widgets/controls",
            "_model_module_version": "1.5.0",
            "_model_name": "HBoxModel",
            "_view_count": null,
            "_view_module": "@jupyter-widgets/controls",
            "_view_module_version": "1.5.0",
            "_view_name": "HBoxView",
            "box_style": "",
            "children": [
              "IPY_MODEL_4cb39c99bd4142379a9154f321a6bd66",
              "IPY_MODEL_0020c8a3097a4464b8986d41f1c0fbcc",
              "IPY_MODEL_bdee09941acf44f0a3926481e3e1d55f"
            ],
            "layout": "IPY_MODEL_7ba392e5e97a4cb782a84fc31b01b5d8"
          }
        },
        "a955a14a6efd450394fbe334190e7e7d": {
          "model_module": "@jupyter-widgets/controls",
          "model_module_version": "1.5.0",
          "model_name": "ProgressStyleModel",
          "state": {
            "_model_module": "@jupyter-widgets/controls",
            "_model_module_version": "1.5.0",
            "_model_name": "ProgressStyleModel",
            "_view_count": null,
            "_view_module": "@jupyter-widgets/base",
            "_view_module_version": "1.2.0",
            "_view_name": "StyleView",
            "bar_color": null,
            "description_width": ""
          }
        },
        "b0e0f182c35b44ffb246a7046991443f": {
          "model_module": "@jupyter-widgets/controls",
          "model_module_version": "1.5.0",
          "model_name": "DescriptionStyleModel",
          "state": {
            "_model_module": "@jupyter-widgets/controls",
            "_model_module_version": "1.5.0",
            "_model_name": "DescriptionStyleModel",
            "_view_count": null,
            "_view_module": "@jupyter-widgets/base",
            "_view_module_version": "1.2.0",
            "_view_name": "StyleView",
            "description_width": ""
          }
        },
        "b2421cec572e436db29ad4433fe25c09": {
          "model_module": "@jupyter-widgets/base",
          "model_module_version": "1.2.0",
          "model_name": "LayoutModel",
          "state": {
            "_model_module": "@jupyter-widgets/base",
            "_model_module_version": "1.2.0",
            "_model_name": "LayoutModel",
            "_view_count": null,
            "_view_module": "@jupyter-widgets/base",
            "_view_module_version": "1.2.0",
            "_view_name": "LayoutView",
            "align_content": null,
            "align_items": null,
            "align_self": null,
            "border": null,
            "bottom": null,
            "display": null,
            "flex": null,
            "flex_flow": null,
            "grid_area": null,
            "grid_auto_columns": null,
            "grid_auto_flow": null,
            "grid_auto_rows": null,
            "grid_column": null,
            "grid_gap": null,
            "grid_row": null,
            "grid_template_areas": null,
            "grid_template_columns": null,
            "grid_template_rows": null,
            "height": null,
            "justify_content": null,
            "justify_items": null,
            "left": null,
            "margin": null,
            "max_height": null,
            "max_width": null,
            "min_height": null,
            "min_width": null,
            "object_fit": null,
            "object_position": null,
            "order": null,
            "overflow": null,
            "overflow_x": null,
            "overflow_y": null,
            "padding": null,
            "right": null,
            "top": null,
            "visibility": null,
            "width": null
          }
        },
        "b5a140779d8b411a9b158c03a1b95367": {
          "model_module": "@jupyter-widgets/base",
          "model_module_version": "1.2.0",
          "model_name": "LayoutModel",
          "state": {
            "_model_module": "@jupyter-widgets/base",
            "_model_module_version": "1.2.0",
            "_model_name": "LayoutModel",
            "_view_count": null,
            "_view_module": "@jupyter-widgets/base",
            "_view_module_version": "1.2.0",
            "_view_name": "LayoutView",
            "align_content": null,
            "align_items": null,
            "align_self": null,
            "border": null,
            "bottom": null,
            "display": null,
            "flex": null,
            "flex_flow": null,
            "grid_area": null,
            "grid_auto_columns": null,
            "grid_auto_flow": null,
            "grid_auto_rows": null,
            "grid_column": null,
            "grid_gap": null,
            "grid_row": null,
            "grid_template_areas": null,
            "grid_template_columns": null,
            "grid_template_rows": null,
            "height": null,
            "justify_content": null,
            "justify_items": null,
            "left": null,
            "margin": null,
            "max_height": null,
            "max_width": null,
            "min_height": null,
            "min_width": null,
            "object_fit": null,
            "object_position": null,
            "order": null,
            "overflow": null,
            "overflow_x": null,
            "overflow_y": null,
            "padding": null,
            "right": null,
            "top": null,
            "visibility": null,
            "width": null
          }
        },
        "b5bceaac503642ba8b38c85b4c6838fa": {
          "model_module": "@jupyter-widgets/base",
          "model_module_version": "1.2.0",
          "model_name": "LayoutModel",
          "state": {
            "_model_module": "@jupyter-widgets/base",
            "_model_module_version": "1.2.0",
            "_model_name": "LayoutModel",
            "_view_count": null,
            "_view_module": "@jupyter-widgets/base",
            "_view_module_version": "1.2.0",
            "_view_name": "LayoutView",
            "align_content": null,
            "align_items": null,
            "align_self": null,
            "border": null,
            "bottom": null,
            "display": null,
            "flex": null,
            "flex_flow": null,
            "grid_area": null,
            "grid_auto_columns": null,
            "grid_auto_flow": null,
            "grid_auto_rows": null,
            "grid_column": null,
            "grid_gap": null,
            "grid_row": null,
            "grid_template_areas": null,
            "grid_template_columns": null,
            "grid_template_rows": null,
            "height": null,
            "justify_content": null,
            "justify_items": null,
            "left": null,
            "margin": null,
            "max_height": null,
            "max_width": null,
            "min_height": null,
            "min_width": null,
            "object_fit": null,
            "object_position": null,
            "order": null,
            "overflow": null,
            "overflow_x": null,
            "overflow_y": null,
            "padding": null,
            "right": null,
            "top": null,
            "visibility": null,
            "width": null
          }
        },
        "b64c92c7a14544e68aeda137e5404f49": {
          "model_module": "@jupyter-widgets/controls",
          "model_module_version": "1.5.0",
          "model_name": "DescriptionStyleModel",
          "state": {
            "_model_module": "@jupyter-widgets/controls",
            "_model_module_version": "1.5.0",
            "_model_name": "DescriptionStyleModel",
            "_view_count": null,
            "_view_module": "@jupyter-widgets/base",
            "_view_module_version": "1.2.0",
            "_view_name": "StyleView",
            "description_width": ""
          }
        },
        "bb75593a537e420894262b9f9c8ce541": {
          "model_module": "@jupyter-widgets/base",
          "model_module_version": "1.2.0",
          "model_name": "LayoutModel",
          "state": {
            "_model_module": "@jupyter-widgets/base",
            "_model_module_version": "1.2.0",
            "_model_name": "LayoutModel",
            "_view_count": null,
            "_view_module": "@jupyter-widgets/base",
            "_view_module_version": "1.2.0",
            "_view_name": "LayoutView",
            "align_content": null,
            "align_items": null,
            "align_self": null,
            "border": null,
            "bottom": null,
            "display": null,
            "flex": null,
            "flex_flow": null,
            "grid_area": null,
            "grid_auto_columns": null,
            "grid_auto_flow": null,
            "grid_auto_rows": null,
            "grid_column": null,
            "grid_gap": null,
            "grid_row": null,
            "grid_template_areas": null,
            "grid_template_columns": null,
            "grid_template_rows": null,
            "height": null,
            "justify_content": null,
            "justify_items": null,
            "left": null,
            "margin": null,
            "max_height": null,
            "max_width": null,
            "min_height": null,
            "min_width": null,
            "object_fit": null,
            "object_position": null,
            "order": null,
            "overflow": null,
            "overflow_x": null,
            "overflow_y": null,
            "padding": null,
            "right": null,
            "top": null,
            "visibility": null,
            "width": null
          }
        },
        "bb7cdbea429d416a9fa4223e2440ab36": {
          "model_module": "@jupyter-widgets/base",
          "model_module_version": "1.2.0",
          "model_name": "LayoutModel",
          "state": {
            "_model_module": "@jupyter-widgets/base",
            "_model_module_version": "1.2.0",
            "_model_name": "LayoutModel",
            "_view_count": null,
            "_view_module": "@jupyter-widgets/base",
            "_view_module_version": "1.2.0",
            "_view_name": "LayoutView",
            "align_content": null,
            "align_items": null,
            "align_self": null,
            "border": null,
            "bottom": null,
            "display": null,
            "flex": null,
            "flex_flow": null,
            "grid_area": null,
            "grid_auto_columns": null,
            "grid_auto_flow": null,
            "grid_auto_rows": null,
            "grid_column": null,
            "grid_gap": null,
            "grid_row": null,
            "grid_template_areas": null,
            "grid_template_columns": null,
            "grid_template_rows": null,
            "height": null,
            "justify_content": null,
            "justify_items": null,
            "left": null,
            "margin": null,
            "max_height": null,
            "max_width": null,
            "min_height": null,
            "min_width": null,
            "object_fit": null,
            "object_position": null,
            "order": null,
            "overflow": null,
            "overflow_x": null,
            "overflow_y": null,
            "padding": null,
            "right": null,
            "top": null,
            "visibility": null,
            "width": null
          }
        },
        "bdee09941acf44f0a3926481e3e1d55f": {
          "model_module": "@jupyter-widgets/controls",
          "model_module_version": "1.5.0",
          "model_name": "HTMLModel",
          "state": {
            "_dom_classes": [],
            "_model_module": "@jupyter-widgets/controls",
            "_model_module_version": "1.5.0",
            "_model_name": "HTMLModel",
            "_view_count": null,
            "_view_module": "@jupyter-widgets/controls",
            "_view_module_version": "1.5.0",
            "_view_name": "HTMLView",
            "description": "",
            "description_tooltip": null,
            "layout": "IPY_MODEL_84cd1a13f7fe43909412a8de7b711161",
            "placeholder": "​",
            "style": "IPY_MODEL_0a5b732e482f4280b3d102f30e73cb7a",
            "value": " 144/144 [00:09&lt;00:00, 12.09it/s]"
          }
        },
        "bef7116ff21d44b68be2bda996cce870": {
          "model_module": "@jupyter-widgets/controls",
          "model_module_version": "1.5.0",
          "model_name": "DescriptionStyleModel",
          "state": {
            "_model_module": "@jupyter-widgets/controls",
            "_model_module_version": "1.5.0",
            "_model_name": "DescriptionStyleModel",
            "_view_count": null,
            "_view_module": "@jupyter-widgets/base",
            "_view_module_version": "1.2.0",
            "_view_name": "StyleView",
            "description_width": ""
          }
        },
        "c0c1a8338ac94b0b8a4b727c008141b7": {
          "model_module": "@jupyter-widgets/controls",
          "model_module_version": "1.5.0",
          "model_name": "ProgressStyleModel",
          "state": {
            "_model_module": "@jupyter-widgets/controls",
            "_model_module_version": "1.5.0",
            "_model_name": "ProgressStyleModel",
            "_view_count": null,
            "_view_module": "@jupyter-widgets/base",
            "_view_module_version": "1.2.0",
            "_view_name": "StyleView",
            "bar_color": null,
            "description_width": ""
          }
        },
        "c134e67e40d248ec8c2d987fbfa219e9": {
          "model_module": "@jupyter-widgets/base",
          "model_module_version": "1.2.0",
          "model_name": "LayoutModel",
          "state": {
            "_model_module": "@jupyter-widgets/base",
            "_model_module_version": "1.2.0",
            "_model_name": "LayoutModel",
            "_view_count": null,
            "_view_module": "@jupyter-widgets/base",
            "_view_module_version": "1.2.0",
            "_view_name": "LayoutView",
            "align_content": null,
            "align_items": null,
            "align_self": null,
            "border": null,
            "bottom": null,
            "display": null,
            "flex": null,
            "flex_flow": null,
            "grid_area": null,
            "grid_auto_columns": null,
            "grid_auto_flow": null,
            "grid_auto_rows": null,
            "grid_column": null,
            "grid_gap": null,
            "grid_row": null,
            "grid_template_areas": null,
            "grid_template_columns": null,
            "grid_template_rows": null,
            "height": null,
            "justify_content": null,
            "justify_items": null,
            "left": null,
            "margin": null,
            "max_height": null,
            "max_width": null,
            "min_height": null,
            "min_width": null,
            "object_fit": null,
            "object_position": null,
            "order": null,
            "overflow": null,
            "overflow_x": null,
            "overflow_y": null,
            "padding": null,
            "right": null,
            "top": null,
            "visibility": null,
            "width": null
          }
        },
        "c2276a699aad4e55a4afd1d10514b93d": {
          "model_module": "@jupyter-widgets/controls",
          "model_module_version": "1.5.0",
          "model_name": "HTMLModel",
          "state": {
            "_dom_classes": [],
            "_model_module": "@jupyter-widgets/controls",
            "_model_module_version": "1.5.0",
            "_model_name": "HTMLModel",
            "_view_count": null,
            "_view_module": "@jupyter-widgets/controls",
            "_view_module_version": "1.5.0",
            "_view_name": "HTMLView",
            "description": "",
            "description_tooltip": null,
            "layout": "IPY_MODEL_0841e8f6552144ccab7ff4eec57dded7",
            "placeholder": "​",
            "style": "IPY_MODEL_79a6c0494b1c4d5daf57632248b1b634",
            "value": "Patching over &#x27;z&#x27;: 100%"
          }
        },
        "c3eb1d6790c842288d83825690eda395": {
          "model_module": "@jupyter-widgets/controls",
          "model_module_version": "1.5.0",
          "model_name": "HTMLModel",
          "state": {
            "_dom_classes": [],
            "_model_module": "@jupyter-widgets/controls",
            "_model_module_version": "1.5.0",
            "_model_name": "HTMLModel",
            "_view_count": null,
            "_view_module": "@jupyter-widgets/controls",
            "_view_module_version": "1.5.0",
            "_view_name": "HTMLView",
            "description": "",
            "description_tooltip": null,
            "layout": "IPY_MODEL_766aec918d3042759315ad53b2eb1c5f",
            "placeholder": "​",
            "style": "IPY_MODEL_7792862a1aaf44f7a34ec3f749f8242b",
            "value": " 144/144 [00:10&lt;00:00, 11.02it/s]"
          }
        },
        "cbc4a585781340259009d69875b15145": {
          "model_module": "@jupyter-widgets/controls",
          "model_module_version": "1.5.0",
          "model_name": "ProgressStyleModel",
          "state": {
            "_model_module": "@jupyter-widgets/controls",
            "_model_module_version": "1.5.0",
            "_model_name": "ProgressStyleModel",
            "_view_count": null,
            "_view_module": "@jupyter-widgets/base",
            "_view_module_version": "1.2.0",
            "_view_name": "StyleView",
            "bar_color": null,
            "description_width": ""
          }
        },
        "cbe02be33fe844c29de7230b0b8f5897": {
          "model_module": "@jupyter-widgets/base",
          "model_module_version": "1.2.0",
          "model_name": "LayoutModel",
          "state": {
            "_model_module": "@jupyter-widgets/base",
            "_model_module_version": "1.2.0",
            "_model_name": "LayoutModel",
            "_view_count": null,
            "_view_module": "@jupyter-widgets/base",
            "_view_module_version": "1.2.0",
            "_view_name": "LayoutView",
            "align_content": null,
            "align_items": null,
            "align_self": null,
            "border": null,
            "bottom": null,
            "display": null,
            "flex": null,
            "flex_flow": null,
            "grid_area": null,
            "grid_auto_columns": null,
            "grid_auto_flow": null,
            "grid_auto_rows": null,
            "grid_column": null,
            "grid_gap": null,
            "grid_row": null,
            "grid_template_areas": null,
            "grid_template_columns": null,
            "grid_template_rows": null,
            "height": null,
            "justify_content": null,
            "justify_items": null,
            "left": null,
            "margin": null,
            "max_height": null,
            "max_width": null,
            "min_height": null,
            "min_width": null,
            "object_fit": null,
            "object_position": null,
            "order": null,
            "overflow": null,
            "overflow_x": null,
            "overflow_y": null,
            "padding": null,
            "right": null,
            "top": null,
            "visibility": null,
            "width": null
          }
        },
        "d326065f16e7416ca87f0db499123734": {
          "model_module": "@jupyter-widgets/controls",
          "model_module_version": "1.5.0",
          "model_name": "DescriptionStyleModel",
          "state": {
            "_model_module": "@jupyter-widgets/controls",
            "_model_module_version": "1.5.0",
            "_model_name": "DescriptionStyleModel",
            "_view_count": null,
            "_view_module": "@jupyter-widgets/base",
            "_view_module_version": "1.2.0",
            "_view_name": "StyleView",
            "description_width": ""
          }
        },
        "d409b45a2e9843eb96daa3281c53977c": {
          "model_module": "@jupyter-widgets/controls",
          "model_module_version": "1.5.0",
          "model_name": "FloatProgressModel",
          "state": {
            "_dom_classes": [],
            "_model_module": "@jupyter-widgets/controls",
            "_model_module_version": "1.5.0",
            "_model_name": "FloatProgressModel",
            "_view_count": null,
            "_view_module": "@jupyter-widgets/controls",
            "_view_module_version": "1.5.0",
            "_view_name": "ProgressView",
            "bar_style": "success",
            "description": "",
            "description_tooltip": null,
            "layout": "IPY_MODEL_461e365e89f54207996307101f4457d1",
            "max": 540,
            "min": 0,
            "orientation": "horizontal",
            "style": "IPY_MODEL_78ea2155957145baa4f7bc183eaca7a3",
            "value": 540
          }
        },
        "d9deb950466c4de6bc29c5174806315f": {
          "model_module": "@jupyter-widgets/controls",
          "model_module_version": "1.5.0",
          "model_name": "DescriptionStyleModel",
          "state": {
            "_model_module": "@jupyter-widgets/controls",
            "_model_module_version": "1.5.0",
            "_model_name": "DescriptionStyleModel",
            "_view_count": null,
            "_view_module": "@jupyter-widgets/base",
            "_view_module_version": "1.2.0",
            "_view_name": "StyleView",
            "description_width": ""
          }
        },
        "dae6d2222b9b4b3e942b119eb7ef398b": {
          "model_module": "@jupyter-widgets/controls",
          "model_module_version": "1.5.0",
          "model_name": "HTMLModel",
          "state": {
            "_dom_classes": [],
            "_model_module": "@jupyter-widgets/controls",
            "_model_module_version": "1.5.0",
            "_model_name": "HTMLModel",
            "_view_count": null,
            "_view_module": "@jupyter-widgets/controls",
            "_view_module_version": "1.5.0",
            "_view_name": "HTMLView",
            "description": "",
            "description_tooltip": null,
            "layout": "IPY_MODEL_dbb253b1de0941fc99f796c9e66657b4",
            "placeholder": "​",
            "style": "IPY_MODEL_9bbf4c3941ea4f3aa46d45759f171896",
            "value": "Patching &#x27;z&#x27;: 100%"
          }
        },
        "db3c887718dd4180bdfda218be37850d": {
          "model_module": "@jupyter-widgets/controls",
          "model_module_version": "1.5.0",
          "model_name": "DescriptionStyleModel",
          "state": {
            "_model_module": "@jupyter-widgets/controls",
            "_model_module_version": "1.5.0",
            "_model_name": "DescriptionStyleModel",
            "_view_count": null,
            "_view_module": "@jupyter-widgets/base",
            "_view_module_version": "1.2.0",
            "_view_name": "StyleView",
            "description_width": ""
          }
        },
        "db5b34ad4d4a4375bb112a47040d2105": {
          "model_module": "@jupyter-widgets/controls",
          "model_module_version": "1.5.0",
          "model_name": "HBoxModel",
          "state": {
            "_dom_classes": [],
            "_model_module": "@jupyter-widgets/controls",
            "_model_module_version": "1.5.0",
            "_model_name": "HBoxModel",
            "_view_count": null,
            "_view_module": "@jupyter-widgets/controls",
            "_view_module_version": "1.5.0",
            "_view_name": "HBoxView",
            "box_style": "",
            "children": [
              "IPY_MODEL_c2276a699aad4e55a4afd1d10514b93d",
              "IPY_MODEL_fedab44e657346b9b55402f801b49715",
              "IPY_MODEL_8b31f764aeba40a8bd1b6ad88edf66ec"
            ],
            "layout": "IPY_MODEL_580c021acd394534935b4a92da7ccc53"
          }
        },
        "dbb253b1de0941fc99f796c9e66657b4": {
          "model_module": "@jupyter-widgets/base",
          "model_module_version": "1.2.0",
          "model_name": "LayoutModel",
          "state": {
            "_model_module": "@jupyter-widgets/base",
            "_model_module_version": "1.2.0",
            "_model_name": "LayoutModel",
            "_view_count": null,
            "_view_module": "@jupyter-widgets/base",
            "_view_module_version": "1.2.0",
            "_view_name": "LayoutView",
            "align_content": null,
            "align_items": null,
            "align_self": null,
            "border": null,
            "bottom": null,
            "display": null,
            "flex": null,
            "flex_flow": null,
            "grid_area": null,
            "grid_auto_columns": null,
            "grid_auto_flow": null,
            "grid_auto_rows": null,
            "grid_column": null,
            "grid_gap": null,
            "grid_row": null,
            "grid_template_areas": null,
            "grid_template_columns": null,
            "grid_template_rows": null,
            "height": null,
            "justify_content": null,
            "justify_items": null,
            "left": null,
            "margin": null,
            "max_height": null,
            "max_width": null,
            "min_height": null,
            "min_width": null,
            "object_fit": null,
            "object_position": null,
            "order": null,
            "overflow": null,
            "overflow_x": null,
            "overflow_y": null,
            "padding": null,
            "right": null,
            "top": null,
            "visibility": null,
            "width": null
          }
        },
        "dbf19f93de6447778275554d8a10c6a4": {
          "model_module": "@jupyter-widgets/controls",
          "model_module_version": "1.5.0",
          "model_name": "FloatProgressModel",
          "state": {
            "_dom_classes": [],
            "_model_module": "@jupyter-widgets/controls",
            "_model_module_version": "1.5.0",
            "_model_name": "FloatProgressModel",
            "_view_count": null,
            "_view_module": "@jupyter-widgets/controls",
            "_view_module_version": "1.5.0",
            "_view_name": "ProgressView",
            "bar_style": "success",
            "description": "",
            "description_tooltip": null,
            "layout": "IPY_MODEL_3858c70ef6a04416883c4886a9b64a70",
            "max": 144,
            "min": 0,
            "orientation": "horizontal",
            "style": "IPY_MODEL_c0c1a8338ac94b0b8a4b727c008141b7",
            "value": 144
          }
        },
        "dd53dfbdfb4a41439fcb42ecd17d9f4b": {
          "model_module": "@jupyter-widgets/controls",
          "model_module_version": "1.5.0",
          "model_name": "ProgressStyleModel",
          "state": {
            "_model_module": "@jupyter-widgets/controls",
            "_model_module_version": "1.5.0",
            "_model_name": "ProgressStyleModel",
            "_view_count": null,
            "_view_module": "@jupyter-widgets/base",
            "_view_module_version": "1.2.0",
            "_view_name": "StyleView",
            "bar_color": null,
            "description_width": ""
          }
        },
        "ddac92aaeedb43c9bea3f5077460ea22": {
          "model_module": "@jupyter-widgets/controls",
          "model_module_version": "1.5.0",
          "model_name": "DescriptionStyleModel",
          "state": {
            "_model_module": "@jupyter-widgets/controls",
            "_model_module_version": "1.5.0",
            "_model_name": "DescriptionStyleModel",
            "_view_count": null,
            "_view_module": "@jupyter-widgets/base",
            "_view_module_version": "1.2.0",
            "_view_name": "StyleView",
            "description_width": ""
          }
        },
        "df37a99910f04fe98e6ccb6536ae00b0": {
          "model_module": "@jupyter-widgets/base",
          "model_module_version": "1.2.0",
          "model_name": "LayoutModel",
          "state": {
            "_model_module": "@jupyter-widgets/base",
            "_model_module_version": "1.2.0",
            "_model_name": "LayoutModel",
            "_view_count": null,
            "_view_module": "@jupyter-widgets/base",
            "_view_module_version": "1.2.0",
            "_view_name": "LayoutView",
            "align_content": null,
            "align_items": null,
            "align_self": null,
            "border": null,
            "bottom": null,
            "display": null,
            "flex": null,
            "flex_flow": null,
            "grid_area": null,
            "grid_auto_columns": null,
            "grid_auto_flow": null,
            "grid_auto_rows": null,
            "grid_column": null,
            "grid_gap": null,
            "grid_row": null,
            "grid_template_areas": null,
            "grid_template_columns": null,
            "grid_template_rows": null,
            "height": null,
            "justify_content": null,
            "justify_items": null,
            "left": null,
            "margin": null,
            "max_height": null,
            "max_width": null,
            "min_height": null,
            "min_width": null,
            "object_fit": null,
            "object_position": null,
            "order": null,
            "overflow": null,
            "overflow_x": null,
            "overflow_y": null,
            "padding": null,
            "right": null,
            "top": null,
            "visibility": null,
            "width": null
          }
        },
        "e0688c52dca74465bd1d3537546c8720": {
          "model_module": "@jupyter-widgets/controls",
          "model_module_version": "1.5.0",
          "model_name": "FloatProgressModel",
          "state": {
            "_dom_classes": [],
            "_model_module": "@jupyter-widgets/controls",
            "_model_module_version": "1.5.0",
            "_model_name": "FloatProgressModel",
            "_view_count": null,
            "_view_module": "@jupyter-widgets/controls",
            "_view_module_version": "1.5.0",
            "_view_name": "ProgressView",
            "bar_style": "success",
            "description": "",
            "description_tooltip": null,
            "layout": "IPY_MODEL_cbe02be33fe844c29de7230b0b8f5897",
            "max": 720,
            "min": 0,
            "orientation": "horizontal",
            "style": "IPY_MODEL_a86f8bd6149b4eada8119bcc02b78c26",
            "value": 720
          }
        },
        "e30e401fb2394c13ad72184670152e5b": {
          "model_module": "@jupyter-widgets/controls",
          "model_module_version": "1.5.0",
          "model_name": "FloatProgressModel",
          "state": {
            "_dom_classes": [],
            "_model_module": "@jupyter-widgets/controls",
            "_model_module_version": "1.5.0",
            "_model_name": "FloatProgressModel",
            "_view_count": null,
            "_view_module": "@jupyter-widgets/controls",
            "_view_module_version": "1.5.0",
            "_view_name": "ProgressView",
            "bar_style": "success",
            "description": "",
            "description_tooltip": null,
            "layout": "IPY_MODEL_ee4f241ff11a487bbaafa307a0a6c9f9",
            "max": 36,
            "min": 0,
            "orientation": "horizontal",
            "style": "IPY_MODEL_8d22a25683924c45a82527d015e2ce4b",
            "value": 36
          }
        },
        "e433f2a4aa9341ca90f9880e692bb997": {
          "model_module": "@jupyter-widgets/base",
          "model_module_version": "1.2.0",
          "model_name": "LayoutModel",
          "state": {
            "_model_module": "@jupyter-widgets/base",
            "_model_module_version": "1.2.0",
            "_model_name": "LayoutModel",
            "_view_count": null,
            "_view_module": "@jupyter-widgets/base",
            "_view_module_version": "1.2.0",
            "_view_name": "LayoutView",
            "align_content": null,
            "align_items": null,
            "align_self": null,
            "border": null,
            "bottom": null,
            "display": null,
            "flex": null,
            "flex_flow": null,
            "grid_area": null,
            "grid_auto_columns": null,
            "grid_auto_flow": null,
            "grid_auto_rows": null,
            "grid_column": null,
            "grid_gap": null,
            "grid_row": null,
            "grid_template_areas": null,
            "grid_template_columns": null,
            "grid_template_rows": null,
            "height": null,
            "justify_content": null,
            "justify_items": null,
            "left": null,
            "margin": null,
            "max_height": null,
            "max_width": null,
            "min_height": null,
            "min_width": null,
            "object_fit": null,
            "object_position": null,
            "order": null,
            "overflow": null,
            "overflow_x": null,
            "overflow_y": null,
            "padding": null,
            "right": null,
            "top": null,
            "visibility": null,
            "width": null
          }
        },
        "e46ea91d689b44879376f6390818f289": {
          "model_module": "@jupyter-widgets/controls",
          "model_module_version": "1.5.0",
          "model_name": "HTMLModel",
          "state": {
            "_dom_classes": [],
            "_model_module": "@jupyter-widgets/controls",
            "_model_module_version": "1.5.0",
            "_model_name": "HTMLModel",
            "_view_count": null,
            "_view_module": "@jupyter-widgets/controls",
            "_view_module_version": "1.5.0",
            "_view_name": "HTMLView",
            "description": "",
            "description_tooltip": null,
            "layout": "IPY_MODEL_3df5280d19034d0d91f053ac86190ade",
            "placeholder": "​",
            "style": "IPY_MODEL_ef2fcfda8ae6416593bf91c8cc81cb27",
            "value": "Patching &#x27;pattern&#x27;: 100%"
          }
        },
        "e4f5558313954aa3b6e70f12b0c7a351": {
          "model_module": "@jupyter-widgets/controls",
          "model_module_version": "1.5.0",
          "model_name": "HBoxModel",
          "state": {
            "_dom_classes": [],
            "_model_module": "@jupyter-widgets/controls",
            "_model_module_version": "1.5.0",
            "_model_name": "HBoxModel",
            "_view_count": null,
            "_view_module": "@jupyter-widgets/controls",
            "_view_module_version": "1.5.0",
            "_view_name": "HBoxView",
            "box_style": "",
            "children": [
              "IPY_MODEL_dae6d2222b9b4b3e942b119eb7ef398b",
              "IPY_MODEL_8aed62303fa741d98df012b7002b36ca",
              "IPY_MODEL_72530a6a8c4541738e3edd7b89c7653d"
            ],
            "layout": "IPY_MODEL_a7e4690340ad4087ad78cac4926ae61d"
          }
        },
        "ea8dd0b6f55443b68d208bb05bf1bd73": {
          "model_module": "@jupyter-widgets/base",
          "model_module_version": "1.2.0",
          "model_name": "LayoutModel",
          "state": {
            "_model_module": "@jupyter-widgets/base",
            "_model_module_version": "1.2.0",
            "_model_name": "LayoutModel",
            "_view_count": null,
            "_view_module": "@jupyter-widgets/base",
            "_view_module_version": "1.2.0",
            "_view_name": "LayoutView",
            "align_content": null,
            "align_items": null,
            "align_self": null,
            "border": null,
            "bottom": null,
            "display": null,
            "flex": null,
            "flex_flow": null,
            "grid_area": null,
            "grid_auto_columns": null,
            "grid_auto_flow": null,
            "grid_auto_rows": null,
            "grid_column": null,
            "grid_gap": null,
            "grid_row": null,
            "grid_template_areas": null,
            "grid_template_columns": null,
            "grid_template_rows": null,
            "height": null,
            "justify_content": null,
            "justify_items": null,
            "left": null,
            "margin": null,
            "max_height": null,
            "max_width": null,
            "min_height": null,
            "min_width": null,
            "object_fit": null,
            "object_position": null,
            "order": null,
            "overflow": null,
            "overflow_x": null,
            "overflow_y": null,
            "padding": null,
            "right": null,
            "top": null,
            "visibility": null,
            "width": null
          }
        },
        "ec91d817b3fa4a6cbc37ec3ed9bd3955": {
          "model_module": "@jupyter-widgets/controls",
          "model_module_version": "1.5.0",
          "model_name": "FloatProgressModel",
          "state": {
            "_dom_classes": [],
            "_model_module": "@jupyter-widgets/controls",
            "_model_module_version": "1.5.0",
            "_model_name": "FloatProgressModel",
            "_view_count": null,
            "_view_module": "@jupyter-widgets/controls",
            "_view_module_version": "1.5.0",
            "_view_name": "ProgressView",
            "bar_style": "success",
            "description": "",
            "description_tooltip": null,
            "layout": "IPY_MODEL_2fde45f5382442b5a7b27ed397bdc40d",
            "max": 144,
            "min": 0,
            "orientation": "horizontal",
            "style": "IPY_MODEL_022628fdc87143eaa91a05aae060e492",
            "value": 144
          }
        },
        "edf856eda46a4ef9b3aa9e69aa2cf1b1": {
          "model_module": "@jupyter-widgets/controls",
          "model_module_version": "1.5.0",
          "model_name": "HTMLModel",
          "state": {
            "_dom_classes": [],
            "_model_module": "@jupyter-widgets/controls",
            "_model_module_version": "1.5.0",
            "_model_name": "HTMLModel",
            "_view_count": null,
            "_view_module": "@jupyter-widgets/controls",
            "_view_module_version": "1.5.0",
            "_view_name": "HTMLView",
            "description": "",
            "description_tooltip": null,
            "layout": "IPY_MODEL_94278a68d8ee4f9c809bc92eafad8300",
            "placeholder": "​",
            "style": "IPY_MODEL_b0e0f182c35b44ffb246a7046991443f",
            "value": "Patching over &#x27;z&#x27;: 100%"
          }
        },
        "ee4f241ff11a487bbaafa307a0a6c9f9": {
          "model_module": "@jupyter-widgets/base",
          "model_module_version": "1.2.0",
          "model_name": "LayoutModel",
          "state": {
            "_model_module": "@jupyter-widgets/base",
            "_model_module_version": "1.2.0",
            "_model_name": "LayoutModel",
            "_view_count": null,
            "_view_module": "@jupyter-widgets/base",
            "_view_module_version": "1.2.0",
            "_view_name": "LayoutView",
            "align_content": null,
            "align_items": null,
            "align_self": null,
            "border": null,
            "bottom": null,
            "display": null,
            "flex": null,
            "flex_flow": null,
            "grid_area": null,
            "grid_auto_columns": null,
            "grid_auto_flow": null,
            "grid_auto_rows": null,
            "grid_column": null,
            "grid_gap": null,
            "grid_row": null,
            "grid_template_areas": null,
            "grid_template_columns": null,
            "grid_template_rows": null,
            "height": null,
            "justify_content": null,
            "justify_items": null,
            "left": null,
            "margin": null,
            "max_height": null,
            "max_width": null,
            "min_height": null,
            "min_width": null,
            "object_fit": null,
            "object_position": null,
            "order": null,
            "overflow": null,
            "overflow_x": null,
            "overflow_y": null,
            "padding": null,
            "right": null,
            "top": null,
            "visibility": null,
            "width": null
          }
        },
        "ef2fcfda8ae6416593bf91c8cc81cb27": {
          "model_module": "@jupyter-widgets/controls",
          "model_module_version": "1.5.0",
          "model_name": "DescriptionStyleModel",
          "state": {
            "_model_module": "@jupyter-widgets/controls",
            "_model_module_version": "1.5.0",
            "_model_name": "DescriptionStyleModel",
            "_view_count": null,
            "_view_module": "@jupyter-widgets/base",
            "_view_module_version": "1.2.0",
            "_view_name": "StyleView",
            "description_width": ""
          }
        },
        "f59bd971cba04ff1b81bab30c2c88279": {
          "model_module": "@jupyter-widgets/controls",
          "model_module_version": "1.5.0",
          "model_name": "ProgressStyleModel",
          "state": {
            "_model_module": "@jupyter-widgets/controls",
            "_model_module_version": "1.5.0",
            "_model_name": "ProgressStyleModel",
            "_view_count": null,
            "_view_module": "@jupyter-widgets/base",
            "_view_module_version": "1.2.0",
            "_view_name": "StyleView",
            "bar_color": null,
            "description_width": ""
          }
        },
        "f5eced9a22b84ba9825a945d0ed94014": {
          "model_module": "@jupyter-widgets/controls",
          "model_module_version": "1.5.0",
          "model_name": "ProgressStyleModel",
          "state": {
            "_model_module": "@jupyter-widgets/controls",
            "_model_module_version": "1.5.0",
            "_model_name": "ProgressStyleModel",
            "_view_count": null,
            "_view_module": "@jupyter-widgets/base",
            "_view_module_version": "1.2.0",
            "_view_name": "StyleView",
            "bar_color": null,
            "description_width": ""
          }
        },
        "f6aa3e1ef6dc428f8119e020285823ad": {
          "model_module": "@jupyter-widgets/controls",
          "model_module_version": "1.5.0",
          "model_name": "DescriptionStyleModel",
          "state": {
            "_model_module": "@jupyter-widgets/controls",
            "_model_module_version": "1.5.0",
            "_model_name": "DescriptionStyleModel",
            "_view_count": null,
            "_view_module": "@jupyter-widgets/base",
            "_view_module_version": "1.2.0",
            "_view_name": "StyleView",
            "description_width": ""
          }
        },
        "f80f3e4fcce64b2891a1de5e5affaf63": {
          "model_module": "@jupyter-widgets/base",
          "model_module_version": "1.2.0",
          "model_name": "LayoutModel",
          "state": {
            "_model_module": "@jupyter-widgets/base",
            "_model_module_version": "1.2.0",
            "_model_name": "LayoutModel",
            "_view_count": null,
            "_view_module": "@jupyter-widgets/base",
            "_view_module_version": "1.2.0",
            "_view_name": "LayoutView",
            "align_content": null,
            "align_items": null,
            "align_self": null,
            "border": null,
            "bottom": null,
            "display": null,
            "flex": null,
            "flex_flow": null,
            "grid_area": null,
            "grid_auto_columns": null,
            "grid_auto_flow": null,
            "grid_auto_rows": null,
            "grid_column": null,
            "grid_gap": null,
            "grid_row": null,
            "grid_template_areas": null,
            "grid_template_columns": null,
            "grid_template_rows": null,
            "height": null,
            "justify_content": null,
            "justify_items": null,
            "left": null,
            "margin": null,
            "max_height": null,
            "max_width": null,
            "min_height": null,
            "min_width": null,
            "object_fit": null,
            "object_position": null,
            "order": null,
            "overflow": null,
            "overflow_x": null,
            "overflow_y": null,
            "padding": null,
            "right": null,
            "top": null,
            "visibility": null,
            "width": null
          }
        },
        "f8ca06aa85bf4a3297ee7629cd99e3f5": {
          "model_module": "@jupyter-widgets/base",
          "model_module_version": "1.2.0",
          "model_name": "LayoutModel",
          "state": {
            "_model_module": "@jupyter-widgets/base",
            "_model_module_version": "1.2.0",
            "_model_name": "LayoutModel",
            "_view_count": null,
            "_view_module": "@jupyter-widgets/base",
            "_view_module_version": "1.2.0",
            "_view_name": "LayoutView",
            "align_content": null,
            "align_items": null,
            "align_self": null,
            "border": null,
            "bottom": null,
            "display": null,
            "flex": null,
            "flex_flow": null,
            "grid_area": null,
            "grid_auto_columns": null,
            "grid_auto_flow": null,
            "grid_auto_rows": null,
            "grid_column": null,
            "grid_gap": null,
            "grid_row": null,
            "grid_template_areas": null,
            "grid_template_columns": null,
            "grid_template_rows": null,
            "height": null,
            "justify_content": null,
            "justify_items": null,
            "left": null,
            "margin": null,
            "max_height": null,
            "max_width": null,
            "min_height": null,
            "min_width": null,
            "object_fit": null,
            "object_position": null,
            "order": null,
            "overflow": null,
            "overflow_x": null,
            "overflow_y": null,
            "padding": null,
            "right": null,
            "top": null,
            "visibility": null,
            "width": null
          }
        },
        "fac3a78ded734d55924e8093cf021d33": {
          "model_module": "@jupyter-widgets/base",
          "model_module_version": "1.2.0",
          "model_name": "LayoutModel",
          "state": {
            "_model_module": "@jupyter-widgets/base",
            "_model_module_version": "1.2.0",
            "_model_name": "LayoutModel",
            "_view_count": null,
            "_view_module": "@jupyter-widgets/base",
            "_view_module_version": "1.2.0",
            "_view_name": "LayoutView",
            "align_content": null,
            "align_items": null,
            "align_self": null,
            "border": null,
            "bottom": null,
            "display": null,
            "flex": null,
            "flex_flow": null,
            "grid_area": null,
            "grid_auto_columns": null,
            "grid_auto_flow": null,
            "grid_auto_rows": null,
            "grid_column": null,
            "grid_gap": null,
            "grid_row": null,
            "grid_template_areas": null,
            "grid_template_columns": null,
            "grid_template_rows": null,
            "height": null,
            "justify_content": null,
            "justify_items": null,
            "left": null,
            "margin": null,
            "max_height": null,
            "max_width": null,
            "min_height": null,
            "min_width": null,
            "object_fit": null,
            "object_position": null,
            "order": null,
            "overflow": null,
            "overflow_x": null,
            "overflow_y": null,
            "padding": null,
            "right": null,
            "top": null,
            "visibility": null,
            "width": null
          }
        },
        "fcb776d38fe143ce8ad5e46264cd96a8": {
          "model_module": "@jupyter-widgets/controls",
          "model_module_version": "1.5.0",
          "model_name": "HTMLModel",
          "state": {
            "_dom_classes": [],
            "_model_module": "@jupyter-widgets/controls",
            "_model_module_version": "1.5.0",
            "_model_name": "HTMLModel",
            "_view_count": null,
            "_view_module": "@jupyter-widgets/controls",
            "_view_module_version": "1.5.0",
            "_view_name": "HTMLView",
            "description": "",
            "description_tooltip": null,
            "layout": "IPY_MODEL_55d69b4abd9146a8945fe5638fbeb15f",
            "placeholder": "​",
            "style": "IPY_MODEL_9c571b44a531453e9f332d082cfb4f6f",
            "value": "Patching over &#x27;mlp_out&#x27;: 100%"
          }
        },
        "fedab44e657346b9b55402f801b49715": {
          "model_module": "@jupyter-widgets/controls",
          "model_module_version": "1.5.0",
          "model_name": "FloatProgressModel",
          "state": {
            "_dom_classes": [],
            "_model_module": "@jupyter-widgets/controls",
            "_model_module_version": "1.5.0",
            "_model_name": "FloatProgressModel",
            "_view_count": null,
            "_view_module": "@jupyter-widgets/controls",
            "_view_module_version": "1.5.0",
            "_view_name": "ProgressView",
            "bar_style": "success",
            "description": "",
            "description_tooltip": null,
            "layout": "IPY_MODEL_20efddf1bf2e453a91d11050d8f07cf4",
            "max": 144,
            "min": 0,
            "orientation": "horizontal",
            "style": "IPY_MODEL_0d586b07a2864625ae2a5c447d4f1535",
            "value": 144
          }
        },
        "ffeca5dd01754c42bd98b0fd4f15736e": {
          "model_module": "@jupyter-widgets/controls",
          "model_module_version": "1.5.0",
          "model_name": "HTMLModel",
          "state": {
            "_dom_classes": [],
            "_model_module": "@jupyter-widgets/controls",
            "_model_module_version": "1.5.0",
            "_model_name": "HTMLModel",
            "_view_count": null,
            "_view_module": "@jupyter-widgets/controls",
            "_view_module_version": "1.5.0",
            "_view_name": "HTMLView",
            "description": "",
            "description_tooltip": null,
            "layout": "IPY_MODEL_bb75593a537e420894262b9f9c8ce541",
            "placeholder": "​",
            "style": "IPY_MODEL_45eabc1baf994a9b9d862ce8154bbe7c",
            "value": " 540/540 [00:16&lt;00:00, 36.95it/s]"
          }
        }
      }
    }
  },
  "nbformat": 4,
  "nbformat_minor": 0
}
