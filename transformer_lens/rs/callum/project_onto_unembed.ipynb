{
 "cells": [
  {
   "attachments": {},
   "cell_type": "markdown",
   "metadata": {},
   "source": [
    "# Setup"
   ]
  },
  {
   "cell_type": "code",
   "execution_count": 1,
   "metadata": {},
   "outputs": [],
   "source": [
    "from transformer_lens.cautils.notebook import *\n",
    "\n",
    "from transformer_lens.rs.callum.keys_fixed import (\n",
    "    project,\n",
    "    get_effective_embedding_2,\n",
    ")\n",
    "\n",
    "from transformer_lens.rs.callum.orthogonal_query_investigation import (\n",
    "    decompose_attn_scores_full,\n",
    "    create_fucking_massive_plot_1,\n",
    "    create_fucking_massive_plot_2,\n",
    "    token_to_qperp_projection\n",
    ")\n",
    "\n",
    "clear_output()"
   ]
  },
  {
   "cell_type": "code",
   "execution_count": 2,
   "metadata": {},
   "outputs": [],
   "source": [
    "model = HookedTransformer.from_pretrained(\n",
    "    \"gpt2-small\",\n",
    "    center_unembed=True,\n",
    "    center_writing_weights=True,\n",
    "    fold_ln=True,\n",
    "    # refactor_factored_attn_matrices=True,\n",
    ")\n",
    "model.set_use_split_qkv_input(False)\n",
    "model.set_use_attn_result(True)\n",
    "# model.set_use_split_qkv_normalized_input(False)\n",
    "# model.cfg.use_hook_tokens = True\n",
    "# model.use_hook_\n",
    "\n",
    "clear_output()\n",
    "\n",
    "# sudo pkill -9 python"
   ]
  },
  {
   "cell_type": "code",
   "execution_count": 3,
   "metadata": {},
   "outputs": [],
   "source": [
    "effective_embeddings = get_effective_embedding_2(model)\n",
    "\n",
    "W_EE = effective_embeddings['W_E (including MLPs)']\n",
    "W_EE0 = effective_embeddings['W_E (only MLPs)']\n",
    "W_E = model.W_E\n",
    "W_EE0A = W_EE - W_E\n",
    "\n",
    "# Define an easier-to-use dict!\n",
    "effective_embeddings = {\"W_EE\": W_EE, \"W_EE0\": W_EE0, \"W_E\": W_E, \"W_EE0A\": W_EE - W_E}"
   ]
  },
  {
   "attachments": {},
   "cell_type": "markdown",
   "metadata": {},
   "source": [
    "# Part 1\n",
    "\n",
    "I want to calculate, for a given head and a given input, the weighted average amount that this head suppresses the logits of tokens that it attends to (if you just take the component of its output in the unembedding direction of the token it attends to).\n",
    "\n",
    "I do this by the following method:\n",
    "\n",
    "* After `v` is calculated, I calculate `result_pre_attn`, which is actually the thing you get by applying `W_O` first, i.e. before taking a weighted average of `z` in accordance with the attention probabilities. In other words, `result_pre_attn` has shape `(batch, seqK, d_model)`, and it contains the vectors which will get moved from the source position `seqK` to the destination positions if it's paid 100% attention to.\n",
    "    * I then calculate `result_pre_attn_projected`, by projecting `result_pre_attn` onto the unembedding directions for that particular source token. This still has shape `(batch, seqK, d_model)`.\n",
    "* At the attention patterns, I cache them in the result hook.\n",
    "* At the results, I get `result_post_attn_projected`, which has shape `(batch, seqQ, d_model)`, which are the actual (projections of) vectors that will be added to the residual stream at the destination positions `seqQ`.\n",
    "* At the scale, I can scale these `result_post_attn_projected` vectors, and then convert them into logits, and calculate a weighted average of how much they suppress the logits of the tokens attended to (i.e. sumproduct of `amount_seqK_token_suppressed_at_seqQ * attn_from_seqQ_to_seqK`)."
   ]
  },
  {
   "cell_type": "code",
   "execution_count": 43,
   "metadata": {},
   "outputs": [],
   "source": [
    "def hook_fn_cache_v(\n",
    "    v: Float[Tensor, \"batch seq n_heads d_head\"],\n",
    "    hook: HookPoint,\n",
    "    model: HookedTransformer,\n",
    "    head_idx: int,\n",
    "):\n",
    "    result_hook = model.hook_dict[utils.get_act_name(\"result\", hook.layer())]\n",
    "    result_hook.ctx[\"v\"] = v[:, :, head_idx]\n",
    "\n",
    "\n",
    "\n",
    "def hook_fn_cache_attn(\n",
    "    pattern: Float[Tensor, \"batch n_heads seqQ seqK\"],\n",
    "    hook: HookPoint,\n",
    "    model: HookedTransformer,\n",
    "    head_idx: int,\n",
    "):\n",
    "    result_hook = model.hook_dict[utils.get_act_name(\"result\", hook.layer())]\n",
    "    result_hook.ctx[\"pattern\"] = pattern[:, head_idx]\n",
    "\n",
    "\n",
    "\n",
    "def hook_fn_at_result(\n",
    "    result: Float[Tensor, \"batch seq n_heads d_head\"],\n",
    "    hook: HookPoint,\n",
    "    toks: Int[Tensor, \"batch seq\"],\n",
    "    model: HookedTransformer,\n",
    "    head_idx: int,\n",
    "    only_use_neg_projections: bool,\n",
    "    return_new_loss: bool,\n",
    "):\n",
    "    '''\n",
    "    If `return_new_loss` is True, then we want to compute the projected result (using cached v and pattern), so we can eventually\n",
    "    calculate change in logits, and then calculate change in loss. So we store result_diff in the cache.\n",
    "\n",
    "    If `return_new_loss` is False, then we don't need to project results in the unembedding direction - we just need the coeffs of\n",
    "    that projection. So we store the coeffs in the cache. Note that we can't finish here, because we'll need to apply ln_scale when \n",
    "    we compute it.\n",
    "    '''\n",
    "    v = hook.ctx.pop(\"v\")\n",
    "    \n",
    "    unembeddings = model.W_U.T[toks]\n",
    "    result_pre_attn = einops.einsum(\n",
    "        v, model.W_O[hook.layer(), head_idx],\n",
    "        \"batch seqK d_head, d_head d_model -> batch seqK d_model\"\n",
    "    )\n",
    "\n",
    "    if return_new_loss:\n",
    "        pattern = hook.ctx.pop(\"pattern\")\n",
    "        result_pre_attn_projected, result_pre_attn_perp, unembedding_coeffs = project(result_pre_attn, unembeddings, return_type=\"both\")\n",
    "        if only_use_neg_projections: \n",
    "            result_pre_attn_projected *= (unembedding_coeffs < 0).float()\n",
    "        result_post_attn_projected = einops.einsum(\n",
    "            result_pre_attn_projected, pattern,\n",
    "            \"batch seqK d_model, batch seqQ seqK -> batch seqQ d_model\"\n",
    "        )\n",
    "        hook.ctx[\"result_orig\"] = result[:, :, head_idx]\n",
    "        hook.ctx[\"result_new\"] = result_post_attn_projected\n",
    "    \n",
    "    else:\n",
    "        # Figure out the direct effect the result vector at each source token has on the corresponding source logit\n",
    "        unembedding_coeffs = einops.einsum(result_pre_attn, unembeddings, \"batch seqK d_model, batch seqK d_model -> batch seqK\")\n",
    "        # unembedding_coeffs = project(result_pre_attn, unembeddings, return_type=\"coeffs\")\n",
    "        # unembedding_coeffs = t.cosine_similarity(result_pre_attn, unembeddings, dim=-1)\n",
    "        if only_use_neg_projections: \n",
    "            unembedding_coeffs *= (unembedding_coeffs < 0).float()\n",
    "        unembedding_coeffs = unembedding_coeffs.squeeze()\n",
    "        assert unembedding_coeffs.shape == toks.shape\n",
    "        hook.ctx[\"unembedding_coeffs\"] = unembedding_coeffs\n",
    "\n",
    "\n",
    "def hook_fn_at_scale(\n",
    "    ln_scale: Float[Tensor, \"batch seq 1\"],\n",
    "    hook: HookPoint,\n",
    "    toks: Int[Tensor, \"batch seq\"],\n",
    "    layer: int,\n",
    "    model: HookedTransformer,\n",
    "):\n",
    "    '''\n",
    "    This function only gets used when `return_new_loss` is False. In this case, we just want to calculate the projection of the result vectors\n",
    "    at each key position onto each unembedding.\n",
    "    '''\n",
    "    result_hook = model.hook_dict[utils.get_act_name(\"result\", layer)]\n",
    "    batch, seq_len = toks.shape\n",
    "\n",
    "    if \"result_orig\" in result_hook.ctx:\n",
    "        result_orig = result_hook.ctx.pop(\"result_orig\") / ln_scale\n",
    "        result_new = result_hook.ctx.pop(\"result_new\") / ln_scale\n",
    "        logit_change_for_projection = einops.einsum(result_new - result_orig, model.W_U, \"batch seqQ d_model, d_model d_vocab -> batch seqQ d_vocab\")\n",
    "        logit_change_for_ablation = einops.einsum(- result_orig, model.W_U, \"batch seqQ d_model, d_model d_vocab -> batch seqQ d_vocab\")\n",
    "        result_hook.ctx[\"logit_change_for_proj\"] = logit_change_for_projection\n",
    "        result_hook.ctx[\"logit_change_for_perp\"] = logit_change_for_ablation - logit_change_for_projection\n",
    "        result_hook.ctx[\"logit_change_for_ablation\"] = logit_change_for_ablation\n",
    "\n",
    "    else:\n",
    "        # * Total amount that vectors moving from `src` to `dest` (neither being BOS or same) pushes down logits for `src`,\n",
    "        # * divided by the total probability mass of such movements\n",
    "\n",
    "        unembedding_coeffs = result_hook.ctx.pop(\"unembedding_coeffs\")\n",
    "        pattern = result_hook.ctx.pop(\"pattern\")\n",
    "\n",
    "        # Create a mask of shape (batch, seqQ, seqK) where seqQ and seqK are not BOS, and seqQ != seqK (i.e. token isn't self-attending)\n",
    "        # because these aren't as interesting, and are unlikely to be copy suppression anyway (word coming straight after itself!)\n",
    "        is_not_bos_2d_mask = (toks != model.tokenizer.bos_token_id).float()\n",
    "        is_not_bos_3d_mask = einops.einsum(is_not_bos_2d_mask, is_not_bos_2d_mask, \"batch seqQ, batch seqK -> batch seqQ seqK\")\n",
    "        is_not_self_3d_mask = 1.0 - einops.repeat(t.eye(seq_len).to(device), \"seqQ seqK -> batch seqQ seqK\", batch=batch).float()\n",
    "        full_mask = is_not_bos_3d_mask #* is_not_self_3d_mask\n",
    "        # We then get the sum of probabilities paid to non-self and non-BOS tokens for each dest token (and then the sum of these for all sequences)\n",
    "        non_bos_attn = pattern * full_mask\n",
    "        non_bos_attn_per_dest = einops.reduce(non_bos_attn, \"batch seqQ seqK -> batch seqQ\", \"sum\")\n",
    "        non_bos_attn_per_src = einops.reduce(non_bos_attn, \"batch seqQ seqK -> batch seqK\", \"sum\")\n",
    "        non_bos_attn_per_seq = einops.reduce(non_bos_attn_per_dest, \"batch seqQ -> batch\", \"sum\")\n",
    "\n",
    "        unembedding_coeffs_per_src_and_dest = einops.einsum(\n",
    "            unembedding_coeffs, non_bos_attn,\n",
    "            \"batch seqK, batch seqQ seqK -> batch seqQ seqK\"\n",
    "        ) / ln_scale\n",
    "\n",
    "        unembedding_coeffs_per_src = einops.einsum(\n",
    "            unembedding_coeffs_per_src_and_dest,\n",
    "            \"batch seqQ seqK -> batch seqK\",\n",
    "        )\n",
    "\n",
    "        unembedding_coeffs_weighted_avg_by_attn_to_src = einops.einsum(\n",
    "            unembedding_coeffs_per_src, non_bos_attn_per_src,\n",
    "            \"batch seqK, batch seqK -> batch\"\n",
    "        ) / non_bos_attn_per_src.sum(dim=-1)\n",
    "\n",
    "        hook.ctx[\"unembedding_coeffs\"] = {\n",
    "            \"per_position\": unembedding_coeffs_per_src,\n",
    "            \"per_sequence\": unembedding_coeffs_weighted_avg_by_attn_to_src,\n",
    "        }\n",
    "        return\n",
    "\n",
    "        # Finally, we can calculate the weighted average of the unembedding coeffs for each dest token, weighted by the attention paid to non-self and non-BOS tokens\n",
    "        # Note, we don't renormalize individual dest positions if they don't attend much to nn-self, non-BOS tokens - this just means we don't care about that token as much!\n",
    "        \n",
    "        # weighted_attn = full_mask * pattern * (full_mask.sum() / (full_mask * pattern).sum())\n",
    "        unembedding_coeffs_scaled_weighted_avg_per_dest = einops.reduce(\n",
    "            unembedding_coeffs_per_src_and_dest * non_bos_attn,\n",
    "            \"batch seqQ seqK -> batch seqQ\", \"sum\"\n",
    "        ) # / (non_bos_attn_per_dest + 1e-8)\n",
    "        unembedding_coeffs_scaled_weighted_avg_per_seq = einops.reduce(\n",
    "            unembedding_coeffs_per_src_and_dest * non_bos_attn,\n",
    "            \"batch seqQ seqK -> batch\", \"sum\"\n",
    "        ) / non_bos_attn_per_seq\n",
    "\n",
    "        hook.ctx[\"unembedding_coeffs\"] = {\n",
    "            \"per_position\": unembedding_coeffs_scaled_weighted_avg_per_dest,\n",
    "            \"per_sequence\": unembedding_coeffs_scaled_weighted_avg_per_seq,\n",
    "            \"pattern_non_bos\": non_bos_attn_per_dest\n",
    "        }\n",
    "\n",
    "\n",
    "\n",
    "def compute_weighted_avg_logit_suppression(\n",
    "    model: HookedTransformer,\n",
    "    toks: Int[Tensor, \"batch seq\"],\n",
    "    head: Tuple[int, int],\n",
    "    only_use_neg_projections: bool = False,\n",
    "    return_new_loss = False,\n",
    "):\n",
    "    layer, head_idx = head\n",
    "\n",
    "    model.reset_hooks(including_permanent=True)\n",
    "    model.clear_contexts()\n",
    "\n",
    "    scale_hook = model.hook_dict[utils.get_act_name(\"scale\")]\n",
    "    result_hook = model.hook_dict[utils.get_act_name(\"result\", layer)]\n",
    "\n",
    "    # Define fwd_hooks\n",
    "    fwd_hooks = [\n",
    "        (utils.get_act_name(\"v\", layer), partial(hook_fn_cache_v, model=model, head_idx=head_idx)),\n",
    "        (utils.get_act_name(\"pattern\", layer), partial(hook_fn_cache_attn, model=model, head_idx=head_idx)),\n",
    "        (utils.get_act_name(\"result\", layer), partial(hook_fn_at_result, toks=toks, model=model, head_idx=head_idx, only_use_neg_projections=only_use_neg_projections, return_new_loss=return_new_loss)),\n",
    "        (utils.get_act_name(\"scale\"), partial(hook_fn_at_scale, toks=toks, model=model, layer=layer)),\n",
    "    ]\n",
    "    # Forward pass which stores things in hook contexts (but doesn't actually change the logits)\n",
    "    logits = model.run_with_hooks(\n",
    "        toks,\n",
    "        return_type = \"logits\",\n",
    "        fwd_hooks = fwd_hooks\n",
    "    )\n",
    "\n",
    "    if return_new_loss:\n",
    "        logit_change_for_proj = result_hook.ctx.pop(\"logit_change_for_proj\")\n",
    "        logit_change_for_perp = result_hook.ctx.pop(\"logit_change_for_perp\")\n",
    "        logit_change_for_ablation = result_hook.ctx.pop(\"logit_change_for_ablation\")\n",
    "        logits_proj = logits + logit_change_for_proj\n",
    "        logits_perp = logits + logit_change_for_perp\n",
    "        logits_ablation = logits + logit_change_for_ablation\n",
    "        loss_proj = utils.lm_cross_entropy_loss(logits_proj, toks, per_token=True)\n",
    "        loss_perp = utils.lm_cross_entropy_loss(logits_perp, toks, per_token=True)\n",
    "        loss_ablation = utils.lm_cross_entropy_loss(logits_ablation, toks, per_token=True)\n",
    "        model.clear_contexts()\n",
    "        return loss_proj, loss_perp, loss_ablation\n",
    "    else:\n",
    "        unembedding_coeffs = scale_hook.ctx.pop(\"unembedding_coeffs\")\n",
    "        # norm_fractions = result_hook.ctx.pop(\"norms\")\n",
    "        model.clear_contexts()\n",
    "        return unembedding_coeffs"
   ]
  },
  {
   "attachments": {},
   "cell_type": "markdown",
   "metadata": {},
   "source": [
    "### Test my function\n",
    "\n",
    "I'm going to take a standard sentence from the IOI distribution, and run my function on it. I should find that:\n",
    "\n",
    "* For head `10.7`, the amount of suppression when `seqQ` is the position of the IO token is about the same as the head's direct output projected in the IO direction (i.e. very negative).\n",
    "* For head `9.9`, for similar reasons, it should be very positive."
   ]
  },
  {
   "cell_type": "code",
   "execution_count": 44,
   "metadata": {},
   "outputs": [
    {
     "data": {
      "application/vnd.plotly.v1+json": {
       "config": {
        "plotlyServerURL": "https://plot.ly"
       },
       "data": [
        {
         "coloraxis": "coloraxis",
         "hovertemplate": "x: %{x}<br>y: %{y}<br>color: %{z}<extra></extra>",
         "name": "0",
         "text": [
          [
           "",
           "Then",
           ",",
           " Sarah",
           " and",
           " Arthur",
           " had",
           " a",
           " lot",
           " of",
           " fun",
           " at",
           " the",
           " hospital",
           ".",
           " Arthur",
           " gave",
           " a",
           " bone",
           " to",
           " Sarah",
           "*"
          ],
          [
           "",
           "Then",
           ",",
           " Arthur",
           " and",
           " Sarah",
           " had",
           " a",
           " lot",
           " of",
           " fun",
           " at",
           " the",
           " hospital",
           ".",
           " Sarah",
           " gave",
           " a",
           " bone",
           " to",
           " Arthur",
           "*"
          ],
          [
           "",
           "Then",
           ",",
           " Arthur",
           " and",
           " Ruby",
           " had",
           " a",
           " long",
           " argument",
           ",",
           " and",
           " afterwards",
           " Ruby",
           " said",
           " to",
           " Arthur",
           "",
           "",
           "",
           "",
           "*"
          ],
          [
           "",
           "Then",
           ",",
           " Ruby",
           " and",
           " Arthur",
           " had",
           " a",
           " long",
           " argument",
           ",",
           " and",
           " afterwards",
           " Arthur",
           " said",
           " to",
           " Ruby",
           "",
           "",
           "",
           "",
           "*"
          ],
          [
           "",
           "Then",
           ",",
           " Arthur",
           " and",
           " Jacob",
           " had",
           " a",
           " lot",
           " of",
           " fun",
           " at",
           " the",
           " office",
           ".",
           " Jacob",
           " gave",
           " a",
           " basketball",
           " to",
           " Arthur",
           "*"
          ],
          [
           "",
           "Then",
           ",",
           " Jacob",
           " and",
           " Arthur",
           " had",
           " a",
           " lot",
           " of",
           " fun",
           " at",
           " the",
           " office",
           ".",
           " Arthur",
           " gave",
           " a",
           " basketball",
           " to",
           " Jacob",
           "*"
          ],
          [
           "",
           "Then",
           ",",
           " Kate",
           " and",
           " Jonathan",
           " had",
           " a",
           " lot",
           " of",
           " fun",
           " at",
           " the",
           " hospital",
           ".",
           " Jonathan",
           " gave",
           " a",
           " ring",
           " to",
           " Kate",
           "*"
          ],
          [
           "",
           "Then",
           ",",
           " Jonathan",
           " and",
           " Kate",
           " had",
           " a",
           " lot",
           " of",
           " fun",
           " at",
           " the",
           " hospital",
           ".",
           " Kate",
           " gave",
           " a",
           " ring",
           " to",
           " Jonathan",
           "*"
          ],
          [
           "",
           "When",
           " Adam",
           " and",
           " Luke",
           " got",
           " a",
           " ring",
           " at",
           " the",
           " house",
           ",",
           " Adam",
           " decided",
           " to",
           " give",
           " it",
           " to",
           " Luke",
           "",
           "",
           "*"
          ],
          [
           "",
           "When",
           " Luke",
           " and",
           " Adam",
           " got",
           " a",
           " ring",
           " at",
           " the",
           " house",
           ",",
           " Luke",
           " decided",
           " to",
           " give",
           " it",
           " to",
           " Adam",
           "",
           "",
           "*"
          ]
         ],
         "textfont": {
          "size": 12
         },
         "texttemplate": "%{text}",
         "type": "heatmap",
         "xaxis": "x",
         "yaxis": "y",
         "z": [
          [
           0,
           0.023339247331023216,
           -0.008261246606707573,
           7.051440238952637,
           0.002153938403353095,
           2.563767194747925,
           0.0012349850730970502,
           0.0017036859644576907,
           0.0015886351466178894,
           0.00003324405406601727,
           0.05106300115585327,
           0.006948694586753845,
           0.0018345274729654193,
           0.0411435030400753,
           -0.006797323003411293,
           0.5094943046569824,
           0.00745056476444006,
           0.0005805293330922723,
           0.05285744369029999,
           0.0006773170898668468,
           0.020454103127121925
          ],
          [
           0,
           0.03868202120065689,
           -0.010068424046039581,
           8.153907775878906,
           0.00396884186193347,
           1.5500543117523193,
           0.0012978054583072662,
           0.0016492637805640697,
           0.0014410295989364386,
           0.000043331514461897314,
           0.051648303866386414,
           0.006186248734593391,
           0.0016706847818568349,
           0.03790421783924103,
           -0.00810636393725872,
           0.38565289974212646,
           0.009255597367882729,
           0.0006436733528971672,
           0.05296485871076584,
           0.0006256212946027517,
           0.010876400396227837
          ],
          [
           0,
           0.05219462141394615,
           -0.01007269136607647,
           8.475578308105469,
           0.0037125928793102503,
           1.1458518505096436,
           0.0009968990925699472,
           0.0012545229401439428,
           0.02305901050567627,
           0.01471418235450983,
           -0.0011855618795379996,
           0.00016290569328702986,
           0.0125350933521986,
           0.08445514738559723,
           0.001417810912244022,
           0.00012084123591193929,
           0.013970069587230682,
           0,
           0,
           0,
           0
          ],
          [
           0,
           0.046360082924366,
           -0.010339603759348392,
           3.442359447479248,
           0.010467644780874252,
           3.902385711669922,
           0.0007386711658909917,
           0.0013434308348223567,
           0.02745159901678562,
           0.013379518873989582,
           -0.0013157727662473917,
           0.0001939328503794968,
           0.012066632509231567,
           0.34943416714668274,
           0.0009836393874138594,
           0.00013059838966000825,
           0.011943931691348553,
           0,
           0,
           0,
           0
          ],
          [
           0,
           0.05373422056436539,
           -0.01073845848441124,
           8.908350944519043,
           0.007387776393443346,
           1.7784397602081299,
           0.0021371073089540005,
           0.0015030017821118236,
           0.001507655717432499,
           0.00004522480594459921,
           0.04943114146590233,
           0.005875047761946917,
           0.001358727109618485,
           0.0630137026309967,
           -0.006064870860427618,
           0.5413971543312073,
           0.007548558060079813,
           0.0006116358563303947,
           0.01492416113615036,
           0.00020309221872594208,
           0.017894521355628967
          ],
          [
           0,
           0.03227640315890312,
           -0.008661933243274689,
           9.258682250976562,
           0.003362607443705201,
           1.7656968832015991,
           0.0016576837515458465,
           0.0014831054722890258,
           0.001610186300240457,
           0.00003574605216272175,
           0.047387976199388504,
           0.005811252631247044,
           0.0014123390428721905,
           0.062304943799972534,
           -0.006590329110622406,
           0.5431710481643677,
           0.00725598493590951,
           0.0005568997003138065,
           0.015926048159599304,
           0.00012426218017935753,
           0.02652505226433277
          ],
          [
           0,
           0.03574899584054947,
           -0.008867038413882256,
           6.69651460647583,
           0.0015921392478048801,
           2.7107856273651123,
           0.0008160722209140658,
           0.0015149074606597424,
           0.0013361707096919417,
           0.00003110430043307133,
           0.04105156660079956,
           0.006358295679092407,
           0.0015506206545978785,
           0.03655592352151871,
           -0.00604609027504921,
           0.667779266834259,
           0.0060445889830589294,
           0.0006182286306284368,
           0.02206362597644329,
           0.00007392850238829851,
           0.014889121055603027
          ],
          [
           0,
           0.0352606326341629,
           -0.008336570113897324,
           11.289987564086914,
           0.0013661872362717986,
           0.7364964485168457,
           0.0007425906951539218,
           0.0014296055305749178,
           0.001307592960074544,
           0.00004080869985045865,
           0.04151575639843941,
           0.005441796965897083,
           0.0013397792354226112,
           0.031610384583473206,
           -0.007301218807697296,
           0.12373563647270203,
           0.006561920512467623,
           0.000624298641923815,
           0.024767616763710976,
           0.00016269212937913835,
           0.02173634245991707
          ],
          [
           0,
           0.010645791888237,
           2.138944149017334,
           0.005479218438267708,
           7.616535186767578,
           0.009835142642259598,
           0.0023657167330384254,
           0.14845839142799377,
           0.0056518069468438625,
           0.0005662540788762271,
           0.010004755109548569,
           -0.0014228371437638998,
           0.07553327083587646,
           0.0034876868594437838,
           0.00030974429682828486,
           0.004970254842191935,
           -0.0009515470010228455,
           0.00033366584102623165,
           0.014803798869252205,
           0,
           0
          ],
          [
           0,
           0.011390107683837414,
           2.6041698455810547,
           0.003709652228280902,
           6.486021995544434,
           0.010855985805392265,
           0.002601071260869503,
           0.137454092502594,
           0.00536203570663929,
           0.000550092663615942,
           0.010378938168287277,
           -0.0016216069925576448,
           0.06575247645378113,
           0.003085307776927948,
           0.00024458649568259716,
           0.0033622144255787134,
           -0.000898332626093179,
           0.00009303459955845028,
           0.022328222170472145,
           0,
           0
          ]
         ]
        }
       ],
       "frames": [
        {
         "data": [
          {
           "coloraxis": "coloraxis",
           "name": "0",
           "type": "heatmap",
           "z": [
            [
             0,
             0.023339247331023216,
             -0.008261246606707573,
             7.051440238952637,
             0.002153938403353095,
             2.563767194747925,
             0.0012349850730970502,
             0.0017036859644576907,
             0.0015886351466178894,
             0.00003324405406601727,
             0.05106300115585327,
             0.006948694586753845,
             0.0018345274729654193,
             0.0411435030400753,
             -0.006797323003411293,
             0.5094943046569824,
             0.00745056476444006,
             0.0005805293330922723,
             0.05285744369029999,
             0.0006773170898668468,
             0.020454103127121925
            ],
            [
             0,
             0.03868202120065689,
             -0.010068424046039581,
             8.153907775878906,
             0.00396884186193347,
             1.5500543117523193,
             0.0012978054583072662,
             0.0016492637805640697,
             0.0014410295989364386,
             0.000043331514461897314,
             0.051648303866386414,
             0.006186248734593391,
             0.0016706847818568349,
             0.03790421783924103,
             -0.00810636393725872,
             0.38565289974212646,
             0.009255597367882729,
             0.0006436733528971672,
             0.05296485871076584,
             0.0006256212946027517,
             0.010876400396227837
            ],
            [
             0,
             0.05219462141394615,
             -0.01007269136607647,
             8.475578308105469,
             0.0037125928793102503,
             1.1458518505096436,
             0.0009968990925699472,
             0.0012545229401439428,
             0.02305901050567627,
             0.01471418235450983,
             -0.0011855618795379996,
             0.00016290569328702986,
             0.0125350933521986,
             0.08445514738559723,
             0.001417810912244022,
             0.00012084123591193929,
             0.013970069587230682,
             0,
             0,
             0,
             0
            ],
            [
             0,
             0.046360082924366,
             -0.010339603759348392,
             3.442359447479248,
             0.010467644780874252,
             3.902385711669922,
             0.0007386711658909917,
             0.0013434308348223567,
             0.02745159901678562,
             0.013379518873989582,
             -0.0013157727662473917,
             0.0001939328503794968,
             0.012066632509231567,
             0.34943416714668274,
             0.0009836393874138594,
             0.00013059838966000825,
             0.011943931691348553,
             0,
             0,
             0,
             0
            ],
            [
             0,
             0.05373422056436539,
             -0.01073845848441124,
             8.908350944519043,
             0.007387776393443346,
             1.7784397602081299,
             0.0021371073089540005,
             0.0015030017821118236,
             0.001507655717432499,
             0.00004522480594459921,
             0.04943114146590233,
             0.005875047761946917,
             0.001358727109618485,
             0.0630137026309967,
             -0.006064870860427618,
             0.5413971543312073,
             0.007548558060079813,
             0.0006116358563303947,
             0.01492416113615036,
             0.00020309221872594208,
             0.017894521355628967
            ],
            [
             0,
             0.03227640315890312,
             -0.008661933243274689,
             9.258682250976562,
             0.003362607443705201,
             1.7656968832015991,
             0.0016576837515458465,
             0.0014831054722890258,
             0.001610186300240457,
             0.00003574605216272175,
             0.047387976199388504,
             0.005811252631247044,
             0.0014123390428721905,
             0.062304943799972534,
             -0.006590329110622406,
             0.5431710481643677,
             0.00725598493590951,
             0.0005568997003138065,
             0.015926048159599304,
             0.00012426218017935753,
             0.02652505226433277
            ],
            [
             0,
             0.03574899584054947,
             -0.008867038413882256,
             6.69651460647583,
             0.0015921392478048801,
             2.7107856273651123,
             0.0008160722209140658,
             0.0015149074606597424,
             0.0013361707096919417,
             0.00003110430043307133,
             0.04105156660079956,
             0.006358295679092407,
             0.0015506206545978785,
             0.03655592352151871,
             -0.00604609027504921,
             0.667779266834259,
             0.0060445889830589294,
             0.0006182286306284368,
             0.02206362597644329,
             0.00007392850238829851,
             0.014889121055603027
            ],
            [
             0,
             0.0352606326341629,
             -0.008336570113897324,
             11.289987564086914,
             0.0013661872362717986,
             0.7364964485168457,
             0.0007425906951539218,
             0.0014296055305749178,
             0.001307592960074544,
             0.00004080869985045865,
             0.04151575639843941,
             0.005441796965897083,
             0.0013397792354226112,
             0.031610384583473206,
             -0.007301218807697296,
             0.12373563647270203,
             0.006561920512467623,
             0.000624298641923815,
             0.024767616763710976,
             0.00016269212937913835,
             0.02173634245991707
            ],
            [
             0,
             0.010645791888237,
             2.138944149017334,
             0.005479218438267708,
             7.616535186767578,
             0.009835142642259598,
             0.0023657167330384254,
             0.14845839142799377,
             0.0056518069468438625,
             0.0005662540788762271,
             0.010004755109548569,
             -0.0014228371437638998,
             0.07553327083587646,
             0.0034876868594437838,
             0.00030974429682828486,
             0.004970254842191935,
             -0.0009515470010228455,
             0.00033366584102623165,
             0.014803798869252205,
             0,
             0
            ],
            [
             0,
             0.011390107683837414,
             2.6041698455810547,
             0.003709652228280902,
             6.486021995544434,
             0.010855985805392265,
             0.002601071260869503,
             0.137454092502594,
             0.00536203570663929,
             0.000550092663615942,
             0.010378938168287277,
             -0.0016216069925576448,
             0.06575247645378113,
             0.003085307776927948,
             0.00024458649568259716,
             0.0033622144255787134,
             -0.000898332626093179,
             0.00009303459955845028,
             0.022328222170472145,
             0,
             0
            ]
           ]
          }
         ],
         "layout": {
          "coloraxis": {
           "cmax": 11.289987564086914,
           "cmid": 0,
           "cmin": -11.289987564086914,
           "colorscale": [
            [
             0,
             "rgb(103,0,31)"
            ],
            [
             0.1,
             "rgb(178,24,43)"
            ],
            [
             0.2,
             "rgb(214,96,77)"
            ],
            [
             0.3,
             "rgb(244,165,130)"
            ],
            [
             0.4,
             "rgb(253,219,199)"
            ],
            [
             0.5,
             "rgb(247,247,247)"
            ],
            [
             0.6,
             "rgb(209,229,240)"
            ],
            [
             0.7,
             "rgb(146,197,222)"
            ],
            [
             0.8,
             "rgb(67,147,195)"
            ],
            [
             0.9,
             "rgb(33,102,172)"
            ],
            [
             1,
             "rgb(5,48,97)"
            ]
           ]
          },
          "height": 800,
          "margin": {
           "t": 60
          },
          "width": 1600,
          "xaxis": {
           "constrain": "domain",
           "scaleanchor": "y"
          },
          "yaxis": {
           "autorange": "reversed",
           "constrain": "domain"
          }
         },
         "name": "0"
        },
        {
         "data": [
          {
           "coloraxis": "coloraxis",
           "name": "1",
           "type": "heatmap",
           "z": [
            [
             0,
             -0.1880834549665451,
             -0.09193168580532074,
             -6.849367618560791,
             -0.11024630069732666,
             -2.6265406608581543,
             -0.07501259446144104,
             -0.006884477101266384,
             -0.049325861036777496,
             0.019979210570454597,
             -0.3115626573562622,
             -0.048510078340768814,
             -0.0022082170471549034,
             -0.4591657519340515,
             -0.05951286479830742,
             -0.8065458536148071,
             -0.06611008197069168,
             -0.0037336882669478655,
             -0.29183390736579895,
             -0.0011834086617454886,
             -0.06551647186279297
            ],
            [
             0,
             -0.19047865271568298,
             -0.09460381418466568,
             -9.556543350219727,
             -0.1298445165157318,
             -1.3148086071014404,
             -0.07364844530820847,
             -0.006240802817046642,
             -0.04742516577243805,
             0.01990065723657608,
             -0.33652958273887634,
             -0.04631810635328293,
             -0.0024779282975941896,
             -0.42273110151290894,
             -0.06006355583667755,
             -0.32548123598098755,
             -0.05288654565811157,
             -0.0031692266929894686,
             -0.29050779342651367,
             -0.0005924602155573666,
             -0.0640982910990715
            ],
            [
             0,
             -0.1932363212108612,
             -0.07168056070804596,
             -8.832356452941895,
             -0.08866928517818451,
             -2.4810781478881836,
             -0.03436552733182907,
             -0.0027718073688447475,
             -0.18543270230293274,
             -0.08719142526388168,
             -0.020756525918841362,
             -0.01637233980000019,
             -0.04796753451228142,
             -0.42902642488479614,
             -0.023084111511707306,
             -0.004352205898612738,
             -0.07792012393474579,
             0,
             0,
             0,
             0
            ],
            [
             0,
             -0.17638254165649414,
             -0.06778940558433533,
             -7.113393783569336,
             -0.06579349935054779,
             -4.792202949523926,
             -0.041119832545518875,
             -0.002957336138933897,
             -0.1882091909646988,
             -0.09800545871257782,
             -0.02223381958901882,
             -0.016887441277503967,
             -0.043113823980093,
             -0.9543774724006653,
             -0.033292774111032486,
             -0.005883526057004929,
             -0.1452561318874359,
             0,
             0,
             0,
             0
            ],
            [
             0,
             -0.19159865379333496,
             -0.09732625633478165,
             -9.64502239227295,
             -0.11729876697063446,
             -1.5528396368026733,
             -0.06571007519960403,
             -0.005686207674443722,
             -0.051710665225982666,
             0.022259080782532692,
             -0.41400742530822754,
             -0.052600085735321045,
             -0.0029089003801345825,
             -0.13319581747055054,
             -0.06009833887219429,
             -0.41679903864860535,
             -0.05954739451408386,
             -0.004507299978286028,
             -0.1482609510421753,
             0.0002950803318526596,
             -0.10290594398975372
            ],
            [
             0,
             -0.18317794799804688,
             -0.09295989573001862,
             -8.555068016052246,
             -0.1123490184545517,
             -1.9122180938720703,
             -0.06328153610229492,
             -0.005253797397017479,
             -0.050844691693782806,
             0.021808156743645668,
             -0.3726036548614502,
             -0.05506480485200882,
             -0.0022608223371207714,
             -0.12137807160615921,
             -0.06086357682943344,
             -0.5366438031196594,
             -0.057117000222206116,
             -0.0041675628162920475,
             -0.14886674284934998,
             -0.0003122635534964502,
             -0.14245593547821045
            ],
            [
             0,
             -0.2006245106458664,
             -0.09486377984285355,
             -8.467206954956055,
             -0.1347503513097763,
             -1.0508298873901367,
             -0.07824712991714478,
             -0.006695074960589409,
             -0.05921788141131401,
             0.021154575049877167,
             -0.34557124972343445,
             -0.05524421110749245,
             -0.0018302638782188296,
             -0.4259568154811859,
             -0.052174217998981476,
             -0.15513034164905548,
             -0.0831000879406929,
             -0.004483175929635763,
             -0.43270593881607056,
             0.0008876685169525445,
             -0.07509901374578476
            ],
            [
             0,
             -0.2170814871788025,
             -0.09622786939144135,
             -6.8449296951293945,
             -0.15433530509471893,
             -1.1184568405151367,
             -0.08549600839614868,
             -0.007092413492500782,
             -0.05425811558961868,
             0.02112760953605175,
             -0.35632064938545227,
             -0.05767270177602768,
             -0.002015454927459359,
             -0.39009034633636475,
             -0.04634957015514374,
             -0.10661939531564713,
             -0.060515664517879486,
             -0.00362966931425035,
             -0.48259061574935913,
             -0.0006377569516189396,
             -0.06010647118091583
            ],
            [
             0,
             -0.061659157276153564,
             -1.9546606540679932,
             -0.12620487809181213,
             -6.144869327545166,
             -0.10986392199993134,
             -0.0021090293303132057,
             -0.8973422646522522,
             -0.05549587681889534,
             -0.005432757083326578,
             -0.1527441442012787,
             -0.025456558912992477,
             -0.3129478096961975,
             -0.03208557516336441,
             -0.008468611165881157,
             -0.03312724083662033,
             0.003038983792066574,
             0.000340909551596269,
             -0.08122889697551727,
             0,
             0
            ],
            [
             0,
             -0.06303086876869202,
             -3.3851218223571777,
             -0.13270938396453857,
             -3.9047422409057617,
             -0.10956767946481705,
             -0.001537462929263711,
             -0.8042560815811157,
             -0.06163867935538292,
             -0.005620076321065426,
             -0.14737562835216522,
             -0.024707503616809845,
             -0.7184562683105469,
             -0.032498087733983994,
             -0.008811830542981625,
             -0.034374892711639404,
             0.0026131151244044304,
             -0.0004134837072342634,
             -0.023038705810904503,
             0,
             0
            ]
           ]
          }
         ],
         "layout": {
          "coloraxis": {
           "cmax": 11.289987564086914,
           "cmid": 0,
           "cmin": -11.289987564086914,
           "colorscale": [
            [
             0,
             "rgb(103,0,31)"
            ],
            [
             0.1,
             "rgb(178,24,43)"
            ],
            [
             0.2,
             "rgb(214,96,77)"
            ],
            [
             0.3,
             "rgb(244,165,130)"
            ],
            [
             0.4,
             "rgb(253,219,199)"
            ],
            [
             0.5,
             "rgb(247,247,247)"
            ],
            [
             0.6,
             "rgb(209,229,240)"
            ],
            [
             0.7,
             "rgb(146,197,222)"
            ],
            [
             0.8,
             "rgb(67,147,195)"
            ],
            [
             0.9,
             "rgb(33,102,172)"
            ],
            [
             1,
             "rgb(5,48,97)"
            ]
           ]
          },
          "height": 800,
          "margin": {
           "t": 60
          },
          "width": 1600,
          "xaxis": {
           "constrain": "domain",
           "scaleanchor": "y"
          },
          "yaxis": {
           "autorange": "reversed",
           "constrain": "domain"
          }
         },
         "name": "1"
        },
        {
         "data": [
          {
           "coloraxis": "coloraxis",
           "name": "2",
           "type": "heatmap",
           "z": [
            [
             0,
             -0.23220255970954895,
             -0.11974400281906128,
             -7.689229965209961,
             -0.04174821823835373,
             -1.197210669517517,
             -0.2507861256599426,
             -0.05215771868824959,
             -0.049724042415618896,
             -0.008279046975076199,
             -0.35051822662353516,
             -0.0002109833003487438,
             -0.01879274472594261,
             -0.26423949003219604,
             -0.03226057440042496,
             -0.6340198516845703,
             -0.1160467192530632,
             -0.03952621668577194,
             -0.08100868761539459,
             -0.006937529891729355,
             -0.08569127321243286
            ],
            [
             0,
             -0.2521402835845947,
             -0.12724947929382324,
             -4.042823314666748,
             -0.03498585894703865,
             -2.0138604640960693,
             -0.2612029016017914,
             -0.054301269352436066,
             -0.04774896427989006,
             -0.008128556422889233,
             -0.3521616756916046,
             -0.0006147388485260308,
             -0.01945134811103344,
             -0.2592822313308716,
             -0.043526653200387955,
             -1.7972307205200195,
             -0.10989037901163101,
             -0.03833187744021416,
             -0.08153703808784485,
             -0.003640691749751568,
             -0.03514225780963898
            ],
            [
             0,
             -0.24291394650936127,
             -0.12655745446681976,
             -4.3505706787109375,
             -0.03237584978342056,
             -3.6082346439361572,
             -0.07499004155397415,
             -0.04713816195726395,
             -0.04270809143781662,
             -0.3588733375072479,
             -0.03204469755291939,
             0.0012068256037309766,
             -0.0401233471930027,
             -0.9897159337997437,
             -0.091469407081604,
             0.005503736436367035,
             -0.07066790759563446,
             0,
             0,
             0,
             0
            ],
            [
             0,
             -0.2370741069316864,
             -0.12585045397281647,
             -6.637480735778809,
             -0.05337949097156525,
             -3.490894317626953,
             -0.05167921259999275,
             -0.044328294694423676,
             -0.04031602665781975,
             -0.3469714820384979,
             -0.028600256890058517,
             0.0029299212619662285,
             -0.03366825357079506,
             -0.9946632385253906,
             -0.11885504424571991,
             0.0014428107533603907,
             -0.10510957986116409,
             0,
             0,
             0,
             0
            ],
            [
             0,
             -0.2647416293621063,
             -0.13874755799770355,
             -5.149845600128174,
             -0.035576727241277695,
             -1.8334577083587646,
             -0.24472996592521667,
             -0.0749235600233078,
             -0.04922925680875778,
             -0.007248654030263424,
             -0.4276939630508423,
             0.0003430991491768509,
             -0.016912803053855896,
             -0.1915302276611328,
             -0.037268608808517456,
             -0.8369818925857544,
             -0.11066042631864548,
             -0.06610242277383804,
             -0.10002149641513824,
             -0.002357535995543003,
             -0.05797245725989342
            ],
            [
             0,
             -0.2392486333847046,
             -0.12772950530052185,
             -9.131729125976562,
             -0.032826606184244156,
             -0.9794676303863525,
             -0.24875091016292572,
             -0.07259915769100189,
             -0.05286532640457153,
             -0.007565561216324568,
             -0.4542957842350006,
             0.00017787079559639096,
             -0.016003316268324852,
             -0.192748561501503,
             -0.024078216403722763,
             -0.4181872308254242,
             -0.08621879667043686,
             -0.06598909944295883,
             -0.1019754484295845,
             -0.0020349575206637383,
             -0.17006081342697144
            ],
            [
             0,
             -0.24368977546691895,
             -0.1311769187450409,
             -5.074551582336426,
             -0.0346282422542572,
             -2.901662826538086,
             -0.3376448452472687,
             -0.04702700302004814,
             -0.055670116096735,
             -0.00732042733579874,
             -0.4171120226383209,
             -0.0047512901946902275,
             -0.02167988009750843,
             -0.27088627219200134,
             -0.04384464770555496,
             -1.0644582509994507,
             -0.09384481608867645,
             -0.032768044620752335,
             -0.6905089616775513,
             -0.0016453778371214867,
             -0.13503946363925934
            ],
            [
             0,
             -0.22334207594394684,
             -0.12097828835248947,
             -8.315007209777832,
             -0.04532720893621445,
             -0.695081353187561,
             -0.2632851004600525,
             -0.0461081936955452,
             -0.05324149131774902,
             -0.00709873391315341,
             -0.41869422793388367,
             -0.005572715774178505,
             -0.02112528868019581,
             -0.24211300909519196,
             -0.032669782638549805,
             -0.5083307027816772,
             -0.07773108035326004,
             -0.036722224205732346,
             -0.7008854150772095,
             -0.0010979472426697612,
             -0.11701086163520813
            ],
            [
             0,
             -0.19049961864948273,
             -2.2968099117279053,
             -0.0424342043697834,
             -3.0341901779174805,
             -0.1810203492641449,
             -0.028458915650844574,
             -1.8343677520751953,
             -0.017273910343647003,
             -0.01917038857936859,
             -0.20601680874824524,
             -0.10315816104412079,
             -0.5731357932090759,
             -0.16094240546226501,
             -0.01594213768839836,
             -0.281707763671875,
             -0.0006938841543160379,
             0.0011314039584249258,
             -0.0240667425096035,
             0,
             0
            ],
            [
             0,
             -0.16809728741645813,
             -3.1511497497558594,
             -0.11567620933055878,
             -4.354290008544922,
             -0.16039489209651947,
             -0.027129415422677994,
             -1.7573068141937256,
             -0.015943370759487152,
             -0.01769910380244255,
             -0.1937515139579773,
             -0.07974597066640854,
             -0.5360828638076782,
             -0.20258107781410217,
             -0.018893564119935036,
             -0.3530001938343048,
             -0.0006264314288273454,
             0.0014590261271223426,
             -0.04867446422576904,
             0,
             0
            ]
           ]
          }
         ],
         "layout": {
          "coloraxis": {
           "cmax": 11.289987564086914,
           "cmid": 0,
           "cmin": -11.289987564086914,
           "colorscale": [
            [
             0,
             "rgb(103,0,31)"
            ],
            [
             0.1,
             "rgb(178,24,43)"
            ],
            [
             0.2,
             "rgb(214,96,77)"
            ],
            [
             0.3,
             "rgb(244,165,130)"
            ],
            [
             0.4,
             "rgb(253,219,199)"
            ],
            [
             0.5,
             "rgb(247,247,247)"
            ],
            [
             0.6,
             "rgb(209,229,240)"
            ],
            [
             0.7,
             "rgb(146,197,222)"
            ],
            [
             0.8,
             "rgb(67,147,195)"
            ],
            [
             0.9,
             "rgb(33,102,172)"
            ],
            [
             1,
             "rgb(5,48,97)"
            ]
           ]
          },
          "height": 800,
          "margin": {
           "t": 60
          },
          "width": 1600,
          "xaxis": {
           "constrain": "domain",
           "scaleanchor": "y"
          },
          "yaxis": {
           "autorange": "reversed",
           "constrain": "domain"
          }
         },
         "name": "2"
        }
       ],
       "layout": {
        "coloraxis": {
         "cmax": 11.289987564086914,
         "cmid": 0,
         "cmin": -11.289987564086914,
         "colorscale": [
          [
           0,
           "rgb(103,0,31)"
          ],
          [
           0.1,
           "rgb(178,24,43)"
          ],
          [
           0.2,
           "rgb(214,96,77)"
          ],
          [
           0.3,
           "rgb(244,165,130)"
          ],
          [
           0.4,
           "rgb(253,219,199)"
          ],
          [
           0.5,
           "rgb(247,247,247)"
          ],
          [
           0.6,
           "rgb(209,229,240)"
          ],
          [
           0.7,
           "rgb(146,197,222)"
          ],
          [
           0.8,
           "rgb(67,147,195)"
          ],
          [
           0.9,
           "rgb(33,102,172)"
          ],
          [
           1,
           "rgb(5,48,97)"
          ]
         ]
        },
        "height": 800,
        "margin": {
         "t": 60
        },
        "modebar": {
         "add": [
          "drawline",
          "drawopenpath",
          "drawclosedpath",
          "drawcircle",
          "drawrect",
          "eraseshape"
         ]
        },
        "sliders": [
         {
          "active": 0,
          "currentvalue": {
           "prefix": ""
          },
          "len": 0.9,
          "pad": {
           "b": 10,
           "t": 60
          },
          "steps": [
           {
            "args": [
             [
              "0"
             ],
             {
              "frame": {
               "duration": 0,
               "redraw": true
              },
              "fromcurrent": true,
              "mode": "immediate",
              "transition": {
               "duration": 0,
               "easing": "linear"
              }
             }
            ],
            "label": "9.9",
            "method": "animate"
           },
           {
            "args": [
             [
              "1"
             ],
             {
              "frame": {
               "duration": 0,
               "redraw": true
              },
              "fromcurrent": true,
              "mode": "immediate",
              "transition": {
               "duration": 0,
               "easing": "linear"
              }
             }
            ],
            "label": "10.7",
            "method": "animate"
           },
           {
            "args": [
             [
              "2"
             ],
             {
              "frame": {
               "duration": 0,
               "redraw": true
              },
              "fromcurrent": true,
              "mode": "immediate",
              "transition": {
               "duration": 0,
               "easing": "linear"
              }
             }
            ],
            "label": "11.10",
            "method": "animate"
           }
          ],
          "x": 0.1,
          "xanchor": "left",
          "y": 0,
          "yanchor": "top"
         }
        ],
        "template": {
         "data": {
          "bar": [
           {
            "error_x": {
             "color": "#2a3f5f"
            },
            "error_y": {
             "color": "#2a3f5f"
            },
            "marker": {
             "line": {
              "color": "#E5ECF6",
              "width": 0.5
             },
             "pattern": {
              "fillmode": "overlay",
              "size": 10,
              "solidity": 0.2
             }
            },
            "type": "bar"
           }
          ],
          "barpolar": [
           {
            "marker": {
             "line": {
              "color": "#E5ECF6",
              "width": 0.5
             },
             "pattern": {
              "fillmode": "overlay",
              "size": 10,
              "solidity": 0.2
             }
            },
            "type": "barpolar"
           }
          ],
          "carpet": [
           {
            "aaxis": {
             "endlinecolor": "#2a3f5f",
             "gridcolor": "white",
             "linecolor": "white",
             "minorgridcolor": "white",
             "startlinecolor": "#2a3f5f"
            },
            "baxis": {
             "endlinecolor": "#2a3f5f",
             "gridcolor": "white",
             "linecolor": "white",
             "minorgridcolor": "white",
             "startlinecolor": "#2a3f5f"
            },
            "type": "carpet"
           }
          ],
          "choropleth": [
           {
            "colorbar": {
             "outlinewidth": 0,
             "ticks": ""
            },
            "type": "choropleth"
           }
          ],
          "contour": [
           {
            "colorbar": {
             "outlinewidth": 0,
             "ticks": ""
            },
            "colorscale": [
             [
              0,
              "#0d0887"
             ],
             [
              0.1111111111111111,
              "#46039f"
             ],
             [
              0.2222222222222222,
              "#7201a8"
             ],
             [
              0.3333333333333333,
              "#9c179e"
             ],
             [
              0.4444444444444444,
              "#bd3786"
             ],
             [
              0.5555555555555556,
              "#d8576b"
             ],
             [
              0.6666666666666666,
              "#ed7953"
             ],
             [
              0.7777777777777778,
              "#fb9f3a"
             ],
             [
              0.8888888888888888,
              "#fdca26"
             ],
             [
              1,
              "#f0f921"
             ]
            ],
            "type": "contour"
           }
          ],
          "contourcarpet": [
           {
            "colorbar": {
             "outlinewidth": 0,
             "ticks": ""
            },
            "type": "contourcarpet"
           }
          ],
          "heatmap": [
           {
            "colorbar": {
             "outlinewidth": 0,
             "ticks": ""
            },
            "colorscale": [
             [
              0,
              "#0d0887"
             ],
             [
              0.1111111111111111,
              "#46039f"
             ],
             [
              0.2222222222222222,
              "#7201a8"
             ],
             [
              0.3333333333333333,
              "#9c179e"
             ],
             [
              0.4444444444444444,
              "#bd3786"
             ],
             [
              0.5555555555555556,
              "#d8576b"
             ],
             [
              0.6666666666666666,
              "#ed7953"
             ],
             [
              0.7777777777777778,
              "#fb9f3a"
             ],
             [
              0.8888888888888888,
              "#fdca26"
             ],
             [
              1,
              "#f0f921"
             ]
            ],
            "type": "heatmap"
           }
          ],
          "heatmapgl": [
           {
            "colorbar": {
             "outlinewidth": 0,
             "ticks": ""
            },
            "colorscale": [
             [
              0,
              "#0d0887"
             ],
             [
              0.1111111111111111,
              "#46039f"
             ],
             [
              0.2222222222222222,
              "#7201a8"
             ],
             [
              0.3333333333333333,
              "#9c179e"
             ],
             [
              0.4444444444444444,
              "#bd3786"
             ],
             [
              0.5555555555555556,
              "#d8576b"
             ],
             [
              0.6666666666666666,
              "#ed7953"
             ],
             [
              0.7777777777777778,
              "#fb9f3a"
             ],
             [
              0.8888888888888888,
              "#fdca26"
             ],
             [
              1,
              "#f0f921"
             ]
            ],
            "type": "heatmapgl"
           }
          ],
          "histogram": [
           {
            "marker": {
             "pattern": {
              "fillmode": "overlay",
              "size": 10,
              "solidity": 0.2
             }
            },
            "type": "histogram"
           }
          ],
          "histogram2d": [
           {
            "colorbar": {
             "outlinewidth": 0,
             "ticks": ""
            },
            "colorscale": [
             [
              0,
              "#0d0887"
             ],
             [
              0.1111111111111111,
              "#46039f"
             ],
             [
              0.2222222222222222,
              "#7201a8"
             ],
             [
              0.3333333333333333,
              "#9c179e"
             ],
             [
              0.4444444444444444,
              "#bd3786"
             ],
             [
              0.5555555555555556,
              "#d8576b"
             ],
             [
              0.6666666666666666,
              "#ed7953"
             ],
             [
              0.7777777777777778,
              "#fb9f3a"
             ],
             [
              0.8888888888888888,
              "#fdca26"
             ],
             [
              1,
              "#f0f921"
             ]
            ],
            "type": "histogram2d"
           }
          ],
          "histogram2dcontour": [
           {
            "colorbar": {
             "outlinewidth": 0,
             "ticks": ""
            },
            "colorscale": [
             [
              0,
              "#0d0887"
             ],
             [
              0.1111111111111111,
              "#46039f"
             ],
             [
              0.2222222222222222,
              "#7201a8"
             ],
             [
              0.3333333333333333,
              "#9c179e"
             ],
             [
              0.4444444444444444,
              "#bd3786"
             ],
             [
              0.5555555555555556,
              "#d8576b"
             ],
             [
              0.6666666666666666,
              "#ed7953"
             ],
             [
              0.7777777777777778,
              "#fb9f3a"
             ],
             [
              0.8888888888888888,
              "#fdca26"
             ],
             [
              1,
              "#f0f921"
             ]
            ],
            "type": "histogram2dcontour"
           }
          ],
          "mesh3d": [
           {
            "colorbar": {
             "outlinewidth": 0,
             "ticks": ""
            },
            "type": "mesh3d"
           }
          ],
          "parcoords": [
           {
            "line": {
             "colorbar": {
              "outlinewidth": 0,
              "ticks": ""
             }
            },
            "type": "parcoords"
           }
          ],
          "pie": [
           {
            "automargin": true,
            "type": "pie"
           }
          ],
          "scatter": [
           {
            "fillpattern": {
             "fillmode": "overlay",
             "size": 10,
             "solidity": 0.2
            },
            "type": "scatter"
           }
          ],
          "scatter3d": [
           {
            "line": {
             "colorbar": {
              "outlinewidth": 0,
              "ticks": ""
             }
            },
            "marker": {
             "colorbar": {
              "outlinewidth": 0,
              "ticks": ""
             }
            },
            "type": "scatter3d"
           }
          ],
          "scattercarpet": [
           {
            "marker": {
             "colorbar": {
              "outlinewidth": 0,
              "ticks": ""
             }
            },
            "type": "scattercarpet"
           }
          ],
          "scattergeo": [
           {
            "marker": {
             "colorbar": {
              "outlinewidth": 0,
              "ticks": ""
             }
            },
            "type": "scattergeo"
           }
          ],
          "scattergl": [
           {
            "marker": {
             "colorbar": {
              "outlinewidth": 0,
              "ticks": ""
             }
            },
            "type": "scattergl"
           }
          ],
          "scattermapbox": [
           {
            "marker": {
             "colorbar": {
              "outlinewidth": 0,
              "ticks": ""
             }
            },
            "type": "scattermapbox"
           }
          ],
          "scatterpolar": [
           {
            "marker": {
             "colorbar": {
              "outlinewidth": 0,
              "ticks": ""
             }
            },
            "type": "scatterpolar"
           }
          ],
          "scatterpolargl": [
           {
            "marker": {
             "colorbar": {
              "outlinewidth": 0,
              "ticks": ""
             }
            },
            "type": "scatterpolargl"
           }
          ],
          "scatterternary": [
           {
            "marker": {
             "colorbar": {
              "outlinewidth": 0,
              "ticks": ""
             }
            },
            "type": "scatterternary"
           }
          ],
          "surface": [
           {
            "colorbar": {
             "outlinewidth": 0,
             "ticks": ""
            },
            "colorscale": [
             [
              0,
              "#0d0887"
             ],
             [
              0.1111111111111111,
              "#46039f"
             ],
             [
              0.2222222222222222,
              "#7201a8"
             ],
             [
              0.3333333333333333,
              "#9c179e"
             ],
             [
              0.4444444444444444,
              "#bd3786"
             ],
             [
              0.5555555555555556,
              "#d8576b"
             ],
             [
              0.6666666666666666,
              "#ed7953"
             ],
             [
              0.7777777777777778,
              "#fb9f3a"
             ],
             [
              0.8888888888888888,
              "#fdca26"
             ],
             [
              1,
              "#f0f921"
             ]
            ],
            "type": "surface"
           }
          ],
          "table": [
           {
            "cells": {
             "fill": {
              "color": "#EBF0F8"
             },
             "line": {
              "color": "white"
             }
            },
            "header": {
             "fill": {
              "color": "#C8D4E3"
             },
             "line": {
              "color": "white"
             }
            },
            "type": "table"
           }
          ]
         },
         "layout": {
          "annotationdefaults": {
           "arrowcolor": "#2a3f5f",
           "arrowhead": 0,
           "arrowwidth": 1
          },
          "autotypenumbers": "strict",
          "coloraxis": {
           "colorbar": {
            "outlinewidth": 0,
            "ticks": ""
           }
          },
          "colorscale": {
           "diverging": [
            [
             0,
             "#8e0152"
            ],
            [
             0.1,
             "#c51b7d"
            ],
            [
             0.2,
             "#de77ae"
            ],
            [
             0.3,
             "#f1b6da"
            ],
            [
             0.4,
             "#fde0ef"
            ],
            [
             0.5,
             "#f7f7f7"
            ],
            [
             0.6,
             "#e6f5d0"
            ],
            [
             0.7,
             "#b8e186"
            ],
            [
             0.8,
             "#7fbc41"
            ],
            [
             0.9,
             "#4d9221"
            ],
            [
             1,
             "#276419"
            ]
           ],
           "sequential": [
            [
             0,
             "#0d0887"
            ],
            [
             0.1111111111111111,
             "#46039f"
            ],
            [
             0.2222222222222222,
             "#7201a8"
            ],
            [
             0.3333333333333333,
             "#9c179e"
            ],
            [
             0.4444444444444444,
             "#bd3786"
            ],
            [
             0.5555555555555556,
             "#d8576b"
            ],
            [
             0.6666666666666666,
             "#ed7953"
            ],
            [
             0.7777777777777778,
             "#fb9f3a"
            ],
            [
             0.8888888888888888,
             "#fdca26"
            ],
            [
             1,
             "#f0f921"
            ]
           ],
           "sequentialminus": [
            [
             0,
             "#0d0887"
            ],
            [
             0.1111111111111111,
             "#46039f"
            ],
            [
             0.2222222222222222,
             "#7201a8"
            ],
            [
             0.3333333333333333,
             "#9c179e"
            ],
            [
             0.4444444444444444,
             "#bd3786"
            ],
            [
             0.5555555555555556,
             "#d8576b"
            ],
            [
             0.6666666666666666,
             "#ed7953"
            ],
            [
             0.7777777777777778,
             "#fb9f3a"
            ],
            [
             0.8888888888888888,
             "#fdca26"
            ],
            [
             1,
             "#f0f921"
            ]
           ]
          },
          "colorway": [
           "#636efa",
           "#EF553B",
           "#00cc96",
           "#ab63fa",
           "#FFA15A",
           "#19d3f3",
           "#FF6692",
           "#B6E880",
           "#FF97FF",
           "#FECB52"
          ],
          "font": {
           "color": "#2a3f5f"
          },
          "geo": {
           "bgcolor": "white",
           "lakecolor": "white",
           "landcolor": "#E5ECF6",
           "showlakes": true,
           "showland": true,
           "subunitcolor": "white"
          },
          "hoverlabel": {
           "align": "left"
          },
          "hovermode": "closest",
          "mapbox": {
           "style": "light"
          },
          "paper_bgcolor": "white",
          "plot_bgcolor": "#E5ECF6",
          "polar": {
           "angularaxis": {
            "gridcolor": "white",
            "linecolor": "white",
            "ticks": ""
           },
           "bgcolor": "#E5ECF6",
           "radialaxis": {
            "gridcolor": "white",
            "linecolor": "white",
            "ticks": ""
           }
          },
          "scene": {
           "xaxis": {
            "backgroundcolor": "#E5ECF6",
            "gridcolor": "white",
            "gridwidth": 2,
            "linecolor": "white",
            "showbackground": true,
            "ticks": "",
            "zerolinecolor": "white"
           },
           "yaxis": {
            "backgroundcolor": "#E5ECF6",
            "gridcolor": "white",
            "gridwidth": 2,
            "linecolor": "white",
            "showbackground": true,
            "ticks": "",
            "zerolinecolor": "white"
           },
           "zaxis": {
            "backgroundcolor": "#E5ECF6",
            "gridcolor": "white",
            "gridwidth": 2,
            "linecolor": "white",
            "showbackground": true,
            "ticks": "",
            "zerolinecolor": "white"
           }
          },
          "shapedefaults": {
           "line": {
            "color": "#2a3f5f"
           }
          },
          "ternary": {
           "aaxis": {
            "gridcolor": "white",
            "linecolor": "white",
            "ticks": ""
           },
           "baxis": {
            "gridcolor": "white",
            "linecolor": "white",
            "ticks": ""
           },
           "bgcolor": "#E5ECF6",
           "caxis": {
            "gridcolor": "white",
            "linecolor": "white",
            "ticks": ""
           }
          },
          "title": {
           "x": 0.05
          },
          "xaxis": {
           "automargin": true,
           "gridcolor": "white",
           "linecolor": "white",
           "ticks": "",
           "title": {
            "standoff": 15
           },
           "zerolinecolor": "white",
           "zerolinewidth": 2
          },
          "yaxis": {
           "automargin": true,
           "gridcolor": "white",
           "linecolor": "white",
           "ticks": "",
           "title": {
            "standoff": 15
           },
           "zerolinecolor": "white",
           "zerolinewidth": 2
          }
         }
        },
        "updatemenus": [
         {
          "buttons": [
           {
            "args": [
             null,
             {
              "frame": {
               "duration": 500,
               "redraw": true
              },
              "fromcurrent": true,
              "mode": "immediate",
              "transition": {
               "duration": 500,
               "easing": "linear"
              }
             }
            ],
            "label": "&#9654;",
            "method": "animate"
           },
           {
            "args": [
             [
              null
             ],
             {
              "frame": {
               "duration": 0,
               "redraw": true
              },
              "fromcurrent": true,
              "mode": "immediate",
              "transition": {
               "duration": 0,
               "easing": "linear"
              }
             }
            ],
            "label": "&#9724;",
            "method": "animate"
           }
          ],
          "direction": "left",
          "pad": {
           "r": 10,
           "t": 70
          },
          "showactive": false,
          "type": "buttons",
          "x": 0.1,
          "xanchor": "right",
          "y": 0,
          "yanchor": "top"
         }
        ],
        "width": 1600,
        "xaxis": {
         "anchor": "y",
         "constrain": "domain",
         "domain": [
          0,
          1
         ],
         "scaleanchor": "y"
        },
        "yaxis": {
         "anchor": "x",
         "autorange": "reversed",
         "constrain": "domain",
         "domain": [
          0,
          1
         ]
        }
       }
      },
      "text/html": [
       "<div>                            <div id=\"d8460fce-c52f-4716-9331-daadad0b31b3\" class=\"plotly-graph-div\" style=\"height:800px; width:1600px;\"></div>            <script type=\"text/javascript\">                require([\"plotly\"], function(Plotly) {                    window.PLOTLYENV=window.PLOTLYENV || {};                                    if (document.getElementById(\"d8460fce-c52f-4716-9331-daadad0b31b3\")) {                    Plotly.newPlot(                        \"d8460fce-c52f-4716-9331-daadad0b31b3\",                        [{\"coloraxis\":\"coloraxis\",\"name\":\"0\",\"z\":[[0.0,0.023339247331023216,-0.008261246606707573,7.051440238952637,0.002153938403353095,2.563767194747925,0.0012349850730970502,0.0017036859644576907,0.0015886351466178894,3.324405406601727e-05,0.05106300115585327,0.006948694586753845,0.0018345274729654193,0.0411435030400753,-0.006797323003411293,0.5094943046569824,0.00745056476444006,0.0005805293330922723,0.05285744369029999,0.0006773170898668468,0.020454103127121925],[0.0,0.03868202120065689,-0.010068424046039581,8.153907775878906,0.00396884186193347,1.5500543117523193,0.0012978054583072662,0.0016492637805640697,0.0014410295989364386,4.3331514461897314e-05,0.051648303866386414,0.006186248734593391,0.0016706847818568349,0.03790421783924103,-0.00810636393725872,0.38565289974212646,0.009255597367882729,0.0006436733528971672,0.05296485871076584,0.0006256212946027517,0.010876400396227837],[0.0,0.05219462141394615,-0.01007269136607647,8.475578308105469,0.0037125928793102503,1.1458518505096436,0.0009968990925699472,0.0012545229401439428,0.02305901050567627,0.01471418235450983,-0.0011855618795379996,0.00016290569328702986,0.0125350933521986,0.08445514738559723,0.001417810912244022,0.00012084123591193929,0.013970069587230682,0.0,0.0,0.0,0.0],[0.0,0.046360082924366,-0.010339603759348392,3.442359447479248,0.010467644780874252,3.902385711669922,0.0007386711658909917,0.0013434308348223567,0.02745159901678562,0.013379518873989582,-0.0013157727662473917,0.0001939328503794968,0.012066632509231567,0.34943416714668274,0.0009836393874138594,0.00013059838966000825,0.011943931691348553,0.0,0.0,0.0,0.0],[0.0,0.05373422056436539,-0.01073845848441124,8.908350944519043,0.007387776393443346,1.7784397602081299,0.0021371073089540005,0.0015030017821118236,0.001507655717432499,4.522480594459921e-05,0.04943114146590233,0.005875047761946917,0.001358727109618485,0.0630137026309967,-0.006064870860427618,0.5413971543312073,0.007548558060079813,0.0006116358563303947,0.01492416113615036,0.00020309221872594208,0.017894521355628967],[0.0,0.03227640315890312,-0.008661933243274689,9.258682250976562,0.003362607443705201,1.7656968832015991,0.0016576837515458465,0.0014831054722890258,0.001610186300240457,3.574605216272175e-05,0.047387976199388504,0.005811252631247044,0.0014123390428721905,0.062304943799972534,-0.006590329110622406,0.5431710481643677,0.00725598493590951,0.0005568997003138065,0.015926048159599304,0.00012426218017935753,0.02652505226433277],[0.0,0.03574899584054947,-0.008867038413882256,6.69651460647583,0.0015921392478048801,2.7107856273651123,0.0008160722209140658,0.0015149074606597424,0.0013361707096919417,3.110430043307133e-05,0.04105156660079956,0.006358295679092407,0.0015506206545978785,0.03655592352151871,-0.00604609027504921,0.667779266834259,0.0060445889830589294,0.0006182286306284368,0.02206362597644329,7.392850238829851e-05,0.014889121055603027],[0.0,0.0352606326341629,-0.008336570113897324,11.289987564086914,0.0013661872362717986,0.7364964485168457,0.0007425906951539218,0.0014296055305749178,0.001307592960074544,4.080869985045865e-05,0.04151575639843941,0.005441796965897083,0.0013397792354226112,0.031610384583473206,-0.007301218807697296,0.12373563647270203,0.006561920512467623,0.000624298641923815,0.024767616763710976,0.00016269212937913835,0.02173634245991707],[0.0,0.010645791888237,2.138944149017334,0.005479218438267708,7.616535186767578,0.009835142642259598,0.0023657167330384254,0.14845839142799377,0.0056518069468438625,0.0005662540788762271,0.010004755109548569,-0.0014228371437638998,0.07553327083587646,0.0034876868594437838,0.00030974429682828486,0.004970254842191935,-0.0009515470010228455,0.00033366584102623165,0.014803798869252205,0.0,0.0],[0.0,0.011390107683837414,2.6041698455810547,0.003709652228280902,6.486021995544434,0.010855985805392265,0.002601071260869503,0.137454092502594,0.00536203570663929,0.000550092663615942,0.010378938168287277,-0.0016216069925576448,0.06575247645378113,0.003085307776927948,0.00024458649568259716,0.0033622144255787134,-0.000898332626093179,9.303459955845028e-05,0.022328222170472145,0.0,0.0]],\"type\":\"heatmap\",\"xaxis\":\"x\",\"yaxis\":\"y\",\"hovertemplate\":\"x: %{x}\\u003cbr\\u003ey: %{y}\\u003cbr\\u003ecolor: %{z}\\u003cextra\\u003e\\u003c\\u002fextra\\u003e\",\"textfont\":{\"size\":12},\"text\":[[\"\",\"Then\",\",\",\" Sarah\",\" and\",\" Arthur\",\" had\",\" a\",\" lot\",\" of\",\" fun\",\" at\",\" the\",\" hospital\",\".\",\" Arthur\",\" gave\",\" a\",\" bone\",\" to\",\" Sarah\",\"*\"],[\"\",\"Then\",\",\",\" Arthur\",\" and\",\" Sarah\",\" had\",\" a\",\" lot\",\" of\",\" fun\",\" at\",\" the\",\" hospital\",\".\",\" Sarah\",\" gave\",\" a\",\" bone\",\" to\",\" Arthur\",\"*\"],[\"\",\"Then\",\",\",\" Arthur\",\" and\",\" Ruby\",\" had\",\" a\",\" long\",\" argument\",\",\",\" and\",\" afterwards\",\" Ruby\",\" said\",\" to\",\" Arthur\",\"\",\"\",\"\",\"\",\"*\"],[\"\",\"Then\",\",\",\" Ruby\",\" and\",\" Arthur\",\" had\",\" a\",\" long\",\" argument\",\",\",\" and\",\" afterwards\",\" Arthur\",\" said\",\" to\",\" Ruby\",\"\",\"\",\"\",\"\",\"*\"],[\"\",\"Then\",\",\",\" Arthur\",\" and\",\" Jacob\",\" had\",\" a\",\" lot\",\" of\",\" fun\",\" at\",\" the\",\" office\",\".\",\" Jacob\",\" gave\",\" a\",\" basketball\",\" to\",\" Arthur\",\"*\"],[\"\",\"Then\",\",\",\" Jacob\",\" and\",\" Arthur\",\" had\",\" a\",\" lot\",\" of\",\" fun\",\" at\",\" the\",\" office\",\".\",\" Arthur\",\" gave\",\" a\",\" basketball\",\" to\",\" Jacob\",\"*\"],[\"\",\"Then\",\",\",\" Kate\",\" and\",\" Jonathan\",\" had\",\" a\",\" lot\",\" of\",\" fun\",\" at\",\" the\",\" hospital\",\".\",\" Jonathan\",\" gave\",\" a\",\" ring\",\" to\",\" Kate\",\"*\"],[\"\",\"Then\",\",\",\" Jonathan\",\" and\",\" Kate\",\" had\",\" a\",\" lot\",\" of\",\" fun\",\" at\",\" the\",\" hospital\",\".\",\" Kate\",\" gave\",\" a\",\" ring\",\" to\",\" Jonathan\",\"*\"],[\"\",\"When\",\" Adam\",\" and\",\" Luke\",\" got\",\" a\",\" ring\",\" at\",\" the\",\" house\",\",\",\" Adam\",\" decided\",\" to\",\" give\",\" it\",\" to\",\" Luke\",\"\",\"\",\"*\"],[\"\",\"When\",\" Luke\",\" and\",\" Adam\",\" got\",\" a\",\" ring\",\" at\",\" the\",\" house\",\",\",\" Luke\",\" decided\",\" to\",\" give\",\" it\",\" to\",\" Adam\",\"\",\"\",\"*\"]],\"texttemplate\":\"%{text}\"}],                        {\"template\":{\"data\":{\"histogram2dcontour\":[{\"type\":\"histogram2dcontour\",\"colorbar\":{\"outlinewidth\":0,\"ticks\":\"\"},\"colorscale\":[[0.0,\"#0d0887\"],[0.1111111111111111,\"#46039f\"],[0.2222222222222222,\"#7201a8\"],[0.3333333333333333,\"#9c179e\"],[0.4444444444444444,\"#bd3786\"],[0.5555555555555556,\"#d8576b\"],[0.6666666666666666,\"#ed7953\"],[0.7777777777777778,\"#fb9f3a\"],[0.8888888888888888,\"#fdca26\"],[1.0,\"#f0f921\"]]}],\"choropleth\":[{\"type\":\"choropleth\",\"colorbar\":{\"outlinewidth\":0,\"ticks\":\"\"}}],\"histogram2d\":[{\"type\":\"histogram2d\",\"colorbar\":{\"outlinewidth\":0,\"ticks\":\"\"},\"colorscale\":[[0.0,\"#0d0887\"],[0.1111111111111111,\"#46039f\"],[0.2222222222222222,\"#7201a8\"],[0.3333333333333333,\"#9c179e\"],[0.4444444444444444,\"#bd3786\"],[0.5555555555555556,\"#d8576b\"],[0.6666666666666666,\"#ed7953\"],[0.7777777777777778,\"#fb9f3a\"],[0.8888888888888888,\"#fdca26\"],[1.0,\"#f0f921\"]]}],\"heatmap\":[{\"type\":\"heatmap\",\"colorbar\":{\"outlinewidth\":0,\"ticks\":\"\"},\"colorscale\":[[0.0,\"#0d0887\"],[0.1111111111111111,\"#46039f\"],[0.2222222222222222,\"#7201a8\"],[0.3333333333333333,\"#9c179e\"],[0.4444444444444444,\"#bd3786\"],[0.5555555555555556,\"#d8576b\"],[0.6666666666666666,\"#ed7953\"],[0.7777777777777778,\"#fb9f3a\"],[0.8888888888888888,\"#fdca26\"],[1.0,\"#f0f921\"]]}],\"heatmapgl\":[{\"type\":\"heatmapgl\",\"colorbar\":{\"outlinewidth\":0,\"ticks\":\"\"},\"colorscale\":[[0.0,\"#0d0887\"],[0.1111111111111111,\"#46039f\"],[0.2222222222222222,\"#7201a8\"],[0.3333333333333333,\"#9c179e\"],[0.4444444444444444,\"#bd3786\"],[0.5555555555555556,\"#d8576b\"],[0.6666666666666666,\"#ed7953\"],[0.7777777777777778,\"#fb9f3a\"],[0.8888888888888888,\"#fdca26\"],[1.0,\"#f0f921\"]]}],\"contourcarpet\":[{\"type\":\"contourcarpet\",\"colorbar\":{\"outlinewidth\":0,\"ticks\":\"\"}}],\"contour\":[{\"type\":\"contour\",\"colorbar\":{\"outlinewidth\":0,\"ticks\":\"\"},\"colorscale\":[[0.0,\"#0d0887\"],[0.1111111111111111,\"#46039f\"],[0.2222222222222222,\"#7201a8\"],[0.3333333333333333,\"#9c179e\"],[0.4444444444444444,\"#bd3786\"],[0.5555555555555556,\"#d8576b\"],[0.6666666666666666,\"#ed7953\"],[0.7777777777777778,\"#fb9f3a\"],[0.8888888888888888,\"#fdca26\"],[1.0,\"#f0f921\"]]}],\"surface\":[{\"type\":\"surface\",\"colorbar\":{\"outlinewidth\":0,\"ticks\":\"\"},\"colorscale\":[[0.0,\"#0d0887\"],[0.1111111111111111,\"#46039f\"],[0.2222222222222222,\"#7201a8\"],[0.3333333333333333,\"#9c179e\"],[0.4444444444444444,\"#bd3786\"],[0.5555555555555556,\"#d8576b\"],[0.6666666666666666,\"#ed7953\"],[0.7777777777777778,\"#fb9f3a\"],[0.8888888888888888,\"#fdca26\"],[1.0,\"#f0f921\"]]}],\"mesh3d\":[{\"type\":\"mesh3d\",\"colorbar\":{\"outlinewidth\":0,\"ticks\":\"\"}}],\"scatter\":[{\"fillpattern\":{\"fillmode\":\"overlay\",\"size\":10,\"solidity\":0.2},\"type\":\"scatter\"}],\"parcoords\":[{\"type\":\"parcoords\",\"line\":{\"colorbar\":{\"outlinewidth\":0,\"ticks\":\"\"}}}],\"scatterpolargl\":[{\"type\":\"scatterpolargl\",\"marker\":{\"colorbar\":{\"outlinewidth\":0,\"ticks\":\"\"}}}],\"bar\":[{\"error_x\":{\"color\":\"#2a3f5f\"},\"error_y\":{\"color\":\"#2a3f5f\"},\"marker\":{\"line\":{\"color\":\"#E5ECF6\",\"width\":0.5},\"pattern\":{\"fillmode\":\"overlay\",\"size\":10,\"solidity\":0.2}},\"type\":\"bar\"}],\"scattergeo\":[{\"type\":\"scattergeo\",\"marker\":{\"colorbar\":{\"outlinewidth\":0,\"ticks\":\"\"}}}],\"scatterpolar\":[{\"type\":\"scatterpolar\",\"marker\":{\"colorbar\":{\"outlinewidth\":0,\"ticks\":\"\"}}}],\"histogram\":[{\"marker\":{\"pattern\":{\"fillmode\":\"overlay\",\"size\":10,\"solidity\":0.2}},\"type\":\"histogram\"}],\"scattergl\":[{\"type\":\"scattergl\",\"marker\":{\"colorbar\":{\"outlinewidth\":0,\"ticks\":\"\"}}}],\"scatter3d\":[{\"type\":\"scatter3d\",\"line\":{\"colorbar\":{\"outlinewidth\":0,\"ticks\":\"\"}},\"marker\":{\"colorbar\":{\"outlinewidth\":0,\"ticks\":\"\"}}}],\"scattermapbox\":[{\"type\":\"scattermapbox\",\"marker\":{\"colorbar\":{\"outlinewidth\":0,\"ticks\":\"\"}}}],\"scatterternary\":[{\"type\":\"scatterternary\",\"marker\":{\"colorbar\":{\"outlinewidth\":0,\"ticks\":\"\"}}}],\"scattercarpet\":[{\"type\":\"scattercarpet\",\"marker\":{\"colorbar\":{\"outlinewidth\":0,\"ticks\":\"\"}}}],\"carpet\":[{\"aaxis\":{\"endlinecolor\":\"#2a3f5f\",\"gridcolor\":\"white\",\"linecolor\":\"white\",\"minorgridcolor\":\"white\",\"startlinecolor\":\"#2a3f5f\"},\"baxis\":{\"endlinecolor\":\"#2a3f5f\",\"gridcolor\":\"white\",\"linecolor\":\"white\",\"minorgridcolor\":\"white\",\"startlinecolor\":\"#2a3f5f\"},\"type\":\"carpet\"}],\"table\":[{\"cells\":{\"fill\":{\"color\":\"#EBF0F8\"},\"line\":{\"color\":\"white\"}},\"header\":{\"fill\":{\"color\":\"#C8D4E3\"},\"line\":{\"color\":\"white\"}},\"type\":\"table\"}],\"barpolar\":[{\"marker\":{\"line\":{\"color\":\"#E5ECF6\",\"width\":0.5},\"pattern\":{\"fillmode\":\"overlay\",\"size\":10,\"solidity\":0.2}},\"type\":\"barpolar\"}],\"pie\":[{\"automargin\":true,\"type\":\"pie\"}]},\"layout\":{\"autotypenumbers\":\"strict\",\"colorway\":[\"#636efa\",\"#EF553B\",\"#00cc96\",\"#ab63fa\",\"#FFA15A\",\"#19d3f3\",\"#FF6692\",\"#B6E880\",\"#FF97FF\",\"#FECB52\"],\"font\":{\"color\":\"#2a3f5f\"},\"hovermode\":\"closest\",\"hoverlabel\":{\"align\":\"left\"},\"paper_bgcolor\":\"white\",\"plot_bgcolor\":\"#E5ECF6\",\"polar\":{\"bgcolor\":\"#E5ECF6\",\"angularaxis\":{\"gridcolor\":\"white\",\"linecolor\":\"white\",\"ticks\":\"\"},\"radialaxis\":{\"gridcolor\":\"white\",\"linecolor\":\"white\",\"ticks\":\"\"}},\"ternary\":{\"bgcolor\":\"#E5ECF6\",\"aaxis\":{\"gridcolor\":\"white\",\"linecolor\":\"white\",\"ticks\":\"\"},\"baxis\":{\"gridcolor\":\"white\",\"linecolor\":\"white\",\"ticks\":\"\"},\"caxis\":{\"gridcolor\":\"white\",\"linecolor\":\"white\",\"ticks\":\"\"}},\"coloraxis\":{\"colorbar\":{\"outlinewidth\":0,\"ticks\":\"\"}},\"colorscale\":{\"sequential\":[[0.0,\"#0d0887\"],[0.1111111111111111,\"#46039f\"],[0.2222222222222222,\"#7201a8\"],[0.3333333333333333,\"#9c179e\"],[0.4444444444444444,\"#bd3786\"],[0.5555555555555556,\"#d8576b\"],[0.6666666666666666,\"#ed7953\"],[0.7777777777777778,\"#fb9f3a\"],[0.8888888888888888,\"#fdca26\"],[1.0,\"#f0f921\"]],\"sequentialminus\":[[0.0,\"#0d0887\"],[0.1111111111111111,\"#46039f\"],[0.2222222222222222,\"#7201a8\"],[0.3333333333333333,\"#9c179e\"],[0.4444444444444444,\"#bd3786\"],[0.5555555555555556,\"#d8576b\"],[0.6666666666666666,\"#ed7953\"],[0.7777777777777778,\"#fb9f3a\"],[0.8888888888888888,\"#fdca26\"],[1.0,\"#f0f921\"]],\"diverging\":[[0,\"#8e0152\"],[0.1,\"#c51b7d\"],[0.2,\"#de77ae\"],[0.3,\"#f1b6da\"],[0.4,\"#fde0ef\"],[0.5,\"#f7f7f7\"],[0.6,\"#e6f5d0\"],[0.7,\"#b8e186\"],[0.8,\"#7fbc41\"],[0.9,\"#4d9221\"],[1,\"#276419\"]]},\"xaxis\":{\"gridcolor\":\"white\",\"linecolor\":\"white\",\"ticks\":\"\",\"title\":{\"standoff\":15},\"zerolinecolor\":\"white\",\"automargin\":true,\"zerolinewidth\":2},\"yaxis\":{\"gridcolor\":\"white\",\"linecolor\":\"white\",\"ticks\":\"\",\"title\":{\"standoff\":15},\"zerolinecolor\":\"white\",\"automargin\":true,\"zerolinewidth\":2},\"scene\":{\"xaxis\":{\"backgroundcolor\":\"#E5ECF6\",\"gridcolor\":\"white\",\"linecolor\":\"white\",\"showbackground\":true,\"ticks\":\"\",\"zerolinecolor\":\"white\",\"gridwidth\":2},\"yaxis\":{\"backgroundcolor\":\"#E5ECF6\",\"gridcolor\":\"white\",\"linecolor\":\"white\",\"showbackground\":true,\"ticks\":\"\",\"zerolinecolor\":\"white\",\"gridwidth\":2},\"zaxis\":{\"backgroundcolor\":\"#E5ECF6\",\"gridcolor\":\"white\",\"linecolor\":\"white\",\"showbackground\":true,\"ticks\":\"\",\"zerolinecolor\":\"white\",\"gridwidth\":2}},\"shapedefaults\":{\"line\":{\"color\":\"#2a3f5f\"}},\"annotationdefaults\":{\"arrowcolor\":\"#2a3f5f\",\"arrowhead\":0,\"arrowwidth\":1},\"geo\":{\"bgcolor\":\"white\",\"landcolor\":\"#E5ECF6\",\"subunitcolor\":\"white\",\"showland\":true,\"showlakes\":true,\"lakecolor\":\"white\"},\"title\":{\"x\":0.05},\"mapbox\":{\"style\":\"light\"}}},\"xaxis\":{\"anchor\":\"y\",\"domain\":[0.0,1.0],\"scaleanchor\":\"y\",\"constrain\":\"domain\"},\"yaxis\":{\"anchor\":\"x\",\"domain\":[0.0,1.0],\"autorange\":\"reversed\",\"constrain\":\"domain\"},\"coloraxis\":{\"colorscale\":[[0.0,\"rgb(103,0,31)\"],[0.1,\"rgb(178,24,43)\"],[0.2,\"rgb(214,96,77)\"],[0.3,\"rgb(244,165,130)\"],[0.4,\"rgb(253,219,199)\"],[0.5,\"rgb(247,247,247)\"],[0.6,\"rgb(209,229,240)\"],[0.7,\"rgb(146,197,222)\"],[0.8,\"rgb(67,147,195)\"],[0.9,\"rgb(33,102,172)\"],[1.0,\"rgb(5,48,97)\"]],\"cmid\":0.0,\"cmin\":-11.289987564086914,\"cmax\":11.289987564086914},\"margin\":{\"t\":60},\"height\":800,\"width\":1600,\"updatemenus\":[{\"buttons\":[{\"args\":[null,{\"frame\":{\"duration\":500,\"redraw\":true},\"mode\":\"immediate\",\"fromcurrent\":true,\"transition\":{\"duration\":500,\"easing\":\"linear\"}}],\"label\":\"&#9654;\",\"method\":\"animate\"},{\"args\":[[null],{\"frame\":{\"duration\":0,\"redraw\":true},\"mode\":\"immediate\",\"fromcurrent\":true,\"transition\":{\"duration\":0,\"easing\":\"linear\"}}],\"label\":\"&#9724;\",\"method\":\"animate\"}],\"direction\":\"left\",\"pad\":{\"r\":10,\"t\":70},\"showactive\":false,\"type\":\"buttons\",\"x\":0.1,\"xanchor\":\"right\",\"y\":0,\"yanchor\":\"top\"}],\"sliders\":[{\"active\":0,\"currentvalue\":{\"prefix\":\"\"},\"len\":0.9,\"pad\":{\"b\":10,\"t\":60},\"steps\":[{\"args\":[[\"0\"],{\"frame\":{\"duration\":0,\"redraw\":true},\"mode\":\"immediate\",\"fromcurrent\":true,\"transition\":{\"duration\":0,\"easing\":\"linear\"}}],\"label\":\"9.9\",\"method\":\"animate\"},{\"args\":[[\"1\"],{\"frame\":{\"duration\":0,\"redraw\":true},\"mode\":\"immediate\",\"fromcurrent\":true,\"transition\":{\"duration\":0,\"easing\":\"linear\"}}],\"label\":\"10.7\",\"method\":\"animate\"},{\"args\":[[\"2\"],{\"frame\":{\"duration\":0,\"redraw\":true},\"mode\":\"immediate\",\"fromcurrent\":true,\"transition\":{\"duration\":0,\"easing\":\"linear\"}}],\"label\":\"11.10\",\"method\":\"animate\"}],\"x\":0.1,\"xanchor\":\"left\",\"y\":0,\"yanchor\":\"top\"}],\"modebar\":{\"add\":[\"drawline\",\"drawopenpath\",\"drawclosedpath\",\"drawcircle\",\"drawrect\",\"eraseshape\"]}},                        {\"responsive\": true}                    ).then(function(){\n",
       "                            Plotly.addFrames('d8460fce-c52f-4716-9331-daadad0b31b3', [{\"data\":[{\"coloraxis\":\"coloraxis\",\"name\":\"0\",\"z\":[[0.0,0.023339247331023216,-0.008261246606707573,7.051440238952637,0.002153938403353095,2.563767194747925,0.0012349850730970502,0.0017036859644576907,0.0015886351466178894,3.324405406601727e-05,0.05106300115585327,0.006948694586753845,0.0018345274729654193,0.0411435030400753,-0.006797323003411293,0.5094943046569824,0.00745056476444006,0.0005805293330922723,0.05285744369029999,0.0006773170898668468,0.020454103127121925],[0.0,0.03868202120065689,-0.010068424046039581,8.153907775878906,0.00396884186193347,1.5500543117523193,0.0012978054583072662,0.0016492637805640697,0.0014410295989364386,4.3331514461897314e-05,0.051648303866386414,0.006186248734593391,0.0016706847818568349,0.03790421783924103,-0.00810636393725872,0.38565289974212646,0.009255597367882729,0.0006436733528971672,0.05296485871076584,0.0006256212946027517,0.010876400396227837],[0.0,0.05219462141394615,-0.01007269136607647,8.475578308105469,0.0037125928793102503,1.1458518505096436,0.0009968990925699472,0.0012545229401439428,0.02305901050567627,0.01471418235450983,-0.0011855618795379996,0.00016290569328702986,0.0125350933521986,0.08445514738559723,0.001417810912244022,0.00012084123591193929,0.013970069587230682,0.0,0.0,0.0,0.0],[0.0,0.046360082924366,-0.010339603759348392,3.442359447479248,0.010467644780874252,3.902385711669922,0.0007386711658909917,0.0013434308348223567,0.02745159901678562,0.013379518873989582,-0.0013157727662473917,0.0001939328503794968,0.012066632509231567,0.34943416714668274,0.0009836393874138594,0.00013059838966000825,0.011943931691348553,0.0,0.0,0.0,0.0],[0.0,0.05373422056436539,-0.01073845848441124,8.908350944519043,0.007387776393443346,1.7784397602081299,0.0021371073089540005,0.0015030017821118236,0.001507655717432499,4.522480594459921e-05,0.04943114146590233,0.005875047761946917,0.001358727109618485,0.0630137026309967,-0.006064870860427618,0.5413971543312073,0.007548558060079813,0.0006116358563303947,0.01492416113615036,0.00020309221872594208,0.017894521355628967],[0.0,0.03227640315890312,-0.008661933243274689,9.258682250976562,0.003362607443705201,1.7656968832015991,0.0016576837515458465,0.0014831054722890258,0.001610186300240457,3.574605216272175e-05,0.047387976199388504,0.005811252631247044,0.0014123390428721905,0.062304943799972534,-0.006590329110622406,0.5431710481643677,0.00725598493590951,0.0005568997003138065,0.015926048159599304,0.00012426218017935753,0.02652505226433277],[0.0,0.03574899584054947,-0.008867038413882256,6.69651460647583,0.0015921392478048801,2.7107856273651123,0.0008160722209140658,0.0015149074606597424,0.0013361707096919417,3.110430043307133e-05,0.04105156660079956,0.006358295679092407,0.0015506206545978785,0.03655592352151871,-0.00604609027504921,0.667779266834259,0.0060445889830589294,0.0006182286306284368,0.02206362597644329,7.392850238829851e-05,0.014889121055603027],[0.0,0.0352606326341629,-0.008336570113897324,11.289987564086914,0.0013661872362717986,0.7364964485168457,0.0007425906951539218,0.0014296055305749178,0.001307592960074544,4.080869985045865e-05,0.04151575639843941,0.005441796965897083,0.0013397792354226112,0.031610384583473206,-0.007301218807697296,0.12373563647270203,0.006561920512467623,0.000624298641923815,0.024767616763710976,0.00016269212937913835,0.02173634245991707],[0.0,0.010645791888237,2.138944149017334,0.005479218438267708,7.616535186767578,0.009835142642259598,0.0023657167330384254,0.14845839142799377,0.0056518069468438625,0.0005662540788762271,0.010004755109548569,-0.0014228371437638998,0.07553327083587646,0.0034876868594437838,0.00030974429682828486,0.004970254842191935,-0.0009515470010228455,0.00033366584102623165,0.014803798869252205,0.0,0.0],[0.0,0.011390107683837414,2.6041698455810547,0.003709652228280902,6.486021995544434,0.010855985805392265,0.002601071260869503,0.137454092502594,0.00536203570663929,0.000550092663615942,0.010378938168287277,-0.0016216069925576448,0.06575247645378113,0.003085307776927948,0.00024458649568259716,0.0033622144255787134,-0.000898332626093179,9.303459955845028e-05,0.022328222170472145,0.0,0.0]],\"type\":\"heatmap\"}],\"layout\":{\"height\":800,\"margin\":{\"t\":60},\"width\":1600,\"xaxis\":{\"constrain\":\"domain\",\"scaleanchor\":\"y\"},\"yaxis\":{\"autorange\":\"reversed\",\"constrain\":\"domain\"},\"coloraxis\":{\"cmax\":11.289987564086914,\"cmid\":0.0,\"cmin\":-11.289987564086914,\"colorscale\":[[0.0,\"rgb(103,0,31)\"],[0.1,\"rgb(178,24,43)\"],[0.2,\"rgb(214,96,77)\"],[0.3,\"rgb(244,165,130)\"],[0.4,\"rgb(253,219,199)\"],[0.5,\"rgb(247,247,247)\"],[0.6,\"rgb(209,229,240)\"],[0.7,\"rgb(146,197,222)\"],[0.8,\"rgb(67,147,195)\"],[0.9,\"rgb(33,102,172)\"],[1.0,\"rgb(5,48,97)\"]]}},\"name\":\"0\"},{\"data\":[{\"coloraxis\":\"coloraxis\",\"name\":\"1\",\"z\":[[0.0,-0.1880834549665451,-0.09193168580532074,-6.849367618560791,-0.11024630069732666,-2.6265406608581543,-0.07501259446144104,-0.006884477101266384,-0.049325861036777496,0.019979210570454597,-0.3115626573562622,-0.048510078340768814,-0.0022082170471549034,-0.4591657519340515,-0.05951286479830742,-0.8065458536148071,-0.06611008197069168,-0.0037336882669478655,-0.29183390736579895,-0.0011834086617454886,-0.06551647186279297],[0.0,-0.19047865271568298,-0.09460381418466568,-9.556543350219727,-0.1298445165157318,-1.3148086071014404,-0.07364844530820847,-0.006240802817046642,-0.04742516577243805,0.01990065723657608,-0.33652958273887634,-0.04631810635328293,-0.0024779282975941896,-0.42273110151290894,-0.06006355583667755,-0.32548123598098755,-0.05288654565811157,-0.0031692266929894686,-0.29050779342651367,-0.0005924602155573666,-0.0640982910990715],[0.0,-0.1932363212108612,-0.07168056070804596,-8.832356452941895,-0.08866928517818451,-2.4810781478881836,-0.03436552733182907,-0.0027718073688447475,-0.18543270230293274,-0.08719142526388168,-0.020756525918841362,-0.01637233980000019,-0.04796753451228142,-0.42902642488479614,-0.023084111511707306,-0.004352205898612738,-0.07792012393474579,0.0,0.0,0.0,0.0],[0.0,-0.17638254165649414,-0.06778940558433533,-7.113393783569336,-0.06579349935054779,-4.792202949523926,-0.041119832545518875,-0.002957336138933897,-0.1882091909646988,-0.09800545871257782,-0.02223381958901882,-0.016887441277503967,-0.043113823980093,-0.9543774724006653,-0.033292774111032486,-0.005883526057004929,-0.1452561318874359,0.0,0.0,0.0,0.0],[0.0,-0.19159865379333496,-0.09732625633478165,-9.64502239227295,-0.11729876697063446,-1.5528396368026733,-0.06571007519960403,-0.005686207674443722,-0.051710665225982666,0.022259080782532692,-0.41400742530822754,-0.052600085735321045,-0.0029089003801345825,-0.13319581747055054,-0.06009833887219429,-0.41679903864860535,-0.05954739451408386,-0.004507299978286028,-0.1482609510421753,0.0002950803318526596,-0.10290594398975372],[0.0,-0.18317794799804688,-0.09295989573001862,-8.555068016052246,-0.1123490184545517,-1.9122180938720703,-0.06328153610229492,-0.005253797397017479,-0.050844691693782806,0.021808156743645668,-0.3726036548614502,-0.05506480485200882,-0.0022608223371207714,-0.12137807160615921,-0.06086357682943344,-0.5366438031196594,-0.057117000222206116,-0.0041675628162920475,-0.14886674284934998,-0.0003122635534964502,-0.14245593547821045],[0.0,-0.2006245106458664,-0.09486377984285355,-8.467206954956055,-0.1347503513097763,-1.0508298873901367,-0.07824712991714478,-0.006695074960589409,-0.05921788141131401,0.021154575049877167,-0.34557124972343445,-0.05524421110749245,-0.0018302638782188296,-0.4259568154811859,-0.052174217998981476,-0.15513034164905548,-0.0831000879406929,-0.004483175929635763,-0.43270593881607056,0.0008876685169525445,-0.07509901374578476],[0.0,-0.2170814871788025,-0.09622786939144135,-6.8449296951293945,-0.15433530509471893,-1.1184568405151367,-0.08549600839614868,-0.007092413492500782,-0.05425811558961868,0.02112760953605175,-0.35632064938545227,-0.05767270177602768,-0.002015454927459359,-0.39009034633636475,-0.04634957015514374,-0.10661939531564713,-0.060515664517879486,-0.00362966931425035,-0.48259061574935913,-0.0006377569516189396,-0.06010647118091583],[0.0,-0.061659157276153564,-1.9546606540679932,-0.12620487809181213,-6.144869327545166,-0.10986392199993134,-0.0021090293303132057,-0.8973422646522522,-0.05549587681889534,-0.005432757083326578,-0.1527441442012787,-0.025456558912992477,-0.3129478096961975,-0.03208557516336441,-0.008468611165881157,-0.03312724083662033,0.003038983792066574,0.000340909551596269,-0.08122889697551727,0.0,0.0],[0.0,-0.06303086876869202,-3.3851218223571777,-0.13270938396453857,-3.9047422409057617,-0.10956767946481705,-0.001537462929263711,-0.8042560815811157,-0.06163867935538292,-0.005620076321065426,-0.14737562835216522,-0.024707503616809845,-0.7184562683105469,-0.032498087733983994,-0.008811830542981625,-0.034374892711639404,0.0026131151244044304,-0.0004134837072342634,-0.023038705810904503,0.0,0.0]],\"type\":\"heatmap\"}],\"layout\":{\"height\":800,\"margin\":{\"t\":60},\"width\":1600,\"xaxis\":{\"constrain\":\"domain\",\"scaleanchor\":\"y\"},\"yaxis\":{\"autorange\":\"reversed\",\"constrain\":\"domain\"},\"coloraxis\":{\"cmax\":11.289987564086914,\"cmid\":0.0,\"cmin\":-11.289987564086914,\"colorscale\":[[0.0,\"rgb(103,0,31)\"],[0.1,\"rgb(178,24,43)\"],[0.2,\"rgb(214,96,77)\"],[0.3,\"rgb(244,165,130)\"],[0.4,\"rgb(253,219,199)\"],[0.5,\"rgb(247,247,247)\"],[0.6,\"rgb(209,229,240)\"],[0.7,\"rgb(146,197,222)\"],[0.8,\"rgb(67,147,195)\"],[0.9,\"rgb(33,102,172)\"],[1.0,\"rgb(5,48,97)\"]]}},\"name\":\"1\"},{\"data\":[{\"coloraxis\":\"coloraxis\",\"name\":\"2\",\"z\":[[0.0,-0.23220255970954895,-0.11974400281906128,-7.689229965209961,-0.04174821823835373,-1.197210669517517,-0.2507861256599426,-0.05215771868824959,-0.049724042415618896,-0.008279046975076199,-0.35051822662353516,-0.0002109833003487438,-0.01879274472594261,-0.26423949003219604,-0.03226057440042496,-0.6340198516845703,-0.1160467192530632,-0.03952621668577194,-0.08100868761539459,-0.006937529891729355,-0.08569127321243286],[0.0,-0.2521402835845947,-0.12724947929382324,-4.042823314666748,-0.03498585894703865,-2.0138604640960693,-0.2612029016017914,-0.054301269352436066,-0.04774896427989006,-0.008128556422889233,-0.3521616756916046,-0.0006147388485260308,-0.01945134811103344,-0.2592822313308716,-0.043526653200387955,-1.7972307205200195,-0.10989037901163101,-0.03833187744021416,-0.08153703808784485,-0.003640691749751568,-0.03514225780963898],[0.0,-0.24291394650936127,-0.12655745446681976,-4.3505706787109375,-0.03237584978342056,-3.6082346439361572,-0.07499004155397415,-0.04713816195726395,-0.04270809143781662,-0.3588733375072479,-0.03204469755291939,0.0012068256037309766,-0.0401233471930027,-0.9897159337997437,-0.091469407081604,0.005503736436367035,-0.07066790759563446,0.0,0.0,0.0,0.0],[0.0,-0.2370741069316864,-0.12585045397281647,-6.637480735778809,-0.05337949097156525,-3.490894317626953,-0.05167921259999275,-0.044328294694423676,-0.04031602665781975,-0.3469714820384979,-0.028600256890058517,0.0029299212619662285,-0.03366825357079506,-0.9946632385253906,-0.11885504424571991,0.0014428107533603907,-0.10510957986116409,0.0,0.0,0.0,0.0],[0.0,-0.2647416293621063,-0.13874755799770355,-5.149845600128174,-0.035576727241277695,-1.8334577083587646,-0.24472996592521667,-0.0749235600233078,-0.04922925680875778,-0.007248654030263424,-0.4276939630508423,0.0003430991491768509,-0.016912803053855896,-0.1915302276611328,-0.037268608808517456,-0.8369818925857544,-0.11066042631864548,-0.06610242277383804,-0.10002149641513824,-0.002357535995543003,-0.05797245725989342],[0.0,-0.2392486333847046,-0.12772950530052185,-9.131729125976562,-0.032826606184244156,-0.9794676303863525,-0.24875091016292572,-0.07259915769100189,-0.05286532640457153,-0.007565561216324568,-0.4542957842350006,0.00017787079559639096,-0.016003316268324852,-0.192748561501503,-0.024078216403722763,-0.4181872308254242,-0.08621879667043686,-0.06598909944295883,-0.1019754484295845,-0.0020349575206637383,-0.17006081342697144],[0.0,-0.24368977546691895,-0.1311769187450409,-5.074551582336426,-0.0346282422542572,-2.901662826538086,-0.3376448452472687,-0.04702700302004814,-0.055670116096735,-0.00732042733579874,-0.4171120226383209,-0.0047512901946902275,-0.02167988009750843,-0.27088627219200134,-0.04384464770555496,-1.0644582509994507,-0.09384481608867645,-0.032768044620752335,-0.6905089616775513,-0.0016453778371214867,-0.13503946363925934],[0.0,-0.22334207594394684,-0.12097828835248947,-8.315007209777832,-0.04532720893621445,-0.695081353187561,-0.2632851004600525,-0.0461081936955452,-0.05324149131774902,-0.00709873391315341,-0.41869422793388367,-0.005572715774178505,-0.02112528868019581,-0.24211300909519196,-0.032669782638549805,-0.5083307027816772,-0.07773108035326004,-0.036722224205732346,-0.7008854150772095,-0.0010979472426697612,-0.11701086163520813],[0.0,-0.19049961864948273,-2.2968099117279053,-0.0424342043697834,-3.0341901779174805,-0.1810203492641449,-0.028458915650844574,-1.8343677520751953,-0.017273910343647003,-0.01917038857936859,-0.20601680874824524,-0.10315816104412079,-0.5731357932090759,-0.16094240546226501,-0.01594213768839836,-0.281707763671875,-0.0006938841543160379,0.0011314039584249258,-0.0240667425096035,0.0,0.0],[0.0,-0.16809728741645813,-3.1511497497558594,-0.11567620933055878,-4.354290008544922,-0.16039489209651947,-0.027129415422677994,-1.7573068141937256,-0.015943370759487152,-0.01769910380244255,-0.1937515139579773,-0.07974597066640854,-0.5360828638076782,-0.20258107781410217,-0.018893564119935036,-0.3530001938343048,-0.0006264314288273454,0.0014590261271223426,-0.04867446422576904,0.0,0.0]],\"type\":\"heatmap\"}],\"layout\":{\"height\":800,\"margin\":{\"t\":60},\"width\":1600,\"xaxis\":{\"constrain\":\"domain\",\"scaleanchor\":\"y\"},\"yaxis\":{\"autorange\":\"reversed\",\"constrain\":\"domain\"},\"coloraxis\":{\"cmax\":11.289987564086914,\"cmid\":0.0,\"cmin\":-11.289987564086914,\"colorscale\":[[0.0,\"rgb(103,0,31)\"],[0.1,\"rgb(178,24,43)\"],[0.2,\"rgb(214,96,77)\"],[0.3,\"rgb(244,165,130)\"],[0.4,\"rgb(253,219,199)\"],[0.5,\"rgb(247,247,247)\"],[0.6,\"rgb(209,229,240)\"],[0.7,\"rgb(146,197,222)\"],[0.8,\"rgb(67,147,195)\"],[0.9,\"rgb(33,102,172)\"],[1.0,\"rgb(5,48,97)\"]]}},\"name\":\"2\"}]);\n",
       "                        }).then(function(){\n",
       "                            \n",
       "var gd = document.getElementById('d8460fce-c52f-4716-9331-daadad0b31b3');\n",
       "var x = new MutationObserver(function (mutations, observer) {{\n",
       "        var display = window.getComputedStyle(gd).display;\n",
       "        if (!display || display === 'none') {{\n",
       "            console.log([gd, 'removed!']);\n",
       "            Plotly.purge(gd);\n",
       "            observer.disconnect();\n",
       "        }}\n",
       "}});\n",
       "\n",
       "// Listen for the removal of the full notebook cells\n",
       "var notebookContainer = gd.closest('#notebook-container');\n",
       "if (notebookContainer) {{\n",
       "    x.observe(notebookContainer, {childList: true});\n",
       "}}\n",
       "\n",
       "// Listen for the clearing of the current output cell\n",
       "var outputEl = gd.closest('.output');\n",
       "if (outputEl) {{\n",
       "    x.observe(outputEl, {childList: true});\n",
       "}}\n",
       "\n",
       "                        })                };                });            </script>        </div>"
      ]
     },
     "metadata": {},
     "output_type": "display_data"
    }
   ],
   "source": [
    "batch_size = 10\n",
    "seed = 0\n",
    "ioi_dataset, ioi_cache = generate_data_and_caches(batch_size, model=model, seed=seed, only_ioi=True, prepend_bos=True, symmetric=True)\n",
    "\n",
    "def investigate_a_few_heads(\n",
    "    toks: Int[Tensor, \"batch seq\"],\n",
    "    head_list = [(9, 9), (10, 7), (11, 10)],\n",
    "    only_use_neg_projections: bool = False,\n",
    "):\n",
    "    labels = []\n",
    "    results = []\n",
    "    batch_size, seq_len = toks.shape\n",
    "\n",
    "    for head in head_list:\n",
    "        unembedding_coeffs = compute_weighted_avg_logit_suppression(\n",
    "            model=model,\n",
    "            toks=toks,\n",
    "            head=head,\n",
    "            only_use_neg_projections=only_use_neg_projections,\n",
    "            return_new_loss=False,\n",
    "        )\n",
    "        if isinstance(unembedding_coeffs, tuple):\n",
    "            unembedding_coeffs = unembedding_coeffs[0]\n",
    "        \n",
    "        logit_suppression_per_position = unembedding_coeffs[\"per_position\"]\n",
    "        weighted_avg_logit_suppression_per_sequence = unembedding_coeffs[\"per_sequence\"]\n",
    "        \n",
    "        # pattern_non_bos = unembedding_coeffs[\"pattern_non_bos\"]\n",
    "        # results_tensor = t.concat([weighted_avg_logit_suppression_per_position, weighted_avg_logit_suppression_per_sequence.unsqueeze(-1)], dim=-1)\n",
    "        # pattern_non_bos = t.concat([pattern_non_bos, t.zeros(batch_size, 1, dtype=t.float32, device=device)], dim=-1)\n",
    "\n",
    "        # results.extend([results_tensor, pattern_non_bos])\n",
    "        # head_name = f\"{head[0]}.{head[1]}\"\n",
    "        # labels.extend([head_name, head_name + \" (probs)\"])\n",
    "\n",
    "        results.append(logit_suppression_per_position)\n",
    "        labels.append(f\"{head[0]}.{head[1]}\")\n",
    "\n",
    "    text = [model.to_str_tokens(toks[i]) + [\"*\"] for i in range(batch_size)]\n",
    "    text = [[(i if i != \"<|endoftext|>\" else \"\") for i in T] for T in text]\n",
    "\n",
    "    results = t.stack(results)\n",
    "    zmax = results.abs().max().item()\n",
    "\n",
    "    fig = imshow(\n",
    "        results,\n",
    "        animation_frame = 0,\n",
    "        animation_labels = labels,\n",
    "        height = 800,\n",
    "        width = 1600,\n",
    "        return_fig = True,\n",
    "        zmax = zmax,\n",
    "        zmin = -zmax,\n",
    "    )\n",
    "\n",
    "    for i in range(len(fig.data)):\n",
    "        fig.data[i].update(\n",
    "            text=text, \n",
    "            texttemplate=\"%{text}\", \n",
    "            textfont={\"size\": 12}\n",
    "        )\n",
    "\n",
    "    fig.show()\n",
    "\n",
    "\n",
    "investigate_a_few_heads(ioi_dataset.toks, only_use_neg_projections=False)"
   ]
  },
  {
   "cell_type": "code",
   "execution_count": 25,
   "metadata": {},
   "outputs": [
    {
     "name": "stdout",
     "output_type": "stream",
     "text": [
      "Tokenized prompt: ['<|endoftext|>', 'Then', ',', ' Sarah', ' and', ' Arthur', ' had', ' a', ' lot', ' of', ' fun', ' at', ' the', ' hospital', '.', ' Arthur', ' gave', ' a', ' bone', ' to']\n",
      "Tokenized answer: [' Sarah']\n"
     ]
    },
    {
     "data": {
      "text/html": [
       "<pre style=\"white-space:pre;overflow-x:auto;line-height:normal;font-family:Menlo,'DejaVu Sans Mono',consolas,'Courier New',monospace\">Performance on answer token:\n",
       "<span style=\"font-weight: bold\">Rank: </span><span style=\"color: #008080; text-decoration-color: #008080; font-weight: bold\">0</span><span style=\"font-weight: bold\">        Logit: </span><span style=\"color: #008080; text-decoration-color: #008080; font-weight: bold\">16.50</span><span style=\"font-weight: bold\"> Prob: </span><span style=\"color: #008080; text-decoration-color: #008080; font-weight: bold\">46.79</span><span style=\"font-weight: bold\">% Token: | Sarah|</span>\n",
       "</pre>\n"
      ],
      "text/plain": [
       "Performance on answer token:\n",
       "\u001b[1mRank: \u001b[0m\u001b[1;36m0\u001b[0m\u001b[1m        Logit: \u001b[0m\u001b[1;36m16.50\u001b[0m\u001b[1m Prob: \u001b[0m\u001b[1;36m46.79\u001b[0m\u001b[1m% Token: | Sarah|\u001b[0m\n"
      ]
     },
     "metadata": {},
     "output_type": "display_data"
    },
    {
     "name": "stdout",
     "output_type": "stream",
     "text": [
      "Top 0th token. Logit: 16.50 Prob: 46.79% Token: | Sarah|\n",
      "Top 1th token. Logit: 15.31 Prob: 14.15% Token: | Arthur|\n",
      "Top 2th token. Logit: 14.42 Prob:  5.85% Token: | the|\n",
      "Top 3th token. Logit: 13.46 Prob:  2.24% Token: | her|\n",
      "Top 4th token. Logit: 13.09 Prob:  1.54% Token: | his|\n",
      "Top 5th token. Logit: 12.59 Prob:  0.94% Token: | a|\n",
      "Top 6th token. Logit: 12.52 Prob:  0.87% Token: | Mary|\n",
      "Top 7th token. Logit: 12.47 Prob:  0.83% Token: | their|\n",
      "Top 8th token. Logit: 11.71 Prob:  0.39% Token: | one|\n",
      "Top 9th token. Logit: 11.69 Prob:  0.38% Token: | them|\n"
     ]
    },
    {
     "data": {
      "text/html": [
       "<pre style=\"white-space:pre;overflow-x:auto;line-height:normal;font-family:Menlo,'DejaVu Sans Mono',consolas,'Courier New',monospace\"><span style=\"font-weight: bold\">Ranks of the answer tokens:</span> <span style=\"font-weight: bold\">[(</span><span style=\"color: #008000; text-decoration-color: #008000\">' Sarah'</span>, <span style=\"color: #008080; text-decoration-color: #008080; font-weight: bold\">0</span><span style=\"font-weight: bold\">)]</span>\n",
       "</pre>\n"
      ],
      "text/plain": [
       "\u001b[1mRanks of the answer tokens:\u001b[0m \u001b[1m[\u001b[0m\u001b[1m(\u001b[0m\u001b[32m' Sarah'\u001b[0m, \u001b[1;36m0\u001b[0m\u001b[1m)\u001b[0m\u001b[1m]\u001b[0m\n"
      ]
     },
     "metadata": {},
     "output_type": "display_data"
    }
   ],
   "source": [
    "utils.test_prompt(\"Then, Sarah and Arthur had a lot of fun at the hospital. Arthur gave a bone to\", \" Sarah\", model)"
   ]
  },
  {
   "cell_type": "code",
   "execution_count": 7,
   "metadata": {},
   "outputs": [
    {
     "data": {
      "text/html": [
       "<div id=\"circuits-vis-533cc49f-7bb1\" style=\"margin: 15px 0;\"/>\n",
       "    <script crossorigin type=\"module\">\n",
       "    import { render, AttentionPatterns } from \"https://unpkg.com/circuitsvis@1.39.1/dist/cdn/esm.js\";\n",
       "    render(\n",
       "      \"circuits-vis-533cc49f-7bb1\",\n",
       "      AttentionPatterns,\n",
       "      {\"tokens\": [\"<|endoftext|>\", \"Then\", \",\", \" Sarah\", \" and\", \" Arthur\", \" had\", \" a\", \" lot\", \" of\", \" fun\", \" at\", \" the\", \" hospital\", \".\", \" Arthur\", \" gave\", \" a\", \" bone\", \" to\", \" Sarah\"], \"attention\": [[[1.0, 0.0, 0.0, 0.0, 0.0, 0.0, 0.0, 0.0, 0.0, 0.0, 0.0, 0.0, 0.0, 0.0, 0.0, 0.0, 0.0, 0.0, 0.0, 0.0, 0.0], [0.9675536751747131, 0.03244631364941597, 0.0, 0.0, 0.0, 0.0, 0.0, 0.0, 0.0, 0.0, 0.0, 0.0, 0.0, 0.0, 0.0, 0.0, 0.0, 0.0, 0.0, 0.0, 0.0], [0.8955411911010742, 0.05736587196588516, 0.04709290713071823, 0.0, 0.0, 0.0, 0.0, 0.0, 0.0, 0.0, 0.0, 0.0, 0.0, 0.0, 0.0, 0.0, 0.0, 0.0, 0.0, 0.0, 0.0], [0.9532007575035095, 0.009902874939143658, 0.01544193271547556, 0.02145441249012947, 0.0, 0.0, 0.0, 0.0, 0.0, 0.0, 0.0, 0.0, 0.0, 0.0, 0.0, 0.0, 0.0, 0.0, 0.0, 0.0, 0.0], [0.5479190349578857, 0.016253245994448662, 0.011035979725420475, 0.39574816823005676, 0.029043639078736305, 0.0, 0.0, 0.0, 0.0, 0.0, 0.0, 0.0, 0.0, 0.0, 0.0, 0.0, 0.0, 0.0, 0.0, 0.0, 0.0], [0.895926296710968, 0.014111226424574852, 0.02566065825521946, 0.005506736226379871, 0.035418421030044556, 0.023376671597361565, 0.0, 0.0, 0.0, 0.0, 0.0, 0.0, 0.0, 0.0, 0.0, 0.0, 0.0, 0.0, 0.0, 0.0, 0.0], [0.8313419222831726, 0.02118179202079773, 0.02990919165313244, 0.008534111082553864, 0.03786195442080498, 0.013366264291107655, 0.05780477076768875, 0.0, 0.0, 0.0, 0.0, 0.0, 0.0, 0.0, 0.0, 0.0, 0.0, 0.0, 0.0, 0.0, 0.0], [0.8139839172363281, 0.013352357782423496, 0.03191063553094864, 0.0017222812166437507, 0.03027065470814705, 0.004387825261801481, 0.05300288274884224, 0.05136951431632042, 0.0, 0.0, 0.0, 0.0, 0.0, 0.0, 0.0, 0.0, 0.0, 0.0, 0.0, 0.0, 0.0], [0.9622862339019775, 0.00298730144277215, 0.006137821823358536, 0.0004197478701826185, 0.003922122996300459, 0.0009028706699609756, 0.013817082159221172, 0.0031575008761137724, 0.006369352340698242, 0.0, 0.0, 0.0, 0.0, 0.0, 0.0, 0.0, 0.0, 0.0, 0.0, 0.0, 0.0], [0.7984485030174255, 0.009860801510512829, 0.0185522623360157, 0.005906166974455118, 0.02318253368139267, 0.006861385889351368, 0.02664506807923317, 0.03709864243865013, 0.03330134600400925, 0.040143340826034546, 0.0, 0.0, 0.0, 0.0, 0.0, 0.0, 0.0, 0.0, 0.0, 0.0, 0.0], [0.8549243807792664, 0.005259261000901461, 0.025354251265525818, 0.0007692770450375974, 0.014518211595714092, 0.0008487069280818105, 0.032449208199977875, 0.015032627619802952, 0.0011913945199921727, 0.007668617647141218, 0.04198412224650383, 0.0, 0.0, 0.0, 0.0, 0.0, 0.0, 0.0, 0.0, 0.0, 0.0], [0.7866827249526978, 0.007201780565083027, 0.013004179112613201, 0.02103964053094387, 0.02387152798473835, 0.021924370899796486, 0.03224469721317291, 0.024318069219589233, 0.002140744123607874, 0.009150451049208641, 0.013626585714519024, 0.044795285910367966, 0.0, 0.0, 0.0, 0.0, 0.0, 0.0, 0.0, 0.0, 0.0], [0.7336069941520691, 0.01174041349440813, 0.019107937812805176, 0.004322831518948078, 0.02473430149257183, 0.009526160545647144, 0.030654171481728554, 0.034370262175798416, 0.0023350080009549856, 0.008379952050745487, 0.014706586487591267, 0.053061097860336304, 0.053454313427209854, 0.0, 0.0, 0.0, 0.0, 0.0, 0.0, 0.0, 0.0], [0.7981044054031372, 0.008875031024217606, 0.020123882219195366, 0.002631788607686758, 0.02037588320672512, 0.004993723705410957, 0.02256983332335949, 0.0056127761490643024, 0.0008164097089320421, 0.002394340466707945, 0.0026014051400125027, 0.02163904905319214, 0.010182441212236881, 0.0790790468454361, 0.0, 0.0, 0.0, 0.0, 0.0, 0.0, 0.0], [0.11937572062015533, 0.013665951788425446, 0.012588845565915108, 0.28404757380485535, 0.039001017808914185, 0.49147531390190125, 0.0038802518974989653, 0.0025630672462284565, 0.00015126800280995667, 0.0013148767175152898, 0.0009073228575289249, 0.005007430911064148, 0.004463846795260906, 0.00222883396781981, 0.019328679889440536, 0.0, 0.0, 0.0, 0.0, 0.0, 0.0], [0.7082258462905884, 0.012075900100171566, 0.025402097031474113, 0.003390643047168851, 0.07764994353055954, 0.00955810397863388, 0.07971732318401337, 0.006755833979696035, 0.0013361754827201366, 0.005446118768304586, 0.005714300088584423, 0.020121246576309204, 0.007023987825959921, 0.0032435068860650063, 0.022664139047265053, 0.011674905195832253, 0.0, 0.0, 0.0, 0.0, 0.0], [0.05173248425126076, 0.005635215900838375, 0.0042846365831792355, 0.6935927271842957, 0.017373474314808846, 0.12006282806396484, 0.00308230216614902, 0.0019570770673453808, 0.00012422694999258965, 0.0009273845353163779, 0.0011250751558691263, 0.0032672265078872442, 0.002741793403401971, 0.0030928878113627434, 0.006812582723796368, 0.07478303462266922, 0.009405081160366535, 0.0, 0.0, 0.0, 0.0], [0.6651273369789124, 0.006214360240846872, 0.009749756194651127, 0.003841803641989827, 0.015416838228702545, 0.0033299163915216923, 0.014053050428628922, 0.010713823139667511, 0.0031869332306087017, 0.007562017999589443, 0.06776809692382812, 0.032722920179367065, 0.017168613150715828, 0.04158739373087883, 0.022374706342816353, 0.0024061785079538822, 0.05011777579784393, 0.026658397167921066, 0.0, 0.0, 0.0], [0.9202920198440552, 0.00023593308287672698, 0.0025234161876142025, 0.0004967920249328017, 0.004346438217908144, 0.0006345401052385569, 0.0027670147828757763, 0.0006318523664958775, 0.0002180522569688037, 0.0008392441086471081, 0.0009360708645544946, 0.004023050423711538, 0.001349815633147955, 0.006663216277956963, 0.004644452128559351, 0.00047740270383656025, 0.005400539375841618, 0.0011152873048558831, 0.04240480810403824, 0.0, 0.0], [0.09645939618349075, 0.0029474955517798662, 0.0030171514954417944, 0.4143359065055847, 0.016799209639430046, 0.25600290298461914, 0.0027727908454835415, 0.0011249263770878315, 5.438442531158216e-05, 0.0005477028898894787, 0.00041502711246721447, 0.002825344679877162, 0.0019444078207015991, 0.005781603045761585, 0.007373920641839504, 0.16802462935447693, 0.009743666276335716, 0.0016718832775950432, 0.0021427348256111145, 0.006014837883412838, 0.0], [0.7648000121116638, 0.015192567370831966, 0.024314183741807938, 0.013315349817276001, 0.03420936316251755, 0.019241739064455032, 0.016381656751036644, 0.0029062130488455296, 0.00041567833977751434, 0.0021491453517228365, 0.0009350497275590897, 0.008111802861094475, 0.0036981264129281044, 0.002328023547306657, 0.017244059592485428, 0.02067730762064457, 0.016680259257555008, 0.004395300056785345, 0.0020950883626937866, 0.014928820542991161, 0.015980295836925507]], [[1.0, 0.0, 0.0, 0.0, 0.0, 0.0, 0.0, 0.0, 0.0, 0.0, 0.0, 0.0, 0.0, 0.0, 0.0, 0.0, 0.0, 0.0, 0.0, 0.0, 0.0], [0.998664140701294, 0.0013358346186578274, 0.0, 0.0, 0.0, 0.0, 0.0, 0.0, 0.0, 0.0, 0.0, 0.0, 0.0, 0.0, 0.0, 0.0, 0.0, 0.0, 0.0, 0.0, 0.0], [0.994515597820282, 0.0029360572807490826, 0.002548330230638385, 0.0, 0.0, 0.0, 0.0, 0.0, 0.0, 0.0, 0.0, 0.0, 0.0, 0.0, 0.0, 0.0, 0.0, 0.0, 0.0, 0.0, 0.0], [0.9911726117134094, 0.00145015271846205, 0.0006857063272036612, 0.006691582500934601, 0.0, 0.0, 0.0, 0.0, 0.0, 0.0, 0.0, 0.0, 0.0, 0.0, 0.0, 0.0, 0.0, 0.0, 0.0, 0.0, 0.0], [0.9022312760353088, 0.0033993071410804987, 0.0012512652901932597, 0.0918293371796608, 0.0012887741904705763, 0.0, 0.0, 0.0, 0.0, 0.0, 0.0, 0.0, 0.0, 0.0, 0.0, 0.0, 0.0, 0.0, 0.0, 0.0, 0.0], [0.9830355644226074, 0.0020444216206669807, 0.0010938497725874186, 0.006997444201260805, 0.002246803604066372, 0.004581969231367111, 0.0, 0.0, 0.0, 0.0, 0.0, 0.0, 0.0, 0.0, 0.0, 0.0, 0.0, 0.0, 0.0, 0.0, 0.0], [0.9764813780784607, 0.002017374150454998, 0.005202745087444782, 0.008490494452416897, 0.0013261097483336926, 0.004997207783162594, 0.001484606764279306, 0.0, 0.0, 0.0, 0.0, 0.0, 0.0, 0.0, 0.0, 0.0, 0.0, 0.0, 0.0, 0.0, 0.0], [0.9926691055297852, 0.001116467290557921, 0.001817671349272132, 0.001072433777153492, 0.0006284808041527867, 0.00034790890640579164, 0.000305828609270975, 0.0020420614164322615, 0.0, 0.0, 0.0, 0.0, 0.0, 0.0, 0.0, 0.0, 0.0, 0.0, 0.0, 0.0, 0.0], [0.9977053999900818, 0.0002326123067177832, 0.00031431770185008645, 0.00033105426700785756, 5.9729984059231356e-05, 0.00024744667462073267, 0.00024340230447705835, 0.0003620385832618922, 0.0005040671676397324, 0.0, 0.0, 0.0, 0.0, 0.0, 0.0, 0.0, 0.0, 0.0, 0.0, 0.0, 0.0], [0.9835723042488098, 0.001002323580905795, 0.0007082716329023242, 0.005523489788174629, 0.00023414315364789218, 0.004986945539712906, 0.00017897249199450016, 0.0014947523595765233, 0.0014720577746629715, 0.0008266587974503636, 0.0, 0.0, 0.0, 0.0, 0.0, 0.0, 0.0, 0.0, 0.0, 0.0, 0.0], [0.9861891865730286, 0.0007426450029015541, 0.0007458881009370089, 0.001242998638190329, 0.0005195917328819633, 0.0005647270008921623, 0.0006528486264869571, 0.0007377489237114787, 0.0002548673073761165, 0.00024673252482898533, 0.008102701976895332, 0.0, 0.0, 0.0, 0.0, 0.0, 0.0, 0.0, 0.0, 0.0, 0.0], [0.9423940777778625, 0.01173804048448801, 0.005654779728502035, 0.018381426110863686, 0.0006510703242383897, 0.009930710308253765, 0.0002993140078615397, 0.0005099790869280696, 6.99083975632675e-05, 0.00012113601405872032, 0.00475823599845171, 0.005491342395544052, 0.0, 0.0, 0.0, 0.0, 0.0, 0.0, 0.0, 0.0, 0.0], [0.967500627040863, 0.010973348282277584, 0.0026336372829973698, 0.001322124502621591, 0.0004690130881499499, 0.0010178269585594535, 0.00034911910188384354, 0.0003985740477219224, 0.0004604506539180875, 0.00013651624612975866, 0.004887913819402456, 0.0016010298859328032, 0.008249759674072266, 0.0, 0.0, 0.0, 0.0, 0.0, 0.0, 0.0, 0.0], [0.968808650970459, 0.0029622253496199846, 0.0005958047113381326, 0.0019022108754143119, 0.0017829043790698051, 0.0013288414338603616, 0.0003019376890733838, 0.00023109072935767472, 0.00046079096500761807, 0.00019083420920651406, 0.002276856917887926, 0.0016572828171774745, 0.0010344784241169691, 0.016465986147522926, 0.0, 0.0, 0.0, 0.0, 0.0, 0.0, 0.0], [0.3172210156917572, 0.01496848277747631, 0.0026318414602428675, 0.31993287801742554, 0.0037630225997418165, 0.3123064339160919, 0.0010492134606465697, 0.0015910770744085312, 0.0007418538443744183, 0.0009107179357670248, 0.005500708241015673, 0.002368330955505371, 0.0018693420570343733, 0.005926600191742182, 0.009218513034284115, 0.0, 0.0, 0.0, 0.0, 0.0, 0.0], [0.9354001879692078, 0.001965524163097143, 0.0015600220067426562, 0.008798952214419842, 0.011777241714298725, 0.01856793463230133, 0.006542918272316456, 0.0006024971953593194, 0.0011633889516815543, 0.00028012870461679995, 0.004509365651756525, 0.0011591010261327028, 0.000374945520889014, 0.0021048199851065874, 0.001929149846546352, 0.0032637915574014187, 0.0, 0.0, 0.0, 0.0, 0.0], [0.19105780124664307, 0.021739069372415543, 0.004054447636008263, 0.6477689146995544, 0.004098859615623951, 0.05673283338546753, 0.00040322597487829626, 0.0011238601291552186, 0.0001549385633552447, 0.00016740044520702213, 0.0032842105720192194, 0.0010446271626278758, 0.0005400553345680237, 0.0015374367358163, 0.00847782101482153, 0.05622049793601036, 0.001593929249793291, 0.0, 0.0, 0.0, 0.0], [0.9664602279663086, 0.0015030716313049197, 0.0008571230573579669, 0.00484826322644949, 0.002451808424666524, 0.0008474985370412469, 0.00018471380462870002, 0.00031832882086746395, 0.0016467759851366282, 0.00011225254274904728, 0.007298202253878117, 0.00046995998127385974, 9.873469389276579e-05, 0.0026743696071207523, 0.005305559374392033, 0.00035309288068674505, 0.0020602955482900143, 0.0025096929166465998, 0.0, 0.0, 0.0], [0.9828008413314819, 0.00044982662075199187, 0.0005925526493228972, 0.0016402601031586528, 0.0006216647452674806, 0.002164024394005537, 0.0001462237851228565, 0.00011619528231676668, 0.00013444159412756562, 6.26592809567228e-05, 0.001311830128543079, 0.00023250681988429278, 5.310450433171354e-05, 0.0015480179572477937, 0.0010458511533215642, 0.00037430142401717603, 0.00026750884717330337, 0.00012247913400642574, 0.006315699312835932, 0.0, 0.0], [0.3348274230957031, 0.016025394201278687, 0.006559670437127352, 0.3870764970779419, 0.005244576372206211, 0.16585198044776917, 0.0010263691656291485, 0.0009230771102011204, 0.00010108355490956455, 0.0005291895940899849, 0.0022148233838379383, 0.001178279984742403, 0.0012548245722427964, 0.0017359702615067363, 0.005664153955876827, 0.058187488466501236, 0.001722621964290738, 0.000954981311224401, 0.0034659195225685835, 0.005455689039081335, 0.0], [0.9128314852714539, 0.0022952519357204437, 0.0014088269090279937, 0.006196408998221159, 0.0368308462202549, 0.018461018800735474, 0.002669142559170723, 0.00031457937438972294, 0.0010828393278643489, 0.00034008463262580335, 0.001720848842523992, 0.0025663678534328938, 0.00015188897668849677, 0.0011590167414397001, 0.0027372788172215223, 0.002322452375665307, 0.0007562626851722598, 0.00011927601008210331, 0.00036657857708632946, 0.0011746512027457356, 0.004494847264140844]], [[1.0, 0.0, 0.0, 0.0, 0.0, 0.0, 0.0, 0.0, 0.0, 0.0, 0.0, 0.0, 0.0, 0.0, 0.0, 0.0, 0.0, 0.0, 0.0, 0.0, 0.0], [2.772201696643606e-06, 0.9999972581863403, 0.0, 0.0, 0.0, 0.0, 0.0, 0.0, 0.0, 0.0, 0.0, 0.0, 0.0, 0.0, 0.0, 0.0, 0.0, 0.0, 0.0, 0.0, 0.0], [6.62887905491516e-05, 0.6458559036254883, 0.3540777564048767, 0.0, 0.0, 0.0, 0.0, 0.0, 0.0, 0.0, 0.0, 0.0, 0.0, 0.0, 0.0, 0.0, 0.0, 0.0, 0.0, 0.0, 0.0], [9.381904419569764e-06, 0.4019090235233307, 0.19428232312202454, 0.40379923582077026, 0.0, 0.0, 0.0, 0.0, 0.0, 0.0, 0.0, 0.0, 0.0, 0.0, 0.0, 0.0, 0.0, 0.0, 0.0, 0.0, 0.0], [1.9271898054284975e-05, 0.1815316081047058, 0.2024860978126526, 0.16436393558979034, 0.4515990614891052, 0.0, 0.0, 0.0, 0.0, 0.0, 0.0, 0.0, 0.0, 0.0, 0.0, 0.0, 0.0, 0.0, 0.0, 0.0, 0.0], [8.642156899441034e-05, 0.25709813833236694, 0.10070719569921494, 0.19923506677150726, 0.11519528925418854, 0.3276779055595398, 0.0, 0.0, 0.0, 0.0, 0.0, 0.0, 0.0, 0.0, 0.0, 0.0, 0.0, 0.0, 0.0, 0.0, 0.0], [1.7934951756615192e-05, 0.2373984158039093, 0.24352510273456573, 0.04781978204846382, 0.040362995117902756, 0.13568982481956482, 0.29518601298332214, 0.0, 0.0, 0.0, 0.0, 0.0, 0.0, 0.0, 0.0, 0.0, 0.0, 0.0, 0.0, 0.0, 0.0], [6.0034493799321353e-05, 0.2049473524093628, 0.1618954837322235, 0.03779737651348114, 0.02083141729235649, 0.09519300609827042, 0.3845224380493164, 0.09475283324718475, 0.0, 0.0, 0.0, 0.0, 0.0, 0.0, 0.0, 0.0, 0.0, 0.0, 0.0, 0.0, 0.0], [2.050718103419058e-05, 0.13700513541698456, 0.08442798256874084, 0.07325449585914612, 0.013034229166805744, 0.08301103860139847, 0.1246756836771965, 0.2388334721326828, 0.2457374632358551, 0.0, 0.0, 0.0, 0.0, 0.0, 0.0, 0.0, 0.0, 0.0, 0.0, 0.0, 0.0], [2.8446658689063042e-05, 0.20335721969604492, 0.13279171288013458, 0.022624434903264046, 0.017964784055948257, 0.036747194826602936, 0.26726147532463074, 0.1518116295337677, 0.0946161225438118, 0.07279690355062485, 0.0, 0.0, 0.0, 0.0, 0.0, 0.0, 0.0, 0.0, 0.0, 0.0, 0.0], [1.2734962183458265e-05, 0.10266031324863434, 0.07018512487411499, 0.026254406198859215, 0.007731425575911999, 0.07397527247667313, 0.30979254841804504, 0.07673121243715286, 0.07741081714630127, 0.04049397259950638, 0.21475212275981903, 0.0, 0.0, 0.0, 0.0, 0.0, 0.0, 0.0, 0.0, 0.0, 0.0], [0.00010580445086816326, 0.08928326517343521, 0.06903571635484695, 0.03361533209681511, 0.04029560834169388, 0.04944958537817001, 0.2071472555398941, 0.12535397708415985, 0.0535799041390419, 0.07824619859457016, 0.14147180318832397, 0.11241556704044342, 0.0, 0.0, 0.0, 0.0, 0.0, 0.0, 0.0, 0.0, 0.0], [0.0005074738874100149, 0.08671687543392181, 0.09568427503108978, 0.03762876242399216, 0.02458764612674713, 0.06793062388896942, 0.07270406931638718, 0.11505232006311417, 0.01238506194204092, 0.04981696978211403, 0.023553911596536636, 0.2274472564458847, 0.185984805226326, 0.0, 0.0, 0.0, 0.0, 0.0, 0.0, 0.0, 0.0], [1.2829303159378469e-05, 0.07094015926122665, 0.087153859436512, 0.029347216710448265, 0.004837175831198692, 0.1910601109266281, 0.07318618148565292, 0.046785175800323486, 0.07671909779310226, 0.01751922257244587, 0.2958504259586334, 0.02932933159172535, 0.03461311757564545, 0.042646124958992004, 0.0, 0.0, 0.0, 0.0, 0.0, 0.0, 0.0], [0.00024091363593470305, 0.06690331548452377, 0.06411726772785187, 0.016742438077926636, 0.016489064320921898, 0.02446497604250908, 0.08208588510751724, 0.015018383041024208, 0.010803989134728909, 0.01062081940472126, 0.02421906776726246, 0.01205992978066206, 0.0074551403522491455, 0.01724172756075859, 0.6315370202064514, 0.0, 0.0, 0.0, 0.0, 0.0, 0.0], [7.713646482443437e-06, 0.03955881670117378, 0.04276473447680473, 0.022102296352386475, 0.012222034856677055, 0.06483346968889236, 0.48420268297195435, 0.01857724040746689, 0.011345786042511463, 0.011530849151313305, 0.019051870331168175, 0.01450489740818739, 0.0035947232972830534, 0.0043881614692509174, 0.09966210275888443, 0.15165261924266815, 0.0, 0.0, 0.0, 0.0, 0.0], [2.6595622330205515e-05, 0.03698769211769104, 0.03936264291405678, 0.004149883519858122, 0.02190747670829296, 0.01471101026982069, 0.04316231235861778, 0.03366270288825035, 0.014734020456671715, 0.01084471307694912, 0.008615092374384403, 0.011349808424711227, 0.013699917122721672, 0.018421083688735962, 0.5748474597930908, 0.051685821264982224, 0.10183175653219223, 0.0, 0.0, 0.0, 0.0], [0.0001494611642556265, 0.05065338686108589, 0.04919184371829033, 0.060742054134607315, 0.024975886568427086, 0.03873084858059883, 0.1082335039973259, 0.05198756232857704, 0.009748485870659351, 0.04136192798614502, 0.027488071471452713, 0.059320103377103806, 0.040665533393621445, 0.007838648743927479, 0.049529802054166794, 0.10092346370220184, 0.07213848829269409, 0.2063208520412445, 0.0, 0.0, 0.0], [0.00036809800076298416, 0.03340727090835571, 0.02213907614350319, 0.042958781123161316, 0.017170419916510582, 0.019461533054709435, 0.022227825596928596, 0.13861076533794403, 0.02588593028485775, 0.023050539195537567, 0.04450082406401634, 0.02295778878033161, 0.1209467202425003, 0.035816919058561325, 0.007669833023101091, 0.03412075340747833, 0.02435586042702198, 0.3014397919178009, 0.06291129440069199, 0.0, 0.0], [6.938140722922981e-05, 0.034276608377695084, 0.028715528547763824, 0.006981621030718088, 0.0315471850335598, 0.0127083295956254, 0.018574608489871025, 0.020919520407915115, 0.005231592804193497, 0.0026093567721545696, 0.006178115028887987, 0.012164292857050896, 0.012399088591337204, 0.006866064388304949, 0.30611327290534973, 0.09104478359222412, 0.35547715425491333, 0.02571362443268299, 0.005446364637464285, 0.016963591799139977, 0.0], [1.602524207555689e-05, 0.030937381088733673, 0.05450260266661644, 0.018836887553334236, 0.009024951606988907, 0.06692568212747574, 0.049751993268728256, 0.04127836227416992, 0.03445892408490181, 0.007127521559596062, 0.05220847204327583, 0.024334842339158058, 0.01252327486872673, 0.0232742540538311, 0.050835512578487396, 0.2476375699043274, 0.07906191051006317, 0.04875068739056587, 0.03348991647362709, 0.029800357297062874, 0.08522291481494904]]], \"headLabels\": [\"10.7\", \"9.9\", \"11.10\"]}\n",
       "    )\n",
       "    </script>"
      ],
      "text/plain": [
       "<circuitsvis.utils.render.RenderedHTML at 0x7fc976c2fa90>"
      ]
     },
     "execution_count": 7,
     "metadata": {},
     "output_type": "execute_result"
    }
   ],
   "source": [
    "batch_idx = 0\n",
    "\n",
    "cv.attention.attention_patterns(\n",
    "    tokens = model.to_str_tokens(ioi_dataset.toks[batch_idx]),\n",
    "    attention = t.stack([ioi_cache[\"pattern\", 10][batch_idx, 7], ioi_cache[\"pattern\", 9][batch_idx, 9], ioi_cache[\"pattern\", 11][batch_idx, 8]]),\n",
    "    attention_head_names = [\"10.7\", \"9.9\", \"11.10\"]\n",
    ")"
   ]
  },
  {
   "cell_type": "code",
   "execution_count": 47,
   "metadata": {},
   "outputs": [
    {
     "data": {
      "application/vnd.jupyter.widget-view+json": {
       "model_id": "2f56049b9e904c17b64fc5bcb8b9ca6f",
       "version_major": 2,
       "version_minor": 0
      },
      "text/plain": [
       "  0%|          | 0/144 [00:00<?, ?it/s]"
      ]
     },
     "metadata": {},
     "output_type": "display_data"
    }
   ],
   "source": [
    "def create_really_hacky_first_pass_metric(\n",
    "    batch_size: int = 20,\n",
    "    seed: int = 0,\n",
    "):\n",
    "    ioi_dataset = generate_data_and_caches(batch_size, model=model, seed=seed, only_ioi=True, prepend_bos=True, return_cache=False)\n",
    "\n",
    "    unembedding_coeffs_all = t.zeros(12, 12)\n",
    "\n",
    "    for layer, head_idx in tqdm(list(itertools.product(range(12), range(12)))):\n",
    "        unembedding_coeffs = compute_weighted_avg_logit_suppression(\n",
    "            model=model,\n",
    "            toks=ioi_dataset.toks,\n",
    "            head=(layer, head_idx),\n",
    "            only_use_neg_projections=False,\n",
    "            return_new_loss=False,\n",
    "        )\n",
    "        if isinstance(unembedding_coeffs, tuple):\n",
    "            unembedding_coeffs = unembedding_coeffs[0]\n",
    "\n",
    "        unembedding_coeffs_all[layer, head_idx] = unembedding_coeffs[\"per_sequence\"].mean()\n",
    "\n",
    "    return unembedding_coeffs_all\n",
    "\n",
    "unembedding_coeffs_first_pass = create_really_hacky_first_pass_metric()"
   ]
  },
  {
   "cell_type": "code",
   "execution_count": 48,
   "metadata": {},
   "outputs": [
    {
     "data": {
      "application/vnd.plotly.v1+json": {
       "config": {
        "displaylogo": false,
        "plotlyServerURL": "https://plot.ly",
        "responsive": true
       },
       "data": [
        {
         "coloraxis": "coloraxis",
         "hovertemplate": "x: %{x}<br>y: %{y}<br>color: %{z}<extra></extra>",
         "name": "0",
         "type": "heatmap",
         "xaxis": "x",
         "yaxis": "y",
         "z": [
          [
           0,
           0,
           0,
           0,
           0,
           0,
           0,
           -0.017489319667220116,
           -0.14313505589962006,
           -0.1190628930926323,
           0,
           -0.008332381956279278
          ],
          [
           -0.033380765467882156,
           -0.10641618818044662,
           -0.09967159479856491,
           0,
           -0.014531361870467663,
           -0.20336242020130157,
           0,
           0,
           0,
           0,
           -0.13428544998168945,
           -0.05589766427874565
          ],
          [
           -0.018035944551229477,
           0,
           -0.015988079831004143,
           0,
           0,
           -0.054987359791994095,
           0,
           -0.0334056094288826,
           -0.0789441391825676,
           0,
           -0.13534857332706451,
           0
          ],
          [
           0,
           0,
           -0.00833999551832676,
           0,
           0,
           0,
           0,
           0,
           -0.05005164071917534,
           0,
           -0.08460481464862823,
           0
          ],
          [
           -0.05057584121823311,
           0,
           0,
           0,
           -0.06823867559432983,
           0,
           -0.020865650847554207,
           -0.09046254307031631,
           0,
           0,
           0,
           0
          ],
          [
           0,
           0,
           0,
           0,
           -0.03815946727991104,
           0,
           0,
           0,
           -0.02121184580028057,
           -0.07701008021831512,
           0,
           -0.0745619386434555
          ],
          [
           0,
           0,
           0,
           0,
           0,
           -0.19244147837162018,
           -0.11108043044805527,
           0,
           0,
           0,
           0,
           0
          ],
          [
           -0.0046397363767027855,
           0,
           0,
           -0.13929010927677155,
           0,
           0,
           -0.07038535922765732,
           0,
           0,
           -0.060948919504880905,
           0,
           0
          ],
          [
           -0.020541435107588768,
           0,
           0,
           0,
           0,
           0,
           0,
           -0.008357343263924122,
           0,
           -0.1350913792848587,
           -0.47632351517677307,
           0
          ],
          [
           0,
           0,
           0,
           0,
           -0.06099791079759598,
           -0.18165253102779388,
           0,
           -0.04978211596608162,
           0,
           0,
           0,
           0
          ],
          [
           0,
           0,
           0,
           0,
           0,
           0,
           0,
           -3.285259962081909,
           0,
           0,
           0,
           0
          ],
          [
           -0.2932201325893402,
           0,
           0,
           0,
           0,
           0,
           0,
           0,
           0,
           0,
           -2.239227771759033,
           0
          ]
         ]
        }
       ],
       "layout": {
        "coloraxis": {
         "cmid": 0,
         "colorscale": [
          [
           0,
           "rgb(103,0,31)"
          ],
          [
           0.1,
           "rgb(178,24,43)"
          ],
          [
           0.2,
           "rgb(214,96,77)"
          ],
          [
           0.3,
           "rgb(244,165,130)"
          ],
          [
           0.4,
           "rgb(253,219,199)"
          ],
          [
           0.5,
           "rgb(247,247,247)"
          ],
          [
           0.6,
           "rgb(209,229,240)"
          ],
          [
           0.7,
           "rgb(146,197,222)"
          ],
          [
           0.8,
           "rgb(67,147,195)"
          ],
          [
           0.9,
           "rgb(33,102,172)"
          ],
          [
           1,
           "rgb(5,48,97)"
          ]
         ]
        },
        "height": 600,
        "modebar": {
         "add": [
          "drawline",
          "drawopenpath",
          "drawclosedpath",
          "drawcircle",
          "drawrect",
          "eraseshape"
         ]
        },
        "template": {
         "data": {
          "bar": [
           {
            "error_x": {
             "color": "#2a3f5f"
            },
            "error_y": {
             "color": "#2a3f5f"
            },
            "marker": {
             "line": {
              "color": "#E5ECF6",
              "width": 0.5
             },
             "pattern": {
              "fillmode": "overlay",
              "size": 10,
              "solidity": 0.2
             }
            },
            "type": "bar"
           }
          ],
          "barpolar": [
           {
            "marker": {
             "line": {
              "color": "#E5ECF6",
              "width": 0.5
             },
             "pattern": {
              "fillmode": "overlay",
              "size": 10,
              "solidity": 0.2
             }
            },
            "type": "barpolar"
           }
          ],
          "carpet": [
           {
            "aaxis": {
             "endlinecolor": "#2a3f5f",
             "gridcolor": "white",
             "linecolor": "white",
             "minorgridcolor": "white",
             "startlinecolor": "#2a3f5f"
            },
            "baxis": {
             "endlinecolor": "#2a3f5f",
             "gridcolor": "white",
             "linecolor": "white",
             "minorgridcolor": "white",
             "startlinecolor": "#2a3f5f"
            },
            "type": "carpet"
           }
          ],
          "choropleth": [
           {
            "colorbar": {
             "outlinewidth": 0,
             "ticks": ""
            },
            "type": "choropleth"
           }
          ],
          "contour": [
           {
            "colorbar": {
             "outlinewidth": 0,
             "ticks": ""
            },
            "colorscale": [
             [
              0,
              "#0d0887"
             ],
             [
              0.1111111111111111,
              "#46039f"
             ],
             [
              0.2222222222222222,
              "#7201a8"
             ],
             [
              0.3333333333333333,
              "#9c179e"
             ],
             [
              0.4444444444444444,
              "#bd3786"
             ],
             [
              0.5555555555555556,
              "#d8576b"
             ],
             [
              0.6666666666666666,
              "#ed7953"
             ],
             [
              0.7777777777777778,
              "#fb9f3a"
             ],
             [
              0.8888888888888888,
              "#fdca26"
             ],
             [
              1,
              "#f0f921"
             ]
            ],
            "type": "contour"
           }
          ],
          "contourcarpet": [
           {
            "colorbar": {
             "outlinewidth": 0,
             "ticks": ""
            },
            "type": "contourcarpet"
           }
          ],
          "heatmap": [
           {
            "colorbar": {
             "outlinewidth": 0,
             "ticks": ""
            },
            "colorscale": [
             [
              0,
              "#0d0887"
             ],
             [
              0.1111111111111111,
              "#46039f"
             ],
             [
              0.2222222222222222,
              "#7201a8"
             ],
             [
              0.3333333333333333,
              "#9c179e"
             ],
             [
              0.4444444444444444,
              "#bd3786"
             ],
             [
              0.5555555555555556,
              "#d8576b"
             ],
             [
              0.6666666666666666,
              "#ed7953"
             ],
             [
              0.7777777777777778,
              "#fb9f3a"
             ],
             [
              0.8888888888888888,
              "#fdca26"
             ],
             [
              1,
              "#f0f921"
             ]
            ],
            "type": "heatmap"
           }
          ],
          "heatmapgl": [
           {
            "colorbar": {
             "outlinewidth": 0,
             "ticks": ""
            },
            "colorscale": [
             [
              0,
              "#0d0887"
             ],
             [
              0.1111111111111111,
              "#46039f"
             ],
             [
              0.2222222222222222,
              "#7201a8"
             ],
             [
              0.3333333333333333,
              "#9c179e"
             ],
             [
              0.4444444444444444,
              "#bd3786"
             ],
             [
              0.5555555555555556,
              "#d8576b"
             ],
             [
              0.6666666666666666,
              "#ed7953"
             ],
             [
              0.7777777777777778,
              "#fb9f3a"
             ],
             [
              0.8888888888888888,
              "#fdca26"
             ],
             [
              1,
              "#f0f921"
             ]
            ],
            "type": "heatmapgl"
           }
          ],
          "histogram": [
           {
            "marker": {
             "pattern": {
              "fillmode": "overlay",
              "size": 10,
              "solidity": 0.2
             }
            },
            "type": "histogram"
           }
          ],
          "histogram2d": [
           {
            "colorbar": {
             "outlinewidth": 0,
             "ticks": ""
            },
            "colorscale": [
             [
              0,
              "#0d0887"
             ],
             [
              0.1111111111111111,
              "#46039f"
             ],
             [
              0.2222222222222222,
              "#7201a8"
             ],
             [
              0.3333333333333333,
              "#9c179e"
             ],
             [
              0.4444444444444444,
              "#bd3786"
             ],
             [
              0.5555555555555556,
              "#d8576b"
             ],
             [
              0.6666666666666666,
              "#ed7953"
             ],
             [
              0.7777777777777778,
              "#fb9f3a"
             ],
             [
              0.8888888888888888,
              "#fdca26"
             ],
             [
              1,
              "#f0f921"
             ]
            ],
            "type": "histogram2d"
           }
          ],
          "histogram2dcontour": [
           {
            "colorbar": {
             "outlinewidth": 0,
             "ticks": ""
            },
            "colorscale": [
             [
              0,
              "#0d0887"
             ],
             [
              0.1111111111111111,
              "#46039f"
             ],
             [
              0.2222222222222222,
              "#7201a8"
             ],
             [
              0.3333333333333333,
              "#9c179e"
             ],
             [
              0.4444444444444444,
              "#bd3786"
             ],
             [
              0.5555555555555556,
              "#d8576b"
             ],
             [
              0.6666666666666666,
              "#ed7953"
             ],
             [
              0.7777777777777778,
              "#fb9f3a"
             ],
             [
              0.8888888888888888,
              "#fdca26"
             ],
             [
              1,
              "#f0f921"
             ]
            ],
            "type": "histogram2dcontour"
           }
          ],
          "mesh3d": [
           {
            "colorbar": {
             "outlinewidth": 0,
             "ticks": ""
            },
            "type": "mesh3d"
           }
          ],
          "parcoords": [
           {
            "line": {
             "colorbar": {
              "outlinewidth": 0,
              "ticks": ""
             }
            },
            "type": "parcoords"
           }
          ],
          "pie": [
           {
            "automargin": true,
            "type": "pie"
           }
          ],
          "scatter": [
           {
            "fillpattern": {
             "fillmode": "overlay",
             "size": 10,
             "solidity": 0.2
            },
            "type": "scatter"
           }
          ],
          "scatter3d": [
           {
            "line": {
             "colorbar": {
              "outlinewidth": 0,
              "ticks": ""
             }
            },
            "marker": {
             "colorbar": {
              "outlinewidth": 0,
              "ticks": ""
             }
            },
            "type": "scatter3d"
           }
          ],
          "scattercarpet": [
           {
            "marker": {
             "colorbar": {
              "outlinewidth": 0,
              "ticks": ""
             }
            },
            "type": "scattercarpet"
           }
          ],
          "scattergeo": [
           {
            "marker": {
             "colorbar": {
              "outlinewidth": 0,
              "ticks": ""
             }
            },
            "type": "scattergeo"
           }
          ],
          "scattergl": [
           {
            "marker": {
             "colorbar": {
              "outlinewidth": 0,
              "ticks": ""
             }
            },
            "type": "scattergl"
           }
          ],
          "scattermapbox": [
           {
            "marker": {
             "colorbar": {
              "outlinewidth": 0,
              "ticks": ""
             }
            },
            "type": "scattermapbox"
           }
          ],
          "scatterpolar": [
           {
            "marker": {
             "colorbar": {
              "outlinewidth": 0,
              "ticks": ""
             }
            },
            "type": "scatterpolar"
           }
          ],
          "scatterpolargl": [
           {
            "marker": {
             "colorbar": {
              "outlinewidth": 0,
              "ticks": ""
             }
            },
            "type": "scatterpolargl"
           }
          ],
          "scatterternary": [
           {
            "marker": {
             "colorbar": {
              "outlinewidth": 0,
              "ticks": ""
             }
            },
            "type": "scatterternary"
           }
          ],
          "surface": [
           {
            "colorbar": {
             "outlinewidth": 0,
             "ticks": ""
            },
            "colorscale": [
             [
              0,
              "#0d0887"
             ],
             [
              0.1111111111111111,
              "#46039f"
             ],
             [
              0.2222222222222222,
              "#7201a8"
             ],
             [
              0.3333333333333333,
              "#9c179e"
             ],
             [
              0.4444444444444444,
              "#bd3786"
             ],
             [
              0.5555555555555556,
              "#d8576b"
             ],
             [
              0.6666666666666666,
              "#ed7953"
             ],
             [
              0.7777777777777778,
              "#fb9f3a"
             ],
             [
              0.8888888888888888,
              "#fdca26"
             ],
             [
              1,
              "#f0f921"
             ]
            ],
            "type": "surface"
           }
          ],
          "table": [
           {
            "cells": {
             "fill": {
              "color": "#EBF0F8"
             },
             "line": {
              "color": "white"
             }
            },
            "header": {
             "fill": {
              "color": "#C8D4E3"
             },
             "line": {
              "color": "white"
             }
            },
            "type": "table"
           }
          ]
         },
         "layout": {
          "annotationdefaults": {
           "arrowcolor": "#2a3f5f",
           "arrowhead": 0,
           "arrowwidth": 1
          },
          "autotypenumbers": "strict",
          "coloraxis": {
           "colorbar": {
            "outlinewidth": 0,
            "ticks": ""
           }
          },
          "colorscale": {
           "diverging": [
            [
             0,
             "#8e0152"
            ],
            [
             0.1,
             "#c51b7d"
            ],
            [
             0.2,
             "#de77ae"
            ],
            [
             0.3,
             "#f1b6da"
            ],
            [
             0.4,
             "#fde0ef"
            ],
            [
             0.5,
             "#f7f7f7"
            ],
            [
             0.6,
             "#e6f5d0"
            ],
            [
             0.7,
             "#b8e186"
            ],
            [
             0.8,
             "#7fbc41"
            ],
            [
             0.9,
             "#4d9221"
            ],
            [
             1,
             "#276419"
            ]
           ],
           "sequential": [
            [
             0,
             "#0d0887"
            ],
            [
             0.1111111111111111,
             "#46039f"
            ],
            [
             0.2222222222222222,
             "#7201a8"
            ],
            [
             0.3333333333333333,
             "#9c179e"
            ],
            [
             0.4444444444444444,
             "#bd3786"
            ],
            [
             0.5555555555555556,
             "#d8576b"
            ],
            [
             0.6666666666666666,
             "#ed7953"
            ],
            [
             0.7777777777777778,
             "#fb9f3a"
            ],
            [
             0.8888888888888888,
             "#fdca26"
            ],
            [
             1,
             "#f0f921"
            ]
           ],
           "sequentialminus": [
            [
             0,
             "#0d0887"
            ],
            [
             0.1111111111111111,
             "#46039f"
            ],
            [
             0.2222222222222222,
             "#7201a8"
            ],
            [
             0.3333333333333333,
             "#9c179e"
            ],
            [
             0.4444444444444444,
             "#bd3786"
            ],
            [
             0.5555555555555556,
             "#d8576b"
            ],
            [
             0.6666666666666666,
             "#ed7953"
            ],
            [
             0.7777777777777778,
             "#fb9f3a"
            ],
            [
             0.8888888888888888,
             "#fdca26"
            ],
            [
             1,
             "#f0f921"
            ]
           ]
          },
          "colorway": [
           "#636efa",
           "#EF553B",
           "#00cc96",
           "#ab63fa",
           "#FFA15A",
           "#19d3f3",
           "#FF6692",
           "#B6E880",
           "#FF97FF",
           "#FECB52"
          ],
          "font": {
           "color": "#2a3f5f"
          },
          "geo": {
           "bgcolor": "white",
           "lakecolor": "white",
           "landcolor": "#E5ECF6",
           "showlakes": true,
           "showland": true,
           "subunitcolor": "white"
          },
          "hoverlabel": {
           "align": "left"
          },
          "hovermode": "closest",
          "mapbox": {
           "style": "light"
          },
          "paper_bgcolor": "white",
          "plot_bgcolor": "#E5ECF6",
          "polar": {
           "angularaxis": {
            "gridcolor": "white",
            "linecolor": "white",
            "ticks": ""
           },
           "bgcolor": "#E5ECF6",
           "radialaxis": {
            "gridcolor": "white",
            "linecolor": "white",
            "ticks": ""
           }
          },
          "scene": {
           "xaxis": {
            "backgroundcolor": "#E5ECF6",
            "gridcolor": "white",
            "gridwidth": 2,
            "linecolor": "white",
            "showbackground": true,
            "ticks": "",
            "zerolinecolor": "white"
           },
           "yaxis": {
            "backgroundcolor": "#E5ECF6",
            "gridcolor": "white",
            "gridwidth": 2,
            "linecolor": "white",
            "showbackground": true,
            "ticks": "",
            "zerolinecolor": "white"
           },
           "zaxis": {
            "backgroundcolor": "#E5ECF6",
            "gridcolor": "white",
            "gridwidth": 2,
            "linecolor": "white",
            "showbackground": true,
            "ticks": "",
            "zerolinecolor": "white"
           }
          },
          "shapedefaults": {
           "line": {
            "color": "#2a3f5f"
           }
          },
          "ternary": {
           "aaxis": {
            "gridcolor": "white",
            "linecolor": "white",
            "ticks": ""
           },
           "baxis": {
            "gridcolor": "white",
            "linecolor": "white",
            "ticks": ""
           },
           "bgcolor": "#E5ECF6",
           "caxis": {
            "gridcolor": "white",
            "linecolor": "white",
            "ticks": ""
           }
          },
          "title": {
           "x": 0.05
          },
          "xaxis": {
           "automargin": true,
           "gridcolor": "white",
           "linecolor": "white",
           "ticks": "",
           "title": {
            "standoff": 15
           },
           "zerolinecolor": "white",
           "zerolinewidth": 2
          },
          "yaxis": {
           "automargin": true,
           "gridcolor": "white",
           "linecolor": "white",
           "ticks": "",
           "title": {
            "standoff": 15
           },
           "zerolinecolor": "white",
           "zerolinewidth": 2
          }
         }
        },
        "title": {
         "text": "Source suppression scores"
        },
        "width": 600,
        "xaxis": {
         "anchor": "y",
         "constrain": "domain",
         "domain": [
          0,
          1
         ],
         "scaleanchor": "y"
        },
        "yaxis": {
         "anchor": "x",
         "autorange": "reversed",
         "constrain": "domain",
         "domain": [
          0,
          1
         ]
        }
       }
      },
      "text/html": [
       "<div>                            <div id=\"20950bc6-306a-4670-b30b-9fcf18b890f4\" class=\"plotly-graph-div\" style=\"height:600px; width:600px;\"></div>            <script type=\"text/javascript\">                require([\"plotly\"], function(Plotly) {                    window.PLOTLYENV=window.PLOTLYENV || {};                                    if (document.getElementById(\"20950bc6-306a-4670-b30b-9fcf18b890f4\")) {                    Plotly.newPlot(                        \"20950bc6-306a-4670-b30b-9fcf18b890f4\",                        [{\"coloraxis\":\"coloraxis\",\"name\":\"0\",\"z\":[[0.0,0.0,0.0,0.0,0.0,0.0,0.0,-0.017489319667220116,-0.14313505589962006,-0.1190628930926323,0.0,-0.008332381956279278],[-0.033380765467882156,-0.10641618818044662,-0.09967159479856491,0.0,-0.014531361870467663,-0.20336242020130157,0.0,0.0,0.0,0.0,-0.13428544998168945,-0.05589766427874565],[-0.018035944551229477,0.0,-0.015988079831004143,0.0,0.0,-0.054987359791994095,0.0,-0.0334056094288826,-0.0789441391825676,0.0,-0.13534857332706451,0.0],[0.0,0.0,-0.00833999551832676,0.0,0.0,0.0,0.0,0.0,-0.05005164071917534,0.0,-0.08460481464862823,0.0],[-0.05057584121823311,0.0,0.0,0.0,-0.06823867559432983,0.0,-0.020865650847554207,-0.09046254307031631,0.0,0.0,0.0,0.0],[0.0,0.0,0.0,0.0,-0.03815946727991104,0.0,0.0,0.0,-0.02121184580028057,-0.07701008021831512,0.0,-0.0745619386434555],[0.0,0.0,0.0,0.0,0.0,-0.19244147837162018,-0.11108043044805527,0.0,0.0,0.0,0.0,0.0],[-0.0046397363767027855,0.0,0.0,-0.13929010927677155,0.0,0.0,-0.07038535922765732,0.0,0.0,-0.060948919504880905,0.0,0.0],[-0.020541435107588768,0.0,0.0,0.0,0.0,0.0,0.0,-0.008357343263924122,0.0,-0.1350913792848587,-0.47632351517677307,0.0],[0.0,0.0,0.0,0.0,-0.06099791079759598,-0.18165253102779388,0.0,-0.04978211596608162,0.0,0.0,0.0,0.0],[0.0,0.0,0.0,0.0,0.0,0.0,0.0,-3.285259962081909,0.0,0.0,0.0,0.0],[-0.2932201325893402,0.0,0.0,0.0,0.0,0.0,0.0,0.0,0.0,0.0,-2.239227771759033,0.0]],\"type\":\"heatmap\",\"xaxis\":\"x\",\"yaxis\":\"y\",\"hovertemplate\":\"x: %{x}\\u003cbr\\u003ey: %{y}\\u003cbr\\u003ecolor: %{z}\\u003cextra\\u003e\\u003c\\u002fextra\\u003e\"}],                        {\"template\":{\"data\":{\"histogram2dcontour\":[{\"type\":\"histogram2dcontour\",\"colorbar\":{\"outlinewidth\":0,\"ticks\":\"\"},\"colorscale\":[[0.0,\"#0d0887\"],[0.1111111111111111,\"#46039f\"],[0.2222222222222222,\"#7201a8\"],[0.3333333333333333,\"#9c179e\"],[0.4444444444444444,\"#bd3786\"],[0.5555555555555556,\"#d8576b\"],[0.6666666666666666,\"#ed7953\"],[0.7777777777777778,\"#fb9f3a\"],[0.8888888888888888,\"#fdca26\"],[1.0,\"#f0f921\"]]}],\"choropleth\":[{\"type\":\"choropleth\",\"colorbar\":{\"outlinewidth\":0,\"ticks\":\"\"}}],\"histogram2d\":[{\"type\":\"histogram2d\",\"colorbar\":{\"outlinewidth\":0,\"ticks\":\"\"},\"colorscale\":[[0.0,\"#0d0887\"],[0.1111111111111111,\"#46039f\"],[0.2222222222222222,\"#7201a8\"],[0.3333333333333333,\"#9c179e\"],[0.4444444444444444,\"#bd3786\"],[0.5555555555555556,\"#d8576b\"],[0.6666666666666666,\"#ed7953\"],[0.7777777777777778,\"#fb9f3a\"],[0.8888888888888888,\"#fdca26\"],[1.0,\"#f0f921\"]]}],\"heatmap\":[{\"type\":\"heatmap\",\"colorbar\":{\"outlinewidth\":0,\"ticks\":\"\"},\"colorscale\":[[0.0,\"#0d0887\"],[0.1111111111111111,\"#46039f\"],[0.2222222222222222,\"#7201a8\"],[0.3333333333333333,\"#9c179e\"],[0.4444444444444444,\"#bd3786\"],[0.5555555555555556,\"#d8576b\"],[0.6666666666666666,\"#ed7953\"],[0.7777777777777778,\"#fb9f3a\"],[0.8888888888888888,\"#fdca26\"],[1.0,\"#f0f921\"]]}],\"heatmapgl\":[{\"type\":\"heatmapgl\",\"colorbar\":{\"outlinewidth\":0,\"ticks\":\"\"},\"colorscale\":[[0.0,\"#0d0887\"],[0.1111111111111111,\"#46039f\"],[0.2222222222222222,\"#7201a8\"],[0.3333333333333333,\"#9c179e\"],[0.4444444444444444,\"#bd3786\"],[0.5555555555555556,\"#d8576b\"],[0.6666666666666666,\"#ed7953\"],[0.7777777777777778,\"#fb9f3a\"],[0.8888888888888888,\"#fdca26\"],[1.0,\"#f0f921\"]]}],\"contourcarpet\":[{\"type\":\"contourcarpet\",\"colorbar\":{\"outlinewidth\":0,\"ticks\":\"\"}}],\"contour\":[{\"type\":\"contour\",\"colorbar\":{\"outlinewidth\":0,\"ticks\":\"\"},\"colorscale\":[[0.0,\"#0d0887\"],[0.1111111111111111,\"#46039f\"],[0.2222222222222222,\"#7201a8\"],[0.3333333333333333,\"#9c179e\"],[0.4444444444444444,\"#bd3786\"],[0.5555555555555556,\"#d8576b\"],[0.6666666666666666,\"#ed7953\"],[0.7777777777777778,\"#fb9f3a\"],[0.8888888888888888,\"#fdca26\"],[1.0,\"#f0f921\"]]}],\"surface\":[{\"type\":\"surface\",\"colorbar\":{\"outlinewidth\":0,\"ticks\":\"\"},\"colorscale\":[[0.0,\"#0d0887\"],[0.1111111111111111,\"#46039f\"],[0.2222222222222222,\"#7201a8\"],[0.3333333333333333,\"#9c179e\"],[0.4444444444444444,\"#bd3786\"],[0.5555555555555556,\"#d8576b\"],[0.6666666666666666,\"#ed7953\"],[0.7777777777777778,\"#fb9f3a\"],[0.8888888888888888,\"#fdca26\"],[1.0,\"#f0f921\"]]}],\"mesh3d\":[{\"type\":\"mesh3d\",\"colorbar\":{\"outlinewidth\":0,\"ticks\":\"\"}}],\"scatter\":[{\"fillpattern\":{\"fillmode\":\"overlay\",\"size\":10,\"solidity\":0.2},\"type\":\"scatter\"}],\"parcoords\":[{\"type\":\"parcoords\",\"line\":{\"colorbar\":{\"outlinewidth\":0,\"ticks\":\"\"}}}],\"scatterpolargl\":[{\"type\":\"scatterpolargl\",\"marker\":{\"colorbar\":{\"outlinewidth\":0,\"ticks\":\"\"}}}],\"bar\":[{\"error_x\":{\"color\":\"#2a3f5f\"},\"error_y\":{\"color\":\"#2a3f5f\"},\"marker\":{\"line\":{\"color\":\"#E5ECF6\",\"width\":0.5},\"pattern\":{\"fillmode\":\"overlay\",\"size\":10,\"solidity\":0.2}},\"type\":\"bar\"}],\"scattergeo\":[{\"type\":\"scattergeo\",\"marker\":{\"colorbar\":{\"outlinewidth\":0,\"ticks\":\"\"}}}],\"scatterpolar\":[{\"type\":\"scatterpolar\",\"marker\":{\"colorbar\":{\"outlinewidth\":0,\"ticks\":\"\"}}}],\"histogram\":[{\"marker\":{\"pattern\":{\"fillmode\":\"overlay\",\"size\":10,\"solidity\":0.2}},\"type\":\"histogram\"}],\"scattergl\":[{\"type\":\"scattergl\",\"marker\":{\"colorbar\":{\"outlinewidth\":0,\"ticks\":\"\"}}}],\"scatter3d\":[{\"type\":\"scatter3d\",\"line\":{\"colorbar\":{\"outlinewidth\":0,\"ticks\":\"\"}},\"marker\":{\"colorbar\":{\"outlinewidth\":0,\"ticks\":\"\"}}}],\"scattermapbox\":[{\"type\":\"scattermapbox\",\"marker\":{\"colorbar\":{\"outlinewidth\":0,\"ticks\":\"\"}}}],\"scatterternary\":[{\"type\":\"scatterternary\",\"marker\":{\"colorbar\":{\"outlinewidth\":0,\"ticks\":\"\"}}}],\"scattercarpet\":[{\"type\":\"scattercarpet\",\"marker\":{\"colorbar\":{\"outlinewidth\":0,\"ticks\":\"\"}}}],\"carpet\":[{\"aaxis\":{\"endlinecolor\":\"#2a3f5f\",\"gridcolor\":\"white\",\"linecolor\":\"white\",\"minorgridcolor\":\"white\",\"startlinecolor\":\"#2a3f5f\"},\"baxis\":{\"endlinecolor\":\"#2a3f5f\",\"gridcolor\":\"white\",\"linecolor\":\"white\",\"minorgridcolor\":\"white\",\"startlinecolor\":\"#2a3f5f\"},\"type\":\"carpet\"}],\"table\":[{\"cells\":{\"fill\":{\"color\":\"#EBF0F8\"},\"line\":{\"color\":\"white\"}},\"header\":{\"fill\":{\"color\":\"#C8D4E3\"},\"line\":{\"color\":\"white\"}},\"type\":\"table\"}],\"barpolar\":[{\"marker\":{\"line\":{\"color\":\"#E5ECF6\",\"width\":0.5},\"pattern\":{\"fillmode\":\"overlay\",\"size\":10,\"solidity\":0.2}},\"type\":\"barpolar\"}],\"pie\":[{\"automargin\":true,\"type\":\"pie\"}]},\"layout\":{\"autotypenumbers\":\"strict\",\"colorway\":[\"#636efa\",\"#EF553B\",\"#00cc96\",\"#ab63fa\",\"#FFA15A\",\"#19d3f3\",\"#FF6692\",\"#B6E880\",\"#FF97FF\",\"#FECB52\"],\"font\":{\"color\":\"#2a3f5f\"},\"hovermode\":\"closest\",\"hoverlabel\":{\"align\":\"left\"},\"paper_bgcolor\":\"white\",\"plot_bgcolor\":\"#E5ECF6\",\"polar\":{\"bgcolor\":\"#E5ECF6\",\"angularaxis\":{\"gridcolor\":\"white\",\"linecolor\":\"white\",\"ticks\":\"\"},\"radialaxis\":{\"gridcolor\":\"white\",\"linecolor\":\"white\",\"ticks\":\"\"}},\"ternary\":{\"bgcolor\":\"#E5ECF6\",\"aaxis\":{\"gridcolor\":\"white\",\"linecolor\":\"white\",\"ticks\":\"\"},\"baxis\":{\"gridcolor\":\"white\",\"linecolor\":\"white\",\"ticks\":\"\"},\"caxis\":{\"gridcolor\":\"white\",\"linecolor\":\"white\",\"ticks\":\"\"}},\"coloraxis\":{\"colorbar\":{\"outlinewidth\":0,\"ticks\":\"\"}},\"colorscale\":{\"sequential\":[[0.0,\"#0d0887\"],[0.1111111111111111,\"#46039f\"],[0.2222222222222222,\"#7201a8\"],[0.3333333333333333,\"#9c179e\"],[0.4444444444444444,\"#bd3786\"],[0.5555555555555556,\"#d8576b\"],[0.6666666666666666,\"#ed7953\"],[0.7777777777777778,\"#fb9f3a\"],[0.8888888888888888,\"#fdca26\"],[1.0,\"#f0f921\"]],\"sequentialminus\":[[0.0,\"#0d0887\"],[0.1111111111111111,\"#46039f\"],[0.2222222222222222,\"#7201a8\"],[0.3333333333333333,\"#9c179e\"],[0.4444444444444444,\"#bd3786\"],[0.5555555555555556,\"#d8576b\"],[0.6666666666666666,\"#ed7953\"],[0.7777777777777778,\"#fb9f3a\"],[0.8888888888888888,\"#fdca26\"],[1.0,\"#f0f921\"]],\"diverging\":[[0,\"#8e0152\"],[0.1,\"#c51b7d\"],[0.2,\"#de77ae\"],[0.3,\"#f1b6da\"],[0.4,\"#fde0ef\"],[0.5,\"#f7f7f7\"],[0.6,\"#e6f5d0\"],[0.7,\"#b8e186\"],[0.8,\"#7fbc41\"],[0.9,\"#4d9221\"],[1,\"#276419\"]]},\"xaxis\":{\"gridcolor\":\"white\",\"linecolor\":\"white\",\"ticks\":\"\",\"title\":{\"standoff\":15},\"zerolinecolor\":\"white\",\"automargin\":true,\"zerolinewidth\":2},\"yaxis\":{\"gridcolor\":\"white\",\"linecolor\":\"white\",\"ticks\":\"\",\"title\":{\"standoff\":15},\"zerolinecolor\":\"white\",\"automargin\":true,\"zerolinewidth\":2},\"scene\":{\"xaxis\":{\"backgroundcolor\":\"#E5ECF6\",\"gridcolor\":\"white\",\"linecolor\":\"white\",\"showbackground\":true,\"ticks\":\"\",\"zerolinecolor\":\"white\",\"gridwidth\":2},\"yaxis\":{\"backgroundcolor\":\"#E5ECF6\",\"gridcolor\":\"white\",\"linecolor\":\"white\",\"showbackground\":true,\"ticks\":\"\",\"zerolinecolor\":\"white\",\"gridwidth\":2},\"zaxis\":{\"backgroundcolor\":\"#E5ECF6\",\"gridcolor\":\"white\",\"linecolor\":\"white\",\"showbackground\":true,\"ticks\":\"\",\"zerolinecolor\":\"white\",\"gridwidth\":2}},\"shapedefaults\":{\"line\":{\"color\":\"#2a3f5f\"}},\"annotationdefaults\":{\"arrowcolor\":\"#2a3f5f\",\"arrowhead\":0,\"arrowwidth\":1},\"geo\":{\"bgcolor\":\"white\",\"landcolor\":\"#E5ECF6\",\"subunitcolor\":\"white\",\"showland\":true,\"showlakes\":true,\"lakecolor\":\"white\"},\"title\":{\"x\":0.05},\"mapbox\":{\"style\":\"light\"}}},\"xaxis\":{\"anchor\":\"y\",\"domain\":[0.0,1.0],\"scaleanchor\":\"y\",\"constrain\":\"domain\"},\"yaxis\":{\"anchor\":\"x\",\"domain\":[0.0,1.0],\"autorange\":\"reversed\",\"constrain\":\"domain\"},\"coloraxis\":{\"colorscale\":[[0.0,\"rgb(103,0,31)\"],[0.1,\"rgb(178,24,43)\"],[0.2,\"rgb(214,96,77)\"],[0.3,\"rgb(244,165,130)\"],[0.4,\"rgb(253,219,199)\"],[0.5,\"rgb(247,247,247)\"],[0.6,\"rgb(209,229,240)\"],[0.7,\"rgb(146,197,222)\"],[0.8,\"rgb(67,147,195)\"],[0.9,\"rgb(33,102,172)\"],[1.0,\"rgb(5,48,97)\"]],\"cmid\":0.0},\"title\":{\"text\":\"Source suppression scores\"},\"height\":600,\"width\":600,\"modebar\":{\"add\":[\"drawline\",\"drawopenpath\",\"drawclosedpath\",\"drawcircle\",\"drawrect\",\"eraseshape\"]}},                        {\"displaylogo\": false, \"responsive\": true}                    ).then(function(){\n",
       "                            \n",
       "var gd = document.getElementById('20950bc6-306a-4670-b30b-9fcf18b890f4');\n",
       "var x = new MutationObserver(function (mutations, observer) {{\n",
       "        var display = window.getComputedStyle(gd).display;\n",
       "        if (!display || display === 'none') {{\n",
       "            console.log([gd, 'removed!']);\n",
       "            Plotly.purge(gd);\n",
       "            observer.disconnect();\n",
       "        }}\n",
       "}});\n",
       "\n",
       "// Listen for the removal of the full notebook cells\n",
       "var notebookContainer = gd.closest('#notebook-container');\n",
       "if (notebookContainer) {{\n",
       "    x.observe(notebookContainer, {childList: true});\n",
       "}}\n",
       "\n",
       "// Listen for the clearing of the current output cell\n",
       "var outputEl = gd.closest('.output');\n",
       "if (outputEl) {{\n",
       "    x.observe(outputEl, {childList: true});\n",
       "}}\n",
       "\n",
       "                        })                };                });            </script>        </div>"
      ]
     },
     "metadata": {},
     "output_type": "display_data"
    }
   ],
   "source": [
    "imshow(\n",
    "    unembedding_coeffs_first_pass * (unembedding_coeffs_first_pass < 0),\n",
    "    title=\"Source suppression scores\",\n",
    "    # facet_col=0,\n",
    "    # facet_labels=[\"Fraction of norm of residual stream output<br>preserved by projecting onto W<sub>U</sub>\", \"Average boost to logits of<br>source token after projection\"],\n",
    "    # facet_label_size=17,\n",
    "    # margin=dict(t=80),\n",
    "    width=600,\n",
    "    height=600,\n",
    ")\n",
    "# * TODO - these are not sparse because it doesn't more highly weight the values that are more paid attention to. Maybe crop to all situations where >10% attn is paid? Is this a reasonable thing to do?\n",
    "# The thing that confuses me most is how many false negatives there are. Why do so many heads have nontrivially large dot products? Aren't cosine sims about 0 for random vectors?"
   ]
  },
  {
   "attachments": {},
   "cell_type": "markdown",
   "metadata": {},
   "source": [
    "# OpenWebText"
   ]
  },
  {
   "cell_type": "code",
   "execution_count": 49,
   "metadata": {},
   "outputs": [],
   "source": [
    "data = get_webtext(seed=6)\n",
    "clear_output()"
   ]
  },
  {
   "cell_type": "code",
   "execution_count": 50,
   "metadata": {},
   "outputs": [
    {
     "data": {
      "application/vnd.jupyter.widget-view+json": {
       "model_id": "480e8624eb1b48bb936884512495f7c1",
       "version_major": 2,
       "version_minor": 0
      },
      "text/plain": [
       "  0%|          | 0/144 [00:00<?, ?it/s]"
      ]
     },
     "metadata": {},
     "output_type": "display_data"
    }
   ],
   "source": [
    "def create_really_hacky_second_pass_metric(\n",
    "    batch_size: int = 60,\n",
    "    seq_len: int = 100,\n",
    "):\n",
    "    toks = model.to_tokens(data[:batch_size])[:, :seq_len]\n",
    "\n",
    "    unembedding_coeffs_all = t.zeros(12, 12)\n",
    "\n",
    "    for layer, head_idx in tqdm(list(itertools.product(range(12), range(12)))):\n",
    "        unembedding_coeffs = compute_weighted_avg_logit_suppression(\n",
    "            model=model,\n",
    "            toks=toks,\n",
    "            head=(layer, head_idx),\n",
    "            only_use_neg_projections=False,\n",
    "            return_new_loss=False,\n",
    "        )\n",
    "\n",
    "        unembedding_coeffs_all[layer, head_idx] = unembedding_coeffs[\"per_sequence\"].mean()\n",
    "\n",
    "    return unembedding_coeffs_all\n",
    "\n",
    "unembedding_coeffs_second_pass = create_really_hacky_second_pass_metric()\n",
    "# unembedding_coeffs_second_pass_smaller_seqlen = create_really_hacky_second_pass_metric(seq_len=20)"
   ]
  },
  {
   "cell_type": "code",
   "execution_count": 51,
   "metadata": {},
   "outputs": [
    {
     "data": {
      "application/vnd.plotly.v1+json": {
       "config": {
        "displaylogo": false,
        "plotlyServerURL": "https://plot.ly",
        "responsive": true
       },
       "data": [
        {
         "coloraxis": "coloraxis",
         "hovertemplate": "x: %{x}<br>y: %{y}<br>color: %{z}<extra></extra>",
         "name": "0",
         "texttemplate": "%{z:.2f}",
         "type": "heatmap",
         "xaxis": "x",
         "yaxis": "y",
         "z": [
          [
           0,
           0,
           0,
           0,
           0,
           0,
           0,
           -0.017489319667220116,
           -0.14313505589962006,
           -0.1190628930926323,
           0,
           -0.008332381956279278
          ],
          [
           -0.033380765467882156,
           -0.10641618818044662,
           -0.09967159479856491,
           0,
           -0.014531361870467663,
           -0.20336242020130157,
           0,
           0,
           0,
           0,
           -0.13428544998168945,
           -0.05589766427874565
          ],
          [
           -0.018035944551229477,
           0,
           -0.015988079831004143,
           0,
           0,
           -0.054987359791994095,
           0,
           -0.0334056094288826,
           -0.0789441391825676,
           0,
           -0.13534857332706451,
           0
          ],
          [
           0,
           0,
           -0.00833999551832676,
           0,
           0,
           0,
           0,
           0,
           -0.05005164071917534,
           0,
           -0.08460481464862823,
           0
          ],
          [
           -0.05057584121823311,
           0,
           0,
           0,
           -0.06823867559432983,
           0,
           -0.020865650847554207,
           -0.09046254307031631,
           0,
           0,
           0,
           0
          ],
          [
           0,
           0,
           0,
           0,
           -0.03815946727991104,
           0,
           0,
           0,
           -0.02121184580028057,
           -0.07701008021831512,
           0,
           -0.0745619386434555
          ],
          [
           0,
           0,
           0,
           0,
           0,
           -0.19244147837162018,
           -0.11108043044805527,
           0,
           0,
           0,
           0,
           0
          ],
          [
           -0.0046397363767027855,
           0,
           0,
           -0.13929010927677155,
           0,
           0,
           -0.07038535922765732,
           0,
           0,
           -0.060948919504880905,
           0,
           0
          ],
          [
           -0.020541435107588768,
           0,
           0,
           0,
           0,
           0,
           0,
           -0.008357343263924122,
           0,
           -0.1350913792848587,
           -0.47632351517677307,
           0
          ],
          [
           0,
           0,
           0,
           0,
           -0.06099791079759598,
           -0.18165253102779388,
           0,
           -0.04978211596608162,
           0,
           0,
           0,
           0
          ],
          [
           0,
           0,
           0,
           0,
           0,
           0,
           0,
           -3.285259962081909,
           0,
           0,
           0,
           0
          ],
          [
           -0.2932201325893402,
           0,
           0,
           0,
           0,
           0,
           0,
           0,
           0,
           0,
           -2.239227771759033,
           0
          ]
         ]
        },
        {
         "coloraxis": "coloraxis",
         "hovertemplate": "x: %{x}<br>y: %{y}<br>color: %{z}<extra></extra>",
         "name": "1",
         "texttemplate": "%{z:.2f}",
         "type": "heatmap",
         "xaxis": "x2",
         "yaxis": "y2",
         "z": [
          [
           0,
           0,
           0,
           0,
           0,
           0,
           0,
           0,
           -0.09344592690467834,
           -0.08994441479444504,
           0,
           -0.07302135229110718
          ],
          [
           -0.0003288336447440088,
           -0.07450719177722931,
           0,
           0,
           -0.0195708516985178,
           -0.2522010803222656,
           0,
           0,
           -0.09380657225847244,
           -0.06003399193286896,
           -0.10890251398086548,
           -0.07786311954259872
          ],
          [
           -0.00006811731145717204,
           0,
           0,
           0,
           0,
           -0.04129809886217117,
           0,
           -0.042544424533843994,
           -0.0029594432562589645,
           0,
           -0.08951880782842636,
           -0.030565548688173294
          ],
          [
           0,
           0,
           -0.0007654063520021737,
           0,
           0,
           0,
           0,
           0,
           -0.03272261098027229,
           0,
           -0.12561865150928497,
           0
          ],
          [
           -0.014219461008906364,
           -0.011250462383031845,
           0,
           0,
           -0.1691519170999527,
           0,
           -0.021160846576094627,
           -0.11494608223438263,
           0,
           0,
           0,
           0
          ],
          [
           0,
           0,
           0,
           0,
           -0.04542737081646919,
           0,
           0,
           0,
           0,
           -0.13255910575389862,
           0,
           -0.26446810364723206
          ],
          [
           0,
           0,
           0,
           0,
           0,
           -0.24804256856441498,
           -0.22248056530952454,
           0,
           0,
           0,
           0,
           0
          ],
          [
           0,
           0,
           0,
           -0.3472549617290497,
           0,
           0,
           -0.21301624178886414,
           0,
           0,
           -0.08183283358812332,
           0,
           0
          ],
          [
           0,
           0,
           0,
           0,
           0,
           0,
           0,
           0,
           0,
           -0.2195071280002594,
           -0.7954103946685791,
           0
          ],
          [
           0,
           0,
           0,
           0,
           -0.03926421329379082,
           -0.8072298765182495,
           0,
           0,
           0,
           0,
           0,
           0
          ],
          [
           0,
           0,
           0,
           0,
           0,
           0,
           0,
           -2.6167969703674316,
           0,
           0,
           0,
           0
          ],
          [
           -0.1989002376794815,
           0,
           0,
           0,
           0,
           0,
           0,
           0,
           0,
           0,
           -1.672224998474121,
           0
          ]
         ]
        }
       ],
       "layout": {
        "annotations": [
         {
          "font": {},
          "showarrow": false,
          "text": "IOI",
          "x": 0.245,
          "xanchor": "center",
          "xref": "paper",
          "y": 1,
          "yanchor": "bottom",
          "yref": "paper"
         },
         {
          "font": {},
          "showarrow": false,
          "text": "Webtext",
          "x": 0.755,
          "xanchor": "center",
          "xref": "paper",
          "y": 1,
          "yanchor": "bottom",
          "yref": "paper"
         }
        ],
        "coloraxis": {
         "cmid": 0,
         "colorscale": [
          [
           0,
           "rgb(103,0,31)"
          ],
          [
           0.1,
           "rgb(178,24,43)"
          ],
          [
           0.2,
           "rgb(214,96,77)"
          ],
          [
           0.3,
           "rgb(244,165,130)"
          ],
          [
           0.4,
           "rgb(253,219,199)"
          ],
          [
           0.5,
           "rgb(247,247,247)"
          ],
          [
           0.6,
           "rgb(209,229,240)"
          ],
          [
           0.7,
           "rgb(146,197,222)"
          ],
          [
           0.8,
           "rgb(67,147,195)"
          ],
          [
           0.9,
           "rgb(33,102,172)"
          ],
          [
           1,
           "rgb(5,48,97)"
          ]
         ]
        },
        "height": 700,
        "modebar": {
         "add": [
          "drawline",
          "drawopenpath",
          "drawclosedpath",
          "drawcircle",
          "drawrect",
          "eraseshape"
         ]
        },
        "template": {
         "data": {
          "bar": [
           {
            "error_x": {
             "color": "#2a3f5f"
            },
            "error_y": {
             "color": "#2a3f5f"
            },
            "marker": {
             "line": {
              "color": "#E5ECF6",
              "width": 0.5
             },
             "pattern": {
              "fillmode": "overlay",
              "size": 10,
              "solidity": 0.2
             }
            },
            "type": "bar"
           }
          ],
          "barpolar": [
           {
            "marker": {
             "line": {
              "color": "#E5ECF6",
              "width": 0.5
             },
             "pattern": {
              "fillmode": "overlay",
              "size": 10,
              "solidity": 0.2
             }
            },
            "type": "barpolar"
           }
          ],
          "carpet": [
           {
            "aaxis": {
             "endlinecolor": "#2a3f5f",
             "gridcolor": "white",
             "linecolor": "white",
             "minorgridcolor": "white",
             "startlinecolor": "#2a3f5f"
            },
            "baxis": {
             "endlinecolor": "#2a3f5f",
             "gridcolor": "white",
             "linecolor": "white",
             "minorgridcolor": "white",
             "startlinecolor": "#2a3f5f"
            },
            "type": "carpet"
           }
          ],
          "choropleth": [
           {
            "colorbar": {
             "outlinewidth": 0,
             "ticks": ""
            },
            "type": "choropleth"
           }
          ],
          "contour": [
           {
            "colorbar": {
             "outlinewidth": 0,
             "ticks": ""
            },
            "colorscale": [
             [
              0,
              "#0d0887"
             ],
             [
              0.1111111111111111,
              "#46039f"
             ],
             [
              0.2222222222222222,
              "#7201a8"
             ],
             [
              0.3333333333333333,
              "#9c179e"
             ],
             [
              0.4444444444444444,
              "#bd3786"
             ],
             [
              0.5555555555555556,
              "#d8576b"
             ],
             [
              0.6666666666666666,
              "#ed7953"
             ],
             [
              0.7777777777777778,
              "#fb9f3a"
             ],
             [
              0.8888888888888888,
              "#fdca26"
             ],
             [
              1,
              "#f0f921"
             ]
            ],
            "type": "contour"
           }
          ],
          "contourcarpet": [
           {
            "colorbar": {
             "outlinewidth": 0,
             "ticks": ""
            },
            "type": "contourcarpet"
           }
          ],
          "heatmap": [
           {
            "colorbar": {
             "outlinewidth": 0,
             "ticks": ""
            },
            "colorscale": [
             [
              0,
              "#0d0887"
             ],
             [
              0.1111111111111111,
              "#46039f"
             ],
             [
              0.2222222222222222,
              "#7201a8"
             ],
             [
              0.3333333333333333,
              "#9c179e"
             ],
             [
              0.4444444444444444,
              "#bd3786"
             ],
             [
              0.5555555555555556,
              "#d8576b"
             ],
             [
              0.6666666666666666,
              "#ed7953"
             ],
             [
              0.7777777777777778,
              "#fb9f3a"
             ],
             [
              0.8888888888888888,
              "#fdca26"
             ],
             [
              1,
              "#f0f921"
             ]
            ],
            "type": "heatmap"
           }
          ],
          "heatmapgl": [
           {
            "colorbar": {
             "outlinewidth": 0,
             "ticks": ""
            },
            "colorscale": [
             [
              0,
              "#0d0887"
             ],
             [
              0.1111111111111111,
              "#46039f"
             ],
             [
              0.2222222222222222,
              "#7201a8"
             ],
             [
              0.3333333333333333,
              "#9c179e"
             ],
             [
              0.4444444444444444,
              "#bd3786"
             ],
             [
              0.5555555555555556,
              "#d8576b"
             ],
             [
              0.6666666666666666,
              "#ed7953"
             ],
             [
              0.7777777777777778,
              "#fb9f3a"
             ],
             [
              0.8888888888888888,
              "#fdca26"
             ],
             [
              1,
              "#f0f921"
             ]
            ],
            "type": "heatmapgl"
           }
          ],
          "histogram": [
           {
            "marker": {
             "pattern": {
              "fillmode": "overlay",
              "size": 10,
              "solidity": 0.2
             }
            },
            "type": "histogram"
           }
          ],
          "histogram2d": [
           {
            "colorbar": {
             "outlinewidth": 0,
             "ticks": ""
            },
            "colorscale": [
             [
              0,
              "#0d0887"
             ],
             [
              0.1111111111111111,
              "#46039f"
             ],
             [
              0.2222222222222222,
              "#7201a8"
             ],
             [
              0.3333333333333333,
              "#9c179e"
             ],
             [
              0.4444444444444444,
              "#bd3786"
             ],
             [
              0.5555555555555556,
              "#d8576b"
             ],
             [
              0.6666666666666666,
              "#ed7953"
             ],
             [
              0.7777777777777778,
              "#fb9f3a"
             ],
             [
              0.8888888888888888,
              "#fdca26"
             ],
             [
              1,
              "#f0f921"
             ]
            ],
            "type": "histogram2d"
           }
          ],
          "histogram2dcontour": [
           {
            "colorbar": {
             "outlinewidth": 0,
             "ticks": ""
            },
            "colorscale": [
             [
              0,
              "#0d0887"
             ],
             [
              0.1111111111111111,
              "#46039f"
             ],
             [
              0.2222222222222222,
              "#7201a8"
             ],
             [
              0.3333333333333333,
              "#9c179e"
             ],
             [
              0.4444444444444444,
              "#bd3786"
             ],
             [
              0.5555555555555556,
              "#d8576b"
             ],
             [
              0.6666666666666666,
              "#ed7953"
             ],
             [
              0.7777777777777778,
              "#fb9f3a"
             ],
             [
              0.8888888888888888,
              "#fdca26"
             ],
             [
              1,
              "#f0f921"
             ]
            ],
            "type": "histogram2dcontour"
           }
          ],
          "mesh3d": [
           {
            "colorbar": {
             "outlinewidth": 0,
             "ticks": ""
            },
            "type": "mesh3d"
           }
          ],
          "parcoords": [
           {
            "line": {
             "colorbar": {
              "outlinewidth": 0,
              "ticks": ""
             }
            },
            "type": "parcoords"
           }
          ],
          "pie": [
           {
            "automargin": true,
            "type": "pie"
           }
          ],
          "scatter": [
           {
            "fillpattern": {
             "fillmode": "overlay",
             "size": 10,
             "solidity": 0.2
            },
            "type": "scatter"
           }
          ],
          "scatter3d": [
           {
            "line": {
             "colorbar": {
              "outlinewidth": 0,
              "ticks": ""
             }
            },
            "marker": {
             "colorbar": {
              "outlinewidth": 0,
              "ticks": ""
             }
            },
            "type": "scatter3d"
           }
          ],
          "scattercarpet": [
           {
            "marker": {
             "colorbar": {
              "outlinewidth": 0,
              "ticks": ""
             }
            },
            "type": "scattercarpet"
           }
          ],
          "scattergeo": [
           {
            "marker": {
             "colorbar": {
              "outlinewidth": 0,
              "ticks": ""
             }
            },
            "type": "scattergeo"
           }
          ],
          "scattergl": [
           {
            "marker": {
             "colorbar": {
              "outlinewidth": 0,
              "ticks": ""
             }
            },
            "type": "scattergl"
           }
          ],
          "scattermapbox": [
           {
            "marker": {
             "colorbar": {
              "outlinewidth": 0,
              "ticks": ""
             }
            },
            "type": "scattermapbox"
           }
          ],
          "scatterpolar": [
           {
            "marker": {
             "colorbar": {
              "outlinewidth": 0,
              "ticks": ""
             }
            },
            "type": "scatterpolar"
           }
          ],
          "scatterpolargl": [
           {
            "marker": {
             "colorbar": {
              "outlinewidth": 0,
              "ticks": ""
             }
            },
            "type": "scatterpolargl"
           }
          ],
          "scatterternary": [
           {
            "marker": {
             "colorbar": {
              "outlinewidth": 0,
              "ticks": ""
             }
            },
            "type": "scatterternary"
           }
          ],
          "surface": [
           {
            "colorbar": {
             "outlinewidth": 0,
             "ticks": ""
            },
            "colorscale": [
             [
              0,
              "#0d0887"
             ],
             [
              0.1111111111111111,
              "#46039f"
             ],
             [
              0.2222222222222222,
              "#7201a8"
             ],
             [
              0.3333333333333333,
              "#9c179e"
             ],
             [
              0.4444444444444444,
              "#bd3786"
             ],
             [
              0.5555555555555556,
              "#d8576b"
             ],
             [
              0.6666666666666666,
              "#ed7953"
             ],
             [
              0.7777777777777778,
              "#fb9f3a"
             ],
             [
              0.8888888888888888,
              "#fdca26"
             ],
             [
              1,
              "#f0f921"
             ]
            ],
            "type": "surface"
           }
          ],
          "table": [
           {
            "cells": {
             "fill": {
              "color": "#EBF0F8"
             },
             "line": {
              "color": "white"
             }
            },
            "header": {
             "fill": {
              "color": "#C8D4E3"
             },
             "line": {
              "color": "white"
             }
            },
            "type": "table"
           }
          ]
         },
         "layout": {
          "annotationdefaults": {
           "arrowcolor": "#2a3f5f",
           "arrowhead": 0,
           "arrowwidth": 1
          },
          "autotypenumbers": "strict",
          "coloraxis": {
           "colorbar": {
            "outlinewidth": 0,
            "ticks": ""
           }
          },
          "colorscale": {
           "diverging": [
            [
             0,
             "#8e0152"
            ],
            [
             0.1,
             "#c51b7d"
            ],
            [
             0.2,
             "#de77ae"
            ],
            [
             0.3,
             "#f1b6da"
            ],
            [
             0.4,
             "#fde0ef"
            ],
            [
             0.5,
             "#f7f7f7"
            ],
            [
             0.6,
             "#e6f5d0"
            ],
            [
             0.7,
             "#b8e186"
            ],
            [
             0.8,
             "#7fbc41"
            ],
            [
             0.9,
             "#4d9221"
            ],
            [
             1,
             "#276419"
            ]
           ],
           "sequential": [
            [
             0,
             "#0d0887"
            ],
            [
             0.1111111111111111,
             "#46039f"
            ],
            [
             0.2222222222222222,
             "#7201a8"
            ],
            [
             0.3333333333333333,
             "#9c179e"
            ],
            [
             0.4444444444444444,
             "#bd3786"
            ],
            [
             0.5555555555555556,
             "#d8576b"
            ],
            [
             0.6666666666666666,
             "#ed7953"
            ],
            [
             0.7777777777777778,
             "#fb9f3a"
            ],
            [
             0.8888888888888888,
             "#fdca26"
            ],
            [
             1,
             "#f0f921"
            ]
           ],
           "sequentialminus": [
            [
             0,
             "#0d0887"
            ],
            [
             0.1111111111111111,
             "#46039f"
            ],
            [
             0.2222222222222222,
             "#7201a8"
            ],
            [
             0.3333333333333333,
             "#9c179e"
            ],
            [
             0.4444444444444444,
             "#bd3786"
            ],
            [
             0.5555555555555556,
             "#d8576b"
            ],
            [
             0.6666666666666666,
             "#ed7953"
            ],
            [
             0.7777777777777778,
             "#fb9f3a"
            ],
            [
             0.8888888888888888,
             "#fdca26"
            ],
            [
             1,
             "#f0f921"
            ]
           ]
          },
          "colorway": [
           "#636efa",
           "#EF553B",
           "#00cc96",
           "#ab63fa",
           "#FFA15A",
           "#19d3f3",
           "#FF6692",
           "#B6E880",
           "#FF97FF",
           "#FECB52"
          ],
          "font": {
           "color": "#2a3f5f"
          },
          "geo": {
           "bgcolor": "white",
           "lakecolor": "white",
           "landcolor": "#E5ECF6",
           "showlakes": true,
           "showland": true,
           "subunitcolor": "white"
          },
          "hoverlabel": {
           "align": "left"
          },
          "hovermode": "closest",
          "mapbox": {
           "style": "light"
          },
          "paper_bgcolor": "white",
          "plot_bgcolor": "#E5ECF6",
          "polar": {
           "angularaxis": {
            "gridcolor": "white",
            "linecolor": "white",
            "ticks": ""
           },
           "bgcolor": "#E5ECF6",
           "radialaxis": {
            "gridcolor": "white",
            "linecolor": "white",
            "ticks": ""
           }
          },
          "scene": {
           "xaxis": {
            "backgroundcolor": "#E5ECF6",
            "gridcolor": "white",
            "gridwidth": 2,
            "linecolor": "white",
            "showbackground": true,
            "ticks": "",
            "zerolinecolor": "white"
           },
           "yaxis": {
            "backgroundcolor": "#E5ECF6",
            "gridcolor": "white",
            "gridwidth": 2,
            "linecolor": "white",
            "showbackground": true,
            "ticks": "",
            "zerolinecolor": "white"
           },
           "zaxis": {
            "backgroundcolor": "#E5ECF6",
            "gridcolor": "white",
            "gridwidth": 2,
            "linecolor": "white",
            "showbackground": true,
            "ticks": "",
            "zerolinecolor": "white"
           }
          },
          "shapedefaults": {
           "line": {
            "color": "#2a3f5f"
           }
          },
          "ternary": {
           "aaxis": {
            "gridcolor": "white",
            "linecolor": "white",
            "ticks": ""
           },
           "baxis": {
            "gridcolor": "white",
            "linecolor": "white",
            "ticks": ""
           },
           "bgcolor": "#E5ECF6",
           "caxis": {
            "gridcolor": "white",
            "linecolor": "white",
            "ticks": ""
           }
          },
          "title": {
           "x": 0.05
          },
          "xaxis": {
           "automargin": true,
           "gridcolor": "white",
           "linecolor": "white",
           "ticks": "",
           "title": {
            "standoff": 15
           },
           "zerolinecolor": "white",
           "zerolinewidth": 2
          },
          "yaxis": {
           "automargin": true,
           "gridcolor": "white",
           "linecolor": "white",
           "ticks": "",
           "title": {
            "standoff": 15
           },
           "zerolinecolor": "white",
           "zerolinewidth": 2
          }
         }
        },
        "title": {
         "text": "Average direct effect of source token on prediction for source logit at destination position"
        },
        "width": 1200,
        "xaxis": {
         "anchor": "y",
         "constrain": "domain",
         "domain": [
          0,
          0.49
         ],
         "scaleanchor": "y"
        },
        "xaxis2": {
         "anchor": "y2",
         "domain": [
          0.51,
          1
         ],
         "matches": "x"
        },
        "yaxis": {
         "anchor": "x",
         "autorange": "reversed",
         "constrain": "domain",
         "domain": [
          0,
          1
         ]
        },
        "yaxis2": {
         "anchor": "x2",
         "domain": [
          0,
          1
         ],
         "matches": "y",
         "showticklabels": false
        }
       }
      },
      "text/html": [
       "<div>                            <div id=\"5e781279-6d9b-4039-8bf5-b5c4adfa1177\" class=\"plotly-graph-div\" style=\"height:700px; width:1200px;\"></div>            <script type=\"text/javascript\">                require([\"plotly\"], function(Plotly) {                    window.PLOTLYENV=window.PLOTLYENV || {};                                    if (document.getElementById(\"5e781279-6d9b-4039-8bf5-b5c4adfa1177\")) {                    Plotly.newPlot(                        \"5e781279-6d9b-4039-8bf5-b5c4adfa1177\",                        [{\"coloraxis\":\"coloraxis\",\"name\":\"0\",\"texttemplate\":\"%{z:.2f}\",\"z\":[[0.0,0.0,0.0,0.0,0.0,0.0,0.0,-0.017489319667220116,-0.14313505589962006,-0.1190628930926323,0.0,-0.008332381956279278],[-0.033380765467882156,-0.10641618818044662,-0.09967159479856491,0.0,-0.014531361870467663,-0.20336242020130157,0.0,0.0,0.0,0.0,-0.13428544998168945,-0.05589766427874565],[-0.018035944551229477,0.0,-0.015988079831004143,0.0,0.0,-0.054987359791994095,0.0,-0.0334056094288826,-0.0789441391825676,0.0,-0.13534857332706451,0.0],[0.0,0.0,-0.00833999551832676,0.0,0.0,0.0,0.0,0.0,-0.05005164071917534,0.0,-0.08460481464862823,0.0],[-0.05057584121823311,0.0,0.0,0.0,-0.06823867559432983,0.0,-0.020865650847554207,-0.09046254307031631,0.0,0.0,0.0,0.0],[0.0,0.0,0.0,0.0,-0.03815946727991104,0.0,0.0,0.0,-0.02121184580028057,-0.07701008021831512,0.0,-0.0745619386434555],[0.0,0.0,0.0,0.0,0.0,-0.19244147837162018,-0.11108043044805527,0.0,0.0,0.0,0.0,0.0],[-0.0046397363767027855,0.0,0.0,-0.13929010927677155,0.0,0.0,-0.07038535922765732,0.0,0.0,-0.060948919504880905,0.0,0.0],[-0.020541435107588768,0.0,0.0,0.0,0.0,0.0,0.0,-0.008357343263924122,0.0,-0.1350913792848587,-0.47632351517677307,0.0],[0.0,0.0,0.0,0.0,-0.06099791079759598,-0.18165253102779388,0.0,-0.04978211596608162,0.0,0.0,0.0,0.0],[0.0,0.0,0.0,0.0,0.0,0.0,0.0,-3.285259962081909,0.0,0.0,0.0,0.0],[-0.2932201325893402,0.0,0.0,0.0,0.0,0.0,0.0,0.0,0.0,0.0,-2.239227771759033,0.0]],\"type\":\"heatmap\",\"xaxis\":\"x\",\"yaxis\":\"y\",\"hovertemplate\":\"x: %{x}\\u003cbr\\u003ey: %{y}\\u003cbr\\u003ecolor: %{z}\\u003cextra\\u003e\\u003c\\u002fextra\\u003e\"},{\"coloraxis\":\"coloraxis\",\"name\":\"1\",\"texttemplate\":\"%{z:.2f}\",\"z\":[[0.0,0.0,0.0,0.0,0.0,0.0,0.0,0.0,-0.09344592690467834,-0.08994441479444504,0.0,-0.07302135229110718],[-0.0003288336447440088,-0.07450719177722931,0.0,0.0,-0.0195708516985178,-0.2522010803222656,0.0,0.0,-0.09380657225847244,-0.06003399193286896,-0.10890251398086548,-0.07786311954259872],[-6.811731145717204e-05,0.0,0.0,0.0,0.0,-0.04129809886217117,0.0,-0.042544424533843994,-0.0029594432562589645,0.0,-0.08951880782842636,-0.030565548688173294],[0.0,0.0,-0.0007654063520021737,0.0,0.0,0.0,0.0,0.0,-0.03272261098027229,0.0,-0.12561865150928497,0.0],[-0.014219461008906364,-0.011250462383031845,0.0,0.0,-0.1691519170999527,0.0,-0.021160846576094627,-0.11494608223438263,0.0,0.0,0.0,0.0],[0.0,0.0,0.0,0.0,-0.04542737081646919,0.0,0.0,0.0,0.0,-0.13255910575389862,0.0,-0.26446810364723206],[0.0,0.0,0.0,0.0,0.0,-0.24804256856441498,-0.22248056530952454,0.0,0.0,0.0,0.0,0.0],[0.0,0.0,0.0,-0.3472549617290497,0.0,0.0,-0.21301624178886414,0.0,0.0,-0.08183283358812332,0.0,0.0],[0.0,0.0,0.0,0.0,0.0,0.0,0.0,0.0,0.0,-0.2195071280002594,-0.7954103946685791,0.0],[0.0,0.0,0.0,0.0,-0.03926421329379082,-0.8072298765182495,0.0,0.0,0.0,0.0,0.0,0.0],[0.0,0.0,0.0,0.0,0.0,0.0,0.0,-2.6167969703674316,0.0,0.0,0.0,0.0],[-0.1989002376794815,0.0,0.0,0.0,0.0,0.0,0.0,0.0,0.0,0.0,-1.672224998474121,0.0]],\"type\":\"heatmap\",\"xaxis\":\"x2\",\"yaxis\":\"y2\",\"hovertemplate\":\"x: %{x}\\u003cbr\\u003ey: %{y}\\u003cbr\\u003ecolor: %{z}\\u003cextra\\u003e\\u003c\\u002fextra\\u003e\"}],                        {\"template\":{\"data\":{\"histogram2dcontour\":[{\"type\":\"histogram2dcontour\",\"colorbar\":{\"outlinewidth\":0,\"ticks\":\"\"},\"colorscale\":[[0.0,\"#0d0887\"],[0.1111111111111111,\"#46039f\"],[0.2222222222222222,\"#7201a8\"],[0.3333333333333333,\"#9c179e\"],[0.4444444444444444,\"#bd3786\"],[0.5555555555555556,\"#d8576b\"],[0.6666666666666666,\"#ed7953\"],[0.7777777777777778,\"#fb9f3a\"],[0.8888888888888888,\"#fdca26\"],[1.0,\"#f0f921\"]]}],\"choropleth\":[{\"type\":\"choropleth\",\"colorbar\":{\"outlinewidth\":0,\"ticks\":\"\"}}],\"histogram2d\":[{\"type\":\"histogram2d\",\"colorbar\":{\"outlinewidth\":0,\"ticks\":\"\"},\"colorscale\":[[0.0,\"#0d0887\"],[0.1111111111111111,\"#46039f\"],[0.2222222222222222,\"#7201a8\"],[0.3333333333333333,\"#9c179e\"],[0.4444444444444444,\"#bd3786\"],[0.5555555555555556,\"#d8576b\"],[0.6666666666666666,\"#ed7953\"],[0.7777777777777778,\"#fb9f3a\"],[0.8888888888888888,\"#fdca26\"],[1.0,\"#f0f921\"]]}],\"heatmap\":[{\"type\":\"heatmap\",\"colorbar\":{\"outlinewidth\":0,\"ticks\":\"\"},\"colorscale\":[[0.0,\"#0d0887\"],[0.1111111111111111,\"#46039f\"],[0.2222222222222222,\"#7201a8\"],[0.3333333333333333,\"#9c179e\"],[0.4444444444444444,\"#bd3786\"],[0.5555555555555556,\"#d8576b\"],[0.6666666666666666,\"#ed7953\"],[0.7777777777777778,\"#fb9f3a\"],[0.8888888888888888,\"#fdca26\"],[1.0,\"#f0f921\"]]}],\"heatmapgl\":[{\"type\":\"heatmapgl\",\"colorbar\":{\"outlinewidth\":0,\"ticks\":\"\"},\"colorscale\":[[0.0,\"#0d0887\"],[0.1111111111111111,\"#46039f\"],[0.2222222222222222,\"#7201a8\"],[0.3333333333333333,\"#9c179e\"],[0.4444444444444444,\"#bd3786\"],[0.5555555555555556,\"#d8576b\"],[0.6666666666666666,\"#ed7953\"],[0.7777777777777778,\"#fb9f3a\"],[0.8888888888888888,\"#fdca26\"],[1.0,\"#f0f921\"]]}],\"contourcarpet\":[{\"type\":\"contourcarpet\",\"colorbar\":{\"outlinewidth\":0,\"ticks\":\"\"}}],\"contour\":[{\"type\":\"contour\",\"colorbar\":{\"outlinewidth\":0,\"ticks\":\"\"},\"colorscale\":[[0.0,\"#0d0887\"],[0.1111111111111111,\"#46039f\"],[0.2222222222222222,\"#7201a8\"],[0.3333333333333333,\"#9c179e\"],[0.4444444444444444,\"#bd3786\"],[0.5555555555555556,\"#d8576b\"],[0.6666666666666666,\"#ed7953\"],[0.7777777777777778,\"#fb9f3a\"],[0.8888888888888888,\"#fdca26\"],[1.0,\"#f0f921\"]]}],\"surface\":[{\"type\":\"surface\",\"colorbar\":{\"outlinewidth\":0,\"ticks\":\"\"},\"colorscale\":[[0.0,\"#0d0887\"],[0.1111111111111111,\"#46039f\"],[0.2222222222222222,\"#7201a8\"],[0.3333333333333333,\"#9c179e\"],[0.4444444444444444,\"#bd3786\"],[0.5555555555555556,\"#d8576b\"],[0.6666666666666666,\"#ed7953\"],[0.7777777777777778,\"#fb9f3a\"],[0.8888888888888888,\"#fdca26\"],[1.0,\"#f0f921\"]]}],\"mesh3d\":[{\"type\":\"mesh3d\",\"colorbar\":{\"outlinewidth\":0,\"ticks\":\"\"}}],\"scatter\":[{\"fillpattern\":{\"fillmode\":\"overlay\",\"size\":10,\"solidity\":0.2},\"type\":\"scatter\"}],\"parcoords\":[{\"type\":\"parcoords\",\"line\":{\"colorbar\":{\"outlinewidth\":0,\"ticks\":\"\"}}}],\"scatterpolargl\":[{\"type\":\"scatterpolargl\",\"marker\":{\"colorbar\":{\"outlinewidth\":0,\"ticks\":\"\"}}}],\"bar\":[{\"error_x\":{\"color\":\"#2a3f5f\"},\"error_y\":{\"color\":\"#2a3f5f\"},\"marker\":{\"line\":{\"color\":\"#E5ECF6\",\"width\":0.5},\"pattern\":{\"fillmode\":\"overlay\",\"size\":10,\"solidity\":0.2}},\"type\":\"bar\"}],\"scattergeo\":[{\"type\":\"scattergeo\",\"marker\":{\"colorbar\":{\"outlinewidth\":0,\"ticks\":\"\"}}}],\"scatterpolar\":[{\"type\":\"scatterpolar\",\"marker\":{\"colorbar\":{\"outlinewidth\":0,\"ticks\":\"\"}}}],\"histogram\":[{\"marker\":{\"pattern\":{\"fillmode\":\"overlay\",\"size\":10,\"solidity\":0.2}},\"type\":\"histogram\"}],\"scattergl\":[{\"type\":\"scattergl\",\"marker\":{\"colorbar\":{\"outlinewidth\":0,\"ticks\":\"\"}}}],\"scatter3d\":[{\"type\":\"scatter3d\",\"line\":{\"colorbar\":{\"outlinewidth\":0,\"ticks\":\"\"}},\"marker\":{\"colorbar\":{\"outlinewidth\":0,\"ticks\":\"\"}}}],\"scattermapbox\":[{\"type\":\"scattermapbox\",\"marker\":{\"colorbar\":{\"outlinewidth\":0,\"ticks\":\"\"}}}],\"scatterternary\":[{\"type\":\"scatterternary\",\"marker\":{\"colorbar\":{\"outlinewidth\":0,\"ticks\":\"\"}}}],\"scattercarpet\":[{\"type\":\"scattercarpet\",\"marker\":{\"colorbar\":{\"outlinewidth\":0,\"ticks\":\"\"}}}],\"carpet\":[{\"aaxis\":{\"endlinecolor\":\"#2a3f5f\",\"gridcolor\":\"white\",\"linecolor\":\"white\",\"minorgridcolor\":\"white\",\"startlinecolor\":\"#2a3f5f\"},\"baxis\":{\"endlinecolor\":\"#2a3f5f\",\"gridcolor\":\"white\",\"linecolor\":\"white\",\"minorgridcolor\":\"white\",\"startlinecolor\":\"#2a3f5f\"},\"type\":\"carpet\"}],\"table\":[{\"cells\":{\"fill\":{\"color\":\"#EBF0F8\"},\"line\":{\"color\":\"white\"}},\"header\":{\"fill\":{\"color\":\"#C8D4E3\"},\"line\":{\"color\":\"white\"}},\"type\":\"table\"}],\"barpolar\":[{\"marker\":{\"line\":{\"color\":\"#E5ECF6\",\"width\":0.5},\"pattern\":{\"fillmode\":\"overlay\",\"size\":10,\"solidity\":0.2}},\"type\":\"barpolar\"}],\"pie\":[{\"automargin\":true,\"type\":\"pie\"}]},\"layout\":{\"autotypenumbers\":\"strict\",\"colorway\":[\"#636efa\",\"#EF553B\",\"#00cc96\",\"#ab63fa\",\"#FFA15A\",\"#19d3f3\",\"#FF6692\",\"#B6E880\",\"#FF97FF\",\"#FECB52\"],\"font\":{\"color\":\"#2a3f5f\"},\"hovermode\":\"closest\",\"hoverlabel\":{\"align\":\"left\"},\"paper_bgcolor\":\"white\",\"plot_bgcolor\":\"#E5ECF6\",\"polar\":{\"bgcolor\":\"#E5ECF6\",\"angularaxis\":{\"gridcolor\":\"white\",\"linecolor\":\"white\",\"ticks\":\"\"},\"radialaxis\":{\"gridcolor\":\"white\",\"linecolor\":\"white\",\"ticks\":\"\"}},\"ternary\":{\"bgcolor\":\"#E5ECF6\",\"aaxis\":{\"gridcolor\":\"white\",\"linecolor\":\"white\",\"ticks\":\"\"},\"baxis\":{\"gridcolor\":\"white\",\"linecolor\":\"white\",\"ticks\":\"\"},\"caxis\":{\"gridcolor\":\"white\",\"linecolor\":\"white\",\"ticks\":\"\"}},\"coloraxis\":{\"colorbar\":{\"outlinewidth\":0,\"ticks\":\"\"}},\"colorscale\":{\"sequential\":[[0.0,\"#0d0887\"],[0.1111111111111111,\"#46039f\"],[0.2222222222222222,\"#7201a8\"],[0.3333333333333333,\"#9c179e\"],[0.4444444444444444,\"#bd3786\"],[0.5555555555555556,\"#d8576b\"],[0.6666666666666666,\"#ed7953\"],[0.7777777777777778,\"#fb9f3a\"],[0.8888888888888888,\"#fdca26\"],[1.0,\"#f0f921\"]],\"sequentialminus\":[[0.0,\"#0d0887\"],[0.1111111111111111,\"#46039f\"],[0.2222222222222222,\"#7201a8\"],[0.3333333333333333,\"#9c179e\"],[0.4444444444444444,\"#bd3786\"],[0.5555555555555556,\"#d8576b\"],[0.6666666666666666,\"#ed7953\"],[0.7777777777777778,\"#fb9f3a\"],[0.8888888888888888,\"#fdca26\"],[1.0,\"#f0f921\"]],\"diverging\":[[0,\"#8e0152\"],[0.1,\"#c51b7d\"],[0.2,\"#de77ae\"],[0.3,\"#f1b6da\"],[0.4,\"#fde0ef\"],[0.5,\"#f7f7f7\"],[0.6,\"#e6f5d0\"],[0.7,\"#b8e186\"],[0.8,\"#7fbc41\"],[0.9,\"#4d9221\"],[1,\"#276419\"]]},\"xaxis\":{\"gridcolor\":\"white\",\"linecolor\":\"white\",\"ticks\":\"\",\"title\":{\"standoff\":15},\"zerolinecolor\":\"white\",\"automargin\":true,\"zerolinewidth\":2},\"yaxis\":{\"gridcolor\":\"white\",\"linecolor\":\"white\",\"ticks\":\"\",\"title\":{\"standoff\":15},\"zerolinecolor\":\"white\",\"automargin\":true,\"zerolinewidth\":2},\"scene\":{\"xaxis\":{\"backgroundcolor\":\"#E5ECF6\",\"gridcolor\":\"white\",\"linecolor\":\"white\",\"showbackground\":true,\"ticks\":\"\",\"zerolinecolor\":\"white\",\"gridwidth\":2},\"yaxis\":{\"backgroundcolor\":\"#E5ECF6\",\"gridcolor\":\"white\",\"linecolor\":\"white\",\"showbackground\":true,\"ticks\":\"\",\"zerolinecolor\":\"white\",\"gridwidth\":2},\"zaxis\":{\"backgroundcolor\":\"#E5ECF6\",\"gridcolor\":\"white\",\"linecolor\":\"white\",\"showbackground\":true,\"ticks\":\"\",\"zerolinecolor\":\"white\",\"gridwidth\":2}},\"shapedefaults\":{\"line\":{\"color\":\"#2a3f5f\"}},\"annotationdefaults\":{\"arrowcolor\":\"#2a3f5f\",\"arrowhead\":0,\"arrowwidth\":1},\"geo\":{\"bgcolor\":\"white\",\"landcolor\":\"#E5ECF6\",\"subunitcolor\":\"white\",\"showland\":true,\"showlakes\":true,\"lakecolor\":\"white\"},\"title\":{\"x\":0.05},\"mapbox\":{\"style\":\"light\"}}},\"xaxis\":{\"anchor\":\"y\",\"domain\":[0.0,0.49],\"scaleanchor\":\"y\",\"constrain\":\"domain\"},\"yaxis\":{\"anchor\":\"x\",\"domain\":[0.0,1.0],\"autorange\":\"reversed\",\"constrain\":\"domain\"},\"xaxis2\":{\"anchor\":\"y2\",\"domain\":[0.51,1.0],\"matches\":\"x\"},\"yaxis2\":{\"anchor\":\"x2\",\"domain\":[0.0,1.0],\"matches\":\"y\",\"showticklabels\":false},\"annotations\":[{\"font\":{},\"showarrow\":false,\"text\":\"IOI\",\"x\":0.245,\"xanchor\":\"center\",\"xref\":\"paper\",\"y\":1.0,\"yanchor\":\"bottom\",\"yref\":\"paper\"},{\"font\":{},\"showarrow\":false,\"text\":\"Webtext\",\"x\":0.755,\"xanchor\":\"center\",\"xref\":\"paper\",\"y\":1.0,\"yanchor\":\"bottom\",\"yref\":\"paper\"}],\"coloraxis\":{\"colorscale\":[[0.0,\"rgb(103,0,31)\"],[0.1,\"rgb(178,24,43)\"],[0.2,\"rgb(214,96,77)\"],[0.3,\"rgb(244,165,130)\"],[0.4,\"rgb(253,219,199)\"],[0.5,\"rgb(247,247,247)\"],[0.6,\"rgb(209,229,240)\"],[0.7,\"rgb(146,197,222)\"],[0.8,\"rgb(67,147,195)\"],[0.9,\"rgb(33,102,172)\"],[1.0,\"rgb(5,48,97)\"]],\"cmid\":0.0},\"title\":{\"text\":\"Average direct effect of source token on prediction for source logit at destination position\"},\"height\":700,\"width\":1200,\"modebar\":{\"add\":[\"drawline\",\"drawopenpath\",\"drawclosedpath\",\"drawcircle\",\"drawrect\",\"eraseshape\"]}},                        {\"displaylogo\": false, \"responsive\": true}                    ).then(function(){\n",
       "                            \n",
       "var gd = document.getElementById('5e781279-6d9b-4039-8bf5-b5c4adfa1177');\n",
       "var x = new MutationObserver(function (mutations, observer) {{\n",
       "        var display = window.getComputedStyle(gd).display;\n",
       "        if (!display || display === 'none') {{\n",
       "            console.log([gd, 'removed!']);\n",
       "            Plotly.purge(gd);\n",
       "            observer.disconnect();\n",
       "        }}\n",
       "}});\n",
       "\n",
       "// Listen for the removal of the full notebook cells\n",
       "var notebookContainer = gd.closest('#notebook-container');\n",
       "if (notebookContainer) {{\n",
       "    x.observe(notebookContainer, {childList: true});\n",
       "}}\n",
       "\n",
       "// Listen for the clearing of the current output cell\n",
       "var outputEl = gd.closest('.output');\n",
       "if (outputEl) {{\n",
       "    x.observe(outputEl, {childList: true});\n",
       "}}\n",
       "\n",
       "                        })                };                });            </script>        </div>"
      ]
     },
     "metadata": {},
     "output_type": "display_data"
    }
   ],
   "source": [
    "imshow(\n",
    "    t.stack([\n",
    "        unembedding_coeffs_first_pass * (unembedding_coeffs_first_pass < 0),\n",
    "        unembedding_coeffs_second_pass * (unembedding_coeffs_second_pass < 0),\n",
    "        # unembedding_coeffs_second_pass_smaller_seqlen * (unembedding_coeffs_second_pass_smaller_seqlen < 0),\n",
    "    ]),\n",
    "    facet_col=0,\n",
    "    facet_labels=[\"IOI\", \"Webtext\"],\n",
    "    height=700, \n",
    "    width=1200, \n",
    "    title=\"Average direct effect of source token on prediction for source logit at destination position\",\n",
    "    text_auto=\".2f\",\n",
    "    static=False\n",
    ")\n",
    "\n",
    "# ! This is \"how much on average does the attention head's output suppress the logits of the source tokens (weighted by how much the source tokens are attended to)\" (and with BOS and self-attn ignored)\n",
    "\n",
    "# It's very large and negative on IOI (because basically all attn which isn't BOS or self-attn is attn to the IOI token, which negatively suppresses it)\n",
    "# But it's also noticeably negative on Webtext (and still sparse).\n",
    "# Key question - why isn't it sparse if you don't give more weight to the things which are attended to more? Answer - because most tokens in sequences are generic, like \"the\" and \",\", so this doesn't really work for them."
   ]
  },
  {
   "cell_type": "code",
   "execution_count": null,
   "metadata": {},
   "outputs": [
    {
     "data": {
      "application/vnd.plotly.v1+json": {
       "config": {
        "displaylogo": false,
        "plotlyServerURL": "https://plot.ly",
        "responsive": true
       },
       "data": [
        {
         "coloraxis": "coloraxis",
         "hovertemplate": "x: %{x}<br>y: %{y}<br>color: %{z}<extra></extra>",
         "name": "0",
         "texttemplate": "%{z:.2f}",
         "type": "heatmap",
         "xaxis": "x",
         "yaxis": "y",
         "z": [
          [
           0,
           0,
           0,
           0,
           0,
           0,
           0,
           -0.010739822871983051,
           -0.11298737674951553,
           -0.10547497123479843,
           0,
           -0.00566857261583209
          ],
          [
           -0.03438083082437515,
           -0.09883512556552887,
           -0.08716144412755966,
           0,
           -0.013493701815605164,
           -0.1805115044116974,
           0,
           0,
           0,
           0,
           -0.10268383473157883,
           -0.014924702234566212
          ],
          [
           -0.01924542896449566,
           0,
           -0.017248544842004776,
           0,
           0,
           -0.04958364740014076,
           0,
           -0.024863597005605698,
           -0.0787351205945015,
           0,
           -0.11559462547302246,
           0
          ],
          [
           0,
           0,
           -0.01312821265310049,
           0,
           0,
           0,
           0,
           0,
           -0.042848724871873856,
           0,
           -0.049388568848371506,
           0
          ],
          [
           -0.052309293299913406,
           0,
           0,
           0,
           -0.0596478097140789,
           0,
           -0.020641928538680077,
           -0.03609763830900192,
           0,
           0,
           0,
           0
          ],
          [
           0,
           0,
           0,
           0,
           -0.03502320125699043,
           0,
           0,
           0,
           -0.019504928961396217,
           -0.07295437157154083,
           0,
           -0.05690109729766846
          ],
          [
           0,
           0,
           0,
           0,
           0,
           -0.17246906459331512,
           -0.08940912783145905,
           0,
           0,
           0,
           0,
           0
          ],
          [
           -0.00512746861204505,
           0,
           0,
           -0.12509694695472717,
           0,
           0,
           -0.06369111686944962,
           0,
           0,
           -0.05919598415493965,
           0,
           0
          ],
          [
           -0.01595309190452099,
           0,
           0,
           0,
           0,
           0,
           0,
           -0.009613770060241222,
           0,
           -0.11494821310043335,
           -0.4404308497905731,
           0
          ],
          [
           0,
           0,
           0,
           0,
           -0.05163336917757988,
           -0.15125660598278046,
           0,
           -0.049281761050224304,
           0,
           0,
           0,
           0
          ],
          [
           0,
           0,
           0,
           0,
           0,
           0,
           0,
           -3.523452043533325,
           0,
           0,
           0,
           0
          ],
          [
           -0.25977832078933716,
           0,
           0,
           0,
           0,
           0,
           0,
           0,
           0,
           0,
           -2.3765709400177,
           0
          ]
         ]
        },
        {
         "coloraxis": "coloraxis",
         "hovertemplate": "x: %{x}<br>y: %{y}<br>color: %{z}<extra></extra>",
         "name": "1",
         "texttemplate": "%{z:.2f}",
         "type": "heatmap",
         "xaxis": "x2",
         "yaxis": "y2",
         "z": [
          [
           0,
           0,
           0,
           0,
           0,
           0,
           0,
           0,
           -0.07920267432928085,
           -0.0849609225988388,
           0,
           -0.07196450978517532
          ],
          [
           -0.0010270806960761547,
           -0.07030660659074783,
           0,
           0,
           -0.01801699958741665,
           -0.23291735351085663,
           0,
           0,
           -0.09086025506258011,
           -0.058933693915605545,
           -0.09797003865242004,
           -0.03023657202720642
          ],
          [
           0,
           0,
           0,
           -0.00022151993471197784,
           0,
           -0.03738151490688324,
           0,
           -0.03747257962822914,
           -0.00397881306707859,
           0,
           -0.08106283843517303,
           -0.025863001123070717
          ],
          [
           0,
           0,
           -0.003825354389846325,
           0,
           0,
           0,
           0,
           0,
           -0.03066400997340679,
           0,
           -0.09132278710603714,
           0
          ],
          [
           -0.017917517572641373,
           -0.011316576041281223,
           0,
           0,
           -0.15254507958889008,
           0,
           -0.01853524148464203,
           -0.05729581415653229,
           0,
           0,
           0,
           0
          ],
          [
           0,
           0,
           0,
           0,
           -0.041979897767305374,
           0,
           0,
           0,
           0,
           -0.1311511993408203,
           0,
           -0.2605843245983124
          ],
          [
           0,
           0,
           0,
           0,
           0,
           -0.22258636355400085,
           -0.20019082725048065,
           0,
           0,
           0,
           0,
           0
          ],
          [
           0,
           0,
           0,
           -0.31985747814178467,
           0,
           0,
           -0.20785638689994812,
           0,
           0,
           -0.07930850237607956,
           0,
           0
          ],
          [
           0,
           0,
           0,
           0,
           0,
           0,
           0,
           0,
           0,
           -0.2062312364578247,
           -0.7327380180358887,
           0
          ],
          [
           0,
           0,
           0,
           0,
           -0.03653586655855179,
           -0.7845080494880676,
           0,
           0,
           0,
           0,
           0,
           0
          ],
          [
           0,
           0,
           0,
           0,
           0,
           0,
           0,
           -2.60457706451416,
           0,
           0,
           0,
           0
          ],
          [
           -0.1729365736246109,
           0,
           0,
           0,
           0,
           0,
           0,
           0,
           0,
           0,
           -1.68948233127594,
           0
          ]
         ]
        }
       ],
       "layout": {
        "annotations": [
         {
          "font": {},
          "showarrow": false,
          "text": "IOI",
          "x": 0.245,
          "xanchor": "center",
          "xref": "paper",
          "y": 1,
          "yanchor": "bottom",
          "yref": "paper"
         },
         {
          "font": {},
          "showarrow": false,
          "text": "Webtext",
          "x": 0.755,
          "xanchor": "center",
          "xref": "paper",
          "y": 1,
          "yanchor": "bottom",
          "yref": "paper"
         }
        ],
        "coloraxis": {
         "cmid": 0,
         "colorscale": [
          [
           0,
           "rgb(103,0,31)"
          ],
          [
           0.1,
           "rgb(178,24,43)"
          ],
          [
           0.2,
           "rgb(214,96,77)"
          ],
          [
           0.3,
           "rgb(244,165,130)"
          ],
          [
           0.4,
           "rgb(253,219,199)"
          ],
          [
           0.5,
           "rgb(247,247,247)"
          ],
          [
           0.6,
           "rgb(209,229,240)"
          ],
          [
           0.7,
           "rgb(146,197,222)"
          ],
          [
           0.8,
           "rgb(67,147,195)"
          ],
          [
           0.9,
           "rgb(33,102,172)"
          ],
          [
           1,
           "rgb(5,48,97)"
          ]
         ]
        },
        "height": 700,
        "modebar": {
         "add": [
          "drawline",
          "drawopenpath",
          "drawclosedpath",
          "drawcircle",
          "drawrect",
          "eraseshape"
         ]
        },
        "template": {
         "data": {
          "bar": [
           {
            "error_x": {
             "color": "#2a3f5f"
            },
            "error_y": {
             "color": "#2a3f5f"
            },
            "marker": {
             "line": {
              "color": "#E5ECF6",
              "width": 0.5
             },
             "pattern": {
              "fillmode": "overlay",
              "size": 10,
              "solidity": 0.2
             }
            },
            "type": "bar"
           }
          ],
          "barpolar": [
           {
            "marker": {
             "line": {
              "color": "#E5ECF6",
              "width": 0.5
             },
             "pattern": {
              "fillmode": "overlay",
              "size": 10,
              "solidity": 0.2
             }
            },
            "type": "barpolar"
           }
          ],
          "carpet": [
           {
            "aaxis": {
             "endlinecolor": "#2a3f5f",
             "gridcolor": "white",
             "linecolor": "white",
             "minorgridcolor": "white",
             "startlinecolor": "#2a3f5f"
            },
            "baxis": {
             "endlinecolor": "#2a3f5f",
             "gridcolor": "white",
             "linecolor": "white",
             "minorgridcolor": "white",
             "startlinecolor": "#2a3f5f"
            },
            "type": "carpet"
           }
          ],
          "choropleth": [
           {
            "colorbar": {
             "outlinewidth": 0,
             "ticks": ""
            },
            "type": "choropleth"
           }
          ],
          "contour": [
           {
            "colorbar": {
             "outlinewidth": 0,
             "ticks": ""
            },
            "colorscale": [
             [
              0,
              "#0d0887"
             ],
             [
              0.1111111111111111,
              "#46039f"
             ],
             [
              0.2222222222222222,
              "#7201a8"
             ],
             [
              0.3333333333333333,
              "#9c179e"
             ],
             [
              0.4444444444444444,
              "#bd3786"
             ],
             [
              0.5555555555555556,
              "#d8576b"
             ],
             [
              0.6666666666666666,
              "#ed7953"
             ],
             [
              0.7777777777777778,
              "#fb9f3a"
             ],
             [
              0.8888888888888888,
              "#fdca26"
             ],
             [
              1,
              "#f0f921"
             ]
            ],
            "type": "contour"
           }
          ],
          "contourcarpet": [
           {
            "colorbar": {
             "outlinewidth": 0,
             "ticks": ""
            },
            "type": "contourcarpet"
           }
          ],
          "heatmap": [
           {
            "colorbar": {
             "outlinewidth": 0,
             "ticks": ""
            },
            "colorscale": [
             [
              0,
              "#0d0887"
             ],
             [
              0.1111111111111111,
              "#46039f"
             ],
             [
              0.2222222222222222,
              "#7201a8"
             ],
             [
              0.3333333333333333,
              "#9c179e"
             ],
             [
              0.4444444444444444,
              "#bd3786"
             ],
             [
              0.5555555555555556,
              "#d8576b"
             ],
             [
              0.6666666666666666,
              "#ed7953"
             ],
             [
              0.7777777777777778,
              "#fb9f3a"
             ],
             [
              0.8888888888888888,
              "#fdca26"
             ],
             [
              1,
              "#f0f921"
             ]
            ],
            "type": "heatmap"
           }
          ],
          "heatmapgl": [
           {
            "colorbar": {
             "outlinewidth": 0,
             "ticks": ""
            },
            "colorscale": [
             [
              0,
              "#0d0887"
             ],
             [
              0.1111111111111111,
              "#46039f"
             ],
             [
              0.2222222222222222,
              "#7201a8"
             ],
             [
              0.3333333333333333,
              "#9c179e"
             ],
             [
              0.4444444444444444,
              "#bd3786"
             ],
             [
              0.5555555555555556,
              "#d8576b"
             ],
             [
              0.6666666666666666,
              "#ed7953"
             ],
             [
              0.7777777777777778,
              "#fb9f3a"
             ],
             [
              0.8888888888888888,
              "#fdca26"
             ],
             [
              1,
              "#f0f921"
             ]
            ],
            "type": "heatmapgl"
           }
          ],
          "histogram": [
           {
            "marker": {
             "pattern": {
              "fillmode": "overlay",
              "size": 10,
              "solidity": 0.2
             }
            },
            "type": "histogram"
           }
          ],
          "histogram2d": [
           {
            "colorbar": {
             "outlinewidth": 0,
             "ticks": ""
            },
            "colorscale": [
             [
              0,
              "#0d0887"
             ],
             [
              0.1111111111111111,
              "#46039f"
             ],
             [
              0.2222222222222222,
              "#7201a8"
             ],
             [
              0.3333333333333333,
              "#9c179e"
             ],
             [
              0.4444444444444444,
              "#bd3786"
             ],
             [
              0.5555555555555556,
              "#d8576b"
             ],
             [
              0.6666666666666666,
              "#ed7953"
             ],
             [
              0.7777777777777778,
              "#fb9f3a"
             ],
             [
              0.8888888888888888,
              "#fdca26"
             ],
             [
              1,
              "#f0f921"
             ]
            ],
            "type": "histogram2d"
           }
          ],
          "histogram2dcontour": [
           {
            "colorbar": {
             "outlinewidth": 0,
             "ticks": ""
            },
            "colorscale": [
             [
              0,
              "#0d0887"
             ],
             [
              0.1111111111111111,
              "#46039f"
             ],
             [
              0.2222222222222222,
              "#7201a8"
             ],
             [
              0.3333333333333333,
              "#9c179e"
             ],
             [
              0.4444444444444444,
              "#bd3786"
             ],
             [
              0.5555555555555556,
              "#d8576b"
             ],
             [
              0.6666666666666666,
              "#ed7953"
             ],
             [
              0.7777777777777778,
              "#fb9f3a"
             ],
             [
              0.8888888888888888,
              "#fdca26"
             ],
             [
              1,
              "#f0f921"
             ]
            ],
            "type": "histogram2dcontour"
           }
          ],
          "mesh3d": [
           {
            "colorbar": {
             "outlinewidth": 0,
             "ticks": ""
            },
            "type": "mesh3d"
           }
          ],
          "parcoords": [
           {
            "line": {
             "colorbar": {
              "outlinewidth": 0,
              "ticks": ""
             }
            },
            "type": "parcoords"
           }
          ],
          "pie": [
           {
            "automargin": true,
            "type": "pie"
           }
          ],
          "scatter": [
           {
            "fillpattern": {
             "fillmode": "overlay",
             "size": 10,
             "solidity": 0.2
            },
            "type": "scatter"
           }
          ],
          "scatter3d": [
           {
            "line": {
             "colorbar": {
              "outlinewidth": 0,
              "ticks": ""
             }
            },
            "marker": {
             "colorbar": {
              "outlinewidth": 0,
              "ticks": ""
             }
            },
            "type": "scatter3d"
           }
          ],
          "scattercarpet": [
           {
            "marker": {
             "colorbar": {
              "outlinewidth": 0,
              "ticks": ""
             }
            },
            "type": "scattercarpet"
           }
          ],
          "scattergeo": [
           {
            "marker": {
             "colorbar": {
              "outlinewidth": 0,
              "ticks": ""
             }
            },
            "type": "scattergeo"
           }
          ],
          "scattergl": [
           {
            "marker": {
             "colorbar": {
              "outlinewidth": 0,
              "ticks": ""
             }
            },
            "type": "scattergl"
           }
          ],
          "scattermapbox": [
           {
            "marker": {
             "colorbar": {
              "outlinewidth": 0,
              "ticks": ""
             }
            },
            "type": "scattermapbox"
           }
          ],
          "scatterpolar": [
           {
            "marker": {
             "colorbar": {
              "outlinewidth": 0,
              "ticks": ""
             }
            },
            "type": "scatterpolar"
           }
          ],
          "scatterpolargl": [
           {
            "marker": {
             "colorbar": {
              "outlinewidth": 0,
              "ticks": ""
             }
            },
            "type": "scatterpolargl"
           }
          ],
          "scatterternary": [
           {
            "marker": {
             "colorbar": {
              "outlinewidth": 0,
              "ticks": ""
             }
            },
            "type": "scatterternary"
           }
          ],
          "surface": [
           {
            "colorbar": {
             "outlinewidth": 0,
             "ticks": ""
            },
            "colorscale": [
             [
              0,
              "#0d0887"
             ],
             [
              0.1111111111111111,
              "#46039f"
             ],
             [
              0.2222222222222222,
              "#7201a8"
             ],
             [
              0.3333333333333333,
              "#9c179e"
             ],
             [
              0.4444444444444444,
              "#bd3786"
             ],
             [
              0.5555555555555556,
              "#d8576b"
             ],
             [
              0.6666666666666666,
              "#ed7953"
             ],
             [
              0.7777777777777778,
              "#fb9f3a"
             ],
             [
              0.8888888888888888,
              "#fdca26"
             ],
             [
              1,
              "#f0f921"
             ]
            ],
            "type": "surface"
           }
          ],
          "table": [
           {
            "cells": {
             "fill": {
              "color": "#EBF0F8"
             },
             "line": {
              "color": "white"
             }
            },
            "header": {
             "fill": {
              "color": "#C8D4E3"
             },
             "line": {
              "color": "white"
             }
            },
            "type": "table"
           }
          ]
         },
         "layout": {
          "annotationdefaults": {
           "arrowcolor": "#2a3f5f",
           "arrowhead": 0,
           "arrowwidth": 1
          },
          "autotypenumbers": "strict",
          "coloraxis": {
           "colorbar": {
            "outlinewidth": 0,
            "ticks": ""
           }
          },
          "colorscale": {
           "diverging": [
            [
             0,
             "#8e0152"
            ],
            [
             0.1,
             "#c51b7d"
            ],
            [
             0.2,
             "#de77ae"
            ],
            [
             0.3,
             "#f1b6da"
            ],
            [
             0.4,
             "#fde0ef"
            ],
            [
             0.5,
             "#f7f7f7"
            ],
            [
             0.6,
             "#e6f5d0"
            ],
            [
             0.7,
             "#b8e186"
            ],
            [
             0.8,
             "#7fbc41"
            ],
            [
             0.9,
             "#4d9221"
            ],
            [
             1,
             "#276419"
            ]
           ],
           "sequential": [
            [
             0,
             "#0d0887"
            ],
            [
             0.1111111111111111,
             "#46039f"
            ],
            [
             0.2222222222222222,
             "#7201a8"
            ],
            [
             0.3333333333333333,
             "#9c179e"
            ],
            [
             0.4444444444444444,
             "#bd3786"
            ],
            [
             0.5555555555555556,
             "#d8576b"
            ],
            [
             0.6666666666666666,
             "#ed7953"
            ],
            [
             0.7777777777777778,
             "#fb9f3a"
            ],
            [
             0.8888888888888888,
             "#fdca26"
            ],
            [
             1,
             "#f0f921"
            ]
           ],
           "sequentialminus": [
            [
             0,
             "#0d0887"
            ],
            [
             0.1111111111111111,
             "#46039f"
            ],
            [
             0.2222222222222222,
             "#7201a8"
            ],
            [
             0.3333333333333333,
             "#9c179e"
            ],
            [
             0.4444444444444444,
             "#bd3786"
            ],
            [
             0.5555555555555556,
             "#d8576b"
            ],
            [
             0.6666666666666666,
             "#ed7953"
            ],
            [
             0.7777777777777778,
             "#fb9f3a"
            ],
            [
             0.8888888888888888,
             "#fdca26"
            ],
            [
             1,
             "#f0f921"
            ]
           ]
          },
          "colorway": [
           "#636efa",
           "#EF553B",
           "#00cc96",
           "#ab63fa",
           "#FFA15A",
           "#19d3f3",
           "#FF6692",
           "#B6E880",
           "#FF97FF",
           "#FECB52"
          ],
          "font": {
           "color": "#2a3f5f"
          },
          "geo": {
           "bgcolor": "white",
           "lakecolor": "white",
           "landcolor": "#E5ECF6",
           "showlakes": true,
           "showland": true,
           "subunitcolor": "white"
          },
          "hoverlabel": {
           "align": "left"
          },
          "hovermode": "closest",
          "mapbox": {
           "style": "light"
          },
          "paper_bgcolor": "white",
          "plot_bgcolor": "#E5ECF6",
          "polar": {
           "angularaxis": {
            "gridcolor": "white",
            "linecolor": "white",
            "ticks": ""
           },
           "bgcolor": "#E5ECF6",
           "radialaxis": {
            "gridcolor": "white",
            "linecolor": "white",
            "ticks": ""
           }
          },
          "scene": {
           "xaxis": {
            "backgroundcolor": "#E5ECF6",
            "gridcolor": "white",
            "gridwidth": 2,
            "linecolor": "white",
            "showbackground": true,
            "ticks": "",
            "zerolinecolor": "white"
           },
           "yaxis": {
            "backgroundcolor": "#E5ECF6",
            "gridcolor": "white",
            "gridwidth": 2,
            "linecolor": "white",
            "showbackground": true,
            "ticks": "",
            "zerolinecolor": "white"
           },
           "zaxis": {
            "backgroundcolor": "#E5ECF6",
            "gridcolor": "white",
            "gridwidth": 2,
            "linecolor": "white",
            "showbackground": true,
            "ticks": "",
            "zerolinecolor": "white"
           }
          },
          "shapedefaults": {
           "line": {
            "color": "#2a3f5f"
           }
          },
          "ternary": {
           "aaxis": {
            "gridcolor": "white",
            "linecolor": "white",
            "ticks": ""
           },
           "baxis": {
            "gridcolor": "white",
            "linecolor": "white",
            "ticks": ""
           },
           "bgcolor": "#E5ECF6",
           "caxis": {
            "gridcolor": "white",
            "linecolor": "white",
            "ticks": ""
           }
          },
          "title": {
           "x": 0.05
          },
          "xaxis": {
           "automargin": true,
           "gridcolor": "white",
           "linecolor": "white",
           "ticks": "",
           "title": {
            "standoff": 15
           },
           "zerolinecolor": "white",
           "zerolinewidth": 2
          },
          "yaxis": {
           "automargin": true,
           "gridcolor": "white",
           "linecolor": "white",
           "ticks": "",
           "title": {
            "standoff": 15
           },
           "zerolinecolor": "white",
           "zerolinewidth": 2
          }
         }
        },
        "title": {
         "text": "Average direct effect of source token on prediction for source logit at destination position"
        },
        "width": 1200,
        "xaxis": {
         "anchor": "y",
         "constrain": "domain",
         "domain": [
          0,
          0.49
         ],
         "scaleanchor": "y"
        },
        "xaxis2": {
         "anchor": "y2",
         "domain": [
          0.51,
          1
         ],
         "matches": "x"
        },
        "yaxis": {
         "anchor": "x",
         "autorange": "reversed",
         "constrain": "domain",
         "domain": [
          0,
          1
         ]
        },
        "yaxis2": {
         "anchor": "x2",
         "domain": [
          0,
          1
         ],
         "matches": "y",
         "showticklabels": false
        }
       }
      },
      "text/html": [
       "<div>                            <div id=\"9445c4a2-7582-4cf5-9b79-b58b669dea4a\" class=\"plotly-graph-div\" style=\"height:700px; width:1200px;\"></div>            <script type=\"text/javascript\">                require([\"plotly\"], function(Plotly) {                    window.PLOTLYENV=window.PLOTLYENV || {};                                    if (document.getElementById(\"9445c4a2-7582-4cf5-9b79-b58b669dea4a\")) {                    Plotly.newPlot(                        \"9445c4a2-7582-4cf5-9b79-b58b669dea4a\",                        [{\"coloraxis\":\"coloraxis\",\"name\":\"0\",\"texttemplate\":\"%{z:.2f}\",\"z\":[[0.0,0.0,0.0,0.0,0.0,0.0,0.0,-0.010739822871983051,-0.11298737674951553,-0.10547497123479843,0.0,-0.00566857261583209],[-0.03438083082437515,-0.09883512556552887,-0.08716144412755966,0.0,-0.013493701815605164,-0.1805115044116974,0.0,0.0,0.0,0.0,-0.10268383473157883,-0.014924702234566212],[-0.01924542896449566,0.0,-0.017248544842004776,0.0,0.0,-0.04958364740014076,0.0,-0.024863597005605698,-0.0787351205945015,0.0,-0.11559462547302246,0.0],[0.0,0.0,-0.01312821265310049,0.0,0.0,0.0,0.0,0.0,-0.042848724871873856,0.0,-0.049388568848371506,0.0],[-0.052309293299913406,0.0,0.0,0.0,-0.0596478097140789,0.0,-0.020641928538680077,-0.03609763830900192,0.0,0.0,0.0,0.0],[0.0,0.0,0.0,0.0,-0.03502320125699043,0.0,0.0,0.0,-0.019504928961396217,-0.07295437157154083,0.0,-0.05690109729766846],[0.0,0.0,0.0,0.0,0.0,-0.17246906459331512,-0.08940912783145905,0.0,0.0,0.0,0.0,0.0],[-0.00512746861204505,0.0,0.0,-0.12509694695472717,0.0,0.0,-0.06369111686944962,0.0,0.0,-0.05919598415493965,0.0,0.0],[-0.01595309190452099,0.0,0.0,0.0,0.0,0.0,0.0,-0.009613770060241222,0.0,-0.11494821310043335,-0.4404308497905731,0.0],[0.0,0.0,0.0,0.0,-0.05163336917757988,-0.15125660598278046,0.0,-0.049281761050224304,0.0,0.0,0.0,0.0],[0.0,0.0,0.0,0.0,0.0,0.0,0.0,-3.523452043533325,0.0,0.0,0.0,0.0],[-0.25977832078933716,0.0,0.0,0.0,0.0,0.0,0.0,0.0,0.0,0.0,-2.3765709400177,0.0]],\"type\":\"heatmap\",\"xaxis\":\"x\",\"yaxis\":\"y\",\"hovertemplate\":\"x: %{x}\\u003cbr\\u003ey: %{y}\\u003cbr\\u003ecolor: %{z}\\u003cextra\\u003e\\u003c\\u002fextra\\u003e\"},{\"coloraxis\":\"coloraxis\",\"name\":\"1\",\"texttemplate\":\"%{z:.2f}\",\"z\":[[0.0,0.0,0.0,0.0,0.0,0.0,0.0,0.0,-0.07920267432928085,-0.0849609225988388,0.0,-0.07196450978517532],[-0.0010270806960761547,-0.07030660659074783,0.0,0.0,-0.01801699958741665,-0.23291735351085663,0.0,0.0,-0.09086025506258011,-0.058933693915605545,-0.09797003865242004,-0.03023657202720642],[0.0,0.0,0.0,-0.00022151993471197784,0.0,-0.03738151490688324,0.0,-0.03747257962822914,-0.00397881306707859,0.0,-0.08106283843517303,-0.025863001123070717],[0.0,0.0,-0.003825354389846325,0.0,0.0,0.0,0.0,0.0,-0.03066400997340679,0.0,-0.09132278710603714,0.0],[-0.017917517572641373,-0.011316576041281223,0.0,0.0,-0.15254507958889008,0.0,-0.01853524148464203,-0.05729581415653229,0.0,0.0,0.0,0.0],[0.0,0.0,0.0,0.0,-0.041979897767305374,0.0,0.0,0.0,0.0,-0.1311511993408203,0.0,-0.2605843245983124],[0.0,0.0,0.0,0.0,0.0,-0.22258636355400085,-0.20019082725048065,0.0,0.0,0.0,0.0,0.0],[0.0,0.0,0.0,-0.31985747814178467,0.0,0.0,-0.20785638689994812,0.0,0.0,-0.07930850237607956,0.0,0.0],[0.0,0.0,0.0,0.0,0.0,0.0,0.0,0.0,0.0,-0.2062312364578247,-0.7327380180358887,0.0],[0.0,0.0,0.0,0.0,-0.03653586655855179,-0.7845080494880676,0.0,0.0,0.0,0.0,0.0,0.0],[0.0,0.0,0.0,0.0,0.0,0.0,0.0,-2.60457706451416,0.0,0.0,0.0,0.0],[-0.1729365736246109,0.0,0.0,0.0,0.0,0.0,0.0,0.0,0.0,0.0,-1.68948233127594,0.0]],\"type\":\"heatmap\",\"xaxis\":\"x2\",\"yaxis\":\"y2\",\"hovertemplate\":\"x: %{x}\\u003cbr\\u003ey: %{y}\\u003cbr\\u003ecolor: %{z}\\u003cextra\\u003e\\u003c\\u002fextra\\u003e\"}],                        {\"template\":{\"data\":{\"histogram2dcontour\":[{\"type\":\"histogram2dcontour\",\"colorbar\":{\"outlinewidth\":0,\"ticks\":\"\"},\"colorscale\":[[0.0,\"#0d0887\"],[0.1111111111111111,\"#46039f\"],[0.2222222222222222,\"#7201a8\"],[0.3333333333333333,\"#9c179e\"],[0.4444444444444444,\"#bd3786\"],[0.5555555555555556,\"#d8576b\"],[0.6666666666666666,\"#ed7953\"],[0.7777777777777778,\"#fb9f3a\"],[0.8888888888888888,\"#fdca26\"],[1.0,\"#f0f921\"]]}],\"choropleth\":[{\"type\":\"choropleth\",\"colorbar\":{\"outlinewidth\":0,\"ticks\":\"\"}}],\"histogram2d\":[{\"type\":\"histogram2d\",\"colorbar\":{\"outlinewidth\":0,\"ticks\":\"\"},\"colorscale\":[[0.0,\"#0d0887\"],[0.1111111111111111,\"#46039f\"],[0.2222222222222222,\"#7201a8\"],[0.3333333333333333,\"#9c179e\"],[0.4444444444444444,\"#bd3786\"],[0.5555555555555556,\"#d8576b\"],[0.6666666666666666,\"#ed7953\"],[0.7777777777777778,\"#fb9f3a\"],[0.8888888888888888,\"#fdca26\"],[1.0,\"#f0f921\"]]}],\"heatmap\":[{\"type\":\"heatmap\",\"colorbar\":{\"outlinewidth\":0,\"ticks\":\"\"},\"colorscale\":[[0.0,\"#0d0887\"],[0.1111111111111111,\"#46039f\"],[0.2222222222222222,\"#7201a8\"],[0.3333333333333333,\"#9c179e\"],[0.4444444444444444,\"#bd3786\"],[0.5555555555555556,\"#d8576b\"],[0.6666666666666666,\"#ed7953\"],[0.7777777777777778,\"#fb9f3a\"],[0.8888888888888888,\"#fdca26\"],[1.0,\"#f0f921\"]]}],\"heatmapgl\":[{\"type\":\"heatmapgl\",\"colorbar\":{\"outlinewidth\":0,\"ticks\":\"\"},\"colorscale\":[[0.0,\"#0d0887\"],[0.1111111111111111,\"#46039f\"],[0.2222222222222222,\"#7201a8\"],[0.3333333333333333,\"#9c179e\"],[0.4444444444444444,\"#bd3786\"],[0.5555555555555556,\"#d8576b\"],[0.6666666666666666,\"#ed7953\"],[0.7777777777777778,\"#fb9f3a\"],[0.8888888888888888,\"#fdca26\"],[1.0,\"#f0f921\"]]}],\"contourcarpet\":[{\"type\":\"contourcarpet\",\"colorbar\":{\"outlinewidth\":0,\"ticks\":\"\"}}],\"contour\":[{\"type\":\"contour\",\"colorbar\":{\"outlinewidth\":0,\"ticks\":\"\"},\"colorscale\":[[0.0,\"#0d0887\"],[0.1111111111111111,\"#46039f\"],[0.2222222222222222,\"#7201a8\"],[0.3333333333333333,\"#9c179e\"],[0.4444444444444444,\"#bd3786\"],[0.5555555555555556,\"#d8576b\"],[0.6666666666666666,\"#ed7953\"],[0.7777777777777778,\"#fb9f3a\"],[0.8888888888888888,\"#fdca26\"],[1.0,\"#f0f921\"]]}],\"surface\":[{\"type\":\"surface\",\"colorbar\":{\"outlinewidth\":0,\"ticks\":\"\"},\"colorscale\":[[0.0,\"#0d0887\"],[0.1111111111111111,\"#46039f\"],[0.2222222222222222,\"#7201a8\"],[0.3333333333333333,\"#9c179e\"],[0.4444444444444444,\"#bd3786\"],[0.5555555555555556,\"#d8576b\"],[0.6666666666666666,\"#ed7953\"],[0.7777777777777778,\"#fb9f3a\"],[0.8888888888888888,\"#fdca26\"],[1.0,\"#f0f921\"]]}],\"mesh3d\":[{\"type\":\"mesh3d\",\"colorbar\":{\"outlinewidth\":0,\"ticks\":\"\"}}],\"scatter\":[{\"fillpattern\":{\"fillmode\":\"overlay\",\"size\":10,\"solidity\":0.2},\"type\":\"scatter\"}],\"parcoords\":[{\"type\":\"parcoords\",\"line\":{\"colorbar\":{\"outlinewidth\":0,\"ticks\":\"\"}}}],\"scatterpolargl\":[{\"type\":\"scatterpolargl\",\"marker\":{\"colorbar\":{\"outlinewidth\":0,\"ticks\":\"\"}}}],\"bar\":[{\"error_x\":{\"color\":\"#2a3f5f\"},\"error_y\":{\"color\":\"#2a3f5f\"},\"marker\":{\"line\":{\"color\":\"#E5ECF6\",\"width\":0.5},\"pattern\":{\"fillmode\":\"overlay\",\"size\":10,\"solidity\":0.2}},\"type\":\"bar\"}],\"scattergeo\":[{\"type\":\"scattergeo\",\"marker\":{\"colorbar\":{\"outlinewidth\":0,\"ticks\":\"\"}}}],\"scatterpolar\":[{\"type\":\"scatterpolar\",\"marker\":{\"colorbar\":{\"outlinewidth\":0,\"ticks\":\"\"}}}],\"histogram\":[{\"marker\":{\"pattern\":{\"fillmode\":\"overlay\",\"size\":10,\"solidity\":0.2}},\"type\":\"histogram\"}],\"scattergl\":[{\"type\":\"scattergl\",\"marker\":{\"colorbar\":{\"outlinewidth\":0,\"ticks\":\"\"}}}],\"scatter3d\":[{\"type\":\"scatter3d\",\"line\":{\"colorbar\":{\"outlinewidth\":0,\"ticks\":\"\"}},\"marker\":{\"colorbar\":{\"outlinewidth\":0,\"ticks\":\"\"}}}],\"scattermapbox\":[{\"type\":\"scattermapbox\",\"marker\":{\"colorbar\":{\"outlinewidth\":0,\"ticks\":\"\"}}}],\"scatterternary\":[{\"type\":\"scatterternary\",\"marker\":{\"colorbar\":{\"outlinewidth\":0,\"ticks\":\"\"}}}],\"scattercarpet\":[{\"type\":\"scattercarpet\",\"marker\":{\"colorbar\":{\"outlinewidth\":0,\"ticks\":\"\"}}}],\"carpet\":[{\"aaxis\":{\"endlinecolor\":\"#2a3f5f\",\"gridcolor\":\"white\",\"linecolor\":\"white\",\"minorgridcolor\":\"white\",\"startlinecolor\":\"#2a3f5f\"},\"baxis\":{\"endlinecolor\":\"#2a3f5f\",\"gridcolor\":\"white\",\"linecolor\":\"white\",\"minorgridcolor\":\"white\",\"startlinecolor\":\"#2a3f5f\"},\"type\":\"carpet\"}],\"table\":[{\"cells\":{\"fill\":{\"color\":\"#EBF0F8\"},\"line\":{\"color\":\"white\"}},\"header\":{\"fill\":{\"color\":\"#C8D4E3\"},\"line\":{\"color\":\"white\"}},\"type\":\"table\"}],\"barpolar\":[{\"marker\":{\"line\":{\"color\":\"#E5ECF6\",\"width\":0.5},\"pattern\":{\"fillmode\":\"overlay\",\"size\":10,\"solidity\":0.2}},\"type\":\"barpolar\"}],\"pie\":[{\"automargin\":true,\"type\":\"pie\"}]},\"layout\":{\"autotypenumbers\":\"strict\",\"colorway\":[\"#636efa\",\"#EF553B\",\"#00cc96\",\"#ab63fa\",\"#FFA15A\",\"#19d3f3\",\"#FF6692\",\"#B6E880\",\"#FF97FF\",\"#FECB52\"],\"font\":{\"color\":\"#2a3f5f\"},\"hovermode\":\"closest\",\"hoverlabel\":{\"align\":\"left\"},\"paper_bgcolor\":\"white\",\"plot_bgcolor\":\"#E5ECF6\",\"polar\":{\"bgcolor\":\"#E5ECF6\",\"angularaxis\":{\"gridcolor\":\"white\",\"linecolor\":\"white\",\"ticks\":\"\"},\"radialaxis\":{\"gridcolor\":\"white\",\"linecolor\":\"white\",\"ticks\":\"\"}},\"ternary\":{\"bgcolor\":\"#E5ECF6\",\"aaxis\":{\"gridcolor\":\"white\",\"linecolor\":\"white\",\"ticks\":\"\"},\"baxis\":{\"gridcolor\":\"white\",\"linecolor\":\"white\",\"ticks\":\"\"},\"caxis\":{\"gridcolor\":\"white\",\"linecolor\":\"white\",\"ticks\":\"\"}},\"coloraxis\":{\"colorbar\":{\"outlinewidth\":0,\"ticks\":\"\"}},\"colorscale\":{\"sequential\":[[0.0,\"#0d0887\"],[0.1111111111111111,\"#46039f\"],[0.2222222222222222,\"#7201a8\"],[0.3333333333333333,\"#9c179e\"],[0.4444444444444444,\"#bd3786\"],[0.5555555555555556,\"#d8576b\"],[0.6666666666666666,\"#ed7953\"],[0.7777777777777778,\"#fb9f3a\"],[0.8888888888888888,\"#fdca26\"],[1.0,\"#f0f921\"]],\"sequentialminus\":[[0.0,\"#0d0887\"],[0.1111111111111111,\"#46039f\"],[0.2222222222222222,\"#7201a8\"],[0.3333333333333333,\"#9c179e\"],[0.4444444444444444,\"#bd3786\"],[0.5555555555555556,\"#d8576b\"],[0.6666666666666666,\"#ed7953\"],[0.7777777777777778,\"#fb9f3a\"],[0.8888888888888888,\"#fdca26\"],[1.0,\"#f0f921\"]],\"diverging\":[[0,\"#8e0152\"],[0.1,\"#c51b7d\"],[0.2,\"#de77ae\"],[0.3,\"#f1b6da\"],[0.4,\"#fde0ef\"],[0.5,\"#f7f7f7\"],[0.6,\"#e6f5d0\"],[0.7,\"#b8e186\"],[0.8,\"#7fbc41\"],[0.9,\"#4d9221\"],[1,\"#276419\"]]},\"xaxis\":{\"gridcolor\":\"white\",\"linecolor\":\"white\",\"ticks\":\"\",\"title\":{\"standoff\":15},\"zerolinecolor\":\"white\",\"automargin\":true,\"zerolinewidth\":2},\"yaxis\":{\"gridcolor\":\"white\",\"linecolor\":\"white\",\"ticks\":\"\",\"title\":{\"standoff\":15},\"zerolinecolor\":\"white\",\"automargin\":true,\"zerolinewidth\":2},\"scene\":{\"xaxis\":{\"backgroundcolor\":\"#E5ECF6\",\"gridcolor\":\"white\",\"linecolor\":\"white\",\"showbackground\":true,\"ticks\":\"\",\"zerolinecolor\":\"white\",\"gridwidth\":2},\"yaxis\":{\"backgroundcolor\":\"#E5ECF6\",\"gridcolor\":\"white\",\"linecolor\":\"white\",\"showbackground\":true,\"ticks\":\"\",\"zerolinecolor\":\"white\",\"gridwidth\":2},\"zaxis\":{\"backgroundcolor\":\"#E5ECF6\",\"gridcolor\":\"white\",\"linecolor\":\"white\",\"showbackground\":true,\"ticks\":\"\",\"zerolinecolor\":\"white\",\"gridwidth\":2}},\"shapedefaults\":{\"line\":{\"color\":\"#2a3f5f\"}},\"annotationdefaults\":{\"arrowcolor\":\"#2a3f5f\",\"arrowhead\":0,\"arrowwidth\":1},\"geo\":{\"bgcolor\":\"white\",\"landcolor\":\"#E5ECF6\",\"subunitcolor\":\"white\",\"showland\":true,\"showlakes\":true,\"lakecolor\":\"white\"},\"title\":{\"x\":0.05},\"mapbox\":{\"style\":\"light\"}}},\"xaxis\":{\"anchor\":\"y\",\"domain\":[0.0,0.49],\"scaleanchor\":\"y\",\"constrain\":\"domain\"},\"yaxis\":{\"anchor\":\"x\",\"domain\":[0.0,1.0],\"autorange\":\"reversed\",\"constrain\":\"domain\"},\"xaxis2\":{\"anchor\":\"y2\",\"domain\":[0.51,1.0],\"matches\":\"x\"},\"yaxis2\":{\"anchor\":\"x2\",\"domain\":[0.0,1.0],\"matches\":\"y\",\"showticklabels\":false},\"annotations\":[{\"font\":{},\"showarrow\":false,\"text\":\"IOI\",\"x\":0.245,\"xanchor\":\"center\",\"xref\":\"paper\",\"y\":1.0,\"yanchor\":\"bottom\",\"yref\":\"paper\"},{\"font\":{},\"showarrow\":false,\"text\":\"Webtext\",\"x\":0.755,\"xanchor\":\"center\",\"xref\":\"paper\",\"y\":1.0,\"yanchor\":\"bottom\",\"yref\":\"paper\"}],\"coloraxis\":{\"colorscale\":[[0.0,\"rgb(103,0,31)\"],[0.1,\"rgb(178,24,43)\"],[0.2,\"rgb(214,96,77)\"],[0.3,\"rgb(244,165,130)\"],[0.4,\"rgb(253,219,199)\"],[0.5,\"rgb(247,247,247)\"],[0.6,\"rgb(209,229,240)\"],[0.7,\"rgb(146,197,222)\"],[0.8,\"rgb(67,147,195)\"],[0.9,\"rgb(33,102,172)\"],[1.0,\"rgb(5,48,97)\"]],\"cmid\":0.0},\"title\":{\"text\":\"Average direct effect of source token on prediction for source logit at destination position\"},\"height\":700,\"width\":1200,\"modebar\":{\"add\":[\"drawline\",\"drawopenpath\",\"drawclosedpath\",\"drawcircle\",\"drawrect\",\"eraseshape\"]}},                        {\"displaylogo\": false, \"responsive\": true}                    ).then(function(){\n",
       "                            \n",
       "var gd = document.getElementById('9445c4a2-7582-4cf5-9b79-b58b669dea4a');\n",
       "var x = new MutationObserver(function (mutations, observer) {{\n",
       "        var display = window.getComputedStyle(gd).display;\n",
       "        if (!display || display === 'none') {{\n",
       "            console.log([gd, 'removed!']);\n",
       "            Plotly.purge(gd);\n",
       "            observer.disconnect();\n",
       "        }}\n",
       "}});\n",
       "\n",
       "// Listen for the removal of the full notebook cells\n",
       "var notebookContainer = gd.closest('#notebook-container');\n",
       "if (notebookContainer) {{\n",
       "    x.observe(notebookContainer, {childList: true});\n",
       "}}\n",
       "\n",
       "// Listen for the clearing of the current output cell\n",
       "var outputEl = gd.closest('.output');\n",
       "if (outputEl) {{\n",
       "    x.observe(outputEl, {childList: true});\n",
       "}}\n",
       "\n",
       "                        })                };                });            </script>        </div>"
      ]
     },
     "metadata": {},
     "output_type": "display_data"
    }
   ],
   "source": [
    "imshow(\n",
    "    t.stack([\n",
    "        unembedding_coeffs_first_pass * (unembedding_coeffs_first_pass < 0),\n",
    "        unembedding_coeffs_second_pass * (unembedding_coeffs_second_pass < 0),\n",
    "        # unembedding_coeffs_second_pass_smaller_seqlen * (unembedding_coeffs_second_pass_smaller_seqlen < 0),\n",
    "    ]),\n",
    "    facet_col=0,\n",
    "    facet_labels=[\"IOI\", \"Webtext\"],\n",
    "    height=700, \n",
    "    width=1200, \n",
    "    title=\"Average direct effect of source token on prediction for source logit at destination position\",\n",
    "    text_auto=\".2f\",\n",
    "    static=False\n",
    ")\n",
    "\n",
    "# ! This is \"how much on average does the attention head's output suppress the logits of the source tokens (weighted by how much the source tokens are attended to)\" (and with BOS and self-attn ignored)\n",
    "\n",
    "# It's very large and negative on IOI (because basically all attn which isn't BOS or self-attn is attn to the IOI token, which negatively suppresses it)\n",
    "# But it's also noticeably negative on Webtext (and still sparse).\n",
    "# Key question - why isn't it sparse if you don't give more weight to the things which are attended to more? Answer - because most tokens in sequences are generic, like \"the\" and \",\", so this doesn't really work for them."
   ]
  },
  {
   "attachments": {},
   "cell_type": "markdown",
   "metadata": {},
   "source": [
    "# Change in loss?"
   ]
  },
  {
   "cell_type": "code",
   "execution_count": 52,
   "metadata": {},
   "outputs": [],
   "source": [
    "def compute_loss_diffs_from_projection(\n",
    "    num_batches: int = 5,\n",
    "    batch_size: int = 30,\n",
    "    seq_len: int = 50,\n",
    "):\n",
    "    t.cuda.empty_cache()\n",
    "    orig_loss_all = t.zeros(num_batches, batch_size, seq_len-1)\n",
    "    head_removal_loss_all = t.zeros(model.cfg.n_layers, model.cfg.n_heads, 3, num_batches, batch_size, seq_len-1)\n",
    "\n",
    "    progress_bar = tqdm(total=num_batches*model.cfg.n_layers*model.cfg.n_heads)\n",
    "\n",
    "    for batch_idx in range(num_batches):\n",
    "        toks = model.to_tokens(data[batch_idx*batch_size: (batch_idx+1)*batch_size])[:, :seq_len]\n",
    "\n",
    "        orig_loss = model(toks, return_type=\"loss\", loss_per_token=True)\n",
    "        orig_loss_all[batch_idx] = orig_loss\n",
    "\n",
    "        for layer in range(model.cfg.n_layers):\n",
    "            for head_idx in range(model.cfg.n_heads):\n",
    "\n",
    "                loss_proj, loss_perp, loss_ablation = compute_weighted_avg_logit_suppression(\n",
    "                    model = model,\n",
    "                    toks = toks,\n",
    "                    head = (layer, head_idx),\n",
    "                    only_use_neg_projections = False,\n",
    "                    return_new_loss = True,\n",
    "                )\n",
    "                head_removal_loss_all[layer, head_idx, :, batch_idx] = t.stack([loss_proj, loss_perp, loss_ablation])\n",
    "                progress_bar.update(1)\n",
    "\n",
    "    return orig_loss_all, head_removal_loss_all"
   ]
  },
  {
   "cell_type": "code",
   "execution_count": 53,
   "metadata": {},
   "outputs": [
    {
     "data": {
      "application/vnd.jupyter.widget-view+json": {
       "model_id": "32b1b42f729e41ae97ac8ad923f5c0b7",
       "version_major": 2,
       "version_minor": 0
      },
      "text/plain": [
       "  0%|          | 0/144 [00:00<?, ?it/s]"
      ]
     },
     "metadata": {},
     "output_type": "display_data"
    }
   ],
   "source": [
    "orig_loss_all, head_removal_loss_all = compute_loss_diffs_from_projection(\n",
    "    num_batches=1,\n",
    "    batch_size=10,\n",
    "    seq_len=30\n",
    ")"
   ]
  },
  {
   "cell_type": "code",
   "execution_count": 57,
   "metadata": {},
   "outputs": [
    {
     "data": {
      "text/plain": [
       "tensor(4.3094)"
      ]
     },
     "execution_count": 57,
     "metadata": {},
     "output_type": "execute_result"
    },
    {
     "ename": "",
     "evalue": "",
     "output_type": "error",
     "traceback": [
      "\u001b[1;31mThe Kernel crashed while executing code in the the current cell or a previous cell. Please review the code in the cell(s) to identify a possible cause of the failure. Click <a href='https://aka.ms/vscodeJupyterKernelCrash'>here</a> for more info. View Jupyter <a href='command:jupyter.viewOutput'>log</a> for further details."
     ]
    }
   ],
   "source": [
    "orig_loss_all.mean()"
   ]
  },
  {
   "cell_type": "code",
   "execution_count": 56,
   "metadata": {},
   "outputs": [
    {
     "data": {
      "text/plain": [
       "tensor(4.3109)"
      ]
     },
     "execution_count": 56,
     "metadata": {},
     "output_type": "execute_result"
    }
   ],
   "source": [
    "head_removal_loss_all.mean()"
   ]
  },
  {
   "cell_type": "code",
   "execution_count": 48,
   "metadata": {},
   "outputs": [
    {
     "data": {
      "application/vnd.plotly.v1+json": {
       "config": {
        "displaylogo": false,
        "plotlyServerURL": "https://plot.ly",
        "responsive": true,
        "staticPlot": true
       },
       "data": [
        {
         "coloraxis": "coloraxis",
         "hovertemplate": "x: %{x}<br>y: %{y}<br>color: %{z}<extra></extra>",
         "name": "0",
         "texttemplate": "%{z:.2f}",
         "type": "heatmap",
         "xaxis": "x",
         "yaxis": "y",
         "z": [
          [
           -0.00009063045581569895,
           -0.00001827324194891844,
           0.0014112526550889015,
           0.004071291536092758,
           -0.003168536350131035,
           0.0019518432673066854,
           0.0026140783447772264,
           0.00197837152518332,
           0.0010328823700547218,
           0.012521740049123764,
           -0.001476774807088077,
           0.005678635090589523
          ],
          [
           0.0010680007981136441,
           -0.00017295469297096133,
           0.0016484858933836222,
           0.0013191674370318651,
           0.0037765761371701956,
           0.00035884734825231135,
           -0.0037834912072867155,
           0.000022408879885915667,
           -0.00042118431883864105,
           0.0028796338010579348,
           0.004892710596323013,
           0.0021658751647919416
          ],
          [
           -0.0014140926068648696,
           0.0018572385888546705,
           0.0018489017384126782,
           0.0050908904522657394,
           0.00048064300790429115,
           0.0004956023767590523,
           0.0003386583412066102,
           -0.0005952366045676172,
           -0.0031228684820234776,
           0.0018534198170527816,
           0.005551420617848635,
           0.0006516627036035061
          ],
          [
           0.0017455609049648046,
           0.0039336346089839935,
           -0.00012870391947217286,
           -0.0006990465917624533,
           -0.00035430301795713603,
           0.0009963890770450234,
           -0.0016831672983244061,
           0.0011015241034328938,
           0.000005460915872390615,
           -0.0028864662162959576,
           0.00018752756295725703,
           0.00031103778746910393
          ],
          [
           -0.001828692271374166,
           0.0016151746967807412,
           0.0016162687679752707,
           -0.002280534477904439,
           -0.0008746656822040677,
           -0.0009382580756209791,
           0.0007733838283456862,
           0.005714766215533018,
           -0.0012837223475798965,
           0.0016304157907143235,
           -0.0006372314528562129,
           0.002928751753643155
          ],
          [
           0.0008527847239747643,
           0.0005787737318314612,
           -0.0007427635719068348,
           0.0019042578060179949,
           -0.002248133299872279,
           0.0031995235476642847,
           0.001033745356835425,
           0.0002924831642303616,
           0.0016849557869136333,
           -0.0017228040378540754,
           0.003813281189650297,
           0.001975058810785413
          ],
          [
           0.0013636506628245115,
           0.0010978723876178265,
           -0.00012664558016695082,
           -0.002597562735900283,
           -0.0023806358221918344,
           0.003776871832087636,
           0.0030938382260501385,
           0.0010124548571184278,
           0.002463611774146557,
           -0.00005910900290473364,
           -0.0025686798617243767,
           -0.0015930590452626348
          ],
          [
           0.0009168668184429407,
           0.0002299496263731271,
           0.00039215729339048266,
           -0.0020747417584061623,
           0.00456747692078352,
           0.0016846711514517665,
           -0.002868642332032323,
           0.0011318479664623737,
           0.0005372983869165182,
           0.0013488096883520484,
           0.0016661342233419418,
           0.0023526076693087816
          ],
          [
           0.000528309668879956,
           0.0004311931552365422,
           -0.0008077448583208025,
           -0.00014173146337270737,
           0.005395533517003059,
           0.007190006319433451,
           0.00253643118776381,
           0.005626168102025986,
           -0.001030790968798101,
           -0.0004897247417829931,
           0.004593833349645138,
           0.0006369472248479724
          ],
          [
           0.0005817714845761657,
           0.00037561552016995847,
           0.00034409185172989964,
           0.011484185233712196,
           -0.0011515566147863865,
           0.006421004422008991,
           0.002048191614449024,
           -0.0005353514570742846,
           0.0028757324907928705,
           0.0006983786588534713,
           -0.0023147936444729567,
           -0.0009547168738208711
          ],
          [
           0.009566512890160084,
           0.001061141723766923,
           0.0038205902092158794,
           0.000590206531342119,
           0.000637680001091212,
           -0.00048485296429134905,
           -0.003089792560786009,
           -0.0013519128551706672,
           0.0024400914553552866,
           0.011315392330288887,
           0.0037645241245627403,
           0.007375388406217098
          ],
          [
           -0.001742575317621231,
           0.0004785184282809496,
           0.003120005363598466,
           0.0054019298404455185,
           0.006050356663763523,
           0.0013997909845784307,
           0.004642066545784473,
           -0.0032077785581350327,
           0.09912820160388947,
           0.0004957926576025784,
           0.0035499543882906437,
           0.0012497217394411564
          ]
         ]
        },
        {
         "coloraxis": "coloraxis",
         "hovertemplate": "x: %{x}<br>y: %{y}<br>color: %{z}<extra></extra>",
         "name": "1",
         "texttemplate": "%{z:.2f}",
         "type": "heatmap",
         "xaxis": "x2",
         "yaxis": "y2",
         "z": [
          [
           -0.0000915269338293001,
           -0.0003332593769300729,
           -0.00018436972459312528,
           -0.00018167142115999013,
           -0.0004114766197744757,
           0.000005504797172761755,
           -0.000718630850315094,
           -0.00014084260328672826,
           0.0007308016065508127,
           0.0005261578480713069,
           -0.00006282386311795563,
           0.0004219688707962632
          ],
          [
           0.00026306879590265453,
           0.00024750319425947964,
           0.000618510995991528,
           -0.00014680379536002874,
           -0.00006202927033882588,
           0.0007814046693965793,
           -0.0016993972240015864,
           -0.0004754037072416395,
           0.00029979977989569306,
           0.00006458891584770754,
           0.000274653168162331,
           -0.00008863267430569977
          ],
          [
           -0.00003965127689298242,
           -0.0008515958907082677,
           0.00024791076430119574,
           -0.00022625677229370922,
           -0.0006363836582750082,
           0.0002866186259780079,
           -0.0005002478137612343,
           0.00009932503598975018,
           0.0002750572166405618,
           0.00019469708786346018,
           0.0011346592800691724,
           -0.000028029466193402186
          ],
          [
           0.00011283562344033271,
           -0.0004289306525606662,
           -0.00007374044798780233,
           -0.0003272444591857493,
           -0.00017119570111390203,
           -0.00011281779734417796,
           -0.00008775090100243688,
           0.00043553495197556913,
           -0.00012073338439222425,
           -0.00025914027355611324,
           0.0010264056036248803,
           -0.00010414447024231777
          ],
          [
           -0.00014525544247590005,
           -0.00023849421995691955,
           -0.000423755613155663,
           0.000288316048681736,
           -0.00003246788401156664,
           -0.000006817448138463078,
           0.0002749089617282152,
           0.000710056337993592,
           -0.00020267574291210622,
           -0.0002790316357277334,
           -0.00014882000687066466,
           0.00046342163113877177
          ],
          [
           -0.0003048706566914916,
           -0.00005691547266906127,
           0.00004852257916354574,
           -0.00052467524074018,
           0.0000852045341162011,
           -0.0003644850803539157,
           -0.000016974458048935048,
           -0.00018836540402844548,
           0.0002664463536348194,
           0.00009766589209903032,
           0.00044540551607497036,
           0.00016112247249111533
          ],
          [
           0.00008238808368332684,
           0.0000977199524641037,
           0.0005672944243997335,
           -0.00033796849311329424,
           -0.00030195023282431066,
           0.0008611148805357516,
           0.0006858553388155997,
           0.00019152039021719247,
           0.00021636442397721112,
           -0.0015211988938972354,
           -0.0007405081414617598,
           -0.00034261224209330976
          ],
          [
           0.000166734927915968,
           0.0006899896543473005,
           -0.0003712009929586202,
           -0.00013127989950589836,
           -0.0007148274453356862,
           -0.0003202711814083159,
           0.0000643228049739264,
           0.000025437617296120152,
           0.00020157951803412288,
           -0.001053801504895091,
           -0.0019564912654459476,
           -0.00015212524158414453
          ],
          [
           0.00023068454174790531,
           -0.0001544029510114342,
           -0.0011352779110893607,
           -0.00033417530357837677,
           -0.00011157912376802415,
           0.00007427838136209175,
           0.0010748438071459532,
           0.00033660989720374346,
           0.00033839320531114936,
           0.0004236694658175111,
           0.0009159324690699577,
           -0.000788352859672159
          ],
          [
           -0.000374495517462492,
           -0.0013364296173676848,
           0.001300443196669221,
           0.0005213898257352412,
           -0.00018386401643510908,
           0.0011546381283551455,
           -0.0006490547675639391,
           0.000011236849786655512,
           0.0008110166527330875,
           -0.001723079476505518,
           0.00044080763473175466,
           -0.0003578932664822787
          ],
          [
           0.003690518671646714,
           -0.0022057758178561926,
           -0.002737839939072728,
           -0.0011737070744857192,
           0.00018528715008869767,
           -0.00020137785759288818,
           -0.0007067717961035669,
           0.0067613692954182625,
           0.0004891480784863234,
           0.000008408635039813817,
           -0.001478019985370338,
           0.0002692088019102812
          ],
          [
           0.00036460161209106445,
           -0.0005791743751615286,
           0.0006477718707174063,
           0.0031037009321153164,
           -0.0006485222838819027,
           -0.00009173461876343936,
           -0.0012635516468435526,
           0.001248661894351244,
           0.012694641947746277,
           -0.0007036523893475533,
           0.002199655631557107,
           -0.0014602537266910076
          ]
         ]
        },
        {
         "coloraxis": "coloraxis",
         "hovertemplate": "x: %{x}<br>y: %{y}<br>color: %{z}<extra></extra>",
         "name": "2",
         "texttemplate": "%{z:.2f}",
         "type": "heatmap",
         "xaxis": "x3",
         "yaxis": "y3",
         "z": [
          [
           -0.00017440775991417468,
           -0.00036065466701984406,
           0.0012363853165879846,
           0.003912752959877253,
           -0.0035845995880663395,
           0.0019668755121529102,
           0.0019477998139336705,
           0.0018513636896386743,
           0.0018482919549569488,
           0.01313582994043827,
           -0.0015237773768603802,
           0.0061852834187448025
          ],
          [
           0.0013355084229260683,
           0.00005658803274855018,
           0.0023543057031929493,
           0.0012010406935587525,
           0.0037322561256587505,
           0.0012144180946052074,
           -0.005435829516500235,
           -0.00041288259672001004,
           -0.0001318246213486418,
           0.002946461085230112,
           0.005220300983637571,
           0.002083655446767807
          ],
          [
           -0.0014449863228946924,
           0.001044894801452756,
           0.0020867048297077417,
           0.004888750147074461,
           -0.0001453941222280264,
           0.0007805709028616548,
           -0.00015402045391965657,
           -0.00048163955216296017,
           -0.0028493436984717846,
           0.0021021338179707527,
           0.006880177650600672,
           0.0006282062386162579
          ],
          [
           0.001869815168902278,
           0.003509923815727234,
           -0.00019627631991170347,
           -0.0010179716628044844,
           -0.0005089779733680189,
           0.0008982126018963754,
           -0.0017678415169939399,
           0.0015921193407848477,
           -0.00011948501196457073,
           -0.0031451163813471794,
           0.0012535988353192806,
           0.00021758454386144876
          ],
          [
           -0.001981888897716999,
           0.0013776390114799142,
           0.00119196274317801,
           -0.0019791964441537857,
           -0.0008860596572048962,
           -0.0009467198979109526,
           0.0010529386345297098,
           0.006515095476061106,
           -0.0014800148783251643,
           0.0013595707714557648,
           -0.0007747308700345457,
           0.0033920684363693
          ],
          [
           0.0005564817693084478,
           0.0004519484064076096,
           -0.0006865976029075682,
           0.001391764497384429,
           -0.0021638721227645874,
           0.002830944489687681,
           0.001012566965073347,
           0.00012137499288655818,
           0.0019468270475044847,
           -0.0016115998150780797,
           0.004391772206872702,
           0.0022259452380239964
          ],
          [
           0.0014618695713579655,
           0.0012386961607262492,
           0.0004310264775995165,
           -0.0029268909711390734,
           -0.002560768974944949,
           0.004653490614145994,
           0.0038124576676636934,
           0.0012774181086570024,
           0.002683433936908841,
           -0.0015768217854201794,
           -0.0033199144527316093,
           -0.0019320878200232983
          ],
          [
           0.0011152318911626935,
           0.000953861337620765,
           0.000038810383557574823,
           -0.0022145123220980167,
           0.0038830440025776625,
           0.0014708000235259533,
           -0.002765662968158722,
           0.0012306049466133118,
           0.0008259093156084418,
           0.0002770939317997545,
           -0.00038846375537104905,
           0.0022097695618867874
          ],
          [
           0.0007784845656715333,
           0.00010370016389060766,
           -0.0016974997706711292,
           -0.0004588066367432475,
           0.005331337917596102,
           0.0072969174943864346,
           0.0038741782773286104,
           0.0060526346787810326,
           -0.00015932013047859073,
           -0.000033627911761868745,
           0.006205788813531399,
           -0.00006797185051254928
          ],
          [
           0.00026794677251018584,
           -0.0009228812996298075,
           0.0029004006646573544,
           0.012685338966548443,
           -0.0013429796090349555,
           0.0081439558416605,
           0.001814860268495977,
           -0.0005282825441099703,
           0.003987720236182213,
           -0.001041401526890695,
           -0.0018345867283642292,
           -0.001288019004277885
          ],
          [
           0.014794128946959972,
           -0.0011792000150308013,
           0.0009004617459140718,
           -0.0006046529742889106,
           0.0010160135570913553,
           -0.0006417303229682148,
           -0.003464779816567898,
           0.006744886748492718,
           0.0026948093436658382,
           0.011429437436163425,
           0.0023257157299667597,
           0.008306937292218208
          ],
          [
           -0.001463363878428936,
           -0.0001990466844290495,
           0.002818252192810178,
           0.010896331630647182,
           0.004982985556125641,
           0.0012448185589164495,
           0.0032241332810372114,
           -0.0020847332198172808,
           0.1259068250656128,
           -0.000257781968684867,
           0.005771836265921593,
           -0.00015565866488032043
          ]
         ]
        }
       ],
       "layout": {
        "annotations": [
         {
          "font": {},
          "showarrow": false,
          "text": "Only keep projection",
          "x": 0.15999999999999998,
          "xanchor": "center",
          "xref": "paper",
          "y": 1,
          "yanchor": "bottom",
          "yref": "paper"
         },
         {
          "font": {},
          "showarrow": false,
          "text": "Only keep perpendicular",
          "x": 0.49999999999999994,
          "xanchor": "center",
          "xref": "paper",
          "y": 1,
          "yanchor": "bottom",
          "yref": "paper"
         },
         {
          "font": {},
          "showarrow": false,
          "text": "Ablate entirely",
          "x": 0.8399999999999999,
          "xanchor": "center",
          "xref": "paper",
          "y": 1,
          "yanchor": "bottom",
          "yref": "paper"
         }
        ],
        "coloraxis": {
         "cmid": 0,
         "colorscale": [
          [
           0,
           "rgb(103,0,31)"
          ],
          [
           0.1,
           "rgb(178,24,43)"
          ],
          [
           0.2,
           "rgb(214,96,77)"
          ],
          [
           0.3,
           "rgb(244,165,130)"
          ],
          [
           0.4,
           "rgb(253,219,199)"
          ],
          [
           0.5,
           "rgb(247,247,247)"
          ],
          [
           0.6,
           "rgb(209,229,240)"
          ],
          [
           0.7,
           "rgb(146,197,222)"
          ],
          [
           0.8,
           "rgb(67,147,195)"
          ],
          [
           0.9,
           "rgb(33,102,172)"
          ],
          [
           1,
           "rgb(5,48,97)"
          ]
         ]
        },
        "height": 600,
        "modebar": {
         "add": [
          "drawline",
          "drawopenpath",
          "drawclosedpath",
          "drawcircle",
          "drawrect",
          "eraseshape"
         ]
        },
        "template": {
         "data": {
          "bar": [
           {
            "error_x": {
             "color": "#2a3f5f"
            },
            "error_y": {
             "color": "#2a3f5f"
            },
            "marker": {
             "line": {
              "color": "#E5ECF6",
              "width": 0.5
             },
             "pattern": {
              "fillmode": "overlay",
              "size": 10,
              "solidity": 0.2
             }
            },
            "type": "bar"
           }
          ],
          "barpolar": [
           {
            "marker": {
             "line": {
              "color": "#E5ECF6",
              "width": 0.5
             },
             "pattern": {
              "fillmode": "overlay",
              "size": 10,
              "solidity": 0.2
             }
            },
            "type": "barpolar"
           }
          ],
          "carpet": [
           {
            "aaxis": {
             "endlinecolor": "#2a3f5f",
             "gridcolor": "white",
             "linecolor": "white",
             "minorgridcolor": "white",
             "startlinecolor": "#2a3f5f"
            },
            "baxis": {
             "endlinecolor": "#2a3f5f",
             "gridcolor": "white",
             "linecolor": "white",
             "minorgridcolor": "white",
             "startlinecolor": "#2a3f5f"
            },
            "type": "carpet"
           }
          ],
          "choropleth": [
           {
            "colorbar": {
             "outlinewidth": 0,
             "ticks": ""
            },
            "type": "choropleth"
           }
          ],
          "contour": [
           {
            "colorbar": {
             "outlinewidth": 0,
             "ticks": ""
            },
            "colorscale": [
             [
              0,
              "#0d0887"
             ],
             [
              0.1111111111111111,
              "#46039f"
             ],
             [
              0.2222222222222222,
              "#7201a8"
             ],
             [
              0.3333333333333333,
              "#9c179e"
             ],
             [
              0.4444444444444444,
              "#bd3786"
             ],
             [
              0.5555555555555556,
              "#d8576b"
             ],
             [
              0.6666666666666666,
              "#ed7953"
             ],
             [
              0.7777777777777778,
              "#fb9f3a"
             ],
             [
              0.8888888888888888,
              "#fdca26"
             ],
             [
              1,
              "#f0f921"
             ]
            ],
            "type": "contour"
           }
          ],
          "contourcarpet": [
           {
            "colorbar": {
             "outlinewidth": 0,
             "ticks": ""
            },
            "type": "contourcarpet"
           }
          ],
          "heatmap": [
           {
            "colorbar": {
             "outlinewidth": 0,
             "ticks": ""
            },
            "colorscale": [
             [
              0,
              "#0d0887"
             ],
             [
              0.1111111111111111,
              "#46039f"
             ],
             [
              0.2222222222222222,
              "#7201a8"
             ],
             [
              0.3333333333333333,
              "#9c179e"
             ],
             [
              0.4444444444444444,
              "#bd3786"
             ],
             [
              0.5555555555555556,
              "#d8576b"
             ],
             [
              0.6666666666666666,
              "#ed7953"
             ],
             [
              0.7777777777777778,
              "#fb9f3a"
             ],
             [
              0.8888888888888888,
              "#fdca26"
             ],
             [
              1,
              "#f0f921"
             ]
            ],
            "type": "heatmap"
           }
          ],
          "heatmapgl": [
           {
            "colorbar": {
             "outlinewidth": 0,
             "ticks": ""
            },
            "colorscale": [
             [
              0,
              "#0d0887"
             ],
             [
              0.1111111111111111,
              "#46039f"
             ],
             [
              0.2222222222222222,
              "#7201a8"
             ],
             [
              0.3333333333333333,
              "#9c179e"
             ],
             [
              0.4444444444444444,
              "#bd3786"
             ],
             [
              0.5555555555555556,
              "#d8576b"
             ],
             [
              0.6666666666666666,
              "#ed7953"
             ],
             [
              0.7777777777777778,
              "#fb9f3a"
             ],
             [
              0.8888888888888888,
              "#fdca26"
             ],
             [
              1,
              "#f0f921"
             ]
            ],
            "type": "heatmapgl"
           }
          ],
          "histogram": [
           {
            "marker": {
             "pattern": {
              "fillmode": "overlay",
              "size": 10,
              "solidity": 0.2
             }
            },
            "type": "histogram"
           }
          ],
          "histogram2d": [
           {
            "colorbar": {
             "outlinewidth": 0,
             "ticks": ""
            },
            "colorscale": [
             [
              0,
              "#0d0887"
             ],
             [
              0.1111111111111111,
              "#46039f"
             ],
             [
              0.2222222222222222,
              "#7201a8"
             ],
             [
              0.3333333333333333,
              "#9c179e"
             ],
             [
              0.4444444444444444,
              "#bd3786"
             ],
             [
              0.5555555555555556,
              "#d8576b"
             ],
             [
              0.6666666666666666,
              "#ed7953"
             ],
             [
              0.7777777777777778,
              "#fb9f3a"
             ],
             [
              0.8888888888888888,
              "#fdca26"
             ],
             [
              1,
              "#f0f921"
             ]
            ],
            "type": "histogram2d"
           }
          ],
          "histogram2dcontour": [
           {
            "colorbar": {
             "outlinewidth": 0,
             "ticks": ""
            },
            "colorscale": [
             [
              0,
              "#0d0887"
             ],
             [
              0.1111111111111111,
              "#46039f"
             ],
             [
              0.2222222222222222,
              "#7201a8"
             ],
             [
              0.3333333333333333,
              "#9c179e"
             ],
             [
              0.4444444444444444,
              "#bd3786"
             ],
             [
              0.5555555555555556,
              "#d8576b"
             ],
             [
              0.6666666666666666,
              "#ed7953"
             ],
             [
              0.7777777777777778,
              "#fb9f3a"
             ],
             [
              0.8888888888888888,
              "#fdca26"
             ],
             [
              1,
              "#f0f921"
             ]
            ],
            "type": "histogram2dcontour"
           }
          ],
          "mesh3d": [
           {
            "colorbar": {
             "outlinewidth": 0,
             "ticks": ""
            },
            "type": "mesh3d"
           }
          ],
          "parcoords": [
           {
            "line": {
             "colorbar": {
              "outlinewidth": 0,
              "ticks": ""
             }
            },
            "type": "parcoords"
           }
          ],
          "pie": [
           {
            "automargin": true,
            "type": "pie"
           }
          ],
          "scatter": [
           {
            "fillpattern": {
             "fillmode": "overlay",
             "size": 10,
             "solidity": 0.2
            },
            "type": "scatter"
           }
          ],
          "scatter3d": [
           {
            "line": {
             "colorbar": {
              "outlinewidth": 0,
              "ticks": ""
             }
            },
            "marker": {
             "colorbar": {
              "outlinewidth": 0,
              "ticks": ""
             }
            },
            "type": "scatter3d"
           }
          ],
          "scattercarpet": [
           {
            "marker": {
             "colorbar": {
              "outlinewidth": 0,
              "ticks": ""
             }
            },
            "type": "scattercarpet"
           }
          ],
          "scattergeo": [
           {
            "marker": {
             "colorbar": {
              "outlinewidth": 0,
              "ticks": ""
             }
            },
            "type": "scattergeo"
           }
          ],
          "scattergl": [
           {
            "marker": {
             "colorbar": {
              "outlinewidth": 0,
              "ticks": ""
             }
            },
            "type": "scattergl"
           }
          ],
          "scattermapbox": [
           {
            "marker": {
             "colorbar": {
              "outlinewidth": 0,
              "ticks": ""
             }
            },
            "type": "scattermapbox"
           }
          ],
          "scatterpolar": [
           {
            "marker": {
             "colorbar": {
              "outlinewidth": 0,
              "ticks": ""
             }
            },
            "type": "scatterpolar"
           }
          ],
          "scatterpolargl": [
           {
            "marker": {
             "colorbar": {
              "outlinewidth": 0,
              "ticks": ""
             }
            },
            "type": "scatterpolargl"
           }
          ],
          "scatterternary": [
           {
            "marker": {
             "colorbar": {
              "outlinewidth": 0,
              "ticks": ""
             }
            },
            "type": "scatterternary"
           }
          ],
          "surface": [
           {
            "colorbar": {
             "outlinewidth": 0,
             "ticks": ""
            },
            "colorscale": [
             [
              0,
              "#0d0887"
             ],
             [
              0.1111111111111111,
              "#46039f"
             ],
             [
              0.2222222222222222,
              "#7201a8"
             ],
             [
              0.3333333333333333,
              "#9c179e"
             ],
             [
              0.4444444444444444,
              "#bd3786"
             ],
             [
              0.5555555555555556,
              "#d8576b"
             ],
             [
              0.6666666666666666,
              "#ed7953"
             ],
             [
              0.7777777777777778,
              "#fb9f3a"
             ],
             [
              0.8888888888888888,
              "#fdca26"
             ],
             [
              1,
              "#f0f921"
             ]
            ],
            "type": "surface"
           }
          ],
          "table": [
           {
            "cells": {
             "fill": {
              "color": "#EBF0F8"
             },
             "line": {
              "color": "white"
             }
            },
            "header": {
             "fill": {
              "color": "#C8D4E3"
             },
             "line": {
              "color": "white"
             }
            },
            "type": "table"
           }
          ]
         },
         "layout": {
          "annotationdefaults": {
           "arrowcolor": "#2a3f5f",
           "arrowhead": 0,
           "arrowwidth": 1
          },
          "autotypenumbers": "strict",
          "coloraxis": {
           "colorbar": {
            "outlinewidth": 0,
            "ticks": ""
           }
          },
          "colorscale": {
           "diverging": [
            [
             0,
             "#8e0152"
            ],
            [
             0.1,
             "#c51b7d"
            ],
            [
             0.2,
             "#de77ae"
            ],
            [
             0.3,
             "#f1b6da"
            ],
            [
             0.4,
             "#fde0ef"
            ],
            [
             0.5,
             "#f7f7f7"
            ],
            [
             0.6,
             "#e6f5d0"
            ],
            [
             0.7,
             "#b8e186"
            ],
            [
             0.8,
             "#7fbc41"
            ],
            [
             0.9,
             "#4d9221"
            ],
            [
             1,
             "#276419"
            ]
           ],
           "sequential": [
            [
             0,
             "#0d0887"
            ],
            [
             0.1111111111111111,
             "#46039f"
            ],
            [
             0.2222222222222222,
             "#7201a8"
            ],
            [
             0.3333333333333333,
             "#9c179e"
            ],
            [
             0.4444444444444444,
             "#bd3786"
            ],
            [
             0.5555555555555556,
             "#d8576b"
            ],
            [
             0.6666666666666666,
             "#ed7953"
            ],
            [
             0.7777777777777778,
             "#fb9f3a"
            ],
            [
             0.8888888888888888,
             "#fdca26"
            ],
            [
             1,
             "#f0f921"
            ]
           ],
           "sequentialminus": [
            [
             0,
             "#0d0887"
            ],
            [
             0.1111111111111111,
             "#46039f"
            ],
            [
             0.2222222222222222,
             "#7201a8"
            ],
            [
             0.3333333333333333,
             "#9c179e"
            ],
            [
             0.4444444444444444,
             "#bd3786"
            ],
            [
             0.5555555555555556,
             "#d8576b"
            ],
            [
             0.6666666666666666,
             "#ed7953"
            ],
            [
             0.7777777777777778,
             "#fb9f3a"
            ],
            [
             0.8888888888888888,
             "#fdca26"
            ],
            [
             1,
             "#f0f921"
            ]
           ]
          },
          "colorway": [
           "#636efa",
           "#EF553B",
           "#00cc96",
           "#ab63fa",
           "#FFA15A",
           "#19d3f3",
           "#FF6692",
           "#B6E880",
           "#FF97FF",
           "#FECB52"
          ],
          "font": {
           "color": "#2a3f5f"
          },
          "geo": {
           "bgcolor": "white",
           "lakecolor": "white",
           "landcolor": "#E5ECF6",
           "showlakes": true,
           "showland": true,
           "subunitcolor": "white"
          },
          "hoverlabel": {
           "align": "left"
          },
          "hovermode": "closest",
          "mapbox": {
           "style": "light"
          },
          "paper_bgcolor": "white",
          "plot_bgcolor": "#E5ECF6",
          "polar": {
           "angularaxis": {
            "gridcolor": "white",
            "linecolor": "white",
            "ticks": ""
           },
           "bgcolor": "#E5ECF6",
           "radialaxis": {
            "gridcolor": "white",
            "linecolor": "white",
            "ticks": ""
           }
          },
          "scene": {
           "xaxis": {
            "backgroundcolor": "#E5ECF6",
            "gridcolor": "white",
            "gridwidth": 2,
            "linecolor": "white",
            "showbackground": true,
            "ticks": "",
            "zerolinecolor": "white"
           },
           "yaxis": {
            "backgroundcolor": "#E5ECF6",
            "gridcolor": "white",
            "gridwidth": 2,
            "linecolor": "white",
            "showbackground": true,
            "ticks": "",
            "zerolinecolor": "white"
           },
           "zaxis": {
            "backgroundcolor": "#E5ECF6",
            "gridcolor": "white",
            "gridwidth": 2,
            "linecolor": "white",
            "showbackground": true,
            "ticks": "",
            "zerolinecolor": "white"
           }
          },
          "shapedefaults": {
           "line": {
            "color": "#2a3f5f"
           }
          },
          "ternary": {
           "aaxis": {
            "gridcolor": "white",
            "linecolor": "white",
            "ticks": ""
           },
           "baxis": {
            "gridcolor": "white",
            "linecolor": "white",
            "ticks": ""
           },
           "bgcolor": "#E5ECF6",
           "caxis": {
            "gridcolor": "white",
            "linecolor": "white",
            "ticks": ""
           }
          },
          "title": {
           "x": 0.05
          },
          "xaxis": {
           "automargin": true,
           "gridcolor": "white",
           "linecolor": "white",
           "ticks": "",
           "title": {
            "standoff": 15
           },
           "zerolinecolor": "white",
           "zerolinewidth": 2
          },
          "yaxis": {
           "automargin": true,
           "gridcolor": "white",
           "linecolor": "white",
           "ticks": "",
           "title": {
            "standoff": 15
           },
           "zerolinecolor": "white",
           "zerolinewidth": 2
          }
         }
        },
        "title": {
         "text": "Change in loss from projecting"
        },
        "width": 1400,
        "xaxis": {
         "anchor": "y",
         "constrain": "domain",
         "domain": [
          0,
          0.31999999999999995
         ],
         "scaleanchor": "y"
        },
        "xaxis2": {
         "anchor": "y2",
         "domain": [
          0.33999999999999997,
          0.6599999999999999
         ],
         "matches": "x"
        },
        "xaxis3": {
         "anchor": "y3",
         "domain": [
          0.6799999999999999,
          0.9999999999999999
         ],
         "matches": "x"
        },
        "yaxis": {
         "anchor": "x",
         "autorange": "reversed",
         "constrain": "domain",
         "domain": [
          0,
          1
         ]
        },
        "yaxis2": {
         "anchor": "x2",
         "domain": [
          0,
          1
         ],
         "matches": "y",
         "showticklabels": false
        },
        "yaxis3": {
         "anchor": "x3",
         "domain": [
          0,
          1
         ],
         "matches": "y",
         "showticklabels": false
        }
       }
      },
      "text/html": [
       "<div>                            <div id=\"53e93433-c401-4528-8081-c233603ce296\" class=\"plotly-graph-div\" style=\"height:600px; width:1400px;\"></div>            <script type=\"text/javascript\">                require([\"plotly\"], function(Plotly) {                    window.PLOTLYENV=window.PLOTLYENV || {};                                    if (document.getElementById(\"53e93433-c401-4528-8081-c233603ce296\")) {                    Plotly.newPlot(                        \"53e93433-c401-4528-8081-c233603ce296\",                        [{\"coloraxis\":\"coloraxis\",\"name\":\"0\",\"texttemplate\":\"%{z:.2f}\",\"z\":[[-9.063045581569895e-05,-1.827324194891844e-05,0.0014112526550889015,0.004071291536092758,-0.003168536350131035,0.0019518432673066854,0.0026140783447772264,0.00197837152518332,0.0010328823700547218,0.012521740049123764,-0.001476774807088077,0.005678635090589523],[0.0010680007981136441,-0.00017295469297096133,0.0016484858933836222,0.0013191674370318651,0.0037765761371701956,0.00035884734825231135,-0.0037834912072867155,2.2408879885915667e-05,-0.00042118431883864105,0.0028796338010579348,0.004892710596323013,0.0021658751647919416],[-0.0014140926068648696,0.0018572385888546705,0.0018489017384126782,0.0050908904522657394,0.00048064300790429115,0.0004956023767590523,0.0003386583412066102,-0.0005952366045676172,-0.0031228684820234776,0.0018534198170527816,0.005551420617848635,0.0006516627036035061],[0.0017455609049648046,0.0039336346089839935,-0.00012870391947217286,-0.0006990465917624533,-0.00035430301795713603,0.0009963890770450234,-0.0016831672983244061,0.0011015241034328938,5.460915872390615e-06,-0.0028864662162959576,0.00018752756295725703,0.00031103778746910393],[-0.001828692271374166,0.0016151746967807412,0.0016162687679752707,-0.002280534477904439,-0.0008746656822040677,-0.0009382580756209791,0.0007733838283456862,0.005714766215533018,-0.0012837223475798965,0.0016304157907143235,-0.0006372314528562129,0.002928751753643155],[0.0008527847239747643,0.0005787737318314612,-0.0007427635719068348,0.0019042578060179949,-0.002248133299872279,0.0031995235476642847,0.001033745356835425,0.0002924831642303616,0.0016849557869136333,-0.0017228040378540754,0.003813281189650297,0.001975058810785413],[0.0013636506628245115,0.0010978723876178265,-0.00012664558016695082,-0.002597562735900283,-0.0023806358221918344,0.003776871832087636,0.0030938382260501385,0.0010124548571184278,0.002463611774146557,-5.910900290473364e-05,-0.0025686798617243767,-0.0015930590452626348],[0.0009168668184429407,0.0002299496263731271,0.00039215729339048266,-0.0020747417584061623,0.00456747692078352,0.0016846711514517665,-0.002868642332032323,0.0011318479664623737,0.0005372983869165182,0.0013488096883520484,0.0016661342233419418,0.0023526076693087816],[0.000528309668879956,0.0004311931552365422,-0.0008077448583208025,-0.00014173146337270737,0.005395533517003059,0.007190006319433451,0.00253643118776381,0.005626168102025986,-0.001030790968798101,-0.0004897247417829931,0.004593833349645138,0.0006369472248479724],[0.0005817714845761657,0.00037561552016995847,0.00034409185172989964,0.011484185233712196,-0.0011515566147863865,0.006421004422008991,0.002048191614449024,-0.0005353514570742846,0.0028757324907928705,0.0006983786588534713,-0.0023147936444729567,-0.0009547168738208711],[0.009566512890160084,0.001061141723766923,0.0038205902092158794,0.000590206531342119,0.000637680001091212,-0.00048485296429134905,-0.003089792560786009,-0.0013519128551706672,0.0024400914553552866,0.011315392330288887,0.0037645241245627403,0.007375388406217098],[-0.001742575317621231,0.0004785184282809496,0.003120005363598466,0.0054019298404455185,0.006050356663763523,0.0013997909845784307,0.004642066545784473,-0.0032077785581350327,0.09912820160388947,0.0004957926576025784,0.0035499543882906437,0.0012497217394411564]],\"type\":\"heatmap\",\"xaxis\":\"x\",\"yaxis\":\"y\",\"hovertemplate\":\"x: %{x}\\u003cbr\\u003ey: %{y}\\u003cbr\\u003ecolor: %{z}\\u003cextra\\u003e\\u003c\\u002fextra\\u003e\"},{\"coloraxis\":\"coloraxis\",\"name\":\"1\",\"texttemplate\":\"%{z:.2f}\",\"z\":[[-9.15269338293001e-05,-0.0003332593769300729,-0.00018436972459312528,-0.00018167142115999013,-0.0004114766197744757,5.504797172761755e-06,-0.000718630850315094,-0.00014084260328672826,0.0007308016065508127,0.0005261578480713069,-6.282386311795563e-05,0.0004219688707962632],[0.00026306879590265453,0.00024750319425947964,0.000618510995991528,-0.00014680379536002874,-6.202927033882588e-05,0.0007814046693965793,-0.0016993972240015864,-0.0004754037072416395,0.00029979977989569306,6.458891584770754e-05,0.000274653168162331,-8.863267430569977e-05],[-3.965127689298242e-05,-0.0008515958907082677,0.00024791076430119574,-0.00022625677229370922,-0.0006363836582750082,0.0002866186259780079,-0.0005002478137612343,9.932503598975018e-05,0.0002750572166405618,0.00019469708786346018,0.0011346592800691724,-2.8029466193402186e-05],[0.00011283562344033271,-0.0004289306525606662,-7.374044798780233e-05,-0.0003272444591857493,-0.00017119570111390203,-0.00011281779734417796,-8.775090100243688e-05,0.00043553495197556913,-0.00012073338439222425,-0.00025914027355611324,0.0010264056036248803,-0.00010414447024231777],[-0.00014525544247590005,-0.00023849421995691955,-0.000423755613155663,0.000288316048681736,-3.246788401156664e-05,-6.817448138463078e-06,0.0002749089617282152,0.000710056337993592,-0.00020267574291210622,-0.0002790316357277334,-0.00014882000687066466,0.00046342163113877177],[-0.0003048706566914916,-5.691547266906127e-05,4.852257916354574e-05,-0.00052467524074018,8.52045341162011e-05,-0.0003644850803539157,-1.6974458048935048e-05,-0.00018836540402844548,0.0002664463536348194,9.766589209903032e-05,0.00044540551607497036,0.00016112247249111533],[8.238808368332684e-05,9.77199524641037e-05,0.0005672944243997335,-0.00033796849311329424,-0.00030195023282431066,0.0008611148805357516,0.0006858553388155997,0.00019152039021719247,0.00021636442397721112,-0.0015211988938972354,-0.0007405081414617598,-0.00034261224209330976],[0.000166734927915968,0.0006899896543473005,-0.0003712009929586202,-0.00013127989950589836,-0.0007148274453356862,-0.0003202711814083159,6.43228049739264e-05,2.5437617296120152e-05,0.00020157951803412288,-0.001053801504895091,-0.0019564912654459476,-0.00015212524158414453],[0.00023068454174790531,-0.0001544029510114342,-0.0011352779110893607,-0.00033417530357837677,-0.00011157912376802415,7.427838136209175e-05,0.0010748438071459532,0.00033660989720374346,0.00033839320531114936,0.0004236694658175111,0.0009159324690699577,-0.000788352859672159],[-0.000374495517462492,-0.0013364296173676848,0.001300443196669221,0.0005213898257352412,-0.00018386401643510908,0.0011546381283551455,-0.0006490547675639391,1.1236849786655512e-05,0.0008110166527330875,-0.001723079476505518,0.00044080763473175466,-0.0003578932664822787],[0.003690518671646714,-0.0022057758178561926,-0.002737839939072728,-0.0011737070744857192,0.00018528715008869767,-0.00020137785759288818,-0.0007067717961035669,0.0067613692954182625,0.0004891480784863234,8.408635039813817e-06,-0.001478019985370338,0.0002692088019102812],[0.00036460161209106445,-0.0005791743751615286,0.0006477718707174063,0.0031037009321153164,-0.0006485222838819027,-9.173461876343936e-05,-0.0012635516468435526,0.001248661894351244,0.012694641947746277,-0.0007036523893475533,0.002199655631557107,-0.0014602537266910076]],\"type\":\"heatmap\",\"xaxis\":\"x2\",\"yaxis\":\"y2\",\"hovertemplate\":\"x: %{x}\\u003cbr\\u003ey: %{y}\\u003cbr\\u003ecolor: %{z}\\u003cextra\\u003e\\u003c\\u002fextra\\u003e\"},{\"coloraxis\":\"coloraxis\",\"name\":\"2\",\"texttemplate\":\"%{z:.2f}\",\"z\":[[-0.00017440775991417468,-0.00036065466701984406,0.0012363853165879846,0.003912752959877253,-0.0035845995880663395,0.0019668755121529102,0.0019477998139336705,0.0018513636896386743,0.0018482919549569488,0.01313582994043827,-0.0015237773768603802,0.0061852834187448025],[0.0013355084229260683,5.658803274855018e-05,0.0023543057031929493,0.0012010406935587525,0.0037322561256587505,0.0012144180946052074,-0.005435829516500235,-0.00041288259672001004,-0.0001318246213486418,0.002946461085230112,0.005220300983637571,0.002083655446767807],[-0.0014449863228946924,0.001044894801452756,0.0020867048297077417,0.004888750147074461,-0.0001453941222280264,0.0007805709028616548,-0.00015402045391965657,-0.00048163955216296017,-0.0028493436984717846,0.0021021338179707527,0.006880177650600672,0.0006282062386162579],[0.001869815168902278,0.003509923815727234,-0.00019627631991170347,-0.0010179716628044844,-0.0005089779733680189,0.0008982126018963754,-0.0017678415169939399,0.0015921193407848477,-0.00011948501196457073,-0.0031451163813471794,0.0012535988353192806,0.00021758454386144876],[-0.001981888897716999,0.0013776390114799142,0.00119196274317801,-0.0019791964441537857,-0.0008860596572048962,-0.0009467198979109526,0.0010529386345297098,0.006515095476061106,-0.0014800148783251643,0.0013595707714557648,-0.0007747308700345457,0.0033920684363693],[0.0005564817693084478,0.0004519484064076096,-0.0006865976029075682,0.001391764497384429,-0.0021638721227645874,0.002830944489687681,0.001012566965073347,0.00012137499288655818,0.0019468270475044847,-0.0016115998150780797,0.004391772206872702,0.0022259452380239964],[0.0014618695713579655,0.0012386961607262492,0.0004310264775995165,-0.0029268909711390734,-0.002560768974944949,0.004653490614145994,0.0038124576676636934,0.0012774181086570024,0.002683433936908841,-0.0015768217854201794,-0.0033199144527316093,-0.0019320878200232983],[0.0011152318911626935,0.000953861337620765,3.8810383557574823e-05,-0.0022145123220980167,0.0038830440025776625,0.0014708000235259533,-0.002765662968158722,0.0012306049466133118,0.0008259093156084418,0.0002770939317997545,-0.00038846375537104905,0.0022097695618867874],[0.0007784845656715333,0.00010370016389060766,-0.0016974997706711292,-0.0004588066367432475,0.005331337917596102,0.0072969174943864346,0.0038741782773286104,0.0060526346787810326,-0.00015932013047859073,-3.3627911761868745e-05,0.006205788813531399,-6.797185051254928e-05],[0.00026794677251018584,-0.0009228812996298075,0.0029004006646573544,0.012685338966548443,-0.0013429796090349555,0.0081439558416605,0.001814860268495977,-0.0005282825441099703,0.003987720236182213,-0.001041401526890695,-0.0018345867283642292,-0.001288019004277885],[0.014794128946959972,-0.0011792000150308013,0.0009004617459140718,-0.0006046529742889106,0.0010160135570913553,-0.0006417303229682148,-0.003464779816567898,0.006744886748492718,0.0026948093436658382,0.011429437436163425,0.0023257157299667597,0.008306937292218208],[-0.001463363878428936,-0.0001990466844290495,0.002818252192810178,0.010896331630647182,0.004982985556125641,0.0012448185589164495,0.0032241332810372114,-0.0020847332198172808,0.1259068250656128,-0.000257781968684867,0.005771836265921593,-0.00015565866488032043]],\"type\":\"heatmap\",\"xaxis\":\"x3\",\"yaxis\":\"y3\",\"hovertemplate\":\"x: %{x}\\u003cbr\\u003ey: %{y}\\u003cbr\\u003ecolor: %{z}\\u003cextra\\u003e\\u003c\\u002fextra\\u003e\"}],                        {\"template\":{\"data\":{\"histogram2dcontour\":[{\"type\":\"histogram2dcontour\",\"colorbar\":{\"outlinewidth\":0,\"ticks\":\"\"},\"colorscale\":[[0.0,\"#0d0887\"],[0.1111111111111111,\"#46039f\"],[0.2222222222222222,\"#7201a8\"],[0.3333333333333333,\"#9c179e\"],[0.4444444444444444,\"#bd3786\"],[0.5555555555555556,\"#d8576b\"],[0.6666666666666666,\"#ed7953\"],[0.7777777777777778,\"#fb9f3a\"],[0.8888888888888888,\"#fdca26\"],[1.0,\"#f0f921\"]]}],\"choropleth\":[{\"type\":\"choropleth\",\"colorbar\":{\"outlinewidth\":0,\"ticks\":\"\"}}],\"histogram2d\":[{\"type\":\"histogram2d\",\"colorbar\":{\"outlinewidth\":0,\"ticks\":\"\"},\"colorscale\":[[0.0,\"#0d0887\"],[0.1111111111111111,\"#46039f\"],[0.2222222222222222,\"#7201a8\"],[0.3333333333333333,\"#9c179e\"],[0.4444444444444444,\"#bd3786\"],[0.5555555555555556,\"#d8576b\"],[0.6666666666666666,\"#ed7953\"],[0.7777777777777778,\"#fb9f3a\"],[0.8888888888888888,\"#fdca26\"],[1.0,\"#f0f921\"]]}],\"heatmap\":[{\"type\":\"heatmap\",\"colorbar\":{\"outlinewidth\":0,\"ticks\":\"\"},\"colorscale\":[[0.0,\"#0d0887\"],[0.1111111111111111,\"#46039f\"],[0.2222222222222222,\"#7201a8\"],[0.3333333333333333,\"#9c179e\"],[0.4444444444444444,\"#bd3786\"],[0.5555555555555556,\"#d8576b\"],[0.6666666666666666,\"#ed7953\"],[0.7777777777777778,\"#fb9f3a\"],[0.8888888888888888,\"#fdca26\"],[1.0,\"#f0f921\"]]}],\"heatmapgl\":[{\"type\":\"heatmapgl\",\"colorbar\":{\"outlinewidth\":0,\"ticks\":\"\"},\"colorscale\":[[0.0,\"#0d0887\"],[0.1111111111111111,\"#46039f\"],[0.2222222222222222,\"#7201a8\"],[0.3333333333333333,\"#9c179e\"],[0.4444444444444444,\"#bd3786\"],[0.5555555555555556,\"#d8576b\"],[0.6666666666666666,\"#ed7953\"],[0.7777777777777778,\"#fb9f3a\"],[0.8888888888888888,\"#fdca26\"],[1.0,\"#f0f921\"]]}],\"contourcarpet\":[{\"type\":\"contourcarpet\",\"colorbar\":{\"outlinewidth\":0,\"ticks\":\"\"}}],\"contour\":[{\"type\":\"contour\",\"colorbar\":{\"outlinewidth\":0,\"ticks\":\"\"},\"colorscale\":[[0.0,\"#0d0887\"],[0.1111111111111111,\"#46039f\"],[0.2222222222222222,\"#7201a8\"],[0.3333333333333333,\"#9c179e\"],[0.4444444444444444,\"#bd3786\"],[0.5555555555555556,\"#d8576b\"],[0.6666666666666666,\"#ed7953\"],[0.7777777777777778,\"#fb9f3a\"],[0.8888888888888888,\"#fdca26\"],[1.0,\"#f0f921\"]]}],\"surface\":[{\"type\":\"surface\",\"colorbar\":{\"outlinewidth\":0,\"ticks\":\"\"},\"colorscale\":[[0.0,\"#0d0887\"],[0.1111111111111111,\"#46039f\"],[0.2222222222222222,\"#7201a8\"],[0.3333333333333333,\"#9c179e\"],[0.4444444444444444,\"#bd3786\"],[0.5555555555555556,\"#d8576b\"],[0.6666666666666666,\"#ed7953\"],[0.7777777777777778,\"#fb9f3a\"],[0.8888888888888888,\"#fdca26\"],[1.0,\"#f0f921\"]]}],\"mesh3d\":[{\"type\":\"mesh3d\",\"colorbar\":{\"outlinewidth\":0,\"ticks\":\"\"}}],\"scatter\":[{\"fillpattern\":{\"fillmode\":\"overlay\",\"size\":10,\"solidity\":0.2},\"type\":\"scatter\"}],\"parcoords\":[{\"type\":\"parcoords\",\"line\":{\"colorbar\":{\"outlinewidth\":0,\"ticks\":\"\"}}}],\"scatterpolargl\":[{\"type\":\"scatterpolargl\",\"marker\":{\"colorbar\":{\"outlinewidth\":0,\"ticks\":\"\"}}}],\"bar\":[{\"error_x\":{\"color\":\"#2a3f5f\"},\"error_y\":{\"color\":\"#2a3f5f\"},\"marker\":{\"line\":{\"color\":\"#E5ECF6\",\"width\":0.5},\"pattern\":{\"fillmode\":\"overlay\",\"size\":10,\"solidity\":0.2}},\"type\":\"bar\"}],\"scattergeo\":[{\"type\":\"scattergeo\",\"marker\":{\"colorbar\":{\"outlinewidth\":0,\"ticks\":\"\"}}}],\"scatterpolar\":[{\"type\":\"scatterpolar\",\"marker\":{\"colorbar\":{\"outlinewidth\":0,\"ticks\":\"\"}}}],\"histogram\":[{\"marker\":{\"pattern\":{\"fillmode\":\"overlay\",\"size\":10,\"solidity\":0.2}},\"type\":\"histogram\"}],\"scattergl\":[{\"type\":\"scattergl\",\"marker\":{\"colorbar\":{\"outlinewidth\":0,\"ticks\":\"\"}}}],\"scatter3d\":[{\"type\":\"scatter3d\",\"line\":{\"colorbar\":{\"outlinewidth\":0,\"ticks\":\"\"}},\"marker\":{\"colorbar\":{\"outlinewidth\":0,\"ticks\":\"\"}}}],\"scattermapbox\":[{\"type\":\"scattermapbox\",\"marker\":{\"colorbar\":{\"outlinewidth\":0,\"ticks\":\"\"}}}],\"scatterternary\":[{\"type\":\"scatterternary\",\"marker\":{\"colorbar\":{\"outlinewidth\":0,\"ticks\":\"\"}}}],\"scattercarpet\":[{\"type\":\"scattercarpet\",\"marker\":{\"colorbar\":{\"outlinewidth\":0,\"ticks\":\"\"}}}],\"carpet\":[{\"aaxis\":{\"endlinecolor\":\"#2a3f5f\",\"gridcolor\":\"white\",\"linecolor\":\"white\",\"minorgridcolor\":\"white\",\"startlinecolor\":\"#2a3f5f\"},\"baxis\":{\"endlinecolor\":\"#2a3f5f\",\"gridcolor\":\"white\",\"linecolor\":\"white\",\"minorgridcolor\":\"white\",\"startlinecolor\":\"#2a3f5f\"},\"type\":\"carpet\"}],\"table\":[{\"cells\":{\"fill\":{\"color\":\"#EBF0F8\"},\"line\":{\"color\":\"white\"}},\"header\":{\"fill\":{\"color\":\"#C8D4E3\"},\"line\":{\"color\":\"white\"}},\"type\":\"table\"}],\"barpolar\":[{\"marker\":{\"line\":{\"color\":\"#E5ECF6\",\"width\":0.5},\"pattern\":{\"fillmode\":\"overlay\",\"size\":10,\"solidity\":0.2}},\"type\":\"barpolar\"}],\"pie\":[{\"automargin\":true,\"type\":\"pie\"}]},\"layout\":{\"autotypenumbers\":\"strict\",\"colorway\":[\"#636efa\",\"#EF553B\",\"#00cc96\",\"#ab63fa\",\"#FFA15A\",\"#19d3f3\",\"#FF6692\",\"#B6E880\",\"#FF97FF\",\"#FECB52\"],\"font\":{\"color\":\"#2a3f5f\"},\"hovermode\":\"closest\",\"hoverlabel\":{\"align\":\"left\"},\"paper_bgcolor\":\"white\",\"plot_bgcolor\":\"#E5ECF6\",\"polar\":{\"bgcolor\":\"#E5ECF6\",\"angularaxis\":{\"gridcolor\":\"white\",\"linecolor\":\"white\",\"ticks\":\"\"},\"radialaxis\":{\"gridcolor\":\"white\",\"linecolor\":\"white\",\"ticks\":\"\"}},\"ternary\":{\"bgcolor\":\"#E5ECF6\",\"aaxis\":{\"gridcolor\":\"white\",\"linecolor\":\"white\",\"ticks\":\"\"},\"baxis\":{\"gridcolor\":\"white\",\"linecolor\":\"white\",\"ticks\":\"\"},\"caxis\":{\"gridcolor\":\"white\",\"linecolor\":\"white\",\"ticks\":\"\"}},\"coloraxis\":{\"colorbar\":{\"outlinewidth\":0,\"ticks\":\"\"}},\"colorscale\":{\"sequential\":[[0.0,\"#0d0887\"],[0.1111111111111111,\"#46039f\"],[0.2222222222222222,\"#7201a8\"],[0.3333333333333333,\"#9c179e\"],[0.4444444444444444,\"#bd3786\"],[0.5555555555555556,\"#d8576b\"],[0.6666666666666666,\"#ed7953\"],[0.7777777777777778,\"#fb9f3a\"],[0.8888888888888888,\"#fdca26\"],[1.0,\"#f0f921\"]],\"sequentialminus\":[[0.0,\"#0d0887\"],[0.1111111111111111,\"#46039f\"],[0.2222222222222222,\"#7201a8\"],[0.3333333333333333,\"#9c179e\"],[0.4444444444444444,\"#bd3786\"],[0.5555555555555556,\"#d8576b\"],[0.6666666666666666,\"#ed7953\"],[0.7777777777777778,\"#fb9f3a\"],[0.8888888888888888,\"#fdca26\"],[1.0,\"#f0f921\"]],\"diverging\":[[0,\"#8e0152\"],[0.1,\"#c51b7d\"],[0.2,\"#de77ae\"],[0.3,\"#f1b6da\"],[0.4,\"#fde0ef\"],[0.5,\"#f7f7f7\"],[0.6,\"#e6f5d0\"],[0.7,\"#b8e186\"],[0.8,\"#7fbc41\"],[0.9,\"#4d9221\"],[1,\"#276419\"]]},\"xaxis\":{\"gridcolor\":\"white\",\"linecolor\":\"white\",\"ticks\":\"\",\"title\":{\"standoff\":15},\"zerolinecolor\":\"white\",\"automargin\":true,\"zerolinewidth\":2},\"yaxis\":{\"gridcolor\":\"white\",\"linecolor\":\"white\",\"ticks\":\"\",\"title\":{\"standoff\":15},\"zerolinecolor\":\"white\",\"automargin\":true,\"zerolinewidth\":2},\"scene\":{\"xaxis\":{\"backgroundcolor\":\"#E5ECF6\",\"gridcolor\":\"white\",\"linecolor\":\"white\",\"showbackground\":true,\"ticks\":\"\",\"zerolinecolor\":\"white\",\"gridwidth\":2},\"yaxis\":{\"backgroundcolor\":\"#E5ECF6\",\"gridcolor\":\"white\",\"linecolor\":\"white\",\"showbackground\":true,\"ticks\":\"\",\"zerolinecolor\":\"white\",\"gridwidth\":2},\"zaxis\":{\"backgroundcolor\":\"#E5ECF6\",\"gridcolor\":\"white\",\"linecolor\":\"white\",\"showbackground\":true,\"ticks\":\"\",\"zerolinecolor\":\"white\",\"gridwidth\":2}},\"shapedefaults\":{\"line\":{\"color\":\"#2a3f5f\"}},\"annotationdefaults\":{\"arrowcolor\":\"#2a3f5f\",\"arrowhead\":0,\"arrowwidth\":1},\"geo\":{\"bgcolor\":\"white\",\"landcolor\":\"#E5ECF6\",\"subunitcolor\":\"white\",\"showland\":true,\"showlakes\":true,\"lakecolor\":\"white\"},\"title\":{\"x\":0.05},\"mapbox\":{\"style\":\"light\"}}},\"xaxis\":{\"anchor\":\"y\",\"domain\":[0.0,0.31999999999999995],\"scaleanchor\":\"y\",\"constrain\":\"domain\"},\"yaxis\":{\"anchor\":\"x\",\"domain\":[0.0,1.0],\"autorange\":\"reversed\",\"constrain\":\"domain\"},\"xaxis2\":{\"anchor\":\"y2\",\"domain\":[0.33999999999999997,0.6599999999999999],\"matches\":\"x\"},\"yaxis2\":{\"anchor\":\"x2\",\"domain\":[0.0,1.0],\"matches\":\"y\",\"showticklabels\":false},\"xaxis3\":{\"anchor\":\"y3\",\"domain\":[0.6799999999999999,0.9999999999999999],\"matches\":\"x\"},\"yaxis3\":{\"anchor\":\"x3\",\"domain\":[0.0,1.0],\"matches\":\"y\",\"showticklabels\":false},\"annotations\":[{\"font\":{},\"showarrow\":false,\"text\":\"Only keep projection\",\"x\":0.15999999999999998,\"xanchor\":\"center\",\"xref\":\"paper\",\"y\":1.0,\"yanchor\":\"bottom\",\"yref\":\"paper\"},{\"font\":{},\"showarrow\":false,\"text\":\"Only keep perpendicular\",\"x\":0.49999999999999994,\"xanchor\":\"center\",\"xref\":\"paper\",\"y\":1.0,\"yanchor\":\"bottom\",\"yref\":\"paper\"},{\"font\":{},\"showarrow\":false,\"text\":\"Ablate entirely\",\"x\":0.8399999999999999,\"xanchor\":\"center\",\"xref\":\"paper\",\"y\":1.0,\"yanchor\":\"bottom\",\"yref\":\"paper\"}],\"coloraxis\":{\"colorscale\":[[0.0,\"rgb(103,0,31)\"],[0.1,\"rgb(178,24,43)\"],[0.2,\"rgb(214,96,77)\"],[0.3,\"rgb(244,165,130)\"],[0.4,\"rgb(253,219,199)\"],[0.5,\"rgb(247,247,247)\"],[0.6,\"rgb(209,229,240)\"],[0.7,\"rgb(146,197,222)\"],[0.8,\"rgb(67,147,195)\"],[0.9,\"rgb(33,102,172)\"],[1.0,\"rgb(5,48,97)\"]],\"cmid\":0.0},\"title\":{\"text\":\"Change in loss from projecting\"},\"height\":600,\"width\":1400,\"modebar\":{\"add\":[\"drawline\",\"drawopenpath\",\"drawclosedpath\",\"drawcircle\",\"drawrect\",\"eraseshape\"]}},                        {\"displaylogo\": false, \"staticPlot\": true, \"responsive\": true}                    ).then(function(){\n",
       "                            \n",
       "var gd = document.getElementById('53e93433-c401-4528-8081-c233603ce296');\n",
       "var x = new MutationObserver(function (mutations, observer) {{\n",
       "        var display = window.getComputedStyle(gd).display;\n",
       "        if (!display || display === 'none') {{\n",
       "            console.log([gd, 'removed!']);\n",
       "            Plotly.purge(gd);\n",
       "            observer.disconnect();\n",
       "        }}\n",
       "}});\n",
       "\n",
       "// Listen for the removal of the full notebook cells\n",
       "var notebookContainer = gd.closest('#notebook-container');\n",
       "if (notebookContainer) {{\n",
       "    x.observe(notebookContainer, {childList: true});\n",
       "}}\n",
       "\n",
       "// Listen for the clearing of the current output cell\n",
       "var outputEl = gd.closest('.output');\n",
       "if (outputEl) {{\n",
       "    x.observe(outputEl, {childList: true});\n",
       "}}\n",
       "\n",
       "                        })                };                });            </script>        </div>"
      ]
     },
     "metadata": {},
     "output_type": "display_data"
    }
   ],
   "source": [
    "proportional_loss_increase: (head_removal_loss_all / orig_loss_all) - 1\n",
    "absolute_loss_increase = head_removal_loss_all - orig_loss_all\n",
    "\n",
    "mean_loss_increase = einops.reduce(\n",
    "    absolute_loss_increase, \"layer head type num_batches batch_idx seq_pos -> type layer head\", \"mean\"\n",
    ")\n",
    "\n",
    "imshow(\n",
    "    mean_loss_increase,\n",
    "    facet_col=0,\n",
    "    facet_labels=[\"Only keep projection\", \"Only keep perpendicular component\", \"Ablate entirely\"],\n",
    "    text_auto=\".2f\",\n",
    "    title=\"Change in loss from projecting\",\n",
    "    width=1400,\n",
    "    height=600,\n",
    "    static=True,\n",
    ")"
   ]
  },
  {
   "cell_type": "code",
   "execution_count": null,
   "metadata": {},
   "outputs": [],
   "source": []
  }
 ],
 "metadata": {
  "kernelspec": {
   "display_name": "Python 3",
   "language": "python",
   "name": "python3"
  },
  "language_info": {
   "codemirror_mode": {
    "name": "ipython",
    "version": 3
   },
   "file_extension": ".py",
   "mimetype": "text/x-python",
   "name": "python",
   "nbconvert_exporter": "python",
   "pygments_lexer": "ipython3",
   "version": "3.8.10"
  },
  "orig_nbformat": 4
 },
 "nbformat": 4,
 "nbformat_minor": 2
}
