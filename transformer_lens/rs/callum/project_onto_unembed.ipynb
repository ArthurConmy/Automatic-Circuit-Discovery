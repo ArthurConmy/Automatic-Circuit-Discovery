{
 "cells": [
  {
   "attachments": {},
   "cell_type": "markdown",
   "metadata": {},
   "source": [
    "# Setup"
   ]
  },
  {
   "cell_type": "code",
   "execution_count": 1,
   "metadata": {},
   "outputs": [],
   "source": [
    "from transformer_lens.cautils.notebook import *\n",
    "\n",
    "from transformer_lens.rs.callum.keys_fixed import (\n",
    "    project,\n",
    "    get_effective_embedding_2,\n",
    ")\n",
    "\n",
    "from transformer_lens.rs.callum.orthogonal_query_investigation import (\n",
    "    decompose_attn_scores_full,\n",
    "    create_fucking_massive_plot_1,\n",
    "    create_fucking_massive_plot_2,\n",
    "    token_to_qperp_projection\n",
    ")\n",
    "\n",
    "clear_output()"
   ]
  },
  {
   "cell_type": "code",
   "execution_count": 2,
   "metadata": {},
   "outputs": [],
   "source": [
    "model = HookedTransformer.from_pretrained(\n",
    "    \"gpt2-small\",\n",
    "    center_unembed=True,\n",
    "    center_writing_weights=True,\n",
    "    fold_ln=True,\n",
    "    # refactor_factored_attn_matrices=True,\n",
    ")\n",
    "model.set_use_split_qkv_input(True)\n",
    "model.set_use_attn_result(True)\n",
    "# model.set_use_split_qkv_normalized_input(False)\n",
    "# model.cfg.use_hook_tokens = True\n",
    "# model.use_hook_\n",
    "\n",
    "clear_output()\n",
    "\n",
    "# sudo pkill -9 python"
   ]
  },
  {
   "cell_type": "code",
   "execution_count": 3,
   "metadata": {},
   "outputs": [],
   "source": [
    "effective_embeddings = get_effective_embedding_2(model)\n",
    "\n",
    "W_EE = effective_embeddings['W_E (including MLPs)']\n",
    "W_EE0 = effective_embeddings['W_E (only MLPs)']\n",
    "W_E = model.W_E\n",
    "W_EE0A = W_EE - W_E\n",
    "\n",
    "# Define an easier-to-use dict!\n",
    "effective_embeddings = {\"W_EE\": W_EE, \"W_EE0\": W_EE0, \"W_E\": W_E, \"W_EE0A\": W_EE - W_E}"
   ]
  },
  {
   "attachments": {},
   "cell_type": "markdown",
   "metadata": {},
   "source": [
    "# Part 1\n",
    "\n",
    "I want to calculate, for a given head and a given input, the weighted average amount that this head suppresses the logits of tokens that it attends to (if you just take the component of its output in the unembedding direction of the token it attends to).\n",
    "\n",
    "I do this by the following method:\n",
    "\n",
    "* After `v` is calculated, I calculate `result_pre_attn`, which is actually the thing you get by applying `W_O` first, i.e. before taking a weighted average of `z` in accordance with the attention probabilities. In other words, `result_pre_attn` has shape `(batch, seqK, d_model)`, and it contains the vectors which will get moved from the source position `seqK` to the destination positions if it's paid 100% attention to.\n",
    "    * I then calculate `result_pre_attn_projected`, by projecting `result_pre_attn` onto the unembedding directions for that particular source token. This still has shape `(batch, seqK, d_model)`.\n",
    "* At the attention patterns, I cache them in the result hook.\n",
    "* At the results, I get `result_post_attn_projected`, which has shape `(batch, seqQ, d_model)`, which are the actual (projections of) vectors that will be added to the residual stream at the destination positions `seqQ`.\n",
    "* At the scale, I can scale these `result_post_attn_projected` vectors, and then convert them into logits, and calculate a weighted average of how much they suppress the logits of the tokens attended to (i.e. sumproduct of `amount_seqK_token_suppressed_at_seqQ * attn_from_seqQ_to_seqK`)."
   ]
  },
  {
   "cell_type": "code",
   "execution_count": 4,
   "metadata": {},
   "outputs": [],
   "source": [
    "def hook_fn_cache_new_result_projections(\n",
    "    v: Float[Tensor, \"batch seq n_heads d_head\"],\n",
    "    hook: HookPoint,\n",
    "    toks: Int[Tensor, \"batch seq\"],\n",
    "    model: HookedTransformer,\n",
    "    head_idx: int,\n",
    "):\n",
    "    '''\n",
    "    Hook function to compute the projections of the vectors which will be moved from each source position.\n",
    "\n",
    "    This doesn't change the values; it just stores some stuff in context.\n",
    "    '''\n",
    "    # Calculate the result (pre taking weighted average from attn) by multiplying the attn scores by the values\n",
    "    result_pre_attn = einops.einsum(v[:, :, head_idx], model.W_O[hook.layer(), head_idx], \"batch seq d_head, d_head d_model -> batch seq d_model\")\n",
    "    token_unembeddings = model.W_U.T[toks]\n",
    "\n",
    "    # The result_projected tensor tells us, for each source token, what is the vector that will get moved from source \n",
    "    # to destination (after projecting it onto the source unembedding)\n",
    "    result_pre_attn_projected, result_pre_attn_perpendicular = project(result_pre_attn, token_unembeddings)\n",
    "\n",
    "    result_hook = model.hook_dict[utils.get_act_name(\"result\", hook.layer())]\n",
    "    result_hook.ctx[\"result_pre_attn_projected\"] = result_pre_attn_projected\n",
    "\n",
    "\n",
    "\n",
    "def hook_fn_cache_attn(\n",
    "    pattern: Float[Tensor, \"batch n_heads seqQ seqK\"],\n",
    "    hook: HookPoint,\n",
    "    model: HookedTransformer,\n",
    "    head_idx: int,\n",
    "):\n",
    "    result_hook = model.hook_dict[utils.get_act_name(\"result\", hook.layer())]\n",
    "    result_hook.ctx[\"pattern\"] = pattern[:, head_idx]\n",
    "\n",
    "\n",
    "\n",
    "def hook_fn_take_weighted_avg(\n",
    "    result: Float[Tensor, \"batch seq n_heads d_head\"],\n",
    "    hook: HookPoint,\n",
    "    model: HookedTransformer,\n",
    "):\n",
    "    '''\n",
    "    Now that `hook_fn_cache_new_result_projections` has cached the (pre-attention) results, we can now use the actual\n",
    "    attention pattern to take linear combination of new results.\n",
    "    '''\n",
    "    # TODO - if I'm not using `result`, then just move this hook fn logic into the hook I add to `scale` below.\n",
    "    \n",
    "    result_hook = model.hook_dict[utils.get_act_name(\"result\", hook.layer())]\n",
    "\n",
    "    result_pre_attn_projected = result_hook.ctx.pop(\"result_pre_attn_projected\")\n",
    "    pattern = result_hook.ctx[\"pattern\"]\n",
    "\n",
    "    # The new result_projected tensor tells us, for each source token AND destination token, what is the vector that actually \n",
    "    # gets moved from source to destination (after projecting it onto the source unembedding)\n",
    "    result_post_attn_projected = einops.einsum(\n",
    "        result_pre_attn_projected, pattern,\n",
    "        \"batch seqK d_model, batch seqQ seqK -> batch seqQ d_model\",\n",
    "    )\n",
    "    result_hook.ctx[\"result_post_attn_projected\"] = result_post_attn_projected\n",
    "\n",
    "\n",
    "\n",
    "def hook_fn_calculate_logit_diff(\n",
    "    scale: Float[Tensor, \"batch seq 1\"],\n",
    "    hook: HookPoint,\n",
    "    toks: Int[Tensor, \"batch seq\"],\n",
    "    model: HookedTransformer,\n",
    "    layer: int,\n",
    "):\n",
    "    '''\n",
    "    Note on how we deal with BOS, because it's too long to fit in a comment.\n",
    "\n",
    "    We don't care about the predictions made by BOS tokens, so we want to zero attention whenever destination = BOS.\n",
    "    We also don't care about attending to BOS tokens, so we want to zero attention whenever source = BOS.\n",
    "    \n",
    "    The thing we divide each of the (batch, seqQ) token scores by is the sum of attention over keys.\n",
    "    The thing we divide each of the (batch,) sequence scores by is the sum of attention over keys and queries.\n",
    "    '''\n",
    "    assert isinstance(toks, Int[Tensor, \"batch seq\"])\n",
    "    batch_size, seq_len = toks.shape\n",
    "\n",
    "    # Check BOS is at start (this matters!)\n",
    "    assert t.all(toks[:, 0] == model.tokenizer.bos_token_id)\n",
    "\n",
    "    # Get change in attn result from the context of the result hook\n",
    "    result_hook = model.hook_dict[utils.get_act_name(\"result\", layer)]\n",
    "\n",
    "    result_post_attn_projected = result_hook.ctx.pop(\"result_post_attn_projected\")\n",
    "    pattern = result_hook.ctx.pop(\"pattern\")\n",
    "    \n",
    "    # Scale the change\n",
    "    result_post_attn_projected_scaled = (result_post_attn_projected - result_post_attn_projected.mean(-1, keepdims=True)) / scale\n",
    "\n",
    "    # Calculate weighted average of how much each source token is suppressed\n",
    "    token_unembeddings = model.W_U.T[toks]\n",
    "    all_logit_suppression = einops.einsum(\n",
    "        result_post_attn_projected_scaled, token_unembeddings,\n",
    "        \"batch seqQ d_model, batch seqK d_model -> batch seqQ seqK\",\n",
    "    )\n",
    "    # The [i, q, k]-th elem is how much (in sequence i, destination position j) each of the source tokens' (k) logits are directly affected\n",
    "    # I now take a weighted average of this, over the attention paid to source tokens\n",
    "    is_not_bos_2d_mask = (toks != model.tokenizer.bos_token_id).float()\n",
    "    is_not_bos_3d_mask = einops.einsum(is_not_bos_2d_mask, is_not_bos_2d_mask, \"batch seqQ, batch seqK -> batch seqQ seqK\")\n",
    "    is_not_self_3d_mask = 1.0 - einops.repeat(t.eye(seq_len).to(device), \"seqQ seqK -> batch seqQ seqK\", batch=batch_size).float()\n",
    "    full_mask = is_not_self_3d_mask * is_not_bos_3d_mask\n",
    "    pattern_non_bos = pattern * full_mask # is_not_bos_3d_mask\n",
    "\n",
    "    # We don't want to divide by anything per dest. If a dest token only attends to BOS, we don't want to reweight - we don't care about that dest!\n",
    "    weighted_avg_logit_suppression_per_dest = einops.einsum(\n",
    "        all_logit_suppression, pattern_non_bos,\n",
    "        \"batch seqQ seqK, batch seqQ seqK -> batch seqQ\",\n",
    "    )\n",
    "\n",
    "    # We do want to renormalize per sequence, by dividing by the total attention we're summing over.\n",
    "    non_bos_attn_per_seq = pattern_non_bos.sum((-1, -2))\n",
    "    weighted_avg_logit_suppression_per_seq = einops.einsum(\n",
    "        all_logit_suppression, pattern_non_bos,\n",
    "        \"batch seqQ seqK, batch seqQ seqK -> batch\",\n",
    "    ) / non_bos_attn_per_seq\n",
    "\n",
    "    hook.ctx[\"weighted_avg_logit_suppression\"] = {\n",
    "        \"per_position\": weighted_avg_logit_suppression_per_dest,\n",
    "        \"per_sequence\": weighted_avg_logit_suppression_per_seq,\n",
    "        \"pattern_non_bos\": pattern_non_bos\n",
    "    }\n",
    "\n",
    "\n",
    "\n",
    "def compute_weighted_avg_logit_suppression(\n",
    "    model: HookedTransformer,\n",
    "    toks: Int[Tensor, \"batch seq\"],\n",
    "    head: Tuple[int, int],\n",
    "):\n",
    "    layer, head_idx = head\n",
    "\n",
    "    model.reset_hooks(including_permanent=True)\n",
    "    model.run_with_hooks(\n",
    "        toks,\n",
    "        return_type = None,\n",
    "        fwd_hooks = [\n",
    "            (utils.get_act_name(\"v\", layer), partial(hook_fn_cache_new_result_projections, toks=toks, model=model, head_idx=head_idx)),\n",
    "            (utils.get_act_name(\"pattern\", layer), partial(hook_fn_cache_attn, model=model, head_idx=head_idx)),\n",
    "            (utils.get_act_name(\"result\", layer), partial(hook_fn_take_weighted_avg, model=model)),\n",
    "            (utils.get_act_name(\"scale\"), partial(hook_fn_calculate_logit_diff, toks=toks, model=model, layer=layer)),\n",
    "        ]\n",
    "    )\n",
    "\n",
    "    results = model.hook_dict[utils.get_act_name(\"scale\")].ctx.pop(\"weighted_avg_logit_suppression\")\n",
    "    return results"
   ]
  },
  {
   "attachments": {},
   "cell_type": "markdown",
   "metadata": {},
   "source": [
    "### Test my function\n",
    "\n",
    "I'm going to take a standard sentence from the IOI distribution, and run my function on it. I should find that:\n",
    "\n",
    "* For head `10.7`, the amount of suppression when `seqQ` is the position of the IO token is about the same as the head's direct output projected in the IO direction (i.e. very negative).\n",
    "* For head `9.9`, for similar reasons, it should be very positive."
   ]
  },
  {
   "cell_type": "code",
   "execution_count": 25,
   "metadata": {},
   "outputs": [
    {
     "data": {
      "application/vnd.plotly.v1+json": {
       "config": {
        "plotlyServerURL": "https://plot.ly"
       },
       "data": [
        {
         "coloraxis": "coloraxis",
         "hovertemplate": "x: %{x}<br>y: %{y}<br>color: %{z}<extra></extra>",
         "name": "0",
         "text": [
          [
           "",
           "Then",
           ",",
           " Sarah",
           " and",
           " Arthur",
           " had",
           " a",
           " lot",
           " of",
           " fun",
           " at",
           " the",
           " hospital",
           ".",
           " Arthur",
           " gave",
           " a",
           " bone",
           " to",
           " Sarah",
           "",
           "*"
          ],
          [
           "",
           "Then",
           ",",
           " Arthur",
           " and",
           " Ruby",
           " had",
           " a",
           " long",
           " argument",
           ",",
           " and",
           " afterwards",
           " Ruby",
           " said",
           " to",
           " Arthur",
           "",
           "",
           "",
           "",
           "",
           "*"
          ],
          [
           "",
           "Then",
           ",",
           " Arthur",
           " and",
           " Jacob",
           " had",
           " a",
           " lot",
           " of",
           " fun",
           " at",
           " the",
           " office",
           ".",
           " Jacob",
           " gave",
           " a",
           " basketball",
           " to",
           " Arthur",
           "",
           "*"
          ],
          [
           "",
           "Then",
           ",",
           " Kate",
           " and",
           " Jonathan",
           " had",
           " a",
           " lot",
           " of",
           " fun",
           " at",
           " the",
           " hospital",
           ".",
           " Jonathan",
           " gave",
           " a",
           " ring",
           " to",
           " Kate",
           "",
           "*"
          ],
          [
           "",
           "When",
           " Adam",
           " and",
           " Luke",
           " got",
           " a",
           " ring",
           " at",
           " the",
           " house",
           ",",
           " Adam",
           " decided",
           " to",
           " give",
           " it",
           " to",
           " Luke",
           "",
           "",
           "",
           "*"
          ],
          [
           "",
           "Then",
           ",",
           " Tyler",
           " and",
           " Kevin",
           " had",
           " a",
           " long",
           " argument",
           ",",
           " and",
           " afterwards",
           " Tyler",
           " said",
           " to",
           " Kevin",
           "",
           "",
           "",
           "",
           "",
           "*"
          ],
          [
           "",
           "After",
           " Andrew",
           " and",
           " Collins",
           " went",
           " to",
           " the",
           " school",
           ",",
           " Collins",
           " gave",
           " a",
           " basketball",
           " to",
           " Andrew",
           "",
           "",
           "",
           "",
           "",
           "",
           "*"
          ],
          [
           "",
           "When",
           " Sullivan",
           " and",
           " Charles",
           " got",
           " a",
           " kiss",
           " at",
           " the",
           " station",
           ",",
           " Sullivan",
           " decided",
           " to",
           " give",
           " it",
           " to",
           " Charles",
           "",
           "",
           "",
           "*"
          ],
          [
           "",
           "Then",
           ",",
           " Graham",
           " and",
           " Laura",
           " were",
           " thinking",
           " about",
           " going",
           " to",
           " the",
           " garden",
           ".",
           " Laura",
           " wanted",
           " to",
           " give",
           " a",
           " computer",
           " to",
           " Graham",
           "*"
          ],
          [
           "",
           "Then",
           ",",
           " Frank",
           " and",
           " Robert",
           " had",
           " a",
           " lot",
           " of",
           " fun",
           " at",
           " the",
           " office",
           ".",
           " Robert",
           " gave",
           " a",
           " basketball",
           " to",
           " Frank",
           "",
           "*"
          ]
         ],
         "textfont": {
          "size": 12
         },
         "texttemplate": "%{text}",
         "type": "heatmap",
         "xaxis": "x",
         "yaxis": "y",
         "z": [
          [
           0,
           0,
           0.000007883263606345281,
           0.000010621504770824686,
           0.03747962415218353,
           0.0002972014481201768,
           0.0005863623810000718,
           0.000018370019461144693,
           0.000004134775281272596,
           0.00036383766564540565,
           0.000020005545593448915,
           0.002627041656523943,
           0.00010927232506219298,
           0.00009297809447161853,
           1.0372952222824097,
           0.0026141174603253603,
           2.1424882411956787,
           0.00029097951482981443,
           0.00013849786773789674,
           1.2348448038101196,
           0.003737614257261157,
           0,
           1.7285219430923462
          ],
          [
           0,
           0,
           0.000007883263606345281,
           0.000010816122994583566,
           0.011403050273656845,
           0.00003066654608119279,
           0.0006614467711187899,
           0.000015088672626006883,
           0.000009077235517906956,
           0.000036094352253712714,
           0.04639838635921478,
           2.5111043453216553,
           0.33353641629219055,
           0.00039195461431518197,
           0.01253238320350647,
           2.12959361076355,
           0.004338353406637907,
           0,
           0,
           0,
           0,
           0,
           1.9324944019317627
          ],
          [
           0,
           0,
           0.000007883263606345281,
           0.000010816122994583566,
           0.011403050273656845,
           0.00010179867240367457,
           0.0007423802744597197,
           0.000013804398804495577,
           0.00000510642712470144,
           0.00045602055615745485,
           0.000015031802831799723,
           0.002562672132626176,
           0.00007758204446872696,
           0.00003235347685404122,
           1.0509157180786133,
           0.0006928516668267548,
           1.6949491500854492,
           0.00011640155571512878,
           0.00034848618088290095,
           3.3077402114868164,
           0.01048242300748825,
           0,
           2.1632583141326904
          ],
          [
           0,
           0,
           0.000007883263606345281,
           0.0000055303853514487855,
           0.011091575026512146,
           0.00005404726107371971,
           0.0004861803608946502,
           0.00003037976784980856,
           0.0000049427894737164024,
           0.0004011410637758672,
           0.00001808312845241744,
           0.0036848036106675863,
           0.00010047148680314422,
           0.00007416028529405594,
           0.9837148785591125,
           0.0009564214269630611,
           1.4795076847076416,
           0.0001859742624219507,
           0.00013929397391621023,
           2.3009817600250244,
           0.015770990401506424,
           0,
           1.8115066289901733
          ],
          [
           0,
           0,
           0.000010617744919727556,
           0.007417363114655018,
           0.0000958025993895717,
           0.0005384159157983959,
           0.00001402252928528469,
           0.00013887669774703681,
           0.00069471076130867,
           0.00007796014688210562,
           0.00026338835596106946,
           0.5697023272514343,
           0.017344672232866287,
           0.012500310316681862,
           0.00022633804474025965,
           2.2234456539154053,
           0.002679919358342886,
           3.244690418243408,
           0.003792953211814165,
           0,
           0,
           0,
           2.1891090869903564
          ],
          [
           0,
           0,
           0.000007883263606345281,
           0.000006993353053985629,
           0.023105472326278687,
           0.00034583391970954835,
           0.0013333640526980162,
           0.000014888352779962588,
           0.00000859623742144322,
           0.0007841858896426857,
           0.13268552720546722,
           2.5662903785705566,
           0.4335964024066925,
           0.0073862504214048386,
           0.14046268165111542,
           3.7112860679626465,
           0.006133218761533499,
           0,
           0,
           0,
           0,
           0,
           2.2901930809020996
          ],
          [
           0,
           0,
           0.000013758643035544083,
           0.005585401318967342,
           0.000006857314474473242,
           0.00002454810237395577,
           0.0008723991923034191,
           0.00001749054172250908,
           0.00005645392957376316,
           0.8845983147621155,
           0.0004821892362087965,
           1.988259196281433,
           0.00010363660112489015,
           0.00006232172745512798,
           3.005387306213379,
           0.3064144551753998,
           0,
           0,
           0,
           0,
           0,
           0,
           2.403506278991699
          ],
          [
           0,
           0,
           0.000005469287316373084,
           0.006001760717481375,
           0.010594970546662807,
           0.001108969678170979,
           0.0001289442298002541,
           0.000542532536201179,
           0.0014540465781465173,
           0.000094417373475153,
           0.0000465574958070647,
           0.4195495843887329,
           0.00072532455669716,
           0.006742140278220177,
           0.00014964185538701713,
           3.5469887256622314,
           0.00017763147479854524,
           3.6394264698028564,
           0.0029171500355005264,
           0,
           0,
           0,
           2.764171600341797
          ],
          [
           0,
           0,
           0.000007883263606345281,
           0.000007367898433585651,
           0.0032033901661634445,
           0.00017436992493458092,
           0.00007003036444075406,
           0.00003667567943921313,
           0.0012597029563039541,
           0.000033248114050365984,
           0.0005312219145707786,
           0.000028237820515641943,
           0.00003077443761867471,
           0.6414757966995239,
           0.0008881313842721283,
           0.08509699255228043,
           0.0004990748129785061,
           0.6079171299934387,
           0.00019931013230234385,
           0.00018575892318040133,
           1.6925311088562012,
           0.014098613522946835,
           1.2064582109451294
          ],
          [
           0,
           0,
           0.000007883263606345281,
           0.000009886952284432482,
           0.00592498853802681,
           0.00013016659067943692,
           0.0002511127677280456,
           0.000009530105671728961,
           0.000008981876817415468,
           0.0004671433998737484,
           0.000014954517610021867,
           0.0013526370748877525,
           0.00008371313742827624,
           0.00003905744961230084,
           0.8930476307868958,
           0.003675499465316534,
           2.2563791275024414,
           0.00013385449710767716,
           0.0003589679254218936,
           3.3620550632476807,
           0.02085341140627861,
           0,
           2.454355478286743
          ]
         ]
        }
       ],
       "frames": [
        {
         "data": [
          {
           "coloraxis": "coloraxis",
           "name": "0",
           "type": "heatmap",
           "z": [
            [
             0,
             0,
             0.000007883263606345281,
             0.000010621504770824686,
             0.03747962415218353,
             0.0002972014481201768,
             0.0005863623810000718,
             0.000018370019461144693,
             0.000004134775281272596,
             0.00036383766564540565,
             0.000020005545593448915,
             0.002627041656523943,
             0.00010927232506219298,
             0.00009297809447161853,
             1.0372952222824097,
             0.0026141174603253603,
             2.1424882411956787,
             0.00029097951482981443,
             0.00013849786773789674,
             1.2348448038101196,
             0.003737614257261157,
             0,
             1.7285219430923462
            ],
            [
             0,
             0,
             0.000007883263606345281,
             0.000010816122994583566,
             0.011403050273656845,
             0.00003066654608119279,
             0.0006614467711187899,
             0.000015088672626006883,
             0.000009077235517906956,
             0.000036094352253712714,
             0.04639838635921478,
             2.5111043453216553,
             0.33353641629219055,
             0.00039195461431518197,
             0.01253238320350647,
             2.12959361076355,
             0.004338353406637907,
             0,
             0,
             0,
             0,
             0,
             1.9324944019317627
            ],
            [
             0,
             0,
             0.000007883263606345281,
             0.000010816122994583566,
             0.011403050273656845,
             0.00010179867240367457,
             0.0007423802744597197,
             0.000013804398804495577,
             0.00000510642712470144,
             0.00045602055615745485,
             0.000015031802831799723,
             0.002562672132626176,
             0.00007758204446872696,
             0.00003235347685404122,
             1.0509157180786133,
             0.0006928516668267548,
             1.6949491500854492,
             0.00011640155571512878,
             0.00034848618088290095,
             3.3077402114868164,
             0.01048242300748825,
             0,
             2.1632583141326904
            ],
            [
             0,
             0,
             0.000007883263606345281,
             0.0000055303853514487855,
             0.011091575026512146,
             0.00005404726107371971,
             0.0004861803608946502,
             0.00003037976784980856,
             0.0000049427894737164024,
             0.0004011410637758672,
             0.00001808312845241744,
             0.0036848036106675863,
             0.00010047148680314422,
             0.00007416028529405594,
             0.9837148785591125,
             0.0009564214269630611,
             1.4795076847076416,
             0.0001859742624219507,
             0.00013929397391621023,
             2.3009817600250244,
             0.015770990401506424,
             0,
             1.8115066289901733
            ],
            [
             0,
             0,
             0.000010617744919727556,
             0.007417363114655018,
             0.0000958025993895717,
             0.0005384159157983959,
             0.00001402252928528469,
             0.00013887669774703681,
             0.00069471076130867,
             0.00007796014688210562,
             0.00026338835596106946,
             0.5697023272514343,
             0.017344672232866287,
             0.012500310316681862,
             0.00022633804474025965,
             2.2234456539154053,
             0.002679919358342886,
             3.244690418243408,
             0.003792953211814165,
             0,
             0,
             0,
             2.1891090869903564
            ],
            [
             0,
             0,
             0.000007883263606345281,
             0.000006993353053985629,
             0.023105472326278687,
             0.00034583391970954835,
             0.0013333640526980162,
             0.000014888352779962588,
             0.00000859623742144322,
             0.0007841858896426857,
             0.13268552720546722,
             2.5662903785705566,
             0.4335964024066925,
             0.0073862504214048386,
             0.14046268165111542,
             3.7112860679626465,
             0.006133218761533499,
             0,
             0,
             0,
             0,
             0,
             2.2901930809020996
            ],
            [
             0,
             0,
             0.000013758643035544083,
             0.005585401318967342,
             0.000006857314474473242,
             0.00002454810237395577,
             0.0008723991923034191,
             0.00001749054172250908,
             0.00005645392957376316,
             0.8845983147621155,
             0.0004821892362087965,
             1.988259196281433,
             0.00010363660112489015,
             0.00006232172745512798,
             3.005387306213379,
             0.3064144551753998,
             0,
             0,
             0,
             0,
             0,
             0,
             2.403506278991699
            ],
            [
             0,
             0,
             0.000005469287316373084,
             0.006001760717481375,
             0.010594970546662807,
             0.001108969678170979,
             0.0001289442298002541,
             0.000542532536201179,
             0.0014540465781465173,
             0.000094417373475153,
             0.0000465574958070647,
             0.4195495843887329,
             0.00072532455669716,
             0.006742140278220177,
             0.00014964185538701713,
             3.5469887256622314,
             0.00017763147479854524,
             3.6394264698028564,
             0.0029171500355005264,
             0,
             0,
             0,
             2.764171600341797
            ],
            [
             0,
             0,
             0.000007883263606345281,
             0.000007367898433585651,
             0.0032033901661634445,
             0.00017436992493458092,
             0.00007003036444075406,
             0.00003667567943921313,
             0.0012597029563039541,
             0.000033248114050365984,
             0.0005312219145707786,
             0.000028237820515641943,
             0.00003077443761867471,
             0.6414757966995239,
             0.0008881313842721283,
             0.08509699255228043,
             0.0004990748129785061,
             0.6079171299934387,
             0.00019931013230234385,
             0.00018575892318040133,
             1.6925311088562012,
             0.014098613522946835,
             1.2064582109451294
            ],
            [
             0,
             0,
             0.000007883263606345281,
             0.000009886952284432482,
             0.00592498853802681,
             0.00013016659067943692,
             0.0002511127677280456,
             0.000009530105671728961,
             0.000008981876817415468,
             0.0004671433998737484,
             0.000014954517610021867,
             0.0013526370748877525,
             0.00008371313742827624,
             0.00003905744961230084,
             0.8930476307868958,
             0.003675499465316534,
             2.2563791275024414,
             0.00013385449710767716,
             0.0003589679254218936,
             3.3620550632476807,
             0.02085341140627861,
             0,
             2.454355478286743
            ]
           ]
          }
         ],
         "layout": {
          "coloraxis": {
           "cmid": 0,
           "colorscale": [
            [
             0,
             "rgb(103,0,31)"
            ],
            [
             0.1,
             "rgb(178,24,43)"
            ],
            [
             0.2,
             "rgb(214,96,77)"
            ],
            [
             0.3,
             "rgb(244,165,130)"
            ],
            [
             0.4,
             "rgb(253,219,199)"
            ],
            [
             0.5,
             "rgb(247,247,247)"
            ],
            [
             0.6,
             "rgb(209,229,240)"
            ],
            [
             0.7,
             "rgb(146,197,222)"
            ],
            [
             0.8,
             "rgb(67,147,195)"
            ],
            [
             0.9,
             "rgb(33,102,172)"
            ],
            [
             1,
             "rgb(5,48,97)"
            ]
           ]
          },
          "height": 800,
          "margin": {
           "t": 60
          },
          "width": 1600,
          "xaxis": {
           "constrain": "domain",
           "scaleanchor": "y"
          },
          "yaxis": {
           "autorange": "reversed",
           "constrain": "domain"
          }
         },
         "name": "0"
        },
        {
         "data": [
          {
           "coloraxis": "coloraxis",
           "name": "1",
           "type": "heatmap",
           "z": [
            [
             0,
             0,
             0.002936046104878187,
             0.0021358532831072807,
             0.09647946804761887,
             0.012382490560412407,
             0.02203386276960373,
             0.005288782529532909,
             0.0017905989661812782,
             0.015600929968059063,
             0.00570805836468935,
             0.05211442708969116,
             0.024249445647001266,
             0.014725235290825367,
             0.6735589504241943,
             0.061335690319538116,
             0.8073472380638123,
             0.031029997393488884,
             0.010883457958698273,
             0.6597167253494263,
             0.08267343044281006,
             0,
             0.11736321449279785
            ],
            [
             0,
             0,
             0.002936046104878187,
             0.00277425954118371,
             0.05320112034678459,
             0.005755149759352207,
             0.024719921872019768,
             0.004893590696156025,
             0.002576736267656088,
             0.008887306787073612,
             0.15201227366924286,
             0.8612977862358093,
             0.36945995688438416,
             0.029176343232393265,
             0.11561667919158936,
             0.8877935409545898,
             0.09213775396347046,
             0,
             0,
             0,
             0,
             0,
             0.11878357827663422
            ],
            [
             0,
             0,
             0.002936046104878187,
             0.00277425954118371,
             0.05320112034678459,
             0.009232845157384872,
             0.023863863199949265,
             0.004743415396660566,
             0.001914104912430048,
             0.01596030965447426,
             0.005166477058082819,
             0.04980349913239479,
             0.01976349949836731,
             0.008664796128869057,
             0.6214932799339294,
             0.03427228704094887,
             0.7897626161575317,
             0.02417546883225441,
             0.023459380492568016,
             0.9636767506599426,
             0.1560223549604416,
             0,
             0.12776756286621094
            ],
            [
             0,
             0,
             0.002936046104878187,
             0.0012302431277930737,
             0.05736972391605377,
             0.005480493884533644,
             0.018868615850806236,
             0.006053754594177008,
             0.001709487522020936,
             0.015272902324795723,
             0.005227626301348209,
             0.056427013128995895,
             0.02243141084909439,
             0.013154099695384502,
             0.653489351272583,
             0.03406817093491554,
             0.725509762763977,
             0.026421859860420227,
             0.015271274372935295,
             0.895143985748291,
             0.09212541580200195,
             0,
             0.12037233263254166
            ],
            [
             0,
             0,
             0.0018404137808829546,
             0.039443373680114746,
             0.007130214013159275,
             0.01429169811308384,
             0.003095769789069891,
             0.007902190089225769,
             0.019636891782283783,
             0.00941551011055708,
             0.01145003642886877,
             0.4521399140357971,
             0.22955408692359924,
             0.08106512576341629,
             0.022414060309529305,
             0.8336058855056763,
             0.04672737047076225,
             0.9550719261169434,
             0.04426077380776405,
             0,
             0,
             0,
             0.1263202428817749
            ],
            [
             0,
             0,
             0.002936046104878187,
             0.0016193294432014227,
             0.0684632882475853,
             0.014167392626404762,
             0.026045631617307663,
             0.004679881036281586,
             0.0023587560281157494,
             0.01989945024251938,
             0.20919083058834076,
             0.8571117520332336,
             0.39278268814086914,
             0.14914757013320923,
             0.27935728430747986,
             0.9837715029716492,
             0.055218324065208435,
             0,
             0,
             0,
             0,
             0,
             0.13939769566059113
            ],
            [
             0,
             0,
             0.0016490267589688301,
             0.037288863211870193,
             0.002003003843128681,
             0.0037828581407666206,
             0.01939392276108265,
             0.0038573690690100193,
             0.005810342729091644,
             0.5494143962860107,
             0.02567518688738346,
             0.7489806413650513,
             0.014141974039375782,
             0.009244927205145359,
             0.8626376986503601,
             0.29230797290802,
             0,
             0,
             0,
             0,
             0,
             0,
             0.11709946393966675
            ],
            [
             0,
             0,
             0.0011069924803450704,
             0.04519333690404892,
             0.057715412229299545,
             0.02041853964328766,
             0.007711702957749367,
             0.020904485136270523,
             0.02589547261595726,
             0.010743127204477787,
             0.0069428919814527035,
             0.42097944021224976,
             0.08170019090175629,
             0.05848822370171547,
             0.01685817539691925,
             0.9533071517944336,
             0.02043910138309002,
             0.9744384288787842,
             0.03988538309931755,
             0,
             0,
             0,
             0.12557855248451233
            ],
            [
             0,
             0,
             0.002936046104878187,
             0.0014828868443146348,
             0.03216969966888428,
             0.00870426744222641,
             0.008527725003659725,
             0.005300857126712799,
             0.025144852697849274,
             0.007877427153289318,
             0.024412276223301888,
             0.009731505997478962,
             0.006350775249302387,
             0.536287248134613,
             0.044065847992897034,
             0.2987350821495056,
             0.060273922979831696,
             0.5078214406967163,
             0.03181406110525131,
             0.01359893660992384,
             0.7432472705841064,
             0.1581491231918335,
             0.11484688520431519
            ],
            [
             0,
             0,
             0.002936046104878187,
             0.001797600882127881,
             0.03910086676478386,
             0.008091130293905735,
             0.015494966879487038,
             0.0037941699847579002,
             0.0019980096258223057,
             0.014918345026671886,
             0.004705045837908983,
             0.041211411356925964,
             0.020828992128372192,
             0.008913886733353138,
             0.5602825284004211,
             0.05619453638792038,
             0.7764543890953064,
             0.025161873549222946,
             0.02341802977025509,
             0.9289106130599976,
             0.1323951780796051,
             0,
             0.12120944261550903
            ]
           ]
          }
         ],
         "layout": {
          "coloraxis": {
           "cmid": 0,
           "colorscale": [
            [
             0,
             "rgb(103,0,31)"
            ],
            [
             0.1,
             "rgb(178,24,43)"
            ],
            [
             0.2,
             "rgb(214,96,77)"
            ],
            [
             0.3,
             "rgb(244,165,130)"
            ],
            [
             0.4,
             "rgb(253,219,199)"
            ],
            [
             0.5,
             "rgb(247,247,247)"
            ],
            [
             0.6,
             "rgb(209,229,240)"
            ],
            [
             0.7,
             "rgb(146,197,222)"
            ],
            [
             0.8,
             "rgb(67,147,195)"
            ],
            [
             0.9,
             "rgb(33,102,172)"
            ],
            [
             1,
             "rgb(5,48,97)"
            ]
           ]
          },
          "height": 800,
          "margin": {
           "t": 60
          },
          "width": 1600,
          "xaxis": {
           "constrain": "domain",
           "scaleanchor": "y"
          },
          "yaxis": {
           "autorange": "reversed",
           "constrain": "domain"
          }
         },
         "name": "1"
        },
        {
         "data": [
          {
           "coloraxis": "coloraxis",
           "name": "2",
           "type": "heatmap",
           "z": [
            [
             0,
             0,
             -0.0023078876547515392,
             -0.00040889272349886596,
             -0.5470337271690369,
             -0.001611651387065649,
             -0.002878605155274272,
             -0.002365401480346918,
             -0.00017451669555157423,
             -0.0026645041070878506,
             -0.0013447566889226437,
             -0.006610654294490814,
             -0.004803679417818785,
             -0.0035261439625173807,
             -1.0925604104995728,
             -0.008983618579804897,
             -2.0629494190216064,
             -0.024668682366609573,
             -0.0011439512018114328,
             -1.568842887878418,
             -0.014609340578317642,
             0,
             -1.0338010787963867
            ],
            [
             0,
             0,
             -0.0023078876547515392,
             -0.0003275095659773797,
             -0.41954219341278076,
             -0.0010159083176404238,
             -0.0034608161076903343,
             -0.0018979811575263739,
             -0.0029464997351169586,
             -0.0007692794897593558,
             -0.3149929642677307,
             -2.448777198791504,
             -0.7933416962623596,
             -0.003115300089120865,
             -0.04994012415409088,
             -2.6550233364105225,
             -0.027106285095214844,
             0,
             0,
             0,
             0,
             0,
             -1.3527799844741821
            ],
            [
             0,
             0,
             -0.0023078876547515392,
             -0.0003275095659773797,
             -0.41954219341278076,
             -0.0033975548576563597,
             -0.00308330194093287,
             -0.00250696181319654,
             -0.00018382181588094682,
             -0.0030492714140564203,
             -0.0013708423357456923,
             -0.007112013176083565,
             -0.005662641488015652,
             -0.002801228780299425,
             -1.2418348789215088,
             -0.01655668020248413,
             -2.552582263946533,
             -0.022035302594304085,
             -0.0014149642083793879,
             -3.2151944637298584,
             -0.022260397672653198,
             0,
             -1.3836195468902588
            ],
            [
             0,
             0,
             -0.0023078876547515392,
             -0.0001682559377513826,
             -0.23442652821540833,
             -0.0008674615528434515,
             -0.002955392235890031,
             -0.002437349408864975,
             -0.00018048263154923916,
             -0.002890585456043482,
             -0.0012553767301142216,
             -0.005531793460249901,
             -0.004582235123962164,
             -0.0029538478702306747,
             -0.6405630111694336,
             -0.008953973650932312,
             -1.8768742084503174,
             -0.02651439793407917,
             -0.007985386997461319,
             -3.220595121383667,
             -0.012436874210834503,
             0,
             -1.213233470916748
            ],
            [
             0,
             0,
             -0.000021453137378557585,
             -0.29367876052856445,
             -0.000298361323075369,
             -0.00040462063043378294,
             -0.000620192673522979,
             -0.0034997137263417244,
             -0.0054017179645597935,
             -0.013352287001907825,
             -0.004416193813085556,
             -0.8281417489051819,
             -0.006476344540715218,
             -0.005898677743971348,
             -0.006330110598355532,
             -1.2529858350753784,
             -0.0025627873837947845,
             -2.415553569793701,
             -0.004552168771624565,
             0,
             0,
             0,
             -1.1713286638259888
            ],
            [
             0,
             0,
             -0.0023078876547515392,
             -0.0001603734854143113,
             -0.881798505783081,
             -0.0011305781081318855,
             -0.004323076922446489,
             -0.002028399845585227,
             -0.0027301094960421324,
             -0.0005638774018734694,
             -0.3403938412666321,
             -2.399921178817749,
             -0.7649810910224915,
             -0.011880581267178059,
             -0.09253023564815521,
             -2.0664825439453125,
             -0.020427007228136063,
             0,
             0,
             0,
             0,
             0,
             -1.2635869979858398
            ],
            [
             0,
             0,
             -0.00003975212894147262,
             -0.004561863373965025,
             -0.0005962764262221754,
             -0.000059160989621886984,
             -0.002638415899127722,
             -0.0019502864452078938,
             -0.0014650722732767463,
             -0.924680233001709,
             -0.004316702950745821,
             -0.8686599731445312,
             -0.006250220350921154,
             -0.0032183160074055195,
             -1.9907480478286743,
             -0.799136221408844,
             0,
             0,
             0,
             0,
             0,
             0,
             -1.2071253061294556
            ],
            [
             0,
             0,
             -0.00015909603098407388,
             -0.1146116703748703,
             -0.05349898710846901,
             -0.0002208749792771414,
             -0.0004504975222516805,
             -0.002639534417539835,
             -0.008937091566622257,
             -0.005982109345495701,
             -0.0038040296640247107,
             -0.973734974861145,
             -0.026907244697213173,
             -0.01292053796350956,
             -0.03871772438287735,
             -1.801929235458374,
             -0.0012975584249943495,
             -2.3376803398132324,
             -0.013586746528744698,
             0,
             0,
             0,
             -1.188834309577942
            ],
            [
             0,
             0,
             -0.0023078876547515392,
             -0.00028294537332840264,
             -0.0651802271604538,
             -0.004162508994340897,
             -0.0009158706525340676,
             -0.0004783985496032983,
             -0.0059769791550934315,
             -0.0003095337888225913,
             -0.0031599844805896282,
             -0.0015385979786515236,
             -0.0016965247923508286,
             -0.9536293148994446,
             -0.014108804054558277,
             -0.5058834552764893,
             -0.0525551438331604,
             -0.9415642619132996,
             -0.06643904000520706,
             -0.004796545021235943,
             -2.2785189151763916,
             -0.015248214825987816,
             -0.8367384076118469
            ],
            [
             0,
             0,
             -0.0023078876547515392,
             -0.00021426068269647658,
             -0.09640798717737198,
             -0.00372209376655519,
             -0.0029439269565045834,
             -0.002361839869990945,
             -0.00018096048734150827,
             -0.0028102349024266005,
             -0.001328835147432983,
             -0.003492980031296611,
             -0.0049892086535692215,
             -0.002751825610175729,
             -1.531015396118164,
             -0.023339765146374702,
             -2.516415596008301,
             -0.026258457452058792,
             -0.0015694012399762869,
             -3.022552967071533,
             -0.015991335734725,
             0,
             -1.3606634140014648
            ]
           ]
          }
         ],
         "layout": {
          "coloraxis": {
           "cmid": 0,
           "colorscale": [
            [
             0,
             "rgb(103,0,31)"
            ],
            [
             0.1,
             "rgb(178,24,43)"
            ],
            [
             0.2,
             "rgb(214,96,77)"
            ],
            [
             0.3,
             "rgb(244,165,130)"
            ],
            [
             0.4,
             "rgb(253,219,199)"
            ],
            [
             0.5,
             "rgb(247,247,247)"
            ],
            [
             0.6,
             "rgb(209,229,240)"
            ],
            [
             0.7,
             "rgb(146,197,222)"
            ],
            [
             0.8,
             "rgb(67,147,195)"
            ],
            [
             0.9,
             "rgb(33,102,172)"
            ],
            [
             1,
             "rgb(5,48,97)"
            ]
           ]
          },
          "height": 800,
          "margin": {
           "t": 60
          },
          "width": 1600,
          "xaxis": {
           "constrain": "domain",
           "scaleanchor": "y"
          },
          "yaxis": {
           "autorange": "reversed",
           "constrain": "domain"
          }
         },
         "name": "2"
        },
        {
         "data": [
          {
           "coloraxis": "coloraxis",
           "name": "3",
           "type": "heatmap",
           "z": [
            [
             0,
             0,
             0.057365842163562775,
             0.025344792753458023,
             0.42303597927093506,
             0.08069668710231781,
             0.1108534187078476,
             0.13464640080928802,
             0.0313444510102272,
             0.16140812635421753,
             0.10309148579835892,
             0.16852179169654846,
             0.21293878555297852,
             0.12281658500432968,
             0.8612951040267944,
             0.28009891510009766,
             0.938862144947052,
             0.3082134425640106,
             0.03730301931500435,
             0.8975253105163574,
             0.21921952068805695,
             0,
             0.23520825803279877
            ],
            [
             0,
             0,
             0.057365842163562775,
             0.018460452556610107,
             0.36621221899986267,
             0.059682272374629974,
             0.10594906657934189,
             0.1139972135424614,
             0.10244618356227875,
             0.06095191463828087,
             0.552282452583313,
             0.9545595049858093,
             0.8308156132698059,
             0.15613725781440735,
             0.2953634560108185,
             0.9833125472068787,
             0.3133867383003235,
             0,
             0,
             0,
             0,
             0,
             0.22595103085041046
            ],
            [
             0,
             0,
             0.057365842163562775,
             0.018460452556610107,
             0.36621221899986267,
             0.11255601048469543,
             0.1084224060177803,
             0.13718834519386292,
             0.03288080170750618,
             0.16694171726703644,
             0.10296797007322311,
             0.1779177486896515,
             0.22505056858062744,
             0.127339169383049,
             0.8511893153190613,
             0.3633151948451996,
             0.961042582988739,
             0.27197107672691345,
             0.06912975013256073,
             0.9930910468101501,
             0.29430824518203735,
             0,
             0.24715231359004974
            ],
            [
             0,
             0,
             0.057365842163562775,
             0.015073653310537338,
             0.2820377051830292,
             0.059994980692863464,
             0.11151348054409027,
             0.13596339523792267,
             0.030922727659344673,
             0.15755648910999298,
             0.09611678123474121,
             0.15887320041656494,
             0.2136242687702179,
             0.11239791661500931,
             0.7753452658653259,
             0.27626144886016846,
             0.8431891798973083,
             0.30462074279785156,
             0.1583854854106903,
             0.9549327492713928,
             0.24619060754776,
             0,
             0.22683480381965637
            ],
            [
             0,
             0,
             0.003856276860460639,
             0.28395339846611023,
             0.030560027807950974,
             0.027760356664657593,
             0.04871996492147446,
             0.07843294739723206,
             0.11613865196704865,
             0.15639984607696533,
             0.1312621533870697,
             0.6867097616195679,
             0.2198013961315155,
             0.1474759727716446,
             0.16690516471862793,
             0.8303070068359375,
             0.12136347591876984,
             0.951216459274292,
             0.1347779631614685,
             0,
             0,
             0,
             0.1879836916923523
            ],
            [
             0,
             0,
             0.057365842163562775,
             0.01522779744118452,
             0.4560995101928711,
             0.06635209172964096,
             0.10523004829883575,
             0.11927377432584763,
             0.10205481946468353,
             0.05242228880524635,
             0.5067182779312134,
             0.9445651769638062,
             0.763015866279602,
             0.31857216358184814,
             0.3798132538795471,
             0.9759596586227417,
             0.3539539575576782,
             0,
             0,
             0,
             0,
             0,
             0.23711928725242615
            ],
            [
             0,
             0,
             0.0032081613317131996,
             0.04686758294701576,
             0.04689619690179825,
             0.009880310855805874,
             0.07881680876016617,
             0.1160334050655365,
             0.056746821850538254,
             0.7350777983665466,
             0.1614295095205307,
             0.7658929824829102,
             0.18560382723808289,
             0.0725829005241394,
             0.9463221430778503,
             0.592240571975708,
             0,
             0,
             0,
             0,
             0,
             0,
             0.17352724075317383
            ],
            [
             0,
             0,
             0.015349266119301319,
             0.191158726811409,
             0.15655073523521423,
             0.023110587149858475,
             0.0435316227376461,
             0.11843421310186386,
             0.11769232898950577,
             0.16532988846302032,
             0.08672086894512177,
             0.7664551734924316,
             0.25592565536499023,
             0.1798992156982422,
             0.2079828679561615,
             0.9445962905883789,
             0.07343524694442749,
             0.9734300374984741,
             0.2202046811580658,
             0,
             0,
             0,
             0.20635488629341125
            ],
            [
             0,
             0,
             0.057365842163562775,
             0.018244612962007523,
             0.1702837347984314,
             0.1333441585302353,
             0.06531835347414017,
             0.04690246656537056,
             0.16405212879180908,
             0.04259493947029114,
             0.11447294801473618,
             0.12604539096355438,
             0.09652416408061981,
             0.788403332233429,
             0.37945857644081116,
             0.6788026094436646,
             0.44450801610946655,
             0.8444696664810181,
             0.40162426233291626,
             0.09163400530815125,
             0.9570873975753784,
             0.2573477625846863,
             0.26720383763313293
            ],
            [
             0,
             0,
             0.057365842163562775,
             0.01641540601849556,
             0.20539100468158722,
             0.1347232460975647,
             0.10568557679653168,
             0.13057568669319153,
             0.031075093895196915,
             0.1569671779870987,
             0.09947032481431961,
             0.14714395999908447,
             0.21754448115825653,
             0.12325500696897507,
             0.8813481330871582,
             0.4550604820251465,
             0.9522739052772522,
             0.28983578085899353,
             0.07406008243560791,
             0.9927055835723877,
             0.2652167081832886,
             0,
             0.24255061149597168
            ]
           ]
          }
         ],
         "layout": {
          "coloraxis": {
           "cmid": 0,
           "colorscale": [
            [
             0,
             "rgb(103,0,31)"
            ],
            [
             0.1,
             "rgb(178,24,43)"
            ],
            [
             0.2,
             "rgb(214,96,77)"
            ],
            [
             0.3,
             "rgb(244,165,130)"
            ],
            [
             0.4,
             "rgb(253,219,199)"
            ],
            [
             0.5,
             "rgb(247,247,247)"
            ],
            [
             0.6,
             "rgb(209,229,240)"
            ],
            [
             0.7,
             "rgb(146,197,222)"
            ],
            [
             0.8,
             "rgb(67,147,195)"
            ],
            [
             0.9,
             "rgb(33,102,172)"
            ],
            [
             1,
             "rgb(5,48,97)"
            ]
           ]
          },
          "height": 800,
          "margin": {
           "t": 60
          },
          "width": 1600,
          "xaxis": {
           "constrain": "domain",
           "scaleanchor": "y"
          },
          "yaxis": {
           "autorange": "reversed",
           "constrain": "domain"
          }
         },
         "name": "3"
        },
        {
         "data": [
          {
           "coloraxis": "coloraxis",
           "name": "4",
           "type": "heatmap",
           "z": [
            [
             0,
             0,
             -0.02041848562657833,
             -0.025180118158459663,
             -0.030228137969970703,
             -0.06311909854412079,
             -0.049039628356695175,
             -0.03301776200532913,
             -0.03240703046321869,
             -0.031068477779626846,
             -0.026962531730532646,
             -0.03978395834565163,
             -0.02259649708867073,
             -0.018136506900191307,
             -0.03011753410100937,
             -0.03107951208949089,
             -0.025827553123235703,
             -0.022734690457582474,
             -0.010856891050934792,
             -0.031082499772310257,
             -0.03614615648984909,
             0,
             -0.0440465584397316
            ],
            [
             0,
             0,
             -0.02041848562657833,
             -0.007259481120854616,
             -0.058411404490470886,
             -0.03939679265022278,
             -0.03363829478621483,
             -0.023398378863930702,
             -0.022200722247362137,
             -0.021327363327145576,
             -0.026351744309067726,
             -0.0269662756472826,
             -0.038150615990161896,
             -0.04151291400194168,
             -0.026951272040605545,
             -0.028896786272525787,
             -0.03663558512926102,
             0,
             0,
             0,
             0,
             0,
             -0.04355386272072792
            ],
            [
             0,
             0,
             -0.02041848562657833,
             -0.007259481120854616,
             -0.058411404490470886,
             -0.039799660444259644,
             -0.03693367540836334,
             -0.025792239233851433,
             -0.029697468504309654,
             -0.02354760281741619,
             -0.022860053926706314,
             -0.029800202697515488,
             -0.018745427951216698,
             -0.018559981137514114,
             -0.026984453201293945,
             -0.020917553454637527,
             -0.023567475378513336,
             -0.021460535004734993,
             -0.01687338575720787,
             -0.02582140639424324,
             -0.029097959399223328,
             0,
             -0.03823966160416603
            ],
            [
             0,
             0,
             -0.02041848562657833,
             -0.010403875261545181,
             -0.044265829026699066,
             -0.09831351041793823,
             -0.05714508146047592,
             -0.03476449102163315,
             -0.032974231988191605,
             -0.02409583143889904,
             -0.03191753849387169,
             -0.025716440752148628,
             -0.019863761961460114,
             -0.017016420140862465,
             -0.021608086302876472,
             -0.038249511271715164,
             -0.018336830660700798,
             -0.021630387753248215,
             -0.02159244194626808,
             -0.02925070747733116,
             -0.03556017577648163,
             0,
             -0.04542085528373718
            ],
            [
             0,
             0,
             -0.006367289461195469,
             -0.06583832949399948,
             -0.0506511889398098,
             -0.026176709681749344,
             -0.03086814284324646,
             -0.028454525396227837,
             -0.04066673666238785,
             -0.02322416566312313,
             -0.028352608904242516,
             -0.04792087897658348,
             -0.0471109114587307,
             -0.05346430465579033,
             -0.03341741859912872,
             -0.03944491595029831,
             -0.026630312204360962,
             -0.05136238783597946,
             -0.03422275185585022,
             0,
             0,
             0,
             -0.0534852109849453
            ],
            [
             0,
             0,
             -0.02041848562657833,
             -0.007430750411003828,
             -0.05984338000416756,
             -0.04859146103262901,
             -0.05332507938146591,
             -0.033024150878190994,
             -0.030739804729819298,
             -0.028849175199866295,
             -0.04083988443017006,
             -0.04057840630412102,
             -0.05607280507683754,
             -0.057558197528123856,
             -0.04565051198005676,
             -0.04548552632331848,
             -0.05115729942917824,
             0,
             0,
             0,
             0,
             0,
             -0.058583520352840424
            ],
            [
             0,
             0,
             -0.005471721291542053,
             -0.03529331833124161,
             -0.05350630730390549,
             -0.025030260905623436,
             -0.02812294475734234,
             -0.025418030098080635,
             -0.023568257689476013,
             -0.03980255872011185,
             -0.05359739810228348,
             -0.03712080419063568,
             -0.028910592198371887,
             -0.03199061006307602,
             -0.03869068995118141,
             -0.05680427327752113,
             0,
             0,
             0,
             0,
             0,
             0,
             -0.05131302773952484
            ],
            [
             0,
             0,
             -0.07040515542030334,
             -0.012619233690202236,
             -0.04490320384502411,
             -0.022661995142698288,
             -0.027048973366618156,
             -0.034288499504327774,
             -0.028959307819604874,
             -0.020851632580161095,
             -0.017729775980114937,
             -0.03229266777634621,
             -0.03353722020983696,
             -0.02949368953704834,
             -0.02199408784508705,
             -0.028922954574227333,
             -0.010584479197859764,
             -0.029344609007239342,
             -0.023287953808903694,
             0,
             0,
             0,
             -0.03933378681540489
            ],
            [
             0,
             0,
             -0.02041848562657833,
             -0.008744903840124607,
             -0.04131866991519928,
             -0.06840741634368896,
             -0.034001752734184265,
             -0.045125942677259445,
             -0.041847389191389084,
             -0.0274386927485466,
             -0.029493827372789383,
             -0.032483719289302826,
             -0.01964471861720085,
             -0.03002411499619484,
             -0.04811786115169525,
             -0.03606148064136505,
             -0.028102120384573936,
             -0.03012654557824135,
             -0.024418123066425323,
             -0.014405963942408562,
             -0.03197775036096573,
             -0.041419435292482376,
             -0.048003122210502625
            ],
            [
             0,
             0,
             -0.02041848562657833,
             -0.008999206125736237,
             -0.03750777989625931,
             -0.06824801117181778,
             -0.05674634873867035,
             -0.03386799246072769,
             -0.034469012171030045,
             -0.027086716145277023,
             -0.03506064787507057,
             -0.029370244592428207,
             -0.02121131122112274,
             -0.0250212661921978,
             -0.025408487766981125,
             -0.036422111093997955,
             -0.027597935870289803,
             -0.0261661559343338,
             -0.019712936133146286,
             -0.03344815969467163,
             -0.03487538546323776,
             0,
             -0.04522259160876274
            ]
           ]
          }
         ],
         "layout": {
          "coloraxis": {
           "cmid": 0,
           "colorscale": [
            [
             0,
             "rgb(103,0,31)"
            ],
            [
             0.1,
             "rgb(178,24,43)"
            ],
            [
             0.2,
             "rgb(214,96,77)"
            ],
            [
             0.3,
             "rgb(244,165,130)"
            ],
            [
             0.4,
             "rgb(253,219,199)"
            ],
            [
             0.5,
             "rgb(247,247,247)"
            ],
            [
             0.6,
             "rgb(209,229,240)"
            ],
            [
             0.7,
             "rgb(146,197,222)"
            ],
            [
             0.8,
             "rgb(67,147,195)"
            ],
            [
             0.9,
             "rgb(33,102,172)"
            ],
            [
             1,
             "rgb(5,48,97)"
            ]
           ]
          },
          "height": 800,
          "margin": {
           "t": 60
          },
          "width": 1600,
          "xaxis": {
           "constrain": "domain",
           "scaleanchor": "y"
          },
          "yaxis": {
           "autorange": "reversed",
           "constrain": "domain"
          }
         },
         "name": "4"
        },
        {
         "data": [
          {
           "coloraxis": "coloraxis",
           "name": "5",
           "type": "heatmap",
           "z": [
            [
             0,
             0,
             0.3613833487033844,
             0.35032594203948975,
             0.4951396882534027,
             0.7555999755859375,
             0.779408872127533,
             0.6250300407409668,
             0.6963324546813965,
             0.7069841623306274,
             0.8405486941337585,
             0.8671185970306396,
             0.6656016111373901,
             0.6920986175537109,
             0.6434715390205383,
             0.8935180902481079,
             0.8885126709938049,
             0.7773884534835815,
             0.32735538482666016,
             0.8911918997764587,
             0.9064028263092041,
             0,
             0.5983369946479797
            ],
            [
             0,
             0,
             0.3613833487033844,
             0.11241678893566132,
             0.5413646697998047,
             0.628174901008606,
             0.7271105647087097,
             0.6111214756965637,
             0.6713238954544067,
             0.7410774230957031,
             0.8698557615280151,
             0.8019872903823853,
             0.845958948135376,
             0.9076489210128784,
             0.8516371846199036,
             0.8562281131744385,
             0.8395547866821289,
             0,
             0,
             0,
             0,
             0,
             0.4712201952934265
            ],
            [
             0,
             0,
             0.3613833487033844,
             0.11241678893566132,
             0.5413646697998047,
             0.6631264686584473,
             0.7488852739334106,
             0.6158475279808044,
             0.7130981683731079,
             0.7223930954933167,
             0.8545308113098145,
             0.8625569343566895,
             0.6583266258239746,
             0.8424208164215088,
             0.5737764835357666,
             0.8478927612304688,
             0.8426550626754761,
             0.7760882377624512,
             0.4822048842906952,
             0.884361982345581,
             0.8818385601043701,
             0,
             0.5902349352836609
            ],
            [
             0,
             0,
             0.3613833487033844,
             0.1499738097190857,
             0.4996548295021057,
             0.7637715935707092,
             0.7829271554946899,
             0.6283912062644958,
             0.6817585229873657,
             0.6971842050552368,
             0.8384595513343811,
             0.8567129373550415,
             0.697650134563446,
             0.6906650066375732,
             0.5842692852020264,
             0.848468542098999,
             0.8830041289329529,
             0.787399411201477,
             0.7376943826675415,
             0.9336913824081421,
             0.8555018901824951,
             0,
             0.6035709381103516
            ],
            [
             0,
             0,
             0.0668569877743721,
             0.3932126760482788,
             0.667682409286499,
             0.4523175060749054,
             0.574234127998352,
             0.584309458732605,
             0.8153042793273926,
             0.7223526239395142,
             0.7561500668525696,
             0.7972273826599121,
             0.8882044553756714,
             0.8973399996757507,
             0.8006538152694702,
             0.8943252563476562,
             0.8441271781921387,
             0.8935681581497192,
             0.8091225028038025,
             0,
             0,
             0,
             0.5389540791511536
            ],
            [
             0,
             0,
             0.3613833487033844,
             0.13258445262908936,
             0.5594763159751892,
             0.645206093788147,
             0.7709411382675171,
             0.5884277820587158,
             0.6186763048171997,
             0.7417929768562317,
             0.8344032764434814,
             0.8272286057472229,
             0.8946707248687744,
             0.9593909978866577,
             0.8655856251716614,
             0.8696776628494263,
             0.9063096642494202,
             0,
             0,
             0,
             0,
             0,
             0.48071616888046265
            ],
            [
             0,
             0,
             0.05888042971491814,
             0.6038557887077332,
             0.7478127479553223,
             0.5002630949020386,
             0.6833302974700928,
             0.5760514736175537,
             0.5419830083847046,
             0.8227365612983704,
             0.8785715103149414,
             0.8940932750701904,
             0.7252545356750488,
             0.5491608381271362,
             0.9215964674949646,
             0.9156118631362915,
             0,
             0,
             0,
             0,
             0,
             0,
             0.42814555764198303
            ],
            [
             0,
             0,
             0.4310322403907776,
             0.5363477468490601,
             0.719832181930542,
             0.47497522830963135,
             0.6081156730651855,
             0.7342431545257568,
             0.8273487091064453,
             0.7359735369682312,
             0.6111409664154053,
             0.806751012802124,
             0.9136016964912415,
             0.8661117553710938,
             0.7649356722831726,
             0.9218462705612183,
             0.7625737190246582,
             0.9087833166122437,
             0.8065520524978638,
             0,
             0,
             0,
             0.5650075078010559
            ],
            [
             0,
             0,
             0.3613833487033844,
             0.12629397213459015,
             0.5134739279747009,
             0.8075228929519653,
             0.5576906204223633,
             0.7887119650840759,
             0.8291336297988892,
             0.6984878778457642,
             0.758364200592041,
             0.6536468267440796,
             0.4424870014190674,
             0.584323525428772,
             0.9232739210128784,
             0.9043478965759277,
             0.8131313920021057,
             0.8986954689025879,
             0.7453950643539429,
             0.4489296078681946,
             0.9209429621696472,
             0.8391047120094299,
             0.6188791394233704
            ],
            [
             0,
             0,
             0.3613833487033844,
             0.1581665277481079,
             0.5885981321334839,
             0.7796889543533325,
             0.7844396233558655,
             0.6272842884063721,
             0.7186262011528015,
             0.701148509979248,
             0.8555688858032227,
             0.847734272480011,
             0.6626442670822144,
             0.8392699956893921,
             0.5638743042945862,
             0.8936030864715576,
             0.8775190114974976,
             0.7839739322662354,
             0.504377007484436,
             0.9003005027770996,
             0.8557270765304565,
             0,
             0.6047240495681763
            ]
           ]
          }
         ],
         "layout": {
          "coloraxis": {
           "cmid": 0,
           "colorscale": [
            [
             0,
             "rgb(103,0,31)"
            ],
            [
             0.1,
             "rgb(178,24,43)"
            ],
            [
             0.2,
             "rgb(214,96,77)"
            ],
            [
             0.3,
             "rgb(244,165,130)"
            ],
            [
             0.4,
             "rgb(253,219,199)"
            ],
            [
             0.5,
             "rgb(247,247,247)"
            ],
            [
             0.6,
             "rgb(209,229,240)"
            ],
            [
             0.7,
             "rgb(146,197,222)"
            ],
            [
             0.8,
             "rgb(67,147,195)"
            ],
            [
             0.9,
             "rgb(33,102,172)"
            ],
            [
             1,
             "rgb(5,48,97)"
            ]
           ]
          },
          "height": 800,
          "margin": {
           "t": 60
          },
          "width": 1600,
          "xaxis": {
           "constrain": "domain",
           "scaleanchor": "y"
          },
          "yaxis": {
           "autorange": "reversed",
           "constrain": "domain"
          }
         },
         "name": "5"
        }
       ],
       "layout": {
        "coloraxis": {
         "cmid": 0,
         "colorscale": [
          [
           0,
           "rgb(103,0,31)"
          ],
          [
           0.1,
           "rgb(178,24,43)"
          ],
          [
           0.2,
           "rgb(214,96,77)"
          ],
          [
           0.3,
           "rgb(244,165,130)"
          ],
          [
           0.4,
           "rgb(253,219,199)"
          ],
          [
           0.5,
           "rgb(247,247,247)"
          ],
          [
           0.6,
           "rgb(209,229,240)"
          ],
          [
           0.7,
           "rgb(146,197,222)"
          ],
          [
           0.8,
           "rgb(67,147,195)"
          ],
          [
           0.9,
           "rgb(33,102,172)"
          ],
          [
           1,
           "rgb(5,48,97)"
          ]
         ]
        },
        "height": 800,
        "margin": {
         "t": 60
        },
        "modebar": {
         "add": [
          "drawline",
          "drawopenpath",
          "drawclosedpath",
          "drawcircle",
          "drawrect",
          "eraseshape"
         ]
        },
        "sliders": [
         {
          "active": 0,
          "currentvalue": {
           "prefix": ""
          },
          "len": 0.9,
          "pad": {
           "b": 10,
           "t": 60
          },
          "steps": [
           {
            "args": [
             [
              "0"
             ],
             {
              "frame": {
               "duration": 0,
               "redraw": true
              },
              "fromcurrent": true,
              "mode": "immediate",
              "transition": {
               "duration": 0,
               "easing": "linear"
              }
             }
            ],
            "label": "9.9",
            "method": "animate"
           },
           {
            "args": [
             [
              "1"
             ],
             {
              "frame": {
               "duration": 0,
               "redraw": true
              },
              "fromcurrent": true,
              "mode": "immediate",
              "transition": {
               "duration": 0,
               "easing": "linear"
              }
             }
            ],
            "label": "9.9 probs",
            "method": "animate"
           },
           {
            "args": [
             [
              "2"
             ],
             {
              "frame": {
               "duration": 0,
               "redraw": true
              },
              "fromcurrent": true,
              "mode": "immediate",
              "transition": {
               "duration": 0,
               "easing": "linear"
              }
             }
            ],
            "label": "10.7",
            "method": "animate"
           },
           {
            "args": [
             [
              "3"
             ],
             {
              "frame": {
               "duration": 0,
               "redraw": true
              },
              "fromcurrent": true,
              "mode": "immediate",
              "transition": {
               "duration": 0,
               "easing": "linear"
              }
             }
            ],
            "label": "10.7 probs",
            "method": "animate"
           },
           {
            "args": [
             [
              "4"
             ],
             {
              "frame": {
               "duration": 0,
               "redraw": true
              },
              "fromcurrent": true,
              "mode": "immediate",
              "transition": {
               "duration": 0,
               "easing": "linear"
              }
             }
            ],
            "label": "11.0",
            "method": "animate"
           },
           {
            "args": [
             [
              "5"
             ],
             {
              "frame": {
               "duration": 0,
               "redraw": true
              },
              "fromcurrent": true,
              "mode": "immediate",
              "transition": {
               "duration": 0,
               "easing": "linear"
              }
             }
            ],
            "label": "11.0 probs",
            "method": "animate"
           }
          ],
          "x": 0.1,
          "xanchor": "left",
          "y": 0,
          "yanchor": "top"
         }
        ],
        "template": {
         "data": {
          "bar": [
           {
            "error_x": {
             "color": "#2a3f5f"
            },
            "error_y": {
             "color": "#2a3f5f"
            },
            "marker": {
             "line": {
              "color": "#E5ECF6",
              "width": 0.5
             },
             "pattern": {
              "fillmode": "overlay",
              "size": 10,
              "solidity": 0.2
             }
            },
            "type": "bar"
           }
          ],
          "barpolar": [
           {
            "marker": {
             "line": {
              "color": "#E5ECF6",
              "width": 0.5
             },
             "pattern": {
              "fillmode": "overlay",
              "size": 10,
              "solidity": 0.2
             }
            },
            "type": "barpolar"
           }
          ],
          "carpet": [
           {
            "aaxis": {
             "endlinecolor": "#2a3f5f",
             "gridcolor": "white",
             "linecolor": "white",
             "minorgridcolor": "white",
             "startlinecolor": "#2a3f5f"
            },
            "baxis": {
             "endlinecolor": "#2a3f5f",
             "gridcolor": "white",
             "linecolor": "white",
             "minorgridcolor": "white",
             "startlinecolor": "#2a3f5f"
            },
            "type": "carpet"
           }
          ],
          "choropleth": [
           {
            "colorbar": {
             "outlinewidth": 0,
             "ticks": ""
            },
            "type": "choropleth"
           }
          ],
          "contour": [
           {
            "colorbar": {
             "outlinewidth": 0,
             "ticks": ""
            },
            "colorscale": [
             [
              0,
              "#0d0887"
             ],
             [
              0.1111111111111111,
              "#46039f"
             ],
             [
              0.2222222222222222,
              "#7201a8"
             ],
             [
              0.3333333333333333,
              "#9c179e"
             ],
             [
              0.4444444444444444,
              "#bd3786"
             ],
             [
              0.5555555555555556,
              "#d8576b"
             ],
             [
              0.6666666666666666,
              "#ed7953"
             ],
             [
              0.7777777777777778,
              "#fb9f3a"
             ],
             [
              0.8888888888888888,
              "#fdca26"
             ],
             [
              1,
              "#f0f921"
             ]
            ],
            "type": "contour"
           }
          ],
          "contourcarpet": [
           {
            "colorbar": {
             "outlinewidth": 0,
             "ticks": ""
            },
            "type": "contourcarpet"
           }
          ],
          "heatmap": [
           {
            "colorbar": {
             "outlinewidth": 0,
             "ticks": ""
            },
            "colorscale": [
             [
              0,
              "#0d0887"
             ],
             [
              0.1111111111111111,
              "#46039f"
             ],
             [
              0.2222222222222222,
              "#7201a8"
             ],
             [
              0.3333333333333333,
              "#9c179e"
             ],
             [
              0.4444444444444444,
              "#bd3786"
             ],
             [
              0.5555555555555556,
              "#d8576b"
             ],
             [
              0.6666666666666666,
              "#ed7953"
             ],
             [
              0.7777777777777778,
              "#fb9f3a"
             ],
             [
              0.8888888888888888,
              "#fdca26"
             ],
             [
              1,
              "#f0f921"
             ]
            ],
            "type": "heatmap"
           }
          ],
          "heatmapgl": [
           {
            "colorbar": {
             "outlinewidth": 0,
             "ticks": ""
            },
            "colorscale": [
             [
              0,
              "#0d0887"
             ],
             [
              0.1111111111111111,
              "#46039f"
             ],
             [
              0.2222222222222222,
              "#7201a8"
             ],
             [
              0.3333333333333333,
              "#9c179e"
             ],
             [
              0.4444444444444444,
              "#bd3786"
             ],
             [
              0.5555555555555556,
              "#d8576b"
             ],
             [
              0.6666666666666666,
              "#ed7953"
             ],
             [
              0.7777777777777778,
              "#fb9f3a"
             ],
             [
              0.8888888888888888,
              "#fdca26"
             ],
             [
              1,
              "#f0f921"
             ]
            ],
            "type": "heatmapgl"
           }
          ],
          "histogram": [
           {
            "marker": {
             "pattern": {
              "fillmode": "overlay",
              "size": 10,
              "solidity": 0.2
             }
            },
            "type": "histogram"
           }
          ],
          "histogram2d": [
           {
            "colorbar": {
             "outlinewidth": 0,
             "ticks": ""
            },
            "colorscale": [
             [
              0,
              "#0d0887"
             ],
             [
              0.1111111111111111,
              "#46039f"
             ],
             [
              0.2222222222222222,
              "#7201a8"
             ],
             [
              0.3333333333333333,
              "#9c179e"
             ],
             [
              0.4444444444444444,
              "#bd3786"
             ],
             [
              0.5555555555555556,
              "#d8576b"
             ],
             [
              0.6666666666666666,
              "#ed7953"
             ],
             [
              0.7777777777777778,
              "#fb9f3a"
             ],
             [
              0.8888888888888888,
              "#fdca26"
             ],
             [
              1,
              "#f0f921"
             ]
            ],
            "type": "histogram2d"
           }
          ],
          "histogram2dcontour": [
           {
            "colorbar": {
             "outlinewidth": 0,
             "ticks": ""
            },
            "colorscale": [
             [
              0,
              "#0d0887"
             ],
             [
              0.1111111111111111,
              "#46039f"
             ],
             [
              0.2222222222222222,
              "#7201a8"
             ],
             [
              0.3333333333333333,
              "#9c179e"
             ],
             [
              0.4444444444444444,
              "#bd3786"
             ],
             [
              0.5555555555555556,
              "#d8576b"
             ],
             [
              0.6666666666666666,
              "#ed7953"
             ],
             [
              0.7777777777777778,
              "#fb9f3a"
             ],
             [
              0.8888888888888888,
              "#fdca26"
             ],
             [
              1,
              "#f0f921"
             ]
            ],
            "type": "histogram2dcontour"
           }
          ],
          "mesh3d": [
           {
            "colorbar": {
             "outlinewidth": 0,
             "ticks": ""
            },
            "type": "mesh3d"
           }
          ],
          "parcoords": [
           {
            "line": {
             "colorbar": {
              "outlinewidth": 0,
              "ticks": ""
             }
            },
            "type": "parcoords"
           }
          ],
          "pie": [
           {
            "automargin": true,
            "type": "pie"
           }
          ],
          "scatter": [
           {
            "fillpattern": {
             "fillmode": "overlay",
             "size": 10,
             "solidity": 0.2
            },
            "type": "scatter"
           }
          ],
          "scatter3d": [
           {
            "line": {
             "colorbar": {
              "outlinewidth": 0,
              "ticks": ""
             }
            },
            "marker": {
             "colorbar": {
              "outlinewidth": 0,
              "ticks": ""
             }
            },
            "type": "scatter3d"
           }
          ],
          "scattercarpet": [
           {
            "marker": {
             "colorbar": {
              "outlinewidth": 0,
              "ticks": ""
             }
            },
            "type": "scattercarpet"
           }
          ],
          "scattergeo": [
           {
            "marker": {
             "colorbar": {
              "outlinewidth": 0,
              "ticks": ""
             }
            },
            "type": "scattergeo"
           }
          ],
          "scattergl": [
           {
            "marker": {
             "colorbar": {
              "outlinewidth": 0,
              "ticks": ""
             }
            },
            "type": "scattergl"
           }
          ],
          "scattermapbox": [
           {
            "marker": {
             "colorbar": {
              "outlinewidth": 0,
              "ticks": ""
             }
            },
            "type": "scattermapbox"
           }
          ],
          "scatterpolar": [
           {
            "marker": {
             "colorbar": {
              "outlinewidth": 0,
              "ticks": ""
             }
            },
            "type": "scatterpolar"
           }
          ],
          "scatterpolargl": [
           {
            "marker": {
             "colorbar": {
              "outlinewidth": 0,
              "ticks": ""
             }
            },
            "type": "scatterpolargl"
           }
          ],
          "scatterternary": [
           {
            "marker": {
             "colorbar": {
              "outlinewidth": 0,
              "ticks": ""
             }
            },
            "type": "scatterternary"
           }
          ],
          "surface": [
           {
            "colorbar": {
             "outlinewidth": 0,
             "ticks": ""
            },
            "colorscale": [
             [
              0,
              "#0d0887"
             ],
             [
              0.1111111111111111,
              "#46039f"
             ],
             [
              0.2222222222222222,
              "#7201a8"
             ],
             [
              0.3333333333333333,
              "#9c179e"
             ],
             [
              0.4444444444444444,
              "#bd3786"
             ],
             [
              0.5555555555555556,
              "#d8576b"
             ],
             [
              0.6666666666666666,
              "#ed7953"
             ],
             [
              0.7777777777777778,
              "#fb9f3a"
             ],
             [
              0.8888888888888888,
              "#fdca26"
             ],
             [
              1,
              "#f0f921"
             ]
            ],
            "type": "surface"
           }
          ],
          "table": [
           {
            "cells": {
             "fill": {
              "color": "#EBF0F8"
             },
             "line": {
              "color": "white"
             }
            },
            "header": {
             "fill": {
              "color": "#C8D4E3"
             },
             "line": {
              "color": "white"
             }
            },
            "type": "table"
           }
          ]
         },
         "layout": {
          "annotationdefaults": {
           "arrowcolor": "#2a3f5f",
           "arrowhead": 0,
           "arrowwidth": 1
          },
          "autotypenumbers": "strict",
          "coloraxis": {
           "colorbar": {
            "outlinewidth": 0,
            "ticks": ""
           }
          },
          "colorscale": {
           "diverging": [
            [
             0,
             "#8e0152"
            ],
            [
             0.1,
             "#c51b7d"
            ],
            [
             0.2,
             "#de77ae"
            ],
            [
             0.3,
             "#f1b6da"
            ],
            [
             0.4,
             "#fde0ef"
            ],
            [
             0.5,
             "#f7f7f7"
            ],
            [
             0.6,
             "#e6f5d0"
            ],
            [
             0.7,
             "#b8e186"
            ],
            [
             0.8,
             "#7fbc41"
            ],
            [
             0.9,
             "#4d9221"
            ],
            [
             1,
             "#276419"
            ]
           ],
           "sequential": [
            [
             0,
             "#0d0887"
            ],
            [
             0.1111111111111111,
             "#46039f"
            ],
            [
             0.2222222222222222,
             "#7201a8"
            ],
            [
             0.3333333333333333,
             "#9c179e"
            ],
            [
             0.4444444444444444,
             "#bd3786"
            ],
            [
             0.5555555555555556,
             "#d8576b"
            ],
            [
             0.6666666666666666,
             "#ed7953"
            ],
            [
             0.7777777777777778,
             "#fb9f3a"
            ],
            [
             0.8888888888888888,
             "#fdca26"
            ],
            [
             1,
             "#f0f921"
            ]
           ],
           "sequentialminus": [
            [
             0,
             "#0d0887"
            ],
            [
             0.1111111111111111,
             "#46039f"
            ],
            [
             0.2222222222222222,
             "#7201a8"
            ],
            [
             0.3333333333333333,
             "#9c179e"
            ],
            [
             0.4444444444444444,
             "#bd3786"
            ],
            [
             0.5555555555555556,
             "#d8576b"
            ],
            [
             0.6666666666666666,
             "#ed7953"
            ],
            [
             0.7777777777777778,
             "#fb9f3a"
            ],
            [
             0.8888888888888888,
             "#fdca26"
            ],
            [
             1,
             "#f0f921"
            ]
           ]
          },
          "colorway": [
           "#636efa",
           "#EF553B",
           "#00cc96",
           "#ab63fa",
           "#FFA15A",
           "#19d3f3",
           "#FF6692",
           "#B6E880",
           "#FF97FF",
           "#FECB52"
          ],
          "font": {
           "color": "#2a3f5f"
          },
          "geo": {
           "bgcolor": "white",
           "lakecolor": "white",
           "landcolor": "#E5ECF6",
           "showlakes": true,
           "showland": true,
           "subunitcolor": "white"
          },
          "hoverlabel": {
           "align": "left"
          },
          "hovermode": "closest",
          "mapbox": {
           "style": "light"
          },
          "paper_bgcolor": "white",
          "plot_bgcolor": "#E5ECF6",
          "polar": {
           "angularaxis": {
            "gridcolor": "white",
            "linecolor": "white",
            "ticks": ""
           },
           "bgcolor": "#E5ECF6",
           "radialaxis": {
            "gridcolor": "white",
            "linecolor": "white",
            "ticks": ""
           }
          },
          "scene": {
           "xaxis": {
            "backgroundcolor": "#E5ECF6",
            "gridcolor": "white",
            "gridwidth": 2,
            "linecolor": "white",
            "showbackground": true,
            "ticks": "",
            "zerolinecolor": "white"
           },
           "yaxis": {
            "backgroundcolor": "#E5ECF6",
            "gridcolor": "white",
            "gridwidth": 2,
            "linecolor": "white",
            "showbackground": true,
            "ticks": "",
            "zerolinecolor": "white"
           },
           "zaxis": {
            "backgroundcolor": "#E5ECF6",
            "gridcolor": "white",
            "gridwidth": 2,
            "linecolor": "white",
            "showbackground": true,
            "ticks": "",
            "zerolinecolor": "white"
           }
          },
          "shapedefaults": {
           "line": {
            "color": "#2a3f5f"
           }
          },
          "ternary": {
           "aaxis": {
            "gridcolor": "white",
            "linecolor": "white",
            "ticks": ""
           },
           "baxis": {
            "gridcolor": "white",
            "linecolor": "white",
            "ticks": ""
           },
           "bgcolor": "#E5ECF6",
           "caxis": {
            "gridcolor": "white",
            "linecolor": "white",
            "ticks": ""
           }
          },
          "title": {
           "x": 0.05
          },
          "xaxis": {
           "automargin": true,
           "gridcolor": "white",
           "linecolor": "white",
           "ticks": "",
           "title": {
            "standoff": 15
           },
           "zerolinecolor": "white",
           "zerolinewidth": 2
          },
          "yaxis": {
           "automargin": true,
           "gridcolor": "white",
           "linecolor": "white",
           "ticks": "",
           "title": {
            "standoff": 15
           },
           "zerolinecolor": "white",
           "zerolinewidth": 2
          }
         }
        },
        "updatemenus": [
         {
          "buttons": [
           {
            "args": [
             null,
             {
              "frame": {
               "duration": 500,
               "redraw": true
              },
              "fromcurrent": true,
              "mode": "immediate",
              "transition": {
               "duration": 500,
               "easing": "linear"
              }
             }
            ],
            "label": "&#9654;",
            "method": "animate"
           },
           {
            "args": [
             [
              null
             ],
             {
              "frame": {
               "duration": 0,
               "redraw": true
              },
              "fromcurrent": true,
              "mode": "immediate",
              "transition": {
               "duration": 0,
               "easing": "linear"
              }
             }
            ],
            "label": "&#9724;",
            "method": "animate"
           }
          ],
          "direction": "left",
          "pad": {
           "r": 10,
           "t": 70
          },
          "showactive": false,
          "type": "buttons",
          "x": 0.1,
          "xanchor": "right",
          "y": 0,
          "yanchor": "top"
         }
        ],
        "width": 1600,
        "xaxis": {
         "anchor": "y",
         "constrain": "domain",
         "domain": [
          0,
          1
         ],
         "scaleanchor": "y"
        },
        "yaxis": {
         "anchor": "x",
         "autorange": "reversed",
         "constrain": "domain",
         "domain": [
          0,
          1
         ]
        }
       }
      },
      "text/html": [
       "<div>                            <div id=\"8d107c48-4436-465c-9757-1650e37d882f\" class=\"plotly-graph-div\" style=\"height:800px; width:1600px;\"></div>            <script type=\"text/javascript\">                require([\"plotly\"], function(Plotly) {                    window.PLOTLYENV=window.PLOTLYENV || {};                                    if (document.getElementById(\"8d107c48-4436-465c-9757-1650e37d882f\")) {                    Plotly.newPlot(                        \"8d107c48-4436-465c-9757-1650e37d882f\",                        [{\"coloraxis\":\"coloraxis\",\"name\":\"0\",\"z\":[[0.0,0.0,7.883263606345281e-06,1.0621504770824686e-05,0.03747962415218353,0.0002972014481201768,0.0005863623810000718,1.8370019461144693e-05,4.134775281272596e-06,0.00036383766564540565,2.0005545593448915e-05,0.002627041656523943,0.00010927232506219298,9.297809447161853e-05,1.0372952222824097,0.0026141174603253603,2.1424882411956787,0.00029097951482981443,0.00013849786773789674,1.2348448038101196,0.003737614257261157,0.0,1.7285219430923462],[0.0,0.0,7.883263606345281e-06,1.0816122994583566e-05,0.011403050273656845,3.066654608119279e-05,0.0006614467711187899,1.5088672626006883e-05,9.077235517906956e-06,3.6094352253712714e-05,0.04639838635921478,2.5111043453216553,0.33353641629219055,0.00039195461431518197,0.01253238320350647,2.12959361076355,0.004338353406637907,0.0,0.0,0.0,0.0,0.0,1.9324944019317627],[0.0,0.0,7.883263606345281e-06,1.0816122994583566e-05,0.011403050273656845,0.00010179867240367457,0.0007423802744597197,1.3804398804495577e-05,5.10642712470144e-06,0.00045602055615745485,1.5031802831799723e-05,0.002562672132626176,7.758204446872696e-05,3.235347685404122e-05,1.0509157180786133,0.0006928516668267548,1.6949491500854492,0.00011640155571512878,0.00034848618088290095,3.3077402114868164,0.01048242300748825,0.0,2.1632583141326904],[0.0,0.0,7.883263606345281e-06,5.5303853514487855e-06,0.011091575026512146,5.404726107371971e-05,0.0004861803608946502,3.037976784980856e-05,4.9427894737164024e-06,0.0004011410637758672,1.808312845241744e-05,0.0036848036106675863,0.00010047148680314422,7.416028529405594e-05,0.9837148785591125,0.0009564214269630611,1.4795076847076416,0.0001859742624219507,0.00013929397391621023,2.3009817600250244,0.015770990401506424,0.0,1.8115066289901733],[0.0,0.0,1.0617744919727556e-05,0.007417363114655018,9.58025993895717e-05,0.0005384159157983959,1.402252928528469e-05,0.00013887669774703681,0.00069471076130867,7.796014688210562e-05,0.00026338835596106946,0.5697023272514343,0.017344672232866287,0.012500310316681862,0.00022633804474025965,2.2234456539154053,0.002679919358342886,3.244690418243408,0.003792953211814165,0.0,0.0,0.0,2.1891090869903564],[0.0,0.0,7.883263606345281e-06,6.993353053985629e-06,0.023105472326278687,0.00034583391970954835,0.0013333640526980162,1.4888352779962588e-05,8.59623742144322e-06,0.0007841858896426857,0.13268552720546722,2.5662903785705566,0.4335964024066925,0.0073862504214048386,0.14046268165111542,3.7112860679626465,0.006133218761533499,0.0,0.0,0.0,0.0,0.0,2.2901930809020996],[0.0,0.0,1.3758643035544083e-05,0.005585401318967342,6.857314474473242e-06,2.454810237395577e-05,0.0008723991923034191,1.749054172250908e-05,5.645392957376316e-05,0.8845983147621155,0.0004821892362087965,1.988259196281433,0.00010363660112489015,6.232172745512798e-05,3.005387306213379,0.3064144551753998,0.0,0.0,0.0,0.0,0.0,0.0,2.403506278991699],[0.0,0.0,5.469287316373084e-06,0.006001760717481375,0.010594970546662807,0.001108969678170979,0.0001289442298002541,0.000542532536201179,0.0014540465781465173,9.4417373475153e-05,4.65574958070647e-05,0.4195495843887329,0.00072532455669716,0.006742140278220177,0.00014964185538701713,3.5469887256622314,0.00017763147479854524,3.6394264698028564,0.0029171500355005264,0.0,0.0,0.0,2.764171600341797],[0.0,0.0,7.883263606345281e-06,7.367898433585651e-06,0.0032033901661634445,0.00017436992493458092,7.003036444075406e-05,3.667567943921313e-05,0.0012597029563039541,3.3248114050365984e-05,0.0005312219145707786,2.8237820515641943e-05,3.077443761867471e-05,0.6414757966995239,0.0008881313842721283,0.08509699255228043,0.0004990748129785061,0.6079171299934387,0.00019931013230234385,0.00018575892318040133,1.6925311088562012,0.014098613522946835,1.2064582109451294],[0.0,0.0,7.883263606345281e-06,9.886952284432482e-06,0.00592498853802681,0.00013016659067943692,0.0002511127677280456,9.530105671728961e-06,8.981876817415468e-06,0.0004671433998737484,1.4954517610021867e-05,0.0013526370748877525,8.371313742827624e-05,3.905744961230084e-05,0.8930476307868958,0.003675499465316534,2.2563791275024414,0.00013385449710767716,0.0003589679254218936,3.3620550632476807,0.02085341140627861,0.0,2.454355478286743]],\"type\":\"heatmap\",\"xaxis\":\"x\",\"yaxis\":\"y\",\"hovertemplate\":\"x: %{x}\\u003cbr\\u003ey: %{y}\\u003cbr\\u003ecolor: %{z}\\u003cextra\\u003e\\u003c\\u002fextra\\u003e\",\"textfont\":{\"size\":12},\"text\":[[\"\",\"Then\",\",\",\" Sarah\",\" and\",\" Arthur\",\" had\",\" a\",\" lot\",\" of\",\" fun\",\" at\",\" the\",\" hospital\",\".\",\" Arthur\",\" gave\",\" a\",\" bone\",\" to\",\" Sarah\",\"\",\"*\"],[\"\",\"Then\",\",\",\" Arthur\",\" and\",\" Ruby\",\" had\",\" a\",\" long\",\" argument\",\",\",\" and\",\" afterwards\",\" Ruby\",\" said\",\" to\",\" Arthur\",\"\",\"\",\"\",\"\",\"\",\"*\"],[\"\",\"Then\",\",\",\" Arthur\",\" and\",\" Jacob\",\" had\",\" a\",\" lot\",\" of\",\" fun\",\" at\",\" the\",\" office\",\".\",\" Jacob\",\" gave\",\" a\",\" basketball\",\" to\",\" Arthur\",\"\",\"*\"],[\"\",\"Then\",\",\",\" Kate\",\" and\",\" Jonathan\",\" had\",\" a\",\" lot\",\" of\",\" fun\",\" at\",\" the\",\" hospital\",\".\",\" Jonathan\",\" gave\",\" a\",\" ring\",\" to\",\" Kate\",\"\",\"*\"],[\"\",\"When\",\" Adam\",\" and\",\" Luke\",\" got\",\" a\",\" ring\",\" at\",\" the\",\" house\",\",\",\" Adam\",\" decided\",\" to\",\" give\",\" it\",\" to\",\" Luke\",\"\",\"\",\"\",\"*\"],[\"\",\"Then\",\",\",\" Tyler\",\" and\",\" Kevin\",\" had\",\" a\",\" long\",\" argument\",\",\",\" and\",\" afterwards\",\" Tyler\",\" said\",\" to\",\" Kevin\",\"\",\"\",\"\",\"\",\"\",\"*\"],[\"\",\"After\",\" Andrew\",\" and\",\" Collins\",\" went\",\" to\",\" the\",\" school\",\",\",\" Collins\",\" gave\",\" a\",\" basketball\",\" to\",\" Andrew\",\"\",\"\",\"\",\"\",\"\",\"\",\"*\"],[\"\",\"When\",\" Sullivan\",\" and\",\" Charles\",\" got\",\" a\",\" kiss\",\" at\",\" the\",\" station\",\",\",\" Sullivan\",\" decided\",\" to\",\" give\",\" it\",\" to\",\" Charles\",\"\",\"\",\"\",\"*\"],[\"\",\"Then\",\",\",\" Graham\",\" and\",\" Laura\",\" were\",\" thinking\",\" about\",\" going\",\" to\",\" the\",\" garden\",\".\",\" Laura\",\" wanted\",\" to\",\" give\",\" a\",\" computer\",\" to\",\" Graham\",\"*\"],[\"\",\"Then\",\",\",\" Frank\",\" and\",\" Robert\",\" had\",\" a\",\" lot\",\" of\",\" fun\",\" at\",\" the\",\" office\",\".\",\" Robert\",\" gave\",\" a\",\" basketball\",\" to\",\" Frank\",\"\",\"*\"]],\"texttemplate\":\"%{text}\"}],                        {\"template\":{\"data\":{\"histogram2dcontour\":[{\"type\":\"histogram2dcontour\",\"colorbar\":{\"outlinewidth\":0,\"ticks\":\"\"},\"colorscale\":[[0.0,\"#0d0887\"],[0.1111111111111111,\"#46039f\"],[0.2222222222222222,\"#7201a8\"],[0.3333333333333333,\"#9c179e\"],[0.4444444444444444,\"#bd3786\"],[0.5555555555555556,\"#d8576b\"],[0.6666666666666666,\"#ed7953\"],[0.7777777777777778,\"#fb9f3a\"],[0.8888888888888888,\"#fdca26\"],[1.0,\"#f0f921\"]]}],\"choropleth\":[{\"type\":\"choropleth\",\"colorbar\":{\"outlinewidth\":0,\"ticks\":\"\"}}],\"histogram2d\":[{\"type\":\"histogram2d\",\"colorbar\":{\"outlinewidth\":0,\"ticks\":\"\"},\"colorscale\":[[0.0,\"#0d0887\"],[0.1111111111111111,\"#46039f\"],[0.2222222222222222,\"#7201a8\"],[0.3333333333333333,\"#9c179e\"],[0.4444444444444444,\"#bd3786\"],[0.5555555555555556,\"#d8576b\"],[0.6666666666666666,\"#ed7953\"],[0.7777777777777778,\"#fb9f3a\"],[0.8888888888888888,\"#fdca26\"],[1.0,\"#f0f921\"]]}],\"heatmap\":[{\"type\":\"heatmap\",\"colorbar\":{\"outlinewidth\":0,\"ticks\":\"\"},\"colorscale\":[[0.0,\"#0d0887\"],[0.1111111111111111,\"#46039f\"],[0.2222222222222222,\"#7201a8\"],[0.3333333333333333,\"#9c179e\"],[0.4444444444444444,\"#bd3786\"],[0.5555555555555556,\"#d8576b\"],[0.6666666666666666,\"#ed7953\"],[0.7777777777777778,\"#fb9f3a\"],[0.8888888888888888,\"#fdca26\"],[1.0,\"#f0f921\"]]}],\"heatmapgl\":[{\"type\":\"heatmapgl\",\"colorbar\":{\"outlinewidth\":0,\"ticks\":\"\"},\"colorscale\":[[0.0,\"#0d0887\"],[0.1111111111111111,\"#46039f\"],[0.2222222222222222,\"#7201a8\"],[0.3333333333333333,\"#9c179e\"],[0.4444444444444444,\"#bd3786\"],[0.5555555555555556,\"#d8576b\"],[0.6666666666666666,\"#ed7953\"],[0.7777777777777778,\"#fb9f3a\"],[0.8888888888888888,\"#fdca26\"],[1.0,\"#f0f921\"]]}],\"contourcarpet\":[{\"type\":\"contourcarpet\",\"colorbar\":{\"outlinewidth\":0,\"ticks\":\"\"}}],\"contour\":[{\"type\":\"contour\",\"colorbar\":{\"outlinewidth\":0,\"ticks\":\"\"},\"colorscale\":[[0.0,\"#0d0887\"],[0.1111111111111111,\"#46039f\"],[0.2222222222222222,\"#7201a8\"],[0.3333333333333333,\"#9c179e\"],[0.4444444444444444,\"#bd3786\"],[0.5555555555555556,\"#d8576b\"],[0.6666666666666666,\"#ed7953\"],[0.7777777777777778,\"#fb9f3a\"],[0.8888888888888888,\"#fdca26\"],[1.0,\"#f0f921\"]]}],\"surface\":[{\"type\":\"surface\",\"colorbar\":{\"outlinewidth\":0,\"ticks\":\"\"},\"colorscale\":[[0.0,\"#0d0887\"],[0.1111111111111111,\"#46039f\"],[0.2222222222222222,\"#7201a8\"],[0.3333333333333333,\"#9c179e\"],[0.4444444444444444,\"#bd3786\"],[0.5555555555555556,\"#d8576b\"],[0.6666666666666666,\"#ed7953\"],[0.7777777777777778,\"#fb9f3a\"],[0.8888888888888888,\"#fdca26\"],[1.0,\"#f0f921\"]]}],\"mesh3d\":[{\"type\":\"mesh3d\",\"colorbar\":{\"outlinewidth\":0,\"ticks\":\"\"}}],\"scatter\":[{\"fillpattern\":{\"fillmode\":\"overlay\",\"size\":10,\"solidity\":0.2},\"type\":\"scatter\"}],\"parcoords\":[{\"type\":\"parcoords\",\"line\":{\"colorbar\":{\"outlinewidth\":0,\"ticks\":\"\"}}}],\"scatterpolargl\":[{\"type\":\"scatterpolargl\",\"marker\":{\"colorbar\":{\"outlinewidth\":0,\"ticks\":\"\"}}}],\"bar\":[{\"error_x\":{\"color\":\"#2a3f5f\"},\"error_y\":{\"color\":\"#2a3f5f\"},\"marker\":{\"line\":{\"color\":\"#E5ECF6\",\"width\":0.5},\"pattern\":{\"fillmode\":\"overlay\",\"size\":10,\"solidity\":0.2}},\"type\":\"bar\"}],\"scattergeo\":[{\"type\":\"scattergeo\",\"marker\":{\"colorbar\":{\"outlinewidth\":0,\"ticks\":\"\"}}}],\"scatterpolar\":[{\"type\":\"scatterpolar\",\"marker\":{\"colorbar\":{\"outlinewidth\":0,\"ticks\":\"\"}}}],\"histogram\":[{\"marker\":{\"pattern\":{\"fillmode\":\"overlay\",\"size\":10,\"solidity\":0.2}},\"type\":\"histogram\"}],\"scattergl\":[{\"type\":\"scattergl\",\"marker\":{\"colorbar\":{\"outlinewidth\":0,\"ticks\":\"\"}}}],\"scatter3d\":[{\"type\":\"scatter3d\",\"line\":{\"colorbar\":{\"outlinewidth\":0,\"ticks\":\"\"}},\"marker\":{\"colorbar\":{\"outlinewidth\":0,\"ticks\":\"\"}}}],\"scattermapbox\":[{\"type\":\"scattermapbox\",\"marker\":{\"colorbar\":{\"outlinewidth\":0,\"ticks\":\"\"}}}],\"scatterternary\":[{\"type\":\"scatterternary\",\"marker\":{\"colorbar\":{\"outlinewidth\":0,\"ticks\":\"\"}}}],\"scattercarpet\":[{\"type\":\"scattercarpet\",\"marker\":{\"colorbar\":{\"outlinewidth\":0,\"ticks\":\"\"}}}],\"carpet\":[{\"aaxis\":{\"endlinecolor\":\"#2a3f5f\",\"gridcolor\":\"white\",\"linecolor\":\"white\",\"minorgridcolor\":\"white\",\"startlinecolor\":\"#2a3f5f\"},\"baxis\":{\"endlinecolor\":\"#2a3f5f\",\"gridcolor\":\"white\",\"linecolor\":\"white\",\"minorgridcolor\":\"white\",\"startlinecolor\":\"#2a3f5f\"},\"type\":\"carpet\"}],\"table\":[{\"cells\":{\"fill\":{\"color\":\"#EBF0F8\"},\"line\":{\"color\":\"white\"}},\"header\":{\"fill\":{\"color\":\"#C8D4E3\"},\"line\":{\"color\":\"white\"}},\"type\":\"table\"}],\"barpolar\":[{\"marker\":{\"line\":{\"color\":\"#E5ECF6\",\"width\":0.5},\"pattern\":{\"fillmode\":\"overlay\",\"size\":10,\"solidity\":0.2}},\"type\":\"barpolar\"}],\"pie\":[{\"automargin\":true,\"type\":\"pie\"}]},\"layout\":{\"autotypenumbers\":\"strict\",\"colorway\":[\"#636efa\",\"#EF553B\",\"#00cc96\",\"#ab63fa\",\"#FFA15A\",\"#19d3f3\",\"#FF6692\",\"#B6E880\",\"#FF97FF\",\"#FECB52\"],\"font\":{\"color\":\"#2a3f5f\"},\"hovermode\":\"closest\",\"hoverlabel\":{\"align\":\"left\"},\"paper_bgcolor\":\"white\",\"plot_bgcolor\":\"#E5ECF6\",\"polar\":{\"bgcolor\":\"#E5ECF6\",\"angularaxis\":{\"gridcolor\":\"white\",\"linecolor\":\"white\",\"ticks\":\"\"},\"radialaxis\":{\"gridcolor\":\"white\",\"linecolor\":\"white\",\"ticks\":\"\"}},\"ternary\":{\"bgcolor\":\"#E5ECF6\",\"aaxis\":{\"gridcolor\":\"white\",\"linecolor\":\"white\",\"ticks\":\"\"},\"baxis\":{\"gridcolor\":\"white\",\"linecolor\":\"white\",\"ticks\":\"\"},\"caxis\":{\"gridcolor\":\"white\",\"linecolor\":\"white\",\"ticks\":\"\"}},\"coloraxis\":{\"colorbar\":{\"outlinewidth\":0,\"ticks\":\"\"}},\"colorscale\":{\"sequential\":[[0.0,\"#0d0887\"],[0.1111111111111111,\"#46039f\"],[0.2222222222222222,\"#7201a8\"],[0.3333333333333333,\"#9c179e\"],[0.4444444444444444,\"#bd3786\"],[0.5555555555555556,\"#d8576b\"],[0.6666666666666666,\"#ed7953\"],[0.7777777777777778,\"#fb9f3a\"],[0.8888888888888888,\"#fdca26\"],[1.0,\"#f0f921\"]],\"sequentialminus\":[[0.0,\"#0d0887\"],[0.1111111111111111,\"#46039f\"],[0.2222222222222222,\"#7201a8\"],[0.3333333333333333,\"#9c179e\"],[0.4444444444444444,\"#bd3786\"],[0.5555555555555556,\"#d8576b\"],[0.6666666666666666,\"#ed7953\"],[0.7777777777777778,\"#fb9f3a\"],[0.8888888888888888,\"#fdca26\"],[1.0,\"#f0f921\"]],\"diverging\":[[0,\"#8e0152\"],[0.1,\"#c51b7d\"],[0.2,\"#de77ae\"],[0.3,\"#f1b6da\"],[0.4,\"#fde0ef\"],[0.5,\"#f7f7f7\"],[0.6,\"#e6f5d0\"],[0.7,\"#b8e186\"],[0.8,\"#7fbc41\"],[0.9,\"#4d9221\"],[1,\"#276419\"]]},\"xaxis\":{\"gridcolor\":\"white\",\"linecolor\":\"white\",\"ticks\":\"\",\"title\":{\"standoff\":15},\"zerolinecolor\":\"white\",\"automargin\":true,\"zerolinewidth\":2},\"yaxis\":{\"gridcolor\":\"white\",\"linecolor\":\"white\",\"ticks\":\"\",\"title\":{\"standoff\":15},\"zerolinecolor\":\"white\",\"automargin\":true,\"zerolinewidth\":2},\"scene\":{\"xaxis\":{\"backgroundcolor\":\"#E5ECF6\",\"gridcolor\":\"white\",\"linecolor\":\"white\",\"showbackground\":true,\"ticks\":\"\",\"zerolinecolor\":\"white\",\"gridwidth\":2},\"yaxis\":{\"backgroundcolor\":\"#E5ECF6\",\"gridcolor\":\"white\",\"linecolor\":\"white\",\"showbackground\":true,\"ticks\":\"\",\"zerolinecolor\":\"white\",\"gridwidth\":2},\"zaxis\":{\"backgroundcolor\":\"#E5ECF6\",\"gridcolor\":\"white\",\"linecolor\":\"white\",\"showbackground\":true,\"ticks\":\"\",\"zerolinecolor\":\"white\",\"gridwidth\":2}},\"shapedefaults\":{\"line\":{\"color\":\"#2a3f5f\"}},\"annotationdefaults\":{\"arrowcolor\":\"#2a3f5f\",\"arrowhead\":0,\"arrowwidth\":1},\"geo\":{\"bgcolor\":\"white\",\"landcolor\":\"#E5ECF6\",\"subunitcolor\":\"white\",\"showland\":true,\"showlakes\":true,\"lakecolor\":\"white\"},\"title\":{\"x\":0.05},\"mapbox\":{\"style\":\"light\"}}},\"xaxis\":{\"anchor\":\"y\",\"domain\":[0.0,1.0],\"scaleanchor\":\"y\",\"constrain\":\"domain\"},\"yaxis\":{\"anchor\":\"x\",\"domain\":[0.0,1.0],\"autorange\":\"reversed\",\"constrain\":\"domain\"},\"coloraxis\":{\"colorscale\":[[0.0,\"rgb(103,0,31)\"],[0.1,\"rgb(178,24,43)\"],[0.2,\"rgb(214,96,77)\"],[0.3,\"rgb(244,165,130)\"],[0.4,\"rgb(253,219,199)\"],[0.5,\"rgb(247,247,247)\"],[0.6,\"rgb(209,229,240)\"],[0.7,\"rgb(146,197,222)\"],[0.8,\"rgb(67,147,195)\"],[0.9,\"rgb(33,102,172)\"],[1.0,\"rgb(5,48,97)\"]],\"cmid\":0.0},\"margin\":{\"t\":60},\"height\":800,\"width\":1600,\"updatemenus\":[{\"buttons\":[{\"args\":[null,{\"frame\":{\"duration\":500,\"redraw\":true},\"mode\":\"immediate\",\"fromcurrent\":true,\"transition\":{\"duration\":500,\"easing\":\"linear\"}}],\"label\":\"&#9654;\",\"method\":\"animate\"},{\"args\":[[null],{\"frame\":{\"duration\":0,\"redraw\":true},\"mode\":\"immediate\",\"fromcurrent\":true,\"transition\":{\"duration\":0,\"easing\":\"linear\"}}],\"label\":\"&#9724;\",\"method\":\"animate\"}],\"direction\":\"left\",\"pad\":{\"r\":10,\"t\":70},\"showactive\":false,\"type\":\"buttons\",\"x\":0.1,\"xanchor\":\"right\",\"y\":0,\"yanchor\":\"top\"}],\"sliders\":[{\"active\":0,\"currentvalue\":{\"prefix\":\"\"},\"len\":0.9,\"pad\":{\"b\":10,\"t\":60},\"steps\":[{\"args\":[[\"0\"],{\"frame\":{\"duration\":0,\"redraw\":true},\"mode\":\"immediate\",\"fromcurrent\":true,\"transition\":{\"duration\":0,\"easing\":\"linear\"}}],\"label\":\"9.9\",\"method\":\"animate\"},{\"args\":[[\"1\"],{\"frame\":{\"duration\":0,\"redraw\":true},\"mode\":\"immediate\",\"fromcurrent\":true,\"transition\":{\"duration\":0,\"easing\":\"linear\"}}],\"label\":\"9.9 probs\",\"method\":\"animate\"},{\"args\":[[\"2\"],{\"frame\":{\"duration\":0,\"redraw\":true},\"mode\":\"immediate\",\"fromcurrent\":true,\"transition\":{\"duration\":0,\"easing\":\"linear\"}}],\"label\":\"10.7\",\"method\":\"animate\"},{\"args\":[[\"3\"],{\"frame\":{\"duration\":0,\"redraw\":true},\"mode\":\"immediate\",\"fromcurrent\":true,\"transition\":{\"duration\":0,\"easing\":\"linear\"}}],\"label\":\"10.7 probs\",\"method\":\"animate\"},{\"args\":[[\"4\"],{\"frame\":{\"duration\":0,\"redraw\":true},\"mode\":\"immediate\",\"fromcurrent\":true,\"transition\":{\"duration\":0,\"easing\":\"linear\"}}],\"label\":\"11.0\",\"method\":\"animate\"},{\"args\":[[\"5\"],{\"frame\":{\"duration\":0,\"redraw\":true},\"mode\":\"immediate\",\"fromcurrent\":true,\"transition\":{\"duration\":0,\"easing\":\"linear\"}}],\"label\":\"11.0 probs\",\"method\":\"animate\"}],\"x\":0.1,\"xanchor\":\"left\",\"y\":0,\"yanchor\":\"top\"}],\"modebar\":{\"add\":[\"drawline\",\"drawopenpath\",\"drawclosedpath\",\"drawcircle\",\"drawrect\",\"eraseshape\"]}},                        {\"responsive\": true}                    ).then(function(){\n",
       "                            Plotly.addFrames('8d107c48-4436-465c-9757-1650e37d882f', [{\"data\":[{\"coloraxis\":\"coloraxis\",\"name\":\"0\",\"z\":[[0.0,0.0,7.883263606345281e-06,1.0621504770824686e-05,0.03747962415218353,0.0002972014481201768,0.0005863623810000718,1.8370019461144693e-05,4.134775281272596e-06,0.00036383766564540565,2.0005545593448915e-05,0.002627041656523943,0.00010927232506219298,9.297809447161853e-05,1.0372952222824097,0.0026141174603253603,2.1424882411956787,0.00029097951482981443,0.00013849786773789674,1.2348448038101196,0.003737614257261157,0.0,1.7285219430923462],[0.0,0.0,7.883263606345281e-06,1.0816122994583566e-05,0.011403050273656845,3.066654608119279e-05,0.0006614467711187899,1.5088672626006883e-05,9.077235517906956e-06,3.6094352253712714e-05,0.04639838635921478,2.5111043453216553,0.33353641629219055,0.00039195461431518197,0.01253238320350647,2.12959361076355,0.004338353406637907,0.0,0.0,0.0,0.0,0.0,1.9324944019317627],[0.0,0.0,7.883263606345281e-06,1.0816122994583566e-05,0.011403050273656845,0.00010179867240367457,0.0007423802744597197,1.3804398804495577e-05,5.10642712470144e-06,0.00045602055615745485,1.5031802831799723e-05,0.002562672132626176,7.758204446872696e-05,3.235347685404122e-05,1.0509157180786133,0.0006928516668267548,1.6949491500854492,0.00011640155571512878,0.00034848618088290095,3.3077402114868164,0.01048242300748825,0.0,2.1632583141326904],[0.0,0.0,7.883263606345281e-06,5.5303853514487855e-06,0.011091575026512146,5.404726107371971e-05,0.0004861803608946502,3.037976784980856e-05,4.9427894737164024e-06,0.0004011410637758672,1.808312845241744e-05,0.0036848036106675863,0.00010047148680314422,7.416028529405594e-05,0.9837148785591125,0.0009564214269630611,1.4795076847076416,0.0001859742624219507,0.00013929397391621023,2.3009817600250244,0.015770990401506424,0.0,1.8115066289901733],[0.0,0.0,1.0617744919727556e-05,0.007417363114655018,9.58025993895717e-05,0.0005384159157983959,1.402252928528469e-05,0.00013887669774703681,0.00069471076130867,7.796014688210562e-05,0.00026338835596106946,0.5697023272514343,0.017344672232866287,0.012500310316681862,0.00022633804474025965,2.2234456539154053,0.002679919358342886,3.244690418243408,0.003792953211814165,0.0,0.0,0.0,2.1891090869903564],[0.0,0.0,7.883263606345281e-06,6.993353053985629e-06,0.023105472326278687,0.00034583391970954835,0.0013333640526980162,1.4888352779962588e-05,8.59623742144322e-06,0.0007841858896426857,0.13268552720546722,2.5662903785705566,0.4335964024066925,0.0073862504214048386,0.14046268165111542,3.7112860679626465,0.006133218761533499,0.0,0.0,0.0,0.0,0.0,2.2901930809020996],[0.0,0.0,1.3758643035544083e-05,0.005585401318967342,6.857314474473242e-06,2.454810237395577e-05,0.0008723991923034191,1.749054172250908e-05,5.645392957376316e-05,0.8845983147621155,0.0004821892362087965,1.988259196281433,0.00010363660112489015,6.232172745512798e-05,3.005387306213379,0.3064144551753998,0.0,0.0,0.0,0.0,0.0,0.0,2.403506278991699],[0.0,0.0,5.469287316373084e-06,0.006001760717481375,0.010594970546662807,0.001108969678170979,0.0001289442298002541,0.000542532536201179,0.0014540465781465173,9.4417373475153e-05,4.65574958070647e-05,0.4195495843887329,0.00072532455669716,0.006742140278220177,0.00014964185538701713,3.5469887256622314,0.00017763147479854524,3.6394264698028564,0.0029171500355005264,0.0,0.0,0.0,2.764171600341797],[0.0,0.0,7.883263606345281e-06,7.367898433585651e-06,0.0032033901661634445,0.00017436992493458092,7.003036444075406e-05,3.667567943921313e-05,0.0012597029563039541,3.3248114050365984e-05,0.0005312219145707786,2.8237820515641943e-05,3.077443761867471e-05,0.6414757966995239,0.0008881313842721283,0.08509699255228043,0.0004990748129785061,0.6079171299934387,0.00019931013230234385,0.00018575892318040133,1.6925311088562012,0.014098613522946835,1.2064582109451294],[0.0,0.0,7.883263606345281e-06,9.886952284432482e-06,0.00592498853802681,0.00013016659067943692,0.0002511127677280456,9.530105671728961e-06,8.981876817415468e-06,0.0004671433998737484,1.4954517610021867e-05,0.0013526370748877525,8.371313742827624e-05,3.905744961230084e-05,0.8930476307868958,0.003675499465316534,2.2563791275024414,0.00013385449710767716,0.0003589679254218936,3.3620550632476807,0.02085341140627861,0.0,2.454355478286743]],\"type\":\"heatmap\"}],\"layout\":{\"height\":800,\"margin\":{\"t\":60},\"width\":1600,\"xaxis\":{\"constrain\":\"domain\",\"scaleanchor\":\"y\"},\"yaxis\":{\"autorange\":\"reversed\",\"constrain\":\"domain\"},\"coloraxis\":{\"cmid\":0.0,\"colorscale\":[[0.0,\"rgb(103,0,31)\"],[0.1,\"rgb(178,24,43)\"],[0.2,\"rgb(214,96,77)\"],[0.3,\"rgb(244,165,130)\"],[0.4,\"rgb(253,219,199)\"],[0.5,\"rgb(247,247,247)\"],[0.6,\"rgb(209,229,240)\"],[0.7,\"rgb(146,197,222)\"],[0.8,\"rgb(67,147,195)\"],[0.9,\"rgb(33,102,172)\"],[1.0,\"rgb(5,48,97)\"]]}},\"name\":\"0\"},{\"data\":[{\"coloraxis\":\"coloraxis\",\"name\":\"1\",\"z\":[[0.0,0.0,0.002936046104878187,0.0021358532831072807,0.09647946804761887,0.012382490560412407,0.02203386276960373,0.005288782529532909,0.0017905989661812782,0.015600929968059063,0.00570805836468935,0.05211442708969116,0.024249445647001266,0.014725235290825367,0.6735589504241943,0.061335690319538116,0.8073472380638123,0.031029997393488884,0.010883457958698273,0.6597167253494263,0.08267343044281006,0.0,0.11736321449279785],[0.0,0.0,0.002936046104878187,0.00277425954118371,0.05320112034678459,0.005755149759352207,0.024719921872019768,0.004893590696156025,0.002576736267656088,0.008887306787073612,0.15201227366924286,0.8612977862358093,0.36945995688438416,0.029176343232393265,0.11561667919158936,0.8877935409545898,0.09213775396347046,0.0,0.0,0.0,0.0,0.0,0.11878357827663422],[0.0,0.0,0.002936046104878187,0.00277425954118371,0.05320112034678459,0.009232845157384872,0.023863863199949265,0.004743415396660566,0.001914104912430048,0.01596030965447426,0.005166477058082819,0.04980349913239479,0.01976349949836731,0.008664796128869057,0.6214932799339294,0.03427228704094887,0.7897626161575317,0.02417546883225441,0.023459380492568016,0.9636767506599426,0.1560223549604416,0.0,0.12776756286621094],[0.0,0.0,0.002936046104878187,0.0012302431277930737,0.05736972391605377,0.005480493884533644,0.018868615850806236,0.006053754594177008,0.001709487522020936,0.015272902324795723,0.005227626301348209,0.056427013128995895,0.02243141084909439,0.013154099695384502,0.653489351272583,0.03406817093491554,0.725509762763977,0.026421859860420227,0.015271274372935295,0.895143985748291,0.09212541580200195,0.0,0.12037233263254166],[0.0,0.0,0.0018404137808829546,0.039443373680114746,0.007130214013159275,0.01429169811308384,0.003095769789069891,0.007902190089225769,0.019636891782283783,0.00941551011055708,0.01145003642886877,0.4521399140357971,0.22955408692359924,0.08106512576341629,0.022414060309529305,0.8336058855056763,0.04672737047076225,0.9550719261169434,0.04426077380776405,0.0,0.0,0.0,0.1263202428817749],[0.0,0.0,0.002936046104878187,0.0016193294432014227,0.0684632882475853,0.014167392626404762,0.026045631617307663,0.004679881036281586,0.0023587560281157494,0.01989945024251938,0.20919083058834076,0.8571117520332336,0.39278268814086914,0.14914757013320923,0.27935728430747986,0.9837715029716492,0.055218324065208435,0.0,0.0,0.0,0.0,0.0,0.13939769566059113],[0.0,0.0,0.0016490267589688301,0.037288863211870193,0.002003003843128681,0.0037828581407666206,0.01939392276108265,0.0038573690690100193,0.005810342729091644,0.5494143962860107,0.02567518688738346,0.7489806413650513,0.014141974039375782,0.009244927205145359,0.8626376986503601,0.29230797290802,0.0,0.0,0.0,0.0,0.0,0.0,0.11709946393966675],[0.0,0.0,0.0011069924803450704,0.04519333690404892,0.057715412229299545,0.02041853964328766,0.007711702957749367,0.020904485136270523,0.02589547261595726,0.010743127204477787,0.0069428919814527035,0.42097944021224976,0.08170019090175629,0.05848822370171547,0.01685817539691925,0.9533071517944336,0.02043910138309002,0.9744384288787842,0.03988538309931755,0.0,0.0,0.0,0.12557855248451233],[0.0,0.0,0.002936046104878187,0.0014828868443146348,0.03216969966888428,0.00870426744222641,0.008527725003659725,0.005300857126712799,0.025144852697849274,0.007877427153289318,0.024412276223301888,0.009731505997478962,0.006350775249302387,0.536287248134613,0.044065847992897034,0.2987350821495056,0.060273922979831696,0.5078214406967163,0.03181406110525131,0.01359893660992384,0.7432472705841064,0.1581491231918335,0.11484688520431519],[0.0,0.0,0.002936046104878187,0.001797600882127881,0.03910086676478386,0.008091130293905735,0.015494966879487038,0.0037941699847579002,0.0019980096258223057,0.014918345026671886,0.004705045837908983,0.041211411356925964,0.020828992128372192,0.008913886733353138,0.5602825284004211,0.05619453638792038,0.7764543890953064,0.025161873549222946,0.02341802977025509,0.9289106130599976,0.1323951780796051,0.0,0.12120944261550903]],\"type\":\"heatmap\"}],\"layout\":{\"height\":800,\"margin\":{\"t\":60},\"width\":1600,\"xaxis\":{\"constrain\":\"domain\",\"scaleanchor\":\"y\"},\"yaxis\":{\"autorange\":\"reversed\",\"constrain\":\"domain\"},\"coloraxis\":{\"cmid\":0.0,\"colorscale\":[[0.0,\"rgb(103,0,31)\"],[0.1,\"rgb(178,24,43)\"],[0.2,\"rgb(214,96,77)\"],[0.3,\"rgb(244,165,130)\"],[0.4,\"rgb(253,219,199)\"],[0.5,\"rgb(247,247,247)\"],[0.6,\"rgb(209,229,240)\"],[0.7,\"rgb(146,197,222)\"],[0.8,\"rgb(67,147,195)\"],[0.9,\"rgb(33,102,172)\"],[1.0,\"rgb(5,48,97)\"]]}},\"name\":\"1\"},{\"data\":[{\"coloraxis\":\"coloraxis\",\"name\":\"2\",\"z\":[[0.0,0.0,-0.0023078876547515392,-0.00040889272349886596,-0.5470337271690369,-0.001611651387065649,-0.002878605155274272,-0.002365401480346918,-0.00017451669555157423,-0.0026645041070878506,-0.0013447566889226437,-0.006610654294490814,-0.004803679417818785,-0.0035261439625173807,-1.0925604104995728,-0.008983618579804897,-2.0629494190216064,-0.024668682366609573,-0.0011439512018114328,-1.568842887878418,-0.014609340578317642,0.0,-1.0338010787963867],[0.0,0.0,-0.0023078876547515392,-0.0003275095659773797,-0.41954219341278076,-0.0010159083176404238,-0.0034608161076903343,-0.0018979811575263739,-0.0029464997351169586,-0.0007692794897593558,-0.3149929642677307,-2.448777198791504,-0.7933416962623596,-0.003115300089120865,-0.04994012415409088,-2.6550233364105225,-0.027106285095214844,0.0,0.0,0.0,0.0,0.0,-1.3527799844741821],[0.0,0.0,-0.0023078876547515392,-0.0003275095659773797,-0.41954219341278076,-0.0033975548576563597,-0.00308330194093287,-0.00250696181319654,-0.00018382181588094682,-0.0030492714140564203,-0.0013708423357456923,-0.007112013176083565,-0.005662641488015652,-0.002801228780299425,-1.2418348789215088,-0.01655668020248413,-2.552582263946533,-0.022035302594304085,-0.0014149642083793879,-3.2151944637298584,-0.022260397672653198,0.0,-1.3836195468902588],[0.0,0.0,-0.0023078876547515392,-0.0001682559377513826,-0.23442652821540833,-0.0008674615528434515,-0.002955392235890031,-0.002437349408864975,-0.00018048263154923916,-0.002890585456043482,-0.0012553767301142216,-0.005531793460249901,-0.004582235123962164,-0.0029538478702306747,-0.6405630111694336,-0.008953973650932312,-1.8768742084503174,-0.02651439793407917,-0.007985386997461319,-3.220595121383667,-0.012436874210834503,0.0,-1.213233470916748],[0.0,0.0,-2.1453137378557585e-05,-0.29367876052856445,-0.000298361323075369,-0.00040462063043378294,-0.000620192673522979,-0.0034997137263417244,-0.0054017179645597935,-0.013352287001907825,-0.004416193813085556,-0.8281417489051819,-0.006476344540715218,-0.005898677743971348,-0.006330110598355532,-1.2529858350753784,-0.0025627873837947845,-2.415553569793701,-0.004552168771624565,0.0,0.0,0.0,-1.1713286638259888],[0.0,0.0,-0.0023078876547515392,-0.0001603734854143113,-0.881798505783081,-0.0011305781081318855,-0.004323076922446489,-0.002028399845585227,-0.0027301094960421324,-0.0005638774018734694,-0.3403938412666321,-2.399921178817749,-0.7649810910224915,-0.011880581267178059,-0.09253023564815521,-2.0664825439453125,-0.020427007228136063,0.0,0.0,0.0,0.0,0.0,-1.2635869979858398],[0.0,0.0,-3.975212894147262e-05,-0.004561863373965025,-0.0005962764262221754,-5.9160989621886984e-05,-0.002638415899127722,-0.0019502864452078938,-0.0014650722732767463,-0.924680233001709,-0.004316702950745821,-0.8686599731445312,-0.006250220350921154,-0.0032183160074055195,-1.9907480478286743,-0.799136221408844,0.0,0.0,0.0,0.0,0.0,0.0,-1.2071253061294556],[0.0,0.0,-0.00015909603098407388,-0.1146116703748703,-0.05349898710846901,-0.0002208749792771414,-0.0004504975222516805,-0.002639534417539835,-0.008937091566622257,-0.005982109345495701,-0.0038040296640247107,-0.973734974861145,-0.026907244697213173,-0.01292053796350956,-0.03871772438287735,-1.801929235458374,-0.0012975584249943495,-2.3376803398132324,-0.013586746528744698,0.0,0.0,0.0,-1.188834309577942],[0.0,0.0,-0.0023078876547515392,-0.00028294537332840264,-0.0651802271604538,-0.004162508994340897,-0.0009158706525340676,-0.0004783985496032983,-0.0059769791550934315,-0.0003095337888225913,-0.0031599844805896282,-0.0015385979786515236,-0.0016965247923508286,-0.9536293148994446,-0.014108804054558277,-0.5058834552764893,-0.0525551438331604,-0.9415642619132996,-0.06643904000520706,-0.004796545021235943,-2.2785189151763916,-0.015248214825987816,-0.8367384076118469],[0.0,0.0,-0.0023078876547515392,-0.00021426068269647658,-0.09640798717737198,-0.00372209376655519,-0.0029439269565045834,-0.002361839869990945,-0.00018096048734150827,-0.0028102349024266005,-0.001328835147432983,-0.003492980031296611,-0.0049892086535692215,-0.002751825610175729,-1.531015396118164,-0.023339765146374702,-2.516415596008301,-0.026258457452058792,-0.0015694012399762869,-3.022552967071533,-0.015991335734725,0.0,-1.3606634140014648]],\"type\":\"heatmap\"}],\"layout\":{\"height\":800,\"margin\":{\"t\":60},\"width\":1600,\"xaxis\":{\"constrain\":\"domain\",\"scaleanchor\":\"y\"},\"yaxis\":{\"autorange\":\"reversed\",\"constrain\":\"domain\"},\"coloraxis\":{\"cmid\":0.0,\"colorscale\":[[0.0,\"rgb(103,0,31)\"],[0.1,\"rgb(178,24,43)\"],[0.2,\"rgb(214,96,77)\"],[0.3,\"rgb(244,165,130)\"],[0.4,\"rgb(253,219,199)\"],[0.5,\"rgb(247,247,247)\"],[0.6,\"rgb(209,229,240)\"],[0.7,\"rgb(146,197,222)\"],[0.8,\"rgb(67,147,195)\"],[0.9,\"rgb(33,102,172)\"],[1.0,\"rgb(5,48,97)\"]]}},\"name\":\"2\"},{\"data\":[{\"coloraxis\":\"coloraxis\",\"name\":\"3\",\"z\":[[0.0,0.0,0.057365842163562775,0.025344792753458023,0.42303597927093506,0.08069668710231781,0.1108534187078476,0.13464640080928802,0.0313444510102272,0.16140812635421753,0.10309148579835892,0.16852179169654846,0.21293878555297852,0.12281658500432968,0.8612951040267944,0.28009891510009766,0.938862144947052,0.3082134425640106,0.03730301931500435,0.8975253105163574,0.21921952068805695,0.0,0.23520825803279877],[0.0,0.0,0.057365842163562775,0.018460452556610107,0.36621221899986267,0.059682272374629974,0.10594906657934189,0.1139972135424614,0.10244618356227875,0.06095191463828087,0.552282452583313,0.9545595049858093,0.8308156132698059,0.15613725781440735,0.2953634560108185,0.9833125472068787,0.3133867383003235,0.0,0.0,0.0,0.0,0.0,0.22595103085041046],[0.0,0.0,0.057365842163562775,0.018460452556610107,0.36621221899986267,0.11255601048469543,0.1084224060177803,0.13718834519386292,0.03288080170750618,0.16694171726703644,0.10296797007322311,0.1779177486896515,0.22505056858062744,0.127339169383049,0.8511893153190613,0.3633151948451996,0.961042582988739,0.27197107672691345,0.06912975013256073,0.9930910468101501,0.29430824518203735,0.0,0.24715231359004974],[0.0,0.0,0.057365842163562775,0.015073653310537338,0.2820377051830292,0.059994980692863464,0.11151348054409027,0.13596339523792267,0.030922727659344673,0.15755648910999298,0.09611678123474121,0.15887320041656494,0.2136242687702179,0.11239791661500931,0.7753452658653259,0.27626144886016846,0.8431891798973083,0.30462074279785156,0.1583854854106903,0.9549327492713928,0.24619060754776,0.0,0.22683480381965637],[0.0,0.0,0.003856276860460639,0.28395339846611023,0.030560027807950974,0.027760356664657593,0.04871996492147446,0.07843294739723206,0.11613865196704865,0.15639984607696533,0.1312621533870697,0.6867097616195679,0.2198013961315155,0.1474759727716446,0.16690516471862793,0.8303070068359375,0.12136347591876984,0.951216459274292,0.1347779631614685,0.0,0.0,0.0,0.1879836916923523],[0.0,0.0,0.057365842163562775,0.01522779744118452,0.4560995101928711,0.06635209172964096,0.10523004829883575,0.11927377432584763,0.10205481946468353,0.05242228880524635,0.5067182779312134,0.9445651769638062,0.763015866279602,0.31857216358184814,0.3798132538795471,0.9759596586227417,0.3539539575576782,0.0,0.0,0.0,0.0,0.0,0.23711928725242615],[0.0,0.0,0.0032081613317131996,0.04686758294701576,0.04689619690179825,0.009880310855805874,0.07881680876016617,0.1160334050655365,0.056746821850538254,0.7350777983665466,0.1614295095205307,0.7658929824829102,0.18560382723808289,0.0725829005241394,0.9463221430778503,0.592240571975708,0.0,0.0,0.0,0.0,0.0,0.0,0.17352724075317383],[0.0,0.0,0.015349266119301319,0.191158726811409,0.15655073523521423,0.023110587149858475,0.0435316227376461,0.11843421310186386,0.11769232898950577,0.16532988846302032,0.08672086894512177,0.7664551734924316,0.25592565536499023,0.1798992156982422,0.2079828679561615,0.9445962905883789,0.07343524694442749,0.9734300374984741,0.2202046811580658,0.0,0.0,0.0,0.20635488629341125],[0.0,0.0,0.057365842163562775,0.018244612962007523,0.1702837347984314,0.1333441585302353,0.06531835347414017,0.04690246656537056,0.16405212879180908,0.04259493947029114,0.11447294801473618,0.12604539096355438,0.09652416408061981,0.788403332233429,0.37945857644081116,0.6788026094436646,0.44450801610946655,0.8444696664810181,0.40162426233291626,0.09163400530815125,0.9570873975753784,0.2573477625846863,0.26720383763313293],[0.0,0.0,0.057365842163562775,0.01641540601849556,0.20539100468158722,0.1347232460975647,0.10568557679653168,0.13057568669319153,0.031075093895196915,0.1569671779870987,0.09947032481431961,0.14714395999908447,0.21754448115825653,0.12325500696897507,0.8813481330871582,0.4550604820251465,0.9522739052772522,0.28983578085899353,0.07406008243560791,0.9927055835723877,0.2652167081832886,0.0,0.24255061149597168]],\"type\":\"heatmap\"}],\"layout\":{\"height\":800,\"margin\":{\"t\":60},\"width\":1600,\"xaxis\":{\"constrain\":\"domain\",\"scaleanchor\":\"y\"},\"yaxis\":{\"autorange\":\"reversed\",\"constrain\":\"domain\"},\"coloraxis\":{\"cmid\":0.0,\"colorscale\":[[0.0,\"rgb(103,0,31)\"],[0.1,\"rgb(178,24,43)\"],[0.2,\"rgb(214,96,77)\"],[0.3,\"rgb(244,165,130)\"],[0.4,\"rgb(253,219,199)\"],[0.5,\"rgb(247,247,247)\"],[0.6,\"rgb(209,229,240)\"],[0.7,\"rgb(146,197,222)\"],[0.8,\"rgb(67,147,195)\"],[0.9,\"rgb(33,102,172)\"],[1.0,\"rgb(5,48,97)\"]]}},\"name\":\"3\"},{\"data\":[{\"coloraxis\":\"coloraxis\",\"name\":\"4\",\"z\":[[0.0,0.0,-0.02041848562657833,-0.025180118158459663,-0.030228137969970703,-0.06311909854412079,-0.049039628356695175,-0.03301776200532913,-0.03240703046321869,-0.031068477779626846,-0.026962531730532646,-0.03978395834565163,-0.02259649708867073,-0.018136506900191307,-0.03011753410100937,-0.03107951208949089,-0.025827553123235703,-0.022734690457582474,-0.010856891050934792,-0.031082499772310257,-0.03614615648984909,0.0,-0.0440465584397316],[0.0,0.0,-0.02041848562657833,-0.007259481120854616,-0.058411404490470886,-0.03939679265022278,-0.03363829478621483,-0.023398378863930702,-0.022200722247362137,-0.021327363327145576,-0.026351744309067726,-0.0269662756472826,-0.038150615990161896,-0.04151291400194168,-0.026951272040605545,-0.028896786272525787,-0.03663558512926102,0.0,0.0,0.0,0.0,0.0,-0.04355386272072792],[0.0,0.0,-0.02041848562657833,-0.007259481120854616,-0.058411404490470886,-0.039799660444259644,-0.03693367540836334,-0.025792239233851433,-0.029697468504309654,-0.02354760281741619,-0.022860053926706314,-0.029800202697515488,-0.018745427951216698,-0.018559981137514114,-0.026984453201293945,-0.020917553454637527,-0.023567475378513336,-0.021460535004734993,-0.01687338575720787,-0.02582140639424324,-0.029097959399223328,0.0,-0.03823966160416603],[0.0,0.0,-0.02041848562657833,-0.010403875261545181,-0.044265829026699066,-0.09831351041793823,-0.05714508146047592,-0.03476449102163315,-0.032974231988191605,-0.02409583143889904,-0.03191753849387169,-0.025716440752148628,-0.019863761961460114,-0.017016420140862465,-0.021608086302876472,-0.038249511271715164,-0.018336830660700798,-0.021630387753248215,-0.02159244194626808,-0.02925070747733116,-0.03556017577648163,0.0,-0.04542085528373718],[0.0,0.0,-0.006367289461195469,-0.06583832949399948,-0.0506511889398098,-0.026176709681749344,-0.03086814284324646,-0.028454525396227837,-0.04066673666238785,-0.02322416566312313,-0.028352608904242516,-0.04792087897658348,-0.0471109114587307,-0.05346430465579033,-0.03341741859912872,-0.03944491595029831,-0.026630312204360962,-0.05136238783597946,-0.03422275185585022,0.0,0.0,0.0,-0.0534852109849453],[0.0,0.0,-0.02041848562657833,-0.007430750411003828,-0.05984338000416756,-0.04859146103262901,-0.05332507938146591,-0.033024150878190994,-0.030739804729819298,-0.028849175199866295,-0.04083988443017006,-0.04057840630412102,-0.05607280507683754,-0.057558197528123856,-0.04565051198005676,-0.04548552632331848,-0.05115729942917824,0.0,0.0,0.0,0.0,0.0,-0.058583520352840424],[0.0,0.0,-0.005471721291542053,-0.03529331833124161,-0.05350630730390549,-0.025030260905623436,-0.02812294475734234,-0.025418030098080635,-0.023568257689476013,-0.03980255872011185,-0.05359739810228348,-0.03712080419063568,-0.028910592198371887,-0.03199061006307602,-0.03869068995118141,-0.05680427327752113,0.0,0.0,0.0,0.0,0.0,0.0,-0.05131302773952484],[0.0,0.0,-0.07040515542030334,-0.012619233690202236,-0.04490320384502411,-0.022661995142698288,-0.027048973366618156,-0.034288499504327774,-0.028959307819604874,-0.020851632580161095,-0.017729775980114937,-0.03229266777634621,-0.03353722020983696,-0.02949368953704834,-0.02199408784508705,-0.028922954574227333,-0.010584479197859764,-0.029344609007239342,-0.023287953808903694,0.0,0.0,0.0,-0.03933378681540489],[0.0,0.0,-0.02041848562657833,-0.008744903840124607,-0.04131866991519928,-0.06840741634368896,-0.034001752734184265,-0.045125942677259445,-0.041847389191389084,-0.0274386927485466,-0.029493827372789383,-0.032483719289302826,-0.01964471861720085,-0.03002411499619484,-0.04811786115169525,-0.03606148064136505,-0.028102120384573936,-0.03012654557824135,-0.024418123066425323,-0.014405963942408562,-0.03197775036096573,-0.041419435292482376,-0.048003122210502625],[0.0,0.0,-0.02041848562657833,-0.008999206125736237,-0.03750777989625931,-0.06824801117181778,-0.05674634873867035,-0.03386799246072769,-0.034469012171030045,-0.027086716145277023,-0.03506064787507057,-0.029370244592428207,-0.02121131122112274,-0.0250212661921978,-0.025408487766981125,-0.036422111093997955,-0.027597935870289803,-0.0261661559343338,-0.019712936133146286,-0.03344815969467163,-0.03487538546323776,0.0,-0.04522259160876274]],\"type\":\"heatmap\"}],\"layout\":{\"height\":800,\"margin\":{\"t\":60},\"width\":1600,\"xaxis\":{\"constrain\":\"domain\",\"scaleanchor\":\"y\"},\"yaxis\":{\"autorange\":\"reversed\",\"constrain\":\"domain\"},\"coloraxis\":{\"cmid\":0.0,\"colorscale\":[[0.0,\"rgb(103,0,31)\"],[0.1,\"rgb(178,24,43)\"],[0.2,\"rgb(214,96,77)\"],[0.3,\"rgb(244,165,130)\"],[0.4,\"rgb(253,219,199)\"],[0.5,\"rgb(247,247,247)\"],[0.6,\"rgb(209,229,240)\"],[0.7,\"rgb(146,197,222)\"],[0.8,\"rgb(67,147,195)\"],[0.9,\"rgb(33,102,172)\"],[1.0,\"rgb(5,48,97)\"]]}},\"name\":\"4\"},{\"data\":[{\"coloraxis\":\"coloraxis\",\"name\":\"5\",\"z\":[[0.0,0.0,0.3613833487033844,0.35032594203948975,0.4951396882534027,0.7555999755859375,0.779408872127533,0.6250300407409668,0.6963324546813965,0.7069841623306274,0.8405486941337585,0.8671185970306396,0.6656016111373901,0.6920986175537109,0.6434715390205383,0.8935180902481079,0.8885126709938049,0.7773884534835815,0.32735538482666016,0.8911918997764587,0.9064028263092041,0.0,0.5983369946479797],[0.0,0.0,0.3613833487033844,0.11241678893566132,0.5413646697998047,0.628174901008606,0.7271105647087097,0.6111214756965637,0.6713238954544067,0.7410774230957031,0.8698557615280151,0.8019872903823853,0.845958948135376,0.9076489210128784,0.8516371846199036,0.8562281131744385,0.8395547866821289,0.0,0.0,0.0,0.0,0.0,0.4712201952934265],[0.0,0.0,0.3613833487033844,0.11241678893566132,0.5413646697998047,0.6631264686584473,0.7488852739334106,0.6158475279808044,0.7130981683731079,0.7223930954933167,0.8545308113098145,0.8625569343566895,0.6583266258239746,0.8424208164215088,0.5737764835357666,0.8478927612304688,0.8426550626754761,0.7760882377624512,0.4822048842906952,0.884361982345581,0.8818385601043701,0.0,0.5902349352836609],[0.0,0.0,0.3613833487033844,0.1499738097190857,0.4996548295021057,0.7637715935707092,0.7829271554946899,0.6283912062644958,0.6817585229873657,0.6971842050552368,0.8384595513343811,0.8567129373550415,0.697650134563446,0.6906650066375732,0.5842692852020264,0.848468542098999,0.8830041289329529,0.787399411201477,0.7376943826675415,0.9336913824081421,0.8555018901824951,0.0,0.6035709381103516],[0.0,0.0,0.0668569877743721,0.3932126760482788,0.667682409286499,0.4523175060749054,0.574234127998352,0.584309458732605,0.8153042793273926,0.7223526239395142,0.7561500668525696,0.7972273826599121,0.8882044553756714,0.8973399996757507,0.8006538152694702,0.8943252563476562,0.8441271781921387,0.8935681581497192,0.8091225028038025,0.0,0.0,0.0,0.5389540791511536],[0.0,0.0,0.3613833487033844,0.13258445262908936,0.5594763159751892,0.645206093788147,0.7709411382675171,0.5884277820587158,0.6186763048171997,0.7417929768562317,0.8344032764434814,0.8272286057472229,0.8946707248687744,0.9593909978866577,0.8655856251716614,0.8696776628494263,0.9063096642494202,0.0,0.0,0.0,0.0,0.0,0.48071616888046265],[0.0,0.0,0.05888042971491814,0.6038557887077332,0.7478127479553223,0.5002630949020386,0.6833302974700928,0.5760514736175537,0.5419830083847046,0.8227365612983704,0.8785715103149414,0.8940932750701904,0.7252545356750488,0.5491608381271362,0.9215964674949646,0.9156118631362915,0.0,0.0,0.0,0.0,0.0,0.0,0.42814555764198303],[0.0,0.0,0.4310322403907776,0.5363477468490601,0.719832181930542,0.47497522830963135,0.6081156730651855,0.7342431545257568,0.8273487091064453,0.7359735369682312,0.6111409664154053,0.806751012802124,0.9136016964912415,0.8661117553710938,0.7649356722831726,0.9218462705612183,0.7625737190246582,0.9087833166122437,0.8065520524978638,0.0,0.0,0.0,0.5650075078010559],[0.0,0.0,0.3613833487033844,0.12629397213459015,0.5134739279747009,0.8075228929519653,0.5576906204223633,0.7887119650840759,0.8291336297988892,0.6984878778457642,0.758364200592041,0.6536468267440796,0.4424870014190674,0.584323525428772,0.9232739210128784,0.9043478965759277,0.8131313920021057,0.8986954689025879,0.7453950643539429,0.4489296078681946,0.9209429621696472,0.8391047120094299,0.6188791394233704],[0.0,0.0,0.3613833487033844,0.1581665277481079,0.5885981321334839,0.7796889543533325,0.7844396233558655,0.6272842884063721,0.7186262011528015,0.701148509979248,0.8555688858032227,0.847734272480011,0.6626442670822144,0.8392699956893921,0.5638743042945862,0.8936030864715576,0.8775190114974976,0.7839739322662354,0.504377007484436,0.9003005027770996,0.8557270765304565,0.0,0.6047240495681763]],\"type\":\"heatmap\"}],\"layout\":{\"height\":800,\"margin\":{\"t\":60},\"width\":1600,\"xaxis\":{\"constrain\":\"domain\",\"scaleanchor\":\"y\"},\"yaxis\":{\"autorange\":\"reversed\",\"constrain\":\"domain\"},\"coloraxis\":{\"cmid\":0.0,\"colorscale\":[[0.0,\"rgb(103,0,31)\"],[0.1,\"rgb(178,24,43)\"],[0.2,\"rgb(214,96,77)\"],[0.3,\"rgb(244,165,130)\"],[0.4,\"rgb(253,219,199)\"],[0.5,\"rgb(247,247,247)\"],[0.6,\"rgb(209,229,240)\"],[0.7,\"rgb(146,197,222)\"],[0.8,\"rgb(67,147,195)\"],[0.9,\"rgb(33,102,172)\"],[1.0,\"rgb(5,48,97)\"]]}},\"name\":\"5\"}]);\n",
       "                        }).then(function(){\n",
       "                            \n",
       "var gd = document.getElementById('8d107c48-4436-465c-9757-1650e37d882f');\n",
       "var x = new MutationObserver(function (mutations, observer) {{\n",
       "        var display = window.getComputedStyle(gd).display;\n",
       "        if (!display || display === 'none') {{\n",
       "            console.log([gd, 'removed!']);\n",
       "            Plotly.purge(gd);\n",
       "            observer.disconnect();\n",
       "        }}\n",
       "}});\n",
       "\n",
       "// Listen for the removal of the full notebook cells\n",
       "var notebookContainer = gd.closest('#notebook-container');\n",
       "if (notebookContainer) {{\n",
       "    x.observe(notebookContainer, {childList: true});\n",
       "}}\n",
       "\n",
       "// Listen for the clearing of the current output cell\n",
       "var outputEl = gd.closest('.output');\n",
       "if (outputEl) {{\n",
       "    x.observe(outputEl, {childList: true});\n",
       "}}\n",
       "\n",
       "                        })                };                });            </script>        </div>"
      ]
     },
     "metadata": {},
     "output_type": "display_data"
    }
   ],
   "source": [
    "batch_size = 10\n",
    "seed = 0\n",
    "ioi_dataset, ioi_cache = generate_data_and_caches(batch_size, model=model, seed=seed, only_ioi=True, prepend_bos=True)\n",
    "\n",
    "def investigate_a_few_heads(\n",
    "    toks: Int[Tensor, \"batch seq\"],\n",
    "    head_list = [(9, 9), (10, 7), (11, 0)],\n",
    "):\n",
    "    labels = []\n",
    "    results = []\n",
    "    batch_size, seq_len = toks.shape\n",
    "\n",
    "    for head in head_list:\n",
    "        results_dict = compute_weighted_avg_logit_suppression(\n",
    "            model=model,\n",
    "            toks=toks,\n",
    "            head=head\n",
    "        )\n",
    "        weighted_avg_logit_suppression_per_position = results_dict[\"per_position\"]\n",
    "        weighted_avg_logit_suppression_per_sequence = results_dict[\"per_sequence\"]\n",
    "        pattern_non_bos = results_dict[\"pattern_non_bos\"].sum(-1)\n",
    "        pattern_non_bos = t.concat([pattern_non_bos, pattern_non_bos.mean(1, keepdims=True)], dim=1)\n",
    "        results_tensor = t.concat([weighted_avg_logit_suppression_per_position, weighted_avg_logit_suppression_per_sequence.unsqueeze(-1)], dim=-1)\n",
    "\n",
    "        results.extend([results_tensor, pattern_non_bos])\n",
    "        head_name = f\"{head[0]}.{head[1]}\"\n",
    "        labels.extend([head_name, f\"{head_name} probs\"])\n",
    "\n",
    "    text = [model.to_str_tokens(toks[i]) + [\"*\"] for i in range(batch_size)]\n",
    "    text = [[(i if i != \"<|endoftext|>\" else \"\") for i in T] for T in text]\n",
    "\n",
    "    fig = imshow(\n",
    "        t.stack(results),\n",
    "        animation_frame = 0,\n",
    "        animation_labels = labels,\n",
    "        height = 800,\n",
    "        width = 1600,\n",
    "        return_fig = True,\n",
    "    )\n",
    "\n",
    "    for i in range(len(fig.data)):\n",
    "        fig.data[i].update(\n",
    "            text=text, \n",
    "            texttemplate=\"%{text}\", \n",
    "            textfont={\"size\": 12}\n",
    "        )\n",
    "\n",
    "    fig.show()\n",
    "\n",
    "\n",
    "investigate_a_few_heads(ioi_dataset.toks)"
   ]
  },
  {
   "cell_type": "code",
   "execution_count": 216,
   "metadata": {},
   "outputs": [
    {
     "data": {
      "text/html": [
       "<div id=\"circuits-vis-d608ffd0-d0ec\" style=\"margin: 15px 0;\"/>\n",
       "    <script crossorigin type=\"module\">\n",
       "    import { render, AttentionPatterns } from \"https://unpkg.com/circuitsvis@1.39.1/dist/cdn/esm.js\";\n",
       "    render(\n",
       "      \"circuits-vis-d608ffd0-d0ec\",\n",
       "      AttentionPatterns,\n",
       "      {\"tokens\": [\"<|endoftext|>\", \"Then\", \",\", \" Kate\", \" and\", \" Jonathan\", \" had\", \" a\", \" lot\", \" of\", \" fun\", \" at\", \" the\", \" hospital\", \".\", \" Jonathan\", \" gave\", \" a\", \" ring\", \" to\", \" Kate\", \"<|endoftext|>\"], \"attention\": [[[1.0, 0.0, 0.0, 0.0, 0.0, 0.0, 0.0, 0.0, 0.0, 0.0, 0.0, 0.0, 0.0, 0.0, 0.0, 0.0, 0.0, 0.0, 0.0, 0.0, 0.0, 0.0], [0.9675536751747131, 0.03244631364941597, 0.0, 0.0, 0.0, 0.0, 0.0, 0.0, 0.0, 0.0, 0.0, 0.0, 0.0, 0.0, 0.0, 0.0, 0.0, 0.0, 0.0, 0.0, 0.0, 0.0], [0.8955411911010742, 0.057365842163562775, 0.04709292948246002, 0.0, 0.0, 0.0, 0.0, 0.0, 0.0, 0.0, 0.0, 0.0, 0.0, 0.0, 0.0, 0.0, 0.0, 0.0, 0.0, 0.0, 0.0, 0.0], [0.9721031785011292, 0.004944853950291872, 0.010128798894584179, 0.012823161669075489, 0.0, 0.0, 0.0, 0.0, 0.0, 0.0, 0.0, 0.0, 0.0, 0.0, 0.0, 0.0, 0.0, 0.0, 0.0, 0.0, 0.0, 0.0], [0.6898926496505737, 0.01284941378980875, 0.01339045725762844, 0.2557978332042694, 0.028069643303751945, 0.0, 0.0, 0.0, 0.0, 0.0, 0.0, 0.0, 0.0, 0.0, 0.0, 0.0, 0.0, 0.0, 0.0, 0.0, 0.0, 0.0], [0.926285982131958, 0.010081089101731777, 0.02095738798379898, 0.0031446448992937803, 0.02581186033785343, 0.013718953356146812, 0.0, 0.0, 0.0, 0.0, 0.0, 0.0, 0.0, 0.0, 0.0, 0.0, 0.0, 0.0, 0.0, 0.0, 0.0, 0.0], [0.8251129388809204, 0.022345367819070816, 0.028486723080277443, 0.00959155336022377, 0.038613077253103256, 0.012476751580834389, 0.06337357312440872, 0.0, 0.0, 0.0, 0.0, 0.0, 0.0, 0.0, 0.0, 0.0, 0.0, 0.0, 0.0, 0.0, 0.0, 0.0], [0.8172793984413147, 0.012926347553730011, 0.029260098934173584, 0.0034923632629215717, 0.03341767564415932, 0.002639055484905839, 0.05422785133123398, 0.04675714671611786, 0.0, 0.0, 0.0, 0.0, 0.0, 0.0, 0.0, 0.0, 0.0, 0.0, 0.0, 0.0, 0.0, 0.0], [0.9614548683166504, 0.0031097838655114174, 0.005801325663924217, 0.0009583967039361596, 0.004493772517889738, 0.0004182724514976144, 0.013402038253843784, 0.0027391372714191675, 0.007622346747666597, 0.0, 0.0, 0.0, 0.0, 0.0, 0.0, 0.0, 0.0, 0.0, 0.0, 0.0, 0.0, 0.0], [0.8028638362884521, 0.010206017643213272, 0.0172482468187809, 0.006872023921459913, 0.023020587861537933, 0.0035423787776380777, 0.02650424838066101, 0.03151581808924675, 0.03864717856049538, 0.0395796112716198, 0.0, 0.0, 0.0, 0.0, 0.0, 0.0, 0.0, 0.0, 0.0, 0.0, 0.0, 0.0], [0.8583405613899231, 0.005435171537101269, 0.02409512549638748, 0.000551316246856004, 0.016611313447356224, 0.0009604961960576475, 0.027509037405252457, 0.012765413150191307, 0.0012582896742969751, 0.006930622737854719, 0.04554269462823868, 0.0, 0.0, 0.0, 0.0, 0.0, 0.0, 0.0, 0.0, 0.0, 0.0, 0.0], [0.7897673845291138, 0.00699784466996789, 0.012168964371085167, 0.021852266043424606, 0.024949584156274796, 0.01365604531019926, 0.031060701236128807, 0.02346676215529442, 0.0023558575194329023, 0.008818607777357101, 0.013546554371714592, 0.051359500735998154, 0.0, 0.0, 0.0, 0.0, 0.0, 0.0, 0.0, 0.0, 0.0, 0.0], [0.7294106483459473, 0.012370061129331589, 0.018822304904460907, 0.005178628023713827, 0.024388905614614487, 0.0032085301354527473, 0.030073603615164757, 0.03443501144647598, 0.0026263988111168146, 0.008155661635100842, 0.015239075757563114, 0.05912609398365021, 0.05696511268615723, 0.0, 0.0, 0.0, 0.0, 0.0, 0.0, 0.0, 0.0, 0.0], [0.8101629018783569, 0.008799263276159763, 0.01912444829940796, 0.0022471891716122627, 0.018013151362538338, 0.0012313182232901454, 0.020999295637011528, 0.004756276961416006, 0.0007515090983361006, 0.0019340094877406955, 0.0024596801958978176, 0.022846419364213943, 0.009235357865691185, 0.07743930071592331, 0.0, 0.0, 0.0, 0.0, 0.0, 0.0, 0.0, 0.0], [0.20743276178836823, 0.034454070031642914, 0.024288702756166458, 0.2764313220977783, 0.0836271420121193, 0.3077292740345001, 0.014275845140218735, 0.008604450151324272, 0.0005208433140069246, 0.004079638514667749, 0.0016130558215081692, 0.00997992418706417, 0.008774933405220509, 0.0009660532814450562, 0.017221996560692787, 0.0, 0.0, 0.0, 0.0, 0.0, 0.0, 0.0], [0.7134877443313599, 0.013192372396588326, 0.023097509518265724, 0.00658935634419322, 0.08978200703859329, 0.012642246671020985, 0.06354263424873352, 0.006501160562038422, 0.0009274752228520811, 0.00440741702914238, 0.005807904060930014, 0.020745476707816124, 0.007141773123294115, 0.0037919834721833467, 0.018092146143317223, 0.010250797495245934, 0.0, 0.0, 0.0, 0.0, 0.0, 0.0], [0.14862984418869019, 0.008982704021036625, 0.010843375697731972, 0.6538223624229431, 0.032450463622808456, 0.05160992592573166, 0.008872737176716328, 0.006758563686162233, 0.0007186539587564766, 0.00322058261372149, 0.004433225840330124, 0.011313834227621555, 0.007596788927912712, 0.0015172160929068923, 0.01013747788965702, 0.03091125376522541, 0.00818097498267889, 0.0, 0.0, 0.0, 0.0, 0.0], [0.6678613424301147, 0.006495550274848938, 0.009599507786333561, 0.0029010057915002108, 0.01645665615797043, 0.0014161962317302823, 0.015182374976575375, 0.010775204747915268, 0.004019405227154493, 0.007675027009099722, 0.07524576038122177, 0.03376248478889465, 0.01690748892724514, 0.04342616721987724, 0.01766064763069153, 0.0013739439891651273, 0.04172331094741821, 0.027518033981323242, 0.0, 0.0, 0.0, 0.0], [0.7323936820030212, 0.0031249388121068478, 0.012947391718626022, 0.0025142726954072714, 0.029333684593439102, 0.0071525718085467815, 0.010154875926673412, 0.003019938478246331, 0.0009285375708714128, 0.0027344070840626955, 0.0026545252185314894, 0.014189368113875389, 0.0039528668858110905, 0.004349576309323311, 0.007751133758574724, 0.007224162109196186, 0.042363960295915604, 0.003989286720752716, 0.10922076553106308, 0.0, 0.0, 0.0], [0.04032837599515915, 0.002411013701930642, 0.0025662074331194162, 0.9112023115158081, 0.014119991101324558, 0.008488630875945091, 0.0019273289944976568, 0.0015786682488396764, 6.95315538905561e-05, 0.00039658203604631126, 0.0001637008972465992, 0.0023091582115739584, 0.0017500597750768065, 0.0002103792066918686, 0.002461531199514866, 0.004071464296430349, 0.0005650762468576431, 0.0005179162253625691, 0.00012314323976170272, 0.0047388216480612755, 0.0, 0.0], [0.7372119426727295, 0.016809415072202682, 0.024273384362459183, 0.015917742624878883, 0.05034898594021797, 0.010620038025081158, 0.015837397426366806, 0.004081752151250839, 0.0005222350591793656, 0.0024819960817694664, 0.0011634767288342118, 0.01198386587202549, 0.004063276574015617, 0.0015758685767650604, 0.014958861283957958, 0.009289860725402832, 0.014300312846899033, 0.004481188021600246, 0.007894177921116352, 0.03558678925037384, 0.016597459092736244, 0.0], [0.9392262101173401, 0.003742016851902008, 0.002971390727907419, 0.0021339005324989557, 0.0012336850631982088, 0.0013505554525181651, 0.0009539535385556519, 0.0006681301747448742, 0.00021044057211838663, 0.0006287596770562232, 0.00024106614000629634, 0.0008538167458027601, 0.0005345153040252626, 0.0006565336952917278, 0.0021002446301281452, 0.0010759211145341396, 0.00037115439772605896, 0.000376431766198948, 0.00031321303686127067, 0.0009681564406491816, 0.0009610569686628878, 0.038428787142038345]], [[1.0, 0.0, 0.0, 0.0, 0.0, 0.0, 0.0, 0.0, 0.0, 0.0, 0.0, 0.0, 0.0, 0.0, 0.0, 0.0, 0.0, 0.0, 0.0, 0.0, 0.0, 0.0], [0.998664140701294, 0.0013358332216739655, 0.0, 0.0, 0.0, 0.0, 0.0, 0.0, 0.0, 0.0, 0.0, 0.0, 0.0, 0.0, 0.0, 0.0, 0.0, 0.0, 0.0, 0.0, 0.0, 0.0], [0.994515597820282, 0.002936046104878187, 0.0025483255740255117, 0.0, 0.0, 0.0, 0.0, 0.0, 0.0, 0.0, 0.0, 0.0, 0.0, 0.0, 0.0, 0.0, 0.0, 0.0, 0.0, 0.0, 0.0, 0.0], [0.9943496584892273, 0.0006246102275326848, 0.0006056329002603889, 0.004420189186930656, 0.0, 0.0, 0.0, 0.0, 0.0, 0.0, 0.0, 0.0, 0.0, 0.0, 0.0, 0.0, 0.0, 0.0, 0.0, 0.0, 0.0, 0.0], [0.9415313005447388, 0.0036542362067848444, 0.0018171332776546478, 0.051898352801799774, 0.0010989689035341144, 0.0, 0.0, 0.0, 0.0, 0.0, 0.0, 0.0, 0.0, 0.0, 0.0, 0.0, 0.0, 0.0, 0.0, 0.0, 0.0, 0.0], [0.9916257262229919, 0.0008480225806124508, 0.0011164776515215635, 0.0026521109975874424, 0.0008638828876428306, 0.0028937971219420433, 0.0, 0.0, 0.0, 0.0, 0.0, 0.0, 0.0, 0.0, 0.0, 0.0, 0.0, 0.0, 0.0, 0.0, 0.0, 0.0], [0.9803038239479065, 0.0016330459620803595, 0.004169375170022249, 0.00767698185518384, 0.0007242635474540293, 0.004664949607104063, 0.0008274871506728232, 0.0, 0.0, 0.0, 0.0, 0.0, 0.0, 0.0, 0.0, 0.0, 0.0, 0.0, 0.0, 0.0, 0.0, 0.0], [0.9923359751701355, 0.0010556125780567527, 0.0016890001716092229, 0.0015561333857476711, 0.0007018803735263646, 0.0008203594479709864, 0.0002307685645064339, 0.0016102002700790763, 0.0, 0.0, 0.0, 0.0, 0.0, 0.0, 0.0, 0.0, 0.0, 0.0, 0.0, 0.0, 0.0, 0.0], [0.9979228377342224, 0.00020349973055999726, 0.0002623875916469842, 0.00043279360397718847, 5.578083801083267e-05, 0.00033687459654174745, 0.0001545783889014274, 0.0002635728451423347, 0.0003676551568787545, 0.0, 0.0, 0.0, 0.0, 0.0, 0.0, 0.0, 0.0, 0.0, 0.0, 0.0, 0.0, 0.0], [0.9840280413627625, 0.000923659245017916, 0.0006349246832542121, 0.005078474525362253, 0.0001893495791591704, 0.00595517223700881, 0.00015258694475051016, 0.0012045414187014103, 0.0011341944336891174, 0.0006990148685872555, 0.0, 0.0, 0.0, 0.0, 0.0, 0.0, 0.0, 0.0, 0.0, 0.0, 0.0, 0.0], [0.9878266453742981, 0.0006947606452740729, 0.0006899959989823401, 0.0007590426248498261, 0.0005387496785260737, 0.0010371978860348463, 0.0004962201346643269, 0.0006065372726880014, 0.00019230884208809584, 0.0002128130872733891, 0.006945808418095112, 0.0, 0.0, 0.0, 0.0, 0.0, 0.0, 0.0, 0.0, 0.0, 0.0, 0.0], [0.9385938048362732, 0.010771729052066803, 0.005529389251023531, 0.013081873767077923, 0.000639081175904721, 0.021692536771297455, 0.0002202600153395906, 0.00043067955994047225, 5.3998919611331075e-05, 0.00010221895354334265, 0.003905246965587139, 0.004979046992957592, 0.0, 0.0, 0.0, 0.0, 0.0, 0.0, 0.0, 0.0, 0.0, 0.0], [0.970298171043396, 0.010441037826240063, 0.002514711581170559, 0.0014256678987294436, 0.0005028972518630326, 0.0012858302798122168, 0.0003175367892254144, 0.00034321408020332456, 0.0003448405768722296, 0.00011426954006310552, 0.0037561235949397087, 0.001385283307172358, 0.007270507514476776, 0.0, 0.0, 0.0, 0.0, 0.0, 0.0, 0.0, 0.0, 0.0], [0.9727845191955566, 0.002538692206144333, 0.0005377930938266218, 0.0010242757853120565, 0.001631159451790154, 0.001864709658548236, 0.0002543184964451939, 0.00019494644948281348, 0.00039380829548463225, 0.00016616631182841957, 0.0019568956922739744, 0.0016366583295166492, 0.0009546758374199271, 0.014061380177736282, 0.0, 0.0, 0.0, 0.0, 0.0, 0.0, 0.0, 0.0], [0.3380037546157837, 0.014008021913468838, 0.0026811081916093826, 0.25055307149887085, 0.003399154869839549, 0.3609457015991211, 0.0010429960675537586, 0.0016442482592538, 0.0007445172523148358, 0.000962358433753252, 0.005924854893237352, 0.0027404765132814646, 0.0021081564482301474, 0.006734658032655716, 0.008506899699568748, 0.0, 0.0, 0.0, 0.0, 0.0, 0.0, 0.0], [0.9632795453071594, 0.0009833333315327764, 0.0014745724620297551, 0.004398162476718426, 0.003342145588248968, 0.011714845895767212, 0.0034684145357459784, 0.0005987492622807622, 0.0013371401000767946, 0.00021479211864061654, 0.003172215772792697, 0.000652181392069906, 0.00019855932623613626, 0.0017299405299127102, 0.0007831193506717682, 0.0026522797998040915, 0.0, 0.0, 0.0, 0.0, 0.0, 0.0], [0.27249830961227417, 0.035921361297369, 0.007023736368864775, 0.4906162619590759, 0.0034556991886347532, 0.08449172973632812, 0.0003448920324444771, 0.0013123593525961041, 0.00015691576118115336, 0.00016654150385875255, 0.002836925908923149, 0.001212459639646113, 0.0007216816884465516, 0.0018030398059636354, 0.007547031156718731, 0.08789915591478348, 0.0019918461330235004, 0.0, 0.0, 0.0, 0.0, 0.0], [0.9712744355201721, 0.0013928449479863048, 0.0008523901924490929, 0.0022792734671384096, 0.0022921408526599407, 0.001966066425666213, 0.00015459155838470906, 0.00029530705069191754, 0.001504061627201736, 0.0001053552477969788, 0.006435927469283342, 0.0004283489834051579, 9.150228288490325e-05, 0.0022907028906047344, 0.003945471718907356, 0.0006735881324857473, 0.001714288373477757, 0.002303663408383727, 0.0, 0.0, 0.0, 0.0], [0.9806622266769409, 0.0016642606351524591, 0.001202907646074891, 0.0011278355959802866, 0.00037400840665213764, 0.002513796091079712, 0.00010224713332718238, 0.00018071383237838745, 0.0002582660526968539, 0.00014875479973852634, 0.0007594627677462995, 0.0012175224255770445, 6.06491303187795e-05, 0.0014143063453957438, 0.0023393044248223305, 0.0009407494217157364, 0.0001958302891580388, 0.0007706585456617177, 0.004066629335284233, 0.0, 0.0, 0.0], [0.10397426038980484, 0.06122263893485069, 0.00721973879262805, 0.6615861058235168, 0.0007490942371077836, 0.08971450477838516, 0.00012910824443679303, 0.0005237263976596296, 2.0697882064268924e-05, 0.00013200003013480455, 0.00021512080274987966, 0.0002457337686792016, 0.0006314783240668476, 0.0003304887213744223, 0.0025006826035678387, 0.06901449710130692, 0.00013381213648244739, 0.000525882001966238, 0.0002486867306288332, 0.0008817118359729648, 0.0, 0.0], [0.9049126505851746, 0.0024520091246813536, 0.00157687917817384, 0.00744691351428628, 0.017791761085391045, 0.045334335416555405, 0.0013501016655936837, 0.00021599492174573243, 0.0009069895604625344, 0.0005411147722043097, 0.001345285912975669, 0.001756325364112854, 0.00017442113312426955, 0.0009902413003146648, 0.0034366364125162363, 0.004164630547165871, 0.0011698277667164803, 0.0001508566492702812, 0.00048612907994538546, 0.0008349628769792616, 0.0029619401320815086, 0.0], [0.9774749875068665, 0.000708466162905097, 0.0005372933810576797, 0.0024715238250792027, 0.000614062009844929, 0.0024345386773347855, 0.00028219184605404735, 0.0002928242611233145, 0.00016340610454790294, 0.00021794246276840568, 0.0003926759527530521, 0.00023558772227261215, 0.0003329909814056009, 0.002576900413259864, 0.0006101835169829428, 0.0010760846780613065, 0.00025908276438713074, 0.00030862228595651686, 0.00048273077118210495, 0.0001833819696912542, 0.0007942942902445793, 0.007550373207777739]], [[1.0, 0.0, 0.0, 0.0, 0.0, 0.0, 0.0, 0.0, 0.0, 0.0, 0.0, 0.0, 0.0, 0.0, 0.0, 0.0, 0.0, 0.0, 0.0, 0.0, 0.0, 0.0], [2.7722123832063517e-06, 0.9999972581863403, 0.0, 0.0, 0.0, 0.0, 0.0, 0.0, 0.0, 0.0, 0.0, 0.0, 0.0, 0.0, 0.0, 0.0, 0.0, 0.0, 0.0, 0.0, 0.0, 0.0], [6.628851406276226e-05, 0.645855724811554, 0.3540779948234558, 0.0, 0.0, 0.0, 0.0, 0.0, 0.0, 0.0, 0.0, 0.0, 0.0, 0.0, 0.0, 0.0, 0.0, 0.0, 0.0, 0.0, 0.0, 0.0], [1.3813256373396143e-05, 0.20090369880199432, 0.11403487622737885, 0.6850476264953613, 0.0, 0.0, 0.0, 0.0, 0.0, 0.0, 0.0, 0.0, 0.0, 0.0, 0.0, 0.0, 0.0, 0.0, 0.0, 0.0, 0.0, 0.0], [1.760182567522861e-05, 0.1469174474477768, 0.1678084433078766, 0.29382944107055664, 0.3914271295070648, 0.0, 0.0, 0.0, 0.0, 0.0, 0.0, 0.0, 0.0, 0.0, 0.0, 0.0, 0.0, 0.0, 0.0, 0.0, 0.0, 0.0], [2.2486172383651137e-05, 0.21722789108753204, 0.12328033149242401, 0.34349143505096436, 0.14090026915073395, 0.17507757246494293, 0.0, 0.0, 0.0, 0.0, 0.0, 0.0, 0.0, 0.0, 0.0, 0.0, 0.0, 0.0, 0.0, 0.0, 0.0, 0.0], [1.7937394659384154e-05, 0.24187777936458588, 0.2540067434310913, 0.08991020172834396, 0.04111076891422272, 0.09279889613389969, 0.28027772903442383, 0.0, 0.0, 0.0, 0.0, 0.0, 0.0, 0.0, 0.0, 0.0, 0.0, 0.0, 0.0, 0.0, 0.0, 0.0], [7.155911589507014e-05, 0.1996230036020279, 0.15927661955356598, 0.0384952686727047, 0.020752182230353355, 0.08706992119550705, 0.40011656284332275, 0.09459488838911057, 0.0, 0.0, 0.0, 0.0, 0.0, 0.0, 0.0, 0.0, 0.0, 0.0, 0.0, 0.0, 0.0, 0.0], [1.9570561562431976e-05, 0.1341976523399353, 0.07987906038761139, 0.08010032773017883, 0.012770485132932663, 0.07488789409399033, 0.12442976236343384, 0.24494458734989166, 0.24877065420150757, 0.0, 0.0, 0.0, 0.0, 0.0, 0.0, 0.0, 0.0, 0.0, 0.0, 0.0, 0.0, 0.0], [3.2789659599075094e-05, 0.20061953365802765, 0.13338212668895721, 0.02987712435424328, 0.016512854024767876, 0.03930080309510231, 0.26687517762184143, 0.14006361365318298, 0.09773513674736023, 0.07560085505247116, 0.0, 0.0, 0.0, 0.0, 0.0, 0.0, 0.0, 0.0, 0.0, 0.0, 0.0, 0.0], [1.560420605528634e-05, 0.09893152117729187, 0.06770086288452148, 0.025455374270677567, 0.007589718792587519, 0.06788064539432526, 0.2977815568447113, 0.07859081774950027, 0.08218047767877579, 0.049058593809604645, 0.2248147875070572, 0.0, 0.0, 0.0, 0.0, 0.0, 0.0, 0.0, 0.0, 0.0, 0.0, 0.0], [0.00012293951294850558, 0.07821863144636154, 0.06039920076727867, 0.06478505581617355, 0.0354297012090683, 0.05676114931702614, 0.18470005691051483, 0.11319303512573242, 0.04963523522019386, 0.07518583536148071, 0.1422385424375534, 0.13933062553405762, 0.0, 0.0, 0.0, 0.0, 0.0, 0.0, 0.0, 0.0, 0.0, 0.0], [0.0005020055687054992, 0.07823166251182556, 0.08500126004219055, 0.05146804824471474, 0.02380688115954399, 0.05840413644909859, 0.06939190626144409, 0.10590971261262894, 0.011728874407708645, 0.049154095351696014, 0.022936362773180008, 0.2654714286327362, 0.17799359560012817, 0.0, 0.0, 0.0, 0.0, 0.0, 0.0, 0.0, 0.0, 0.0], [1.3417700756690465e-05, 0.07385918498039246, 0.09378035366535187, 0.04237531125545502, 0.003949679434299469, 0.11977005749940872, 0.06237436830997467, 0.04605665057897568, 0.08543948084115982, 0.02014496736228466, 0.3366740345954895, 0.03231876343488693, 0.03923729434609413, 0.04400641471147537, 0.0, 0.0, 0.0, 0.0, 0.0, 0.0, 0.0, 0.0], [0.0003010272339452058, 0.05183237046003342, 0.04557259380817413, 0.034289829432964325, 0.013279659673571587, 0.04558832198381424, 0.07342708855867386, 0.012387811206281185, 0.014157630503177643, 0.01239954773336649, 0.03632524609565735, 0.01705092005431652, 0.008392714895308018, 0.015376530587673187, 0.6196186542510986, 0.0, 0.0, 0.0, 0.0, 0.0, 0.0, 0.0], [2.524259343772428e-06, 0.032530780881643295, 0.04312155023217201, 0.018695013597607613, 0.010801149532198906, 0.06708940863609314, 0.43130868673324585, 0.014781218022108078, 0.009076956659555435, 0.014064296148717403, 0.016763100400567055, 0.01568261906504631, 0.0031391498632729053, 0.0031062974594533443, 0.08937209099531174, 0.23046515882015228, 0.0, 0.0, 0.0, 0.0, 0.0, 0.0], [6.381062121363357e-05, 0.039116326719522476, 0.05289943143725395, 0.014882386662065983, 0.027671048417687416, 0.030849240720272064, 0.05077267810702324, 0.03355264291167259, 0.018855413421988487, 0.01018471922725439, 0.014450850896537304, 0.020932499319314957, 0.021866431459784508, 0.019203433766961098, 0.43618857860565186, 0.08025742322206497, 0.12825314700603485, 0.0, 0.0, 0.0, 0.0, 0.0], [0.00015574292046949267, 0.046338364481925964, 0.04656516760587692, 0.04204009100794792, 0.02123185060918331, 0.0522594079375267, 0.11623340100049973, 0.04579358175396919, 0.00848856009542942, 0.038208942860364914, 0.02888014353811741, 0.06132340803742409, 0.03631603345274925, 0.006904117297381163, 0.05171394720673561, 0.11325989663600922, 0.09617753326892853, 0.1881098747253418, 0.0, 0.0, 0.0, 0.0], [4.5845812564948574e-05, 0.05591931566596031, 0.03591901436448097, 0.020983926951885223, 0.025665393099188805, 0.032630518078804016, 0.0792761966586113, 0.06856098026037216, 0.04996117949485779, 0.015199339017271996, 0.05493742972612381, 0.030965635553002357, 0.0201482642441988, 0.03284822776913643, 0.04265211150050163, 0.1175985261797905, 0.14155977964401245, 0.10511794686317444, 0.07001037150621414, 0.0, 0.0, 0.0], [4.5121552830096334e-05, 0.029655152931809425, 0.025055568665266037, 0.011626183986663818, 0.03140169382095337, 0.012222124263644218, 0.017939677461981773, 0.01687842607498169, 0.004784600343555212, 0.002207292476668954, 0.006385423243045807, 0.015669137239456177, 0.009767258539795876, 0.004783312324434519, 0.2833942174911499, 0.07231293618679047, 0.3720947504043579, 0.016896186396479607, 0.0184483639895916, 0.04843272268772125, 0.0, 0.0], [1.3944488273409661e-05, 0.01941889524459839, 0.029827222228050232, 0.026724165305495262, 0.007394302636384964, 0.04863062500953674, 0.04723421111702919, 0.031984563916921616, 0.026864830404520035, 0.006121495272964239, 0.04237350821495056, 0.030334504321217537, 0.010473228059709072, 0.030882230028510094, 0.036874961107969284, 0.1987135112285614, 0.0516001358628273, 0.04049278795719147, 0.1316351592540741, 0.026722146198153496, 0.15568363666534424, 0.0], [2.5455603918089764e-06, 0.13844145834445953, 0.07595541328191757, 0.16286687552928925, 0.01912853494286537, 0.05282426252961159, 0.040107909590005875, 0.05926106497645378, 0.03727208450436592, 0.028429437428712845, 0.025535382330417633, 0.011228850111365318, 0.045302268117666245, 0.016920791938900948, 0.040884826332330704, 0.04092658311128616, 0.02820117026567459, 0.02876674383878708, 0.026042960584163666, 0.007195490412414074, 0.02066786028444767, 0.09403744339942932]]], \"headLabels\": [\"10.7\", \"9.9\", \"11.8\"]}\n",
       "    )\n",
       "    </script>"
      ],
      "text/plain": [
       "<circuitsvis.utils.render.RenderedHTML at 0x7ff4747296d0>"
      ]
     },
     "execution_count": 216,
     "metadata": {},
     "output_type": "execute_result"
    }
   ],
   "source": [
    "batch_idx = 3\n",
    "\n",
    "cv.attention.attention_patterns(\n",
    "    tokens = model.to_str_tokens(ioi_dataset.toks[batch_idx]),\n",
    "    attention = t.stack([ioi_cache[\"pattern\", 10][batch_idx, 7], ioi_cache[\"pattern\", 9][batch_idx, 9], ioi_cache[\"pattern\", 11][batch_idx, 8]]),\n",
    "    attention_head_names = [\"10.7\", \"9.9\", \"11.8\"]\n",
    ")"
   ]
  },
  {
   "cell_type": "code",
   "execution_count": 8,
   "metadata": {},
   "outputs": [
    {
     "data": {
      "application/vnd.jupyter.widget-view+json": {
       "model_id": "b7618f450a1743adb2c50414109e744c",
       "version_major": 2,
       "version_minor": 0
      },
      "text/plain": [
       "  0%|          | 0/144 [00:00<?, ?it/s]"
      ]
     },
     "metadata": {},
     "output_type": "display_data"
    }
   ],
   "source": [
    "def create_really_hacky_first_pass_metric(\n",
    "    batch_size: int = 50,\n",
    "    seed: int = 0,\n",
    "):\n",
    "    ioi_dataset, ioi_cache = generate_data_and_caches(batch_size, model=model, seed=seed, only_ioi=True, prepend_bos=True)\n",
    "\n",
    "    all_results = t.zeros(12, 12)\n",
    "\n",
    "    for layer, head_idx in tqdm(list(itertools.product(range(12), range(12)))):\n",
    "        results = compute_weighted_avg_logit_suppression(\n",
    "            model=model,\n",
    "            toks=ioi_dataset.toks,\n",
    "            head=(layer, head_idx)\n",
    "        )\n",
    "\n",
    "        all_results[layer, head_idx] = results[\"per_sequence\"].mean()\n",
    "\n",
    "    return all_results\n",
    "\n",
    "all_results = create_really_hacky_first_pass_metric()"
   ]
  },
  {
   "cell_type": "code",
   "execution_count": 9,
   "metadata": {},
   "outputs": [
    {
     "data": {
      "application/vnd.plotly.v1+json": {
       "config": {
        "displaylogo": false,
        "plotlyServerURL": "https://plot.ly"
       },
       "data": [
        {
         "coloraxis": "coloraxis",
         "hovertemplate": "x: %{x}<br>y: %{y}<br>color: %{z}<extra></extra>",
         "name": "0",
         "type": "heatmap",
         "xaxis": "x",
         "yaxis": "y",
         "z": [
          [
           0,
           0,
           0,
           0,
           0,
           0,
           0,
           -0.007849895395338535,
           -0.03446781262755394,
           -0.027755945920944214,
           0,
           -0.013902192004024982
          ],
          [
           -0.014413456432521343,
           -0.036917880177497864,
           -0.02517884224653244,
           0,
           -0.0023540763650089502,
           -0.04697032645344734,
           0,
           0,
           0,
           0,
           -0.025871004909276962,
           -0.028776325285434723
          ],
          [
           -0.006151237525045872,
           0,
           -0.009896082803606987,
           0,
           0,
           -0.01950601488351822,
           0,
           -0.0030124338809400797,
           -0.02160618267953396,
           0,
           -0.036647893488407135,
           0
          ],
          [
           0,
           0,
           -0.00986436940729618,
           0,
           0,
           0,
           0,
           0,
           -0.015413975343108177,
           0,
           -0.02340744435787201,
           0
          ],
          [
           -0.017270905897021294,
           0,
           0,
           0,
           -0.02201460860669613,
           0,
           -0.004783956799656153,
           -0.028307802975177765,
           0,
           0,
           0,
           0
          ],
          [
           0,
           0,
           0,
           0,
           -0.015580627135932446,
           0,
           0,
           0,
           -0.014079219661653042,
           -0.026945361867547035,
           0,
           -0.023368455469608307
          ],
          [
           0,
           0,
           -0.000045158441935200244,
           0,
           0,
           -0.04596199095249176,
           -0.0451778769493103,
           0,
           0,
           0,
           0,
           0
          ],
          [
           -0.0071565620601177216,
           0,
           0,
           -0.05328415334224701,
           0,
           0,
           -0.01411093957722187,
           0,
           0,
           -0.029092013835906982,
           0,
           0
          ],
          [
           -0.012707212008535862,
           0,
           0,
           0,
           0,
           0,
           0,
           -0.007288965862244368,
           0,
           -0.01878954842686653,
           -0.1593860536813736,
           0
          ],
          [
           0,
           0,
           0,
           0,
           -0.017828382551670074,
           -0.0497494675219059,
           0,
           -0.018955901265144348,
           0,
           0,
           0,
           0
          ],
          [
           0,
           0,
           0,
           0,
           0,
           0,
           0,
           -1.1586142778396606,
           0,
           0,
           0,
           0
          ],
          [
           -0.0523034892976284,
           0,
           0,
           0,
           0,
           0,
           0,
           0,
           0,
           0,
           -0.650367259979248,
           0
          ]
         ]
        }
       ],
       "layout": {
        "coloraxis": {
         "cmid": 0,
         "colorscale": [
          [
           0,
           "rgb(103,0,31)"
          ],
          [
           0.1,
           "rgb(178,24,43)"
          ],
          [
           0.2,
           "rgb(214,96,77)"
          ],
          [
           0.3,
           "rgb(244,165,130)"
          ],
          [
           0.4,
           "rgb(253,219,199)"
          ],
          [
           0.5,
           "rgb(247,247,247)"
          ],
          [
           0.6,
           "rgb(209,229,240)"
          ],
          [
           0.7,
           "rgb(146,197,222)"
          ],
          [
           0.8,
           "rgb(67,147,195)"
          ],
          [
           0.9,
           "rgb(33,102,172)"
          ],
          [
           1,
           "rgb(5,48,97)"
          ]
         ]
        },
        "height": 800,
        "modebar": {
         "add": [
          "drawline",
          "drawopenpath",
          "drawclosedpath",
          "drawcircle",
          "drawrect",
          "eraseshape"
         ]
        },
        "template": {
         "data": {
          "bar": [
           {
            "error_x": {
             "color": "#2a3f5f"
            },
            "error_y": {
             "color": "#2a3f5f"
            },
            "marker": {
             "line": {
              "color": "#E5ECF6",
              "width": 0.5
             },
             "pattern": {
              "fillmode": "overlay",
              "size": 10,
              "solidity": 0.2
             }
            },
            "type": "bar"
           }
          ],
          "barpolar": [
           {
            "marker": {
             "line": {
              "color": "#E5ECF6",
              "width": 0.5
             },
             "pattern": {
              "fillmode": "overlay",
              "size": 10,
              "solidity": 0.2
             }
            },
            "type": "barpolar"
           }
          ],
          "carpet": [
           {
            "aaxis": {
             "endlinecolor": "#2a3f5f",
             "gridcolor": "white",
             "linecolor": "white",
             "minorgridcolor": "white",
             "startlinecolor": "#2a3f5f"
            },
            "baxis": {
             "endlinecolor": "#2a3f5f",
             "gridcolor": "white",
             "linecolor": "white",
             "minorgridcolor": "white",
             "startlinecolor": "#2a3f5f"
            },
            "type": "carpet"
           }
          ],
          "choropleth": [
           {
            "colorbar": {
             "outlinewidth": 0,
             "ticks": ""
            },
            "type": "choropleth"
           }
          ],
          "contour": [
           {
            "colorbar": {
             "outlinewidth": 0,
             "ticks": ""
            },
            "colorscale": [
             [
              0,
              "#0d0887"
             ],
             [
              0.1111111111111111,
              "#46039f"
             ],
             [
              0.2222222222222222,
              "#7201a8"
             ],
             [
              0.3333333333333333,
              "#9c179e"
             ],
             [
              0.4444444444444444,
              "#bd3786"
             ],
             [
              0.5555555555555556,
              "#d8576b"
             ],
             [
              0.6666666666666666,
              "#ed7953"
             ],
             [
              0.7777777777777778,
              "#fb9f3a"
             ],
             [
              0.8888888888888888,
              "#fdca26"
             ],
             [
              1,
              "#f0f921"
             ]
            ],
            "type": "contour"
           }
          ],
          "contourcarpet": [
           {
            "colorbar": {
             "outlinewidth": 0,
             "ticks": ""
            },
            "type": "contourcarpet"
           }
          ],
          "heatmap": [
           {
            "colorbar": {
             "outlinewidth": 0,
             "ticks": ""
            },
            "colorscale": [
             [
              0,
              "#0d0887"
             ],
             [
              0.1111111111111111,
              "#46039f"
             ],
             [
              0.2222222222222222,
              "#7201a8"
             ],
             [
              0.3333333333333333,
              "#9c179e"
             ],
             [
              0.4444444444444444,
              "#bd3786"
             ],
             [
              0.5555555555555556,
              "#d8576b"
             ],
             [
              0.6666666666666666,
              "#ed7953"
             ],
             [
              0.7777777777777778,
              "#fb9f3a"
             ],
             [
              0.8888888888888888,
              "#fdca26"
             ],
             [
              1,
              "#f0f921"
             ]
            ],
            "type": "heatmap"
           }
          ],
          "heatmapgl": [
           {
            "colorbar": {
             "outlinewidth": 0,
             "ticks": ""
            },
            "colorscale": [
             [
              0,
              "#0d0887"
             ],
             [
              0.1111111111111111,
              "#46039f"
             ],
             [
              0.2222222222222222,
              "#7201a8"
             ],
             [
              0.3333333333333333,
              "#9c179e"
             ],
             [
              0.4444444444444444,
              "#bd3786"
             ],
             [
              0.5555555555555556,
              "#d8576b"
             ],
             [
              0.6666666666666666,
              "#ed7953"
             ],
             [
              0.7777777777777778,
              "#fb9f3a"
             ],
             [
              0.8888888888888888,
              "#fdca26"
             ],
             [
              1,
              "#f0f921"
             ]
            ],
            "type": "heatmapgl"
           }
          ],
          "histogram": [
           {
            "marker": {
             "pattern": {
              "fillmode": "overlay",
              "size": 10,
              "solidity": 0.2
             }
            },
            "type": "histogram"
           }
          ],
          "histogram2d": [
           {
            "colorbar": {
             "outlinewidth": 0,
             "ticks": ""
            },
            "colorscale": [
             [
              0,
              "#0d0887"
             ],
             [
              0.1111111111111111,
              "#46039f"
             ],
             [
              0.2222222222222222,
              "#7201a8"
             ],
             [
              0.3333333333333333,
              "#9c179e"
             ],
             [
              0.4444444444444444,
              "#bd3786"
             ],
             [
              0.5555555555555556,
              "#d8576b"
             ],
             [
              0.6666666666666666,
              "#ed7953"
             ],
             [
              0.7777777777777778,
              "#fb9f3a"
             ],
             [
              0.8888888888888888,
              "#fdca26"
             ],
             [
              1,
              "#f0f921"
             ]
            ],
            "type": "histogram2d"
           }
          ],
          "histogram2dcontour": [
           {
            "colorbar": {
             "outlinewidth": 0,
             "ticks": ""
            },
            "colorscale": [
             [
              0,
              "#0d0887"
             ],
             [
              0.1111111111111111,
              "#46039f"
             ],
             [
              0.2222222222222222,
              "#7201a8"
             ],
             [
              0.3333333333333333,
              "#9c179e"
             ],
             [
              0.4444444444444444,
              "#bd3786"
             ],
             [
              0.5555555555555556,
              "#d8576b"
             ],
             [
              0.6666666666666666,
              "#ed7953"
             ],
             [
              0.7777777777777778,
              "#fb9f3a"
             ],
             [
              0.8888888888888888,
              "#fdca26"
             ],
             [
              1,
              "#f0f921"
             ]
            ],
            "type": "histogram2dcontour"
           }
          ],
          "mesh3d": [
           {
            "colorbar": {
             "outlinewidth": 0,
             "ticks": ""
            },
            "type": "mesh3d"
           }
          ],
          "parcoords": [
           {
            "line": {
             "colorbar": {
              "outlinewidth": 0,
              "ticks": ""
             }
            },
            "type": "parcoords"
           }
          ],
          "pie": [
           {
            "automargin": true,
            "type": "pie"
           }
          ],
          "scatter": [
           {
            "fillpattern": {
             "fillmode": "overlay",
             "size": 10,
             "solidity": 0.2
            },
            "type": "scatter"
           }
          ],
          "scatter3d": [
           {
            "line": {
             "colorbar": {
              "outlinewidth": 0,
              "ticks": ""
             }
            },
            "marker": {
             "colorbar": {
              "outlinewidth": 0,
              "ticks": ""
             }
            },
            "type": "scatter3d"
           }
          ],
          "scattercarpet": [
           {
            "marker": {
             "colorbar": {
              "outlinewidth": 0,
              "ticks": ""
             }
            },
            "type": "scattercarpet"
           }
          ],
          "scattergeo": [
           {
            "marker": {
             "colorbar": {
              "outlinewidth": 0,
              "ticks": ""
             }
            },
            "type": "scattergeo"
           }
          ],
          "scattergl": [
           {
            "marker": {
             "colorbar": {
              "outlinewidth": 0,
              "ticks": ""
             }
            },
            "type": "scattergl"
           }
          ],
          "scattermapbox": [
           {
            "marker": {
             "colorbar": {
              "outlinewidth": 0,
              "ticks": ""
             }
            },
            "type": "scattermapbox"
           }
          ],
          "scatterpolar": [
           {
            "marker": {
             "colorbar": {
              "outlinewidth": 0,
              "ticks": ""
             }
            },
            "type": "scatterpolar"
           }
          ],
          "scatterpolargl": [
           {
            "marker": {
             "colorbar": {
              "outlinewidth": 0,
              "ticks": ""
             }
            },
            "type": "scatterpolargl"
           }
          ],
          "scatterternary": [
           {
            "marker": {
             "colorbar": {
              "outlinewidth": 0,
              "ticks": ""
             }
            },
            "type": "scatterternary"
           }
          ],
          "surface": [
           {
            "colorbar": {
             "outlinewidth": 0,
             "ticks": ""
            },
            "colorscale": [
             [
              0,
              "#0d0887"
             ],
             [
              0.1111111111111111,
              "#46039f"
             ],
             [
              0.2222222222222222,
              "#7201a8"
             ],
             [
              0.3333333333333333,
              "#9c179e"
             ],
             [
              0.4444444444444444,
              "#bd3786"
             ],
             [
              0.5555555555555556,
              "#d8576b"
             ],
             [
              0.6666666666666666,
              "#ed7953"
             ],
             [
              0.7777777777777778,
              "#fb9f3a"
             ],
             [
              0.8888888888888888,
              "#fdca26"
             ],
             [
              1,
              "#f0f921"
             ]
            ],
            "type": "surface"
           }
          ],
          "table": [
           {
            "cells": {
             "fill": {
              "color": "#EBF0F8"
             },
             "line": {
              "color": "white"
             }
            },
            "header": {
             "fill": {
              "color": "#C8D4E3"
             },
             "line": {
              "color": "white"
             }
            },
            "type": "table"
           }
          ]
         },
         "layout": {
          "annotationdefaults": {
           "arrowcolor": "#2a3f5f",
           "arrowhead": 0,
           "arrowwidth": 1
          },
          "autotypenumbers": "strict",
          "coloraxis": {
           "colorbar": {
            "outlinewidth": 0,
            "ticks": ""
           }
          },
          "colorscale": {
           "diverging": [
            [
             0,
             "#8e0152"
            ],
            [
             0.1,
             "#c51b7d"
            ],
            [
             0.2,
             "#de77ae"
            ],
            [
             0.3,
             "#f1b6da"
            ],
            [
             0.4,
             "#fde0ef"
            ],
            [
             0.5,
             "#f7f7f7"
            ],
            [
             0.6,
             "#e6f5d0"
            ],
            [
             0.7,
             "#b8e186"
            ],
            [
             0.8,
             "#7fbc41"
            ],
            [
             0.9,
             "#4d9221"
            ],
            [
             1,
             "#276419"
            ]
           ],
           "sequential": [
            [
             0,
             "#0d0887"
            ],
            [
             0.1111111111111111,
             "#46039f"
            ],
            [
             0.2222222222222222,
             "#7201a8"
            ],
            [
             0.3333333333333333,
             "#9c179e"
            ],
            [
             0.4444444444444444,
             "#bd3786"
            ],
            [
             0.5555555555555556,
             "#d8576b"
            ],
            [
             0.6666666666666666,
             "#ed7953"
            ],
            [
             0.7777777777777778,
             "#fb9f3a"
            ],
            [
             0.8888888888888888,
             "#fdca26"
            ],
            [
             1,
             "#f0f921"
            ]
           ],
           "sequentialminus": [
            [
             0,
             "#0d0887"
            ],
            [
             0.1111111111111111,
             "#46039f"
            ],
            [
             0.2222222222222222,
             "#7201a8"
            ],
            [
             0.3333333333333333,
             "#9c179e"
            ],
            [
             0.4444444444444444,
             "#bd3786"
            ],
            [
             0.5555555555555556,
             "#d8576b"
            ],
            [
             0.6666666666666666,
             "#ed7953"
            ],
            [
             0.7777777777777778,
             "#fb9f3a"
            ],
            [
             0.8888888888888888,
             "#fdca26"
            ],
            [
             1,
             "#f0f921"
            ]
           ]
          },
          "colorway": [
           "#636efa",
           "#EF553B",
           "#00cc96",
           "#ab63fa",
           "#FFA15A",
           "#19d3f3",
           "#FF6692",
           "#B6E880",
           "#FF97FF",
           "#FECB52"
          ],
          "font": {
           "color": "#2a3f5f"
          },
          "geo": {
           "bgcolor": "white",
           "lakecolor": "white",
           "landcolor": "#E5ECF6",
           "showlakes": true,
           "showland": true,
           "subunitcolor": "white"
          },
          "hoverlabel": {
           "align": "left"
          },
          "hovermode": "closest",
          "mapbox": {
           "style": "light"
          },
          "paper_bgcolor": "white",
          "plot_bgcolor": "#E5ECF6",
          "polar": {
           "angularaxis": {
            "gridcolor": "white",
            "linecolor": "white",
            "ticks": ""
           },
           "bgcolor": "#E5ECF6",
           "radialaxis": {
            "gridcolor": "white",
            "linecolor": "white",
            "ticks": ""
           }
          },
          "scene": {
           "xaxis": {
            "backgroundcolor": "#E5ECF6",
            "gridcolor": "white",
            "gridwidth": 2,
            "linecolor": "white",
            "showbackground": true,
            "ticks": "",
            "zerolinecolor": "white"
           },
           "yaxis": {
            "backgroundcolor": "#E5ECF6",
            "gridcolor": "white",
            "gridwidth": 2,
            "linecolor": "white",
            "showbackground": true,
            "ticks": "",
            "zerolinecolor": "white"
           },
           "zaxis": {
            "backgroundcolor": "#E5ECF6",
            "gridcolor": "white",
            "gridwidth": 2,
            "linecolor": "white",
            "showbackground": true,
            "ticks": "",
            "zerolinecolor": "white"
           }
          },
          "shapedefaults": {
           "line": {
            "color": "#2a3f5f"
           }
          },
          "ternary": {
           "aaxis": {
            "gridcolor": "white",
            "linecolor": "white",
            "ticks": ""
           },
           "baxis": {
            "gridcolor": "white",
            "linecolor": "white",
            "ticks": ""
           },
           "bgcolor": "#E5ECF6",
           "caxis": {
            "gridcolor": "white",
            "linecolor": "white",
            "ticks": ""
           }
          },
          "title": {
           "x": 0.05
          },
          "xaxis": {
           "automargin": true,
           "gridcolor": "white",
           "linecolor": "white",
           "ticks": "",
           "title": {
            "standoff": 15
           },
           "zerolinecolor": "white",
           "zerolinewidth": 2
          },
          "yaxis": {
           "automargin": true,
           "gridcolor": "white",
           "linecolor": "white",
           "ticks": "",
           "title": {
            "standoff": 15
           },
           "zerolinecolor": "white",
           "zerolinewidth": 2
          }
         }
        },
        "title": {
         "text": "Source suppression scores"
        },
        "xaxis": {
         "anchor": "y",
         "constrain": "domain",
         "domain": [
          0,
          1
         ],
         "scaleanchor": "y"
        },
        "yaxis": {
         "anchor": "x",
         "autorange": "reversed",
         "constrain": "domain",
         "domain": [
          0,
          1
         ]
        }
       }
      },
      "text/html": [
       "<div>                            <div id=\"a826a2f4-cfff-47d6-b055-002bbbc1204b\" class=\"plotly-graph-div\" style=\"height:800px; width:100%;\"></div>            <script type=\"text/javascript\">                require([\"plotly\"], function(Plotly) {                    window.PLOTLYENV=window.PLOTLYENV || {};                                    if (document.getElementById(\"a826a2f4-cfff-47d6-b055-002bbbc1204b\")) {                    Plotly.newPlot(                        \"a826a2f4-cfff-47d6-b055-002bbbc1204b\",                        [{\"coloraxis\":\"coloraxis\",\"name\":\"0\",\"z\":[[0.0,0.0,0.0,0.0,0.0,0.0,0.0,-0.007849895395338535,-0.03446781262755394,-0.027755945920944214,0.0,-0.013902192004024982],[-0.014413456432521343,-0.036917880177497864,-0.02517884224653244,0.0,-0.0023540763650089502,-0.04697032645344734,0.0,0.0,0.0,0.0,-0.025871004909276962,-0.028776325285434723],[-0.006151237525045872,0.0,-0.009896082803606987,0.0,0.0,-0.01950601488351822,0.0,-0.0030124338809400797,-0.02160618267953396,0.0,-0.036647893488407135,0.0],[0.0,0.0,-0.00986436940729618,0.0,0.0,0.0,0.0,0.0,-0.015413975343108177,0.0,-0.02340744435787201,0.0],[-0.017270905897021294,0.0,0.0,0.0,-0.02201460860669613,0.0,-0.004783956799656153,-0.028307802975177765,0.0,0.0,0.0,0.0],[0.0,0.0,0.0,0.0,-0.015580627135932446,0.0,0.0,0.0,-0.014079219661653042,-0.026945361867547035,0.0,-0.023368455469608307],[0.0,0.0,-4.5158441935200244e-05,0.0,0.0,-0.04596199095249176,-0.0451778769493103,0.0,0.0,0.0,0.0,0.0],[-0.0071565620601177216,0.0,0.0,-0.05328415334224701,0.0,0.0,-0.01411093957722187,0.0,0.0,-0.029092013835906982,0.0,0.0],[-0.012707212008535862,0.0,0.0,0.0,0.0,0.0,0.0,-0.007288965862244368,0.0,-0.01878954842686653,-0.1593860536813736,0.0],[0.0,0.0,0.0,0.0,-0.017828382551670074,-0.0497494675219059,0.0,-0.018955901265144348,0.0,0.0,0.0,0.0],[0.0,0.0,0.0,0.0,0.0,0.0,0.0,-1.1586142778396606,0.0,0.0,0.0,0.0],[-0.0523034892976284,0.0,0.0,0.0,0.0,0.0,0.0,0.0,0.0,0.0,-0.650367259979248,0.0]],\"type\":\"heatmap\",\"xaxis\":\"x\",\"yaxis\":\"y\",\"hovertemplate\":\"x: %{x}\\u003cbr\\u003ey: %{y}\\u003cbr\\u003ecolor: %{z}\\u003cextra\\u003e\\u003c\\u002fextra\\u003e\"}],                        {\"template\":{\"data\":{\"histogram2dcontour\":[{\"type\":\"histogram2dcontour\",\"colorbar\":{\"outlinewidth\":0,\"ticks\":\"\"},\"colorscale\":[[0.0,\"#0d0887\"],[0.1111111111111111,\"#46039f\"],[0.2222222222222222,\"#7201a8\"],[0.3333333333333333,\"#9c179e\"],[0.4444444444444444,\"#bd3786\"],[0.5555555555555556,\"#d8576b\"],[0.6666666666666666,\"#ed7953\"],[0.7777777777777778,\"#fb9f3a\"],[0.8888888888888888,\"#fdca26\"],[1.0,\"#f0f921\"]]}],\"choropleth\":[{\"type\":\"choropleth\",\"colorbar\":{\"outlinewidth\":0,\"ticks\":\"\"}}],\"histogram2d\":[{\"type\":\"histogram2d\",\"colorbar\":{\"outlinewidth\":0,\"ticks\":\"\"},\"colorscale\":[[0.0,\"#0d0887\"],[0.1111111111111111,\"#46039f\"],[0.2222222222222222,\"#7201a8\"],[0.3333333333333333,\"#9c179e\"],[0.4444444444444444,\"#bd3786\"],[0.5555555555555556,\"#d8576b\"],[0.6666666666666666,\"#ed7953\"],[0.7777777777777778,\"#fb9f3a\"],[0.8888888888888888,\"#fdca26\"],[1.0,\"#f0f921\"]]}],\"heatmap\":[{\"type\":\"heatmap\",\"colorbar\":{\"outlinewidth\":0,\"ticks\":\"\"},\"colorscale\":[[0.0,\"#0d0887\"],[0.1111111111111111,\"#46039f\"],[0.2222222222222222,\"#7201a8\"],[0.3333333333333333,\"#9c179e\"],[0.4444444444444444,\"#bd3786\"],[0.5555555555555556,\"#d8576b\"],[0.6666666666666666,\"#ed7953\"],[0.7777777777777778,\"#fb9f3a\"],[0.8888888888888888,\"#fdca26\"],[1.0,\"#f0f921\"]]}],\"heatmapgl\":[{\"type\":\"heatmapgl\",\"colorbar\":{\"outlinewidth\":0,\"ticks\":\"\"},\"colorscale\":[[0.0,\"#0d0887\"],[0.1111111111111111,\"#46039f\"],[0.2222222222222222,\"#7201a8\"],[0.3333333333333333,\"#9c179e\"],[0.4444444444444444,\"#bd3786\"],[0.5555555555555556,\"#d8576b\"],[0.6666666666666666,\"#ed7953\"],[0.7777777777777778,\"#fb9f3a\"],[0.8888888888888888,\"#fdca26\"],[1.0,\"#f0f921\"]]}],\"contourcarpet\":[{\"type\":\"contourcarpet\",\"colorbar\":{\"outlinewidth\":0,\"ticks\":\"\"}}],\"contour\":[{\"type\":\"contour\",\"colorbar\":{\"outlinewidth\":0,\"ticks\":\"\"},\"colorscale\":[[0.0,\"#0d0887\"],[0.1111111111111111,\"#46039f\"],[0.2222222222222222,\"#7201a8\"],[0.3333333333333333,\"#9c179e\"],[0.4444444444444444,\"#bd3786\"],[0.5555555555555556,\"#d8576b\"],[0.6666666666666666,\"#ed7953\"],[0.7777777777777778,\"#fb9f3a\"],[0.8888888888888888,\"#fdca26\"],[1.0,\"#f0f921\"]]}],\"surface\":[{\"type\":\"surface\",\"colorbar\":{\"outlinewidth\":0,\"ticks\":\"\"},\"colorscale\":[[0.0,\"#0d0887\"],[0.1111111111111111,\"#46039f\"],[0.2222222222222222,\"#7201a8\"],[0.3333333333333333,\"#9c179e\"],[0.4444444444444444,\"#bd3786\"],[0.5555555555555556,\"#d8576b\"],[0.6666666666666666,\"#ed7953\"],[0.7777777777777778,\"#fb9f3a\"],[0.8888888888888888,\"#fdca26\"],[1.0,\"#f0f921\"]]}],\"mesh3d\":[{\"type\":\"mesh3d\",\"colorbar\":{\"outlinewidth\":0,\"ticks\":\"\"}}],\"scatter\":[{\"fillpattern\":{\"fillmode\":\"overlay\",\"size\":10,\"solidity\":0.2},\"type\":\"scatter\"}],\"parcoords\":[{\"type\":\"parcoords\",\"line\":{\"colorbar\":{\"outlinewidth\":0,\"ticks\":\"\"}}}],\"scatterpolargl\":[{\"type\":\"scatterpolargl\",\"marker\":{\"colorbar\":{\"outlinewidth\":0,\"ticks\":\"\"}}}],\"bar\":[{\"error_x\":{\"color\":\"#2a3f5f\"},\"error_y\":{\"color\":\"#2a3f5f\"},\"marker\":{\"line\":{\"color\":\"#E5ECF6\",\"width\":0.5},\"pattern\":{\"fillmode\":\"overlay\",\"size\":10,\"solidity\":0.2}},\"type\":\"bar\"}],\"scattergeo\":[{\"type\":\"scattergeo\",\"marker\":{\"colorbar\":{\"outlinewidth\":0,\"ticks\":\"\"}}}],\"scatterpolar\":[{\"type\":\"scatterpolar\",\"marker\":{\"colorbar\":{\"outlinewidth\":0,\"ticks\":\"\"}}}],\"histogram\":[{\"marker\":{\"pattern\":{\"fillmode\":\"overlay\",\"size\":10,\"solidity\":0.2}},\"type\":\"histogram\"}],\"scattergl\":[{\"type\":\"scattergl\",\"marker\":{\"colorbar\":{\"outlinewidth\":0,\"ticks\":\"\"}}}],\"scatter3d\":[{\"type\":\"scatter3d\",\"line\":{\"colorbar\":{\"outlinewidth\":0,\"ticks\":\"\"}},\"marker\":{\"colorbar\":{\"outlinewidth\":0,\"ticks\":\"\"}}}],\"scattermapbox\":[{\"type\":\"scattermapbox\",\"marker\":{\"colorbar\":{\"outlinewidth\":0,\"ticks\":\"\"}}}],\"scatterternary\":[{\"type\":\"scatterternary\",\"marker\":{\"colorbar\":{\"outlinewidth\":0,\"ticks\":\"\"}}}],\"scattercarpet\":[{\"type\":\"scattercarpet\",\"marker\":{\"colorbar\":{\"outlinewidth\":0,\"ticks\":\"\"}}}],\"carpet\":[{\"aaxis\":{\"endlinecolor\":\"#2a3f5f\",\"gridcolor\":\"white\",\"linecolor\":\"white\",\"minorgridcolor\":\"white\",\"startlinecolor\":\"#2a3f5f\"},\"baxis\":{\"endlinecolor\":\"#2a3f5f\",\"gridcolor\":\"white\",\"linecolor\":\"white\",\"minorgridcolor\":\"white\",\"startlinecolor\":\"#2a3f5f\"},\"type\":\"carpet\"}],\"table\":[{\"cells\":{\"fill\":{\"color\":\"#EBF0F8\"},\"line\":{\"color\":\"white\"}},\"header\":{\"fill\":{\"color\":\"#C8D4E3\"},\"line\":{\"color\":\"white\"}},\"type\":\"table\"}],\"barpolar\":[{\"marker\":{\"line\":{\"color\":\"#E5ECF6\",\"width\":0.5},\"pattern\":{\"fillmode\":\"overlay\",\"size\":10,\"solidity\":0.2}},\"type\":\"barpolar\"}],\"pie\":[{\"automargin\":true,\"type\":\"pie\"}]},\"layout\":{\"autotypenumbers\":\"strict\",\"colorway\":[\"#636efa\",\"#EF553B\",\"#00cc96\",\"#ab63fa\",\"#FFA15A\",\"#19d3f3\",\"#FF6692\",\"#B6E880\",\"#FF97FF\",\"#FECB52\"],\"font\":{\"color\":\"#2a3f5f\"},\"hovermode\":\"closest\",\"hoverlabel\":{\"align\":\"left\"},\"paper_bgcolor\":\"white\",\"plot_bgcolor\":\"#E5ECF6\",\"polar\":{\"bgcolor\":\"#E5ECF6\",\"angularaxis\":{\"gridcolor\":\"white\",\"linecolor\":\"white\",\"ticks\":\"\"},\"radialaxis\":{\"gridcolor\":\"white\",\"linecolor\":\"white\",\"ticks\":\"\"}},\"ternary\":{\"bgcolor\":\"#E5ECF6\",\"aaxis\":{\"gridcolor\":\"white\",\"linecolor\":\"white\",\"ticks\":\"\"},\"baxis\":{\"gridcolor\":\"white\",\"linecolor\":\"white\",\"ticks\":\"\"},\"caxis\":{\"gridcolor\":\"white\",\"linecolor\":\"white\",\"ticks\":\"\"}},\"coloraxis\":{\"colorbar\":{\"outlinewidth\":0,\"ticks\":\"\"}},\"colorscale\":{\"sequential\":[[0.0,\"#0d0887\"],[0.1111111111111111,\"#46039f\"],[0.2222222222222222,\"#7201a8\"],[0.3333333333333333,\"#9c179e\"],[0.4444444444444444,\"#bd3786\"],[0.5555555555555556,\"#d8576b\"],[0.6666666666666666,\"#ed7953\"],[0.7777777777777778,\"#fb9f3a\"],[0.8888888888888888,\"#fdca26\"],[1.0,\"#f0f921\"]],\"sequentialminus\":[[0.0,\"#0d0887\"],[0.1111111111111111,\"#46039f\"],[0.2222222222222222,\"#7201a8\"],[0.3333333333333333,\"#9c179e\"],[0.4444444444444444,\"#bd3786\"],[0.5555555555555556,\"#d8576b\"],[0.6666666666666666,\"#ed7953\"],[0.7777777777777778,\"#fb9f3a\"],[0.8888888888888888,\"#fdca26\"],[1.0,\"#f0f921\"]],\"diverging\":[[0,\"#8e0152\"],[0.1,\"#c51b7d\"],[0.2,\"#de77ae\"],[0.3,\"#f1b6da\"],[0.4,\"#fde0ef\"],[0.5,\"#f7f7f7\"],[0.6,\"#e6f5d0\"],[0.7,\"#b8e186\"],[0.8,\"#7fbc41\"],[0.9,\"#4d9221\"],[1,\"#276419\"]]},\"xaxis\":{\"gridcolor\":\"white\",\"linecolor\":\"white\",\"ticks\":\"\",\"title\":{\"standoff\":15},\"zerolinecolor\":\"white\",\"automargin\":true,\"zerolinewidth\":2},\"yaxis\":{\"gridcolor\":\"white\",\"linecolor\":\"white\",\"ticks\":\"\",\"title\":{\"standoff\":15},\"zerolinecolor\":\"white\",\"automargin\":true,\"zerolinewidth\":2},\"scene\":{\"xaxis\":{\"backgroundcolor\":\"#E5ECF6\",\"gridcolor\":\"white\",\"linecolor\":\"white\",\"showbackground\":true,\"ticks\":\"\",\"zerolinecolor\":\"white\",\"gridwidth\":2},\"yaxis\":{\"backgroundcolor\":\"#E5ECF6\",\"gridcolor\":\"white\",\"linecolor\":\"white\",\"showbackground\":true,\"ticks\":\"\",\"zerolinecolor\":\"white\",\"gridwidth\":2},\"zaxis\":{\"backgroundcolor\":\"#E5ECF6\",\"gridcolor\":\"white\",\"linecolor\":\"white\",\"showbackground\":true,\"ticks\":\"\",\"zerolinecolor\":\"white\",\"gridwidth\":2}},\"shapedefaults\":{\"line\":{\"color\":\"#2a3f5f\"}},\"annotationdefaults\":{\"arrowcolor\":\"#2a3f5f\",\"arrowhead\":0,\"arrowwidth\":1},\"geo\":{\"bgcolor\":\"white\",\"landcolor\":\"#E5ECF6\",\"subunitcolor\":\"white\",\"showland\":true,\"showlakes\":true,\"lakecolor\":\"white\"},\"title\":{\"x\":0.05},\"mapbox\":{\"style\":\"light\"}}},\"xaxis\":{\"anchor\":\"y\",\"domain\":[0.0,1.0],\"scaleanchor\":\"y\",\"constrain\":\"domain\"},\"yaxis\":{\"anchor\":\"x\",\"domain\":[0.0,1.0],\"autorange\":\"reversed\",\"constrain\":\"domain\"},\"coloraxis\":{\"colorscale\":[[0.0,\"rgb(103,0,31)\"],[0.1,\"rgb(178,24,43)\"],[0.2,\"rgb(214,96,77)\"],[0.3,\"rgb(244,165,130)\"],[0.4,\"rgb(253,219,199)\"],[0.5,\"rgb(247,247,247)\"],[0.6,\"rgb(209,229,240)\"],[0.7,\"rgb(146,197,222)\"],[0.8,\"rgb(67,147,195)\"],[0.9,\"rgb(33,102,172)\"],[1.0,\"rgb(5,48,97)\"]],\"cmid\":0.0},\"title\":{\"text\":\"Source suppression scores\"},\"height\":800,\"modebar\":{\"add\":[\"drawline\",\"drawopenpath\",\"drawclosedpath\",\"drawcircle\",\"drawrect\",\"eraseshape\"]}},                        {\"displaylogo\": false, \"responsive\": true}                    ).then(function(){\n",
       "                            \n",
       "var gd = document.getElementById('a826a2f4-cfff-47d6-b055-002bbbc1204b');\n",
       "var x = new MutationObserver(function (mutations, observer) {{\n",
       "        var display = window.getComputedStyle(gd).display;\n",
       "        if (!display || display === 'none') {{\n",
       "            console.log([gd, 'removed!']);\n",
       "            Plotly.purge(gd);\n",
       "            observer.disconnect();\n",
       "        }}\n",
       "}});\n",
       "\n",
       "// Listen for the removal of the full notebook cells\n",
       "var notebookContainer = gd.closest('#notebook-container');\n",
       "if (notebookContainer) {{\n",
       "    x.observe(notebookContainer, {childList: true});\n",
       "}}\n",
       "\n",
       "// Listen for the clearing of the current output cell\n",
       "var outputEl = gd.closest('.output');\n",
       "if (outputEl) {{\n",
       "    x.observe(outputEl, {childList: true});\n",
       "}}\n",
       "\n",
       "                        })                };                });            </script>        </div>"
      ]
     },
     "metadata": {},
     "output_type": "display_data"
    }
   ],
   "source": [
    "imshow(all_results * (all_results < 0), height=800, title=\"Source suppression scores\")"
   ]
  },
  {
   "attachments": {},
   "cell_type": "markdown",
   "metadata": {},
   "source": [
    "# OpenWebText"
   ]
  },
  {
   "cell_type": "code",
   "execution_count": 11,
   "metadata": {},
   "outputs": [
    {
     "name": "stderr",
     "output_type": "stream",
     "text": [
      "Found cached dataset openwebtext-10k (/home/ubuntu/.cache/huggingface/datasets/stas___openwebtext-10k/plain_text/1.0.0/3a8df094c671b4cb63ed0b41f40fb3bd855e9ce2e3765e5df50abcdfb5ec144b)\n"
     ]
    },
    {
     "data": {
      "application/vnd.jupyter.widget-view+json": {
       "model_id": "6c086aae23b84c6e9957bc1418cec241",
       "version_major": 2,
       "version_minor": 0
      },
      "text/plain": [
       "  0%|          | 0/1 [00:00<?, ?it/s]"
      ]
     },
     "metadata": {},
     "output_type": "display_data"
    }
   ],
   "source": [
    "data = get_webtext(seed=6)"
   ]
  },
  {
   "cell_type": "code",
   "execution_count": 37,
   "metadata": {},
   "outputs": [
    {
     "data": {
      "application/vnd.jupyter.widget-view+json": {
       "model_id": "0e1c451ce6534aa59e8e56bc836f3dc3",
       "version_major": 2,
       "version_minor": 0
      },
      "text/plain": [
       "  0%|          | 0/144 [00:00<?, ?it/s]"
      ]
     },
     "metadata": {},
     "output_type": "display_data"
    }
   ],
   "source": [
    "def create_really_hacky_second_pass_metric(\n",
    "    batch_size: int = 60,\n",
    "    seq_len: int = 100,\n",
    "):\n",
    "    toks = model.to_tokens(data[:batch_size])[:, :seq_len]\n",
    "\n",
    "    all_results = t.zeros(12, 12)\n",
    "\n",
    "    for layer, head_idx in tqdm(list(itertools.product(range(12), range(12)))):\n",
    "        results = compute_weighted_avg_logit_suppression(\n",
    "            model=model,\n",
    "            toks=toks,\n",
    "            head=(layer, head_idx)\n",
    "        )\n",
    "\n",
    "        all_results[layer, head_idx] = results[\"per_sequence\"].mean()\n",
    "\n",
    "    return all_results\n",
    "\n",
    "all_results = create_really_hacky_first_pass_metric()\n",
    "all_results_2 = create_really_hacky_second_pass_metric()"
   ]
  },
  {
   "cell_type": "code",
   "execution_count": 39,
   "metadata": {},
   "outputs": [
    {
     "data": {
      "application/vnd.plotly.v1+json": {
       "config": {
        "displaylogo": false,
        "plotlyServerURL": "https://plot.ly",
        "responsive": true
       },
       "data": [
        {
         "coloraxis": "coloraxis",
         "hovertemplate": "x: %{x}<br>y: %{y}<br>color: %{z}<extra></extra>",
         "name": "0",
         "texttemplate": "%{z:.2f}",
         "type": "heatmap",
         "xaxis": "x",
         "yaxis": "y",
         "z": [
          [
           0,
           0,
           0,
           0,
           0,
           0,
           0,
           -0.007849895395338535,
           -0.03446781262755394,
           -0.027755945920944214,
           0,
           -0.013902192004024982
          ],
          [
           -0.014413456432521343,
           -0.036917880177497864,
           -0.02517884224653244,
           0,
           -0.0023540763650089502,
           -0.04697032645344734,
           0,
           0,
           0,
           0,
           -0.025871004909276962,
           -0.028776325285434723
          ],
          [
           -0.006151237525045872,
           0,
           -0.009896082803606987,
           0,
           0,
           -0.01950601488351822,
           0,
           -0.0030124338809400797,
           -0.02160618267953396,
           0,
           -0.036647893488407135,
           0
          ],
          [
           0,
           0,
           -0.00986436940729618,
           0,
           0,
           0,
           0,
           0,
           -0.015413975343108177,
           0,
           -0.02340744435787201,
           0
          ],
          [
           -0.017270905897021294,
           0,
           0,
           0,
           -0.02201460860669613,
           0,
           -0.004783956799656153,
           -0.028307802975177765,
           0,
           0,
           0,
           0
          ],
          [
           0,
           0,
           0,
           0,
           -0.015580627135932446,
           0,
           0,
           0,
           -0.014079219661653042,
           -0.026945361867547035,
           0,
           -0.023368455469608307
          ],
          [
           0,
           0,
           -0.000045158441935200244,
           0,
           0,
           -0.04596199095249176,
           -0.0451778769493103,
           0,
           0,
           0,
           0,
           0
          ],
          [
           -0.0071565620601177216,
           0,
           0,
           -0.05328415334224701,
           0,
           0,
           -0.01411093957722187,
           0,
           0,
           -0.029092013835906982,
           0,
           0
          ],
          [
           -0.012707212008535862,
           0,
           0,
           0,
           0,
           0,
           0,
           -0.007288965862244368,
           0,
           -0.01878954842686653,
           -0.1593860536813736,
           0
          ],
          [
           0,
           0,
           0,
           0,
           -0.017828382551670074,
           -0.0497494675219059,
           0,
           -0.018955901265144348,
           0,
           0,
           0,
           0
          ],
          [
           0,
           0,
           0,
           0,
           0,
           0,
           0,
           -1.1586142778396606,
           0,
           0,
           0,
           0
          ],
          [
           -0.0523034892976284,
           0,
           0,
           0,
           0,
           0,
           0,
           0,
           0,
           0,
           -0.650367259979248,
           0
          ]
         ]
        },
        {
         "coloraxis": "coloraxis",
         "hovertemplate": "x: %{x}<br>y: %{y}<br>color: %{z}<extra></extra>",
         "name": "1",
         "texttemplate": "%{z:.2f}",
         "type": "heatmap",
         "xaxis": "x2",
         "yaxis": "y2",
         "z": [
          [
           0,
           0,
           0,
           0,
           0,
           0,
           0,
           0,
           -0.016400493681430817,
           -0.015979750081896782,
           0,
           -0.011081465519964695
          ],
          [
           -0.002099048113450408,
           -0.020701460540294647,
           0,
           0,
           -0.004949712194502354,
           -0.039589256048202515,
           0,
           0,
           -0.005143407266587019,
           -0.004485677927732468,
           -0.017108138650655746,
           -0.022270776331424713
          ],
          [
           -0.0013055842136964202,
           0,
           0,
           -0.0009028883650898933,
           0,
           -0.013169617392122746,
           0,
           -0.0008006017887964845,
           -0.0009018677519634366,
           0,
           -0.020459195598959923,
           -0.007380364928394556
          ],
          [
           0,
           0,
           -0.00039441813714802265,
           0,
           0,
           0,
           0,
           0,
           -0.009962529875338078,
           0,
           -0.02867654338479042,
           0
          ],
          [
           -0.0007057221955619752,
           -0.0028159599751234055,
           0,
           0,
           -0.02547636441886425,
           0,
           -0.0058281137607991695,
           -0.029520457610487938,
           0,
           0,
           0,
           0
          ],
          [
           0,
           0,
           0,
           0,
           -0.012765289284288883,
           0,
           0,
           0,
           -0.0028067731764167547,
           -0.011989157646894455,
           0,
           -0.03869960457086563
          ],
          [
           0,
           0,
           -0.0015694847097620368,
           0,
           0,
           -0.04552130028605461,
           -0.03408597782254219,
           0,
           0,
           0,
           0,
           0
          ],
          [
           0,
           0,
           0,
           -0.07199977338314056,
           0,
           0,
           -0.018380967900156975,
           0,
           0,
           -0.01126632560044527,
           0,
           0
          ],
          [
           0,
           0,
           0,
           0,
           0,
           0,
           0,
           0,
           0,
           -0.020626280456781387,
           -0.10787029564380646,
           0
          ],
          [
           0,
           0,
           0,
           0,
           -0.002575781662017107,
           -0.07382930815219879,
           0,
           0,
           0,
           0,
           0,
           0
          ],
          [
           0,
           0,
           0,
           0,
           0,
           0,
           0,
           -0.35351336002349854,
           0,
           0,
           0,
           0
          ],
          [
           -0.01129694003611803,
           0,
           0,
           0,
           0,
           0,
           0,
           0,
           0,
           0,
           -0.20103490352630615,
           0
          ]
         ]
        }
       ],
       "layout": {
        "annotations": [
         {
          "font": {},
          "showarrow": false,
          "text": "IOI",
          "x": 0.245,
          "xanchor": "center",
          "xref": "paper",
          "y": 1,
          "yanchor": "bottom",
          "yref": "paper"
         },
         {
          "font": {},
          "showarrow": false,
          "text": "Webtext",
          "x": 0.755,
          "xanchor": "center",
          "xref": "paper",
          "y": 1,
          "yanchor": "bottom",
          "yref": "paper"
         }
        ],
        "coloraxis": {
         "cmid": 0,
         "colorscale": [
          [
           0,
           "rgb(103,0,31)"
          ],
          [
           0.1,
           "rgb(178,24,43)"
          ],
          [
           0.2,
           "rgb(214,96,77)"
          ],
          [
           0.3,
           "rgb(244,165,130)"
          ],
          [
           0.4,
           "rgb(253,219,199)"
          ],
          [
           0.5,
           "rgb(247,247,247)"
          ],
          [
           0.6,
           "rgb(209,229,240)"
          ],
          [
           0.7,
           "rgb(146,197,222)"
          ],
          [
           0.8,
           "rgb(67,147,195)"
          ],
          [
           0.9,
           "rgb(33,102,172)"
          ],
          [
           1,
           "rgb(5,48,97)"
          ]
         ]
        },
        "height": 700,
        "modebar": {
         "add": [
          "drawline",
          "drawopenpath",
          "drawclosedpath",
          "drawcircle",
          "drawrect",
          "eraseshape"
         ]
        },
        "template": {
         "data": {
          "bar": [
           {
            "error_x": {
             "color": "#2a3f5f"
            },
            "error_y": {
             "color": "#2a3f5f"
            },
            "marker": {
             "line": {
              "color": "#E5ECF6",
              "width": 0.5
             },
             "pattern": {
              "fillmode": "overlay",
              "size": 10,
              "solidity": 0.2
             }
            },
            "type": "bar"
           }
          ],
          "barpolar": [
           {
            "marker": {
             "line": {
              "color": "#E5ECF6",
              "width": 0.5
             },
             "pattern": {
              "fillmode": "overlay",
              "size": 10,
              "solidity": 0.2
             }
            },
            "type": "barpolar"
           }
          ],
          "carpet": [
           {
            "aaxis": {
             "endlinecolor": "#2a3f5f",
             "gridcolor": "white",
             "linecolor": "white",
             "minorgridcolor": "white",
             "startlinecolor": "#2a3f5f"
            },
            "baxis": {
             "endlinecolor": "#2a3f5f",
             "gridcolor": "white",
             "linecolor": "white",
             "minorgridcolor": "white",
             "startlinecolor": "#2a3f5f"
            },
            "type": "carpet"
           }
          ],
          "choropleth": [
           {
            "colorbar": {
             "outlinewidth": 0,
             "ticks": ""
            },
            "type": "choropleth"
           }
          ],
          "contour": [
           {
            "colorbar": {
             "outlinewidth": 0,
             "ticks": ""
            },
            "colorscale": [
             [
              0,
              "#0d0887"
             ],
             [
              0.1111111111111111,
              "#46039f"
             ],
             [
              0.2222222222222222,
              "#7201a8"
             ],
             [
              0.3333333333333333,
              "#9c179e"
             ],
             [
              0.4444444444444444,
              "#bd3786"
             ],
             [
              0.5555555555555556,
              "#d8576b"
             ],
             [
              0.6666666666666666,
              "#ed7953"
             ],
             [
              0.7777777777777778,
              "#fb9f3a"
             ],
             [
              0.8888888888888888,
              "#fdca26"
             ],
             [
              1,
              "#f0f921"
             ]
            ],
            "type": "contour"
           }
          ],
          "contourcarpet": [
           {
            "colorbar": {
             "outlinewidth": 0,
             "ticks": ""
            },
            "type": "contourcarpet"
           }
          ],
          "heatmap": [
           {
            "colorbar": {
             "outlinewidth": 0,
             "ticks": ""
            },
            "colorscale": [
             [
              0,
              "#0d0887"
             ],
             [
              0.1111111111111111,
              "#46039f"
             ],
             [
              0.2222222222222222,
              "#7201a8"
             ],
             [
              0.3333333333333333,
              "#9c179e"
             ],
             [
              0.4444444444444444,
              "#bd3786"
             ],
             [
              0.5555555555555556,
              "#d8576b"
             ],
             [
              0.6666666666666666,
              "#ed7953"
             ],
             [
              0.7777777777777778,
              "#fb9f3a"
             ],
             [
              0.8888888888888888,
              "#fdca26"
             ],
             [
              1,
              "#f0f921"
             ]
            ],
            "type": "heatmap"
           }
          ],
          "heatmapgl": [
           {
            "colorbar": {
             "outlinewidth": 0,
             "ticks": ""
            },
            "colorscale": [
             [
              0,
              "#0d0887"
             ],
             [
              0.1111111111111111,
              "#46039f"
             ],
             [
              0.2222222222222222,
              "#7201a8"
             ],
             [
              0.3333333333333333,
              "#9c179e"
             ],
             [
              0.4444444444444444,
              "#bd3786"
             ],
             [
              0.5555555555555556,
              "#d8576b"
             ],
             [
              0.6666666666666666,
              "#ed7953"
             ],
             [
              0.7777777777777778,
              "#fb9f3a"
             ],
             [
              0.8888888888888888,
              "#fdca26"
             ],
             [
              1,
              "#f0f921"
             ]
            ],
            "type": "heatmapgl"
           }
          ],
          "histogram": [
           {
            "marker": {
             "pattern": {
              "fillmode": "overlay",
              "size": 10,
              "solidity": 0.2
             }
            },
            "type": "histogram"
           }
          ],
          "histogram2d": [
           {
            "colorbar": {
             "outlinewidth": 0,
             "ticks": ""
            },
            "colorscale": [
             [
              0,
              "#0d0887"
             ],
             [
              0.1111111111111111,
              "#46039f"
             ],
             [
              0.2222222222222222,
              "#7201a8"
             ],
             [
              0.3333333333333333,
              "#9c179e"
             ],
             [
              0.4444444444444444,
              "#bd3786"
             ],
             [
              0.5555555555555556,
              "#d8576b"
             ],
             [
              0.6666666666666666,
              "#ed7953"
             ],
             [
              0.7777777777777778,
              "#fb9f3a"
             ],
             [
              0.8888888888888888,
              "#fdca26"
             ],
             [
              1,
              "#f0f921"
             ]
            ],
            "type": "histogram2d"
           }
          ],
          "histogram2dcontour": [
           {
            "colorbar": {
             "outlinewidth": 0,
             "ticks": ""
            },
            "colorscale": [
             [
              0,
              "#0d0887"
             ],
             [
              0.1111111111111111,
              "#46039f"
             ],
             [
              0.2222222222222222,
              "#7201a8"
             ],
             [
              0.3333333333333333,
              "#9c179e"
             ],
             [
              0.4444444444444444,
              "#bd3786"
             ],
             [
              0.5555555555555556,
              "#d8576b"
             ],
             [
              0.6666666666666666,
              "#ed7953"
             ],
             [
              0.7777777777777778,
              "#fb9f3a"
             ],
             [
              0.8888888888888888,
              "#fdca26"
             ],
             [
              1,
              "#f0f921"
             ]
            ],
            "type": "histogram2dcontour"
           }
          ],
          "mesh3d": [
           {
            "colorbar": {
             "outlinewidth": 0,
             "ticks": ""
            },
            "type": "mesh3d"
           }
          ],
          "parcoords": [
           {
            "line": {
             "colorbar": {
              "outlinewidth": 0,
              "ticks": ""
             }
            },
            "type": "parcoords"
           }
          ],
          "pie": [
           {
            "automargin": true,
            "type": "pie"
           }
          ],
          "scatter": [
           {
            "fillpattern": {
             "fillmode": "overlay",
             "size": 10,
             "solidity": 0.2
            },
            "type": "scatter"
           }
          ],
          "scatter3d": [
           {
            "line": {
             "colorbar": {
              "outlinewidth": 0,
              "ticks": ""
             }
            },
            "marker": {
             "colorbar": {
              "outlinewidth": 0,
              "ticks": ""
             }
            },
            "type": "scatter3d"
           }
          ],
          "scattercarpet": [
           {
            "marker": {
             "colorbar": {
              "outlinewidth": 0,
              "ticks": ""
             }
            },
            "type": "scattercarpet"
           }
          ],
          "scattergeo": [
           {
            "marker": {
             "colorbar": {
              "outlinewidth": 0,
              "ticks": ""
             }
            },
            "type": "scattergeo"
           }
          ],
          "scattergl": [
           {
            "marker": {
             "colorbar": {
              "outlinewidth": 0,
              "ticks": ""
             }
            },
            "type": "scattergl"
           }
          ],
          "scattermapbox": [
           {
            "marker": {
             "colorbar": {
              "outlinewidth": 0,
              "ticks": ""
             }
            },
            "type": "scattermapbox"
           }
          ],
          "scatterpolar": [
           {
            "marker": {
             "colorbar": {
              "outlinewidth": 0,
              "ticks": ""
             }
            },
            "type": "scatterpolar"
           }
          ],
          "scatterpolargl": [
           {
            "marker": {
             "colorbar": {
              "outlinewidth": 0,
              "ticks": ""
             }
            },
            "type": "scatterpolargl"
           }
          ],
          "scatterternary": [
           {
            "marker": {
             "colorbar": {
              "outlinewidth": 0,
              "ticks": ""
             }
            },
            "type": "scatterternary"
           }
          ],
          "surface": [
           {
            "colorbar": {
             "outlinewidth": 0,
             "ticks": ""
            },
            "colorscale": [
             [
              0,
              "#0d0887"
             ],
             [
              0.1111111111111111,
              "#46039f"
             ],
             [
              0.2222222222222222,
              "#7201a8"
             ],
             [
              0.3333333333333333,
              "#9c179e"
             ],
             [
              0.4444444444444444,
              "#bd3786"
             ],
             [
              0.5555555555555556,
              "#d8576b"
             ],
             [
              0.6666666666666666,
              "#ed7953"
             ],
             [
              0.7777777777777778,
              "#fb9f3a"
             ],
             [
              0.8888888888888888,
              "#fdca26"
             ],
             [
              1,
              "#f0f921"
             ]
            ],
            "type": "surface"
           }
          ],
          "table": [
           {
            "cells": {
             "fill": {
              "color": "#EBF0F8"
             },
             "line": {
              "color": "white"
             }
            },
            "header": {
             "fill": {
              "color": "#C8D4E3"
             },
             "line": {
              "color": "white"
             }
            },
            "type": "table"
           }
          ]
         },
         "layout": {
          "annotationdefaults": {
           "arrowcolor": "#2a3f5f",
           "arrowhead": 0,
           "arrowwidth": 1
          },
          "autotypenumbers": "strict",
          "coloraxis": {
           "colorbar": {
            "outlinewidth": 0,
            "ticks": ""
           }
          },
          "colorscale": {
           "diverging": [
            [
             0,
             "#8e0152"
            ],
            [
             0.1,
             "#c51b7d"
            ],
            [
             0.2,
             "#de77ae"
            ],
            [
             0.3,
             "#f1b6da"
            ],
            [
             0.4,
             "#fde0ef"
            ],
            [
             0.5,
             "#f7f7f7"
            ],
            [
             0.6,
             "#e6f5d0"
            ],
            [
             0.7,
             "#b8e186"
            ],
            [
             0.8,
             "#7fbc41"
            ],
            [
             0.9,
             "#4d9221"
            ],
            [
             1,
             "#276419"
            ]
           ],
           "sequential": [
            [
             0,
             "#0d0887"
            ],
            [
             0.1111111111111111,
             "#46039f"
            ],
            [
             0.2222222222222222,
             "#7201a8"
            ],
            [
             0.3333333333333333,
             "#9c179e"
            ],
            [
             0.4444444444444444,
             "#bd3786"
            ],
            [
             0.5555555555555556,
             "#d8576b"
            ],
            [
             0.6666666666666666,
             "#ed7953"
            ],
            [
             0.7777777777777778,
             "#fb9f3a"
            ],
            [
             0.8888888888888888,
             "#fdca26"
            ],
            [
             1,
             "#f0f921"
            ]
           ],
           "sequentialminus": [
            [
             0,
             "#0d0887"
            ],
            [
             0.1111111111111111,
             "#46039f"
            ],
            [
             0.2222222222222222,
             "#7201a8"
            ],
            [
             0.3333333333333333,
             "#9c179e"
            ],
            [
             0.4444444444444444,
             "#bd3786"
            ],
            [
             0.5555555555555556,
             "#d8576b"
            ],
            [
             0.6666666666666666,
             "#ed7953"
            ],
            [
             0.7777777777777778,
             "#fb9f3a"
            ],
            [
             0.8888888888888888,
             "#fdca26"
            ],
            [
             1,
             "#f0f921"
            ]
           ]
          },
          "colorway": [
           "#636efa",
           "#EF553B",
           "#00cc96",
           "#ab63fa",
           "#FFA15A",
           "#19d3f3",
           "#FF6692",
           "#B6E880",
           "#FF97FF",
           "#FECB52"
          ],
          "font": {
           "color": "#2a3f5f"
          },
          "geo": {
           "bgcolor": "white",
           "lakecolor": "white",
           "landcolor": "#E5ECF6",
           "showlakes": true,
           "showland": true,
           "subunitcolor": "white"
          },
          "hoverlabel": {
           "align": "left"
          },
          "hovermode": "closest",
          "mapbox": {
           "style": "light"
          },
          "paper_bgcolor": "white",
          "plot_bgcolor": "#E5ECF6",
          "polar": {
           "angularaxis": {
            "gridcolor": "white",
            "linecolor": "white",
            "ticks": ""
           },
           "bgcolor": "#E5ECF6",
           "radialaxis": {
            "gridcolor": "white",
            "linecolor": "white",
            "ticks": ""
           }
          },
          "scene": {
           "xaxis": {
            "backgroundcolor": "#E5ECF6",
            "gridcolor": "white",
            "gridwidth": 2,
            "linecolor": "white",
            "showbackground": true,
            "ticks": "",
            "zerolinecolor": "white"
           },
           "yaxis": {
            "backgroundcolor": "#E5ECF6",
            "gridcolor": "white",
            "gridwidth": 2,
            "linecolor": "white",
            "showbackground": true,
            "ticks": "",
            "zerolinecolor": "white"
           },
           "zaxis": {
            "backgroundcolor": "#E5ECF6",
            "gridcolor": "white",
            "gridwidth": 2,
            "linecolor": "white",
            "showbackground": true,
            "ticks": "",
            "zerolinecolor": "white"
           }
          },
          "shapedefaults": {
           "line": {
            "color": "#2a3f5f"
           }
          },
          "ternary": {
           "aaxis": {
            "gridcolor": "white",
            "linecolor": "white",
            "ticks": ""
           },
           "baxis": {
            "gridcolor": "white",
            "linecolor": "white",
            "ticks": ""
           },
           "bgcolor": "#E5ECF6",
           "caxis": {
            "gridcolor": "white",
            "linecolor": "white",
            "ticks": ""
           }
          },
          "title": {
           "x": 0.05
          },
          "xaxis": {
           "automargin": true,
           "gridcolor": "white",
           "linecolor": "white",
           "ticks": "",
           "title": {
            "standoff": 15
           },
           "zerolinecolor": "white",
           "zerolinewidth": 2
          },
          "yaxis": {
           "automargin": true,
           "gridcolor": "white",
           "linecolor": "white",
           "ticks": "",
           "title": {
            "standoff": 15
           },
           "zerolinecolor": "white",
           "zerolinewidth": 2
          }
         }
        },
        "title": {
         "text": "Source suppression scores"
        },
        "width": 1500,
        "xaxis": {
         "anchor": "y",
         "constrain": "domain",
         "domain": [
          0,
          0.49
         ],
         "scaleanchor": "y"
        },
        "xaxis2": {
         "anchor": "y2",
         "domain": [
          0.51,
          1
         ],
         "matches": "x"
        },
        "yaxis": {
         "anchor": "x",
         "autorange": "reversed",
         "constrain": "domain",
         "domain": [
          0,
          1
         ]
        },
        "yaxis2": {
         "anchor": "x2",
         "domain": [
          0,
          1
         ],
         "matches": "y",
         "showticklabels": false
        }
       }
      },
      "text/html": [
       "<div>                            <div id=\"73c1c553-fa08-4b5d-8b70-6556d5d22c32\" class=\"plotly-graph-div\" style=\"height:700px; width:1500px;\"></div>            <script type=\"text/javascript\">                require([\"plotly\"], function(Plotly) {                    window.PLOTLYENV=window.PLOTLYENV || {};                                    if (document.getElementById(\"73c1c553-fa08-4b5d-8b70-6556d5d22c32\")) {                    Plotly.newPlot(                        \"73c1c553-fa08-4b5d-8b70-6556d5d22c32\",                        [{\"coloraxis\":\"coloraxis\",\"name\":\"0\",\"texttemplate\":\"%{z:.2f}\",\"z\":[[0.0,0.0,0.0,0.0,0.0,0.0,0.0,-0.007849895395338535,-0.03446781262755394,-0.027755945920944214,0.0,-0.013902192004024982],[-0.014413456432521343,-0.036917880177497864,-0.02517884224653244,0.0,-0.0023540763650089502,-0.04697032645344734,0.0,0.0,0.0,0.0,-0.025871004909276962,-0.028776325285434723],[-0.006151237525045872,0.0,-0.009896082803606987,0.0,0.0,-0.01950601488351822,0.0,-0.0030124338809400797,-0.02160618267953396,0.0,-0.036647893488407135,0.0],[0.0,0.0,-0.00986436940729618,0.0,0.0,0.0,0.0,0.0,-0.015413975343108177,0.0,-0.02340744435787201,0.0],[-0.017270905897021294,0.0,0.0,0.0,-0.02201460860669613,0.0,-0.004783956799656153,-0.028307802975177765,0.0,0.0,0.0,0.0],[0.0,0.0,0.0,0.0,-0.015580627135932446,0.0,0.0,0.0,-0.014079219661653042,-0.026945361867547035,0.0,-0.023368455469608307],[0.0,0.0,-4.5158441935200244e-05,0.0,0.0,-0.04596199095249176,-0.0451778769493103,0.0,0.0,0.0,0.0,0.0],[-0.0071565620601177216,0.0,0.0,-0.05328415334224701,0.0,0.0,-0.01411093957722187,0.0,0.0,-0.029092013835906982,0.0,0.0],[-0.012707212008535862,0.0,0.0,0.0,0.0,0.0,0.0,-0.007288965862244368,0.0,-0.01878954842686653,-0.1593860536813736,0.0],[0.0,0.0,0.0,0.0,-0.017828382551670074,-0.0497494675219059,0.0,-0.018955901265144348,0.0,0.0,0.0,0.0],[0.0,0.0,0.0,0.0,0.0,0.0,0.0,-1.1586142778396606,0.0,0.0,0.0,0.0],[-0.0523034892976284,0.0,0.0,0.0,0.0,0.0,0.0,0.0,0.0,0.0,-0.650367259979248,0.0]],\"type\":\"heatmap\",\"xaxis\":\"x\",\"yaxis\":\"y\",\"hovertemplate\":\"x: %{x}\\u003cbr\\u003ey: %{y}\\u003cbr\\u003ecolor: %{z}\\u003cextra\\u003e\\u003c\\u002fextra\\u003e\"},{\"coloraxis\":\"coloraxis\",\"name\":\"1\",\"texttemplate\":\"%{z:.2f}\",\"z\":[[0.0,0.0,0.0,0.0,0.0,0.0,0.0,0.0,-0.016400493681430817,-0.015979750081896782,0.0,-0.011081465519964695],[-0.002099048113450408,-0.020701460540294647,0.0,0.0,-0.004949712194502354,-0.039589256048202515,0.0,0.0,-0.005143407266587019,-0.004485677927732468,-0.017108138650655746,-0.022270776331424713],[-0.0013055842136964202,0.0,0.0,-0.0009028883650898933,0.0,-0.013169617392122746,0.0,-0.0008006017887964845,-0.0009018677519634366,0.0,-0.020459195598959923,-0.007380364928394556],[0.0,0.0,-0.00039441813714802265,0.0,0.0,0.0,0.0,0.0,-0.009962529875338078,0.0,-0.02867654338479042,0.0],[-0.0007057221955619752,-0.0028159599751234055,0.0,0.0,-0.02547636441886425,0.0,-0.0058281137607991695,-0.029520457610487938,0.0,0.0,0.0,0.0],[0.0,0.0,0.0,0.0,-0.012765289284288883,0.0,0.0,0.0,-0.0028067731764167547,-0.011989157646894455,0.0,-0.03869960457086563],[0.0,0.0,-0.0015694847097620368,0.0,0.0,-0.04552130028605461,-0.03408597782254219,0.0,0.0,0.0,0.0,0.0],[0.0,0.0,0.0,-0.07199977338314056,0.0,0.0,-0.018380967900156975,0.0,0.0,-0.01126632560044527,0.0,0.0],[0.0,0.0,0.0,0.0,0.0,0.0,0.0,0.0,0.0,-0.020626280456781387,-0.10787029564380646,0.0],[0.0,0.0,0.0,0.0,-0.002575781662017107,-0.07382930815219879,0.0,0.0,0.0,0.0,0.0,0.0],[0.0,0.0,0.0,0.0,0.0,0.0,0.0,-0.35351336002349854,0.0,0.0,0.0,0.0],[-0.01129694003611803,0.0,0.0,0.0,0.0,0.0,0.0,0.0,0.0,0.0,-0.20103490352630615,0.0]],\"type\":\"heatmap\",\"xaxis\":\"x2\",\"yaxis\":\"y2\",\"hovertemplate\":\"x: %{x}\\u003cbr\\u003ey: %{y}\\u003cbr\\u003ecolor: %{z}\\u003cextra\\u003e\\u003c\\u002fextra\\u003e\"}],                        {\"template\":{\"data\":{\"histogram2dcontour\":[{\"type\":\"histogram2dcontour\",\"colorbar\":{\"outlinewidth\":0,\"ticks\":\"\"},\"colorscale\":[[0.0,\"#0d0887\"],[0.1111111111111111,\"#46039f\"],[0.2222222222222222,\"#7201a8\"],[0.3333333333333333,\"#9c179e\"],[0.4444444444444444,\"#bd3786\"],[0.5555555555555556,\"#d8576b\"],[0.6666666666666666,\"#ed7953\"],[0.7777777777777778,\"#fb9f3a\"],[0.8888888888888888,\"#fdca26\"],[1.0,\"#f0f921\"]]}],\"choropleth\":[{\"type\":\"choropleth\",\"colorbar\":{\"outlinewidth\":0,\"ticks\":\"\"}}],\"histogram2d\":[{\"type\":\"histogram2d\",\"colorbar\":{\"outlinewidth\":0,\"ticks\":\"\"},\"colorscale\":[[0.0,\"#0d0887\"],[0.1111111111111111,\"#46039f\"],[0.2222222222222222,\"#7201a8\"],[0.3333333333333333,\"#9c179e\"],[0.4444444444444444,\"#bd3786\"],[0.5555555555555556,\"#d8576b\"],[0.6666666666666666,\"#ed7953\"],[0.7777777777777778,\"#fb9f3a\"],[0.8888888888888888,\"#fdca26\"],[1.0,\"#f0f921\"]]}],\"heatmap\":[{\"type\":\"heatmap\",\"colorbar\":{\"outlinewidth\":0,\"ticks\":\"\"},\"colorscale\":[[0.0,\"#0d0887\"],[0.1111111111111111,\"#46039f\"],[0.2222222222222222,\"#7201a8\"],[0.3333333333333333,\"#9c179e\"],[0.4444444444444444,\"#bd3786\"],[0.5555555555555556,\"#d8576b\"],[0.6666666666666666,\"#ed7953\"],[0.7777777777777778,\"#fb9f3a\"],[0.8888888888888888,\"#fdca26\"],[1.0,\"#f0f921\"]]}],\"heatmapgl\":[{\"type\":\"heatmapgl\",\"colorbar\":{\"outlinewidth\":0,\"ticks\":\"\"},\"colorscale\":[[0.0,\"#0d0887\"],[0.1111111111111111,\"#46039f\"],[0.2222222222222222,\"#7201a8\"],[0.3333333333333333,\"#9c179e\"],[0.4444444444444444,\"#bd3786\"],[0.5555555555555556,\"#d8576b\"],[0.6666666666666666,\"#ed7953\"],[0.7777777777777778,\"#fb9f3a\"],[0.8888888888888888,\"#fdca26\"],[1.0,\"#f0f921\"]]}],\"contourcarpet\":[{\"type\":\"contourcarpet\",\"colorbar\":{\"outlinewidth\":0,\"ticks\":\"\"}}],\"contour\":[{\"type\":\"contour\",\"colorbar\":{\"outlinewidth\":0,\"ticks\":\"\"},\"colorscale\":[[0.0,\"#0d0887\"],[0.1111111111111111,\"#46039f\"],[0.2222222222222222,\"#7201a8\"],[0.3333333333333333,\"#9c179e\"],[0.4444444444444444,\"#bd3786\"],[0.5555555555555556,\"#d8576b\"],[0.6666666666666666,\"#ed7953\"],[0.7777777777777778,\"#fb9f3a\"],[0.8888888888888888,\"#fdca26\"],[1.0,\"#f0f921\"]]}],\"surface\":[{\"type\":\"surface\",\"colorbar\":{\"outlinewidth\":0,\"ticks\":\"\"},\"colorscale\":[[0.0,\"#0d0887\"],[0.1111111111111111,\"#46039f\"],[0.2222222222222222,\"#7201a8\"],[0.3333333333333333,\"#9c179e\"],[0.4444444444444444,\"#bd3786\"],[0.5555555555555556,\"#d8576b\"],[0.6666666666666666,\"#ed7953\"],[0.7777777777777778,\"#fb9f3a\"],[0.8888888888888888,\"#fdca26\"],[1.0,\"#f0f921\"]]}],\"mesh3d\":[{\"type\":\"mesh3d\",\"colorbar\":{\"outlinewidth\":0,\"ticks\":\"\"}}],\"scatter\":[{\"fillpattern\":{\"fillmode\":\"overlay\",\"size\":10,\"solidity\":0.2},\"type\":\"scatter\"}],\"parcoords\":[{\"type\":\"parcoords\",\"line\":{\"colorbar\":{\"outlinewidth\":0,\"ticks\":\"\"}}}],\"scatterpolargl\":[{\"type\":\"scatterpolargl\",\"marker\":{\"colorbar\":{\"outlinewidth\":0,\"ticks\":\"\"}}}],\"bar\":[{\"error_x\":{\"color\":\"#2a3f5f\"},\"error_y\":{\"color\":\"#2a3f5f\"},\"marker\":{\"line\":{\"color\":\"#E5ECF6\",\"width\":0.5},\"pattern\":{\"fillmode\":\"overlay\",\"size\":10,\"solidity\":0.2}},\"type\":\"bar\"}],\"scattergeo\":[{\"type\":\"scattergeo\",\"marker\":{\"colorbar\":{\"outlinewidth\":0,\"ticks\":\"\"}}}],\"scatterpolar\":[{\"type\":\"scatterpolar\",\"marker\":{\"colorbar\":{\"outlinewidth\":0,\"ticks\":\"\"}}}],\"histogram\":[{\"marker\":{\"pattern\":{\"fillmode\":\"overlay\",\"size\":10,\"solidity\":0.2}},\"type\":\"histogram\"}],\"scattergl\":[{\"type\":\"scattergl\",\"marker\":{\"colorbar\":{\"outlinewidth\":0,\"ticks\":\"\"}}}],\"scatter3d\":[{\"type\":\"scatter3d\",\"line\":{\"colorbar\":{\"outlinewidth\":0,\"ticks\":\"\"}},\"marker\":{\"colorbar\":{\"outlinewidth\":0,\"ticks\":\"\"}}}],\"scattermapbox\":[{\"type\":\"scattermapbox\",\"marker\":{\"colorbar\":{\"outlinewidth\":0,\"ticks\":\"\"}}}],\"scatterternary\":[{\"type\":\"scatterternary\",\"marker\":{\"colorbar\":{\"outlinewidth\":0,\"ticks\":\"\"}}}],\"scattercarpet\":[{\"type\":\"scattercarpet\",\"marker\":{\"colorbar\":{\"outlinewidth\":0,\"ticks\":\"\"}}}],\"carpet\":[{\"aaxis\":{\"endlinecolor\":\"#2a3f5f\",\"gridcolor\":\"white\",\"linecolor\":\"white\",\"minorgridcolor\":\"white\",\"startlinecolor\":\"#2a3f5f\"},\"baxis\":{\"endlinecolor\":\"#2a3f5f\",\"gridcolor\":\"white\",\"linecolor\":\"white\",\"minorgridcolor\":\"white\",\"startlinecolor\":\"#2a3f5f\"},\"type\":\"carpet\"}],\"table\":[{\"cells\":{\"fill\":{\"color\":\"#EBF0F8\"},\"line\":{\"color\":\"white\"}},\"header\":{\"fill\":{\"color\":\"#C8D4E3\"},\"line\":{\"color\":\"white\"}},\"type\":\"table\"}],\"barpolar\":[{\"marker\":{\"line\":{\"color\":\"#E5ECF6\",\"width\":0.5},\"pattern\":{\"fillmode\":\"overlay\",\"size\":10,\"solidity\":0.2}},\"type\":\"barpolar\"}],\"pie\":[{\"automargin\":true,\"type\":\"pie\"}]},\"layout\":{\"autotypenumbers\":\"strict\",\"colorway\":[\"#636efa\",\"#EF553B\",\"#00cc96\",\"#ab63fa\",\"#FFA15A\",\"#19d3f3\",\"#FF6692\",\"#B6E880\",\"#FF97FF\",\"#FECB52\"],\"font\":{\"color\":\"#2a3f5f\"},\"hovermode\":\"closest\",\"hoverlabel\":{\"align\":\"left\"},\"paper_bgcolor\":\"white\",\"plot_bgcolor\":\"#E5ECF6\",\"polar\":{\"bgcolor\":\"#E5ECF6\",\"angularaxis\":{\"gridcolor\":\"white\",\"linecolor\":\"white\",\"ticks\":\"\"},\"radialaxis\":{\"gridcolor\":\"white\",\"linecolor\":\"white\",\"ticks\":\"\"}},\"ternary\":{\"bgcolor\":\"#E5ECF6\",\"aaxis\":{\"gridcolor\":\"white\",\"linecolor\":\"white\",\"ticks\":\"\"},\"baxis\":{\"gridcolor\":\"white\",\"linecolor\":\"white\",\"ticks\":\"\"},\"caxis\":{\"gridcolor\":\"white\",\"linecolor\":\"white\",\"ticks\":\"\"}},\"coloraxis\":{\"colorbar\":{\"outlinewidth\":0,\"ticks\":\"\"}},\"colorscale\":{\"sequential\":[[0.0,\"#0d0887\"],[0.1111111111111111,\"#46039f\"],[0.2222222222222222,\"#7201a8\"],[0.3333333333333333,\"#9c179e\"],[0.4444444444444444,\"#bd3786\"],[0.5555555555555556,\"#d8576b\"],[0.6666666666666666,\"#ed7953\"],[0.7777777777777778,\"#fb9f3a\"],[0.8888888888888888,\"#fdca26\"],[1.0,\"#f0f921\"]],\"sequentialminus\":[[0.0,\"#0d0887\"],[0.1111111111111111,\"#46039f\"],[0.2222222222222222,\"#7201a8\"],[0.3333333333333333,\"#9c179e\"],[0.4444444444444444,\"#bd3786\"],[0.5555555555555556,\"#d8576b\"],[0.6666666666666666,\"#ed7953\"],[0.7777777777777778,\"#fb9f3a\"],[0.8888888888888888,\"#fdca26\"],[1.0,\"#f0f921\"]],\"diverging\":[[0,\"#8e0152\"],[0.1,\"#c51b7d\"],[0.2,\"#de77ae\"],[0.3,\"#f1b6da\"],[0.4,\"#fde0ef\"],[0.5,\"#f7f7f7\"],[0.6,\"#e6f5d0\"],[0.7,\"#b8e186\"],[0.8,\"#7fbc41\"],[0.9,\"#4d9221\"],[1,\"#276419\"]]},\"xaxis\":{\"gridcolor\":\"white\",\"linecolor\":\"white\",\"ticks\":\"\",\"title\":{\"standoff\":15},\"zerolinecolor\":\"white\",\"automargin\":true,\"zerolinewidth\":2},\"yaxis\":{\"gridcolor\":\"white\",\"linecolor\":\"white\",\"ticks\":\"\",\"title\":{\"standoff\":15},\"zerolinecolor\":\"white\",\"automargin\":true,\"zerolinewidth\":2},\"scene\":{\"xaxis\":{\"backgroundcolor\":\"#E5ECF6\",\"gridcolor\":\"white\",\"linecolor\":\"white\",\"showbackground\":true,\"ticks\":\"\",\"zerolinecolor\":\"white\",\"gridwidth\":2},\"yaxis\":{\"backgroundcolor\":\"#E5ECF6\",\"gridcolor\":\"white\",\"linecolor\":\"white\",\"showbackground\":true,\"ticks\":\"\",\"zerolinecolor\":\"white\",\"gridwidth\":2},\"zaxis\":{\"backgroundcolor\":\"#E5ECF6\",\"gridcolor\":\"white\",\"linecolor\":\"white\",\"showbackground\":true,\"ticks\":\"\",\"zerolinecolor\":\"white\",\"gridwidth\":2}},\"shapedefaults\":{\"line\":{\"color\":\"#2a3f5f\"}},\"annotationdefaults\":{\"arrowcolor\":\"#2a3f5f\",\"arrowhead\":0,\"arrowwidth\":1},\"geo\":{\"bgcolor\":\"white\",\"landcolor\":\"#E5ECF6\",\"subunitcolor\":\"white\",\"showland\":true,\"showlakes\":true,\"lakecolor\":\"white\"},\"title\":{\"x\":0.05},\"mapbox\":{\"style\":\"light\"}}},\"xaxis\":{\"anchor\":\"y\",\"domain\":[0.0,0.49],\"scaleanchor\":\"y\",\"constrain\":\"domain\"},\"yaxis\":{\"anchor\":\"x\",\"domain\":[0.0,1.0],\"autorange\":\"reversed\",\"constrain\":\"domain\"},\"xaxis2\":{\"anchor\":\"y2\",\"domain\":[0.51,1.0],\"matches\":\"x\"},\"yaxis2\":{\"anchor\":\"x2\",\"domain\":[0.0,1.0],\"matches\":\"y\",\"showticklabels\":false},\"annotations\":[{\"font\":{},\"showarrow\":false,\"text\":\"IOI\",\"x\":0.245,\"xanchor\":\"center\",\"xref\":\"paper\",\"y\":1.0,\"yanchor\":\"bottom\",\"yref\":\"paper\"},{\"font\":{},\"showarrow\":false,\"text\":\"Webtext\",\"x\":0.755,\"xanchor\":\"center\",\"xref\":\"paper\",\"y\":1.0,\"yanchor\":\"bottom\",\"yref\":\"paper\"}],\"coloraxis\":{\"colorscale\":[[0.0,\"rgb(103,0,31)\"],[0.1,\"rgb(178,24,43)\"],[0.2,\"rgb(214,96,77)\"],[0.3,\"rgb(244,165,130)\"],[0.4,\"rgb(253,219,199)\"],[0.5,\"rgb(247,247,247)\"],[0.6,\"rgb(209,229,240)\"],[0.7,\"rgb(146,197,222)\"],[0.8,\"rgb(67,147,195)\"],[0.9,\"rgb(33,102,172)\"],[1.0,\"rgb(5,48,97)\"]],\"cmid\":0.0},\"title\":{\"text\":\"Source suppression scores\"},\"height\":700,\"width\":1500,\"modebar\":{\"add\":[\"drawline\",\"drawopenpath\",\"drawclosedpath\",\"drawcircle\",\"drawrect\",\"eraseshape\"]}},                        {\"displaylogo\": false, \"responsive\": true}                    ).then(function(){\n",
       "                            \n",
       "var gd = document.getElementById('73c1c553-fa08-4b5d-8b70-6556d5d22c32');\n",
       "var x = new MutationObserver(function (mutations, observer) {{\n",
       "        var display = window.getComputedStyle(gd).display;\n",
       "        if (!display || display === 'none') {{\n",
       "            console.log([gd, 'removed!']);\n",
       "            Plotly.purge(gd);\n",
       "            observer.disconnect();\n",
       "        }}\n",
       "}});\n",
       "\n",
       "// Listen for the removal of the full notebook cells\n",
       "var notebookContainer = gd.closest('#notebook-container');\n",
       "if (notebookContainer) {{\n",
       "    x.observe(notebookContainer, {childList: true});\n",
       "}}\n",
       "\n",
       "// Listen for the clearing of the current output cell\n",
       "var outputEl = gd.closest('.output');\n",
       "if (outputEl) {{\n",
       "    x.observe(outputEl, {childList: true});\n",
       "}}\n",
       "\n",
       "                        })                };                });            </script>        </div>"
      ]
     },
     "metadata": {},
     "output_type": "display_data"
    }
   ],
   "source": [
    "imshow(\n",
    "    t.stack([all_results * (all_results < 0), all_results_2 * (all_results_2 < 0)]),\n",
    "    facet_col=0,\n",
    "    facet_labels=[\"IOI\", \"Webtext\"],\n",
    "    height=700, \n",
    "    width=1500, \n",
    "    title=\"Source suppression scores\",\n",
    "    text_auto=\".2f\"\n",
    ")"
   ]
  }
 ],
 "metadata": {
  "kernelspec": {
   "display_name": "Python 3",
   "language": "python",
   "name": "python3"
  },
  "language_info": {
   "codemirror_mode": {
    "name": "ipython",
    "version": 3
   },
   "file_extension": ".py",
   "mimetype": "text/x-python",
   "name": "python",
   "nbconvert_exporter": "python",
   "pygments_lexer": "ipython3",
   "version": "3.8.10"
  },
  "orig_nbformat": 4
 },
 "nbformat": 4,
 "nbformat_minor": 2
}
