{
    "cells": [
        {
            "attachments": {},
            "cell_type": "markdown",
            "metadata": {},
            "source": [
                "# Transformer Lens Main Demo Notebook\n",
                "\n",
                "<b style=\"color: red\">To use this notebook, go to Runtime > Change Runtime Type and select GPU as the hardware accelerator.</b>"
            ]
        },
        {
            "attachments": {},
            "cell_type": "markdown",
            "metadata": {},
            "source": [
                "**Tips for reading this Colab:**\n",
                "* You can run all this code for yourself! \n",
                "* The graphs are interactive!\n",
                "* Use the table of contents pane in the sidebar to navigate\n",
                "* Collapse irrelevant sections with the dropdown arrows\n",
                "* Search the page using the search in the sidebar, not CTRL+F"
            ]
        },
        {
            "attachments": {},
            "cell_type": "markdown",
            "metadata": {},
            "source": [
                "# Setup\n",
                "(No need to read)"
            ]
        },
        {
            "cell_type": "code",
            "execution_count": 1,
            "metadata": {},
            "outputs": [
                {
                    "name": "stdout",
                    "output_type": "stream",
                    "text": [
                        "Running as a Jupyter notebook - intended for development only!\n"
                    ]
                }
            ],
            "source": [
                "# Janky code to do different setup when run in a Colab notebook vs VSCode\n",
                "DEVELOPMENT_MODE = False\n",
                "try:\n",
                "    import google.colab\n",
                "    IN_COLAB = True\n",
                "    print(\"Running as a Colab notebook\")\n",
                "    %pip install git+https://github.com/neelnanda-io/TransformerLens.git\n",
                "    %pip install circuitsvis\n",
                "    \n",
                "    # PySvelte is an unmaintained visualization library, use it as a backup if circuitsvis isn't working\n",
                "    # # Install another version of node that makes PySvelte work way faster\n",
                "    # !curl -fsSL https://deb.nodesource.com/setup_16.x | sudo -E bash -; sudo apt-get install -y nodejs\n",
                "    # %pip install git+https://github.com/neelnanda-io/PySvelte.git\n",
                "except:\n",
                "    IN_COLAB = False\n",
                "    print(\"Running as a Jupyter notebook - intended for development only!\")\n",
                "    from IPython import get_ipython\n",
                "\n",
                "    ipython = get_ipython()\n",
                "    # Code to automatically update the HookedTransformer code as its edited without restarting the kernel\n",
                "    ipython.magic(\"load_ext autoreload\")\n",
                "    ipython.magic(\"autoreload 2\")"
            ]
        },
        {
            "cell_type": "code",
            "execution_count": 2,
            "metadata": {},
            "outputs": [
                {
                    "name": "stdout",
                    "output_type": "stream",
                    "text": [
                        "Using renderer: colab\n"
                    ]
                }
            ],
            "source": [
                "# Plotly needs a different renderer for VSCode/Notebooks vs Colab argh\n",
                "import plotly.io as pio\n",
                "if IN_COLAB or not DEVELOPMENT_MODE:\n",
                "    pio.renderers.default = \"colab\"\n",
                "else:\n",
                "    pio.renderers.default = \"notebook_connected\"\n",
                "print(f\"Using renderer: {pio.renderers.default}\")"
            ]
        },
        {
            "cell_type": "code",
            "execution_count": 3,
            "metadata": {},
            "outputs": [
                {
                    "data": {
                        "text/html": [
                            "<div id=\"circuits-vis-056bcb82-ac45\" style=\"margin: 15px 0;\"/>\n",
                            "    <script crossorigin type=\"module\">\n",
                            "    import { render, Hello } from \"https://unpkg.com/circuitsvis/dist/cdn/esm.js\";\n",
                            "    render(\n",
                            "      \"circuits-vis-056bcb82-ac45\",\n",
                            "      Hello,\n",
                            "      {\"name\": \"Neel\"}\n",
                            "    )\n",
                            "    </script>"
                        ],
                        "text/plain": [
                            "<circuitsvis.utils.render.RenderedHTML at 0x7f96ad0fdcd0>"
                        ]
                    },
                    "execution_count": 3,
                    "metadata": {},
                    "output_type": "execute_result"
                }
            ],
            "source": [
                "import circuitsvis as cv\n",
                "# Testing that the library works\n",
                "cv.examples.hello(\"Neel\")"
            ]
        },
        {
            "cell_type": "code",
            "execution_count": 4,
            "metadata": {},
            "outputs": [],
            "source": [
                "# Import stuff\n",
                "import torch\n",
                "import torch.nn as nn\n",
                "import torch.nn.functional as F\n",
                "import torch.optim as optim\n",
                "import numpy as np\n",
                "import einops\n",
                "from fancy_einsum import einsum\n",
                "import tqdm.auto as tqdm\n",
                "import random\n",
                "from pathlib import Path\n",
                "import plotly.express as px\n",
                "from torch.utils.data import DataLoader\n",
                "\n",
                "from torchtyping import TensorType as TT\n",
                "from typing import List, Union, Optional\n",
                "from functools import partial\n",
                "import copy\n",
                "\n",
                "import itertools\n",
                "from transformers import AutoModelForCausalLM, AutoConfig, AutoTokenizer\n",
                "import dataclasses\n",
                "import datasets\n",
                "from IPython.display import HTML"
            ]
        },
        {
            "cell_type": "code",
            "execution_count": 5,
            "metadata": {},
            "outputs": [],
            "source": [
                "import transformer_lens\n",
                "import transformer_lens.utils as utils\n",
                "from transformer_lens.hook_points import (\n",
                "    HookedRootModule,\n",
                "    HookPoint,\n",
                ")  # Hooking utilities\n",
                "from transformer_lens import HookedTransformer, HookedTransformerConfig, FactoredMatrix, ActivationCache"
            ]
        },
        {
            "cell_type": "markdown",
            "metadata": {},
            "source": [
                "We turn automatic differentiation off, to save GPU memory, as this notebook focuses on model inference not model training."
            ]
        },
        {
            "cell_type": "code",
            "execution_count": 6,
            "metadata": {},
            "outputs": [
                {
                    "data": {
                        "text/plain": [
                            "<torch.autograd.grad_mode.set_grad_enabled at 0x7f973be365d0>"
                        ]
                    },
                    "execution_count": 6,
                    "metadata": {},
                    "output_type": "execute_result"
                }
            ],
            "source": [
                "torch.set_grad_enabled(False)"
            ]
        },
        {
            "cell_type": "markdown",
            "metadata": {},
            "source": [
                "Plotting helper functions:"
            ]
        },
        {
            "cell_type": "code",
            "execution_count": 7,
            "metadata": {},
            "outputs": [],
            "source": [
                "def imshow(tensor, renderer=None, xaxis=\"\", yaxis=\"\", **kwargs):\n",
                "    px.imshow(utils.to_numpy(tensor), color_continuous_midpoint=0.0, color_continuous_scale=\"RdBu\", labels={\"x\":xaxis, \"y\":yaxis}, **kwargs).show(renderer)\n",
                "\n",
                "def line(tensor, renderer=None, xaxis=\"\", yaxis=\"\", **kwargs):\n",
                "    px.line(utils.to_numpy(tensor), labels={\"x\":xaxis, \"y\":yaxis}, **kwargs).show(renderer)\n",
                "\n",
                "def scatter(x, y, xaxis=\"\", yaxis=\"\", caxis=\"\", renderer=None, **kwargs):\n",
                "    x = utils.to_numpy(x)\n",
                "    y = utils.to_numpy(y)\n",
                "    px.scatter(y=y, x=x, labels={\"x\":xaxis, \"y\":yaxis, \"color\":caxis}, **kwargs).show(renderer)"
            ]
        },
        {
            "attachments": {},
            "cell_type": "markdown",
            "metadata": {},
            "source": [
                "# Introduction"
            ]
        },
        {
            "attachments": {},
            "cell_type": "markdown",
            "metadata": {},
            "source": [
                "This is a demo notebook for [TransformerLens](https://github.com/neelnanda-io/TransformerLens), **a library I ([Neel Nanda](neelnanda.io)) wrote for doing [mechanistic interpretability](https://distill.pub/2020/circuits/zoom-in/) of GPT-2 Style language models.** The goal of mechanistic interpretability is to take a trained model and reverse engineer the algorithms the model learned during training from its weights. It is a fact about the world today that we have computer programs that can essentially speak English at a human level (GPT-3, PaLM, etc), yet we have no idea how they work nor how to write one ourselves. This offends me greatly, and I would like to solve this! Mechanistic interpretability is a very young and small field, and there are a *lot* of open problems - if you would like to help, please try working on one! **If you want to skill up, check out [my guide to getting started](https://neelnanda.io/getting-started), and if you want to jump into an open problem check out my sequence [200 Concrete Open Problems in Mechanistic Interpretability](https://neelnanda.io/concrete-open-problems).**\n",
                "\n",
                "I wrote this library because after I left the Anthropic interpretability team and started doing independent research, I got extremely frustrated by the state of open source tooling. There's a lot of excellent infrastructure like HuggingFace and DeepSpeed to *use* or *train* models, but very little to dig into their internals and reverse engineer how they work. **This library tries to solve that**, and to make it easy to get into the field even if you don't work at an industry org with real infrastructure! The core features were heavily inspired by [Anthropic's excellent Garcon tool](https://transformer-circuits.pub/2021/garcon/index.html). Credit to Nelson Elhage and Chris Olah for building Garcon and showing me the value of good infrastructure for accelerating exploratory research!\n",
                "\n",
                "The core design principle I've followed is to enable exploratory analysis - one of the most fun parts of mechanistic interpretability compared to normal ML is the extremely short feedback loops! The point of this library is to keep the gap between having an experiment idea and seeing the results as small as possible, to make it easy for **research to feel like play** and to enter a flow state. This notebook demonstrates how the library works and how to use it, but if you want to see how well it works for exploratory research, check out [my notebook analysing Indirect Objection Identification](https://neelnanda.io/exploratory-analysis-demo) or [my recording of myself doing research](https://www.youtube.com/watch?v=yo4QvDn-vsU)!"
            ]
        },
        {
            "attachments": {},
            "cell_type": "markdown",
            "metadata": {},
            "source": [
                "## Loading and Running Models\n",
                "\n",
                "TransformerLens comes loaded with >40 open source GPT-style models. You can load any of them in with `HookedTransformer.from_pretrained(MODEL_NAME)`. For this demo notebook we'll look at GPT-2 Small, an 80M parameter model, see the Available Models section for info on the rest."
            ]
        },
        {
            "cell_type": "code",
            "execution_count": 8,
            "metadata": {},
            "outputs": [],
            "source": [
                "device = \"cuda\" if torch.cuda.is_available() else \"cpu\""
            ]
        },
        {
            "cell_type": "code",
            "execution_count": 9,
            "metadata": {},
            "outputs": [
                {
                    "name": "stderr",
                    "output_type": "stream",
                    "text": [
                        "Using pad_token, but it is not set yet.\n"
                    ]
                },
                {
                    "name": "stdout",
                    "output_type": "stream",
                    "text": [
                        "Loaded pretrained model gpt2-small into HookedTransformer\n"
                    ]
                }
            ],
            "source": [
                "model = HookedTransformer.from_pretrained(\"gpt2-small\", device=device)"
            ]
        },
        {
            "attachments": {},
            "cell_type": "markdown",
            "metadata": {},
            "source": [
                "To try the model the model out, let's find the loss on this text! Models can be run on a single string or a tensor of tokens (shape: [batch, position], all integers), and the possible return types are: \n",
                "* \"logits\" (shape [batch, position, d_vocab], floats), \n",
                "* \"loss\" (the cross-entropy loss when predicting the next token), \n",
                "* \"both\" (a tuple of (logits, loss)) \n",
                "* None (run the model, but don't calculate the logits - this is faster when we only want to use intermediate activations)"
            ]
        },
        {
            "cell_type": "code",
            "execution_count": 10,
            "metadata": {},
            "outputs": [
                {
                    "name": "stdout",
                    "output_type": "stream",
                    "text": [
                        "Model loss: tensor(4.1653, device='cuda:0')\n"
                    ]
                }
            ],
            "source": [
                "model_description_text = \"\"\"## Loading Models\n",
                "\n",
                "HookedTransformer comes loaded with >40 open source GPT-style models. You can load any of them in with `HookedTransformer.from_pretrained(MODEL_NAME)`. See my explainer for documentation of all supported models, and this table for hyper-parameters and the name used to load them. Each model is loaded into the consistent HookedTransformer architecture, designed to be clean, consistent and interpretability-friendly. \n",
                "\n",
                "For this demo notebook we'll look at GPT-2 Small, an 80M parameter model. To try the model the model out, let's find the loss on this paragraph!\"\"\"\n",
                "loss = model(model_description_text, return_type=\"loss\")\n",
                "print(\"Model loss:\", loss)"
            ]
        },
        {
            "attachments": {},
            "cell_type": "markdown",
            "metadata": {},
            "source": [
                "## Caching all Activations\n",
                "\n",
                "The first basic operation when doing mechanistic interpretability is to break open the black box of the model and look at all of the internal activations of a model. This can be done with `logits, cache = model.run_with_cache(tokens)`. Let's try this out on the first line of the abstract of the GPT-2 paper.\n",
                "\n",
                "<details><summary>On `remove_batch_dim`</summary>\n",
                "\n",
                "Every activation inside the model begins with a batch dimension. Here, because we only entered a single batch dimension, that dimension is always length 1 and kinda annoying, so passing in the `remove_batch_dim=True` keyword removes it. `gpt2_cache_no_batch_dim = gpt2_cache.remove_batch_dim()` would have achieved the same effect.\n",
                "</details?>"
            ]
        },
        {
            "cell_type": "code",
            "execution_count": 11,
            "metadata": {},
            "outputs": [
                {
                    "name": "stdout",
                    "output_type": "stream",
                    "text": [
                        "cuda:0\n"
                    ]
                }
            ],
            "source": [
                "gpt2_text = \"Natural language processing tasks, such as question answering, machine translation, reading comprehension, and summarization, are typically approached with supervised learning on taskspecific datasets.\"\n",
                "gpt2_tokens = model.to_tokens(gpt2_text)\n",
                "print(gpt2_tokens.device)\n",
                "gpt2_logits, gpt2_cache = model.run_with_cache(gpt2_tokens, remove_batch_dim=True)"
            ]
        },
        {
            "attachments": {},
            "cell_type": "markdown",
            "metadata": {},
            "source": [
                "Let's visualize the attention pattern of all the heads in layer 0, using [Alan Cooney's CircuitsVis library](https://github.com/alan-cooney/CircuitsVis) (based on [Anthropic's PySvelte library](https://github.com/anthropics/PySvelte)). \n",
                "\n",
                "We look this the attention pattern in `gpt2_cache`, an `ActivationCache` object, by entering in the name of the activation, followed by the layer index (here, the activation is called \"attn\" and the layer index is 0). This has shape [head_index, destination_position, source_position], and we use the `model.to_str_tokens` method to convert the text to a list of tokens as strings, since there is an attention weight between each pair of tokens.\n",
                "\n",
                "This visualization is interactive! Try hovering over a token or head, and click to lock. The grid on the top left and for each head is the attention pattern as a destination position by source position grid. It's lower triangular because GPT-2 has **causal attention**, attention can only look backwards, so information can only move forwards in the network.\n",
                "\n",
                "See the ActivationCache section for more on what `gpt2_cache` can do."
            ]
        },
        {
            "cell_type": "code",
            "execution_count": 12,
            "metadata": {},
            "outputs": [
                {
                    "name": "stdout",
                    "output_type": "stream",
                    "text": [
                        "<class 'transformer_lens.ActivationCache.ActivationCache'>\n",
                        "torch.Size([12, 33, 33])\n"
                    ]
                }
            ],
            "source": [
                "print(type(gpt2_cache))\n",
                "attention_pattern = gpt2_cache[\"pattern\", 0, \"attn\"]\n",
                "print(attention_pattern.shape)\n",
                "gpt2_str_tokens = model.to_str_tokens(gpt2_text)"
            ]
        },
        {
            "cell_type": "code",
            "execution_count": 13,
            "metadata": {},
            "outputs": [
                {
                    "name": "stdout",
                    "output_type": "stream",
                    "text": [
                        "Layer 0 Head Attention Patterns:\n",
                        "huggingface/tokenizers: The current process just got forked, after parallelism has already been used. Disabling parallelism to avoid deadlocks...\n",
                        "To disable this warning, you can either:\n",
                        "\t- Avoid using `tokenizers` before the fork if possible\n",
                        "\t- Explicitly set the environment variable TOKENIZERS_PARALLELISM=(true | false)\n"
                    ]
                },
                {
                    "data": {
                        "text/html": [
                            "<div id=\"circuits-vis-f4d450d1-0076\" style=\"margin: 15px 0;\"/>\n",
                            "    <script crossorigin type=\"module\">\n",
                            "    import { render, AttentionPatterns } from \"https://unpkg.com/circuitsvis/dist/cdn/esm.js\";\n",
                            "    render(\n",
                            "      \"circuits-vis-f4d450d1-0076\",\n",
                            "      AttentionPatterns,\n",
                            "      {\"tokens\": [\"<|endoftext|>\", \"Natural\", \" language\", \" processing\", \" tasks\", \",\", \" such\", \" as\", \" question\", \" answering\", \",\", \" machine\", \" translation\", \",\", \" reading\", \" comprehension\", \",\", \" and\", \" summar\", \"ization\", \",\", \" are\", \" typically\", \" approached\", \" with\", \" supervised\", \" learning\", \" on\", \" tasks\", \"pe\", \"cific\", \" datasets\", \".\"], \"attention\": [[[1.0, 0.0, 0.0, 0.0, 0.0, 0.0, 0.0, 0.0, 0.0, 0.0, 0.0, 0.0, 0.0, 0.0, 0.0, 0.0, 0.0, 0.0, 0.0, 0.0, 0.0, 0.0, 0.0, 0.0, 0.0, 0.0, 0.0, 0.0, 0.0, 0.0, 0.0, 0.0, 0.0], [0.9639418125152588, 0.03605815768241882, 0.0, 0.0, 0.0, 0.0, 0.0, 0.0, 0.0, 0.0, 0.0, 0.0, 0.0, 0.0, 0.0, 0.0, 0.0, 0.0, 0.0, 0.0, 0.0, 0.0, 0.0, 0.0, 0.0, 0.0, 0.0, 0.0, 0.0, 0.0, 0.0, 0.0, 0.0], [0.8389372825622559, 0.11828785389661789, 0.04277484491467476, 0.0, 0.0, 0.0, 0.0, 0.0, 0.0, 0.0, 0.0, 0.0, 0.0, 0.0, 0.0, 0.0, 0.0, 0.0, 0.0, 0.0, 0.0, 0.0, 0.0, 0.0, 0.0, 0.0, 0.0, 0.0, 0.0, 0.0, 0.0, 0.0, 0.0], [0.4743611812591553, 0.13382019102573395, 0.2737174332141876, 0.11810115724802017, 0.0, 0.0, 0.0, 0.0, 0.0, 0.0, 0.0, 0.0, 0.0, 0.0, 0.0, 0.0, 0.0, 0.0, 0.0, 0.0, 0.0, 0.0, 0.0, 0.0, 0.0, 0.0, 0.0, 0.0, 0.0, 0.0, 0.0, 0.0, 0.0], [0.3560643792152405, 0.10184912383556366, 0.2305421233177185, 0.2039741575717926, 0.10757025331258774, 0.0, 0.0, 0.0, 0.0, 0.0, 0.0, 0.0, 0.0, 0.0, 0.0, 0.0, 0.0, 0.0, 0.0, 0.0, 0.0, 0.0, 0.0, 0.0, 0.0, 0.0, 0.0, 0.0, 0.0, 0.0, 0.0, 0.0, 0.0], [0.6660144329071045, 0.16866379976272583, 0.04535672068595886, 0.038854993879795074, 0.06775479763746262, 0.013355265371501446, 0.0, 0.0, 0.0, 0.0, 0.0, 0.0, 0.0, 0.0, 0.0, 0.0, 0.0, 0.0, 0.0, 0.0, 0.0, 0.0, 0.0, 0.0, 0.0, 0.0, 0.0, 0.0, 0.0, 0.0, 0.0, 0.0, 0.0], [0.38626956939697266, 0.2851093113422394, 0.07609007507562637, 0.05908380076289177, 0.07223347574472427, 0.039796337485313416, 0.08141741156578064, 0.0, 0.0, 0.0, 0.0, 0.0, 0.0, 0.0, 0.0, 0.0, 0.0, 0.0, 0.0, 0.0, 0.0, 0.0, 0.0, 0.0, 0.0, 0.0, 0.0, 0.0, 0.0, 0.0, 0.0, 0.0, 0.0], [0.37753939628601074, 0.18838827311992645, 0.11723990738391876, 0.08685597032308578, 0.0666918084025383, 0.03500019758939743, 0.09693004935979843, 0.0313543975353241, 0.0, 0.0, 0.0, 0.0, 0.0, 0.0, 0.0, 0.0, 0.0, 0.0, 0.0, 0.0, 0.0, 0.0, 0.0, 0.0, 0.0, 0.0, 0.0, 0.0, 0.0, 0.0, 0.0, 0.0, 0.0], [0.48697540163993835, 0.06781315058469772, 0.07952874153852463, 0.0848078802227974, 0.15902605652809143, 0.029577815905213356, 0.025685934349894524, 0.016474619507789612, 0.050110407173633575, 0.0, 0.0, 0.0, 0.0, 0.0, 0.0, 0.0, 0.0, 0.0, 0.0, 0.0, 0.0, 0.0, 0.0, 0.0, 0.0, 0.0, 0.0, 0.0, 0.0, 0.0, 0.0, 0.0, 0.0], [0.2906549870967865, 0.0401349775493145, 0.14614856243133545, 0.09940595179796219, 0.1538918912410736, 0.03900161385536194, 0.024988988414406776, 0.03184128925204277, 0.10222820937633514, 0.0717034786939621, 0.0, 0.0, 0.0, 0.0, 0.0, 0.0, 0.0, 0.0, 0.0, 0.0, 0.0, 0.0, 0.0, 0.0, 0.0, 0.0, 0.0, 0.0, 0.0, 0.0, 0.0, 0.0, 0.0], [0.3962409794330597, 0.0969417616724968, 0.027270669117569923, 0.023551365360617638, 0.03723450005054474, 0.006502414587885141, 0.08118759095668793, 0.0130884675309062, 0.06990591436624527, 0.240431010723114, 0.00764533830806613, 0.0, 0.0, 0.0, 0.0, 0.0, 0.0, 0.0, 0.0, 0.0, 0.0, 0.0, 0.0, 0.0, 0.0, 0.0, 0.0, 0.0, 0.0, 0.0, 0.0, 0.0, 0.0], [0.24864785373210907, 0.1380205750465393, 0.0923532098531723, 0.08676134794950485, 0.1381969302892685, 0.05914195999503136, 0.03223859518766403, 0.03158237785100937, 0.030489427968859673, 0.038734860718250275, 0.06671835482120514, 0.037114474922418594, 0.0, 0.0, 0.0, 0.0, 0.0, 0.0, 0.0, 0.0, 0.0, 0.0, 0.0, 0.0, 0.0, 0.0, 0.0, 0.0, 0.0, 0.0, 0.0, 0.0, 0.0], [0.19148437678813934, 0.16172589361667633, 0.07445936650037766, 0.07740950584411621, 0.021961094811558723, 0.033921290189027786, 0.051250237971544266, 0.019519243389368057, 0.031324468553066254, 0.04020151123404503, 0.03874270245432854, 0.2157885730266571, 0.04221170395612717, 0.0, 0.0, 0.0, 0.0, 0.0, 0.0, 0.0, 0.0, 0.0, 0.0, 0.0, 0.0, 0.0, 0.0, 0.0, 0.0, 0.0, 0.0, 0.0, 0.0], [0.3704317510128021, 0.08681419491767883, 0.024584684520959854, 0.021616321057081223, 0.03238872438669205, 0.00542273186147213, 0.0727522224187851, 0.011272795498371124, 0.06329692155122757, 0.21726815402507782, 0.006367160473018885, 0.02960381470620632, 0.05099847540259361, 0.007182056549936533, 0.0, 0.0, 0.0, 0.0, 0.0, 0.0, 0.0, 0.0, 0.0, 0.0, 0.0, 0.0, 0.0, 0.0, 0.0, 0.0, 0.0, 0.0, 0.0], [0.19737650454044342, 0.04603997990489006, 0.04399983212351799, 0.1337345987558365, 0.054248202592134476, 0.02547571063041687, 0.02756349742412567, 0.021570932120084763, 0.051718223839998245, 0.0645809918642044, 0.028064636513590813, 0.23551589250564575, 0.019129812717437744, 0.029963508248329163, 0.021017692983150482, 0.0, 0.0, 0.0, 0.0, 0.0, 0.0, 0.0, 0.0, 0.0, 0.0, 0.0, 0.0, 0.0, 0.0, 0.0, 0.0, 0.0, 0.0], [0.08907235413789749, 0.01928834617137909, 0.1665353626012802, 0.07281265407800674, 0.04738638550043106, 0.02448791265487671, 0.028987331315875053, 0.019370367750525475, 0.026673005893826485, 0.07316633313894272, 0.02570459246635437, 0.04242357239127159, 0.05869462341070175, 0.02893269620835781, 0.18119074404239655, 0.0952737107872963, 0.0, 0.0, 0.0, 0.0, 0.0, 0.0, 0.0, 0.0, 0.0, 0.0, 0.0, 0.0, 0.0, 0.0, 0.0, 0.0, 0.0], [0.281672865152359, 0.06441289931535721, 0.018008539453148842, 0.016169613227248192, 0.023183880373835564, 0.0037532926071435213, 0.05472245812416077, 0.00790976732969284, 0.046164676547050476, 0.16947270929813385, 0.004361644387245178, 0.021011341363191605, 0.03549070656299591, 0.004932567942887545, 0.0955522358417511, 0.147263303399086, 0.005917450878769159, 0.0, 0.0, 0.0, 0.0, 0.0, 0.0, 0.0, 0.0, 0.0, 0.0, 0.0, 0.0, 0.0, 0.0, 0.0, 0.0], [0.21305492520332336, 0.0591236874461174, 0.03382086753845215, 0.02747686393558979, 0.028393561020493507, 0.008422903716564178, 0.04008529707789421, 0.011629259213805199, 0.052951883524656296, 0.1540464162826538, 0.009831814095377922, 0.036101918667554855, 0.04737291857600212, 0.01106918603181839, 0.09972471743822098, 0.13971345126628876, 0.013185348361730576, 0.013994940556585789, 0.0, 0.0, 0.0, 0.0, 0.0, 0.0, 0.0, 0.0, 0.0, 0.0, 0.0, 0.0, 0.0, 0.0, 0.0], [0.15871688723564148, 0.043878890573978424, 0.08712149411439896, 0.08998467773199081, 0.030738558620214462, 0.034148942679166794, 0.0249172430485487, 0.03139196336269379, 0.024823850020766258, 0.019790321588516235, 0.036254849284887314, 0.020694419741630554, 0.04284069687128067, 0.03820900619029999, 0.06234659254550934, 0.10919704288244247, 0.0413760244846344, 0.04916762560606003, 0.05440090596675873, 0.0, 0.0, 0.0, 0.0, 0.0, 0.0, 0.0, 0.0, 0.0, 0.0, 0.0, 0.0, 0.0, 0.0], [0.10485511273145676, 0.12122291326522827, 0.0648748129606247, 0.08768722414970398, 0.034340523183345795, 0.017483942210674286, 0.03415181487798691, 0.015289154835045338, 0.02331211231648922, 0.028306489810347557, 0.018720466643571854, 0.028111934661865234, 0.04190533980727196, 0.020989565178751945, 0.04678508639335632, 0.08659637719392776, 0.02363182045519352, 0.024273160845041275, 0.16702397167682648, 0.01043821219354868, 0.0, 0.0, 0.0, 0.0, 0.0, 0.0, 0.0, 0.0, 0.0, 0.0, 0.0, 0.0, 0.0], [0.22901973128318787, 0.05184384062886238, 0.013585180975496769, 0.012337235733866692, 0.018005408346652985, 0.0027703619562089443, 0.04238128289580345, 0.0058562564663589, 0.036144860088825226, 0.13039226830005646, 0.003153424011543393, 0.015672575682401657, 0.027800412848591805, 0.003554325783625245, 0.07460817694664001, 0.11298273503780365, 0.004272265359759331, 0.006832199636846781, 0.18569745123386383, 0.018073637038469315, 0.00501635205000639, 0.0, 0.0, 0.0, 0.0, 0.0, 0.0, 0.0, 0.0, 0.0, 0.0, 0.0, 0.0], [0.18869927525520325, 0.03438713401556015, 0.022344738245010376, 0.01997274160385132, 0.016354020684957504, 0.006856551859527826, 0.02085905708372593, 0.005696002393960953, 0.03415916860103607, 0.07260988652706146, 0.007857219316065311, 0.0180402472615242, 0.026904471218585968, 0.009020398370921612, 0.06876447796821594, 0.1757873296737671, 0.01072007231414318, 0.009284548461437225, 0.1925639510154724, 0.025180330500006676, 0.0126390615478158, 0.02129936031997204, 0.0, 0.0, 0.0, 0.0, 0.0, 0.0, 0.0, 0.0, 0.0, 0.0, 0.0], [0.1195831447839737, 0.02225940302014351, 0.03294714540243149, 0.020170243456959724, 0.03565330430865288, 0.013459905982017517, 0.01751646399497986, 0.010057874955236912, 0.025856446474790573, 0.05955957993865013, 0.015084514394402504, 0.015008733607828617, 0.05317465588450432, 0.01659761555492878, 0.04155527427792549, 0.1312933713197708, 0.019296668469905853, 0.01585504785180092, 0.1792507916688919, 0.01618383079767227, 0.022295517846941948, 0.015463391318917274, 0.10187707096338272, 0.0, 0.0, 0.0, 0.0, 0.0, 0.0, 0.0, 0.0, 0.0, 0.0], [0.14615531265735626, 0.026727531105279922, 0.016624556854367256, 0.018987681716680527, 0.06278639286756516, 0.015317169018089771, 0.019792232662439346, 0.014227773994207382, 0.025458170101046562, 0.04530353844165802, 0.016364358365535736, 0.0374930202960968, 0.013288648799061775, 0.017496533691883087, 0.03994583338499069, 0.05881756544113159, 0.01926097832620144, 0.024616045877337456, 0.038219694048166275, 0.021577809005975723, 0.020949896425008774, 0.07973217964172363, 0.050176069140434265, 0.17068098485469818, 0.0, 0.0, 0.0, 0.0, 0.0, 0.0, 0.0, 0.0, 0.0], [0.11321669816970825, 0.03674638271331787, 0.011786578223109245, 0.010274868458509445, 0.020370664075016975, 0.005243884399533272, 0.015918856486678123, 0.005266786552965641, 0.02489173412322998, 0.06593260914087296, 0.005933659616857767, 0.018209045752882957, 0.02102019637823105, 0.006667503155767918, 0.0348287969827652, 0.13742123544216156, 0.007927050814032555, 0.008618669584393501, 0.11377192288637161, 0.013557435013353825, 0.009277835488319397, 0.02612137980759144, 0.08499346673488617, 0.19073909521102905, 0.011263747699558735, 0.0, 0.0, 0.0, 0.0, 0.0, 0.0, 0.0, 0.0], [0.1333770751953125, 0.026216616854071617, 0.03827150911092758, 0.07152578979730606, 0.05317765474319458, 0.013925841078162193, 0.007084188051521778, 0.013450149446725845, 0.009841449558734894, 0.011789779178798199, 0.01353758480399847, 0.0381549634039402, 0.041933055967092514, 0.01388228964060545, 0.03707147762179375, 0.138384610414505, 0.014846337959170341, 0.03156953677535057, 0.05598175898194313, 0.01553669385612011, 0.015956370159983635, 0.04545554891228676, 0.016699666157364845, 0.02532576397061348, 0.03671894967556, 0.08028542250394821, 0.0, 0.0, 0.0, 0.0, 0.0, 0.0, 0.0], [0.10608964413404465, 0.019107714295387268, 0.02446865104138851, 0.027496399357914925, 0.01636580377817154, 0.005011420231312513, 0.010413103736937046, 0.006081140600144863, 0.0053010666742920876, 0.011143156327307224, 0.004565387964248657, 0.01896989904344082, 0.004321117419749498, 0.0048149749636650085, 0.029409393668174744, 0.028682023286819458, 0.0050972518511116505, 0.007234347518533468, 0.0341259203851223, 0.010370589792728424, 0.005643264856189489, 0.007283581420779228, 0.02938954159617424, 0.010038794949650764, 0.009134511463344097, 0.5466634035110474, 0.012777915224432945, 0.0, 0.0, 0.0, 0.0, 0.0, 0.0], [0.1046731099486351, 0.033219415694475174, 0.01534124743193388, 0.009373551234602928, 0.0265954602509737, 0.005787806585431099, 0.01357136107981205, 0.004554883576929569, 0.028058888390660286, 0.02610723301768303, 0.006353436037898064, 0.013315842486917973, 0.026628250256180763, 0.006888875737786293, 0.06204750016331673, 0.058907028287649155, 0.008068056777119637, 0.00755709782242775, 0.08522782474756241, 0.017075752839446068, 0.009256891906261444, 0.01969578117132187, 0.1261780709028244, 0.13061508536338806, 0.011351044289767742, 0.08984372019767761, 0.04638151824474335, 0.00732529629021883, 0.0, 0.0, 0.0, 0.0, 0.0], [0.08561897277832031, 0.02143893763422966, 0.05641253665089607, 0.057066649198532104, 0.019802194088697433, 0.006727494299411774, 0.00580916041508317, 0.004516262095421553, 0.0031647495925426483, 0.017615200951695442, 0.006174595095217228, 0.08767973631620407, 0.012299865484237671, 0.0063504562713205814, 0.01752212829887867, 0.14295220375061035, 0.006585485767573118, 0.007875687442719936, 0.030078917741775513, 0.013907494023442268, 0.00737669738009572, 0.007684784010052681, 0.022160841152071953, 0.012385033071041107, 0.011890062130987644, 0.08669774234294891, 0.19902539253234863, 0.0135944914072752, 0.029586227610707283, 0.0, 0.0, 0.0, 0.0], [0.1406458467245102, 0.01329871267080307, 0.015702957287430763, 0.01735786721110344, 0.022331509739160538, 0.02967226691544056, 0.04172082245349884, 0.01899542659521103, 0.038277123123407364, 0.04863562062382698, 0.03094690665602684, 0.016023894771933556, 0.020880913361907005, 0.032438237220048904, 0.030558129772543907, 0.02280835062265396, 0.03537759184837341, 0.03145161643624306, 0.034971147775650024, 0.01867910660803318, 0.03821908310055733, 0.022578859701752663, 0.06819560378789902, 0.04214097559452057, 0.028620852157473564, 0.03775002062320709, 0.018578052520751953, 0.03376871719956398, 0.03641696646809578, 0.012956845574080944, 0.0, 0.0, 0.0], [0.07168617844581604, 0.06924445927143097, 0.01930689625442028, 0.014161991886794567, 0.016823191195726395, 0.0193806029856205, 0.01925741881132126, 0.022003652527928352, 0.013706528581678867, 0.03578377515077591, 0.01846517249941826, 0.052071668207645416, 0.020085185766220093, 0.01986212655901909, 0.02066212147474289, 0.047251660376787186, 0.021076703444123268, 0.0367872379720211, 0.0243240874260664, 0.0038275476545095444, 0.023920679464936256, 0.008533229120075703, 0.026241621002554893, 0.0273800790309906, 0.0346120148897171, 0.022884149104356766, 0.10047905147075653, 0.06913501024246216, 0.02547457069158554, 0.06495600938796997, 0.030615361407399178, 0.0, 0.0], [0.0691077783703804, 0.03701227530837059, 0.03862115368247032, 0.05933322757482529, 0.015923544764518738, 0.00791855901479721, 0.01037104707211256, 0.00661566574126482, 0.0025200792588293552, 0.02601936273276806, 0.00790522713214159, 0.029652021825313568, 0.04000625014305115, 0.008451343514025211, 0.010741153731942177, 0.050275612622499466, 0.009428860619664192, 0.013601027429103851, 0.05036918818950653, 0.03176715224981308, 0.010793028399348259, 0.007216807454824448, 0.006478433031588793, 0.014800607226788998, 0.021585971117019653, 0.15769486129283905, 0.0888475701212883, 0.019016942009329796, 0.029729336500167847, 0.03316135331988335, 0.05088365450501442, 0.0341508574783802, 0.0], [0.14375516772270203, 0.016811031848192215, 0.009386667981743813, 0.006830307189375162, 0.011656845919787884, 0.0015672288136556745, 0.01971147395670414, 0.0023980429396033287, 0.021235885098576546, 0.04683683067560196, 0.0016905148513615131, 0.005827194545418024, 0.011979997158050537, 0.0018251406727358699, 0.04231332987546921, 0.054913703352212906, 0.0021786559373140335, 0.002417011419311166, 0.09604070335626602, 0.005752875003963709, 0.002557791769504547, 0.0071212309412658215, 0.08889929950237274, 0.10852081328630447, 0.00517905643209815, 0.036577317863702774, 0.02471992000937462, 0.0037347699981182814, 0.031077079474925995, 0.016887933015823364, 0.09450863301753998, 0.07171519100666046, 0.0033723236992955208]], [[1.0, 0.0, 0.0, 0.0, 0.0, 0.0, 0.0, 0.0, 0.0, 0.0, 0.0, 0.0, 0.0, 0.0, 0.0, 0.0, 0.0, 0.0, 0.0, 0.0, 0.0, 0.0, 0.0, 0.0, 0.0, 0.0, 0.0, 0.0, 0.0, 0.0, 0.0, 0.0, 0.0], [0.0004246659518685192, 0.9995753169059753, 0.0, 0.0, 0.0, 0.0, 0.0, 0.0, 0.0, 0.0, 0.0, 0.0, 0.0, 0.0, 0.0, 0.0, 0.0, 0.0, 0.0, 0.0, 0.0, 0.0, 0.0, 0.0, 0.0, 0.0, 0.0, 0.0, 0.0, 0.0, 0.0, 0.0, 0.0], [0.0005621903110295534, 0.016407247632741928, 0.9830306172370911, 0.0, 0.0, 0.0, 0.0, 0.0, 0.0, 0.0, 0.0, 0.0, 0.0, 0.0, 0.0, 0.0, 0.0, 0.0, 0.0, 0.0, 0.0, 0.0, 0.0, 0.0, 0.0, 0.0, 0.0, 0.0, 0.0, 0.0, 0.0, 0.0, 0.0], [0.0011627564672380686, 0.02168198674917221, 0.0037620370276272297, 0.9733933210372925, 0.0, 0.0, 0.0, 0.0, 0.0, 0.0, 0.0, 0.0, 0.0, 0.0, 0.0, 0.0, 0.0, 0.0, 0.0, 0.0, 0.0, 0.0, 0.0, 0.0, 0.0, 0.0, 0.0, 0.0, 0.0, 0.0, 0.0, 0.0, 0.0], [3.724429552676156e-05, 0.00017202235176227987, 0.00028143904637545347, 0.002742142416536808, 0.9967671632766724, 0.0, 0.0, 0.0, 0.0, 0.0, 0.0, 0.0, 0.0, 0.0, 0.0, 0.0, 0.0, 0.0, 0.0, 0.0, 0.0, 0.0, 0.0, 0.0, 0.0, 0.0, 0.0, 0.0, 0.0, 0.0, 0.0, 0.0, 0.0], [0.008268454112112522, 0.0002398560318397358, 7.361917960224673e-05, 6.437722186092287e-05, 0.00017566375026945025, 0.9911779761314392, 0.0, 0.0, 0.0, 0.0, 0.0, 0.0, 0.0, 0.0, 0.0, 0.0, 0.0, 0.0, 0.0, 0.0, 0.0, 0.0, 0.0, 0.0, 0.0, 0.0, 0.0, 0.0, 0.0, 0.0, 0.0, 0.0, 0.0], [0.0012215040624141693, 0.005400446243584156, 0.0016716301906853914, 0.00040775572415441275, 0.0006163657526485622, 0.0010931179858744144, 0.9895892143249512, 0.0, 0.0, 0.0, 0.0, 0.0, 0.0, 0.0, 0.0, 0.0, 0.0, 0.0, 0.0, 0.0, 0.0, 0.0, 0.0, 0.0, 0.0, 0.0, 0.0, 0.0, 0.0, 0.0, 0.0, 0.0, 0.0], [0.0012459800345823169, 0.0009121237671934068, 0.0005976729444228113, 0.00013656896771863103, 0.00033041168353520334, 0.0015722817042842507, 0.003880823962390423, 0.9913240671157837, 0.0, 0.0, 0.0, 0.0, 0.0, 0.0, 0.0, 0.0, 0.0, 0.0, 0.0, 0.0, 0.0, 0.0, 0.0, 0.0, 0.0, 0.0, 0.0, 0.0, 0.0, 0.0, 0.0, 0.0, 0.0], [0.00028217461658641696, 0.004068175330758095, 0.0026605145540088415, 0.001309309503994882, 0.008030476979911327, 0.00028790911892428994, 0.0002292289718752727, 0.00039484212175011635, 0.9827372431755066, 0.0, 0.0, 0.0, 0.0, 0.0, 0.0, 0.0, 0.0, 0.0, 0.0, 0.0, 0.0, 0.0, 0.0, 0.0, 0.0, 0.0, 0.0, 0.0, 0.0, 0.0, 0.0, 0.0, 0.0], [3.47394343407359e-05, 0.00039538549026474357, 0.00013272761134430766, 0.00025852362159639597, 0.00108556286431849, 9.198069892590865e-05, 0.00032670877408236265, 0.0005427470314316452, 0.0061059510335326195, 0.9910256266593933, 0.0, 0.0, 0.0, 0.0, 0.0, 0.0, 0.0, 0.0, 0.0, 0.0, 0.0, 0.0, 0.0, 0.0, 0.0, 0.0, 0.0, 0.0, 0.0, 0.0, 0.0, 0.0, 0.0], [0.003378508146852255, 5.0908682169392705e-05, 1.645204974920489e-05, 1.6926154785323888e-05, 4.181416443316266e-05, 0.4939403831958771, 0.00012981254258193076, 0.0008837335626594722, 3.2211981306318194e-05, 2.7252104700892232e-05, 0.5014820098876953, 0.0, 0.0, 0.0, 0.0, 0.0, 0.0, 0.0, 0.0, 0.0, 0.0, 0.0, 0.0, 0.0, 0.0, 0.0, 0.0, 0.0, 0.0, 0.0, 0.0, 0.0, 0.0], [8.416071796091273e-05, 0.001341726048849523, 0.0012613622238859534, 0.0021450836211442947, 0.004042377695441246, 0.0004830548132304102, 0.00011582688603084534, 0.00015203624207060784, 2.6925383281195536e-05, 0.00012675173638854176, 0.00031290025799535215, 0.9899077415466309, 0.0, 0.0, 0.0, 0.0, 0.0, 0.0, 0.0, 0.0, 0.0, 0.0, 0.0, 0.0, 0.0, 0.0, 0.0, 0.0, 0.0, 0.0, 0.0, 0.0, 0.0], [0.00037822325248271227, 0.0009837571997195482, 0.03934122994542122, 0.0027322459500283003, 0.0036680232733488083, 0.00011039181117666885, 0.0001293103414354846, 0.00021743480465374887, 0.00010623306297929958, 0.0007748187053948641, 6.647666305070743e-05, 0.00031486686202697456, 0.9511770009994507, 0.0, 0.0, 0.0, 0.0, 0.0, 0.0, 0.0, 0.0, 0.0, 0.0, 0.0, 0.0, 0.0, 0.0, 0.0, 0.0, 0.0, 0.0, 0.0, 0.0], [0.002101721940562129, 2.443687480990775e-05, 7.788781658746302e-06, 8.651607458887156e-06, 2.0140041669947095e-05, 0.29971346259117126, 7.525263936258852e-05, 0.0004898307961411774, 1.8459470084053464e-05, 1.53445616888348e-05, 0.32833874225616455, 4.175800859229639e-05, 6.46919534119661e-06, 0.36913788318634033, 0.0, 0.0, 0.0, 0.0, 0.0, 0.0, 0.0, 0.0, 0.0, 0.0, 0.0, 0.0, 0.0, 0.0, 0.0, 0.0, 0.0, 0.0, 0.0], [0.00014968343020882457, 0.00011296629963908345, 0.00036294921301305294, 0.0001859122421592474, 0.00016460906772408634, 4.1432333091506734e-05, 2.8764743547071703e-05, 7.786951027810574e-05, 0.0009200993226841092, 0.010340176522731781, 2.7572366889216937e-05, 1.783325569704175e-05, 0.0003305452992208302, 2.4375729481107555e-05, 0.9872152805328369, 0.0, 0.0, 0.0, 0.0, 0.0, 0.0, 0.0, 0.0, 0.0, 0.0, 0.0, 0.0, 0.0, 0.0, 0.0, 0.0, 0.0, 0.0], [0.00010753815149655566, 0.0021781877148896456, 0.002042609266936779, 0.004251929000020027, 0.006989911198616028, 2.511877210054081e-05, 0.0007779028965160251, 0.0005783535889349878, 0.002937840297818184, 0.03322533890604973, 1.719924694043584e-05, 0.0008936473168432713, 0.0015238545602187514, 1.4656792700407095e-05, 0.006222632247954607, 0.9382132887840271, 0.0, 0.0, 0.0, 0.0, 0.0, 0.0, 0.0, 0.0, 0.0, 0.0, 0.0, 0.0, 0.0, 0.0, 0.0, 0.0, 0.0], [0.001363487564958632, 1.3226051123638172e-05, 4.013936177216237e-06, 4.803049250767799e-06, 1.0257454050588422e-05, 0.19665955007076263, 4.52725580544211e-05, 0.0002776258916128427, 1.1714414540620055e-05, 9.473304999119136e-06, 0.2291962057352066, 2.6430607249494642e-05, 4.101841113879345e-06, 0.26576119661331177, 8.515341505699325e-06, 4.536022061074618e-06, 0.30659955739974976, 0.0, 0.0, 0.0, 0.0, 0.0, 0.0, 0.0, 0.0, 0.0, 0.0, 0.0, 0.0, 0.0, 0.0, 0.0, 0.0], [0.0008924761787056923, 0.00013490821584127843, 4.779844675795175e-05, 5.803713065688498e-05, 0.00010480182390892878, 0.012799100950360298, 0.0007168250158429146, 0.03257954493165016, 2.6449928554939106e-05, 0.0001118508298532106, 0.01188427023589611, 4.0102739149006084e-05, 5.555408642976545e-05, 0.012377873994410038, 0.00010783479228848591, 5.4043703130446374e-05, 0.013122130185365677, 0.9148862957954407, 0.0, 0.0, 0.0, 0.0, 0.0, 0.0, 0.0, 0.0, 0.0, 0.0, 0.0, 0.0, 0.0, 0.0, 0.0], [5.075319677416701e-06, 4.396143413032405e-05, 3.398505214136094e-05, 7.940317300381139e-05, 5.477917875396088e-05, 7.921559586065996e-07, 9.313343070971314e-06, 7.727086995146237e-06, 8.597270789323375e-05, 0.00012274044274818152, 5.141494625604537e-07, 1.7027971352945315e-06, 3.8341830077115446e-05, 4.4509761210065335e-07, 0.00013928250700701028, 0.00032758014276623726, 3.9948014318724745e-07, 3.948134690290317e-06, 0.9990440011024475, 0.0, 0.0, 0.0, 0.0, 0.0, 0.0, 0.0, 0.0, 0.0, 0.0, 0.0, 0.0, 0.0, 0.0], [9.346199658466503e-05, 0.0018395757069811225, 0.002523313742130995, 0.018087264150381088, 0.002936380682513118, 0.0002733583969529718, 4.872979479841888e-05, 0.00042127788765355945, 0.0001562437682878226, 0.0009748343145474792, 0.00020533606584649533, 0.0010228845058009028, 0.001954802544787526, 0.0001947036653291434, 0.0011294216383248568, 0.00166561349760741, 0.00018734042532742023, 0.0009503458277322352, 0.000445517769549042, 0.964889645576477, 0.0, 0.0, 0.0, 0.0, 0.0, 0.0, 0.0, 0.0, 0.0, 0.0, 0.0, 0.0, 0.0], [0.0010859713656827807, 8.51232744025765e-06, 2.53072903433349e-06, 3.0625153613073053e-06, 5.9751359913207125e-06, 0.13292621076107025, 3.3453237847425044e-05, 0.00018891252693720162, 8.477749361190945e-06, 6.540435151691781e-06, 0.16445907950401306, 1.8130058379028924e-05, 3.0627402338723186e-06, 0.19719178974628448, 6.429842869692948e-06, 3.444733465585159e-06, 0.23317129909992218, 0.0022796287667006254, 3.7134373087610584e-06, 3.528806701069698e-05, 0.2685583829879761, 0.0, 0.0, 0.0, 0.0, 0.0, 0.0, 0.0, 0.0, 0.0, 0.0, 0.0, 0.0], [0.00041979606612585485, 0.00011805025860667229, 0.00014240515884011984, 3.796787859755568e-05, 0.00019043180509470403, 0.0017651242669671774, 0.0005709831020794809, 0.0005008860025554895, 8.840762893669307e-05, 0.00014208690845407546, 0.0016639858949929476, 3.348111204104498e-05, 2.441400647512637e-05, 0.0017546521266922355, 6.520318129332736e-05, 2.414269511064049e-05, 0.001829915796406567, 0.0015691055450588465, 3.9748843846609816e-05, 0.0001571241591591388, 0.0018554492853581905, 0.9870065450668335, 0.0, 0.0, 0.0, 0.0, 0.0, 0.0, 0.0, 0.0, 0.0, 0.0, 0.0], [7.501777145080268e-05, 0.0014379812637344003, 6.345145811792463e-05, 0.00010864839714486152, 0.00015633153088856488, 3.21012294079992e-06, 0.002203276613727212, 0.0002207655634265393, 5.240297468844801e-05, 4.8815836635185406e-05, 2.2644592263532104e-06, 1.5327233995776623e-05, 4.157140665483894e-06, 2.0228389985277317e-06, 6.296796982496744e-06, 4.84866468468681e-05, 1.9928991150663933e-06, 3.247004497097805e-05, 0.0012695115292444825, 1.9632627299870364e-05, 1.8090934190695407e-06, 0.0005810288130305707, 0.9936450719833374, 0.0, 0.0, 0.0, 0.0, 0.0, 0.0, 0.0, 0.0, 0.0, 0.0], [7.450179691659287e-05, 0.000613940937910229, 0.0009361231350339949, 0.0008487831801176071, 0.002850644988939166, 1.0365101843490265e-05, 0.00021614358411170542, 0.00017397596093360335, 0.0020508463494479656, 0.005805311258882284, 8.05526906333398e-06, 8.086623711278662e-05, 0.0007702469010837376, 7.288212600542465e-06, 0.00105761899612844, 0.0022756026592105627, 6.6632801463129e-06, 0.00011621072917478159, 0.0005972476210445166, 8.736330346437171e-05, 6.332356406346662e-06, 6.096481592976488e-05, 6.090600436436944e-05, 0.9812840819358826, 0.0, 0.0, 0.0, 0.0, 0.0, 0.0, 0.0, 0.0, 0.0], [0.0005848751170560718, 0.0001590922911418602, 1.0836489309440367e-05, 7.365475175902247e-05, 0.00011349544365657493, 0.00082566705532372, 0.00031911066616885364, 0.01853000372648239, 1.0226588528894354e-05, 4.958731369697489e-05, 0.000771643128246069, 4.454823647392914e-05, 9.865042557066772e-06, 0.0008067184826359153, 2.2673882995150052e-05, 1.2464161045500077e-05, 0.0008449110318906605, 0.008790114894509315, 3.579240365070291e-05, 3.662865128717385e-05, 0.0008917539962567389, 0.0010791788809001446, 0.00037084639188833535, 0.00010837146692210808, 0.9654977917671204, 0.0, 0.0, 0.0, 0.0, 0.0, 0.0, 0.0, 0.0], [1.6459896869491786e-05, 0.00017152423970401287, 3.2083124096971005e-05, 0.00010234154615318403, 0.0026318749878555536, 9.88617648545187e-06, 3.250845838920213e-05, 3.741747059393674e-05, 0.00012631516437977552, 4.991206878912635e-05, 8.302526111947373e-06, 8.443414844805375e-05, 3.1279632821679115e-05, 7.63334992370801e-06, 1.0101344741997309e-05, 5.667365257977508e-05, 7.442115474987077e-06, 2.7689606213243678e-05, 1.841830635385122e-05, 2.8794293029932305e-06, 6.840415153419599e-06, 4.27987151851994e-06, 0.00043176516192033887, 0.00017617485718801618, 8.995591633720323e-05, 0.9958258867263794, 0.0, 0.0, 0.0, 0.0, 0.0, 0.0, 0.0], [2.63680012722034e-05, 0.00018008674669545144, 0.00018082918541040272, 0.0003046466736122966, 0.00039390832534991205, 4.674835872719996e-05, 2.7231670173932798e-05, 4.873481884715147e-05, 0.00029131615883670747, 0.0004206156881991774, 3.804629159276374e-05, 0.00025245067081414163, 5.606727791018784e-05, 3.820361598627642e-05, 0.0015365071594715118, 0.001253720954991877, 3.593415021896362e-05, 2.3036598577164114e-05, 0.00018036190886050463, 0.00012266065459698439, 3.517773802741431e-05, 6.924672197783366e-05, 0.00011267272202530876, 0.0008507365128025413, 0.0001436186139471829, 0.00023527935263700783, 0.9930958151817322, 0.0, 0.0, 0.0, 0.0, 0.0, 0.0], [0.0007048260886222124, 5.675388820236549e-05, 3.351292207298684e-06, 7.472656761819962e-06, 1.7859490981209092e-05, 0.0008156534750014544, 4.952957169734873e-05, 0.0013530983123928308, 3.7417627027025446e-05, 0.00014378019841387868, 0.0007639338728040457, 9.991694241762161e-06, 2.884440846173675e-06, 0.0007552236202172935, 0.0001015961097436957, 3.120546807622304e-06, 0.0008060954860411584, 0.0011406766716390848, 1.4343130715133157e-05, 9.910167136695236e-06, 0.0008649193914607167, 8.663281914778054e-05, 3.4695469366852194e-05, 0.00010265829769195989, 0.007663473952561617, 4.187898593954742e-05, 3.490862582111731e-06, 0.9844047427177429, 0.0, 0.0, 0.0, 0.0, 0.0], [2.0288291125325486e-05, 2.9542719858000055e-05, 5.0375016144244e-05, 0.0009778322419151664, 0.3728255033493042, 6.661310635536211e-06, 1.573363806528505e-05, 3.9812392060412094e-05, 0.00022353202803060412, 0.00012674317986238748, 5.118433819006896e-06, 0.0002411615860182792, 1.2973822776984889e-05, 4.800681381311733e-06, 2.3321632397710346e-05, 7.723531598458067e-05, 4.593432095134631e-06, 1.9647121007437818e-05, 0.00021129929518792778, 1.1453497791080736e-05, 4.380483915156219e-06, 1.4442666724789888e-05, 3.676741835079156e-05, 0.0001184530628961511, 3.797714816755615e-05, 0.0007802759646438062, 0.0004048363771289587, 1.0429552276036702e-05, 0.6236647963523865, 0.0, 0.0, 0.0, 0.0], [2.058296558971051e-05, 8.831277227727696e-05, 0.00020454921468626708, 0.0003018907445948571, 8.22391957626678e-05, 1.9704471924342215e-05, 0.00014085152361076325, 2.896325895562768e-05, 7.669399565202184e-06, 3.7246241845423356e-05, 1.6736834368202835e-05, 6.404715531971306e-05, 0.0006910597439855337, 1.6027615856728517e-05, 0.00015603710198774934, 0.00014825955440755934, 1.5700115909567103e-05, 9.155416773865e-05, 8.525115117663518e-05, 4.904527031612815e-06, 1.5784442439326085e-05, 5.293127105687745e-05, 0.0005298369796946645, 0.0005658410955220461, 6.167335959617049e-05, 6.7295171902515e-05, 0.0003077451838180423, 1.0369188203185331e-05, 6.799356197007e-05, 0.9960988759994507, 0.0, 0.0, 0.0], [1.3371293789532501e-05, 0.0009821531130000949, 0.00041548069566488266, 0.00011442315735621378, 0.00038730751839466393, 5.6608546401548665e-06, 0.0012746263528242707, 0.0005708053940907121, 0.0006383624859154224, 0.0005776652251370251, 4.127729425817961e-06, 9.161734851659276e-06, 9.142825001617894e-05, 3.774860488192644e-06, 1.3575281627709046e-05, 0.000291617150651291, 3.447482413321268e-06, 7.899177580839023e-05, 0.0031891181133687496, 4.885079306404805e-06, 3.1652839425078128e-06, 1.4087440831644926e-05, 0.0001567142753629014, 0.00035448858398012817, 0.00017265425412915647, 0.0013050627894699574, 0.00021867647592443973, 2.6776693630381487e-05, 0.0002646018110681325, 1.3334517461771611e-05, 0.9888005256652832, 0.0, 0.0], [2.7455113013274968e-05, 0.0001643829164095223, 7.996438216650859e-05, 0.001191499875858426, 0.000788362929597497, 2.658421635715058e-06, 3.0057644835324027e-05, 7.457982519554207e-06, 0.0001494100724812597, 2.8857211873400956e-05, 1.8738309108812246e-06, 0.00033288096892647445, 5.1608698413474485e-05, 1.7577480093677877e-06, 0.0001265660102944821, 0.00014267049846239388, 1.6954453485595877e-06, 2.1952635506750084e-05, 0.00023040821542963386, 4.42934651800897e-05, 1.6103335838124622e-06, 2.700807453948073e-05, 0.00023884885013103485, 0.00019046032684855163, 9.496153325017076e-06, 0.00044664437882602215, 0.00022095807071309537, 5.379185495257843e-06, 0.0006956406286917627, 0.00015470779908355325, 0.0002548545890022069, 0.9943285584449768, 0.0], [0.006231049541383982, 9.722816321300343e-05, 6.871596724522533e-06, 2.1151117834961042e-05, 5.8280591474613175e-05, 0.0072389086708426476, 2.0987938114558347e-05, 0.0002545907336752862, 6.243860116228461e-05, 2.0924684577039443e-05, 0.007872147485613823, 5.585324834100902e-05, 9.868776942312252e-06, 0.009169407188892365, 7.203009590739384e-05, 7.068701052048709e-06, 0.010345976799726486, 0.0013096544425934553, 3.803680374403484e-05, 8.022704423638061e-05, 0.01205325685441494, 4.072002411703579e-05, 3.686071750053088e-06, 3.4713455534074455e-05, 0.0005061828414909542, 8.918951061787084e-05, 2.9112034098943695e-05, 0.0012772816698998213, 8.489656465826556e-05, 0.00018447425100021064, 0.0001342574250884354, 6.813061190769076e-05, 0.9425214529037476]], [[1.0, 0.0, 0.0, 0.0, 0.0, 0.0, 0.0, 0.0, 0.0, 0.0, 0.0, 0.0, 0.0, 0.0, 0.0, 0.0, 0.0, 0.0, 0.0, 0.0, 0.0, 0.0, 0.0, 0.0, 0.0, 0.0, 0.0, 0.0, 0.0, 0.0, 0.0, 0.0, 0.0], [0.943029522895813, 0.05697048455476761, 0.0, 0.0, 0.0, 0.0, 0.0, 0.0, 0.0, 0.0, 0.0, 0.0, 0.0, 0.0, 0.0, 0.0, 0.0, 0.0, 0.0, 0.0, 0.0, 0.0, 0.0, 0.0, 0.0, 0.0, 0.0, 0.0, 0.0, 0.0, 0.0, 0.0, 0.0], [0.9185556173324585, 0.032800037413835526, 0.048644356429576874, 0.0, 0.0, 0.0, 0.0, 0.0, 0.0, 0.0, 0.0, 0.0, 0.0, 0.0, 0.0, 0.0, 0.0, 0.0, 0.0, 0.0, 0.0, 0.0, 0.0, 0.0, 0.0, 0.0, 0.0, 0.0, 0.0, 0.0, 0.0, 0.0, 0.0], [0.8779287934303284, 0.056434255093336105, 0.04271192103624344, 0.022925013676285744, 0.0, 0.0, 0.0, 0.0, 0.0, 0.0, 0.0, 0.0, 0.0, 0.0, 0.0, 0.0, 0.0, 0.0, 0.0, 0.0, 0.0, 0.0, 0.0, 0.0, 0.0, 0.0, 0.0, 0.0, 0.0, 0.0, 0.0, 0.0, 0.0], [0.804131805896759, 0.029098210856318474, 0.075567327439785, 0.056435927748680115, 0.034766778349876404, 0.0, 0.0, 0.0, 0.0, 0.0, 0.0, 0.0, 0.0, 0.0, 0.0, 0.0, 0.0, 0.0, 0.0, 0.0, 0.0, 0.0, 0.0, 0.0, 0.0, 0.0, 0.0, 0.0, 0.0, 0.0, 0.0, 0.0, 0.0], [0.49431052803993225, 0.02018354833126068, 0.027966558933258057, 0.018319059163331985, 0.03144201263785362, 0.407778263092041, 0.0, 0.0, 0.0, 0.0, 0.0, 0.0, 0.0, 0.0, 0.0, 0.0, 0.0, 0.0, 0.0, 0.0, 0.0, 0.0, 0.0, 0.0, 0.0, 0.0, 0.0, 0.0, 0.0, 0.0, 0.0, 0.0, 0.0], [0.6057475805282593, 0.02924245037138462, 0.09491514414548874, 0.07609355449676514, 0.0661466121673584, 0.0870579183101654, 0.040796712040901184, 0.0, 0.0, 0.0, 0.0, 0.0, 0.0, 0.0, 0.0, 0.0, 0.0, 0.0, 0.0, 0.0, 0.0, 0.0, 0.0, 0.0, 0.0, 0.0, 0.0, 0.0, 0.0, 0.0, 0.0, 0.0, 0.0], [0.44838207960128784, 0.045424316078424454, 0.07401478290557861, 0.06864847987890244, 0.0937662422657013, 0.08774267882108688, 0.0653427243232727, 0.11667866259813309, 0.0, 0.0, 0.0, 0.0, 0.0, 0.0, 0.0, 0.0, 0.0, 0.0, 0.0, 0.0, 0.0, 0.0, 0.0, 0.0, 0.0, 0.0, 0.0, 0.0, 0.0, 0.0, 0.0, 0.0, 0.0], [0.49169260263442993, 0.13782072067260742, 0.03955020010471344, 0.06153317168354988, 0.04539963975548744, 0.04073145613074303, 0.06228704750537872, 0.0586186908185482, 0.06236644834280014, 0.0, 0.0, 0.0, 0.0, 0.0, 0.0, 0.0, 0.0, 0.0, 0.0, 0.0, 0.0, 0.0, 0.0, 0.0, 0.0, 0.0, 0.0, 0.0, 0.0, 0.0, 0.0, 0.0, 0.0], [0.5404123663902283, 0.04442666471004486, 0.03957854211330414, 0.04188811033964157, 0.07529859244823456, 0.046695079654455185, 0.048475250601768494, 0.05500523000955582, 0.08293063938617706, 0.025289511308073997, 0.0, 0.0, 0.0, 0.0, 0.0, 0.0, 0.0, 0.0, 0.0, 0.0, 0.0, 0.0, 0.0, 0.0, 0.0, 0.0, 0.0, 0.0, 0.0, 0.0, 0.0, 0.0, 0.0], [0.2827354967594147, 0.014234177768230438, 0.017647752538323402, 0.011433073319494724, 0.021741705015301704, 0.2666540741920471, 0.015403540804982185, 0.04734927788376808, 0.01776754856109619, 0.0139260683208704, 0.2911073565483093, 0.0, 0.0, 0.0, 0.0, 0.0, 0.0, 0.0, 0.0, 0.0, 0.0, 0.0, 0.0, 0.0, 0.0, 0.0, 0.0, 0.0, 0.0, 0.0, 0.0, 0.0, 0.0], [0.34496620297431946, 0.046116795390844345, 0.05771546810865402, 0.11131858825683594, 0.11289364844560623, 0.027930360287427902, 0.0385919027030468, 0.056565314531326294, 0.05864056944847107, 0.0664859265089035, 0.026114368811249733, 0.05266086757183075, 0.0, 0.0, 0.0, 0.0, 0.0, 0.0, 0.0, 0.0, 0.0, 0.0, 0.0, 0.0, 0.0, 0.0, 0.0, 0.0, 0.0, 0.0, 0.0, 0.0, 0.0], [0.4699215888977051, 0.03201569616794586, 0.10772896558046341, 0.02700677141547203, 0.0446588434278965, 0.022773560136556625, 0.02311708778142929, 0.025491537526249886, 0.04950273782014847, 0.026573950424790382, 0.019708864390850067, 0.06337957829236984, 0.08812084794044495, 0.0, 0.0, 0.0, 0.0, 0.0, 0.0, 0.0, 0.0, 0.0, 0.0, 0.0, 0.0, 0.0, 0.0, 0.0, 0.0, 0.0, 0.0, 0.0, 0.0], [0.20661763846874237, 0.01037929393351078, 0.012261934578418732, 0.008319089189171791, 0.0160070713609457, 0.19527746737003326, 0.01145329512655735, 0.03475672006607056, 0.013073591515421867, 0.010938976891338825, 0.21602478623390198, 0.005866494495421648, 0.023642318323254585, 0.2353813201189041, 0.0, 0.0, 0.0, 0.0, 0.0, 0.0, 0.0, 0.0, 0.0, 0.0, 0.0, 0.0, 0.0, 0.0, 0.0, 0.0, 0.0, 0.0, 0.0], [0.3399348556995392, 0.029161637648940086, 0.09540710598230362, 0.033951885998249054, 0.08440455049276352, 0.012559548020362854, 0.02935868501663208, 0.02456417866051197, 0.10622431337833405, 0.04689214751124382, 0.011469604447484016, 0.006369198672473431, 0.11145279556512833, 0.011317993514239788, 0.05693152919411659, 0.0, 0.0, 0.0, 0.0, 0.0, 0.0, 0.0, 0.0, 0.0, 0.0, 0.0, 0.0, 0.0, 0.0, 0.0, 0.0, 0.0, 0.0], [0.4040881097316742, 0.02419566549360752, 0.03891006484627724, 0.014727435074746609, 0.024456577375531197, 0.03845001384615898, 0.03923037275671959, 0.0371713787317276, 0.0603000707924366, 0.04198547825217247, 0.037167180329561234, 0.01639123447239399, 0.0392896793782711, 0.037729810923337936, 0.13448567688465118, 0.01142130047082901, 0.0, 0.0, 0.0, 0.0, 0.0, 0.0, 0.0, 0.0, 0.0, 0.0, 0.0, 0.0, 0.0, 0.0, 0.0, 0.0, 0.0], [0.15876437723636627, 0.008203903213143349, 0.009295256808400154, 0.006221712101250887, 0.011793193407356739, 0.1506979912519455, 0.008851955644786358, 0.026313532143831253, 0.010186923667788506, 0.008433722890913486, 0.16762231290340424, 0.004420032259076834, 0.018211787566542625, 0.18350818753242493, 0.02092733606696129, 0.006447788793593645, 0.20010001957416534, 0.0, 0.0, 0.0, 0.0, 0.0, 0.0, 0.0, 0.0, 0.0, 0.0, 0.0, 0.0, 0.0, 0.0, 0.0, 0.0], [0.17539212107658386, 0.020569656044244766, 0.01829143613576889, 0.009298027493059635, 0.017377890646457672, 0.042534761130809784, 0.020701590925455093, 0.05044393241405487, 0.02543805167078972, 0.017218222841620445, 0.043115343898534775, 0.013349821791052818, 0.028528595343232155, 0.045972563326358795, 0.03408818319439888, 0.019834211096167564, 0.04992838203907013, 0.36791715025901794, 0.0, 0.0, 0.0, 0.0, 0.0, 0.0, 0.0, 0.0, 0.0, 0.0, 0.0, 0.0, 0.0, 0.0, 0.0], [0.26033344864845276, 0.017148379236459732, 0.03745276480913162, 0.07594801485538483, 0.046746980398893356, 0.01806854084134102, 0.03134647384285927, 0.03741516172885895, 0.07175811380147934, 0.058725371956825256, 0.017078710719943047, 0.04030591994524002, 0.057063572108745575, 0.017113588750362396, 0.10491329431533813, 0.046705350279808044, 0.01723020151257515, 0.024682164192199707, 0.019963959231972694, 0.0, 0.0, 0.0, 0.0, 0.0, 0.0, 0.0, 0.0, 0.0, 0.0, 0.0, 0.0, 0.0, 0.0], [0.30547064542770386, 0.05190498009324074, 0.04346897453069687, 0.02184685692191124, 0.021017199382185936, 0.03390476107597351, 0.041904740035533905, 0.039092883467674255, 0.028871966525912285, 0.02300342544913292, 0.0320579968392849, 0.023334484547376633, 0.0711059719324112, 0.03290090709924698, 0.061641957610845566, 0.03183264285326004, 0.03376762568950653, 0.04571488872170448, 0.035015225410461426, 0.02214188687503338, 0.0, 0.0, 0.0, 0.0, 0.0, 0.0, 0.0, 0.0, 0.0, 0.0, 0.0, 0.0, 0.0], [0.12242946773767471, 0.006105299573391676, 0.006670298986136913, 0.004581778775900602, 0.009337784722447395, 0.11381799727678299, 0.006783358287066221, 0.019719906151294708, 0.0075808619149029255, 0.006613646633923054, 0.12765920162200928, 0.0035026578698307276, 0.01400233618915081, 0.14000995457172394, 0.015684880316257477, 0.005092610605061054, 0.15336205065250397, 0.03527417033910751, 0.02246561460196972, 0.0069544571451842785, 0.1723516434431076, 0.0, 0.0, 0.0, 0.0, 0.0, 0.0, 0.0, 0.0, 0.0, 0.0, 0.0, 0.0], [0.20538491010665894, 0.034778520464897156, 0.014682918787002563, 0.031183315441012383, 0.0309312604367733, 0.021952781826257706, 0.032908666878938675, 0.05740535631775856, 0.05587515980005264, 0.04864278808236122, 0.023520758375525475, 0.015108548104763031, 0.02738633193075657, 0.024518469348549843, 0.060604527592659, 0.03477613255381584, 0.02613779343664646, 0.05168435350060463, 0.06281401216983795, 0.020291481167078018, 0.02860173024237156, 0.09081019461154938, 0.0, 0.0, 0.0, 0.0, 0.0, 0.0, 0.0, 0.0, 0.0, 0.0, 0.0], [0.2397860735654831, 0.03132350742816925, 0.05037754029035568, 0.01586942933499813, 0.03901457041501999, 0.022805536165833473, 0.04285356402397156, 0.028882313519716263, 0.04046265408396721, 0.0341072715818882, 0.0226445272564888, 0.03923068195581436, 0.07238572090864182, 0.022345511242747307, 0.04958105832338333, 0.03193335607647896, 0.023325568065047264, 0.04521360248327255, 0.030554326251149178, 0.02287651039659977, 0.02473229169845581, 0.05549478903412819, 0.014199569821357727, 0.0, 0.0, 0.0, 0.0, 0.0, 0.0, 0.0, 0.0, 0.0, 0.0], [0.23581688106060028, 0.020558299496769905, 0.043750058859586716, 0.02970486506819725, 0.03703876957297325, 0.014953454956412315, 0.04004310816526413, 0.027184370905160904, 0.045761819928884506, 0.03809259459376335, 0.014181887730956078, 0.03789152204990387, 0.06518244743347168, 0.014182934537529945, 0.05489493906497955, 0.023720968514680862, 0.014592769555747509, 0.025570029392838478, 0.07356180995702744, 0.039182357490062714, 0.014925522729754448, 0.04628866910934448, 0.027801059186458588, 0.015118874609470367, 0.0, 0.0, 0.0, 0.0, 0.0, 0.0, 0.0, 0.0, 0.0], [0.14254967868328094, 0.012010167352855206, 0.016881288960576057, 0.02074255608022213, 0.03245175629854202, 0.02962603233754635, 0.030295204371213913, 0.05620869994163513, 0.02960876002907753, 0.029481837525963783, 0.03263984993100166, 0.0100382249802351, 0.04078618437051773, 0.034627847373485565, 0.03391636162996292, 0.020155740901827812, 0.03684317693114281, 0.0606469064950943, 0.04744711518287659, 0.03252529725432396, 0.04040037840604782, 0.059477608650922775, 0.03129401430487633, 0.04792548716068268, 0.0714198648929596, 0.0, 0.0, 0.0, 0.0, 0.0, 0.0, 0.0, 0.0], [0.22229069471359253, 0.05911137908697128, 0.037026770412921906, 0.040590133517980576, 0.027254493907094002, 0.019174784421920776, 0.03171540051698685, 0.020462146028876305, 0.0381133034825325, 0.019927887246012688, 0.018538914620876312, 0.01543671078979969, 0.045364897698163986, 0.0193557720631361, 0.05035829544067383, 0.033281393349170685, 0.0201797466725111, 0.03679434955120087, 0.04331386834383011, 0.028476404026150703, 0.021317316219210625, 0.04771283268928528, 0.013107026927173138, 0.0263360645622015, 0.03021136298775673, 0.03454802557826042, 0.0, 0.0, 0.0, 0.0, 0.0, 0.0, 0.0], [0.28438133001327515, 0.023870104923844337, 0.04641880840063095, 0.010260092094540596, 0.033909860998392105, 0.018301473930478096, 0.02370888739824295, 0.02476683259010315, 0.025767754763364792, 0.022968804463744164, 0.016735447570681572, 0.013406941667199135, 0.045986633747816086, 0.01667323149740696, 0.0810639038681984, 0.050332631915807724, 0.016726160421967506, 0.01990480348467827, 0.030325336381793022, 0.010146313346922398, 0.017318226397037506, 0.019040968269109726, 0.011081117205321789, 0.05204642936587334, 0.033353522419929504, 0.03880886361002922, 0.012695513665676117, 0.0, 0.0, 0.0, 0.0, 0.0, 0.0], [0.11854350566864014, 0.01335094403475523, 0.013422032818198204, 0.030273213982582092, 0.026162920519709587, 0.020776212215423584, 0.02128022164106369, 0.03798937052488327, 0.03536441922187805, 0.03665178269147873, 0.022004006430506706, 0.015380030497908592, 0.030023133382201195, 0.0232996828854084, 0.030007552355527878, 0.014861371368169785, 0.024521928280591965, 0.03999800607562065, 0.03900156542658806, 0.03600768372416496, 0.02685120701789856, 0.06795869022607803, 0.038931310176849365, 0.05725808069109917, 0.06659835577011108, 0.03075685352087021, 0.02334320917725563, 0.05938269942998886, 0.0, 0.0, 0.0, 0.0, 0.0], [0.2509184777736664, 0.011351894587278366, 0.023033957928419113, 0.018849778920412064, 0.013208824209868908, 0.016430407762527466, 0.03763699531555176, 0.021519426256418228, 0.03823148086667061, 0.031223099678754807, 0.01608109474182129, 0.017179012298583984, 0.0823964923620224, 0.01577541045844555, 0.04969311133027077, 0.03397904336452484, 0.01646912842988968, 0.025656113401055336, 0.05326931178569794, 0.024380967020988464, 0.01703290268778801, 0.03106258064508438, 0.014834260568022728, 0.04310780018568039, 0.02781837061047554, 0.015127936378121376, 0.012749835848808289, 0.02685270644724369, 0.014129594899713993, 0.0, 0.0, 0.0, 0.0], [0.19256940484046936, 0.02283366769552231, 0.014495888724923134, 0.028055012226104736, 0.032904282212257385, 0.018577108159661293, 0.023776724934577942, 0.014988921582698822, 0.0277554914355278, 0.019952140748500824, 0.018426891416311264, 0.026808498427271843, 0.04026195779442787, 0.0189573485404253, 0.01998024247586727, 0.039050303399562836, 0.019494332373142242, 0.030714331194758415, 0.07932320237159729, 0.036197662353515625, 0.020379602909088135, 0.023319311439990997, 0.018723847344517708, 0.05692769214510918, 0.023927554488182068, 0.03924325108528137, 0.021783525124192238, 0.02037423476576805, 0.041788309812545776, 0.008409237489104271, 0.0, 0.0, 0.0], [0.18919382989406586, 0.01435206551104784, 0.027829358354210854, 0.01893606223165989, 0.05455232784152031, 0.024302400648593903, 0.0207525622099638, 0.03050181269645691, 0.01690041460096836, 0.029904045164585114, 0.023111779242753983, 0.021664852276444435, 0.0333598330616951, 0.023050514981150627, 0.02792702428996563, 0.026253491640090942, 0.024257969111204147, 0.024394985288381577, 0.01766667328774929, 0.02208106778562069, 0.025441506877541542, 0.023996736854314804, 0.015941401943564415, 0.021863479167222977, 0.04876276105642319, 0.010234053246676922, 0.025762973353266716, 0.061923298984766006, 0.06737111508846283, 0.018184125423431396, 0.009525512345135212, 0.0, 0.0], [0.27111947536468506, 0.054605744779109955, 0.03970598056912422, 0.03512896969914436, 0.020313763990998268, 0.008183861151337624, 0.022556623443961143, 0.014036447741091251, 0.026198474690318108, 0.032355353236198425, 0.007185026071965694, 0.010813488624989986, 0.05162610858678818, 0.007057542912662029, 0.04232776165008545, 0.01850598305463791, 0.006952996831387281, 0.01255085039883852, 0.03785515949130058, 0.01478737872093916, 0.007130767684429884, 0.01895671896636486, 0.010758964344859123, 0.023540522903203964, 0.01625620201230049, 0.007915409281849861, 0.03652311488986015, 0.01456228643655777, 0.01925146020948887, 0.010911822319030762, 0.0343966968357563, 0.06592905521392822, 0.0], [0.14836545288562775, 0.014506891369819641, 0.007646297570317984, 0.011038755998015404, 0.02630247175693512, 0.013194826431572437, 0.027184877544641495, 0.01739220693707466, 0.016122126951813698, 0.032880786806344986, 0.01405028160661459, 0.007167344447225332, 0.016120051965117455, 0.014647036790847778, 0.018450886011123657, 0.013102119788527489, 0.01528321672230959, 0.014542989432811737, 0.05961216986179352, 0.022383885458111763, 0.016796978190541267, 0.10928259789943695, 0.07263999432325363, 0.08393703401088715, 0.025249000638723373, 0.03774844855070114, 0.016226941719651222, 0.024953901767730713, 0.042165838181972504, 0.004525809548795223, 0.01449135597795248, 0.01914571411907673, 0.022841662168502808]], [[1.0, 0.0, 0.0, 0.0, 0.0, 0.0, 0.0, 0.0, 0.0, 0.0, 0.0, 0.0, 0.0, 0.0, 0.0, 0.0, 0.0, 0.0, 0.0, 0.0, 0.0, 0.0, 0.0, 0.0, 0.0, 0.0, 0.0, 0.0, 0.0, 0.0, 0.0, 0.0, 0.0], [0.0964699387550354, 0.9035300612449646, 0.0, 0.0, 0.0, 0.0, 0.0, 0.0, 0.0, 0.0, 0.0, 0.0, 0.0, 0.0, 0.0, 0.0, 0.0, 0.0, 0.0, 0.0, 0.0, 0.0, 0.0, 0.0, 0.0, 0.0, 0.0, 0.0, 0.0, 0.0, 0.0, 0.0, 0.0], [0.04325238987803459, 0.08177752792835236, 0.8749701380729675, 0.0, 0.0, 0.0, 0.0, 0.0, 0.0, 0.0, 0.0, 0.0, 0.0, 0.0, 0.0, 0.0, 0.0, 0.0, 0.0, 0.0, 0.0, 0.0, 0.0, 0.0, 0.0, 0.0, 0.0, 0.0, 0.0, 0.0, 0.0, 0.0, 0.0], [0.09995393455028534, 0.025312740355730057, 0.0201080534607172, 0.8546252846717834, 0.0, 0.0, 0.0, 0.0, 0.0, 0.0, 0.0, 0.0, 0.0, 0.0, 0.0, 0.0, 0.0, 0.0, 0.0, 0.0, 0.0, 0.0, 0.0, 0.0, 0.0, 0.0, 0.0, 0.0, 0.0, 0.0, 0.0, 0.0, 0.0], [0.024889372289180756, 0.003207356436178088, 0.0018421629210934043, 0.022361522540450096, 0.9476996660232544, 0.0, 0.0, 0.0, 0.0, 0.0, 0.0, 0.0, 0.0, 0.0, 0.0, 0.0, 0.0, 0.0, 0.0, 0.0, 0.0, 0.0, 0.0, 0.0, 0.0, 0.0, 0.0, 0.0, 0.0, 0.0, 0.0, 0.0, 0.0], [0.10732381045818329, 0.017841674387454987, 0.019553348422050476, 0.0433332584798336, 0.10211493819952011, 0.7098329663276672, 0.0, 0.0, 0.0, 0.0, 0.0, 0.0, 0.0, 0.0, 0.0, 0.0, 0.0, 0.0, 0.0, 0.0, 0.0, 0.0, 0.0, 0.0, 0.0, 0.0, 0.0, 0.0, 0.0, 0.0, 0.0, 0.0, 0.0], [0.006426358595490456, 0.00044797867303714156, 0.00014756589371245354, 0.0004693674563895911, 0.0014411874581128359, 0.0038596985395997763, 0.98720782995224, 0.0, 0.0, 0.0, 0.0, 0.0, 0.0, 0.0, 0.0, 0.0, 0.0, 0.0, 0.0, 0.0, 0.0, 0.0, 0.0, 0.0, 0.0, 0.0, 0.0, 0.0, 0.0, 0.0, 0.0, 0.0, 0.0], [0.0010354595724493265, 0.00019901880295947194, 0.00016020398470573127, 6.937285797903314e-05, 0.00038674144889228046, 0.005171593744307756, 0.896405816078186, 0.09657181799411774, 0.0, 0.0, 0.0, 0.0, 0.0, 0.0, 0.0, 0.0, 0.0, 0.0, 0.0, 0.0, 0.0, 0.0, 0.0, 0.0, 0.0, 0.0, 0.0, 0.0, 0.0, 0.0, 0.0, 0.0, 0.0], [0.0012883341405540705, 0.00032334565185010433, 0.0002652723924256861, 0.0002549063938204199, 0.00020129844779148698, 0.00010049015691038221, 0.0005700880428776145, 0.00040912977419793606, 0.9965871572494507, 0.0, 0.0, 0.0, 0.0, 0.0, 0.0, 0.0, 0.0, 0.0, 0.0, 0.0, 0.0, 0.0, 0.0, 0.0, 0.0, 0.0, 0.0, 0.0, 0.0, 0.0, 0.0, 0.0, 0.0], [0.00018741587700787932, 1.619654540263582e-05, 4.228112629789393e-06, 0.0002875890932045877, 1.1125726814498194e-05, 9.805675290408544e-06, 0.00015567208174616098, 7.63296484365128e-05, 0.0034869108349084854, 0.9957647323608398, 0.0, 0.0, 0.0, 0.0, 0.0, 0.0, 0.0, 0.0, 0.0, 0.0, 0.0, 0.0, 0.0, 0.0, 0.0, 0.0, 0.0, 0.0, 0.0, 0.0, 0.0, 0.0, 0.0], [0.015741528943181038, 0.0006393615622073412, 0.0004571527533698827, 0.0009912531822919846, 0.002114037051796913, 0.01808977499604225, 0.04712037369608879, 0.070109061896801, 0.06152840331196785, 0.27690401673316956, 0.5063050985336304, 0.0, 0.0, 0.0, 0.0, 0.0, 0.0, 0.0, 0.0, 0.0, 0.0, 0.0, 0.0, 0.0, 0.0, 0.0, 0.0, 0.0, 0.0, 0.0, 0.0, 0.0, 0.0], [0.0006166592356748879, 0.0005207078065723181, 4.61151976196561e-05, 0.001461300067603588, 0.00056237488752231, 4.447599712875672e-05, 0.0003653964668046683, 0.0002860160602722317, 0.004506118595600128, 0.005816515535116196, 0.0007244551088660955, 0.9850499033927917, 0.0, 0.0, 0.0, 0.0, 0.0, 0.0, 0.0, 0.0, 0.0, 0.0, 0.0, 0.0, 0.0, 0.0, 0.0, 0.0, 0.0, 0.0, 0.0, 0.0, 0.0], [0.0010478582698851824, 3.062817268073559e-05, 0.0001734501274768263, 5.423129550763406e-05, 6.388429756043479e-05, 1.126113875216106e-05, 1.7169008060591295e-05, 1.3931307876191568e-05, 0.0020760400220751762, 0.00026926834834739566, 0.00015268517017830163, 0.0036844394635409117, 0.992405116558075, 0.0, 0.0, 0.0, 0.0, 0.0, 0.0, 0.0, 0.0, 0.0, 0.0, 0.0, 0.0, 0.0, 0.0, 0.0, 0.0, 0.0, 0.0, 0.0, 0.0], [0.010746276937425137, 0.0002535439271014184, 0.00015322952822316438, 0.0002928704197984189, 0.000537678599357605, 0.004423546604812145, 0.009884330444037914, 0.012843027710914612, 0.012738626450300217, 0.05966856703162193, 0.10772989690303802, 0.024745706468820572, 0.07808708399534225, 0.6778956055641174, 0.0, 0.0, 0.0, 0.0, 0.0, 0.0, 0.0, 0.0, 0.0, 0.0, 0.0, 0.0, 0.0, 0.0, 0.0, 0.0, 0.0, 0.0, 0.0], [0.0004121808160562068, 2.6218789571430534e-05, 1.7755939552444033e-05, 0.00019181938841938972, 3.2979523894027807e-06, 3.912682132067857e-06, 1.043809788825456e-05, 4.906853973807301e-06, 0.0005868570297025144, 0.0030381539836525917, 3.693124745041132e-05, 0.0007724322495050728, 0.009622638113796711, 0.00016094426973722875, 0.9851114153862, 0.0, 0.0, 0.0, 0.0, 0.0, 0.0, 0.0, 0.0, 0.0, 0.0, 0.0, 0.0, 0.0, 0.0, 0.0, 0.0, 0.0, 0.0], [0.00010886614472838119, 3.5845589536620537e-06, 5.1916676966357045e-06, 3.083846240770072e-05, 1.8408798496238887e-05, 7.954780585350818e-07, 3.35321396960353e-06, 6.5743838604248594e-06, 0.0007270957576110959, 0.001823249040171504, 7.853288479964249e-06, 0.00030627570231445134, 0.0069750514812767506, 3.4850967495003715e-05, 0.028292786329984665, 0.9616552591323853, 0.0, 0.0, 0.0, 0.0, 0.0, 0.0, 0.0, 0.0, 0.0, 0.0, 0.0, 0.0, 0.0, 0.0, 0.0, 0.0, 0.0], [0.00607397872954607, 8.815203909762204e-05, 4.583781992550939e-05, 8.250485552707687e-05, 0.00012720409722533077, 0.0009312514448538423, 0.0016699976986274123, 0.0019381921738386154, 0.002101697027683258, 0.010131657123565674, 0.016047297045588493, 0.0038353833369910717, 0.012242138385772705, 0.10037068277597427, 0.07853127270936966, 0.1099734753370285, 0.6558092832565308, 0.0, 0.0, 0.0, 0.0, 0.0, 0.0, 0.0, 0.0, 0.0, 0.0, 0.0, 0.0, 0.0, 0.0, 0.0, 0.0], [0.002186303259804845, 1.189297836390324e-05, 1.67359958140878e-05, 2.0815476091229357e-05, 2.116257746820338e-05, 0.0007714934181421995, 0.0008652124088257551, 0.0005560306599363685, 0.00015655919560231268, 0.001949993660673499, 0.010891225188970566, 0.0003954322019126266, 0.0015144766075536609, 0.0691632628440857, 0.0043081073090434074, 0.004035170190036297, 0.4939705431461334, 0.409165620803833, 0.0, 0.0, 0.0, 0.0, 0.0, 0.0, 0.0, 0.0, 0.0, 0.0, 0.0, 0.0, 0.0, 0.0, 0.0], [1.9797969798673876e-05, 4.972393412572274e-07, 9.165694869750496e-09, 1.3230416584519844e-07, 5.60181163677953e-08, 1.1903900087872898e-08, 6.15311137153185e-07, 4.068558112635401e-08, 4.517450634011766e-06, 1.4017750800121576e-05, 1.6456931462016655e-07, 1.0863813031392056e-06, 7.444054062943906e-06, 1.005667400022503e-06, 2.759499693638645e-05, 0.00031378009589388967, 6.201131327543408e-06, 8.21336197986966e-06, 0.9995948672294617, 0.0, 0.0, 0.0, 0.0, 0.0, 0.0, 0.0, 0.0, 0.0, 0.0, 0.0, 0.0, 0.0, 0.0], [6.4971609390340745e-06, 8.69202665398916e-07, 1.4051404377823928e-06, 3.770485932363954e-07, 3.32917210243977e-07, 6.104972527509744e-08, 2.5429999439552375e-08, 1.1067768213024465e-07, 3.67088032362517e-05, 5.704819159291219e-07, 6.17234604760597e-07, 0.00015627933316864073, 0.00014737941091880202, 3.0103783501544967e-06, 6.130665133241564e-05, 0.0017769909463822842, 1.854590118455235e-05, 3.4263157431269065e-05, 0.9233514070510864, 0.07440317422151566, 0.0, 0.0, 0.0, 0.0, 0.0, 0.0, 0.0, 0.0, 0.0, 0.0, 0.0, 0.0, 0.0], [0.0036490047350525856, 3.74943992937915e-05, 1.747078749758657e-05, 2.8449225283111446e-05, 3.312424450996332e-05, 0.00019569217693060637, 0.00026475926279090345, 0.0002469040045980364, 0.0002803320239763707, 0.001394919352605939, 0.001791029004380107, 0.00042467968887649477, 0.0014623717870563269, 0.009717761538922787, 0.008053944446146488, 0.01320057176053524, 0.06315962225198746, 0.0715278834104538, 0.07523118704557419, 0.024205094203352928, 0.7250776886940002, 0.0, 0.0, 0.0, 0.0, 0.0, 0.0, 0.0, 0.0, 0.0, 0.0, 0.0, 0.0], [0.0006410907371900976, 3.925716100638965e-06, 1.1607372698563267e-06, 1.5375526345451362e-06, 9.072641091734113e-07, 8.05822855909355e-06, 1.3223983842181042e-05, 4.6199243115552235e-06, 3.678846769616939e-05, 4.5651882828678936e-05, 7.577823998872191e-05, 2.27417767746374e-05, 5.66847957088612e-05, 0.0004737517738249153, 0.00036407774314284325, 0.000424003490479663, 0.0037573387380689383, 0.0043631307780742645, 0.007395242806524038, 0.005022636614739895, 0.05575624853372574, 0.9215314984321594, 0.0, 0.0, 0.0, 0.0, 0.0, 0.0, 0.0, 0.0, 0.0, 0.0, 0.0], [0.0005377686466090381, 8.122552799250116e-07, 2.3018608317215694e-06, 1.4700387964694528e-06, 1.870364826572768e-06, 6.024505978530215e-07, 4.127837655687472e-06, 1.6705765801816597e-06, 2.0471961761359125e-06, 7.430034020217136e-05, 3.5942298381996807e-06, 7.171509423642419e-06, 3.052823740290478e-05, 1.8927737983176485e-05, 0.0002543875598348677, 0.00019496388267725706, 0.00012626528041437268, 0.00018230538989882916, 0.0037352307699620724, 0.0006727119325660169, 0.0015798296080902219, 0.011177665553987026, 0.981389582157135, 0.0, 0.0, 0.0, 0.0, 0.0, 0.0, 0.0, 0.0, 0.0, 0.0], [8.512816566508263e-05, 4.87087106648687e-07, 1.2458933724701637e-06, 2.0811260981190571e-07, 1.9242862947521644e-07, 3.7040319256220755e-08, 4.555244288440008e-07, 5.5045465074954336e-08, 1.5320337070079404e-06, 5.08329094373039e-06, 2.140092192348675e-07, 1.4595295851904666e-06, 1.476837587688351e-05, 1.0635004628056777e-06, 2.9461512895068154e-05, 5.7288114476250485e-05, 6.615681741095614e-06, 7.844210813345853e-06, 0.0001506384287495166, 0.00022636938956566155, 7.973580795805901e-05, 0.000130408356199041, 0.010868416167795658, 0.9883313775062561, 0.0, 0.0, 0.0, 0.0, 0.0, 0.0, 0.0, 0.0, 0.0], [0.0004166322178207338, 2.2503757008962566e-06, 5.27054271515226e-06, 2.7549172955332324e-05, 3.9630533137824386e-05, 7.514750450354768e-06, 8.100932063825894e-06, 1.1581340913835447e-05, 1.3205990399001166e-05, 6.750722241122276e-05, 2.521276292100083e-05, 1.4860726878396235e-05, 7.521708903368562e-05, 0.00011457462096586823, 0.0002574526297394186, 0.00036668599932454526, 0.0006904741167090833, 0.0014518473763018847, 0.003246017498895526, 0.0006353409844450653, 0.00874557439237833, 0.015190869569778442, 0.01815018430352211, 0.13303308188915253, 0.8174033164978027, 0.0, 0.0, 0.0, 0.0, 0.0, 0.0, 0.0, 0.0], [1.6739269995014183e-05, 8.245316962529614e-08, 3.25738582773738e-08, 2.8737394686118023e-08, 1.6217680354202457e-07, 1.5275384290802663e-09, 2.3278644789570535e-08, 5.576728856482305e-09, 1.2825790918213897e-07, 1.3429473710857565e-07, 6.160572940672182e-09, 2.523252362607309e-07, 3.2057537282526027e-06, 2.6277326981016813e-08, 7.619962616445264e-07, 7.901960088929627e-06, 1.394041220237341e-07, 1.955263257968909e-07, 0.00032022615778259933, 8.173670380529074e-07, 1.5630018879164709e-06, 3.763166887438274e-06, 0.0007450520643033087, 0.003715228522196412, 3.934420601581223e-05, 0.995144248008728, 0.0, 0.0, 0.0, 0.0, 0.0, 0.0, 0.0], [0.00023842266818974167, 5.040096311859088e-06, 1.3208579048296087e-06, 8.599819921073504e-06, 5.166068604012253e-06, 1.3470925352976337e-07, 6.710797606501728e-07, 2.699695471619634e-07, 6.345713245536899e-06, 4.417827585712075e-05, 2.7444906436357996e-07, 2.017119368247222e-05, 1.6526626495760866e-05, 8.12277562545205e-07, 0.0001077100241673179, 0.00012397419777698815, 3.5075820505880984e-06, 8.505824553139973e-06, 6.980275793466717e-05, 0.00026813612203113735, 2.8792839657398872e-05, 0.00011957905371673405, 0.00012961654283571988, 0.007425930816680193, 0.0007109703146852553, 0.005815007723867893, 0.9848405718803406, 0.0, 0.0, 0.0, 0.0, 0.0, 0.0], [0.00040899592568166554, 6.095384037507756e-07, 1.9963915747212013e-06, 9.310359018854797e-06, 3.7690576846216572e-06, 1.9876583792211022e-06, 4.576560854729905e-07, 1.069073505277629e-06, 3.0871892704453785e-06, 9.21142509469064e-06, 4.724365680885967e-06, 1.2070069033143227e-06, 5.095621418149676e-06, 1.8047139747068286e-05, 4.8578614951111376e-05, 4.1693834646139294e-05, 0.00010537515481701121, 0.00022466850350610912, 0.00011528659524628893, 0.00024929014034569263, 0.0013673119246959686, 0.0016190316528081894, 0.0013275127857923508, 0.003491781186312437, 0.06305642426013947, 0.006469071377068758, 0.09512651711702347, 0.8262879252433777, 0.0, 0.0, 0.0, 0.0, 0.0], [0.00031804668833501637, 1.4181815686242771e-06, 3.1855009297032666e-07, 2.782310730253812e-06, 5.3885989473201334e-05, 4.300594369510691e-08, 5.386270913732005e-07, 8.497841008647811e-08, 5.999704058012867e-07, 4.110325789952185e-06, 7.099399823573549e-08, 8.45432396090473e-07, 2.526620164644555e-06, 2.1983824183280376e-07, 6.098246103647398e-06, 2.1130008462932892e-05, 9.411748465026903e-07, 9.950366575139924e-07, 3.0413662898354232e-05, 2.9769867069262546e-06, 8.453845111944247e-06, 2.600701554911211e-05, 0.00023055810015648603, 0.0013383397599682212, 0.00021758217189926654, 0.007014394737780094, 0.017924025654792786, 0.0005302669014781713, 0.9722622632980347, 0.0, 0.0, 0.0, 0.0], [1.85052627443838e-07, 5.565671479246248e-09, 7.262683232589495e-10, 7.745968311212437e-09, 1.507945235346142e-08, 8.228537295984495e-10, 1.7915348093922034e-09, 1.7345613834152118e-09, 1.0962514451762218e-08, 5.003275305170973e-08, 3.9228162940219136e-09, 1.0013906148742535e-07, 2.3337790366895206e-08, 1.6555254944705666e-08, 5.17130978039404e-08, 1.614601075061728e-07, 9.827883218349598e-08, 2.707449482386437e-07, 5.411982328951126e-06, 2.5083838295358873e-07, 1.1805956319221877e-06, 2.8004258183500497e-06, 4.6103718887025025e-06, 0.00022679209359921515, 5.7942423154599965e-05, 0.0004519546346273273, 0.00011976490350207314, 0.0002398085198365152, 0.0018740012310445309, 0.9970145225524902, 0.0, 0.0, 0.0], [4.347453432274051e-05, 2.9688692393392557e-06, 3.919361404314259e-07, 9.117047738982365e-07, 4.364481469565362e-07, 4.686599996972518e-09, 9.240360299145323e-08, 1.2419349104675348e-08, 7.18895023510413e-08, 6.30453087069327e-07, 6.108900496570868e-09, 1.9987122357179032e-07, 1.4578646414520335e-06, 1.4727343788933922e-08, 1.7957326292616926e-07, 2.642266008479055e-05, 5.112656964456619e-08, 4.710673806584964e-08, 0.0015761173563078046, 2.1989433207636466e-06, 3.3339856031489035e-07, 2.18148534258944e-06, 0.00016240391414612532, 0.001777765341103077, 1.1749229997803923e-05, 0.0036160852760076523, 6.199471681611612e-05, 3.5168231988791376e-05, 0.0011488678865134716, 0.016085589304566383, 0.9754422307014465, 0.0, 0.0], [0.0011562949512153864, 6.1990535868972074e-06, 6.137789227977919e-07, 3.1026661417854484e-06, 8.2284321933912e-07, 4.366036066016932e-08, 9.363272823748048e-08, 2.7735543639550997e-08, 5.109519634061144e-07, 1.2355284297882463e-06, 3.825311623018024e-08, 1.1272317124166875e-06, 1.9008953131560702e-06, 8.71407408453706e-08, 5.398193025030196e-06, 7.3934447755164e-06, 3.128872663182847e-07, 3.0146256335683574e-07, 0.00013595363998319954, 1.3343834325496573e-05, 2.39964992942987e-06, 3.871280569001101e-05, 0.000821963301859796, 0.0006131281261332333, 2.1518460926017724e-05, 0.004140728618949652, 0.0008760862983763218, 0.0001168464805232361, 0.0021590683609247208, 0.027525324374437332, 0.04434973746538162, 0.9179997444152832, 0.0], [0.0031942850910127163, 4.681661812355742e-05, 3.499123704386875e-05, 2.704305006773211e-05, 1.4000305782246869e-05, 1.708511081233155e-05, 8.051876648096368e-06, 3.909830411430448e-06, 1.0716936230892316e-05, 1.793077535694465e-05, 1.4207480489858426e-05, 2.691125155251939e-05, 2.6412017177790403e-05, 3.1100193154998124e-05, 1.1198589163541328e-05, 5.4854885092936456e-05, 0.0001147447619587183, 0.00010493662557564676, 0.00028062978526577353, 0.0002083904983010143, 0.0009329248568974435, 0.0018989976961165667, 0.0011267573572695255, 0.0019257236272096634, 0.003917149733752012, 0.007499448023736477, 0.010695924051105976, 0.023199845105409622, 0.030398104339838028, 0.12729348242282867, 0.04325319826602936, 0.1766805350780487, 0.5669297575950623]], [[1.0, 0.0, 0.0, 0.0, 0.0, 0.0, 0.0, 0.0, 0.0, 0.0, 0.0, 0.0, 0.0, 0.0, 0.0, 0.0, 0.0, 0.0, 0.0, 0.0, 0.0, 0.0, 0.0, 0.0, 0.0, 0.0, 0.0, 0.0, 0.0, 0.0, 0.0, 0.0, 0.0], [0.25308623909950256, 0.7469137907028198, 0.0, 0.0, 0.0, 0.0, 0.0, 0.0, 0.0, 0.0, 0.0, 0.0, 0.0, 0.0, 0.0, 0.0, 0.0, 0.0, 0.0, 0.0, 0.0, 0.0, 0.0, 0.0, 0.0, 0.0, 0.0, 0.0, 0.0, 0.0, 0.0, 0.0, 0.0], [0.30671584606170654, 0.32906389236450195, 0.3642202615737915, 0.0, 0.0, 0.0, 0.0, 0.0, 0.0, 0.0, 0.0, 0.0, 0.0, 0.0, 0.0, 0.0, 0.0, 0.0, 0.0, 0.0, 0.0, 0.0, 0.0, 0.0, 0.0, 0.0, 0.0, 0.0, 0.0, 0.0, 0.0, 0.0, 0.0], [0.07416969537734985, 0.1618967354297638, 0.05432591959834099, 0.7096076011657715, 0.0, 0.0, 0.0, 0.0, 0.0, 0.0, 0.0, 0.0, 0.0, 0.0, 0.0, 0.0, 0.0, 0.0, 0.0, 0.0, 0.0, 0.0, 0.0, 0.0, 0.0, 0.0, 0.0, 0.0, 0.0, 0.0, 0.0, 0.0, 0.0], [0.1668822318315506, 0.039017852395772934, 0.03822461888194084, 0.21398359537124634, 0.5418916344642639, 0.0, 0.0, 0.0, 0.0, 0.0, 0.0, 0.0, 0.0, 0.0, 0.0, 0.0, 0.0, 0.0, 0.0, 0.0, 0.0, 0.0, 0.0, 0.0, 0.0, 0.0, 0.0, 0.0, 0.0, 0.0, 0.0, 0.0, 0.0], [0.1948363482952118, 0.21119250357151031, 0.05150564759969711, 0.08703833818435669, 0.2299955189228058, 0.2254316508769989, 0.0, 0.0, 0.0, 0.0, 0.0, 0.0, 0.0, 0.0, 0.0, 0.0, 0.0, 0.0, 0.0, 0.0, 0.0, 0.0, 0.0, 0.0, 0.0, 0.0, 0.0, 0.0, 0.0, 0.0, 0.0, 0.0, 0.0], [0.13900130987167358, 0.029748620465397835, 0.03860696777701378, 0.051332708448171616, 0.19284240901470184, 0.08012373745441437, 0.4683442711830139, 0.0, 0.0, 0.0, 0.0, 0.0, 0.0, 0.0, 0.0, 0.0, 0.0, 0.0, 0.0, 0.0, 0.0, 0.0, 0.0, 0.0, 0.0, 0.0, 0.0, 0.0, 0.0, 0.0, 0.0, 0.0, 0.0], [0.08969779312610626, 0.04080600291490555, 0.03473309054970741, 0.08414529263973236, 0.09911046177148819, 0.07059450447559357, 0.1361657828092575, 0.4447470009326935, 0.0, 0.0, 0.0, 0.0, 0.0, 0.0, 0.0, 0.0, 0.0, 0.0, 0.0, 0.0, 0.0, 0.0, 0.0, 0.0, 0.0, 0.0, 0.0, 0.0, 0.0, 0.0, 0.0, 0.0, 0.0], [0.05986512452363968, 0.020190447568893433, 0.01878531649708748, 0.10584723204374313, 0.05794878676533699, 0.02751770243048668, 0.056663140654563904, 0.08226761221885681, 0.570914626121521, 0.0, 0.0, 0.0, 0.0, 0.0, 0.0, 0.0, 0.0, 0.0, 0.0, 0.0, 0.0, 0.0, 0.0, 0.0, 0.0, 0.0, 0.0, 0.0, 0.0, 0.0, 0.0, 0.0, 0.0], [0.010379270650446415, 0.0046982537023723125, 0.004143982660025358, 0.0072914063930511475, 0.0062566958367824554, 0.0033180471509695053, 0.009175022132694721, 0.018754413351416588, 0.03393148258328438, 0.9020513892173767, 0.0, 0.0, 0.0, 0.0, 0.0, 0.0, 0.0, 0.0, 0.0, 0.0, 0.0, 0.0, 0.0, 0.0, 0.0, 0.0, 0.0, 0.0, 0.0, 0.0, 0.0, 0.0, 0.0], [0.07270113378763199, 0.04776481166481972, 0.0105003472417593, 0.0161594208329916, 0.04617820307612419, 0.0524945892393589, 0.05184571072459221, 0.21189504861831665, 0.03515821695327759, 0.17267191410064697, 0.28263059258461, 0.0, 0.0, 0.0, 0.0, 0.0, 0.0, 0.0, 0.0, 0.0, 0.0, 0.0, 0.0, 0.0, 0.0, 0.0, 0.0, 0.0, 0.0, 0.0, 0.0, 0.0, 0.0], [0.01512689795345068, 0.004731187596917152, 0.0023226304911077023, 0.006575736682862043, 0.01836245134472847, 0.003339663613587618, 0.008784215897321701, 0.007409735582768917, 0.006289798766374588, 0.07638943940401077, 0.01200347300618887, 0.838664710521698, 0.0, 0.0, 0.0, 0.0, 0.0, 0.0, 0.0, 0.0, 0.0, 0.0, 0.0, 0.0, 0.0, 0.0, 0.0, 0.0, 0.0, 0.0, 0.0, 0.0, 0.0], [0.03233195096254349, 0.010628962889313698, 0.002615163568407297, 0.0011762917274609208, 0.003093284321948886, 0.0015055520925670862, 0.007079720962792635, 0.0028344683814793825, 0.005003888159990311, 0.012032592669129372, 0.003987773787230253, 0.05187244713306427, 0.8658378720283508, 0.0, 0.0, 0.0, 0.0, 0.0, 0.0, 0.0, 0.0, 0.0, 0.0, 0.0, 0.0, 0.0, 0.0, 0.0, 0.0, 0.0, 0.0, 0.0, 0.0], [0.05045589432120323, 0.026538841426372528, 0.005783279426395893, 0.008087297901511192, 0.021799396723508835, 0.025670375674962997, 0.022779056802392006, 0.09139900654554367, 0.01501738652586937, 0.07093928009271622, 0.12448637932538986, 0.1266832798719406, 0.061021365225315094, 0.3493391275405884, 0.0, 0.0, 0.0, 0.0, 0.0, 0.0, 0.0, 0.0, 0.0, 0.0, 0.0, 0.0, 0.0, 0.0, 0.0, 0.0, 0.0, 0.0, 0.0], [0.05474128574132919, 0.052968502044677734, 0.003988127689808607, 0.01235162653028965, 0.004415623843669891, 0.003596280934289098, 0.0113857202231884, 0.009828068315982819, 0.01474975049495697, 0.07078832387924194, 0.011209188960492611, 0.0516405887901783, 0.19734381139278412, 0.027129292488098145, 0.47386375069618225, 0.0, 0.0, 0.0, 0.0, 0.0, 0.0, 0.0, 0.0, 0.0, 0.0, 0.0, 0.0, 0.0, 0.0, 0.0, 0.0, 0.0, 0.0], [0.007163068745285273, 0.00496384734287858, 0.0027692269068211317, 0.0019424417987465858, 0.010544725693762302, 0.0014144873712211847, 0.003663663286715746, 0.003149950411170721, 0.005481294356286526, 0.02161405049264431, 0.0039221979677677155, 0.07935080677270889, 0.22477906942367554, 0.009166953153908253, 0.02740263007581234, 0.5926715731620789, 0.0, 0.0, 0.0, 0.0, 0.0, 0.0, 0.0, 0.0, 0.0, 0.0, 0.0, 0.0, 0.0, 0.0, 0.0, 0.0, 0.0], [0.03461103513836861, 0.015296335332095623, 0.003095123218372464, 0.0038990923203527927, 0.009989399462938309, 0.011446867138147354, 0.009189363569021225, 0.03356512635946274, 0.005761212669312954, 0.025580983608961105, 0.043846871703863144, 0.045213595032691956, 0.020553378388285637, 0.11962330341339111, 0.1567324548959732, 0.13173456490039825, 0.32986119389533997, 0.0, 0.0, 0.0, 0.0, 0.0, 0.0, 0.0, 0.0, 0.0, 0.0, 0.0, 0.0, 0.0, 0.0, 0.0, 0.0], [0.017253894358873367, 0.0043975296430289745, 0.00496869208291173, 0.007064316887408495, 0.006634893361479044, 0.0069109550677239895, 0.01138690672814846, 0.016178511083126068, 0.020317766815423965, 0.02039683610200882, 0.02342211827635765, 0.01890914887189865, 0.040242068469524384, 0.062006719410419464, 0.11645366996526718, 0.0797511413693428, 0.16864469647407532, 0.37506014108657837, 0.0, 0.0, 0.0, 0.0, 0.0, 0.0, 0.0, 0.0, 0.0, 0.0, 0.0, 0.0, 0.0, 0.0, 0.0], [0.0024591153487563133, 0.00024919718271121383, 3.40046281053219e-05, 0.00021132919937372208, 0.00020066779688932002, 0.0001258924457943067, 0.00036506837932392955, 0.00037359760608524084, 0.00013798537838738412, 0.00047022078069858253, 0.0002715179871302098, 0.003417074680328369, 0.000604980334173888, 0.000545460672583431, 0.000893766584340483, 0.001585210906341672, 0.0012150745606049895, 0.0028212640900164843, 0.9840186238288879, 0.0, 0.0, 0.0, 0.0, 0.0, 0.0, 0.0, 0.0, 0.0, 0.0, 0.0, 0.0, 0.0, 0.0], [0.00015282446111086756, 0.038923606276512146, 0.0004715201212093234, 0.00037318209069781005, 3.2717995054554194e-05, 1.0635601938702166e-05, 3.824587111012079e-06, 1.3244705769466236e-05, 6.418923294404522e-05, 2.734436930040829e-05, 2.8319980629021302e-05, 0.0022295699454844, 0.0013866382651031017, 7.163524423958734e-05, 0.00014025566633790731, 0.008246444165706635, 0.0001967863499885425, 0.00020546666928566992, 0.8976380228996277, 0.04978379234671593, 0.0, 0.0, 0.0, 0.0, 0.0, 0.0, 0.0, 0.0, 0.0, 0.0, 0.0, 0.0, 0.0], [0.026458075270056725, 0.010410868562757969, 0.0021332562901079655, 0.002456017304211855, 0.005542593542486429, 0.005954565946012735, 0.004195832181721926, 0.013451527804136276, 0.002351952251046896, 0.009471967816352844, 0.01543342974036932, 0.014804954640567303, 0.006865762639790773, 0.03787311166524887, 0.04744933173060417, 0.04547284543514252, 0.10199166089296341, 0.0866638794541359, 0.06470178812742233, 0.1016075611114502, 0.39470890164375305, 0.0, 0.0, 0.0, 0.0, 0.0, 0.0, 0.0, 0.0, 0.0, 0.0, 0.0, 0.0], [0.021157903596758842, 0.0035484337713569403, 0.0017441116506233811, 0.0035093112383037806, 0.004201892763376236, 0.002577780047431588, 0.004015856888145208, 0.004598997998982668, 0.003955158405005932, 0.006455839145928621, 0.005907895043492317, 0.003733161836862564, 0.009013408794999123, 0.013927973806858063, 0.029895806685090065, 0.020082321017980576, 0.03804441913962364, 0.06883089989423752, 0.08152893930673599, 0.038340263068675995, 0.15160265564918518, 0.48332688212394714, 0.0, 0.0, 0.0, 0.0, 0.0, 0.0, 0.0, 0.0, 0.0, 0.0, 0.0], [0.0014211662346497178, 0.00040690077003091574, 0.0002714423753786832, 0.001486921333707869, 0.0006475143018178642, 0.0002567149931564927, 0.00027297635097056627, 0.0005059848772361875, 0.00017537474923301488, 0.0012059590080752969, 0.0005902888369746506, 0.0004307387862354517, 0.00036999554140493274, 0.001332281855866313, 0.0007594263297505677, 0.0025183078832924366, 0.00359997502528131, 0.004756712354719639, 0.011892926879227161, 0.0034102138597518206, 0.013851094990968704, 0.05907326936721802, 0.8907637596130371, 0.0, 0.0, 0.0, 0.0, 0.0, 0.0, 0.0, 0.0, 0.0, 0.0], [0.005058868322521448, 0.0008823554962873459, 0.0015358291566371918, 0.001690988545306027, 0.0013438747264444828, 0.0004949714639224112, 0.0006572263082489371, 0.0005521592102013528, 0.0005812100716866553, 0.0020545620936900377, 0.000838087813463062, 0.0010067494586110115, 0.0011300862533971667, 0.0016139927320182323, 0.005022876430302858, 0.014576895162463188, 0.0037143344525247812, 0.004681478254497051, 0.007913827896118164, 0.006778396666049957, 0.01229138020426035, 0.027733057737350464, 0.10214652121067047, 0.7957002520561218, 0.0, 0.0, 0.0, 0.0, 0.0, 0.0, 0.0, 0.0, 0.0], [0.0040047005750238895, 0.0004576978099066764, 0.0015645219245925546, 0.003137207357212901, 0.001993744168430567, 0.00037892660475336015, 0.0004957783385179937, 0.0005698016029782593, 0.0010052071884274483, 0.0023432259913533926, 0.0005772146978415549, 0.0016756154363974929, 0.0030787382274866104, 0.0012285244883969426, 0.0052783312276005745, 0.006328062154352665, 0.003151731798425317, 0.005319308489561081, 0.02138313092291355, 0.006147712469100952, 0.012332235462963581, 0.07402170449495316, 0.1211402639746666, 0.561111330986023, 0.16127531230449677, 0.0, 0.0, 0.0, 0.0, 0.0, 0.0, 0.0, 0.0], [0.0011286514345556498, 4.988901491742581e-05, 4.129114677198231e-05, 9.249585127690807e-05, 5.513611904461868e-05, 3.86171777790878e-05, 5.592021989286877e-05, 0.000148962382809259, 5.5092091315600555e-06, 6.81741294101812e-05, 3.62043829227332e-05, 4.623947461368516e-05, 0.0010654997313395143, 5.919863542658277e-05, 7.787238428136334e-05, 0.0003842114529106766, 0.00011692414409480989, 0.00022428174270316958, 0.0005083974101580679, 0.0001562809047754854, 0.0003233142488170415, 0.0007086815894581378, 0.0009207393159158528, 0.0008559694397263229, 0.004414443392306566, 0.9884169697761536, 0.0, 0.0, 0.0, 0.0, 0.0, 0.0, 0.0], [0.0024299693759530783, 0.003659635316580534, 0.0006344980210997164, 0.0006202647346071899, 0.002987673506140709, 0.00034763681469485164, 0.0005059164250269532, 0.00041149702155962586, 0.00021321569511201233, 0.0006509347585961223, 0.00039556907722726464, 0.16986453533172607, 0.0021888993214815855, 0.0006812372012063861, 0.0008683749474585056, 0.00890513975173235, 0.0014638518914580345, 0.0013394580455496907, 0.006495126057416201, 0.007638712413609028, 0.00461939861997962, 0.003161793574690819, 0.014200899749994278, 0.04639662057161331, 0.022786103188991547, 0.21939267218112946, 0.477140337228775, 0.0, 0.0, 0.0, 0.0, 0.0, 0.0], [0.015610342845320702, 0.0009648076957091689, 0.0010281834984198213, 0.007148523814976215, 0.005316650960594416, 0.0005432685720734298, 0.0007839901372790337, 0.00047082986566238105, 0.0022980361245572567, 0.005463093519210815, 0.0005483075510710478, 0.0008661505416966975, 0.000903555890545249, 0.0009251952869817615, 0.00837593525648117, 0.0014478127704933286, 0.0020614909008145332, 0.0036933841183781624, 0.017008870840072632, 0.006138678640127182, 0.007041899021714926, 0.04128709435462952, 0.06922485679388046, 0.2661716639995575, 0.05024218186736107, 0.11445151269435883, 0.13764901459217072, 0.23233464360237122, 0.0, 0.0, 0.0, 0.0, 0.0], [0.021895287558436394, 0.0013514548772946, 0.0013727961340919137, 0.005157720297574997, 0.010932794772088528, 0.00044522201642394066, 0.0016178300138562918, 0.0005713259452022612, 0.0007700269925408065, 0.003093537874519825, 0.00036163406912237406, 0.0009329019230790436, 0.0019032395211979747, 0.0005254384013824165, 0.0007036190363578498, 0.001578063704073429, 0.0010200469987466931, 0.000934672774747014, 0.005167577415704727, 0.000785541720688343, 0.0028796852566301823, 0.006337147671729326, 0.04951414093375206, 0.02188688889145851, 0.03004688024520874, 0.06941606849431992, 0.029953880235552788, 0.06111622229218483, 0.6677283048629761, 0.0, 0.0, 0.0, 0.0], [0.0002946658933069557, 8.085126319201663e-05, 0.00011992640793323517, 0.00017154008673969656, 0.0003899004659615457, 8.63025852595456e-05, 5.253726340015419e-05, 6.616374594159424e-05, 0.00011378381896065548, 6.20008067926392e-05, 0.00011238035949645564, 0.0005867317086085677, 9.784990106709301e-05, 0.00021334891789592803, 0.00040444298065267503, 0.0004726241750176996, 0.0004730735090561211, 0.0005199528532102704, 0.0008571158396080136, 0.000227201686357148, 0.0015976789873093367, 0.0014780652709305286, 0.0016501436475664377, 0.009339647367596626, 0.012792711146175861, 0.012606954202055931, 0.02165956236422062, 0.02886742353439331, 0.07784786075353622, 0.8267574906349182, 0.0, 0.0, 0.0], [0.0006396535318344831, 0.000199202069779858, 0.00033784532570280135, 0.0003228612767998129, 0.00038839722401462495, 2.2511403585667722e-05, 0.00011559671111172065, 1.9683673599502072e-05, 8.749762491788715e-05, 0.0001667576580075547, 2.13531639019493e-05, 0.0001825766812544316, 0.0028796205297112465, 3.2708387152524665e-05, 6.35597316431813e-05, 0.00090784952044487, 6.314188794931397e-05, 4.9545138608664274e-05, 0.005010182503610849, 0.00021555750572588295, 0.00018923312018159777, 0.000235798375797458, 0.0021191700361669064, 0.0034752413630485535, 0.0004957510973326862, 0.012673025950789452, 0.0026274584233760834, 0.0011926370207220316, 0.028011489659547806, 0.14214561879634857, 0.795108437538147, 0.0, 0.0], [0.0054921540431678295, 0.0014179629506543279, 6.310061871772632e-05, 0.0009282379760406911, 0.00046758764074184, 9.70122855505906e-05, 5.6787117500789464e-05, 6.824066076660529e-05, 4.054813689435832e-05, 0.00021011504577472806, 6.534710701089352e-05, 0.00011957811511820182, 9.082329779630527e-05, 9.077359572984278e-05, 0.00013827493239659816, 0.00041228393092751503, 0.00016900584159884602, 0.0001357071741949767, 0.002428325591608882, 0.00020654822583310306, 0.0004959606449119747, 0.0001656200474826619, 0.0018254040041938424, 0.0016808186192065477, 0.0010187361622229218, 0.015071503818035126, 0.003408375894650817, 0.003384194104000926, 0.018865535035729408, 0.010037439875304699, 0.008259573951363564, 0.9230883717536926, 0.0], [0.009386112913489342, 0.0017380556091666222, 0.0018091696547344327, 0.001435024430975318, 0.0016812813701108098, 0.001979128224775195, 0.0014143448788672686, 0.0021127809304744005, 0.0012016961118206382, 0.0010467645479366183, 0.001253248075954616, 0.0012125693028792739, 0.0006952420808374882, 0.0016850180691108108, 0.001290497719310224, 0.0014949433971196413, 0.003052462823688984, 0.006176409311592579, 0.0039931549690663815, 0.0029945194255560637, 0.008827613666653633, 0.009542394429445267, 0.010477352887392044, 0.021451445296406746, 0.06221361830830574, 0.026861054822802544, 0.03390642628073692, 0.11987606436014175, 0.050274692475795746, 0.026796847581863403, 0.031165698543190956, 0.10728632658720016, 0.44366806745529175]], [[1.0, 0.0, 0.0, 0.0, 0.0, 0.0, 0.0, 0.0, 0.0, 0.0, 0.0, 0.0, 0.0, 0.0, 0.0, 0.0, 0.0, 0.0, 0.0, 0.0, 0.0, 0.0, 0.0, 0.0, 0.0, 0.0, 0.0, 0.0, 0.0, 0.0, 0.0, 0.0, 0.0], [0.10520488768815994, 0.8947951793670654, 0.0, 0.0, 0.0, 0.0, 0.0, 0.0, 0.0, 0.0, 0.0, 0.0, 0.0, 0.0, 0.0, 0.0, 0.0, 0.0, 0.0, 0.0, 0.0, 0.0, 0.0, 0.0, 0.0, 0.0, 0.0, 0.0, 0.0, 0.0, 0.0, 0.0, 0.0], [0.03907207399606705, 0.00201722071506083, 0.9589106440544128, 0.0, 0.0, 0.0, 0.0, 0.0, 0.0, 0.0, 0.0, 0.0, 0.0, 0.0, 0.0, 0.0, 0.0, 0.0, 0.0, 0.0, 0.0, 0.0, 0.0, 0.0, 0.0, 0.0, 0.0, 0.0, 0.0, 0.0, 0.0, 0.0, 0.0], [0.015578641556203365, 0.0008392545278184116, 0.0006979765021242201, 0.9828841090202332, 0.0, 0.0, 0.0, 0.0, 0.0, 0.0, 0.0, 0.0, 0.0, 0.0, 0.0, 0.0, 0.0, 0.0, 0.0, 0.0, 0.0, 0.0, 0.0, 0.0, 0.0, 0.0, 0.0, 0.0, 0.0, 0.0, 0.0, 0.0, 0.0], [0.00885644182562828, 9.934277841239236e-06, 1.1174821338499896e-05, 0.0003024697070941329, 0.9908198714256287, 0.0, 0.0, 0.0, 0.0, 0.0, 0.0, 0.0, 0.0, 0.0, 0.0, 0.0, 0.0, 0.0, 0.0, 0.0, 0.0, 0.0, 0.0, 0.0, 0.0, 0.0, 0.0, 0.0, 0.0, 0.0, 0.0, 0.0, 0.0], [0.35445019602775574, 0.03058929182589054, 0.059889569878578186, 0.022903528064489365, 0.04747588187456131, 0.4846915602684021, 0.0, 0.0, 0.0, 0.0, 0.0, 0.0, 0.0, 0.0, 0.0, 0.0, 0.0, 0.0, 0.0, 0.0, 0.0, 0.0, 0.0, 0.0, 0.0, 0.0, 0.0, 0.0, 0.0, 0.0, 0.0, 0.0, 0.0], [0.04476909711956978, 0.0015664699021726847, 0.0003773854987230152, 0.00025073319557122886, 0.00040889729280024767, 0.0002606566122267395, 0.952366828918457, 0.0, 0.0, 0.0, 0.0, 0.0, 0.0, 0.0, 0.0, 0.0, 0.0, 0.0, 0.0, 0.0, 0.0, 0.0, 0.0, 0.0, 0.0, 0.0, 0.0, 0.0, 0.0, 0.0, 0.0, 0.0, 0.0], [0.09058347344398499, 0.0011470754398033023, 0.006027338560670614, 0.0005468469462357461, 0.0017094208160415292, 0.0037850853987038136, 0.002684540580958128, 0.8935161828994751, 0.0, 0.0, 0.0, 0.0, 0.0, 0.0, 0.0, 0.0, 0.0, 0.0, 0.0, 0.0, 0.0, 0.0, 0.0, 0.0, 0.0, 0.0, 0.0, 0.0, 0.0, 0.0, 0.0, 0.0, 0.0], [0.006010726094245911, 2.4289049179060385e-05, 0.0003126671945210546, 1.868291656137444e-05, 0.0002979242999572307, 9.90451644611312e-06, 6.61954254610464e-06, 7.912191222203546e-07, 0.9933184385299683, 0.0, 0.0, 0.0, 0.0, 0.0, 0.0, 0.0, 0.0, 0.0, 0.0, 0.0, 0.0, 0.0, 0.0, 0.0, 0.0, 0.0, 0.0, 0.0, 0.0, 0.0, 0.0, 0.0, 0.0], [0.004546821117401123, 0.00020019400108139962, 0.00029920274391770363, 0.0013363957405090332, 0.0003267657884862274, 8.741374131204793e-07, 1.7415719412383623e-05, 2.7834195748255297e-07, 0.0002966530155390501, 0.9929754734039307, 0.0, 0.0, 0.0, 0.0, 0.0, 0.0, 0.0, 0.0, 0.0, 0.0, 0.0, 0.0, 0.0, 0.0, 0.0, 0.0, 0.0, 0.0, 0.0, 0.0, 0.0, 0.0, 0.0], [0.12262563407421112, 0.02392658218741417, 0.03827650845050812, 0.016171960160136223, 0.030366232618689537, 0.29375919699668884, 0.10661351680755615, 0.0705995112657547, 0.041900064796209335, 0.01783309504389763, 0.2379276603460312, 0.0, 0.0, 0.0, 0.0, 0.0, 0.0, 0.0, 0.0, 0.0, 0.0, 0.0, 0.0, 0.0, 0.0, 0.0, 0.0, 0.0, 0.0, 0.0, 0.0, 0.0, 0.0], [0.000812105427030474, 0.00011546660971362144, 0.00013500907516572624, 5.539292760659009e-05, 0.00013174142804928124, 1.0027187045125174e-06, 1.3799102589473478e-06, 1.6001600045001396e-07, 1.8972972384290188e-06, 5.419655622063146e-07, 4.7530917868243705e-07, 0.9987448453903198, 0.0, 0.0, 0.0, 0.0, 0.0, 0.0, 0.0, 0.0, 0.0, 0.0, 0.0, 0.0, 0.0, 0.0, 0.0, 0.0, 0.0, 0.0, 0.0, 0.0, 0.0], [0.0013333031674847007, 0.00010533037857385352, 0.000766961311455816, 0.0009021887090057135, 3.5708358154806774e-06, 8.120482561935205e-07, 1.403809051225835e-07, 9.56129397877703e-08, 1.6865054703885107e-06, 2.9789011023240164e-05, 4.381340659165289e-07, 1.196578750750632e-06, 0.9968544840812683, 0.0, 0.0, 0.0, 0.0, 0.0, 0.0, 0.0, 0.0, 0.0, 0.0, 0.0, 0.0, 0.0, 0.0, 0.0, 0.0, 0.0, 0.0, 0.0, 0.0], [0.08159802854061127, 0.02138887159526348, 0.02887716144323349, 0.012675792910158634, 0.024931585416197777, 0.22996492683887482, 0.10401231050491333, 0.0647209957242012, 0.03460092470049858, 0.015198719687759876, 0.1856415867805481, 0.02052805945277214, 0.005003849510103464, 0.17085722088813782, 0.0, 0.0, 0.0, 0.0, 0.0, 0.0, 0.0, 0.0, 0.0, 0.0, 0.0, 0.0, 0.0, 0.0, 0.0, 0.0, 0.0, 0.0, 0.0], [0.0013488869881257415, 8.92121170181781e-05, 0.000685995735693723, 0.0006963220075704157, 2.1248642951832153e-05, 3.7633941474268795e-07, 6.2267383782455e-07, 4.307220820010116e-07, 7.091880888765445e-06, 0.0013103688834235072, 1.6113767742353957e-07, 9.54876213654643e-07, 0.00016453591524623334, 1.1531948018728144e-07, 0.9956737160682678, 0.0, 0.0, 0.0, 0.0, 0.0, 0.0, 0.0, 0.0, 0.0, 0.0, 0.0, 0.0, 0.0, 0.0, 0.0, 0.0, 0.0, 0.0], [0.0010867458768188953, 0.0004072472802363336, 0.00010700291022658348, 0.0006782692507840693, 0.00011028443259419873, 1.3184225622353551e-07, 2.660260918219137e-07, 4.6195552272365603e-07, 8.409698239120189e-06, 0.000778485438786447, 5.1094300346221644e-08, 8.792053449724335e-07, 4.934280877932906e-05, 3.48930981886042e-08, 0.00011441155947977677, 0.9966580867767334, 0.0, 0.0, 0.0, 0.0, 0.0, 0.0, 0.0, 0.0, 0.0, 0.0, 0.0, 0.0, 0.0, 0.0, 0.0, 0.0, 0.0], [0.05868082866072655, 0.018785737454891205, 0.02406730316579342, 0.011013142764568329, 0.021456368267536163, 0.1911056786775589, 0.09902719408273697, 0.060658663511276245, 0.030162721872329712, 0.01480190921574831, 0.15370339155197144, 0.016615165397524834, 0.00438538147136569, 0.14085336029529572, 0.015014990232884884, 0.005390206817537546, 0.13427796959877014, 0.0, 0.0, 0.0, 0.0, 0.0, 0.0, 0.0, 0.0, 0.0, 0.0, 0.0, 0.0, 0.0, 0.0, 0.0, 0.0], [0.07323042303323746, 0.02837459184229374, 0.021058250218629837, 0.007611881010234356, 0.010053582489490509, 0.06553950905799866, 0.1455976516008377, 0.08620849996805191, 0.01024126447737217, 0.007425740361213684, 0.045262712985277176, 0.006621462292969227, 0.0011621782323345542, 0.03923855349421501, 0.008256877772510052, 0.0030656903982162476, 0.0361226461827755, 0.4049285054206848, 0.0, 0.0, 0.0, 0.0, 0.0, 0.0, 0.0, 0.0, 0.0, 0.0, 0.0, 0.0, 0.0, 0.0, 0.0], [7.94449370005168e-05, 1.838214188865095e-06, 3.713439511443539e-08, 1.557529321871698e-05, 3.4723791486612754e-06, 1.3165096790501707e-09, 2.7038710825877388e-08, 1.718662190342002e-08, 9.2322629541286e-08, 1.3506403774954379e-05, 4.4787801245504966e-10, 2.041673052843862e-09, 5.5420287026208825e-08, 3.0638608317090643e-10, 4.2177197201453964e-07, 7.065881163725862e-06, 2.424434542014353e-10, 1.4397358860662735e-09, 0.9998784065246582, 0.0, 0.0, 0.0, 0.0, 0.0, 0.0, 0.0, 0.0, 0.0, 0.0, 0.0, 0.0, 0.0, 0.0], [0.0029344966169446707, 0.0005883857957087457, 0.004250314552336931, 0.004028471652418375, 0.0001159296662081033, 4.3316299525031354e-06, 6.773906079615699e-06, 7.076474139466882e-05, 0.0002495272201485932, 0.0003159341576974839, 2.082441824313719e-06, 4.409225221024826e-05, 0.0003044698969461024, 1.4702587805004441e-06, 0.00019761378644034266, 0.0013599274680018425, 1.2478674307203619e-06, 6.8751951403100975e-06, 0.00019261165289208293, 0.9853246808052063, 0.0, 0.0, 0.0, 0.0, 0.0, 0.0, 0.0, 0.0, 0.0, 0.0, 0.0, 0.0, 0.0], [0.04056530445814133, 0.017898328602313995, 0.02060096710920334, 0.009821102023124695, 0.01788281835615635, 0.15653997659683228, 0.09208228439092636, 0.05628826096653938, 0.026661330834031105, 0.01447127852588892, 0.12537631392478943, 0.013986773788928986, 0.003927926998585463, 0.11453615874052048, 0.01339537464082241, 0.004846666008234024, 0.10880251228809357, 0.04953397437930107, 0.005186408758163452, 0.0044208732433617115, 0.1031753420829773, 0.0, 0.0, 0.0, 0.0, 0.0, 0.0, 0.0, 0.0, 0.0, 0.0, 0.0, 0.0], [0.024536410346627235, 0.0031243418343365192, 0.0009699318907223642, 4.631550837075338e-05, 0.00013434787979349494, 0.0006453952519223094, 0.011668861843645573, 0.00032713526161387563, 0.0004573053738567978, 2.3976139345904812e-05, 0.00034454246633686125, 4.996437201043591e-05, 2.575745020294562e-05, 0.00028217825456522405, 6.525329354190035e-06, 4.981817710358882e-06, 0.0002355406468268484, 0.0002664515923243016, 2.5311150238849223e-05, 2.976114410557784e-05, 0.00018809281755238771, 0.9566067457199097, 0.0, 0.0, 0.0, 0.0, 0.0, 0.0, 0.0, 0.0, 0.0, 0.0, 0.0], [0.0020759967155754566, 0.00014591800572816283, 5.2899027650710195e-05, 4.218073809170164e-05, 4.7387147787958384e-05, 4.1423308516641555e-07, 0.00012964299821760505, 2.4250995920738205e-05, 1.803402483346872e-06, 1.48392655319185e-06, 1.4489978639176115e-07, 4.199936029181117e-06, 4.10683291818259e-08, 1.0260500715730814e-07, 8.285455805889796e-07, 5.781902245871606e-07, 7.69515864362802e-08, 6.669608865195187e-08, 6.472608947660774e-05, 1.5700886706326855e-06, 5.6418308247430105e-08, 4.403031653055223e-06, 0.997401237487793, 0.0, 0.0, 0.0, 0.0, 0.0, 0.0, 0.0, 0.0, 0.0, 0.0], [0.0005159119609743357, 0.00011814653407782316, 3.2705735065974295e-05, 0.0002118876000167802, 4.5635333663085476e-05, 2.9248920441204973e-07, 3.057945605178247e-06, 7.60737606242401e-08, 0.000137536961119622, 0.0005283545469865203, 1.1576047143080359e-07, 4.028592684335308e-06, 2.0792986106243916e-06, 8.805442064385716e-08, 0.00010051696881419048, 4.431627894518897e-05, 6.963725240893837e-08, 9.373040654736542e-08, 3.337771704536863e-05, 1.5888903362792917e-05, 5.610686315549174e-08, 7.052668138385343e-08, 9.38930497795809e-06, 0.9981963038444519, 0.0, 0.0, 0.0, 0.0, 0.0, 0.0, 0.0, 0.0, 0.0], [0.06915229558944702, 0.014032118022441864, 0.0055990940891206264, 0.0012576852459460497, 0.0008467996376566589, 0.009601177647709846, 0.008965768851339817, 0.052476923912763596, 0.0002502834249753505, 0.0009063852485269308, 0.005419905297458172, 0.0007309206994250417, 0.00019187935686204582, 0.004396579694002867, 0.005964713636785746, 0.0003558540774974972, 0.003877014620229602, 0.009727220050990582, 0.0011023487895727158, 0.00036442879354581237, 0.0034139568451792, 0.003052355023100972, 0.005698247347027063, 0.00029557308880612254, 0.7923204302787781, 0.0, 0.0, 0.0, 0.0, 0.0, 0.0, 0.0, 0.0], [0.0010461547644808888, 1.9557141058612615e-05, 1.7358943296130747e-06, 3.103043491137214e-05, 2.7307931304676458e-05, 1.0180679410609628e-08, 4.815763077203883e-07, 1.7494214432645094e-07, 7.312396377301411e-08, 7.983060754668259e-07, 3.4643037327697357e-09, 4.9067134568758775e-06, 1.0718933651787665e-07, 2.352543937433893e-09, 2.3834050466575718e-07, 1.3731321359955473e-06, 1.8288600633908914e-09, 6.24759799450203e-09, 9.208320989273489e-06, 1.6384241234845831e-06, 1.2523876380399201e-09, 8.271242579738214e-10, 8.45677095639985e-06, 3.118676431768108e-06, 9.241404086424154e-09, 0.9988435506820679, 0.0, 0.0, 0.0, 0.0, 0.0, 0.0, 0.0], [0.0010544913820922375, 0.00021373212803155184, 0.00028157138149254024, 0.0011373349698260427, 0.00014783910592086613, 2.006845534197055e-06, 4.831345904676709e-06, 3.4823281112039695e-06, 5.1003303269681055e-06, 0.00012420448183547705, 9.301492127633537e-07, 1.058260204445105e-05, 1.1688240192597732e-05, 7.077497912177932e-07, 0.003411591984331608, 0.00019905237422790378, 5.995606215947191e-07, 4.643032411877357e-07, 1.958506072696764e-05, 0.0001108774813474156, 4.7500441269221483e-07, 3.280878217992722e-07, 4.535345397016499e-06, 5.161703666090034e-05, 3.2474670774718106e-07, 1.3071345165371895e-05, 0.9931888580322266, 0.0, 0.0, 0.0, 0.0, 0.0, 0.0], [0.024200791493058205, 0.002820133464410901, 0.0043193018063902855, 0.0009108313824981451, 0.0017753957072272897, 0.003809919347986579, 0.0029533260967582464, 0.0167147908359766, 0.0013931752182543278, 0.005003186874091625, 0.002276091603562236, 0.0005876415525563061, 0.0009901630692183971, 0.001806695363484323, 0.0031312413047999144, 0.00023389386478811502, 0.0016082733636721969, 0.009910304099321365, 0.002853953279554844, 0.0002049516187980771, 0.0013712662039324641, 0.006919007748365402, 0.0010336581617593765, 0.0001452840951969847, 0.017489802092313766, 0.00046553154243156314, 0.00030240873456932604, 0.8847689628601074, 0.0, 0.0, 0.0, 0.0, 0.0], [0.0005256077274680138, 3.528643219397054e-06, 1.703766429272946e-06, 9.408176993019879e-05, 0.6647974252700806, 1.6531473079339776e-07, 9.511109624327219e-07, 8.886872819857672e-07, 1.7016676792991348e-05, 3.742178523680195e-05, 6.832251386867938e-08, 9.810886695049703e-06, 7.548720759587013e-08, 4.963250077594239e-08, 2.039384526142385e-06, 7.686537173867691e-06, 4.0668499678986336e-08, 2.6744308101456227e-08, 3.3431810152251273e-05, 4.341069086422067e-07, 3.007987459113792e-08, 3.2060558652347027e-08, 4.900573912891559e-06, 3.0609385248681065e-06, 1.460319065671456e-08, 2.2145513867144473e-05, 9.211159522237722e-06, 3.1642709785728584e-08, 0.3344281315803528, 0.0, 0.0, 0.0, 0.0], [0.004676986951380968, 0.00028021246544085443, 8.346070535480976e-05, 3.157009587084758e-06, 4.065335303948814e-07, 1.334347672354852e-07, 2.6423513190820813e-05, 1.1439956892900227e-07, 2.787224389066978e-07, 3.749592224266962e-06, 4.652889273870642e-08, 1.7213934597748448e-06, 1.8165567894357082e-07, 3.148470284486393e-08, 1.8334181106638425e-07, 5.214727494262661e-08, 2.5215713961301844e-08, 3.078435284464831e-08, 7.142002544924253e-08, 1.6640111510923816e-08, 1.7768154947361836e-08, 8.634509640614851e-08, 2.800956508508534e-06, 8.45411989303102e-07, 3.098345757734933e-08, 2.92785784949956e-07, 5.676212140315329e-07, 5.055412088950106e-09, 2.914092434025406e-08, 0.9949181079864502, 0.0, 0.0, 0.0], [5.63678186153993e-05, 0.00020023674005642533, 1.6319079350068932e-06, 1.5089299267856404e-06, 1.7779717381927185e-05, 5.956430348952324e-10, 6.940355888218619e-06, 5.0340007717863955e-09, 2.1682789963506366e-07, 1.7164239807243575e-06, 1.9326229505622905e-10, 1.8911388011133567e-08, 9.538822354215881e-08, 1.294685886277236e-10, 8.077134516781825e-09, 4.386607542983256e-05, 9.768665043541347e-11, 5.25605947654384e-10, 6.932156975381076e-05, 7.505852295253135e-08, 7.069291679817624e-11, 3.9880390545476985e-08, 1.0610266144794878e-05, 2.212068466178607e-06, 8.688617603169746e-10, 9.92846798908431e-06, 5.390084822920471e-09, 1.1354436835198101e-10, 3.060034941881895e-06, 3.894558631145628e-07, 0.9995738863945007, 0.0, 0.0], [0.0003556977608241141, 1.9489514670567587e-05, 9.160984518530313e-06, 1.308527589571895e-05, 2.3808943296899088e-05, 2.971907342441682e-08, 4.160602475167252e-05, 1.775654254743131e-07, 6.896248123666737e-07, 1.0506259968678933e-06, 1.2230788826173011e-08, 4.290555807529017e-06, 3.2958334372779063e-07, 9.211106544171344e-09, 1.7466429653723026e-06, 4.682798589783488e-06, 7.4427393137455056e-09, 9.673818190947259e-09, 3.9665170334046707e-05, 7.324905482164468e-07, 5.543701053767336e-09, 1.0396725258488004e-07, 1.4401616681425367e-05, 8.873356819094624e-06, 5.989427620534116e-09, 1.562782927067019e-05, 2.9811301374138566e-06, 6.8743553072181385e-09, 4.854669441556325e-06, 7.072278549458133e-06, 6.210697392816655e-06, 0.999423623085022, 0.0], [0.054552704095840454, 0.01642906293272972, 0.01600833609700203, 0.00698687881231308, 0.02488415315747261, 0.07376930862665176, 0.07933787256479263, 0.05594553053379059, 0.027268197387456894, 0.013368785381317139, 0.05590309202671051, 0.007223028223961592, 0.005426580086350441, 0.05012327432632446, 0.008279062807559967, 0.0030609655659645796, 0.04682297259569168, 0.04751848056912422, 0.0028449445962905884, 0.007037971634417772, 0.04282715171575546, 0.05138189345598221, 0.02728237770497799, 0.026375344023108482, 0.026159202679991722, 0.011997981928288937, 0.006220120936632156, 0.03648778423666954, 0.011124702170491219, 0.005218564998358488, 0.002559201093390584, 0.0026040286757051945, 0.14697042107582092]], [[1.0, 0.0, 0.0, 0.0, 0.0, 0.0, 0.0, 0.0, 0.0, 0.0, 0.0, 0.0, 0.0, 0.0, 0.0, 0.0, 0.0, 0.0, 0.0, 0.0, 0.0, 0.0, 0.0, 0.0, 0.0, 0.0, 0.0, 0.0, 0.0, 0.0, 0.0, 0.0, 0.0], [0.9192656874656677, 0.08073437958955765, 0.0, 0.0, 0.0, 0.0, 0.0, 0.0, 0.0, 0.0, 0.0, 0.0, 0.0, 0.0, 0.0, 0.0, 0.0, 0.0, 0.0, 0.0, 0.0, 0.0, 0.0, 0.0, 0.0, 0.0, 0.0, 0.0, 0.0, 0.0, 0.0, 0.0, 0.0], [0.4543737769126892, 0.42650437355041504, 0.11912182718515396, 0.0, 0.0, 0.0, 0.0, 0.0, 0.0, 0.0, 0.0, 0.0, 0.0, 0.0, 0.0, 0.0, 0.0, 0.0, 0.0, 0.0, 0.0, 0.0, 0.0, 0.0, 0.0, 0.0, 0.0, 0.0, 0.0, 0.0, 0.0, 0.0, 0.0], [0.5267520546913147, 0.22321638464927673, 0.1242062970995903, 0.12582531571388245, 0.0, 0.0, 0.0, 0.0, 0.0, 0.0, 0.0, 0.0, 0.0, 0.0, 0.0, 0.0, 0.0, 0.0, 0.0, 0.0, 0.0, 0.0, 0.0, 0.0, 0.0, 0.0, 0.0, 0.0, 0.0, 0.0, 0.0, 0.0, 0.0], [0.39034873247146606, 0.1709941029548645, 0.06872709840536118, 0.1837182641029358, 0.18621176481246948, 0.0, 0.0, 0.0, 0.0, 0.0, 0.0, 0.0, 0.0, 0.0, 0.0, 0.0, 0.0, 0.0, 0.0, 0.0, 0.0, 0.0, 0.0, 0.0, 0.0, 0.0, 0.0, 0.0, 0.0, 0.0, 0.0, 0.0, 0.0], [0.1974422037601471, 0.25436845421791077, 0.14488451182842255, 0.1892586052417755, 0.20821940898895264, 0.00582678709179163, 0.0, 0.0, 0.0, 0.0, 0.0, 0.0, 0.0, 0.0, 0.0, 0.0, 0.0, 0.0, 0.0, 0.0, 0.0, 0.0, 0.0, 0.0, 0.0, 0.0, 0.0, 0.0, 0.0, 0.0, 0.0, 0.0, 0.0], [0.19473566114902496, 0.13241827487945557, 0.14391931891441345, 0.15120738744735718, 0.3002447485923767, 0.02058463916182518, 0.056889988481998444, 0.0, 0.0, 0.0, 0.0, 0.0, 0.0, 0.0, 0.0, 0.0, 0.0, 0.0, 0.0, 0.0, 0.0, 0.0, 0.0, 0.0, 0.0, 0.0, 0.0, 0.0, 0.0, 0.0, 0.0, 0.0, 0.0], [0.126966655254364, 0.21597377955913544, 0.1608932465314865, 0.19698835909366608, 0.1884462833404541, 0.013544929213821888, 0.07520711421966553, 0.02197970263659954, 0.0, 0.0, 0.0, 0.0, 0.0, 0.0, 0.0, 0.0, 0.0, 0.0, 0.0, 0.0, 0.0, 0.0, 0.0, 0.0, 0.0, 0.0, 0.0, 0.0, 0.0, 0.0, 0.0, 0.0, 0.0], [0.2912122905254364, 0.059542275965213776, 0.1107940822839737, 0.09717852622270584, 0.22345612943172455, 0.016262589022517204, 0.08719442784786224, 0.024762285873293877, 0.08959740400314331, 0.0, 0.0, 0.0, 0.0, 0.0, 0.0, 0.0, 0.0, 0.0, 0.0, 0.0, 0.0, 0.0, 0.0, 0.0, 0.0, 0.0, 0.0, 0.0, 0.0, 0.0, 0.0, 0.0, 0.0], [0.22981949150562286, 0.038026757538318634, 0.1601383239030838, 0.11780411750078201, 0.1618119329214096, 0.035528190433979034, 0.07561111450195312, 0.020756034180521965, 0.10670629143714905, 0.05379773676395416, 0.0, 0.0, 0.0, 0.0, 0.0, 0.0, 0.0, 0.0, 0.0, 0.0, 0.0, 0.0, 0.0, 0.0, 0.0, 0.0, 0.0, 0.0, 0.0, 0.0, 0.0, 0.0, 0.0], [0.1331442892551422, 0.1885865330696106, 0.10808101296424866, 0.15994974970817566, 0.17739208042621613, 0.0035980185493826866, 0.025062084197998047, 0.012862924486398697, 0.07453098148107529, 0.11275240778923035, 0.0040399846620857716, 0.0, 0.0, 0.0, 0.0, 0.0, 0.0, 0.0, 0.0, 0.0, 0.0, 0.0, 0.0, 0.0, 0.0, 0.0, 0.0, 0.0, 0.0, 0.0, 0.0, 0.0, 0.0], [0.16746394336223602, 0.1435522735118866, 0.061185695230960846, 0.17358075082302094, 0.10113833099603653, 0.017553476616740227, 0.032395314425230026, 0.007995504885911942, 0.05453447252511978, 0.07883202284574509, 0.017258208245038986, 0.14450998604297638, 0.0, 0.0, 0.0, 0.0, 0.0, 0.0, 0.0, 0.0, 0.0, 0.0, 0.0, 0.0, 0.0, 0.0, 0.0, 0.0, 0.0, 0.0, 0.0, 0.0, 0.0], [0.26996830105781555, 0.13029064238071442, 0.06605684012174606, 0.061561405658721924, 0.08437130600214005, 0.019846616312861443, 0.01631277985870838, 0.012965919449925423, 0.03231462463736534, 0.052547942847013474, 0.01986861228942871, 0.1369563788175583, 0.09693862497806549, 0.0, 0.0, 0.0, 0.0, 0.0, 0.0, 0.0, 0.0, 0.0, 0.0, 0.0, 0.0, 0.0, 0.0, 0.0, 0.0, 0.0, 0.0, 0.0, 0.0], [0.09820351749658585, 0.13618646562099457, 0.0800577774643898, 0.12152867019176483, 0.1357937604188919, 0.0024323563557118177, 0.01778949797153473, 0.0090864896774292, 0.05637528747320175, 0.08521640300750732, 0.0027533373795449734, 0.15203778445720673, 0.09946722537279129, 0.0030714026652276516, 0.0, 0.0, 0.0, 0.0, 0.0, 0.0, 0.0, 0.0, 0.0, 0.0, 0.0, 0.0, 0.0, 0.0, 0.0, 0.0, 0.0, 0.0, 0.0], [0.1701289564371109, 0.08885713666677475, 0.09089688211679459, 0.08085788786411285, 0.11427342146635056, 0.01090148650109768, 0.01478841807693243, 0.005497368052601814, 0.051512572914361954, 0.053306858986616135, 0.01059581059962511, 0.09442281723022461, 0.13098113238811493, 0.011153683066368103, 0.07182563096284866, 0.0, 0.0, 0.0, 0.0, 0.0, 0.0, 0.0, 0.0, 0.0, 0.0, 0.0, 0.0, 0.0, 0.0, 0.0, 0.0, 0.0, 0.0], [0.10365854203701019, 0.03588539734482765, 0.0880356878042221, 0.060879386961460114, 0.08348329365253448, 0.030805740505456924, 0.02961593121290207, 0.010918701067566872, 0.04049995169043541, 0.042886074632406235, 0.03219296410679817, 0.15008129179477692, 0.12658776342868805, 0.0349021852016449, 0.05825432762503624, 0.071312814950943, 0.0, 0.0, 0.0, 0.0, 0.0, 0.0, 0.0, 0.0, 0.0, 0.0, 0.0, 0.0, 0.0, 0.0, 0.0, 0.0, 0.0], [0.07047094404697418, 0.09600996226072311, 0.056215789169073105, 0.08699891716241837, 0.09934127330780029, 0.0016298789996653795, 0.012408621609210968, 0.006380433216691017, 0.04101405292749405, 0.06348714977502823, 0.001848219777457416, 0.11387642472982407, 0.07328975945711136, 0.0020712942350655794, 0.07246170938014984, 0.20012784004211426, 0.0023677765857428312, 0.0, 0.0, 0.0, 0.0, 0.0, 0.0, 0.0, 0.0, 0.0, 0.0, 0.0, 0.0, 0.0, 0.0, 0.0, 0.0], [0.05659443140029907, 0.08906207233667374, 0.04703237861394882, 0.09457874298095703, 0.08793892711400986, 0.0019721658900380135, 0.01776769943535328, 0.005990436300635338, 0.060148607939481735, 0.08834969252347946, 0.0022637692745774984, 0.1046152338385582, 0.0607936829328537, 0.002556624123826623, 0.0781862810254097, 0.19496022164821625, 0.002929992275312543, 0.004259059671312571, 0.0, 0.0, 0.0, 0.0, 0.0, 0.0, 0.0, 0.0, 0.0, 0.0, 0.0, 0.0, 0.0, 0.0, 0.0], [0.1597062349319458, 0.02609645016491413, 0.04515179991722107, 0.034975819289684296, 0.0803067684173584, 0.054690372198820114, 0.040785450488328934, 0.026513025164604187, 0.02725192904472351, 0.03919817507266998, 0.053514327853918076, 0.048429202288389206, 0.0626426488161087, 0.05558208376169205, 0.05559666082262993, 0.047929588705301285, 0.056763242930173874, 0.04892299324274063, 0.03594324737787247, 0.0, 0.0, 0.0, 0.0, 0.0, 0.0, 0.0, 0.0, 0.0, 0.0, 0.0, 0.0, 0.0, 0.0], [0.08663123846054077, 0.09557432681322098, 0.03673809394240379, 0.06946707516908646, 0.05681459233164787, 0.008190210908651352, 0.0221958477050066, 0.007642822340130806, 0.031468264758586884, 0.0755520612001419, 0.008965265937149525, 0.05263479799032211, 0.04491107538342476, 0.009935061447322369, 0.044813770800828934, 0.15198472142219543, 0.010933405719697475, 0.007993679493665695, 0.16402560472488403, 0.013528086245059967, 0.0, 0.0, 0.0, 0.0, 0.0, 0.0, 0.0, 0.0, 0.0, 0.0, 0.0, 0.0, 0.0], [0.04783453419804573, 0.06669354438781738, 0.037989187985658646, 0.06040371209383011, 0.06899044662714005, 0.0010267302859574556, 0.008172685280442238, 0.004158172756433487, 0.02826828882098198, 0.04407237842679024, 0.0011586467735469341, 0.07832912355661392, 0.05082903429865837, 0.001300496980547905, 0.04904300346970558, 0.14144998788833618, 0.0014934336068108678, 0.002556684659793973, 0.17534081637859344, 0.12910202145576477, 0.0017870565643534064, 0.0, 0.0, 0.0, 0.0, 0.0, 0.0, 0.0, 0.0, 0.0, 0.0, 0.0, 0.0], [0.04114089906215668, 0.047660745680332184, 0.03586997464299202, 0.0666610449552536, 0.07969275116920471, 0.0023650771472603083, 0.020340193063020706, 0.0048544988967478275, 0.0643620640039444, 0.06737154722213745, 0.002707370091229677, 0.05596053600311279, 0.056486617773771286, 0.0030767261050641537, 0.05354388430714607, 0.15165923535823822, 0.00353971472941339, 0.004673929885029793, 0.16402719914913177, 0.05968153849244118, 0.0041549429297447205, 0.010169529356062412, 0.0, 0.0, 0.0, 0.0, 0.0, 0.0, 0.0, 0.0, 0.0, 0.0, 0.0], [0.06628807634115219, 0.04092540591955185, 0.02732267789542675, 0.04505368322134018, 0.06575217843055725, 0.015657568350434303, 0.02788187749683857, 0.013711255043745041, 0.03174295276403427, 0.05280746519565582, 0.015447767451405525, 0.03218112140893936, 0.032901059836149216, 0.016298862174153328, 0.02663664147257805, 0.09772846847772598, 0.017114201560616493, 0.0169194508343935, 0.09847068786621094, 0.04787908494472504, 0.01841254159808159, 0.01533160824328661, 0.17753534018993378, 0.0, 0.0, 0.0, 0.0, 0.0, 0.0, 0.0, 0.0, 0.0, 0.0], [0.09801430255174637, 0.026328813284635544, 0.035868145525455475, 0.0571306012570858, 0.06943875551223755, 0.012128964066505432, 0.020909087732434273, 0.00874795950949192, 0.02699965611100197, 0.03726677969098091, 0.01171633880585432, 0.08499536663293839, 0.05501336231827736, 0.01219671219587326, 0.03563912212848663, 0.08789660781621933, 0.012970106676220894, 0.01085102278739214, 0.06408389657735825, 0.05963921174407005, 0.01449217926710844, 0.006093738600611687, 0.09761437773704529, 0.053964972496032715, 0.0, 0.0, 0.0, 0.0, 0.0, 0.0, 0.0, 0.0, 0.0], [0.02769322320818901, 0.04073769599199295, 0.031223535537719727, 0.05879039689898491, 0.05601825565099716, 0.0015714791370555758, 0.011908040381968021, 0.0033397877123206854, 0.051765523850917816, 0.05291242524981499, 0.0018259829375892878, 0.06030035763978958, 0.02835717797279358, 0.0020878103096038103, 0.050864800810813904, 0.07898833602666855, 0.002398704644292593, 0.0029048239812254906, 0.11135733872652054, 0.04586019366979599, 0.0028849190566688776, 0.0114312544465065, 0.12340554594993591, 0.1348848193883896, 0.006487561855465174, 0.0, 0.0, 0.0, 0.0, 0.0, 0.0, 0.0, 0.0], [0.1539076715707779, 0.023786786943674088, 0.053202465176582336, 0.03963886573910713, 0.05711062625050545, 0.01562894508242607, 0.02020607516169548, 0.009252367541193962, 0.02131185494363308, 0.02902994304895401, 0.014741906896233559, 0.06123839318752289, 0.10112594813108444, 0.015157823450863361, 0.04335403814911842, 0.04090718924999237, 0.01573266088962555, 0.0200734194368124, 0.05374935641884804, 0.03468615561723709, 0.01698938012123108, 0.0063685025088489056, 0.040420159697532654, 0.031060418114066124, 0.013937166891992092, 0.06738189607858658, 0.0, 0.0, 0.0, 0.0, 0.0, 0.0, 0.0], [0.0855509340763092, 0.035057418048381805, 0.05885256081819534, 0.03497908264398575, 0.05178742855787277, 0.002511991187930107, 0.0041512129828333855, 0.002085916930809617, 0.014081122353672981, 0.024491356685757637, 0.0023760024923831224, 0.0953511968255043, 0.07766135782003403, 0.0024908818304538727, 0.04572676494717598, 0.05774116516113281, 0.0026603771839290857, 0.00334775703959167, 0.04799826443195343, 0.02678881771862507, 0.0029587161261588335, 0.0046557895839214325, 0.03607097640633583, 0.021599190309643745, 0.0047886366955935955, 0.22052201628684998, 0.033713050186634064, 0.0, 0.0, 0.0, 0.0, 0.0, 0.0], [0.020706715062260628, 0.03719406947493553, 0.01972370781004429, 0.038942236453294754, 0.03182699903845787, 0.0012253692839294672, 0.008815751411020756, 0.0024052937515079975, 0.03457953408360481, 0.04729808121919632, 0.0013953744200989604, 0.05148205906152725, 0.02048673667013645, 0.0015608377289026976, 0.038261156529188156, 0.04863752797245979, 0.0017825292889028788, 0.0025446077343076468, 0.06541349738836288, 0.0418856181204319, 0.0020960597321391106, 0.00940138939768076, 0.0846003070473671, 0.09019994735717773, 0.005403276067227125, 0.22932560741901398, 0.05692267417907715, 0.005882925353944302, 0.0, 0.0, 0.0, 0.0, 0.0], [0.08582807332277298, 0.03967173025012016, 0.014841807074844837, 0.05653620883822441, 0.0596061535179615, 0.006987516302615404, 0.01011009979993105, 0.0028877267614006996, 0.015322847291827202, 0.025928765535354614, 0.006830445025116205, 0.03354894742369652, 0.02109353058040142, 0.007213158067315817, 0.01932339183986187, 0.05298229306936264, 0.007658609189093113, 0.005157846491783857, 0.0652318224310875, 0.018170012161135674, 0.008534706197679043, 0.004368172492831945, 0.026912420988082886, 0.04962795972824097, 0.004404330626130104, 0.1938866823911667, 0.03933224827051163, 0.005363553296774626, 0.11263900250196457, 0.0, 0.0, 0.0, 0.0], [0.07040350884199142, 0.059261612594127655, 0.0153348408639431, 0.02413903921842575, 0.01572885550558567, 0.019492097198963165, 0.017311524599790573, 0.01730305887758732, 0.020563246682286263, 0.0451558381319046, 0.021815849468111992, 0.07079727202653885, 0.030063970014452934, 0.023540612310171127, 0.020684488117694855, 0.021163668483495712, 0.026445116847753525, 0.02354004979133606, 0.056637272238731384, 0.033694788813591, 0.030707284808158875, 0.015993362292647362, 0.015474081039428711, 0.030803652480244637, 0.03180558606982231, 0.07969608902931213, 0.03437486290931702, 0.03453715518116951, 0.03062436915934086, 0.0629068911075592, 0.0, 0.0, 0.0], [0.05338500067591667, 0.029621530324220657, 0.021030085161328316, 0.023695707321166992, 0.03343641012907028, 0.018393810838460922, 0.02406071498990059, 0.022810006514191628, 0.013972361572086811, 0.028813546523451805, 0.019059734418988228, 0.01537196896970272, 0.025335319340229034, 0.019971948117017746, 0.014075741171836853, 0.0388445183634758, 0.0213461946696043, 0.01932142861187458, 0.05632659047842026, 0.021359996870160103, 0.023394569754600525, 0.02313665673136711, 0.06416383385658264, 0.06724691390991211, 0.0346950888633728, 0.04349019378423691, 0.03032725118100643, 0.03285714238882065, 0.05327509716153145, 0.0659981295466423, 0.04118248447775841, 0.0, 0.0], [0.1817709356546402, 0.01953316107392311, 0.028002925217151642, 0.029110202565789223, 0.041348330676555634, 0.018019476905465126, 0.010471724905073643, 0.008382904343307018, 0.015335793606936932, 0.021839451044797897, 0.016893327236175537, 0.03806139901280403, 0.03643866255879402, 0.017464252188801765, 0.026129072532057762, 0.04011503607034683, 0.018317198380827904, 0.012488216161727905, 0.05136970058083534, 0.01944383792579174, 0.019889745861291885, 0.003576456569135189, 0.02623295783996582, 0.01842919923365116, 0.01172374002635479, 0.032729849219322205, 0.0348081961274147, 0.012035039253532887, 0.06030295416712761, 0.00787330698221922, 0.04227294400334358, 0.07959000766277313, 0.0], [0.015003403648734093, 0.02033485472202301, 0.00781343039125204, 0.01655358262360096, 0.01646609976887703, 0.00023809666163288057, 0.001959894085302949, 0.0006898253923282027, 0.006483221426606178, 0.0107340756803751, 0.00024435276282019913, 0.014634678140282631, 0.009247619658708572, 0.0002605919726192951, 0.009339914657175541, 0.04272659122943878, 0.0002886390429921448, 0.00038116745417937636, 0.05474938824772835, 0.09452774375677109, 0.00034211284946650267, 0.0017270223470404744, 0.04745933413505554, 0.02661379612982273, 0.001023865770548582, 0.16537980735301971, 0.014187113381922245, 0.0013092352310195565, 0.047706540673971176, 0.0111984983086586, 0.2205076366662979, 0.1394260823726654, 0.0004418622702360153]], [[1.0, 0.0, 0.0, 0.0, 0.0, 0.0, 0.0, 0.0, 0.0, 0.0, 0.0, 0.0, 0.0, 0.0, 0.0, 0.0, 0.0, 0.0, 0.0, 0.0, 0.0, 0.0, 0.0, 0.0, 0.0, 0.0, 0.0, 0.0, 0.0, 0.0, 0.0, 0.0, 0.0], [0.9333657622337341, 0.06663419306278229, 0.0, 0.0, 0.0, 0.0, 0.0, 0.0, 0.0, 0.0, 0.0, 0.0, 0.0, 0.0, 0.0, 0.0, 0.0, 0.0, 0.0, 0.0, 0.0, 0.0, 0.0, 0.0, 0.0, 0.0, 0.0, 0.0, 0.0, 0.0, 0.0, 0.0, 0.0], [0.324523389339447, 0.5923720598220825, 0.08310458809137344, 0.0, 0.0, 0.0, 0.0, 0.0, 0.0, 0.0, 0.0, 0.0, 0.0, 0.0, 0.0, 0.0, 0.0, 0.0, 0.0, 0.0, 0.0, 0.0, 0.0, 0.0, 0.0, 0.0, 0.0, 0.0, 0.0, 0.0, 0.0, 0.0, 0.0], [0.14159759879112244, 0.5143810510635376, 0.28144124150276184, 0.0625801607966423, 0.0, 0.0, 0.0, 0.0, 0.0, 0.0, 0.0, 0.0, 0.0, 0.0, 0.0, 0.0, 0.0, 0.0, 0.0, 0.0, 0.0, 0.0, 0.0, 0.0, 0.0, 0.0, 0.0, 0.0, 0.0, 0.0, 0.0, 0.0, 0.0], [0.2526228129863739, 0.058340635150671005, 0.10458867251873016, 0.44111600518226624, 0.14333190023899078, 0.0, 0.0, 0.0, 0.0, 0.0, 0.0, 0.0, 0.0, 0.0, 0.0, 0.0, 0.0, 0.0, 0.0, 0.0, 0.0, 0.0, 0.0, 0.0, 0.0, 0.0, 0.0, 0.0, 0.0, 0.0, 0.0, 0.0, 0.0], [0.18051567673683167, 0.09828915446996689, 0.10873948782682419, 0.12262709438800812, 0.09995545446872711, 0.3898731470108032, 0.0, 0.0, 0.0, 0.0, 0.0, 0.0, 0.0, 0.0, 0.0, 0.0, 0.0, 0.0, 0.0, 0.0, 0.0, 0.0, 0.0, 0.0, 0.0, 0.0, 0.0, 0.0, 0.0, 0.0, 0.0, 0.0, 0.0], [0.17192310094833374, 0.023320956155657768, 0.12332697212696075, 0.060764968395233154, 0.05971718952059746, 0.347591757774353, 0.21335507929325104, 0.0, 0.0, 0.0, 0.0, 0.0, 0.0, 0.0, 0.0, 0.0, 0.0, 0.0, 0.0, 0.0, 0.0, 0.0, 0.0, 0.0, 0.0, 0.0, 0.0, 0.0, 0.0, 0.0, 0.0, 0.0, 0.0], [0.0962703675031662, 0.04683614894747734, 0.02825731411576271, 0.03239252045750618, 0.05865044146776199, 0.15829353034496307, 0.30996477603912354, 0.26933497190475464, 0.0, 0.0, 0.0, 0.0, 0.0, 0.0, 0.0, 0.0, 0.0, 0.0, 0.0, 0.0, 0.0, 0.0, 0.0, 0.0, 0.0, 0.0, 0.0, 0.0, 0.0, 0.0, 0.0, 0.0, 0.0], [0.09948236495256424, 0.06464174389839172, 0.028671855106949806, 0.07305670529603958, 0.029787154868245125, 0.13960018754005432, 0.207547128200531, 0.2658023238182068, 0.09141054004430771, 0.0, 0.0, 0.0, 0.0, 0.0, 0.0, 0.0, 0.0, 0.0, 0.0, 0.0, 0.0, 0.0, 0.0, 0.0, 0.0, 0.0, 0.0, 0.0, 0.0, 0.0, 0.0, 0.0, 0.0], [0.0563204251229763, 0.029885856434702873, 0.013419910334050655, 0.002407555002719164, 0.01324548851698637, 0.04564545303583145, 0.05522565543651581, 0.10027102380990982, 0.6579985022544861, 0.02558010444045067, 0.0, 0.0, 0.0, 0.0, 0.0, 0.0, 0.0, 0.0, 0.0, 0.0, 0.0, 0.0, 0.0, 0.0, 0.0, 0.0, 0.0, 0.0, 0.0, 0.0, 0.0, 0.0, 0.0], [0.042669933289289474, 0.010426470078527927, 0.010652204044163227, 0.013446655124425888, 0.009353146888315678, 0.04015975072979927, 0.0710517168045044, 0.13737666606903076, 0.10423259437084198, 0.2173662632703781, 0.3432645797729492, 0.0, 0.0, 0.0, 0.0, 0.0, 0.0, 0.0, 0.0, 0.0, 0.0, 0.0, 0.0, 0.0, 0.0, 0.0, 0.0, 0.0, 0.0, 0.0, 0.0, 0.0, 0.0], [0.029683886095881462, 0.0025616425555199385, 0.0044074817560613155, 0.034248676151037216, 0.014238737523555756, 0.028001818805933, 0.022288015112280846, 0.07105961441993713, 0.04026227071881294, 0.5543045401573181, 0.17333030700683594, 0.025612974539399147, 0.0, 0.0, 0.0, 0.0, 0.0, 0.0, 0.0, 0.0, 0.0, 0.0, 0.0, 0.0, 0.0, 0.0, 0.0, 0.0, 0.0, 0.0, 0.0, 0.0, 0.0], [0.04039590433239937, 0.008631573989987373, 0.0054942225106060505, 0.0038641386199742556, 0.02336309477686882, 0.027206992730498314, 0.025677334517240524, 0.050485190004110336, 0.051056064665317535, 0.05041780322790146, 0.14164336025714874, 0.511528730392456, 0.060235634446144104, 0.0, 0.0, 0.0, 0.0, 0.0, 0.0, 0.0, 0.0, 0.0, 0.0, 0.0, 0.0, 0.0, 0.0, 0.0, 0.0, 0.0, 0.0, 0.0, 0.0], [0.02870638482272625, 0.004808458033949137, 0.004723649937659502, 0.005382598843425512, 0.003456037724390626, 0.014470166526734829, 0.02403733693063259, 0.0416262187063694, 0.035672884434461594, 0.07060736417770386, 0.10831005126237869, 0.05811610072851181, 0.20621222257614136, 0.3938705325126648, 0.0, 0.0, 0.0, 0.0, 0.0, 0.0, 0.0, 0.0, 0.0, 0.0, 0.0, 0.0, 0.0, 0.0, 0.0, 0.0, 0.0, 0.0, 0.0], [0.05342647805809975, 0.011923299171030521, 0.015572269447147846, 0.0021123255137354136, 0.005851041525602341, 0.02217094786465168, 0.038184698671102524, 0.027411572635173798, 0.05464285984635353, 0.04910832270979881, 0.12328372150659561, 0.052871719002723694, 0.07545650750398636, 0.3701530694961548, 0.0978311076760292, 0.0, 0.0, 0.0, 0.0, 0.0, 0.0, 0.0, 0.0, 0.0, 0.0, 0.0, 0.0, 0.0, 0.0, 0.0, 0.0, 0.0, 0.0], [0.008346712216734886, 0.0002785271208267659, 0.0011786009417846799, 0.002139550633728504, 0.002476172288879752, 0.0029182909056544304, 0.004576899576932192, 0.003965598996728659, 0.004973029252141714, 0.011347771622240543, 0.013014068827033043, 0.005545973777770996, 0.020895596593618393, 0.03838541731238365, 0.8750316500663757, 0.004926201421767473, 0.0, 0.0, 0.0, 0.0, 0.0, 0.0, 0.0, 0.0, 0.0, 0.0, 0.0, 0.0, 0.0, 0.0, 0.0, 0.0, 0.0], [0.021700292825698853, 0.0026786618400365114, 0.002383924089372158, 0.0028156298212707043, 0.0015562321059405804, 0.006139399483799934, 0.009039797820150852, 0.013740863651037216, 0.012412195093929768, 0.024686528369784355, 0.03406901657581329, 0.017561445012688637, 0.060829538851976395, 0.12004061788320541, 0.11516807973384857, 0.12663699686527252, 0.42854073643684387, 0.0, 0.0, 0.0, 0.0, 0.0, 0.0, 0.0, 0.0, 0.0, 0.0, 0.0, 0.0, 0.0, 0.0, 0.0, 0.0], [0.019681431353092194, 0.0028661920223385096, 0.0027528645005077124, 0.0023642017040401697, 0.0022205766290426254, 0.004776975605636835, 0.005015388131141663, 0.007020777091383934, 0.006603004410862923, 0.015824884176254272, 0.0217791385948658, 0.022375887259840965, 0.039055537432432175, 0.07342633605003357, 0.07227562367916107, 0.08103635162115097, 0.2556318938732147, 0.3652929961681366, 0.0, 0.0, 0.0, 0.0, 0.0, 0.0, 0.0, 0.0, 0.0, 0.0, 0.0, 0.0, 0.0, 0.0, 0.0], [0.03443865105509758, 0.0024295086041092873, 0.002703877864405513, 0.0010108930291607976, 0.002821241272613406, 0.009310656227171421, 0.007474069483578205, 0.010526386089622974, 0.019342605024576187, 0.006583394482731819, 0.030525263398885727, 0.008166543208062649, 0.023945678025484085, 0.08047980070114136, 0.04428935796022415, 0.04886510595679283, 0.2326631397008896, 0.3870973587036133, 0.047326430678367615, 0.0, 0.0, 0.0, 0.0, 0.0, 0.0, 0.0, 0.0, 0.0, 0.0, 0.0, 0.0, 0.0, 0.0], [0.0036976831033825874, 0.006450961343944073, 0.0004921716754324734, 0.0003069595550186932, 0.00012400760897435248, 0.001072736456990242, 0.000885879504494369, 0.001380636473186314, 0.0008200191077776253, 0.00027311884332448244, 0.0027830637991428375, 0.035294242203235626, 0.003561375429853797, 0.007148320786654949, 0.0016474082367494702, 0.01673165336251259, 0.01917283795773983, 0.022339265793561935, 0.8733667135238647, 0.0024509583599865437, 0.0, 0.0, 0.0, 0.0, 0.0, 0.0, 0.0, 0.0, 0.0, 0.0, 0.0, 0.0, 0.0], [0.01362878829240799, 0.0014384450623765588, 0.0012188636464998126, 0.0012915872503072023, 0.0006118044839240611, 0.002140037715435028, 0.0027469610795378685, 0.003336046589538455, 0.003091871738433838, 0.005988910794258118, 0.007237217389047146, 0.0035477469209581614, 0.012891964986920357, 0.02222917415201664, 0.020824255421757698, 0.026295319199562073, 0.07648168504238129, 0.16261470317840576, 0.12638656795024872, 0.10034433752298355, 0.4056537449359894, 0.0, 0.0, 0.0, 0.0, 0.0, 0.0, 0.0, 0.0, 0.0, 0.0, 0.0, 0.0], [0.021432965993881226, 0.0007291642832569778, 0.0010889682453125715, 0.0008559629204683006, 0.0010556644992902875, 0.0023542458657175303, 0.0018633310683071613, 0.002486989600583911, 0.004011364188045263, 0.00364561821334064, 0.006636613514274359, 0.0024591628462076187, 0.008106640540063381, 0.01950138434767723, 0.013945520855486393, 0.01683160290122032, 0.06727852672338486, 0.10203748196363449, 0.07506181299686432, 0.03785507380962372, 0.34741562604904175, 0.26334622502326965, 0.0, 0.0, 0.0, 0.0, 0.0, 0.0, 0.0, 0.0, 0.0, 0.0, 0.0], [0.018374420702457428, 0.0016340139554813504, 0.00026486595743335783, 0.0006277096690610051, 0.0007212881464511156, 0.0022947117686271667, 0.0014375766040757298, 0.0024335687048733234, 0.001022503711283207, 0.002173093846067786, 0.005665965378284454, 0.0005857066134922206, 0.0047303070314228535, 0.015789629891514778, 0.009121071547269821, 0.006447881925851107, 0.04965178668498993, 0.07221106439828873, 0.04530426859855652, 0.022536223754286766, 0.2338048666715622, 0.28100961446762085, 0.2221577763557434, 0.0, 0.0, 0.0, 0.0, 0.0, 0.0, 0.0, 0.0, 0.0, 0.0], [0.016010290011763573, 0.0004190774052403867, 0.0016793146496638656, 0.002033163094893098, 0.001112603466026485, 0.0023041260428726673, 0.0016414885176345706, 0.0020452281460165977, 0.0008826441480778158, 0.0035318159498274326, 0.0046607512049376965, 0.001146127237007022, 0.004025282803922892, 0.011729463934898376, 0.006906014867126942, 0.0059789810329675674, 0.03413613513112068, 0.0539199560880661, 0.07536919414997101, 0.01554416585713625, 0.15307296812534332, 0.21672502160072327, 0.23267310857772827, 0.15245313942432404, 0.0, 0.0, 0.0, 0.0, 0.0, 0.0, 0.0, 0.0, 0.0], [0.016415517777204514, 0.0010881010675802827, 0.001302701304666698, 0.0012335635256022215, 0.0010325225302949548, 0.001360528520308435, 0.0011352745350450277, 0.0009713193867355585, 0.0017580222338438034, 0.0023549944162368774, 0.002267795382067561, 0.00261700339615345, 0.0032849633134901524, 0.00556444376707077, 0.007287739776074886, 0.006582668516784906, 0.01691107638180256, 0.023348161950707436, 0.033363763242959976, 0.012060845270752907, 0.08410521596670151, 0.10776988416910172, 0.12741319835186005, 0.2500959038734436, 0.28867483139038086, 0.0, 0.0, 0.0, 0.0, 0.0, 0.0, 0.0, 0.0], [0.031117718666791916, 0.0015063047176226974, 0.001083932351320982, 0.002421519486233592, 0.001382686197757721, 0.0037937196902930737, 0.0016339273424819112, 0.003119514323771, 0.001281263423152268, 0.002068521222099662, 0.004760110750794411, 0.0008757299510762095, 0.008592120371758938, 0.009353631176054478, 0.011993257328867912, 0.005963007919490337, 0.02202817238867283, 0.034113265573978424, 0.009586762636899948, 0.013681797310709953, 0.08417056500911713, 0.08917821198701859, 0.10806839913129807, 0.15560773015022278, 0.37236863374710083, 0.02024945430457592, 0.0, 0.0, 0.0, 0.0, 0.0, 0.0, 0.0], [0.014838472940027714, 0.0005757302860729396, 0.004743659403175116, 0.00045677291927859187, 0.0007412267732433975, 0.0015000005951151252, 0.0008866063435561955, 0.000845208007376641, 0.00010359246516600251, 0.0009065138874575496, 0.0018096792045980692, 0.06029106304049492, 0.0015377569943666458, 0.0033079367130994797, 0.0013713664375245571, 0.0020826775580644608, 0.008643983863294125, 0.009088871069252491, 0.007760952226817608, 0.005808324087411165, 0.03386511653661728, 0.039871882647275925, 0.05374553054571152, 0.03694773465394974, 0.12259438633918762, 0.5718705058097839, 0.01380445808172226, 0.0, 0.0, 0.0, 0.0, 0.0, 0.0], [0.01857001893222332, 0.0012143186759203672, 0.0012880440335720778, 0.0010612565092742443, 0.0007490045391023159, 0.0010485625825822353, 0.0008687865920364857, 0.0005973862716928124, 0.001293826731853187, 0.0014042508555576205, 0.0011055084178224206, 0.0005003454862162471, 0.0020262598991394043, 0.0021463134326040745, 0.0028737944085150957, 0.0026413705199956894, 0.005802986212074757, 0.008191358298063278, 0.008339077234268188, 0.005543303210288286, 0.026558687910437584, 0.033089201897382736, 0.03250739350914955, 0.09199859201908112, 0.10410474985837936, 0.16861781477928162, 0.20895424485206604, 0.26690346002578735, 0.0, 0.0, 0.0, 0.0, 0.0], [0.016654424369335175, 0.0007248657057061791, 0.0008980668499134481, 0.0031616834457963705, 0.0005522823194041848, 0.0016607251018285751, 0.0007486117538064718, 0.0009652794105932117, 0.0003842795849777758, 0.002257776213809848, 0.0015545627102255821, 0.0007036991300992668, 0.0014688168885186315, 0.0027998785953968763, 0.003013980807736516, 0.005369037389755249, 0.006552336737513542, 0.008701580576598644, 0.007138858083635569, 0.006516318302601576, 0.02618556283414364, 0.03929200768470764, 0.031550098210573196, 0.024343037977814674, 0.10670769214630127, 0.15159788727760315, 0.13674214482307434, 0.32013973593711853, 0.09161479771137238, 0.0, 0.0, 0.0, 0.0], [0.03722681105136871, 0.000744273595046252, 0.0019180327653884888, 0.0014290617546066642, 0.002559736603870988, 0.003292829729616642, 0.0009007252519950271, 0.0015445102471858263, 0.0003557216259650886, 0.00044927303679287434, 0.002668816829100251, 0.0014046654105186462, 0.00172809895593673, 0.004542734008282423, 0.0012941049644723535, 0.0046776654198765755, 0.009138206019997597, 0.008992970921099186, 0.005343661643564701, 0.00203183782286942, 0.030930886045098305, 0.021215317770838737, 0.03639976307749748, 0.05679456889629364, 0.11195962131023407, 0.011458106338977814, 0.03353289142251015, 0.26588547229766846, 0.2469540387392044, 0.09262556582689285, 0.0, 0.0, 0.0], [0.04408881440758705, 0.0011082965647801757, 0.003387592965736985, 0.0048532006330788136, 0.0028643228579312563, 0.004500862210988998, 0.0014518118696287274, 0.0021924946922808886, 0.0007902380311861634, 0.00067173782736063, 0.0035771571565419436, 0.0005131776561029255, 0.012861724942922592, 0.005116847809404135, 0.0030142548494040966, 0.005887462291866541, 0.0104534225538373, 0.013818350620567799, 0.00869105476886034, 0.011229279451072216, 0.0314009003341198, 0.023181647062301636, 0.03044438175857067, 0.035206835716962814, 0.09999863058328629, 0.006090166047215462, 0.14714206755161285, 0.16393055021762848, 0.12749511003494263, 0.1935776025056839, 0.0004599901440087706, 0.0, 0.0], [0.037174057215452194, 0.005006898194551468, 0.001611231593415141, 0.002830148208886385, 0.0005118498811498284, 0.0027071242220699787, 0.0020970297046005726, 0.0012328766752034426, 0.0006310889148153365, 0.0017632449744269252, 0.0017868783324956894, 0.00025283347349613905, 0.0010720748687162995, 0.0026448299176990986, 0.001566158956848085, 0.0038084094412624836, 0.005276738665997982, 0.006930264178663492, 0.013310834765434265, 0.003581641474738717, 0.01830451935529709, 0.026684781536459923, 0.019971545785665512, 0.03215579316020012, 0.07432037591934204, 0.023922285065054893, 0.0876147523522377, 0.1800755262374878, 0.027492530643939972, 0.059722427278757095, 0.1912270486354828, 0.16271226108074188, 0.0], [0.008116946555674076, 0.0008723062346689403, 0.00037072907434776425, 0.0004734864633064717, 0.00017833005404099822, 0.00039947067853063345, 0.00029511694447137415, 0.00018311961321160197, 0.00016714594676159322, 0.00023702460748609155, 0.00025333583471365273, 0.0001285503531107679, 0.00020213167590554804, 0.00039944934542290866, 0.00016511829744558781, 0.0004622879496309906, 0.0008780215866863728, 0.0011140486458316445, 0.002070879563689232, 0.001963676419109106, 0.0035278606228530407, 0.004475220572203398, 0.004463486839085817, 0.007312549743801355, 0.014446244575083256, 0.035030465573072433, 0.020014138892292976, 0.04388582706451416, 0.019436728209257126, 0.11325760185718536, 0.07277626544237137, 0.1619684398174286, 0.480474054813385]], [[1.0, 0.0, 0.0, 0.0, 0.0, 0.0, 0.0, 0.0, 0.0, 0.0, 0.0, 0.0, 0.0, 0.0, 0.0, 0.0, 0.0, 0.0, 0.0, 0.0, 0.0, 0.0, 0.0, 0.0, 0.0, 0.0, 0.0, 0.0, 0.0, 0.0, 0.0, 0.0, 0.0], [0.9473748207092285, 0.052625205367803574, 0.0, 0.0, 0.0, 0.0, 0.0, 0.0, 0.0, 0.0, 0.0, 0.0, 0.0, 0.0, 0.0, 0.0, 0.0, 0.0, 0.0, 0.0, 0.0, 0.0, 0.0, 0.0, 0.0, 0.0, 0.0, 0.0, 0.0, 0.0, 0.0, 0.0, 0.0], [0.8785885572433472, 0.05539460480213165, 0.06601687520742416, 0.0, 0.0, 0.0, 0.0, 0.0, 0.0, 0.0, 0.0, 0.0, 0.0, 0.0, 0.0, 0.0, 0.0, 0.0, 0.0, 0.0, 0.0, 0.0, 0.0, 0.0, 0.0, 0.0, 0.0, 0.0, 0.0, 0.0, 0.0, 0.0, 0.0], [0.727077066898346, 0.1370987594127655, 0.048660892993211746, 0.08716326951980591, 0.0, 0.0, 0.0, 0.0, 0.0, 0.0, 0.0, 0.0, 0.0, 0.0, 0.0, 0.0, 0.0, 0.0, 0.0, 0.0, 0.0, 0.0, 0.0, 0.0, 0.0, 0.0, 0.0, 0.0, 0.0, 0.0, 0.0, 0.0, 0.0], [0.4651745855808258, 0.1342931091785431, 0.1535816192626953, 0.1747254729270935, 0.07222519814968109, 0.0, 0.0, 0.0, 0.0, 0.0, 0.0, 0.0, 0.0, 0.0, 0.0, 0.0, 0.0, 0.0, 0.0, 0.0, 0.0, 0.0, 0.0, 0.0, 0.0, 0.0, 0.0, 0.0, 0.0, 0.0, 0.0, 0.0, 0.0], [0.17035983502864838, 0.011841942556202412, 0.023650862276554108, 0.021745838224887848, 0.02585633657872677, 0.746545135974884, 0.0, 0.0, 0.0, 0.0, 0.0, 0.0, 0.0, 0.0, 0.0, 0.0, 0.0, 0.0, 0.0, 0.0, 0.0, 0.0, 0.0, 0.0, 0.0, 0.0, 0.0, 0.0, 0.0, 0.0, 0.0, 0.0, 0.0], [0.1421457976102829, 0.043832726776599884, 0.05021178722381592, 0.045165058225393295, 0.058721307665109634, 0.5111533403396606, 0.14877000451087952, 0.0, 0.0, 0.0, 0.0, 0.0, 0.0, 0.0, 0.0, 0.0, 0.0, 0.0, 0.0, 0.0, 0.0, 0.0, 0.0, 0.0, 0.0, 0.0, 0.0, 0.0, 0.0, 0.0, 0.0, 0.0, 0.0], [0.08473353087902069, 0.020369814708828926, 0.03746165335178375, 0.031959112733602524, 0.034196022897958755, 0.4350067675113678, 0.11894059181213379, 0.2373325377702713, 0.0, 0.0, 0.0, 0.0, 0.0, 0.0, 0.0, 0.0, 0.0, 0.0, 0.0, 0.0, 0.0, 0.0, 0.0, 0.0, 0.0, 0.0, 0.0, 0.0, 0.0, 0.0, 0.0, 0.0, 0.0], [0.34230804443359375, 0.035936374217271805, 0.0725921168923378, 0.10352759063243866, 0.08196528255939484, 0.07694563269615173, 0.14196325838565826, 0.09896713495254517, 0.04579458385705948, 0.0, 0.0, 0.0, 0.0, 0.0, 0.0, 0.0, 0.0, 0.0, 0.0, 0.0, 0.0, 0.0, 0.0, 0.0, 0.0, 0.0, 0.0, 0.0, 0.0, 0.0, 0.0, 0.0, 0.0], [0.37114864587783813, 0.06278737634420395, 0.058069534599781036, 0.055662717670202255, 0.13124841451644897, 0.07535626739263535, 0.10726630687713623, 0.07924023270606995, 0.03010730817914009, 0.029113223776221275, 0.0, 0.0, 0.0, 0.0, 0.0, 0.0, 0.0, 0.0, 0.0, 0.0, 0.0, 0.0, 0.0, 0.0, 0.0, 0.0, 0.0, 0.0, 0.0, 0.0, 0.0, 0.0, 0.0], [0.06430108100175858, 0.005169105716049671, 0.011012989096343517, 0.009054883383214474, 0.01174806710332632, 0.3188501298427582, 0.03684946149587631, 0.08319550007581711, 0.012068141251802444, 0.014676221646368504, 0.43307432532310486, 0.0, 0.0, 0.0, 0.0, 0.0, 0.0, 0.0, 0.0, 0.0, 0.0, 0.0, 0.0, 0.0, 0.0, 0.0, 0.0, 0.0, 0.0, 0.0, 0.0, 0.0, 0.0], [0.23777934908866882, 0.03812996298074722, 0.019743354991078377, 0.0750802531838417, 0.1442079246044159, 0.06244923174381256, 0.07018382847309113, 0.06523603200912476, 0.04883219674229622, 0.03460032865405083, 0.06439769268035889, 0.13935981690883636, 0.0, 0.0, 0.0, 0.0, 0.0, 0.0, 0.0, 0.0, 0.0, 0.0, 0.0, 0.0, 0.0, 0.0, 0.0, 0.0, 0.0, 0.0, 0.0, 0.0, 0.0], [0.29014483094215393, 0.0408577099442482, 0.06965624541044235, 0.064677394926548, 0.11515596508979797, 0.07279441505670547, 0.05406038090586662, 0.04095997288823128, 0.03646121919155121, 0.037096984684467316, 0.08112157881259918, 0.0624944269657135, 0.03451892361044884, 0.0, 0.0, 0.0, 0.0, 0.0, 0.0, 0.0, 0.0, 0.0, 0.0, 0.0, 0.0, 0.0, 0.0, 0.0, 0.0, 0.0, 0.0, 0.0, 0.0], [0.04191603884100914, 0.0033880705013871193, 0.0070823607966303825, 0.0058992039412260056, 0.007586186286062002, 0.20389790832996368, 0.023296762257814407, 0.051730722188949585, 0.00781681202352047, 0.009731384925544262, 0.27760183811187744, 0.008386777713894844, 0.01617271453142166, 0.33549320697784424, 0.0, 0.0, 0.0, 0.0, 0.0, 0.0, 0.0, 0.0, 0.0, 0.0, 0.0, 0.0, 0.0, 0.0, 0.0, 0.0, 0.0, 0.0, 0.0], [0.1512935608625412, 0.04240788146853447, 0.043833788484334946, 0.09706759452819824, 0.14943553507328033, 0.04439885541796684, 0.06174502149224281, 0.04199516028165817, 0.01860879547894001, 0.03141244500875473, 0.050926435738801956, 0.06660288572311401, 0.09416217356920242, 0.057612914592027664, 0.048496995121240616, 0.0, 0.0, 0.0, 0.0, 0.0, 0.0, 0.0, 0.0, 0.0, 0.0, 0.0, 0.0, 0.0, 0.0, 0.0, 0.0, 0.0, 0.0], [0.29958024621009827, 0.07432068884372711, 0.03006197325885296, 0.016736483201384544, 0.038564808666706085, 0.051068782806396484, 0.09408662468194962, 0.05606795474886894, 0.05458227917551994, 0.045220427215099335, 0.056380681693553925, 0.015378039330244064, 0.040828507393598557, 0.06084692105650902, 0.030811050906777382, 0.03546451777219772, 0.0, 0.0, 0.0, 0.0, 0.0, 0.0, 0.0, 0.0, 0.0, 0.0, 0.0, 0.0, 0.0, 0.0, 0.0, 0.0, 0.0], [0.03044000081717968, 0.0024933896493166685, 0.005298207513988018, 0.004223388619720936, 0.005517445970326662, 0.14508455991744995, 0.01603415049612522, 0.03598649427294731, 0.005758045706897974, 0.007398174609988928, 0.19613468647003174, 0.006090893875807524, 0.011465119197964668, 0.23738011717796326, 0.008031776174902916, 0.005861486308276653, 0.27680206298828125, 0.0, 0.0, 0.0, 0.0, 0.0, 0.0, 0.0, 0.0, 0.0, 0.0, 0.0, 0.0, 0.0, 0.0, 0.0, 0.0], [0.01566893979907036, 0.0019133491441607475, 0.006747934501618147, 0.005610874854028225, 0.006710360292345285, 0.10858527570962906, 0.013436978682875633, 0.03067481331527233, 0.008698041550815105, 0.005958772264420986, 0.15696410834789276, 0.006401263643056154, 0.014357197098433971, 0.19220471382141113, 0.009938814677298069, 0.008154565468430519, 0.22861388325691223, 0.17936013638973236, 0.0, 0.0, 0.0, 0.0, 0.0, 0.0, 0.0, 0.0, 0.0, 0.0, 0.0, 0.0, 0.0, 0.0, 0.0], [0.2751208543777466, 0.04635608568787575, 0.025782743468880653, 0.020371083170175552, 0.04519130289554596, 0.04741504415869713, 0.058008335530757904, 0.054494574666023254, 0.021855836734175682, 0.028674177825450897, 0.050547972321510315, 0.03578948229551315, 0.0143439881503582, 0.05505192279815674, 0.01997089944779873, 0.025070663541555405, 0.05983668565750122, 0.10591267794370651, 0.010205707512795925, 0.0, 0.0, 0.0, 0.0, 0.0, 0.0, 0.0, 0.0, 0.0, 0.0, 0.0, 0.0, 0.0, 0.0], [0.12210463732481003, 0.02900639921426773, 0.02792610228061676, 0.030763687565922737, 0.06431961059570312, 0.05075867101550102, 0.05746714398264885, 0.03854451701045036, 0.028814442455768585, 0.03641035407781601, 0.055306922644376755, 0.0275556817650795, 0.050623878836631775, 0.06039680913090706, 0.037909071892499924, 0.03416261449456215, 0.06550319492816925, 0.08224613964557648, 0.08903128653764725, 0.01114883366972208, 0.0, 0.0, 0.0, 0.0, 0.0, 0.0, 0.0, 0.0, 0.0, 0.0, 0.0, 0.0, 0.0], [0.019922738894820213, 0.0015991267282515764, 0.003536272095516324, 0.0027606096118688583, 0.003674750216305256, 0.09198573231697083, 0.009868195280432701, 0.021762745454907417, 0.0036746207624673843, 0.004800301510840654, 0.12327177077531815, 0.003948229365050793, 0.007727709598839283, 0.14901944994926453, 0.00509450351819396, 0.003849551547318697, 0.17433801293373108, 0.14503759145736694, 0.0031391780357807875, 0.0039015652146190405, 0.21708731353282928, 0.0, 0.0, 0.0, 0.0, 0.0, 0.0, 0.0, 0.0, 0.0, 0.0, 0.0, 0.0], [0.025169145315885544, 0.002589143579825759, 0.007904473692178726, 0.0028181755915284157, 0.008317491039633751, 0.06284766644239426, 0.01609737239778042, 0.024833573028445244, 0.007658039685338736, 0.011317084543406963, 0.08450999110937119, 0.012135408818721771, 0.022048387676477432, 0.1001725047826767, 0.015103291720151901, 0.0201522596180439, 0.11906801909208298, 0.1414896845817566, 0.006576651241630316, 0.007074063643813133, 0.14850658178329468, 0.153610959649086, 0.0, 0.0, 0.0, 0.0, 0.0, 0.0, 0.0, 0.0, 0.0, 0.0, 0.0], [0.08679646998643875, 0.015818683430552483, 0.00991315022110939, 0.005941123701632023, 0.011749103665351868, 0.04402251914143562, 0.049411576241254807, 0.047211579978466034, 0.022448502480983734, 0.028144150972366333, 0.052493710070848465, 0.01366489753127098, 0.038044556975364685, 0.058564916253089905, 0.016008734703063965, 0.02853177860379219, 0.06752395629882812, 0.10004054754972458, 0.026074478402733803, 0.01816527172923088, 0.08061442524194717, 0.14588391780853271, 0.03293200582265854, 0.0, 0.0, 0.0, 0.0, 0.0, 0.0, 0.0, 0.0, 0.0, 0.0], [0.1220332682132721, 0.026796923950314522, 0.03471270203590393, 0.016600852832198143, 0.05098602548241615, 0.033623483031988144, 0.03376288339495659, 0.03289438411593437, 0.022763598710298538, 0.03469545766711235, 0.03710821270942688, 0.027503054589033127, 0.030508041381835938, 0.040704917162656784, 0.019409824162721634, 0.033388104289770126, 0.046037834137678146, 0.08141949027776718, 0.025792919099330902, 0.017713341861963272, 0.05326375737786293, 0.06955215334892273, 0.07340098917484283, 0.03532780334353447, 0.0, 0.0, 0.0, 0.0, 0.0, 0.0, 0.0, 0.0, 0.0], [0.012632710859179497, 0.0031967309769243, 0.00899962056428194, 0.003787108464166522, 0.005590217188000679, 0.060187455266714096, 0.010173024609684944, 0.02606339193880558, 0.008280325680971146, 0.005998439621180296, 0.08480241149663925, 0.007755739148706198, 0.014807670377194881, 0.10079347342252731, 0.011636028066277504, 0.007885107770562172, 0.12061360478401184, 0.12819871306419373, 0.006487109698355198, 0.003230573609471321, 0.15047508478164673, 0.10557692497968674, 0.015480613335967064, 0.019026322290301323, 0.07832159847021103, 0.0, 0.0, 0.0, 0.0, 0.0, 0.0, 0.0, 0.0], [0.11176053434610367, 0.018635569140315056, 0.05622371658682823, 0.0467727892100811, 0.03736494481563568, 0.0229934249073267, 0.031365279108285904, 0.02640889585018158, 0.04335922747850418, 0.05663556978106499, 0.021786388009786606, 0.023822128772735596, 0.030641669407486916, 0.023289259523153305, 0.054304905235767365, 0.06881187111139297, 0.024489369243383408, 0.04777088761329651, 0.03627174720168114, 0.02222254127264023, 0.02699895016849041, 0.021766120567917824, 0.03442492336034775, 0.028240270912647247, 0.05891919136047363, 0.024719836190342903, 0.0, 0.0, 0.0, 0.0, 0.0, 0.0, 0.0], [0.10639803111553192, 0.037107914686203, 0.08273956924676895, 0.017856862396001816, 0.020950011909008026, 0.018305258825421333, 0.022620102390646935, 0.01819228194653988, 0.02185117080807686, 0.012518538162112236, 0.019214099273085594, 0.030340095981955528, 0.07187618315219879, 0.020788012072443962, 0.03963524475693703, 0.061515919864177704, 0.023179279640316963, 0.04398046433925629, 0.04619220644235611, 0.02066798508167267, 0.02708088979125023, 0.04386551305651665, 0.032767411321401596, 0.043690674006938934, 0.05080842226743698, 0.04029492661356926, 0.025562996044754982, 0.0, 0.0, 0.0, 0.0, 0.0, 0.0], [0.015084563754498959, 0.0038223827723413706, 0.005877263378351927, 0.0049718520604074, 0.005370152648538351, 0.05223645269870758, 0.016127677634358406, 0.03182990103960037, 0.00821112934499979, 0.011473821476101875, 0.06704682856798172, 0.010528387501835823, 0.010598229244351387, 0.07938901335000992, 0.007211728487163782, 0.00627146614715457, 0.09142367541790009, 0.10866506397724152, 0.003973815124481916, 0.005621671210974455, 0.1098332554101944, 0.09237760305404663, 0.022960498929023743, 0.01931491307914257, 0.08864133805036545, 0.018464703112840652, 0.011022249236702919, 0.09165037423372269, 0.0, 0.0, 0.0, 0.0, 0.0], [0.09854131937026978, 0.03967058286070824, 0.05052144452929497, 0.04794393479824066, 0.019531885161995888, 0.015683414414525032, 0.025074752047657967, 0.014997920952737331, 0.027723446488380432, 0.016418179497122765, 0.016389025375247, 0.02631656639277935, 0.03435926139354706, 0.01775800809264183, 0.023362688720226288, 0.03763514384627342, 0.019405590370297432, 0.034421682357788086, 0.049022968858480453, 0.03019052930176258, 0.022159067913889885, 0.037540681660175323, 0.038793161511421204, 0.0403241366147995, 0.04231260344386101, 0.06829196214675903, 0.02531411498785019, 0.043300729244947433, 0.03699520602822304, 0.0, 0.0, 0.0, 0.0], [0.10688819736242294, 0.036595750600099564, 0.005083093419671059, 0.01016042847186327, 0.013297360390424728, 0.04175209626555443, 0.026246797293424606, 0.03012857958674431, 0.013482396490871906, 0.018223188817501068, 0.04582623392343521, 0.025558779016137123, 0.015618829987943172, 0.050398971885442734, 0.011657018214464188, 0.01165913138538599, 0.05515514314174652, 0.050916630774736404, 0.019206790253520012, 0.013998405076563358, 0.06383471935987473, 0.029088910669088364, 0.01671043410897255, 0.026095261797308922, 0.05484984070062637, 0.03806674852967262, 0.03896070644259453, 0.05375232174992561, 0.023679161444306374, 0.0531080923974514, 0.0, 0.0, 0.0], [0.10871608555316925, 0.06286416947841644, 0.023045089095830917, 0.01249321922659874, 0.009688266552984715, 0.02372078038752079, 0.025617357343435287, 0.02828287146985531, 0.019523106515407562, 0.015187137760221958, 0.024615762755274773, 0.018855800852179527, 0.013071921654045582, 0.025697477161884308, 0.010639798827469349, 0.007336432579904795, 0.028488242998719215, 0.04087512195110321, 0.023693926632404327, 0.02846081182360649, 0.03178112953901291, 0.03399211913347244, 0.01690450869500637, 0.04699752479791641, 0.054809197783470154, 0.06048169732093811, 0.021137800067663193, 0.051477719098329544, 0.01530433353036642, 0.07868862897157669, 0.03755194693803787, 0.0, 0.0], [0.16510626673698425, 0.013307330198585987, 0.02282031811773777, 0.032224979251623154, 0.028327815234661102, 0.01191212423145771, 0.021759115159511566, 0.012591324746608734, 0.025371329858899117, 0.01592349074780941, 0.011745055206120014, 0.02134016901254654, 0.022658515721559525, 0.012097012251615524, 0.058773912489414215, 0.04114295914769173, 0.012866130098700523, 0.02189670316874981, 0.027385732159018517, 0.015412721782922745, 0.01482225488871336, 0.013198774307966232, 0.029060123488307, 0.040313027799129486, 0.02303692139685154, 0.05035792291164398, 0.04650066792964935, 0.03221072629094124, 0.04574134573340416, 0.011448158882558346, 0.051484812051057816, 0.04716220870614052, 0.0], [0.01986273191869259, 0.0006941384053789079, 0.0017670650267973542, 0.0019038203172385693, 0.0023115770891308784, 0.05924388766288757, 0.005164950154721737, 0.008714549243450165, 0.0024906673934310675, 0.0030579601880162954, 0.07585156708955765, 0.0023905516136437654, 0.00317734875716269, 0.08945118635892868, 0.0030652976129204035, 0.0016209152527153492, 0.10312023013830185, 0.06259161978960037, 0.0020582948345690966, 0.002232219325378537, 0.12742045521736145, 0.024703871458768845, 0.0035101957619190216, 0.004994175396859646, 0.02831709384918213, 0.005874201189726591, 0.006215325091034174, 0.03686564788222313, 0.005438110325485468, 0.0040618646889925, 0.004735515918582678, 0.0045343805104494095, 0.29255858063697815]], [[1.0, 0.0, 0.0, 0.0, 0.0, 0.0, 0.0, 0.0, 0.0, 0.0, 0.0, 0.0, 0.0, 0.0, 0.0, 0.0, 0.0, 0.0, 0.0, 0.0, 0.0, 0.0, 0.0, 0.0, 0.0, 0.0, 0.0, 0.0, 0.0, 0.0, 0.0, 0.0, 0.0], [0.9726406335830688, 0.027359358966350555, 0.0, 0.0, 0.0, 0.0, 0.0, 0.0, 0.0, 0.0, 0.0, 0.0, 0.0, 0.0, 0.0, 0.0, 0.0, 0.0, 0.0, 0.0, 0.0, 0.0, 0.0, 0.0, 0.0, 0.0, 0.0, 0.0, 0.0, 0.0, 0.0, 0.0, 0.0], [0.8850566744804382, 0.08160649985074997, 0.033336833119392395, 0.0, 0.0, 0.0, 0.0, 0.0, 0.0, 0.0, 0.0, 0.0, 0.0, 0.0, 0.0, 0.0, 0.0, 0.0, 0.0, 0.0, 0.0, 0.0, 0.0, 0.0, 0.0, 0.0, 0.0, 0.0, 0.0, 0.0, 0.0, 0.0, 0.0], [0.7844979166984558, 0.09046003222465515, 0.1072097048163414, 0.017832346260547638, 0.0, 0.0, 0.0, 0.0, 0.0, 0.0, 0.0, 0.0, 0.0, 0.0, 0.0, 0.0, 0.0, 0.0, 0.0, 0.0, 0.0, 0.0, 0.0, 0.0, 0.0, 0.0, 0.0, 0.0, 0.0, 0.0, 0.0, 0.0, 0.0], [0.6679065227508545, 0.10135103017091751, 0.10997922718524933, 0.0699087604880333, 0.05085451155900955, 0.0, 0.0, 0.0, 0.0, 0.0, 0.0, 0.0, 0.0, 0.0, 0.0, 0.0, 0.0, 0.0, 0.0, 0.0, 0.0, 0.0, 0.0, 0.0, 0.0, 0.0, 0.0, 0.0, 0.0, 0.0, 0.0, 0.0, 0.0], [0.5862791538238525, 0.06960926949977875, 0.06798022240400314, 0.06058965250849724, 0.08339767903089523, 0.1321440190076828, 0.0, 0.0, 0.0, 0.0, 0.0, 0.0, 0.0, 0.0, 0.0, 0.0, 0.0, 0.0, 0.0, 0.0, 0.0, 0.0, 0.0, 0.0, 0.0, 0.0, 0.0, 0.0, 0.0, 0.0, 0.0, 0.0, 0.0], [0.5015712380409241, 0.06227874383330345, 0.07209989428520203, 0.055909186601638794, 0.08146874606609344, 0.12033163756132126, 0.10634060949087143, 0.0, 0.0, 0.0, 0.0, 0.0, 0.0, 0.0, 0.0, 0.0, 0.0, 0.0, 0.0, 0.0, 0.0, 0.0, 0.0, 0.0, 0.0, 0.0, 0.0, 0.0, 0.0, 0.0, 0.0, 0.0, 0.0], [0.4001610577106476, 0.055253997445106506, 0.06347684562206268, 0.05413787439465523, 0.07119617611169815, 0.11230526119470596, 0.12489718943834305, 0.11857163906097412, 0.0, 0.0, 0.0, 0.0, 0.0, 0.0, 0.0, 0.0, 0.0, 0.0, 0.0, 0.0, 0.0, 0.0, 0.0, 0.0, 0.0, 0.0, 0.0, 0.0, 0.0, 0.0, 0.0, 0.0, 0.0], [0.4018533229827881, 0.08579418063163757, 0.0564488060772419, 0.0718112587928772, 0.08318911492824554, 0.07845644652843475, 0.09191882610321045, 0.0776887983083725, 0.05283930152654648, 0.0, 0.0, 0.0, 0.0, 0.0, 0.0, 0.0, 0.0, 0.0, 0.0, 0.0, 0.0, 0.0, 0.0, 0.0, 0.0, 0.0, 0.0, 0.0, 0.0, 0.0, 0.0, 0.0, 0.0], [0.38271602988243103, 0.07976950705051422, 0.062077492475509644, 0.06360233575105667, 0.08211024850606918, 0.07804950326681137, 0.08597435057163239, 0.07506486028432846, 0.0632784441113472, 0.02735722064971924, 0.0, 0.0, 0.0, 0.0, 0.0, 0.0, 0.0, 0.0, 0.0, 0.0, 0.0, 0.0, 0.0, 0.0, 0.0, 0.0, 0.0, 0.0, 0.0, 0.0, 0.0, 0.0, 0.0], [0.3404167890548706, 0.04535197466611862, 0.04658909887075424, 0.0403917171061039, 0.054890431463718414, 0.08179005235433578, 0.08906514197587967, 0.09645894169807434, 0.05564971640706062, 0.06398676335811615, 0.08540939539670944, 0.0, 0.0, 0.0, 0.0, 0.0, 0.0, 0.0, 0.0, 0.0, 0.0, 0.0, 0.0, 0.0, 0.0, 0.0, 0.0, 0.0, 0.0, 0.0, 0.0, 0.0, 0.0], [0.31186196208000183, 0.09539997577667236, 0.07292008399963379, 0.06976877897977829, 0.07777831703424454, 0.0673503652215004, 0.061614032834768295, 0.054810747504234314, 0.052520137280225754, 0.05022518336772919, 0.07299347221851349, 0.012756960466504097, 0.0, 0.0, 0.0, 0.0, 0.0, 0.0, 0.0, 0.0, 0.0, 0.0, 0.0, 0.0, 0.0, 0.0, 0.0, 0.0, 0.0, 0.0, 0.0, 0.0, 0.0], [0.36652860045433044, 0.06308674067258835, 0.03947843238711357, 0.04609527066349983, 0.05740752071142197, 0.06348332017660141, 0.052384618669748306, 0.0550161674618721, 0.04584015533328056, 0.06228692829608917, 0.0658990815281868, 0.05806360021233559, 0.024429505690932274, 0.0, 0.0, 0.0, 0.0, 0.0, 0.0, 0.0, 0.0, 0.0, 0.0, 0.0, 0.0, 0.0, 0.0, 0.0, 0.0, 0.0, 0.0, 0.0, 0.0], [0.28564441204071045, 0.038040272891521454, 0.03942388296127319, 0.034238629043102264, 0.0463939793407917, 0.06771659851074219, 0.07328072935342789, 0.07855432480573654, 0.04789663478732109, 0.05593652278184891, 0.07124947011470795, 0.03568924590945244, 0.049560435116291046, 0.07637481391429901, 0.0, 0.0, 0.0, 0.0, 0.0, 0.0, 0.0, 0.0, 0.0, 0.0, 0.0, 0.0, 0.0, 0.0, 0.0, 0.0, 0.0, 0.0, 0.0], [0.2977543771266937, 0.05259547382593155, 0.04347938299179077, 0.0584586001932621, 0.04568728432059288, 0.052594032138586044, 0.044561967253685, 0.045974720269441605, 0.0631614625453949, 0.0776875838637352, 0.054991427809000015, 0.03466471657156944, 0.05020098760724068, 0.058861441910266876, 0.019326545298099518, 0.0, 0.0, 0.0, 0.0, 0.0, 0.0, 0.0, 0.0, 0.0, 0.0, 0.0, 0.0, 0.0, 0.0, 0.0, 0.0, 0.0, 0.0], [0.28853145241737366, 0.04616911709308624, 0.028233062475919724, 0.03824241831898689, 0.04330622777342796, 0.05174914002418518, 0.043182745575904846, 0.04393119364976883, 0.05616341903805733, 0.06773824989795685, 0.05490175634622574, 0.0813930407166481, 0.043256912380456924, 0.05904814600944519, 0.039899036288261414, 0.0142540717497468, 0.0, 0.0, 0.0, 0.0, 0.0, 0.0, 0.0, 0.0, 0.0, 0.0, 0.0, 0.0, 0.0, 0.0, 0.0, 0.0, 0.0], [0.23721370100975037, 0.031615812331438065, 0.03324563428759575, 0.02923193946480751, 0.038618117570877075, 0.05549164488911629, 0.059664975851774216, 0.06321783363819122, 0.04073699191212654, 0.047526754438877106, 0.05837823823094368, 0.03039967082440853, 0.04287157207727432, 0.06284617632627487, 0.053212910890579224, 0.04736895486712456, 0.06835900992155075, 0.0, 0.0, 0.0, 0.0, 0.0, 0.0, 0.0, 0.0, 0.0, 0.0, 0.0, 0.0, 0.0, 0.0, 0.0, 0.0], [0.20986966788768768, 0.027291269972920418, 0.03115660697221756, 0.02661501057446003, 0.03165113553404808, 0.05273224040865898, 0.05274500325322151, 0.05635901913046837, 0.040765468031167984, 0.04278237745165825, 0.05619123950600624, 0.0306782815605402, 0.04398961365222931, 0.060914747416973114, 0.05013696476817131, 0.04157315939664841, 0.06652860343456268, 0.07801957428455353, 0.0, 0.0, 0.0, 0.0, 0.0, 0.0, 0.0, 0.0, 0.0, 0.0, 0.0, 0.0, 0.0, 0.0, 0.0], [0.23853828012943268, 0.044145841151475906, 0.046435046941041946, 0.0345127172768116, 0.0357217937707901, 0.04369328171014786, 0.04304973781108856, 0.03498826548457146, 0.04371806979179382, 0.0395219624042511, 0.044578514993190765, 0.024599455296993256, 0.0625118613243103, 0.04753483831882477, 0.04375606030225754, 0.04995931312441826, 0.05090802535414696, 0.052662432193756104, 0.019164474681019783, 0.0, 0.0, 0.0, 0.0, 0.0, 0.0, 0.0, 0.0, 0.0, 0.0, 0.0, 0.0, 0.0, 0.0], [0.17729148268699646, 0.04221462085843086, 0.030818717554211617, 0.030886095017194748, 0.03386848047375679, 0.04521186649799347, 0.04290100187063217, 0.03221559897065163, 0.040188632905483246, 0.04926899075508118, 0.04801623150706291, 0.03814245015382767, 0.051265131682157516, 0.052068449556827545, 0.04744119197130203, 0.039245329797267914, 0.05630474165081978, 0.05462944135069847, 0.0599186010658741, 0.028102941811084747, 0.0, 0.0, 0.0, 0.0, 0.0, 0.0, 0.0, 0.0, 0.0, 0.0, 0.0, 0.0, 0.0], [0.19048288464546204, 0.025203494355082512, 0.026787450537085533, 0.023672686889767647, 0.03110402263700962, 0.043453413993120193, 0.0464932881295681, 0.04820645600557327, 0.03323276713490486, 0.03892752528190613, 0.04549148306250572, 0.024442745372653008, 0.03570156544446945, 0.04907767474651337, 0.043035656213760376, 0.039055630564689636, 0.05371743440628052, 0.06658961623907089, 0.043208230286836624, 0.031764693558216095, 0.060351256281137466, 0.0, 0.0, 0.0, 0.0, 0.0, 0.0, 0.0, 0.0, 0.0, 0.0, 0.0, 0.0], [0.14975367486476898, 0.023474572226405144, 0.02550838328897953, 0.02894243784248829, 0.03517157956957817, 0.0388018861413002, 0.04594278708100319, 0.03962728753685951, 0.03708780184388161, 0.03872300684452057, 0.04190719872713089, 0.021688055247068405, 0.04328254982829094, 0.04592542722821236, 0.03893953934311867, 0.040076110512018204, 0.05060018599033356, 0.06083054468035698, 0.04372159019112587, 0.03023522160947323, 0.057286132127046585, 0.06247400864958763, 0.0, 0.0, 0.0, 0.0, 0.0, 0.0, 0.0, 0.0, 0.0, 0.0, 0.0], [0.17513413727283478, 0.027519281953573227, 0.02951400727033615, 0.02071533538401127, 0.026873508468270302, 0.03454611450433731, 0.03853078559041023, 0.03303780406713486, 0.04181556776165962, 0.04010028392076492, 0.03696894645690918, 0.030468935146927834, 0.039953965693712234, 0.040237050503492355, 0.0448261983692646, 0.037082646042108536, 0.04420142620801926, 0.049310408532619476, 0.04125744849443436, 0.028610682114958763, 0.04997344687581062, 0.052692826837301254, 0.03662918135523796, 0.0, 0.0, 0.0, 0.0, 0.0, 0.0, 0.0, 0.0, 0.0, 0.0], [0.1328599601984024, 0.04070805385708809, 0.04111678525805473, 0.034844256937503815, 0.04087604209780693, 0.027567202225327492, 0.028293689712882042, 0.022520428523421288, 0.0387541726231575, 0.040378037840127945, 0.029089421033859253, 0.02960922382771969, 0.056701142340898514, 0.031181883066892624, 0.037661194801330566, 0.05688638240098953, 0.033967070281505585, 0.03781306743621826, 0.04951411485671997, 0.03194557502865791, 0.03759905323386192, 0.043266359716653824, 0.043056681752204895, 0.03379024192690849, 0.0, 0.0, 0.0, 0.0, 0.0, 0.0, 0.0, 0.0, 0.0], [0.14709369838237762, 0.018218714743852615, 0.02214360609650612, 0.02162138745188713, 0.027072899043560028, 0.0338541679084301, 0.03787611052393913, 0.03801963850855827, 0.027932513505220413, 0.030901852995157242, 0.03606923669576645, 0.019023139029741287, 0.034658003598451614, 0.039169877767562866, 0.0337555892765522, 0.026136619970202446, 0.04297829419374466, 0.053137458860874176, 0.03463505953550339, 0.02014029026031494, 0.04878360033035278, 0.04990800842642784, 0.04624389857053757, 0.04715672507882118, 0.06346958875656128, 0.0, 0.0, 0.0, 0.0, 0.0, 0.0, 0.0, 0.0], [0.17602789402008057, 0.014882158488035202, 0.026751164346933365, 0.024088062345981598, 0.03566749393939972, 0.02709428407251835, 0.02498423494398594, 0.02147187478840351, 0.02635939233005047, 0.023845119401812553, 0.027566980570554733, 0.016869541257619858, 0.07777430862188339, 0.029109224677085876, 0.04799698293209076, 0.02900249883532524, 0.03132334351539612, 0.03615599125623703, 0.03959561511874199, 0.01700800471007824, 0.03483906388282776, 0.03443719074130058, 0.041492197662591934, 0.09124383330345154, 0.0405229814350605, 0.0038906007539480925, 0.0, 0.0, 0.0, 0.0, 0.0, 0.0, 0.0], [0.18501748144626617, 0.027787018567323685, 0.02509763278067112, 0.027018992230296135, 0.029199210926890373, 0.030337022617459297, 0.03222177177667618, 0.023015081882476807, 0.0267928633838892, 0.022793864831328392, 0.03067484311759472, 0.021220844238996506, 0.053888071328401566, 0.032593030482530594, 0.03073764592409134, 0.02572525106370449, 0.034866031259298325, 0.03793584555387497, 0.028672007843852043, 0.02614896185696125, 0.03875335305929184, 0.0417950376868248, 0.03863157331943512, 0.05337154492735863, 0.03982073441147804, 0.02571161650121212, 0.010172724723815918, 0.0, 0.0, 0.0, 0.0, 0.0, 0.0], [0.12446332722902298, 0.016768908128142357, 0.020105106756091118, 0.019267044961452484, 0.024457810446619987, 0.030203336849808693, 0.031273916363716125, 0.032546062022447586, 0.023186005651950836, 0.023508405312895775, 0.0317331962287426, 0.0170805212110281, 0.029082057997584343, 0.03428218513727188, 0.0357913002371788, 0.025820551440119743, 0.03753114119172096, 0.04618249088525772, 0.029500000178813934, 0.017913801595568657, 0.04274730384349823, 0.0424346886575222, 0.03900238499045372, 0.04141835868358612, 0.05949500948190689, 0.03595735505223274, 0.03098486177623272, 0.0572628490626812, 0.0, 0.0, 0.0, 0.0, 0.0], [0.14491018652915955, 0.025843987241387367, 0.031176967546343803, 0.019462740048766136, 0.012575733475387096, 0.02527458779513836, 0.02202068641781807, 0.021267293021082878, 0.03165540099143982, 0.027664171531796455, 0.026251578703522682, 0.02209104597568512, 0.038517940789461136, 0.028266895562410355, 0.028877610340714455, 0.036865368485450745, 0.030699942260980606, 0.03204505145549774, 0.03411628678441048, 0.02035539783537388, 0.03446315601468086, 0.03542865067720413, 0.03072839230298996, 0.044418953359127045, 0.037935979664325714, 0.057348672300577164, 0.03889697790145874, 0.041112083941698074, 0.019728193059563637, 0.0, 0.0, 0.0, 0.0], [0.1316843330860138, 0.025460120290517807, 0.027962403371930122, 0.02410982921719551, 0.016868820413947105, 0.03140677511692047, 0.023247335106134415, 0.02207169495522976, 0.027362510561943054, 0.026370486244559288, 0.03204535320401192, 0.02877582423388958, 0.04614199325442314, 0.03455979749560356, 0.031321097165346146, 0.02943774126470089, 0.037490662187337875, 0.03597424179315567, 0.030671004205942154, 0.026778332889080048, 0.04166236147284508, 0.03274397924542427, 0.030348777770996094, 0.03265198692679405, 0.03805648535490036, 0.03457561880350113, 0.02293611690402031, 0.03690328449010849, 0.025966180488467216, 0.014414898119866848, 0.0, 0.0, 0.0], [0.1656370609998703, 0.022809242829680443, 0.029107756912708282, 0.024944663047790527, 0.024352876469492912, 0.02503182925283909, 0.018486661836504936, 0.018573671579360962, 0.02844364382326603, 0.029199935495853424, 0.0253182090818882, 0.0322050079703331, 0.025753285735845566, 0.026890521869063377, 0.03127395361661911, 0.0330515094101429, 0.028835449367761612, 0.029910437762737274, 0.0275588221848011, 0.024624647572636604, 0.0320536270737648, 0.02649375982582569, 0.021709594875574112, 0.031640149652957916, 0.03707476705312729, 0.04799467325210571, 0.027932148426771164, 0.034756116569042206, 0.03804945573210716, 0.021535685285925865, 0.00875084288418293, 0.0, 0.0], [0.16794219613075256, 0.025983480736613274, 0.03222337365150452, 0.019469385966658592, 0.023735277354717255, 0.023115726187825203, 0.0199736300855875, 0.016550233587622643, 0.0297967828810215, 0.028494665399193764, 0.023108847439289093, 0.022087078541517258, 0.04216555505990982, 0.024390196427702904, 0.02074914053082466, 0.038735877722501755, 0.02626977674663067, 0.0272891353815794, 0.01961739920079708, 0.02024286426603794, 0.02920321561396122, 0.030413353815674782, 0.025762612000107765, 0.040849827229976654, 0.03332662954926491, 0.02179531194269657, 0.026310518383979797, 0.031013483181595802, 0.0368925966322422, 0.01937716081738472, 0.04355606064200401, 0.009558655321598053, 0.0], [0.11396830528974533, 0.017752880230545998, 0.01606195606291294, 0.015585056506097317, 0.01839611679315567, 0.02436707727611065, 0.02605387195944786, 0.023999111726880074, 0.021919481456279755, 0.02625112235546112, 0.024730537086725235, 0.01532302051782608, 0.02561456710100174, 0.026337886229157448, 0.024982869625091553, 0.024642622098326683, 0.028590304777026176, 0.03295152261853218, 0.02756860852241516, 0.01848755031824112, 0.032208506017923355, 0.03191469609737396, 0.036307238042354584, 0.034154012799263, 0.036785587668418884, 0.03297771140933037, 0.026278896257281303, 0.03809891641139984, 0.029801955446600914, 0.018183251842856407, 0.03632068634033203, 0.03568093478679657, 0.05770309269428253]], [[1.0, 0.0, 0.0, 0.0, 0.0, 0.0, 0.0, 0.0, 0.0, 0.0, 0.0, 0.0, 0.0, 0.0, 0.0, 0.0, 0.0, 0.0, 0.0, 0.0, 0.0, 0.0, 0.0, 0.0, 0.0, 0.0, 0.0, 0.0, 0.0, 0.0, 0.0, 0.0, 0.0], [0.8058415055274963, 0.19415846467018127, 0.0, 0.0, 0.0, 0.0, 0.0, 0.0, 0.0, 0.0, 0.0, 0.0, 0.0, 0.0, 0.0, 0.0, 0.0, 0.0, 0.0, 0.0, 0.0, 0.0, 0.0, 0.0, 0.0, 0.0, 0.0, 0.0, 0.0, 0.0, 0.0, 0.0, 0.0], [0.6373865604400635, 0.09672047197818756, 0.2658929228782654, 0.0, 0.0, 0.0, 0.0, 0.0, 0.0, 0.0, 0.0, 0.0, 0.0, 0.0, 0.0, 0.0, 0.0, 0.0, 0.0, 0.0, 0.0, 0.0, 0.0, 0.0, 0.0, 0.0, 0.0, 0.0, 0.0, 0.0, 0.0, 0.0, 0.0], [0.5870267748832703, 0.0992271900177002, 0.07913827151060104, 0.23460781574249268, 0.0, 0.0, 0.0, 0.0, 0.0, 0.0, 0.0, 0.0, 0.0, 0.0, 0.0, 0.0, 0.0, 0.0, 0.0, 0.0, 0.0, 0.0, 0.0, 0.0, 0.0, 0.0, 0.0, 0.0, 0.0, 0.0, 0.0, 0.0, 0.0], [0.4194737672805786, 0.06312592327594757, 0.08123067021369934, 0.08381503075361252, 0.35235464572906494, 0.0, 0.0, 0.0, 0.0, 0.0, 0.0, 0.0, 0.0, 0.0, 0.0, 0.0, 0.0, 0.0, 0.0, 0.0, 0.0, 0.0, 0.0, 0.0, 0.0, 0.0, 0.0, 0.0, 0.0, 0.0, 0.0, 0.0, 0.0], [0.5308531522750854, 0.0959072932600975, 0.07779338955879211, 0.0666154995560646, 0.07293295860290527, 0.15589767694473267, 0.0, 0.0, 0.0, 0.0, 0.0, 0.0, 0.0, 0.0, 0.0, 0.0, 0.0, 0.0, 0.0, 0.0, 0.0, 0.0, 0.0, 0.0, 0.0, 0.0, 0.0, 0.0, 0.0, 0.0, 0.0, 0.0, 0.0], [0.38503074645996094, 0.0747808963060379, 0.06978145986795425, 0.04760652035474777, 0.05144915357232094, 0.08776704221963882, 0.2835841476917267, 0.0, 0.0, 0.0, 0.0, 0.0, 0.0, 0.0, 0.0, 0.0, 0.0, 0.0, 0.0, 0.0, 0.0, 0.0, 0.0, 0.0, 0.0, 0.0, 0.0, 0.0, 0.0, 0.0, 0.0, 0.0, 0.0], [0.296295702457428, 0.05328267812728882, 0.06944748759269714, 0.040975477546453476, 0.06660830974578857, 0.1021856740117073, 0.10869503766298294, 0.26250967383384705, 0.0, 0.0, 0.0, 0.0, 0.0, 0.0, 0.0, 0.0, 0.0, 0.0, 0.0, 0.0, 0.0, 0.0, 0.0, 0.0, 0.0, 0.0, 0.0, 0.0, 0.0, 0.0, 0.0, 0.0, 0.0], [0.304749995470047, 0.06337984651327133, 0.057534221559762955, 0.040577203035354614, 0.07300140708684921, 0.07375829666852951, 0.07239890098571777, 0.05693605914711952, 0.2576640844345093, 0.0, 0.0, 0.0, 0.0, 0.0, 0.0, 0.0, 0.0, 0.0, 0.0, 0.0, 0.0, 0.0, 0.0, 0.0, 0.0, 0.0, 0.0, 0.0, 0.0, 0.0, 0.0, 0.0, 0.0], [0.29880765080451965, 0.05552824214100838, 0.05443597584962845, 0.05285302922129631, 0.06568751484155655, 0.07554222643375397, 0.06968103349208832, 0.05411388725042343, 0.09120789915323257, 0.18214257061481476, 0.0, 0.0, 0.0, 0.0, 0.0, 0.0, 0.0, 0.0, 0.0, 0.0, 0.0, 0.0, 0.0, 0.0, 0.0, 0.0, 0.0, 0.0, 0.0, 0.0, 0.0, 0.0, 0.0], [0.26933014392852783, 0.0635242909193039, 0.05952121689915657, 0.052424702793359756, 0.060521576553583145, 0.12185832113027573, 0.07608655095100403, 0.09753073006868362, 0.042326074093580246, 0.05058326572179794, 0.10629311949014664, 0.0, 0.0, 0.0, 0.0, 0.0, 0.0, 0.0, 0.0, 0.0, 0.0, 0.0, 0.0, 0.0, 0.0, 0.0, 0.0, 0.0, 0.0, 0.0, 0.0, 0.0, 0.0], [0.22074295580387115, 0.06960076838731766, 0.048723459243774414, 0.06675717234611511, 0.06954210251569748, 0.06483788043260574, 0.04652373865246773, 0.03930085152387619, 0.018016092479228973, 0.0358063168823719, 0.05302288383245468, 0.26712578535079956, 0.0, 0.0, 0.0, 0.0, 0.0, 0.0, 0.0, 0.0, 0.0, 0.0, 0.0, 0.0, 0.0, 0.0, 0.0, 0.0, 0.0, 0.0, 0.0, 0.0, 0.0], [0.1508006751537323, 0.047324735671281815, 0.12551116943359375, 0.06240081787109375, 0.05354631319642067, 0.055783938616514206, 0.04542611911892891, 0.03888599947094917, 0.030199814587831497, 0.03337055817246437, 0.04645954817533493, 0.023437922820448875, 0.2868523895740509, 0.0, 0.0, 0.0, 0.0, 0.0, 0.0, 0.0, 0.0, 0.0, 0.0, 0.0, 0.0, 0.0, 0.0, 0.0, 0.0, 0.0, 0.0, 0.0, 0.0], [0.2044883519411087, 0.04972049966454506, 0.048385463654994965, 0.04385359212756157, 0.05115719884634018, 0.1007489264011383, 0.06420683115720749, 0.08302562683820724, 0.03880453109741211, 0.04795774444937706, 0.09582382440567017, 0.032397009432315826, 0.04441104456782341, 0.0950193777680397, 0.0, 0.0, 0.0, 0.0, 0.0, 0.0, 0.0, 0.0, 0.0, 0.0, 0.0, 0.0, 0.0, 0.0, 0.0, 0.0, 0.0, 0.0, 0.0], [0.1623673290014267, 0.028519168496131897, 0.0478430837392807, 0.041354816406965256, 0.040284883230924606, 0.0520053505897522, 0.04226507246494293, 0.03821168839931488, 0.05986882373690605, 0.06849399209022522, 0.04734279587864876, 0.019715171307325363, 0.06202227622270584, 0.045721933245658875, 0.24398362636566162, 0.0, 0.0, 0.0, 0.0, 0.0, 0.0, 0.0, 0.0, 0.0, 0.0, 0.0, 0.0, 0.0, 0.0, 0.0, 0.0, 0.0, 0.0], [0.1312893033027649, 0.03962809965014458, 0.05951938405632973, 0.039663221687078476, 0.04406354948878288, 0.04348495602607727, 0.03726547211408615, 0.03240035101771355, 0.037205737084150314, 0.06481602042913437, 0.040474534034729004, 0.025914229452610016, 0.06507594883441925, 0.03922511637210846, 0.07744196057319641, 0.22253213822841644, 0.0, 0.0, 0.0, 0.0, 0.0, 0.0, 0.0, 0.0, 0.0, 0.0, 0.0, 0.0, 0.0, 0.0, 0.0, 0.0, 0.0], [0.1581333875656128, 0.039112504571676254, 0.03856495022773743, 0.03587968647480011, 0.04187793657183647, 0.08161003142595291, 0.052458055317401886, 0.0681268498301506, 0.03444806858897209, 0.04342751204967499, 0.08275996893644333, 0.02933339774608612, 0.04157378152012825, 0.08478687703609467, 0.048816002905368805, 0.03235284611582756, 0.08673815429210663, 0.0, 0.0, 0.0, 0.0, 0.0, 0.0, 0.0, 0.0, 0.0, 0.0, 0.0, 0.0, 0.0, 0.0, 0.0, 0.0], [0.13890594244003296, 0.03169632330536842, 0.03251555934548378, 0.035388994961977005, 0.038000330328941345, 0.06974424421787262, 0.05942453444004059, 0.06768239289522171, 0.027843812480568886, 0.039054661989212036, 0.07273105531930923, 0.030109873041510582, 0.04163092374801636, 0.07565011084079742, 0.04018832743167877, 0.0274836216121912, 0.07795906811952591, 0.09399019181728363, 0.0, 0.0, 0.0, 0.0, 0.0, 0.0, 0.0, 0.0, 0.0, 0.0, 0.0, 0.0, 0.0, 0.0, 0.0], [0.09691289067268372, 0.03068731352686882, 0.03081795573234558, 0.04473432898521423, 0.04171942546963692, 0.03603677079081535, 0.041017044335603714, 0.03210476040840149, 0.043440625071525574, 0.04885554686188698, 0.034579019993543625, 0.01602509431540966, 0.04994164779782295, 0.0346352718770504, 0.06065687537193298, 0.03497789055109024, 0.03454343229532242, 0.037827927619218826, 0.25048622488975525, 0.0, 0.0, 0.0, 0.0, 0.0, 0.0, 0.0, 0.0, 0.0, 0.0, 0.0, 0.0, 0.0, 0.0], [0.12059212476015091, 0.04121064394712448, 0.0509851835668087, 0.05289152264595032, 0.028861302882432938, 0.04706200584769249, 0.029212839901447296, 0.03817001357674599, 0.021046485751867294, 0.029787810519337654, 0.044067222625017166, 0.02650335058569908, 0.041270043700933456, 0.044307366013526917, 0.030801553279161453, 0.04064902663230896, 0.04474510997533798, 0.042122453451156616, 0.028442274779081345, 0.1972716897726059, 0.0, 0.0, 0.0, 0.0, 0.0, 0.0, 0.0, 0.0, 0.0, 0.0, 0.0, 0.0, 0.0], [0.11388304829597473, 0.028255390003323555, 0.02835129201412201, 0.026958663016557693, 0.03131086379289627, 0.05977548286318779, 0.0391821525990963, 0.05072040855884552, 0.02768401801586151, 0.03556422144174576, 0.06452133506536484, 0.024267084896564484, 0.03616493567824364, 0.06838168203830719, 0.04139301925897598, 0.029094643890857697, 0.072300486266613, 0.07349380105733871, 0.037000201642513275, 0.0352863147854805, 0.0764109417796135, 0.0, 0.0, 0.0, 0.0, 0.0, 0.0, 0.0, 0.0, 0.0, 0.0, 0.0, 0.0], [0.08453850448131561, 0.017416605725884438, 0.018949143588542938, 0.016560642048716545, 0.022296126931905746, 0.04174061492085457, 0.058948636054992676, 0.03893361613154411, 0.030214648693799973, 0.03464233875274658, 0.0483190156519413, 0.016358423978090286, 0.02567455731332302, 0.053096748888492584, 0.020546531304717064, 0.02046983502805233, 0.05704640597105026, 0.06604910641908646, 0.037746451795101166, 0.021413875743746758, 0.06129929795861244, 0.2077389359474182, 0.0, 0.0, 0.0, 0.0, 0.0, 0.0, 0.0, 0.0, 0.0, 0.0, 0.0], [0.1124843880534172, 0.024394841864705086, 0.024523144587874413, 0.027489550411701202, 0.026104668155312538, 0.03731505572795868, 0.06748531013727188, 0.038903750479221344, 0.017981436103582382, 0.028454389423131943, 0.03756532073020935, 0.018326066434383392, 0.020088650286197662, 0.03865170106291771, 0.023285651579499245, 0.024226615205407143, 0.03960611671209335, 0.04833188280463219, 0.045000940561294556, 0.017362145707011223, 0.04009139537811279, 0.05208287388086319, 0.19024404883384705, 0.0, 0.0, 0.0, 0.0, 0.0, 0.0, 0.0, 0.0, 0.0, 0.0], [0.08183357864618301, 0.019828451797366142, 0.026873398572206497, 0.029252568259835243, 0.025184443220496178, 0.03192772716283798, 0.029049796983599663, 0.024972524493932724, 0.033506255596876144, 0.040074288845062256, 0.033517319709062576, 0.016035983338952065, 0.03204454854130745, 0.03448064625263214, 0.028517095372080803, 0.03532731160521507, 0.03583228215575218, 0.040583960711956024, 0.029941102489829063, 0.021097924560308456, 0.036713290959596634, 0.03921259194612503, 0.03543240949511528, 0.2387605458498001, 0.0, 0.0, 0.0, 0.0, 0.0, 0.0, 0.0, 0.0, 0.0], [0.10145693272352219, 0.014237044379115105, 0.016984175890684128, 0.018636571243405342, 0.028536250814795494, 0.036538030952215195, 0.02957051619887352, 0.04198319837450981, 0.014166041277348995, 0.030081406235694885, 0.04016641154885292, 0.020075028762221336, 0.030370112508535385, 0.04353442043066025, 0.030393032357096672, 0.02071734517812729, 0.0467711016535759, 0.0549510195851326, 0.02880917489528656, 0.020043693482875824, 0.050925444811582565, 0.04084466025233269, 0.041858021169900894, 0.03848978132009506, 0.15986062586307526, 0.0, 0.0, 0.0, 0.0, 0.0, 0.0, 0.0, 0.0], [0.07937925308942795, 0.020674318075180054, 0.020799752324819565, 0.027988232672214508, 0.04565475136041641, 0.02656259387731552, 0.025396713986992836, 0.021243257448077202, 0.017763804644346237, 0.02520064450800419, 0.027576468884944916, 0.030607089400291443, 0.034379992634058, 0.028568314388394356, 0.022726934403181076, 0.01605195924639702, 0.0297127403318882, 0.032761793583631516, 0.025702400133013725, 0.012878884561359882, 0.03062613308429718, 0.020369650796055794, 0.037413906306028366, 0.027850378304719925, 0.035718515515327454, 0.27639153599739075, 0.0, 0.0, 0.0, 0.0, 0.0, 0.0, 0.0], [0.096054308116436, 0.023092882707715034, 0.024199653416872025, 0.02497413568198681, 0.036829642951488495, 0.030014391988515854, 0.02106921561062336, 0.018117520958185196, 0.022569261491298676, 0.02834322303533554, 0.030505143105983734, 0.021707678213715553, 0.02821177989244461, 0.03163941577076912, 0.03916612267494202, 0.036273665726184845, 0.03311571478843689, 0.03514395281672478, 0.025745242834091187, 0.015889009460806847, 0.034675464034080505, 0.026770083233714104, 0.0271434523165226, 0.0404508002102375, 0.037603843957185745, 0.03232335299253464, 0.17837104201316833, 0.0, 0.0, 0.0, 0.0, 0.0, 0.0], [0.07476937025785446, 0.011021510697901249, 0.01070656068623066, 0.015325459651648998, 0.019903559237718582, 0.03285866230726242, 0.021936070173978806, 0.029454143717885017, 0.01642150990664959, 0.022476593032479286, 0.0372234471142292, 0.01758023351430893, 0.021954143419861794, 0.04046213999390602, 0.0314154215157032, 0.01041777990758419, 0.044297389686107635, 0.05118124932050705, 0.02956555038690567, 0.01539433654397726, 0.049064263701438904, 0.032021939754486084, 0.030905116349458694, 0.041320521384477615, 0.06578274071216583, 0.0397840291261673, 0.02049969509243965, 0.16625653207302094, 0.0, 0.0, 0.0, 0.0, 0.0], [0.05124204605817795, 0.011390023864805698, 0.02026580087840557, 0.02452964335680008, 0.1273244023323059, 0.02008390985429287, 0.017692746594548225, 0.020381983369588852, 0.018548617139458656, 0.023206068202853203, 0.021026071161031723, 0.020521225407719612, 0.025210730731487274, 0.021994244307279587, 0.017190469428896904, 0.02080591581761837, 0.023035312071442604, 0.026458045467734337, 0.031086131930351257, 0.011454473249614239, 0.0243579912930727, 0.022524956613779068, 0.024600781500339508, 0.024588003754615784, 0.02838081307709217, 0.04660610854625702, 0.04362707957625389, 0.020300470292568207, 0.2115660160779953, 0.0, 0.0, 0.0, 0.0], [0.07929292321205139, 0.02353738248348236, 0.022847287356853485, 0.01993604190647602, 0.015462879091501236, 0.02511030063033104, 0.02142906002700329, 0.015073495917022228, 0.009924099780619144, 0.015724752098321915, 0.02718871273100376, 0.020747292786836624, 0.03497634455561638, 0.029102323576807976, 0.021219033747911453, 0.018147623166441917, 0.031058188527822495, 0.03380948677659035, 0.02013755775988102, 0.012323121540248394, 0.033692616969347, 0.024336131289601326, 0.031084518879652023, 0.03377702087163925, 0.04355441778898239, 0.03296351432800293, 0.03314928337931633, 0.02536490000784397, 0.02216368354856968, 0.2228660136461258, 0.0, 0.0, 0.0], [0.10059653967618942, 0.030963758006691933, 0.02557850070297718, 0.02022407203912735, 0.02713298611342907, 0.0294907595962286, 0.040744829922914505, 0.021403616294264793, 0.016392601653933525, 0.022520698606967926, 0.027555182576179504, 0.013599197380244732, 0.027306701987981796, 0.027806587517261505, 0.011214182712137699, 0.023586532101035118, 0.028399169445037842, 0.03066890873014927, 0.021664200350642204, 0.017032315954566002, 0.029051585122942924, 0.0265499297529459, 0.032975535839796066, 0.026790322735905647, 0.03206063434481621, 0.027298321947455406, 0.017307177186012268, 0.01876882277429104, 0.028226517140865326, 0.017085110768675804, 0.18000467121601105, 0.0, 0.0], [0.08361607044935226, 0.01658189482986927, 0.015823297202587128, 0.022005164995789528, 0.02406255342066288, 0.0210283026099205, 0.02281128242611885, 0.014412393793463707, 0.015572089701890945, 0.015104841440916061, 0.020917728543281555, 0.021798150613904, 0.02598598413169384, 0.02201320417225361, 0.02202506922185421, 0.018091222271323204, 0.02311510592699051, 0.025451796129345894, 0.025943521410226822, 0.011241885833442211, 0.024466171860694885, 0.02286989614367485, 0.03161344304680824, 0.029542673379182816, 0.02381790056824684, 0.029349014163017273, 0.025922635570168495, 0.017268182709813118, 0.031844597309827805, 0.012037734501063824, 0.027524925768375397, 0.2561413049697876, 0.0], [0.05258440598845482, 0.01250837929546833, 0.012737669050693512, 0.012144193053245544, 0.014467814937233925, 0.024812450632452965, 0.01710914634168148, 0.02516256831586361, 0.016298962756991386, 0.015160087496042252, 0.02982003428041935, 0.014290268532931805, 0.02409478835761547, 0.03374277055263519, 0.02163226343691349, 0.018924107775092125, 0.038192152976989746, 0.04115181416273117, 0.024165768176317215, 0.020635636523365974, 0.0441853292286396, 0.03793710097670555, 0.02963634952902794, 0.03152840957045555, 0.045423075556755066, 0.035963594913482666, 0.03048253059387207, 0.04609917476773262, 0.03206764906644821, 0.01766294054687023, 0.03169599547982216, 0.04462912678718567, 0.10305343568325043]], [[1.0, 0.0, 0.0, 0.0, 0.0, 0.0, 0.0, 0.0, 0.0, 0.0, 0.0, 0.0, 0.0, 0.0, 0.0, 0.0, 0.0, 0.0, 0.0, 0.0, 0.0, 0.0, 0.0, 0.0, 0.0, 0.0, 0.0, 0.0, 0.0, 0.0, 0.0, 0.0, 0.0], [0.7707713842391968, 0.22922863066196442, 0.0, 0.0, 0.0, 0.0, 0.0, 0.0, 0.0, 0.0, 0.0, 0.0, 0.0, 0.0, 0.0, 0.0, 0.0, 0.0, 0.0, 0.0, 0.0, 0.0, 0.0, 0.0, 0.0, 0.0, 0.0, 0.0, 0.0, 0.0, 0.0, 0.0, 0.0], [0.7813623547554016, 0.109785296022892, 0.10885237157344818, 0.0, 0.0, 0.0, 0.0, 0.0, 0.0, 0.0, 0.0, 0.0, 0.0, 0.0, 0.0, 0.0, 0.0, 0.0, 0.0, 0.0, 0.0, 0.0, 0.0, 0.0, 0.0, 0.0, 0.0, 0.0, 0.0, 0.0, 0.0, 0.0, 0.0], [0.5350390672683716, 0.11194942146539688, 0.15013687312602997, 0.20287470519542694, 0.0, 0.0, 0.0, 0.0, 0.0, 0.0, 0.0, 0.0, 0.0, 0.0, 0.0, 0.0, 0.0, 0.0, 0.0, 0.0, 0.0, 0.0, 0.0, 0.0, 0.0, 0.0, 0.0, 0.0, 0.0, 0.0, 0.0, 0.0, 0.0], [0.41803592443466187, 0.16036385297775269, 0.10740304738283157, 0.10625778138637543, 0.20793946087360382, 0.0, 0.0, 0.0, 0.0, 0.0, 0.0, 0.0, 0.0, 0.0, 0.0, 0.0, 0.0, 0.0, 0.0, 0.0, 0.0, 0.0, 0.0, 0.0, 0.0, 0.0, 0.0, 0.0, 0.0, 0.0, 0.0, 0.0, 0.0], [0.43498674035072327, 0.0957985669374466, 0.08251800388097763, 0.10028505325317383, 0.15332907438278198, 0.1330825686454773, 0.0, 0.0, 0.0, 0.0, 0.0, 0.0, 0.0, 0.0, 0.0, 0.0, 0.0, 0.0, 0.0, 0.0, 0.0, 0.0, 0.0, 0.0, 0.0, 0.0, 0.0, 0.0, 0.0, 0.0, 0.0, 0.0, 0.0], [0.44621360301971436, 0.05624213069677353, 0.05040302872657776, 0.0708429291844368, 0.0936090275645256, 0.1147262379527092, 0.16796302795410156, 0.0, 0.0, 0.0, 0.0, 0.0, 0.0, 0.0, 0.0, 0.0, 0.0, 0.0, 0.0, 0.0, 0.0, 0.0, 0.0, 0.0, 0.0, 0.0, 0.0, 0.0, 0.0, 0.0, 0.0, 0.0, 0.0], [0.3609195053577423, 0.07294463366270065, 0.05191008001565933, 0.07159047573804855, 0.0932166576385498, 0.09543664753437042, 0.14539919793605804, 0.10858280211687088, 0.0, 0.0, 0.0, 0.0, 0.0, 0.0, 0.0, 0.0, 0.0, 0.0, 0.0, 0.0, 0.0, 0.0, 0.0, 0.0, 0.0, 0.0, 0.0, 0.0, 0.0, 0.0, 0.0, 0.0, 0.0], [0.31714069843292236, 0.07683124393224716, 0.0555228628218174, 0.06445364654064178, 0.08586594462394714, 0.10643256455659866, 0.145211324095726, 0.09439337998628616, 0.0541483536362648, 0.0, 0.0, 0.0, 0.0, 0.0, 0.0, 0.0, 0.0, 0.0, 0.0, 0.0, 0.0, 0.0, 0.0, 0.0, 0.0, 0.0, 0.0, 0.0, 0.0, 0.0, 0.0, 0.0, 0.0], [0.19288606941699982, 0.11343873292207718, 0.04530506581068039, 0.08361199498176575, 0.05763271450996399, 0.11914198100566864, 0.11441229283809662, 0.12364517897367477, 0.07640958577394485, 0.07351640611886978, 0.0, 0.0, 0.0, 0.0, 0.0, 0.0, 0.0, 0.0, 0.0, 0.0, 0.0, 0.0, 0.0, 0.0, 0.0, 0.0, 0.0, 0.0, 0.0, 0.0, 0.0, 0.0, 0.0], [0.2517409324645996, 0.060194116085767746, 0.0493021123111248, 0.0592232346534729, 0.08453336358070374, 0.07307681441307068, 0.12308551371097565, 0.08293969929218292, 0.06380272656679153, 0.07185833901166916, 0.08024308830499649, 0.0, 0.0, 0.0, 0.0, 0.0, 0.0, 0.0, 0.0, 0.0, 0.0, 0.0, 0.0, 0.0, 0.0, 0.0, 0.0, 0.0, 0.0, 0.0, 0.0, 0.0, 0.0], [0.24793608486652374, 0.04855772852897644, 0.0617169551551342, 0.06616785377264023, 0.0878860130906105, 0.059203848242759705, 0.09128588438034058, 0.06866816431283951, 0.060628656297922134, 0.08399350196123123, 0.06569413840770721, 0.05826117843389511, 0.0, 0.0, 0.0, 0.0, 0.0, 0.0, 0.0, 0.0, 0.0, 0.0, 0.0, 0.0, 0.0, 0.0, 0.0, 0.0, 0.0, 0.0, 0.0, 0.0, 0.0], [0.15039604902267456, 0.07072296738624573, 0.0361880362033844, 0.03812886029481888, 0.05496574565768242, 0.0955280065536499, 0.1278020590543747, 0.09101753681898117, 0.041339460760354996, 0.06619423627853394, 0.11493081599473953, 0.035268157720565796, 0.07751806080341339, 0.0, 0.0, 0.0, 0.0, 0.0, 0.0, 0.0, 0.0, 0.0, 0.0, 0.0, 0.0, 0.0, 0.0, 0.0, 0.0, 0.0, 0.0, 0.0, 0.0], [0.21730753779411316, 0.0522487536072731, 0.04279688373208046, 0.05130990222096443, 0.07021069526672363, 0.060848627239465714, 0.10094169527292252, 0.06729138642549515, 0.053472697734832764, 0.05803244933485985, 0.06386600434780121, 0.04143683239817619, 0.054298143833875656, 0.06593842059373856, 0.0, 0.0, 0.0, 0.0, 0.0, 0.0, 0.0, 0.0, 0.0, 0.0, 0.0, 0.0, 0.0, 0.0, 0.0, 0.0, 0.0, 0.0, 0.0], [0.14158989489078522, 0.08735612779855728, 0.0410962849855423, 0.07771317660808563, 0.0664159283041954, 0.060846131294965744, 0.07890868932008743, 0.06467180699110031, 0.041567519307136536, 0.05314023792743683, 0.06033192202448845, 0.049903471022844315, 0.06147689372301102, 0.06152055040001869, 0.05346132814884186, 0.0, 0.0, 0.0, 0.0, 0.0, 0.0, 0.0, 0.0, 0.0, 0.0, 0.0, 0.0, 0.0, 0.0, 0.0, 0.0, 0.0, 0.0], [0.11277392506599426, 0.05140271410346031, 0.034800730645656586, 0.04410993680357933, 0.04927102476358414, 0.08066023886203766, 0.09371130168437958, 0.07634279131889343, 0.03460071608424187, 0.0555650070309639, 0.09000369161367416, 0.02795090526342392, 0.05808687582612038, 0.09759877622127533, 0.05853055417537689, 0.03459075093269348, 0.0, 0.0, 0.0, 0.0, 0.0, 0.0, 0.0, 0.0, 0.0, 0.0, 0.0, 0.0, 0.0, 0.0, 0.0, 0.0, 0.0], [0.19136793911457062, 0.04588799923658371, 0.03718419373035431, 0.04478847607970238, 0.05845538154244423, 0.051623135805130005, 0.0845179483294487, 0.05661730468273163, 0.044779252260923386, 0.046815842390060425, 0.05177522823214531, 0.03474309295415878, 0.04365593567490578, 0.05257754027843475, 0.04571910202503204, 0.05523936450481415, 0.054252248257398605, 0.0, 0.0, 0.0, 0.0, 0.0, 0.0, 0.0, 0.0, 0.0, 0.0, 0.0, 0.0, 0.0, 0.0, 0.0, 0.0], [0.17809872329235077, 0.03651316836476326, 0.03537803143262863, 0.0466005876660347, 0.05606748163700104, 0.055425308644771576, 0.06580901890993118, 0.05869592726230621, 0.044602103531360626, 0.03845333307981491, 0.05522068217396736, 0.028129281476140022, 0.03887631744146347, 0.05635209009051323, 0.04307203367352486, 0.04859212413430214, 0.058013010770082474, 0.056100841611623764, 0.0, 0.0, 0.0, 0.0, 0.0, 0.0, 0.0, 0.0, 0.0, 0.0, 0.0, 0.0, 0.0, 0.0, 0.0], [0.11277128010988235, 0.044163405895233154, 0.016790857538580894, 0.03922899067401886, 0.03057023137807846, 0.08429384231567383, 0.05829831212759018, 0.0798557922244072, 0.027740225195884705, 0.024607928469777107, 0.08568024635314941, 0.012135535478591919, 0.02122362330555916, 0.08979953825473785, 0.02439562976360321, 0.018000084906816483, 0.0979786217212677, 0.08564860373735428, 0.04681731015443802, 0.0, 0.0, 0.0, 0.0, 0.0, 0.0, 0.0, 0.0, 0.0, 0.0, 0.0, 0.0, 0.0, 0.0], [0.15648680925369263, 0.043593376874923706, 0.029469139873981476, 0.02338278479874134, 0.039893943816423416, 0.06601449102163315, 0.07239896804094315, 0.04959877207875252, 0.02572007104754448, 0.028729893267154694, 0.07268748432397842, 0.020104369148612022, 0.03894990682601929, 0.07793485373258591, 0.031850170344114304, 0.029572607949376106, 0.08162924647331238, 0.04983031749725342, 0.04757082834839821, 0.01458202488720417, 0.0, 0.0, 0.0, 0.0, 0.0, 0.0, 0.0, 0.0, 0.0, 0.0, 0.0, 0.0, 0.0], [0.16675157845020294, 0.040216755121946335, 0.031946275383234024, 0.039155542850494385, 0.048679739236831665, 0.04351935535669327, 0.07027736306190491, 0.046769801527261734, 0.037370454519987106, 0.03785952180624008, 0.04185348004102707, 0.02943878248333931, 0.03496702387928963, 0.04187154397368431, 0.0366595983505249, 0.04418949410319328, 0.042447008192539215, 0.04308999702334404, 0.055408235639333725, 0.024029962718486786, 0.04349849000573158, 0.0, 0.0, 0.0, 0.0, 0.0, 0.0, 0.0, 0.0, 0.0, 0.0, 0.0, 0.0], [0.21311703324317932, 0.03452147915959358, 0.026512043550610542, 0.037284672260284424, 0.04200230911374092, 0.05378073453903198, 0.06410717964172363, 0.04019591584801674, 0.02951396070420742, 0.03056207299232483, 0.04814049229025841, 0.01964573934674263, 0.02385598234832287, 0.047123588621616364, 0.027805238962173462, 0.025632821023464203, 0.04690323397517204, 0.042115017771720886, 0.04245339706540108, 0.016209978610277176, 0.04720151424407959, 0.041315607726573944, 0.0, 0.0, 0.0, 0.0, 0.0, 0.0, 0.0, 0.0, 0.0, 0.0, 0.0], [0.16099107265472412, 0.03149212896823883, 0.02550601214170456, 0.03203628957271576, 0.0381193533539772, 0.053864605724811554, 0.052892010658979416, 0.06297367066144943, 0.03872942924499512, 0.030703017488121986, 0.0486149936914444, 0.01696414314210415, 0.02098488248884678, 0.04743489995598793, 0.02617856301367283, 0.0328170470893383, 0.04874100163578987, 0.03702306002378464, 0.050284434109926224, 0.014425938948988914, 0.049269188195466995, 0.027485141530632973, 0.052469104528427124, 0.0, 0.0, 0.0, 0.0, 0.0, 0.0, 0.0, 0.0, 0.0, 0.0], [0.13924191892147064, 0.04732195660471916, 0.022920070216059685, 0.03782673552632332, 0.037331581115722656, 0.05628196522593498, 0.06773105263710022, 0.06383749097585678, 0.028824565932154655, 0.02836861088871956, 0.05008403956890106, 0.014775178395211697, 0.02105890028178692, 0.04819712042808533, 0.017685124650597572, 0.015456229448318481, 0.04842798411846161, 0.03709954023361206, 0.04247324913740158, 0.018426816910505295, 0.0486132837831974, 0.022673973813652992, 0.059989575296640396, 0.02535296231508255, 0.0, 0.0, 0.0, 0.0, 0.0, 0.0, 0.0, 0.0, 0.0], [0.19562353193759918, 0.032333292067050934, 0.02287408895790577, 0.03839075192809105, 0.034498777240514755, 0.04616905376315117, 0.05553748458623886, 0.03960667550563812, 0.023098398000001907, 0.02424928918480873, 0.04043303802609444, 0.01607855223119259, 0.02162494696676731, 0.03903058171272278, 0.02652088738977909, 0.028113434091210365, 0.03823632001876831, 0.03542612865567207, 0.04174574464559555, 0.02109713852405548, 0.03767953813076019, 0.03728692978620529, 0.04423920437693596, 0.022921530529856682, 0.0371847003698349, 0.0, 0.0, 0.0, 0.0, 0.0, 0.0, 0.0, 0.0], [0.0581965409219265, 0.038897398859262466, 0.02600524201989174, 0.023567894473671913, 0.02297997660934925, 0.053841520100831985, 0.05806107446551323, 0.06858772784471512, 0.037459827959537506, 0.029159097000956535, 0.054746728390455246, 0.013592950999736786, 0.027647051960229874, 0.05575404316186905, 0.030779877677559853, 0.01613735966384411, 0.05745428055524826, 0.039687298238277435, 0.03406555578112602, 0.013110974803566933, 0.05977654084563255, 0.01604376547038555, 0.02969929575920105, 0.0205665435642004, 0.08347288519144058, 0.03070859983563423, 0.0, 0.0, 0.0, 0.0, 0.0, 0.0, 0.0], [0.15561483800411224, 0.03032318688929081, 0.021067572757601738, 0.03860042616724968, 0.025089245289564133, 0.04719521850347519, 0.04255649447441101, 0.05166258290410042, 0.030368106439709663, 0.02013362944126129, 0.04255695268511772, 0.018511774018406868, 0.018671728670597076, 0.04143029451370239, 0.022022120654582977, 0.02106102742254734, 0.0416661836206913, 0.02724921889603138, 0.0404815748333931, 0.015536411665380001, 0.042196206748485565, 0.01700734533369541, 0.062209486961364746, 0.01570316217839718, 0.05443186312913895, 0.0409240759909153, 0.01572924666106701, 0.0, 0.0, 0.0, 0.0, 0.0, 0.0], [0.1521887332201004, 0.03232048451900482, 0.026277616620063782, 0.03215136379003525, 0.037080563604831696, 0.03843333572149277, 0.04218520596623421, 0.034409210085868835, 0.02929617092013359, 0.02475227229297161, 0.034612298011779785, 0.021795092150568962, 0.023419687524437904, 0.03386644646525383, 0.02858061157166958, 0.03440326452255249, 0.03315696865320206, 0.02671041339635849, 0.04213564097881317, 0.019021354615688324, 0.032785799354314804, 0.02683999389410019, 0.03304455056786537, 0.02330264449119568, 0.03390035405755043, 0.03944925591349602, 0.02133423648774624, 0.04254645109176636, 0.0, 0.0, 0.0, 0.0, 0.0], [0.10210394114255905, 0.04830533266067505, 0.02795790694653988, 0.028134871274232864, 0.04368894547224045, 0.03765961155295372, 0.04012180492281914, 0.03589581698179245, 0.02449178136885166, 0.019768036901950836, 0.03467406705021858, 0.015431459061801434, 0.03261655941605568, 0.034143391996622086, 0.02746136486530304, 0.02032320946455002, 0.03445841372013092, 0.015827571973204613, 0.030705813318490982, 0.020360931754112244, 0.035580433905124664, 0.034790296107530594, 0.03518148511648178, 0.028572598472237587, 0.043333880603313446, 0.03896389156579971, 0.017587676644325256, 0.04553376883268356, 0.04632510617375374, 0.0, 0.0, 0.0, 0.0], [0.11841742694377899, 0.026689793914556503, 0.028547650203108788, 0.035164568573236465, 0.03519092872738838, 0.030704861506819725, 0.042546890676021576, 0.023103509098291397, 0.025463109835982323, 0.02967853844165802, 0.028395209461450577, 0.019178250804543495, 0.023833582177758217, 0.027640024200081825, 0.03381752595305443, 0.0396401472389698, 0.02757442742586136, 0.02185618318617344, 0.03966763988137245, 0.03941832110285759, 0.027115611359477043, 0.03049807995557785, 0.03493282571434975, 0.0323205403983593, 0.027840547263622284, 0.03877576068043709, 0.021124793216586113, 0.03861144185066223, 0.032771818339824677, 0.019479969516396523, 0.0, 0.0, 0.0], [0.05433792248368263, 0.019247829914093018, 0.011686459183692932, 0.014118608087301254, 0.01390976831316948, 0.05736803635954857, 0.0345463752746582, 0.04665059223771095, 0.013026443310081959, 0.01327129453420639, 0.05952771380543709, 0.00906313769519329, 0.017364205792546272, 0.06135565787553787, 0.01263465266674757, 0.015145528130233288, 0.06425530463457108, 0.04627063125371933, 0.019556356593966484, 0.012543460354208946, 0.06913558393716812, 0.03482368215918541, 0.030005939304828644, 0.012261822819709778, 0.07985592633485794, 0.018996428698301315, 0.010722926817834377, 0.0865454450249672, 0.017174087464809418, 0.022144155576825142, 0.02245396375656128, 0.0, 0.0], [0.05849647894501686, 0.034377358853816986, 0.01360310148447752, 0.024170421063899994, 0.01900586113333702, 0.0654640793800354, 0.030622979626059532, 0.035732053220272064, 0.018859459087252617, 0.012241481803357601, 0.06282185018062592, 0.011835740879178047, 0.009552359580993652, 0.06431795656681061, 0.021589579060673714, 0.01091296598315239, 0.06665908545255661, 0.023997465148568153, 0.026596764102578163, 0.006153562571853399, 0.06984327733516693, 0.037238702178001404, 0.030046720057725906, 0.021686818450689316, 0.043640606105327606, 0.02120961621403694, 0.013490457087755203, 0.046327218413352966, 0.02043450064957142, 0.013362256810069084, 0.018568990752100945, 0.04714022949337959, 0.0], [0.13528689742088318, 0.029733378440141678, 0.026111343875527382, 0.037535764276981354, 0.0388815775513649, 0.0331667959690094, 0.048243917524814606, 0.030468320474028587, 0.026038208976387978, 0.02412370778620243, 0.027892740443348885, 0.022709939628839493, 0.024185284972190857, 0.02611457370221615, 0.023209664970636368, 0.025175293907523155, 0.024614792317152023, 0.02112315595149994, 0.029685042798519135, 0.01816747896373272, 0.02306438609957695, 0.02059808559715748, 0.03441140055656433, 0.021083403378725052, 0.022538835182785988, 0.032281555235385895, 0.013987245038151741, 0.02414492890238762, 0.027002299204468727, 0.012929447926580906, 0.036165352910757065, 0.026840222999453545, 0.032485030591487885]]]}\n",
                            "    )\n",
                            "    </script>"
                        ],
                        "text/plain": [
                            "<circuitsvis.utils.render.RenderedHTML at 0x7f96781e7790>"
                        ]
                    },
                    "execution_count": 13,
                    "metadata": {},
                    "output_type": "execute_result"
                }
            ],
            "source": [
                "print(\"Layer 0 Head Attention Patterns:\")\n",
                "cv.attention.attention_patterns(tokens=gpt2_str_tokens, attention=attention_pattern)"
            ]
        },
        {
            "attachments": {},
            "cell_type": "markdown",
            "metadata": {},
            "source": [
                "## Hooks: Intervening on Activations"
            ]
        },
        {
            "cell_type": "markdown",
            "metadata": {},
            "source": [
                "One of the great things about interpreting neural networks is that we have *full control* over our system. From a computational perspective, we know exactly what operations are going on inside (even if we don't know what they mean!). And we can make precise, surgical edits and see how the model's behaviour and other internals change. This is an extremely powerful tool, because it can let us eg set up careful counterfactuals and causal intervention to easily understand model behaviour. \n",
                "\n",
                "Accordingly, being able to do this is a pretty core operation, and this is one of the main things TransformerLens supports! The key feature here is **hook points**. Every activation inside the transformer is surrounded by a hook point, which allows us to edit or intervene on it. \n",
                "\n",
                "We do this by adding a **hook function** to that activation. The hook function maps `current_activation_value, hook_point` to `new_activation_value`. As the model is run, it computes that activation as normal, and then the hook function is applied to compute a replacement, and that is substituted in for the activation. The hook function can be an arbitrary Python function, so long as it returns a tensor of the correct shape.\n",
                "\n",
                "<details><summary>Relationship to PyTorch hooks</summary>\n",
                "\n",
                "[PyTorch hooks](https://blog.paperspace.com/pytorch-hooks-gradient-clipping-debugging/) are a great and underrated, yet incredibly janky, feature. They can act on a layer, and edit the input or output of that layer, or the gradient when applying autodiff. The key difference is that **Hook points** act on *activations* not layers. This means that you can intervene within a layer on each activation, and don't need to care about the precise layer structure of the transformer. And it's immediately clear exactly how the hook's effect is applied. This adjustment was shamelessly inspired by [Garcon's use of ProbePoints](https://transformer-circuits.pub/2021/garcon/index.html).\n",
                "\n",
                "They also come with a range of other quality of life improvements, like the model having a `model.reset_hooks()` method to remove all hooks, or helper methods to temporarily add hooks for a single forward pass - it is *incredibly* easy to shoot yourself in the foot with standard PyTorch hooks!\n",
                "</details>"
            ]
        },
        {
            "attachments": {},
            "cell_type": "markdown",
            "metadata": {},
            "source": [
                "As a basic example, let's [ablate](https://dynalist.io/d/n2ZWtnoYHrU1s4vnFSAQ519J#z=fh-HJyz1CgUVrXuoiban6bYx) head 7 in layer 0 on the text above. \n",
                "\n",
                "We define a `head_ablation_hook` function. This takes the value tensor for attention layer 0, and sets the component with `head_index==7` to zero and returns it (Note - we return by convention, but since we're editing the activation in-place, we don't strictly *need* to).\n",
                "\n",
                "We then use the `run_with_hooks` helper function to run the model and *temporarily* add in the hook for just this run. We enter in the hook as a tuple of the activation name (also the hook point name - found with `utils.get_act_name`) and the hook function."
            ]
        },
        {
            "cell_type": "code",
            "execution_count": 14,
            "metadata": {},
            "outputs": [
                {
                    "name": "stdout",
                    "output_type": "stream",
                    "text": [
                        "Shape of the value tensor: torch.Size([1, 33, 12, 64])\n",
                        "Original Loss: 3.999\n",
                        "Ablated Loss: 4.117\n"
                    ]
                }
            ],
            "source": [
                "layer_to_ablate = 0\n",
                "head_index_to_ablate = 8\n",
                "\n",
                "# We define a head ablation hook\n",
                "# The type annotations are NOT necessary, they're just a useful guide to the reader\n",
                "# \n",
                "def head_ablation_hook(\n",
                "    value: TT[\"batch\", \"pos\", \"head_index\", \"d_head\"],\n",
                "    hook: HookPoint\n",
                ") -> TT[\"batch\", \"pos\", \"head_index\", \"d_head\"]:\n",
                "    print(f\"Shape of the value tensor: {value.shape}\")\n",
                "    value[:, :, head_index_to_ablate, :] = 0.\n",
                "    return value\n",
                "\n",
                "original_loss = model(gpt2_tokens, return_type=\"loss\")\n",
                "ablated_loss = model.run_with_hooks(\n",
                "    gpt2_tokens, \n",
                "    return_type=\"loss\", \n",
                "    fwd_hooks=[(\n",
                "        utils.get_act_name(\"v\", layer_to_ablate), \n",
                "        head_ablation_hook\n",
                "        )]\n",
                "    )\n",
                "print(f\"Original Loss: {original_loss.item():.3f}\")\n",
                "print(f\"Ablated Loss: {ablated_loss.item():.3f}\")"
            ]
        },
        {
            "cell_type": "markdown",
            "metadata": {},
            "source": [
                "**Gotcha:** Hooks are global state - they're added in as part of the model, and stay there until removed. `run_with_hooks` tries to create an abstraction where these are local state, by removing all hooks at the end of the function. But you can easily shoot yourself in the foot if there's, eg, an error in one of your hooks so the function never finishes. If you start getting bugs, try `model.reset_hooks()` to clean things up. Further, if you *do* add hooks of your own that you want to keep, which you can do with `add_hook` on the relevant "
            ]
        },
        {
            "cell_type": "markdown",
            "metadata": {},
            "source": [
                "### Activation Patching on the Indirect Object Identification Task"
            ]
        },
        {
            "attachments": {},
            "cell_type": "markdown",
            "metadata": {},
            "source": [
                "For a somewhat more involved example, let's use hooks to apply **[activation patching](https://dynalist.io/d/n2ZWtnoYHrU1s4vnFSAQ519J#z=qeWBvs-R-taFfcCq-S_hgMqx)** on the **[Indirect Object Identification](https://dynalist.io/d/n2ZWtnoYHrU1s4vnFSAQ519J#z=iWsV3s5Kdd2ca3zNgXr5UPHa)** (IOI) task. \n",
                "\n",
                "The IOI task is the task of identifying that a sentence like \"After John and Mary went to the store, Mary gave a bottle of milk to\" with \" John\" rather than \" Mary\" (ie, finding the indirect object), and Redwood Research have [an excellent paper studying the underlying circuit in GPT-2 Small](https://arxiv.org/abs/2211.00593).\n",
                "\n",
                "**[Activation patching](https://dynalist.io/d/n2ZWtnoYHrU1s4vnFSAQ519J#z=qeWBvs-R-taFfcCq-S_hgMqx)** is a technique from [Kevin Meng and David Bau's excellent ROME paper](https://rome.baulab.info/). The goal is to identify which model activations are important for completing a task. We do this by setting up a **clean prompt** and a **corrupted prompt** and a **metric** for performance on the task. We then pick a specific model activation, run the model on the corrupted prompt, but then *intervene* on that activation and patch in its value when run on the clean prompt. We then apply the metric, and see how much this patch has recovered the clean performance. \n",
                "(See [a more detailed demonstration of activation patching here](https://colab.research.google.com/github/neelnanda-io/Easy-Transformer/blob/main/Exploratory_Analysis_Demo.ipynb#scrollTo=5nUXG6zqmd0f))"
            ]
        },
        {
            "cell_type": "markdown",
            "metadata": {},
            "source": [
                "Here, our clean prompt is \"After John and Mary went to the store, **Mary** gave a bottle of milk to\", our corrupted prompt is \"After John and Mary went to the store, **John** gave a bottle of milk to\", and our metric is the difference between the correct logit ( John) and the incorrect logit ( Mary) on the final token. \n",
                "\n",
                "We see that the logit difference is significantly positive on the clean prompt, and significantly negative on the corrupted prompt, showing that the model is capable of doing the task!"
            ]
        },
        {
            "cell_type": "code",
            "execution_count": 15,
            "metadata": {},
            "outputs": [
                {
                    "name": "stdout",
                    "output_type": "stream",
                    "text": [
                        "Clean logit difference: 4.276\n",
                        "Corrupted logit difference: -2.738\n"
                    ]
                }
            ],
            "source": [
                "clean_prompt = \"After John and Mary went to the store, Mary gave a bottle of milk to\"\n",
                "corrupted_prompt = \"After John and Mary went to the store, John gave a bottle of milk to\"\n",
                "\n",
                "clean_tokens = model.to_tokens(clean_prompt)\n",
                "corrupted_tokens = model.to_tokens(corrupted_prompt)\n",
                "\n",
                "def logits_to_logit_diff(logits, correct_answer=\" John\", incorrect_answer=\" Mary\"):\n",
                "    # model.to_single_token maps a string value of a single token to the token index for that token\n",
                "    # If the string is not a single token, it raises an error.\n",
                "    correct_index = model.to_single_token(correct_answer)\n",
                "    incorrect_index = model.to_single_token(incorrect_answer)\n",
                "    return logits[0, -1, correct_index] - logits[0, -1, incorrect_index]\n",
                "\n",
                "# We run on the clean prompt with the cache so we store activations to patch in later.\n",
                "clean_logits, clean_cache = model.run_with_cache(clean_tokens)\n",
                "clean_logit_diff = logits_to_logit_diff(clean_logits)\n",
                "print(f\"Clean logit difference: {clean_logit_diff.item():.3f}\")\n",
                "\n",
                "# We don't need to cache on the corrupted prompt.\n",
                "corrupted_logits = model(corrupted_tokens)\n",
                "corrupted_logit_diff = logits_to_logit_diff(corrupted_logits)\n",
                "print(f\"Corrupted logit difference: {corrupted_logit_diff.item():.3f}\")"
            ]
        },
        {
            "attachments": {},
            "cell_type": "markdown",
            "metadata": {},
            "source": [
                "We now setup the hook function to do activation patching. Here, we'll patch in the [residual stream](https://dynalist.io/d/n2ZWtnoYHrU1s4vnFSAQ519J#z=DHp9vZ0h9lA9OCrzG2Y3rrzH) at the start of a specific layer and at a specific position. This will let us see how much the model is using the residual stream at that layer and position to represent the key information for the task. \n",
                "\n",
                "We want to iterate over all layers and positions, so we write the hook to take in an position parameter. Hook functions must have the input signature (activation, hook), but we can use `functools.partial` to set the position parameter before passing it to `run_with_hooks`"
            ]
        },
        {
            "cell_type": "code",
            "execution_count": 16,
            "metadata": {},
            "outputs": [
                {
                    "data": {
                        "application/vnd.jupyter.widget-view+json": {
                            "model_id": "69225f8c0e1949b8a900aa73abcdd5d4",
                            "version_major": 2,
                            "version_minor": 0
                        },
                        "text/plain": [
                            "  0%|          | 0/12 [00:00<?, ?it/s]"
                        ]
                    },
                    "metadata": {},
                    "output_type": "display_data"
                }
            ],
            "source": [
                "# We define a residual stream patching hook\n",
                "# We choose to act on the residual stream at the start of the layer, so we call it resid_pre\n",
                "# The type annotations are a guide to the reader and are not necessary\n",
                "def residual_stream_patching_hook(\n",
                "    resid_pre: TT[\"batch\", \"pos\", \"d_model\"],\n",
                "    hook: HookPoint,\n",
                "    position: int\n",
                ") -> TT[\"batch\", \"pos\", \"d_model\"]:\n",
                "    # Each HookPoint has a name attribute giving the name of the hook.\n",
                "    clean_resid_pre = clean_cache[hook.name]\n",
                "    resid_pre[:, position, :] = clean_resid_pre[:, position, :]\n",
                "    return resid_pre\n",
                "\n",
                "# We make a tensor to store the results for each patching run. We put it on the model's device to avoid needing to move things between the GPU and CPU, which can be slow.\n",
                "num_positions = len(clean_tokens[0])\n",
                "ioi_patching_result = torch.zeros((model.cfg.n_layers, num_positions), device=model.cfg.device)\n",
                "\n",
                "for layer in tqdm.tqdm(range(model.cfg.n_layers)):\n",
                "    for position in range(num_positions):\n",
                "        # Use functools.partial to create a temporary hook function with the position fixed\n",
                "        temp_hook_fn = partial(residual_stream_patching_hook, position=position)\n",
                "        # Run the model with the patching hook\n",
                "        patched_logits = model.run_with_hooks(corrupted_tokens, fwd_hooks=[\n",
                "            (utils.get_act_name(\"resid_pre\", layer), temp_hook_fn)\n",
                "        ])\n",
                "        # Calculate the logit difference\n",
                "        patched_logit_diff = logits_to_logit_diff(patched_logits).detach()\n",
                "        # Store the result, normalizing by the clean and corrupted logit difference so it's between 0 and 1 (ish)\n",
                "        ioi_patching_result[layer, position] = (patched_logit_diff - corrupted_logit_diff)/(clean_logit_diff - corrupted_logit_diff)"
            ]
        },
        {
            "cell_type": "markdown",
            "metadata": {},
            "source": [
                "We can now visualize the results, and see that this computation is extremely localised within the model. Initially, the second subject (Mary) token is all that matters (naturally, as it's the only different token), and all relevant information remains here until heads in layer 7 and 8 move this to the final token where it's used to predict the indirect object.\n",
                "(Note - the heads are in layer 7 and 8, not 8 and 9, because we patched in the residual stream at the *start* of each layer)"
            ]
        },
        {
            "cell_type": "code",
            "execution_count": 17,
            "metadata": {},
            "outputs": [
                {
                    "data": {
                        "text/html": [
                            "<html>\n",
                            "<head><meta charset=\"utf-8\" /></head>\n",
                            "<body>\n",
                            "    <div>            <script src=\"https://cdnjs.cloudflare.com/ajax/libs/mathjax/2.7.5/MathJax.js?config=TeX-AMS-MML_SVG\"></script><script type=\"text/javascript\">if (window.MathJax && window.MathJax.Hub && window.MathJax.Hub.Config) {window.MathJax.Hub.Config({SVG: {font: \"STIX-Web\"}});}</script>                <script type=\"text/javascript\">window.PlotlyConfig = {MathJaxConfig: 'local'};</script>\n",
                            "        <script src=\"https://cdn.plot.ly/plotly-2.16.1.min.js\"></script>                <div id=\"870151d1-9468-423f-a1cd-d18f40f05d5a\" class=\"plotly-graph-div\" style=\"height:525px; width:100%;\"></div>            <script type=\"text/javascript\">                                    window.PLOTLYENV=window.PLOTLYENV || {};                                    if (document.getElementById(\"870151d1-9468-423f-a1cd-d18f40f05d5a\")) {                    Plotly.newPlot(                        \"870151d1-9468-423f-a1cd-d18f40f05d5a\",                        [{\"coloraxis\":\"coloraxis\",\"name\":\"0\",\"x\":[\"<|endoftext|>_0\",\"After_1\",\" John_2\",\" and_3\",\" Mary_4\",\" went_5\",\" to_6\",\" the_7\",\" store_8\",\",_9\",\" Mary_10\",\" gave_11\",\" a_12\",\" bottle_13\",\" of_14\",\" milk_15\",\" to_16\"],\"z\":[[0.0,0.0,0.0,0.0,0.0,0.0,0.0,0.0,0.0,0.0,1.0,0.0,0.0,0.0,0.0,0.0,0.0],[0.0,0.0,0.0,0.0,0.0,0.0,0.0,0.0,0.0,0.0,0.9981473,0.0015992423,0.00014874776,-0.00037146147,-0.000021890666,-0.0006287108,-0.00051490654],[0.0,0.0,0.0,0.0,0.0,0.0,0.0,0.0,0.0,0.0,0.99805623,0.0022832917,0.00018165173,-0.00050525286,-0.00026907842,-0.000051667408,-0.0012817597],[0.0,0.0,0.0,0.0,0.0,0.0,0.0,0.0,0.0,0.0,0.9967364,0.004080638,0.0009735228,0.000042693595,-0.00015935316,-0.0003361101,-0.0019451419],[0.0,0.0,0.0,0.0,0.0,0.0,0.0,0.0,0.0,0.0,0.9905891,0.0199874,0.0018948342,0.0010126812,-0.0000681194,0.0009104341,-0.0019014967],[0.0,0.0,0.0,0.0,0.0,0.0,0.0,0.0,0.0,0.0,0.96165043,0.0853464,0.005204132,0.0030520482,0.00019565632,0.0011059545,-0.0022847871],[0.0,0.0,0.0,0.0,0.0,0.0,0.0,0.0,0.0,0.0,0.9630986,0.0843707,0.004121428,0.0007170893,0.00010265499,0.0010024837,-0.0042156526],[0.0,0.0,0.0,0.0,0.0,0.0,0.0,0.0,0.0,0.0,0.93591666,0.11111593,0.0077038826,0.00037540452,0.00036411927,0.0013256769,0.018745072],[0.0,0.0,0.0,0.0,0.0,0.0,0.0,0.0,0.0,0.0,0.770154,0.037418216,0.0020668323,-0.00008321172,0.00013419929,0.0017248756,0.4499055],[0.0,0.0,0.0,0.0,0.0,0.0,0.0,0.0,0.0,0.0,0.09650534,0.025926434,0.0019708397,0.00032849595,0.0004234008,0.0018843648,0.8994715],[0.0,0.0,0.0,0.0,0.0,0.0,0.0,0.0,0.0,0.0,-0.02332294,0.018537723,0.0015863255,0.00052591984,0.0002523545,0.0008729073,0.96127474],[0.0,0.0,0.0,0.0,0.0,0.0,0.0,0.0,0.0,0.0,-0.008559114,0.006339591,0.0005803066,-0.00034277246,0.0001091814,0.000648426,0.9495808]],\"type\":\"heatmap\",\"xaxis\":\"x\",\"yaxis\":\"y\",\"hovertemplate\":\"Position: %{x}<br>Layer: %{y}<br>color: %{z}<extra></extra>\"}],                        {\"template\":{\"data\":{\"histogram2dcontour\":[{\"type\":\"histogram2dcontour\",\"colorbar\":{\"outlinewidth\":0,\"ticks\":\"\"},\"colorscale\":[[0.0,\"#0d0887\"],[0.1111111111111111,\"#46039f\"],[0.2222222222222222,\"#7201a8\"],[0.3333333333333333,\"#9c179e\"],[0.4444444444444444,\"#bd3786\"],[0.5555555555555556,\"#d8576b\"],[0.6666666666666666,\"#ed7953\"],[0.7777777777777778,\"#fb9f3a\"],[0.8888888888888888,\"#fdca26\"],[1.0,\"#f0f921\"]]}],\"choropleth\":[{\"type\":\"choropleth\",\"colorbar\":{\"outlinewidth\":0,\"ticks\":\"\"}}],\"histogram2d\":[{\"type\":\"histogram2d\",\"colorbar\":{\"outlinewidth\":0,\"ticks\":\"\"},\"colorscale\":[[0.0,\"#0d0887\"],[0.1111111111111111,\"#46039f\"],[0.2222222222222222,\"#7201a8\"],[0.3333333333333333,\"#9c179e\"],[0.4444444444444444,\"#bd3786\"],[0.5555555555555556,\"#d8576b\"],[0.6666666666666666,\"#ed7953\"],[0.7777777777777778,\"#fb9f3a\"],[0.8888888888888888,\"#fdca26\"],[1.0,\"#f0f921\"]]}],\"heatmap\":[{\"type\":\"heatmap\",\"colorbar\":{\"outlinewidth\":0,\"ticks\":\"\"},\"colorscale\":[[0.0,\"#0d0887\"],[0.1111111111111111,\"#46039f\"],[0.2222222222222222,\"#7201a8\"],[0.3333333333333333,\"#9c179e\"],[0.4444444444444444,\"#bd3786\"],[0.5555555555555556,\"#d8576b\"],[0.6666666666666666,\"#ed7953\"],[0.7777777777777778,\"#fb9f3a\"],[0.8888888888888888,\"#fdca26\"],[1.0,\"#f0f921\"]]}],\"heatmapgl\":[{\"type\":\"heatmapgl\",\"colorbar\":{\"outlinewidth\":0,\"ticks\":\"\"},\"colorscale\":[[0.0,\"#0d0887\"],[0.1111111111111111,\"#46039f\"],[0.2222222222222222,\"#7201a8\"],[0.3333333333333333,\"#9c179e\"],[0.4444444444444444,\"#bd3786\"],[0.5555555555555556,\"#d8576b\"],[0.6666666666666666,\"#ed7953\"],[0.7777777777777778,\"#fb9f3a\"],[0.8888888888888888,\"#fdca26\"],[1.0,\"#f0f921\"]]}],\"contourcarpet\":[{\"type\":\"contourcarpet\",\"colorbar\":{\"outlinewidth\":0,\"ticks\":\"\"}}],\"contour\":[{\"type\":\"contour\",\"colorbar\":{\"outlinewidth\":0,\"ticks\":\"\"},\"colorscale\":[[0.0,\"#0d0887\"],[0.1111111111111111,\"#46039f\"],[0.2222222222222222,\"#7201a8\"],[0.3333333333333333,\"#9c179e\"],[0.4444444444444444,\"#bd3786\"],[0.5555555555555556,\"#d8576b\"],[0.6666666666666666,\"#ed7953\"],[0.7777777777777778,\"#fb9f3a\"],[0.8888888888888888,\"#fdca26\"],[1.0,\"#f0f921\"]]}],\"surface\":[{\"type\":\"surface\",\"colorbar\":{\"outlinewidth\":0,\"ticks\":\"\"},\"colorscale\":[[0.0,\"#0d0887\"],[0.1111111111111111,\"#46039f\"],[0.2222222222222222,\"#7201a8\"],[0.3333333333333333,\"#9c179e\"],[0.4444444444444444,\"#bd3786\"],[0.5555555555555556,\"#d8576b\"],[0.6666666666666666,\"#ed7953\"],[0.7777777777777778,\"#fb9f3a\"],[0.8888888888888888,\"#fdca26\"],[1.0,\"#f0f921\"]]}],\"mesh3d\":[{\"type\":\"mesh3d\",\"colorbar\":{\"outlinewidth\":0,\"ticks\":\"\"}}],\"scatter\":[{\"fillpattern\":{\"fillmode\":\"overlay\",\"size\":10,\"solidity\":0.2},\"type\":\"scatter\"}],\"parcoords\":[{\"type\":\"parcoords\",\"line\":{\"colorbar\":{\"outlinewidth\":0,\"ticks\":\"\"}}}],\"scatterpolargl\":[{\"type\":\"scatterpolargl\",\"marker\":{\"colorbar\":{\"outlinewidth\":0,\"ticks\":\"\"}}}],\"bar\":[{\"error_x\":{\"color\":\"#2a3f5f\"},\"error_y\":{\"color\":\"#2a3f5f\"},\"marker\":{\"line\":{\"color\":\"#E5ECF6\",\"width\":0.5},\"pattern\":{\"fillmode\":\"overlay\",\"size\":10,\"solidity\":0.2}},\"type\":\"bar\"}],\"scattergeo\":[{\"type\":\"scattergeo\",\"marker\":{\"colorbar\":{\"outlinewidth\":0,\"ticks\":\"\"}}}],\"scatterpolar\":[{\"type\":\"scatterpolar\",\"marker\":{\"colorbar\":{\"outlinewidth\":0,\"ticks\":\"\"}}}],\"histogram\":[{\"marker\":{\"pattern\":{\"fillmode\":\"overlay\",\"size\":10,\"solidity\":0.2}},\"type\":\"histogram\"}],\"scattergl\":[{\"type\":\"scattergl\",\"marker\":{\"colorbar\":{\"outlinewidth\":0,\"ticks\":\"\"}}}],\"scatter3d\":[{\"type\":\"scatter3d\",\"line\":{\"colorbar\":{\"outlinewidth\":0,\"ticks\":\"\"}},\"marker\":{\"colorbar\":{\"outlinewidth\":0,\"ticks\":\"\"}}}],\"scattermapbox\":[{\"type\":\"scattermapbox\",\"marker\":{\"colorbar\":{\"outlinewidth\":0,\"ticks\":\"\"}}}],\"scatterternary\":[{\"type\":\"scatterternary\",\"marker\":{\"colorbar\":{\"outlinewidth\":0,\"ticks\":\"\"}}}],\"scattercarpet\":[{\"type\":\"scattercarpet\",\"marker\":{\"colorbar\":{\"outlinewidth\":0,\"ticks\":\"\"}}}],\"carpet\":[{\"aaxis\":{\"endlinecolor\":\"#2a3f5f\",\"gridcolor\":\"white\",\"linecolor\":\"white\",\"minorgridcolor\":\"white\",\"startlinecolor\":\"#2a3f5f\"},\"baxis\":{\"endlinecolor\":\"#2a3f5f\",\"gridcolor\":\"white\",\"linecolor\":\"white\",\"minorgridcolor\":\"white\",\"startlinecolor\":\"#2a3f5f\"},\"type\":\"carpet\"}],\"table\":[{\"cells\":{\"fill\":{\"color\":\"#EBF0F8\"},\"line\":{\"color\":\"white\"}},\"header\":{\"fill\":{\"color\":\"#C8D4E3\"},\"line\":{\"color\":\"white\"}},\"type\":\"table\"}],\"barpolar\":[{\"marker\":{\"line\":{\"color\":\"#E5ECF6\",\"width\":0.5},\"pattern\":{\"fillmode\":\"overlay\",\"size\":10,\"solidity\":0.2}},\"type\":\"barpolar\"}],\"pie\":[{\"automargin\":true,\"type\":\"pie\"}]},\"layout\":{\"autotypenumbers\":\"strict\",\"colorway\":[\"#636efa\",\"#EF553B\",\"#00cc96\",\"#ab63fa\",\"#FFA15A\",\"#19d3f3\",\"#FF6692\",\"#B6E880\",\"#FF97FF\",\"#FECB52\"],\"font\":{\"color\":\"#2a3f5f\"},\"hovermode\":\"closest\",\"hoverlabel\":{\"align\":\"left\"},\"paper_bgcolor\":\"white\",\"plot_bgcolor\":\"#E5ECF6\",\"polar\":{\"bgcolor\":\"#E5ECF6\",\"angularaxis\":{\"gridcolor\":\"white\",\"linecolor\":\"white\",\"ticks\":\"\"},\"radialaxis\":{\"gridcolor\":\"white\",\"linecolor\":\"white\",\"ticks\":\"\"}},\"ternary\":{\"bgcolor\":\"#E5ECF6\",\"aaxis\":{\"gridcolor\":\"white\",\"linecolor\":\"white\",\"ticks\":\"\"},\"baxis\":{\"gridcolor\":\"white\",\"linecolor\":\"white\",\"ticks\":\"\"},\"caxis\":{\"gridcolor\":\"white\",\"linecolor\":\"white\",\"ticks\":\"\"}},\"coloraxis\":{\"colorbar\":{\"outlinewidth\":0,\"ticks\":\"\"}},\"colorscale\":{\"sequential\":[[0.0,\"#0d0887\"],[0.1111111111111111,\"#46039f\"],[0.2222222222222222,\"#7201a8\"],[0.3333333333333333,\"#9c179e\"],[0.4444444444444444,\"#bd3786\"],[0.5555555555555556,\"#d8576b\"],[0.6666666666666666,\"#ed7953\"],[0.7777777777777778,\"#fb9f3a\"],[0.8888888888888888,\"#fdca26\"],[1.0,\"#f0f921\"]],\"sequentialminus\":[[0.0,\"#0d0887\"],[0.1111111111111111,\"#46039f\"],[0.2222222222222222,\"#7201a8\"],[0.3333333333333333,\"#9c179e\"],[0.4444444444444444,\"#bd3786\"],[0.5555555555555556,\"#d8576b\"],[0.6666666666666666,\"#ed7953\"],[0.7777777777777778,\"#fb9f3a\"],[0.8888888888888888,\"#fdca26\"],[1.0,\"#f0f921\"]],\"diverging\":[[0,\"#8e0152\"],[0.1,\"#c51b7d\"],[0.2,\"#de77ae\"],[0.3,\"#f1b6da\"],[0.4,\"#fde0ef\"],[0.5,\"#f7f7f7\"],[0.6,\"#e6f5d0\"],[0.7,\"#b8e186\"],[0.8,\"#7fbc41\"],[0.9,\"#4d9221\"],[1,\"#276419\"]]},\"xaxis\":{\"gridcolor\":\"white\",\"linecolor\":\"white\",\"ticks\":\"\",\"title\":{\"standoff\":15},\"zerolinecolor\":\"white\",\"automargin\":true,\"zerolinewidth\":2},\"yaxis\":{\"gridcolor\":\"white\",\"linecolor\":\"white\",\"ticks\":\"\",\"title\":{\"standoff\":15},\"zerolinecolor\":\"white\",\"automargin\":true,\"zerolinewidth\":2},\"scene\":{\"xaxis\":{\"backgroundcolor\":\"#E5ECF6\",\"gridcolor\":\"white\",\"linecolor\":\"white\",\"showbackground\":true,\"ticks\":\"\",\"zerolinecolor\":\"white\",\"gridwidth\":2},\"yaxis\":{\"backgroundcolor\":\"#E5ECF6\",\"gridcolor\":\"white\",\"linecolor\":\"white\",\"showbackground\":true,\"ticks\":\"\",\"zerolinecolor\":\"white\",\"gridwidth\":2},\"zaxis\":{\"backgroundcolor\":\"#E5ECF6\",\"gridcolor\":\"white\",\"linecolor\":\"white\",\"showbackground\":true,\"ticks\":\"\",\"zerolinecolor\":\"white\",\"gridwidth\":2}},\"shapedefaults\":{\"line\":{\"color\":\"#2a3f5f\"}},\"annotationdefaults\":{\"arrowcolor\":\"#2a3f5f\",\"arrowhead\":0,\"arrowwidth\":1},\"geo\":{\"bgcolor\":\"white\",\"landcolor\":\"#E5ECF6\",\"subunitcolor\":\"white\",\"showland\":true,\"showlakes\":true,\"lakecolor\":\"white\"},\"title\":{\"x\":0.05},\"mapbox\":{\"style\":\"light\"}}},\"xaxis\":{\"anchor\":\"y\",\"domain\":[0.0,1.0],\"scaleanchor\":\"y\",\"constrain\":\"domain\",\"title\":{\"text\":\"Position\"}},\"yaxis\":{\"anchor\":\"x\",\"domain\":[0.0,1.0],\"autorange\":\"reversed\",\"constrain\":\"domain\",\"title\":{\"text\":\"Layer\"}},\"coloraxis\":{\"colorscale\":[[0.0,\"rgb(103,0,31)\"],[0.1,\"rgb(178,24,43)\"],[0.2,\"rgb(214,96,77)\"],[0.3,\"rgb(244,165,130)\"],[0.4,\"rgb(253,219,199)\"],[0.5,\"rgb(247,247,247)\"],[0.6,\"rgb(209,229,240)\"],[0.7,\"rgb(146,197,222)\"],[0.8,\"rgb(67,147,195)\"],[0.9,\"rgb(33,102,172)\"],[1.0,\"rgb(5,48,97)\"]],\"cmid\":0.0},\"title\":{\"text\":\"Normalized Logit Difference After Patching Residual Stream on the IOI Task\"}},                        {\"responsive\": true}                    ).then(function(){\n",
                            "                            \n",
                            "var gd = document.getElementById('870151d1-9468-423f-a1cd-d18f40f05d5a');\n",
                            "var x = new MutationObserver(function (mutations, observer) {{\n",
                            "        var display = window.getComputedStyle(gd).display;\n",
                            "        if (!display || display === 'none') {{\n",
                            "            console.log([gd, 'removed!']);\n",
                            "            Plotly.purge(gd);\n",
                            "            observer.disconnect();\n",
                            "        }}\n",
                            "}});\n",
                            "\n",
                            "// Listen for the removal of the full notebook cells\n",
                            "var notebookContainer = gd.closest('#notebook-container');\n",
                            "if (notebookContainer) {{\n",
                            "    x.observe(notebookContainer, {childList: true});\n",
                            "}}\n",
                            "\n",
                            "// Listen for the clearing of the current output cell\n",
                            "var outputEl = gd.closest('.output');\n",
                            "if (outputEl) {{\n",
                            "    x.observe(outputEl, {childList: true});\n",
                            "}}\n",
                            "\n",
                            "                        })                };                            </script>        </div>\n",
                            "</body>\n",
                            "</html>"
                        ]
                    },
                    "metadata": {},
                    "output_type": "display_data"
                }
            ],
            "source": [
                "# Add the index to the end of the label, because plotly doesn't like duplicate labels\n",
                "token_labels = [f\"{token}_{index}\" for index, token in enumerate(model.to_str_tokens(clean_tokens))]\n",
                "imshow(ioi_patching_result, x=token_labels, xaxis=\"Position\", yaxis=\"Layer\", title=\"Normalized Logit Difference After Patching Residual Stream on the IOI Task\")"
            ]
        },
        {
            "attachments": {},
            "cell_type": "markdown",
            "metadata": {},
            "source": [
                "## Hooks: Accessing Activations"
            ]
        },
        {
            "cell_type": "markdown",
            "metadata": {},
            "source": [
                "Hooks can also be used to just **access** an activation - to run some function using that activation value, *without* changing the activation value. This can be achieved by just having the hook return nothing, and not editing the activation in place. \n",
                "\n",
                "This is useful for eg extracting activations for a specific task, or for doing some long-running calculation across many inputs, eg finding the text that most activates a specific neuron. (Note - everything this can do *could* be done with `run_with_cache` and post-processing, but this workflow can be more intuitive and memory efficient.)"
            ]
        },
        {
            "cell_type": "markdown",
            "metadata": {},
            "source": [
                "To demonstrate this, let's look for **[induction heads](https://transformer-circuits.pub/2022/in-context-learning-and-induction-heads/index.html)** in GPT-2 Small. \n",
                "\n",
                "Induction circuits are a very important circuit in generative language models, which are used to detect and continue repeated subsequences. They consist of two heads in separate layers that compose together, a **previous token head** which always attends to the previous token, and an **induction head** which attends to the token *after* an earlier copy of the current token. \n",
                "\n",
                "To see why this is important, let's say that the model is trying to predict the next token in a news article about Michael Jordan. The token \" Michael\", in general, could be followed by many surnames. But an induction head will look from that occurence of \" Michael\" to the token after previous occurences of \" Michael\", ie \" Jordan\" and can confidently predict that that will come next."
            ]
        },
        {
            "cell_type": "markdown",
            "metadata": {},
            "source": [
                "An interesting fact about induction heads is that they generalise to arbitrary sequences of repeated tokens. We can see this by generating sequences of 50 random tokens, repeated twice, and plotting the average loss at predicting the next token, by position. We see that the model goes from terrible to very good at the halfway point."
            ]
        },
        {
            "cell_type": "code",
            "execution_count": 18,
            "metadata": {},
            "outputs": [
                {
                    "data": {
                        "text/html": [
                            "<html>\n",
                            "<head><meta charset=\"utf-8\" /></head>\n",
                            "<body>\n",
                            "    <div>            <script src=\"https://cdnjs.cloudflare.com/ajax/libs/mathjax/2.7.5/MathJax.js?config=TeX-AMS-MML_SVG\"></script><script type=\"text/javascript\">if (window.MathJax && window.MathJax.Hub && window.MathJax.Hub.Config) {window.MathJax.Hub.Config({SVG: {font: \"STIX-Web\"}});}</script>                <script type=\"text/javascript\">window.PlotlyConfig = {MathJaxConfig: 'local'};</script>\n",
                            "        <script src=\"https://cdn.plot.ly/plotly-2.16.1.min.js\"></script>                <div id=\"23997d52-9026-4b2f-a2d9-3fcb18f25f86\" class=\"plotly-graph-div\" style=\"height:525px; width:100%;\"></div>            <script type=\"text/javascript\">                                    window.PLOTLYENV=window.PLOTLYENV || {};                                    if (document.getElementById(\"23997d52-9026-4b2f-a2d9-3fcb18f25f86\")) {                    Plotly.newPlot(                        \"23997d52-9026-4b2f-a2d9-3fcb18f25f86\",                        [{\"hovertemplate\":\"variable=0<br>index=%{x}<br>value=%{y}<extra></extra>\",\"legendgroup\":\"0\",\"line\":{\"color\":\"#636efa\",\"dash\":\"solid\"},\"marker\":{\"symbol\":\"circle\"},\"mode\":\"lines\",\"name\":\"0\",\"orientation\":\"v\",\"showlegend\":true,\"x\":[0,1,2,3,4,5,6,7,8,9,10,11,12,13,14,15,16,17,18,19,20,21,22,23,24,25,26,27,28,29,30,31,32,33,34,35,36,37,38,39,40,41,42,43,44,45,46,47,48,49,50,51,52,53,54,55,56,57,58,59,60,61,62,63,64,65,66,67,68,69,70,71,72,73,74,75,76,77,78,79,80,81,82,83,84,85,86,87,88,89,90,91,92,93,94,95,96,97,98],\"xaxis\":\"x\",\"y\":[11.808037,13.792714,14.186319,13.627494,14.390996,13.2580385,13.232424,14.083632,12.428126,14.747475,12.65393,13.364669,11.224579,12.586921,11.750403,13.577395,12.499324,11.042871,12.462125,11.633731,11.359285,10.327721,11.381,11.717972,13.026313,12.365901,11.195658,11.747077,11.88308,12.5816145,11.464409,11.552933,11.633736,11.602069,11.794631,11.068112,11.379116,11.851734,12.331985,11.134096,11.409497,11.293555,11.135362,11.946617,11.007915,10.514901,11.653691,11.111884,11.219514,11.112963,3.0439572,1.049409,0.44605765,0.5474635,0.38069218,0.460846,0.18914191,0.19308324,0.38565096,0.24448323,0.059085872,0.28377718,0.4043172,0.3211415,0.07000212,0.16587926,0.080507755,0.08739778,0.187626,0.076328576,0.040779006,0.04520912,0.048187602,0.14715861,0.17393535,0.08196111,0.27518013,0.07813724,0.052669484,0.15392956,0.006187316,0.04051802,0.10128882,0.0450465,0.013996144,0.0148817245,0.040060904,0.100752585,0.06389619,0.06546464,0.043319672,1.0215524,0.075653516,0.056345176,0.12186723,0.03617762,0.15633447,0.20053823,0.047156777],\"yaxis\":\"y\",\"type\":\"scatter\"}],                        {\"template\":{\"data\":{\"histogram2dcontour\":[{\"type\":\"histogram2dcontour\",\"colorbar\":{\"outlinewidth\":0,\"ticks\":\"\"},\"colorscale\":[[0.0,\"#0d0887\"],[0.1111111111111111,\"#46039f\"],[0.2222222222222222,\"#7201a8\"],[0.3333333333333333,\"#9c179e\"],[0.4444444444444444,\"#bd3786\"],[0.5555555555555556,\"#d8576b\"],[0.6666666666666666,\"#ed7953\"],[0.7777777777777778,\"#fb9f3a\"],[0.8888888888888888,\"#fdca26\"],[1.0,\"#f0f921\"]]}],\"choropleth\":[{\"type\":\"choropleth\",\"colorbar\":{\"outlinewidth\":0,\"ticks\":\"\"}}],\"histogram2d\":[{\"type\":\"histogram2d\",\"colorbar\":{\"outlinewidth\":0,\"ticks\":\"\"},\"colorscale\":[[0.0,\"#0d0887\"],[0.1111111111111111,\"#46039f\"],[0.2222222222222222,\"#7201a8\"],[0.3333333333333333,\"#9c179e\"],[0.4444444444444444,\"#bd3786\"],[0.5555555555555556,\"#d8576b\"],[0.6666666666666666,\"#ed7953\"],[0.7777777777777778,\"#fb9f3a\"],[0.8888888888888888,\"#fdca26\"],[1.0,\"#f0f921\"]]}],\"heatmap\":[{\"type\":\"heatmap\",\"colorbar\":{\"outlinewidth\":0,\"ticks\":\"\"},\"colorscale\":[[0.0,\"#0d0887\"],[0.1111111111111111,\"#46039f\"],[0.2222222222222222,\"#7201a8\"],[0.3333333333333333,\"#9c179e\"],[0.4444444444444444,\"#bd3786\"],[0.5555555555555556,\"#d8576b\"],[0.6666666666666666,\"#ed7953\"],[0.7777777777777778,\"#fb9f3a\"],[0.8888888888888888,\"#fdca26\"],[1.0,\"#f0f921\"]]}],\"heatmapgl\":[{\"type\":\"heatmapgl\",\"colorbar\":{\"outlinewidth\":0,\"ticks\":\"\"},\"colorscale\":[[0.0,\"#0d0887\"],[0.1111111111111111,\"#46039f\"],[0.2222222222222222,\"#7201a8\"],[0.3333333333333333,\"#9c179e\"],[0.4444444444444444,\"#bd3786\"],[0.5555555555555556,\"#d8576b\"],[0.6666666666666666,\"#ed7953\"],[0.7777777777777778,\"#fb9f3a\"],[0.8888888888888888,\"#fdca26\"],[1.0,\"#f0f921\"]]}],\"contourcarpet\":[{\"type\":\"contourcarpet\",\"colorbar\":{\"outlinewidth\":0,\"ticks\":\"\"}}],\"contour\":[{\"type\":\"contour\",\"colorbar\":{\"outlinewidth\":0,\"ticks\":\"\"},\"colorscale\":[[0.0,\"#0d0887\"],[0.1111111111111111,\"#46039f\"],[0.2222222222222222,\"#7201a8\"],[0.3333333333333333,\"#9c179e\"],[0.4444444444444444,\"#bd3786\"],[0.5555555555555556,\"#d8576b\"],[0.6666666666666666,\"#ed7953\"],[0.7777777777777778,\"#fb9f3a\"],[0.8888888888888888,\"#fdca26\"],[1.0,\"#f0f921\"]]}],\"surface\":[{\"type\":\"surface\",\"colorbar\":{\"outlinewidth\":0,\"ticks\":\"\"},\"colorscale\":[[0.0,\"#0d0887\"],[0.1111111111111111,\"#46039f\"],[0.2222222222222222,\"#7201a8\"],[0.3333333333333333,\"#9c179e\"],[0.4444444444444444,\"#bd3786\"],[0.5555555555555556,\"#d8576b\"],[0.6666666666666666,\"#ed7953\"],[0.7777777777777778,\"#fb9f3a\"],[0.8888888888888888,\"#fdca26\"],[1.0,\"#f0f921\"]]}],\"mesh3d\":[{\"type\":\"mesh3d\",\"colorbar\":{\"outlinewidth\":0,\"ticks\":\"\"}}],\"scatter\":[{\"fillpattern\":{\"fillmode\":\"overlay\",\"size\":10,\"solidity\":0.2},\"type\":\"scatter\"}],\"parcoords\":[{\"type\":\"parcoords\",\"line\":{\"colorbar\":{\"outlinewidth\":0,\"ticks\":\"\"}}}],\"scatterpolargl\":[{\"type\":\"scatterpolargl\",\"marker\":{\"colorbar\":{\"outlinewidth\":0,\"ticks\":\"\"}}}],\"bar\":[{\"error_x\":{\"color\":\"#2a3f5f\"},\"error_y\":{\"color\":\"#2a3f5f\"},\"marker\":{\"line\":{\"color\":\"#E5ECF6\",\"width\":0.5},\"pattern\":{\"fillmode\":\"overlay\",\"size\":10,\"solidity\":0.2}},\"type\":\"bar\"}],\"scattergeo\":[{\"type\":\"scattergeo\",\"marker\":{\"colorbar\":{\"outlinewidth\":0,\"ticks\":\"\"}}}],\"scatterpolar\":[{\"type\":\"scatterpolar\",\"marker\":{\"colorbar\":{\"outlinewidth\":0,\"ticks\":\"\"}}}],\"histogram\":[{\"marker\":{\"pattern\":{\"fillmode\":\"overlay\",\"size\":10,\"solidity\":0.2}},\"type\":\"histogram\"}],\"scattergl\":[{\"type\":\"scattergl\",\"marker\":{\"colorbar\":{\"outlinewidth\":0,\"ticks\":\"\"}}}],\"scatter3d\":[{\"type\":\"scatter3d\",\"line\":{\"colorbar\":{\"outlinewidth\":0,\"ticks\":\"\"}},\"marker\":{\"colorbar\":{\"outlinewidth\":0,\"ticks\":\"\"}}}],\"scattermapbox\":[{\"type\":\"scattermapbox\",\"marker\":{\"colorbar\":{\"outlinewidth\":0,\"ticks\":\"\"}}}],\"scatterternary\":[{\"type\":\"scatterternary\",\"marker\":{\"colorbar\":{\"outlinewidth\":0,\"ticks\":\"\"}}}],\"scattercarpet\":[{\"type\":\"scattercarpet\",\"marker\":{\"colorbar\":{\"outlinewidth\":0,\"ticks\":\"\"}}}],\"carpet\":[{\"aaxis\":{\"endlinecolor\":\"#2a3f5f\",\"gridcolor\":\"white\",\"linecolor\":\"white\",\"minorgridcolor\":\"white\",\"startlinecolor\":\"#2a3f5f\"},\"baxis\":{\"endlinecolor\":\"#2a3f5f\",\"gridcolor\":\"white\",\"linecolor\":\"white\",\"minorgridcolor\":\"white\",\"startlinecolor\":\"#2a3f5f\"},\"type\":\"carpet\"}],\"table\":[{\"cells\":{\"fill\":{\"color\":\"#EBF0F8\"},\"line\":{\"color\":\"white\"}},\"header\":{\"fill\":{\"color\":\"#C8D4E3\"},\"line\":{\"color\":\"white\"}},\"type\":\"table\"}],\"barpolar\":[{\"marker\":{\"line\":{\"color\":\"#E5ECF6\",\"width\":0.5},\"pattern\":{\"fillmode\":\"overlay\",\"size\":10,\"solidity\":0.2}},\"type\":\"barpolar\"}],\"pie\":[{\"automargin\":true,\"type\":\"pie\"}]},\"layout\":{\"autotypenumbers\":\"strict\",\"colorway\":[\"#636efa\",\"#EF553B\",\"#00cc96\",\"#ab63fa\",\"#FFA15A\",\"#19d3f3\",\"#FF6692\",\"#B6E880\",\"#FF97FF\",\"#FECB52\"],\"font\":{\"color\":\"#2a3f5f\"},\"hovermode\":\"closest\",\"hoverlabel\":{\"align\":\"left\"},\"paper_bgcolor\":\"white\",\"plot_bgcolor\":\"#E5ECF6\",\"polar\":{\"bgcolor\":\"#E5ECF6\",\"angularaxis\":{\"gridcolor\":\"white\",\"linecolor\":\"white\",\"ticks\":\"\"},\"radialaxis\":{\"gridcolor\":\"white\",\"linecolor\":\"white\",\"ticks\":\"\"}},\"ternary\":{\"bgcolor\":\"#E5ECF6\",\"aaxis\":{\"gridcolor\":\"white\",\"linecolor\":\"white\",\"ticks\":\"\"},\"baxis\":{\"gridcolor\":\"white\",\"linecolor\":\"white\",\"ticks\":\"\"},\"caxis\":{\"gridcolor\":\"white\",\"linecolor\":\"white\",\"ticks\":\"\"}},\"coloraxis\":{\"colorbar\":{\"outlinewidth\":0,\"ticks\":\"\"}},\"colorscale\":{\"sequential\":[[0.0,\"#0d0887\"],[0.1111111111111111,\"#46039f\"],[0.2222222222222222,\"#7201a8\"],[0.3333333333333333,\"#9c179e\"],[0.4444444444444444,\"#bd3786\"],[0.5555555555555556,\"#d8576b\"],[0.6666666666666666,\"#ed7953\"],[0.7777777777777778,\"#fb9f3a\"],[0.8888888888888888,\"#fdca26\"],[1.0,\"#f0f921\"]],\"sequentialminus\":[[0.0,\"#0d0887\"],[0.1111111111111111,\"#46039f\"],[0.2222222222222222,\"#7201a8\"],[0.3333333333333333,\"#9c179e\"],[0.4444444444444444,\"#bd3786\"],[0.5555555555555556,\"#d8576b\"],[0.6666666666666666,\"#ed7953\"],[0.7777777777777778,\"#fb9f3a\"],[0.8888888888888888,\"#fdca26\"],[1.0,\"#f0f921\"]],\"diverging\":[[0,\"#8e0152\"],[0.1,\"#c51b7d\"],[0.2,\"#de77ae\"],[0.3,\"#f1b6da\"],[0.4,\"#fde0ef\"],[0.5,\"#f7f7f7\"],[0.6,\"#e6f5d0\"],[0.7,\"#b8e186\"],[0.8,\"#7fbc41\"],[0.9,\"#4d9221\"],[1,\"#276419\"]]},\"xaxis\":{\"gridcolor\":\"white\",\"linecolor\":\"white\",\"ticks\":\"\",\"title\":{\"standoff\":15},\"zerolinecolor\":\"white\",\"automargin\":true,\"zerolinewidth\":2},\"yaxis\":{\"gridcolor\":\"white\",\"linecolor\":\"white\",\"ticks\":\"\",\"title\":{\"standoff\":15},\"zerolinecolor\":\"white\",\"automargin\":true,\"zerolinewidth\":2},\"scene\":{\"xaxis\":{\"backgroundcolor\":\"#E5ECF6\",\"gridcolor\":\"white\",\"linecolor\":\"white\",\"showbackground\":true,\"ticks\":\"\",\"zerolinecolor\":\"white\",\"gridwidth\":2},\"yaxis\":{\"backgroundcolor\":\"#E5ECF6\",\"gridcolor\":\"white\",\"linecolor\":\"white\",\"showbackground\":true,\"ticks\":\"\",\"zerolinecolor\":\"white\",\"gridwidth\":2},\"zaxis\":{\"backgroundcolor\":\"#E5ECF6\",\"gridcolor\":\"white\",\"linecolor\":\"white\",\"showbackground\":true,\"ticks\":\"\",\"zerolinecolor\":\"white\",\"gridwidth\":2}},\"shapedefaults\":{\"line\":{\"color\":\"#2a3f5f\"}},\"annotationdefaults\":{\"arrowcolor\":\"#2a3f5f\",\"arrowhead\":0,\"arrowwidth\":1},\"geo\":{\"bgcolor\":\"white\",\"landcolor\":\"#E5ECF6\",\"subunitcolor\":\"white\",\"showland\":true,\"showlakes\":true,\"lakecolor\":\"white\"},\"title\":{\"x\":0.05},\"mapbox\":{\"style\":\"light\"}}},\"xaxis\":{\"anchor\":\"y\",\"domain\":[0.0,1.0],\"title\":{\"text\":\"index\"}},\"yaxis\":{\"anchor\":\"x\",\"domain\":[0.0,1.0],\"title\":{\"text\":\"value\"}},\"legend\":{\"title\":{\"text\":\"variable\"},\"tracegroupgap\":0},\"title\":{\"text\":\"Loss by position on random repeated tokens\"}},                        {\"responsive\": true}                    ).then(function(){\n",
                            "                            \n",
                            "var gd = document.getElementById('23997d52-9026-4b2f-a2d9-3fcb18f25f86');\n",
                            "var x = new MutationObserver(function (mutations, observer) {{\n",
                            "        var display = window.getComputedStyle(gd).display;\n",
                            "        if (!display || display === 'none') {{\n",
                            "            console.log([gd, 'removed!']);\n",
                            "            Plotly.purge(gd);\n",
                            "            observer.disconnect();\n",
                            "        }}\n",
                            "}});\n",
                            "\n",
                            "// Listen for the removal of the full notebook cells\n",
                            "var notebookContainer = gd.closest('#notebook-container');\n",
                            "if (notebookContainer) {{\n",
                            "    x.observe(notebookContainer, {childList: true});\n",
                            "}}\n",
                            "\n",
                            "// Listen for the clearing of the current output cell\n",
                            "var outputEl = gd.closest('.output');\n",
                            "if (outputEl) {{\n",
                            "    x.observe(outputEl, {childList: true});\n",
                            "}}\n",
                            "\n",
                            "                        })                };                            </script>        </div>\n",
                            "</body>\n",
                            "</html>"
                        ]
                    },
                    "metadata": {},
                    "output_type": "display_data"
                }
            ],
            "source": [
                "batch_size = 10\n",
                "seq_len = 50\n",
                "random_tokens = torch.randint(1000, 10000, (batch_size, seq_len)).to(model.cfg.device)\n",
                "repeated_tokens = einops.repeat(random_tokens, \"batch seq_len -> batch (2 seq_len)\")\n",
                "repeated_logits = model(repeated_tokens)\n",
                "correct_log_probs = model.loss_fn(repeated_logits, repeated_tokens, per_token=True)\n",
                "loss_by_position = einops.reduce(correct_log_probs, \"batch position -> position\", \"mean\")\n",
                "line(loss_by_position, xaxis=\"Position\", yaxis=\"Loss\", title=\"Loss by position on random repeated tokens\")"
            ]
        },
        {
            "cell_type": "markdown",
            "metadata": {},
            "source": [
                "The induction heads will be attending from the second occurence of each token to the token *after* its first occurence, ie the token `50-1==49` places back. So by looking at the average attention paid 49 tokens back, we can identify induction heads! Let's define a hook to do this!\n",
                "\n",
                "<details><summary>Technical details</summary>\n",
                "\n",
                "* We attach the hook to the attention pattern activation. There's one big pattern activation per layer, stacked across all heads, so we need to do some tensor manipulation to get a per-head score. \n",
                "* Hook functions can access global state, so we make a big tensor to store the induction head score for each head, and then we just add the score for each head to the appropriate position in the tensor. \n",
                "* To get a single hook function that works for each layer, we use the `hook.layer()` method to get the layer index (internally this is just inferred from the hook names).\n",
                "* As we want to add this to *every* activation pattern hook point, rather than giving the string for an activation name, this time we give a **name filter**. This is a Boolean function on hook point names, and it adds the hook function to every hook point where the function evaluates as true. \n",
                "    * `run_with_hooks` allows us to enter a list of (act_name, hook_function) pairs to all be added at once, so we could also have done this by inputting a list with a hook for each layer.\n",
                "</details>"
            ]
        },
        {
            "cell_type": "code",
            "execution_count": 19,
            "metadata": {},
            "outputs": [
                {
                    "data": {
                        "text/html": [
                            "<html>\n",
                            "<head><meta charset=\"utf-8\" /></head>\n",
                            "<body>\n",
                            "    <div>            <script src=\"https://cdnjs.cloudflare.com/ajax/libs/mathjax/2.7.5/MathJax.js?config=TeX-AMS-MML_SVG\"></script><script type=\"text/javascript\">if (window.MathJax && window.MathJax.Hub && window.MathJax.Hub.Config) {window.MathJax.Hub.Config({SVG: {font: \"STIX-Web\"}});}</script>                <script type=\"text/javascript\">window.PlotlyConfig = {MathJaxConfig: 'local'};</script>\n",
                            "        <script src=\"https://cdn.plot.ly/plotly-2.16.1.min.js\"></script>                <div id=\"0351729d-f7bd-4dff-8e0c-0159e788d6eb\" class=\"plotly-graph-div\" style=\"height:525px; width:100%;\"></div>            <script type=\"text/javascript\">                                    window.PLOTLYENV=window.PLOTLYENV || {};                                    if (document.getElementById(\"0351729d-f7bd-4dff-8e0c-0159e788d6eb\")) {                    Plotly.newPlot(                        \"0351729d-f7bd-4dff-8e0c-0159e788d6eb\",                        [{\"coloraxis\":\"coloraxis\",\"name\":\"0\",\"z\":[[0.009845897,0.00010739225,0.011965116,4.6391685e-7,0.00014374543,0.00015772857,0.009431697,0.0006924941,0.009592268,0.009263116,0.0069689606,0.01549733],[0.0008515702,0.00048757362,0.0021412952,0.014229859,0.005252996,0.010415156,0.014287308,0.012997905,0.013325559,0.015964549,0.0065351464,0.0007580837],[0.0045925723,0.018754967,0.0014369077,0.0010834769,0.0124404775,0.0018350423,0.0038135808,0.008261216,0.0034162104,0.0011589546,0.0007041311,0.010241941],[0.013932138,0.0075448267,0.0019522777,0.012203236,0.020048337,0.013246494,0.0015716385,0.0012640061,0.0072363764,0.013074266,0.008706542,0.0063366224],[0.015908567,0.014795145,0.015564123,0.008969006,0.018907672,0.013286521,0.008849657,0.0027541209,0.016721234,0.014685283,0.019363815,9.1746575e-9],[0.4593435,0.8983368,0.01365899,0.008506964,0.013812789,0.9293541,0.010772355,0.01860222,0.02852977,0.02761247,0.019766554,0.018179297],[0.009917188,0.016676152,0.01938403,0.014313027,0.024668086,0.012200025,0.030651039,0.011979866,0.009040098,0.9180728,0.03656692,0.012458795],[0.010785109,0.18082112,0.8458825,0.018389104,0.018577883,0.018624742,0.045821607,0.08584459,0.017446913,0.018828915,0.9134291,0.06278003],[0.016593171,0.4020053,0.017234534,0.043239776,0.0182269,0.014823633,0.14991932,0.013735405,0.030690031,0.031032033,0.06742787,0.024035063],[0.24678737,0.19003847,0.10590435,0.012400944,0.08340072,0.027829738,0.4409235,0.029761324,0.052328732,0.4667893,0.017830176,0.046301715],[0.3380286,0.50450027,0.040610585,0.14459799,0.06904957,0.016426167,0.30265534,0.4785508,0.052030724,0.01622346,0.15604296,0.25885916],[0.020020794,0.05508979,0.035944037,0.012775158,0.03888895,0.103544876,0.054535046,0.06993241,0.008403102,0.3095162,0.40937522,0.023624888]],\"type\":\"heatmap\",\"xaxis\":\"x\",\"yaxis\":\"y\",\"hovertemplate\":\"Head: %{x}<br>Layer: %{y}<br>color: %{z}<extra></extra>\"}],                        {\"template\":{\"data\":{\"histogram2dcontour\":[{\"type\":\"histogram2dcontour\",\"colorbar\":{\"outlinewidth\":0,\"ticks\":\"\"},\"colorscale\":[[0.0,\"#0d0887\"],[0.1111111111111111,\"#46039f\"],[0.2222222222222222,\"#7201a8\"],[0.3333333333333333,\"#9c179e\"],[0.4444444444444444,\"#bd3786\"],[0.5555555555555556,\"#d8576b\"],[0.6666666666666666,\"#ed7953\"],[0.7777777777777778,\"#fb9f3a\"],[0.8888888888888888,\"#fdca26\"],[1.0,\"#f0f921\"]]}],\"choropleth\":[{\"type\":\"choropleth\",\"colorbar\":{\"outlinewidth\":0,\"ticks\":\"\"}}],\"histogram2d\":[{\"type\":\"histogram2d\",\"colorbar\":{\"outlinewidth\":0,\"ticks\":\"\"},\"colorscale\":[[0.0,\"#0d0887\"],[0.1111111111111111,\"#46039f\"],[0.2222222222222222,\"#7201a8\"],[0.3333333333333333,\"#9c179e\"],[0.4444444444444444,\"#bd3786\"],[0.5555555555555556,\"#d8576b\"],[0.6666666666666666,\"#ed7953\"],[0.7777777777777778,\"#fb9f3a\"],[0.8888888888888888,\"#fdca26\"],[1.0,\"#f0f921\"]]}],\"heatmap\":[{\"type\":\"heatmap\",\"colorbar\":{\"outlinewidth\":0,\"ticks\":\"\"},\"colorscale\":[[0.0,\"#0d0887\"],[0.1111111111111111,\"#46039f\"],[0.2222222222222222,\"#7201a8\"],[0.3333333333333333,\"#9c179e\"],[0.4444444444444444,\"#bd3786\"],[0.5555555555555556,\"#d8576b\"],[0.6666666666666666,\"#ed7953\"],[0.7777777777777778,\"#fb9f3a\"],[0.8888888888888888,\"#fdca26\"],[1.0,\"#f0f921\"]]}],\"heatmapgl\":[{\"type\":\"heatmapgl\",\"colorbar\":{\"outlinewidth\":0,\"ticks\":\"\"},\"colorscale\":[[0.0,\"#0d0887\"],[0.1111111111111111,\"#46039f\"],[0.2222222222222222,\"#7201a8\"],[0.3333333333333333,\"#9c179e\"],[0.4444444444444444,\"#bd3786\"],[0.5555555555555556,\"#d8576b\"],[0.6666666666666666,\"#ed7953\"],[0.7777777777777778,\"#fb9f3a\"],[0.8888888888888888,\"#fdca26\"],[1.0,\"#f0f921\"]]}],\"contourcarpet\":[{\"type\":\"contourcarpet\",\"colorbar\":{\"outlinewidth\":0,\"ticks\":\"\"}}],\"contour\":[{\"type\":\"contour\",\"colorbar\":{\"outlinewidth\":0,\"ticks\":\"\"},\"colorscale\":[[0.0,\"#0d0887\"],[0.1111111111111111,\"#46039f\"],[0.2222222222222222,\"#7201a8\"],[0.3333333333333333,\"#9c179e\"],[0.4444444444444444,\"#bd3786\"],[0.5555555555555556,\"#d8576b\"],[0.6666666666666666,\"#ed7953\"],[0.7777777777777778,\"#fb9f3a\"],[0.8888888888888888,\"#fdca26\"],[1.0,\"#f0f921\"]]}],\"surface\":[{\"type\":\"surface\",\"colorbar\":{\"outlinewidth\":0,\"ticks\":\"\"},\"colorscale\":[[0.0,\"#0d0887\"],[0.1111111111111111,\"#46039f\"],[0.2222222222222222,\"#7201a8\"],[0.3333333333333333,\"#9c179e\"],[0.4444444444444444,\"#bd3786\"],[0.5555555555555556,\"#d8576b\"],[0.6666666666666666,\"#ed7953\"],[0.7777777777777778,\"#fb9f3a\"],[0.8888888888888888,\"#fdca26\"],[1.0,\"#f0f921\"]]}],\"mesh3d\":[{\"type\":\"mesh3d\",\"colorbar\":{\"outlinewidth\":0,\"ticks\":\"\"}}],\"scatter\":[{\"fillpattern\":{\"fillmode\":\"overlay\",\"size\":10,\"solidity\":0.2},\"type\":\"scatter\"}],\"parcoords\":[{\"type\":\"parcoords\",\"line\":{\"colorbar\":{\"outlinewidth\":0,\"ticks\":\"\"}}}],\"scatterpolargl\":[{\"type\":\"scatterpolargl\",\"marker\":{\"colorbar\":{\"outlinewidth\":0,\"ticks\":\"\"}}}],\"bar\":[{\"error_x\":{\"color\":\"#2a3f5f\"},\"error_y\":{\"color\":\"#2a3f5f\"},\"marker\":{\"line\":{\"color\":\"#E5ECF6\",\"width\":0.5},\"pattern\":{\"fillmode\":\"overlay\",\"size\":10,\"solidity\":0.2}},\"type\":\"bar\"}],\"scattergeo\":[{\"type\":\"scattergeo\",\"marker\":{\"colorbar\":{\"outlinewidth\":0,\"ticks\":\"\"}}}],\"scatterpolar\":[{\"type\":\"scatterpolar\",\"marker\":{\"colorbar\":{\"outlinewidth\":0,\"ticks\":\"\"}}}],\"histogram\":[{\"marker\":{\"pattern\":{\"fillmode\":\"overlay\",\"size\":10,\"solidity\":0.2}},\"type\":\"histogram\"}],\"scattergl\":[{\"type\":\"scattergl\",\"marker\":{\"colorbar\":{\"outlinewidth\":0,\"ticks\":\"\"}}}],\"scatter3d\":[{\"type\":\"scatter3d\",\"line\":{\"colorbar\":{\"outlinewidth\":0,\"ticks\":\"\"}},\"marker\":{\"colorbar\":{\"outlinewidth\":0,\"ticks\":\"\"}}}],\"scattermapbox\":[{\"type\":\"scattermapbox\",\"marker\":{\"colorbar\":{\"outlinewidth\":0,\"ticks\":\"\"}}}],\"scatterternary\":[{\"type\":\"scatterternary\",\"marker\":{\"colorbar\":{\"outlinewidth\":0,\"ticks\":\"\"}}}],\"scattercarpet\":[{\"type\":\"scattercarpet\",\"marker\":{\"colorbar\":{\"outlinewidth\":0,\"ticks\":\"\"}}}],\"carpet\":[{\"aaxis\":{\"endlinecolor\":\"#2a3f5f\",\"gridcolor\":\"white\",\"linecolor\":\"white\",\"minorgridcolor\":\"white\",\"startlinecolor\":\"#2a3f5f\"},\"baxis\":{\"endlinecolor\":\"#2a3f5f\",\"gridcolor\":\"white\",\"linecolor\":\"white\",\"minorgridcolor\":\"white\",\"startlinecolor\":\"#2a3f5f\"},\"type\":\"carpet\"}],\"table\":[{\"cells\":{\"fill\":{\"color\":\"#EBF0F8\"},\"line\":{\"color\":\"white\"}},\"header\":{\"fill\":{\"color\":\"#C8D4E3\"},\"line\":{\"color\":\"white\"}},\"type\":\"table\"}],\"barpolar\":[{\"marker\":{\"line\":{\"color\":\"#E5ECF6\",\"width\":0.5},\"pattern\":{\"fillmode\":\"overlay\",\"size\":10,\"solidity\":0.2}},\"type\":\"barpolar\"}],\"pie\":[{\"automargin\":true,\"type\":\"pie\"}]},\"layout\":{\"autotypenumbers\":\"strict\",\"colorway\":[\"#636efa\",\"#EF553B\",\"#00cc96\",\"#ab63fa\",\"#FFA15A\",\"#19d3f3\",\"#FF6692\",\"#B6E880\",\"#FF97FF\",\"#FECB52\"],\"font\":{\"color\":\"#2a3f5f\"},\"hovermode\":\"closest\",\"hoverlabel\":{\"align\":\"left\"},\"paper_bgcolor\":\"white\",\"plot_bgcolor\":\"#E5ECF6\",\"polar\":{\"bgcolor\":\"#E5ECF6\",\"angularaxis\":{\"gridcolor\":\"white\",\"linecolor\":\"white\",\"ticks\":\"\"},\"radialaxis\":{\"gridcolor\":\"white\",\"linecolor\":\"white\",\"ticks\":\"\"}},\"ternary\":{\"bgcolor\":\"#E5ECF6\",\"aaxis\":{\"gridcolor\":\"white\",\"linecolor\":\"white\",\"ticks\":\"\"},\"baxis\":{\"gridcolor\":\"white\",\"linecolor\":\"white\",\"ticks\":\"\"},\"caxis\":{\"gridcolor\":\"white\",\"linecolor\":\"white\",\"ticks\":\"\"}},\"coloraxis\":{\"colorbar\":{\"outlinewidth\":0,\"ticks\":\"\"}},\"colorscale\":{\"sequential\":[[0.0,\"#0d0887\"],[0.1111111111111111,\"#46039f\"],[0.2222222222222222,\"#7201a8\"],[0.3333333333333333,\"#9c179e\"],[0.4444444444444444,\"#bd3786\"],[0.5555555555555556,\"#d8576b\"],[0.6666666666666666,\"#ed7953\"],[0.7777777777777778,\"#fb9f3a\"],[0.8888888888888888,\"#fdca26\"],[1.0,\"#f0f921\"]],\"sequentialminus\":[[0.0,\"#0d0887\"],[0.1111111111111111,\"#46039f\"],[0.2222222222222222,\"#7201a8\"],[0.3333333333333333,\"#9c179e\"],[0.4444444444444444,\"#bd3786\"],[0.5555555555555556,\"#d8576b\"],[0.6666666666666666,\"#ed7953\"],[0.7777777777777778,\"#fb9f3a\"],[0.8888888888888888,\"#fdca26\"],[1.0,\"#f0f921\"]],\"diverging\":[[0,\"#8e0152\"],[0.1,\"#c51b7d\"],[0.2,\"#de77ae\"],[0.3,\"#f1b6da\"],[0.4,\"#fde0ef\"],[0.5,\"#f7f7f7\"],[0.6,\"#e6f5d0\"],[0.7,\"#b8e186\"],[0.8,\"#7fbc41\"],[0.9,\"#4d9221\"],[1,\"#276419\"]]},\"xaxis\":{\"gridcolor\":\"white\",\"linecolor\":\"white\",\"ticks\":\"\",\"title\":{\"standoff\":15},\"zerolinecolor\":\"white\",\"automargin\":true,\"zerolinewidth\":2},\"yaxis\":{\"gridcolor\":\"white\",\"linecolor\":\"white\",\"ticks\":\"\",\"title\":{\"standoff\":15},\"zerolinecolor\":\"white\",\"automargin\":true,\"zerolinewidth\":2},\"scene\":{\"xaxis\":{\"backgroundcolor\":\"#E5ECF6\",\"gridcolor\":\"white\",\"linecolor\":\"white\",\"showbackground\":true,\"ticks\":\"\",\"zerolinecolor\":\"white\",\"gridwidth\":2},\"yaxis\":{\"backgroundcolor\":\"#E5ECF6\",\"gridcolor\":\"white\",\"linecolor\":\"white\",\"showbackground\":true,\"ticks\":\"\",\"zerolinecolor\":\"white\",\"gridwidth\":2},\"zaxis\":{\"backgroundcolor\":\"#E5ECF6\",\"gridcolor\":\"white\",\"linecolor\":\"white\",\"showbackground\":true,\"ticks\":\"\",\"zerolinecolor\":\"white\",\"gridwidth\":2}},\"shapedefaults\":{\"line\":{\"color\":\"#2a3f5f\"}},\"annotationdefaults\":{\"arrowcolor\":\"#2a3f5f\",\"arrowhead\":0,\"arrowwidth\":1},\"geo\":{\"bgcolor\":\"white\",\"landcolor\":\"#E5ECF6\",\"subunitcolor\":\"white\",\"showland\":true,\"showlakes\":true,\"lakecolor\":\"white\"},\"title\":{\"x\":0.05},\"mapbox\":{\"style\":\"light\"}}},\"xaxis\":{\"anchor\":\"y\",\"domain\":[0.0,1.0],\"scaleanchor\":\"y\",\"constrain\":\"domain\",\"title\":{\"text\":\"Head\"}},\"yaxis\":{\"anchor\":\"x\",\"domain\":[0.0,1.0],\"autorange\":\"reversed\",\"constrain\":\"domain\",\"title\":{\"text\":\"Layer\"}},\"coloraxis\":{\"colorscale\":[[0.0,\"rgb(103,0,31)\"],[0.1,\"rgb(178,24,43)\"],[0.2,\"rgb(214,96,77)\"],[0.3,\"rgb(244,165,130)\"],[0.4,\"rgb(253,219,199)\"],[0.5,\"rgb(247,247,247)\"],[0.6,\"rgb(209,229,240)\"],[0.7,\"rgb(146,197,222)\"],[0.8,\"rgb(67,147,195)\"],[0.9,\"rgb(33,102,172)\"],[1.0,\"rgb(5,48,97)\"]],\"cmid\":0.0},\"title\":{\"text\":\"Induction Score by Head\"}},                        {\"responsive\": true}                    ).then(function(){\n",
                            "                            \n",
                            "var gd = document.getElementById('0351729d-f7bd-4dff-8e0c-0159e788d6eb');\n",
                            "var x = new MutationObserver(function (mutations, observer) {{\n",
                            "        var display = window.getComputedStyle(gd).display;\n",
                            "        if (!display || display === 'none') {{\n",
                            "            console.log([gd, 'removed!']);\n",
                            "            Plotly.purge(gd);\n",
                            "            observer.disconnect();\n",
                            "        }}\n",
                            "}});\n",
                            "\n",
                            "// Listen for the removal of the full notebook cells\n",
                            "var notebookContainer = gd.closest('#notebook-container');\n",
                            "if (notebookContainer) {{\n",
                            "    x.observe(notebookContainer, {childList: true});\n",
                            "}}\n",
                            "\n",
                            "// Listen for the clearing of the current output cell\n",
                            "var outputEl = gd.closest('.output');\n",
                            "if (outputEl) {{\n",
                            "    x.observe(outputEl, {childList: true});\n",
                            "}}\n",
                            "\n",
                            "                        })                };                            </script>        </div>\n",
                            "</body>\n",
                            "</html>"
                        ]
                    },
                    "metadata": {},
                    "output_type": "display_data"
                }
            ],
            "source": [
                "# We make a tensor to store the induction score for each head. We put it on the model's device to avoid needing to move things between the GPU and CPU, which can be slow.\n",
                "induction_score_store = torch.zeros((model.cfg.n_layers, model.cfg.n_heads), device=model.cfg.device)\n",
                "def induction_score_hook(\n",
                "    pattern: TT[\"batch\", \"head_index\", \"dest_pos\", \"source_pos\"],\n",
                "    hook: HookPoint,\n",
                "):\n",
                "    # We take the diagonal of attention paid from each destination position to source positions seq_len-1 tokens back\n",
                "    # (This only has entries for tokens with index>=seq_len)\n",
                "    induction_stripe = pattern.diagonal(dim1=-2, dim2=-1, offset=1-seq_len)\n",
                "    # Get an average score per head\n",
                "    induction_score = einops.reduce(induction_stripe, \"batch head_index position -> head_index\", \"mean\")\n",
                "    # Store the result.\n",
                "    induction_score_store[hook.layer(), :] = induction_score\n",
                "\n",
                "# We make a boolean filter on activation names, that's true only on attention pattern names.\n",
                "pattern_hook_names_filter = lambda name: name.endswith(\"pattern\")\n",
                "\n",
                "model.run_with_hooks(\n",
                "    repeated_tokens, \n",
                "    return_type=None, # For efficiency, we don't need to calculate the logits\n",
                "    fwd_hooks=[(\n",
                "        pattern_hook_names_filter,\n",
                "        induction_score_hook\n",
                "    )]\n",
                ")\n",
                "\n",
                "imshow(induction_score_store, xaxis=\"Head\", yaxis=\"Layer\", title=\"Induction Score by Head\")"
            ]
        },
        {
            "cell_type": "markdown",
            "metadata": {},
            "source": [
                "Head 5 in Layer 5 scores extremely highly on this score, and we can feed in a shorter repeated random sequence, visualize the attention pattern for it and see this directly - including the \"induction stripe\" at `seq_len-1` tokens back.\n",
                "\n",
                "This time we put in a hook on the attention pattern activation to visualize the pattern of the relevant head."
            ]
        },
        {
            "cell_type": "code",
            "execution_count": 20,
            "metadata": {},
            "outputs": [
                {
                    "name": "stdout",
                    "output_type": "stream",
                    "text": [
                        "huggingface/tokenizers: The current process just got forked, after parallelism has already been used. Disabling parallelism to avoid deadlocks...\n",
                        "To disable this warning, you can either:\n",
                        "\t- Avoid using `tokenizers` before the fork if possible\n",
                        "\t- Explicitly set the environment variable TOKENIZERS_PARALLELISM=(true | false)\n"
                    ]
                },
                {
                    "data": {
                        "text/html": [
                            "<div id=\"circuits-vis-a5255d3f-e6b3\" style=\"margin: 15px 0;\"/>\n",
                            "    <script crossorigin type=\"module\">\n",
                            "    import { render, AttentionPatterns } from \"https://unpkg.com/circuitsvis/dist/cdn/esm.js\";\n",
                            "    render(\n",
                            "      \"circuits-vis-a5255d3f-e6b3\",\n",
                            "      AttentionPatterns,\n",
                            "      {\"tokens\": [\"ton\", \"ocial\", \" refuge\", \" withdraw\", \"ements\", \" targ\", \"och\", \" facts\", \" north\", \" remove\", \"imal\", \"chie\", \"FA\", \" really\", \"ides\", \" portion\", \" Food\", \" Sunday\", \" Find\", \"Mod\", \"ton\", \"ocial\", \" refuge\", \" withdraw\", \"ements\", \" targ\", \"och\", \" facts\", \" north\", \" remove\", \"imal\", \"chie\", \"FA\", \" really\", \"ides\", \" portion\", \" Food\", \" Sunday\", \" Find\", \"Mod\"], \"attention\": [[[1.0, 0.0, 0.0, 0.0, 0.0, 0.0, 0.0, 0.0, 0.0, 0.0, 0.0, 0.0, 0.0, 0.0, 0.0, 0.0, 0.0, 0.0, 0.0, 0.0, 0.0, 0.0, 0.0, 0.0, 0.0, 0.0, 0.0, 0.0, 0.0, 0.0, 0.0, 0.0, 0.0, 0.0, 0.0, 0.0, 0.0, 0.0, 0.0, 0.0], [0.9986459612846375, 0.001354068866930902, 0.0, 0.0, 0.0, 0.0, 0.0, 0.0, 0.0, 0.0, 0.0, 0.0, 0.0, 0.0, 0.0, 0.0, 0.0, 0.0, 0.0, 0.0, 0.0, 0.0, 0.0, 0.0, 0.0, 0.0, 0.0, 0.0, 0.0, 0.0, 0.0, 0.0, 0.0, 0.0, 0.0, 0.0, 0.0, 0.0, 0.0, 0.0], [0.9791963696479797, 0.0027504137251526117, 0.01805318519473076, 0.0, 0.0, 0.0, 0.0, 0.0, 0.0, 0.0, 0.0, 0.0, 0.0, 0.0, 0.0, 0.0, 0.0, 0.0, 0.0, 0.0, 0.0, 0.0, 0.0, 0.0, 0.0, 0.0, 0.0, 0.0, 0.0, 0.0, 0.0, 0.0, 0.0, 0.0, 0.0, 0.0, 0.0, 0.0, 0.0, 0.0], [0.9839655160903931, 0.0011581266298890114, 0.00030211766716092825, 0.014574228785932064, 0.0, 0.0, 0.0, 0.0, 0.0, 0.0, 0.0, 0.0, 0.0, 0.0, 0.0, 0.0, 0.0, 0.0, 0.0, 0.0, 0.0, 0.0, 0.0, 0.0, 0.0, 0.0, 0.0, 0.0, 0.0, 0.0, 0.0, 0.0, 0.0, 0.0, 0.0, 0.0, 0.0, 0.0, 0.0, 0.0], [0.865825891494751, 0.0016782822785899043, 0.0027014915831387043, 0.06255403906106949, 0.06724020093679428, 0.0, 0.0, 0.0, 0.0, 0.0, 0.0, 0.0, 0.0, 0.0, 0.0, 0.0, 0.0, 0.0, 0.0, 0.0, 0.0, 0.0, 0.0, 0.0, 0.0, 0.0, 0.0, 0.0, 0.0, 0.0, 0.0, 0.0, 0.0, 0.0, 0.0, 0.0, 0.0, 0.0, 0.0, 0.0], [0.981313943862915, 0.013257298618555069, 0.0001863037614384666, 0.0003879783907905221, 0.0005274165305308998, 0.004326983354985714, 0.0, 0.0, 0.0, 0.0, 0.0, 0.0, 0.0, 0.0, 0.0, 0.0, 0.0, 0.0, 0.0, 0.0, 0.0, 0.0, 0.0, 0.0, 0.0, 0.0, 0.0, 0.0, 0.0, 0.0, 0.0, 0.0, 0.0, 0.0, 0.0, 0.0, 0.0, 0.0, 0.0, 0.0], [0.9687691330909729, 0.030385751277208328, 0.0006980174803175032, 2.1331667085178196e-05, 3.902004266365111e-07, 7.1515234594699e-05, 5.389436410041526e-05, 0.0, 0.0, 0.0, 0.0, 0.0, 0.0, 0.0, 0.0, 0.0, 0.0, 0.0, 0.0, 0.0, 0.0, 0.0, 0.0, 0.0, 0.0, 0.0, 0.0, 0.0, 0.0, 0.0, 0.0, 0.0, 0.0, 0.0, 0.0, 0.0, 0.0, 0.0, 0.0, 0.0], [0.9682871699333191, 0.00553895952180028, 0.0015728464350104332, 0.00030028264154680073, 4.533101309789345e-05, 0.019650448113679886, 6.614579888264416e-06, 0.004598324187099934, 0.0, 0.0, 0.0, 0.0, 0.0, 0.0, 0.0, 0.0, 0.0, 0.0, 0.0, 0.0, 0.0, 0.0, 0.0, 0.0, 0.0, 0.0, 0.0, 0.0, 0.0, 0.0, 0.0, 0.0, 0.0, 0.0, 0.0, 0.0, 0.0, 0.0, 0.0, 0.0], [0.9519678354263306, 0.023823503404855728, 0.005210565868765116, 0.0010080001084133983, 3.7316942325560376e-05, 0.0015214686281979084, 1.3712184227188118e-05, 0.014200241304934025, 0.0022173412144184113, 0.0, 0.0, 0.0, 0.0, 0.0, 0.0, 0.0, 0.0, 0.0, 0.0, 0.0, 0.0, 0.0, 0.0, 0.0, 0.0, 0.0, 0.0, 0.0, 0.0, 0.0, 0.0, 0.0, 0.0, 0.0, 0.0, 0.0, 0.0, 0.0, 0.0, 0.0], [0.5559114217758179, 0.014920509420335293, 0.0006457266281358898, 0.010296344757080078, 0.32643112540245056, 0.08670838177204132, 6.838060653535649e-05, 0.002313935197889805, 0.000804490118753165, 0.0018996561411768198, 0.0, 0.0, 0.0, 0.0, 0.0, 0.0, 0.0, 0.0, 0.0, 0.0, 0.0, 0.0, 0.0, 0.0, 0.0, 0.0, 0.0, 0.0, 0.0, 0.0, 0.0, 0.0, 0.0, 0.0, 0.0, 0.0, 0.0, 0.0, 0.0, 0.0], [0.9492844343185425, 0.009108914993703365, 0.0071120490320026875, 0.00016928018885664642, 0.00023005028197076172, 0.009664060547947884, 1.8654877749213483e-06, 0.0026913811452686787, 0.020050788298249245, 0.0005007204599678516, 0.0011864985572174191, 0.0, 0.0, 0.0, 0.0, 0.0, 0.0, 0.0, 0.0, 0.0, 0.0, 0.0, 0.0, 0.0, 0.0, 0.0, 0.0, 0.0, 0.0, 0.0, 0.0, 0.0, 0.0, 0.0, 0.0, 0.0, 0.0, 0.0, 0.0, 0.0], [0.9553389549255371, 0.01597673073410988, 0.0052468557842075825, 0.0005630860687233508, 0.00011545729648787528, 0.009901056997478008, 4.079827704117633e-06, 0.008595431223511696, 0.0038348764646798372, 1.320555111306021e-05, 0.0002211801620433107, 0.00018908982747234404, 0.0, 0.0, 0.0, 0.0, 0.0, 0.0, 0.0, 0.0, 0.0, 0.0, 0.0, 0.0, 0.0, 0.0, 0.0, 0.0, 0.0, 0.0, 0.0, 0.0, 0.0, 0.0, 0.0, 0.0, 0.0, 0.0, 0.0, 0.0], [0.9811443090438843, 0.007252056617289782, 0.001128166331909597, 0.002108318265527487, 0.0008389346767216921, 0.0036552012898027897, 5.179825848244946e-07, 7.998508226592094e-05, 0.0004489626153372228, 0.00010025977826444432, 0.0003172903961967677, 9.409529593540356e-05, 0.0028319444973021746, 0.0, 0.0, 0.0, 0.0, 0.0, 0.0, 0.0, 0.0, 0.0, 0.0, 0.0, 0.0, 0.0, 0.0, 0.0, 0.0, 0.0, 0.0, 0.0, 0.0, 0.0, 0.0, 0.0, 0.0, 0.0, 0.0, 0.0], [0.8196091651916504, 0.0039828806184232235, 0.003107665106654167, 0.0001517209893791005, 7.297836418729275e-05, 0.0015310291200876236, 7.035962880763691e-06, 0.0032328120432794094, 0.13719333708286285, 0.003222869010642171, 0.0004851500561926514, 0.0042908526957035065, 0.010982093401253223, 0.012130510061979294, 0.0, 0.0, 0.0, 0.0, 0.0, 0.0, 0.0, 0.0, 0.0, 0.0, 0.0, 0.0, 0.0, 0.0, 0.0, 0.0, 0.0, 0.0, 0.0, 0.0, 0.0, 0.0, 0.0, 0.0, 0.0, 0.0], [0.9555989503860474, 0.0027767587453126907, 0.0029426000546664, 0.0007544982945546508, 9.301469253841788e-05, 0.008591737598180771, 5.495010191225447e-05, 0.0007901805802248418, 0.005175606347620487, 0.0020959326066076756, 0.0013331671943888068, 0.0007804121123626828, 0.008821896277368069, 0.009363147430121899, 0.0008271920378319919, 0.0, 0.0, 0.0, 0.0, 0.0, 0.0, 0.0, 0.0, 0.0, 0.0, 0.0, 0.0, 0.0, 0.0, 0.0, 0.0, 0.0, 0.0, 0.0, 0.0, 0.0, 0.0, 0.0, 0.0, 0.0], [0.940069317817688, 0.0019386635394766927, 0.006395967677235603, 0.0013195635983720422, 0.010961093939840794, 0.024636205285787582, 3.1424383450939786e-07, 0.0013937733601778746, 0.002137477044016123, 0.00041557246004231274, 0.0038991535548120737, 0.003862485522404313, 0.00036294953315518796, 0.0010215878719463944, 6.24161766609177e-05, 0.0015233864542096853, 0.0, 0.0, 0.0, 0.0, 0.0, 0.0, 0.0, 0.0, 0.0, 0.0, 0.0, 0.0, 0.0, 0.0, 0.0, 0.0, 0.0, 0.0, 0.0, 0.0, 0.0, 0.0, 0.0, 0.0], [0.9743158221244812, 0.000838114763610065, 0.004526786971837282, 0.0019644261337816715, 4.655162774724886e-05, 0.0014437156496569514, 4.74624606283669e-08, 1.1092869499407243e-05, 0.0003551096306182444, 2.6848807465285063e-05, 1.7570351701579057e-05, 1.7302651031059213e-05, 4.136385177844204e-05, 0.014836380258202553, 3.4349544876022264e-05, 0.0004865292285103351, 0.001038008718751371, 0.0, 0.0, 0.0, 0.0, 0.0, 0.0, 0.0, 0.0, 0.0, 0.0, 0.0, 0.0, 0.0, 0.0, 0.0, 0.0, 0.0, 0.0, 0.0, 0.0, 0.0, 0.0, 0.0], [0.98968106508255, 0.004356895573437214, 0.000371471542166546, 0.00014454008487518877, 8.295419320347719e-07, 0.0005294579896144569, 2.0215354368247063e-07, 0.00022467933013103902, 0.0010803136974573135, 0.00013609945017378777, 1.3332383787201252e-05, 3.022163946297951e-05, 0.00034444278571754694, 0.0018860312411561608, 5.8846511819865555e-05, 0.00010180367826251313, 0.00012821026029996574, 0.0009114895365200937, 0.0, 0.0, 0.0, 0.0, 0.0, 0.0, 0.0, 0.0, 0.0, 0.0, 0.0, 0.0, 0.0, 0.0, 0.0, 0.0, 0.0, 0.0, 0.0, 0.0, 0.0, 0.0], [0.8195598125457764, 0.018181055784225464, 0.00016734506061766297, 0.0010938473278656602, 0.024007828906178474, 0.007075771223753691, 0.0006697148783132434, 0.0004945463151670992, 0.031363338232040405, 6.104564090492204e-05, 0.0778236985206604, 0.0029800310730934143, 0.0006307020084932446, 0.0015901927836239338, 0.0004545324482023716, 0.0054688118398189545, 0.0070580230094492435, 0.0012707101413980126, 4.891243952442892e-05, 0.0, 0.0, 0.0, 0.0, 0.0, 0.0, 0.0, 0.0, 0.0, 0.0, 0.0, 0.0, 0.0, 0.0, 0.0, 0.0, 0.0, 0.0, 0.0, 0.0, 0.0], [0.8995548486709595, 0.009549856185913086, 0.008715442381799221, 0.0012366643641144037, 3.778119935304858e-05, 0.001366551499813795, 0.00010495258175069466, 0.00499512255191803, 0.05056469514966011, 5.7786412071436644e-05, 0.0015943453181535006, 0.006167503073811531, 0.002204668475314975, 0.0030941562727093697, 0.003366623306646943, 0.0023891176097095013, 0.003922604955732822, 0.0003726492577698082, 3.697307693073526e-05, 0.0006677656201645732, 0.0, 0.0, 0.0, 0.0, 0.0, 0.0, 0.0, 0.0, 0.0, 0.0, 0.0, 0.0, 0.0, 0.0, 0.0, 0.0, 0.0, 0.0, 0.0, 0.0], [0.25627684593200684, 0.49322956800460815, 0.0040456331335008144, 0.0002530285273678601, 2.215113454440143e-05, 0.001555873197503388, 9.128062288255023e-07, 0.1449403017759323, 0.0396692231297493, 0.0005335463210940361, 0.00028271449264138937, 0.010830197483301163, 0.014491422101855278, 0.002645102795213461, 0.0005833260947838426, 0.0006325010908767581, 0.02124057337641716, 3.805043206739356e-06, 2.0028033759444952e-05, 9.264128311770037e-05, 0.008650587871670723, 0.0, 0.0, 0.0, 0.0, 0.0, 0.0, 0.0, 0.0, 0.0, 0.0, 0.0, 0.0, 0.0, 0.0, 0.0, 0.0, 0.0, 0.0, 0.0], [0.04618406668305397, 0.0010015828302130103, 0.9438384771347046, 0.003639891976490617, 5.505880267264729e-07, 0.001447551534511149, 7.315117955819517e-10, 0.00015174513100646436, 1.566934042784851e-05, 1.3549049981520511e-05, 1.326115693700558e-06, 0.00011600501602515578, 0.001240470097400248, 0.0002073688810924068, 1.1961236850766e-05, 0.0006495600682683289, 0.0009061388554982841, 2.2478583559859544e-05, 3.6467326935962774e-06, 3.4139281979150837e-07, 0.0003343559510540217, 0.000213308070669882, 0.0, 0.0, 0.0, 0.0, 0.0, 0.0, 0.0, 0.0, 0.0, 0.0, 0.0, 0.0, 0.0, 0.0, 0.0, 0.0, 0.0, 0.0], [0.029824882745742798, 0.003648744197562337, 0.003024335252121091, 0.9224854707717896, 0.003098716726526618, 0.02836642414331436, 1.5366222783086414e-07, 0.00017716220463626087, 1.900423740153201e-05, 0.00013220850087236613, 0.0019119081553071737, 0.00013986817793920636, 0.0012858262052759528, 0.0010941422078758478, 4.2878852468675177e-07, 0.0009646758553571999, 0.001288745435886085, 0.00015605238149873912, 7.912268301879521e-06, 0.000385522551368922, 0.0002601048327051103, 0.00016404119378421456, 0.001563606085255742, 0.0, 0.0, 0.0, 0.0, 0.0, 0.0, 0.0, 0.0, 0.0, 0.0, 0.0, 0.0, 0.0, 0.0, 0.0, 0.0, 0.0], [0.01380929909646511, 0.0002741457719821483, 7.407436442008475e-06, 0.0005792405572719872, 0.9681729674339294, 0.007053953129798174, 2.4501582984726156e-08, 4.955042641086038e-06, 9.55766836341354e-07, 6.831776317994809e-07, 0.007926495745778084, 3.68769615306519e-05, 5.0060581997968256e-05, 0.00010636189836077392, 1.1009320566301994e-08, 3.378139081178233e-05, 0.0007474913727492094, 7.874481156022739e-08, 5.400412561584744e-09, 0.00015849462943151593, 5.957979851700657e-07, 2.2400060970539926e-06, 2.218129793618573e-06, 0.0010316133266314864, 0.0, 0.0, 0.0, 0.0, 0.0, 0.0, 0.0, 0.0, 0.0, 0.0, 0.0, 0.0, 0.0, 0.0, 0.0, 0.0], [0.09161537140607834, 0.0012919099535793066, 0.0007411569822579622, 0.008247601799666882, 0.008414920419454575, 0.8199809193611145, 1.3693872347175784e-07, 0.00022286816965788603, 0.0003664594260044396, 9.573171701049432e-05, 0.0018244400853291154, 0.0017963371938094497, 0.0040694596245884895, 0.0008002305403351784, 2.3608711785527703e-07, 0.005720787215977907, 0.006728338543325663, 4.35602487414144e-06, 2.6741347483039135e-06, 0.0001677694235695526, 1.4423942957364488e-05, 0.00020727308583445847, 0.0012153281131759286, 0.035079095512628555, 0.011392300948500633, 0.0, 0.0, 0.0, 0.0, 0.0, 0.0, 0.0, 0.0, 0.0, 0.0, 0.0, 0.0, 0.0, 0.0, 0.0], [0.07104238122701645, 0.01402928214520216, 2.6548546884441748e-05, 7.004810322541744e-05, 0.00017307617235928774, 0.0006624818197451532, 0.8520940542221069, 0.05319011211395264, 0.0006978496094234288, 1.5313333278754726e-05, 0.0017679210286587477, 0.00010997761273756623, 0.0001551175519125536, 8.824939868645743e-05, 2.798773834911117e-07, 0.0005842593964189291, 0.000739430426619947, 9.187193654724979e-07, 5.297299594531069e-07, 0.00042644533095881343, 0.00015231865108944476, 0.0005404253606684506, 8.167224586941302e-05, 0.0006613537552766502, 0.0005137098487466574, 0.0021762531250715256, 0.0, 0.0, 0.0, 0.0, 0.0, 0.0, 0.0, 0.0, 0.0, 0.0, 0.0, 0.0, 0.0, 0.0], [0.013405072502791882, 0.003822584869340062, 5.456634607980959e-05, 2.199898290200508e-06, 4.356845551001243e-08, 7.622948487551184e-06, 2.521426495150081e-06, 0.97718745470047, 0.00038619383121840656, 7.011440629867138e-06, 1.9853814592352137e-06, 4.925765097141266e-06, 0.0010224758880212903, 4.23561577918008e-05, 1.019769479171373e-05, 6.966367800487205e-05, 0.00014024472329765558, 3.250983127145446e-07, 9.88566898740828e-06, 7.996567887857964e-07, 2.2618167349719442e-05, 0.0033558637369424105, 0.00041223381413146853, 3.2074885893962346e-06, 1.043666397748666e-08, 4.913397788186558e-06, 2.295643753313925e-05, 0.0, 0.0, 0.0, 0.0, 0.0, 0.0, 0.0, 0.0, 0.0, 0.0, 0.0, 0.0, 0.0], [0.04320032149553299, 0.00010010639380197972, 6.206719990586862e-05, 4.037000508105848e-06, 6.049774725624957e-08, 0.00016287891776300967, 4.340374726297114e-09, 0.00023197010159492493, 0.9491813778877258, 3.033132088603452e-05, 5.089810315439536e-07, 1.9490669274091488e-06, 5.243187115411274e-05, 3.917785579687916e-05, 0.0038939150981605053, 0.0005027400329709053, 0.0018421121640130877, 5.8347850426798686e-05, 2.4272902010125108e-05, 7.335495320148766e-05, 0.00019005841750185937, 4.14015376009047e-05, 0.0001781528553692624, 2.0290835891501047e-06, 1.7578132727180673e-08, 8.607190102338791e-05, 9.149840707323165e-08, 4.0198494389187545e-05, 0.0, 0.0, 0.0, 0.0, 0.0, 0.0, 0.0, 0.0, 0.0, 0.0, 0.0, 0.0], [0.03080698847770691, 0.0012662404915317893, 0.00017142518481705338, 8.147977496264502e-06, 8.89880453769365e-08, 2.121382931363769e-05, 5.48637713038147e-09, 9.548904927214608e-05, 5.726182644139044e-05, 0.9663519859313965, 1.4788991393288597e-05, 2.318116821697913e-05, 3.2902178645599633e-05, 3.732190089067444e-05, 1.0384575944044627e-05, 0.0008766078390181065, 8.766780229052529e-05, 1.301498855355021e-06, 4.372211697045714e-05, 4.777155027113622e-07, 1.692369124839388e-07, 4.576324045046931e-06, 3.968911914853379e-05, 8.056331353145652e-06, 9.18262621496524e-09, 1.5201870155578945e-05, 1.1656188547704005e-07, 5.456621238408843e-06, 1.9532006263034418e-05, 0.0, 0.0, 0.0, 0.0, 0.0, 0.0, 0.0, 0.0, 0.0, 0.0, 0.0], [0.07297589629888535, 0.004453537054359913, 6.877016858197749e-05, 0.0008184892940334976, 0.017554379999637604, 0.004852333106100559, 1.9212991446693195e-06, 0.00011124559387098998, 3.882110831909813e-05, 0.00040239247027784586, 0.8518717885017395, 0.008674006909132004, 0.003034434048458934, 0.0002786613185890019, 1.6753971294747316e-06, 0.00241681607440114, 0.001335167558863759, 4.7277933390432736e-07, 5.009373126085848e-06, 0.0005551734357140958, 3.743586057680659e-05, 8.553583029424772e-05, 4.721062214230187e-05, 0.0018260272918269038, 0.022448251023888588, 0.005830517970025539, 4.6250315790530294e-05, 4.209145117783919e-06, 4.432158675626852e-06, 0.00021915161050856113, 0.0, 0.0, 0.0, 0.0, 0.0, 0.0, 0.0, 0.0, 0.0, 0.0], [0.009889029897749424, 0.00030266979592852294, 0.00010748259228421375, 1.5929024357319577e-06, 1.0839213473445852e-06, 7.397447916446254e-05, 2.018967659722648e-09, 1.3133390893926844e-05, 0.00016979710198938847, 3.2969842322927434e-06, 7.189260486484272e-06, 0.986661970615387, 0.0015866387402638793, 6.892471719766036e-05, 4.5098033297108486e-05, 0.00016468195826746523, 0.00019525884999893606, 6.636352622990671e-08, 4.885247335550957e-07, 2.0609679722838337e-06, 2.1837455278728157e-05, 0.00038712777313776314, 0.0001324583572568372, 7.710486897849478e-06, 6.127029337221757e-07, 5.9379883168730885e-05, 2.0675528844549262e-08, 1.5178628132161975e-07, 2.3973780116648413e-05, 3.489005848678062e-07, 7.197976810857654e-05, 0.0, 0.0, 0.0, 0.0, 0.0, 0.0, 0.0, 0.0, 0.0], [0.06073509529232979, 0.028699249029159546, 0.003803693689405918, 0.0001227923494298011, 8.951330528361723e-06, 0.00120574701577425, 6.411091391100854e-08, 0.0023519794922322035, 0.0008441325626336038, 3.953078703489155e-06, 2.62547328020446e-05, 0.0004279820423107594, 0.806647002696991, 0.04759734869003296, 0.025853125378489494, 0.012560578063130379, 0.00044067579437978566, 9.198939778798376e-07, 4.2072781070601195e-05, 9.830110684561078e-06, 0.00039168327930383384, 0.0028550620190799236, 0.0028786470647901297, 0.00015300040831789374, 2.5752040073712124e-06, 0.0007038656622171402, 5.806497824778489e-07, 0.00040777988033369184, 0.0007244368316605687, 6.205519298418949e-07, 2.766894976957701e-05, 0.00047253587399609387, 0.0, 0.0, 0.0, 0.0, 0.0, 0.0, 0.0, 0.0], [0.08105010539293289, 0.00034287196467630565, 0.0001297983544645831, 5.974509258521721e-05, 1.1238108527322765e-05, 0.00026291675749234855, 8.140415425073044e-11, 8.278566951958055e-07, 2.449582279950846e-05, 6.758625659131212e-07, 3.7207873901934363e-06, 4.665533651859732e-06, 0.0002766858960967511, 0.9119887948036194, 0.0015015109675005078, 0.0033925087191164494, 8.732100832276046e-05, 1.8099970475304872e-05, 2.1799693058710545e-05, 1.1245276709814789e-06, 5.646152203553356e-06, 3.4382890135020716e-06, 6.367250080074882e-06, 2.7455613235360943e-05, 2.785935976135079e-06, 0.00013083420344628394, 1.125706194926579e-09, 8.025353714913308e-09, 1.1663772966130637e-05, 2.8114540029378077e-08, 1.8039233964373125e-06, 4.132629783271113e-06, 0.0006269142613746226, 0.0, 0.0, 0.0, 0.0, 0.0, 0.0, 0.0], [0.009156549349427223, 3.8779697206337005e-05, 2.539526394684799e-05, 2.0730686856040847e-07, 6.456511414398847e-08, 4.193226686766138e-06, 4.7436131411782156e-11, 1.7505794858152512e-06, 0.0006017477135173976, 3.6607336824090453e-06, 2.8152840059192386e-07, 4.230518243275583e-06, 5.9756817790912464e-05, 0.00016361981397494674, 0.9873887300491333, 0.001786713721230626, 1.4165144420985598e-05, 4.828455530514475e-06, 1.7894974462251412e-06, 6.116157237556763e-06, 2.0103912902413867e-05, 6.098872518123244e-07, 2.7928704184887465e-06, 6.543269392977891e-08, 9.33687704929298e-09, 8.556568786843854e-07, 2.9390870293077853e-10, 5.933196689511533e-08, 0.00019486840756144375, 6.247290684768814e-07, 4.896965606349113e-07, 7.4194540502503514e-06, 0.0002118894481100142, 0.00029762578196823597, 0.0, 0.0, 0.0, 0.0, 0.0, 0.0], [0.02424153871834278, 0.00012358062667772174, 0.00016311381477862597, 1.4156978068058379e-05, 1.1818950724773458e-06, 0.0005167354829609394, 3.3380739949961935e-08, 1.1496805200295057e-05, 0.00015965533384587616, 3.474371260381304e-05, 9.717606189951766e-06, 6.250346814340446e-06, 0.0001561593235237524, 0.00019057792087551206, 5.896356378798373e-05, 0.9735384583473206, 0.00023767801758367568, 3.886580543621676e-06, 1.1883446404681308e-07, 3.5999732062919065e-05, 2.150528052879963e-05, 5.964272986602737e-07, 8.116874960251153e-05, 7.330017069762107e-06, 2.263096376964313e-07, 0.00020198806305415928, 5.665056690418169e-08, 1.6046853090756485e-07, 1.5466423064935952e-05, 2.821766884153476e-06, 6.420973477361258e-06, 2.4360620045627e-06, 8.450975292362273e-05, 7.604289294249611e-06, 6.37345074210316e-05, 0.0, 0.0, 0.0, 0.0, 0.0], [0.07747755199670792, 0.0003176322497893125, 0.0007390857208520174, 0.00010279430716764182, 0.00023649330250918865, 0.0015224546659737825, 2.9938533874229734e-09, 6.838140689069405e-05, 0.0004891211865469813, 1.9727134713320993e-05, 0.00012906779011245817, 5.060323019279167e-05, 2.1172383640077896e-05, 0.00014658304280601442, 7.5864072641707025e-06, 0.0006145031074993312, 0.9157568216323853, 0.0008419275400228798, 3.0122557745926315e-06, 0.00021597642626147717, 2.7091462470707484e-05, 5.78422550461255e-05, 0.00030159897869452834, 3.691134770633653e-05, 2.8807513444917277e-05, 0.0005609208019450307, 9.581157200955204e-08, 1.6185437061722041e-06, 7.774632103974e-05, 8.005146696632437e-07, 3.2600721169728786e-05, 1.0917249710473698e-05, 5.222401796345366e-06, 3.6045244087290484e-06, 1.2016437267448055e-06, 9.243661043001339e-05, 0.0, 0.0, 0.0, 0.0], [0.021979186683893204, 1.896768662845716e-05, 4.78187866974622e-05, 1.6039557522162795e-05, 2.1206386691119405e-07, 1.1626781997620128e-05, 3.939006065767359e-11, 6.419161024950881e-08, 9.597040843800642e-06, 3.6334193964648875e-07, 1.6788261802958004e-07, 7.322806538923032e-08, 1.8784771782520693e-07, 0.0005404867697507143, 6.360372140079562e-07, 1.0940656466118526e-05, 4.607295704772696e-05, 0.9762505888938904, 0.0002267195814056322, 0.0007471867138519883, 3.2034786272561178e-06, 1.3958205613562313e-07, 4.457815066416515e-06, 2.5023682610481046e-06, 3.1156048407865455e-08, 3.5535174447431928e-06, 9.679600454504111e-10, 1.5340589909484947e-09, 1.2288336392884958e-06, 1.1586230641569273e-08, 2.982222468972395e-08, 1.4172587547989224e-08, 6.119554285533013e-08, 2.759213930403348e-05, 2.7104999844596023e-07, 6.131937198006199e-07, 4.939476275467314e-05, 0.0, 0.0, 0.0], [0.05329175293445587, 0.0002055232471320778, 5.408468041423475e-06, 1.8619646198203554e-06, 2.112508612484021e-09, 4.9829423005576245e-06, 2.8772886850880752e-11, 7.224003866213025e-07, 1.2862451512773987e-05, 2.953529019578127e-06, 6.358849446996828e-08, 9.470301876035592e-08, 1.998343350351206e-06, 4.845565854338929e-05, 6.011742357259209e-07, 1.1317861208226532e-06, 3.185969944752287e-06, 5.209685332374647e-05, 0.9461777806282043, 7.445348455803469e-05, 1.1223006524119228e-08, 3.087192794737348e-07, 9.257105375581887e-07, 2.5576304096830427e-07, 8.098945819545733e-11, 5.375935074880545e-07, 1.0620940793515388e-09, 2.3535886128911443e-08, 2.020576857830747e-06, 1.7827132126058132e-07, 1.72556866573359e-08, 2.6732498881187894e-08, 1.0803532859426923e-06, 2.874705273825384e-07, 3.860796482513251e-08, 1.3743314264402784e-09, 3.024087504854833e-07, 0.00010805595957208425, 0.0, 0.0], [0.025750067085027695, 0.0010159743251278996, 1.3930041404819349e-06, 1.0920522981905378e-05, 0.0001566614955663681, 9.503061301074922e-05, 1.407729087077314e-06, 4.544071089185309e-06, 0.0006493499968200922, 1.0846067652892089e-06, 0.0005986079340800643, 9.211573342327029e-06, 3.877719791489653e-06, 3.4120464988518506e-05, 3.0294845601019915e-06, 3.351365739945322e-05, 0.00017108152678702027, 5.3936837502988055e-05, 7.584521881653927e-06, 0.9701367020606995, 0.0006703029503114522, 3.38269273925107e-05, 1.3259675597510068e-06, 1.4493360140477307e-05, 0.0002143540041288361, 4.529604848357849e-05, 1.117525425797794e-05, 6.582354217243847e-08, 3.904309414792806e-05, 3.5591181557492746e-08, 0.00013555258919950575, 1.2555912007883308e-06, 1.265196260646917e-06, 8.122481176542351e-08, 4.741496866245143e-07, 9.288430078413512e-07, 5.860665623913519e-05, 3.242545062676072e-05, 1.5375524071714608e-06, 0.0], [0.030646756291389465, 0.0010562269017100334, 0.00015394728688988835, 2.975631105073262e-05, 6.55280643968581e-07, 3.126087176497094e-05, 4.75928715104601e-07, 0.00011505975999170914, 0.0012906319461762905, 4.887065188086126e-07, 4.245397212798707e-05, 8.707832603249699e-05, 4.889377305516973e-05, 0.00029068105504848063, 6.192787986947224e-05, 4.501471630646847e-05, 0.00015018046542536467, 1.5144591088755988e-05, 1.6995910527839442e-06, 5.2170991693856195e-05, 0.9607197642326355, 0.004049039911478758, 0.0005279523320496082, 0.00013015020522288978, 3.725144495092536e-07, 2.2883183191879652e-05, 2.172106405851082e-06, 7.226564775919542e-06, 0.000284748210106045, 1.0038073483542576e-08, 1.2495807823142968e-05, 2.5139093850157224e-05, 3.050560007977765e-05, 3.047275868084398e-06, 7.815940989530645e-06, 1.9643196083052317e-06, 2.3111117116059177e-05, 1.0700091479520779e-05, 2.149473061763274e-07, 2.014961137319915e-05]]]}\n",
                            "    )\n",
                            "    </script>"
                        ],
                        "text/plain": [
                            "<circuitsvis.utils.render.RenderedHTML at 0x7f96783b37d0>"
                        ]
                    },
                    "metadata": {},
                    "output_type": "display_data"
                }
            ],
            "source": [
                "induction_head_layer = 5\n",
                "induction_head_index = 5\n",
                "single_random_sequence = torch.randint(1000, 10000, (1, 20)).to(model.cfg.device)\n",
                "repeated_random_sequence = einops.repeat(single_random_sequence, \"batch seq_len -> batch (2 seq_len)\")\n",
                "def visualize_pattern_hook(\n",
                "    pattern: TT[\"batch\", \"head_index\", \"dest_pos\", \"source_pos\"],\n",
                "    hook: HookPoint,\n",
                "):\n",
                "    display(\n",
                "        cv.attention.attention_patterns(\n",
                "            tokens=model.to_str_tokens(repeated_random_sequence), \n",
                "            attention=pattern[0, induction_head_index, :, :][None, :, :] # Add a dummy axis, as CircuitsVis expects 3D patterns.\n",
                "        )\n",
                "    )\n",
                "\n",
                "model.run_with_hooks(\n",
                "    repeated_random_sequence, \n",
                "    return_type=None, \n",
                "    fwd_hooks=[(\n",
                "        utils.get_act_name(\"pattern\", induction_head_layer), \n",
                "        visualize_pattern_hook\n",
                "    )]\n",
                ")"
            ]
        },
        {
            "cell_type": "markdown",
            "metadata": {},
            "source": [
                "## Available Models"
            ]
        },
        {
            "attachments": {},
            "cell_type": "markdown",
            "metadata": {},
            "source": [
                "TransformerLens comes with over 40 open source models available, all of which can be loaded into a consistent(-ish) architecture by just changing the name in `from_pretrained`. The open source models available are [documented here](https://dynalist.io/d/n2ZWtnoYHrU1s4vnFSAQ519J#z=jHj79Pj58cgJKdq4t-ygK-4h), and a set of interpretability friendly models I've trained are [documented here](https://dynalist.io/d/n2ZWtnoYHrU1s4vnFSAQ519J#z=NCJ6zH_Okw_mUYAwGnMKsj2m), including a set of toy language models (tiny one to four layer models) and a set of [SoLU models](https://dynalist.io/d/n2ZWtnoYHrU1s4vnFSAQ519J#z=FZ5W6GGcy6OitPEaO733JLqf) up to GPT-2 Medium size (300M parameters). You can see [a table of the official alias and hyper-parameters of available models here](https://github.com/neelnanda-io/TransformerLens/blob/main/easy_transformer/model_properties_table.md).\n",
                "\n",
                "**Note:** TransformerLens does not currently support multi-GPU models (which you want for models above eg 7B parameters), but this feature is coming soon!"
            ]
        },
        {
            "cell_type": "markdown",
            "metadata": {},
            "source": [
                "\n",
                "Notably, this means that analysis can be near immediately re-run on a different model by just changing the name - to see this, let's load in DistilGPT-2 (a distilled version of GPT-2, with half as many layers) and copy the code from above to see the induction heads in that model."
            ]
        },
        {
            "cell_type": "code",
            "execution_count": 21,
            "metadata": {},
            "outputs": [
                {
                    "name": "stderr",
                    "output_type": "stream",
                    "text": [
                        "Using pad_token, but it is not set yet.\n"
                    ]
                },
                {
                    "name": "stdout",
                    "output_type": "stream",
                    "text": [
                        "Loaded pretrained model distilgpt2 into HookedTransformer\n"
                    ]
                },
                {
                    "data": {
                        "text/html": [
                            "<html>\n",
                            "<head><meta charset=\"utf-8\" /></head>\n",
                            "<body>\n",
                            "    <div>            <script src=\"https://cdnjs.cloudflare.com/ajax/libs/mathjax/2.7.5/MathJax.js?config=TeX-AMS-MML_SVG\"></script><script type=\"text/javascript\">if (window.MathJax && window.MathJax.Hub && window.MathJax.Hub.Config) {window.MathJax.Hub.Config({SVG: {font: \"STIX-Web\"}});}</script>                <script type=\"text/javascript\">window.PlotlyConfig = {MathJaxConfig: 'local'};</script>\n",
                            "        <script src=\"https://cdn.plot.ly/plotly-2.16.1.min.js\"></script>                <div id=\"98c37ee6-d1eb-4fd2-abb6-25fcea4806d8\" class=\"plotly-graph-div\" style=\"height:525px; width:100%;\"></div>            <script type=\"text/javascript\">                                    window.PLOTLYENV=window.PLOTLYENV || {};                                    if (document.getElementById(\"98c37ee6-d1eb-4fd2-abb6-25fcea4806d8\")) {                    Plotly.newPlot(                        \"98c37ee6-d1eb-4fd2-abb6-25fcea4806d8\",                        [{\"coloraxis\":\"coloraxis\",\"name\":\"0\",\"z\":[[0.009829781,0.000295377,0.012661804,0.000002316661,0.00069736416,0.000026816326,0.00860497,0.0012993761,0.008594353,0.009532456,0.00913034,0.016025914],[0.00344231,0.017788095,0.0010160812,0.0001821529,0.013304929,0.0012890853,0.0038786372,0.014899377,0.0028749132,0.00015702132,0.003935385,0.014406526],[0.011763791,0.0076388153,0.013284326,0.0024857563,0.020266755,0.004270946,0.009777707,0.0016668368,0.018351581,0.013751813,0.022175496,1.0465541e-11],[0.00946849,0.23212358,0.86168015,0.01656808,0.01690789,0.015071683,0.02012734,0.19553702,0.015999738,0.01757678,0.93703943,0.51021636],[0.27425367,0.23033048,0.089379184,0.012144947,0.08233639,0.02498175,0.6287083,0.025814235,0.06939743,0.6472505,0.017307777,0.06159132],[0.02279091,0.08241454,0.056171473,0.013680244,0.03538631,0.18700893,0.08061893,0.10577389,0.007939984,0.46560174,0.17225139,0.031069668]],\"type\":\"heatmap\",\"xaxis\":\"x\",\"yaxis\":\"y\",\"hovertemplate\":\"Head: %{x}<br>Layer: %{y}<br>color: %{z}<extra></extra>\"}],                        {\"template\":{\"data\":{\"histogram2dcontour\":[{\"type\":\"histogram2dcontour\",\"colorbar\":{\"outlinewidth\":0,\"ticks\":\"\"},\"colorscale\":[[0.0,\"#0d0887\"],[0.1111111111111111,\"#46039f\"],[0.2222222222222222,\"#7201a8\"],[0.3333333333333333,\"#9c179e\"],[0.4444444444444444,\"#bd3786\"],[0.5555555555555556,\"#d8576b\"],[0.6666666666666666,\"#ed7953\"],[0.7777777777777778,\"#fb9f3a\"],[0.8888888888888888,\"#fdca26\"],[1.0,\"#f0f921\"]]}],\"choropleth\":[{\"type\":\"choropleth\",\"colorbar\":{\"outlinewidth\":0,\"ticks\":\"\"}}],\"histogram2d\":[{\"type\":\"histogram2d\",\"colorbar\":{\"outlinewidth\":0,\"ticks\":\"\"},\"colorscale\":[[0.0,\"#0d0887\"],[0.1111111111111111,\"#46039f\"],[0.2222222222222222,\"#7201a8\"],[0.3333333333333333,\"#9c179e\"],[0.4444444444444444,\"#bd3786\"],[0.5555555555555556,\"#d8576b\"],[0.6666666666666666,\"#ed7953\"],[0.7777777777777778,\"#fb9f3a\"],[0.8888888888888888,\"#fdca26\"],[1.0,\"#f0f921\"]]}],\"heatmap\":[{\"type\":\"heatmap\",\"colorbar\":{\"outlinewidth\":0,\"ticks\":\"\"},\"colorscale\":[[0.0,\"#0d0887\"],[0.1111111111111111,\"#46039f\"],[0.2222222222222222,\"#7201a8\"],[0.3333333333333333,\"#9c179e\"],[0.4444444444444444,\"#bd3786\"],[0.5555555555555556,\"#d8576b\"],[0.6666666666666666,\"#ed7953\"],[0.7777777777777778,\"#fb9f3a\"],[0.8888888888888888,\"#fdca26\"],[1.0,\"#f0f921\"]]}],\"heatmapgl\":[{\"type\":\"heatmapgl\",\"colorbar\":{\"outlinewidth\":0,\"ticks\":\"\"},\"colorscale\":[[0.0,\"#0d0887\"],[0.1111111111111111,\"#46039f\"],[0.2222222222222222,\"#7201a8\"],[0.3333333333333333,\"#9c179e\"],[0.4444444444444444,\"#bd3786\"],[0.5555555555555556,\"#d8576b\"],[0.6666666666666666,\"#ed7953\"],[0.7777777777777778,\"#fb9f3a\"],[0.8888888888888888,\"#fdca26\"],[1.0,\"#f0f921\"]]}],\"contourcarpet\":[{\"type\":\"contourcarpet\",\"colorbar\":{\"outlinewidth\":0,\"ticks\":\"\"}}],\"contour\":[{\"type\":\"contour\",\"colorbar\":{\"outlinewidth\":0,\"ticks\":\"\"},\"colorscale\":[[0.0,\"#0d0887\"],[0.1111111111111111,\"#46039f\"],[0.2222222222222222,\"#7201a8\"],[0.3333333333333333,\"#9c179e\"],[0.4444444444444444,\"#bd3786\"],[0.5555555555555556,\"#d8576b\"],[0.6666666666666666,\"#ed7953\"],[0.7777777777777778,\"#fb9f3a\"],[0.8888888888888888,\"#fdca26\"],[1.0,\"#f0f921\"]]}],\"surface\":[{\"type\":\"surface\",\"colorbar\":{\"outlinewidth\":0,\"ticks\":\"\"},\"colorscale\":[[0.0,\"#0d0887\"],[0.1111111111111111,\"#46039f\"],[0.2222222222222222,\"#7201a8\"],[0.3333333333333333,\"#9c179e\"],[0.4444444444444444,\"#bd3786\"],[0.5555555555555556,\"#d8576b\"],[0.6666666666666666,\"#ed7953\"],[0.7777777777777778,\"#fb9f3a\"],[0.8888888888888888,\"#fdca26\"],[1.0,\"#f0f921\"]]}],\"mesh3d\":[{\"type\":\"mesh3d\",\"colorbar\":{\"outlinewidth\":0,\"ticks\":\"\"}}],\"scatter\":[{\"fillpattern\":{\"fillmode\":\"overlay\",\"size\":10,\"solidity\":0.2},\"type\":\"scatter\"}],\"parcoords\":[{\"type\":\"parcoords\",\"line\":{\"colorbar\":{\"outlinewidth\":0,\"ticks\":\"\"}}}],\"scatterpolargl\":[{\"type\":\"scatterpolargl\",\"marker\":{\"colorbar\":{\"outlinewidth\":0,\"ticks\":\"\"}}}],\"bar\":[{\"error_x\":{\"color\":\"#2a3f5f\"},\"error_y\":{\"color\":\"#2a3f5f\"},\"marker\":{\"line\":{\"color\":\"#E5ECF6\",\"width\":0.5},\"pattern\":{\"fillmode\":\"overlay\",\"size\":10,\"solidity\":0.2}},\"type\":\"bar\"}],\"scattergeo\":[{\"type\":\"scattergeo\",\"marker\":{\"colorbar\":{\"outlinewidth\":0,\"ticks\":\"\"}}}],\"scatterpolar\":[{\"type\":\"scatterpolar\",\"marker\":{\"colorbar\":{\"outlinewidth\":0,\"ticks\":\"\"}}}],\"histogram\":[{\"marker\":{\"pattern\":{\"fillmode\":\"overlay\",\"size\":10,\"solidity\":0.2}},\"type\":\"histogram\"}],\"scattergl\":[{\"type\":\"scattergl\",\"marker\":{\"colorbar\":{\"outlinewidth\":0,\"ticks\":\"\"}}}],\"scatter3d\":[{\"type\":\"scatter3d\",\"line\":{\"colorbar\":{\"outlinewidth\":0,\"ticks\":\"\"}},\"marker\":{\"colorbar\":{\"outlinewidth\":0,\"ticks\":\"\"}}}],\"scattermapbox\":[{\"type\":\"scattermapbox\",\"marker\":{\"colorbar\":{\"outlinewidth\":0,\"ticks\":\"\"}}}],\"scatterternary\":[{\"type\":\"scatterternary\",\"marker\":{\"colorbar\":{\"outlinewidth\":0,\"ticks\":\"\"}}}],\"scattercarpet\":[{\"type\":\"scattercarpet\",\"marker\":{\"colorbar\":{\"outlinewidth\":0,\"ticks\":\"\"}}}],\"carpet\":[{\"aaxis\":{\"endlinecolor\":\"#2a3f5f\",\"gridcolor\":\"white\",\"linecolor\":\"white\",\"minorgridcolor\":\"white\",\"startlinecolor\":\"#2a3f5f\"},\"baxis\":{\"endlinecolor\":\"#2a3f5f\",\"gridcolor\":\"white\",\"linecolor\":\"white\",\"minorgridcolor\":\"white\",\"startlinecolor\":\"#2a3f5f\"},\"type\":\"carpet\"}],\"table\":[{\"cells\":{\"fill\":{\"color\":\"#EBF0F8\"},\"line\":{\"color\":\"white\"}},\"header\":{\"fill\":{\"color\":\"#C8D4E3\"},\"line\":{\"color\":\"white\"}},\"type\":\"table\"}],\"barpolar\":[{\"marker\":{\"line\":{\"color\":\"#E5ECF6\",\"width\":0.5},\"pattern\":{\"fillmode\":\"overlay\",\"size\":10,\"solidity\":0.2}},\"type\":\"barpolar\"}],\"pie\":[{\"automargin\":true,\"type\":\"pie\"}]},\"layout\":{\"autotypenumbers\":\"strict\",\"colorway\":[\"#636efa\",\"#EF553B\",\"#00cc96\",\"#ab63fa\",\"#FFA15A\",\"#19d3f3\",\"#FF6692\",\"#B6E880\",\"#FF97FF\",\"#FECB52\"],\"font\":{\"color\":\"#2a3f5f\"},\"hovermode\":\"closest\",\"hoverlabel\":{\"align\":\"left\"},\"paper_bgcolor\":\"white\",\"plot_bgcolor\":\"#E5ECF6\",\"polar\":{\"bgcolor\":\"#E5ECF6\",\"angularaxis\":{\"gridcolor\":\"white\",\"linecolor\":\"white\",\"ticks\":\"\"},\"radialaxis\":{\"gridcolor\":\"white\",\"linecolor\":\"white\",\"ticks\":\"\"}},\"ternary\":{\"bgcolor\":\"#E5ECF6\",\"aaxis\":{\"gridcolor\":\"white\",\"linecolor\":\"white\",\"ticks\":\"\"},\"baxis\":{\"gridcolor\":\"white\",\"linecolor\":\"white\",\"ticks\":\"\"},\"caxis\":{\"gridcolor\":\"white\",\"linecolor\":\"white\",\"ticks\":\"\"}},\"coloraxis\":{\"colorbar\":{\"outlinewidth\":0,\"ticks\":\"\"}},\"colorscale\":{\"sequential\":[[0.0,\"#0d0887\"],[0.1111111111111111,\"#46039f\"],[0.2222222222222222,\"#7201a8\"],[0.3333333333333333,\"#9c179e\"],[0.4444444444444444,\"#bd3786\"],[0.5555555555555556,\"#d8576b\"],[0.6666666666666666,\"#ed7953\"],[0.7777777777777778,\"#fb9f3a\"],[0.8888888888888888,\"#fdca26\"],[1.0,\"#f0f921\"]],\"sequentialminus\":[[0.0,\"#0d0887\"],[0.1111111111111111,\"#46039f\"],[0.2222222222222222,\"#7201a8\"],[0.3333333333333333,\"#9c179e\"],[0.4444444444444444,\"#bd3786\"],[0.5555555555555556,\"#d8576b\"],[0.6666666666666666,\"#ed7953\"],[0.7777777777777778,\"#fb9f3a\"],[0.8888888888888888,\"#fdca26\"],[1.0,\"#f0f921\"]],\"diverging\":[[0,\"#8e0152\"],[0.1,\"#c51b7d\"],[0.2,\"#de77ae\"],[0.3,\"#f1b6da\"],[0.4,\"#fde0ef\"],[0.5,\"#f7f7f7\"],[0.6,\"#e6f5d0\"],[0.7,\"#b8e186\"],[0.8,\"#7fbc41\"],[0.9,\"#4d9221\"],[1,\"#276419\"]]},\"xaxis\":{\"gridcolor\":\"white\",\"linecolor\":\"white\",\"ticks\":\"\",\"title\":{\"standoff\":15},\"zerolinecolor\":\"white\",\"automargin\":true,\"zerolinewidth\":2},\"yaxis\":{\"gridcolor\":\"white\",\"linecolor\":\"white\",\"ticks\":\"\",\"title\":{\"standoff\":15},\"zerolinecolor\":\"white\",\"automargin\":true,\"zerolinewidth\":2},\"scene\":{\"xaxis\":{\"backgroundcolor\":\"#E5ECF6\",\"gridcolor\":\"white\",\"linecolor\":\"white\",\"showbackground\":true,\"ticks\":\"\",\"zerolinecolor\":\"white\",\"gridwidth\":2},\"yaxis\":{\"backgroundcolor\":\"#E5ECF6\",\"gridcolor\":\"white\",\"linecolor\":\"white\",\"showbackground\":true,\"ticks\":\"\",\"zerolinecolor\":\"white\",\"gridwidth\":2},\"zaxis\":{\"backgroundcolor\":\"#E5ECF6\",\"gridcolor\":\"white\",\"linecolor\":\"white\",\"showbackground\":true,\"ticks\":\"\",\"zerolinecolor\":\"white\",\"gridwidth\":2}},\"shapedefaults\":{\"line\":{\"color\":\"#2a3f5f\"}},\"annotationdefaults\":{\"arrowcolor\":\"#2a3f5f\",\"arrowhead\":0,\"arrowwidth\":1},\"geo\":{\"bgcolor\":\"white\",\"landcolor\":\"#E5ECF6\",\"subunitcolor\":\"white\",\"showland\":true,\"showlakes\":true,\"lakecolor\":\"white\"},\"title\":{\"x\":0.05},\"mapbox\":{\"style\":\"light\"}}},\"xaxis\":{\"anchor\":\"y\",\"domain\":[0.0,1.0],\"scaleanchor\":\"y\",\"constrain\":\"domain\",\"title\":{\"text\":\"Head\"}},\"yaxis\":{\"anchor\":\"x\",\"domain\":[0.0,1.0],\"autorange\":\"reversed\",\"constrain\":\"domain\",\"title\":{\"text\":\"Layer\"}},\"coloraxis\":{\"colorscale\":[[0.0,\"rgb(103,0,31)\"],[0.1,\"rgb(178,24,43)\"],[0.2,\"rgb(214,96,77)\"],[0.3,\"rgb(244,165,130)\"],[0.4,\"rgb(253,219,199)\"],[0.5,\"rgb(247,247,247)\"],[0.6,\"rgb(209,229,240)\"],[0.7,\"rgb(146,197,222)\"],[0.8,\"rgb(67,147,195)\"],[0.9,\"rgb(33,102,172)\"],[1.0,\"rgb(5,48,97)\"]],\"cmid\":0.0},\"title\":{\"text\":\"Induction Score by Head in Distil GPT-2\"}},                        {\"responsive\": true}                    ).then(function(){\n",
                            "                            \n",
                            "var gd = document.getElementById('98c37ee6-d1eb-4fd2-abb6-25fcea4806d8');\n",
                            "var x = new MutationObserver(function (mutations, observer) {{\n",
                            "        var display = window.getComputedStyle(gd).display;\n",
                            "        if (!display || display === 'none') {{\n",
                            "            console.log([gd, 'removed!']);\n",
                            "            Plotly.purge(gd);\n",
                            "            observer.disconnect();\n",
                            "        }}\n",
                            "}});\n",
                            "\n",
                            "// Listen for the removal of the full notebook cells\n",
                            "var notebookContainer = gd.closest('#notebook-container');\n",
                            "if (notebookContainer) {{\n",
                            "    x.observe(notebookContainer, {childList: true});\n",
                            "}}\n",
                            "\n",
                            "// Listen for the clearing of the current output cell\n",
                            "var outputEl = gd.closest('.output');\n",
                            "if (outputEl) {{\n",
                            "    x.observe(outputEl, {childList: true});\n",
                            "}}\n",
                            "\n",
                            "                        })                };                            </script>        </div>\n",
                            "</body>\n",
                            "</html>"
                        ]
                    },
                    "metadata": {},
                    "output_type": "display_data"
                }
            ],
            "source": [
                "distilgpt2 = HookedTransformer.from_pretrained(\"distilgpt2\")\n",
                "# We make a tensor to store the induction score for each head. We put it on the model's device to avoid needing to move things between the GPU and CPU, which can be slow.\n",
                "distilgpt2_induction_score_store = torch.zeros((distilgpt2.cfg.n_layers, distilgpt2.cfg.n_heads), device=distilgpt2.cfg.device)\n",
                "def induction_score_hook(\n",
                "    pattern: TT[\"batch\", \"head_index\", \"dest_pos\", \"source_pos\"],\n",
                "    hook: HookPoint,\n",
                "):\n",
                "    # We take the diagonal of attention paid from each destination position to source positions seq_len-1 tokens back\n",
                "    # (This only has entries for tokens with index>=seq_len)\n",
                "    induction_stripe = pattern.diagonal(dim1=-2, dim2=-1, offset=1-seq_len)\n",
                "    # Get an average score per head\n",
                "    induction_score = einops.reduce(induction_stripe, \"batch head_index position -> head_index\", \"mean\")\n",
                "    # Store the result.\n",
                "    distilgpt2_induction_score_store[hook.layer(), :] = induction_score\n",
                "\n",
                "# We make a boolean filter on activation names, that's true only on attention pattern names.\n",
                "pattern_hook_names_filter = lambda name: name.endswith(\"pattern\")\n",
                "\n",
                "distilgpt2.run_with_hooks(\n",
                "    repeated_tokens, \n",
                "    return_type=None, # For efficiency, we don't need to calculate the logits\n",
                "    fwd_hooks=[(\n",
                "        pattern_hook_names_filter,\n",
                "        induction_score_hook\n",
                "    )]\n",
                ")\n",
                "\n",
                "imshow(distilgpt2_induction_score_store, xaxis=\"Head\", yaxis=\"Layer\", title=\"Induction Score by Head in Distil GPT-2\")"
            ]
        },
        {
            "cell_type": "markdown",
            "metadata": {},
            "source": [
                "\n",
                "### An overview of the important open source models in the library\n",
                "\n",
                "* **GPT-2** - the classic generative pre-trained models from OpenAI\n",
                "    * Sizes Small (85M), Medium (300M), Large (700M) and XL (1.5B).\n",
                "    * Trained on ~22B tokens of internet text. ([Open source replication](https://huggingface.co/datasets/openwebtext))\n",
                "* **GPT-Neo** - Eleuther's replication of GPT-2\n",
                "    * Sizes 125M, 1.3B, 2.7B\n",
                "    * Trained on 300B(ish?) tokens of [the Pile](https://pile.eleuther.ai/) a large and diverse dataset including a bunch of code (and weird stuff)\n",
                "* **[OPT](https://ai.facebook.com/blog/democratizing-access-to-large-scale-language-models-with-opt-175b/)** - Meta AI's series of open source models\n",
                "    * Trained on 180B tokens of diverse text.\n",
                "    * 125M, 1.3B, 2.7B, 6.7B, 13B, 30B, 66B\n",
                "* **GPT-J** - Eleuther's 6B parameter model, trained on the Pile\n",
                "* **GPT-NeoX** - Eleuther's 20B parameter model, trained on the Pile\n",
                "* **Stanford CRFM models** - a replication of GPT-2 Small and GPT-2 Medium, trained on 5 different random seeds.\n",
                "    * Notably, 600 checkpoints were taken during training per model, and these are available in the library with eg `HookedTransformer.from_pretrained(\"stanford-gpt2-small-a\", checkpoint_index=265)`.\n",
                "</details>"
            ]
        },
        {
            "cell_type": "markdown",
            "metadata": {},
            "source": [
                "\n",
                "### An overview of some interpretability-friendly models I've trained and included\n",
                "\n",
                "(Feel free to [reach out](mailto:neelnanda27@gmail.com) if you want more details on any of these models)\n",
                "\n",
                "Each of these models has about ~200 checkpoints taken during training that can also be loaded from TransformerLens, with the `checkpoint_index` argument to `from_pretrained`.\n",
                "\n",
                "Note that all models are trained with a Beginning of Sequence token, and will likely break if given inputs without that! \n",
                "\n",
                "* **Toy Models**: Inspired by [A Mathematical Framework](https://transformer-circuits.pub/2021/framework/index.html), I've trained 12 tiny language models, of 1-4L and each of width 512. I think that interpreting these is likely to be far more tractable than larger models, and both serve as good practice and will likely contain motifs and circuits that generalise to far larger models (like induction heads):\n",
                "    * Attention-Only models (ie without MLPs): attn-only-1l, attn-only-2l, attn-only-3l, attn-only-4l\n",
                "    * GELU models (ie with MLP, and the standard GELU activations): gelu-1l, gelu-2l, gelu-3l, gelu-4l\n",
                "    * SoLU models (ie with MLP, and [Anthropic's SoLU activation](https://transformer-circuits.pub/2022/solu/index.html), designed to make MLP neurons more interpretable): solu-1l, solu-2l, solu-3l, solu-4l\n",
                "    * All models are trained on 22B tokens of data, 80% from C4 (web text) and 20% from Python Code\n",
                "    * Models of the same layer size were trained with the same weight initialization and data shuffle, to more directly compare the effect of different activation functions.\n",
                "* **SoLU** models: A larger scan of models trained with [Anthropic's SoLU activation](https://transformer-circuits.pub/2022/solu/index.html), in the hopes that it makes the MLP neuron interpretability easier. \n",
                "    * A scan up to GPT-2 Medium size, trained on 30B tokens of the same data as toy models, 80% from C4 and 20% from Python code. \n",
                "        * solu-6l (40M), solu-8l (100M), solu-10l (200M), solu-12l (340M)\n",
                "    * An older scan up to GPT-2 Medium size, trained on 15B tokens of [the Pile](https://pile.eleuther.ai/)\n",
                "        * solu-1l-pile (13M), solu-2l-pile (13M), solu-4l-pile (13M), solu-6l-pile (40M), solu-8l-pile (100M), solu-10l-pile (200M), solu-12l-pile (340M)"
            ]
        },
        {
            "attachments": {},
            "cell_type": "markdown",
            "metadata": {},
            "source": [
                "## Other Resources:\n",
                "\n",
                "* [Concrete Steps to Get Started in Mechanistic Interpretability](https://neelnanda.io/getting-started): A guide I wrote for how to get involved in mechanistic interpretability, and how to learn the basic skills\n",
                "* [A Comprehensive Mechanistic Interpretability Explainer](https://neelnanda.io/glossary): An overview of concepts in the field and surrounding ideas in ML and transformers, with long digressions to give context and build intuitions.\n",
                "* [Concrete Open Problems in Mechanistic Interpretability](https://neelnanda.io/concrete-open-problems), a doc I wrote giving a long list of open problems in mechanistic interpretability, and thoughts on how to get started on trying to work on them. \n",
                "    * There's a lot of low-hanging fruit in the field, and I expect that many people reading this could use TransformerLens to usefully make progress on some of these!\n",
                "* Other demos:\n",
                "    * **[Exploratory Analysis Demo](https://neelnanda.io/exploratory-analysis-demo)**, a demonstration of my standard toolkit for how to use TransformerLens to explore a mysterious behaviour in a language model.\n",
                "    * [Interpretability in the Wild](https://github.com/redwoodresearch/Easy-Transformer) a codebase from Arthur Conmy and Alex Variengien at Redwood research using this library to do a detailed and rigorous reverse engineering of the Indirect Object Identification circuit, to accompany their paper\n",
                "        * Note - this was based on an earlier version of this library, called EasyTransformer. It's pretty similar, but several breaking changes have been made since. \n",
                "    * A [recorded walkthrough](https://www.youtube.com/watch?v=yo4QvDn-vsU) of me doing research with TransformerLens on whether a tiny model can re-derive positional information, with [an accompanying Colab](https://colab.research.google.com/github/neelnanda-io/TransformerLens/blob/main/No_Position_Experiment.ipynb)\n",
                "* [Neuroscope](https://neuroscope.io), a website showing the text in the dataset that most activates each neuron in some selected models. Good to explore to get a sense for what kind of features the model tends to represent, and as a \"wiki\" to get some info\n",
                "    * A tutorial on how to make an [Interactive Neuroscope](https://github.com/neelnanda-io/TransformerLens/blob/main/Hacky-Interactive-Lexoscope.ipynb), where you type in text and see the neuron activations over the text update live."
            ]
        },
        {
            "cell_type": "markdown",
            "metadata": {},
            "source": [
                "## Transformer architecture\n",
                "\n",
                "HookedTransformer is a somewhat adapted GPT-2 architecture, but is computationally identical. The most significant changes are to the internal structure of the attention heads: \n",
                "* The weights (W_K, W_Q, W_V) mapping the residual stream to queries, keys and values are 3 separate matrices, rather than big concatenated one.\n",
                "* The weight matrices (W_K, W_Q, W_V, W_O) and activations (keys, queries, values, z (values mixed by attention pattern)) have separate head_index and d_head axes, rather than flattening them into one big axis.\n",
                "    * The activations all have shape `[batch, position, head_index, d_head]`\n",
                "    * W_K, W_Q, W_V have shape `[head_index, d_head, d_model]` and W_O has shape `[head_index, d_model, d_head]`\n",
                "\n",
                "The actual code is a bit of a mess, as there's a variety of Boolean flags to make it consistent with the various different model families in TransformerLens - to understand it and the internal structure, I instead recommend reading the code in [CleanTransformerDemo](https://colab.research.google.com/github/neelnanda-io/TransformerLens/blob/clean-transformer-demo/Clean_Transformer_Demo.ipynb)"
            ]
        },
        {
            "cell_type": "markdown",
            "metadata": {},
            "source": [
                "### Parameter Names\n",
                "\n",
                "Here is a list of the parameters and shapes in the model. By convention, all weight matrices multiply on the right (ie `new_activation = old_activation @ weights + bias`). \n",
                "\n",
                "Reminder of the key hyper-params:\n",
                "* `n_layers`: 12. The number of transformer blocks in the model (a block contains an attention layer and an MLP layer)\n",
                "* `n_heads`: 12. The number of attention heads per attention layer\n",
                "* `d_model`: 768. The residual stream width.\n",
                "* `d_head`: 64. The internal dimension of an attention head activation.\n",
                "* `d_mlp`: 3072. The internal dimension of the MLP layers (ie the number of neurons).\n",
                "* `d_vocab`: 50267. The number of tokens in the vocabulary.\n",
                "* `n_ctx`: 1024. The maximum number of tokens in an input prompt.\n"
            ]
        },
        {
            "cell_type": "markdown",
            "metadata": {},
            "source": [
                "**Transformer Block parameters:** \n",
                "Replace 0 with the relevant layer index."
            ]
        },
        {
            "cell_type": "code",
            "execution_count": 22,
            "metadata": {},
            "outputs": [
                {
                    "name": "stdout",
                    "output_type": "stream",
                    "text": [
                        "blocks.0.attn.W_Q torch.Size([12, 768, 64])\n",
                        "blocks.0.attn.W_K torch.Size([12, 768, 64])\n",
                        "blocks.0.attn.W_V torch.Size([12, 768, 64])\n",
                        "blocks.0.attn.W_O torch.Size([12, 64, 768])\n",
                        "blocks.0.attn.b_Q torch.Size([12, 64])\n",
                        "blocks.0.attn.b_K torch.Size([12, 64])\n",
                        "blocks.0.attn.b_V torch.Size([12, 64])\n",
                        "blocks.0.attn.b_O torch.Size([768])\n",
                        "blocks.0.mlp.W_in torch.Size([768, 3072])\n",
                        "blocks.0.mlp.b_in torch.Size([3072])\n",
                        "blocks.0.mlp.W_out torch.Size([3072, 768])\n",
                        "blocks.0.mlp.b_out torch.Size([768])\n"
                    ]
                }
            ],
            "source": [
                "for name, param in model.named_parameters():\n",
                "    if name.startswith(\"blocks.0.\"):\n",
                "        print(name, param.shape)"
            ]
        },
        {
            "cell_type": "markdown",
            "metadata": {},
            "source": [
                "**Embedding & Unembedding parameters:**"
            ]
        },
        {
            "cell_type": "code",
            "execution_count": 23,
            "metadata": {},
            "outputs": [
                {
                    "name": "stdout",
                    "output_type": "stream",
                    "text": [
                        "embed.W_E torch.Size([50257, 768])\n",
                        "pos_embed.W_pos torch.Size([1024, 768])\n",
                        "unembed.W_U torch.Size([768, 50257])\n",
                        "unembed.b_U torch.Size([50257])\n"
                    ]
                }
            ],
            "source": [
                "for name, param in model.named_parameters():\n",
                "    if not name.startswith(\"blocks\"):\n",
                "        print(name, param.shape)"
            ]
        },
        {
            "attachments": {},
            "cell_type": "markdown",
            "metadata": {},
            "source": [
                "### Activation + Hook Names\n",
                "\n",
                "Lets get out a list of the activation/hook names in the model and their shapes. In practice, I recommend using the `utils.get_act_name` function to get the names, but this is a useful fallback, and necessary to eg write a name filter function.\n",
                "\n",
                "Let's do this by entering in a short, 10 token prompt, and add a hook function to each activations to print its name and shape. To avoid spam, let's just add this to activations in the first block or not in a block.\n",
                "\n",
                "Note 1: Each LayerNorm has a hook for the scale factor (ie the standard deviation of the input activations for each token position & batch element) and for the normalized output (ie the input activation with mean 0 and standard deviation 1, but *before* applying scaling or translating with learned weights). LayerNorm is applied every time a layer reads from the residual stream: `ln1` is the LayerNorm before the attention layer in a block, `ln2` the one before the MLP layer, and `ln_final` is the LayerNorm before the unembed. \n",
                "\n",
                "Note 2: *Every* activation apart from the attention pattern and attention scores has shape beginning with `[batch, position]`. The attention pattern and scores have shape `[batch, head_index, dest_position, source_position]` (the numbers are the same, unless we're using caching)."
            ]
        },
        {
            "cell_type": "code",
            "execution_count": 24,
            "metadata": {},
            "outputs": [
                {
                    "name": "stdout",
                    "output_type": "stream",
                    "text": [
                        "Num tokens: 1\n",
                        "hook_embed torch.Size([1, 10, 768])\n",
                        "hook_pos_embed torch.Size([1, 10, 768])\n",
                        "blocks.0.hook_resid_pre torch.Size([1, 10, 768])\n",
                        "blocks.0.ln1.hook_scale torch.Size([1, 10, 1])\n",
                        "blocks.0.ln1.hook_normalized torch.Size([1, 10, 768])\n",
                        "blocks.0.attn.hook_q torch.Size([1, 10, 12, 64])\n",
                        "blocks.0.attn.hook_k torch.Size([1, 10, 12, 64])\n",
                        "blocks.0.attn.hook_v torch.Size([1, 10, 12, 64])\n",
                        "blocks.0.attn.hook_attn_scores torch.Size([1, 12, 10, 10])\n",
                        "blocks.0.attn.hook_pattern torch.Size([1, 12, 10, 10])\n",
                        "blocks.0.attn.hook_z torch.Size([1, 10, 12, 64])\n",
                        "blocks.0.hook_attn_out torch.Size([1, 10, 768])\n",
                        "blocks.0.hook_resid_mid torch.Size([1, 10, 768])\n",
                        "blocks.0.ln2.hook_scale torch.Size([1, 10, 1])\n",
                        "blocks.0.ln2.hook_normalized torch.Size([1, 10, 768])\n",
                        "blocks.0.mlp.hook_pre torch.Size([1, 10, 3072])\n",
                        "blocks.0.mlp.hook_post torch.Size([1, 10, 3072])\n",
                        "blocks.0.hook_mlp_out torch.Size([1, 10, 768])\n",
                        "blocks.0.hook_resid_post torch.Size([1, 10, 768])\n",
                        "ln_final.hook_scale torch.Size([1, 10, 1])\n",
                        "ln_final.hook_normalized torch.Size([1, 10, 768])\n"
                    ]
                }
            ],
            "source": [
                "test_prompt = \"The quick brown fox jumped over the lazy dog\"\n",
                "print(\"Num tokens:\", len(model.to_tokens(test_prompt)[0]))\n",
                "\n",
                "def print_name_shape_hook_function(activation, hook):\n",
                "    print(hook.name, activation.shape)\n",
                "\n",
                "not_in_late_block_filter = lambda name: name.startswith(\"blocks.0.\") or not name.startswith(\"blocks\")\n",
                "\n",
                "model.run_with_hooks(\n",
                "    test_prompt,\n",
                "    return_type=None,\n",
                "    fwd_hooks=[(not_in_late_block_filter, print_name_shape_hook_function)],\n",
                ")"
            ]
        },
        {
            "cell_type": "markdown",
            "metadata": {},
            "source": [
                "### Folding LayerNorm (For the Curious)"
            ]
        },
        {
            "cell_type": "markdown",
            "metadata": {},
            "source": [
                "(For the curious - this is an important technical detail that's worth understanding, especially if you have preconceptions about how transformers work, but not necessary to use TransformerLens)\n",
                "\n",
                "LayerNorm is a normalization technique used by transformers, analogous to BatchNorm but more friendly to massive parallelisation. No one *really* knows why it works, but it seems to improve model numerical stability. Unlike BatchNorm, LayerNorm actually changes the functional form of the model, which makes it a massive pain for interpretability! \n",
                "\n",
                "Folding LayerNorm is a technique to make it lower overhead to deal with, and the flags `center_writing_weights` and `fold_ln` in `HookedTransformer.from_pretrained` apply this automatically (they default to True). These simplify the internal structure without changing the weights.\n",
                "\n",
                "Intuitively, LayerNorm acts on each residual stream vector (ie for each batch element and token position) independently, sets their mean to 0 (centering) and standard deviation to 1 (normalizing) (*across* the residual stream dimension - very weird!), and then applies a learned elementwise scaling and translation to each vector.\n",
                "\n",
                "Mathematically, centering is a linear map, normalizing is *not* a linear map, and scaling and translation are linear maps. \n",
                "* **Centering:** LayerNorm is applied every time a layer reads from the residual stream, so the mean of any residual stream vector can never matter - `center_writing_weights` set every weight matrix writing to the residual to have zero mean. \n",
                "* **Normalizing:** Normalizing is not a linear map, and cannot be factored out. The `hook_scale` hook point lets you access and control for this.\n",
                "* **Scaling and Translation:** Scaling and translation are linear maps, and are always followed by another linear map. The composition of two linear maps is another linear map, so we can *fold* the scaling and translation weights into the weights of the subsequent layer, and simplify things without changing the underlying computation. \n",
                "\n",
                "[See the docs for more details](https://github.com/neelnanda-io/TransformerLens/blob/main/further_comments.md#what-is-layernorm-folding-fold_ln)"
            ]
        },
        {
            "cell_type": "markdown",
            "metadata": {},
            "source": [
                "A fun consequence of LayerNorm folding is that it creates a bias across the unembed, a `d_vocab` length vector that is added to the output logits - GPT-2 is not trained with this, but it *is* trained with a final LayerNorm that contains a bias. \n",
                "\n",
                "Turns out, this LayerNorm bias learns structure of the data that we can only see after folding! In particular, it essentially learns **unigram statistics** - rare tokens get suppressed, common tokens get boosted, by pretty dramatic degrees! Let's list the top and bottom 20 - at the top we see common punctuation and words like \" the\" and \" and\", at the bottom we see weird-ass tokens like \" RandomRedditor\":"
            ]
        },
        {
            "cell_type": "code",
            "execution_count": 25,
            "metadata": {},
            "outputs": [],
            "source": [
                "unembed_bias = model.unembed.b_U\n",
                "bias_values, bias_indices = unembed_bias.sort(descending=True)"
            ]
        },
        {
            "cell_type": "code",
            "execution_count": 26,
            "metadata": {},
            "outputs": [
                {
                    "name": "stdout",
                    "output_type": "stream",
                    "text": [
                        "Top 20 values\n",
                        "7.03 ','\n",
                        "6.98 ' the'\n",
                        "6.68 ' and'\n",
                        "6.49 '.'\n",
                        "6.48 '\\n'\n",
                        "6.47 ' a'\n",
                        "6.41 ' in'\n",
                        "6.25 ' to'\n",
                        "6.16 ' of'\n",
                        "6.04 '-'\n",
                        "6.03 ' ('\n",
                        "5.88 ' \"'\n",
                        "5.80 ' for'\n",
                        "5.72 ' that'\n",
                        "5.64 ' on'\n",
                        "5.59 ' is'\n",
                        "5.52 ' as'\n",
                        "5.49 ' at'\n",
                        "5.45 ' with'\n",
                        "5.44 ' or'\n",
                        "...\n",
                        "Bottom 20 values\n",
                        "-3.82 ' サーティ'\n",
                        "-3.83 '\\x18'\n",
                        "-3.83 '\\x14'\n",
                        "-3.83 ' RandomRedditor'\n",
                        "-3.83 '龍�'\n",
                        "-3.83 '�'\n",
                        "-3.83 '\\x1b'\n",
                        "-3.83 '�'\n",
                        "-3.83 '\\x05'\n",
                        "-3.83 '\\x00'\n",
                        "-3.83 '\\x06'\n",
                        "-3.83 '\\x07'\n",
                        "-3.83 '\\x0c'\n",
                        "-3.83 '\\x02'\n",
                        "-3.83 'oreAndOnline'\n",
                        "-3.84 '\\x11'\n",
                        "-3.84 '�'\n",
                        "-3.84 '\\x10'\n",
                        "-3.84 '�'\n",
                        "-3.84 '�'\n"
                    ]
                }
            ],
            "source": [
                "top_k = 20\n",
                "print(f\"Top {top_k} values\")\n",
                "for i in range(top_k):\n",
                "    print(f\"{bias_values[i].item():.2f} {repr(model.to_string(bias_indices[i]))}\")\n",
                "\n",
                "print(\"...\")\n",
                "print(f\"Bottom {top_k} values\")\n",
                "for i in range(top_k, 0, -1):\n",
                "    print(f\"{bias_values[-i].item():.2f} {repr(model.to_string(bias_indices[-i]))}\")"
            ]
        },
        {
            "cell_type": "markdown",
            "metadata": {},
            "source": [
                "This can have real consequences for interpretability - for example, this bias favours \" John\" over \" Mary\" by about 1.2, about 1/3 of the effect size of the Indirect Object Identification Circuit! All other things being the same, this makes the John token 3.6x times more likely than the Mary token."
            ]
        },
        {
            "cell_type": "code",
            "execution_count": 27,
            "metadata": {},
            "outputs": [
                {
                    "name": "stdout",
                    "output_type": "stream",
                    "text": [
                        "John bias: 2.8995\n",
                        "Mary bias: 1.6034\n",
                        "Prob ratio bias: 3.6550x\n"
                    ]
                }
            ],
            "source": [
                "john_bias = model.unembed.b_U[model.to_single_token(' John')]\n",
                "mary_bias = model.unembed.b_U[model.to_single_token(' Mary')]\n",
                "\n",
                "print(f\"John bias: {john_bias.item():.4f}\")\n",
                "print(f\"Mary bias: {mary_bias.item():.4f}\")\n",
                "print(f\"Prob ratio bias: {torch.exp(john_bias - mary_bias).item():.4f}x\")"
            ]
        },
        {
            "attachments": {},
            "cell_type": "markdown",
            "metadata": {},
            "source": [
                "# Features\n",
                "\n",
                "An overview of some other important features of the library. I recommend checking out the [Exploratory Analysis Demo](https://colab.research.google.com/github/neelnanda-io/Easy-Transformer/blob/main/Exploratory_Analysis_Demo.ipynb) for some other important features not mentioned here, and for a demo of what using the library in practice looks like."
            ]
        },
        {
            "attachments": {},
            "cell_type": "markdown",
            "metadata": {},
            "source": [
                "## Dealing with tokens\n",
                "\n",
                "**Tokenization** is one of the most annoying features of studying language models. We want language models to be able to take in arbitrary text as input, but the transformer architecture needs the inputs to be elements of a fixed, finite vocabulary. The solution to this is **tokens**, a fixed vocabulary of \"sub-words\", that any natural language can be broken down into with a **tokenizer**. This is invertible, and we can recover the original text, called **de-tokenization**. \n",
                "\n",
                "TransformerLens comes with a range of utility functions to deal with tokenization. Different models can have different tokenizers, so these are all methods on the model.\n",
                "\n",
                "get_token_position, to_tokens, to_string, to_str_tokens, prepend_bos, to_single_token"
            ]
        },
        {
            "cell_type": "markdown",
            "metadata": {},
            "source": [
                "The first thing you need to figure out is *how* things are tokenized. `model.to_str_tokens` splits a string into the tokens *as a list of substrings*, and so lets you explore what the text looks like. To demonstrate this, let's use it on this paragraph.\n",
                "\n",
                "Some observations - there are a lot of arbitrary-ish details in here!\n",
                "* The tokenizer splits on spaces, so no token contains two words.\n",
                "* Tokens include the preceding space, and whether the first token is a capital letter. `how` and ` how` are different tokens!\n",
                "* Common words are single tokens, even if fairly long (` paragraph`) while uncommon words are split into multiple tokens (` token|ized`).\n",
                "* Tokens *mostly* split on punctuation characters (eg `*` and `.`), but eg `'s` is a single token."
            ]
        },
        {
            "cell_type": "code",
            "execution_count": 28,
            "metadata": {},
            "outputs": [
                {
                    "name": "stdout",
                    "output_type": "stream",
                    "text": [
                        "['<|endoftext|>', 'The', ' first', ' thing', ' you', ' need', ' to', ' figure', ' out', ' is', ' *', 'how', '*', ' things', ' are', ' token', 'ized', '.', ' `', 'model', '.', 'to', '_', 'str', '_', 't', 'ok', 'ens', '`', ' splits', ' a', ' string', ' into', ' the', ' tokens', ' *', 'as', ' a', ' list', ' of', ' sub', 'strings', '*,', ' and', ' so', ' lets', ' you', ' explore', ' what', ' the', ' text', ' looks', ' like', '.', ' To', ' demonstrate', ' this', ',', ' let', \"'s\", ' use', ' it', ' on', ' this', ' paragraph', '.']\n"
                    ]
                }
            ],
            "source": [
                "example_text = \"The first thing you need to figure out is *how* things are tokenized. `model.to_str_tokens` splits a string into the tokens *as a list of substrings*, and so lets you explore what the text looks like. To demonstrate this, let's use it on this paragraph.\"\n",
                "example_text_str_tokens = model.to_str_tokens(example_text)\n",
                "print(example_text_str_tokens)"
            ]
        },
        {
            "cell_type": "markdown",
            "metadata": {},
            "source": [
                "The transformer needs to take in a sequence of integers, not strings, so we need to convert these tokens into integers. `model.to_tokens` does this, and returns a tensor of integers on the model's device (shape `[batch, position]`). It maps a string to a batch of size 1."
            ]
        },
        {
            "cell_type": "code",
            "execution_count": 29,
            "metadata": {},
            "outputs": [
                {
                    "name": "stdout",
                    "output_type": "stream",
                    "text": [
                        "tensor([[50256,   464,   717,  1517,   345,   761,   284,  3785,   503,   318,\n",
                        "          1635,  4919,     9,  1243,   389, 11241,  1143,    13,  4600, 19849,\n",
                        "            13,  1462,    62,  2536,    62,    83,   482,   641,    63, 30778,\n",
                        "           257,  4731,   656,   262, 16326,  1635,   292,   257,  1351,   286,\n",
                        "           850, 37336, 25666,   290,   523,  8781,   345,  7301,   644,   262,\n",
                        "          2420,  3073,   588,    13,  1675, 10176,   428,    11,  1309,   338,\n",
                        "           779,   340,   319,   428,  7322,    13]], device='cuda:0')\n"
                    ]
                }
            ],
            "source": [
                "example_text_tokens = model.to_tokens(example_text)\n",
                "print(example_text_tokens)"
            ]
        },
        {
            "cell_type": "markdown",
            "metadata": {},
            "source": [
                "`to_tokens` can also take in a list of strings, and return a batch of size `len(strings)`. If the strings are different numbers of tokens, it adds a PAD token to the end of the shorter strings to make them the same length.\n",
                "\n",
                "(Note: In GPT-2, 50256 signifies both the beginning of sequence, end of sequence and padding token - see the `prepend_bos` section for details)"
            ]
        },
        {
            "cell_type": "code",
            "execution_count": 30,
            "metadata": {},
            "outputs": [
                {
                    "name": "stdout",
                    "output_type": "stream",
                    "text": [
                        "tensor([[50256,   464,  3797,  3332,   319,   262,  2603,    13, 50256, 50256],\n",
                        "        [50256,   464,  3797,  3332,   319,   262,  2603,  1107,  1327,    13]],\n",
                        "       device='cuda:0')\n"
                    ]
                }
            ],
            "source": [
                "example_multi_text = [\"The cat sat on the mat.\", \"The cat sat on the mat really hard.\"]\n",
                "example_multi_text_tokens = model.to_tokens(example_multi_text)\n",
                "print(example_multi_text_tokens)"
            ]
        },
        {
            "cell_type": "markdown",
            "metadata": {},
            "source": [
                "`model.to_single_token` is a convenience function that takes in a string corresponding to a *single* token and returns the corresponding integer. This is useful for eg looking up the logit corresponding to a single token. \n",
                "\n",
                "For example, let's input `The cat sat on the mat.` to GPT-2, and look at the log prob predicting that the next token is ` The`. \n",
                "\n",
                "<details><summary>Technical notes</summary>\n",
                "\n",
                "Note that if we input a string to the model, it's implicitly converted to a string with `to_tokens`. \n",
                "\n",
                "Note further that the log probs have shape `[batch, position, d_vocab]==[1, 8, 50257]`, with a vector of log probs predicting the next token for *every* token position. GPT-2 uses causal attention which means heads can only look backwards (equivalently, information can only move forwards in the model.), so the log probs at position k are only a function of the first k tokens, and it can't just cheat and look at the k+1 th token. This structure lets it generate text more efficiently, and lets it treat every *token* as a training example, rather than every *sequence*.\n",
                "</details>"
            ]
        },
        {
            "cell_type": "code",
            "execution_count": 31,
            "metadata": {},
            "outputs": [
                {
                    "name": "stdout",
                    "output_type": "stream",
                    "text": [
                        "Probability tensor shape [batch, position, d_vocab] == torch.Size([1, 8, 50257])\n",
                        "| The| probability: 11.98%\n"
                    ]
                }
            ],
            "source": [
                "cat_text = \"The cat sat on the mat.\"\n",
                "cat_logits = model(cat_text)\n",
                "cat_probs = cat_logits.softmax(dim=-1)\n",
                "print(f\"Probability tensor shape [batch, position, d_vocab] == {cat_probs.shape}\")\n",
                "\n",
                "capital_the_token_index = model.to_single_token(\" The\")\n",
                "print(f\"| The| probability: {cat_probs[0, -1, capital_the_token_index].item():.2%}\")"
            ]
        },
        {
            "cell_type": "markdown",
            "metadata": {},
            "source": [
                "`model.to_string` is the inverse of `to_tokens` and maps a tensor of integers to a string or list of strings. It also works on integers and lists of integers.\n",
                "\n",
                "For example, let's look up token 256 (due to technical details of tokenization, this will be the most common pair of ASCII characters!), and also verify that our tokens above map back to a string."
            ]
        },
        {
            "cell_type": "code",
            "execution_count": 32,
            "metadata": {},
            "outputs": [
                {
                    "name": "stdout",
                    "output_type": "stream",
                    "text": [
                        "Token 256 - the most common pair of ASCII characters: | t|\n",
                        "De-Tokenizing the example tokens: <|endoftext|>The first thing you need to figure out is *how* things are tokenized. `model.to_str_tokens` splits a string into the tokens *as a list of substrings*, and so lets you explore what the text looks like. To demonstrate this, let's use it on this paragraph.\n"
                    ]
                }
            ],
            "source": [
                "print(f\"Token 256 - the most common pair of ASCII characters: |{model.to_string(256)}|\")\n",
                "# Squeeze means to remove dimensions of length 1. \n",
                "# Here, that removes the dummy batch dimension so it's a rank 1 tensor and returns a string\n",
                "# Rank 2 tensors map to a list of strings\n",
                "print(f\"De-Tokenizing the example tokens: {model.to_string(example_text_tokens.squeeze())}\")"
            ]
        },
        {
            "cell_type": "markdown",
            "metadata": {},
            "source": [
                "A related annoyance of tokenization is that it's hard to figure out how many tokens a string will break into. `model.get_token_position(single_token, tokens)` returns the position of `single_token` in `tokens`. `tokens` can be either a string or a tensor of tokens. \n",
                "\n",
                "Note that position is zero-indexed, it's two (ie third) because there's a beginning of sequence token automatically prepended (see the next section for details)"
            ]
        },
        {
            "cell_type": "code",
            "execution_count": 33,
            "metadata": {},
            "outputs": [
                {
                    "name": "stdout",
                    "output_type": "stream",
                    "text": [
                        "With BOS: 2\n",
                        "Without BOS: 1\n"
                    ]
                }
            ],
            "source": [
                "print(\"With BOS:\", model.get_token_position(\" cat\", \"The cat sat on the mat\"))\n",
                "print(\"Without BOS:\", model.get_token_position(\" cat\", \"The cat sat on the mat\", prepend_bos=False))"
            ]
        },
        {
            "cell_type": "markdown",
            "metadata": {},
            "source": [
                "If there are multiple copies of the token, we can set `mode=\"first\"` to find the first occurence's position and `mode=\"last\"` to find the last"
            ]
        },
        {
            "cell_type": "code",
            "execution_count": 34,
            "metadata": {},
            "outputs": [
                {
                    "name": "stdout",
                    "output_type": "stream",
                    "text": [
                        "First occurence 2\n",
                        "Final occurence 13\n"
                    ]
                }
            ],
            "source": [
                "print(\"First occurence\", model.get_token_position(\n",
                "    \" cat\", \n",
                "    \"The cat sat on the mat. The mat sat on the cat.\", \n",
                "    mode=\"first\"))\n",
                "print(\"Final occurence\", model.get_token_position(\n",
                "    \" cat\", \n",
                "    \"The cat sat on the mat. The mat sat on the cat.\", \n",
                "    mode=\"last\"))"
            ]
        },
        {
            "cell_type": "markdown",
            "metadata": {},
            "source": [
                "In general, tokenization is a pain, and full of gotchas. I highly recommend just playing around with different inputs and their tokenization and getting a feel for it. As another \"fun\" example, let's look at the tokenization of arithmetic expressions - tokens do *not* contain consistent numbers of digits. (This makes it even more impressive that GPT-3 can do arithmetic!)"
            ]
        },
        {
            "cell_type": "code",
            "execution_count": 35,
            "metadata": {},
            "outputs": [
                {
                    "name": "stdout",
                    "output_type": "stream",
                    "text": [
                        "['<|endoftext|>', '23', '42', '+', '2017', '=', '214', '45']\n",
                        "['<|endoftext|>', '1000', '+', '1', '000000', '=', '9999', '99']\n"
                    ]
                }
            ],
            "source": [
                "print(model.to_str_tokens(\"2342+2017=21445\"))\n",
                "print(model.to_str_tokens(\"1000+1000000=999999\"))"
            ]
        },
        {
            "cell_type": "markdown",
            "metadata": {},
            "source": [
                "I also *highly* recommend investigating prompts with easy tokenization when starting out - ideally key words should form a single token, be in the same position in different prompts, have the same total length, etc. Eg study Indirect Object Identification with common English names like ` Tim` rather than ` Ne|el`. Transformers need to spend some parameters in early layers converting multi-token words to a single feature, and then de-converting this in the late layers, and unless this is what you're explicitly investigating, this will make the behaviour you're investigating be messier."
            ]
        },
        {
            "cell_type": "markdown",
            "metadata": {},
            "source": [
                "### Gotcha: `prepend_bos`\n",
                "\n",
                "Key Takeaway: **If you get weird off-by-one errors, check whether there's an unexpected `prepend_bos`!**"
            ]
        },
        {
            "cell_type": "markdown",
            "metadata": {},
            "source": [
                "A weirdness you may have noticed in the above is that `to_tokens` and `to_str_tokens` added a weird `<|endoftext|>` to the start of each prompt. TransformerLens does this by default, and it can easily trip up new users. Notably, **this includes `model.forward`** (which is what's implicitly used when you do eg `model(\"Hello World\")`). This is called a **Beginning of Sequence (BOS)** token, and it's a special token used to mark the beginning of the sequence. Confusingly, in GPT-2, the End of Sequence (EOS), Beginning of Sequence (BOS) and Padding (PAD) tokens are all the same, `<|endoftext|>` with index `50256`.\n",
                "\n",
                "You can disable this behaviour by setting the flag `prepend_bos=False` in `to_tokens`, `to_str_tokens`, `model.forward` and any other function that converts strings to multi-token tensors. \n",
                "\n",
                "**Gotcha:** You only want to do this at the *start* of a prompt. If you, eg, want to input a question followed by an answer, and want to tokenize these separately, you do *not* want to prepend_bos on the answer."
            ]
        },
        {
            "cell_type": "code",
            "execution_count": 36,
            "metadata": {},
            "outputs": [
                {
                    "name": "stdout",
                    "output_type": "stream",
                    "text": [
                        "Logits shape by default (with BOS) torch.Size([1, 3, 50257])\n",
                        "Logits shape with BOS torch.Size([1, 3, 50257])\n",
                        "Logits shape without BOS - only 2 positions! torch.Size([1, 2, 50257])\n"
                    ]
                }
            ],
            "source": [
                "print(\"Logits shape by default (with BOS)\", model(\"Hello World\").shape)\n",
                "print(\"Logits shape with BOS\", model(\"Hello World\", prepend_bos=True).shape)\n",
                "print(\"Logits shape without BOS - only 2 positions!\", model(\"Hello World\", prepend_bos=False).shape)"
            ]
        },
        {
            "cell_type": "markdown",
            "metadata": {},
            "source": [
                "`prepend_bos` is a bit of a hack, and I've gone back and forth on what the correct default here is. The reason I do this is that transformers tend to treat the first token weirdly - this doesn't really matter in training (where all inputs are >1000 tokens), but this can be a big issue when investigating short prompts! The reason for this is that attention patterns are a probability distribution and so need to add up to one, so to simulate being \"off\" they normally look at the first token. Giving them a BOS token lets the heads rest by looking at that, preserving the information in the first \"real\" token.\n",
                "\n",
                "Further, *some* models are trained to need a BOS token (OPT and my interpretability-friendly models are, GPT-2 and GPT-Neo are not). But despite GPT-2 not being trained with this, empirically it seems to make interpretability easier.\n",
                "\n",
                "For example, the model can get much worse at Indirect Object Identification without a BOS (and with a name as the first token):"
            ]
        },
        {
            "cell_type": "code",
            "execution_count": 37,
            "metadata": {},
            "outputs": [
                {
                    "name": "stdout",
                    "output_type": "stream",
                    "text": [
                        "Logit difference with BOS: 6.754\n",
                        "Logit difference without BOS: 2.782\n"
                    ]
                }
            ],
            "source": [
                "ioi_logits_with_bos = model(\"Claire and Mary went to the shops, then Mary gave a bottle of milk to\", prepend_bos=True)\n",
                "mary_logit_with_bos = ioi_logits_with_bos[0, -1, model.to_single_token(\" Mary\")].item()\n",
                "claire_logit_with_bos = ioi_logits_with_bos[0, -1, model.to_single_token(\" Claire\")].item()\n",
                "print(f\"Logit difference with BOS: {(claire_logit_with_bos - mary_logit_with_bos):.3f}\")\n",
                "\n",
                "ioi_logits_without_bos = model(\"Claire and Mary went to the shops, then Mary gave a bottle of milk to\", prepend_bos=False)\n",
                "mary_logit_without_bos = ioi_logits_without_bos[0, -1, model.to_single_token(\" Mary\")].item()\n",
                "claire_logit_without_bos = ioi_logits_without_bos[0, -1, model.to_single_token(\" Claire\")].item()\n",
                "print(f\"Logit difference without BOS: {(claire_logit_without_bos - mary_logit_without_bos):.3f}\")"
            ]
        },
        {
            "cell_type": "markdown",
            "metadata": {},
            "source": [
                "Though, note that this also illustrates another gotcha - when `Claire` is at the start of a sentence (no preceding space), it's actually *two* tokens, not one, which probably confuses the relevant circuit. (Note - in this test we put `prepend_bos=False`, because we want to analyse the tokenization of a specific string, not to give an input to the model!)"
            ]
        },
        {
            "cell_type": "code",
            "execution_count": 38,
            "metadata": {},
            "outputs": [
                {
                    "name": "stdout",
                    "output_type": "stream",
                    "text": [
                        "| Claire| -> [' Claire']\n",
                        "|Claire| -> ['Cl', 'aire']\n"
                    ]
                }
            ],
            "source": [
                "print(f\"| Claire| -> {model.to_str_tokens(' Claire', prepend_bos=False)}\")\n",
                "print(f\"|Claire| -> {model.to_str_tokens('Claire', prepend_bos=False)}\")"
            ]
        },
        {
            "attachments": {},
            "cell_type": "markdown",
            "metadata": {},
            "source": [
                "## Factored Matrix Class\n",
                "\n",
                "In transformer interpretability, we often need to analyse low rank factorized matrices - a matrix $M = AB$, where M is `[large, large]`, but A is `[large, small]` and B is `[small, large]`. This is a common structure in transformers, and the `FactoredMatrix` class is a convenient way to work with these. It implements efficient algorithms for various operations on these, such as computing the trace, eigenvalues, Frobenius norm, singular value decomposition, and products with other matrices. It can (approximately) act as a drop-in replacement for the original matrix, and supports leading batch dimensions to the factored matrix. \n",
                "\n",
                "<details><summary>Why are low-rank factorized matrices useful for transformer interpretability?</summary>\n",
                "\n",
                "As argued in [A Mathematical Framework](https://transformer-circuits.pub/2021/framework/index.html), an unexpected fact about transformer attention heads is that rather than being best understood as keys, queries and values (and the requisite weight matrices), they're actually best understood as two low rank factorized matrices. \n",
                "* **Where to move information from:** $W_QK = W_Q W_K^T$, used for determining the attention pattern - what source positions to move information from and what destination positions to move them to.\n",
                "    * Intuitively, residual stream -> query and residual stream -> key are linear maps, *and* `attention_score = query @ key.T` is a linear map, so the whole thing can be factored into one big bilinear form `residual @ W_QK @ residual.T`\n",
                "* **What information to move:** $W_OV = W_V W_O$, used to determine what information to copy from the source position to the destination position (weighted by the attention pattern weight from that destination to that source). \n",
                "    * Intuitively, the residual stream is a `[position, d_model]` tensor (ignoring batch). The attention pattern acts on the *position* dimension (where to move information from and to) and the value and output weights act on the *d_model* dimension - ie *what* information is contained at that source position. So we can factor it all into `attention_pattern @ residual @ W_V @ W_O`, and so only need to care about `W_OV = W_V @ W_O`\n",
                "* Note - the internal head dimension is smaller than the residual stream dimension, so the factorization is low rank. (here, `d_model=768` and `d_head=64`)\n",
                "</details>"
            ]
        },
        {
            "cell_type": "markdown",
            "metadata": {},
            "source": [
                "### Basic Examples"
            ]
        },
        {
            "cell_type": "markdown",
            "metadata": {},
            "source": [
                "We can use the basic class directly - let's make a factored matrix directly and look at the basic operations:"
            ]
        },
        {
            "cell_type": "code",
            "execution_count": 39,
            "metadata": {},
            "outputs": [
                {
                    "name": "stdout",
                    "output_type": "stream",
                    "text": [
                        "Norms:\n",
                        "tensor(5.7439)\n",
                        "tensor(5.7439)\n",
                        "Right dimension: 5, Left dimension: 5, Hidden dimension: 2\n"
                    ]
                }
            ],
            "source": [
                "A = torch.randn(5, 2)\n",
                "B = torch.randn(2, 5)\n",
                "AB = A @ B\n",
                "AB_factor = FactoredMatrix(A, B)\n",
                "print(\"Norms:\")\n",
                "print(AB.norm())\n",
                "print(AB_factor.norm())\n",
                "\n",
                "print(f\"Right dimension: {AB_factor.rdim}, Left dimension: {AB_factor.ldim}, Hidden dimension: {AB_factor.mdim}\")"
            ]
        },
        {
            "cell_type": "markdown",
            "metadata": {},
            "source": [
                "We can also look at the eigenvalues and singular values of the matrix. Note that, because the matrix is rank 2 but 5 by 5, the final 3 eigenvalues and singular values are zero - the factored class omits the zeros."
            ]
        },
        {
            "cell_type": "code",
            "execution_count": 40,
            "metadata": {},
            "outputs": [
                {
                    "name": "stdout",
                    "output_type": "stream",
                    "text": [
                        "Eigenvalues:\n",
                        "tensor([-1.6199e+00+0.0000e+00j,  1.0446e+00+0.0000e+00j,\n",
                        "         3.7190e-08+0.0000e+00j, -6.5998e-08+1.2859e-07j,\n",
                        "        -6.5998e-08-1.2859e-07j])\n",
                        "tensor([-1.6199+0.j,  1.0446+0.j])\n",
                        "\n",
                        "Singular Values:\n",
                        "tensor([5.4702e+00, 1.7519e+00, 3.4613e-07, 1.0601e-07, 3.8823e-09])\n",
                        "tensor([5.4702, 1.7519])\n"
                    ]
                }
            ],
            "source": [
                "print(\"Eigenvalues:\")\n",
                "print(torch.linalg.eig(AB).eigenvalues)\n",
                "print(AB_factor.eigenvalues)\n",
                "print()\n",
                "print(\"Singular Values:\")\n",
                "print(torch.linalg.svd(AB).S)\n",
                "print(AB_factor.S)"
            ]
        },
        {
            "cell_type": "markdown",
            "metadata": {},
            "source": [
                "We can multiply with other matrices - it automatically chooses the smallest possible dimension to factor along (here it's 2, rather than 5)"
            ]
        },
        {
            "cell_type": "code",
            "execution_count": 41,
            "metadata": {},
            "outputs": [
                {
                    "name": "stdout",
                    "output_type": "stream",
                    "text": [
                        "Unfactored: torch.Size([5, 300]) tensor(99.9906)\n",
                        "Factored: torch.Size([5, 300]) tensor(99.9906)\n",
                        "Right dimension: 300, Left dimension: 5, Hidden dimension: 2\n"
                    ]
                }
            ],
            "source": [
                "C = torch.randn(5, 300)\n",
                "ABC = AB @ C\n",
                "ABC_factor = AB_factor @ C\n",
                "print(\"Unfactored:\", ABC.shape, ABC.norm())\n",
                "print(\"Factored:\", ABC_factor.shape, ABC_factor.norm())\n",
                "print(f\"Right dimension: {ABC_factor.rdim}, Left dimension: {ABC_factor.ldim}, Hidden dimension: {ABC_factor.mdim}\")"
            ]
        },
        {
            "cell_type": "markdown",
            "metadata": {},
            "source": [
                "If we want to collapse this back to an unfactored matrix, we can use the AB property to get the product:"
            ]
        },
        {
            "cell_type": "code",
            "execution_count": 42,
            "metadata": {},
            "outputs": [
                {
                    "name": "stdout",
                    "output_type": "stream",
                    "text": [
                        "tensor(True)\n"
                    ]
                }
            ],
            "source": [
                "AB_unfactored = AB_factor.AB\n",
                "print(torch.isclose(AB_unfactored, AB).all())"
            ]
        },
        {
            "attachments": {},
            "cell_type": "markdown",
            "metadata": {},
            "source": [
                "### Medium Example: Eigenvalue Copying Scores\n",
                "\n",
                "(This is a more involved example of how to use the factored matrix class, skip it if you aren't following)\n",
                "\n",
                "For a more involved example, let's look at the eigenvalue copying score from [A Mathematical Framework](https://transformer-circuits.pub/2021/framework/index.html) of the OV circuit for various heads. The OV Circuit for a head (the factorised matrix $W_OV = W_V W_O$) is a linear map that determines what information is moved from the source position to the destination position. Because this is low rank, it can be thought of as *reading in* some low rank subspace of the source residual stream and *writing to* some low rank subspace of the destination residual stream (with maybe some processing happening in the middle).\n",
                "\n",
                "A common operation for this will just be to *copy*, ie to have the same reading and writing subspace, and to do minimal processing in the middle. Empirically, this tends to coincide with the OV Circuit having (approximately) positive real eigenvalues. I mostly assert this as an empirical fact, but intuitively, operations that involve mapping eigenvectors to different directions (eg rotations) tend to have complex eigenvalues. And operations that preserve eigenvector direction but negate it tend to have negative real eigenvalues. And \"what happens to the eigenvectors\" is a decent proxy for what happens to an arbitrary vector.\n",
                "\n",
                "We can get a score for \"how positive real the OV circuit eigenvalues are\" with $\\frac{\\sum \\lambda_i}{\\sum |\\lambda_i|}$, where $\\lambda_i$ are the eigenvalues of the OV circuit. This is a bit of a hack, but it seems to work well in practice."
            ]
        },
        {
            "cell_type": "markdown",
            "metadata": {},
            "source": [
                "Let's use FactoredMatrix to compute this for every head in the model! We use the helper `model.OV` to get the concatenated OV circuits for all heads across all layers in the model. This has the shape `[n_layers, n_heads, d_model, d_model]`, where `n_layers` and `n_heads` are batch dimensions and the final two dimensions are factorised as `[n_layers, n_heads, d_model, d_head]` and `[n_layers, n_heads, d_head, d_model]` matrices.\n",
                "\n",
                "We can then get the eigenvalues for this, where there are separate eigenvalues for each element of the batch (a `[n_layers, n_heads, d_head]` tensor of complex numbers), and calculate the copying score."
            ]
        },
        {
            "cell_type": "code",
            "execution_count": 43,
            "metadata": {},
            "outputs": [
                {
                    "name": "stdout",
                    "output_type": "stream",
                    "text": [
                        "FactoredMatrix: Shape(torch.Size([12, 12, 768, 768])), Hidden Dim(64)\n"
                    ]
                }
            ],
            "source": [
                "OV_circuit_all_heads = model.OV\n",
                "print(OV_circuit_all_heads)"
            ]
        },
        {
            "cell_type": "code",
            "execution_count": 44,
            "metadata": {},
            "outputs": [
                {
                    "name": "stdout",
                    "output_type": "stream",
                    "text": [
                        "torch.Size([12, 12, 64])\n",
                        "torch.complex64\n"
                    ]
                }
            ],
            "source": [
                "OV_circuit_all_heads_eigenvalues = OV_circuit_all_heads.eigenvalues \n",
                "print(OV_circuit_all_heads_eigenvalues.shape)\n",
                "print(OV_circuit_all_heads_eigenvalues.dtype)"
            ]
        },
        {
            "cell_type": "code",
            "execution_count": 45,
            "metadata": {},
            "outputs": [
                {
                    "data": {
                        "text/html": [
                            "<html>\n",
                            "<head><meta charset=\"utf-8\" /></head>\n",
                            "<body>\n",
                            "    <div>            <script src=\"https://cdnjs.cloudflare.com/ajax/libs/mathjax/2.7.5/MathJax.js?config=TeX-AMS-MML_SVG\"></script><script type=\"text/javascript\">if (window.MathJax && window.MathJax.Hub && window.MathJax.Hub.Config) {window.MathJax.Hub.Config({SVG: {font: \"STIX-Web\"}});}</script>                <script type=\"text/javascript\">window.PlotlyConfig = {MathJaxConfig: 'local'};</script>\n",
                            "        <script src=\"https://cdn.plot.ly/plotly-2.16.1.min.js\"></script>                <div id=\"b1f0b6f8-feff-4327-9887-a72135ec4411\" class=\"plotly-graph-div\" style=\"height:525px; width:100%;\"></div>            <script type=\"text/javascript\">                                    window.PLOTLYENV=window.PLOTLYENV || {};                                    if (document.getElementById(\"b1f0b6f8-feff-4327-9887-a72135ec4411\")) {                    Plotly.newPlot(                        \"b1f0b6f8-feff-4327-9887-a72135ec4411\",                        [{\"coloraxis\":\"coloraxis\",\"name\":\"0\",\"z\":[[0.777501,0.3527268,0.2596186,0.66702574,0.8384258,0.5584432,0.8444747,0.41379097,0.24488935,0.028157508,0.35840985,0.16288288],[-0.4541911,-0.6529327,-0.548457,-0.79903686,-0.7736425,-0.85225815,0.97743237,0.6626251,-0.73032224,-0.70070213,-0.6946625,-0.99967235],[-0.78371626,0.89677584,0.4750953,-0.6671974,0.7881463,-0.854775,-0.9054185,-0.57493836,-0.32175106,-0.028594071,-0.92476183,-0.9699269],[0.58640355,-0.7614349,0.59716946,0.7854394,-0.87888825,0.39087448,0.04473867,0.11028006,-0.8169987,0.22129549,-0.99395794,0.5774401],[0.52547896,0.30490145,-0.1072914,0.94331515,-0.931443,0.5273629,-0.4264709,-0.9984429,0.52967566,0.8604294,-0.88950515,0.955697],[0.66291875,0.42956945,0.9736858,0.65554816,0.12201875,0.7442768,0.5037956,0.95253587,-0.65071666,-0.931628,0.97915107,-0.99725866],[0.9613031,0.75017786,-0.38066593,0.64297867,0.95577693,-0.9428839,-0.994808,0.7852987,0.9657302,0.70730156,0.36872303,0.81280106],[0.9659483,0.9730121,0.3190061,-0.30290532,0.97909546,0.9357923,-0.5550317,-0.00546646,0.9867777,0.82495666,0.5664299,0.10005281],[-0.9464487,-0.2547201,0.6522326,0.14152558,0.98841417,0.98605835,0.6949271,0.9901811,0.97912025,-0.2359553,-0.98207104,0.65066874],[0.9895943,-0.29178143,0.9714024,0.9951602,0.18783762,-0.94609374,0.47801915,-0.24891911,0.94370985,0.11866241,0.99412435,-0.38088188],[0.9564488,0.5542725,0.4211806,0.66287893,0.8659593,0.99371177,0.9069077,0.39811078,-0.41342166,0.99719155,0.34596682,0.9938656],[0.58912665,0.9313741,0.9268401,0.9993564,0.62275416,0.8463948,0.6584346,0.8423125,0.29784963,0.8728679,0.99631435,0.98675257]],\"type\":\"heatmap\",\"xaxis\":\"x\",\"yaxis\":\"y\",\"hovertemplate\":\"Head: %{x}<br>Layer: %{y}<br>color: %{z}<extra></extra>\"}],                        {\"template\":{\"data\":{\"histogram2dcontour\":[{\"type\":\"histogram2dcontour\",\"colorbar\":{\"outlinewidth\":0,\"ticks\":\"\"},\"colorscale\":[[0.0,\"#0d0887\"],[0.1111111111111111,\"#46039f\"],[0.2222222222222222,\"#7201a8\"],[0.3333333333333333,\"#9c179e\"],[0.4444444444444444,\"#bd3786\"],[0.5555555555555556,\"#d8576b\"],[0.6666666666666666,\"#ed7953\"],[0.7777777777777778,\"#fb9f3a\"],[0.8888888888888888,\"#fdca26\"],[1.0,\"#f0f921\"]]}],\"choropleth\":[{\"type\":\"choropleth\",\"colorbar\":{\"outlinewidth\":0,\"ticks\":\"\"}}],\"histogram2d\":[{\"type\":\"histogram2d\",\"colorbar\":{\"outlinewidth\":0,\"ticks\":\"\"},\"colorscale\":[[0.0,\"#0d0887\"],[0.1111111111111111,\"#46039f\"],[0.2222222222222222,\"#7201a8\"],[0.3333333333333333,\"#9c179e\"],[0.4444444444444444,\"#bd3786\"],[0.5555555555555556,\"#d8576b\"],[0.6666666666666666,\"#ed7953\"],[0.7777777777777778,\"#fb9f3a\"],[0.8888888888888888,\"#fdca26\"],[1.0,\"#f0f921\"]]}],\"heatmap\":[{\"type\":\"heatmap\",\"colorbar\":{\"outlinewidth\":0,\"ticks\":\"\"},\"colorscale\":[[0.0,\"#0d0887\"],[0.1111111111111111,\"#46039f\"],[0.2222222222222222,\"#7201a8\"],[0.3333333333333333,\"#9c179e\"],[0.4444444444444444,\"#bd3786\"],[0.5555555555555556,\"#d8576b\"],[0.6666666666666666,\"#ed7953\"],[0.7777777777777778,\"#fb9f3a\"],[0.8888888888888888,\"#fdca26\"],[1.0,\"#f0f921\"]]}],\"heatmapgl\":[{\"type\":\"heatmapgl\",\"colorbar\":{\"outlinewidth\":0,\"ticks\":\"\"},\"colorscale\":[[0.0,\"#0d0887\"],[0.1111111111111111,\"#46039f\"],[0.2222222222222222,\"#7201a8\"],[0.3333333333333333,\"#9c179e\"],[0.4444444444444444,\"#bd3786\"],[0.5555555555555556,\"#d8576b\"],[0.6666666666666666,\"#ed7953\"],[0.7777777777777778,\"#fb9f3a\"],[0.8888888888888888,\"#fdca26\"],[1.0,\"#f0f921\"]]}],\"contourcarpet\":[{\"type\":\"contourcarpet\",\"colorbar\":{\"outlinewidth\":0,\"ticks\":\"\"}}],\"contour\":[{\"type\":\"contour\",\"colorbar\":{\"outlinewidth\":0,\"ticks\":\"\"},\"colorscale\":[[0.0,\"#0d0887\"],[0.1111111111111111,\"#46039f\"],[0.2222222222222222,\"#7201a8\"],[0.3333333333333333,\"#9c179e\"],[0.4444444444444444,\"#bd3786\"],[0.5555555555555556,\"#d8576b\"],[0.6666666666666666,\"#ed7953\"],[0.7777777777777778,\"#fb9f3a\"],[0.8888888888888888,\"#fdca26\"],[1.0,\"#f0f921\"]]}],\"surface\":[{\"type\":\"surface\",\"colorbar\":{\"outlinewidth\":0,\"ticks\":\"\"},\"colorscale\":[[0.0,\"#0d0887\"],[0.1111111111111111,\"#46039f\"],[0.2222222222222222,\"#7201a8\"],[0.3333333333333333,\"#9c179e\"],[0.4444444444444444,\"#bd3786\"],[0.5555555555555556,\"#d8576b\"],[0.6666666666666666,\"#ed7953\"],[0.7777777777777778,\"#fb9f3a\"],[0.8888888888888888,\"#fdca26\"],[1.0,\"#f0f921\"]]}],\"mesh3d\":[{\"type\":\"mesh3d\",\"colorbar\":{\"outlinewidth\":0,\"ticks\":\"\"}}],\"scatter\":[{\"fillpattern\":{\"fillmode\":\"overlay\",\"size\":10,\"solidity\":0.2},\"type\":\"scatter\"}],\"parcoords\":[{\"type\":\"parcoords\",\"line\":{\"colorbar\":{\"outlinewidth\":0,\"ticks\":\"\"}}}],\"scatterpolargl\":[{\"type\":\"scatterpolargl\",\"marker\":{\"colorbar\":{\"outlinewidth\":0,\"ticks\":\"\"}}}],\"bar\":[{\"error_x\":{\"color\":\"#2a3f5f\"},\"error_y\":{\"color\":\"#2a3f5f\"},\"marker\":{\"line\":{\"color\":\"#E5ECF6\",\"width\":0.5},\"pattern\":{\"fillmode\":\"overlay\",\"size\":10,\"solidity\":0.2}},\"type\":\"bar\"}],\"scattergeo\":[{\"type\":\"scattergeo\",\"marker\":{\"colorbar\":{\"outlinewidth\":0,\"ticks\":\"\"}}}],\"scatterpolar\":[{\"type\":\"scatterpolar\",\"marker\":{\"colorbar\":{\"outlinewidth\":0,\"ticks\":\"\"}}}],\"histogram\":[{\"marker\":{\"pattern\":{\"fillmode\":\"overlay\",\"size\":10,\"solidity\":0.2}},\"type\":\"histogram\"}],\"scattergl\":[{\"type\":\"scattergl\",\"marker\":{\"colorbar\":{\"outlinewidth\":0,\"ticks\":\"\"}}}],\"scatter3d\":[{\"type\":\"scatter3d\",\"line\":{\"colorbar\":{\"outlinewidth\":0,\"ticks\":\"\"}},\"marker\":{\"colorbar\":{\"outlinewidth\":0,\"ticks\":\"\"}}}],\"scattermapbox\":[{\"type\":\"scattermapbox\",\"marker\":{\"colorbar\":{\"outlinewidth\":0,\"ticks\":\"\"}}}],\"scatterternary\":[{\"type\":\"scatterternary\",\"marker\":{\"colorbar\":{\"outlinewidth\":0,\"ticks\":\"\"}}}],\"scattercarpet\":[{\"type\":\"scattercarpet\",\"marker\":{\"colorbar\":{\"outlinewidth\":0,\"ticks\":\"\"}}}],\"carpet\":[{\"aaxis\":{\"endlinecolor\":\"#2a3f5f\",\"gridcolor\":\"white\",\"linecolor\":\"white\",\"minorgridcolor\":\"white\",\"startlinecolor\":\"#2a3f5f\"},\"baxis\":{\"endlinecolor\":\"#2a3f5f\",\"gridcolor\":\"white\",\"linecolor\":\"white\",\"minorgridcolor\":\"white\",\"startlinecolor\":\"#2a3f5f\"},\"type\":\"carpet\"}],\"table\":[{\"cells\":{\"fill\":{\"color\":\"#EBF0F8\"},\"line\":{\"color\":\"white\"}},\"header\":{\"fill\":{\"color\":\"#C8D4E3\"},\"line\":{\"color\":\"white\"}},\"type\":\"table\"}],\"barpolar\":[{\"marker\":{\"line\":{\"color\":\"#E5ECF6\",\"width\":0.5},\"pattern\":{\"fillmode\":\"overlay\",\"size\":10,\"solidity\":0.2}},\"type\":\"barpolar\"}],\"pie\":[{\"automargin\":true,\"type\":\"pie\"}]},\"layout\":{\"autotypenumbers\":\"strict\",\"colorway\":[\"#636efa\",\"#EF553B\",\"#00cc96\",\"#ab63fa\",\"#FFA15A\",\"#19d3f3\",\"#FF6692\",\"#B6E880\",\"#FF97FF\",\"#FECB52\"],\"font\":{\"color\":\"#2a3f5f\"},\"hovermode\":\"closest\",\"hoverlabel\":{\"align\":\"left\"},\"paper_bgcolor\":\"white\",\"plot_bgcolor\":\"#E5ECF6\",\"polar\":{\"bgcolor\":\"#E5ECF6\",\"angularaxis\":{\"gridcolor\":\"white\",\"linecolor\":\"white\",\"ticks\":\"\"},\"radialaxis\":{\"gridcolor\":\"white\",\"linecolor\":\"white\",\"ticks\":\"\"}},\"ternary\":{\"bgcolor\":\"#E5ECF6\",\"aaxis\":{\"gridcolor\":\"white\",\"linecolor\":\"white\",\"ticks\":\"\"},\"baxis\":{\"gridcolor\":\"white\",\"linecolor\":\"white\",\"ticks\":\"\"},\"caxis\":{\"gridcolor\":\"white\",\"linecolor\":\"white\",\"ticks\":\"\"}},\"coloraxis\":{\"colorbar\":{\"outlinewidth\":0,\"ticks\":\"\"}},\"colorscale\":{\"sequential\":[[0.0,\"#0d0887\"],[0.1111111111111111,\"#46039f\"],[0.2222222222222222,\"#7201a8\"],[0.3333333333333333,\"#9c179e\"],[0.4444444444444444,\"#bd3786\"],[0.5555555555555556,\"#d8576b\"],[0.6666666666666666,\"#ed7953\"],[0.7777777777777778,\"#fb9f3a\"],[0.8888888888888888,\"#fdca26\"],[1.0,\"#f0f921\"]],\"sequentialminus\":[[0.0,\"#0d0887\"],[0.1111111111111111,\"#46039f\"],[0.2222222222222222,\"#7201a8\"],[0.3333333333333333,\"#9c179e\"],[0.4444444444444444,\"#bd3786\"],[0.5555555555555556,\"#d8576b\"],[0.6666666666666666,\"#ed7953\"],[0.7777777777777778,\"#fb9f3a\"],[0.8888888888888888,\"#fdca26\"],[1.0,\"#f0f921\"]],\"diverging\":[[0,\"#8e0152\"],[0.1,\"#c51b7d\"],[0.2,\"#de77ae\"],[0.3,\"#f1b6da\"],[0.4,\"#fde0ef\"],[0.5,\"#f7f7f7\"],[0.6,\"#e6f5d0\"],[0.7,\"#b8e186\"],[0.8,\"#7fbc41\"],[0.9,\"#4d9221\"],[1,\"#276419\"]]},\"xaxis\":{\"gridcolor\":\"white\",\"linecolor\":\"white\",\"ticks\":\"\",\"title\":{\"standoff\":15},\"zerolinecolor\":\"white\",\"automargin\":true,\"zerolinewidth\":2},\"yaxis\":{\"gridcolor\":\"white\",\"linecolor\":\"white\",\"ticks\":\"\",\"title\":{\"standoff\":15},\"zerolinecolor\":\"white\",\"automargin\":true,\"zerolinewidth\":2},\"scene\":{\"xaxis\":{\"backgroundcolor\":\"#E5ECF6\",\"gridcolor\":\"white\",\"linecolor\":\"white\",\"showbackground\":true,\"ticks\":\"\",\"zerolinecolor\":\"white\",\"gridwidth\":2},\"yaxis\":{\"backgroundcolor\":\"#E5ECF6\",\"gridcolor\":\"white\",\"linecolor\":\"white\",\"showbackground\":true,\"ticks\":\"\",\"zerolinecolor\":\"white\",\"gridwidth\":2},\"zaxis\":{\"backgroundcolor\":\"#E5ECF6\",\"gridcolor\":\"white\",\"linecolor\":\"white\",\"showbackground\":true,\"ticks\":\"\",\"zerolinecolor\":\"white\",\"gridwidth\":2}},\"shapedefaults\":{\"line\":{\"color\":\"#2a3f5f\"}},\"annotationdefaults\":{\"arrowcolor\":\"#2a3f5f\",\"arrowhead\":0,\"arrowwidth\":1},\"geo\":{\"bgcolor\":\"white\",\"landcolor\":\"#E5ECF6\",\"subunitcolor\":\"white\",\"showland\":true,\"showlakes\":true,\"lakecolor\":\"white\"},\"title\":{\"x\":0.05},\"mapbox\":{\"style\":\"light\"}}},\"xaxis\":{\"anchor\":\"y\",\"domain\":[0.0,1.0],\"scaleanchor\":\"y\",\"constrain\":\"domain\",\"title\":{\"text\":\"Head\"}},\"yaxis\":{\"anchor\":\"x\",\"domain\":[0.0,1.0],\"autorange\":\"reversed\",\"constrain\":\"domain\",\"title\":{\"text\":\"Layer\"}},\"coloraxis\":{\"colorscale\":[[0.0,\"rgb(103,0,31)\"],[0.1,\"rgb(178,24,43)\"],[0.2,\"rgb(214,96,77)\"],[0.3,\"rgb(244,165,130)\"],[0.4,\"rgb(253,219,199)\"],[0.5,\"rgb(247,247,247)\"],[0.6,\"rgb(209,229,240)\"],[0.7,\"rgb(146,197,222)\"],[0.8,\"rgb(67,147,195)\"],[0.9,\"rgb(33,102,172)\"],[1.0,\"rgb(5,48,97)\"]],\"cmid\":0.0,\"cmin\":-1.0,\"cmax\":1.0},\"title\":{\"text\":\"OV Copying Score for each head in GPT-2 Small\"}},                        {\"responsive\": true}                    ).then(function(){\n",
                            "                            \n",
                            "var gd = document.getElementById('b1f0b6f8-feff-4327-9887-a72135ec4411');\n",
                            "var x = new MutationObserver(function (mutations, observer) {{\n",
                            "        var display = window.getComputedStyle(gd).display;\n",
                            "        if (!display || display === 'none') {{\n",
                            "            console.log([gd, 'removed!']);\n",
                            "            Plotly.purge(gd);\n",
                            "            observer.disconnect();\n",
                            "        }}\n",
                            "}});\n",
                            "\n",
                            "// Listen for the removal of the full notebook cells\n",
                            "var notebookContainer = gd.closest('#notebook-container');\n",
                            "if (notebookContainer) {{\n",
                            "    x.observe(notebookContainer, {childList: true});\n",
                            "}}\n",
                            "\n",
                            "// Listen for the clearing of the current output cell\n",
                            "var outputEl = gd.closest('.output');\n",
                            "if (outputEl) {{\n",
                            "    x.observe(outputEl, {childList: true});\n",
                            "}}\n",
                            "\n",
                            "                        })                };                            </script>        </div>\n",
                            "</body>\n",
                            "</html>"
                        ]
                    },
                    "metadata": {},
                    "output_type": "display_data"
                }
            ],
            "source": [
                "OV_copying_score = OV_circuit_all_heads_eigenvalues.sum(dim=-1).real / OV_circuit_all_heads_eigenvalues.abs().sum(dim=-1)\n",
                "imshow(utils.to_numpy(OV_copying_score), xaxis=\"Head\", yaxis=\"Layer\", title=\"OV Copying Score for each head in GPT-2 Small\", zmax=1.0, zmin=-1.0)"
            ]
        },
        {
            "cell_type": "markdown",
            "metadata": {},
            "source": [
                "Head 11 in Layer 11 (L11H11) has a high copying score, and if we plot the eigenvalues they look approximately as expected."
            ]
        },
        {
            "cell_type": "code",
            "execution_count": 46,
            "metadata": {},
            "outputs": [
                {
                    "data": {
                        "text/html": [
                            "<html>\n",
                            "<head><meta charset=\"utf-8\" /></head>\n",
                            "<body>\n",
                            "    <div>            <script src=\"https://cdnjs.cloudflare.com/ajax/libs/mathjax/2.7.5/MathJax.js?config=TeX-AMS-MML_SVG\"></script><script type=\"text/javascript\">if (window.MathJax && window.MathJax.Hub && window.MathJax.Hub.Config) {window.MathJax.Hub.Config({SVG: {font: \"STIX-Web\"}});}</script>                <script type=\"text/javascript\">window.PlotlyConfig = {MathJaxConfig: 'local'};</script>\n",
                            "        <script src=\"https://cdn.plot.ly/plotly-2.16.1.min.js\"></script>                <div id=\"bdd08916-2eb4-46b4-bcc5-896e7bc11cee\" class=\"plotly-graph-div\" style=\"height:525px; width:100%;\"></div>            <script type=\"text/javascript\">                                    window.PLOTLYENV=window.PLOTLYENV || {};                                    if (document.getElementById(\"bdd08916-2eb4-46b4-bcc5-896e7bc11cee\")) {                    Plotly.newPlot(                        \"bdd08916-2eb4-46b4-bcc5-896e7bc11cee\",                        [{\"hovertemplate\":\"Real=%{x}<br>Imaginary=%{y}<extra></extra>\",\"legendgroup\":\"\",\"marker\":{\"color\":\"#636efa\",\"symbol\":\"circle\"},\"mode\":\"markers\",\"name\":\"\",\"orientation\":\"v\",\"showlegend\":false,\"x\":[-2.1397297,1.4152663,3.4444547,4.027667,8.882654,4.866768,4.866768,4.843705,4.843705,8.477541,8.216802,8.216802,5.0786076,7.8554554,7.8554554,5.365775,5.365775,5.5634394,5.5634394,5.4217362,7.7691364,7.7691364,7.042285,7.042285,5.6751432,5.6751432,7.678601,7.678601,6.5733356,6.5733356,7.6729503,7.172205,7.172205,7.4236083,7.4236083,7.4708047,6.089097,6.089097,6.306833,6.306833,6.5117445,6.5117445,5.955252,5.955252,5.8588047,5.8588047,7.1478877,7.1478877,7.185705,7.185705,6.6706057,6.6706057,6.735978,6.735978,6.1497555,6.1497555,6.2887864,6.2887864,6.3447866,6.625572,6.625572,6.899187,6.899187,6.856411],\"xaxis\":\"x\",\"y\":[0.0,0.0,0.0,0.0,0.0,0.41852185,-0.41852185,0.09079792,-0.09079792,0.0,0.40868598,-0.40868598,0.0,0.7007218,-0.7007218,0.46421358,-0.46421358,0.5558223,-0.5558223,0.0,0.47056165,-0.47056165,1.0298702,-1.0298702,0.48252946,-0.48252946,0.33565187,-0.33565187,0.9988694,-0.9988694,0.0,0.7531841,-0.7531841,0.42575985,-0.42575985,0.0,0.6436292,-0.6436292,0.7701688,-0.7701688,0.7558016,-0.7558016,0.2591141,-0.2591141,0.013021447,-0.013021447,0.40166607,-0.40166607,0.28192392,-0.28192392,0.6146257,-0.6146257,0.5391219,-0.5391219,0.2823353,-0.2823353,0.35283586,-0.35283586,0.0,0.24868369,-0.24868369,0.15545632,-0.15545632,0.0],\"yaxis\":\"y\",\"type\":\"scatter\"}],                        {\"template\":{\"data\":{\"histogram2dcontour\":[{\"type\":\"histogram2dcontour\",\"colorbar\":{\"outlinewidth\":0,\"ticks\":\"\"},\"colorscale\":[[0.0,\"#0d0887\"],[0.1111111111111111,\"#46039f\"],[0.2222222222222222,\"#7201a8\"],[0.3333333333333333,\"#9c179e\"],[0.4444444444444444,\"#bd3786\"],[0.5555555555555556,\"#d8576b\"],[0.6666666666666666,\"#ed7953\"],[0.7777777777777778,\"#fb9f3a\"],[0.8888888888888888,\"#fdca26\"],[1.0,\"#f0f921\"]]}],\"choropleth\":[{\"type\":\"choropleth\",\"colorbar\":{\"outlinewidth\":0,\"ticks\":\"\"}}],\"histogram2d\":[{\"type\":\"histogram2d\",\"colorbar\":{\"outlinewidth\":0,\"ticks\":\"\"},\"colorscale\":[[0.0,\"#0d0887\"],[0.1111111111111111,\"#46039f\"],[0.2222222222222222,\"#7201a8\"],[0.3333333333333333,\"#9c179e\"],[0.4444444444444444,\"#bd3786\"],[0.5555555555555556,\"#d8576b\"],[0.6666666666666666,\"#ed7953\"],[0.7777777777777778,\"#fb9f3a\"],[0.8888888888888888,\"#fdca26\"],[1.0,\"#f0f921\"]]}],\"heatmap\":[{\"type\":\"heatmap\",\"colorbar\":{\"outlinewidth\":0,\"ticks\":\"\"},\"colorscale\":[[0.0,\"#0d0887\"],[0.1111111111111111,\"#46039f\"],[0.2222222222222222,\"#7201a8\"],[0.3333333333333333,\"#9c179e\"],[0.4444444444444444,\"#bd3786\"],[0.5555555555555556,\"#d8576b\"],[0.6666666666666666,\"#ed7953\"],[0.7777777777777778,\"#fb9f3a\"],[0.8888888888888888,\"#fdca26\"],[1.0,\"#f0f921\"]]}],\"heatmapgl\":[{\"type\":\"heatmapgl\",\"colorbar\":{\"outlinewidth\":0,\"ticks\":\"\"},\"colorscale\":[[0.0,\"#0d0887\"],[0.1111111111111111,\"#46039f\"],[0.2222222222222222,\"#7201a8\"],[0.3333333333333333,\"#9c179e\"],[0.4444444444444444,\"#bd3786\"],[0.5555555555555556,\"#d8576b\"],[0.6666666666666666,\"#ed7953\"],[0.7777777777777778,\"#fb9f3a\"],[0.8888888888888888,\"#fdca26\"],[1.0,\"#f0f921\"]]}],\"contourcarpet\":[{\"type\":\"contourcarpet\",\"colorbar\":{\"outlinewidth\":0,\"ticks\":\"\"}}],\"contour\":[{\"type\":\"contour\",\"colorbar\":{\"outlinewidth\":0,\"ticks\":\"\"},\"colorscale\":[[0.0,\"#0d0887\"],[0.1111111111111111,\"#46039f\"],[0.2222222222222222,\"#7201a8\"],[0.3333333333333333,\"#9c179e\"],[0.4444444444444444,\"#bd3786\"],[0.5555555555555556,\"#d8576b\"],[0.6666666666666666,\"#ed7953\"],[0.7777777777777778,\"#fb9f3a\"],[0.8888888888888888,\"#fdca26\"],[1.0,\"#f0f921\"]]}],\"surface\":[{\"type\":\"surface\",\"colorbar\":{\"outlinewidth\":0,\"ticks\":\"\"},\"colorscale\":[[0.0,\"#0d0887\"],[0.1111111111111111,\"#46039f\"],[0.2222222222222222,\"#7201a8\"],[0.3333333333333333,\"#9c179e\"],[0.4444444444444444,\"#bd3786\"],[0.5555555555555556,\"#d8576b\"],[0.6666666666666666,\"#ed7953\"],[0.7777777777777778,\"#fb9f3a\"],[0.8888888888888888,\"#fdca26\"],[1.0,\"#f0f921\"]]}],\"mesh3d\":[{\"type\":\"mesh3d\",\"colorbar\":{\"outlinewidth\":0,\"ticks\":\"\"}}],\"scatter\":[{\"fillpattern\":{\"fillmode\":\"overlay\",\"size\":10,\"solidity\":0.2},\"type\":\"scatter\"}],\"parcoords\":[{\"type\":\"parcoords\",\"line\":{\"colorbar\":{\"outlinewidth\":0,\"ticks\":\"\"}}}],\"scatterpolargl\":[{\"type\":\"scatterpolargl\",\"marker\":{\"colorbar\":{\"outlinewidth\":0,\"ticks\":\"\"}}}],\"bar\":[{\"error_x\":{\"color\":\"#2a3f5f\"},\"error_y\":{\"color\":\"#2a3f5f\"},\"marker\":{\"line\":{\"color\":\"#E5ECF6\",\"width\":0.5},\"pattern\":{\"fillmode\":\"overlay\",\"size\":10,\"solidity\":0.2}},\"type\":\"bar\"}],\"scattergeo\":[{\"type\":\"scattergeo\",\"marker\":{\"colorbar\":{\"outlinewidth\":0,\"ticks\":\"\"}}}],\"scatterpolar\":[{\"type\":\"scatterpolar\",\"marker\":{\"colorbar\":{\"outlinewidth\":0,\"ticks\":\"\"}}}],\"histogram\":[{\"marker\":{\"pattern\":{\"fillmode\":\"overlay\",\"size\":10,\"solidity\":0.2}},\"type\":\"histogram\"}],\"scattergl\":[{\"type\":\"scattergl\",\"marker\":{\"colorbar\":{\"outlinewidth\":0,\"ticks\":\"\"}}}],\"scatter3d\":[{\"type\":\"scatter3d\",\"line\":{\"colorbar\":{\"outlinewidth\":0,\"ticks\":\"\"}},\"marker\":{\"colorbar\":{\"outlinewidth\":0,\"ticks\":\"\"}}}],\"scattermapbox\":[{\"type\":\"scattermapbox\",\"marker\":{\"colorbar\":{\"outlinewidth\":0,\"ticks\":\"\"}}}],\"scatterternary\":[{\"type\":\"scatterternary\",\"marker\":{\"colorbar\":{\"outlinewidth\":0,\"ticks\":\"\"}}}],\"scattercarpet\":[{\"type\":\"scattercarpet\",\"marker\":{\"colorbar\":{\"outlinewidth\":0,\"ticks\":\"\"}}}],\"carpet\":[{\"aaxis\":{\"endlinecolor\":\"#2a3f5f\",\"gridcolor\":\"white\",\"linecolor\":\"white\",\"minorgridcolor\":\"white\",\"startlinecolor\":\"#2a3f5f\"},\"baxis\":{\"endlinecolor\":\"#2a3f5f\",\"gridcolor\":\"white\",\"linecolor\":\"white\",\"minorgridcolor\":\"white\",\"startlinecolor\":\"#2a3f5f\"},\"type\":\"carpet\"}],\"table\":[{\"cells\":{\"fill\":{\"color\":\"#EBF0F8\"},\"line\":{\"color\":\"white\"}},\"header\":{\"fill\":{\"color\":\"#C8D4E3\"},\"line\":{\"color\":\"white\"}},\"type\":\"table\"}],\"barpolar\":[{\"marker\":{\"line\":{\"color\":\"#E5ECF6\",\"width\":0.5},\"pattern\":{\"fillmode\":\"overlay\",\"size\":10,\"solidity\":0.2}},\"type\":\"barpolar\"}],\"pie\":[{\"automargin\":true,\"type\":\"pie\"}]},\"layout\":{\"autotypenumbers\":\"strict\",\"colorway\":[\"#636efa\",\"#EF553B\",\"#00cc96\",\"#ab63fa\",\"#FFA15A\",\"#19d3f3\",\"#FF6692\",\"#B6E880\",\"#FF97FF\",\"#FECB52\"],\"font\":{\"color\":\"#2a3f5f\"},\"hovermode\":\"closest\",\"hoverlabel\":{\"align\":\"left\"},\"paper_bgcolor\":\"white\",\"plot_bgcolor\":\"#E5ECF6\",\"polar\":{\"bgcolor\":\"#E5ECF6\",\"angularaxis\":{\"gridcolor\":\"white\",\"linecolor\":\"white\",\"ticks\":\"\"},\"radialaxis\":{\"gridcolor\":\"white\",\"linecolor\":\"white\",\"ticks\":\"\"}},\"ternary\":{\"bgcolor\":\"#E5ECF6\",\"aaxis\":{\"gridcolor\":\"white\",\"linecolor\":\"white\",\"ticks\":\"\"},\"baxis\":{\"gridcolor\":\"white\",\"linecolor\":\"white\",\"ticks\":\"\"},\"caxis\":{\"gridcolor\":\"white\",\"linecolor\":\"white\",\"ticks\":\"\"}},\"coloraxis\":{\"colorbar\":{\"outlinewidth\":0,\"ticks\":\"\"}},\"colorscale\":{\"sequential\":[[0.0,\"#0d0887\"],[0.1111111111111111,\"#46039f\"],[0.2222222222222222,\"#7201a8\"],[0.3333333333333333,\"#9c179e\"],[0.4444444444444444,\"#bd3786\"],[0.5555555555555556,\"#d8576b\"],[0.6666666666666666,\"#ed7953\"],[0.7777777777777778,\"#fb9f3a\"],[0.8888888888888888,\"#fdca26\"],[1.0,\"#f0f921\"]],\"sequentialminus\":[[0.0,\"#0d0887\"],[0.1111111111111111,\"#46039f\"],[0.2222222222222222,\"#7201a8\"],[0.3333333333333333,\"#9c179e\"],[0.4444444444444444,\"#bd3786\"],[0.5555555555555556,\"#d8576b\"],[0.6666666666666666,\"#ed7953\"],[0.7777777777777778,\"#fb9f3a\"],[0.8888888888888888,\"#fdca26\"],[1.0,\"#f0f921\"]],\"diverging\":[[0,\"#8e0152\"],[0.1,\"#c51b7d\"],[0.2,\"#de77ae\"],[0.3,\"#f1b6da\"],[0.4,\"#fde0ef\"],[0.5,\"#f7f7f7\"],[0.6,\"#e6f5d0\"],[0.7,\"#b8e186\"],[0.8,\"#7fbc41\"],[0.9,\"#4d9221\"],[1,\"#276419\"]]},\"xaxis\":{\"gridcolor\":\"white\",\"linecolor\":\"white\",\"ticks\":\"\",\"title\":{\"standoff\":15},\"zerolinecolor\":\"white\",\"automargin\":true,\"zerolinewidth\":2},\"yaxis\":{\"gridcolor\":\"white\",\"linecolor\":\"white\",\"ticks\":\"\",\"title\":{\"standoff\":15},\"zerolinecolor\":\"white\",\"automargin\":true,\"zerolinewidth\":2},\"scene\":{\"xaxis\":{\"backgroundcolor\":\"#E5ECF6\",\"gridcolor\":\"white\",\"linecolor\":\"white\",\"showbackground\":true,\"ticks\":\"\",\"zerolinecolor\":\"white\",\"gridwidth\":2},\"yaxis\":{\"backgroundcolor\":\"#E5ECF6\",\"gridcolor\":\"white\",\"linecolor\":\"white\",\"showbackground\":true,\"ticks\":\"\",\"zerolinecolor\":\"white\",\"gridwidth\":2},\"zaxis\":{\"backgroundcolor\":\"#E5ECF6\",\"gridcolor\":\"white\",\"linecolor\":\"white\",\"showbackground\":true,\"ticks\":\"\",\"zerolinecolor\":\"white\",\"gridwidth\":2}},\"shapedefaults\":{\"line\":{\"color\":\"#2a3f5f\"}},\"annotationdefaults\":{\"arrowcolor\":\"#2a3f5f\",\"arrowhead\":0,\"arrowwidth\":1},\"geo\":{\"bgcolor\":\"white\",\"landcolor\":\"#E5ECF6\",\"subunitcolor\":\"white\",\"showland\":true,\"showlakes\":true,\"lakecolor\":\"white\"},\"title\":{\"x\":0.05},\"mapbox\":{\"style\":\"light\"}}},\"xaxis\":{\"anchor\":\"y\",\"domain\":[0.0,1.0],\"title\":{\"text\":\"Real\"}},\"yaxis\":{\"anchor\":\"x\",\"domain\":[0.0,1.0],\"title\":{\"text\":\"Imaginary\"}},\"legend\":{\"tracegroupgap\":0},\"title\":{\"text\":\"Eigenvalues of Head L11H11 of GPT-2 Small\"}},                        {\"responsive\": true}                    ).then(function(){\n",
                            "                            \n",
                            "var gd = document.getElementById('bdd08916-2eb4-46b4-bcc5-896e7bc11cee');\n",
                            "var x = new MutationObserver(function (mutations, observer) {{\n",
                            "        var display = window.getComputedStyle(gd).display;\n",
                            "        if (!display || display === 'none') {{\n",
                            "            console.log([gd, 'removed!']);\n",
                            "            Plotly.purge(gd);\n",
                            "            observer.disconnect();\n",
                            "        }}\n",
                            "}});\n",
                            "\n",
                            "// Listen for the removal of the full notebook cells\n",
                            "var notebookContainer = gd.closest('#notebook-container');\n",
                            "if (notebookContainer) {{\n",
                            "    x.observe(notebookContainer, {childList: true});\n",
                            "}}\n",
                            "\n",
                            "// Listen for the clearing of the current output cell\n",
                            "var outputEl = gd.closest('.output');\n",
                            "if (outputEl) {{\n",
                            "    x.observe(outputEl, {childList: true});\n",
                            "}}\n",
                            "\n",
                            "                        })                };                            </script>        </div>\n",
                            "</body>\n",
                            "</html>"
                        ]
                    },
                    "metadata": {},
                    "output_type": "display_data"
                }
            ],
            "source": [
                "scatter(x=OV_circuit_all_heads_eigenvalues[-1, -1, :].real, y=OV_circuit_all_heads_eigenvalues[-1, -1, :].imag, title=\"Eigenvalues of Head L11H11 of GPT-2 Small\", xaxis=\"Real\", yaxis=\"Imaginary\")"
            ]
        },
        {
            "cell_type": "markdown",
            "metadata": {},
            "source": [
                "We can even look at the full OV circuit, from the input tokens to output tokens: $W_E W_V W_O W_U$. This is a `[d_vocab, d_vocab]==[50257, 50257]` matrix, so absolutely enormous, even for a single head. But with the FactoredMatrix class, we can compute the full eigenvalue copying score of every head in a few seconds."
            ]
        },
        {
            "cell_type": "code",
            "execution_count": 47,
            "metadata": {},
            "outputs": [
                {
                    "name": "stdout",
                    "output_type": "stream",
                    "text": [
                        "FactoredMatrix: Shape(torch.Size([12, 12, 50257, 50257])), Hidden Dim(64)\n"
                    ]
                }
            ],
            "source": [
                "full_OV_circuit = model.embed.W_E @ OV_circuit_all_heads @ model.unembed.W_U\n",
                "print(full_OV_circuit)"
            ]
        },
        {
            "cell_type": "code",
            "execution_count": 48,
            "metadata": {},
            "outputs": [
                {
                    "name": "stdout",
                    "output_type": "stream",
                    "text": [
                        "torch.Size([12, 12, 64])\n",
                        "torch.complex64\n"
                    ]
                }
            ],
            "source": [
                "full_OV_circuit_eigenvalues = full_OV_circuit.eigenvalues\n",
                "print(full_OV_circuit_eigenvalues.shape)\n",
                "print(full_OV_circuit_eigenvalues.dtype)"
            ]
        },
        {
            "cell_type": "code",
            "execution_count": 49,
            "metadata": {},
            "outputs": [
                {
                    "data": {
                        "text/html": [
                            "<html>\n",
                            "<head><meta charset=\"utf-8\" /></head>\n",
                            "<body>\n",
                            "    <div>            <script src=\"https://cdnjs.cloudflare.com/ajax/libs/mathjax/2.7.5/MathJax.js?config=TeX-AMS-MML_SVG\"></script><script type=\"text/javascript\">if (window.MathJax && window.MathJax.Hub && window.MathJax.Hub.Config) {window.MathJax.Hub.Config({SVG: {font: \"STIX-Web\"}});}</script>                <script type=\"text/javascript\">window.PlotlyConfig = {MathJaxConfig: 'local'};</script>\n",
                            "        <script src=\"https://cdn.plot.ly/plotly-2.16.1.min.js\"></script>                <div id=\"ef099db3-850d-4f72-bcbc-a001170dfe46\" class=\"plotly-graph-div\" style=\"height:525px; width:100%;\"></div>            <script type=\"text/javascript\">                                    window.PLOTLYENV=window.PLOTLYENV || {};                                    if (document.getElementById(\"ef099db3-850d-4f72-bcbc-a001170dfe46\")) {                    Plotly.newPlot(                        \"ef099db3-850d-4f72-bcbc-a001170dfe46\",                        [{\"coloraxis\":\"coloraxis\",\"name\":\"0\",\"z\":[[0.8356366,0.58535385,0.5105842,0.78433764,0.8644159,0.70265853,0.8969925,0.5868824,0.42486504,-0.16337514,0.46268544,0.27605426],[-0.052920163,-0.3177313,-0.48105782,-0.7838066,-0.63602084,-0.77586824,0.96818024,0.81191146,-0.75104624,-0.68784463,-0.64298844,-0.99858564],[-0.65983284,0.9152503,0.54614985,-0.4874397,0.7720561,-0.7541063,-0.847245,-0.6948985,-0.1557513,0.24442284,-0.91066235,-0.94391507],[0.6486897,-0.5592913,0.5935595,0.7843037,-0.8150344,0.6130046,0.16785872,0.3519588,-0.6837264,0.22237684,-0.99292195,0.65358186],[0.5740951,0.3640131,0.0960908,0.93596244,-0.9228775,0.61910796,-0.33572662,-0.998465,0.6448632,0.8468657,-0.7557656,0.95279706],[0.7326544,0.53241664,0.97326714,0.7239247,0.25538945,0.81584096,0.66557914,0.9287099,-0.5660435,-0.89087445,0.98342353,-0.99811804],[0.96986926,0.7439671,-0.35639316,0.6022988,0.9708116,-0.9278276,-0.9962316,0.8345208,0.9714328,0.8158544,0.5902574,0.8199346],[0.98202264,0.9859328,0.51524574,-0.56105167,0.96636665,0.9495159,-0.52048147,0.31047505,0.9859083,0.7797459,0.6738534,0.39197388],[-0.9062039,0.11750999,0.8077877,0.4169305,0.9829014,0.9902303,0.7847102,0.994563,0.9868026,-0.26804435,-0.99088675,0.74579275],[0.9906192,-0.18231122,0.97578365,0.99867505,0.25443316,-0.9544061,0.5869243,-0.23537976,0.9550504,0.25511968,0.992987,0.090525985],[0.9707273,0.6956093,0.6280023,0.79028654,0.934384,0.98957944,0.94362825,-0.10834958,-0.3431112,0.99867094,0.50867337,0.99495095],[0.8283133,0.9432441,0.9491768,0.9995353,0.57123184,0.8055236,0.67818654,0.8272576,0.8314806,0.8778659,0.99449587,0.99738663]],\"type\":\"heatmap\",\"xaxis\":\"x\",\"yaxis\":\"y\",\"hovertemplate\":\"Head: %{x}<br>Layer: %{y}<br>color: %{z}<extra></extra>\"}],                        {\"template\":{\"data\":{\"histogram2dcontour\":[{\"type\":\"histogram2dcontour\",\"colorbar\":{\"outlinewidth\":0,\"ticks\":\"\"},\"colorscale\":[[0.0,\"#0d0887\"],[0.1111111111111111,\"#46039f\"],[0.2222222222222222,\"#7201a8\"],[0.3333333333333333,\"#9c179e\"],[0.4444444444444444,\"#bd3786\"],[0.5555555555555556,\"#d8576b\"],[0.6666666666666666,\"#ed7953\"],[0.7777777777777778,\"#fb9f3a\"],[0.8888888888888888,\"#fdca26\"],[1.0,\"#f0f921\"]]}],\"choropleth\":[{\"type\":\"choropleth\",\"colorbar\":{\"outlinewidth\":0,\"ticks\":\"\"}}],\"histogram2d\":[{\"type\":\"histogram2d\",\"colorbar\":{\"outlinewidth\":0,\"ticks\":\"\"},\"colorscale\":[[0.0,\"#0d0887\"],[0.1111111111111111,\"#46039f\"],[0.2222222222222222,\"#7201a8\"],[0.3333333333333333,\"#9c179e\"],[0.4444444444444444,\"#bd3786\"],[0.5555555555555556,\"#d8576b\"],[0.6666666666666666,\"#ed7953\"],[0.7777777777777778,\"#fb9f3a\"],[0.8888888888888888,\"#fdca26\"],[1.0,\"#f0f921\"]]}],\"heatmap\":[{\"type\":\"heatmap\",\"colorbar\":{\"outlinewidth\":0,\"ticks\":\"\"},\"colorscale\":[[0.0,\"#0d0887\"],[0.1111111111111111,\"#46039f\"],[0.2222222222222222,\"#7201a8\"],[0.3333333333333333,\"#9c179e\"],[0.4444444444444444,\"#bd3786\"],[0.5555555555555556,\"#d8576b\"],[0.6666666666666666,\"#ed7953\"],[0.7777777777777778,\"#fb9f3a\"],[0.8888888888888888,\"#fdca26\"],[1.0,\"#f0f921\"]]}],\"heatmapgl\":[{\"type\":\"heatmapgl\",\"colorbar\":{\"outlinewidth\":0,\"ticks\":\"\"},\"colorscale\":[[0.0,\"#0d0887\"],[0.1111111111111111,\"#46039f\"],[0.2222222222222222,\"#7201a8\"],[0.3333333333333333,\"#9c179e\"],[0.4444444444444444,\"#bd3786\"],[0.5555555555555556,\"#d8576b\"],[0.6666666666666666,\"#ed7953\"],[0.7777777777777778,\"#fb9f3a\"],[0.8888888888888888,\"#fdca26\"],[1.0,\"#f0f921\"]]}],\"contourcarpet\":[{\"type\":\"contourcarpet\",\"colorbar\":{\"outlinewidth\":0,\"ticks\":\"\"}}],\"contour\":[{\"type\":\"contour\",\"colorbar\":{\"outlinewidth\":0,\"ticks\":\"\"},\"colorscale\":[[0.0,\"#0d0887\"],[0.1111111111111111,\"#46039f\"],[0.2222222222222222,\"#7201a8\"],[0.3333333333333333,\"#9c179e\"],[0.4444444444444444,\"#bd3786\"],[0.5555555555555556,\"#d8576b\"],[0.6666666666666666,\"#ed7953\"],[0.7777777777777778,\"#fb9f3a\"],[0.8888888888888888,\"#fdca26\"],[1.0,\"#f0f921\"]]}],\"surface\":[{\"type\":\"surface\",\"colorbar\":{\"outlinewidth\":0,\"ticks\":\"\"},\"colorscale\":[[0.0,\"#0d0887\"],[0.1111111111111111,\"#46039f\"],[0.2222222222222222,\"#7201a8\"],[0.3333333333333333,\"#9c179e\"],[0.4444444444444444,\"#bd3786\"],[0.5555555555555556,\"#d8576b\"],[0.6666666666666666,\"#ed7953\"],[0.7777777777777778,\"#fb9f3a\"],[0.8888888888888888,\"#fdca26\"],[1.0,\"#f0f921\"]]}],\"mesh3d\":[{\"type\":\"mesh3d\",\"colorbar\":{\"outlinewidth\":0,\"ticks\":\"\"}}],\"scatter\":[{\"fillpattern\":{\"fillmode\":\"overlay\",\"size\":10,\"solidity\":0.2},\"type\":\"scatter\"}],\"parcoords\":[{\"type\":\"parcoords\",\"line\":{\"colorbar\":{\"outlinewidth\":0,\"ticks\":\"\"}}}],\"scatterpolargl\":[{\"type\":\"scatterpolargl\",\"marker\":{\"colorbar\":{\"outlinewidth\":0,\"ticks\":\"\"}}}],\"bar\":[{\"error_x\":{\"color\":\"#2a3f5f\"},\"error_y\":{\"color\":\"#2a3f5f\"},\"marker\":{\"line\":{\"color\":\"#E5ECF6\",\"width\":0.5},\"pattern\":{\"fillmode\":\"overlay\",\"size\":10,\"solidity\":0.2}},\"type\":\"bar\"}],\"scattergeo\":[{\"type\":\"scattergeo\",\"marker\":{\"colorbar\":{\"outlinewidth\":0,\"ticks\":\"\"}}}],\"scatterpolar\":[{\"type\":\"scatterpolar\",\"marker\":{\"colorbar\":{\"outlinewidth\":0,\"ticks\":\"\"}}}],\"histogram\":[{\"marker\":{\"pattern\":{\"fillmode\":\"overlay\",\"size\":10,\"solidity\":0.2}},\"type\":\"histogram\"}],\"scattergl\":[{\"type\":\"scattergl\",\"marker\":{\"colorbar\":{\"outlinewidth\":0,\"ticks\":\"\"}}}],\"scatter3d\":[{\"type\":\"scatter3d\",\"line\":{\"colorbar\":{\"outlinewidth\":0,\"ticks\":\"\"}},\"marker\":{\"colorbar\":{\"outlinewidth\":0,\"ticks\":\"\"}}}],\"scattermapbox\":[{\"type\":\"scattermapbox\",\"marker\":{\"colorbar\":{\"outlinewidth\":0,\"ticks\":\"\"}}}],\"scatterternary\":[{\"type\":\"scatterternary\",\"marker\":{\"colorbar\":{\"outlinewidth\":0,\"ticks\":\"\"}}}],\"scattercarpet\":[{\"type\":\"scattercarpet\",\"marker\":{\"colorbar\":{\"outlinewidth\":0,\"ticks\":\"\"}}}],\"carpet\":[{\"aaxis\":{\"endlinecolor\":\"#2a3f5f\",\"gridcolor\":\"white\",\"linecolor\":\"white\",\"minorgridcolor\":\"white\",\"startlinecolor\":\"#2a3f5f\"},\"baxis\":{\"endlinecolor\":\"#2a3f5f\",\"gridcolor\":\"white\",\"linecolor\":\"white\",\"minorgridcolor\":\"white\",\"startlinecolor\":\"#2a3f5f\"},\"type\":\"carpet\"}],\"table\":[{\"cells\":{\"fill\":{\"color\":\"#EBF0F8\"},\"line\":{\"color\":\"white\"}},\"header\":{\"fill\":{\"color\":\"#C8D4E3\"},\"line\":{\"color\":\"white\"}},\"type\":\"table\"}],\"barpolar\":[{\"marker\":{\"line\":{\"color\":\"#E5ECF6\",\"width\":0.5},\"pattern\":{\"fillmode\":\"overlay\",\"size\":10,\"solidity\":0.2}},\"type\":\"barpolar\"}],\"pie\":[{\"automargin\":true,\"type\":\"pie\"}]},\"layout\":{\"autotypenumbers\":\"strict\",\"colorway\":[\"#636efa\",\"#EF553B\",\"#00cc96\",\"#ab63fa\",\"#FFA15A\",\"#19d3f3\",\"#FF6692\",\"#B6E880\",\"#FF97FF\",\"#FECB52\"],\"font\":{\"color\":\"#2a3f5f\"},\"hovermode\":\"closest\",\"hoverlabel\":{\"align\":\"left\"},\"paper_bgcolor\":\"white\",\"plot_bgcolor\":\"#E5ECF6\",\"polar\":{\"bgcolor\":\"#E5ECF6\",\"angularaxis\":{\"gridcolor\":\"white\",\"linecolor\":\"white\",\"ticks\":\"\"},\"radialaxis\":{\"gridcolor\":\"white\",\"linecolor\":\"white\",\"ticks\":\"\"}},\"ternary\":{\"bgcolor\":\"#E5ECF6\",\"aaxis\":{\"gridcolor\":\"white\",\"linecolor\":\"white\",\"ticks\":\"\"},\"baxis\":{\"gridcolor\":\"white\",\"linecolor\":\"white\",\"ticks\":\"\"},\"caxis\":{\"gridcolor\":\"white\",\"linecolor\":\"white\",\"ticks\":\"\"}},\"coloraxis\":{\"colorbar\":{\"outlinewidth\":0,\"ticks\":\"\"}},\"colorscale\":{\"sequential\":[[0.0,\"#0d0887\"],[0.1111111111111111,\"#46039f\"],[0.2222222222222222,\"#7201a8\"],[0.3333333333333333,\"#9c179e\"],[0.4444444444444444,\"#bd3786\"],[0.5555555555555556,\"#d8576b\"],[0.6666666666666666,\"#ed7953\"],[0.7777777777777778,\"#fb9f3a\"],[0.8888888888888888,\"#fdca26\"],[1.0,\"#f0f921\"]],\"sequentialminus\":[[0.0,\"#0d0887\"],[0.1111111111111111,\"#46039f\"],[0.2222222222222222,\"#7201a8\"],[0.3333333333333333,\"#9c179e\"],[0.4444444444444444,\"#bd3786\"],[0.5555555555555556,\"#d8576b\"],[0.6666666666666666,\"#ed7953\"],[0.7777777777777778,\"#fb9f3a\"],[0.8888888888888888,\"#fdca26\"],[1.0,\"#f0f921\"]],\"diverging\":[[0,\"#8e0152\"],[0.1,\"#c51b7d\"],[0.2,\"#de77ae\"],[0.3,\"#f1b6da\"],[0.4,\"#fde0ef\"],[0.5,\"#f7f7f7\"],[0.6,\"#e6f5d0\"],[0.7,\"#b8e186\"],[0.8,\"#7fbc41\"],[0.9,\"#4d9221\"],[1,\"#276419\"]]},\"xaxis\":{\"gridcolor\":\"white\",\"linecolor\":\"white\",\"ticks\":\"\",\"title\":{\"standoff\":15},\"zerolinecolor\":\"white\",\"automargin\":true,\"zerolinewidth\":2},\"yaxis\":{\"gridcolor\":\"white\",\"linecolor\":\"white\",\"ticks\":\"\",\"title\":{\"standoff\":15},\"zerolinecolor\":\"white\",\"automargin\":true,\"zerolinewidth\":2},\"scene\":{\"xaxis\":{\"backgroundcolor\":\"#E5ECF6\",\"gridcolor\":\"white\",\"linecolor\":\"white\",\"showbackground\":true,\"ticks\":\"\",\"zerolinecolor\":\"white\",\"gridwidth\":2},\"yaxis\":{\"backgroundcolor\":\"#E5ECF6\",\"gridcolor\":\"white\",\"linecolor\":\"white\",\"showbackground\":true,\"ticks\":\"\",\"zerolinecolor\":\"white\",\"gridwidth\":2},\"zaxis\":{\"backgroundcolor\":\"#E5ECF6\",\"gridcolor\":\"white\",\"linecolor\":\"white\",\"showbackground\":true,\"ticks\":\"\",\"zerolinecolor\":\"white\",\"gridwidth\":2}},\"shapedefaults\":{\"line\":{\"color\":\"#2a3f5f\"}},\"annotationdefaults\":{\"arrowcolor\":\"#2a3f5f\",\"arrowhead\":0,\"arrowwidth\":1},\"geo\":{\"bgcolor\":\"white\",\"landcolor\":\"#E5ECF6\",\"subunitcolor\":\"white\",\"showland\":true,\"showlakes\":true,\"lakecolor\":\"white\"},\"title\":{\"x\":0.05},\"mapbox\":{\"style\":\"light\"}}},\"xaxis\":{\"anchor\":\"y\",\"domain\":[0.0,1.0],\"scaleanchor\":\"y\",\"constrain\":\"domain\",\"title\":{\"text\":\"Head\"}},\"yaxis\":{\"anchor\":\"x\",\"domain\":[0.0,1.0],\"autorange\":\"reversed\",\"constrain\":\"domain\",\"title\":{\"text\":\"Layer\"}},\"coloraxis\":{\"colorscale\":[[0.0,\"rgb(103,0,31)\"],[0.1,\"rgb(178,24,43)\"],[0.2,\"rgb(214,96,77)\"],[0.3,\"rgb(244,165,130)\"],[0.4,\"rgb(253,219,199)\"],[0.5,\"rgb(247,247,247)\"],[0.6,\"rgb(209,229,240)\"],[0.7,\"rgb(146,197,222)\"],[0.8,\"rgb(67,147,195)\"],[0.9,\"rgb(33,102,172)\"],[1.0,\"rgb(5,48,97)\"]],\"cmid\":0.0,\"cmin\":-1.0,\"cmax\":1.0},\"title\":{\"text\":\"OV Copying Score for each head in GPT-2 Small\"}},                        {\"responsive\": true}                    ).then(function(){\n",
                            "                            \n",
                            "var gd = document.getElementById('ef099db3-850d-4f72-bcbc-a001170dfe46');\n",
                            "var x = new MutationObserver(function (mutations, observer) {{\n",
                            "        var display = window.getComputedStyle(gd).display;\n",
                            "        if (!display || display === 'none') {{\n",
                            "            console.log([gd, 'removed!']);\n",
                            "            Plotly.purge(gd);\n",
                            "            observer.disconnect();\n",
                            "        }}\n",
                            "}});\n",
                            "\n",
                            "// Listen for the removal of the full notebook cells\n",
                            "var notebookContainer = gd.closest('#notebook-container');\n",
                            "if (notebookContainer) {{\n",
                            "    x.observe(notebookContainer, {childList: true});\n",
                            "}}\n",
                            "\n",
                            "// Listen for the clearing of the current output cell\n",
                            "var outputEl = gd.closest('.output');\n",
                            "if (outputEl) {{\n",
                            "    x.observe(outputEl, {childList: true});\n",
                            "}}\n",
                            "\n",
                            "                        })                };                            </script>        </div>\n",
                            "</body>\n",
                            "</html>"
                        ]
                    },
                    "metadata": {},
                    "output_type": "display_data"
                }
            ],
            "source": [
                "full_OV_copying_score = full_OV_circuit_eigenvalues.sum(dim=-1).real / full_OV_circuit_eigenvalues.abs().sum(dim=-1)\n",
                "imshow(utils.to_numpy(full_OV_copying_score), xaxis=\"Head\", yaxis=\"Layer\", title=\"OV Copying Score for each head in GPT-2 Small\", zmax=1.0, zmin=-1.0)"
            ]
        },
        {
            "cell_type": "markdown",
            "metadata": {},
            "source": [
                "Interestingly, these are highly (but not perfectly!) correlated. I'm not sure what to read from this, or what's up with the weird outlier heads!"
            ]
        },
        {
            "cell_type": "code",
            "execution_count": 50,
            "metadata": {},
            "outputs": [
                {
                    "data": {
                        "text/html": [
                            "<html>\n",
                            "<head><meta charset=\"utf-8\" /></head>\n",
                            "<body>\n",
                            "    <div>            <script src=\"https://cdnjs.cloudflare.com/ajax/libs/mathjax/2.7.5/MathJax.js?config=TeX-AMS-MML_SVG\"></script><script type=\"text/javascript\">if (window.MathJax && window.MathJax.Hub && window.MathJax.Hub.Config) {window.MathJax.Hub.Config({SVG: {font: \"STIX-Web\"}});}</script>                <script type=\"text/javascript\">window.PlotlyConfig = {MathJaxConfig: 'local'};</script>\n",
                            "        <script src=\"https://cdn.plot.ly/plotly-2.16.1.min.js\"></script>                <div id=\"df2e2140-8dfe-4259-a9ef-ccdd4f9b62ec\" class=\"plotly-graph-div\" style=\"height:525px; width:100%;\"></div>            <script type=\"text/javascript\">                                    window.PLOTLYENV=window.PLOTLYENV || {};                                    if (document.getElementById(\"df2e2140-8dfe-4259-a9ef-ccdd4f9b62ec\")) {                    Plotly.newPlot(                        \"df2e2140-8dfe-4259-a9ef-ccdd4f9b62ec\",                        [{\"hovertemplate\":\"<b>%{hovertext}</b><br><br>Full OV Copying Score=%{x}<br>OV Copying Score=%{y}<extra></extra>\",\"hovertext\":[\"L0H0\",\"L0H1\",\"L0H2\",\"L0H3\",\"L0H4\",\"L0H5\",\"L0H6\",\"L0H7\",\"L0H8\",\"L0H9\",\"L0H10\",\"L0H11\",\"L1H0\",\"L1H1\",\"L1H2\",\"L1H3\",\"L1H4\",\"L1H5\",\"L1H6\",\"L1H7\",\"L1H8\",\"L1H9\",\"L1H10\",\"L1H11\",\"L2H0\",\"L2H1\",\"L2H2\",\"L2H3\",\"L2H4\",\"L2H5\",\"L2H6\",\"L2H7\",\"L2H8\",\"L2H9\",\"L2H10\",\"L2H11\",\"L3H0\",\"L3H1\",\"L3H2\",\"L3H3\",\"L3H4\",\"L3H5\",\"L3H6\",\"L3H7\",\"L3H8\",\"L3H9\",\"L3H10\",\"L3H11\",\"L4H0\",\"L4H1\",\"L4H2\",\"L4H3\",\"L4H4\",\"L4H5\",\"L4H6\",\"L4H7\",\"L4H8\",\"L4H9\",\"L4H10\",\"L4H11\",\"L5H0\",\"L5H1\",\"L5H2\",\"L5H3\",\"L5H4\",\"L5H5\",\"L5H6\",\"L5H7\",\"L5H8\",\"L5H9\",\"L5H10\",\"L5H11\",\"L6H0\",\"L6H1\",\"L6H2\",\"L6H3\",\"L6H4\",\"L6H5\",\"L6H6\",\"L6H7\",\"L6H8\",\"L6H9\",\"L6H10\",\"L6H11\",\"L7H0\",\"L7H1\",\"L7H2\",\"L7H3\",\"L7H4\",\"L7H5\",\"L7H6\",\"L7H7\",\"L7H8\",\"L7H9\",\"L7H10\",\"L7H11\",\"L8H0\",\"L8H1\",\"L8H2\",\"L8H3\",\"L8H4\",\"L8H5\",\"L8H6\",\"L8H7\",\"L8H8\",\"L8H9\",\"L8H10\",\"L8H11\",\"L9H0\",\"L9H1\",\"L9H2\",\"L9H3\",\"L9H4\",\"L9H5\",\"L9H6\",\"L9H7\",\"L9H8\",\"L9H9\",\"L9H10\",\"L9H11\",\"L10H0\",\"L10H1\",\"L10H2\",\"L10H3\",\"L10H4\",\"L10H5\",\"L10H6\",\"L10H7\",\"L10H8\",\"L10H9\",\"L10H10\",\"L10H11\",\"L11H0\",\"L11H1\",\"L11H2\",\"L11H3\",\"L11H4\",\"L11H5\",\"L11H6\",\"L11H7\",\"L11H8\",\"L11H9\",\"L11H10\",\"L11H11\"],\"legendgroup\":\"\",\"marker\":{\"color\":\"#636efa\",\"symbol\":\"circle\"},\"mode\":\"markers\",\"name\":\"\",\"orientation\":\"v\",\"showlegend\":false,\"x\":[0.8356366,0.58535385,0.5105842,0.78433764,0.8644159,0.70265853,0.8969925,0.5868824,0.42486504,-0.16337514,0.46268544,0.27605426,-0.052920163,-0.3177313,-0.48105782,-0.7838066,-0.63602084,-0.77586824,0.96818024,0.81191146,-0.75104624,-0.68784463,-0.64298844,-0.99858564,-0.65983284,0.9152503,0.54614985,-0.4874397,0.7720561,-0.7541063,-0.847245,-0.6948985,-0.1557513,0.24442284,-0.91066235,-0.94391507,0.6486897,-0.5592913,0.5935595,0.7843037,-0.8150344,0.6130046,0.16785872,0.3519588,-0.6837264,0.22237684,-0.99292195,0.65358186,0.5740951,0.3640131,0.0960908,0.93596244,-0.9228775,0.61910796,-0.33572662,-0.998465,0.6448632,0.8468657,-0.7557656,0.95279706,0.7326544,0.53241664,0.97326714,0.7239247,0.25538945,0.81584096,0.66557914,0.9287099,-0.5660435,-0.89087445,0.98342353,-0.99811804,0.96986926,0.7439671,-0.35639316,0.6022988,0.9708116,-0.9278276,-0.9962316,0.8345208,0.9714328,0.8158544,0.5902574,0.8199346,0.98202264,0.9859328,0.51524574,-0.56105167,0.96636665,0.9495159,-0.52048147,0.31047505,0.9859083,0.7797459,0.6738534,0.39197388,-0.9062039,0.11750999,0.8077877,0.4169305,0.9829014,0.9902303,0.7847102,0.994563,0.9868026,-0.26804435,-0.99088675,0.74579275,0.9906192,-0.18231122,0.97578365,0.99867505,0.25443316,-0.9544061,0.5869243,-0.23537976,0.9550504,0.25511968,0.992987,0.090525985,0.9707273,0.6956093,0.6280023,0.79028654,0.934384,0.98957944,0.94362825,-0.10834958,-0.3431112,0.99867094,0.50867337,0.99495095,0.8283133,0.9432441,0.9491768,0.9995353,0.57123184,0.8055236,0.67818654,0.8272576,0.8314806,0.8778659,0.99449587,0.99738663],\"xaxis\":\"x\",\"y\":[0.777501,0.3527268,0.2596186,0.66702574,0.8384258,0.5584432,0.8444747,0.41379097,0.24488935,0.028157508,0.35840985,0.16288288,-0.4541911,-0.6529327,-0.548457,-0.79903686,-0.7736425,-0.85225815,0.97743237,0.6626251,-0.73032224,-0.70070213,-0.6946625,-0.99967235,-0.78371626,0.89677584,0.4750953,-0.6671974,0.7881463,-0.854775,-0.9054185,-0.57493836,-0.32175106,-0.028594071,-0.92476183,-0.9699269,0.58640355,-0.7614349,0.59716946,0.7854394,-0.87888825,0.39087448,0.04473867,0.11028006,-0.8169987,0.22129549,-0.99395794,0.5774401,0.52547896,0.30490145,-0.1072914,0.94331515,-0.931443,0.5273629,-0.4264709,-0.9984429,0.52967566,0.8604294,-0.88950515,0.955697,0.66291875,0.42956945,0.9736858,0.65554816,0.12201875,0.7442768,0.5037956,0.95253587,-0.65071666,-0.931628,0.97915107,-0.99725866,0.9613031,0.75017786,-0.38066593,0.64297867,0.95577693,-0.9428839,-0.994808,0.7852987,0.9657302,0.70730156,0.36872303,0.81280106,0.9659483,0.9730121,0.3190061,-0.30290532,0.97909546,0.9357923,-0.5550317,-0.00546646,0.9867777,0.82495666,0.5664299,0.10005281,-0.9464487,-0.2547201,0.6522326,0.14152558,0.98841417,0.98605835,0.6949271,0.9901811,0.97912025,-0.2359553,-0.98207104,0.65066874,0.9895943,-0.29178143,0.9714024,0.9951602,0.18783762,-0.94609374,0.47801915,-0.24891911,0.94370985,0.11866241,0.99412435,-0.38088188,0.9564488,0.5542725,0.4211806,0.66287893,0.8659593,0.99371177,0.9069077,0.39811078,-0.41342166,0.99719155,0.34596682,0.9938656,0.58912665,0.9313741,0.9268401,0.9993564,0.62275416,0.8463948,0.6584346,0.8423125,0.29784963,0.8728679,0.99631435,0.98675257],\"yaxis\":\"y\",\"type\":\"scatter\"}],                        {\"template\":{\"data\":{\"histogram2dcontour\":[{\"type\":\"histogram2dcontour\",\"colorbar\":{\"outlinewidth\":0,\"ticks\":\"\"},\"colorscale\":[[0.0,\"#0d0887\"],[0.1111111111111111,\"#46039f\"],[0.2222222222222222,\"#7201a8\"],[0.3333333333333333,\"#9c179e\"],[0.4444444444444444,\"#bd3786\"],[0.5555555555555556,\"#d8576b\"],[0.6666666666666666,\"#ed7953\"],[0.7777777777777778,\"#fb9f3a\"],[0.8888888888888888,\"#fdca26\"],[1.0,\"#f0f921\"]]}],\"choropleth\":[{\"type\":\"choropleth\",\"colorbar\":{\"outlinewidth\":0,\"ticks\":\"\"}}],\"histogram2d\":[{\"type\":\"histogram2d\",\"colorbar\":{\"outlinewidth\":0,\"ticks\":\"\"},\"colorscale\":[[0.0,\"#0d0887\"],[0.1111111111111111,\"#46039f\"],[0.2222222222222222,\"#7201a8\"],[0.3333333333333333,\"#9c179e\"],[0.4444444444444444,\"#bd3786\"],[0.5555555555555556,\"#d8576b\"],[0.6666666666666666,\"#ed7953\"],[0.7777777777777778,\"#fb9f3a\"],[0.8888888888888888,\"#fdca26\"],[1.0,\"#f0f921\"]]}],\"heatmap\":[{\"type\":\"heatmap\",\"colorbar\":{\"outlinewidth\":0,\"ticks\":\"\"},\"colorscale\":[[0.0,\"#0d0887\"],[0.1111111111111111,\"#46039f\"],[0.2222222222222222,\"#7201a8\"],[0.3333333333333333,\"#9c179e\"],[0.4444444444444444,\"#bd3786\"],[0.5555555555555556,\"#d8576b\"],[0.6666666666666666,\"#ed7953\"],[0.7777777777777778,\"#fb9f3a\"],[0.8888888888888888,\"#fdca26\"],[1.0,\"#f0f921\"]]}],\"heatmapgl\":[{\"type\":\"heatmapgl\",\"colorbar\":{\"outlinewidth\":0,\"ticks\":\"\"},\"colorscale\":[[0.0,\"#0d0887\"],[0.1111111111111111,\"#46039f\"],[0.2222222222222222,\"#7201a8\"],[0.3333333333333333,\"#9c179e\"],[0.4444444444444444,\"#bd3786\"],[0.5555555555555556,\"#d8576b\"],[0.6666666666666666,\"#ed7953\"],[0.7777777777777778,\"#fb9f3a\"],[0.8888888888888888,\"#fdca26\"],[1.0,\"#f0f921\"]]}],\"contourcarpet\":[{\"type\":\"contourcarpet\",\"colorbar\":{\"outlinewidth\":0,\"ticks\":\"\"}}],\"contour\":[{\"type\":\"contour\",\"colorbar\":{\"outlinewidth\":0,\"ticks\":\"\"},\"colorscale\":[[0.0,\"#0d0887\"],[0.1111111111111111,\"#46039f\"],[0.2222222222222222,\"#7201a8\"],[0.3333333333333333,\"#9c179e\"],[0.4444444444444444,\"#bd3786\"],[0.5555555555555556,\"#d8576b\"],[0.6666666666666666,\"#ed7953\"],[0.7777777777777778,\"#fb9f3a\"],[0.8888888888888888,\"#fdca26\"],[1.0,\"#f0f921\"]]}],\"surface\":[{\"type\":\"surface\",\"colorbar\":{\"outlinewidth\":0,\"ticks\":\"\"},\"colorscale\":[[0.0,\"#0d0887\"],[0.1111111111111111,\"#46039f\"],[0.2222222222222222,\"#7201a8\"],[0.3333333333333333,\"#9c179e\"],[0.4444444444444444,\"#bd3786\"],[0.5555555555555556,\"#d8576b\"],[0.6666666666666666,\"#ed7953\"],[0.7777777777777778,\"#fb9f3a\"],[0.8888888888888888,\"#fdca26\"],[1.0,\"#f0f921\"]]}],\"mesh3d\":[{\"type\":\"mesh3d\",\"colorbar\":{\"outlinewidth\":0,\"ticks\":\"\"}}],\"scatter\":[{\"fillpattern\":{\"fillmode\":\"overlay\",\"size\":10,\"solidity\":0.2},\"type\":\"scatter\"}],\"parcoords\":[{\"type\":\"parcoords\",\"line\":{\"colorbar\":{\"outlinewidth\":0,\"ticks\":\"\"}}}],\"scatterpolargl\":[{\"type\":\"scatterpolargl\",\"marker\":{\"colorbar\":{\"outlinewidth\":0,\"ticks\":\"\"}}}],\"bar\":[{\"error_x\":{\"color\":\"#2a3f5f\"},\"error_y\":{\"color\":\"#2a3f5f\"},\"marker\":{\"line\":{\"color\":\"#E5ECF6\",\"width\":0.5},\"pattern\":{\"fillmode\":\"overlay\",\"size\":10,\"solidity\":0.2}},\"type\":\"bar\"}],\"scattergeo\":[{\"type\":\"scattergeo\",\"marker\":{\"colorbar\":{\"outlinewidth\":0,\"ticks\":\"\"}}}],\"scatterpolar\":[{\"type\":\"scatterpolar\",\"marker\":{\"colorbar\":{\"outlinewidth\":0,\"ticks\":\"\"}}}],\"histogram\":[{\"marker\":{\"pattern\":{\"fillmode\":\"overlay\",\"size\":10,\"solidity\":0.2}},\"type\":\"histogram\"}],\"scattergl\":[{\"type\":\"scattergl\",\"marker\":{\"colorbar\":{\"outlinewidth\":0,\"ticks\":\"\"}}}],\"scatter3d\":[{\"type\":\"scatter3d\",\"line\":{\"colorbar\":{\"outlinewidth\":0,\"ticks\":\"\"}},\"marker\":{\"colorbar\":{\"outlinewidth\":0,\"ticks\":\"\"}}}],\"scattermapbox\":[{\"type\":\"scattermapbox\",\"marker\":{\"colorbar\":{\"outlinewidth\":0,\"ticks\":\"\"}}}],\"scatterternary\":[{\"type\":\"scatterternary\",\"marker\":{\"colorbar\":{\"outlinewidth\":0,\"ticks\":\"\"}}}],\"scattercarpet\":[{\"type\":\"scattercarpet\",\"marker\":{\"colorbar\":{\"outlinewidth\":0,\"ticks\":\"\"}}}],\"carpet\":[{\"aaxis\":{\"endlinecolor\":\"#2a3f5f\",\"gridcolor\":\"white\",\"linecolor\":\"white\",\"minorgridcolor\":\"white\",\"startlinecolor\":\"#2a3f5f\"},\"baxis\":{\"endlinecolor\":\"#2a3f5f\",\"gridcolor\":\"white\",\"linecolor\":\"white\",\"minorgridcolor\":\"white\",\"startlinecolor\":\"#2a3f5f\"},\"type\":\"carpet\"}],\"table\":[{\"cells\":{\"fill\":{\"color\":\"#EBF0F8\"},\"line\":{\"color\":\"white\"}},\"header\":{\"fill\":{\"color\":\"#C8D4E3\"},\"line\":{\"color\":\"white\"}},\"type\":\"table\"}],\"barpolar\":[{\"marker\":{\"line\":{\"color\":\"#E5ECF6\",\"width\":0.5},\"pattern\":{\"fillmode\":\"overlay\",\"size\":10,\"solidity\":0.2}},\"type\":\"barpolar\"}],\"pie\":[{\"automargin\":true,\"type\":\"pie\"}]},\"layout\":{\"autotypenumbers\":\"strict\",\"colorway\":[\"#636efa\",\"#EF553B\",\"#00cc96\",\"#ab63fa\",\"#FFA15A\",\"#19d3f3\",\"#FF6692\",\"#B6E880\",\"#FF97FF\",\"#FECB52\"],\"font\":{\"color\":\"#2a3f5f\"},\"hovermode\":\"closest\",\"hoverlabel\":{\"align\":\"left\"},\"paper_bgcolor\":\"white\",\"plot_bgcolor\":\"#E5ECF6\",\"polar\":{\"bgcolor\":\"#E5ECF6\",\"angularaxis\":{\"gridcolor\":\"white\",\"linecolor\":\"white\",\"ticks\":\"\"},\"radialaxis\":{\"gridcolor\":\"white\",\"linecolor\":\"white\",\"ticks\":\"\"}},\"ternary\":{\"bgcolor\":\"#E5ECF6\",\"aaxis\":{\"gridcolor\":\"white\",\"linecolor\":\"white\",\"ticks\":\"\"},\"baxis\":{\"gridcolor\":\"white\",\"linecolor\":\"white\",\"ticks\":\"\"},\"caxis\":{\"gridcolor\":\"white\",\"linecolor\":\"white\",\"ticks\":\"\"}},\"coloraxis\":{\"colorbar\":{\"outlinewidth\":0,\"ticks\":\"\"}},\"colorscale\":{\"sequential\":[[0.0,\"#0d0887\"],[0.1111111111111111,\"#46039f\"],[0.2222222222222222,\"#7201a8\"],[0.3333333333333333,\"#9c179e\"],[0.4444444444444444,\"#bd3786\"],[0.5555555555555556,\"#d8576b\"],[0.6666666666666666,\"#ed7953\"],[0.7777777777777778,\"#fb9f3a\"],[0.8888888888888888,\"#fdca26\"],[1.0,\"#f0f921\"]],\"sequentialminus\":[[0.0,\"#0d0887\"],[0.1111111111111111,\"#46039f\"],[0.2222222222222222,\"#7201a8\"],[0.3333333333333333,\"#9c179e\"],[0.4444444444444444,\"#bd3786\"],[0.5555555555555556,\"#d8576b\"],[0.6666666666666666,\"#ed7953\"],[0.7777777777777778,\"#fb9f3a\"],[0.8888888888888888,\"#fdca26\"],[1.0,\"#f0f921\"]],\"diverging\":[[0,\"#8e0152\"],[0.1,\"#c51b7d\"],[0.2,\"#de77ae\"],[0.3,\"#f1b6da\"],[0.4,\"#fde0ef\"],[0.5,\"#f7f7f7\"],[0.6,\"#e6f5d0\"],[0.7,\"#b8e186\"],[0.8,\"#7fbc41\"],[0.9,\"#4d9221\"],[1,\"#276419\"]]},\"xaxis\":{\"gridcolor\":\"white\",\"linecolor\":\"white\",\"ticks\":\"\",\"title\":{\"standoff\":15},\"zerolinecolor\":\"white\",\"automargin\":true,\"zerolinewidth\":2},\"yaxis\":{\"gridcolor\":\"white\",\"linecolor\":\"white\",\"ticks\":\"\",\"title\":{\"standoff\":15},\"zerolinecolor\":\"white\",\"automargin\":true,\"zerolinewidth\":2},\"scene\":{\"xaxis\":{\"backgroundcolor\":\"#E5ECF6\",\"gridcolor\":\"white\",\"linecolor\":\"white\",\"showbackground\":true,\"ticks\":\"\",\"zerolinecolor\":\"white\",\"gridwidth\":2},\"yaxis\":{\"backgroundcolor\":\"#E5ECF6\",\"gridcolor\":\"white\",\"linecolor\":\"white\",\"showbackground\":true,\"ticks\":\"\",\"zerolinecolor\":\"white\",\"gridwidth\":2},\"zaxis\":{\"backgroundcolor\":\"#E5ECF6\",\"gridcolor\":\"white\",\"linecolor\":\"white\",\"showbackground\":true,\"ticks\":\"\",\"zerolinecolor\":\"white\",\"gridwidth\":2}},\"shapedefaults\":{\"line\":{\"color\":\"#2a3f5f\"}},\"annotationdefaults\":{\"arrowcolor\":\"#2a3f5f\",\"arrowhead\":0,\"arrowwidth\":1},\"geo\":{\"bgcolor\":\"white\",\"landcolor\":\"#E5ECF6\",\"subunitcolor\":\"white\",\"showland\":true,\"showlakes\":true,\"lakecolor\":\"white\"},\"title\":{\"x\":0.05},\"mapbox\":{\"style\":\"light\"}}},\"xaxis\":{\"anchor\":\"y\",\"domain\":[0.0,1.0],\"title\":{\"text\":\"Full OV Copying Score\"}},\"yaxis\":{\"anchor\":\"x\",\"domain\":[0.0,1.0],\"title\":{\"text\":\"OV Copying Score\"}},\"legend\":{\"tracegroupgap\":0},\"title\":{\"text\":\"OV Copying Score for each head in GPT-2 Small\"}},                        {\"responsive\": true}                    ).then(function(){\n",
                            "                            \n",
                            "var gd = document.getElementById('df2e2140-8dfe-4259-a9ef-ccdd4f9b62ec');\n",
                            "var x = new MutationObserver(function (mutations, observer) {{\n",
                            "        var display = window.getComputedStyle(gd).display;\n",
                            "        if (!display || display === 'none') {{\n",
                            "            console.log([gd, 'removed!']);\n",
                            "            Plotly.purge(gd);\n",
                            "            observer.disconnect();\n",
                            "        }}\n",
                            "}});\n",
                            "\n",
                            "// Listen for the removal of the full notebook cells\n",
                            "var notebookContainer = gd.closest('#notebook-container');\n",
                            "if (notebookContainer) {{\n",
                            "    x.observe(notebookContainer, {childList: true});\n",
                            "}}\n",
                            "\n",
                            "// Listen for the clearing of the current output cell\n",
                            "var outputEl = gd.closest('.output');\n",
                            "if (outputEl) {{\n",
                            "    x.observe(outputEl, {childList: true});\n",
                            "}}\n",
                            "\n",
                            "                        })                };                            </script>        </div>\n",
                            "</body>\n",
                            "</html>"
                        ]
                    },
                    "metadata": {},
                    "output_type": "display_data"
                }
            ],
            "source": [
                "scatter(x=full_OV_copying_score.flatten(), y=OV_copying_score.flatten(), hover_name=[f\"L{layer}H{head}\" for layer in range(12) for head in range(12)], title=\"OV Copying Score for each head in GPT-2 Small\", xaxis=\"Full OV Copying Score\", yaxis=\"OV Copying Score\")"
            ]
        },
        {
            "cell_type": "code",
            "execution_count": 51,
            "metadata": {},
            "outputs": [
                {
                    "name": "stdout",
                    "output_type": "stream",
                    "text": [
                        "Token 256 - the most common pair of ASCII characters: | t|\n",
                        "De-Tokenizing the example tokens: <|endoftext|>The first thing you need to figure out is *how* things are tokenized. `model.to_str_tokens` splits a string into the tokens *as a list of substrings*, and so lets you explore what the text looks like. To demonstrate this, let's use it on this paragraph.\n"
                    ]
                }
            ],
            "source": [
                "print(f\"Token 256 - the most common pair of ASCII characters: |{model.to_string(256)}|\")\n",
                "# Squeeze means to remove dimensions of length 1. \n",
                "# Here, that removes the dummy batch dimension so it's a rank 1 tensor and returns a string\n",
                "# Rank 2 tensors map to a list of strings\n",
                "print(f\"De-Tokenizing the example tokens: {model.to_string(example_text_tokens.squeeze())}\")"
            ]
        },
        {
            "attachments": {},
            "cell_type": "markdown",
            "metadata": {},
            "source": [
                "## Generating Text"
            ]
        },
        {
            "cell_type": "markdown",
            "metadata": {},
            "source": [
                "TransformerLens also has basic text generation functionality, which can be useful for generally exploring what the model is capable of (thanks to Ansh Radhakrishnan for adding this!). This is pretty rough functionality, and where possible I recommend using more established libraries like HuggingFace for this."
            ]
        },
        {
            "cell_type": "code",
            "execution_count": 52,
            "metadata": {},
            "outputs": [
                {
                    "data": {
                        "application/vnd.jupyter.widget-view+json": {
                            "model_id": "9c541056beba477db0a272faec9231b5",
                            "version_major": 2,
                            "version_minor": 0
                        },
                        "text/plain": [
                            "  0%|          | 0/50 [00:00<?, ?it/s]"
                        ]
                    },
                    "metadata": {},
                    "output_type": "display_data"
                },
                {
                    "data": {
                        "text/plain": [
                            "'(CNN) President Barack Obama caught in embarrassing new scandal\\n\\nCNN reported Wednesday that the former president was charged with lying to the FBI about his relationship with a Russian employee.\\n\\nThe FBI said in a statement that it had \"conducted the investigation\" into the matter.\\n\\nObama has pleaded not'"
                        ]
                    },
                    "execution_count": 52,
                    "metadata": {},
                    "output_type": "execute_result"
                }
            ],
            "source": [
                "model.generate(\"(CNN) President Barack Obama caught in embarrassing new scandal\\n\", max_new_tokens=50, temperature=0.7, prepend_bos=True)"
            ]
        },
        {
            "attachments": {},
            "cell_type": "markdown",
            "metadata": {},
            "source": [
                "## Hook Points\n",
                "\n",
                "The key part of TransformerLens that lets us access and edit intermediate activations are the HookPoints around every model activation. Importantly, this technique will work for *any* model architecture, not just transformers, so long as you're able to edit the model code to add in HookPoints! This is essentially a lightweight library bundled with TransformerLens that should let you take an arbitrary model and make it easier to study. "
            ]
        },
        {
            "cell_type": "markdown",
            "metadata": {},
            "source": [
                "This is implemented by having a HookPoint layer. Each transformer component has a HookPoint for every activation, which wraps around that activation. The HookPoint acts as an identity function, but has a variety of helper functions that allows us to put PyTorch hooks in to edit and access the relevant activation. \n",
                "\n",
                "There is also a `HookedRootModule` class - this is a utility class that the root module should inherit from (root module = the model we run) - it has several utility functions for using hooks well, notably `reset_hooks`, `run_with_cache` and `run_with_hooks`. \n",
                "\n",
                "The default interface is the `run_with_hooks` function on the root module, which lets us run a forwards pass on the model, and pass on a list of hooks paired with layer names to run on that pass. \n",
                "\n",
                "The syntax for a hook is `function(activation, hook)` where `activation` is the activation the hook is wrapped around, and `hook` is the `HookPoint` class the function is attached to. If the function returns a new activation or edits the activation in-place, that replaces the old one, if it returns None then the activation remains as is.\n"
            ]
        },
        {
            "cell_type": "markdown",
            "metadata": {},
            "source": [
                "### Toy Example"
            ]
        },
        {
            "cell_type": "markdown",
            "metadata": {},
            "source": [
                "\n",
                "Here's a simple example of defining a small network with HookPoints:\n",
                "\n",
                "We define a basic network with two layers that each take a scalar input $x$, square it, and add a constant:\n",
                "$x_0=x$, $x_1=x_0^2+3$, $x_2=x_1^2-4$.\n",
                "\n",
                "We wrap the input, each layer's output, and the intermediate value of each layer (the square) in a hook point.\n",
                "\n"
            ]
        },
        {
            "cell_type": "code",
            "execution_count": 53,
            "metadata": {},
            "outputs": [],
            "source": [
                "\n",
                "from transformer_lens.hook_points import HookedRootModule, HookPoint\n",
                "\n",
                "\n",
                "class SquareThenAdd(nn.Module):\n",
                "    def __init__(self, offset):\n",
                "        super().__init__()\n",
                "        self.offset = nn.Parameter(torch.tensor(offset))\n",
                "        self.hook_square = HookPoint()\n",
                "\n",
                "    def forward(self, x):\n",
                "        # The hook_square doesn't change the value, but lets us access it\n",
                "        square = self.hook_square(x * x)\n",
                "        return self.offset + square\n",
                "\n",
                "\n",
                "class TwoLayerModel(HookedRootModule):\n",
                "    def __init__(self):\n",
                "        super().__init__()\n",
                "        self.layer1 = SquareThenAdd(3.0)\n",
                "        self.layer2 = SquareThenAdd(-4.0)\n",
                "        self.hook_in = HookPoint()\n",
                "        self.hook_mid = HookPoint()\n",
                "        self.hook_out = HookPoint()\n",
                "\n",
                "        # We need to call the setup function of HookedRootModule to build an\n",
                "        # internal dictionary of modules and hooks, and to give each hook a name\n",
                "        super().setup()\n",
                "\n",
                "    def forward(self, x):\n",
                "        # We wrap the input and each layer's output in a hook - they leave the\n",
                "        # value unchanged (unless there's a hook added to explicitly change it),\n",
                "        # but allow us to access it.\n",
                "        x_in = self.hook_in(x)\n",
                "        x_mid = self.hook_mid(self.layer1(x_in))\n",
                "        x_out = self.hook_out(self.layer2(x_mid))\n",
                "        return x_out\n",
                "\n",
                "\n",
                "model = TwoLayerModel()\n"
            ]
        },
        {
            "cell_type": "markdown",
            "metadata": {},
            "source": [
                "\n",
                "We can add a cache, to save the activation at each hook point\n",
                "\n",
                "(There's a custom `run_with_cache` function on the root module as a convenience, which is a wrapper around model.forward that return model_out, cache_object - we could also manually add hooks with `run_with_hooks` that store activations in a global caching dictionary. This is often useful if we only want to store, eg, subsets or functions of some activations.)\n"
            ]
        },
        {
            "cell_type": "code",
            "execution_count": 54,
            "metadata": {},
            "outputs": [
                {
                    "name": "stdout",
                    "output_type": "stream",
                    "text": [
                        "Model output: 780.0\n",
                        "Value cached at hook hook_in 5.0\n",
                        "Value cached at hook layer1.hook_square 25.0\n",
                        "Value cached at hook hook_mid 28.0\n",
                        "Value cached at hook layer2.hook_square 784.0\n",
                        "Value cached at hook hook_out 780.0\n"
                    ]
                }
            ],
            "source": [
                "\n",
                "out, cache = model.run_with_cache(torch.tensor(5.0))\n",
                "print(\"Model output:\", out.item())\n",
                "for key in cache:\n",
                "    print(f\"Value cached at hook {key}\", cache[key].item())\n",
                "\n"
            ]
        },
        {
            "cell_type": "markdown",
            "metadata": {},
            "source": [
                "\n",
                "We can also use hooks to intervene on activations - eg, we can set the intermediate value in layer 2 to zero to change the output to -5\n"
            ]
        },
        {
            "cell_type": "code",
            "execution_count": 55,
            "metadata": {},
            "outputs": [
                {
                    "name": "stdout",
                    "output_type": "stream",
                    "text": [
                        "layer2.hook_square\n",
                        "Output after intervening on layer2.hook_scaled -4.0\n"
                    ]
                }
            ],
            "source": [
                "\n",
                "def set_to_zero_hook(tensor, hook):\n",
                "    print(hook.name)\n",
                "    return torch.tensor(0.0)\n",
                "\n",
                "\n",
                "print(\n",
                "    \"Output after intervening on layer2.hook_scaled\",\n",
                "    model.run_with_hooks(\n",
                "        torch.tensor(5.0), fwd_hooks=[(\"layer2.hook_square\", set_to_zero_hook)]\n",
                "    ).item(),\n",
                ")"
            ]
        },
        {
            "cell_type": "markdown",
            "metadata": {},
            "source": [
                "## Loading Pre-Trained Checkpoints\n",
                "\n",
                "There are a lot of interesting questions combining mechanistic interpretability and training dynamics - analysing model capabilities and the underlying circuits that make them possible, and how these change as we train the model. \n",
                "\n",
                "TransformerLens supports these by having several model families with checkpoints throughout training. `HookedTransformer.from_pretrained` can load a checkpoint of a model with the `checkpoint_index` (the label 0 to `num_checkpoints-1`) or `checkpoint_value` (the step or token number, depending on how the checkpoints were labelled)."
            ]
        },
        {
            "cell_type": "markdown",
            "metadata": {},
            "source": [
                "\n",
                "Available models:\n",
                "* All of my interpretability-friendly models have checkpoints available, including:\n",
                "    * The toy models - `attn-only`, `solu`, `gelu` 1L to 4L\n",
                "        * These have ~200 checkpoints, taken on a piecewise linear schedule (more checkpoints near the start of training), up to 22B tokens. Labelled by number of tokens seen.\n",
                "    * The SoLU models trained on 80% Web Text and 20% Python Code (`solu-6l` to `solu-12l`)\n",
                "        * Same checkpoint schedule as the toy models, this time up to 30B tokens\n",
                "    * The SoLU models trained on the pile (`solu-1l-pile` to `solu-12l-pile`)\n",
                "        * These have ~100 checkpoints, taken on a linear schedule, up to 15B tokens. Labelled by number of steps.\n",
                "        * The 12L training crashed around 11B tokens, so is truncated.\n",
                "* The Stanford Centre for Research of Foundation Models trained 5 GPT-2 Small sized and 5 GPT-2 Medium sized models (`stanford-gpt2-small-a` to `e` and `stanford-gpt2-medium-a` to `e`)\n",
                "    * 600 checkpoints, taken on a piecewise linear schedule, labelled by the number of steps."
            ]
        },
        {
            "cell_type": "markdown",
            "metadata": {},
            "source": [
                "The checkpoint structure and labels is somewhat messy and ad-hoc, so I mostly recommend using the `checkpoint_index` syntax (where you can just count from 0 to the number of checkpoints) rather than `checkpoint_value` syntax (where you need to know the checkpoint schedule, and whether it was labelled with the number of tokens or steps). The helper function `get_checkpoint_labels` tells you the checkpoint schedule for a given model - ie what point was each checkpoint taken at, and what type of label was used.\n",
                "\n",
                "Here are graphs of the schedules for several checkpointed models: (note that the first 3 use a log scale, latter 2 use a linear scale)"
            ]
        },
        {
            "cell_type": "code",
            "execution_count": 56,
            "metadata": {},
            "outputs": [
                {
                    "data": {
                        "text/html": [
                            "<html>\n",
                            "<head><meta charset=\"utf-8\" /></head>\n",
                            "<body>\n",
                            "    <div>            <script src=\"https://cdnjs.cloudflare.com/ajax/libs/mathjax/2.7.5/MathJax.js?config=TeX-AMS-MML_SVG\"></script><script type=\"text/javascript\">if (window.MathJax && window.MathJax.Hub && window.MathJax.Hub.Config) {window.MathJax.Hub.Config({SVG: {font: \"STIX-Web\"}});}</script>                <script type=\"text/javascript\">window.PlotlyConfig = {MathJaxConfig: 'local'};</script>\n",
                            "        <script src=\"https://cdn.plot.ly/plotly-2.16.1.min.js\"></script>                <div id=\"c7196983-521b-4ec3-a93d-e9a83d4888ad\" class=\"plotly-graph-div\" style=\"height:525px; width:100%;\"></div>            <script type=\"text/javascript\">                                    window.PLOTLYENV=window.PLOTLYENV || {};                                    if (document.getElementById(\"c7196983-521b-4ec3-a93d-e9a83d4888ad\")) {                    Plotly.newPlot(                        \"c7196983-521b-4ec3-a93d-e9a83d4888ad\",                        [{\"hovertemplate\":\"variable=0<br>index=%{x}<br>value=%{y}<extra></extra>\",\"legendgroup\":\"0\",\"line\":{\"color\":\"#636efa\",\"dash\":\"solid\"},\"marker\":{\"symbol\":\"circle\"},\"mode\":\"markers+lines\",\"name\":\"0\",\"orientation\":\"v\",\"showlegend\":true,\"x\":[0,1,2,3,4,5,6,7,8,9,10,11,12,13,14,15,16,17,18,19,20,21,22,23,24,25,26,27,28,29,30,31,32,33,34,35,36,37,38,39,40,41,42,43,44,45,46,47,48,49,50,51,52,53,54,55,56,57,58,59,60,61,62,63,64,65,66,67,68,69,70,71,72,73,74,75,76,77,78,79,80,81,82,83,84,85,86,87,88,89,90,91,92,93,94,95,96,97,98,99,100,101,102,103,104,105,106,107,108,109,110,111,112,113,114,115,116,117,118,119,120,121,122,123,124,125,126,127,128,129,130,131,132,133,134,135,136,137,138,139,140,141,142,143,144,145,146,147,148,149,150,151,152,153,154,155,156,157,158,159,160,161,162],\"xaxis\":\"x\",\"y\":[262144,2621440,4718592,7077888,9175040,11272192,13631488,15728640,18087936,20185088,22282240,33292288,44302336,55312384,66322432,77332480,88342528,99352576,110362624,121372672,132382720,143392768,154402816,165412864,176422912,187432960,198443008,209453056,220463104,264503296,308281344,352321536,396361728,440401920,484442112,528482304,572522496,616300544,660340736,704380928,748421120,792461312,836501504,880279552,924319744,968359936,1012400128,1056440320,1100480512,1144520704,1188298752,1232338944,1276379136,1320419328,1364459520,1408499712,1452277760,1496317952,1540358144,1584398336,1628438528,1672478720,1716518912,1760296960,1804337152,1848377344,1892417536,1936457728,1980497920,2024275968,2068316160,2112356352,2156396544,2200436736,2420375552,2640314368,2860515328,3080454144,3300392960,3520331776,3740270592,3960471552,4180410368,4400349184,4620288000,4840488960,5060427776,5280366592,5500305408,5720506368,5940445184,6160384000,6380322816,6600523776,6820462592,7040401408,7260340224,7480279040,7700480000,7920418816,8140357632,8360296448,8580497408,8800436224,9020375040,9240313856,9460514816,9680453632,9900392448,10120331264,10340270080,10560471040,10780409856,11000348672,11220287488,11440488448,11660427264,11880366080,12100304896,12320505856,12540444672,12760383488,12980322304,13200523264,13420462080,13640400896,13860339712,14080278528,14300479488,14520418304,14740357120,14960295936,15180496896,15400435712,15620374528,15840313344,16060514304,16280453120,16500391936,16720330752,16940269568,17160470528,17380409344,17600348160,17820286976,18040487936,18260426752,18480365568,18700304384,18920505344,19140444160,19360382976,19580321792,19800522752,20020461568,20240400384,20460339200,20680278016,20900478976,21120417792,21340356608,21560295424,21780496384],\"yaxis\":\"y\",\"type\":\"scatter\"}],                        {\"template\":{\"data\":{\"histogram2dcontour\":[{\"type\":\"histogram2dcontour\",\"colorbar\":{\"outlinewidth\":0,\"ticks\":\"\"},\"colorscale\":[[0.0,\"#0d0887\"],[0.1111111111111111,\"#46039f\"],[0.2222222222222222,\"#7201a8\"],[0.3333333333333333,\"#9c179e\"],[0.4444444444444444,\"#bd3786\"],[0.5555555555555556,\"#d8576b\"],[0.6666666666666666,\"#ed7953\"],[0.7777777777777778,\"#fb9f3a\"],[0.8888888888888888,\"#fdca26\"],[1.0,\"#f0f921\"]]}],\"choropleth\":[{\"type\":\"choropleth\",\"colorbar\":{\"outlinewidth\":0,\"ticks\":\"\"}}],\"histogram2d\":[{\"type\":\"histogram2d\",\"colorbar\":{\"outlinewidth\":0,\"ticks\":\"\"},\"colorscale\":[[0.0,\"#0d0887\"],[0.1111111111111111,\"#46039f\"],[0.2222222222222222,\"#7201a8\"],[0.3333333333333333,\"#9c179e\"],[0.4444444444444444,\"#bd3786\"],[0.5555555555555556,\"#d8576b\"],[0.6666666666666666,\"#ed7953\"],[0.7777777777777778,\"#fb9f3a\"],[0.8888888888888888,\"#fdca26\"],[1.0,\"#f0f921\"]]}],\"heatmap\":[{\"type\":\"heatmap\",\"colorbar\":{\"outlinewidth\":0,\"ticks\":\"\"},\"colorscale\":[[0.0,\"#0d0887\"],[0.1111111111111111,\"#46039f\"],[0.2222222222222222,\"#7201a8\"],[0.3333333333333333,\"#9c179e\"],[0.4444444444444444,\"#bd3786\"],[0.5555555555555556,\"#d8576b\"],[0.6666666666666666,\"#ed7953\"],[0.7777777777777778,\"#fb9f3a\"],[0.8888888888888888,\"#fdca26\"],[1.0,\"#f0f921\"]]}],\"heatmapgl\":[{\"type\":\"heatmapgl\",\"colorbar\":{\"outlinewidth\":0,\"ticks\":\"\"},\"colorscale\":[[0.0,\"#0d0887\"],[0.1111111111111111,\"#46039f\"],[0.2222222222222222,\"#7201a8\"],[0.3333333333333333,\"#9c179e\"],[0.4444444444444444,\"#bd3786\"],[0.5555555555555556,\"#d8576b\"],[0.6666666666666666,\"#ed7953\"],[0.7777777777777778,\"#fb9f3a\"],[0.8888888888888888,\"#fdca26\"],[1.0,\"#f0f921\"]]}],\"contourcarpet\":[{\"type\":\"contourcarpet\",\"colorbar\":{\"outlinewidth\":0,\"ticks\":\"\"}}],\"contour\":[{\"type\":\"contour\",\"colorbar\":{\"outlinewidth\":0,\"ticks\":\"\"},\"colorscale\":[[0.0,\"#0d0887\"],[0.1111111111111111,\"#46039f\"],[0.2222222222222222,\"#7201a8\"],[0.3333333333333333,\"#9c179e\"],[0.4444444444444444,\"#bd3786\"],[0.5555555555555556,\"#d8576b\"],[0.6666666666666666,\"#ed7953\"],[0.7777777777777778,\"#fb9f3a\"],[0.8888888888888888,\"#fdca26\"],[1.0,\"#f0f921\"]]}],\"surface\":[{\"type\":\"surface\",\"colorbar\":{\"outlinewidth\":0,\"ticks\":\"\"},\"colorscale\":[[0.0,\"#0d0887\"],[0.1111111111111111,\"#46039f\"],[0.2222222222222222,\"#7201a8\"],[0.3333333333333333,\"#9c179e\"],[0.4444444444444444,\"#bd3786\"],[0.5555555555555556,\"#d8576b\"],[0.6666666666666666,\"#ed7953\"],[0.7777777777777778,\"#fb9f3a\"],[0.8888888888888888,\"#fdca26\"],[1.0,\"#f0f921\"]]}],\"mesh3d\":[{\"type\":\"mesh3d\",\"colorbar\":{\"outlinewidth\":0,\"ticks\":\"\"}}],\"scatter\":[{\"fillpattern\":{\"fillmode\":\"overlay\",\"size\":10,\"solidity\":0.2},\"type\":\"scatter\"}],\"parcoords\":[{\"type\":\"parcoords\",\"line\":{\"colorbar\":{\"outlinewidth\":0,\"ticks\":\"\"}}}],\"scatterpolargl\":[{\"type\":\"scatterpolargl\",\"marker\":{\"colorbar\":{\"outlinewidth\":0,\"ticks\":\"\"}}}],\"bar\":[{\"error_x\":{\"color\":\"#2a3f5f\"},\"error_y\":{\"color\":\"#2a3f5f\"},\"marker\":{\"line\":{\"color\":\"#E5ECF6\",\"width\":0.5},\"pattern\":{\"fillmode\":\"overlay\",\"size\":10,\"solidity\":0.2}},\"type\":\"bar\"}],\"scattergeo\":[{\"type\":\"scattergeo\",\"marker\":{\"colorbar\":{\"outlinewidth\":0,\"ticks\":\"\"}}}],\"scatterpolar\":[{\"type\":\"scatterpolar\",\"marker\":{\"colorbar\":{\"outlinewidth\":0,\"ticks\":\"\"}}}],\"histogram\":[{\"marker\":{\"pattern\":{\"fillmode\":\"overlay\",\"size\":10,\"solidity\":0.2}},\"type\":\"histogram\"}],\"scattergl\":[{\"type\":\"scattergl\",\"marker\":{\"colorbar\":{\"outlinewidth\":0,\"ticks\":\"\"}}}],\"scatter3d\":[{\"type\":\"scatter3d\",\"line\":{\"colorbar\":{\"outlinewidth\":0,\"ticks\":\"\"}},\"marker\":{\"colorbar\":{\"outlinewidth\":0,\"ticks\":\"\"}}}],\"scattermapbox\":[{\"type\":\"scattermapbox\",\"marker\":{\"colorbar\":{\"outlinewidth\":0,\"ticks\":\"\"}}}],\"scatterternary\":[{\"type\":\"scatterternary\",\"marker\":{\"colorbar\":{\"outlinewidth\":0,\"ticks\":\"\"}}}],\"scattercarpet\":[{\"type\":\"scattercarpet\",\"marker\":{\"colorbar\":{\"outlinewidth\":0,\"ticks\":\"\"}}}],\"carpet\":[{\"aaxis\":{\"endlinecolor\":\"#2a3f5f\",\"gridcolor\":\"white\",\"linecolor\":\"white\",\"minorgridcolor\":\"white\",\"startlinecolor\":\"#2a3f5f\"},\"baxis\":{\"endlinecolor\":\"#2a3f5f\",\"gridcolor\":\"white\",\"linecolor\":\"white\",\"minorgridcolor\":\"white\",\"startlinecolor\":\"#2a3f5f\"},\"type\":\"carpet\"}],\"table\":[{\"cells\":{\"fill\":{\"color\":\"#EBF0F8\"},\"line\":{\"color\":\"white\"}},\"header\":{\"fill\":{\"color\":\"#C8D4E3\"},\"line\":{\"color\":\"white\"}},\"type\":\"table\"}],\"barpolar\":[{\"marker\":{\"line\":{\"color\":\"#E5ECF6\",\"width\":0.5},\"pattern\":{\"fillmode\":\"overlay\",\"size\":10,\"solidity\":0.2}},\"type\":\"barpolar\"}],\"pie\":[{\"automargin\":true,\"type\":\"pie\"}]},\"layout\":{\"autotypenumbers\":\"strict\",\"colorway\":[\"#636efa\",\"#EF553B\",\"#00cc96\",\"#ab63fa\",\"#FFA15A\",\"#19d3f3\",\"#FF6692\",\"#B6E880\",\"#FF97FF\",\"#FECB52\"],\"font\":{\"color\":\"#2a3f5f\"},\"hovermode\":\"closest\",\"hoverlabel\":{\"align\":\"left\"},\"paper_bgcolor\":\"white\",\"plot_bgcolor\":\"#E5ECF6\",\"polar\":{\"bgcolor\":\"#E5ECF6\",\"angularaxis\":{\"gridcolor\":\"white\",\"linecolor\":\"white\",\"ticks\":\"\"},\"radialaxis\":{\"gridcolor\":\"white\",\"linecolor\":\"white\",\"ticks\":\"\"}},\"ternary\":{\"bgcolor\":\"#E5ECF6\",\"aaxis\":{\"gridcolor\":\"white\",\"linecolor\":\"white\",\"ticks\":\"\"},\"baxis\":{\"gridcolor\":\"white\",\"linecolor\":\"white\",\"ticks\":\"\"},\"caxis\":{\"gridcolor\":\"white\",\"linecolor\":\"white\",\"ticks\":\"\"}},\"coloraxis\":{\"colorbar\":{\"outlinewidth\":0,\"ticks\":\"\"}},\"colorscale\":{\"sequential\":[[0.0,\"#0d0887\"],[0.1111111111111111,\"#46039f\"],[0.2222222222222222,\"#7201a8\"],[0.3333333333333333,\"#9c179e\"],[0.4444444444444444,\"#bd3786\"],[0.5555555555555556,\"#d8576b\"],[0.6666666666666666,\"#ed7953\"],[0.7777777777777778,\"#fb9f3a\"],[0.8888888888888888,\"#fdca26\"],[1.0,\"#f0f921\"]],\"sequentialminus\":[[0.0,\"#0d0887\"],[0.1111111111111111,\"#46039f\"],[0.2222222222222222,\"#7201a8\"],[0.3333333333333333,\"#9c179e\"],[0.4444444444444444,\"#bd3786\"],[0.5555555555555556,\"#d8576b\"],[0.6666666666666666,\"#ed7953\"],[0.7777777777777778,\"#fb9f3a\"],[0.8888888888888888,\"#fdca26\"],[1.0,\"#f0f921\"]],\"diverging\":[[0,\"#8e0152\"],[0.1,\"#c51b7d\"],[0.2,\"#de77ae\"],[0.3,\"#f1b6da\"],[0.4,\"#fde0ef\"],[0.5,\"#f7f7f7\"],[0.6,\"#e6f5d0\"],[0.7,\"#b8e186\"],[0.8,\"#7fbc41\"],[0.9,\"#4d9221\"],[1,\"#276419\"]]},\"xaxis\":{\"gridcolor\":\"white\",\"linecolor\":\"white\",\"ticks\":\"\",\"title\":{\"standoff\":15},\"zerolinecolor\":\"white\",\"automargin\":true,\"zerolinewidth\":2},\"yaxis\":{\"gridcolor\":\"white\",\"linecolor\":\"white\",\"ticks\":\"\",\"title\":{\"standoff\":15},\"zerolinecolor\":\"white\",\"automargin\":true,\"zerolinewidth\":2},\"scene\":{\"xaxis\":{\"backgroundcolor\":\"#E5ECF6\",\"gridcolor\":\"white\",\"linecolor\":\"white\",\"showbackground\":true,\"ticks\":\"\",\"zerolinecolor\":\"white\",\"gridwidth\":2},\"yaxis\":{\"backgroundcolor\":\"#E5ECF6\",\"gridcolor\":\"white\",\"linecolor\":\"white\",\"showbackground\":true,\"ticks\":\"\",\"zerolinecolor\":\"white\",\"gridwidth\":2},\"zaxis\":{\"backgroundcolor\":\"#E5ECF6\",\"gridcolor\":\"white\",\"linecolor\":\"white\",\"showbackground\":true,\"ticks\":\"\",\"zerolinecolor\":\"white\",\"gridwidth\":2}},\"shapedefaults\":{\"line\":{\"color\":\"#2a3f5f\"}},\"annotationdefaults\":{\"arrowcolor\":\"#2a3f5f\",\"arrowhead\":0,\"arrowwidth\":1},\"geo\":{\"bgcolor\":\"white\",\"landcolor\":\"#E5ECF6\",\"subunitcolor\":\"white\",\"showland\":true,\"showlakes\":true,\"lakecolor\":\"white\"},\"title\":{\"x\":0.05},\"mapbox\":{\"style\":\"light\"}}},\"xaxis\":{\"anchor\":\"y\",\"domain\":[0.0,1.0],\"title\":{\"text\":\"index\"}},\"yaxis\":{\"anchor\":\"x\",\"domain\":[0.0,1.0],\"title\":{\"text\":\"value\"},\"type\":\"log\"},\"legend\":{\"title\":{\"text\":\"variable\"},\"tracegroupgap\":0},\"title\":{\"text\":\"Checkpoint Values for attn-only-2l (Log scale)\"}},                        {\"responsive\": true}                    ).then(function(){\n",
                            "                            \n",
                            "var gd = document.getElementById('c7196983-521b-4ec3-a93d-e9a83d4888ad');\n",
                            "var x = new MutationObserver(function (mutations, observer) {{\n",
                            "        var display = window.getComputedStyle(gd).display;\n",
                            "        if (!display || display === 'none') {{\n",
                            "            console.log([gd, 'removed!']);\n",
                            "            Plotly.purge(gd);\n",
                            "            observer.disconnect();\n",
                            "        }}\n",
                            "}});\n",
                            "\n",
                            "// Listen for the removal of the full notebook cells\n",
                            "var notebookContainer = gd.closest('#notebook-container');\n",
                            "if (notebookContainer) {{\n",
                            "    x.observe(notebookContainer, {childList: true});\n",
                            "}}\n",
                            "\n",
                            "// Listen for the clearing of the current output cell\n",
                            "var outputEl = gd.closest('.output');\n",
                            "if (outputEl) {{\n",
                            "    x.observe(outputEl, {childList: true});\n",
                            "}}\n",
                            "\n",
                            "                        })                };                            </script>        </div>\n",
                            "</body>\n",
                            "</html>"
                        ]
                    },
                    "metadata": {},
                    "output_type": "display_data"
                },
                {
                    "data": {
                        "text/html": [
                            "<html>\n",
                            "<head><meta charset=\"utf-8\" /></head>\n",
                            "<body>\n",
                            "    <div>            <script src=\"https://cdnjs.cloudflare.com/ajax/libs/mathjax/2.7.5/MathJax.js?config=TeX-AMS-MML_SVG\"></script><script type=\"text/javascript\">if (window.MathJax && window.MathJax.Hub && window.MathJax.Hub.Config) {window.MathJax.Hub.Config({SVG: {font: \"STIX-Web\"}});}</script>                <script type=\"text/javascript\">window.PlotlyConfig = {MathJaxConfig: 'local'};</script>\n",
                            "        <script src=\"https://cdn.plot.ly/plotly-2.16.1.min.js\"></script>                <div id=\"6ada1b24-ab2d-4a0e-b3a0-b25c42a2762e\" class=\"plotly-graph-div\" style=\"height:525px; width:100%;\"></div>            <script type=\"text/javascript\">                                    window.PLOTLYENV=window.PLOTLYENV || {};                                    if (document.getElementById(\"6ada1b24-ab2d-4a0e-b3a0-b25c42a2762e\")) {                    Plotly.newPlot(                        \"6ada1b24-ab2d-4a0e-b3a0-b25c42a2762e\",                        [{\"hovertemplate\":\"variable=0<br>index=%{x}<br>value=%{y}<extra></extra>\",\"legendgroup\":\"0\",\"line\":{\"color\":\"#636efa\",\"dash\":\"solid\"},\"marker\":{\"symbol\":\"circle\"},\"mode\":\"markers+lines\",\"name\":\"0\",\"orientation\":\"v\",\"showlegend\":true,\"x\":[0,1,2,3,4,5,6,7,8,9,10,11,12,13,14,15,16,17,18,19,20,21,22,23,24,25,26,27,28,29,30,31,32,33,34,35,36,37,38,39,40,41,42,43,44,45,46,47,48,49,50,51,52,53,54,55,56,57,58,59,60,61,62,63,64,65,66,67,68,69,70,71,72,73,74,75,76,77,78,79,80,81,82,83,84,85,86,87,88,89,90,91,92,93,94,95,96,97,98,99,100,101,102,103,104,105,106,107,108,109,110,111,112,113,114,115,116,117,118,119,120,121,122,123,124,125,126,127,128,129,130,131,132,133,134,135,136,137,138,139,140,141,142,143,144,145,146,147,148,149,150,151,152,153,154,155,156,157,158,159,160,161,162],\"xaxis\":\"x\",\"y\":[196608,3342336,6291456,9240576,12386304,15335424,18284544,21233664,24379392,27328512,30277632,45219840,60358656,75300864,90243072,105381888,120324096,135266304,150208512,165347328,180289536,195231744,210370560,225312768,240254976,255197184,270336000,285278208,300220416,360382464,420347904,480313344,540278784,600244224,660209664,720371712,780337152,840302592,900268032,960233472,1020198912,1080360960,1140326400,1200291840,1260257280,1320222720,1380384768,1440350208,1500315648,1560281088,1620246528,1680211968,1740374016,1800339456,1860304896,1920270336,1980235776,2040201216,2100363264,2160328704,2220294144,2280259584,2340225024,2400387072,2460352512,2520317952,2580283392,2640248832,2700214272,2760376320,2820341760,2880307200,2940272640,3000238080,3300261888,3600285696,3900309504,4200333312,4500357120,4800380928,5100208128,5400231936,5700255744,6000279552,6300303360,6600327168,6900350976,7200374784,7500201984,7800225792,8100249600,8400273408,8700297216,9000321024,9300344832,9600368640,9900392448,10200219648,10500243456,10800267264,11100291072,11400314880,11700338688,12000362496,12300386304,12600213504,12900237312,13200261120,13500284928,13800308736,14100332544,14400356352,14700380160,15000207360,15300231168,15600254976,15900278784,16200302592,16500326400,16800350208,17100374016,17400201216,17700225024,18000248832,18300272640,18600296448,18900320256,19200344064,19500367872,19800391680,20100218880,20400242688,20700266496,21000290304,21300314112,21600337920,21900361728,22200385536,22500212736,22800236544,23100260352,23400284160,23700307968,24000331776,24300355584,24600379392,24900206592,25200230400,25500254208,25800278016,26100301824,26400325632,26700349440,27000373248,27300200448,27600224256,27900248064,28200271872,28500295680,28800319488,29100343296,29400367104,29700390912],\"yaxis\":\"y\",\"type\":\"scatter\"}],                        {\"template\":{\"data\":{\"histogram2dcontour\":[{\"type\":\"histogram2dcontour\",\"colorbar\":{\"outlinewidth\":0,\"ticks\":\"\"},\"colorscale\":[[0.0,\"#0d0887\"],[0.1111111111111111,\"#46039f\"],[0.2222222222222222,\"#7201a8\"],[0.3333333333333333,\"#9c179e\"],[0.4444444444444444,\"#bd3786\"],[0.5555555555555556,\"#d8576b\"],[0.6666666666666666,\"#ed7953\"],[0.7777777777777778,\"#fb9f3a\"],[0.8888888888888888,\"#fdca26\"],[1.0,\"#f0f921\"]]}],\"choropleth\":[{\"type\":\"choropleth\",\"colorbar\":{\"outlinewidth\":0,\"ticks\":\"\"}}],\"histogram2d\":[{\"type\":\"histogram2d\",\"colorbar\":{\"outlinewidth\":0,\"ticks\":\"\"},\"colorscale\":[[0.0,\"#0d0887\"],[0.1111111111111111,\"#46039f\"],[0.2222222222222222,\"#7201a8\"],[0.3333333333333333,\"#9c179e\"],[0.4444444444444444,\"#bd3786\"],[0.5555555555555556,\"#d8576b\"],[0.6666666666666666,\"#ed7953\"],[0.7777777777777778,\"#fb9f3a\"],[0.8888888888888888,\"#fdca26\"],[1.0,\"#f0f921\"]]}],\"heatmap\":[{\"type\":\"heatmap\",\"colorbar\":{\"outlinewidth\":0,\"ticks\":\"\"},\"colorscale\":[[0.0,\"#0d0887\"],[0.1111111111111111,\"#46039f\"],[0.2222222222222222,\"#7201a8\"],[0.3333333333333333,\"#9c179e\"],[0.4444444444444444,\"#bd3786\"],[0.5555555555555556,\"#d8576b\"],[0.6666666666666666,\"#ed7953\"],[0.7777777777777778,\"#fb9f3a\"],[0.8888888888888888,\"#fdca26\"],[1.0,\"#f0f921\"]]}],\"heatmapgl\":[{\"type\":\"heatmapgl\",\"colorbar\":{\"outlinewidth\":0,\"ticks\":\"\"},\"colorscale\":[[0.0,\"#0d0887\"],[0.1111111111111111,\"#46039f\"],[0.2222222222222222,\"#7201a8\"],[0.3333333333333333,\"#9c179e\"],[0.4444444444444444,\"#bd3786\"],[0.5555555555555556,\"#d8576b\"],[0.6666666666666666,\"#ed7953\"],[0.7777777777777778,\"#fb9f3a\"],[0.8888888888888888,\"#fdca26\"],[1.0,\"#f0f921\"]]}],\"contourcarpet\":[{\"type\":\"contourcarpet\",\"colorbar\":{\"outlinewidth\":0,\"ticks\":\"\"}}],\"contour\":[{\"type\":\"contour\",\"colorbar\":{\"outlinewidth\":0,\"ticks\":\"\"},\"colorscale\":[[0.0,\"#0d0887\"],[0.1111111111111111,\"#46039f\"],[0.2222222222222222,\"#7201a8\"],[0.3333333333333333,\"#9c179e\"],[0.4444444444444444,\"#bd3786\"],[0.5555555555555556,\"#d8576b\"],[0.6666666666666666,\"#ed7953\"],[0.7777777777777778,\"#fb9f3a\"],[0.8888888888888888,\"#fdca26\"],[1.0,\"#f0f921\"]]}],\"surface\":[{\"type\":\"surface\",\"colorbar\":{\"outlinewidth\":0,\"ticks\":\"\"},\"colorscale\":[[0.0,\"#0d0887\"],[0.1111111111111111,\"#46039f\"],[0.2222222222222222,\"#7201a8\"],[0.3333333333333333,\"#9c179e\"],[0.4444444444444444,\"#bd3786\"],[0.5555555555555556,\"#d8576b\"],[0.6666666666666666,\"#ed7953\"],[0.7777777777777778,\"#fb9f3a\"],[0.8888888888888888,\"#fdca26\"],[1.0,\"#f0f921\"]]}],\"mesh3d\":[{\"type\":\"mesh3d\",\"colorbar\":{\"outlinewidth\":0,\"ticks\":\"\"}}],\"scatter\":[{\"fillpattern\":{\"fillmode\":\"overlay\",\"size\":10,\"solidity\":0.2},\"type\":\"scatter\"}],\"parcoords\":[{\"type\":\"parcoords\",\"line\":{\"colorbar\":{\"outlinewidth\":0,\"ticks\":\"\"}}}],\"scatterpolargl\":[{\"type\":\"scatterpolargl\",\"marker\":{\"colorbar\":{\"outlinewidth\":0,\"ticks\":\"\"}}}],\"bar\":[{\"error_x\":{\"color\":\"#2a3f5f\"},\"error_y\":{\"color\":\"#2a3f5f\"},\"marker\":{\"line\":{\"color\":\"#E5ECF6\",\"width\":0.5},\"pattern\":{\"fillmode\":\"overlay\",\"size\":10,\"solidity\":0.2}},\"type\":\"bar\"}],\"scattergeo\":[{\"type\":\"scattergeo\",\"marker\":{\"colorbar\":{\"outlinewidth\":0,\"ticks\":\"\"}}}],\"scatterpolar\":[{\"type\":\"scatterpolar\",\"marker\":{\"colorbar\":{\"outlinewidth\":0,\"ticks\":\"\"}}}],\"histogram\":[{\"marker\":{\"pattern\":{\"fillmode\":\"overlay\",\"size\":10,\"solidity\":0.2}},\"type\":\"histogram\"}],\"scattergl\":[{\"type\":\"scattergl\",\"marker\":{\"colorbar\":{\"outlinewidth\":0,\"ticks\":\"\"}}}],\"scatter3d\":[{\"type\":\"scatter3d\",\"line\":{\"colorbar\":{\"outlinewidth\":0,\"ticks\":\"\"}},\"marker\":{\"colorbar\":{\"outlinewidth\":0,\"ticks\":\"\"}}}],\"scattermapbox\":[{\"type\":\"scattermapbox\",\"marker\":{\"colorbar\":{\"outlinewidth\":0,\"ticks\":\"\"}}}],\"scatterternary\":[{\"type\":\"scatterternary\",\"marker\":{\"colorbar\":{\"outlinewidth\":0,\"ticks\":\"\"}}}],\"scattercarpet\":[{\"type\":\"scattercarpet\",\"marker\":{\"colorbar\":{\"outlinewidth\":0,\"ticks\":\"\"}}}],\"carpet\":[{\"aaxis\":{\"endlinecolor\":\"#2a3f5f\",\"gridcolor\":\"white\",\"linecolor\":\"white\",\"minorgridcolor\":\"white\",\"startlinecolor\":\"#2a3f5f\"},\"baxis\":{\"endlinecolor\":\"#2a3f5f\",\"gridcolor\":\"white\",\"linecolor\":\"white\",\"minorgridcolor\":\"white\",\"startlinecolor\":\"#2a3f5f\"},\"type\":\"carpet\"}],\"table\":[{\"cells\":{\"fill\":{\"color\":\"#EBF0F8\"},\"line\":{\"color\":\"white\"}},\"header\":{\"fill\":{\"color\":\"#C8D4E3\"},\"line\":{\"color\":\"white\"}},\"type\":\"table\"}],\"barpolar\":[{\"marker\":{\"line\":{\"color\":\"#E5ECF6\",\"width\":0.5},\"pattern\":{\"fillmode\":\"overlay\",\"size\":10,\"solidity\":0.2}},\"type\":\"barpolar\"}],\"pie\":[{\"automargin\":true,\"type\":\"pie\"}]},\"layout\":{\"autotypenumbers\":\"strict\",\"colorway\":[\"#636efa\",\"#EF553B\",\"#00cc96\",\"#ab63fa\",\"#FFA15A\",\"#19d3f3\",\"#FF6692\",\"#B6E880\",\"#FF97FF\",\"#FECB52\"],\"font\":{\"color\":\"#2a3f5f\"},\"hovermode\":\"closest\",\"hoverlabel\":{\"align\":\"left\"},\"paper_bgcolor\":\"white\",\"plot_bgcolor\":\"#E5ECF6\",\"polar\":{\"bgcolor\":\"#E5ECF6\",\"angularaxis\":{\"gridcolor\":\"white\",\"linecolor\":\"white\",\"ticks\":\"\"},\"radialaxis\":{\"gridcolor\":\"white\",\"linecolor\":\"white\",\"ticks\":\"\"}},\"ternary\":{\"bgcolor\":\"#E5ECF6\",\"aaxis\":{\"gridcolor\":\"white\",\"linecolor\":\"white\",\"ticks\":\"\"},\"baxis\":{\"gridcolor\":\"white\",\"linecolor\":\"white\",\"ticks\":\"\"},\"caxis\":{\"gridcolor\":\"white\",\"linecolor\":\"white\",\"ticks\":\"\"}},\"coloraxis\":{\"colorbar\":{\"outlinewidth\":0,\"ticks\":\"\"}},\"colorscale\":{\"sequential\":[[0.0,\"#0d0887\"],[0.1111111111111111,\"#46039f\"],[0.2222222222222222,\"#7201a8\"],[0.3333333333333333,\"#9c179e\"],[0.4444444444444444,\"#bd3786\"],[0.5555555555555556,\"#d8576b\"],[0.6666666666666666,\"#ed7953\"],[0.7777777777777778,\"#fb9f3a\"],[0.8888888888888888,\"#fdca26\"],[1.0,\"#f0f921\"]],\"sequentialminus\":[[0.0,\"#0d0887\"],[0.1111111111111111,\"#46039f\"],[0.2222222222222222,\"#7201a8\"],[0.3333333333333333,\"#9c179e\"],[0.4444444444444444,\"#bd3786\"],[0.5555555555555556,\"#d8576b\"],[0.6666666666666666,\"#ed7953\"],[0.7777777777777778,\"#fb9f3a\"],[0.8888888888888888,\"#fdca26\"],[1.0,\"#f0f921\"]],\"diverging\":[[0,\"#8e0152\"],[0.1,\"#c51b7d\"],[0.2,\"#de77ae\"],[0.3,\"#f1b6da\"],[0.4,\"#fde0ef\"],[0.5,\"#f7f7f7\"],[0.6,\"#e6f5d0\"],[0.7,\"#b8e186\"],[0.8,\"#7fbc41\"],[0.9,\"#4d9221\"],[1,\"#276419\"]]},\"xaxis\":{\"gridcolor\":\"white\",\"linecolor\":\"white\",\"ticks\":\"\",\"title\":{\"standoff\":15},\"zerolinecolor\":\"white\",\"automargin\":true,\"zerolinewidth\":2},\"yaxis\":{\"gridcolor\":\"white\",\"linecolor\":\"white\",\"ticks\":\"\",\"title\":{\"standoff\":15},\"zerolinecolor\":\"white\",\"automargin\":true,\"zerolinewidth\":2},\"scene\":{\"xaxis\":{\"backgroundcolor\":\"#E5ECF6\",\"gridcolor\":\"white\",\"linecolor\":\"white\",\"showbackground\":true,\"ticks\":\"\",\"zerolinecolor\":\"white\",\"gridwidth\":2},\"yaxis\":{\"backgroundcolor\":\"#E5ECF6\",\"gridcolor\":\"white\",\"linecolor\":\"white\",\"showbackground\":true,\"ticks\":\"\",\"zerolinecolor\":\"white\",\"gridwidth\":2},\"zaxis\":{\"backgroundcolor\":\"#E5ECF6\",\"gridcolor\":\"white\",\"linecolor\":\"white\",\"showbackground\":true,\"ticks\":\"\",\"zerolinecolor\":\"white\",\"gridwidth\":2}},\"shapedefaults\":{\"line\":{\"color\":\"#2a3f5f\"}},\"annotationdefaults\":{\"arrowcolor\":\"#2a3f5f\",\"arrowhead\":0,\"arrowwidth\":1},\"geo\":{\"bgcolor\":\"white\",\"landcolor\":\"#E5ECF6\",\"subunitcolor\":\"white\",\"showland\":true,\"showlakes\":true,\"lakecolor\":\"white\"},\"title\":{\"x\":0.05},\"mapbox\":{\"style\":\"light\"}}},\"xaxis\":{\"anchor\":\"y\",\"domain\":[0.0,1.0],\"title\":{\"text\":\"index\"}},\"yaxis\":{\"anchor\":\"x\",\"domain\":[0.0,1.0],\"title\":{\"text\":\"value\"},\"type\":\"log\"},\"legend\":{\"title\":{\"text\":\"variable\"},\"tracegroupgap\":0},\"title\":{\"text\":\"Checkpoint Values for solu-12l (Log scale)\"}},                        {\"responsive\": true}                    ).then(function(){\n",
                            "                            \n",
                            "var gd = document.getElementById('6ada1b24-ab2d-4a0e-b3a0-b25c42a2762e');\n",
                            "var x = new MutationObserver(function (mutations, observer) {{\n",
                            "        var display = window.getComputedStyle(gd).display;\n",
                            "        if (!display || display === 'none') {{\n",
                            "            console.log([gd, 'removed!']);\n",
                            "            Plotly.purge(gd);\n",
                            "            observer.disconnect();\n",
                            "        }}\n",
                            "}});\n",
                            "\n",
                            "// Listen for the removal of the full notebook cells\n",
                            "var notebookContainer = gd.closest('#notebook-container');\n",
                            "if (notebookContainer) {{\n",
                            "    x.observe(notebookContainer, {childList: true});\n",
                            "}}\n",
                            "\n",
                            "// Listen for the clearing of the current output cell\n",
                            "var outputEl = gd.closest('.output');\n",
                            "if (outputEl) {{\n",
                            "    x.observe(outputEl, {childList: true});\n",
                            "}}\n",
                            "\n",
                            "                        })                };                            </script>        </div>\n",
                            "</body>\n",
                            "</html>"
                        ]
                    },
                    "metadata": {},
                    "output_type": "display_data"
                },
                {
                    "data": {
                        "text/html": [
                            "<html>\n",
                            "<head><meta charset=\"utf-8\" /></head>\n",
                            "<body>\n",
                            "    <div>            <script src=\"https://cdnjs.cloudflare.com/ajax/libs/mathjax/2.7.5/MathJax.js?config=TeX-AMS-MML_SVG\"></script><script type=\"text/javascript\">if (window.MathJax && window.MathJax.Hub && window.MathJax.Hub.Config) {window.MathJax.Hub.Config({SVG: {font: \"STIX-Web\"}});}</script>                <script type=\"text/javascript\">window.PlotlyConfig = {MathJaxConfig: 'local'};</script>\n",
                            "        <script src=\"https://cdn.plot.ly/plotly-2.16.1.min.js\"></script>                <div id=\"87c7d210-cc47-4c30-be57-2c8152b6d491\" class=\"plotly-graph-div\" style=\"height:525px; width:100%;\"></div>            <script type=\"text/javascript\">                                    window.PLOTLYENV=window.PLOTLYENV || {};                                    if (document.getElementById(\"87c7d210-cc47-4c30-be57-2c8152b6d491\")) {                    Plotly.newPlot(                        \"87c7d210-cc47-4c30-be57-2c8152b6d491\",                        [{\"hovertemplate\":\"variable=0<br>index=%{x}<br>value=%{y}<extra></extra>\",\"legendgroup\":\"0\",\"line\":{\"color\":\"#636efa\",\"dash\":\"solid\"},\"marker\":{\"symbol\":\"circle\"},\"mode\":\"markers+lines\",\"name\":\"0\",\"orientation\":\"v\",\"showlegend\":true,\"x\":[0,1,2,3,4,5,6,7,8,9,10,11,12,13,14,15,16,17,18,19,20,21,22,23,24,25,26,27,28,29,30,31,32,33,34,35,36,37,38,39,40,41,42,43,44,45,46,47,48,49,50,51,52,53,54,55,56,57,58,59,60,61,62,63,64,65,66,67,68,69,70,71,72,73,74,75,76,77,78,79,80,81,82,83,84,85,86,87,88,89,90,91,92,93,94,95,96,97,98,99,100,101,102,103,104,105,106,107,108,109,110,111,112,113,114,115,116,117,118,119,120,121,122,123,124,125,126,127,128,129,130,131,132,133,134,135,136,137,138,139,140,141,142,143,144,145,146,147,148,149,150,151,152,153,154,155,156,157,158,159,160,161,162,163,164,165,166,167,168,169,170,171,172,173,174,175,176,177,178,179,180,181,182,183,184,185,186,187,188,189,190,191,192,193,194,195,196,197,198,199,200,201,202,203,204,205,206,207,208,209,210,211,212,213,214,215,216,217,218,219,220,221,222,223,224,225,226,227,228,229,230,231,232,233,234,235,236,237,238,239,240,241,242,243,244,245,246,247,248,249,250,251,252,253,254,255,256,257,258,259,260,261,262,263,264,265,266,267,268,269,270,271,272,273,274,275,276,277,278,279,280,281,282,283,284,285,286,287,288,289,290,291,292,293,294,295,296,297,298,299,300,301,302,303,304,305,306,307,308,309,310,311,312,313,314,315,316,317,318,319,320,321,322,323,324,325,326,327,328,329,330,331,332,333,334,335,336,337,338,339,340,341,342,343,344,345,346,347,348,349,350,351,352,353,354,355,356,357,358,359,360,361,362,363,364,365,366,367,368,369,370,371,372,373,374,375,376,377,378,379,380,381,382,383,384,385,386,387,388,389,390,391,392,393,394,395,396,397,398,399,400,401,402,403,404,405,406,407,408,409,410,411,412,413,414,415,416,417,418,419,420,421,422,423,424,425,426,427,428,429,430,431,432,433,434,435,436,437,438,439,440,441,442,443,444,445,446,447,448,449,450,451,452,453,454,455,456,457,458,459,460,461,462,463,464,465,466,467,468,469,470,471,472,473,474,475,476,477,478,479,480,481,482,483,484,485,486,487,488,489,490,491,492,493,494,495,496,497,498,499,500,501,502,503,504,505,506,507,508,509,510,511,512,513,514,515,516,517,518,519,520,521,522,523,524,525,526,527,528,529,530,531,532,533,534,535,536,537,538,539,540,541,542,543,544,545,546,547,548,549,550,551,552,553,554,555,556,557,558,559,560,561,562,563,564,565,566,567,568,569,570,571,572,573,574,575,576,577,578,579,580,581,582,583,584,585,586,587,588,589,590,591,592,593,594,595,596,597,598,599,600,601,602,603,604,605,606,607,608],\"xaxis\":\"x\",\"y\":[0,10,20,30,40,50,60,70,80,90,100,150,200,250,300,350,400,450,500,550,600,650,700,750,800,850,900,950,1000,1050,1100,1150,1200,1250,1300,1350,1400,1450,1500,1550,1600,1650,1700,1750,1800,1850,1900,1950,2000,2100,2200,2300,2400,2500,2600,2700,2800,2900,3000,3100,3200,3300,3400,3500,3600,3700,3800,3900,4000,4100,4200,4300,4400,4500,4600,4700,4800,4900,5000,5100,5200,5300,5400,5500,5600,5700,5800,5900,6000,6100,6200,6300,6400,6500,6600,6700,6800,6900,7000,7100,7200,7300,7400,7500,7600,7700,7800,7900,8000,8100,8200,8300,8400,8500,8600,8700,8800,8900,9000,9100,9200,9300,9400,9500,9600,9700,9800,9900,10000,10100,10200,10300,10400,10500,10600,10700,10800,10900,11000,11100,11200,11300,11400,11500,11600,11700,11800,11900,12000,12100,12200,12300,12400,12500,12600,12700,12800,12900,13000,13100,13200,13300,13400,13500,13600,13700,13800,13900,14000,14100,14200,14300,14400,14500,14600,14700,14800,14900,15000,15100,15200,15300,15400,15500,15600,15700,15800,15900,16000,16100,16200,16300,16400,16500,16600,16700,16800,16900,17000,17100,17200,17300,17400,17500,17600,17700,17800,17900,18000,18100,18200,18300,18400,18500,18600,18700,18800,18900,19000,19100,19200,19300,19400,19500,19600,19700,19800,19900,20000,21000,22000,23000,24000,25000,26000,27000,28000,29000,30000,31000,32000,33000,34000,35000,36000,37000,38000,39000,40000,41000,42000,43000,44000,45000,46000,47000,48000,49000,50000,51000,52000,53000,54000,55000,56000,57000,58000,59000,60000,61000,62000,63000,64000,65000,66000,67000,68000,69000,70000,71000,72000,73000,74000,75000,76000,77000,78000,79000,80000,81000,82000,83000,84000,85000,86000,87000,88000,89000,90000,91000,92000,93000,94000,95000,96000,97000,98000,99000,100000,101000,102000,103000,104000,105000,106000,107000,108000,109000,110000,111000,112000,113000,114000,115000,116000,117000,118000,119000,120000,121000,122000,123000,124000,125000,126000,127000,128000,129000,130000,131000,132000,133000,134000,135000,136000,137000,138000,139000,140000,141000,142000,143000,144000,145000,146000,147000,148000,149000,150000,151000,152000,153000,154000,155000,156000,157000,158000,159000,160000,161000,162000,163000,164000,165000,166000,167000,168000,169000,170000,171000,172000,173000,174000,175000,176000,177000,178000,179000,180000,181000,182000,183000,184000,185000,186000,187000,188000,189000,190000,191000,192000,193000,194000,195000,196000,197000,198000,199000,200000,201000,202000,203000,204000,205000,206000,207000,208000,209000,210000,211000,212000,213000,214000,215000,216000,217000,218000,219000,220000,221000,222000,223000,224000,225000,226000,227000,228000,229000,230000,231000,232000,233000,234000,235000,236000,237000,238000,239000,240000,241000,242000,243000,244000,245000,246000,247000,248000,249000,250000,251000,252000,253000,254000,255000,256000,257000,258000,259000,260000,261000,262000,263000,264000,265000,266000,267000,268000,269000,270000,271000,272000,273000,274000,275000,276000,277000,278000,279000,280000,281000,282000,283000,284000,285000,286000,287000,288000,289000,290000,291000,292000,293000,294000,295000,296000,297000,298000,299000,300000,301000,302000,303000,304000,305000,306000,307000,308000,309000,310000,311000,312000,313000,314000,315000,316000,317000,318000,319000,320000,321000,322000,323000,324000,325000,326000,327000,328000,329000,330000,331000,332000,333000,334000,335000,336000,337000,338000,339000,340000,341000,342000,343000,344000,345000,346000,347000,348000,349000,350000,351000,352000,353000,354000,355000,356000,357000,358000,359000,360000,361000,362000,363000,364000,365000,366000,367000,368000,369000,370000,371000,372000,373000,374000,375000,376000,377000,378000,379000,380000,381000,382000,383000,384000,385000,386000,387000,388000,389000,390000,391000,392000,393000,394000,395000,396000,397000,398000,399000,400000],\"yaxis\":\"y\",\"type\":\"scatter\"}],                        {\"template\":{\"data\":{\"histogram2dcontour\":[{\"type\":\"histogram2dcontour\",\"colorbar\":{\"outlinewidth\":0,\"ticks\":\"\"},\"colorscale\":[[0.0,\"#0d0887\"],[0.1111111111111111,\"#46039f\"],[0.2222222222222222,\"#7201a8\"],[0.3333333333333333,\"#9c179e\"],[0.4444444444444444,\"#bd3786\"],[0.5555555555555556,\"#d8576b\"],[0.6666666666666666,\"#ed7953\"],[0.7777777777777778,\"#fb9f3a\"],[0.8888888888888888,\"#fdca26\"],[1.0,\"#f0f921\"]]}],\"choropleth\":[{\"type\":\"choropleth\",\"colorbar\":{\"outlinewidth\":0,\"ticks\":\"\"}}],\"histogram2d\":[{\"type\":\"histogram2d\",\"colorbar\":{\"outlinewidth\":0,\"ticks\":\"\"},\"colorscale\":[[0.0,\"#0d0887\"],[0.1111111111111111,\"#46039f\"],[0.2222222222222222,\"#7201a8\"],[0.3333333333333333,\"#9c179e\"],[0.4444444444444444,\"#bd3786\"],[0.5555555555555556,\"#d8576b\"],[0.6666666666666666,\"#ed7953\"],[0.7777777777777778,\"#fb9f3a\"],[0.8888888888888888,\"#fdca26\"],[1.0,\"#f0f921\"]]}],\"heatmap\":[{\"type\":\"heatmap\",\"colorbar\":{\"outlinewidth\":0,\"ticks\":\"\"},\"colorscale\":[[0.0,\"#0d0887\"],[0.1111111111111111,\"#46039f\"],[0.2222222222222222,\"#7201a8\"],[0.3333333333333333,\"#9c179e\"],[0.4444444444444444,\"#bd3786\"],[0.5555555555555556,\"#d8576b\"],[0.6666666666666666,\"#ed7953\"],[0.7777777777777778,\"#fb9f3a\"],[0.8888888888888888,\"#fdca26\"],[1.0,\"#f0f921\"]]}],\"heatmapgl\":[{\"type\":\"heatmapgl\",\"colorbar\":{\"outlinewidth\":0,\"ticks\":\"\"},\"colorscale\":[[0.0,\"#0d0887\"],[0.1111111111111111,\"#46039f\"],[0.2222222222222222,\"#7201a8\"],[0.3333333333333333,\"#9c179e\"],[0.4444444444444444,\"#bd3786\"],[0.5555555555555556,\"#d8576b\"],[0.6666666666666666,\"#ed7953\"],[0.7777777777777778,\"#fb9f3a\"],[0.8888888888888888,\"#fdca26\"],[1.0,\"#f0f921\"]]}],\"contourcarpet\":[{\"type\":\"contourcarpet\",\"colorbar\":{\"outlinewidth\":0,\"ticks\":\"\"}}],\"contour\":[{\"type\":\"contour\",\"colorbar\":{\"outlinewidth\":0,\"ticks\":\"\"},\"colorscale\":[[0.0,\"#0d0887\"],[0.1111111111111111,\"#46039f\"],[0.2222222222222222,\"#7201a8\"],[0.3333333333333333,\"#9c179e\"],[0.4444444444444444,\"#bd3786\"],[0.5555555555555556,\"#d8576b\"],[0.6666666666666666,\"#ed7953\"],[0.7777777777777778,\"#fb9f3a\"],[0.8888888888888888,\"#fdca26\"],[1.0,\"#f0f921\"]]}],\"surface\":[{\"type\":\"surface\",\"colorbar\":{\"outlinewidth\":0,\"ticks\":\"\"},\"colorscale\":[[0.0,\"#0d0887\"],[0.1111111111111111,\"#46039f\"],[0.2222222222222222,\"#7201a8\"],[0.3333333333333333,\"#9c179e\"],[0.4444444444444444,\"#bd3786\"],[0.5555555555555556,\"#d8576b\"],[0.6666666666666666,\"#ed7953\"],[0.7777777777777778,\"#fb9f3a\"],[0.8888888888888888,\"#fdca26\"],[1.0,\"#f0f921\"]]}],\"mesh3d\":[{\"type\":\"mesh3d\",\"colorbar\":{\"outlinewidth\":0,\"ticks\":\"\"}}],\"scatter\":[{\"fillpattern\":{\"fillmode\":\"overlay\",\"size\":10,\"solidity\":0.2},\"type\":\"scatter\"}],\"parcoords\":[{\"type\":\"parcoords\",\"line\":{\"colorbar\":{\"outlinewidth\":0,\"ticks\":\"\"}}}],\"scatterpolargl\":[{\"type\":\"scatterpolargl\",\"marker\":{\"colorbar\":{\"outlinewidth\":0,\"ticks\":\"\"}}}],\"bar\":[{\"error_x\":{\"color\":\"#2a3f5f\"},\"error_y\":{\"color\":\"#2a3f5f\"},\"marker\":{\"line\":{\"color\":\"#E5ECF6\",\"width\":0.5},\"pattern\":{\"fillmode\":\"overlay\",\"size\":10,\"solidity\":0.2}},\"type\":\"bar\"}],\"scattergeo\":[{\"type\":\"scattergeo\",\"marker\":{\"colorbar\":{\"outlinewidth\":0,\"ticks\":\"\"}}}],\"scatterpolar\":[{\"type\":\"scatterpolar\",\"marker\":{\"colorbar\":{\"outlinewidth\":0,\"ticks\":\"\"}}}],\"histogram\":[{\"marker\":{\"pattern\":{\"fillmode\":\"overlay\",\"size\":10,\"solidity\":0.2}},\"type\":\"histogram\"}],\"scattergl\":[{\"type\":\"scattergl\",\"marker\":{\"colorbar\":{\"outlinewidth\":0,\"ticks\":\"\"}}}],\"scatter3d\":[{\"type\":\"scatter3d\",\"line\":{\"colorbar\":{\"outlinewidth\":0,\"ticks\":\"\"}},\"marker\":{\"colorbar\":{\"outlinewidth\":0,\"ticks\":\"\"}}}],\"scattermapbox\":[{\"type\":\"scattermapbox\",\"marker\":{\"colorbar\":{\"outlinewidth\":0,\"ticks\":\"\"}}}],\"scatterternary\":[{\"type\":\"scatterternary\",\"marker\":{\"colorbar\":{\"outlinewidth\":0,\"ticks\":\"\"}}}],\"scattercarpet\":[{\"type\":\"scattercarpet\",\"marker\":{\"colorbar\":{\"outlinewidth\":0,\"ticks\":\"\"}}}],\"carpet\":[{\"aaxis\":{\"endlinecolor\":\"#2a3f5f\",\"gridcolor\":\"white\",\"linecolor\":\"white\",\"minorgridcolor\":\"white\",\"startlinecolor\":\"#2a3f5f\"},\"baxis\":{\"endlinecolor\":\"#2a3f5f\",\"gridcolor\":\"white\",\"linecolor\":\"white\",\"minorgridcolor\":\"white\",\"startlinecolor\":\"#2a3f5f\"},\"type\":\"carpet\"}],\"table\":[{\"cells\":{\"fill\":{\"color\":\"#EBF0F8\"},\"line\":{\"color\":\"white\"}},\"header\":{\"fill\":{\"color\":\"#C8D4E3\"},\"line\":{\"color\":\"white\"}},\"type\":\"table\"}],\"barpolar\":[{\"marker\":{\"line\":{\"color\":\"#E5ECF6\",\"width\":0.5},\"pattern\":{\"fillmode\":\"overlay\",\"size\":10,\"solidity\":0.2}},\"type\":\"barpolar\"}],\"pie\":[{\"automargin\":true,\"type\":\"pie\"}]},\"layout\":{\"autotypenumbers\":\"strict\",\"colorway\":[\"#636efa\",\"#EF553B\",\"#00cc96\",\"#ab63fa\",\"#FFA15A\",\"#19d3f3\",\"#FF6692\",\"#B6E880\",\"#FF97FF\",\"#FECB52\"],\"font\":{\"color\":\"#2a3f5f\"},\"hovermode\":\"closest\",\"hoverlabel\":{\"align\":\"left\"},\"paper_bgcolor\":\"white\",\"plot_bgcolor\":\"#E5ECF6\",\"polar\":{\"bgcolor\":\"#E5ECF6\",\"angularaxis\":{\"gridcolor\":\"white\",\"linecolor\":\"white\",\"ticks\":\"\"},\"radialaxis\":{\"gridcolor\":\"white\",\"linecolor\":\"white\",\"ticks\":\"\"}},\"ternary\":{\"bgcolor\":\"#E5ECF6\",\"aaxis\":{\"gridcolor\":\"white\",\"linecolor\":\"white\",\"ticks\":\"\"},\"baxis\":{\"gridcolor\":\"white\",\"linecolor\":\"white\",\"ticks\":\"\"},\"caxis\":{\"gridcolor\":\"white\",\"linecolor\":\"white\",\"ticks\":\"\"}},\"coloraxis\":{\"colorbar\":{\"outlinewidth\":0,\"ticks\":\"\"}},\"colorscale\":{\"sequential\":[[0.0,\"#0d0887\"],[0.1111111111111111,\"#46039f\"],[0.2222222222222222,\"#7201a8\"],[0.3333333333333333,\"#9c179e\"],[0.4444444444444444,\"#bd3786\"],[0.5555555555555556,\"#d8576b\"],[0.6666666666666666,\"#ed7953\"],[0.7777777777777778,\"#fb9f3a\"],[0.8888888888888888,\"#fdca26\"],[1.0,\"#f0f921\"]],\"sequentialminus\":[[0.0,\"#0d0887\"],[0.1111111111111111,\"#46039f\"],[0.2222222222222222,\"#7201a8\"],[0.3333333333333333,\"#9c179e\"],[0.4444444444444444,\"#bd3786\"],[0.5555555555555556,\"#d8576b\"],[0.6666666666666666,\"#ed7953\"],[0.7777777777777778,\"#fb9f3a\"],[0.8888888888888888,\"#fdca26\"],[1.0,\"#f0f921\"]],\"diverging\":[[0,\"#8e0152\"],[0.1,\"#c51b7d\"],[0.2,\"#de77ae\"],[0.3,\"#f1b6da\"],[0.4,\"#fde0ef\"],[0.5,\"#f7f7f7\"],[0.6,\"#e6f5d0\"],[0.7,\"#b8e186\"],[0.8,\"#7fbc41\"],[0.9,\"#4d9221\"],[1,\"#276419\"]]},\"xaxis\":{\"gridcolor\":\"white\",\"linecolor\":\"white\",\"ticks\":\"\",\"title\":{\"standoff\":15},\"zerolinecolor\":\"white\",\"automargin\":true,\"zerolinewidth\":2},\"yaxis\":{\"gridcolor\":\"white\",\"linecolor\":\"white\",\"ticks\":\"\",\"title\":{\"standoff\":15},\"zerolinecolor\":\"white\",\"automargin\":true,\"zerolinewidth\":2},\"scene\":{\"xaxis\":{\"backgroundcolor\":\"#E5ECF6\",\"gridcolor\":\"white\",\"linecolor\":\"white\",\"showbackground\":true,\"ticks\":\"\",\"zerolinecolor\":\"white\",\"gridwidth\":2},\"yaxis\":{\"backgroundcolor\":\"#E5ECF6\",\"gridcolor\":\"white\",\"linecolor\":\"white\",\"showbackground\":true,\"ticks\":\"\",\"zerolinecolor\":\"white\",\"gridwidth\":2},\"zaxis\":{\"backgroundcolor\":\"#E5ECF6\",\"gridcolor\":\"white\",\"linecolor\":\"white\",\"showbackground\":true,\"ticks\":\"\",\"zerolinecolor\":\"white\",\"gridwidth\":2}},\"shapedefaults\":{\"line\":{\"color\":\"#2a3f5f\"}},\"annotationdefaults\":{\"arrowcolor\":\"#2a3f5f\",\"arrowhead\":0,\"arrowwidth\":1},\"geo\":{\"bgcolor\":\"white\",\"landcolor\":\"#E5ECF6\",\"subunitcolor\":\"white\",\"showland\":true,\"showlakes\":true,\"lakecolor\":\"white\"},\"title\":{\"x\":0.05},\"mapbox\":{\"style\":\"light\"}}},\"xaxis\":{\"anchor\":\"y\",\"domain\":[0.0,1.0],\"title\":{\"text\":\"index\"}},\"yaxis\":{\"anchor\":\"x\",\"domain\":[0.0,1.0],\"title\":{\"text\":\"value\"},\"type\":\"log\"},\"legend\":{\"title\":{\"text\":\"variable\"},\"tracegroupgap\":0},\"title\":{\"text\":\"Checkpoint Values for stanford-gpt2-small-a (Log scale)\"}},                        {\"responsive\": true}                    ).then(function(){\n",
                            "                            \n",
                            "var gd = document.getElementById('87c7d210-cc47-4c30-be57-2c8152b6d491');\n",
                            "var x = new MutationObserver(function (mutations, observer) {{\n",
                            "        var display = window.getComputedStyle(gd).display;\n",
                            "        if (!display || display === 'none') {{\n",
                            "            console.log([gd, 'removed!']);\n",
                            "            Plotly.purge(gd);\n",
                            "            observer.disconnect();\n",
                            "        }}\n",
                            "}});\n",
                            "\n",
                            "// Listen for the removal of the full notebook cells\n",
                            "var notebookContainer = gd.closest('#notebook-container');\n",
                            "if (notebookContainer) {{\n",
                            "    x.observe(notebookContainer, {childList: true});\n",
                            "}}\n",
                            "\n",
                            "// Listen for the clearing of the current output cell\n",
                            "var outputEl = gd.closest('.output');\n",
                            "if (outputEl) {{\n",
                            "    x.observe(outputEl, {childList: true});\n",
                            "}}\n",
                            "\n",
                            "                        })                };                            </script>        </div>\n",
                            "</body>\n",
                            "</html>"
                        ]
                    },
                    "metadata": {},
                    "output_type": "display_data"
                },
                {
                    "data": {
                        "text/html": [
                            "<html>\n",
                            "<head><meta charset=\"utf-8\" /></head>\n",
                            "<body>\n",
                            "    <div>            <script src=\"https://cdnjs.cloudflare.com/ajax/libs/mathjax/2.7.5/MathJax.js?config=TeX-AMS-MML_SVG\"></script><script type=\"text/javascript\">if (window.MathJax && window.MathJax.Hub && window.MathJax.Hub.Config) {window.MathJax.Hub.Config({SVG: {font: \"STIX-Web\"}});}</script>                <script type=\"text/javascript\">window.PlotlyConfig = {MathJaxConfig: 'local'};</script>\n",
                            "        <script src=\"https://cdn.plot.ly/plotly-2.16.1.min.js\"></script>                <div id=\"3614b7fd-aa3e-4b49-a7d7-215d10df33e5\" class=\"plotly-graph-div\" style=\"height:525px; width:100%;\"></div>            <script type=\"text/javascript\">                                    window.PLOTLYENV=window.PLOTLYENV || {};                                    if (document.getElementById(\"3614b7fd-aa3e-4b49-a7d7-215d10df33e5\")) {                    Plotly.newPlot(                        \"3614b7fd-aa3e-4b49-a7d7-215d10df33e5\",                        [{\"hovertemplate\":\"variable=0<br>index=%{x}<br>value=%{y}<extra></extra>\",\"legendgroup\":\"0\",\"line\":{\"color\":\"#636efa\",\"dash\":\"solid\"},\"marker\":{\"symbol\":\"circle\"},\"mode\":\"markers+lines\",\"name\":\"0\",\"orientation\":\"v\",\"showlegend\":true,\"x\":[0,1,2,3,4,5,6,7,8,9,10,11,12,13,14,15,16,17,18,19,20,21,22,23,24,25,26,27,28,29,30,31,32,33,34,35,36,37,38,39,40,41,42,43,44,45,46,47,48,49],\"xaxis\":\"x\",\"y\":[832,1664,2496,3328,4160,4992,5824,6656,7488,8320,9152,9984,10816,11648,12480,13312,14144,14976,15808,16640,17472,18304,19136,19968,20800,21632,22464,23296,24128,24960,25792,26624,27456,28288,29120,29952,30784,31616,32448,33280,34112,34944,35776,36608,37440,38272,39104,39936,40768,41600],\"yaxis\":\"y\",\"type\":\"scatter\"}],                        {\"template\":{\"data\":{\"histogram2dcontour\":[{\"type\":\"histogram2dcontour\",\"colorbar\":{\"outlinewidth\":0,\"ticks\":\"\"},\"colorscale\":[[0.0,\"#0d0887\"],[0.1111111111111111,\"#46039f\"],[0.2222222222222222,\"#7201a8\"],[0.3333333333333333,\"#9c179e\"],[0.4444444444444444,\"#bd3786\"],[0.5555555555555556,\"#d8576b\"],[0.6666666666666666,\"#ed7953\"],[0.7777777777777778,\"#fb9f3a\"],[0.8888888888888888,\"#fdca26\"],[1.0,\"#f0f921\"]]}],\"choropleth\":[{\"type\":\"choropleth\",\"colorbar\":{\"outlinewidth\":0,\"ticks\":\"\"}}],\"histogram2d\":[{\"type\":\"histogram2d\",\"colorbar\":{\"outlinewidth\":0,\"ticks\":\"\"},\"colorscale\":[[0.0,\"#0d0887\"],[0.1111111111111111,\"#46039f\"],[0.2222222222222222,\"#7201a8\"],[0.3333333333333333,\"#9c179e\"],[0.4444444444444444,\"#bd3786\"],[0.5555555555555556,\"#d8576b\"],[0.6666666666666666,\"#ed7953\"],[0.7777777777777778,\"#fb9f3a\"],[0.8888888888888888,\"#fdca26\"],[1.0,\"#f0f921\"]]}],\"heatmap\":[{\"type\":\"heatmap\",\"colorbar\":{\"outlinewidth\":0,\"ticks\":\"\"},\"colorscale\":[[0.0,\"#0d0887\"],[0.1111111111111111,\"#46039f\"],[0.2222222222222222,\"#7201a8\"],[0.3333333333333333,\"#9c179e\"],[0.4444444444444444,\"#bd3786\"],[0.5555555555555556,\"#d8576b\"],[0.6666666666666666,\"#ed7953\"],[0.7777777777777778,\"#fb9f3a\"],[0.8888888888888888,\"#fdca26\"],[1.0,\"#f0f921\"]]}],\"heatmapgl\":[{\"type\":\"heatmapgl\",\"colorbar\":{\"outlinewidth\":0,\"ticks\":\"\"},\"colorscale\":[[0.0,\"#0d0887\"],[0.1111111111111111,\"#46039f\"],[0.2222222222222222,\"#7201a8\"],[0.3333333333333333,\"#9c179e\"],[0.4444444444444444,\"#bd3786\"],[0.5555555555555556,\"#d8576b\"],[0.6666666666666666,\"#ed7953\"],[0.7777777777777778,\"#fb9f3a\"],[0.8888888888888888,\"#fdca26\"],[1.0,\"#f0f921\"]]}],\"contourcarpet\":[{\"type\":\"contourcarpet\",\"colorbar\":{\"outlinewidth\":0,\"ticks\":\"\"}}],\"contour\":[{\"type\":\"contour\",\"colorbar\":{\"outlinewidth\":0,\"ticks\":\"\"},\"colorscale\":[[0.0,\"#0d0887\"],[0.1111111111111111,\"#46039f\"],[0.2222222222222222,\"#7201a8\"],[0.3333333333333333,\"#9c179e\"],[0.4444444444444444,\"#bd3786\"],[0.5555555555555556,\"#d8576b\"],[0.6666666666666666,\"#ed7953\"],[0.7777777777777778,\"#fb9f3a\"],[0.8888888888888888,\"#fdca26\"],[1.0,\"#f0f921\"]]}],\"surface\":[{\"type\":\"surface\",\"colorbar\":{\"outlinewidth\":0,\"ticks\":\"\"},\"colorscale\":[[0.0,\"#0d0887\"],[0.1111111111111111,\"#46039f\"],[0.2222222222222222,\"#7201a8\"],[0.3333333333333333,\"#9c179e\"],[0.4444444444444444,\"#bd3786\"],[0.5555555555555556,\"#d8576b\"],[0.6666666666666666,\"#ed7953\"],[0.7777777777777778,\"#fb9f3a\"],[0.8888888888888888,\"#fdca26\"],[1.0,\"#f0f921\"]]}],\"mesh3d\":[{\"type\":\"mesh3d\",\"colorbar\":{\"outlinewidth\":0,\"ticks\":\"\"}}],\"scatter\":[{\"fillpattern\":{\"fillmode\":\"overlay\",\"size\":10,\"solidity\":0.2},\"type\":\"scatter\"}],\"parcoords\":[{\"type\":\"parcoords\",\"line\":{\"colorbar\":{\"outlinewidth\":0,\"ticks\":\"\"}}}],\"scatterpolargl\":[{\"type\":\"scatterpolargl\",\"marker\":{\"colorbar\":{\"outlinewidth\":0,\"ticks\":\"\"}}}],\"bar\":[{\"error_x\":{\"color\":\"#2a3f5f\"},\"error_y\":{\"color\":\"#2a3f5f\"},\"marker\":{\"line\":{\"color\":\"#E5ECF6\",\"width\":0.5},\"pattern\":{\"fillmode\":\"overlay\",\"size\":10,\"solidity\":0.2}},\"type\":\"bar\"}],\"scattergeo\":[{\"type\":\"scattergeo\",\"marker\":{\"colorbar\":{\"outlinewidth\":0,\"ticks\":\"\"}}}],\"scatterpolar\":[{\"type\":\"scatterpolar\",\"marker\":{\"colorbar\":{\"outlinewidth\":0,\"ticks\":\"\"}}}],\"histogram\":[{\"marker\":{\"pattern\":{\"fillmode\":\"overlay\",\"size\":10,\"solidity\":0.2}},\"type\":\"histogram\"}],\"scattergl\":[{\"type\":\"scattergl\",\"marker\":{\"colorbar\":{\"outlinewidth\":0,\"ticks\":\"\"}}}],\"scatter3d\":[{\"type\":\"scatter3d\",\"line\":{\"colorbar\":{\"outlinewidth\":0,\"ticks\":\"\"}},\"marker\":{\"colorbar\":{\"outlinewidth\":0,\"ticks\":\"\"}}}],\"scattermapbox\":[{\"type\":\"scattermapbox\",\"marker\":{\"colorbar\":{\"outlinewidth\":0,\"ticks\":\"\"}}}],\"scatterternary\":[{\"type\":\"scatterternary\",\"marker\":{\"colorbar\":{\"outlinewidth\":0,\"ticks\":\"\"}}}],\"scattercarpet\":[{\"type\":\"scattercarpet\",\"marker\":{\"colorbar\":{\"outlinewidth\":0,\"ticks\":\"\"}}}],\"carpet\":[{\"aaxis\":{\"endlinecolor\":\"#2a3f5f\",\"gridcolor\":\"white\",\"linecolor\":\"white\",\"minorgridcolor\":\"white\",\"startlinecolor\":\"#2a3f5f\"},\"baxis\":{\"endlinecolor\":\"#2a3f5f\",\"gridcolor\":\"white\",\"linecolor\":\"white\",\"minorgridcolor\":\"white\",\"startlinecolor\":\"#2a3f5f\"},\"type\":\"carpet\"}],\"table\":[{\"cells\":{\"fill\":{\"color\":\"#EBF0F8\"},\"line\":{\"color\":\"white\"}},\"header\":{\"fill\":{\"color\":\"#C8D4E3\"},\"line\":{\"color\":\"white\"}},\"type\":\"table\"}],\"barpolar\":[{\"marker\":{\"line\":{\"color\":\"#E5ECF6\",\"width\":0.5},\"pattern\":{\"fillmode\":\"overlay\",\"size\":10,\"solidity\":0.2}},\"type\":\"barpolar\"}],\"pie\":[{\"automargin\":true,\"type\":\"pie\"}]},\"layout\":{\"autotypenumbers\":\"strict\",\"colorway\":[\"#636efa\",\"#EF553B\",\"#00cc96\",\"#ab63fa\",\"#FFA15A\",\"#19d3f3\",\"#FF6692\",\"#B6E880\",\"#FF97FF\",\"#FECB52\"],\"font\":{\"color\":\"#2a3f5f\"},\"hovermode\":\"closest\",\"hoverlabel\":{\"align\":\"left\"},\"paper_bgcolor\":\"white\",\"plot_bgcolor\":\"#E5ECF6\",\"polar\":{\"bgcolor\":\"#E5ECF6\",\"angularaxis\":{\"gridcolor\":\"white\",\"linecolor\":\"white\",\"ticks\":\"\"},\"radialaxis\":{\"gridcolor\":\"white\",\"linecolor\":\"white\",\"ticks\":\"\"}},\"ternary\":{\"bgcolor\":\"#E5ECF6\",\"aaxis\":{\"gridcolor\":\"white\",\"linecolor\":\"white\",\"ticks\":\"\"},\"baxis\":{\"gridcolor\":\"white\",\"linecolor\":\"white\",\"ticks\":\"\"},\"caxis\":{\"gridcolor\":\"white\",\"linecolor\":\"white\",\"ticks\":\"\"}},\"coloraxis\":{\"colorbar\":{\"outlinewidth\":0,\"ticks\":\"\"}},\"colorscale\":{\"sequential\":[[0.0,\"#0d0887\"],[0.1111111111111111,\"#46039f\"],[0.2222222222222222,\"#7201a8\"],[0.3333333333333333,\"#9c179e\"],[0.4444444444444444,\"#bd3786\"],[0.5555555555555556,\"#d8576b\"],[0.6666666666666666,\"#ed7953\"],[0.7777777777777778,\"#fb9f3a\"],[0.8888888888888888,\"#fdca26\"],[1.0,\"#f0f921\"]],\"sequentialminus\":[[0.0,\"#0d0887\"],[0.1111111111111111,\"#46039f\"],[0.2222222222222222,\"#7201a8\"],[0.3333333333333333,\"#9c179e\"],[0.4444444444444444,\"#bd3786\"],[0.5555555555555556,\"#d8576b\"],[0.6666666666666666,\"#ed7953\"],[0.7777777777777778,\"#fb9f3a\"],[0.8888888888888888,\"#fdca26\"],[1.0,\"#f0f921\"]],\"diverging\":[[0,\"#8e0152\"],[0.1,\"#c51b7d\"],[0.2,\"#de77ae\"],[0.3,\"#f1b6da\"],[0.4,\"#fde0ef\"],[0.5,\"#f7f7f7\"],[0.6,\"#e6f5d0\"],[0.7,\"#b8e186\"],[0.8,\"#7fbc41\"],[0.9,\"#4d9221\"],[1,\"#276419\"]]},\"xaxis\":{\"gridcolor\":\"white\",\"linecolor\":\"white\",\"ticks\":\"\",\"title\":{\"standoff\":15},\"zerolinecolor\":\"white\",\"automargin\":true,\"zerolinewidth\":2},\"yaxis\":{\"gridcolor\":\"white\",\"linecolor\":\"white\",\"ticks\":\"\",\"title\":{\"standoff\":15},\"zerolinecolor\":\"white\",\"automargin\":true,\"zerolinewidth\":2},\"scene\":{\"xaxis\":{\"backgroundcolor\":\"#E5ECF6\",\"gridcolor\":\"white\",\"linecolor\":\"white\",\"showbackground\":true,\"ticks\":\"\",\"zerolinecolor\":\"white\",\"gridwidth\":2},\"yaxis\":{\"backgroundcolor\":\"#E5ECF6\",\"gridcolor\":\"white\",\"linecolor\":\"white\",\"showbackground\":true,\"ticks\":\"\",\"zerolinecolor\":\"white\",\"gridwidth\":2},\"zaxis\":{\"backgroundcolor\":\"#E5ECF6\",\"gridcolor\":\"white\",\"linecolor\":\"white\",\"showbackground\":true,\"ticks\":\"\",\"zerolinecolor\":\"white\",\"gridwidth\":2}},\"shapedefaults\":{\"line\":{\"color\":\"#2a3f5f\"}},\"annotationdefaults\":{\"arrowcolor\":\"#2a3f5f\",\"arrowhead\":0,\"arrowwidth\":1},\"geo\":{\"bgcolor\":\"white\",\"landcolor\":\"#E5ECF6\",\"subunitcolor\":\"white\",\"showland\":true,\"showlakes\":true,\"lakecolor\":\"white\"},\"title\":{\"x\":0.05},\"mapbox\":{\"style\":\"light\"}}},\"xaxis\":{\"anchor\":\"y\",\"domain\":[0.0,1.0],\"title\":{\"text\":\"index\"}},\"yaxis\":{\"anchor\":\"x\",\"domain\":[0.0,1.0],\"title\":{\"text\":\"value\"}},\"legend\":{\"title\":{\"text\":\"variable\"},\"tracegroupgap\":0},\"title\":{\"text\":\"Checkpoint Values for solu-1l-pile (Linear scale)\"}},                        {\"responsive\": true}                    ).then(function(){\n",
                            "                            \n",
                            "var gd = document.getElementById('3614b7fd-aa3e-4b49-a7d7-215d10df33e5');\n",
                            "var x = new MutationObserver(function (mutations, observer) {{\n",
                            "        var display = window.getComputedStyle(gd).display;\n",
                            "        if (!display || display === 'none') {{\n",
                            "            console.log([gd, 'removed!']);\n",
                            "            Plotly.purge(gd);\n",
                            "            observer.disconnect();\n",
                            "        }}\n",
                            "}});\n",
                            "\n",
                            "// Listen for the removal of the full notebook cells\n",
                            "var notebookContainer = gd.closest('#notebook-container');\n",
                            "if (notebookContainer) {{\n",
                            "    x.observe(notebookContainer, {childList: true});\n",
                            "}}\n",
                            "\n",
                            "// Listen for the clearing of the current output cell\n",
                            "var outputEl = gd.closest('.output');\n",
                            "if (outputEl) {{\n",
                            "    x.observe(outputEl, {childList: true});\n",
                            "}}\n",
                            "\n",
                            "                        })                };                            </script>        </div>\n",
                            "</body>\n",
                            "</html>"
                        ]
                    },
                    "metadata": {},
                    "output_type": "display_data"
                },
                {
                    "data": {
                        "text/html": [
                            "<html>\n",
                            "<head><meta charset=\"utf-8\" /></head>\n",
                            "<body>\n",
                            "    <div>            <script src=\"https://cdnjs.cloudflare.com/ajax/libs/mathjax/2.7.5/MathJax.js?config=TeX-AMS-MML_SVG\"></script><script type=\"text/javascript\">if (window.MathJax && window.MathJax.Hub && window.MathJax.Hub.Config) {window.MathJax.Hub.Config({SVG: {font: \"STIX-Web\"}});}</script>                <script type=\"text/javascript\">window.PlotlyConfig = {MathJaxConfig: 'local'};</script>\n",
                            "        <script src=\"https://cdn.plot.ly/plotly-2.16.1.min.js\"></script>                <div id=\"440d9dd4-5051-445a-be32-9ad92e71921a\" class=\"plotly-graph-div\" style=\"height:525px; width:100%;\"></div>            <script type=\"text/javascript\">                                    window.PLOTLYENV=window.PLOTLYENV || {};                                    if (document.getElementById(\"440d9dd4-5051-445a-be32-9ad92e71921a\")) {                    Plotly.newPlot(                        \"440d9dd4-5051-445a-be32-9ad92e71921a\",                        [{\"hovertemplate\":\"variable=0<br>index=%{x}<br>value=%{y}<extra></extra>\",\"legendgroup\":\"0\",\"line\":{\"color\":\"#636efa\",\"dash\":\"solid\"},\"marker\":{\"symbol\":\"circle\"},\"mode\":\"markers+lines\",\"name\":\"0\",\"orientation\":\"v\",\"showlegend\":true,\"x\":[0,1,2,3,4,5,6,7,8,9,10,11,12,13,14,15,16,17,18,19,20,21,22,23,24,25,26,27,28,29,30,31,32,33,34,35,36,37,38,39,40,41,42,43,44,45,46,47,48,49,50,51,52,53,54,55,56,57,58,59,60,61,62,63,64,65,66,67,68,69,70,71,72,73,74,75,76,77,78,79,80,81,82,83,84,85,86,87,88,89,90,91,92,93,94,95,96,97,98,99],\"xaxis\":\"x\",\"y\":[326,652,978,1304,1630,1956,2282,2608,2934,3260,3586,3912,4238,4564,4890,5216,5542,5868,6194,6520,6846,7172,7498,7824,8150,8476,8802,9128,9454,9780,10106,10432,10758,11084,11410,11736,12062,12388,12714,13040,13366,13692,14018,14344,14670,14996,15322,15648,15974,16300,16626,16952,17278,17604,17930,18256,18582,18908,19234,19560,19886,20212,20538,20864,21190,21516,21842,22168,22494,22820,23146,23472,23798,24124,24450,24776,25102,25428,25754,26080,26406,26732,27058,27384,27710,28036,28362,28688,29014,29340,29666,29992,30318,30644,30970,31296,31622,31948,32274,32600],\"yaxis\":\"y\",\"type\":\"scatter\"}],                        {\"template\":{\"data\":{\"histogram2dcontour\":[{\"type\":\"histogram2dcontour\",\"colorbar\":{\"outlinewidth\":0,\"ticks\":\"\"},\"colorscale\":[[0.0,\"#0d0887\"],[0.1111111111111111,\"#46039f\"],[0.2222222222222222,\"#7201a8\"],[0.3333333333333333,\"#9c179e\"],[0.4444444444444444,\"#bd3786\"],[0.5555555555555556,\"#d8576b\"],[0.6666666666666666,\"#ed7953\"],[0.7777777777777778,\"#fb9f3a\"],[0.8888888888888888,\"#fdca26\"],[1.0,\"#f0f921\"]]}],\"choropleth\":[{\"type\":\"choropleth\",\"colorbar\":{\"outlinewidth\":0,\"ticks\":\"\"}}],\"histogram2d\":[{\"type\":\"histogram2d\",\"colorbar\":{\"outlinewidth\":0,\"ticks\":\"\"},\"colorscale\":[[0.0,\"#0d0887\"],[0.1111111111111111,\"#46039f\"],[0.2222222222222222,\"#7201a8\"],[0.3333333333333333,\"#9c179e\"],[0.4444444444444444,\"#bd3786\"],[0.5555555555555556,\"#d8576b\"],[0.6666666666666666,\"#ed7953\"],[0.7777777777777778,\"#fb9f3a\"],[0.8888888888888888,\"#fdca26\"],[1.0,\"#f0f921\"]]}],\"heatmap\":[{\"type\":\"heatmap\",\"colorbar\":{\"outlinewidth\":0,\"ticks\":\"\"},\"colorscale\":[[0.0,\"#0d0887\"],[0.1111111111111111,\"#46039f\"],[0.2222222222222222,\"#7201a8\"],[0.3333333333333333,\"#9c179e\"],[0.4444444444444444,\"#bd3786\"],[0.5555555555555556,\"#d8576b\"],[0.6666666666666666,\"#ed7953\"],[0.7777777777777778,\"#fb9f3a\"],[0.8888888888888888,\"#fdca26\"],[1.0,\"#f0f921\"]]}],\"heatmapgl\":[{\"type\":\"heatmapgl\",\"colorbar\":{\"outlinewidth\":0,\"ticks\":\"\"},\"colorscale\":[[0.0,\"#0d0887\"],[0.1111111111111111,\"#46039f\"],[0.2222222222222222,\"#7201a8\"],[0.3333333333333333,\"#9c179e\"],[0.4444444444444444,\"#bd3786\"],[0.5555555555555556,\"#d8576b\"],[0.6666666666666666,\"#ed7953\"],[0.7777777777777778,\"#fb9f3a\"],[0.8888888888888888,\"#fdca26\"],[1.0,\"#f0f921\"]]}],\"contourcarpet\":[{\"type\":\"contourcarpet\",\"colorbar\":{\"outlinewidth\":0,\"ticks\":\"\"}}],\"contour\":[{\"type\":\"contour\",\"colorbar\":{\"outlinewidth\":0,\"ticks\":\"\"},\"colorscale\":[[0.0,\"#0d0887\"],[0.1111111111111111,\"#46039f\"],[0.2222222222222222,\"#7201a8\"],[0.3333333333333333,\"#9c179e\"],[0.4444444444444444,\"#bd3786\"],[0.5555555555555556,\"#d8576b\"],[0.6666666666666666,\"#ed7953\"],[0.7777777777777778,\"#fb9f3a\"],[0.8888888888888888,\"#fdca26\"],[1.0,\"#f0f921\"]]}],\"surface\":[{\"type\":\"surface\",\"colorbar\":{\"outlinewidth\":0,\"ticks\":\"\"},\"colorscale\":[[0.0,\"#0d0887\"],[0.1111111111111111,\"#46039f\"],[0.2222222222222222,\"#7201a8\"],[0.3333333333333333,\"#9c179e\"],[0.4444444444444444,\"#bd3786\"],[0.5555555555555556,\"#d8576b\"],[0.6666666666666666,\"#ed7953\"],[0.7777777777777778,\"#fb9f3a\"],[0.8888888888888888,\"#fdca26\"],[1.0,\"#f0f921\"]]}],\"mesh3d\":[{\"type\":\"mesh3d\",\"colorbar\":{\"outlinewidth\":0,\"ticks\":\"\"}}],\"scatter\":[{\"fillpattern\":{\"fillmode\":\"overlay\",\"size\":10,\"solidity\":0.2},\"type\":\"scatter\"}],\"parcoords\":[{\"type\":\"parcoords\",\"line\":{\"colorbar\":{\"outlinewidth\":0,\"ticks\":\"\"}}}],\"scatterpolargl\":[{\"type\":\"scatterpolargl\",\"marker\":{\"colorbar\":{\"outlinewidth\":0,\"ticks\":\"\"}}}],\"bar\":[{\"error_x\":{\"color\":\"#2a3f5f\"},\"error_y\":{\"color\":\"#2a3f5f\"},\"marker\":{\"line\":{\"color\":\"#E5ECF6\",\"width\":0.5},\"pattern\":{\"fillmode\":\"overlay\",\"size\":10,\"solidity\":0.2}},\"type\":\"bar\"}],\"scattergeo\":[{\"type\":\"scattergeo\",\"marker\":{\"colorbar\":{\"outlinewidth\":0,\"ticks\":\"\"}}}],\"scatterpolar\":[{\"type\":\"scatterpolar\",\"marker\":{\"colorbar\":{\"outlinewidth\":0,\"ticks\":\"\"}}}],\"histogram\":[{\"marker\":{\"pattern\":{\"fillmode\":\"overlay\",\"size\":10,\"solidity\":0.2}},\"type\":\"histogram\"}],\"scattergl\":[{\"type\":\"scattergl\",\"marker\":{\"colorbar\":{\"outlinewidth\":0,\"ticks\":\"\"}}}],\"scatter3d\":[{\"type\":\"scatter3d\",\"line\":{\"colorbar\":{\"outlinewidth\":0,\"ticks\":\"\"}},\"marker\":{\"colorbar\":{\"outlinewidth\":0,\"ticks\":\"\"}}}],\"scattermapbox\":[{\"type\":\"scattermapbox\",\"marker\":{\"colorbar\":{\"outlinewidth\":0,\"ticks\":\"\"}}}],\"scatterternary\":[{\"type\":\"scatterternary\",\"marker\":{\"colorbar\":{\"outlinewidth\":0,\"ticks\":\"\"}}}],\"scattercarpet\":[{\"type\":\"scattercarpet\",\"marker\":{\"colorbar\":{\"outlinewidth\":0,\"ticks\":\"\"}}}],\"carpet\":[{\"aaxis\":{\"endlinecolor\":\"#2a3f5f\",\"gridcolor\":\"white\",\"linecolor\":\"white\",\"minorgridcolor\":\"white\",\"startlinecolor\":\"#2a3f5f\"},\"baxis\":{\"endlinecolor\":\"#2a3f5f\",\"gridcolor\":\"white\",\"linecolor\":\"white\",\"minorgridcolor\":\"white\",\"startlinecolor\":\"#2a3f5f\"},\"type\":\"carpet\"}],\"table\":[{\"cells\":{\"fill\":{\"color\":\"#EBF0F8\"},\"line\":{\"color\":\"white\"}},\"header\":{\"fill\":{\"color\":\"#C8D4E3\"},\"line\":{\"color\":\"white\"}},\"type\":\"table\"}],\"barpolar\":[{\"marker\":{\"line\":{\"color\":\"#E5ECF6\",\"width\":0.5},\"pattern\":{\"fillmode\":\"overlay\",\"size\":10,\"solidity\":0.2}},\"type\":\"barpolar\"}],\"pie\":[{\"automargin\":true,\"type\":\"pie\"}]},\"layout\":{\"autotypenumbers\":\"strict\",\"colorway\":[\"#636efa\",\"#EF553B\",\"#00cc96\",\"#ab63fa\",\"#FFA15A\",\"#19d3f3\",\"#FF6692\",\"#B6E880\",\"#FF97FF\",\"#FECB52\"],\"font\":{\"color\":\"#2a3f5f\"},\"hovermode\":\"closest\",\"hoverlabel\":{\"align\":\"left\"},\"paper_bgcolor\":\"white\",\"plot_bgcolor\":\"#E5ECF6\",\"polar\":{\"bgcolor\":\"#E5ECF6\",\"angularaxis\":{\"gridcolor\":\"white\",\"linecolor\":\"white\",\"ticks\":\"\"},\"radialaxis\":{\"gridcolor\":\"white\",\"linecolor\":\"white\",\"ticks\":\"\"}},\"ternary\":{\"bgcolor\":\"#E5ECF6\",\"aaxis\":{\"gridcolor\":\"white\",\"linecolor\":\"white\",\"ticks\":\"\"},\"baxis\":{\"gridcolor\":\"white\",\"linecolor\":\"white\",\"ticks\":\"\"},\"caxis\":{\"gridcolor\":\"white\",\"linecolor\":\"white\",\"ticks\":\"\"}},\"coloraxis\":{\"colorbar\":{\"outlinewidth\":0,\"ticks\":\"\"}},\"colorscale\":{\"sequential\":[[0.0,\"#0d0887\"],[0.1111111111111111,\"#46039f\"],[0.2222222222222222,\"#7201a8\"],[0.3333333333333333,\"#9c179e\"],[0.4444444444444444,\"#bd3786\"],[0.5555555555555556,\"#d8576b\"],[0.6666666666666666,\"#ed7953\"],[0.7777777777777778,\"#fb9f3a\"],[0.8888888888888888,\"#fdca26\"],[1.0,\"#f0f921\"]],\"sequentialminus\":[[0.0,\"#0d0887\"],[0.1111111111111111,\"#46039f\"],[0.2222222222222222,\"#7201a8\"],[0.3333333333333333,\"#9c179e\"],[0.4444444444444444,\"#bd3786\"],[0.5555555555555556,\"#d8576b\"],[0.6666666666666666,\"#ed7953\"],[0.7777777777777778,\"#fb9f3a\"],[0.8888888888888888,\"#fdca26\"],[1.0,\"#f0f921\"]],\"diverging\":[[0,\"#8e0152\"],[0.1,\"#c51b7d\"],[0.2,\"#de77ae\"],[0.3,\"#f1b6da\"],[0.4,\"#fde0ef\"],[0.5,\"#f7f7f7\"],[0.6,\"#e6f5d0\"],[0.7,\"#b8e186\"],[0.8,\"#7fbc41\"],[0.9,\"#4d9221\"],[1,\"#276419\"]]},\"xaxis\":{\"gridcolor\":\"white\",\"linecolor\":\"white\",\"ticks\":\"\",\"title\":{\"standoff\":15},\"zerolinecolor\":\"white\",\"automargin\":true,\"zerolinewidth\":2},\"yaxis\":{\"gridcolor\":\"white\",\"linecolor\":\"white\",\"ticks\":\"\",\"title\":{\"standoff\":15},\"zerolinecolor\":\"white\",\"automargin\":true,\"zerolinewidth\":2},\"scene\":{\"xaxis\":{\"backgroundcolor\":\"#E5ECF6\",\"gridcolor\":\"white\",\"linecolor\":\"white\",\"showbackground\":true,\"ticks\":\"\",\"zerolinecolor\":\"white\",\"gridwidth\":2},\"yaxis\":{\"backgroundcolor\":\"#E5ECF6\",\"gridcolor\":\"white\",\"linecolor\":\"white\",\"showbackground\":true,\"ticks\":\"\",\"zerolinecolor\":\"white\",\"gridwidth\":2},\"zaxis\":{\"backgroundcolor\":\"#E5ECF6\",\"gridcolor\":\"white\",\"linecolor\":\"white\",\"showbackground\":true,\"ticks\":\"\",\"zerolinecolor\":\"white\",\"gridwidth\":2}},\"shapedefaults\":{\"line\":{\"color\":\"#2a3f5f\"}},\"annotationdefaults\":{\"arrowcolor\":\"#2a3f5f\",\"arrowhead\":0,\"arrowwidth\":1},\"geo\":{\"bgcolor\":\"white\",\"landcolor\":\"#E5ECF6\",\"subunitcolor\":\"white\",\"showland\":true,\"showlakes\":true,\"lakecolor\":\"white\"},\"title\":{\"x\":0.05},\"mapbox\":{\"style\":\"light\"}}},\"xaxis\":{\"anchor\":\"y\",\"domain\":[0.0,1.0],\"title\":{\"text\":\"index\"}},\"yaxis\":{\"anchor\":\"x\",\"domain\":[0.0,1.0],\"title\":{\"text\":\"value\"}},\"legend\":{\"title\":{\"text\":\"variable\"},\"tracegroupgap\":0},\"title\":{\"text\":\"Checkpoint Values for solu-6l-pile (Linear scale)\"}},                        {\"responsive\": true}                    ).then(function(){\n",
                            "                            \n",
                            "var gd = document.getElementById('440d9dd4-5051-445a-be32-9ad92e71921a');\n",
                            "var x = new MutationObserver(function (mutations, observer) {{\n",
                            "        var display = window.getComputedStyle(gd).display;\n",
                            "        if (!display || display === 'none') {{\n",
                            "            console.log([gd, 'removed!']);\n",
                            "            Plotly.purge(gd);\n",
                            "            observer.disconnect();\n",
                            "        }}\n",
                            "}});\n",
                            "\n",
                            "// Listen for the removal of the full notebook cells\n",
                            "var notebookContainer = gd.closest('#notebook-container');\n",
                            "if (notebookContainer) {{\n",
                            "    x.observe(notebookContainer, {childList: true});\n",
                            "}}\n",
                            "\n",
                            "// Listen for the clearing of the current output cell\n",
                            "var outputEl = gd.closest('.output');\n",
                            "if (outputEl) {{\n",
                            "    x.observe(outputEl, {childList: true});\n",
                            "}}\n",
                            "\n",
                            "                        })                };                            </script>        </div>\n",
                            "</body>\n",
                            "</html>"
                        ]
                    },
                    "metadata": {},
                    "output_type": "display_data"
                }
            ],
            "source": [
                "from transformer_lens.loading_from_pretrained import get_checkpoint_labels\n",
                "for model_name in [\"attn-only-2l\", \"solu-12l\", \"stanford-gpt2-small-a\"]:\n",
                "    checkpoint_labels, checkpoint_label_type = get_checkpoint_labels(model_name)\n",
                "    line(checkpoint_labels, xaxis=\"Checkpoint Index\", yaxis=f\"Checkpoint Value ({checkpoint_label_type})\", title=f\"Checkpoint Values for {model_name} (Log scale)\", log_y=True, markers=True)\n",
                "for model_name in [\"solu-1l-pile\", \"solu-6l-pile\"]:\n",
                "    checkpoint_labels, checkpoint_label_type = get_checkpoint_labels(model_name)\n",
                "    line(checkpoint_labels, xaxis=\"Checkpoint Index\", yaxis=f\"Checkpoint Value ({checkpoint_label_type})\", title=f\"Checkpoint Values for {model_name} (Linear scale)\", log_y=False, markers=True)"
            ]
        },
        {
            "cell_type": "markdown",
            "metadata": {},
            "source": [
                "### Example: Induction Head Phase Transition"
            ]
        },
        {
            "cell_type": "markdown",
            "metadata": {},
            "source": [
                "One of the more interesting results analysing circuit formation during training is the [induction head phase transition](https://transformer-circuits.pub/2022/in-context-learning-and-induction-heads/index.html). They find a pretty dramatic shift in models during training - there's a brief period where models go from not having induction heads to having them, which leads to the models suddenly becoming much better at in-context learning (using far back tokens to predict the next token, eg over 500 words back). This is enough of a big deal that it leads to a visible *bump* in the loss curve, where the model's rate of improvement briefly increases. "
            ]
        },
        {
            "cell_type": "markdown",
            "metadata": {},
            "source": [
                "As a brief demonstration of the existence of the phase transition, let's load some checkpoints of a two layer model, and see whether they have induction heads. An easy test, as we used above, is to give the model a repeated sequence of random tokens, and to check how good its loss is on the second half. `evals.induction_loss` is a rough util that runs this test on a model.\n",
                "(Note - this is deliberately a rough, non-rigorous test for the purposes of demonstration, eg `evals.induction_loss` by default just runs it on 4 sequences of 384 tokens repeated twice. These results totally don't do the paper justice - go check it out if you want to see the full results!)"
            ]
        },
        {
            "cell_type": "markdown",
            "metadata": {},
            "source": [
                "In the interests of time and memory, let's look at a handful of checkpoints (chosen to be around the phase change), indices `[10, 25, 35, 60, -1]`. These are roughly 22M, 200M, 500M, 1.6B and 21.8B tokens through training, respectively. (I generally recommend looking things up based on indices, rather than checkpoint value!). "
            ]
        },
        {
            "cell_type": "code",
            "execution_count": 57,
            "metadata": {},
            "outputs": [],
            "source": [
                "from transformer_lens import evals\n",
                "# We use the two layer model with SoLU activations, chosen fairly arbitrarily as being both small (so fast to download and keep in memory) and pretty good at the induction task.\n",
                "model_name = \"solu-2l\"\n",
                "# We can load a model from a checkpoint by specifying the checkpoint_index, -1 means the final checkpoint\n",
                "checkpoint_indices = [10, 25, 35, 60, -1]\n",
                "checkpointed_models = []\n",
                "tokens_trained_on = []\n",
                "induction_losses = []"
            ]
        },
        {
            "cell_type": "markdown",
            "metadata": {},
            "source": [
                "We load the models, cache them in a list, and "
            ]
        },
        {
            "cell_type": "code",
            "execution_count": 58,
            "metadata": {},
            "outputs": [
                {
                    "name": "stdout",
                    "output_type": "stream",
                    "text": [
                        "Loaded pretrained model solu-2l into HookedTransformer\n",
                        "Loaded pretrained model solu-2l into HookedTransformer\n",
                        "Loaded pretrained model solu-2l into HookedTransformer\n",
                        "Loaded pretrained model solu-2l into HookedTransformer\n",
                        "Loaded pretrained model solu-2l into HookedTransformer\n"
                    ]
                }
            ],
            "source": [
                "for index in checkpoint_indices:\n",
                "    # Load the model from the relevant checkpoint by index\n",
                "    model_for_this_checkpoint = HookedTransformer.from_pretrained(model_name, checkpoint_index=index)\n",
                "    checkpointed_models.append(model_for_this_checkpoint)\n",
                "\n",
                "    tokens_seen_for_this_checkpoint = model_for_this_checkpoint.cfg.checkpoint_value\n",
                "    tokens_trained_on.append(tokens_seen_for_this_checkpoint)\n",
                "\n",
                "    induction_loss_for_this_checkpoint = evals.induction_loss(model_for_this_checkpoint).item()\n",
                "    induction_losses.append(induction_loss_for_this_checkpoint)"
            ]
        },
        {
            "cell_type": "markdown",
            "metadata": {},
            "source": [
                "We can plot this, and see there's a sharp shift from ~200-500M tokens trained on (note the log scale on the x axis). Interestingly, this is notably earlier than the phase transition in the paper, I'm not sure what's up with that.\n",
                "\n",
                "(To contextualise the numbers, the tokens in the random sequence are uniformly chosen from the first 20,000 tokens (out of ~48,000 total), so random performance is at least $\\ln(20000)\\approx 10$. A naive strategy like \"randomly choose a token that's already appeared in the first half of the sequence (384 elements)\" would get $\\ln(384)\\approx 5.95$, so the model is doing pretty well here.)"
            ]
        },
        {
            "cell_type": "code",
            "execution_count": 59,
            "metadata": {},
            "outputs": [
                {
                    "data": {
                        "text/html": [
                            "<html>\n",
                            "<head><meta charset=\"utf-8\" /></head>\n",
                            "<body>\n",
                            "    <div>            <script src=\"https://cdnjs.cloudflare.com/ajax/libs/mathjax/2.7.5/MathJax.js?config=TeX-AMS-MML_SVG\"></script><script type=\"text/javascript\">if (window.MathJax && window.MathJax.Hub && window.MathJax.Hub.Config) {window.MathJax.Hub.Config({SVG: {font: \"STIX-Web\"}});}</script>                <script type=\"text/javascript\">window.PlotlyConfig = {MathJaxConfig: 'local'};</script>\n",
                            "        <script src=\"https://cdn.plot.ly/plotly-2.16.1.min.js\"></script>                <div id=\"6e70a192-5d22-459b-9b0e-f6d00be0bd1e\" class=\"plotly-graph-div\" style=\"height:525px; width:100%;\"></div>            <script type=\"text/javascript\">                                    window.PLOTLYENV=window.PLOTLYENV || {};                                    if (document.getElementById(\"6e70a192-5d22-459b-9b0e-f6d00be0bd1e\")) {                    Plotly.newPlot(                        \"6e70a192-5d22-459b-9b0e-f6d00be0bd1e\",                        [{\"hovertemplate\":\"Tokens Trained On=%{x}<br>index=%{y}<extra></extra>\",\"legendgroup\":\"\",\"line\":{\"color\":\"#636efa\",\"dash\":\"solid\"},\"marker\":{\"symbol\":\"circle\"},\"mode\":\"markers+lines\",\"name\":\"\",\"orientation\":\"h\",\"showlegend\":false,\"x\":[22282240,187432960,528482304,1628438528,21780496384],\"xaxis\":\"x\",\"y\":[0,1,2,3,4],\"yaxis\":\"y\",\"type\":\"scatter\"}],                        {\"template\":{\"data\":{\"histogram2dcontour\":[{\"type\":\"histogram2dcontour\",\"colorbar\":{\"outlinewidth\":0,\"ticks\":\"\"},\"colorscale\":[[0.0,\"#0d0887\"],[0.1111111111111111,\"#46039f\"],[0.2222222222222222,\"#7201a8\"],[0.3333333333333333,\"#9c179e\"],[0.4444444444444444,\"#bd3786\"],[0.5555555555555556,\"#d8576b\"],[0.6666666666666666,\"#ed7953\"],[0.7777777777777778,\"#fb9f3a\"],[0.8888888888888888,\"#fdca26\"],[1.0,\"#f0f921\"]]}],\"choropleth\":[{\"type\":\"choropleth\",\"colorbar\":{\"outlinewidth\":0,\"ticks\":\"\"}}],\"histogram2d\":[{\"type\":\"histogram2d\",\"colorbar\":{\"outlinewidth\":0,\"ticks\":\"\"},\"colorscale\":[[0.0,\"#0d0887\"],[0.1111111111111111,\"#46039f\"],[0.2222222222222222,\"#7201a8\"],[0.3333333333333333,\"#9c179e\"],[0.4444444444444444,\"#bd3786\"],[0.5555555555555556,\"#d8576b\"],[0.6666666666666666,\"#ed7953\"],[0.7777777777777778,\"#fb9f3a\"],[0.8888888888888888,\"#fdca26\"],[1.0,\"#f0f921\"]]}],\"heatmap\":[{\"type\":\"heatmap\",\"colorbar\":{\"outlinewidth\":0,\"ticks\":\"\"},\"colorscale\":[[0.0,\"#0d0887\"],[0.1111111111111111,\"#46039f\"],[0.2222222222222222,\"#7201a8\"],[0.3333333333333333,\"#9c179e\"],[0.4444444444444444,\"#bd3786\"],[0.5555555555555556,\"#d8576b\"],[0.6666666666666666,\"#ed7953\"],[0.7777777777777778,\"#fb9f3a\"],[0.8888888888888888,\"#fdca26\"],[1.0,\"#f0f921\"]]}],\"heatmapgl\":[{\"type\":\"heatmapgl\",\"colorbar\":{\"outlinewidth\":0,\"ticks\":\"\"},\"colorscale\":[[0.0,\"#0d0887\"],[0.1111111111111111,\"#46039f\"],[0.2222222222222222,\"#7201a8\"],[0.3333333333333333,\"#9c179e\"],[0.4444444444444444,\"#bd3786\"],[0.5555555555555556,\"#d8576b\"],[0.6666666666666666,\"#ed7953\"],[0.7777777777777778,\"#fb9f3a\"],[0.8888888888888888,\"#fdca26\"],[1.0,\"#f0f921\"]]}],\"contourcarpet\":[{\"type\":\"contourcarpet\",\"colorbar\":{\"outlinewidth\":0,\"ticks\":\"\"}}],\"contour\":[{\"type\":\"contour\",\"colorbar\":{\"outlinewidth\":0,\"ticks\":\"\"},\"colorscale\":[[0.0,\"#0d0887\"],[0.1111111111111111,\"#46039f\"],[0.2222222222222222,\"#7201a8\"],[0.3333333333333333,\"#9c179e\"],[0.4444444444444444,\"#bd3786\"],[0.5555555555555556,\"#d8576b\"],[0.6666666666666666,\"#ed7953\"],[0.7777777777777778,\"#fb9f3a\"],[0.8888888888888888,\"#fdca26\"],[1.0,\"#f0f921\"]]}],\"surface\":[{\"type\":\"surface\",\"colorbar\":{\"outlinewidth\":0,\"ticks\":\"\"},\"colorscale\":[[0.0,\"#0d0887\"],[0.1111111111111111,\"#46039f\"],[0.2222222222222222,\"#7201a8\"],[0.3333333333333333,\"#9c179e\"],[0.4444444444444444,\"#bd3786\"],[0.5555555555555556,\"#d8576b\"],[0.6666666666666666,\"#ed7953\"],[0.7777777777777778,\"#fb9f3a\"],[0.8888888888888888,\"#fdca26\"],[1.0,\"#f0f921\"]]}],\"mesh3d\":[{\"type\":\"mesh3d\",\"colorbar\":{\"outlinewidth\":0,\"ticks\":\"\"}}],\"scatter\":[{\"fillpattern\":{\"fillmode\":\"overlay\",\"size\":10,\"solidity\":0.2},\"type\":\"scatter\"}],\"parcoords\":[{\"type\":\"parcoords\",\"line\":{\"colorbar\":{\"outlinewidth\":0,\"ticks\":\"\"}}}],\"scatterpolargl\":[{\"type\":\"scatterpolargl\",\"marker\":{\"colorbar\":{\"outlinewidth\":0,\"ticks\":\"\"}}}],\"bar\":[{\"error_x\":{\"color\":\"#2a3f5f\"},\"error_y\":{\"color\":\"#2a3f5f\"},\"marker\":{\"line\":{\"color\":\"#E5ECF6\",\"width\":0.5},\"pattern\":{\"fillmode\":\"overlay\",\"size\":10,\"solidity\":0.2}},\"type\":\"bar\"}],\"scattergeo\":[{\"type\":\"scattergeo\",\"marker\":{\"colorbar\":{\"outlinewidth\":0,\"ticks\":\"\"}}}],\"scatterpolar\":[{\"type\":\"scatterpolar\",\"marker\":{\"colorbar\":{\"outlinewidth\":0,\"ticks\":\"\"}}}],\"histogram\":[{\"marker\":{\"pattern\":{\"fillmode\":\"overlay\",\"size\":10,\"solidity\":0.2}},\"type\":\"histogram\"}],\"scattergl\":[{\"type\":\"scattergl\",\"marker\":{\"colorbar\":{\"outlinewidth\":0,\"ticks\":\"\"}}}],\"scatter3d\":[{\"type\":\"scatter3d\",\"line\":{\"colorbar\":{\"outlinewidth\":0,\"ticks\":\"\"}},\"marker\":{\"colorbar\":{\"outlinewidth\":0,\"ticks\":\"\"}}}],\"scattermapbox\":[{\"type\":\"scattermapbox\",\"marker\":{\"colorbar\":{\"outlinewidth\":0,\"ticks\":\"\"}}}],\"scatterternary\":[{\"type\":\"scatterternary\",\"marker\":{\"colorbar\":{\"outlinewidth\":0,\"ticks\":\"\"}}}],\"scattercarpet\":[{\"type\":\"scattercarpet\",\"marker\":{\"colorbar\":{\"outlinewidth\":0,\"ticks\":\"\"}}}],\"carpet\":[{\"aaxis\":{\"endlinecolor\":\"#2a3f5f\",\"gridcolor\":\"white\",\"linecolor\":\"white\",\"minorgridcolor\":\"white\",\"startlinecolor\":\"#2a3f5f\"},\"baxis\":{\"endlinecolor\":\"#2a3f5f\",\"gridcolor\":\"white\",\"linecolor\":\"white\",\"minorgridcolor\":\"white\",\"startlinecolor\":\"#2a3f5f\"},\"type\":\"carpet\"}],\"table\":[{\"cells\":{\"fill\":{\"color\":\"#EBF0F8\"},\"line\":{\"color\":\"white\"}},\"header\":{\"fill\":{\"color\":\"#C8D4E3\"},\"line\":{\"color\":\"white\"}},\"type\":\"table\"}],\"barpolar\":[{\"marker\":{\"line\":{\"color\":\"#E5ECF6\",\"width\":0.5},\"pattern\":{\"fillmode\":\"overlay\",\"size\":10,\"solidity\":0.2}},\"type\":\"barpolar\"}],\"pie\":[{\"automargin\":true,\"type\":\"pie\"}]},\"layout\":{\"autotypenumbers\":\"strict\",\"colorway\":[\"#636efa\",\"#EF553B\",\"#00cc96\",\"#ab63fa\",\"#FFA15A\",\"#19d3f3\",\"#FF6692\",\"#B6E880\",\"#FF97FF\",\"#FECB52\"],\"font\":{\"color\":\"#2a3f5f\"},\"hovermode\":\"closest\",\"hoverlabel\":{\"align\":\"left\"},\"paper_bgcolor\":\"white\",\"plot_bgcolor\":\"#E5ECF6\",\"polar\":{\"bgcolor\":\"#E5ECF6\",\"angularaxis\":{\"gridcolor\":\"white\",\"linecolor\":\"white\",\"ticks\":\"\"},\"radialaxis\":{\"gridcolor\":\"white\",\"linecolor\":\"white\",\"ticks\":\"\"}},\"ternary\":{\"bgcolor\":\"#E5ECF6\",\"aaxis\":{\"gridcolor\":\"white\",\"linecolor\":\"white\",\"ticks\":\"\"},\"baxis\":{\"gridcolor\":\"white\",\"linecolor\":\"white\",\"ticks\":\"\"},\"caxis\":{\"gridcolor\":\"white\",\"linecolor\":\"white\",\"ticks\":\"\"}},\"coloraxis\":{\"colorbar\":{\"outlinewidth\":0,\"ticks\":\"\"}},\"colorscale\":{\"sequential\":[[0.0,\"#0d0887\"],[0.1111111111111111,\"#46039f\"],[0.2222222222222222,\"#7201a8\"],[0.3333333333333333,\"#9c179e\"],[0.4444444444444444,\"#bd3786\"],[0.5555555555555556,\"#d8576b\"],[0.6666666666666666,\"#ed7953\"],[0.7777777777777778,\"#fb9f3a\"],[0.8888888888888888,\"#fdca26\"],[1.0,\"#f0f921\"]],\"sequentialminus\":[[0.0,\"#0d0887\"],[0.1111111111111111,\"#46039f\"],[0.2222222222222222,\"#7201a8\"],[0.3333333333333333,\"#9c179e\"],[0.4444444444444444,\"#bd3786\"],[0.5555555555555556,\"#d8576b\"],[0.6666666666666666,\"#ed7953\"],[0.7777777777777778,\"#fb9f3a\"],[0.8888888888888888,\"#fdca26\"],[1.0,\"#f0f921\"]],\"diverging\":[[0,\"#8e0152\"],[0.1,\"#c51b7d\"],[0.2,\"#de77ae\"],[0.3,\"#f1b6da\"],[0.4,\"#fde0ef\"],[0.5,\"#f7f7f7\"],[0.6,\"#e6f5d0\"],[0.7,\"#b8e186\"],[0.8,\"#7fbc41\"],[0.9,\"#4d9221\"],[1,\"#276419\"]]},\"xaxis\":{\"gridcolor\":\"white\",\"linecolor\":\"white\",\"ticks\":\"\",\"title\":{\"standoff\":15},\"zerolinecolor\":\"white\",\"automargin\":true,\"zerolinewidth\":2},\"yaxis\":{\"gridcolor\":\"white\",\"linecolor\":\"white\",\"ticks\":\"\",\"title\":{\"standoff\":15},\"zerolinecolor\":\"white\",\"automargin\":true,\"zerolinewidth\":2},\"scene\":{\"xaxis\":{\"backgroundcolor\":\"#E5ECF6\",\"gridcolor\":\"white\",\"linecolor\":\"white\",\"showbackground\":true,\"ticks\":\"\",\"zerolinecolor\":\"white\",\"gridwidth\":2},\"yaxis\":{\"backgroundcolor\":\"#E5ECF6\",\"gridcolor\":\"white\",\"linecolor\":\"white\",\"showbackground\":true,\"ticks\":\"\",\"zerolinecolor\":\"white\",\"gridwidth\":2},\"zaxis\":{\"backgroundcolor\":\"#E5ECF6\",\"gridcolor\":\"white\",\"linecolor\":\"white\",\"showbackground\":true,\"ticks\":\"\",\"zerolinecolor\":\"white\",\"gridwidth\":2}},\"shapedefaults\":{\"line\":{\"color\":\"#2a3f5f\"}},\"annotationdefaults\":{\"arrowcolor\":\"#2a3f5f\",\"arrowhead\":0,\"arrowwidth\":1},\"geo\":{\"bgcolor\":\"white\",\"landcolor\":\"#E5ECF6\",\"subunitcolor\":\"white\",\"showland\":true,\"showlakes\":true,\"lakecolor\":\"white\"},\"title\":{\"x\":0.05},\"mapbox\":{\"style\":\"light\"}}},\"xaxis\":{\"anchor\":\"y\",\"domain\":[0.0,1.0],\"title\":{\"text\":\"Tokens Trained On\"},\"type\":\"log\"},\"yaxis\":{\"anchor\":\"x\",\"domain\":[0.0,1.0],\"title\":{\"text\":\"index\"}},\"legend\":{\"tracegroupgap\":0},\"title\":{\"text\":\"Induction Loss over training: solu-2l\"}},                        {\"responsive\": true}                    ).then(function(){\n",
                            "                            \n",
                            "var gd = document.getElementById('6e70a192-5d22-459b-9b0e-f6d00be0bd1e');\n",
                            "var x = new MutationObserver(function (mutations, observer) {{\n",
                            "        var display = window.getComputedStyle(gd).display;\n",
                            "        if (!display || display === 'none') {{\n",
                            "            console.log([gd, 'removed!']);\n",
                            "            Plotly.purge(gd);\n",
                            "            observer.disconnect();\n",
                            "        }}\n",
                            "}});\n",
                            "\n",
                            "// Listen for the removal of the full notebook cells\n",
                            "var notebookContainer = gd.closest('#notebook-container');\n",
                            "if (notebookContainer) {{\n",
                            "    x.observe(notebookContainer, {childList: true});\n",
                            "}}\n",
                            "\n",
                            "// Listen for the clearing of the current output cell\n",
                            "var outputEl = gd.closest('.output');\n",
                            "if (outputEl) {{\n",
                            "    x.observe(outputEl, {childList: true});\n",
                            "}}\n",
                            "\n",
                            "                        })                };                            </script>        </div>\n",
                            "</body>\n",
                            "</html>"
                        ]
                    },
                    "metadata": {},
                    "output_type": "display_data"
                }
            ],
            "source": [
                "line(induction_losses, x=tokens_trained_on, xaxis=\"Tokens Trained On\", yaxis=\"Induction Loss\", title=\"Induction Loss over training: solu-2l\", markers=True, log_x=True)"
            ]
        }
    ],
    "metadata": {
        "kernelspec": {
            "display_name": "Python 3.7.13 ('base')",
            "language": "python",
            "name": "python3"
        },
        "language_info": {
            "codemirror_mode": {
                "name": "ipython",
                "version": 3
            },
            "file_extension": ".py",
            "mimetype": "text/x-python",
            "name": "python",
            "nbconvert_exporter": "python",
            "pygments_lexer": "ipython3",
            "version": "3.7.13 (default, Mar 29 2022, 02:18:16) \n[GCC 7.5.0]"
        },
        "orig_nbformat": 4,
        "vscode": {
            "interpreter": {
                "hash": "d4d1e4263499bec80672ea0156c357c1ee493ec2b1c70f0acce89fc37c4a6abe"
            }
        }
    },
    "nbformat": 4,
    "nbformat_minor": 2
}
