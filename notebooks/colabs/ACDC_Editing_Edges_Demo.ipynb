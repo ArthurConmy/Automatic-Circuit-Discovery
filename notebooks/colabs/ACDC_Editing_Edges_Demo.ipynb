{
 "cells": [
  {
   "attachments": {},
   "cell_type": "markdown",
   "id": "35a19790",
   "metadata": {
    "papermill": {
     "duration": 0.003862,
     "end_time": "2023-07-23T01:22:27.723402",
     "exception": false,
     "start_time": "2023-07-23T01:22:27.719540",
     "status": "completed"
    },
    "tags": []
   },
   "source": [
    "<h1>ACDC Editing Edges Demo</h1>\n",
    "\n",
    "<p>This notebook gives a high-level overview of the main abstractions used in the ACDC codebase.</p>\n",
    "\n",
    "<p>If you are interested in models that are >=1B parameters, this library currently may be too slow and we would recommend you look at the path patching implementations in `TransformerLens` (for example, see <a href=\"https://colab.research.google.com/drive/15CJ1WAf8AWm6emI3t2nVfnO85-hxwyJU\">this</a> notebook)</p>\n",
    "\n",
    "<h3>Setup</h2>\n",
    "\n",
    "<p>Janky code to do different setup when run in a Colab notebook vs VSCode (adapted from e.g <a href=\"https://github.com/neelnanda-io/TransformerLens/blob/5c89b7583e73ce96db5e46ef86a14b15f303dde6/demos/Activation_Patching_in_TL_Demo.ipynb\">this notebook</a>)</p>\n",
    "\n",
    "<p>You can ignore warnings that \"packages were previously imported in this runtime\"</p>"
   ]
  },
  {
   "cell_type": "code",
   "execution_count": 1,
   "id": "2a685a0c",
   "metadata": {
    "execution": {
     "iopub.execute_input": "2023-07-23T01:22:27.738923Z",
     "iopub.status.busy": "2023-07-23T01:22:27.738314Z",
     "iopub.status.idle": "2023-07-23T01:22:28.092353Z",
     "shell.execute_reply": "2023-07-23T01:22:28.091803Z"
    },
    "papermill": {
     "duration": 0.362344,
     "end_time": "2023-07-23T01:22:28.094061",
     "exception": false,
     "start_time": "2023-07-23T01:22:27.731717",
     "status": "completed"
    },
    "tags": []
   },
   "outputs": [
    {
     "name": "stdout",
     "output_type": "stream",
     "text": [
      "Running outside of Colab notebook\n"
     ]
    },
    {
     "name": "stdout",
     "output_type": "stream",
     "text": [
      "Running as a notebook\n"
     ]
    }
   ],
   "source": [
    "\n",
    "try:\n",
    "    import google.colab\n",
    "\n",
    "    IN_COLAB = True\n",
    "    print(\"Running as a Colab notebook\")\n",
    "\n",
    "    import subprocess # to install graphviz dependencies\n",
    "    command = ['apt-get', 'install', 'graphviz-dev']\n",
    "    subprocess.run(command, check=True)\n",
    "\n",
    "    from IPython import get_ipython\n",
    "    ipython = get_ipython()\n",
    "\n",
    "    ipython.run_line_magic( # install ACDC\n",
    "        \"pip\",\n",
    "        \"install git+https://github.com/ArthurConmy/Automatic-Circuit-Discovery.git@2cc2d6d71416bddd3a88f287ffccfc0863ac8ddc\",\n",
    "    )\n",
    "\n",
    "except Exception as e:\n",
    "    IN_COLAB = False\n",
    "    print(\"Running outside of Colab notebook\")\n",
    "\n",
    "    import numpy # crucial to not get cursed error\n",
    "    import plotly\n",
    "\n",
    "    plotly.io.renderers.default = \"colab\"  # added by Arthur so running as a .py notebook with #%% generates .ipynb notebooks that display in colab\n",
    "    # disable this option when developing rather than generating notebook outputs\n",
    "\n",
    "    from IPython import get_ipython\n",
    "\n",
    "    ipython = get_ipython()\n",
    "    if ipython is not None:\n",
    "        print(\"Running as a notebook\")\n",
    "        ipython.run_line_magic(\"load_ext\", \"autoreload\")  # type: ignore\n",
    "        ipython.run_line_magic(\"autoreload\", \"2\")  # type: ignore\n",
    "    else:\n",
    "        print(\"Running as a .py script\")"
   ]
  },
  {
   "attachments": {},
   "cell_type": "markdown",
   "id": "00e51581",
   "metadata": {
    "papermill": {
     "duration": 0.006579,
     "end_time": "2023-07-23T01:22:28.106754",
     "exception": false,
     "start_time": "2023-07-23T01:22:28.100175",
     "status": "completed"
    },
    "tags": []
   },
   "source": [
    "<h2>Imports etc</h2>"
   ]
  },
  {
   "cell_type": "code",
   "execution_count": 2,
   "id": "13e9ed67",
   "metadata": {
    "execution": {
     "iopub.execute_input": "2023-07-23T01:22:28.120364Z",
     "iopub.status.busy": "2023-07-23T01:22:28.119751Z",
     "iopub.status.idle": "2023-07-23T01:22:31.762769Z",
     "shell.execute_reply": "2023-07-23T01:22:31.762151Z"
    },
    "papermill": {
     "duration": 3.65107,
     "end_time": "2023-07-23T01:22:31.765487",
     "exception": false,
     "start_time": "2023-07-23T01:22:28.114417",
     "status": "completed"
    },
    "tags": []
   },
   "outputs": [],
   "source": [
    "\n",
    "from transformer_lens.HookedTransformer import HookedTransformer\n",
    "from acdc.TLACDCExperiment import TLACDCExperiment\n",
    "from acdc.induction.utils import get_all_induction_things\n",
    "from acdc.acdc_utils import TorchIndex\n",
    "import torch\n",
    "import gc"
   ]
  },
  {
   "attachments": {},
   "cell_type": "markdown",
   "id": "e7b9cea9",
   "metadata": {
    "papermill": {
     "duration": 0.003722,
     "end_time": "2023-07-23T01:22:31.776977",
     "exception": false,
     "start_time": "2023-07-23T01:22:31.773255",
     "status": "completed"
    },
    "tags": []
   },
   "source": [
    "<h2>Load in the model and data for the induction task"
   ]
  },
  {
   "cell_type": "code",
   "execution_count": 3,
   "id": "6c0149d3",
   "metadata": {
    "execution": {
     "iopub.execute_input": "2023-07-23T01:22:31.785634Z",
     "iopub.status.busy": "2023-07-23T01:22:31.784917Z",
     "iopub.status.idle": "2023-07-23T01:22:34.067777Z",
     "shell.execute_reply": "2023-07-23T01:22:34.066819Z"
    },
    "papermill": {
     "duration": 2.29022,
     "end_time": "2023-07-23T01:22:34.070539",
     "exception": false,
     "start_time": "2023-07-23T01:22:31.780319",
     "status": "completed"
    },
    "tags": []
   },
   "outputs": [
    {
     "name": "stderr",
     "output_type": "stream",
     "text": [
      "Special tokens have been added in the vocabulary, make sure the associated word embeddings are fine-tuned or trained.\n"
     ]
    },
    {
     "name": "stdout",
     "output_type": "stream",
     "text": [
      "Loaded pretrained model redwood_attn_2l into HookedTransformer\n"
     ]
    }
   ],
   "source": [
    "DEVICE = \"cuda\" if torch.cuda.is_available() else \"cpu\"\n",
    "num_examples = 40\n",
    "seq_len = 50\n",
    "\n",
    "# load in a tl_model and grab some data\n",
    "all_induction_things = get_all_induction_things(\n",
    "    num_examples=num_examples,\n",
    "    seq_len=seq_len,\n",
    "    device=DEVICE,\n",
    ")\n",
    "\n",
    "tl_model, toks_int_values, toks_int_values_other, metric, mask_rep = (\n",
    "    all_induction_things.tl_model,\n",
    "    all_induction_things.validation_data,\n",
    "    all_induction_things.validation_patch_data,\n",
    "    all_induction_things.validation_metric,\n",
    "    all_induction_things.validation_mask,\n",
    ")\n",
    "\n",
    "# You should read the get_model function from that file to see what the tl_model is : )"
   ]
  },
  {
   "attachments": {},
   "cell_type": "markdown",
   "id": "9ac8f054",
   "metadata": {
    "papermill": {
     "duration": 0.003808,
     "end_time": "2023-07-23T01:22:34.082608",
     "exception": false,
     "start_time": "2023-07-23T01:22:34.078800",
     "status": "completed"
    },
    "tags": []
   },
   "source": [
    "<p>Ensure we stay under mem limit on small machines</p>"
   ]
  },
  {
   "cell_type": "code",
   "execution_count": 4,
   "id": "adf638e5",
   "metadata": {
    "execution": {
     "iopub.execute_input": "2023-07-23T01:22:34.091990Z",
     "iopub.status.busy": "2023-07-23T01:22:34.091506Z",
     "iopub.status.idle": "2023-07-23T01:22:34.248216Z",
     "shell.execute_reply": "2023-07-23T01:22:34.246958Z"
    },
    "papermill": {
     "duration": 0.164775,
     "end_time": "2023-07-23T01:22:34.250865",
     "exception": false,
     "start_time": "2023-07-23T01:22:34.086090",
     "status": "completed"
    },
    "tags": []
   },
   "outputs": [],
   "source": [
    "gc.collect()\n",
    "torch.cuda.empty_cache()"
   ]
  },
  {
   "attachments": {},
   "cell_type": "markdown",
   "id": "d888ffa2",
   "metadata": {
    "papermill": {
     "duration": 0.00475,
     "end_time": "2023-07-23T01:22:34.262740",
     "exception": false,
     "start_time": "2023-07-23T01:22:34.257990",
     "status": "completed"
    },
    "tags": []
   },
   "source": [
    "<p>Let's see an example from the dataset.</p>\n",
    "<p> `|` separates tokens </p>"
   ]
  },
  {
   "cell_type": "code",
   "execution_count": 5,
   "id": "2b666344",
   "metadata": {
    "execution": {
     "iopub.execute_input": "2023-07-23T01:22:34.301425Z",
     "iopub.status.busy": "2023-07-23T01:22:34.300925Z",
     "iopub.status.idle": "2023-07-23T01:22:34.338744Z",
     "shell.execute_reply": "2023-07-23T01:22:34.337795Z"
    },
    "papermill": {
     "duration": 0.044932,
     "end_time": "2023-07-23T01:22:34.340976",
     "exception": false,
     "start_time": "2023-07-23T01:22:34.296044",
     "status": "completed"
    },
    "tags": []
   },
   "outputs": [
    {
     "name": "stdout",
     "output_type": "stream",
     "text": [
      "[END]| State|ful| comput|ations| in| F|#| with| update| mon|ads|\n",
      "|\n",
      "|Most| discussions| about| mon|ads|,| even| in| F|#|,| start| by| looking| at| the| well|-|known| standard| mon|ads\n"
     ]
    }
   ],
   "source": [
    "EXAMPLE_NO = 33\n",
    "EXAMPLE_LENGTH = 36\n",
    "\n",
    "print(\n",
    "    \"|\".join(tl_model.to_str_tokens(toks_int_values[EXAMPLE_NO, :EXAMPLE_LENGTH])),\n",
    ")"
   ]
  },
  {
   "attachments": {},
   "cell_type": "markdown",
   "id": "6a4f880c",
   "metadata": {
    "papermill": {
     "duration": 0.003605,
     "end_time": "2023-07-23T01:22:34.351777",
     "exception": false,
     "start_time": "2023-07-23T01:22:34.348172",
     "status": "completed"
    },
    "tags": []
   },
   "source": [
    "<p>This dataset has several examples of induction! F -> #, mon -> ads</p>\n",
    "<p>The `mask_rep` mask is a boolean mask of shape `(num_examples, seq_len)` that indicates where induction is present in the dataset</p>\n",
    "<p> Let's see "
   ]
  },
  {
   "cell_type": "code",
   "execution_count": 6,
   "id": "54ee8eac",
   "metadata": {
    "execution": {
     "iopub.execute_input": "2023-07-23T01:22:34.360592Z",
     "iopub.status.busy": "2023-07-23T01:22:34.360117Z",
     "iopub.status.idle": "2023-07-23T01:22:34.403726Z",
     "shell.execute_reply": "2023-07-23T01:22:34.402951Z"
    },
    "lines_to_next_cell": 1,
    "papermill": {
     "duration": 0.050558,
     "end_time": "2023-07-23T01:22:34.405867",
     "exception": false,
     "start_time": "2023-07-23T01:22:34.355309",
     "status": "completed"
    },
    "tags": []
   },
   "outputs": [
    {
     "name": "stdout",
     "output_type": "stream",
     "text": [
      "At position 17 there is induction\n",
      "[' mon']\n",
      "At position 22 there is induction\n",
      "[' F']\n",
      "At position 34 there is induction\n",
      "[' mon']\n"
     ]
    }
   ],
   "source": [
    "for i in range(EXAMPLE_LENGTH):\n",
    "    if mask_rep[EXAMPLE_NO, i]:\n",
    "        print(f\"At position {i} there is induction\")\n",
    "        print(tl_model.to_str_tokens(toks_int_values[EXAMPLE_NO:EXAMPLE_NO+1, i : i + 1]))"
   ]
  },
  {
   "attachments": {},
   "cell_type": "markdown",
   "id": "50c52e58",
   "metadata": {
    "papermill": {
     "duration": 0.003733,
     "end_time": "2023-07-23T01:22:34.416677",
     "exception": false,
     "start_time": "2023-07-23T01:22:34.412944",
     "status": "completed"
    },
    "tags": []
   },
   "source": [
    "<p>Let's get the initial loss on the induction examples</p>"
   ]
  },
  {
   "cell_type": "code",
   "execution_count": 7,
   "id": "f61fd8ce",
   "metadata": {
    "execution": {
     "iopub.execute_input": "2023-07-23T01:22:34.425892Z",
     "iopub.status.busy": "2023-07-23T01:22:34.425306Z",
     "iopub.status.idle": "2023-07-23T01:22:34.480616Z",
     "shell.execute_reply": "2023-07-23T01:22:34.479906Z"
    },
    "papermill": {
     "duration": 0.062602,
     "end_time": "2023-07-23T01:22:34.482928",
     "exception": false,
     "start_time": "2023-07-23T01:22:34.420326",
     "status": "completed"
    },
    "tags": []
   },
   "outputs": [
    {
     "name": "stdout",
     "output_type": "stream",
     "text": [
      "Loss: 0.44509872794151306\n"
     ]
    }
   ],
   "source": [
    "def get_loss(model, data, mask):\n",
    "    loss = model(\n",
    "        data,\n",
    "        return_type=\"loss\",\n",
    "        loss_per_token=True,\n",
    "    )\n",
    "    return (loss * mask[:, :-1].int()).sum() / mask[:, :-1].int().sum()\n",
    "\n",
    "\n",
    "print(f\"Loss: {get_loss(tl_model, toks_int_values, mask_rep)}\")"
   ]
  },
  {
   "attachments": {},
   "cell_type": "markdown",
   "id": "0c935b1e",
   "metadata": {
    "papermill": {
     "duration": 0.004908,
     "end_time": "2023-07-23T01:22:34.493304",
     "exception": false,
     "start_time": "2023-07-23T01:22:34.488396",
     "status": "completed"
    },
    "tags": []
   },
   "source": [
    "<p>We will now wrap ACDC things inside an `experiment`for further experiments</p>\n",
    "<p>For more advanced usage of the `TLACDCExperiment` object (the main object in this codebase), see the README for links to the `main.py` and its demos</p>"
   ]
  },
  {
   "cell_type": "code",
   "execution_count": 8,
   "id": "9ab210d1",
   "metadata": {
    "execution": {
     "iopub.execute_input": "2023-07-23T01:22:34.502529Z",
     "iopub.status.busy": "2023-07-23T01:22:34.502092Z",
     "iopub.status.idle": "2023-07-23T01:22:37.192804Z",
     "shell.execute_reply": "2023-07-23T01:22:37.191890Z"
    },
    "papermill": {
     "duration": 2.698701,
     "end_time": "2023-07-23T01:22:37.195945",
     "exception": false,
     "start_time": "2023-07-23T01:22:34.497244",
     "status": "completed"
    },
    "tags": []
   },
   "outputs": [
    {
     "name": "stderr",
     "output_type": "stream",
     "text": [
      "WARNING:root:cache_all is deprecated and will eventually be removed, use add_caching_hooks or run_with_cache\n"
     ]
    },
    {
     "name": "stderr",
     "output_type": "stream",
     "text": [
      "WARNING:root:cache_all is deprecated and will eventually be removed, use add_caching_hooks or run_with_cache\n"
     ]
    },
    {
     "name": "stdout",
     "output_type": "stream",
     "text": [
      "ln_final.hook_normalized\n",
      "ln_final.hook_scale\n",
      "blocks.1.hook_resid_post\n",
      "blocks.1.hook_attn_out\n",
      "blocks.1.attn.hook_result\n",
      "blocks.1.attn.hook_z\n",
      "blocks.1.attn.hook_pattern\n",
      "blocks.1.attn.hook_attn_scores\n",
      "blocks.1.attn.hook_v\n",
      "blocks.1.attn.hook_k\n",
      "blocks.1.attn.hook_q\n",
      "blocks.1.ln1.hook_normalized\n",
      "blocks.1.ln1.hook_scale\n",
      "blocks.1.hook_v_input\n",
      "blocks.1.hook_k_input\n",
      "blocks.1.hook_q_input\n",
      "blocks.1.hook_resid_pre\n",
      "blocks.0.hook_resid_post\n",
      "blocks.0.hook_attn_out\n",
      "blocks.0.attn.hook_result\n",
      "blocks.0.attn.hook_z\n",
      "blocks.0.attn.hook_pattern\n",
      "blocks.0.attn.hook_attn_scores\n",
      "blocks.0.attn.hook_v\n",
      "blocks.0.attn.hook_k\n",
      "blocks.0.attn.hook_q\n",
      "blocks.0.ln1.hook_normalized\n",
      "blocks.0.ln1.hook_scale\n",
      "blocks.0.hook_v_input\n",
      "blocks.0.hook_k_input\n",
      "blocks.0.hook_q_input\n",
      "blocks.0.hook_resid_pre\n",
      "hook_pos_embed\n",
      "hook_embed\n",
      "self.current_node=TLACDCInterpNode(blocks.1.hook_resid_post, [:])\n"
     ]
    }
   ],
   "source": [
    "experiment = TLACDCExperiment(\n",
    "    model=tl_model,\n",
    "    threshold=0.0,\n",
    "    ds=toks_int_values,\n",
    "    ref_ds=None,  # This argument is the corrupted dataset from the ACDC paper. We're going to do zero ablation here so we omit this\n",
    "    metric=metric,\n",
    "    zero_ablation=True,\n",
    "    hook_verbose=False,\n",
    ")"
   ]
  },
  {
   "attachments": {},
   "cell_type": "markdown",
   "id": "3bcec5a6",
   "metadata": {
    "papermill": {
     "duration": 0.008099,
     "end_time": "2023-07-23T01:22:37.213060",
     "exception": false,
     "start_time": "2023-07-23T01:22:37.204961",
     "status": "completed"
    },
    "tags": []
   },
   "source": [
    "\n",
    "<p>Usually, the `TLACDCExperiment` efficiently add hooks to the model in order to do ACDC runs fast.</p>\n",
    "<p>For this tutorial, we'll add <b>ALL</b> the hooks so you can edit connections in the model as easily as possible.</p>"
   ]
  },
  {
   "cell_type": "code",
   "execution_count": 9,
   "id": "2d41faa7",
   "metadata": {
    "execution": {
     "iopub.execute_input": "2023-07-23T01:22:37.230925Z",
     "iopub.status.busy": "2023-07-23T01:22:37.230432Z",
     "iopub.status.idle": "2023-07-23T01:22:37.273315Z",
     "shell.execute_reply": "2023-07-23T01:22:37.272514Z"
    },
    "papermill": {
     "duration": 0.05383,
     "end_time": "2023-07-23T01:22:37.275688",
     "exception": false,
     "start_time": "2023-07-23T01:22:37.221858",
     "status": "completed"
    },
    "tags": []
   },
   "outputs": [],
   "source": [
    "experiment.model.reset_hooks()\n",
    "experiment.setup_model_hooks(\n",
    "    add_sender_hooks=True,\n",
    "    add_receiver_hooks=True,\n",
    "    doing_acdc_runs=False,\n",
    ")"
   ]
  },
  {
   "attachments": {},
   "cell_type": "markdown",
   "id": "0c9fdea6",
   "metadata": {
    "papermill": {
     "duration": 0.004044,
     "end_time": "2023-07-23T01:22:37.288393",
     "exception": false,
     "start_time": "2023-07-23T01:22:37.284349",
     "status": "completed"
    },
    "tags": []
   },
   "source": [
    "Let's take a look at the edges"
   ]
  },
  {
   "cell_type": "code",
   "execution_count": 10,
   "id": "70caf81b",
   "metadata": {
    "execution": {
     "iopub.execute_input": "2023-07-23T01:22:37.297255Z",
     "iopub.status.busy": "2023-07-23T01:22:37.297080Z",
     "iopub.status.idle": "2023-07-23T01:22:37.328712Z",
     "shell.execute_reply": "2023-07-23T01:22:37.327899Z"
    },
    "lines_to_next_cell": 1,
    "papermill": {
     "duration": 0.038641,
     "end_time": "2023-07-23T01:22:37.330998",
     "exception": false,
     "start_time": "2023-07-23T01:22:37.292357",
     "status": "completed"
    },
    "tags": []
   },
   "outputs": [],
   "source": [
    "for edge_indices, edge in experiment.corr.all_edges().items():\n",
    "    # here's what's inside the edge\n",
    "    receiver_name, receiver_index, sender_name, sender_index = edge_indices\n",
    "\n",
    "    # for now, all edges should be present\n",
    "    assert edge.present, edge_indices"
   ]
  },
  {
   "attachments": {},
   "cell_type": "markdown",
   "id": "18019e6a",
   "metadata": {
    "papermill": {
     "duration": 0.014633,
     "end_time": "2023-07-23T01:22:37.353302",
     "exception": false,
     "start_time": "2023-07-23T01:22:37.338669",
     "status": "completed"
    },
    "tags": []
   },
   "source": [
    "<p>Let's make a function that's able to turn off all the connections from the nodes to the output, except the induction head (1.5 and 1.6)</p>\n",
    "<p>(we'll later turn ON all connections EXCEPT the induction heads)</p>"
   ]
  },
  {
   "cell_type": "code",
   "execution_count": 11,
   "id": "289e74ae",
   "metadata": {
    "execution": {
     "iopub.execute_input": "2023-07-23T01:22:37.368258Z",
     "iopub.status.busy": "2023-07-23T01:22:37.367409Z",
     "iopub.status.idle": "2023-07-23T01:22:39.099509Z",
     "shell.execute_reply": "2023-07-23T01:22:39.098757Z"
    },
    "papermill": {
     "duration": 1.740206,
     "end_time": "2023-07-23T01:22:39.101213",
     "exception": false,
     "start_time": "2023-07-23T01:22:37.361007",
     "status": "completed"
    },
    "tags": []
   },
   "outputs": [
    {
     "name": "stdout",
     "output_type": "stream",
     "text": [
      "Adding edge from blocks.1.attn.hook_result [:, :, 7] to blocks.1.hook_resid_post [:]\n",
      "Removing edge from blocks.1.attn.hook_result [:, :, 6] to blocks.1.hook_resid_post [:]\n",
      "Removing edge from blocks.1.attn.hook_result [:, :, 5] to blocks.1.hook_resid_post [:]\n",
      "Adding edge from blocks.1.attn.hook_result [:, :, 4] to blocks.1.hook_resid_post [:]\n",
      "Adding edge from blocks.1.attn.hook_result [:, :, 3] to blocks.1.hook_resid_post [:]\n",
      "Adding edge from blocks.1.attn.hook_result [:, :, 2] to blocks.1.hook_resid_post [:]\n",
      "Adding edge from blocks.1.attn.hook_result [:, :, 1] to blocks.1.hook_resid_post [:]\n",
      "Adding edge from blocks.1.attn.hook_result [:, :, 0] to blocks.1.hook_resid_post [:]\n",
      "Adding edge from blocks.0.attn.hook_result [:, :, 7] to blocks.1.hook_resid_post [:]\n",
      "Adding edge from blocks.0.attn.hook_result [:, :, 6] to blocks.1.hook_resid_post [:]\n",
      "Adding edge from blocks.0.attn.hook_result [:, :, 5] to blocks.1.hook_resid_post [:]\n",
      "Adding edge from blocks.0.attn.hook_result [:, :, 4] to blocks.1.hook_resid_post [:]\n",
      "Adding edge from blocks.0.attn.hook_result [:, :, 3] to blocks.1.hook_resid_post [:]\n",
      "Adding edge from blocks.0.attn.hook_result [:, :, 2] to blocks.1.hook_resid_post [:]\n",
      "Adding edge from blocks.0.attn.hook_result [:, :, 1] to blocks.1.hook_resid_post [:]\n",
      "Adding edge from blocks.0.attn.hook_result [:, :, 0] to blocks.1.hook_resid_post [:]\n",
      "Adding edge from blocks.0.hook_resid_pre [:] to blocks.1.hook_resid_post [:]\n"
     ]
    },
    {
     "name": "stdout",
     "output_type": "stream",
     "text": [
      "Loss with only the induction head direct connections: 0.6503179669380188\n"
     ]
    }
   ],
   "source": [
    "def change_direct_output_connections(exp, invert=False):\n",
    "    residual_stream_end_name = \"blocks.1.hook_resid_post\"\n",
    "    residual_stream_end_index = TorchIndex([None])\n",
    "    induction_heads = [\n",
    "        (\"blocks.1.attn.hook_result\", TorchIndex([None, None, 5])),\n",
    "        (\"blocks.1.attn.hook_result\", TorchIndex([None, None, 6])),\n",
    "    ]\n",
    "\n",
    "    inputs_to_residual_stream_end = exp.corr.edges[residual_stream_end_name][\n",
    "        residual_stream_end_index\n",
    "    ]\n",
    "    for sender_name in inputs_to_residual_stream_end:\n",
    "        for sender_index in inputs_to_residual_stream_end[sender_name]:\n",
    "            edge = inputs_to_residual_stream_end[sender_name][sender_index]\n",
    "            is_induction_head = (sender_name, sender_index) in induction_heads\n",
    "\n",
    "            if is_induction_head:\n",
    "                edge.present = not invert\n",
    "\n",
    "            else:\n",
    "                edge.present = invert\n",
    "\n",
    "            print(\n",
    "                f\"{'Adding' if (invert == is_induction_head) else 'Removing'} edge from {sender_name} {sender_index} to {residual_stream_end_name} {residual_stream_end_index}\"\n",
    "            )\n",
    "\n",
    "\n",
    "change_direct_output_connections(experiment)\n",
    "print(\n",
    "    \"Loss with only the induction head direct connections:\",\n",
    "    get_loss(experiment.model, toks_int_values, mask_rep).item(),\n",
    ")"
   ]
  },
  {
   "attachments": {},
   "cell_type": "markdown",
   "id": "e208d127",
   "metadata": {
    "papermill": {
     "duration": 0.006274,
     "end_time": "2023-07-23T01:22:39.114533",
     "exception": false,
     "start_time": "2023-07-23T01:22:39.108259",
     "status": "completed"
    },
    "tags": []
   },
   "source": [
    "<p>Let's turn ON all the connections EXCEPT the induction heads</p>"
   ]
  },
  {
   "cell_type": "code",
   "execution_count": 12,
   "id": "196ce2a2",
   "metadata": {
    "execution": {
     "iopub.execute_input": "2023-07-23T01:22:39.129019Z",
     "iopub.status.busy": "2023-07-23T01:22:39.128672Z",
     "iopub.status.idle": "2023-07-23T01:22:40.758276Z",
     "shell.execute_reply": "2023-07-23T01:22:40.757315Z"
    },
    "papermill": {
     "duration": 1.639407,
     "end_time": "2023-07-23T01:22:40.760604",
     "exception": false,
     "start_time": "2023-07-23T01:22:39.121197",
     "status": "completed"
    },
    "tags": []
   },
   "outputs": [
    {
     "name": "stdout",
     "output_type": "stream",
     "text": [
      "Removing edge from blocks.1.attn.hook_result [:, :, 7] to blocks.1.hook_resid_post [:]\n",
      "Adding edge from blocks.1.attn.hook_result [:, :, 6] to blocks.1.hook_resid_post [:]\n",
      "Adding edge from blocks.1.attn.hook_result [:, :, 5] to blocks.1.hook_resid_post [:]\n",
      "Removing edge from blocks.1.attn.hook_result [:, :, 4] to blocks.1.hook_resid_post [:]\n",
      "Removing edge from blocks.1.attn.hook_result [:, :, 3] to blocks.1.hook_resid_post [:]\n",
      "Removing edge from blocks.1.attn.hook_result [:, :, 2] to blocks.1.hook_resid_post [:]\n",
      "Removing edge from blocks.1.attn.hook_result [:, :, 1] to blocks.1.hook_resid_post [:]\n",
      "Removing edge from blocks.1.attn.hook_result [:, :, 0] to blocks.1.hook_resid_post [:]\n",
      "Removing edge from blocks.0.attn.hook_result [:, :, 7] to blocks.1.hook_resid_post [:]\n",
      "Removing edge from blocks.0.attn.hook_result [:, :, 6] to blocks.1.hook_resid_post [:]\n",
      "Removing edge from blocks.0.attn.hook_result [:, :, 5] to blocks.1.hook_resid_post [:]\n",
      "Removing edge from blocks.0.attn.hook_result [:, :, 4] to blocks.1.hook_resid_post [:]\n",
      "Removing edge from blocks.0.attn.hook_result [:, :, 3] to blocks.1.hook_resid_post [:]\n",
      "Removing edge from blocks.0.attn.hook_result [:, :, 2] to blocks.1.hook_resid_post [:]\n",
      "Removing edge from blocks.0.attn.hook_result [:, :, 1] to blocks.1.hook_resid_post [:]\n",
      "Removing edge from blocks.0.attn.hook_result [:, :, 0] to blocks.1.hook_resid_post [:]\n",
      "Removing edge from blocks.0.hook_resid_pre [:] to blocks.1.hook_resid_post [:]\n"
     ]
    },
    {
     "name": "stdout",
     "output_type": "stream",
     "text": [
      "Loss without the induction head direct connections: 4.579229354858398\n"
     ]
    }
   ],
   "source": [
    "change_direct_output_connections(experiment, invert=True)\n",
    "print(\n",
    "    \"Loss without the induction head direct connections:\",\n",
    "    get_loss(experiment.model, toks_int_values, mask_rep).item(),\n",
    ")"
   ]
  },
  {
   "attachments": {},
   "cell_type": "markdown",
   "id": "2f6823e2",
   "metadata": {
    "papermill": {
     "duration": 0.008064,
     "end_time": "2023-07-23T01:22:40.777598",
     "exception": false,
     "start_time": "2023-07-23T01:22:40.769534",
     "status": "completed"
    },
    "tags": []
   },
   "source": [
    "<p>That's much larger!</p>\n",
    "<p>See acdc/main.py for how to run ACDC experiments; try `python acdc/main.py --help` or check the README for the links to this file</p>"
   ]
  },
  {
   "attachments": {},
   "cell_type": "markdown",
   "id": "90f2a454",
   "metadata": {},
   "source": []
  }
 ],
 "metadata": {
  "jupytext": {
   "cell_metadata_filter": "-all",
   "main_language": "python",
   "notebook_metadata_filter": "-all"
  },
  "language_info": {
   "codemirror_mode": {
    "name": "ipython",
    "version": 3
   },
   "file_extension": ".py",
   "mimetype": "text/x-python",
   "name": "python",
   "nbconvert_exporter": "python",
   "pygments_lexer": "ipython3",
   "version": "3.10.12"
  },
  "papermill": {
   "default_parameters": {},
   "duration": 15.331152,
   "end_time": "2023-07-23T01:22:41.905066",
   "environment_variables": {},
   "exception": null,
   "input_path": "notebooks/_converted/editing_edges.ipynb",
   "output_path": "notebooks/colabs/ACDC_Editing_Edges_Demo.ipynb",
   "parameters": {},
   "start_time": "2023-07-23T01:22:26.573914",
   "version": "2.4.0"
  }
 },
 "nbformat": 4,
 "nbformat_minor": 5
}
