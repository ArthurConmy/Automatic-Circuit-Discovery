{
 "cells": [
  {
   "cell_type": "markdown",
   "id": "97af18a8",
   "metadata": {
    "papermill": {
     "duration": 0.038409,
     "end_time": "2023-06-16T20:31:19.335376",
     "exception": false,
     "start_time": "2023-06-16T20:31:19.296967",
     "status": "completed"
    },
    "tags": []
   },
   "source": [
    "<h1>ACDC Editing Edges Demo</h1>\n",
    "\n",
    "<p>This notebook gives a high-level overview of the main abstractions used in the ACDC codebase.</p>\n",
    "\n",
    "<p>If you are interested in models that are >10x the size of GPT-2 small, this library currently may be too slow and we would recommend you look at the path patching implementations in `TransformerLens` (forthcoming)</p>\n",
    "\n",
    "<h3>Setup</h2>\n",
    "\n",
    "<p>Janky code to do different setup when run in a Colab notebook vs VSCode (adapted from e.g <a href=\"https://github.com/neelnanda-io/TransformerLens/blob/5c89b7583e73ce96db5e46ef86a14b15f303dde6/demos/Activation_Patching_in_TL_Demo.ipynb\">this notebook</a>)</p>\n",
    "\n",
    "<p>You can ignore warnings that \"packages were previously imported in this runtime\"</p>"
   ]
  },
  {
   "cell_type": "code",
   "execution_count": 1,
   "id": "91124319",
   "metadata": {
    "execution": {
     "iopub.execute_input": "2023-06-16T20:31:19.348841Z",
     "iopub.status.busy": "2023-06-16T20:31:19.348214Z",
     "iopub.status.idle": "2023-06-16T20:31:19.729744Z",
     "shell.execute_reply": "2023-06-16T20:31:19.728970Z"
    },
    "lines_to_next_cell": 2,
    "papermill": {
     "duration": 0.392129,
     "end_time": "2023-06-16T20:31:19.733460",
     "exception": false,
     "start_time": "2023-06-16T20:31:19.341331",
     "status": "completed"
    },
    "tags": []
   },
   "outputs": [
    {
     "name": "stdout",
     "output_type": "stream",
     "text": [
      "Running outside of Colab notebook\n"
     ]
    },
    {
     "name": "stdout",
     "output_type": "stream",
     "text": [
      "Running as a notebook\n"
     ]
    }
   ],
   "source": [
    "\n",
    "try:\n",
    "    import google.colab\n",
    "\n",
    "    IN_COLAB = True\n",
    "    print(\"Running as a Colab notebook\")\n",
    "\n",
    "    import subprocess # to install graphviz dependencies\n",
    "    command = ['apt-get', 'install', 'graphviz-dev']\n",
    "    subprocess.run(command, check=True)\n",
    "\n",
    "    from IPython import get_ipython\n",
    "    ipython = get_ipython()\n",
    "\n",
    "    ipython.run_line_magic( # install ACDC\n",
    "        \"pip\",\n",
    "        \"install git+https://github.com/ArthurConmy/Automatic-Circuit-Discovery.git@9d5844a\",\n",
    "    )\n",
    "\n",
    "except Exception as e:\n",
    "    IN_COLAB = False\n",
    "    print(\"Running outside of Colab notebook\")\n",
    "\n",
    "    import numpy # crucial to not get cursed error\n",
    "    import plotly\n",
    "\n",
    "    plotly.io.renderers.default = \"colab\"  # added by Arthur so running as a .py notebook with #%% generates .ipynb notebooks that display in colab\n",
    "    # disable this option when developing rather than generating notebook outputs\n",
    "\n",
    "    from IPython import get_ipython\n",
    "\n",
    "    ipython = get_ipython()\n",
    "    if ipython is not None:\n",
    "        print(\"Running as a notebook\")\n",
    "        ipython.run_line_magic(\"load_ext\", \"autoreload\")  # type: ignore\n",
    "        ipython.run_line_magic(\"autoreload\", \"2\")  # type: ignore\n",
    "    else:\n",
    "        print(\"Running as a .py script\")"
   ]
  },
  {
   "cell_type": "markdown",
   "id": "e6585427",
   "metadata": {
    "papermill": {
     "duration": 0.004791,
     "end_time": "2023-06-16T20:31:19.747976",
     "exception": false,
     "start_time": "2023-06-16T20:31:19.743185",
     "status": "completed"
    },
    "tags": []
   },
   "source": [
    "<h2>Imports etc</h2>"
   ]
  },
  {
   "cell_type": "code",
   "execution_count": 2,
   "id": "27332d5b",
   "metadata": {
    "execution": {
     "iopub.execute_input": "2023-06-16T20:31:19.758788Z",
     "iopub.status.busy": "2023-06-16T20:31:19.758404Z",
     "iopub.status.idle": "2023-06-16T20:31:24.325775Z",
     "shell.execute_reply": "2023-06-16T20:31:24.324832Z"
    },
    "papermill": {
     "duration": 4.577192,
     "end_time": "2023-06-16T20:31:24.329823",
     "exception": false,
     "start_time": "2023-06-16T20:31:19.752631",
     "status": "completed"
    },
    "tags": []
   },
   "outputs": [],
   "source": [
    "\n",
    "from transformer_lens.HookedTransformer import HookedTransformer\n",
    "from acdc.TLACDCExperiment import TLACDCExperiment\n",
    "from acdc.induction.utils import get_all_induction_things\n",
    "from acdc.acdc_utils import TorchIndex\n",
    "import torch\n",
    "import gc"
   ]
  },
  {
   "cell_type": "markdown",
   "id": "a03d9106",
   "metadata": {
    "papermill": {
     "duration": 0.007023,
     "end_time": "2023-06-16T20:31:24.349596",
     "exception": false,
     "start_time": "2023-06-16T20:31:24.342573",
     "status": "completed"
    },
    "tags": []
   },
   "source": [
    "<h2>Load in the model and data for the induction task"
   ]
  },
  {
   "cell_type": "code",
   "execution_count": 3,
   "id": "d005aaee",
   "metadata": {
    "execution": {
     "iopub.execute_input": "2023-06-16T20:31:24.365011Z",
     "iopub.status.busy": "2023-06-16T20:31:24.364562Z",
     "iopub.status.idle": "2023-06-16T20:31:26.134058Z",
     "shell.execute_reply": "2023-06-16T20:31:26.132881Z"
    },
    "papermill": {
     "duration": 1.781539,
     "end_time": "2023-06-16T20:31:26.138087",
     "exception": false,
     "start_time": "2023-06-16T20:31:24.356548",
     "status": "completed"
    },
    "tags": []
   },
   "outputs": [
    {
     "name": "stderr",
     "output_type": "stream",
     "text": [
      "Special tokens have been added in the vocabulary, make sure the associated word embeddings are fine-tuned or trained.\n"
     ]
    },
    {
     "name": "stdout",
     "output_type": "stream",
     "text": [
      "Loaded pretrained model redwood_attn_2l into HookedTransformer\n"
     ]
    }
   ],
   "source": [
    "DEVICE = \"cuda\" if torch.cuda.is_available() else \"cpu\"\n",
    "num_examples = 40\n",
    "seq_len = 50\n",
    "\n",
    "# load in a tl_model and grab some data\n",
    "all_induction_things = get_all_induction_things(\n",
    "    num_examples=num_examples,\n",
    "    seq_len=seq_len,\n",
    "    device=DEVICE,\n",
    ")\n",
    "\n",
    "tl_model, toks_int_values, toks_int_values_other, metric, mask_rep = (\n",
    "    all_induction_things.tl_model,\n",
    "    all_induction_things.validation_data,\n",
    "    all_induction_things.validation_patch_data,\n",
    "    all_induction_things.validation_metric,\n",
    "    all_induction_things.validation_mask,\n",
    ")\n",
    "\n",
    "# You should read the get_model function from that file to see what the tl_model is : )"
   ]
  },
  {
   "cell_type": "markdown",
   "id": "7cea568d",
   "metadata": {
    "papermill": {
     "duration": 0.007208,
     "end_time": "2023-06-16T20:31:26.158275",
     "exception": false,
     "start_time": "2023-06-16T20:31:26.151067",
     "status": "completed"
    },
    "tags": []
   },
   "source": [
    "<p>Ensure we stay under mem limit on small machines</p>"
   ]
  },
  {
   "cell_type": "code",
   "execution_count": 4,
   "id": "e95f78ae",
   "metadata": {
    "execution": {
     "iopub.execute_input": "2023-06-16T20:31:26.174173Z",
     "iopub.status.busy": "2023-06-16T20:31:26.173907Z",
     "iopub.status.idle": "2023-06-16T20:31:26.351108Z",
     "shell.execute_reply": "2023-06-16T20:31:26.350189Z"
    },
    "papermill": {
     "duration": 0.189422,
     "end_time": "2023-06-16T20:31:26.354939",
     "exception": false,
     "start_time": "2023-06-16T20:31:26.165517",
     "status": "completed"
    },
    "tags": []
   },
   "outputs": [],
   "source": [
    "gc.collect()\n",
    "torch.cuda.empty_cache()"
   ]
  },
  {
   "cell_type": "markdown",
   "id": "f3588272",
   "metadata": {
    "papermill": {
     "duration": 0.007237,
     "end_time": "2023-06-16T20:31:26.374434",
     "exception": false,
     "start_time": "2023-06-16T20:31:26.367197",
     "status": "completed"
    },
    "tags": []
   },
   "source": [
    "<p>Let's see an example from the dataset.</p>\n",
    "<p> `|` separates tokens </p>"
   ]
  },
  {
   "cell_type": "code",
   "execution_count": 5,
   "id": "c9c562c5",
   "metadata": {
    "execution": {
     "iopub.execute_input": "2023-06-16T20:31:26.390480Z",
     "iopub.status.busy": "2023-06-16T20:31:26.390221Z",
     "iopub.status.idle": "2023-06-16T20:31:26.439630Z",
     "shell.execute_reply": "2023-06-16T20:31:26.438711Z"
    },
    "papermill": {
     "duration": 0.061386,
     "end_time": "2023-06-16T20:31:26.443207",
     "exception": false,
     "start_time": "2023-06-16T20:31:26.381821",
     "status": "completed"
    },
    "tags": []
   },
   "outputs": [
    {
     "name": "stdout",
     "output_type": "stream",
     "text": [
      "[END]| State|ful| comput|ations| in| F|#| with| update| mon|ads|\n",
      "|\n",
      "|Most| discussions| about| mon|ads|,| even| in| F|#|,| start| by| looking| at| the| well|-|known| standard| mon|ads\n"
     ]
    }
   ],
   "source": [
    "EXAMPLE_NO = 33\n",
    "EXAMPLE_LENGTH = 36\n",
    "\n",
    "print(\n",
    "    \"|\".join(tl_model.to_str_tokens(toks_int_values[EXAMPLE_NO, :EXAMPLE_LENGTH])),\n",
    ")"
   ]
  },
  {
   "cell_type": "markdown",
   "id": "cddbdeff",
   "metadata": {
    "papermill": {
     "duration": 0.007507,
     "end_time": "2023-06-16T20:31:26.462421",
     "exception": false,
     "start_time": "2023-06-16T20:31:26.454914",
     "status": "completed"
    },
    "tags": []
   },
   "source": [
    "<p>This dataset has several examples of induction! F -> #, mon -> ads</p>\n",
    "<p>The `mask_rep` mask is a boolean mask of shape `(num_examples, seq_len)` that indicates where induction is present in the dataset</p>\n",
    "<p> Let's see "
   ]
  },
  {
   "cell_type": "code",
   "execution_count": 6,
   "id": "fefac425",
   "metadata": {
    "execution": {
     "iopub.execute_input": "2023-06-16T20:31:26.478883Z",
     "iopub.status.busy": "2023-06-16T20:31:26.478633Z",
     "iopub.status.idle": "2023-06-16T20:31:26.524849Z",
     "shell.execute_reply": "2023-06-16T20:31:26.523976Z"
    },
    "lines_to_next_cell": 1,
    "papermill": {
     "duration": 0.058172,
     "end_time": "2023-06-16T20:31:26.528425",
     "exception": false,
     "start_time": "2023-06-16T20:31:26.470253",
     "status": "completed"
    },
    "tags": []
   },
   "outputs": [
    {
     "name": "stdout",
     "output_type": "stream",
     "text": [
      "At position 17 there is induction\n",
      "[' mon']\n",
      "At position 22 there is induction\n",
      "[' F']\n",
      "At position 34 there is induction\n",
      "[' mon']\n"
     ]
    }
   ],
   "source": [
    "for i in range(EXAMPLE_LENGTH):\n",
    "    if mask_rep[EXAMPLE_NO, i]:\n",
    "        print(f\"At position {i} there is induction\")\n",
    "        print(tl_model.to_str_tokens(toks_int_values[EXAMPLE_NO:EXAMPLE_NO+1, i : i + 1]))"
   ]
  },
  {
   "cell_type": "markdown",
   "id": "228a949f",
   "metadata": {
    "papermill": {
     "duration": 0.007559,
     "end_time": "2023-06-16T20:31:26.547144",
     "exception": false,
     "start_time": "2023-06-16T20:31:26.539585",
     "status": "completed"
    },
    "tags": []
   },
   "source": [
    "<p>Let's get the initial loss on the induction examples</p>"
   ]
  },
  {
   "cell_type": "code",
   "execution_count": 7,
   "id": "30de5a7f",
   "metadata": {
    "execution": {
     "iopub.execute_input": "2023-06-16T20:31:26.563752Z",
     "iopub.status.busy": "2023-06-16T20:31:26.563472Z",
     "iopub.status.idle": "2023-06-16T20:31:26.627036Z",
     "shell.execute_reply": "2023-06-16T20:31:26.626266Z"
    },
    "papermill": {
     "duration": 0.075663,
     "end_time": "2023-06-16T20:31:26.630414",
     "exception": false,
     "start_time": "2023-06-16T20:31:26.554751",
     "status": "completed"
    },
    "tags": []
   },
   "outputs": [
    {
     "name": "stdout",
     "output_type": "stream",
     "text": [
      "Loss: 0.44509872794151306\n"
     ]
    }
   ],
   "source": [
    "def get_loss(model, data, mask):\n",
    "    loss = model(\n",
    "        data,\n",
    "        return_type=\"loss\",\n",
    "        loss_per_token=True,\n",
    "    )\n",
    "    return (loss * mask[:, :-1].int()).sum() / mask[:, :-1].int().sum()\n",
    "\n",
    "\n",
    "print(f\"Loss: {get_loss(tl_model, toks_int_values, mask_rep)}\")"
   ]
  },
  {
   "cell_type": "markdown",
   "id": "567746a8",
   "metadata": {
    "papermill": {
     "duration": 0.007877,
     "end_time": "2023-06-16T20:31:26.651106",
     "exception": false,
     "start_time": "2023-06-16T20:31:26.643229",
     "status": "completed"
    },
    "tags": []
   },
   "source": [
    "<p>We will now wrap ACDC things inside an `experiment`for further experiments</p>\n",
    "<p>For more advanced usage of the `TLACDCExperiment` object (the main object in this codebase), see the README for links to the `main.py` and its demos</p>"
   ]
  },
  {
   "cell_type": "code",
   "execution_count": 8,
   "id": "151eb25d",
   "metadata": {
    "execution": {
     "iopub.execute_input": "2023-06-16T20:31:26.667935Z",
     "iopub.status.busy": "2023-06-16T20:31:26.667661Z",
     "iopub.status.idle": "2023-06-16T20:31:28.538578Z",
     "shell.execute_reply": "2023-06-16T20:31:28.537387Z"
    },
    "papermill": {
     "duration": 1.883581,
     "end_time": "2023-06-16T20:31:28.542458",
     "exception": false,
     "start_time": "2023-06-16T20:31:26.658877",
     "status": "completed"
    },
    "tags": []
   },
   "outputs": [
    {
     "name": "stderr",
     "output_type": "stream",
     "text": [
      "WARNING:root:cache_all is deprecated and will eventually be removed, use add_caching_hooks or run_with_cache\n"
     ]
    },
    {
     "name": "stderr",
     "output_type": "stream",
     "text": [
      "WARNING:root:cache_all is deprecated and will eventually be removed, use add_caching_hooks or run_with_cache\n"
     ]
    },
    {
     "name": "stdout",
     "output_type": "stream",
     "text": [
      "ln_final.hook_normalized\n",
      "ln_final.hook_scale\n",
      "blocks.1.hook_resid_post\n",
      "blocks.1.hook_attn_out\n",
      "blocks.1.attn.hook_result\n",
      "blocks.1.attn.hook_z\n",
      "blocks.1.attn.hook_pattern\n",
      "blocks.1.attn.hook_attn_scores\n",
      "blocks.1.attn.hook_v\n",
      "blocks.1.attn.hook_k\n",
      "blocks.1.attn.hook_q\n",
      "blocks.1.ln1.hook_normalized\n",
      "blocks.1.ln1.hook_scale\n",
      "blocks.1.hook_v_input\n",
      "blocks.1.hook_k_input\n",
      "blocks.1.hook_q_input\n",
      "blocks.1.hook_resid_pre\n",
      "blocks.0.hook_resid_post\n",
      "blocks.0.hook_attn_out\n",
      "blocks.0.attn.hook_result\n",
      "blocks.0.attn.hook_z\n",
      "blocks.0.attn.hook_pattern\n",
      "blocks.0.attn.hook_attn_scores\n",
      "blocks.0.attn.hook_v\n",
      "blocks.0.attn.hook_k\n",
      "blocks.0.attn.hook_q\n",
      "blocks.0.ln1.hook_normalized\n",
      "blocks.0.ln1.hook_scale\n",
      "blocks.0.hook_v_input\n",
      "blocks.0.hook_k_input\n",
      "blocks.0.hook_q_input\n",
      "blocks.0.hook_resid_pre\n",
      "hook_pos_embed\n",
      "hook_embed\n",
      "self.current_node=TLACDCInterpNode(blocks.1.hook_resid_post, [:])\n"
     ]
    }
   ],
   "source": [
    "experiment = TLACDCExperiment(\n",
    "    model=tl_model,\n",
    "    threshold=0.0,\n",
    "    ds=toks_int_values,\n",
    "    ref_ds=None,  # This argument is the corrupted dataset from the ACDC paper. We're going to do zero ablation here so we omit this\n",
    "    metric=metric,\n",
    "    zero_ablation=True,\n",
    "    hook_verbose=False,\n",
    ")"
   ]
  },
  {
   "cell_type": "markdown",
   "id": "aebeafc1",
   "metadata": {
    "papermill": {
     "duration": 0.008136,
     "end_time": "2023-06-16T20:31:28.560526",
     "exception": false,
     "start_time": "2023-06-16T20:31:28.552390",
     "status": "completed"
    },
    "tags": []
   },
   "source": [
    "\n",
    "<p>Usually, the `TLACDCExperiment` efficiently add hooks to the model in order to do ACDC runs fast.</p>\n",
    "<p>For this tutorial, we'll add <b>ALL</b> the hooks so you can edit connections in the model as easily as possible.</p>"
   ]
  },
  {
   "cell_type": "code",
   "execution_count": 9,
   "id": "22715dde",
   "metadata": {
    "execution": {
     "iopub.execute_input": "2023-06-16T20:31:28.578825Z",
     "iopub.status.busy": "2023-06-16T20:31:28.578375Z",
     "iopub.status.idle": "2023-06-16T20:31:28.638893Z",
     "shell.execute_reply": "2023-06-16T20:31:28.638145Z"
    },
    "papermill": {
     "duration": 0.073781,
     "end_time": "2023-06-16T20:31:28.642636",
     "exception": false,
     "start_time": "2023-06-16T20:31:28.568855",
     "status": "completed"
    },
    "tags": []
   },
   "outputs": [],
   "source": [
    "experiment.model.reset_hooks()\n",
    "experiment.setup_model_hooks(\n",
    "    add_sender_hooks=True,\n",
    "    add_receiver_hooks=True,\n",
    "    doing_acdc_runs=False,\n",
    ")"
   ]
  },
  {
   "cell_type": "markdown",
   "id": "1c7531ce",
   "metadata": {
    "papermill": {
     "duration": 0.008409,
     "end_time": "2023-06-16T20:31:28.661030",
     "exception": false,
     "start_time": "2023-06-16T20:31:28.652621",
     "status": "completed"
    },
    "tags": []
   },
   "source": [
    "Let's take a look at the edges"
   ]
  },
  {
   "cell_type": "code",
   "execution_count": 10,
   "id": "f43a27ae",
   "metadata": {
    "execution": {
     "iopub.execute_input": "2023-06-16T20:31:28.679334Z",
     "iopub.status.busy": "2023-06-16T20:31:28.678911Z",
     "iopub.status.idle": "2023-06-16T20:31:28.725676Z",
     "shell.execute_reply": "2023-06-16T20:31:28.724583Z"
    },
    "lines_to_next_cell": 1,
    "papermill": {
     "duration": 0.059416,
     "end_time": "2023-06-16T20:31:28.728679",
     "exception": false,
     "start_time": "2023-06-16T20:31:28.669263",
     "status": "completed"
    },
    "tags": []
   },
   "outputs": [],
   "source": [
    "for edge_indices, edge in experiment.corr.all_edges().items():\n",
    "    # here's what's inside the edge\n",
    "    receiver_name, receiver_index, sender_name, sender_index = edge_indices\n",
    "\n",
    "    # for now, all edges should be present\n",
    "    assert edge.present, edge_indices"
   ]
  },
  {
   "cell_type": "markdown",
   "id": "030a3ccc",
   "metadata": {
    "papermill": {
     "duration": 0.008214,
     "end_time": "2023-06-16T20:31:28.750070",
     "exception": false,
     "start_time": "2023-06-16T20:31:28.741856",
     "status": "completed"
    },
    "tags": []
   },
   "source": [
    "<p>Let's make a function that's able to turn off all the connections from the nodes to the output, except the induction head (1.5 and 1.6)</p>\n",
    "<p>(we'll later turn ON all connections EXCEPT the induction heads)</p>"
   ]
  },
  {
   "cell_type": "code",
   "execution_count": 11,
   "id": "5f421fc4",
   "metadata": {
    "execution": {
     "iopub.execute_input": "2023-06-16T20:31:28.768734Z",
     "iopub.status.busy": "2023-06-16T20:31:28.768313Z",
     "iopub.status.idle": "2023-06-16T20:31:30.441350Z",
     "shell.execute_reply": "2023-06-16T20:31:30.440361Z"
    },
    "papermill": {
     "duration": 1.686625,
     "end_time": "2023-06-16T20:31:30.445321",
     "exception": false,
     "start_time": "2023-06-16T20:31:28.758696",
     "status": "completed"
    },
    "tags": []
   },
   "outputs": [
    {
     "name": "stdout",
     "output_type": "stream",
     "text": [
      "Adding edge from blocks.1.attn.hook_result [:, :, 7] to blocks.1.hook_resid_post [:]\n",
      "Removing edge from blocks.1.attn.hook_result [:, :, 6] to blocks.1.hook_resid_post [:]\n",
      "Removing edge from blocks.1.attn.hook_result [:, :, 5] to blocks.1.hook_resid_post [:]\n",
      "Adding edge from blocks.1.attn.hook_result [:, :, 4] to blocks.1.hook_resid_post [:]\n",
      "Adding edge from blocks.1.attn.hook_result [:, :, 3] to blocks.1.hook_resid_post [:]\n",
      "Adding edge from blocks.1.attn.hook_result [:, :, 2] to blocks.1.hook_resid_post [:]\n",
      "Adding edge from blocks.1.attn.hook_result [:, :, 1] to blocks.1.hook_resid_post [:]\n",
      "Adding edge from blocks.1.attn.hook_result [:, :, 0] to blocks.1.hook_resid_post [:]\n",
      "Adding edge from blocks.0.attn.hook_result [:, :, 7] to blocks.1.hook_resid_post [:]\n",
      "Adding edge from blocks.0.attn.hook_result [:, :, 6] to blocks.1.hook_resid_post [:]\n",
      "Adding edge from blocks.0.attn.hook_result [:, :, 5] to blocks.1.hook_resid_post [:]\n",
      "Adding edge from blocks.0.attn.hook_result [:, :, 4] to blocks.1.hook_resid_post [:]\n",
      "Adding edge from blocks.0.attn.hook_result [:, :, 3] to blocks.1.hook_resid_post [:]\n",
      "Adding edge from blocks.0.attn.hook_result [:, :, 2] to blocks.1.hook_resid_post [:]\n",
      "Adding edge from blocks.0.attn.hook_result [:, :, 1] to blocks.1.hook_resid_post [:]\n",
      "Adding edge from blocks.0.attn.hook_result [:, :, 0] to blocks.1.hook_resid_post [:]\n",
      "Adding edge from blocks.0.hook_resid_pre [:] to blocks.1.hook_resid_post [:]\n"
     ]
    },
    {
     "name": "stdout",
     "output_type": "stream",
     "text": [
      "Loss with only the induction head direct connections: 0.6503179669380188\n"
     ]
    }
   ],
   "source": [
    "def change_direct_output_connections(exp, invert=False):\n",
    "    residual_stream_end_name = \"blocks.1.hook_resid_post\"\n",
    "    residual_stream_end_index = TorchIndex([None])\n",
    "    induction_heads = [\n",
    "        (\"blocks.1.attn.hook_result\", TorchIndex([None, None, 5])),\n",
    "        (\"blocks.1.attn.hook_result\", TorchIndex([None, None, 6])),\n",
    "    ]\n",
    "\n",
    "    inputs_to_residual_stream_end = exp.corr.edges[residual_stream_end_name][\n",
    "        residual_stream_end_index\n",
    "    ]\n",
    "    for sender_name in inputs_to_residual_stream_end:\n",
    "        for sender_index in inputs_to_residual_stream_end[sender_name]:\n",
    "            edge = inputs_to_residual_stream_end[sender_name][sender_index]\n",
    "            is_induction_head = (sender_name, sender_index) in induction_heads\n",
    "\n",
    "            if is_induction_head:\n",
    "                edge.present = not invert\n",
    "\n",
    "            else:\n",
    "                edge.present = invert\n",
    "\n",
    "            print(\n",
    "                f\"{'Adding' if (invert == is_induction_head) else 'Removing'} edge from {sender_name} {sender_index} to {residual_stream_end_name} {residual_stream_end_index}\"\n",
    "            )\n",
    "\n",
    "\n",
    "change_direct_output_connections(experiment)\n",
    "print(\n",
    "    \"Loss with only the induction head direct connections:\",\n",
    "    get_loss(experiment.model, toks_int_values, mask_rep).item(),\n",
    ")"
   ]
  },
  {
   "cell_type": "markdown",
   "id": "4d62b30f",
   "metadata": {
    "papermill": {
     "duration": 0.008584,
     "end_time": "2023-06-16T20:31:30.464752",
     "exception": false,
     "start_time": "2023-06-16T20:31:30.456168",
     "status": "completed"
    },
    "tags": []
   },
   "source": [
    "<p>Let's turn ON all the connections EXCEPT the induction heads</p>"
   ]
  },
  {
   "cell_type": "code",
   "execution_count": 12,
   "id": "93c8c2a9",
   "metadata": {
    "execution": {
     "iopub.execute_input": "2023-06-16T20:31:30.483731Z",
     "iopub.status.busy": "2023-06-16T20:31:30.483460Z",
     "iopub.status.idle": "2023-06-16T20:31:31.572299Z",
     "shell.execute_reply": "2023-06-16T20:31:31.571402Z"
    },
    "papermill": {
     "duration": 1.102574,
     "end_time": "2023-06-16T20:31:31.576294",
     "exception": false,
     "start_time": "2023-06-16T20:31:30.473720",
     "status": "completed"
    },
    "tags": []
   },
   "outputs": [
    {
     "name": "stdout",
     "output_type": "stream",
     "text": [
      "Removing edge from blocks.1.attn.hook_result [:, :, 7] to blocks.1.hook_resid_post [:]\n",
      "Adding edge from blocks.1.attn.hook_result [:, :, 6] to blocks.1.hook_resid_post [:]\n",
      "Adding edge from blocks.1.attn.hook_result [:, :, 5] to blocks.1.hook_resid_post [:]\n",
      "Removing edge from blocks.1.attn.hook_result [:, :, 4] to blocks.1.hook_resid_post [:]\n",
      "Removing edge from blocks.1.attn.hook_result [:, :, 3] to blocks.1.hook_resid_post [:]\n",
      "Removing edge from blocks.1.attn.hook_result [:, :, 2] to blocks.1.hook_resid_post [:]\n",
      "Removing edge from blocks.1.attn.hook_result [:, :, 1] to blocks.1.hook_resid_post [:]\n",
      "Removing edge from blocks.1.attn.hook_result [:, :, 0] to blocks.1.hook_resid_post [:]\n",
      "Removing edge from blocks.0.attn.hook_result [:, :, 7] to blocks.1.hook_resid_post [:]\n",
      "Removing edge from blocks.0.attn.hook_result [:, :, 6] to blocks.1.hook_resid_post [:]\n",
      "Removing edge from blocks.0.attn.hook_result [:, :, 5] to blocks.1.hook_resid_post [:]\n",
      "Removing edge from blocks.0.attn.hook_result [:, :, 4] to blocks.1.hook_resid_post [:]\n",
      "Removing edge from blocks.0.attn.hook_result [:, :, 3] to blocks.1.hook_resid_post [:]\n",
      "Removing edge from blocks.0.attn.hook_result [:, :, 2] to blocks.1.hook_resid_post [:]\n",
      "Removing edge from blocks.0.attn.hook_result [:, :, 1] to blocks.1.hook_resid_post [:]\n",
      "Removing edge from blocks.0.attn.hook_result [:, :, 0] to blocks.1.hook_resid_post [:]\n",
      "Removing edge from blocks.0.hook_resid_pre [:] to blocks.1.hook_resid_post [:]\n"
     ]
    },
    {
     "name": "stdout",
     "output_type": "stream",
     "text": [
      "Loss without the induction head direct connections: 4.579229354858398\n"
     ]
    }
   ],
   "source": [
    "change_direct_output_connections(experiment, invert=True)\n",
    "print(\n",
    "    \"Loss without the induction head direct connections:\",\n",
    "    get_loss(experiment.model, toks_int_values, mask_rep).item(),\n",
    ")"
   ]
  },
  {
   "cell_type": "markdown",
   "id": "a95d1bcd",
   "metadata": {
    "papermill": {
     "duration": 0.009062,
     "end_time": "2023-06-16T20:31:31.598780",
     "exception": false,
     "start_time": "2023-06-16T20:31:31.589718",
     "status": "completed"
    },
    "tags": []
   },
   "source": [
    "<p>That's much larger!</p>\n",
    "<p>See acdc/main.py for how to run ACDC experiments; try `python acdc/main.py --help` or check the README for the links to this file</p>"
   ]
  }
 ],
 "metadata": {
  "jupytext": {
   "cell_metadata_filter": "-all",
   "main_language": "python",
   "notebook_metadata_filter": "-all"
  },
  "language_info": {
   "codemirror_mode": {
    "name": "ipython",
    "version": 3
   },
   "file_extension": ".py",
   "mimetype": "text/x-python",
   "name": "python",
   "nbconvert_exporter": "python",
   "pygments_lexer": "ipython3",
   "version": "3.10.11"
  },
  "papermill": {
   "default_parameters": {},
   "duration": 14.90171,
   "end_time": "2023-06-16T20:31:32.731408",
   "environment_variables": {},
   "exception": null,
   "input_path": "notebooks/_converted/editing_edges.ipynb",
   "output_path": "notebooks/colabs/ACDC_Editing_Edges_Demo.ipynb",
   "parameters": {},
   "start_time": "2023-06-16T20:31:17.829698",
   "version": "2.4.0"
  }
 },
 "nbformat": 4,
 "nbformat_minor": 5
}
