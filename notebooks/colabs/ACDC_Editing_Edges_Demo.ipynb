{
 "cells": [
  {
   "attachments": {},
   "cell_type": "markdown",
   "id": "fa70ad4e",
   "metadata": {
    "papermill": {
     "duration": 0.004171,
     "end_time": "2023-08-14T00:36:47.421637",
     "exception": false,
     "start_time": "2023-08-14T00:36:47.417466",
     "status": "completed"
    },
    "tags": []
   },
   "source": [
    "<h1>ACDC Editing Edges Demo</h1>\n",
    "\n",
    "<p>This notebook gives a high-level overview of the main abstractions used in the ACDC codebase.</p>\n",
    "\n",
    "<p>If you are interested in models that are >=1B parameters, this library currently may be too slow and we would recommend you look at the path patching implementations in `TransformerLens` (for example, see <a href=\"https://colab.research.google.com/drive/15CJ1WAf8AWm6emI3t2nVfnO85-hxwyJU\">this</a> notebook)</p>\n",
    "\n",
    "<h3>Setup</h2>\n",
    "\n",
    "<p>Janky code to do different setup when run in a Colab notebook vs VSCode (adapted from e.g <a href=\"https://github.com/neelnanda-io/TransformerLens/blob/5c89b7583e73ce96db5e46ef86a14b15f303dde6/demos/Activation_Patching_in_TL_Demo.ipynb\">this notebook</a>)</p>\n",
    "\n",
    "<p>You can ignore warnings that \"packages were previously imported in this runtime\"</p>"
   ]
  },
  {
   "cell_type": "code",
   "execution_count": 1,
   "id": "bb84ede9",
   "metadata": {
    "execution": {
     "iopub.execute_input": "2023-08-14T00:36:47.431872Z",
     "iopub.status.busy": "2023-08-14T00:36:47.431623Z",
     "iopub.status.idle": "2023-08-14T00:36:47.544301Z",
     "shell.execute_reply": "2023-08-14T00:36:47.544016Z"
    },
    "papermill": {
     "duration": 0.116774,
     "end_time": "2023-08-14T00:36:47.545244",
     "exception": false,
     "start_time": "2023-08-14T00:36:47.428470",
     "status": "completed"
    },
    "tags": []
   },
   "outputs": [
    {
     "name": "stdout",
     "output_type": "stream",
     "text": [
      "Running outside of Colab notebook\n",
      "Running as a notebook\n"
     ]
    }
   ],
   "source": [
    "\n",
    "try:\n",
    "    import google.colab\n",
    "\n",
    "    IN_COLAB = True\n",
    "    print(\"Running as a Colab notebook\")\n",
    "\n",
    "    import subprocess # to install graphviz dependencies\n",
    "    command = ['apt-get', 'install', 'graphviz-dev']\n",
    "    subprocess.run(command, check=True)\n",
    "\n",
    "    from IPython import get_ipython\n",
    "    ipython = get_ipython()\n",
    "\n",
    "    ipython.run_line_magic( # install ACDC\n",
    "        \"pip\",\n",
    "        \"install git+https://github.com/ArthurConmy/Automatic-Circuit-Discovery.git@d89f7fa9cbd095202f3940c889cb7c6bf5a9b516\",\n",
    "    )\n",
    "\n",
    "except Exception as e:\n",
    "    IN_COLAB = False\n",
    "    print(\"Running outside of Colab notebook\")\n",
    "\n",
    "    import numpy # crucial to not get cursed error\n",
    "    import plotly\n",
    "\n",
    "    plotly.io.renderers.default = \"colab\"  # added by Arthur so running as a .py notebook with #%% generates .ipynb notebooks that display in colab\n",
    "    # disable this option when developing rather than generating notebook outputs\n",
    "\n",
    "    from IPython import get_ipython\n",
    "\n",
    "    ipython = get_ipython()\n",
    "    if ipython is not None:\n",
    "        print(\"Running as a notebook\")\n",
    "        ipython.run_line_magic(\"load_ext\", \"autoreload\")  # type: ignore\n",
    "        ipython.run_line_magic(\"autoreload\", \"2\")  # type: ignore\n",
    "    else:\n",
    "        print(\"Running as a .py script\")"
   ]
  },
  {
   "attachments": {},
   "cell_type": "markdown",
   "id": "c6249285",
   "metadata": {
    "papermill": {
     "duration": 0.006306,
     "end_time": "2023-08-14T00:36:47.553842",
     "exception": false,
     "start_time": "2023-08-14T00:36:47.547536",
     "status": "completed"
    },
    "tags": []
   },
   "source": [
    "<h2>Imports etc</h2>"
   ]
  },
  {
   "cell_type": "code",
   "execution_count": 2,
   "id": "b2cd5c75",
   "metadata": {
    "execution": {
     "iopub.execute_input": "2023-08-14T00:36:47.558370Z",
     "iopub.status.busy": "2023-08-14T00:36:47.558242Z",
     "iopub.status.idle": "2023-08-14T00:36:49.481110Z",
     "shell.execute_reply": "2023-08-14T00:36:49.480641Z"
    },
    "papermill": {
     "duration": 1.926911,
     "end_time": "2023-08-14T00:36:49.482739",
     "exception": false,
     "start_time": "2023-08-14T00:36:47.555828",
     "status": "completed"
    },
    "tags": []
   },
   "outputs": [],
   "source": [
    "\n",
    "from transformer_lens.HookedTransformer import HookedTransformer\n",
    "from acdc.TLACDCExperiment import TLACDCExperiment\n",
    "from acdc.induction.utils import get_all_induction_things\n",
    "from acdc.acdc_utils import TorchIndex\n",
    "import torch\n",
    "import gc"
   ]
  },
  {
   "attachments": {},
   "cell_type": "markdown",
   "id": "5ac916ca",
   "metadata": {
    "papermill": {
     "duration": 0.006,
     "end_time": "2023-08-14T00:36:49.493051",
     "exception": false,
     "start_time": "2023-08-14T00:36:49.487051",
     "status": "completed"
    },
    "tags": []
   },
   "source": [
    "<h2>Load in the model and data for the induction task"
   ]
  },
  {
   "cell_type": "code",
   "execution_count": 3,
   "id": "e4047404",
   "metadata": {
    "execution": {
     "iopub.execute_input": "2023-08-14T00:36:49.502700Z",
     "iopub.status.busy": "2023-08-14T00:36:49.502361Z",
     "iopub.status.idle": "2023-08-14T00:36:52.106775Z",
     "shell.execute_reply": "2023-08-14T00:36:52.106309Z"
    },
    "papermill": {
     "duration": 2.613214,
     "end_time": "2023-08-14T00:36:52.108470",
     "exception": false,
     "start_time": "2023-08-14T00:36:49.495256",
     "status": "completed"
    },
    "tags": []
   },
   "outputs": [
    {
     "name": "stderr",
     "output_type": "stream",
     "text": [
      "Special tokens have been added in the vocabulary, make sure the associated word embeddings are fine-tuned or trained.\n"
     ]
    },
    {
     "name": "stdout",
     "output_type": "stream",
     "text": [
      "Loaded pretrained model redwood_attn_2l into HookedTransformer\n"
     ]
    }
   ],
   "source": [
    "DEVICE = \"cuda\" if torch.cuda.is_available() else \"cpu\"\n",
    "num_examples = 40\n",
    "seq_len = 50\n",
    "\n",
    "# load in a tl_model and grab some data\n",
    "all_induction_things = get_all_induction_things(\n",
    "    num_examples=num_examples,\n",
    "    seq_len=seq_len,\n",
    "    device=DEVICE,\n",
    ")\n",
    "\n",
    "tl_model, toks_int_values, toks_int_values_other, metric, mask_rep = (\n",
    "    all_induction_things.tl_model,\n",
    "    all_induction_things.validation_data,\n",
    "    all_induction_things.validation_patch_data,\n",
    "    all_induction_things.validation_metric,\n",
    "    all_induction_things.validation_mask,\n",
    ")\n",
    "\n",
    "# You should read the get_model function from that file to see what the tl_model is : )"
   ]
  },
  {
   "attachments": {},
   "cell_type": "markdown",
   "id": "6e6ded55",
   "metadata": {
    "papermill": {
     "duration": 0.00601,
     "end_time": "2023-08-14T00:36:52.118970",
     "exception": false,
     "start_time": "2023-08-14T00:36:52.112960",
     "status": "completed"
    },
    "tags": []
   },
   "source": [
    "<p>Ensure we stay under mem limit on small machines</p>"
   ]
  },
  {
   "cell_type": "code",
   "execution_count": 4,
   "id": "d21d34a5",
   "metadata": {
    "execution": {
     "iopub.execute_input": "2023-08-14T00:36:52.123886Z",
     "iopub.status.busy": "2023-08-14T00:36:52.123699Z",
     "iopub.status.idle": "2023-08-14T00:36:52.233360Z",
     "shell.execute_reply": "2023-08-14T00:36:52.232888Z"
    },
    "papermill": {
     "duration": 0.113954,
     "end_time": "2023-08-14T00:36:52.234979",
     "exception": false,
     "start_time": "2023-08-14T00:36:52.121025",
     "status": "completed"
    },
    "tags": []
   },
   "outputs": [],
   "source": [
    "gc.collect()\n",
    "torch.cuda.empty_cache()"
   ]
  },
  {
   "attachments": {},
   "cell_type": "markdown",
   "id": "d544f7b3",
   "metadata": {
    "papermill": {
     "duration": 0.006058,
     "end_time": "2023-08-14T00:36:52.245516",
     "exception": false,
     "start_time": "2023-08-14T00:36:52.239458",
     "status": "completed"
    },
    "tags": []
   },
   "source": [
    "<p>Let's see an example from the dataset.</p>\n",
    "<p> `|` separates tokens </p>"
   ]
  },
  {
   "cell_type": "code",
   "execution_count": 5,
   "id": "881ae90b",
   "metadata": {
    "execution": {
     "iopub.execute_input": "2023-08-14T00:36:52.255096Z",
     "iopub.status.busy": "2023-08-14T00:36:52.254869Z",
     "iopub.status.idle": "2023-08-14T00:36:52.280512Z",
     "shell.execute_reply": "2023-08-14T00:36:52.280094Z"
    },
    "papermill": {
     "duration": 0.034117,
     "end_time": "2023-08-14T00:36:52.281852",
     "exception": false,
     "start_time": "2023-08-14T00:36:52.247735",
     "status": "completed"
    },
    "tags": []
   },
   "outputs": [
    {
     "name": "stdout",
     "output_type": "stream",
     "text": [
      "[END]| State|ful| comput|ations| in| F|#| with| update| mon|ads|\n",
      "|\n",
      "|Most| discussions| about| mon|ads|,| even| in| F|#|,| start| by| looking| at| the| well|-|known| standard| mon|ads\n"
     ]
    }
   ],
   "source": [
    "EXAMPLE_NO = 33\n",
    "EXAMPLE_LENGTH = 36\n",
    "\n",
    "print(\n",
    "    \"|\".join(tl_model.to_str_tokens(toks_int_values[EXAMPLE_NO, :EXAMPLE_LENGTH])),\n",
    ")"
   ]
  },
  {
   "attachments": {},
   "cell_type": "markdown",
   "id": "4e652df8",
   "metadata": {
    "papermill": {
     "duration": 0.002477,
     "end_time": "2023-08-14T00:36:52.288355",
     "exception": false,
     "start_time": "2023-08-14T00:36:52.285878",
     "status": "completed"
    },
    "tags": []
   },
   "source": [
    "<p>This dataset has several examples of induction! F -> #, mon -> ads</p>\n",
    "<p>The `mask_rep` mask is a boolean mask of shape `(num_examples, seq_len)` that indicates where induction is present in the dataset</p>\n",
    "<p> Let's see "
   ]
  },
  {
   "cell_type": "code",
   "execution_count": 6,
   "id": "a32ae064",
   "metadata": {
    "execution": {
     "iopub.execute_input": "2023-08-14T00:36:52.293251Z",
     "iopub.status.busy": "2023-08-14T00:36:52.293093Z",
     "iopub.status.idle": "2023-08-14T00:36:52.311489Z",
     "shell.execute_reply": "2023-08-14T00:36:52.311078Z"
    },
    "lines_to_next_cell": 1,
    "papermill": {
     "duration": 0.022308,
     "end_time": "2023-08-14T00:36:52.312802",
     "exception": false,
     "start_time": "2023-08-14T00:36:52.290494",
     "status": "completed"
    },
    "tags": []
   },
   "outputs": [
    {
     "name": "stdout",
     "output_type": "stream",
     "text": [
      "At position 17 there is induction\n",
      "[' mon']\n",
      "At position 22 there is induction\n",
      "[' F']\n",
      "At position 34 there is induction\n",
      "[' mon']\n"
     ]
    }
   ],
   "source": [
    "for i in range(EXAMPLE_LENGTH):\n",
    "    if mask_rep[EXAMPLE_NO, i]:\n",
    "        print(f\"At position {i} there is induction\")\n",
    "        print(tl_model.to_str_tokens(toks_int_values[EXAMPLE_NO:EXAMPLE_NO+1, i : i + 1]))"
   ]
  },
  {
   "attachments": {},
   "cell_type": "markdown",
   "id": "6926e56f",
   "metadata": {
    "papermill": {
     "duration": 0.002262,
     "end_time": "2023-08-14T00:36:52.335163",
     "exception": false,
     "start_time": "2023-08-14T00:36:52.332901",
     "status": "completed"
    },
    "tags": []
   },
   "source": [
    "<p>Let's get the initial loss on the induction examples</p>"
   ]
  },
  {
   "cell_type": "code",
   "execution_count": 7,
   "id": "bc1d7f8e",
   "metadata": {
    "execution": {
     "iopub.execute_input": "2023-08-14T00:36:52.340564Z",
     "iopub.status.busy": "2023-08-14T00:36:52.340340Z",
     "iopub.status.idle": "2023-08-14T00:36:52.373400Z",
     "shell.execute_reply": "2023-08-14T00:36:52.372887Z"
    },
    "papermill": {
     "duration": 0.037288,
     "end_time": "2023-08-14T00:36:52.374676",
     "exception": false,
     "start_time": "2023-08-14T00:36:52.337388",
     "status": "completed"
    },
    "tags": []
   },
   "outputs": [
    {
     "name": "stdout",
     "output_type": "stream",
     "text": [
      "Loss: 0.44509872794151306\n"
     ]
    }
   ],
   "source": [
    "def get_loss(model, data, mask):\n",
    "    loss = model(\n",
    "        data,\n",
    "        return_type=\"loss\",\n",
    "        loss_per_token=True,\n",
    "    )\n",
    "    return (loss * mask[:, :-1].int()).sum() / mask[:, :-1].int().sum()\n",
    "\n",
    "\n",
    "print(f\"Loss: {get_loss(tl_model, toks_int_values, mask_rep)}\")"
   ]
  },
  {
   "attachments": {},
   "cell_type": "markdown",
   "id": "d0f5feb7",
   "metadata": {
    "papermill": {
     "duration": 0.003513,
     "end_time": "2023-08-14T00:36:52.382790",
     "exception": false,
     "start_time": "2023-08-14T00:36:52.379277",
     "status": "completed"
    },
    "tags": []
   },
   "source": [
    "<p>We will now wrap ACDC things inside an `experiment`for further experiments</p>\n",
    "<p>For more advanced usage of the `TLACDCExperiment` object (the main object in this codebase), see the README for links to the `main.py` and its demos</p>"
   ]
  },
  {
   "cell_type": "code",
   "execution_count": 8,
   "id": "131b0c33",
   "metadata": {
    "execution": {
     "iopub.execute_input": "2023-08-14T00:36:52.388212Z",
     "iopub.status.busy": "2023-08-14T00:36:52.388014Z",
     "iopub.status.idle": "2023-08-14T00:36:53.374885Z",
     "shell.execute_reply": "2023-08-14T00:36:53.374367Z"
    },
    "papermill": {
     "duration": 0.991254,
     "end_time": "2023-08-14T00:36:53.376343",
     "exception": false,
     "start_time": "2023-08-14T00:36:52.385089",
     "status": "completed"
    },
    "tags": []
   },
   "outputs": [
    {
     "name": "stderr",
     "output_type": "stream",
     "text": [
      "WARNING:root:cache_all is deprecated and will eventually be removed, use add_caching_hooks or run_with_cache\n"
     ]
    },
    {
     "name": "stderr",
     "output_type": "stream",
     "text": [
      "WARNING:root:cache_all is deprecated and will eventually be removed, use add_caching_hooks or run_with_cache\n"
     ]
    },
    {
     "name": "stdout",
     "output_type": "stream",
     "text": [
      "ln_final.hook_normalized\n",
      "ln_final.hook_scale\n",
      "blocks.1.hook_resid_post\n",
      "blocks.1.hook_attn_out\n",
      "blocks.1.attn.hook_result\n",
      "blocks.1.attn.hook_z\n",
      "blocks.1.attn.hook_pattern\n",
      "blocks.1.attn.hook_attn_scores\n",
      "blocks.1.attn.hook_v\n",
      "blocks.1.attn.hook_k\n",
      "blocks.1.attn.hook_q\n",
      "blocks.1.ln1.hook_normalized\n",
      "blocks.1.ln1.hook_scale\n",
      "blocks.1.hook_v_input\n",
      "blocks.1.hook_k_input\n",
      "blocks.1.hook_q_input\n",
      "blocks.1.hook_resid_pre\n",
      "blocks.0.hook_resid_post\n",
      "blocks.0.hook_attn_out\n",
      "blocks.0.attn.hook_result\n",
      "blocks.0.attn.hook_z\n",
      "blocks.0.attn.hook_pattern\n",
      "blocks.0.attn.hook_attn_scores\n",
      "blocks.0.attn.hook_v\n",
      "blocks.0.attn.hook_k\n",
      "blocks.0.attn.hook_q\n",
      "blocks.0.ln1.hook_normalized\n",
      "blocks.0.ln1.hook_scale\n",
      "blocks.0.hook_v_input\n",
      "blocks.0.hook_k_input\n",
      "blocks.0.hook_q_input\n",
      "blocks.0.hook_resid_pre\n",
      "hook_pos_embed\n",
      "hook_embed\n",
      "self.current_node=TLACDCInterpNode(blocks.1.hook_resid_post, [:])\n"
     ]
    }
   ],
   "source": [
    "experiment = TLACDCExperiment(\n",
    "    model=tl_model,\n",
    "    threshold=0.0,\n",
    "    ds=toks_int_values,\n",
    "    ref_ds=None,  # This argument is the corrupted dataset from the ACDC paper. We're going to do zero ablation here so we omit this\n",
    "    metric=metric,\n",
    "    zero_ablation=True,\n",
    "    hook_verbose=False,\n",
    ")"
   ]
  },
  {
   "attachments": {},
   "cell_type": "markdown",
   "id": "3cea737d",
   "metadata": {
    "papermill": {
     "duration": 0.006199,
     "end_time": "2023-08-14T00:36:53.387548",
     "exception": false,
     "start_time": "2023-08-14T00:36:53.381349",
     "status": "completed"
    },
    "tags": []
   },
   "source": [
    "\n",
    "<p>Usually, the `TLACDCExperiment` efficiently add hooks to the model in order to do ACDC runs fast.</p>\n",
    "<p>For this tutorial, we'll add <b>ALL</b> the hooks so you can edit connections in the model as easily as possible.</p>"
   ]
  },
  {
   "cell_type": "code",
   "execution_count": 9,
   "id": "33e06892",
   "metadata": {
    "execution": {
     "iopub.execute_input": "2023-08-14T00:36:53.393216Z",
     "iopub.status.busy": "2023-08-14T00:36:53.393004Z",
     "iopub.status.idle": "2023-08-14T00:36:53.421103Z",
     "shell.execute_reply": "2023-08-14T00:36:53.420653Z"
    },
    "papermill": {
     "duration": 0.032488,
     "end_time": "2023-08-14T00:36:53.422441",
     "exception": false,
     "start_time": "2023-08-14T00:36:53.389953",
     "status": "completed"
    },
    "tags": []
   },
   "outputs": [],
   "source": [
    "experiment.model.reset_hooks()\n",
    "experiment.setup_model_hooks(\n",
    "    add_sender_hooks=True,\n",
    "    add_receiver_hooks=True,\n",
    "    doing_acdc_runs=False,\n",
    ")"
   ]
  },
  {
   "attachments": {},
   "cell_type": "markdown",
   "id": "df9a8ee6",
   "metadata": {
    "papermill": {
     "duration": 0.004568,
     "end_time": "2023-08-14T00:36:53.431780",
     "exception": false,
     "start_time": "2023-08-14T00:36:53.427212",
     "status": "completed"
    },
    "tags": []
   },
   "source": [
    "Let's take a look at the edges"
   ]
  },
  {
   "cell_type": "code",
   "execution_count": 10,
   "id": "c20d6fa5",
   "metadata": {
    "execution": {
     "iopub.execute_input": "2023-08-14T00:36:53.438449Z",
     "iopub.status.busy": "2023-08-14T00:36:53.438262Z",
     "iopub.status.idle": "2023-08-14T00:36:53.457578Z",
     "shell.execute_reply": "2023-08-14T00:36:53.457138Z"
    },
    "lines_to_next_cell": 1,
    "papermill": {
     "duration": 0.023763,
     "end_time": "2023-08-14T00:36:53.458968",
     "exception": false,
     "start_time": "2023-08-14T00:36:53.435205",
     "status": "completed"
    },
    "tags": []
   },
   "outputs": [],
   "source": [
    "for edge_indices, edge in experiment.corr.all_edges().items():\n",
    "    # here's what's inside the edge\n",
    "    receiver_name, receiver_index, sender_name, sender_index = edge_indices\n",
    "\n",
    "    # for now, all edges should be present\n",
    "    assert edge.present, edge_indices"
   ]
  },
  {
   "attachments": {},
   "cell_type": "markdown",
   "id": "ae696c66",
   "metadata": {
    "papermill": {
     "duration": 0.002637,
     "end_time": "2023-08-14T00:36:53.466323",
     "exception": false,
     "start_time": "2023-08-14T00:36:53.463686",
     "status": "completed"
    },
    "tags": []
   },
   "source": [
    "<p>Let's make a function that's able to turn off all the connections from the nodes to the output, except the induction head (1.5 and 1.6)</p>\n",
    "<p>(we'll later turn ON all connections EXCEPT the induction heads)</p>"
   ]
  },
  {
   "cell_type": "code",
   "execution_count": 11,
   "id": "2be8ea61",
   "metadata": {
    "execution": {
     "iopub.execute_input": "2023-08-14T00:36:53.471993Z",
     "iopub.status.busy": "2023-08-14T00:36:53.471812Z",
     "iopub.status.idle": "2023-08-14T00:36:54.201805Z",
     "shell.execute_reply": "2023-08-14T00:36:54.201255Z"
    },
    "papermill": {
     "duration": 0.734449,
     "end_time": "2023-08-14T00:36:54.203188",
     "exception": false,
     "start_time": "2023-08-14T00:36:53.468739",
     "status": "completed"
    },
    "tags": []
   },
   "outputs": [
    {
     "name": "stdout",
     "output_type": "stream",
     "text": [
      "Adding edge from blocks.1.attn.hook_result [:, :, 7] to blocks.1.hook_resid_post [:]\n",
      "Removing edge from blocks.1.attn.hook_result [:, :, 6] to blocks.1.hook_resid_post [:]\n",
      "Removing edge from blocks.1.attn.hook_result [:, :, 5] to blocks.1.hook_resid_post [:]\n",
      "Adding edge from blocks.1.attn.hook_result [:, :, 4] to blocks.1.hook_resid_post [:]\n",
      "Adding edge from blocks.1.attn.hook_result [:, :, 3] to blocks.1.hook_resid_post [:]\n",
      "Adding edge from blocks.1.attn.hook_result [:, :, 2] to blocks.1.hook_resid_post [:]\n",
      "Adding edge from blocks.1.attn.hook_result [:, :, 1] to blocks.1.hook_resid_post [:]\n",
      "Adding edge from blocks.1.attn.hook_result [:, :, 0] to blocks.1.hook_resid_post [:]\n",
      "Adding edge from blocks.0.attn.hook_result [:, :, 7] to blocks.1.hook_resid_post [:]\n",
      "Adding edge from blocks.0.attn.hook_result [:, :, 6] to blocks.1.hook_resid_post [:]\n",
      "Adding edge from blocks.0.attn.hook_result [:, :, 5] to blocks.1.hook_resid_post [:]\n",
      "Adding edge from blocks.0.attn.hook_result [:, :, 4] to blocks.1.hook_resid_post [:]\n",
      "Adding edge from blocks.0.attn.hook_result [:, :, 3] to blocks.1.hook_resid_post [:]\n",
      "Adding edge from blocks.0.attn.hook_result [:, :, 2] to blocks.1.hook_resid_post [:]\n",
      "Adding edge from blocks.0.attn.hook_result [:, :, 1] to blocks.1.hook_resid_post [:]\n",
      "Adding edge from blocks.0.attn.hook_result [:, :, 0] to blocks.1.hook_resid_post [:]\n",
      "Adding edge from blocks.0.hook_resid_pre [:] to blocks.1.hook_resid_post [:]\n"
     ]
    },
    {
     "name": "stdout",
     "output_type": "stream",
     "text": [
      "Loss with only the induction head direct connections: 0.7248066067695618\n"
     ]
    }
   ],
   "source": [
    "def change_direct_output_connections(exp, invert=False):\n",
    "    residual_stream_end_name = \"blocks.1.hook_resid_post\"\n",
    "    residual_stream_end_index = TorchIndex([None])\n",
    "    induction_heads = [\n",
    "        (\"blocks.1.attn.hook_result\", TorchIndex([None, None, 5])),\n",
    "        (\"blocks.1.attn.hook_result\", TorchIndex([None, None, 6])),\n",
    "    ]\n",
    "\n",
    "    inputs_to_residual_stream_end = exp.corr.edges[residual_stream_end_name][\n",
    "        residual_stream_end_index\n",
    "    ]\n",
    "    for sender_name in inputs_to_residual_stream_end:\n",
    "        for sender_index in inputs_to_residual_stream_end[sender_name]:\n",
    "            edge = inputs_to_residual_stream_end[sender_name][sender_index]\n",
    "            is_induction_head = (sender_name, sender_index) in induction_heads\n",
    "\n",
    "            if is_induction_head:\n",
    "                edge.present = not invert\n",
    "\n",
    "            else:\n",
    "                edge.present = invert\n",
    "\n",
    "            print(\n",
    "                f\"{'Adding' if (invert == is_induction_head) else 'Removing'} edge from {sender_name} {sender_index} to {residual_stream_end_name} {residual_stream_end_index}\"\n",
    "            )\n",
    "\n",
    "\n",
    "change_direct_output_connections(experiment)\n",
    "print(\n",
    "    \"Loss with only the induction head direct connections:\",\n",
    "    get_loss(experiment.model, toks_int_values, mask_rep).item(),\n",
    ")"
   ]
  },
  {
   "attachments": {},
   "cell_type": "markdown",
   "id": "72eb0e8c",
   "metadata": {
    "papermill": {
     "duration": 0.006007,
     "end_time": "2023-08-14T00:36:54.214415",
     "exception": false,
     "start_time": "2023-08-14T00:36:54.208408",
     "status": "completed"
    },
    "tags": []
   },
   "source": [
    "<p>Let's turn ON all the connections EXCEPT the induction heads</p>"
   ]
  },
  {
   "cell_type": "code",
   "execution_count": 12,
   "id": "f08c243d",
   "metadata": {
    "execution": {
     "iopub.execute_input": "2023-08-14T00:36:54.224364Z",
     "iopub.status.busy": "2023-08-14T00:36:54.224173Z",
     "iopub.status.idle": "2023-08-14T00:36:54.813655Z",
     "shell.execute_reply": "2023-08-14T00:36:54.813089Z"
    },
    "papermill": {
     "duration": 0.594445,
     "end_time": "2023-08-14T00:36:54.814983",
     "exception": false,
     "start_time": "2023-08-14T00:36:54.220538",
     "status": "completed"
    },
    "tags": []
   },
   "outputs": [
    {
     "name": "stdout",
     "output_type": "stream",
     "text": [
      "Removing edge from blocks.1.attn.hook_result [:, :, 7] to blocks.1.hook_resid_post [:]\n",
      "Adding edge from blocks.1.attn.hook_result [:, :, 6] to blocks.1.hook_resid_post [:]\n",
      "Adding edge from blocks.1.attn.hook_result [:, :, 5] to blocks.1.hook_resid_post [:]\n",
      "Removing edge from blocks.1.attn.hook_result [:, :, 4] to blocks.1.hook_resid_post [:]\n",
      "Removing edge from blocks.1.attn.hook_result [:, :, 3] to blocks.1.hook_resid_post [:]\n",
      "Removing edge from blocks.1.attn.hook_result [:, :, 2] to blocks.1.hook_resid_post [:]\n",
      "Removing edge from blocks.1.attn.hook_result [:, :, 1] to blocks.1.hook_resid_post [:]\n",
      "Removing edge from blocks.1.attn.hook_result [:, :, 0] to blocks.1.hook_resid_post [:]\n",
      "Removing edge from blocks.0.attn.hook_result [:, :, 7] to blocks.1.hook_resid_post [:]\n",
      "Removing edge from blocks.0.attn.hook_result [:, :, 6] to blocks.1.hook_resid_post [:]\n",
      "Removing edge from blocks.0.attn.hook_result [:, :, 5] to blocks.1.hook_resid_post [:]\n",
      "Removing edge from blocks.0.attn.hook_result [:, :, 4] to blocks.1.hook_resid_post [:]\n",
      "Removing edge from blocks.0.attn.hook_result [:, :, 3] to blocks.1.hook_resid_post [:]\n",
      "Removing edge from blocks.0.attn.hook_result [:, :, 2] to blocks.1.hook_resid_post [:]\n",
      "Removing edge from blocks.0.attn.hook_result [:, :, 1] to blocks.1.hook_resid_post [:]\n",
      "Removing edge from blocks.0.attn.hook_result [:, :, 0] to blocks.1.hook_resid_post [:]\n",
      "Removing edge from blocks.0.hook_resid_pre [:] to blocks.1.hook_resid_post [:]\n"
     ]
    },
    {
     "name": "stdout",
     "output_type": "stream",
     "text": [
      "Loss without the induction head direct connections: 3.719449281692505\n"
     ]
    }
   ],
   "source": [
    "change_direct_output_connections(experiment, invert=True)\n",
    "print(\n",
    "    \"Loss without the induction head direct connections:\",\n",
    "    get_loss(experiment.model, toks_int_values, mask_rep).item(),\n",
    ")"
   ]
  },
  {
   "attachments": {},
   "cell_type": "markdown",
   "id": "6ed320c9",
   "metadata": {
    "papermill": {
     "duration": 0.006135,
     "end_time": "2023-08-14T00:36:54.826559",
     "exception": false,
     "start_time": "2023-08-14T00:36:54.820424",
     "status": "completed"
    },
    "tags": []
   },
   "source": [
    "<p>That's much larger!</p>\n",
    "<p>See acdc/main.py for how to run ACDC experiments; try `python acdc/main.py --help` or check the README for the links to this file</p>"
   ]
  }
 ],
 "metadata": {
  "jupytext": {
   "cell_metadata_filter": "-all",
   "main_language": "python",
   "notebook_metadata_filter": "-all"
  },
  "language_info": {
   "codemirror_mode": {
    "name": "ipython",
    "version": 3
   },
   "file_extension": ".py",
   "mimetype": "text/x-python",
   "name": "python",
   "nbconvert_exporter": "python",
   "pygments_lexer": "ipython3",
   "version": "3.10.12"
  },
  "papermill": {
   "default_parameters": {},
   "duration": 8.803801,
   "end_time": "2023-08-14T00:36:55.546582",
   "environment_variables": {},
   "exception": null,
   "input_path": "notebooks/_converted/editing_edges.ipynb",
   "output_path": "notebooks/colabs/ACDC_Editing_Edges_Demo.ipynb",
   "parameters": {},
   "start_time": "2023-08-14T00:36:46.742781",
   "version": "2.4.0"
  }
 },
 "nbformat": 4,
 "nbformat_minor": 5
}
